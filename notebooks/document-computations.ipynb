{
 "cells": [
  {
   "cell_type": "code",
   "execution_count": null,
   "id": "simplified-picking",
   "metadata": {
    "tags": [
     "hide"
    ]
   },
   "outputs": [],
   "source": [
    "include(\"notebook_preamble.jl\")\n",
    "using Base.Filesystem;"
   ]
  },
  {
   "cell_type": "markdown",
   "id": "competent-resident",
   "metadata": {},
   "source": [
    "We will consider a single system at a time, starting with"
   ]
  },
  {
   "cell_type": "code",
   "execution_count": null,
   "id": "moving-stage",
   "metadata": {},
   "outputs": [],
   "source": [
    "n = 2;"
   ]
  },
  {
   "cell_type": "markdown",
   "id": "racial-institution",
   "metadata": {},
   "source": [
    "Due to the exponential growth of the Hilbert space, we will only be able to\n",
    "fully consider up to $N = 5$ spins."
   ]
  },
  {
   "cell_type": "markdown",
   "id": "federal-stake",
   "metadata": {},
   "source": [
    "# Interpolating Hamiltonians\n",
    "\n",
    "First, we implement the trace norm and \\cref{eq:Hinterp}."
   ]
  },
  {
   "cell_type": "code",
   "execution_count": null,
   "id": "expanded-necklace",
   "metadata": {},
   "outputs": [],
   "source": [
    "trnorm(A) = sum(svdvals(A)) # tr(√(A' * A))\n",
    "trnormalize(A) = A / trnorm(A)\n",
    "∠(A, B) = acos(tr(A' * B)) # For normalized A, B\n",
    "function normslerp(A, B, g)\n",
    "    a, b = trnorm(A), trnorm(B)\n",
    "    A /= a\n",
    "    B /= b\n",
    "    θ = ∠(A, B)\n",
    "    √(a * b) * trnormalize((sin((1-g)*θ)*A + sin(g*θ)*B) / sin(θ))\n",
    "end\n",
    "Hinterp(A, B) = g -> normslerp(A, B, g);"
   ]
  },
  {
   "cell_type": "markdown",
   "id": "juvenile-feeling",
   "metadata": {},
   "source": [
    "We may now construct $\\ham_S$ from the Ising interaction and transverse-field Hamiltonians."
   ]
  },
  {
   "cell_type": "code",
   "execution_count": null,
   "id": "postal-mentor",
   "metadata": {},
   "outputs": [],
   "source": [
    "Hx(n) = -sum(siteop(σx, i, n) * siteop(σx, i+1, n) for i in 1:n)\n",
    "Hz(n) = -sum(siteop(σz, i, n) for i in 1:n)\n",
    "Hint = Hinterp(Hx(n), Hz(n));"
   ]
  },
  {
   "cell_type": "markdown",
   "id": "related-orleans",
   "metadata": {},
   "source": [
    "Since the relevant properties of the dissipator depend on the transition\n",
    "frequencies of the system, it will be relevant to have a picture of the energy\n",
    "levels of $\\ham_S$ as $g$ changes."
   ]
  },
  {
   "cell_type": "code",
   "execution_count": null,
   "id": "rocky-character",
   "metadata": {},
   "outputs": [],
   "source": [
    "grange(points) = range(1e-3, 1-1e-3, length=points)\n",
    "lgs = grange(64)\n",
    "energies = [eigvals(Hint(g)) for g in lgs];\n",
    "plot(lgs, hcat(energies...)', color=:black, alpha=0.25, key=false, xlabel=L\"Hamiltonian parameter $g$\", ylabel=L\"Dimensionless energy $\\tilde{E}$\")"
   ]
  },
  {
   "cell_type": "markdown",
   "id": "pressed-technician",
   "metadata": {},
   "source": [
    "Code for saving plots has been omitted."
   ]
  },
  {
   "cell_type": "code",
   "execution_count": null,
   "id": "curious-shift",
   "metadata": {
    "tags": [
     "hide"
    ]
   },
   "outputs": [],
   "source": [
    "savefig(\"$(tempname(pwd(), cleanup=false))-energy-levels-$(n).pdf\")"
   ]
  },
  {
   "cell_type": "markdown",
   "id": "extended-addiction",
   "metadata": {},
   "source": [
    "# Computation of jump operators\n",
    "\n",
    "Now we must implement \\cref{eq:Aprojectors} for the jump operators. To do so, we\n",
    "must first diagonalize the Hamiltonian, collect all eigenstates with the same\n",
    "energy, form the associated projectors, and then sum over all pairs of energies\n",
    "with the same difference $\\omega$. First, we define utility functions that build\n",
    "the needed dictionaries to associate an energy to its eigenstates."
   ]
  },
  {
   "cell_type": "code",
   "execution_count": null,
   "id": "fatal-overview",
   "metadata": {},
   "outputs": [],
   "source": [
    "function addentry!(dict, key, value; isequal=isequal)\n",
    "    for k in keys(dict)\n",
    "        if isequal(k, key)\n",
    "            push!(dict[k], value)\n",
    "            return dict\n",
    "        end\n",
    "    end\n",
    "    dict[key] = [value]\n",
    "    dict\n",
    "end;\n",
    "\n",
    "function incentry!(dict, key; isequal=isequal)\n",
    "    for k in keys(dict)\n",
    "        if isequal(k, key)\n",
    "            dict[k] += 1\n",
    "            return dict\n",
    "        end\n",
    "    end\n",
    "    dict[key] = 1\n",
    "    dict\n",
    "end;\n",
    "\n",
    "firstvalue(i, (x, y)) = x\n",
    "lastvalue(i, (x, y)) = y\n",
    "dictmap(f, dict) = Dict(key => f(value) for (key, value) in dict)\n",
    "function dictby(A; isequal=isequal, keyof=firstvalue, valof=lastvalue)\n",
    "    i0, x0 = 1, first(A)\n",
    "    k0, v0 = keyof(i0, x0), valof(i0, x0)\n",
    "    dict = Dict(k0 => typeof(v0)[])\n",
    "    dict = Dict()\n",
    "    for (i, x) in enumerate(A)\n",
    "        k, v = keyof(i, x), valof(i, x)\n",
    "        addentry!(dict, k, v, isequal=isequal)\n",
    "    end\n",
    "    dict\n",
    "end;"
   ]
  },
  {
   "cell_type": "markdown",
   "id": "civic-quebec",
   "metadata": {},
   "source": [
    "With these in place, we sum to find a projector."
   ]
  },
  {
   "cell_type": "code",
   "execution_count": null,
   "id": "female-jurisdiction",
   "metadata": {},
   "outputs": [],
   "source": [
    "sumprojector(A) = sum(a * a' for a in A)\n",
    "projectors(eigdict) = dictmap(sumprojector, eigdict);"
   ]
  },
  {
   "cell_type": "markdown",
   "id": "physical-perfume",
   "metadata": {},
   "source": [
    "To decrease the number of jump operators that we must store, we check to see if\n",
    "any jump operators are identical. If $M$ jump operators are the same operator\n",
    "$\\opr{J}$, then they are the same as the single jump operator $\\sqrt{M}\n",
    "\\opr{J}$."
   ]
  },
  {
   "cell_type": "code",
   "execution_count": null,
   "id": "acting-ethnic",
   "metadata": {},
   "outputs": [],
   "source": [
    "function combinejumps(Js)\n",
    "    d = Dict()\n",
    "    for J in Js\n",
    "        incentry!(d, J)\n",
    "    end\n",
    "    [√(one(eltype(J)) * N)*J for (J, N) in d]\n",
    "end;"
   ]
  },
  {
   "cell_type": "markdown",
   "id": "neither-serbia",
   "metadata": {},
   "source": [
    "Now the pieces come together to compute the jump operators. The result of this\n",
    "computation is a dictionary that associates each $\\omega$ to the list of jump\n",
    "operators at that frequency. It is vital to filter out jump operators that are\n",
    "zero so that the computations may be done in a reasonable amount of time. To\n",
    "this end we must consider only approximate equality of operators to deal with\n",
    "floating point issues."
   ]
  },
  {
   "cell_type": "code",
   "execution_count": null,
   "id": "better-wallet",
   "metadata": {},
   "outputs": [],
   "source": [
    "isequalto(atol=1e-9) = (x, y) -> isapprox(x, y, atol=atol)\n",
    "function jumps(vals, vecs, As; combine=true, isequal=isequalto())\n",
    "    eigendict = dictby(zip(vals, vecs))\n",
    "    ωs = dictby(((E2 - E1, (E1, E2)) for E1 in keys(eigendict), E2 in keys(eigendict)),\n",
    "        isequal=isequal)\n",
    "    Πs = projectors(eigendict)\n",
    "    Jωs = dictmap(ωs) do ΔEs\n",
    "        filter(x -> !isequal(x, zero(x)),\n",
    "            [sum(Πs[E1]*A*Πs[E2] for (E1, E2) in ΔEs) for A in As])\n",
    "    end\n",
    "    combine ? dictmap(combinejumps, Jωs) : Jωs\n",
    "end"
   ]
  },
  {
   "cell_type": "markdown",
   "id": "romance-discovery",
   "metadata": {},
   "source": [
    "Everything is now wrapped up in a function that accepts the Hamiltonian $\\ham_S$\n",
    "and computes the jump operators for each of the spin operators $\\pauli_i^\\mu$\n",
    "in \\cref{eq:mudotB}."
   ]
  },
  {
   "cell_type": "code",
   "execution_count": null,
   "id": "aquatic-mediterranean",
   "metadata": {},
   "outputs": [],
   "source": [
    "op_to_spindim(H) = Int(log2(size(H)[1]))\n",
    "dipole_interactions(n) = vcat(map(A -> [siteop(A, i, n) for i in 1:n], [σx, σy, σz])...)\n",
    "function dipolejumps(H; kwargs...)\n",
    "    vals, vecs = eigen(H)\n",
    "    jumps(vals, eachcol(vecs), dipole_interactions(op_to_spindim(H)); kwargs...)\n",
    "end;"
   ]
  },
  {
   "cell_type": "markdown",
   "id": "southeast-neighborhood",
   "metadata": {},
   "source": [
    "# Numerical solution of the Lindblad equation\n",
    "\n",
    "Now that we have the jump operators, we can compute an example time evolution.\n",
    "So that we can see the system dynamics and decay on the same plot, the decay\n",
    "rate has been artificially increased from the actual value in \\cref{eq:tau0}. As\n",
    "we discussed previously, we will ignore the Lamb shift. The simulation\n",
    "parameters are:"
   ]
  },
  {
   "cell_type": "code",
   "execution_count": null,
   "id": "comparative-adventure",
   "metadata": {},
   "outputs": [],
   "source": [
    "g = 0.5\n",
    "Hsys = Hint(g)\n",
    "b = SpinBasis(1//2)\n",
    "sys = ⊗(repeat([b], n)...)\n",
    "Jωs = dipolejumps(Hsys)\n",
    "η = 1e1\n",
    "α = 1e-2\n",
    "up = spinup(b)\n",
    "ψ0 = ⊗(repeat([up], n)...)\n",
    "ρ0 = projector(ψ0)\n",
    "op = dense(embed(sys, 1, sigmaz(b)));"
   ]
  },
  {
   "cell_type": "markdown",
   "id": "alike-medication",
   "metadata": {},
   "source": [
    "Now we find lists of jump operators and their associated decay rates\n",
    "$\\tilde{\\gamma}$."
   ]
  },
  {
   "cell_type": "code",
   "execution_count": null,
   "id": "demanding-example",
   "metadata": {},
   "outputs": [],
   "source": [
    "jumpops, rates = [], Float64[]\n",
    "γ(ω, η) = (1e-1 < η*ω ? ω^3 * (1 + 1 / (exp(η*ω) - 1)) : ω^2 / η)\n",
    "for (ω, Js) in Jωs\n",
    "    for J in Js\n",
    "        push!(rates, α * γ(ω, η))\n",
    "        push!(jumpops, DenseOperator(sys, J))\n",
    "    end\n",
    "end"
   ]
  },
  {
   "cell_type": "markdown",
   "id": "korean-width",
   "metadata": {},
   "source": [
    "We now compute $\\ev{\\pauli_1^z}$ over twice the time interval\n",
    "\\cref{eq:time-interval}."
   ]
  },
  {
   "cell_type": "code",
   "execution_count": null,
   "id": "urban-authentication",
   "metadata": {},
   "outputs": [],
   "source": [
    "function fout(t, ρ)\n",
    "    ρ = normalize(ρ)\n",
    "    real(expect(op, ρ))\n",
    "end\n",
    "Hspin = DenseOperator(sys, Hsys)\n",
    "tf = 2e-1 / (α * γ(1.0, η))\n",
    "ts = range(0.0, tf, length=501);"
   ]
  },
  {
   "cell_type": "markdown",
   "id": "tropical-instruction",
   "metadata": {},
   "source": [
    "We will look at the closed time evolution, the open time evolution, and the\n",
    "envelope of the open time evolution given by simulating just the dissipator."
   ]
  },
  {
   "cell_type": "code",
   "execution_count": null,
   "id": "royal-limitation",
   "metadata": {},
   "outputs": [],
   "source": [
    "_, closed_σzs = timeevolution.schroedinger(ts, ψ0, Hspin; fout=fout)\n",
    "_, open_σzs   = timeevolution.master(ts, ρ0, Hspin, jumpops; rates=rates, fout=fout)\n",
    "_, diss_σzs   = timeevolution.master(ts, ρ0, 0*Hspin, jumpops; rates=rates, fout=fout);"
   ]
  },
  {
   "cell_type": "code",
   "execution_count": null,
   "id": "impaired-jumping",
   "metadata": {},
   "outputs": [],
   "source": [
    "plot(\n",
    "    title=L\"Solution for $N = %$n$, $g = %$g$, $\\tau_B / \\tau_S = %$η$, ${(\\tau_0 / \\tau_S)}^2 = %$α$\",\n",
    "    xlabel=L\"Time ($t / \\tau_S$)\",\n",
    "    ylabel=L\"\\ev{\\pauli_1^z}\",\n",
    "    legend=:topright\n",
    ")\n",
    "plot!(ts, [closed_σzs open_σzs diss_σzs], label=[\"Closed\" \"Open\" \"Dissipator\"])"
   ]
  },
  {
   "cell_type": "markdown",
   "id": "metallic-bullet",
   "metadata": {},
   "source": [
    "Code for saving plots has been omitted."
   ]
  },
  {
   "cell_type": "code",
   "execution_count": null,
   "id": "introductory-guyana",
   "metadata": {
    "tags": [
     "hide"
    ]
   },
   "outputs": [],
   "source": [
    "savefig(\"$(tempname(pwd(), cleanup=false))-time-evolution-$(n).pdf\")"
   ]
  },
  {
   "cell_type": "markdown",
   "id": "residential-grammar",
   "metadata": {},
   "source": [
    "With the data from an explicit simulation, we may perform a least squares fit of\n",
    "\\cref{eq:single-exp} to check the validity of the model. Note that this fit is\n",
    "over twice the time interval (\\cref{eq:time-interval}) used later."
   ]
  },
  {
   "cell_type": "code",
   "execution_count": null,
   "id": "express-button",
   "metadata": {},
   "outputs": [],
   "source": [
    "@. decay_exponential(x, p) = diss_σzs[end] + p[1]*exp(x*p[2])\n",
    "p0 = [1.0, α * γ(1, η)]\n",
    "fit = curve_fit(decay_exponential, ts, diss_σzs, p0);\n",
    "\n",
    "plot(ts, diss_σzs, label=L\"\\dot{\\dop} = \\sopr{D}\\dop\",\n",
    "    legend=:topright,\n",
    "    title=\"Exponential fit over short and medium times\",\n",
    "    xlabel=L\"Time ($t / \\tau_S$)\",\n",
    "    ylabel=L\"\\ev{\\pauli_1^z}\")\n",
    "plot!(ts, decay_exponential(ts, coef(fit)), label=L\"Fit: $Ae^{-s t} + \\ev{\\pauli_1^z}_\\text{eq}$\")"
   ]
  },
  {
   "cell_type": "markdown",
   "id": "interstate-television",
   "metadata": {},
   "source": [
    "Code for saving plots has been omitted."
   ]
  },
  {
   "cell_type": "code",
   "execution_count": null,
   "id": "august-importance",
   "metadata": {
    "tags": [
     "hide"
    ]
   },
   "outputs": [],
   "source": [
    "savefig(\"$(tempname(pwd(), cleanup=false))-exponential-fit-$(n).pdf\")"
   ]
  },
  {
   "cell_type": "markdown",
   "id": "defined-recorder",
   "metadata": {},
   "source": [
    "# Obtaining relaxation from spaghetti (diagrams)\n",
    "\n",
    "Now we set up the full fit, where we compute \\cref{eq:multi-exponential} from\n",
    "the dissipator spectrum."
   ]
  },
  {
   "cell_type": "code",
   "execution_count": null,
   "id": "korean-pepper",
   "metadata": {},
   "outputs": [],
   "source": [
    "@. decay_exponential(x, p) = p[1]*exp(x*p[2])\n",
    "function effective_rate(ℒrates, ℒops, ρ0, op, η)\n",
    "    cs = hcat([vec(V.data) for V in ℒops]...) \\ vec(ρ0.data)\n",
    "    V0s = [tr(op * V) for V in ℒops]\n",
    "    t0, tf = (0.0, 1e-1) ./ γ(1.0, η)\n",
    "    ts = range(t0, tf, length=501)\n",
    "    ys = real(sum(@. c * V0 * exp(real(s)*ts) for (s, c, V0) in zip(ℒrates, cs, V0s)))\n",
    "    p0 = [1.0, -1.0 / η]\n",
    "    yf = real(cs[1] * V0s[1])\n",
    "    fit = curve_fit(decay_exponential, ts, ys .- yf, p0)\n",
    "    fit.converged || error(\"Could not fit an effective exponential.\")\n",
    "    coef(fit)[2], stderror(fit)[2]\n",
    "end"
   ]
  },
  {
   "cell_type": "markdown",
   "id": "studied-wisdom",
   "metadata": {},
   "source": [
    "The jump operators are computed similarly to above, and the diagonalization uses\n",
    "standard numerical linear algebra."
   ]
  },
  {
   "cell_type": "code",
   "execution_count": null,
   "id": "spectacular-council",
   "metadata": {},
   "outputs": [],
   "source": [
    "function 𝒟_rates(H, n = op_to_spindim(H); η, ρ0, op)\n",
    "    Jωs = dipolejumps(H)\n",
    "    sys = ρ0.basis_r\n",
    "    jumpops, rates = [], Float64[]\n",
    "    for (ω, Js) in Jωs\n",
    "        for J in Js\n",
    "            push!(rates, γ(ω, η))\n",
    "            push!(jumpops, DenseOperator(sys, J))\n",
    "        end\n",
    "    end\n",
    "    ℒ = steadystate.liouvillian(0*DenseOperator(sys), jumpops; rates=rates)\n",
    "    ℒrates, ℒops = steadystate.liouvillianspectrum(ℒ; nev=4^n)\n",
    "    effrate = effective_rate(ℒrates, ℒops, ρ0, op, η)\n",
    "    sort(real(ℒrates)), effrate...\n",
    "end;"
   ]
  },
  {
   "cell_type": "markdown",
   "id": "young-outside",
   "metadata": {},
   "source": [
    "We may now compute the spaghetti diagrams. Note that the plots show the negated\n",
    "eigenvalues of the dissipator, since none are positive. Thus the higher up an\n",
    "eigenvalue is, the faster the rate it represents. We will indicate the limiting\n",
    "values at $g = 0$ and $g = 1$ by markers on the sides of the spaghetti diagram,\n",
    "and superimpose the rate for $\\ev{\\pauli_1^z}$ for the parameters used in the\n",
    "prior time evolution across $g$ (except for where we have scaled out $\\alpha$)."
   ]
  },
  {
   "cell_type": "code",
   "execution_count": null,
   "id": "spare-wireless",
   "metadata": {},
   "outputs": [],
   "source": [
    "function plot_𝒟_rates(Hint;\n",
    "        points=16, η=1.0, ρ0, op, onplot=false,\n",
    "        spectrum=true, extremes=true, effective=true,\n",
    "        kwargs...)\n",
    "    g0s = grange(points)\n",
    "    outs = map(g -> 𝒟_rates(Hint(g); η, ρ0, op), g0s)\n",
    "    rates = [o[1] for o in outs]\n",
    "    r0 = [o[2] for o in outs]\n",
    "    σr0 = [o[3] for o in outs]\n",
    "    \n",
    "    p = onplot\n",
    "    if onplot == false\n",
    "        p = plot(\n",
    "            xlabel=L\"Hamiltonian parameter $g$\",\n",
    "            ylabel=L\"Dissipaton rates ($\\tilde{\\gamma} / \\tilde{\\gamma}_0$)\",\n",
    "            legendtitle=L\"\\log\\eta\",\n",
    "            legend=:topright;\n",
    "            kwargs...)\n",
    "    end\n",
    "    if spectrum\n",
    "        plot!(p, g0s, -hcat(rates...)', color=:black, alpha=0.25, label=false)\n",
    "        \n",
    "        if extremes\n",
    "            rates0 = 𝒟_rates(Hint(0); η, ρ0, op)[1]\n",
    "            rates1 = 𝒟_rates(Hint(1); η, ρ0, op)[1]\n",
    "            scatter!(p, repeat([g0s[1] - 2e-2], length(rates0)), -rates0,\n",
    "                marker=(:rtriangle, 2, rubric), markerstrokecolor=rubric, label=false)\n",
    "            scatter!(p, repeat([g0s[end] + 2e-2], length(rates1)), -rates1,\n",
    "                marker=(:ltriangle, 2, rubric), markerstrokecolor=rubric, label=false)\n",
    "        end\n",
    "    end\n",
    "    if effective\n",
    "        plot!(p, g0s, -r0, ribbon=σr0, label=L\"%$(round(log10(η), digits=1))\",\n",
    "            color = (onplot == false) ? rubric : :auto)\n",
    "    end\n",
    "    p\n",
    "end;"
   ]
  },
  {
   "cell_type": "code",
   "execution_count": null,
   "id": "equivalent-receiver",
   "metadata": {},
   "outputs": [],
   "source": [
    "plot_𝒟_rates(Hint; η, ρ0, op)"
   ]
  },
  {
   "cell_type": "markdown",
   "id": "european-arthur",
   "metadata": {},
   "source": [
    "Code for saving plots has been omitted."
   ]
  },
  {
   "cell_type": "code",
   "execution_count": null,
   "id": "interim-despite",
   "metadata": {
    "tags": [
     "hide"
    ]
   },
   "outputs": [],
   "source": [
    "savefig(\"$(tempname(pwd(), cleanup=false))-spin-spectrum-$(n).pdf\")"
   ]
  },
  {
   "cell_type": "markdown",
   "id": "intense-preparation",
   "metadata": {},
   "source": [
    "The fit results are computed across $g$ and shown in different regimes of the\n",
    "temperature $\\eta$ on a logarithmic scale. Resolution is kept low due to the\n",
    "computational expense of finding the jump operators, computing $\\sopr{D}$, and\n",
    "diagonalizing it (a dense matrix with dimension $4^N$)."
   ]
  },
  {
   "cell_type": "code",
   "execution_count": null,
   "id": "approved-culture",
   "metadata": {},
   "outputs": [],
   "source": [
    "plot([reduce((p, η) ->\n",
    "            plot_𝒟_rates(Hint; η, ρ0, op, spectrum=false, onplot=p),\n",
    "            10 .^ range(lη, lη + 1, length=4);\n",
    "            init = plot(size=2 .* (400, 300 * 3//2),\n",
    "                xlabel=L\"Hamiltonian parameter $g$\",\n",
    "                ylabel=L\"Decay rates for $\\pauli_1^z$ ($\\tilde{\\gamma} / \\tilde{\\gamma}_0$)\",\n",
    "                legend=:topright,\n",
    "                legendtitle=L\"\\log\\eta\"))\n",
    "        for lη in -2:3]...,\n",
    "    layout=(3,2))"
   ]
  },
  {
   "cell_type": "code",
   "execution_count": null,
   "id": "graduate-election",
   "metadata": {
    "lines_to_next_cell": 0
   },
   "outputs": [],
   "source": [
    "savefig(\"$(tempname(pwd(), cleanup=false))-spin-relaxation-$(n).pdf\")"
   ]
  }
 ],
 "metadata": {
  "@webio": {
   "lastCommId": null,
   "lastKernelId": null
  },
  "kernelspec": {
   "display_name": "Julia 1.6.0",
   "language": "julia",
   "name": "julia-1.6"
  },
  "language_info": {
   "file_extension": ".jl",
   "mimetype": "application/julia",
   "name": "julia",
   "version": "1.6.0"
  },
  "latex_envs": {
   "LaTeX_envs_menu_present": true,
   "autoclose": false,
   "autocomplete": true,
   "bibliofile": "biblio.bib",
   "cite_by": "apalike",
   "current_citInitial": 1,
   "eqLabelWithNumbers": true,
   "eqNumInitial": 1,
   "hotkeys": {
    "equation": "Ctrl-E",
    "itemize": "Ctrl-I"
   },
   "labels_anchors": false,
   "latex_user_defs": false,
   "report_style_numbering": false,
   "user_envs_cfg": false
  }
 },
 "nbformat": 4,
 "nbformat_minor": 5
}
