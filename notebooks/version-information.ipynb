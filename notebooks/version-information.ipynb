{
 "cells": [
  {
   "cell_type": "markdown",
   "metadata": {},
   "source": [
    "# Julia version information"
   ]
  },
  {
   "cell_type": "code",
   "execution_count": 1,
   "metadata": {
    "ExecuteTime": {
     "end_time": "2020-09-27T14:25:26.585000-07:00",
     "start_time": "2020-09-27T21:25:26.568Z"
    }
   },
   "outputs": [
    {
     "name": "stdout",
     "output_type": "stream",
     "text": [
      "Julia Version 1.6.0\n",
      "Commit f9720dc2eb (2021-03-24 12:55 UTC)\n",
      "Platform Info:\n",
      "  OS: Linux (x86_64-pc-linux-gnu)\n",
      "  CPU: Intel(R) Core(TM) i7-4710MQ CPU @ 2.50GHz\n",
      "  WORD_SIZE: 64\n",
      "  LIBM: libopenlibm\n",
      "  LLVM: libLLVM-11.0.1 (ORCJIT, haswell)\n",
      "Environment:\n",
      "  JULIA_PROJECT = .\n",
      "  JULIA_NUM_THREADS = 8\n"
     ]
    }
   ],
   "source": [
    "versioninfo()"
   ]
  },
  {
   "cell_type": "code",
   "execution_count": 2,
   "metadata": {
    "ExecuteTime": {
     "end_time": "2020-09-27T14:25:26.621000-07:00",
     "start_time": "2020-09-27T21:25:26.570Z"
    }
   },
   "outputs": [
    {
     "name": "stderr",
     "output_type": "stream",
     "text": [
      "\u001b[32m\u001b[1m  Activating\u001b[22m\u001b[39m environment at `~/drive/thesis/notebooks/Project.toml`\n"
     ]
    }
   ],
   "source": [
    "using Pkg\n",
    "Pkg.activate(\".\")"
   ]
  },
  {
   "cell_type": "code",
   "execution_count": 3,
   "metadata": {
    "ExecuteTime": {
     "end_time": "2020-09-27T14:25:26.647000-07:00",
     "start_time": "2020-09-27T21:25:26.572Z"
    }
   },
   "outputs": [
    {
     "name": "stdout",
     "output_type": "stream",
     "text": [
      "\u001b[32m\u001b[1m      Status\u001b[22m\u001b[39m `~/drive/thesis/notebooks/Project.toml`\n",
      " \u001b[90m [537997a7] \u001b[39m\u001b[37mAbstractPlotting v0.15.27\u001b[39m\n",
      " \u001b[90m [7d9fca2a] \u001b[39m\u001b[37mArpack v0.4.0\u001b[39m\n",
      " \u001b[90m [6e4b80f9] \u001b[39m\u001b[37mBenchmarkTools v0.7.0\u001b[39m\n",
      " \u001b[90m [ad839575] \u001b[39m\u001b[37mBlink v0.12.5\u001b[39m\n",
      " \u001b[90m [13f3f980] \u001b[39m\u001b[37mCairoMakie v0.3.19\u001b[39m\n",
      " \u001b[90m [5ae59095] \u001b[39m\u001b[37mColors v0.12.7\u001b[39m\n",
      " \u001b[90m [150eb455] \u001b[39m\u001b[37mCoordinateTransformations v0.6.1\u001b[39m\n",
      " \u001b[90m [e9467ef8] \u001b[39m\u001b[37mGLMakie v0.1.30\u001b[39m\n",
      " \u001b[90m [7073ff75] \u001b[39m\u001b[37mIJulia v1.23.2\u001b[39m\n",
      " \u001b[90m [d1acc4aa] \u001b[39m\u001b[37mIntervalArithmetic v0.17.8\u001b[39m\n",
      " \u001b[90m [c8e1da08] \u001b[39m\u001b[37mIterTools v1.3.0\u001b[39m\n",
      " \u001b[90m [5ab0869b] \u001b[39m\u001b[37mKernelDensity v0.6.2\u001b[39m\n",
      " \u001b[90m [b964fa9f] \u001b[39m\u001b[37mLaTeXStrings v1.2.1\u001b[39m\n",
      " \u001b[90m [2fda8390] \u001b[39m\u001b[37mLsqFit v0.12.0\u001b[39m\n",
      " \u001b[90m [ee78f7c6] \u001b[39m\u001b[37mMakie v0.12.0\u001b[39m\n",
      " \u001b[90m [eff96d63] \u001b[39m\u001b[37mMeasurements v2.5.0\u001b[39m\n",
      " \u001b[90m [3b7a836e] \u001b[39m\u001b[37mPGFPlots v3.3.6\u001b[39m\n",
      " \u001b[90m [ccf2f8ad] \u001b[39m\u001b[37mPlotThemes v2.0.1\u001b[39m\n",
      " \u001b[90m [58dd65bb] \u001b[39m\u001b[37mPlotly v0.3.0\u001b[39m\n",
      " \u001b[90m [91a5bcdd] \u001b[39m\u001b[37mPlots v1.11.2\u001b[39m\n",
      " \u001b[90m [92933f4c] \u001b[39m\u001b[37mProgressMeter v1.5.0\u001b[39m\n",
      " \u001b[90m [438e738f] \u001b[39m\u001b[37mPyCall v1.92.3\u001b[39m\n",
      " \u001b[90m [6e0679c1] \u001b[39m\u001b[37mQuantumOptics v0.8.2\u001b[39m\n",
      " \u001b[90m [4f57444f] \u001b[39m\u001b[37mQuantumOpticsBase v0.2.7\u001b[39m\n",
      " \u001b[90m [189a3867] \u001b[39m\u001b[37mReexport v0.2.0\u001b[39m\n",
      " \u001b[90m [f3b207a7] \u001b[39m\u001b[37mStatsPlots v0.14.19\u001b[39m\n",
      " \u001b[90m [24249f21] \u001b[39m\u001b[37mSymPy v1.0.42\u001b[39m\n",
      " \u001b[90m [ac1d9e8a] \u001b[39m\u001b[37mThreadsX v0.1.7\u001b[39m\n",
      " \u001b[90m [1986cc42] \u001b[39m\u001b[37mUnitful v1.7.0\u001b[39m\n",
      " \u001b[90m [276b4fcb] \u001b[39m\u001b[37mWGLMakie v0.3.4\u001b[39m\n",
      " \u001b[90m [0f1e0344] \u001b[39m\u001b[37mWebIO v0.8.15\u001b[39m\n",
      " \u001b[90m [37e2e46d] \u001b[39m\u001b[37mLinearAlgebra\u001b[39m\n"
     ]
    }
   ],
   "source": [
    "Pkg.status()"
   ]
  },
  {
   "cell_type": "code",
   "execution_count": 4,
   "metadata": {},
   "outputs": [
    {
     "data": {
      "text/plain": [
       ":openblas64"
      ]
     },
     "execution_count": 4,
     "metadata": {},
     "output_type": "execute_result"
    }
   ],
   "source": [
    "using LinearAlgebra\n",
    "BLAS.vendor()"
   ]
  }
 ],
 "metadata": {
  "@webio": {
   "lastCommId": null,
   "lastKernelId": null
  },
  "kernelspec": {
   "display_name": "Julia 1.6.0",
   "language": "julia",
   "name": "julia-1.6"
  },
  "language_info": {
   "file_extension": ".jl",
   "mimetype": "application/julia",
   "name": "julia",
   "version": "1.6.0"
  },
  "latex_envs": {
   "LaTeX_envs_menu_present": true,
   "autoclose": false,
   "autocomplete": true,
   "bibliofile": "biblio.bib",
   "cite_by": "apalike",
   "current_citInitial": 1,
   "eqLabelWithNumbers": true,
   "eqNumInitial": 1,
   "hotkeys": {
    "equation": "Ctrl-E",
    "itemize": "Ctrl-I"
   },
   "labels_anchors": false,
   "latex_user_defs": false,
   "report_style_numbering": false,
   "user_envs_cfg": false
  }
 },
 "nbformat": 4,
 "nbformat_minor": 4
}
