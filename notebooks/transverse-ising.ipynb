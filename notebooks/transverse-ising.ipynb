{
 "cells": [
  {
   "cell_type": "markdown",
   "metadata": {},
   "source": [
    "# Computation of transverse-Ising superoperators"
   ]
  },
  {
   "cell_type": "code",
   "execution_count": 194,
   "metadata": {
    "ExecuteTime": {
     "end_time": "2020-11-20T21:49:16.331000-08:00",
     "start_time": "2020-11-21T05:49:16.328Z"
    },
    "tags": [
     "hide"
    ]
   },
   "outputs": [],
   "source": [
    "include(\"notebook_preamble.jl\");"
   ]
  },
  {
   "cell_type": "markdown",
   "metadata": {},
   "source": [
    "**TODO:** Redefine spin operators and the rest to depend on $N$ and maybe $\\lambda$, so that we can look at what happens as those parameters are varied."
   ]
  },
  {
   "cell_type": "markdown",
   "metadata": {
    "heading_collapsed": true
   },
   "source": [
    "## Utility functions"
   ]
  },
  {
   "cell_type": "code",
   "execution_count": 195,
   "metadata": {
    "ExecuteTime": {
     "end_time": "2020-11-20T21:49:19.358000-08:00",
     "start_time": "2020-11-21T05:49:19.349Z"
    },
    "hidden": true
   },
   "outputs": [],
   "source": [
    "trnorm(op) = tracenorm(dense(op))\n",
    "acomm(x, y) = x*y + y*x\n",
    "matriximage(A) = Gray.(1 .- abs.(A ./ max(1, maximum(A))))\n",
    "matriximage(A::Operator) = matriximage(dense(A).data)\n",
    "\n",
    "function acomm_table(a, b, N, image)\n",
    "    A = Matrix{Float64}(undef, N, N)\n",
    "    Threads.@threads for i in 1:N\n",
    "        for j in i:N\n",
    "            A[j, i] = trnorm(acomm(a(i), b(j))) / 2^N\n",
    "        end\n",
    "    end\n",
    "    L = LowerTriangular(A)\n",
    "    image ? matriximage(L) : L\n",
    "end\n",
    "\n",
    "function acomm_tables(c, N=Int(log2(size(c(1))[1])); image=true)\n",
    "    ct = dagger ∘ c\n",
    "    acomms = [\n",
    "        acomm_table(ct, c, N, image),\n",
    "        acomm_table(c, c, N, image),\n",
    "        acomm_table(ct, ct, N, image),\n",
    "    ]\n",
    "    if image\n",
    "        hcat(acomms...)\n",
    "    else\n",
    "        for ac in acomms\n",
    "            display(ac)\n",
    "        end\n",
    "    end\n",
    "end\n",
    "\n",
    "tpow(x, n) = ⊗(repeat([x], n)...);"
   ]
  },
  {
   "cell_type": "markdown",
   "metadata": {
    "heading_collapsed": true
   },
   "source": [
    "## Spins"
   ]
  },
  {
   "cell_type": "markdown",
   "metadata": {
    "hidden": true
   },
   "source": [
    "First, we set up the spin-1/2 sites and Pauli operators."
   ]
  },
  {
   "cell_type": "code",
   "execution_count": 196,
   "metadata": {
    "ExecuteTime": {
     "end_time": "2020-11-20T21:49:21.630000-08:00",
     "start_time": "2020-11-21T05:49:21.627Z"
    },
    "hidden": true
   },
   "outputs": [],
   "source": [
    "sb = SpinBasis(1//2)\n",
    "sx, sy, sz, sp, sm = sigmax(sb), sigmay(sb), sigmaz(sb), sigmap(sb), sigmam(sb)\n",
    "up, down = spinup(sb), spindown(sb)\n",
    "ψx = eigenstates(dense(sx))[2][1];"
   ]
  },
  {
   "cell_type": "markdown",
   "metadata": {},
   "source": [
    "## Ising model"
   ]
  },
  {
   "cell_type": "markdown",
   "metadata": {},
   "source": [
    "To create a $N$-site spin loop, we need to construct the basis for the loop and operators for each site."
   ]
  },
  {
   "cell_type": "code",
   "execution_count": 197,
   "metadata": {
    "ExecuteTime": {
     "end_time": "2020-11-20T21:49:26.020000-08:00",
     "start_time": "2020-11-21T05:49:24.714Z"
    }
   },
   "outputs": [
    {
     "data": {
      "image/png": "[encoded data removed]",
      "text/plain": [
       "8×24 Array{Gray{Float64},2} with eltype Gray{Float64}:\n",
       " Gray{Float64}(0.0)  Gray{Float64}(1.0)  …  Gray{Float64}(1.0)\n",
       " Gray{Float64}(0.5)  Gray{Float64}(0.0)     Gray{Float64}(1.0)\n",
       " Gray{Float64}(0.5)  Gray{Float64}(0.5)     Gray{Float64}(1.0)\n",
       " Gray{Float64}(0.5)  Gray{Float64}(0.5)     Gray{Float64}(1.0)\n",
       " Gray{Float64}(0.5)  Gray{Float64}(0.5)     Gray{Float64}(1.0)\n",
       " Gray{Float64}(0.5)  Gray{Float64}(0.5)  …  Gray{Float64}(1.0)\n",
       " Gray{Float64}(0.5)  Gray{Float64}(0.5)     Gray{Float64}(1.0)\n",
       " Gray{Float64}(0.5)  Gray{Float64}(0.5)     Gray{Float64}(1.0)"
      ]
     },
     "execution_count": 197,
     "metadata": {},
     "output_type": "execute_result"
    }
   ],
   "source": [
    "N = 8\n",
    "sB = tpow(sb, N)\n",
    "I = identityoperator(sB)\n",
    "site(i, op) = embed(sB, (i-1)%N + 1, op) # Periodic boundary\n",
    "acomm_tables(i -> site(i, sm))"
   ]
  },
  {
   "cell_type": "markdown",
   "metadata": {},
   "source": [
    "We now construct the transverse-field Ising Hamiltonian (Pfeuty)\n",
    "<!-- \\begin{equation}\n",
    "\\frac{\\ham}{\\Gamma}\n",
    "= - \\sum_i \\opr{S}_z^i\n",
    "- \\frac{J}{\\Gamma} \\sum_{i=1}^N \\opr{S}_i^x \\opr{S}_{i+1}^x ,\n",
    "\\end{equation} -->\n",
    "\\begin{equation}\n",
    "\\frac{4\\ham}{J}\n",
    "= -\\frac{1}{\\lambda} \\sum_i \\pauli_z^i\n",
    "- \\sum_{i=1}^N \\pauli_i^x \\pauli_{i+1}^x ,\n",
    "\\end{equation}\n",
    "where $2\\lambda = J / \\Gamma$."
   ]
  },
  {
   "cell_type": "code",
   "execution_count": 236,
   "metadata": {
    "ExecuteTime": {
     "end_time": "2020-11-20T21:49:53.177000-08:00",
     "start_time": "2020-11-21T05:49:53.130Z"
    },
    "scrolled": true
   },
   "outputs": [],
   "source": [
    "λ = 1 # Pfeuty with Γ=1, so\n",
    "Hs = -sum((1/λ)*site(i, sz) + site(i, sx)*site(i+1, sx) for i in 1:N);"
   ]
  },
  {
   "cell_type": "markdown",
   "metadata": {},
   "source": [
    "## Fermion definitions"
   ]
  },
  {
   "cell_type": "code",
   "execution_count": 237,
   "metadata": {
    "ExecuteTime": {
     "end_time": "2020-11-20T21:49:57.178000-08:00",
     "start_time": "2020-11-21T05:49:55.506Z"
    }
   },
   "outputs": [
    {
     "data": {
      "image/png": "[encoded data removed]",
      "text/plain": [
       "8×24 Array{Gray{Float64},2} with eltype Gray{Float64}:\n",
       " Gray{Float64}(0.0)  Gray{Float64}(1.0)  …  Gray{Float64}(1.0)\n",
       " Gray{Float64}(1.0)  Gray{Float64}(0.0)     Gray{Float64}(1.0)\n",
       " Gray{Float64}(1.0)  Gray{Float64}(1.0)     Gray{Float64}(1.0)\n",
       " Gray{Float64}(1.0)  Gray{Float64}(1.0)     Gray{Float64}(1.0)\n",
       " Gray{Float64}(1.0)  Gray{Float64}(1.0)     Gray{Float64}(1.0)\n",
       " Gray{Float64}(1.0)  Gray{Float64}(1.0)  …  Gray{Float64}(1.0)\n",
       " Gray{Float64}(1.0)  Gray{Float64}(1.0)     Gray{Float64}(1.0)\n",
       " Gray{Float64}(1.0)  Gray{Float64}(1.0)     Gray{Float64}(1.0)"
      ]
     },
     "execution_count": 237,
     "metadata": {},
     "output_type": "execute_result"
    }
   ],
   "source": [
    "k(m, N=N) = 2π*(m-1)/N - π*(N - (N%2))/N; # for m in 1:N\n",
    "function c(i) # for i in 1:N\n",
    "    i = (i-1)%N + 1 \n",
    "    A = -(i == 1\n",
    "        ? I\n",
    "        : prod(-site(j, sz) for j in 1:(i-1)))\n",
    "    A * site(i, sm)\n",
    "end\n",
    "ct(i) = dagger(c(i))\n",
    "acomm_tables(c)"
   ]
  },
  {
   "cell_type": "markdown",
   "metadata": {},
   "source": [
    "Verify that the inverse Jordan-Wigner transformation reproduces all the $\\pauli_i^x$:"
   ]
  },
  {
   "cell_type": "code",
   "execution_count": 238,
   "metadata": {
    "ExecuteTime": {
     "end_time": "2020-11-20T21:49:58.930000-08:00",
     "start_time": "2020-11-21T05:49:58.709Z"
    }
   },
   "outputs": [
    {
     "data": {
      "text/plain": [
       "1×8 Array{Float64,2}:\n",
       " 0.0  0.0  0.0  0.0  0.0  0.0  0.0  0.0"
      ]
     },
     "execution_count": 238,
     "metadata": {},
     "output_type": "execute_result"
    }
   ],
   "source": [
    "csx(i) = -(i == 1 ? I : prod(I - 2*ct(j)*c(j) for j in 1:(i-1))) * (ct(i) + c(i))\n",
    "[csx(i) - site(i, sx) for i in 1:N]' .|> trnorm"
   ]
  },
  {
   "cell_type": "markdown",
   "metadata": {},
   "source": [
    "The Jordan-Wigner transformed Hamiltonian:"
   ]
  },
  {
   "cell_type": "code",
   "execution_count": 239,
   "metadata": {
    "ExecuteTime": {
     "end_time": "2020-11-20T21:50:02.222000-08:00",
     "start_time": "2020-11-21T05:50:02.026Z"
    }
   },
   "outputs": [
    {
     "data": {
      "text/plain": [
       "9.690564197239252e-16"
      ]
     },
     "execution_count": 239,
     "metadata": {},
     "output_type": "execute_result"
    }
   ],
   "source": [
    "L = sum(ct(i)*c(i) for i in 1:N)\n",
    "Hend = (ct(N) - c(N))*(ct(1) + c(1))*((sparse ∘ exp ∘ dense)(im*π*L) + I)\n",
    "Hc = I*(N/λ) + Hend - sum(\n",
    "    (2/λ)*ct(i)*c(i) + (ct(i) - c(i))*(ct(i+1) + c(i+1))\n",
    "    for i in 1:N)\n",
    "trnorm(Hs - Hc) / 2^N"
   ]
  },
  {
   "cell_type": "markdown",
   "metadata": {},
   "source": [
    "It looks like the trace norm of the boundary term relative to that of the whole Hamiltonian diminishes with increasing $N$. But does this imply that it may be dropped?"
   ]
  },
  {
   "cell_type": "code",
   "execution_count": 240,
   "metadata": {
    "ExecuteTime": {
     "end_time": "2020-11-20T21:50:04.309000-08:00",
     "start_time": "2020-11-21T05:50:04.292Z"
    }
   },
   "outputs": [
    {
     "data": {
      "text/plain": [
       "0.3112746194488055"
      ]
     },
     "execution_count": 240,
     "metadata": {},
     "output_type": "execute_result"
    }
   ],
   "source": [
    "trnorm(Hend) / trnorm(Hs)"
   ]
  },
  {
   "cell_type": "markdown",
   "metadata": {},
   "source": [
    "### Striff"
   ]
  },
  {
   "cell_type": "markdown",
   "metadata": {},
   "source": [
    "My $\\lambda$ differs from Pfeuty's (**TODO:** $\\lambda \\mapsto -\\alpha$)"
   ]
  },
  {
   "cell_type": "code",
   "execution_count": 241,
   "metadata": {
    "ExecuteTime": {
     "end_time": "2020-11-20T21:50:07.628000-08:00",
     "start_time": "2020-11-21T05:50:07.626Z"
    }
   },
   "outputs": [
    {
     "data": {
      "text/plain": [
       "-1.0"
      ]
     },
     "execution_count": 241,
     "metadata": {},
     "output_type": "execute_result"
    }
   ],
   "source": [
    "λS = -1 / λ"
   ]
  },
  {
   "cell_type": "markdown",
   "metadata": {},
   "source": [
    "First, we define the Fourier-transformed fermion operators and verify that the corresponding Hamiltonian is correct."
   ]
  },
  {
   "cell_type": "code",
   "execution_count": 288,
   "metadata": {
    "ExecuteTime": {
     "end_time": "2020-11-20T21:50:09.840000-08:00",
     "start_time": "2020-11-21T05:50:09.832Z"
    }
   },
   "outputs": [],
   "source": [
    "C(k) = sum(exp(-im*k*i) * c(i) for i in 1:N) / √N\n",
    "Ct(k) = dagger(C(k))\n",
    "Hk(k) = λS ≈ -1 && k ≈ -π ? zeros(2, 2) : [\n",
    "    λS - cos(k)  -im*sin(k)\n",
    "    im*sin(k)    cos(k) - λS\n",
    "]\n",
    "vk(k) = [C(k); Ct(-k)]\n",
    "vkt(k) = [Ct(k) C(-k)];"
   ]
  },
  {
   "cell_type": "code",
   "execution_count": 289,
   "metadata": {
    "ExecuteTime": {
     "end_time": "2020-11-20T21:50:13.783000-08:00",
     "start_time": "2020-11-21T05:50:11.318Z"
    }
   },
   "outputs": [
    {
     "data": {
      "image/png": "[encoded data removed]",
      "text/plain": [
       "8×24 Array{Gray{Float64},2} with eltype Gray{Float64}:\n",
       " Gray{Float64}(1.11022e-16)  …  Gray{Float64}(1.0)\n",
       " Gray{Float64}(1.0)             Gray{Float64}(1.0)\n",
       " Gray{Float64}(1.0)             Gray{Float64}(1.0)\n",
       " Gray{Float64}(1.0)             Gray{Float64}(1.0)\n",
       " Gray{Float64}(1.0)             Gray{Float64}(1.0)\n",
       " Gray{Float64}(1.0)          …  Gray{Float64}(1.0)\n",
       " Gray{Float64}(1.0)             Gray{Float64}(1.0)\n",
       " Gray{Float64}(1.0)             Gray{Float64}(1.0)"
      ]
     },
     "execution_count": 289,
     "metadata": {},
     "output_type": "execute_result"
    }
   ],
   "source": [
    "acomm_tables(C∘k)"
   ]
  },
  {
   "cell_type": "code",
   "execution_count": 290,
   "metadata": {
    "ExecuteTime": {
     "end_time": "2020-11-20T21:50:15.527000-08:00",
     "start_time": "2020-11-21T05:50:15.346Z"
    }
   },
   "outputs": [
    {
     "data": {
      "text/plain": [
       "(1.134846672479976e-15, 1.0000000000000004)"
      ]
     },
     "execution_count": 290,
     "metadata": {},
     "output_type": "execute_result"
    }
   ],
   "source": [
    "HC = sum((vkt(k(m))*Hk(k(m))*vk(k(m)))[1] for m in 1:N)\n",
    "(trnorm((Hs - Hend) - HC), trnorm(Hs - HC)) ./ 2^N"
   ]
  },
  {
   "cell_type": "markdown",
   "metadata": {},
   "source": [
    "Now, we define $E_k$ and the operators $\\opr{\\eta}_k = \\opr{\\eta}_k^+$."
   ]
  },
  {
   "cell_type": "code",
   "execution_count": 291,
   "metadata": {
    "ExecuteTime": {
     "end_time": "2020-11-20T21:50:20.165000-08:00",
     "start_time": "2020-11-21T05:50:17.717Z"
    }
   },
   "outputs": [
    {
     "data": {
      "image/png": "[encoded data removed]",
      "text/plain": [
       "8×24 Array{Gray{Float64},2} with eltype Gray{Float64}:\n",
       " Gray{Float64}(1.11022e-16)  …  Gray{Float64}(1.0)\n",
       " Gray{Float64}(1.0)             Gray{Float64}(1.0)\n",
       " Gray{Float64}(1.0)             Gray{Float64}(1.0)\n",
       " Gray{Float64}(1.0)             Gray{Float64}(1.0)\n",
       " Gray{Float64}(1.0)             Gray{Float64}(1.0)\n",
       " Gray{Float64}(1.0)          …  Gray{Float64}(1.0)\n",
       " Gray{Float64}(1.0)             Gray{Float64}(1.0)\n",
       " Gray{Float64}(1.0)             Gray{Float64}(1.0)"
      ]
     },
     "execution_count": 291,
     "metadata": {},
     "output_type": "execute_result"
    }
   ],
   "source": [
    "E(m, N=N) = √(λS^2 - 2λS*cos(k(m, N)) + 1)\n",
    "aS(m) = ((N%2 == 0 && m == 1) || m == 1 + floor(N//2) ? 0 :\n",
    "    im*sin(k(m)) / √(2E(m)*(E(m) + cos(k(m)) - λS)))\n",
    "bS(m) = ((N%2 == 0 && m == 1) || m == 1 + floor(N//2) ? 1 :\n",
    "    √((E(m) + cos(k(m)) - λS) / (2E(m))))\n",
    "ηS(m) = aS(m)*C(k(m)) + bS(m)*Ct(-k(m))\n",
    "ηSt(m) = dagger(ηS(m))\n",
    "acomm_tables(ηS)"
   ]
  },
  {
   "cell_type": "markdown",
   "metadata": {},
   "source": [
    "Check if the Striff $\\opr{\\eta}_k$ Hamiltonian is correct:"
   ]
  },
  {
   "cell_type": "code",
   "execution_count": 293,
   "metadata": {
    "ExecuteTime": {
     "end_time": "2020-11-20T21:50:21.690000-08:00",
     "start_time": "2020-11-21T05:50:21.502Z"
    }
   },
   "outputs": [
    {
     "data": {
      "text/plain": [
       "(3.595862882027949e-15, 1.0000000000000016)"
      ]
     },
     "execution_count": 293,
     "metadata": {},
     "output_type": "execute_result"
    }
   ],
   "source": [
    "E0S = -sum(E(m) for m in 1:N);\n",
    "HηS = sum(2E(m)*ηSt(m)*ηS(m) for m in 1:N) + E0S*I\n",
    "(trnorm((Hs - Hend) - HηS), trnorm(Hs - HηS)) ./ 2^N"
   ]
  },
  {
   "cell_type": "markdown",
   "metadata": {},
   "source": [
    "Try to directly diagonalize $\\mq{H}_k$ to find the $\\opr{\\eta}_k^\\pm$:"
   ]
  },
  {
   "cell_type": "code",
   "execution_count": 294,
   "metadata": {
    "ExecuteTime": {
     "end_time": "2020-11-20T21:50:26.464000-08:00",
     "start_time": "2020-11-21T05:50:24.192Z"
    }
   },
   "outputs": [
    {
     "data": {
      "image/png": "[encoded data removed]",
      "text/plain": [
       "8×24 Array{Gray{Float64},2} with eltype Gray{Float64}:\n",
       " Gray{Float64}(1.11022e-16)  …  Gray{Float64}(1.0)\n",
       " Gray{Float64}(1.0)             Gray{Float64}(1.0)\n",
       " Gray{Float64}(1.0)             Gray{Float64}(1.0)\n",
       " Gray{Float64}(1.0)             Gray{Float64}(1.0)\n",
       " Gray{Float64}(1.0)             Gray{Float64}(1.0)\n",
       " Gray{Float64}(1.0)          …  Gray{Float64}(1.0)\n",
       " Gray{Float64}(1.0)             Gray{Float64}(1.0)\n",
       " Gray{Float64}(1.0)             Gray{Float64}(1.0)"
      ]
     },
     "execution_count": 294,
     "metadata": {},
     "output_type": "execute_result"
    }
   ],
   "source": [
    "Heigs = [eigen(Hk(k(m))) for m in 1:N]\n",
    "EC(m) = Heigs[m].values[2] # Positive energy\n",
    "ηC(m) = Heigs[m].vectors'[2,1] * C(k(m)) + Heigs[m].vectors'[2,2] * Ct(-k(m))\n",
    "ηCt(m) = dagger(ηC(m))\n",
    "ηmC(m) = Heigs[m].vectors'[1,1] * C(k(m)) + Heigs[m].vectors'[1,2] * Ct(-k(m))\n",
    "ηmCt(m) = dagger(ηmC(m))\n",
    "acomm_tables(ηC)"
   ]
  },
  {
   "cell_type": "code",
   "execution_count": 295,
   "metadata": {},
   "outputs": [
    {
     "data": {
      "image/png": "[encoded data removed]",
      "text/plain": [
       "8×24 Array{Gray{Float64},2} with eltype Gray{Float64}:\n",
       " Gray{Float64}(1.11022e-16)  …  Gray{Float64}(1.0)\n",
       " Gray{Float64}(1.0)             Gray{Float64}(1.0)\n",
       " Gray{Float64}(1.0)             Gray{Float64}(1.0)\n",
       " Gray{Float64}(1.0)             Gray{Float64}(1.0)\n",
       " Gray{Float64}(1.0)             Gray{Float64}(1.0)\n",
       " Gray{Float64}(1.0)          …  Gray{Float64}(1.0)\n",
       " Gray{Float64}(1.0)             Gray{Float64}(1.0)\n",
       " Gray{Float64}(1.0)             Gray{Float64}(1.0)"
      ]
     },
     "execution_count": 295,
     "metadata": {},
     "output_type": "execute_result"
    }
   ],
   "source": [
    "acomm_tables(ηmC)"
   ]
  },
  {
   "cell_type": "code",
   "execution_count": 296,
   "metadata": {
    "ExecuteTime": {
     "end_time": "2020-11-20T21:50:27.909000-08:00",
     "start_time": "2020-11-21T05:50:27.717Z"
    }
   },
   "outputs": [
    {
     "data": {
      "text/plain": [
       "1×8 Array{Float64,2}:\n",
       " 0.0  1.2307e-14  2.00972e-14  0.0  0.0  0.0  2.00972e-14  1.2307e-14"
      ]
     },
     "execution_count": 296,
     "metadata": {},
     "output_type": "execute_result"
    }
   ],
   "source": [
    "[ηC(m) - ηS(m) for m in 1:N]' .|> trnorm"
   ]
  },
  {
   "cell_type": "code",
   "execution_count": 297,
   "metadata": {
    "ExecuteTime": {
     "end_time": "2020-11-20T21:50:29.170000-08:00",
     "start_time": "2020-11-21T05:50:29.017Z"
    }
   },
   "outputs": [
    {
     "data": {
      "text/plain": [
       "(2.4736879840158437e-15, 1.0000000000000004)"
      ]
     },
     "execution_count": 297,
     "metadata": {},
     "output_type": "execute_result"
    }
   ],
   "source": [
    "HηC = sum(2EC(m) * (ηCt(m)*ηC(m) - I/2) for m in 1:N)\n",
    "(trnorm((Hs - Hend) - HηC), trnorm(Hs - HηC)) ./ 2^N"
   ]
  },
  {
   "cell_type": "code",
   "execution_count": 298,
   "metadata": {
    "ExecuteTime": {
     "end_time": "2020-11-20T21:50:29.170000-08:00",
     "start_time": "2020-11-21T05:50:29.017Z"
    }
   },
   "outputs": [
    {
     "data": {
      "text/plain": [
       "(1.154310239178329e-15, 1.0)"
      ]
     },
     "execution_count": 298,
     "metadata": {},
     "output_type": "execute_result"
    }
   ],
   "source": [
    "HηpmC = sum(EC(m) * (ηCt(m)*ηC(m) - ηmCt(m)*ηmC(m)) for m in 1:N)\n",
    "(trnorm((Hs - Hend) - HηpmC), trnorm(Hs - HηpmC)) ./ 2^N"
   ]
  },
  {
   "cell_type": "markdown",
   "metadata": {},
   "source": [
    "Thus the diagonalization is correct."
   ]
  },
  {
   "cell_type": "markdown",
   "metadata": {},
   "source": [
    "We may now construct the vacuum state from the sum of number operators."
   ]
  },
  {
   "cell_type": "code",
   "execution_count": 299,
   "metadata": {
    "ExecuteTime": {
     "end_time": "2020-11-20T21:50:33.440000-08:00",
     "start_time": "2020-11-21T05:50:33.247Z"
    }
   },
   "outputs": [
    {
     "data": {
      "text/plain": [
       "6.457339144406767e-16"
      ]
     },
     "execution_count": 299,
     "metadata": {},
     "output_type": "execute_result"
    }
   ],
   "source": [
    "NηS = sum(ηSt(m)*ηS(m) for m in 1:N)\n",
    "vacS = eigenstates(NηS, 1, info=false)[2][1] # Indices select first eigenstate\n",
    "((ηSt(1)*ηS(1) + ηSt(2)*ηS(2)) - 2*I) * (ηSt(1) * ηSt(2) * vacS) |> norm"
   ]
  },
  {
   "cell_type": "markdown",
   "metadata": {
    "heading_collapsed": true
   },
   "source": [
    "### Pfeuty"
   ]
  },
  {
   "cell_type": "markdown",
   "metadata": {
    "hidden": true
   },
   "source": [
    "Pfeuty: $\\eta$'s do not satisfy the CARs? Typo, or **problem**?"
   ]
  },
  {
   "cell_type": "code",
   "execution_count": 216,
   "metadata": {
    "ExecuteTime": {
     "end_time": "2020-11-20T21:50:35.916000-08:00",
     "start_time": "2020-11-21T05:50:35.900Z"
    },
    "hidden": true
   },
   "outputs": [],
   "source": [
    "Λ(m) = √(λ^2 + 2λ*cos(k(m)) + 1)\n",
    "ϕ(k, i) = √(2/N) * (k > 0 ? sin(k*i) : cos(k*i))\n",
    "ψ(k, i) = -((1 + λ*cos(k))*ϕ(k, i) + λ*sin(k)*ϕ(-k, i)) / Λ(k)\n",
    "a(m, i) = (ϕ(k(m), i) + ψ(k(m), i)) / 2\n",
    "b(m, i) = (ϕ(k(m), i) - ψ(k(m), i)) / 2\n",
    "η(m) = sum(a(m, i)*c(i) + b(m, i)*ct(i) for i in 1:N)\n",
    "ηt(m) = dagger(η(m));"
   ]
  },
  {
   "cell_type": "code",
   "execution_count": 217,
   "metadata": {
    "ExecuteTime": {
     "end_time": "2020-11-20T21:50:40.246000-08:00",
     "start_time": "2020-11-21T05:50:36.886Z"
    },
    "hidden": true
   },
   "outputs": [
    {
     "data": {
      "image/png": "[encoded data removed]",
      "text/plain": [
       "8×24 Array{Gray{Float64},2} with eltype Gray{Float64}:\n",
       " Gray{Float64}(0.892565)  Gray{Float64}(1.0)       …  Gray{Float64}(1.0)\n",
       " Gray{Float64}(1.0)       Gray{Float64}(0.938432)     Gray{Float64}(1.0)\n",
       " Gray{Float64}(1.0)       Gray{Float64}(1.0)          Gray{Float64}(1.0)\n",
       " Gray{Float64}(1.0)       Gray{Float64}(1.0)          Gray{Float64}(1.0)\n",
       " Gray{Float64}(1.0)       Gray{Float64}(1.0)          Gray{Float64}(1.0)\n",
       " Gray{Float64}(1.0)       Gray{Float64}(1.0)       …  Gray{Float64}(1.0)\n",
       " Gray{Float64}(1.0)       Gray{Float64}(1.0)          Gray{Float64}(1.0)\n",
       " Gray{Float64}(1.0)       Gray{Float64}(1.0)          Gray{Float64}(0.978582)"
      ]
     },
     "execution_count": 217,
     "metadata": {},
     "output_type": "execute_result"
    }
   ],
   "source": [
    "acomm_tables(η)"
   ]
  },
  {
   "cell_type": "markdown",
   "metadata": {
    "hidden": true
   },
   "source": [
    "Check if the Pfeuty Hamiltonian is correct:"
   ]
  },
  {
   "cell_type": "code",
   "execution_count": 218,
   "metadata": {
    "ExecuteTime": {
     "end_time": "2020-11-20T21:50:41.075000-08:00",
     "start_time": "2020-11-21T05:50:40.919Z"
    },
    "hidden": true
   },
   "outputs": [],
   "source": [
    "E0 = -sum(Λ(m) for m in 1:N) / 2;\n",
    "Hη = sum(Λ(m)*ηt(m)*η(m) for m in 1:N) + E0*I;"
   ]
  },
  {
   "cell_type": "code",
   "execution_count": 219,
   "metadata": {
    "ExecuteTime": {
     "end_time": "2020-11-20T21:50:44.560000-08:00",
     "start_time": "2020-11-21T05:50:44.534Z"
    },
    "hidden": true
   },
   "outputs": [
    {
     "data": {
      "text/plain": [
       "(19.33317168136467, 19.333171681364668)"
      ]
     },
     "execution_count": 219,
     "metadata": {},
     "output_type": "execute_result"
    }
   ],
   "source": [
    "(trnorm((Hs - Hend) - Hη), trnorm(Hs - Hη)) ./ 2^N"
   ]
  },
  {
   "cell_type": "markdown",
   "metadata": {},
   "source": [
    "## Starting from the many-body basis instead"
   ]
  },
  {
   "cell_type": "code",
   "execution_count": 300,
   "metadata": {},
   "outputs": [],
   "source": [
    "import QuantumOpticsBase: ManyBodyBasis, SparseOperator, isnonzero"
   ]
  },
  {
   "cell_type": "code",
   "execution_count": 301,
   "metadata": {},
   "outputs": [
    {
     "data": {
      "text/plain": [
       "destroyfermion (generic function with 1 method)"
      ]
     },
     "execution_count": 301,
     "metadata": {},
     "output_type": "execute_result"
    }
   ],
   "source": [
    "function destroyfermion(b::ManyBodyBasis, index::Int)\n",
    "    c = SparseOperator(b)\n",
    "    # <{m}_j| c |{m}_i>\n",
    "    for i in 1:length(b)\n",
    "        occ_i = b.occupations[i]\n",
    "        if occ_i[index] == 0\n",
    "            continue\n",
    "        end\n",
    "        sign = sum(occ_i[1:(index-1)]) % 2 == 0 ? 1 : -1\n",
    "        for j in 1:length(b)\n",
    "            if isnonzero(occ_i, b.occupations[j], index)\n",
    "                c.data[j, i] = sign * sqrt(occ_i[index])\n",
    "            end\n",
    "        end\n",
    "    end\n",
    "    c\n",
    "end"
   ]
  },
  {
   "cell_type": "code",
   "execution_count": 302,
   "metadata": {},
   "outputs": [],
   "source": [
    "minusk(m, N=N) = N%2 == 0 ? (m == 1 ? 1 : N - (m - 2)) : (N - (m - 1)); # π ≡ -π"
   ]
  },
  {
   "cell_type": "code",
   "execution_count": 303,
   "metadata": {
    "ExecuteTime": {
     "end_time": "2020-11-20T21:50:46.650000-08:00",
     "start_time": "2020-11-21T05:50:46.439Z"
    }
   },
   "outputs": [
    {
     "data": {
      "image/png": "[encoded data removed]",
      "text/plain": [
       "8×24 Array{Gray{Float64},2} with eltype Gray{Float64}:\n",
       " Gray{Float64}(0.0)  Gray{Float64}(1.0)  …  Gray{Float64}(1.0)\n",
       " Gray{Float64}(1.0)  Gray{Float64}(0.0)     Gray{Float64}(1.0)\n",
       " Gray{Float64}(1.0)  Gray{Float64}(1.0)     Gray{Float64}(1.0)\n",
       " Gray{Float64}(1.0)  Gray{Float64}(1.0)     Gray{Float64}(1.0)\n",
       " Gray{Float64}(1.0)  Gray{Float64}(1.0)     Gray{Float64}(1.0)\n",
       " Gray{Float64}(1.0)  Gray{Float64}(1.0)  …  Gray{Float64}(1.0)\n",
       " Gray{Float64}(1.0)  Gray{Float64}(1.0)     Gray{Float64}(1.0)\n",
       " Gray{Float64}(1.0)  Gray{Float64}(1.0)     Gray{Float64}(1.0)"
      ]
     },
     "execution_count": 303,
     "metadata": {},
     "output_type": "execute_result"
    }
   ],
   "source": [
    "f = NLevelBasis(N) # \"Levels\" 1 to N are indices of k's\n",
    "mbb = ManyBodyBasis(f, fermionstates(f, [0:N...]))\n",
    "Imb = identityoperator(mbb)\n",
    "ηmb(m) = destroyfermion(mbb, m)\n",
    "ηtmb(m) = dagger(ηmb(m))\n",
    "Hf = diagonaloperator(f, @. Λ(k(1:N)) + E0)\n",
    "Hmb = manybodyoperator(mbb, Hf)\n",
    "acomm_tables(ηmb)"
   ]
  },
  {
   "cell_type": "code",
   "execution_count": 304,
   "metadata": {},
   "outputs": [
    {
     "data": {
      "image/png": "[encoded data removed]",
      "text/plain": [
       "8×24 Array{Gray{Float64},2} with eltype Gray{Float64}:\n",
       " Gray{Float64}(0.0)  Gray{Float64}(1.0)          …  Gray{Float64}(1.0)\n",
       " Gray{Float64}(1.0)  Gray{Float64}(1.11022e-16)     Gray{Float64}(1.0)\n",
       " Gray{Float64}(1.0)  Gray{Float64}(1.0)             Gray{Float64}(1.0)\n",
       " Gray{Float64}(1.0)  Gray{Float64}(1.0)             Gray{Float64}(1.0)\n",
       " Gray{Float64}(1.0)  Gray{Float64}(1.0)             Gray{Float64}(1.0)\n",
       " Gray{Float64}(1.0)  Gray{Float64}(1.0)          …  Gray{Float64}(1.0)\n",
       " Gray{Float64}(1.0)  Gray{Float64}(1.0)             Gray{Float64}(1.0)\n",
       " Gray{Float64}(1.0)  Gray{Float64}(1.0)             Gray{Float64}(1.0)"
      ]
     },
     "execution_count": 304,
     "metadata": {},
     "output_type": "execute_result"
    }
   ],
   "source": [
    "Cmbs = [([amS(m) bmS(m); aS(m) bS(m)] * [ηtmb(minusk(m)), ηmb(m)])[1] for m in 1:N]\n",
    "acomm_tables(m -> Cmbs[m])"
   ]
  },
  {
   "cell_type": "code",
   "execution_count": 305,
   "metadata": {},
   "outputs": [
    {
     "data": {
      "text/plain": [
       "2×2 Array{Float64,2}:\n",
       " 1.0  0.0\n",
       " 0.0  1.0"
      ]
     },
     "execution_count": 305,
     "metadata": {},
     "output_type": "execute_result"
    }
   ],
   "source": [
    "Heigs[1].vectors"
   ]
  },
  {
   "cell_type": "code",
   "execution_count": 307,
   "metadata": {},
   "outputs": [
    {
     "data": {
      "image/png": "[encoded data removed]",
      "text/plain": [
       "8×24 Array{Gray{Float64},2} with eltype Gray{Float64}:\n",
       " Gray{Float64}(0.0)  Gray{Float64}(1.0)  …  Gray{Float64}(1.0)\n",
       " Gray{Float64}(1.0)  Gray{Float64}(0.0)     Gray{Float64}(1.0)\n",
       " Gray{Float64}(1.0)  Gray{Float64}(1.0)     Gray{Float64}(1.0)\n",
       " Gray{Float64}(1.0)  Gray{Float64}(1.0)     Gray{Float64}(1.0)\n",
       " Gray{Float64}(1.0)  Gray{Float64}(1.0)     Gray{Float64}(1.0)\n",
       " Gray{Float64}(1.0)  Gray{Float64}(1.0)  …  Gray{Float64}(1.0)\n",
       " Gray{Float64}(1.0)  Gray{Float64}(1.0)     Gray{Float64}(1.0)\n",
       " Gray{Float64}(1.0)  Gray{Float64}(1.0)     Gray{Float64}(1.0)"
      ]
     },
     "execution_count": 307,
     "metadata": {},
     "output_type": "execute_result"
    }
   ],
   "source": [
    "Cmbs = [(Heigs[m].vectors * [ηtmb(minusk(m)), ηmb(m)])[1] for m in 1:N]\n",
    "acomm_tables(m -> Cmbs[m])"
   ]
  },
  {
   "cell_type": "code",
   "execution_count": 308,
   "metadata": {},
   "outputs": [
    {
     "data": {
      "image/png": "[encoded data removed]",
      "text/plain": [
       "8×24 Array{Gray{Float64},2} with eltype Gray{Float64}:\n",
       " Gray{Float64}(1.11022e-16)  …  Gray{Float64}(1.0)\n",
       " Gray{Float64}(1.0)             Gray{Float64}(1.0)\n",
       " Gray{Float64}(1.0)             Gray{Float64}(1.0)\n",
       " Gray{Float64}(1.0)             Gray{Float64}(1.0)\n",
       " Gray{Float64}(1.0)             Gray{Float64}(1.0)\n",
       " Gray{Float64}(1.0)          …  Gray{Float64}(1.0)\n",
       " Gray{Float64}(1.0)             Gray{Float64}(1.0)\n",
       " Gray{Float64}(1.0)             Gray{Float64}(1.0)"
      ]
     },
     "execution_count": 308,
     "metadata": {},
     "output_type": "execute_result"
    }
   ],
   "source": [
    "cmb(i) = sum(exp(im*k(m)*(i-1)) * Cmbs[m] for m in 1:N) / √N\n",
    "cmbt(i) = dagger(cmb(i))\n",
    "sxmb(i) = -(i == 1 ? Imb : prod(Imb - 2*cmbt(j)*cmb(j) for j in 1:(i-1))) * (cmbt(i) + cmb(i))\n",
    "acomm_tables(cmb)"
   ]
  },
  {
   "cell_type": "markdown",
   "metadata": {},
   "source": [
    "## Energy spacings"
   ]
  },
  {
   "cell_type": "markdown",
   "metadata": {},
   "source": [
    "The eigenvalues of the eigenoperators we seek are energy spacings. We should then figure out how they are distributed, and verify that the smallest energy spacing is large enough to be represented as a floating point number. Even with floating point errors, we may find rigorous bounds on the minimum energy difference using interval arithmetic."
   ]
  },
  {
   "cell_type": "code",
   "execution_count": 151,
   "metadata": {
    "ExecuteTime": {
     "end_time": "2020-11-20T21:51:01.920000-08:00",
     "start_time": "2020-11-21T05:51:01.917Z"
    }
   },
   "outputs": [],
   "source": [
    "using IntervalArithmetic\n",
    "setformat(:midpoint);"
   ]
  },
  {
   "cell_type": "markdown",
   "metadata": {},
   "source": [
    "Note that `ΔEs` generally double-counts due to parity symmetry."
   ]
  },
  {
   "cell_type": "code",
   "execution_count": 152,
   "metadata": {
    "ExecuteTime": {
     "end_time": "2020-11-20T21:51:04.466000-08:00",
     "start_time": "2020-11-21T05:51:04.458Z"
    }
   },
   "outputs": [],
   "source": [
    "function ΔEs(NE)\n",
    "    Eks = (m -> E(@interval(m), NE)).(1:NE)\n",
    "    diffweights = Iterators.product(repeat([[-1,0,1]], NE)...)\n",
    "    Ediffs = (abs(w ⋅ Eks) for w in diffweights)\n",
    "    Ediffs = Ediffs ./ abs(-(extrema(Ediffs)...))\n",
    "    Ediffs |> collect |> vec |> sort\n",
    "end\n",
    ";"
   ]
  },
  {
   "cell_type": "code",
   "execution_count": 153,
   "metadata": {
    "ExecuteTime": {
     "end_time": "2020-11-20T21:51:47.741000-08:00",
     "start_time": "2020-11-21T05:51:07.344Z"
    }
   },
   "outputs": [
    {
     "data": {
      "image/svg+xml": [
       "<?xml version=\"1.0\" encoding=\"UTF-8\"?>\n",
       "<svg xmlns=\"http://www.w3.org/2000/svg\" xmlns:xlink=\"http://www.w3.org/1999/xlink\" width=\"291.169pt\" height=\"209.875pt\" viewBox=\"0 0 291.169 209.875\" version=\"1.2\">\n",
       "<defs>\n",
       "<g>\n",
       "<symbol overflow=\"visible\" id=\"glyph-1606366588244580-0-0\">\n",
       "<path style=\"stroke:none;\" d=\"M 0 0 L 5.96875 0 L 5.96875 -8.328125 L 0 -8.328125 Z M 0.953125 -0.59375 L 2.984375 -3.625 L 5 -0.59375 Z M 0.59375 -7.1875 L 2.625 -4.15625 L 0.59375 -1.125 Z M 3.34375 -4.15625 L 5.359375 -7.1875 L 5.359375 -1.125 Z M 2.984375 -4.703125 L 0.953125 -7.71875 L 5 -7.71875 Z M 2.984375 -4.703125 \"/>\n",
       "</symbol>\n",
       "<symbol overflow=\"visible\" id=\"glyph-1606366588244580-0-1\">\n",
       "<path style=\"stroke:none;\" d=\"M 2.71875 0.125 C 3.640625 0.125 5.03125 -0.8125 5.03125 -3.609375 C 5.03125 -4.796875 4.75 -5.8125 4.21875 -6.5 C 3.90625 -6.921875 3.40625 -7.265625 2.765625 -7.265625 C 1.578125 -7.265625 0.46875 -5.859375 0.46875 -3.5 C 0.46875 -2.234375 0.859375 -1.03125 1.515625 -0.375 C 1.84375 -0.046875 2.25 0.125 2.71875 0.125 Z M 2.765625 -6.859375 C 2.96875 -6.859375 3.15625 -6.78125 3.296875 -6.65625 C 3.671875 -6.34375 4 -5.4375 4 -3.84375 C 4 -2.734375 3.953125 -1.984375 3.796875 -1.390625 C 3.53125 -0.40625 2.9375 -0.296875 2.734375 -0.296875 C 1.625 -0.296875 1.5 -2.34375 1.5 -3.375 C 1.5 -6.3125 2.234375 -6.859375 2.765625 -6.859375 Z M 2.765625 -6.859375 \"/>\n",
       "</symbol>\n",
       "<symbol overflow=\"visible\" id=\"glyph-1606366588244580-0-2\">\n",
       "<path style=\"stroke:none;\" d=\"M 0.671875 -0.515625 C 0.671875 -0.171875 0.96875 0.125 1.3125 0.125 C 1.65625 0.125 1.9375 -0.171875 1.9375 -0.515625 C 1.9375 -0.859375 1.65625 -1.140625 1.3125 -1.140625 C 0.96875 -1.140625 0.671875 -0.859375 0.671875 -0.515625 Z M 0.671875 -0.515625 \"/>\n",
       "</symbol>\n",
       "<symbol overflow=\"visible\" id=\"glyph-1606366588244580-0-3\">\n",
       "<path style=\"stroke:none;\" d=\"M 0.734375 -5.578125 C 0.734375 -5.328125 0.953125 -5.109375 1.203125 -5.109375 C 1.40625 -5.109375 1.765625 -5.328125 1.765625 -5.59375 C 1.765625 -5.6875 1.734375 -5.765625 1.71875 -5.84375 C 1.6875 -5.921875 1.625 -6.03125 1.625 -6.125 C 1.625 -6.421875 1.9375 -6.859375 2.796875 -6.859375 C 3.234375 -6.859375 3.84375 -6.5625 3.84375 -5.40625 C 3.84375 -4.65625 3.5625 -4.03125 2.859375 -3.3125 L 1.984375 -2.4375 C 0.8125 -1.25 0.625 -0.671875 0.625 0.03125 C 0.625 0.03125 1.234375 0 1.609375 0 L 3.703125 0 C 4.078125 0 4.625 0.03125 4.625 0.03125 C 4.78125 -0.609375 4.90625 -1.5 4.90625 -1.859375 C 4.84375 -1.921875 4.6875 -1.9375 4.5625 -1.921875 C 4.359375 -1.078125 4.15625 -0.78125 3.734375 -0.78125 L 1.609375 -0.78125 C 1.609375 -1.34375 2.4375 -2.15625 2.484375 -2.21875 L 3.703125 -3.375 C 4.375 -4.03125 4.890625 -4.546875 4.890625 -5.453125 C 4.890625 -6.75 3.84375 -7.265625 2.875 -7.265625 C 1.546875 -7.265625 0.734375 -6.296875 0.734375 -5.578125 Z M 0.734375 -5.578125 \"/>\n",
       "</symbol>\n",
       "<symbol overflow=\"visible\" id=\"glyph-1606366588244580-0-4\">\n",
       "<path style=\"stroke:none;\" d=\"M 5.125 -2.609375 L 4.140625 -2.609375 L 4.140625 -6.09375 C 4.140625 -6.6875 4.140625 -7.15625 4.15625 -7.25 L 4.140625 -7.265625 L 3.75 -7.265625 C 3.671875 -7.265625 3.609375 -7.203125 3.5625 -7.140625 C 2.8125 -6.21875 1.4375 -4.25 0.328125 -2.546875 C 0.375 -2.375 0.4375 -2.046875 0.796875 -2.046875 L 3.234375 -2.046875 L 3.234375 -0.953125 C 3.234375 -0.40625 2.78125 -0.40625 2.265625 -0.375 C 2.1875 -0.296875 2.1875 -0.046875 2.265625 0.03125 C 2.640625 0.015625 3.125 0 3.671875 0 C 4.140625 0 4.59375 0.015625 4.96875 0.03125 C 5.046875 -0.046875 5.046875 -0.296875 4.96875 -0.375 C 4.390625 -0.421875 4.140625 -0.390625 4.140625 -0.953125 L 4.140625 -2.046875 L 4.953125 -2.046875 C 5.125 -2.046875 5.3125 -2.28125 5.3125 -2.421875 C 5.3125 -2.546875 5.25 -2.609375 5.125 -2.609375 Z M 3.234375 -6.046875 L 3.234375 -2.609375 L 0.953125 -2.609375 C 1.5625 -3.59375 2.40625 -4.921875 3.234375 -6.046875 Z M 3.234375 -6.046875 \"/>\n",
       "</symbol>\n",
       "<symbol overflow=\"visible\" id=\"glyph-1606366588244580-0-5\">\n",
       "<path style=\"stroke:none;\" d=\"M 1.71875 -4.09375 C 2.03125 -5.171875 2.796875 -6.375 4.390625 -6.96875 C 4.390625 -7.125 4.34375 -7.21875 4.25 -7.28125 C 3.046875 -6.921875 2.296875 -6.421875 1.640625 -5.65625 C 0.890625 -4.796875 0.53125 -3.703125 0.53125 -2.765625 C 0.53125 -0.34375 1.890625 0.125 2.8125 0.125 C 4.375 0.125 5.015625 -1.390625 5.015625 -2.40625 C 5.015625 -3.4375 4.46875 -4.34375 2.84375 -4.34375 C 2.546875 -4.34375 2.078125 -4.25 1.71875 -4.09375 Z M 1.609375 -3.65625 C 2 -3.921875 2.390625 -3.9375 2.59375 -3.9375 C 3.765625 -3.9375 4.03125 -2.796875 4.03125 -2.1875 C 4.03125 -0.875 3.53125 -0.28125 2.9375 -0.28125 C 2.1875 -0.28125 1.515625 -0.6875 1.515625 -2.734375 C 1.515625 -3 1.53125 -3.3125 1.609375 -3.65625 Z M 1.609375 -3.65625 \"/>\n",
       "</symbol>\n",
       "<symbol overflow=\"visible\" id=\"glyph-1606366588244580-0-6\">\n",
       "<path style=\"stroke:none;\" d=\"M 4.6875 -5.78125 C 4.6875 -6.640625 4.015625 -7.265625 2.84375 -7.265625 C 1.640625 -7.265625 0.84375 -6.546875 0.84375 -5.625 C 0.84375 -4.953125 1.171875 -4.46875 1.890625 -4.015625 L 2.203125 -3.828125 C 1.859375 -3.640625 1.53125 -3.4375 1.234375 -3.171875 C 0.75 -2.734375 0.546875 -2.203125 0.546875 -1.734375 C 0.546875 -0.53125 1.40625 0.125 2.671875 0.125 C 4.234375 0.125 5 -1.03125 5 -1.9375 C 5 -2.625 4.703125 -3.234375 4.0625 -3.609375 L 3.21875 -4.125 C 3.78125 -4.40625 4.6875 -5.015625 4.6875 -5.78125 Z M 2.6875 -0.296875 C 2.15625 -0.296875 1.34375 -0.671875 1.34375 -1.734375 C 1.34375 -2.09375 1.5 -2.9375 2.53125 -3.609375 L 3.09375 -3.28125 C 3.828125 -2.828125 4.125 -2.265625 4.125 -1.6875 C 4.125 -0.5 3.234375 -0.296875 2.6875 -0.296875 Z M 2.796875 -6.859375 C 3.5625 -6.859375 3.84375 -6.34375 3.84375 -5.796875 C 3.84375 -5.15625 3.21875 -4.609375 2.890625 -4.375 L 2.53125 -4.609375 C 1.78125 -5.09375 1.6875 -5.484375 1.6875 -5.859375 C 1.6875 -6.40625 2.078125 -6.859375 2.796875 -6.859375 Z M 2.796875 -6.859375 \"/>\n",
       "</symbol>\n",
       "<symbol overflow=\"visible\" id=\"glyph-1606366588244580-0-7\">\n",
       "<path style=\"stroke:none;\" d=\"M 3.4375 -1.453125 L 3.4375 -5.59375 C 3.4375 -6.3125 3.453125 -7.03125 3.46875 -7.1875 C 3.46875 -7.25 3.453125 -7.25 3.390625 -7.25 C 2.734375 -6.84375 2.109375 -6.546875 1.0625 -6.0625 C 1.078125 -5.921875 1.125 -5.8125 1.234375 -5.734375 C 1.78125 -5.96875 2.046875 -6.03125 2.28125 -6.03125 C 2.484375 -6.03125 2.515625 -5.75 2.515625 -5.34375 L 2.515625 -1.453125 C 2.515625 -0.46875 2.1875 -0.40625 1.359375 -0.375 C 1.28125 -0.296875 1.28125 -0.046875 1.359375 0.03125 C 1.9375 0.015625 2.375 0 3.015625 0 C 3.59375 0 3.875 0.015625 4.46875 0.03125 C 4.546875 -0.046875 4.546875 -0.296875 4.46875 -0.375 C 3.640625 -0.40625 3.4375 -0.46875 3.4375 -1.453125 Z M 3.4375 -1.453125 \"/>\n",
       "</symbol>\n",
       "<symbol overflow=\"visible\" id=\"glyph-1606366588244580-0-8\">\n",
       "<path style=\"stroke:none;\" d=\"M 8.28125 -6.640625 C 8.359375 -7 8.578125 -7.3125 9.03125 -7.34375 L 9.359375 -7.375 C 9.390625 -7.375 9.46875 -7.40625 9.46875 -7.46875 L 9.484375 -7.6875 L 9.46875 -7.71875 C 8.921875 -7.703125 8.5 -7.6875 8.21875 -7.6875 C 7.9375 -7.6875 7.453125 -7.703125 6.921875 -7.71875 L 6.890625 -7.6875 L 6.859375 -7.46875 C 6.84375 -7.421875 6.9375 -7.375 7 -7.375 L 7.28125 -7.34375 C 7.671875 -7.3125 7.796875 -7.078125 7.796875 -6.8125 C 7.796875 -6.765625 7.78125 -6.703125 7.765625 -6.640625 L 6.890625 -2.125 C 6.84375 -1.890625 6.8125 -1.765625 6.75 -1.765625 C 6.65625 -1.765625 6.546875 -1.984375 6.296875 -2.421875 L 3.390625 -7.71875 L 1.828125 -7.71875 L 1.78125 -7.6875 L 1.765625 -7.46875 C 1.765625 -7.40625 1.84375 -7.375 1.9375 -7.375 C 2.296875 -7.328125 2.546875 -6.859375 2.5625 -6.5625 L 1.484375 -1.046875 C 1.421875 -0.734375 1.203125 -0.375 0.734375 -0.34375 L 0.421875 -0.328125 C 0.328125 -0.3125 0.28125 -0.28125 0.265625 -0.21875 L 0.234375 0 L 0.265625 0.03125 C 0.796875 0.015625 1.28125 0 1.578125 0 C 1.859375 0 2.28125 0.015625 2.8125 0.03125 L 2.84375 0 L 2.859375 -0.21875 C 2.875 -0.296875 2.84375 -0.328125 2.796875 -0.328125 L 2.484375 -0.34375 C 2.140625 -0.375 1.984375 -0.59375 1.984375 -0.875 C 1.984375 -0.9375 1.984375 -0.984375 2 -1.046875 L 2.8125 -5.234375 C 2.890625 -5.640625 2.953125 -5.8125 3.046875 -5.8125 C 3.109375 -5.8125 3.203125 -5.6875 3.359375 -5.421875 L 6.328125 -0.171875 C 6.40625 0.015625 6.546875 0.125 6.734375 0.125 C 6.890625 0.125 7 -0.03125 7.046875 -0.25 Z M 8.28125 -6.640625 \"/>\n",
       "</symbol>\n",
       "<symbol overflow=\"visible\" id=\"glyph-1606366588244580-0-9\">\n",
       "<path style=\"stroke:none;\" d=\"M 0.703125 -2.203125 C 0.5625 -2.0625 0.5625 -1.75 0.703125 -1.609375 L 7.015625 -1.609375 C 7.171875 -1.75 7.171875 -2.0625 7.015625 -2.203125 Z M 0.703125 -4.59375 C 0.5625 -4.453125 0.5625 -4.140625 0.703125 -4 L 7.015625 -4 C 7.171875 -4.140625 7.171875 -4.453125 7.015625 -4.59375 Z M 0.703125 -4.59375 \"/>\n",
       "</symbol>\n",
       "<symbol overflow=\"visible\" id=\"glyph-1606366588244580-0-10\">\n",
       "<path style=\"stroke:none;\" d=\"M 3.796875 -2.25 C 3.796875 -1.125 3.203125 -0.28125 2.484375 -0.28125 C 2.03125 -0.28125 1.890625 -0.578125 1.703125 -0.828125 C 1.546875 -1.03125 1.34375 -1.203125 1.09375 -1.203125 C 0.875 -1.203125 0.640625 -1 0.640625 -0.765625 C 0.640625 -0.28125 1.65625 0.125 2.34375 0.125 C 3.8125 0.125 4.859375 -0.96875 4.859375 -2.46875 C 4.859375 -3.625 4.0625 -4.65625 2.734375 -4.65625 C 2.21875 -4.65625 1.78125 -4.546875 1.5625 -4.46875 L 1.796875 -6.46875 C 2.234375 -6.40625 2.625 -6.359375 3.1875 -6.359375 C 3.546875 -6.359375 3.953125 -6.375 4.453125 -6.421875 L 4.640625 -7.234375 L 4.546875 -7.28125 C 3.875 -7.21875 3.234375 -7.15625 2.59375 -7.15625 C 2.15625 -7.15625 1.734375 -7.171875 1.3125 -7.21875 L 0.90625 -3.78125 C 1.53125 -4.015625 1.984375 -4.0625 2.421875 -4.0625 C 3.1875 -4.0625 3.796875 -3.546875 3.796875 -2.25 Z M 3.796875 -2.25 \"/>\n",
       "</symbol>\n",
       "<symbol overflow=\"visible\" id=\"glyph-1606366588244580-0-11\">\n",
       "<path style=\"stroke:none;\" d=\"M 2.03125 -6.375 L 4.15625 -6.375 C 3.234375 -4.0625 2.28125 -1.734375 1.484375 0.078125 L 1.578125 0.15625 L 2.390625 0.125 C 3.0625 -1.90625 3.71875 -3.890625 5.0625 -7.140625 L 4.859375 -7.28125 C 4.65625 -7.21875 4.40625 -7.15625 3.953125 -7.15625 L 1.484375 -7.15625 C 1.078125 -7.15625 1.109375 -7.265625 0.890625 -7.3125 C 0.859375 -7.3125 0.84375 -7.3125 0.84375 -7.28125 C 0.828125 -6.71875 0.703125 -6 0.609375 -5.375 C 0.734375 -5.34375 0.859375 -5.328125 0.984375 -5.34375 C 1.25 -6.296875 1.640625 -6.375 2.03125 -6.375 Z M 2.03125 -6.375 \"/>\n",
       "</symbol>\n",
       "<symbol overflow=\"visible\" id=\"glyph-1606366588244580-0-12\">\n",
       "<path style=\"stroke:none;\" d=\"M 3.90625 -3.046875 C 3.578125 -1.96875 2.8125 -0.765625 1.234375 -0.171875 C 1.234375 -0.03125 1.28125 0.078125 1.375 0.140625 C 2.578125 -0.21875 3.3125 -0.71875 3.984375 -1.484375 C 4.71875 -2.34375 5.09375 -3.4375 5.09375 -4.375 C 5.09375 -6.796875 3.71875 -7.265625 2.796875 -7.265625 C 1.234375 -7.265625 0.59375 -5.765625 0.59375 -4.734375 C 0.59375 -3.703125 1.140625 -2.796875 2.765625 -2.796875 C 3.078125 -2.796875 3.546875 -2.890625 3.90625 -3.046875 Z M 4 -3.484375 C 3.609375 -3.21875 3.21875 -3.203125 3.015625 -3.203125 C 1.84375 -3.203125 1.578125 -4.34375 1.578125 -4.953125 C 1.578125 -6.265625 2.09375 -6.859375 2.671875 -6.859375 C 3.421875 -6.859375 4.09375 -6.453125 4.09375 -4.40625 C 4.09375 -4.15625 4.078125 -3.828125 4 -3.484375 Z M 4 -3.484375 \"/>\n",
       "</symbol>\n",
       "<symbol overflow=\"visible\" id=\"glyph-1606366588244580-1-0\">\n",
       "<path style=\"stroke:none;\" d=\"M 0 0 L 5.46875 0 L 5.46875 -7.625 L 0 -7.625 Z M 0.875 -0.546875 L 2.734375 -3.3125 L 4.59375 -0.546875 Z M 0.546875 -6.59375 L 2.40625 -3.8125 L 0.546875 -1.03125 Z M 3.0625 -3.8125 L 4.921875 -6.59375 L 4.921875 -1.03125 Z M 2.734375 -4.296875 L 0.875 -7.0625 L 4.59375 -7.0625 Z M 2.734375 -4.296875 \"/>\n",
       "</symbol>\n",
       "<symbol overflow=\"visible\" id=\"glyph-1606366588244580-1-1\">\n",
       "<path style=\"stroke:none;\" d=\"M 2.1875 -3.375 L 2.578125 -2.296875 L 1.546875 -0.796875 C 1.4375 -0.640625 1.328125 -0.59375 1.25 -0.59375 C 1.15625 -0.59375 1.03125 -0.609375 0.953125 -0.65625 C 0.859375 -0.703125 0.75 -0.71875 0.640625 -0.71875 C 0.390625 -0.71875 0.21875 -0.546875 0.21875 -0.3125 C 0.21875 -0.015625 0.59375 0.109375 0.859375 0.109375 C 1.21875 0.109375 1.484375 -0.046875 1.96875 -0.75 L 2.734375 -1.828125 L 3.140625 -0.5 C 3.28125 -0.0625 3.390625 0.109375 3.765625 0.109375 C 4.15625 0.109375 4.625 -0.09375 4.96875 -0.671875 C 4.921875 -0.765625 4.828125 -0.859375 4.703125 -0.875 C 4.421875 -0.515625 4.28125 -0.421875 4.15625 -0.421875 C 4.0625 -0.421875 3.984375 -0.5625 3.90625 -0.828125 L 3.3125 -2.59375 L 4.140625 -3.8125 C 4.3125 -4.0625 4.578125 -4.109375 4.65625 -4.109375 C 4.734375 -4.109375 4.875 -4.078125 4.984375 -4 C 5.0625 -3.9375 5.234375 -3.890625 5.34375 -3.890625 C 5.5 -3.890625 5.6875 -4.109375 5.6875 -4.359375 C 5.6875 -4.625 5.390625 -4.796875 5.140625 -4.796875 C 4.59375 -4.796875 4.234375 -4.609375 3.703125 -3.828125 L 3.15625 -3.046875 L 2.84375 -4.015625 C 2.671875 -4.578125 2.546875 -4.796875 2.265625 -4.796875 C 2.015625 -4.796875 1.21875 -4.34375 0.828125 -4.0625 C 0.84375 -3.9375 0.890625 -3.8125 0.96875 -3.71875 C 1.109375 -3.796875 1.46875 -3.96875 1.6875 -3.96875 C 1.828125 -3.96875 1.9375 -3.9375 2 -3.828125 C 2.046875 -3.75 2.125 -3.578125 2.1875 -3.375 Z M 2.1875 -3.375 \"/>\n",
       "</symbol>\n",
       "<symbol overflow=\"visible\" id=\"glyph-1606366588244580-1-2\">\n",
       "<path style=\"stroke:none;\" d=\"M 4.84375 0 C 4.953125 -0.09375 4.953125 -0.46875 4.84375 -0.5625 L 3.3125 -0.5625 C 2.265625 -0.5625 1.390625 -1.4375 1.25 -2.5625 L 4.75 -2.5625 C 4.84375 -2.671875 4.84375 -3.015625 4.75 -3.109375 L 1.25 -3.109375 C 1.359375 -4.1875 2.15625 -5.109375 3.3125 -5.109375 L 4.84375 -5.109375 C 4.953125 -5.203125 4.953125 -5.578125 4.84375 -5.671875 L 3.359375 -5.671875 C 1.796875 -5.671875 0.546875 -4.375 0.546875 -2.84375 C 0.546875 -1.3125 1.78125 0 3.359375 0 Z M 4.84375 0 \"/>\n",
       "</symbol>\n",
       "<symbol overflow=\"visible\" id=\"glyph-1606366588244580-1-3\">\n",
       "<path style=\"stroke:none;\" d=\"M 0.46875 -3 C 0.46875 -0.59375 1.609375 1.125 3.375 2.03125 L 3.546875 1.71875 C 1.953125 0.671875 1.359375 -0.796875 1.359375 -3 C 1.359375 -5.171875 1.953125 -6.625 3.546875 -7.6875 L 3.375 -7.96875 C 1.609375 -7.078125 0.46875 -5.375 0.46875 -3 Z M 0.46875 -3 \"/>\n",
       "</symbol>\n",
       "<symbol overflow=\"visible\" id=\"glyph-1606366588244580-1-4\">\n",
       "<path style=\"stroke:none;\" d=\"M 3.84375 -7.1875 L 3.171875 -7.1875 L 0.375 -0.21875 C 0.34375 -0.109375 0.328125 -0.109375 0.328125 -0.078125 C 0.328125 -0.015625 0.421875 0 0.5625 0 L 6.328125 0 C 6.515625 0 6.546875 -0.015625 6.546875 -0.0625 C 6.546875 -0.09375 6.546875 -0.125 6.515625 -0.21875 Z M 3.28125 -6.078125 L 3.296875 -6.078125 L 5.46875 -0.375 L 1.0625 -0.375 Z M 3.28125 -6.078125 \"/>\n",
       "</symbol>\n",
       "<symbol overflow=\"visible\" id=\"glyph-1606366588244580-1-5\">\n",
       "<path style=\"stroke:none;\" d=\"M 6.140625 -7.0625 C 6.140625 -7.078125 6.125 -7.09375 6.09375 -7.09375 C 5.90625 -7.0625 5.84375 -7.046875 5.59375 -7.046875 L 2.9375 -7.046875 C 2.53125 -7.046875 2.109375 -7.0625 1.609375 -7.0625 L 1.59375 -7.046875 L 1.546875 -6.828125 C 1.546875 -6.796875 1.546875 -6.75 1.609375 -6.75 L 1.921875 -6.734375 C 2.25 -6.703125 2.390625 -6.625 2.390625 -6.390625 C 2.390625 -6.34375 2.375 -6.296875 2.375 -6.234375 L 1.3125 -0.78125 C 1.25 -0.484375 1.09375 -0.34375 0.671875 -0.3125 L 0.359375 -0.296875 C 0.296875 -0.296875 0.265625 -0.25 0.265625 -0.21875 L 0.21875 0 L 0.234375 0.015625 C 0.734375 0.015625 1.171875 0 1.578125 0 L 3.828125 0 C 4.328125 0 5.15625 0.015625 5.15625 0.015625 C 5.390625 -0.546875 5.65625 -1.234375 5.890625 -1.796875 L 5.578125 -1.859375 C 5.21875 -1.078125 4.6875 -0.421875 3.890625 -0.421875 L 2.46875 -0.421875 C 2.265625 -0.421875 2.140625 -0.46875 2.140625 -0.671875 C 2.140625 -0.703125 2.140625 -0.75 2.15625 -0.78125 L 2.6875 -3.53125 L 4.015625 -3.53125 C 4.34375 -3.53125 4.484375 -3.453125 4.484375 -3.203125 C 4.484375 -3.171875 4.46875 -3.140625 4.46875 -3.109375 L 4.4375 -2.84375 C 4.4375 -2.8125 4.4375 -2.75 4.5 -2.75 L 4.734375 -2.75 L 4.78125 -2.78125 C 4.828125 -3.21875 4.875 -3.515625 4.921875 -3.734375 C 4.953125 -3.953125 5.03125 -4.28125 5.15625 -4.71875 L 5.125 -4.765625 L 4.890625 -4.765625 C 4.84375 -4.765625 4.8125 -4.71875 4.796875 -4.671875 L 4.71875 -4.40625 C 4.625 -4.09375 4.46875 -3.9375 4.109375 -3.9375 L 2.78125 -3.9375 L 3.21875 -6.234375 C 3.265625 -6.5 3.421875 -6.609375 3.671875 -6.609375 L 4.765625 -6.609375 C 5.546875 -6.609375 5.65625 -6.171875 5.75 -5.421875 L 6.046875 -5.46875 C 6.09375 -5.921875 6.140625 -6.96875 6.140625 -7.0625 Z M 6.140625 -7.0625 \"/>\n",
       "</symbol>\n",
       "<symbol overflow=\"visible\" id=\"glyph-1606366588244580-1-6\">\n",
       "<path style=\"stroke:none;\" d=\"M 1.140625 2.1875 L 5.203125 -7.859375 C 5.09375 -7.96875 4.703125 -7.96875 4.609375 -7.859375 L 0.546875 2.1875 C 0.640625 2.28125 1.03125 2.28125 1.140625 2.1875 Z M 1.140625 2.1875 \"/>\n",
       "</symbol>\n",
       "<symbol overflow=\"visible\" id=\"glyph-1606366588244580-1-7\">\n",
       "<path style=\"stroke:none;\" d=\"M 3.421875 -3 C 3.421875 -5.375 2.265625 -7.078125 0.515625 -7.96875 L 0.34375 -7.6875 C 1.9375 -6.625 2.515625 -5.171875 2.515625 -3 C 2.515625 -0.796875 1.9375 0.671875 0.34375 1.71875 L 0.515625 2.03125 C 2.265625 1.125 3.421875 -0.59375 3.421875 -3 Z M 3.421875 -3 \"/>\n",
       "</symbol>\n",
       "<symbol overflow=\"visible\" id=\"glyph-1606366588244580-2-0\">\n",
       "<path style=\"stroke:none;\" d=\"M 0 0 L 5.46875 0 L 5.46875 -7.625 L 0 -7.625 Z M 0.875 -0.546875 L 2.734375 -3.3125 L 4.59375 -0.546875 Z M 0.546875 -6.59375 L 2.40625 -3.8125 L 0.546875 -1.03125 Z M 3.0625 -3.8125 L 4.921875 -6.59375 L 4.921875 -1.03125 Z M 2.734375 -4.296875 L 0.875 -7.0625 L 4.59375 -7.0625 Z M 2.734375 -4.296875 \"/>\n",
       "</symbol>\n",
       "<symbol overflow=\"visible\" id=\"glyph-1606366588244580-2-1\">\n",
       "<path style=\"stroke:none;\" d=\"M 0.53125 -1.5 C 0.5625 -0.96875 0.59375 -0.453125 0.59375 0 C 0.703125 -0.015625 0.8125 -0.03125 0.875 -0.03125 C 0.953125 -0.03125 1.015625 -0.03125 1.09375 -0.015625 C 1.390625 0.0625 1.6875 0.109375 2.09375 0.109375 C 2.703125 0.109375 3.828125 -0.1875 3.828125 -1.265625 C 3.828125 -2.015625 3.28125 -2.453125 2.546875 -2.71875 C 1.890625 -2.96875 1.453125 -3.140625 1.453125 -3.734375 C 1.453125 -4.1875 1.84375 -4.4375 2.21875 -4.4375 C 2.453125 -4.4375 3.09375 -4.34375 3.234375 -3.421875 C 3.296875 -3.359375 3.515625 -3.359375 3.578125 -3.421875 C 3.609375 -3.828125 3.640625 -4.234375 3.640625 -4.59375 C 3.3125 -4.640625 2.78125 -4.796875 2.21875 -4.796875 C 1.40625 -4.796875 0.671875 -4.265625 0.671875 -3.578125 C 0.671875 -2.78125 1.03125 -2.4375 1.875 -2.09375 C 2.78125 -1.71875 3 -1.484375 3 -1.015625 C 3 -0.484375 2.46875 -0.25 2.0625 -0.25 C 1.640625 -0.25 1.390625 -0.390625 1.28125 -0.515625 C 1.046875 -0.765625 0.921875 -1.25 0.859375 -1.515625 C 0.796875 -1.578125 0.59375 -1.578125 0.53125 -1.5 Z M 0.53125 -1.5 \"/>\n",
       "</symbol>\n",
       "<symbol overflow=\"visible\" id=\"glyph-1606366588244580-2-2\">\n",
       "<path style=\"stroke:none;\" d=\"M 2.375 0.109375 C 2.796875 0.109375 3.3125 -0.109375 3.84375 -0.546875 C 3.90625 -0.59375 4 -0.609375 4.015625 -0.53125 C 4.046875 -0.265625 4.125 0.109375 4.125 0.109375 C 4.21875 0.140625 4.265625 0.125 4.34375 0.109375 C 4.578125 -0.09375 4.953125 -0.25 5.625 -0.328125 C 5.6875 -0.390625 5.6875 -0.5625 5.625 -0.625 C 4.921875 -0.671875 4.828125 -0.890625 4.828125 -1.421875 L 4.828125 -3.515625 C 4.828125 -3.84375 4.875 -4.640625 4.875 -4.640625 C 4.875 -4.671875 4.84375 -4.703125 4.78125 -4.703125 C 4.734375 -4.703125 4.5625 -4.6875 4.40625 -4.6875 C 4.046875 -4.6875 3.65625 -4.703125 3.28125 -4.703125 C 3.21875 -4.640625 3.21875 -4.40625 3.28125 -4.34375 C 3.828125 -4.3125 3.96875 -4.1875 3.96875 -3.46875 L 3.96875 -1.359375 C 3.96875 -1.140625 3.9375 -1.0625 3.796875 -0.921875 C 3.390625 -0.578125 2.96875 -0.40625 2.703125 -0.40625 C 2.375 -0.40625 1.828125 -0.5625 1.828125 -1.53125 L 1.828125 -3.515625 C 1.828125 -3.84375 1.875 -4.640625 1.875 -4.640625 C 1.875 -4.671875 1.828125 -4.703125 1.78125 -4.703125 C 1.71875 -4.703125 1.5625 -4.6875 1.390625 -4.6875 C 1.046875 -4.6875 0.65625 -4.703125 0.28125 -4.703125 C 0.21875 -4.640625 0.21875 -4.40625 0.28125 -4.34375 C 0.8125 -4.296875 0.96875 -4.1875 0.96875 -3.46875 L 0.96875 -1.375 C 0.96875 -0.625 1.28125 0.109375 2.375 0.109375 Z M 2.375 0.109375 \"/>\n",
       "</symbol>\n",
       "<symbol overflow=\"visible\" id=\"glyph-1606366588244580-2-3\">\n",
       "<path style=\"stroke:none;\" d=\"M 1.703125 -4.015625 C 1.6875 -4.34375 1.671875 -4.625 1.609375 -4.734375 C 1.59375 -4.796875 1.578125 -4.828125 1.484375 -4.828125 C 1.171875 -4.703125 0.890625 -4.609375 0.140625 -4.515625 C 0.125 -4.4375 0.140625 -4.265625 0.15625 -4.203125 C 0.75 -4.15625 0.875 -4.09375 0.875 -3.46875 L 0.875 1.203125 C 0.875 2.109375 0.75 2.15625 0.09375 2.203125 C 0.015625 2.265625 0.015625 2.484375 0.09375 2.5625 C 0.46875 2.546875 0.875 2.53125 1.3125 2.53125 C 1.75 2.53125 2.265625 2.546875 2.625 2.5625 C 2.703125 2.484375 2.703125 2.265625 2.625 2.203125 C 1.859375 2.15625 1.734375 2.109375 1.734375 1.203125 L 1.734375 0.015625 C 1.734375 -0.125 1.78125 -0.109375 1.890625 -0.0625 C 2.15625 0.046875 2.484375 0.109375 2.84375 0.109375 C 3.453125 0.109375 4 -0.078125 4.4375 -0.5 C 4.953125 -1 5.25 -1.6875 5.25 -2.5625 C 5.25 -3.71875 4.4375 -4.796875 3.3125 -4.796875 C 2.8125 -4.796875 2.265625 -4.46875 1.828125 -3.96875 C 1.765625 -3.90625 1.71875 -3.90625 1.703125 -4.015625 Z M 1.90625 -3.609375 C 2.203125 -3.96875 2.703125 -4.296875 3.015625 -4.296875 C 3.71875 -4.296875 4.3125 -3.5 4.3125 -2.265625 C 4.3125 -1.375 4 -0.265625 2.78125 -0.265625 C 2.578125 -0.265625 2.203125 -0.3125 2 -0.484375 C 1.78125 -0.6875 1.734375 -0.75 1.734375 -1.140625 L 1.734375 -3.140625 C 1.734375 -3.359375 1.78125 -3.46875 1.90625 -3.609375 Z M 1.90625 -3.609375 \"/>\n",
       "</symbol>\n",
       "<symbol overflow=\"visible\" id=\"glyph-1606366588244580-3-0\">\n",
       "<path style=\"stroke:none;\" d=\"M 0 0 L 3.828125 0 L 3.828125 -5.34375 L 0 -5.34375 Z M 0.609375 -0.390625 L 1.921875 -2.328125 L 3.21875 -0.390625 Z M 0.390625 -4.609375 L 1.6875 -2.671875 L 0.390625 -0.734375 Z M 2.140625 -2.671875 L 3.453125 -4.609375 L 3.453125 -0.734375 Z M 1.921875 -3.015625 L 0.609375 -4.953125 L 3.21875 -4.953125 Z M 1.921875 -3.015625 \"/>\n",
       "</symbol>\n",
       "<symbol overflow=\"visible\" id=\"glyph-1606366588244580-3-1\">\n",
       "<path style=\"stroke:none;\" d=\"M 1.296875 -2.734375 C 1.296875 -2.96875 1.28125 -3.25 1.234375 -3.328125 C 1.21875 -3.359375 1.203125 -3.390625 1.15625 -3.390625 C 0.9375 -3.296875 0.734375 -3.234375 0.203125 -3.15625 C 0.1875 -3.109375 0.203125 -3 0.21875 -2.953125 C 0.640625 -2.90625 0.71875 -2.875 0.71875 -2.421875 L 0.71875 -0.9375 C 0.71875 -0.3125 0.625 -0.265625 0.203125 -0.234375 C 0.15625 -0.1875 0.15625 -0.03125 0.203125 0.015625 C 0.421875 0 0.71875 0 1.03125 0 C 1.328125 0 1.5625 0 1.796875 0.015625 C 1.84375 -0.03125 1.84375 -0.1875 1.796875 -0.234375 C 1.40625 -0.28125 1.328125 -0.3125 1.328125 -0.9375 L 1.328125 -2.1875 C 1.328125 -2.34375 1.390625 -2.4375 1.453125 -2.515625 C 1.765625 -2.8125 2.046875 -2.96875 2.28125 -2.96875 C 2.578125 -2.96875 2.78125 -2.78125 2.78125 -2.265625 L 2.78125 -0.9375 C 2.78125 -0.3125 2.71875 -0.265625 2.3125 -0.234375 C 2.28125 -0.1875 2.28125 -0.03125 2.3125 0.015625 C 2.5 0 2.78125 0 3.09375 0 C 3.40625 0 3.65625 0 3.84375 0.015625 C 3.875 -0.03125 3.875 -0.1875 3.84375 -0.234375 C 3.453125 -0.265625 3.390625 -0.3125 3.390625 -0.9375 L 3.390625 -2.15625 C 3.390625 -2.265625 3.390625 -2.359375 3.390625 -2.453125 C 3.75 -2.859375 4.09375 -2.96875 4.390625 -2.96875 C 4.6875 -2.96875 4.859375 -2.796875 4.859375 -2.28125 L 4.859375 -0.9375 C 4.859375 -0.3125 4.78125 -0.265625 4.375 -0.234375 C 4.34375 -0.1875 4.34375 -0.03125 4.375 0.015625 C 4.578125 0 4.859375 0 5.15625 0 C 5.46875 0 5.734375 0 5.953125 0.015625 C 5.984375 -0.03125 5.984375 -0.1875 5.953125 -0.234375 C 5.53125 -0.265625 5.453125 -0.3125 5.453125 -0.9375 L 5.453125 -2.140625 C 5.453125 -2.828125 5.34375 -3.359375 4.671875 -3.359375 C 4.28125 -3.359375 3.8125 -3.21875 3.40625 -2.796875 C 3.390625 -2.765625 3.34375 -2.734375 3.328125 -2.796875 C 3.25 -3.109375 2.953125 -3.359375 2.5625 -3.359375 C 2.109375 -3.359375 1.71875 -3.09375 1.390625 -2.734375 C 1.359375 -2.703125 1.3125 -2.65625 1.296875 -2.734375 Z M 1.296875 -2.734375 \"/>\n",
       "</symbol>\n",
       "<symbol overflow=\"visible\" id=\"glyph-1606366588244580-3-2\">\n",
       "<path style=\"stroke:none;\" d=\"M 2.25 -0.375 C 2.296875 -0.125 2.375 0.078125 2.75 0.078125 C 3.046875 0.078125 3.328125 -0.046875 3.484375 -0.203125 C 3.46875 -0.296875 3.4375 -0.375 3.359375 -0.40625 C 3.296875 -0.375 3.171875 -0.296875 3.0625 -0.296875 C 2.84375 -0.296875 2.84375 -0.59375 2.84375 -0.9375 L 2.84375 -2.0625 C 2.84375 -3.15625 2.25 -3.359375 1.6875 -3.359375 C 1.0625 -3.359375 0.421875 -2.953125 0.421875 -2.515625 C 0.421875 -2.328125 0.515625 -2.234375 0.6875 -2.234375 C 0.90625 -2.234375 1.046875 -2.390625 1.046875 -2.5 C 1.046875 -2.546875 1.046875 -2.609375 1.03125 -2.640625 C 1.015625 -2.65625 1.015625 -2.703125 1.015625 -2.78125 C 1.015625 -3.03125 1.328125 -3.109375 1.625 -3.109375 C 1.890625 -3.109375 2.25 -2.984375 2.25 -2.109375 C 2.25 -2.0625 2.21875 -2.03125 2.203125 -2.015625 L 1.53125 -1.859375 C 0.796875 -1.671875 0.28125 -1.265625 0.28125 -0.75 C 0.28125 -0.125 0.703125 0.078125 1.234375 0.078125 C 1.515625 0.078125 1.734375 0.015625 2.078125 -0.25 L 2.234375 -0.375 Z M 2.25 -1.78125 L 2.25 -0.765625 C 2.25 -0.671875 2.203125 -0.625 2.140625 -0.578125 C 1.9375 -0.40625 1.671875 -0.234375 1.46875 -0.234375 C 1.078125 -0.234375 0.90625 -0.546875 0.90625 -0.78125 C 0.90625 -1.125 1.078125 -1.484375 1.640625 -1.625 Z M 2.25 -1.78125 \"/>\n",
       "</symbol>\n",
       "<symbol overflow=\"visible\" id=\"glyph-1606366588244580-3-3\">\n",
       "<path style=\"stroke:none;\" d=\"M 1.390625 -2.734375 C 1.21875 -3 1.265625 -3.015625 1.609375 -3.046875 C 1.65625 -3.09375 1.65625 -3.25 1.609375 -3.296875 C 1.40625 -3.296875 1.078125 -3.28125 0.84375 -3.28125 C 0.609375 -3.28125 0.390625 -3.296875 0.1875 -3.296875 C 0.140625 -3.25 0.140625 -3.09375 0.1875 -3.046875 C 0.4375 -3.03125 0.65625 -2.890625 0.875 -2.578125 L 1.53125 -1.609375 C 1.578125 -1.546875 1.578125 -1.53125 1.546875 -1.5 L 0.90625 -0.671875 C 0.59375 -0.28125 0.421875 -0.25 0.15625 -0.234375 C 0.109375 -0.1875 0.109375 -0.03125 0.15625 0.015625 C 0.3125 0 0.484375 0 0.71875 0 C 0.9375 0 1.15625 0 1.359375 0.015625 C 1.40625 -0.03125 1.40625 -0.1875 1.359375 -0.234375 C 1.078125 -0.265625 1.015625 -0.296875 1.1875 -0.546875 L 1.671875 -1.234375 C 1.734375 -1.328125 1.765625 -1.328125 1.8125 -1.25 L 2.25 -0.640625 C 2.515625 -0.28125 2.390625 -0.265625 2.15625 -0.234375 C 2.109375 -0.1875 2.109375 -0.03125 2.15625 0.015625 C 2.375 0 2.640625 0 2.90625 0 C 3.203125 0 3.40625 0 3.59375 0.015625 C 3.640625 -0.03125 3.640625 -0.1875 3.59375 -0.234375 C 3.25 -0.265625 3.125 -0.28125 2.828125 -0.71875 L 2.140625 -1.6875 C 2.109375 -1.734375 2.09375 -1.765625 2.140625 -1.8125 L 2.78125 -2.625 C 3.0625 -2.984375 3.25 -3.03125 3.515625 -3.046875 C 3.5625 -3.09375 3.5625 -3.25 3.515625 -3.296875 C 3.375 -3.296875 3.1875 -3.28125 2.96875 -3.28125 C 2.734375 -3.28125 2.515625 -3.296875 2.3125 -3.296875 C 2.28125 -3.25 2.28125 -3.09375 2.3125 -3.046875 C 2.609375 -3.015625 2.6875 -3 2.5 -2.734375 L 2 -2.03125 C 1.953125 -1.953125 1.921875 -1.96875 1.859375 -2.046875 Z M 1.390625 -2.734375 \"/>\n",
       "</symbol>\n",
       "<symbol overflow=\"visible\" id=\"glyph-1606366588244580-4-0\">\n",
       "<path style=\"stroke:none;\" d=\"M 0 0 L 0 -5.46875 L -7.625 -5.46875 L -7.625 0 Z M -0.546875 -0.875 L -3.3125 -2.734375 L -0.546875 -4.59375 Z M -6.59375 -0.546875 L -3.8125 -2.40625 L -1.03125 -0.546875 Z M -3.8125 -3.0625 L -6.59375 -4.921875 L -1.03125 -4.921875 Z M -4.296875 -2.734375 L -7.0625 -0.875 L -7.0625 -4.59375 Z M -4.296875 -2.734375 \"/>\n",
       "</symbol>\n",
       "<symbol overflow=\"visible\" id=\"glyph-1606366588244580-4-1\">\n",
       "<path style=\"stroke:none;\" d=\"M -0.78125 -1.296875 C -0.46875 -1.25 -0.34375 -1.0625 -0.3125 -0.640625 L -0.296875 -0.359375 C -0.296875 -0.3125 -0.265625 -0.265625 -0.203125 -0.265625 L 0 -0.21875 L 0.015625 -0.234375 C 0.015625 -0.625 0 -1.140625 0 -1.578125 C 0 -2 0.015625 -2.515625 0.015625 -3.015625 L 0 -3.03125 L -0.203125 -3.078125 C -0.265625 -3.09375 -0.296875 -3.0625 -0.296875 -3.015625 L -0.3125 -2.625 C -0.34375 -2.296875 -0.421875 -2.140625 -0.640625 -2.140625 C -0.671875 -2.140625 -0.71875 -2.140625 -0.78125 -2.15625 L -3.1875 -2.625 C -3.109375 -2.84375 -3.078125 -3.03125 -3.078125 -3.390625 C -3.078125 -5.3125 -4.375 -6.109375 -5.3125 -6.28125 C -5.421875 -6.296875 -5.53125 -6.3125 -5.65625 -6.3125 C -6.296875 -6.3125 -7.140625 -5.9375 -7.140625 -4.328125 C -7.140625 -4.046875 -7.046875 -3.375 -7.046875 -2.953125 C -7.046875 -2.53125 -7.0625 -2 -7.0625 -1.609375 L -7.046875 -1.578125 L -6.8125 -1.546875 C -6.765625 -1.53125 -6.75 -1.546875 -6.75 -1.59375 L -6.734375 -2 C -6.71875 -2.15625 -6.640625 -2.375 -6.375 -2.375 C -6.34375 -2.375 -6.296875 -2.375 -6.265625 -2.375 Z M -6.265625 -3.21875 C -6.59375 -3.28125 -6.765625 -3.421875 -6.765625 -4.171875 C -6.765625 -4.796875 -6.578125 -5.390625 -5.671875 -5.390625 C -5.515625 -5.390625 -5.328125 -5.359375 -5.109375 -5.3125 C -3.9375 -5.09375 -3.453125 -4.4375 -3.453125 -3.421875 C -3.453125 -3.15625 -3.46875 -2.796875 -3.5 -2.6875 Z M -6.265625 -3.21875 \"/>\n",
       "</symbol>\n",
       "<symbol overflow=\"visible\" id=\"glyph-1606366588244580-4-2\">\n",
       "<path style=\"stroke:none;\" d=\"M -3 -0.46875 C -0.59375 -0.46875 1.125 -1.609375 2.03125 -3.375 L 1.71875 -3.546875 C 0.671875 -1.953125 -0.796875 -1.359375 -3 -1.359375 C -5.171875 -1.359375 -6.625 -1.953125 -7.6875 -3.546875 L -7.96875 -3.375 C -7.078125 -1.609375 -5.375 -0.46875 -3 -0.46875 Z M -3 -0.46875 \"/>\n",
       "</symbol>\n",
       "<symbol overflow=\"visible\" id=\"glyph-1606366588244580-4-3\">\n",
       "<path style=\"stroke:none;\" d=\"M -7.1875 -3.84375 L -7.1875 -3.171875 L -0.21875 -0.375 C -0.109375 -0.34375 -0.109375 -0.328125 -0.078125 -0.328125 C -0.015625 -0.328125 0 -0.421875 0 -0.5625 L 0 -6.328125 C 0 -6.515625 -0.015625 -6.546875 -0.0625 -6.546875 C -0.09375 -6.546875 -0.125 -6.546875 -0.21875 -6.515625 Z M -6.078125 -3.28125 L -6.078125 -3.296875 L -0.375 -5.46875 L -0.375 -1.0625 Z M -6.078125 -3.28125 \"/>\n",
       "</symbol>\n",
       "<symbol overflow=\"visible\" id=\"glyph-1606366588244580-4-4\">\n",
       "<path style=\"stroke:none;\" d=\"M -7.0625 -6.140625 C -7.078125 -6.140625 -7.09375 -6.125 -7.09375 -6.09375 C -7.0625 -5.90625 -7.046875 -5.84375 -7.046875 -5.59375 L -7.046875 -2.9375 C -7.046875 -2.53125 -7.0625 -2.109375 -7.0625 -1.609375 L -7.046875 -1.59375 L -6.828125 -1.546875 C -6.796875 -1.546875 -6.75 -1.546875 -6.75 -1.609375 L -6.734375 -1.921875 C -6.703125 -2.25 -6.625 -2.390625 -6.390625 -2.390625 C -6.34375 -2.390625 -6.296875 -2.375 -6.234375 -2.375 L -0.78125 -1.3125 C -0.484375 -1.25 -0.34375 -1.09375 -0.3125 -0.671875 L -0.296875 -0.359375 C -0.296875 -0.296875 -0.25 -0.265625 -0.21875 -0.265625 L 0 -0.21875 L 0.015625 -0.234375 C 0.015625 -0.734375 0 -1.171875 0 -1.578125 L 0 -3.828125 C 0 -4.328125 0.015625 -5.15625 0.015625 -5.15625 C -0.546875 -5.390625 -1.234375 -5.65625 -1.796875 -5.890625 L -1.859375 -5.578125 C -1.078125 -5.21875 -0.421875 -4.6875 -0.421875 -3.890625 L -0.421875 -2.46875 C -0.421875 -2.265625 -0.46875 -2.140625 -0.671875 -2.140625 C -0.703125 -2.140625 -0.75 -2.140625 -0.78125 -2.15625 L -3.53125 -2.6875 L -3.53125 -4.015625 C -3.53125 -4.34375 -3.453125 -4.484375 -3.203125 -4.484375 C -3.171875 -4.484375 -3.140625 -4.46875 -3.109375 -4.46875 L -2.84375 -4.4375 C -2.8125 -4.4375 -2.75 -4.4375 -2.75 -4.5 L -2.75 -4.734375 L -2.78125 -4.78125 C -3.21875 -4.828125 -3.515625 -4.875 -3.734375 -4.921875 C -3.953125 -4.953125 -4.28125 -5.03125 -4.71875 -5.15625 L -4.765625 -5.125 L -4.765625 -4.890625 C -4.765625 -4.84375 -4.71875 -4.8125 -4.671875 -4.796875 L -4.40625 -4.71875 C -4.09375 -4.625 -3.9375 -4.46875 -3.9375 -4.109375 L -3.9375 -2.78125 L -6.234375 -3.21875 C -6.5 -3.265625 -6.609375 -3.421875 -6.609375 -3.671875 L -6.609375 -4.765625 C -6.609375 -5.546875 -6.171875 -5.65625 -5.421875 -5.75 L -5.46875 -6.046875 C -5.921875 -6.09375 -6.96875 -6.140625 -7.0625 -6.140625 Z M -7.0625 -6.140625 \"/>\n",
       "</symbol>\n",
       "<symbol overflow=\"visible\" id=\"glyph-1606366588244580-4-5\">\n",
       "<path style=\"stroke:none;\" d=\"M 2.1875 -1.140625 L -7.859375 -5.203125 C -7.96875 -5.09375 -7.96875 -4.703125 -7.859375 -4.609375 L 2.1875 -0.546875 C 2.28125 -0.640625 2.28125 -1.03125 2.1875 -1.140625 Z M 2.1875 -1.140625 \"/>\n",
       "</symbol>\n",
       "<symbol overflow=\"visible\" id=\"glyph-1606366588244580-4-6\">\n",
       "<path style=\"stroke:none;\" d=\"M -3.6875 -1.203125 L -6.234375 -6.4375 C -6.375 -6.5625 -6.71875 -6.5625 -6.84375 -6.4375 L -4.03125 -0.640625 C -3.96875 -0.578125 -3.796875 -0.546875 -3.6875 -0.546875 C -3.59375 -0.546875 -3.421875 -0.578125 -3.359375 -0.640625 L -0.53125 -6.4375 C -0.671875 -6.5625 -1.015625 -6.5625 -1.140625 -6.4375 Z M 0.5625 -6.4375 L -2.265625 -0.640625 C -2.203125 -0.578125 -2.09375 -0.546875 -1.984375 -0.546875 C -1.890625 -0.546875 -1.71875 -0.578125 -1.65625 -0.640625 L 1.171875 -6.4375 C 1.03125 -6.5625 0.6875 -6.5625 0.5625 -6.4375 Z M 0.5625 -6.4375 \"/>\n",
       "</symbol>\n",
       "<symbol overflow=\"visible\" id=\"glyph-1606366588244580-4-7\">\n",
       "<path style=\"stroke:none;\" d=\"M -3.375 -2.1875 L -2.296875 -2.578125 L -0.796875 -1.546875 C -0.640625 -1.4375 -0.59375 -1.328125 -0.59375 -1.25 C -0.59375 -1.15625 -0.609375 -1.03125 -0.65625 -0.953125 C -0.703125 -0.859375 -0.71875 -0.75 -0.71875 -0.640625 C -0.71875 -0.390625 -0.546875 -0.21875 -0.3125 -0.21875 C -0.015625 -0.21875 0.109375 -0.59375 0.109375 -0.859375 C 0.109375 -1.21875 -0.046875 -1.484375 -0.75 -1.96875 L -1.828125 -2.734375 L -0.5 -3.140625 C -0.0625 -3.28125 0.109375 -3.390625 0.109375 -3.765625 C 0.109375 -4.15625 -0.09375 -4.625 -0.671875 -4.96875 C -0.765625 -4.921875 -0.859375 -4.828125 -0.875 -4.703125 C -0.515625 -4.421875 -0.421875 -4.28125 -0.421875 -4.15625 C -0.421875 -4.0625 -0.5625 -3.984375 -0.828125 -3.90625 L -2.59375 -3.3125 L -3.8125 -4.140625 C -4.0625 -4.3125 -4.109375 -4.578125 -4.109375 -4.65625 C -4.109375 -4.734375 -4.078125 -4.875 -4 -4.984375 C -3.9375 -5.0625 -3.890625 -5.234375 -3.890625 -5.34375 C -3.890625 -5.5 -4.109375 -5.6875 -4.359375 -5.6875 C -4.625 -5.6875 -4.796875 -5.390625 -4.796875 -5.140625 C -4.796875 -4.59375 -4.609375 -4.234375 -3.828125 -3.703125 L -3.046875 -3.15625 L -4.015625 -2.84375 C -4.578125 -2.671875 -4.796875 -2.546875 -4.796875 -2.265625 C -4.796875 -2.015625 -4.34375 -1.21875 -4.0625 -0.828125 C -3.9375 -0.84375 -3.8125 -0.890625 -3.71875 -0.96875 C -3.796875 -1.109375 -3.96875 -1.46875 -3.96875 -1.6875 C -3.96875 -1.828125 -3.9375 -1.9375 -3.828125 -2 C -3.75 -2.046875 -3.578125 -2.125 -3.375 -2.1875 Z M -3.375 -2.1875 \"/>\n",
       "</symbol>\n",
       "<symbol overflow=\"visible\" id=\"glyph-1606366588244580-4-8\">\n",
       "<path style=\"stroke:none;\" d=\"M -3 -3.421875 C -5.375 -3.421875 -7.078125 -2.265625 -7.96875 -0.515625 L -7.6875 -0.34375 C -6.625 -1.9375 -5.171875 -2.515625 -3 -2.515625 C -0.796875 -2.515625 0.671875 -1.9375 1.71875 -0.34375 L 2.03125 -0.515625 C 1.125 -2.265625 -0.59375 -3.421875 -3 -3.421875 Z M -3 -3.421875 \"/>\n",
       "</symbol>\n",
       "<symbol overflow=\"visible\" id=\"glyph-1606366588244580-5-0\">\n",
       "<path style=\"stroke:none;\" d=\"M 0 0 L 0 -3.828125 L -5.34375 -3.828125 L -5.34375 0 Z M -0.390625 -0.609375 L -2.328125 -1.921875 L -0.390625 -3.21875 Z M -4.609375 -0.390625 L -2.671875 -1.6875 L -0.734375 -0.390625 Z M -2.671875 -2.140625 L -4.609375 -3.453125 L -0.734375 -3.453125 Z M -3.015625 -1.921875 L -4.953125 -0.609375 L -4.953125 -3.21875 Z M -3.015625 -1.921875 \"/>\n",
       "</symbol>\n",
       "<symbol overflow=\"visible\" id=\"glyph-1606366588244580-5-1\">\n",
       "<path style=\"stroke:none;\" d=\"M -2.734375 -1.296875 C -2.96875 -1.296875 -3.25 -1.28125 -3.328125 -1.234375 C -3.359375 -1.21875 -3.390625 -1.203125 -3.390625 -1.15625 C -3.296875 -0.9375 -3.234375 -0.734375 -3.15625 -0.203125 C -3.109375 -0.1875 -3 -0.203125 -2.953125 -0.21875 C -2.90625 -0.640625 -2.875 -0.71875 -2.421875 -0.71875 L -0.9375 -0.71875 C -0.3125 -0.71875 -0.265625 -0.625 -0.234375 -0.203125 C -0.1875 -0.15625 -0.03125 -0.15625 0.015625 -0.203125 C 0 -0.421875 0 -0.71875 0 -1.03125 C 0 -1.328125 0 -1.5625 0.015625 -1.796875 C -0.03125 -1.84375 -0.1875 -1.84375 -0.234375 -1.796875 C -0.28125 -1.40625 -0.3125 -1.328125 -0.9375 -1.328125 L -2.1875 -1.328125 C -2.34375 -1.328125 -2.4375 -1.390625 -2.515625 -1.453125 C -2.8125 -1.765625 -2.96875 -2.046875 -2.96875 -2.28125 C -2.96875 -2.578125 -2.78125 -2.78125 -2.265625 -2.78125 L -0.9375 -2.78125 C -0.3125 -2.78125 -0.265625 -2.71875 -0.234375 -2.3125 C -0.1875 -2.28125 -0.03125 -2.28125 0.015625 -2.3125 C 0 -2.5 0 -2.78125 0 -3.09375 C 0 -3.40625 0 -3.65625 0.015625 -3.84375 C -0.03125 -3.875 -0.1875 -3.875 -0.234375 -3.84375 C -0.265625 -3.453125 -0.3125 -3.390625 -0.9375 -3.390625 L -2.15625 -3.390625 C -2.265625 -3.390625 -2.359375 -3.390625 -2.453125 -3.390625 C -2.859375 -3.75 -2.96875 -4.09375 -2.96875 -4.390625 C -2.96875 -4.6875 -2.796875 -4.859375 -2.28125 -4.859375 L -0.9375 -4.859375 C -0.3125 -4.859375 -0.265625 -4.78125 -0.234375 -4.375 C -0.1875 -4.34375 -0.03125 -4.34375 0.015625 -4.375 C 0 -4.578125 0 -4.859375 0 -5.15625 C 0 -5.46875 0 -5.734375 0.015625 -5.953125 C -0.03125 -5.984375 -0.1875 -5.984375 -0.234375 -5.953125 C -0.265625 -5.53125 -0.3125 -5.453125 -0.9375 -5.453125 L -2.140625 -5.453125 C -2.828125 -5.453125 -3.359375 -5.34375 -3.359375 -4.671875 C -3.359375 -4.28125 -3.21875 -3.8125 -2.796875 -3.40625 C -2.765625 -3.390625 -2.734375 -3.34375 -2.796875 -3.328125 C -3.109375 -3.25 -3.359375 -2.953125 -3.359375 -2.5625 C -3.359375 -2.109375 -3.09375 -1.71875 -2.734375 -1.390625 C -2.703125 -1.359375 -2.65625 -1.3125 -2.734375 -1.296875 Z M -2.734375 -1.296875 \"/>\n",
       "</symbol>\n",
       "<symbol overflow=\"visible\" id=\"glyph-1606366588244580-5-2\">\n",
       "<path style=\"stroke:none;\" d=\"M -0.375 -2.25 C -0.125 -2.296875 0.078125 -2.375 0.078125 -2.75 C 0.078125 -3.046875 -0.046875 -3.328125 -0.203125 -3.484375 C -0.296875 -3.46875 -0.375 -3.4375 -0.40625 -3.359375 C -0.375 -3.296875 -0.296875 -3.171875 -0.296875 -3.0625 C -0.296875 -2.84375 -0.59375 -2.84375 -0.9375 -2.84375 L -2.0625 -2.84375 C -3.15625 -2.84375 -3.359375 -2.25 -3.359375 -1.6875 C -3.359375 -1.0625 -2.953125 -0.421875 -2.515625 -0.421875 C -2.328125 -0.421875 -2.234375 -0.515625 -2.234375 -0.6875 C -2.234375 -0.90625 -2.390625 -1.046875 -2.5 -1.046875 C -2.546875 -1.046875 -2.609375 -1.046875 -2.640625 -1.03125 C -2.65625 -1.015625 -2.703125 -1.015625 -2.78125 -1.015625 C -3.03125 -1.015625 -3.109375 -1.328125 -3.109375 -1.625 C -3.109375 -1.890625 -2.984375 -2.25 -2.109375 -2.25 C -2.0625 -2.25 -2.03125 -2.21875 -2.015625 -2.203125 L -1.859375 -1.53125 C -1.671875 -0.796875 -1.265625 -0.28125 -0.75 -0.28125 C -0.125 -0.28125 0.078125 -0.703125 0.078125 -1.234375 C 0.078125 -1.515625 0.015625 -1.734375 -0.25 -2.078125 L -0.375 -2.234375 Z M -1.78125 -2.25 L -0.765625 -2.25 C -0.671875 -2.25 -0.625 -2.203125 -0.578125 -2.140625 C -0.40625 -1.9375 -0.234375 -1.671875 -0.234375 -1.46875 C -0.234375 -1.078125 -0.546875 -0.90625 -0.78125 -0.90625 C -1.125 -0.90625 -1.484375 -1.078125 -1.625 -1.640625 Z M -1.78125 -2.25 \"/>\n",
       "</symbol>\n",
       "<symbol overflow=\"visible\" id=\"glyph-1606366588244580-5-3\">\n",
       "<path style=\"stroke:none;\" d=\"M -2.734375 -1.390625 C -3 -1.21875 -3.015625 -1.265625 -3.046875 -1.609375 C -3.09375 -1.65625 -3.25 -1.65625 -3.296875 -1.609375 C -3.296875 -1.40625 -3.28125 -1.078125 -3.28125 -0.84375 C -3.28125 -0.609375 -3.296875 -0.390625 -3.296875 -0.1875 C -3.25 -0.140625 -3.09375 -0.140625 -3.046875 -0.1875 C -3.03125 -0.4375 -2.890625 -0.65625 -2.578125 -0.875 L -1.609375 -1.53125 C -1.546875 -1.578125 -1.53125 -1.578125 -1.5 -1.546875 L -0.671875 -0.90625 C -0.28125 -0.59375 -0.25 -0.421875 -0.234375 -0.15625 C -0.1875 -0.109375 -0.03125 -0.109375 0.015625 -0.15625 C 0 -0.3125 0 -0.484375 0 -0.71875 C 0 -0.9375 0 -1.15625 0.015625 -1.359375 C -0.03125 -1.40625 -0.1875 -1.40625 -0.234375 -1.359375 C -0.265625 -1.078125 -0.296875 -1.015625 -0.546875 -1.1875 L -1.234375 -1.671875 C -1.328125 -1.734375 -1.328125 -1.765625 -1.25 -1.8125 L -0.640625 -2.25 C -0.28125 -2.515625 -0.265625 -2.390625 -0.234375 -2.15625 C -0.1875 -2.109375 -0.03125 -2.109375 0.015625 -2.15625 C 0 -2.375 0 -2.640625 0 -2.90625 C 0 -3.203125 0 -3.40625 0.015625 -3.59375 C -0.03125 -3.640625 -0.1875 -3.640625 -0.234375 -3.59375 C -0.265625 -3.25 -0.28125 -3.125 -0.71875 -2.828125 L -1.6875 -2.140625 C -1.734375 -2.109375 -1.765625 -2.09375 -1.8125 -2.140625 L -2.625 -2.78125 C -2.984375 -3.0625 -3.03125 -3.25 -3.046875 -3.515625 C -3.09375 -3.5625 -3.25 -3.5625 -3.296875 -3.515625 C -3.296875 -3.375 -3.28125 -3.1875 -3.28125 -2.96875 C -3.28125 -2.734375 -3.296875 -2.515625 -3.296875 -2.3125 C -3.25 -2.28125 -3.09375 -2.28125 -3.046875 -2.3125 C -3.015625 -2.609375 -3 -2.6875 -2.734375 -2.5 L -2.03125 -2 C -1.953125 -1.953125 -1.96875 -1.921875 -2.046875 -1.859375 Z M -2.734375 -1.390625 \"/>\n",
       "</symbol>\n",
       "</g>\n",
       "<clipPath id=\"clip-1606366588244580-1\">\n",
       "  <path d=\"M 37.699219 7.242188 L 280.179688 7.242188 L 280.179688 177.921875 L 37.699219 177.921875 Z M 37.699219 7.242188 \"/>\n",
       "</clipPath>\n",
       "</defs>\n",
       "<g id=\"surface1\">\n",
       "<path style=\" stroke:none;fill-rule:nonzero;fill:rgb(100%,100%,100%);fill-opacity:1;\" d=\"M 37.699219 177.921875 L 280.179688 177.921875 L 280.179688 7.242188 L 37.699219 7.242188 Z M 37.699219 177.921875 \"/>\n",
       "<path style=\"fill:none;stroke-width:0.49814;stroke-linecap:butt;stroke-linejoin:miter;stroke:rgb(13.331604%,13.331604%,33.332825%);stroke-opacity:0.1;stroke-miterlimit:10;\" d=\"M -0.000187204 0.00132667 L -0.000187204 171.168136 M 48.634315 0.00132667 L 48.634315 171.168136 M 97.268817 0.00132667 L 97.268817 171.168136 M 145.903319 0.00132667 L 145.903319 171.168136 M 194.537822 0.00132667 L 194.537822 171.168136 M 243.172324 0.00132667 L 243.172324 171.168136 \" transform=\"matrix(0.997154,0,0,-0.997154,37.699405,177.923198)\"/>\n",
       "<path style=\"fill:none;stroke-width:0.49814;stroke-linecap:butt;stroke-linejoin:miter;stroke:rgb(13.331604%,13.331604%,33.332825%);stroke-opacity:0.1;stroke-miterlimit:10;\" d=\"M -0.000187204 0.00132667 L 243.172324 0.00132667 M -0.000187204 34.235472 L 243.172324 34.235472 M -0.000187204 68.469617 L 243.172324 68.469617 M -0.000187204 102.703763 L 243.172324 102.703763 M -0.000187204 136.933991 L 243.172324 136.933991 M -0.000187204 171.168136 L 243.172324 171.168136 \" transform=\"matrix(0.997154,0,0,-0.997154,37.699405,177.923198)\"/>\n",
       "<path style=\"fill:none;stroke-width:0.19925;stroke-linecap:butt;stroke-linejoin:miter;stroke:rgb(50%,50%,50%);stroke-opacity:1;stroke-miterlimit:10;\" d=\"M -0.000187204 0.00132667 L -0.000187204 4.251704 M 48.634315 0.00132667 L 48.634315 4.251704 M 97.268817 0.00132667 L 97.268817 4.251704 M 145.903319 0.00132667 L 145.903319 4.251704 M 194.537822 0.00132667 L 194.537822 4.251704 M 243.172324 0.00132667 L 243.172324 4.251704 M -0.000187204 171.168136 L -0.000187204 166.917759 M 48.634315 171.168136 L 48.634315 166.917759 M 97.268817 171.168136 L 97.268817 166.917759 M 145.903319 171.168136 L 145.903319 166.917759 M 194.537822 171.168136 L 194.537822 166.917759 M 243.172324 171.168136 L 243.172324 166.917759 \" transform=\"matrix(0.997154,0,0,-0.997154,37.699405,177.923198)\"/>\n",
       "<path style=\"fill:none;stroke-width:0.19925;stroke-linecap:butt;stroke-linejoin:miter;stroke:rgb(50%,50%,50%);stroke-opacity:1;stroke-miterlimit:10;\" d=\"M -0.000187204 0.00132667 L 4.254108 0.00132667 M -0.000187204 34.235472 L 4.254108 34.235472 M -0.000187204 68.469617 L 4.254108 68.469617 M -0.000187204 102.703763 L 4.254108 102.703763 M -0.000187204 136.933991 L 4.254108 136.933991 M -0.000187204 171.168136 L 4.254108 171.168136 M 243.172324 0.00132667 L 238.918029 0.00132667 M 243.172324 34.235472 L 238.918029 34.235472 M 243.172324 68.469617 L 238.918029 68.469617 M 243.172324 102.703763 L 238.918029 102.703763 M 243.172324 136.933991 L 238.918029 136.933991 M 243.172324 171.168136 L 238.918029 171.168136 \" transform=\"matrix(0.997154,0,0,-0.997154,37.699405,177.923198)\"/>\n",
       "<g style=\"fill:rgb(0%,0%,0%);fill-opacity:1;\">\n",
       "  <use xlink:href=\"#glyph-1606366588244580-0-1\" x=\"30.844968\" y=\"188.704428\"/>\n",
       "  <use xlink:href=\"#glyph-1606366588244580-0-2\" x=\"36.388301\" y=\"188.704428\"/>\n",
       "  <use xlink:href=\"#glyph-1606366588244580-0-1\" x=\"39.010954\" y=\"188.704428\"/>\n",
       "</g>\n",
       "<g style=\"fill:rgb(0%,0%,0%);fill-opacity:1;\">\n",
       "  <use xlink:href=\"#glyph-1606366588244580-0-1\" x=\"79.339564\" y=\"188.704428\"/>\n",
       "  <use xlink:href=\"#glyph-1606366588244580-0-2\" x=\"84.882897\" y=\"188.704428\"/>\n",
       "  <use xlink:href=\"#glyph-1606366588244580-0-3\" x=\"87.50555\" y=\"188.704428\"/>\n",
       "</g>\n",
       "<g style=\"fill:rgb(0%,0%,0%);fill-opacity:1;\">\n",
       "  <use xlink:href=\"#glyph-1606366588244580-0-1\" x=\"127.835157\" y=\"188.704428\"/>\n",
       "  <use xlink:href=\"#glyph-1606366588244580-0-2\" x=\"133.37849\" y=\"188.704428\"/>\n",
       "  <use xlink:href=\"#glyph-1606366588244580-0-4\" x=\"136.001142\" y=\"188.704428\"/>\n",
       "</g>\n",
       "<g style=\"fill:rgb(0%,0%,0%);fill-opacity:1;\">\n",
       "  <use xlink:href=\"#glyph-1606366588244580-0-1\" x=\"176.329753\" y=\"188.716394\"/>\n",
       "  <use xlink:href=\"#glyph-1606366588244580-0-2\" x=\"181.873086\" y=\"188.716394\"/>\n",
       "  <use xlink:href=\"#glyph-1606366588244580-0-5\" x=\"184.495738\" y=\"188.716394\"/>\n",
       "</g>\n",
       "<g style=\"fill:rgb(0%,0%,0%);fill-opacity:1;\">\n",
       "  <use xlink:href=\"#glyph-1606366588244580-0-1\" x=\"224.825346\" y=\"188.704428\"/>\n",
       "  <use xlink:href=\"#glyph-1606366588244580-0-2\" x=\"230.368679\" y=\"188.704428\"/>\n",
       "  <use xlink:href=\"#glyph-1606366588244580-0-6\" x=\"232.991331\" y=\"188.704428\"/>\n",
       "</g>\n",
       "<g style=\"fill:rgb(0%,0%,0%);fill-opacity:1;\">\n",
       "  <use xlink:href=\"#glyph-1606366588244580-0-7\" x=\"273.319941\" y=\"188.704428\"/>\n",
       "  <use xlink:href=\"#glyph-1606366588244580-0-2\" x=\"278.863275\" y=\"188.704428\"/>\n",
       "  <use xlink:href=\"#glyph-1606366588244580-0-1\" x=\"281.485927\" y=\"188.704428\"/>\n",
       "</g>\n",
       "<g style=\"fill:rgb(0%,0%,0%);fill-opacity:1;\">\n",
       "  <use xlink:href=\"#glyph-1606366588244580-0-1\" x=\"20.480548\" y=\"181.498993\"/>\n",
       "  <use xlink:href=\"#glyph-1606366588244580-0-2\" x=\"26.023882\" y=\"181.498993\"/>\n",
       "  <use xlink:href=\"#glyph-1606366588244580-0-1\" x=\"28.646534\" y=\"181.498993\"/>\n",
       "</g>\n",
       "<g style=\"fill:rgb(0%,0%,0%);fill-opacity:1;\">\n",
       "  <use xlink:href=\"#glyph-1606366588244580-0-1\" x=\"20.480548\" y=\"147.363416\"/>\n",
       "  <use xlink:href=\"#glyph-1606366588244580-0-2\" x=\"26.023882\" y=\"147.363416\"/>\n",
       "  <use xlink:href=\"#glyph-1606366588244580-0-3\" x=\"28.646534\" y=\"147.363416\"/>\n",
       "</g>\n",
       "<g style=\"fill:rgb(0%,0%,0%);fill-opacity:1;\">\n",
       "  <use xlink:href=\"#glyph-1606366588244580-0-1\" x=\"20.480548\" y=\"113.226842\"/>\n",
       "  <use xlink:href=\"#glyph-1606366588244580-0-2\" x=\"26.023882\" y=\"113.226842\"/>\n",
       "  <use xlink:href=\"#glyph-1606366588244580-0-4\" x=\"28.646534\" y=\"113.226842\"/>\n",
       "</g>\n",
       "<g style=\"fill:rgb(0%,0%,0%);fill-opacity:1;\">\n",
       "  <use xlink:href=\"#glyph-1606366588244580-0-1\" x=\"20.480548\" y=\"79.091265\"/>\n",
       "  <use xlink:href=\"#glyph-1606366588244580-0-2\" x=\"26.023882\" y=\"79.091265\"/>\n",
       "  <use xlink:href=\"#glyph-1606366588244580-0-5\" x=\"28.646534\" y=\"79.091265\"/>\n",
       "</g>\n",
       "<g style=\"fill:rgb(0%,0%,0%);fill-opacity:1;\">\n",
       "  <use xlink:href=\"#glyph-1606366588244580-0-1\" x=\"20.480548\" y=\"44.954692\"/>\n",
       "  <use xlink:href=\"#glyph-1606366588244580-0-2\" x=\"26.023882\" y=\"44.954692\"/>\n",
       "  <use xlink:href=\"#glyph-1606366588244580-0-6\" x=\"28.646534\" y=\"44.954692\"/>\n",
       "</g>\n",
       "<g style=\"fill:rgb(0%,0%,0%);fill-opacity:1;\">\n",
       "  <use xlink:href=\"#glyph-1606366588244580-0-7\" x=\"20.480548\" y=\"10.819115\"/>\n",
       "  <use xlink:href=\"#glyph-1606366588244580-0-2\" x=\"26.023882\" y=\"10.819115\"/>\n",
       "  <use xlink:href=\"#glyph-1606366588244580-0-1\" x=\"28.646534\" y=\"10.819115\"/>\n",
       "</g>\n",
       "<g clip-path=\"url(#clip-1606366588244580-1)\" clip-rule=\"nonzero\">\n",
       "<path style=\"fill:none;stroke-width:1.19553;stroke-linecap:butt;stroke-linejoin:miter;stroke:rgb(93.331909%,46.665955%,19.999695%);stroke-opacity:1;stroke-miterlimit:10;\" d=\"M -0.000187204 0.00132667 L -0.000187204 16.904901 L 29.501741 19.020296 L 29.501741 42.266139 L 41.720107 44.377617 L 41.720107 54.94284 L 71.222035 57.058236 L 71.222035 80.304078 L 100.723963 82.415556 L 100.723963 118.3381 L 142.448174 120.453495 L 142.448174 131.018719 L 171.946185 133.134114 L 171.946185 156.376039 L 243.172324 158.491435 L 243.172324 169.056658 \" transform=\"matrix(0.997154,0,0,-0.997154,37.699405,177.923198)\"/>\n",
       "<path style=\"fill:none;stroke-width:1.19553;stroke-linecap:butt;stroke-linejoin:miter;stroke:rgb(0%,46.665955%,73.33374%);stroke-opacity:1;stroke-miterlimit:10;\" d=\"M -0.000187204 0.00132667 L -0.000187204 7.044809 L 8.868803 7.749941 L 8.868803 12.678028 L 14.353161 13.38316 L 14.353161 23.948384 L 23.222151 24.653515 L 23.222151 35.218739 L 28.702592 35.923871 L 28.702592 39.445612 L 32.091141 40.150744 L 32.091141 42.266139 L 37.571582 42.967353 L 37.571582 53.536494 L 46.440572 54.237709 L 46.440572 61.986323 L 51.92493 62.691455 L 51.92493 70.440069 L 60.79392 71.145201 L 60.79392 81.710424 L 69.66291 82.415556 L 69.66291 84.527034 L 75.143351 85.232166 L 75.143351 98.617916 L 84.012341 99.319131 L 84.012341 104.251135 L 89.496699 104.956267 L 89.496699 107.067745 L 92.881331 107.772876 L 92.881331 108.478008 L 98.365689 109.18314 L 98.365689 119.748364 L 107.234679 120.453495 L 107.234679 122.564973 L 112.715119 123.270105 L 112.715119 128.20211 L 121.58411 128.907241 L 121.58411 136.655855 L 135.937458 137.35707 L 135.937458 145.105684 L 144.806448 145.810816 L 144.806448 147.926211 L 150.286888 148.627425 L 150.286888 149.332557 L 159.155879 150.037689 L 159.155879 154.969693 L 168.028786 155.674825 L 168.028786 156.376039 L 173.509227 157.081171 L 173.509227 159.196566 L 182.378217 159.901698 L 182.378217 162.013176 L 196.731565 162.718308 L 196.731565 166.240049 L 219.949986 166.945181 L 219.949986 169.056658 L 243.172324 169.76179 L 243.172324 170.466922 \" transform=\"matrix(0.997154,0,0,-0.997154,37.699405,177.923198)\"/>\n",
       "<path style=\"fill:none;stroke-width:1.19553;stroke-linecap:butt;stroke-linejoin:miter;stroke:rgb(19.999695%,73.33374%,93.331909%);stroke-opacity:1;stroke-miterlimit:10;\" d=\"M -0.000187204 0.00132667 L -0.000187204 10.331506 L 8.727777 10.56655 L 8.727777 21.601862 L 15.120971 21.836906 L 15.120971 24.418471 L 17.459658 24.653515 L 17.459658 25.828735 L 23.848935 26.063779 L 23.848935 37.09909 L 32.576899 37.334134 L 32.576899 54.002665 L 41.30878 54.237709 L 41.30878 59.639801 L 47.698057 59.874845 L 47.698057 65.27302 L 56.429938 65.508064 L 56.429938 79.363903 L 65.157902 79.598947 L 65.157902 96.267477 L 73.885866 96.502521 L 73.885866 99.088004 L 80.27906 99.319131 L 80.27906 104.721223 L 89.007024 104.956267 L 89.007024 115.991578 L 97.734988 116.226622 L 97.734988 124.445324 L 112.856146 124.680368 L 112.856146 131.488807 L 121.58411 131.723851 L 121.58411 142.759162 L 130.315991 142.994206 L 130.315991 146.986035 L 145.433232 147.221079 L 145.433232 152.619254 L 154.165113 152.854298 L 154.165113 158.256391 L 178.014235 158.491435 L 178.014235 163.88961 L 186.742199 164.124654 L 186.742199 166.710137 L 210.591321 166.945181 L 210.591321 169.526746 L 243.172324 169.76179 L 243.172324 170.93701 \" transform=\"matrix(0.997154,0,0,-0.997154,37.699405,177.923198)\"/>\n",
       "<path style=\"fill:none;stroke-width:1.19553;stroke-linecap:butt;stroke-linejoin:miter;stroke:rgb(93.331909%,19.999695%,46.665955%);stroke-opacity:1;stroke-miterlimit:10;\" d=\"M -0.000187204 0.00132667 L -0.000187204 2.191152 L 1.323893 2.2695 L 1.323893 3.131328 L 2.385508 3.209676 L 2.385508 3.758112 L 2.973118 3.83646 L 2.973118 5.007762 L 3.709589 5.08611 L 3.709589 5.947938 L 4.297199 6.026286 L 4.297199 6.574721 L 5.358814 6.653069 L 5.358814 9.704723 L 5.946424 9.783071 L 5.946424 9.861419 L 6.682895 9.939767 L 6.682895 12.364636 L 8.332119 12.442984 L 8.332119 14.244988 L 9.06859 14.323336 L 9.06859 14.871771 L 9.6562 14.950119 L 9.6562 16.748205 L 10.717815 16.826553 L 10.717815 17.218293 L 11.305425 17.296641 L 11.305425 17.531685 L 12.041896 17.610033 L 12.041896 20.661686 L 13.365976 20.740034 L 13.365976 22.07195 L 14.423674 22.150298 L 14.423674 22.385342 L 15.015201 22.46369 L 15.015201 24.888559 L 16.339282 24.966907 L 16.339282 26.142127 L 17.400897 26.220475 L 17.400897 28.018561 L 17.988507 28.096909 L 17.988507 28.331953 L 18.72106 28.4103 L 18.72106 30.212304 L 19.312587 30.290652 L 19.312587 30.682392 L 20.374202 30.76074 L 20.374202 33.499001 L 21.698283 33.577349 L 21.698283 36.002219 L 23.347508 36.080567 L 23.347508 36.629003 L 24.080061 36.70735 L 24.080061 38.509354 L 24.671588 38.583784 L 24.671588 39.445612 L 25.404142 39.52396 L 25.404142 40.385788 L 27.057284 40.464136 L 27.057284 42.889005 L 28.377447 42.967353 L 28.377447 44.769357 L 29.439062 44.847705 L 29.439062 45.709532 L 30.03059 45.78788 L 30.03059 47.585966 L 30.763143 47.664314 L 30.763143 48.21275 L 31.350753 48.291098 L 31.350753 49.152925 L 32.412368 49.231273 L 32.412368 51.029359 L 33.736449 51.107707 L 33.736449 54.159361 L 35.389591 54.237709 L 35.389591 55.099536 L 36.122144 55.177884 L 36.122144 55.412928 L 36.709754 55.491276 L 36.709754 57.29328 L 37.446225 57.371628 L 37.446225 57.75945 L 38.033835 57.837798 L 38.033835 58.072842 L 39.09545 58.15119 L 39.09545 60.579977 L 39.686977 60.658325 L 39.686977 60.893369 L 40.41953 60.971717 L 40.41953 62.143019 L 42.068755 62.221367 L 42.068755 65.27302 L 42.805226 65.351368 L 42.805226 65.586412 L 43.392836 65.66476 L 43.392836 67.466763 L 44.454451 67.545111 L 44.454451 68.406939 L 45.042061 68.485287 L 45.042061 69.029805 L 45.778532 69.108153 L 45.778532 70.910157 L 47.427756 70.988505 L 47.427756 71.53694 L 48.164227 71.615288 L 48.164227 71.693636 L 48.751837 71.771984 L 48.751837 74.823638 L 50.075918 74.901986 L 50.075918 75.450422 L 51.137533 75.528769 L 51.137533 76.700072 L 51.725142 76.77842 L 51.725142 77.326855 L 52.461613 77.405203 L 52.461613 77.953639 L 53.049223 78.031987 L 53.049223 78.267031 L 54.110838 78.345379 L 54.110838 82.6506 L 55.434919 82.728948 L 55.434919 84.527034 L 57.084144 84.605382 L 57.084144 85.780601 L 57.820614 85.858949 L 57.820614 86.720777 L 58.408224 86.799125 L 58.408224 87.347561 L 59.469839 87.425909 L 59.469839 87.660953 L 60.057449 87.739301 L 60.057449 87.817649 L 60.79392 87.892079 L 60.79392 90.320866 L 62.118001 90.399214 L 62.118001 91.261042 L 63.175698 91.33939 L 63.175698 91.883908 L 63.767225 91.962256 L 63.767225 93.764259 L 65.091306 93.842607 L 65.091306 94.391043 L 66.152921 94.469391 L 66.152921 97.207653 L 67.473084 97.286001 L 67.473084 99.088004 L 69.126226 99.166352 L 69.126226 100.964438 L 70.450307 101.042786 L 70.450307 102.218005 L 72.099532 102.296353 L 72.099532 102.531397 L 72.832085 102.609745 L 72.832085 104.407831 L 73.423613 104.486179 L 73.423613 104.877919 L 74.156166 104.956267 L 74.156166 105.504703 L 75.809308 105.583051 L 75.809308 108.00792 L 77.129472 108.086268 L 77.129472 108.948096 L 78.191087 109.026444 L 78.191087 110.358359 L 78.782614 110.436707 L 78.782614 111.294618 L 79.515167 111.372966 L 79.515167 112.234793 L 81.164392 112.313141 L 81.164392 113.488361 L 82.488473 113.566709 L 82.488473 115.364795 L 84.141615 115.443143 L 84.141615 115.834883 L 84.874168 115.91323 L 84.874168 116.461666 L 85.461778 116.540014 L 85.461778 117.401842 L 86.198249 117.48019 L 86.198249 117.715234 L 86.785859 117.793582 L 86.785859 117.87193 L 87.847474 117.950278 L 87.847474 121.001931 L 89.171555 121.080279 L 89.171555 121.628715 L 90.820779 121.707063 L 90.820779 123.505149 L 91.55725 123.583497 L 91.55725 123.975237 L 92.14486 124.053585 L 92.14486 124.288628 L 93.206475 124.366976 L 93.206475 124.915412 L 93.794085 124.99376 L 93.794085 125.228804 L 94.530556 125.307152 L 94.530556 126.478454 L 96.17978 126.556802 L 96.17978 126.791846 L 96.916251 126.870194 L 96.916251 127.105238 L 97.503861 127.183586 L 97.503861 128.985589 L 98.827942 129.063937 L 98.827942 129.298981 L 99.889557 129.377329 L 99.889557 131.175415 L 101.213637 131.253763 L 101.213637 131.488807 L 102.862862 131.567155 L 102.862862 134.305416 L 104.186943 134.383764 L 104.186943 134.9322 L 105.836168 135.010548 L 105.836168 135.558984 L 106.572639 135.637332 L 106.572639 136.185768 L 107.160248 136.264116 L 107.160248 136.49916 L 108.221863 136.577508 L 108.221863 136.655855 L 109.545944 136.734203 L 109.545944 138.532289 L 110.870025 138.610637 L 110.870025 139.002377 L 111.93164 139.080725 L 111.93164 139.942553 L 112.51925 140.020901 L 112.51925 140.569337 L 114.904945 140.647685 L 114.904945 142.44577 L 116.225109 142.524118 L 116.225109 143.385946 L 117.878251 143.464294 L 117.878251 144.326122 L 119.202331 144.40447 L 119.202331 144.948988 L 121.58411 145.027336 L 121.58411 146.829339 L 122.90819 146.907687 L 122.90819 147.142731 L 124.561332 147.221079 L 124.561332 148.396299 L 126.943111 148.474647 L 126.943111 149.332557 L 127.534638 149.410905 L 127.534638 149.802645 L 128.267191 149.880993 L 128.267191 150.429429 L 129.916416 150.507777 L 129.916416 151.056212 L 131.240497 151.13456 L 131.240497 151.996388 L 133.626193 152.074736 L 133.626193 152.932646 L 134.950273 153.010994 L 134.950273 153.089342 L 136.599498 153.16769 L 136.599498 154.969693 L 139.572803 155.048041 L 139.572803 155.909869 L 140.309274 155.988217 L 140.309274 156.219344 L 140.896884 156.297691 L 140.896884 156.376039 L 141.958499 156.454387 L 141.958499 156.689431 L 143.28258 156.767779 L 143.28258 157.316215 L 145.668276 157.394563 L 145.668276 157.786303 L 146.255885 157.864651 L 146.255885 158.099695 L 148.641581 158.178043 L 148.641581 159.353262 L 151.614886 159.43161 L 151.614886 160.759608 L 152.938967 160.837956 L 152.938967 161.073 L 155.324663 161.151348 L 155.324663 161.386392 L 158.297968 161.46474 L 158.297968 162.013176 L 160.683664 162.091524 L 160.683664 162.63996 L 161.271274 162.718308 L 161.271274 162.953352 L 163.656969 163.031699 L 163.656969 163.88961 L 164.977133 163.967958 L 164.977133 164.359698 L 170.336134 164.438046 L 170.336134 165.299873 L 173.313357 165.378221 L 173.313357 165.926657 L 175.695135 166.005005 L 175.695135 166.396745 L 177.019216 166.475093 L 177.019216 166.710137 L 182.378217 166.788485 L 182.378217 167.33692 L 185.351522 167.415268 L 185.351522 168.273179 L 189.061299 168.351527 L 189.061299 168.429875 L 194.4203 168.508223 L 194.4203 168.743266 L 195.007909 168.821614 L 195.007909 168.899962 L 197.393605 168.97831 L 197.393605 169.526746 L 207.049992 169.605094 L 207.049992 169.840138 L 209.435688 169.918486 L 209.435688 170.15353 L 219.088158 170.231878 L 219.088158 170.623618 L 231.130241 170.701966 L 231.130241 170.93701 L 243.172324 171.015358 L 243.172324 171.093706 \" transform=\"matrix(0.997154,0,0,-0.997154,37.699405,177.923198)\"/>\n",
       "<path style=\"fill:none;stroke-width:1.19553;stroke-linecap:butt;stroke-linejoin:miter;stroke:rgb(79.998779%,19.999695%,6.666565%);stroke-opacity:1;stroke-miterlimit:10;\" d=\"M -0.000187204 0.00132667 L -0.000187204 2.085383 L 0.865558 2.112804 L 0.865558 2.712166 L 1.523681 2.739588 L 1.523681 3.652342 L 2.459939 3.679764 L 2.459939 3.965734 L 2.816422 3.993156 L 2.816422 4.90591 L 3.682167 4.929414 L 3.682167 7.722519 L 3.983807 7.749941 L 3.983807 8.192607 L 4.344208 8.216111 L 4.344208 10.069041 L 5.206035 10.096463 L 5.206035 10.695825 L 6.142294 10.723246 L 6.142294 11.322608 L 6.498777 11.35003 L 6.498777 11.949392 L 6.804334 11.976814 L 6.804334 12.889568 L 7.666162 12.913072 L 7.666162 13.825826 L 8.026562 13.853248 L 8.026562 15.079393 L 8.88839 15.106815 L 8.88839 15.392785 L 9.620943 15.420207 L 9.620943 15.549481 L 10.486689 15.576903 L 10.486689 17.425915 L 11.348516 17.453337 L 11.348516 18.836179 L 11.708917 18.8636 L 11.708917 19.462962 L 12.010557 19.490384 L 12.010557 20.71653 L 12.36704 20.740034 L 12.36704 21.026004 L 13.303298 21.053426 L 13.303298 21.339396 L 14.169043 21.366818 L 14.169043 24.159923 L 14.827166 24.183428 L 14.827166 26.036357 L 15.692911 26.063779 L 15.692911 27.916708 L 16.049394 27.940213 L 16.049394 28.073404 L 16.985653 28.096909 L 16.985653 28.539575 L 18.153037 28.566996 L 18.153037 28.852967 L 18.509521 28.880388 L 18.509521 31.673493 L 19.375266 31.696998 L 19.375266 32.923144 L 20.037306 32.950565 L 20.037306 34.333407 L 20.969647 34.360829 L 20.969647 34.803495 L 21.835392 34.826999 L 21.835392 35.430279 L 22.191875 35.453783 L 22.191875 37.306712 L 22.497432 37.334134 L 22.497432 38.246888 L 22.853916 38.27431 L 22.853916 39.187064 L 23.715743 39.210568 L 23.715743 40.123322 L 24.652001 40.150744 L 24.652001 41.063498 L 25.314042 41.090919 L 25.314042 41.690281 L 26.175869 41.717703 L 26.175869 43.570633 L 26.53627 43.594137 L 26.53627 44.193499 L 27.398098 44.220921 L 27.398098 44.663587 L 27.703655 44.691009 L 27.703655 44.976979 L 28.996396 45.0044 L 28.996396 46.230546 L 29.858224 46.254051 L 29.858224 49.047156 L 30.218625 49.074578 L 30.218625 49.360548 L 30.520264 49.387969 L 30.520264 51.236981 L 31.386009 51.264403 L 31.386009 51.707069 L 32.31835 51.734491 L 32.31835 51.863765 L 32.678751 51.891187 L 32.678751 53.744117 L 33.336874 53.767621 L 33.336874 54.684292 L 34.202619 54.707797 L 34.202619 57.500902 L 35.068364 57.528323 L 35.068364 57.814294 L 36.662745 57.837798 L 36.662745 58.441077 L 37.019228 58.464582 L 37.019228 59.847423 L 37.884974 59.874845 L 37.884974 61.727775 L 38.186613 61.751279 L 38.186613 62.041167 L 38.547014 62.064671 L 38.547014 62.977425 L 39.479355 63.004847 L 39.479355 63.290817 L 40.3451 63.318238 L 40.3451 64.544384 L 40.701583 64.571806 L 40.701583 65.48456 L 41.00714 65.508064 L 41.00714 66.890906 L 41.868968 66.918328 L 41.868968 67.51769 L 42.229368 67.545111 L 42.229368 68.144473 L 43.161709 68.171895 L 43.161709 68.771257 L 43.82375 68.798679 L 43.82375 69.084649 L 44.689495 69.108153 L 44.689495 71.901258 L 45.551322 71.92868 L 45.551322 72.841434 L 45.907806 72.864939 L 45.907806 73.154826 L 46.213363 73.17833 L 46.213363 73.78161 L 47.506104 73.805114 L 47.506104 74.404476 L 48.367932 74.431898 L 48.367932 78.631349 L 49.029972 78.658771 L 49.029972 79.884917 L 49.895717 79.912338 L 49.895717 80.825092 L 50.828058 80.848597 L 50.828058 81.138484 L 51.188459 81.161989 L 51.188459 82.074742 L 52.355844 82.102164 L 52.355844 82.54483 L 52.712327 82.572252 L 52.712327 84.425181 L 53.578072 84.448686 L 53.578072 85.051965 L 55.172453 85.07547 L 55.172453 85.988223 L 56.038198 86.015645 L 56.038198 86.928399 L 56.394681 86.955821 L 56.394681 88.181967 L 56.696321 88.205471 L 56.696321 88.80875 L 57.056722 88.832255 L 57.056722 89.274921 L 57.99298 89.302343 L 57.99298 89.431617 L 58.854808 89.459039 L 58.854808 91.311968 L 59.516848 91.33939 L 59.516848 92.252144 L 60.378676 92.275648 L 60.378676 93.501794 L 60.739076 93.529216 L 60.739076 93.815186 L 61.671417 93.842607 L 61.671417 94.128578 L 63.199203 94.155999 L 63.199203 96.008929 L 64.06103 96.032433 L 64.06103 97.885363 L 64.421431 97.912784 L 64.421431 98.042059 L 64.723071 98.06948 L 64.723071 98.982234 L 66.521157 99.009656 L 66.521157 99.295626 L 66.881557 99.319131 L 66.881557 102.112236 L 67.53968 102.139657 L 67.53968 102.739019 L 68.405425 102.766441 L 68.405425 104.149283 L 69.341683 104.172787 L 69.341683 104.615453 L 70.865551 104.642875 L 70.865551 105.555629 L 71.222035 105.583051 L 71.222035 106.495805 L 72.08778 106.523226 L 72.08778 107.43598 L 72.389419 107.459485 L 72.389419 107.592676 L 73.682161 107.616181 L 73.682161 108.215542 L 74.547906 108.242964 L 74.547906 110.095894 L 74.904389 110.123316 L 74.904389 110.722678 L 75.209946 110.746182 L 75.209946 111.662853 L 76.071774 111.686358 L 76.071774 111.972328 L 77.364516 111.999749 L 77.364516 113.225895 L 78.026556 113.253317 L 78.026556 113.695983 L 78.892301 113.723405 L 78.892301 115.576334 L 79.754129 115.599839 L 79.754129 116.042505 L 81.70891 116.069926 L 81.70891 116.98268 L 82.570738 117.010102 L 82.570738 119.79929 L 83.232778 119.826712 L 83.232778 120.426074 L 85.030864 120.453495 L 85.030864 121.052857 L 85.391265 121.080279 L 85.391265 122.463121 L 86.55865 122.486625 L 86.55865 122.776513 L 86.915133 122.800017 L 86.915133 123.712771 L 87.851391 123.740193 L 87.851391 124.026163 L 89.375259 124.053585 L 89.375259 125.436426 L 90.241004 125.463848 L 90.241004 126.06321 L 90.597488 126.086714 L 90.597488 126.689994 L 90.899127 126.713498 L 90.899127 127.003386 L 92.191869 127.02689 L 92.191869 127.31286 L 93.057614 127.340282 L 93.057614 130.133387 L 93.719654 130.156891 L 93.719654 130.760171 L 94.581482 130.783675 L 94.581482 131.383037 L 95.874223 131.410459 L 95.874223 132.009821 L 97.402009 132.037243 L 97.402009 133.263388 L 98.263836 133.29081 L 98.263836 134.203564 L 100.723963 134.227068 L 100.723963 134.673652 L 101.084363 134.697156 L 101.084363 136.550086 L 101.742486 136.577508 L 101.742486 136.863478 L 103.54449 136.890899 L 103.54449 137.803653 L 105.068358 137.827158 L 105.068358 138.430437 L 105.424841 138.453941 L 105.424841 138.896607 L 106.361099 138.924029 L 106.361099 139.053303 L 107.884967 139.080725 L 107.884967 139.993479 L 108.750712 140.020901 L 108.750712 141.247047 L 109.107195 141.270551 L 109.107195 141.560438 L 109.412753 141.583943 L 109.412753 142.030526 L 111.567322 142.054031 L 111.567322 143.90696 L 112.229362 143.934382 L 112.229362 144.220352 L 113.09119 144.247774 L 113.09119 145.160528 L 115.911717 145.184032 L 115.911717 145.787311 L 116.773544 145.810816 L 116.773544 147.193657 L 119.233671 147.221079 L 119.233671 148.133833 L 119.594071 148.161255 L 119.594071 149.074009 L 120.761456 149.097513 L 120.761456 149.230705 L 122.054197 149.254209 L 122.054197 149.857488 L 123.578065 149.880993 L 123.578065 150.793747 L 124.443811 150.821168 L 124.443811 151.107139 L 126.394675 151.13456 L 126.394675 151.577226 L 127.26042 151.604648 L 127.26042 153.457578 L 127.92246 153.481082 L 127.92246 153.767052 L 130.07703 153.794474 L 130.07703 154.707228 L 131.604815 154.73465 L 131.604815 155.334011 L 134.926769 155.361433 L 134.926769 155.647403 L 135.28717 155.674825 L 135.28717 156.587579 L 137.747296 156.611083 L 137.747296 157.993925 L 139.271164 158.021347 L 139.271164 158.307317 L 140.563905 158.334739 L 140.563905 158.620709 L 142.087773 158.648131 L 142.087773 159.247493 L 142.953518 159.274914 L 142.953518 159.874276 L 145.770128 159.901698 L 145.770128 161.127844 L 146.432168 161.151348 L 146.432168 161.280622 L 150.114523 161.308044 L 150.114523 161.594014 L 153.436477 161.621436 L 153.436477 162.220798 L 153.796877 162.24822 L 153.796877 162.690886 L 156.257004 162.718308 L 156.257004 163.631061 L 157.780872 163.658483 L 157.780872 164.101149 L 160.597481 164.124654 L 160.597481 164.414541 L 161.463226 164.438046 L 161.463226 165.350799 L 164.279836 165.378221 L 164.279836 165.977583 L 169.129575 166.005005 L 169.129575 166.134279 L 171.946185 166.161701 L 171.946185 167.074455 L 174.766711 167.101877 L 174.766711 167.544543 L 176.290579 167.571964 L 176.290579 167.857934 L 179.972934 167.881439 L 179.972934 168.484718 L 187.639283 168.508223 L 187.639283 168.79811 L 190.45981 168.821614 L 190.45981 169.420976 L 194.800287 169.448398 L 194.800287 169.577672 L 198.482642 169.605094 L 198.482642 169.891064 L 206.148991 169.918486 L 206.148991 170.361152 L 208.969518 170.388574 L 208.969518 170.674544 L 224.662616 170.701966 L 224.662616 170.987936 L 243.172324 171.015358 L 243.172324 171.144632 \" transform=\"matrix(0.997154,0,0,-0.997154,37.699405,177.923198)\"/>\n",
       "<path style=\"fill:none;stroke-width:1.19553;stroke-linecap:butt;stroke-linejoin:miter;stroke:rgb(0%,59.999084%,53.33252%);stroke-opacity:1;stroke-miterlimit:10;\" d=\"M -0.000187204 0.00132667 L -0.000187204 1.948274 L 0.885145 1.956109 L 0.885145 2.363518 L 1.355233 2.37527 L 1.355233 3.060815 L 1.66079 3.06865 L 1.66079 3.131328 L 2.240565 3.139163 L 2.240565 3.303694 L 2.546122 3.311528 L 2.546122 5.810829 L 3.431454 5.818663 L 3.431454 6.504208 L 3.901542 6.512043 L 3.901542 8.17302 L 4.786874 8.184772 L 4.786874 9.845749 L 5.092431 9.853584 L 5.092431 10.19048 L 5.256962 10.202232 L 5.256962 10.225737 L 5.977763 10.237489 L 5.977763 10.574385 L 6.447851 10.58222 L 6.447851 11.965062 L 7.333183 11.976814 L 7.333183 15.095063 L 7.803271 15.106815 L 7.803271 15.306603 L 8.218515 15.314437 L 8.218515 15.373198 L 8.688603 15.384951 L 8.688603 16.211522 L 8.99416 16.219356 L 8.99416 16.556253 L 9.570017 16.568005 L 9.570017 16.611096 L 9.879492 16.618931 L 9.879492 19.114314 L 10.34958 19.122149 L 10.34958 19.286679 L 10.764824 19.298432 L 10.764824 19.427706 L 11.234912 19.435541 L 11.234912 21.930923 L 12.120244 21.942676 L 12.120244 22.62822 L 12.425801 22.636055 L 12.425801 23.043465 L 12.590332 23.055217 L 12.590332 23.149234 L 12.895889 23.157069 L 12.895889 23.219748 L 13.311133 23.227582 L 13.311133 23.325517 L 13.781221 23.333352 L 13.781221 25.828735 L 14.666553 25.83657 L 14.666553 27.56806 L 15.136641 27.575895 L 15.136641 28.261439 L 16.018055 28.273192 L 16.018055 28.958736 L 16.32753 28.966571 L 16.32753 29.793142 L 17.212862 29.800977 L 17.212862 31.461954 L 17.68295 31.473706 L 17.68295 32.331616 L 18.568282 32.343369 L 18.568282 34.838751 L 19.449696 34.846586 L 19.449696 34.97586 L 19.759171 34.983695 L 19.759171 35.324509 L 19.919784 35.332344 L 19.919784 35.496874 L 20.229259 35.508627 L 20.229259 35.916036 L 21.114591 35.923871 L 21.114591 39.046037 L 21.996005 39.053872 L 21.996005 39.567051 L 22.470011 39.578804 L 22.470011 40.961645 L 22.775568 40.96948 L 22.775568 40.992984 L 23.351425 41.004737 L 23.351425 41.341633 L 23.6609 41.349468 L 23.6609 42.5952 L 24.542314 42.603035 L 24.542314 43.28858 L 25.01632 43.300332 L 25.01632 45.376553 L 25.897734 45.384388 L 25.897734 47.045365 L 26.367822 47.057117 L 26.367822 47.115878 L 27.092541 47.123713 L 27.092541 47.292161 L 27.253154 47.299996 L 27.253154 47.464527 L 27.562629 47.472362 L 27.562629 48.855203 L 28.444043 48.863038 L 28.444043 51.362338 L 28.918048 51.370173 L 28.918048 51.56996 L 29.329375 51.577795 L 29.329375 51.656143 L 29.799463 51.663978 L 29.799463 53.324955 L 30.108938 53.33279 L 30.108938 53.501238 L 30.684795 53.509073 L 30.684795 53.60309 L 30.990352 53.614842 L 30.990352 54.856658 L 31.464357 54.864492 L 31.464357 54.997684 L 31.875684 55.005519 L 31.875684 55.134793 L 32.345772 55.142628 L 32.345772 58.264794 L 33.231104 58.272629 L 33.231104 58.962091 L 33.701192 58.969926 L 33.701192 59.169713 L 34.010666 59.177548 L 34.010666 59.20497 L 34.421993 59.212805 L 34.421993 59.255896 L 34.586524 59.263731 L 34.586524 59.361666 L 34.892081 59.369501 L 34.892081 61.864884 L 35.777413 61.872718 L 35.777413 63.25556 L 36.247501 63.267312 L 36.247501 63.952857 L 37.132833 63.960692 L 37.132833 65.343533 L 37.43839 65.351368 L 37.43839 65.762695 L 38.323722 65.77053 L 38.323722 66.597101 L 38.79381 66.604936 L 38.79381 67.29048 L 39.679142 67.302233 L 39.679142 70.424399 L 40.564474 70.432234 L 40.564474 70.561508 L 41.034562 70.569343 L 41.034562 70.910157 L 41.340119 70.917991 L 41.340119 71.117779 L 41.919894 71.125614 L 41.919894 71.153035 L 42.225451 71.16087 L 42.225451 74.283037 L 43.110783 74.294789 L 43.110783 74.702198 L 43.580871 74.710033 L 43.580871 76.092875 L 44.466203 76.10071 L 44.466203 76.790172 L 44.77176 76.798007 L 44.77176 77.413038 L 44.936291 77.42479 L 44.936291 77.432625 L 45.657092 77.44046 L 45.657092 77.781274 L 46.12718 77.789108 L 46.12718 79.450085 L 47.012512 79.45792 L 47.012512 81.538059 L 47.4826 81.545894 L 47.4826 81.675168 L 48.367932 81.683003 L 48.367932 82.023816 L 48.673489 82.031651 L 48.673489 82.721113 L 49.558821 82.728948 L 49.558821 85.224331 L 50.028909 85.232166 L 50.028909 85.486796 L 50.444153 85.494631 L 50.444153 85.553392 L 50.914241 85.565144 L 50.914241 87.226121 L 51.799573 87.233956 L 51.799573 87.433743 L 52.10513 87.441578 L 52.10513 88.060527 L 52.269661 88.068362 L 52.269661 88.095784 L 52.575218 88.103619 L 52.575218 88.232893 L 52.990462 88.240728 L 52.990462 88.303406 L 53.46055 88.311241 L 53.46055 90.806624 L 54.345882 90.814458 L 54.345882 91.676286 L 54.81597 91.684121 L 54.81597 92.095448 L 55.121527 92.103282 L 55.121527 92.111117 L 55.701302 92.118952 L 55.701302 92.318739 L 56.006859 92.330492 L 56.006859 93.572307 L 56.892191 93.580142 L 56.892191 94.962983 L 57.362279 94.974736 L 57.362279 95.832646 L 58.247611 95.844398 L 58.247611 97.223322 L 59.4385 97.235075 L 59.4385 97.642484 L 59.603031 97.650319 L 59.603031 97.69341 L 59.908588 97.705162 L 59.908588 98.390707 L 60.79392 98.398542 L 60.79392 100.893925 L 61.675335 100.905677 L 61.675335 101.070208 L 62.14934 101.078042 L 62.14934 101.763587 L 62.454897 101.775339 L 62.454897 101.869357 L 63.030754 101.877192 L 63.030754 101.93987 L 63.340229 101.947705 L 63.340229 103.502912 L 64.225561 103.510747 L 64.225561 103.922074 L 64.695649 103.929909 L 64.695649 105.661399 L 65.577063 105.669233 L 65.577063 106.354778 L 66.051069 106.36653 L 66.051069 106.390035 L 66.77187 106.401787 L 66.77187 106.566318 L 66.932483 106.574153 L 66.932483 106.601574 L 67.241958 106.609409 L 67.241958 108.270386 L 68.123372 108.278221 L 68.123372 109.939198 L 68.597378 109.947033 L 68.597378 110.080224 L 69.478792 110.088059 L 69.478792 110.773604 L 69.788267 110.781438 L 69.788267 111.122252 L 70.673599 111.130087 L 70.673599 112.37582 L 71.143687 112.383654 L 71.143687 112.583442 L 71.555014 112.591277 L 71.555014 112.653955 L 72.025101 112.66179 L 72.025101 114.738011 L 72.910433 114.749763 L 72.910433 114.94955 L 73.380521 114.957385 L 73.380521 115.016146 L 73.689996 115.027898 L 73.689996 115.086659 L 74.101323 115.094494 L 74.101323 115.121916 L 74.265853 115.129751 L 74.265853 115.141503 L 74.575328 115.149338 L 74.575328 117.644721 L 75.456742 117.652555 L 75.456742 118.3381 L 75.92683 118.349852 L 75.92683 118.757262 L 76.812162 118.765097 L 76.812162 119.176423 L 77.121637 119.184258 L 77.121637 119.79929 L 78.003051 119.811042 L 78.003051 120.496587 L 78.473139 120.504422 L 78.473139 121.193884 L 79.358471 121.201718 L 79.358471 122.933209 L 80.713891 122.941043 L 80.713891 123.035061 L 81.023366 123.042896 L 81.023366 123.383709 L 81.90478 123.391544 L 81.90478 125.886927 L 82.790112 125.898679 L 82.790112 126.027953 L 83.2602 126.035788 L 83.2602 126.721333 L 84.145532 126.733085 L 84.145532 126.862359 L 84.451089 126.870194 L 84.451089 127.645839 L 85.336421 127.653674 L 85.336421 127.853461 L 85.806509 127.861296 L 85.806509 129.244138 L 86.691841 129.251972 L 86.691841 130.1138 L 87.161929 130.121635 L 87.161929 130.184313 L 88.047261 130.192148 L 88.047261 130.254826 L 88.352818 130.262661 L 88.352818 131.089232 L 89.23815 131.097067 L 89.23815 132.758044 L 89.708238 132.765879 L 89.708238 132.934327 L 90.59357 132.942162 L 90.59357 133.627706 L 91.784459 133.635541 L 91.784459 134.25449 L 92.254547 134.262325 L 92.254547 134.462112 L 92.669791 134.469947 L 92.669791 134.497369 L 93.139879 134.505204 L 93.139879 136.166181 L 94.025211 136.177933 L 94.025211 136.428646 L 94.495299 136.436481 L 94.495299 136.565755 L 94.800856 136.577508 L 94.800856 136.601012 L 95.380631 136.612764 L 95.380631 136.636268 L 95.686188 136.644103 L 95.686188 137.889836 L 96.57152 137.897671 L 96.57152 138.583216 L 97.041608 138.594968 L 97.041608 139.108147 L 97.92694 139.115982 L 97.92694 139.523391 L 99.117829 139.531226 L 99.117829 139.87204 L 99.587917 139.879874 L 99.587917 140.569337 L 100.473249 140.577171 L 100.473249 141.960013 L 101.828669 141.967848 L 101.828669 142.167635 L 102.134226 142.17547 L 102.134226 142.340001 L 103.019558 142.351753 L 103.019558 143.593568 L 103.90489 143.601403 L 103.90489 143.734595 L 104.374978 143.742429 L 104.374978 144.604257 L 105.26031 144.612092 L 105.26031 144.741366 L 106.451199 144.749201 L 106.451199 144.847136 L 106.921287 144.854971 L 106.921287 146.237812 L 107.806619 146.245647 L 107.806619 146.935109 L 108.276707 146.942944 L 108.276707 147.001705 L 109.158122 147.013457 L 109.158122 147.142731 L 109.467596 147.150566 L 109.467596 147.557975 L 110.352928 147.569728 L 110.352928 148.396299 L 110.823016 148.404134 L 110.823016 148.533408 L 111.708348 148.541242 L 111.708348 149.40307 L 113.369325 149.410905 L 113.369325 149.50884 L 113.780652 149.516675 L 113.780652 149.52451 L 114.254657 149.532344 L 114.254657 151.193321 L 115.136072 151.205073 L 115.136072 151.404861 L 115.60616 151.412696 L 115.60616 151.54197 L 116.491492 151.549805 L 116.491492 151.612483 L 116.800966 151.620318 L 116.800966 152.239267 L 117.682381 152.247101 L 117.682381 152.587915 L 118.156386 152.59575 L 118.156386 153.003159 L 119.037801 153.010994 L 119.037801 153.524173 L 120.702695 153.535926 L 120.702695 153.872822 L 121.58411 153.880657 L 121.58411 155.263498 L 122.93953 155.27525 L 122.93953 155.475038 L 124.130419 155.482873 L 124.130419 156.097904 L 125.015751 156.109656 L 125.015751 156.168417 L 125.485839 156.176252 L 125.485839 156.865714 L 126.371171 156.873549 L 126.371171 157.03808 L 128.032148 157.045915 L 128.032148 157.735377 L 128.91748 157.743212 L 128.91748 158.428756 L 129.387567 158.440508 L 129.387567 158.518856 L 130.272899 158.526691 L 130.272899 158.655965 L 131.463789 158.6638 L 131.463789 159.075127 L 131.933876 159.082962 L 131.933876 159.212236 L 132.819208 159.220071 L 132.819208 159.909533 L 134.480185 159.917368 L 134.480185 159.960459 L 135.365518 159.968294 L 135.365518 160.794865 L 136.25085 160.8027 L 136.25085 161.002487 L 136.720937 161.014239 L 136.720937 161.17877 L 137.606269 161.186605 L 137.606269 161.249283 L 138.797159 161.257118 L 138.797159 161.421649 L 139.267246 161.429484 L 139.267246 161.84081 L 140.152578 161.848645 L 140.152578 162.256055 L 141.813555 162.263889 L 141.813555 162.432338 L 142.698887 162.440172 L 142.698887 163.125717 L 144.054307 163.133552 L 144.054307 163.388183 L 146.130529 163.396018 L 146.130529 163.423439 L 146.600616 163.431274 L 146.600616 164.116819 L 147.485948 164.124654 L 147.485948 164.257845 L 149.146925 164.26568 L 149.146925 164.606494 L 150.032257 164.614328 L 150.032257 164.951225 L 150.502345 164.962977 L 150.502345 165.021738 L 151.387677 165.029573 L 151.387677 165.194103 L 153.048654 165.205856 L 153.048654 165.264617 L 153.933986 165.272451 L 153.933986 165.961914 L 156.480295 165.969748 L 156.480295 166.377158 L 157.365627 166.38891 L 157.365627 166.482928 L 157.835715 166.490762 L 157.835715 166.623954 L 158.71713 166.631789 L 158.71713 166.710137 L 160.382024 166.717971 L 160.382024 166.917759 L 161.263439 166.925594 L 161.263439 167.33692 L 163.813665 167.344755 L 163.813665 167.681652 L 165.165168 167.693404 L 165.165168 167.893191 L 167.711477 167.901026 L 167.711477 168.237922 L 168.596809 168.249674 L 168.596809 168.378948 L 171.143118 168.386783 L 171.143118 168.551314 L 171.613206 168.563066 L 171.613206 168.621827 L 172.498538 168.629662 L 172.498538 168.762853 L 174.163432 168.770688 L 174.163432 168.79811 L 175.044847 168.805945 L 175.044847 169.142841 L 178.476488 169.154593 L 178.476488 169.197685 L 178.946576 169.20552 L 178.946576 169.334794 L 179.831908 169.342628 L 179.831908 169.405307 L 181.492885 169.413142 L 181.492885 169.511077 L 182.378217 169.518911 L 182.378217 169.718699 L 186.279946 169.726534 L 186.279946 169.926321 L 188.826255 169.934156 L 188.826255 170.102604 L 189.711587 170.110439 L 189.711587 170.1692 L 192.727984 170.177034 L 192.727984 170.204456 L 193.613316 170.212291 L 193.613316 170.345482 L 196.159625 170.353317 L 196.159625 170.517848 L 200.061354 170.525683 L 200.061354 170.588361 L 200.946686 170.596196 L 200.946686 170.658874 L 203.492995 170.666709 L 203.492995 170.760727 L 207.394723 170.768562 L 207.394723 170.866496 L 210.822447 170.874331 L 210.822447 170.901753 L 213.842761 170.909588 L 213.842761 170.917423 L 214.724176 170.925257 L 214.724176 170.987936 L 221.172214 170.995771 L 221.172214 171.023192 L 222.057546 171.031027 L 222.057546 171.058449 L 228.505584 171.066284 L 228.505584 171.109375 L 235.838954 171.11721 L 235.838954 171.144632 L 243.172324 171.152467 L 243.172324 171.160301 \" transform=\"matrix(0.997154,0,0,-0.997154,37.699405,177.923198)\"/>\n",
       "<path style=\"fill:none;stroke-width:1.19553;stroke-linecap:butt;stroke-linejoin:miter;stroke:rgb(73.33374%,73.33374%,73.33374%);stroke-opacity:1;stroke-miterlimit:10;\" d=\"M -0.000187204 0.00132667 L -0.000187204 0.859237 L 0.203518 0.859237 L 0.203518 1.137372 L 0.332792 1.137372 L 0.332792 1.274481 L 0.595257 1.278399 L 0.595257 1.380251 L 0.720614 1.384168 L 0.720614 1.587873 L 0.924319 1.59179 L 0.924319 1.795495 L 0.959575 1.799413 L 0.959575 1.901265 L 1.16328 1.905182 L 1.16328 2.528049 L 1.292554 2.531966 L 1.292554 2.806184 L 1.370902 2.810101 L 1.370902 2.911954 L 1.496259 2.911954 L 1.496259 3.190089 L 1.884081 3.190089 L 1.884081 4.232117 L 2.087786 4.236034 L 2.087786 4.788388 L 2.21706 4.792305 L 2.21706 4.99601 L 2.330665 4.999927 L 2.330665 5.050853 L 2.420765 5.050853 L 2.420765 5.117449 L 2.456022 5.121366 L 2.456022 5.258475 L 3.012292 5.262393 L 3.012292 5.293732 L 3.051466 5.297649 L 3.051466 5.708976 L 3.176823 5.712894 L 3.176823 5.850003 L 3.255171 5.85392 L 3.255171 6.128138 L 3.380528 6.132055 L 3.380528 6.962544 L 3.584232 6.966461 L 3.584232 7.275936 L 3.76835 7.279853 L 3.76835 7.326862 L 3.975972 7.330779 L 3.975972 7.953646 L 4.101329 7.957563 L 4.101329 8.094672 L 4.179677 8.094672 L 4.179677 8.196524 L 4.214934 8.200442 L 4.214934 8.231781 L 4.305034 8.235698 L 4.305034 8.372807 L 4.34029 8.372807 L 4.34029 8.439403 L 4.547912 8.44332 L 4.547912 9.066187 L 4.751617 9.070104 L 4.751617 9.1367 L 4.876974 9.140617 L 4.876974 9.171957 L 4.935735 9.175874 L 4.935735 9.277726 L 5.13944 9.277726 L 5.13944 9.692971 L 5.264796 9.696888 L 5.264796 10.249241 L 5.472418 10.253159 L 5.472418 11.083647 L 5.80148 11.087564 L 5.80148 11.118904 L 6.063946 11.122821 L 6.063946 11.224673 L 6.099202 11.228591 L 6.099202 11.240343 L 6.189302 11.24426 L 6.189302 11.451882 L 6.432181 11.451882 L 6.432181 11.867127 L 6.635886 11.871044 L 6.635886 12.423397 L 6.761243 12.427315 L 6.761243 12.944411 L 6.964947 12.948329 L 6.964947 13.014924 L 7.023708 13.018842 L 7.023708 13.085438 L 7.152982 13.089355 L 7.152982 13.222547 L 7.356687 13.226464 L 7.356687 14.476114 L 7.560392 14.480031 L 7.560392 14.61714 L 7.685749 14.61714 L 7.685749 14.683736 L 7.721005 14.687654 L 7.721005 14.718993 L 7.799353 14.72291 L 7.799353 14.789506 L 7.928627 14.793423 L 7.928627 15.102898 L 8.31645 15.106815 L 8.31645 15.31052 L 8.520155 15.314437 L 8.520155 16.144926 L 8.645511 16.148843 L 8.645511 16.528831 L 8.723859 16.532748 L 8.723859 16.669857 L 8.853133 16.669857 L 8.853133 17.226128 L 9.240956 17.226128 L 9.240956 17.43375 L 9.444661 17.437667 L 9.444661 17.711885 L 9.570017 17.715803 L 9.570017 17.817655 L 9.687539 17.817655 L 9.687539 17.919507 L 9.777639 17.923425 L 9.777639 17.954764 L 9.812896 17.958681 L 9.812896 18.373926 L 10.016601 18.373926 L 10.016601 18.996792 L 10.404423 19.000709 L 10.404423 19.415954 L 10.533697 19.419871 L 10.533697 19.588319 L 10.612045 19.592237 L 10.612045 19.866454 L 10.737402 19.870372 L 10.737402 20.704778 L 10.941107 20.704778 L 10.941107 21.014252 L 10.976363 21.01817 L 10.976363 21.120022 L 11.536551 21.123939 L 11.536551 21.155279 L 11.571808 21.159196 L 11.571808 21.225792 L 11.661908 21.229709 L 11.661908 21.296305 L 11.697165 21.296305 L 11.697165 21.503927 L 11.900869 21.507844 L 11.900869 22.753577 L 12.104574 22.757494 L 12.104574 23.102226 L 12.233848 23.106143 L 12.233848 23.313765 L 12.496314 23.313765 L 12.496314 23.521387 L 12.621671 23.525305 L 12.621671 23.936631 L 12.825375 23.940549 L 12.825375 24.563415 L 12.860632 24.567333 L 12.860632 24.618259 L 13.068254 24.618259 L 13.068254 24.825881 L 13.193611 24.829798 L 13.193611 24.96299 L 13.271959 24.966907 L 13.271959 25.017833 L 13.397316 25.017833 L 13.397316 25.154942 L 13.785138 25.15886 L 13.785138 25.989348 L 13.99276 25.993266 L 13.99276 26.757158 L 14.118117 26.757158 L 14.118117 27.172403 L 14.321822 27.17632 L 14.321822 27.313429 L 14.709644 27.313429 L 14.709644 27.783517 L 14.917266 27.783517 L 14.917266 27.850113 L 14.952523 27.85403 L 14.952523 27.991139 L 15.07788 27.995056 L 15.07788 28.061652 L 15.156228 28.061652 L 15.156228 28.269274 L 15.281584 28.273192 L 15.281584 29.10368 L 15.485289 29.107597 L 15.485289 29.311302 L 15.673324 29.31522 L 15.673324 29.417072 L 15.877029 29.420989 L 15.877029 30.4591 L 16.002386 30.463017 L 16.002386 30.737235 L 16.080734 30.741153 L 16.080734 30.878262 L 16.20609 30.882179 L 16.20609 31.156397 L 16.448969 31.160314 L 16.448969 31.469789 L 16.836791 31.473706 L 16.836791 31.540302 L 17.040496 31.540302 L 17.040496 31.853694 L 17.165853 31.853694 L 17.165853 32.409964 L 17.373475 32.409964 L 17.373475 33.24437 L 17.702537 33.24437 L 17.702537 33.295296 L 17.761298 33.299214 L 17.761298 33.36581 L 17.886654 33.369727 L 17.886654 33.401066 L 17.965002 33.401066 L 17.965002 33.608688 L 18.090359 33.612606 L 18.090359 34.02785 L 18.297981 34.02785 L 18.297981 34.129702 L 18.333238 34.13362 L 18.333238 34.337324 L 18.536942 34.341242 L 18.536942 34.61546 L 18.662299 34.619377 L 18.662299 34.928852 L 18.869921 34.932769 L 18.869921 34.964108 L 18.924765 34.968026 L 18.924765 35.069878 L 19.054039 35.073795 L 19.054039 35.2775 L 19.257744 35.281417 L 19.257744 36.531068 L 19.461448 36.534985 L 19.461448 36.809203 L 19.586805 36.81312 L 19.586805 37.016825 L 19.625979 37.020742 L 19.625979 37.036412 L 20.18225 37.036412 L 20.18225 37.244034 L 20.217506 37.247951 L 20.217506 37.349804 L 20.421211 37.349804 L 20.421211 37.765048 L 20.550485 37.768965 L 20.550485 38.043183 L 20.624916 38.047101 L 20.624916 38.18421 L 20.75419 38.18421 L 20.75419 38.877589 L 21.142012 38.881507 L 21.142012 39.296751 L 21.345717 39.300668 L 21.345717 39.853021 L 21.474991 39.856939 L 21.474991 40.166413 L 21.678696 40.170331 L 21.678696 40.236927 L 21.713953 40.236927 L 21.713953 40.374035 L 21.917657 40.377953 L 21.917657 40.687427 L 22.30548 40.691345 L 22.30548 40.965563 L 22.434754 40.96948 L 22.434754 41.106589 L 22.513102 41.106589 L 22.513102 41.384724 L 22.638459 41.384724 L 22.638459 42.532522 L 22.842163 42.532522 L 22.842163 42.947766 L 23.229986 42.951684 L 23.229986 43.155388 L 23.35926 43.159306 L 23.35926 43.261158 L 23.437608 43.265076 L 23.437608 43.331671 L 23.562965 43.335589 L 23.562965 43.46878 L 23.598221 43.472698 L 23.598221 43.539293 L 23.801926 43.543211 L 23.801926 44.479469 L 24.009548 44.483386 L 24.009548 44.687091 L 24.134905 44.691009 L 24.134905 44.828118 L 24.397371 44.828118 L 24.397371 45.141509 L 24.522727 45.141509 L 24.522727 45.834889 L 24.726432 45.838806 L 24.726432 46.669295 L 24.969311 46.673212 L 24.969311 46.775065 L 25.059411 46.778982 L 25.059411 46.810321 L 25.094668 46.814239 L 25.094668 46.880834 L 25.650938 46.880834 L 25.650938 46.931761 L 25.690112 46.935678 L 25.690112 47.558544 L 25.893817 47.558544 L 25.893817 48.114815 L 26.019174 48.118732 L 26.019174 48.530059 L 26.222878 48.533977 L 26.222878 48.741599 L 26.406996 48.741599 L 26.406996 48.776855 L 26.614618 48.776855 L 26.614618 49.713113 L 26.818323 49.717031 L 26.818323 49.924653 L 26.853579 49.924653 L 26.853579 49.991249 L 26.94368 49.995166 L 26.94368 50.061762 L 26.978936 50.065679 L 26.978936 50.097019 L 27.057284 50.100936 L 27.057284 50.167532 L 27.182641 50.167532 L 27.182641 50.582776 L 27.390263 50.586693 L 27.390263 50.688546 L 27.574381 50.692463 L 27.574381 50.845242 L 27.778085 50.849159 L 27.778085 51.679648 L 27.903442 51.683565 L 27.903442 51.957783 L 27.98179 51.9617 L 27.98179 52.149735 L 28.107147 52.153653 L 28.107147 52.706006 L 28.702592 52.709923 L 28.702592 52.913628 L 28.737848 52.917545 L 28.737848 52.948885 L 28.827948 52.952802 L 28.827948 53.054654 L 28.941553 53.054654 L 28.941553 53.156507 L 29.070827 53.160424 L 29.070827 53.434642 L 29.274532 53.438559 L 29.274532 54.272965 L 29.603593 54.272965 L 29.603593 54.304304 L 29.662354 54.308222 L 29.662354 54.445331 L 29.787711 54.449248 L 29.787711 54.515844 L 29.866059 54.515844 L 29.866059 54.860575 L 29.995333 54.864492 L 29.995333 55.698898 L 30.199038 55.698898 L 30.199038 55.90652 L 30.437999 55.910438 L 30.437999 56.043629 L 30.563356 56.047547 L 30.563356 56.200325 L 30.829739 56.204243 L 30.829739 56.270839 L 30.955096 56.274756 L 30.955096 56.411865 L 31.1588 56.411865 L 31.1588 57.661515 L 31.362505 57.665432 L 31.362505 57.93965 L 31.491779 57.943568 L 31.491779 58.217786 L 31.754245 58.221703 L 31.754245 58.272629 L 31.879602 58.272629 L 31.879602 58.409738 L 32.083306 58.413656 L 32.083306 58.8289 L 32.322268 58.8289 L 32.322268 59.036522 L 32.416285 59.040439 L 32.416285 59.052191 L 32.451542 59.056109 L 32.451542 59.263731 L 32.52989 59.263731 L 32.52989 59.334244 L 32.655247 59.334244 L 32.655247 59.749488 L 33.043069 59.753406 L 33.043069 60.376272 L 33.246774 60.38019 L 33.246774 60.932543 L 33.376048 60.93646 L 33.376048 61.351704 L 33.579753 61.351704 L 33.579753 61.559326 L 33.615009 61.563244 L 33.615009 61.62984 L 34.17128 61.62984 L 34.17128 61.696435 L 34.210454 61.700353 L 34.210454 61.837462 L 34.300554 61.841379 L 34.300554 61.872718 L 34.335811 61.872718 L 34.335811 61.974571 L 34.414159 61.978488 L 34.414159 62.115597 L 34.539515 62.119514 L 34.539515 62.950003 L 34.74322 62.95392 L 34.74322 63.471017 L 35.13496 63.474934 L 35.13496 63.890179 L 35.260317 63.890179 L 35.260317 64.097801 L 35.338665 64.101718 L 35.338665 64.238827 L 35.464021 64.238827 L 35.464021 64.654071 L 35.499278 64.657989 L 35.499278 64.689328 L 35.702983 64.693245 L 35.702983 65.00272 L 35.910605 65.006637 L 35.910605 65.10849 L 36.035961 65.10849 L 36.035961 65.175085 L 36.298427 65.179003 L 36.298427 65.386625 L 36.423784 65.386625 L 36.423784 65.942895 L 36.631406 65.942895 L 36.631406 67.090693 L 36.960468 67.090693 L 36.960468 67.157289 L 37.222933 67.161206 L 37.222933 67.227802 L 37.34829 67.23172 L 37.34829 67.541194 L 37.555912 67.545111 L 37.555912 67.646964 L 37.591169 67.650881 L 37.591169 67.854586 L 37.794873 67.858503 L 37.794873 68.273748 L 37.92023 68.273748 L 37.92023 68.688992 L 38.123935 68.692909 L 38.123935 68.830018 L 38.308053 68.830018 L 38.308053 68.896614 L 38.515675 68.900531 L 38.515675 70.463573 L 38.719379 70.467491 L 38.719379 70.741709 L 38.844736 70.745626 L 38.844736 70.882735 L 38.958341 70.882735 L 38.958341 70.914074 L 39.087615 70.917991 L 39.087615 71.125614 L 39.475437 71.125614 L 39.475437 71.227466 L 39.679142 71.231383 L 39.679142 71.85425 L 39.804499 71.858167 L 39.804499 72.132385 L 39.882847 72.136302 L 39.882847 72.273411 L 40.012121 72.277329 L 40.012121 72.829682 L 40.399943 72.833599 L 40.399943 72.931534 L 40.603648 72.935452 L 40.603648 73.350696 L 40.729005 73.354613 L 40.729005 73.558318 L 40.842609 73.562235 L 40.842609 73.613162 L 40.936627 73.613162 L 40.936627 73.679757 L 40.971884 73.683675 L 40.971884 73.820784 L 41.175588 73.824701 L 41.175588 74.236028 L 41.50465 74.239945 L 41.50465 74.255615 L 41.563411 74.259532 L 41.563411 74.463237 L 41.692685 74.467155 L 41.692685 74.569007 L 41.771033 74.572924 L 41.771033 74.847142 L 41.89639 74.85106 L 41.89639 75.681548 L 42.100094 75.685465 L 42.100094 76.10071 L 42.695539 76.10071 L 42.695539 76.151636 L 42.730795 76.155553 L 42.730795 76.186892 L 42.820896 76.186892 L 42.820896 76.324001 L 42.856152 76.327919 L 42.856152 76.394515 L 43.059857 76.398432 L 43.059857 77.021298 L 43.263562 77.025216 L 43.263562 77.299434 L 43.392836 77.303351 L 43.392836 77.648082 L 43.655302 77.648082 L 43.655302 77.749934 L 43.780658 77.753852 L 43.780658 78.02807 L 43.984363 78.031987 L 43.984363 78.862476 L 44.317342 78.866393 L 44.317342 78.897732 L 44.352598 78.90165 L 44.352598 78.968245 L 44.430946 78.972163 L 44.430946 79.003502 L 44.556303 79.007419 L 44.556303 79.211124 L 44.944126 79.215041 L 44.944126 79.630286 L 45.151748 79.634203 L 45.151748 80.186556 L 45.277105 80.190474 L 45.277105 80.758496 L 45.480809 80.762414 L 45.480809 81.036632 L 45.868632 81.040549 L 45.868632 81.350024 L 46.076254 81.353941 L 46.076254 81.49105 L 46.201611 81.494967 L 46.201611 81.561563 L 46.236867 81.561563 L 46.236867 81.59682 L 46.315215 81.59682 L 46.315215 81.663416 L 46.440572 81.667333 L 46.440572 82.290199 L 46.644277 82.294117 L 46.644277 82.603591 L 47.036016 82.607509 L 47.036016 83.230375 L 47.161373 83.234292 L 47.161373 83.579023 L 47.239721 83.579023 L 47.239721 83.716132 L 47.365078 83.72005 L 47.365078 84.272403 L 47.607957 84.27632 L 47.607957 84.429099 L 48.199484 84.433016 L 48.199484 84.534869 L 48.289584 84.538786 L 48.289584 84.570125 L 48.324841 84.570125 L 48.324841 84.985369 L 48.532463 84.989287 L 48.532463 85.819775 L 48.861524 85.823693 L 48.861524 85.925545 L 49.045642 85.929462 L 49.045642 85.941215 L 49.12399 85.945132 L 49.12399 86.082241 L 49.249347 86.086158 L 49.249347 86.709025 L 49.456969 86.712942 L 49.456969 87.022417 L 49.492225 87.026334 L 49.492225 87.124269 L 49.69593 87.128186 L 49.69593 87.265295 L 49.821287 87.269213 L 49.821287 87.472917 L 50.028909 87.476835 L 50.028909 87.543431 L 50.213027 87.547348 L 50.213027 87.6492 L 50.416731 87.6492 L 50.416731 88.898851 L 50.620436 88.902768 L 50.620436 89.282756 L 50.745793 89.286673 L 50.745793 89.560891 L 51.341237 89.564808 L 51.341237 89.874283 L 51.376494 89.8782 L 51.376494 89.925209 L 51.580199 89.929126 L 51.580199 90.136748 L 51.709473 90.136748 L 51.709473 90.273857 L 51.783903 90.277775 L 51.783903 90.379627 L 51.913178 90.379627 L 51.913178 90.935898 L 52.301 90.935898 L 52.301 91.14352 L 52.504705 91.147437 L 52.504705 91.840817 L 52.633979 91.840817 L 52.633979 92.256061 L 52.837684 92.259978 L 52.837684 92.397087 L 53.076645 92.397087 L 53.076645 92.60471 L 53.464467 92.608627 L 53.464467 92.741818 L 53.593741 92.745736 L 53.593741 92.812332 L 53.672089 92.816249 L 53.672089 93.023871 L 53.797446 93.023871 L 53.797446 93.858277 L 54.001151 93.858277 L 54.001151 94.273521 L 54.388973 94.277439 L 54.388973 94.379291 L 54.518248 94.383208 L 54.518248 94.449804 L 54.596596 94.449804 L 54.596596 94.551657 L 54.721952 94.555574 L 54.721952 94.829792 L 54.960914 94.833709 L 54.960914 95.143184 L 55.168536 95.147101 L 55.168536 95.28421 L 55.293892 95.28421 L 55.293892 95.491832 L 55.556358 95.49575 L 55.556358 95.648528 L 55.681715 95.652446 L 55.681715 96.063772 L 55.88542 96.06769 L 55.88542 96.902096 L 56.218398 96.902096 L 56.218398 97.003948 L 56.253655 97.007865 L 56.253655 97.039205 L 56.809926 97.043122 L 56.809926 97.144974 L 56.8491 97.148892 L 56.8491 97.352596 L 57.052804 97.356514 L 57.052804 97.630732 L 57.178161 97.634649 L 57.178161 98.049893 L 57.381866 98.049893 L 57.381866 98.394624 L 57.773606 98.398542 L 57.773606 99.021408 L 57.97731 99.025326 L 57.97731 99.299544 L 58.102667 99.303461 L 58.102667 99.511083 L 58.137924 99.511083 L 58.137924 99.526753 L 58.341628 99.53067 L 58.341628 99.734375 L 58.549251 99.738292 L 58.549251 99.891071 L 58.937073 99.894988 L 58.937073 100.310232 L 59.06243 100.31415 L 59.06243 100.588368 L 59.140778 100.592285 L 59.140778 100.725477 L 59.266135 100.729394 L 59.266135 101.493287 L 59.861579 101.493287 L 59.861579 101.630396 L 59.986936 101.634313 L 59.986936 101.787092 L 60.190641 101.791009 L 60.190641 101.857605 L 60.229815 101.861522 L 60.229815 101.994714 L 60.433519 101.998631 L 60.433519 102.621497 L 60.762581 102.625415 L 60.762581 102.692011 L 60.946698 102.695928 L 60.946698 102.727267 L 61.025046 102.731185 L 61.025046 102.934889 L 61.154321 102.938807 L 61.154321 103.980835 L 61.358025 103.980835 L 61.358025 104.396079 L 61.596987 104.399996 L 61.596987 104.466592 L 61.722343 104.47051 L 61.722343 104.572362 L 62.114083 104.572362 L 62.114083 104.638958 L 62.317788 104.642875 L 62.317788 105.579133 L 62.521493 105.583051 L 62.521493 105.857269 L 62.646849 105.861186 L 62.646849 106.135404 L 63.038589 106.139321 L 63.038589 106.205917 L 63.242294 106.209834 L 63.242294 106.832701 L 63.481255 106.836618 L 63.481255 106.934553 L 63.575273 106.938471 L 63.575273 106.96981 L 63.610529 106.973727 L 63.610529 107.040323 L 63.688877 107.04424 L 63.688877 107.07558 L 63.814234 107.079497 L 63.814234 107.353715 L 64.202057 107.357632 L 64.202057 107.667107 L 64.405761 107.671024 L 64.405761 108.223377 L 64.535035 108.227295 L 64.535035 108.642539 L 64.73874 108.642539 L 64.73874 108.920674 L 65.330267 108.920674 L 65.330267 109.022527 L 65.369441 109.026444 L 65.369441 109.09304 L 65.459542 109.096957 L 65.459542 109.163553 L 65.494798 109.163553 L 65.494798 109.198809 L 65.573146 109.198809 L 65.573146 109.265405 L 65.698503 109.269323 L 65.698503 109.684567 L 65.902208 109.688484 L 65.902208 110.099811 L 66.293947 110.103729 L 66.293947 110.311351 L 66.419304 110.311351 L 66.419304 110.44846 L 66.497652 110.452377 L 66.497652 110.624743 L 66.623009 110.624743 L 66.623009 111.181013 L 67.069592 111.181013 L 67.069592 111.247609 L 67.194949 111.251526 L 67.194949 111.353379 L 67.457415 111.357296 L 67.457415 111.459148 L 67.582771 111.463066 L 67.582771 111.737284 L 67.786476 111.741201 L 67.786476 112.57169 L 68.119455 112.575607 L 68.119455 112.708799 L 68.381921 112.712716 L 68.381921 112.744055 L 68.507278 112.747973 L 68.507278 112.955595 L 68.7149 112.955595 L 68.7149 113.163217 L 68.953861 113.167134 L 68.953861 113.300326 L 69.079218 113.304243 L 69.079218 113.613718 L 69.282922 113.617635 L 69.282922 113.825257 L 69.674662 113.825257 L 69.674662 114.761515 L 69.878367 114.765433 L 69.878367 115.039651 L 70.003724 115.043568 L 70.003724 115.317786 L 70.246602 115.321703 L 70.246602 115.423556 L 70.83813 115.427473 L 70.83813 115.631178 L 70.92823 115.635095 L 70.92823 115.650765 L 70.963486 115.654682 L 70.963486 115.858387 L 71.041834 115.862304 L 71.041834 115.9289 L 71.171109 115.932817 L 71.171109 116.485171 L 71.762636 116.489088 L 71.762636 116.763306 L 71.887992 116.767223 L 71.887992 117.076698 L 72.095615 117.080615 L 72.095615 117.28432 L 72.130871 117.288237 L 72.130871 117.354833 L 72.334576 117.358751 L 72.334576 117.562455 L 72.663637 117.566373 L 72.663637 117.597712 L 72.851672 117.601629 L 72.851672 117.648638 L 72.926103 117.652555 L 72.926103 117.789664 L 73.055377 117.793582 L 73.055377 118.62407 L 73.259082 118.627988 L 73.259082 119.199928 L 73.854526 119.199928 L 73.854526 119.231267 L 73.979883 119.235184 L 73.979883 119.442807 L 74.01514 119.442807 L 74.01514 119.478063 L 74.218845 119.478063 L 74.218845 119.787538 L 74.422549 119.791455 L 74.422549 119.999077 L 74.551823 119.999077 L 74.551823 120.277212 L 74.939646 120.28113 L 74.939646 120.414321 L 75.143351 120.418239 L 75.143351 121.460267 L 75.476329 121.460267 L 75.476329 121.526863 L 75.589934 121.53078 L 75.589934 121.54645 L 75.715291 121.550367 L 75.715291 121.683558 L 76.103113 121.687476 L 76.103113 121.895098 L 76.310735 121.895098 L 76.310735 122.310342 L 76.436092 122.31426 L 76.436092 122.729504 L 76.639797 122.733421 L 76.639797 123.007639 L 77.027619 123.011557 L 77.027619 123.164335 L 77.235241 123.168252 L 77.235241 123.371957 L 77.360598 123.375875 L 77.360598 123.512984 L 77.474203 123.512984 L 77.474203 123.544323 L 77.599559 123.54824 L 77.599559 123.755862 L 77.803264 123.755862 L 77.803264 123.963484 L 78.195004 123.967402 L 78.195004 124.276876 L 78.320361 124.280794 L 78.320361 124.484498 L 78.398709 124.488416 L 78.398709 124.625525 L 78.524065 124.625525 L 78.524065 125.181795 L 79.358471 125.185713 L 79.358471 125.232721 L 79.448572 125.236639 L 79.448572 125.303235 L 79.483828 125.307152 L 79.483828 125.440344 L 79.69145 125.444261 L 79.69145 125.859505 L 80.020512 125.863423 L 80.020512 126.031871 L 80.282977 126.035788 L 80.282977 126.102384 L 80.408334 126.106301 L 80.408334 126.521546 L 80.615956 126.521546 L 80.615956 126.93679 L 80.980274 126.940707 L 80.980274 127.04256 L 81.187896 127.046477 L 81.187896 127.148329 L 81.575719 127.148329 L 81.575719 127.771196 L 81.779424 127.775113 L 81.779424 128.049331 L 81.90478 128.053248 L 81.90478 128.433236 L 82.500225 128.437153 L 82.500225 128.640858 L 82.829286 128.644776 L 82.829286 128.676115 L 82.86846 128.680032 L 82.86846 128.746628 L 82.942891 128.750545 L 82.942891 128.781885 L 83.072165 128.785802 L 83.072165 129.197129 L 83.663692 129.201046 L 83.663692 129.61629 L 83.792966 129.620208 L 83.792966 130.137304 L 83.996671 130.141222 L 83.996671 130.41544 L 84.235632 130.419357 L 84.235632 130.521209 L 84.752729 130.525127 L 84.752729 130.556466 L 84.831077 130.556466 L 84.831077 130.623062 L 84.956434 130.626979 L 84.956434 131.249846 L 85.160139 131.253763 L 85.160139 131.669007 L 85.677235 131.672925 L 85.677235 131.704264 L 85.755583 131.708181 L 85.755583 131.774777 L 85.88094 131.774777 L 85.88094 132.190021 L 86.119901 132.193939 L 86.119901 132.346717 L 86.327523 132.350635 L 86.327523 132.41723 L 86.45288 132.421148 L 86.45288 132.554339 L 86.840702 132.558257 L 86.840702 132.765879 L 87.044407 132.765879 L 87.044407 133.600285 L 87.377386 133.600285 L 87.377386 133.737394 L 87.968913 133.741311 L 87.968913 133.89409 L 88.008087 133.898007 L 88.008087 133.999859 L 88.211792 134.003777 L 88.211792 134.136968 L 88.337149 134.140886 L 88.337149 134.348508 L 88.540853 134.348508 L 88.540853 134.626643 L 88.932593 134.626643 L 88.932593 134.940035 L 89.136298 134.940035 L 89.136298 135.284766 L 89.261655 135.288683 L 89.261655 135.562901 L 89.708238 135.566819 L 89.708238 135.668671 L 90.096061 135.672588 L 90.096061 135.876293 L 90.221417 135.880211 L 90.221417 136.01732 L 90.299765 136.021237 L 90.299765 136.119172 L 90.425122 136.123089 L 90.425122 136.67936 L 91.020567 136.67936 L 91.020567 136.745956 L 91.145923 136.749873 L 91.145923 136.851725 L 91.349628 136.855643 L 91.349628 136.988834 L 91.592507 136.992752 L 91.592507 137.200374 L 91.921568 137.204291 L 91.921568 137.302226 L 92.184034 137.306144 L 92.184034 137.407996 L 92.313308 137.411913 L 92.313308 138.03478 L 92.517013 138.038697 L 92.517013 138.450024 L 92.881331 138.453941 L 92.881331 138.504868 L 93.476775 138.504868 L 93.476775 138.818259 L 93.68048 138.818259 L 93.68048 138.955368 L 93.805837 138.959286 L 93.805837 139.233504 L 94.401282 139.237421 L 94.401282 139.652665 L 94.730343 139.656583 L 94.730343 139.754518 L 94.769517 139.758435 L 94.769517 139.789774 L 94.973222 139.793692 L 94.973222 139.930801 L 95.564749 139.934718 L 95.564749 140.208936 L 95.694023 140.212853 L 95.694023 140.62418 L 95.897728 140.628098 L 95.897728 141.008085 L 96.489255 141.012003 L 96.489255 141.078598 L 96.618529 141.082516 L 96.618529 141.180451 L 96.653786 141.184368 L 96.653786 141.200038 L 96.85749 141.203955 L 96.85749 141.40766 L 97.061195 141.411577 L 97.061195 141.721052 L 97.578292 141.724969 L 97.578292 141.791565 L 97.65664 141.795482 L 97.65664 141.897335 L 97.781996 141.897335 L 97.781996 142.590714 L 98.22858 142.594632 L 98.22858 142.625971 L 98.353937 142.629888 L 98.353937 142.696484 L 98.741759 142.700401 L 98.741759 142.833593 L 98.945464 142.83751 L 98.945464 143.460377 L 99.278443 143.464294 L 99.278443 143.601403 L 99.666265 143.601403 L 99.666265 143.703255 L 99.86997 143.707173 L 99.86997 144.016647 L 100.112849 144.020565 L 100.112849 144.08716 L 100.238205 144.091078 L 100.238205 144.19293 L 100.44191 144.19293 L 100.44191 144.330039 L 100.83365 144.333957 L 100.83365 144.800127 L 101.037355 144.804044 L 101.037355 145.078262 L 101.162711 145.08218 L 101.162711 145.356398 L 101.997117 145.360315 L 101.997117 145.462167 L 102.087217 145.462167 L 102.087217 145.497424 L 102.122474 145.497424 L 102.122474 145.56402 L 102.200822 145.567937 L 102.200822 145.599276 L 102.330096 145.603194 L 102.330096 145.877412 L 102.921623 145.881329 L 102.921623 146.018438 L 103.04698 146.022355 L 103.04698 146.22606 L 103.254602 146.229977 L 103.254602 146.504195 L 103.822625 146.508113 L 103.822625 146.555121 L 104.085091 146.559039 L 104.085091 146.625635 L 104.214365 146.629552 L 104.214365 147.044796 L 104.418069 147.044796 L 104.418069 147.460041 L 105.009597 147.463958 L 105.009597 147.479628 L 105.138871 147.479628 L 105.138871 147.616736 L 105.581537 147.620654 L 105.581537 147.68725 L 105.710811 147.691167 L 105.710811 147.894872 L 106.302338 147.898789 L 106.302338 148.521656 L 106.635317 148.525573 L 106.635317 148.662682 L 106.874278 148.662682 L 106.874278 148.729278 L 107.469723 148.733195 L 107.469723 148.870304 L 107.59508 148.874221 L 107.59508 149.183696 L 107.798784 149.187613 L 107.798784 149.461831 L 108.394229 149.465749 L 108.394229 149.59894 L 108.519586 149.602857 L 108.519586 149.81048 L 108.758547 149.81048 L 108.758547 149.912332 L 108.962252 149.916249 L 108.962252 150.018102 L 109.479348 150.022019 L 109.479348 150.123871 L 109.557696 150.123871 L 109.557696 150.190467 L 109.683053 150.194385 L 109.683053 150.746738 L 110.607559 150.750655 L 110.607559 150.852508 L 110.642816 150.856425 L 110.642816 150.923021 L 110.850438 150.926938 L 110.850438 151.130643 L 111.179499 151.13456 L 111.179499 151.271669 L 111.567322 151.271669 L 111.567322 151.479291 L 111.774944 151.483209 L 111.774944 152.000305 L 112.346884 152.004223 L 112.346884 152.070819 L 112.734706 152.074736 L 112.734706 152.38421 L 112.938411 152.388128 L 112.938411 152.591833 L 113.063768 152.59575 L 113.063768 152.869968 L 113.659212 152.873885 L 113.659212 152.975738 L 113.988274 152.975738 L 113.988274 153.042333 L 114.101879 153.046251 L 114.101879 153.06192 L 114.231153 153.065838 L 114.231153 153.199029 L 114.82268 153.202947 L 114.82268 153.410569 L 114.951954 153.410569 L 114.951954 153.723961 L 115.155659 153.723961 L 115.155659 154.002096 L 115.990065 154.002096 L 115.990065 154.037353 L 116.115421 154.037353 L 116.115421 154.244975 L 116.319126 154.248892 L 116.319126 154.452597 L 116.914571 154.456514 L 116.914571 154.487853 L 117.039927 154.491771 L 117.039927 154.765989 L 117.611868 154.769906 L 117.611868 154.836502 L 118.203395 154.840419 L 118.203395 155.251746 L 118.536374 155.255664 L 118.536374 155.443699 L 119.127901 155.447616 L 119.127901 155.549468 L 119.496136 155.553386 L 119.496136 155.651321 L 119.699841 155.655238 L 119.699841 155.86286 L 120.295286 155.86286 L 120.295286 156.070482 L 120.420642 156.0744 L 120.420642 156.419131 L 120.867226 156.423048 L 120.867226 156.470057 L 121.380405 156.473974 L 121.380405 156.54057 L 121.458753 156.544488 L 121.458753 156.575827 L 121.58411 156.579744 L 121.58411 156.991071 L 122.304911 156.994988 L 122.304911 157.045915 L 122.508616 157.045915 L 122.508616 157.253537 L 122.751494 157.257454 L 122.751494 157.359306 L 123.080556 157.359306 L 123.080556 157.425902 L 123.472296 157.42982 L 123.472296 157.739294 L 123.676 157.743212 L 123.676 158.158456 L 124.635763 158.162373 L 124.635763 158.315152 L 124.839468 158.315152 L 124.839468 158.385665 L 124.964825 158.385665 L 124.964825 158.522774 L 125.560269 158.526691 L 125.560269 158.730396 L 125.889331 158.734313 L 125.889331 158.871422 L 126.723736 158.87534 L 126.723736 159.008531 L 126.853011 159.012449 L 126.853011 159.220071 L 127.056715 159.220071 L 127.056715 159.498206 L 127.648242 159.498206 L 127.648242 159.533463 L 127.777517 159.533463 L 127.777517 159.600058 L 128.220183 159.603976 L 128.220183 159.705828 L 128.815627 159.709746 L 128.815627 159.756754 L 128.940984 159.760672 L 128.940984 160.175916 L 129.512924 160.179833 L 129.512924 160.211173 L 130.104451 160.211173 L 130.104451 160.418795 L 130.43743 160.422712 L 130.43743 160.559821 L 131.028957 160.559821 L 131.028957 160.767443 L 131.397193 160.771361 L 131.397193 160.818369 L 131.600898 160.822287 L 131.600898 160.888883 L 132.196342 160.8928 L 132.196342 161.025991 L 132.321699 161.029909 L 132.321699 161.304127 L 133.246205 161.308044 L 133.246205 161.35897 L 133.281462 161.35897 L 133.281462 161.394227 L 133.489084 161.394227 L 133.489084 161.531336 L 134.205968 161.535253 L 134.205968 161.637106 L 134.41359 161.641023 L 134.41359 161.985754 L 134.981612 161.985754 L 134.981612 162.017093 L 135.373352 162.021011 L 135.373352 162.228633 L 135.577057 162.228633 L 135.577057 162.542025 L 136.297858 162.542025 L 136.297858 162.60862 L 136.740524 162.612538 L 136.740524 162.643877 L 136.869799 162.647794 L 136.869799 162.71439 L 137.461326 162.718308 L 137.461326 163.027782 L 137.794305 163.031699 L 137.794305 163.164891 L 138.62871 163.168808 L 138.62871 163.235404 L 138.754067 163.239322 L 138.754067 163.341174 L 138.957772 163.345091 L 138.957772 163.478283 L 139.553216 163.4822 L 139.553216 163.548796 L 139.678573 163.552713 L 139.678573 163.689822 L 140.716684 163.689822 L 140.716684 163.725079 L 140.842041 163.725079 L 140.842041 164.003214 L 141.766547 164.003214 L 141.766547 164.06981 L 142.338487 164.073727 L 142.338487 164.17558 L 142.933931 164.179497 L 142.933931 164.488972 L 143.501954 164.492889 L 143.501954 164.524228 L 144.097399 164.528146 L 144.097399 164.594741 L 144.222755 164.594741 L 144.222755 164.802364 L 145.147262 164.806281 L 145.147262 164.904216 L 145.39014 164.908133 L 145.39014 164.974729 L 146.107024 164.978647 L 146.107024 165.131425 L 146.314646 165.135342 L 146.314646 165.40956 L 147.274409 165.413478 L 147.274409 165.51533 L 147.478114 165.519248 L 147.478114 165.617182 L 148.198915 165.6211 L 148.198915 165.758209 L 149.362382 165.762126 L 149.362382 165.965831 L 149.695361 165.969748 L 149.695361 166.106857 L 150.286888 166.110775 L 150.286888 166.157783 L 150.858829 166.161701 L 150.858829 166.228297 L 151.454273 166.232214 L 151.454273 166.334066 L 151.57963 166.334066 L 151.57963 166.541689 L 152.61774 166.545606 L 152.61774 166.557358 L 152.743097 166.561276 L 152.743097 166.698384 L 153.667603 166.702302 L 153.667603 166.835493 L 154.239543 166.839411 L 154.239543 166.87075 L 154.834988 166.874667 L 154.834988 167.078372 L 156.123812 167.08229 L 156.123812 167.148885 L 157.048318 167.152803 L 157.048318 167.325168 L 158.011998 167.325168 L 158.011998 167.427021 L 158.215703 167.430938 L 158.215703 167.63856 L 158.936504 167.63856 L 158.936504 167.669899 L 159.37917 167.673817 L 159.37917 167.724743 L 160.099972 167.724743 L 160.099972 167.932365 L 161.263439 167.936282 L 161.263439 168.038135 L 161.596418 168.038135 L 161.596418 168.104731 L 162.187945 168.108648 L 162.187945 168.2105 L 163.35533 168.214418 L 163.35533 168.281013 L 163.480686 168.284931 L 163.480686 168.418122 L 164.405192 168.42204 L 164.405192 168.453379 L 165.572577 168.457296 L 165.572577 168.661001 L 166.1406 168.664919 L 166.1406 168.680588 L 166.736045 168.684506 L 166.736045 168.786358 L 168.028786 168.786358 L 168.028786 168.817697 L 168.953292 168.821614 L 168.953292 168.958723 L 169.913055 168.962641 L 169.913055 169.00965 L 170.116759 169.013567 L 170.116759 169.080163 L 170.837561 169.08408 L 170.837561 169.150676 L 172.001028 169.154593 L 172.001028 169.287785 L 172.925534 169.291702 L 172.925534 169.323041 L 173.497474 169.326959 L 173.497474 169.358298 L 174.092919 169.362215 L 174.092919 169.514994 L 175.256386 169.518911 L 175.256386 169.550251 L 175.381743 169.554168 L 175.381743 169.620764 L 176.306249 169.620764 L 176.306249 169.68736 L 177.473634 169.691277 L 177.473634 169.828386 L 180.854349 169.832303 L 180.854349 169.934156 L 182.017816 169.934156 L 182.017816 169.965495 L 182.738617 169.969412 L 182.738617 170.071265 L 183.902085 170.075182 L 183.902085 170.141778 L 184.826591 170.145695 L 184.826591 170.212291 L 185.993976 170.212291 L 185.993976 170.314143 L 188.207306 170.318061 L 188.207306 170.419913 L 189.37469 170.42383 L 189.37469 170.490426 L 192.755405 170.490426 L 192.755405 170.525683 L 194.639674 170.525683 L 194.639674 170.592279 L 195.56418 170.596196 L 195.56418 170.611866 L 196.731565 170.611866 L 196.731565 170.713718 L 197.895032 170.717635 L 197.895032 170.768562 L 200.11228 170.768562 L 200.11228 170.835157 L 204.656462 170.839075 L 204.656462 170.854744 L 206.540731 170.858662 L 206.540731 170.890001 L 207.465237 170.893918 L 207.465237 170.925257 L 208.632621 170.925257 L 208.632621 170.991853 L 212.013336 170.995771 L 212.013336 171.02711 L 219.366293 171.031027 L 219.366293 171.081953 L 220.533678 171.081953 L 220.533678 171.113293 L 231.271267 171.11721 L 231.271267 171.148549 L 243.172324 171.152467 L 243.172324 171.168136 \" transform=\"matrix(0.997154,0,0,-0.997154,37.699405,177.923198)\"/>\n",
       "</g>\n",
       "<g style=\"fill:rgb(0%,0%,0%);fill-opacity:1;\">\n",
       "  <use xlink:href=\"#glyph-1606366588244580-1-1\" x=\"112.82001\" y=\"203.645785\"/>\n",
       "</g>\n",
       "<g style=\"fill:rgb(0%,0%,0%);fill-opacity:1;\">\n",
       "  <use xlink:href=\"#glyph-1606366588244580-1-2\" x=\"121.758879\" y=\"203.645785\"/>\n",
       "</g>\n",
       "<g style=\"fill:rgb(0%,0%,0%);fill-opacity:1;\">\n",
       "  <use xlink:href=\"#glyph-1606366588244580-2-1\" x=\"130.266219\" y=\"203.645785\"/>\n",
       "  <use xlink:href=\"#glyph-1606366588244580-2-2\" x=\"134.528026\" y=\"203.645785\"/>\n",
       "  <use xlink:href=\"#glyph-1606366588244580-2-3\" x=\"140.330641\" y=\"203.645785\"/>\n",
       "  <use xlink:href=\"#glyph-1606366588244580-2-3\" x=\"146.002124\" y=\"203.645785\"/>\n",
       "</g>\n",
       "<g style=\"fill:rgb(0%,0%,0%);fill-opacity:1;\">\n",
       "  <use xlink:href=\"#glyph-1606366588244580-1-3\" x=\"151.673123\" y=\"203.645785\"/>\n",
       "  <use xlink:href=\"#glyph-1606366588244580-1-4\" x=\"155.563389\" y=\"203.645785\"/>\n",
       "  <use xlink:href=\"#glyph-1606366588244580-1-5\" x=\"162.513413\" y=\"203.645785\"/>\n",
       "</g>\n",
       "<g style=\"fill:rgb(0%,0%,0%);fill-opacity:1;\">\n",
       "  <use xlink:href=\"#glyph-1606366588244580-1-6\" x=\"168.873342\" y=\"203.645785\"/>\n",
       "  <use xlink:href=\"#glyph-1606366588244580-1-4\" x=\"174.610391\" y=\"203.645785\"/>\n",
       "  <use xlink:href=\"#glyph-1606366588244580-1-5\" x=\"181.560416\" y=\"203.645785\"/>\n",
       "</g>\n",
       "<g style=\"fill:rgb(0%,0%,0%);fill-opacity:1;\">\n",
       "  <use xlink:href=\"#glyph-1606366588244580-3-1\" x=\"187.407138\" y=\"205.940237\"/>\n",
       "  <use xlink:href=\"#glyph-1606366588244580-3-2\" x=\"193.450139\" y=\"205.940237\"/>\n",
       "  <use xlink:href=\"#glyph-1606366588244580-3-3\" x=\"196.9459\" y=\"205.940237\"/>\n",
       "</g>\n",
       "<g style=\"fill:rgb(0%,0%,0%);fill-opacity:1;\">\n",
       "  <use xlink:href=\"#glyph-1606366588244580-1-7\" x=\"201.163876\" y=\"203.645785\"/>\n",
       "</g>\n",
       "<g style=\"fill:rgb(0%,0%,0%);fill-opacity:1;\">\n",
       "  <use xlink:href=\"#glyph-1606366588244580-4-1\" x=\"11.288782\" y=\"132.072058\"/>\n",
       "</g>\n",
       "<g style=\"fill:rgb(0%,0%,0%);fill-opacity:1;\">\n",
       "  <use xlink:href=\"#glyph-1606366588244580-4-2\" x=\"11.288782\" y=\"125.537286\"/>\n",
       "  <use xlink:href=\"#glyph-1606366588244580-4-3\" x=\"11.288782\" y=\"121.64702\"/>\n",
       "  <use xlink:href=\"#glyph-1606366588244580-4-4\" x=\"11.288782\" y=\"114.696995\"/>\n",
       "</g>\n",
       "<g style=\"fill:rgb(0%,0%,0%);fill-opacity:1;\">\n",
       "  <use xlink:href=\"#glyph-1606366588244580-4-5\" x=\"11.288782\" y=\"108.337067\"/>\n",
       "  <use xlink:href=\"#glyph-1606366588244580-4-3\" x=\"11.288782\" y=\"102.600018\"/>\n",
       "  <use xlink:href=\"#glyph-1606366588244580-4-4\" x=\"11.288782\" y=\"95.649993\"/>\n",
       "</g>\n",
       "<g style=\"fill:rgb(0%,0%,0%);fill-opacity:1;\">\n",
       "  <use xlink:href=\"#glyph-1606366588244580-5-1\" x=\"13.583233\" y=\"89.803692\"/>\n",
       "  <use xlink:href=\"#glyph-1606366588244580-5-2\" x=\"13.583233\" y=\"83.760691\"/>\n",
       "  <use xlink:href=\"#glyph-1606366588244580-5-3\" x=\"13.583233\" y=\"80.264929\"/>\n",
       "</g>\n",
       "<g style=\"fill:rgb(0%,0%,0%);fill-opacity:1;\">\n",
       "  <use xlink:href=\"#glyph-1606366588244580-4-6\" x=\"11.288782\" y=\"73.012614\"/>\n",
       "</g>\n",
       "<g style=\"fill:rgb(0%,0%,0%);fill-opacity:1;\">\n",
       "  <use xlink:href=\"#glyph-1606366588244580-4-7\" x=\"11.288782\" y=\"62.90448\"/>\n",
       "</g>\n",
       "<g style=\"fill:rgb(0%,0%,0%);fill-opacity:1;\">\n",
       "  <use xlink:href=\"#glyph-1606366588244580-4-8\" x=\"11.288782\" y=\"56.992588\"/>\n",
       "</g>\n",
       "<path style=\"fill-rule:nonzero;fill:rgb(100%,100%,100%);fill-opacity:0.9;stroke-width:0.99628;stroke-linecap:butt;stroke-linejoin:miter;stroke:rgb(13.331604%,13.331604%,33.332825%);stroke-opacity:0.1;stroke-miterlimit:10;\" d=\"M 171.950102 5.634546 L 235.376701 5.634546 L 235.376701 102.12007 L 171.950102 102.12007 Z M 171.950102 5.634546 \" transform=\"matrix(0.997154,0,0,-0.997154,37.699405,177.923198)\"/>\n",
       "<path style=\"fill:none;stroke-width:1.19553;stroke-linecap:butt;stroke-linejoin:miter;stroke:rgb(93.331909%,46.665955%,19.999695%);stroke-opacity:1;stroke-miterlimit:10;\" d=\"M 0.00152159 -0.00153665 L 17.006948 -0.00153665 \" transform=\"matrix(0.997154,0,0,-0.997154,212.732858,84.670343)\"/>\n",
       "<g style=\"fill:rgb(13.331604%,13.331604%,33.332825%);fill-opacity:1;\">\n",
       "  <use xlink:href=\"#glyph-1606366588244580-0-8\" x=\"232.276081\" y=\"87.781464\"/>\n",
       "</g>\n",
       "<g style=\"fill:rgb(13.331604%,13.331604%,33.332825%);fill-opacity:1;\">\n",
       "  <use xlink:href=\"#glyph-1606366588244580-0-9\" x=\"245.305895\" y=\"87.781464\"/>\n",
       "</g>\n",
       "<g style=\"fill:rgb(13.331604%,13.331604%,33.332825%);fill-opacity:1;\">\n",
       "  <use xlink:href=\"#glyph-1606366588244580-0-4\" x=\"256.344877\" y=\"87.781464\"/>\n",
       "</g>\n",
       "<path style=\"fill:none;stroke-width:1.19553;stroke-linecap:butt;stroke-linejoin:miter;stroke:rgb(0%,46.665955%,73.33374%);stroke-opacity:1;stroke-miterlimit:10;\" d=\"M 0.00152159 -0.000921746 L 17.006948 -0.000921746 \" transform=\"matrix(0.997154,0,0,-0.997154,212.732858,97.846737)\"/>\n",
       "<g style=\"fill:rgb(13.331604%,13.331604%,33.332825%);fill-opacity:1;\">\n",
       "  <use xlink:href=\"#glyph-1606366588244580-0-8\" x=\"232.276081\" y=\"100.958855\"/>\n",
       "</g>\n",
       "<g style=\"fill:rgb(13.331604%,13.331604%,33.332825%);fill-opacity:1;\">\n",
       "  <use xlink:href=\"#glyph-1606366588244580-0-9\" x=\"245.305895\" y=\"100.958855\"/>\n",
       "</g>\n",
       "<g style=\"fill:rgb(13.331604%,13.331604%,33.332825%);fill-opacity:1;\">\n",
       "  <use xlink:href=\"#glyph-1606366588244580-0-10\" x=\"256.344877\" y=\"100.958855\"/>\n",
       "</g>\n",
       "<path style=\"fill:none;stroke-width:1.19553;stroke-linecap:butt;stroke-linejoin:miter;stroke:rgb(19.999695%,73.33374%,93.331909%);stroke-opacity:1;stroke-miterlimit:10;\" d=\"M 0.00152159 0.000693158 L 17.006948 0.000693158 \" transform=\"matrix(0.997154,0,0,-0.997154,212.732858,111.024129)\"/>\n",
       "<g style=\"fill:rgb(13.331604%,13.331604%,33.332825%);fill-opacity:1;\">\n",
       "  <use xlink:href=\"#glyph-1606366588244580-0-8\" x=\"232.276081\" y=\"114.13525\"/>\n",
       "</g>\n",
       "<g style=\"fill:rgb(13.331604%,13.331604%,33.332825%);fill-opacity:1;\">\n",
       "  <use xlink:href=\"#glyph-1606366588244580-0-9\" x=\"245.305895\" y=\"114.13525\"/>\n",
       "</g>\n",
       "<g style=\"fill:rgb(13.331604%,13.331604%,33.332825%);fill-opacity:1;\">\n",
       "  <use xlink:href=\"#glyph-1606366588244580-0-5\" x=\"256.344877\" y=\"114.13525\"/>\n",
       "</g>\n",
       "<path style=\"fill:none;stroke-width:1.19553;stroke-linecap:butt;stroke-linejoin:miter;stroke:rgb(93.331909%,19.999695%,46.665955%);stroke-opacity:1;stroke-miterlimit:10;\" d=\"M 0.00152159 0.00130806 L 17.006948 0.00130806 \" transform=\"matrix(0.997154,0,0,-0.997154,212.732858,124.200523)\"/>\n",
       "<g style=\"fill:rgb(13.331604%,13.331604%,33.332825%);fill-opacity:1;\">\n",
       "  <use xlink:href=\"#glyph-1606366588244580-0-8\" x=\"232.276081\" y=\"127.311644\"/>\n",
       "</g>\n",
       "<g style=\"fill:rgb(13.331604%,13.331604%,33.332825%);fill-opacity:1;\">\n",
       "  <use xlink:href=\"#glyph-1606366588244580-0-9\" x=\"245.305895\" y=\"127.311644\"/>\n",
       "</g>\n",
       "<g style=\"fill:rgb(13.331604%,13.331604%,33.332825%);fill-opacity:1;\">\n",
       "  <use xlink:href=\"#glyph-1606366588244580-0-11\" x=\"256.344877\" y=\"127.311644\"/>\n",
       "</g>\n",
       "<path style=\"fill:none;stroke-width:1.19553;stroke-linecap:butt;stroke-linejoin:miter;stroke:rgb(79.998779%,19.999695%,6.666565%);stroke-opacity:1;stroke-miterlimit:10;\" d=\"M 0.00152159 0.00192297 L 17.006948 0.00192297 \" transform=\"matrix(0.997154,0,0,-0.997154,212.732858,137.376917)\"/>\n",
       "<g style=\"fill:rgb(13.331604%,13.331604%,33.332825%);fill-opacity:1;\">\n",
       "  <use xlink:href=\"#glyph-1606366588244580-0-8\" x=\"232.276081\" y=\"140.489035\"/>\n",
       "</g>\n",
       "<g style=\"fill:rgb(13.331604%,13.331604%,33.332825%);fill-opacity:1;\">\n",
       "  <use xlink:href=\"#glyph-1606366588244580-0-9\" x=\"245.305895\" y=\"140.489035\"/>\n",
       "</g>\n",
       "<g style=\"fill:rgb(13.331604%,13.331604%,33.332825%);fill-opacity:1;\">\n",
       "  <use xlink:href=\"#glyph-1606366588244580-0-6\" x=\"256.344877\" y=\"140.489035\"/>\n",
       "</g>\n",
       "<path style=\"fill:none;stroke-width:1.19553;stroke-linecap:butt;stroke-linejoin:miter;stroke:rgb(0%,59.999084%,53.33252%);stroke-opacity:1;stroke-miterlimit:10;\" d=\"M 0.00152159 -0.000379529 L 17.006948 -0.000379529 \" transform=\"matrix(0.997154,0,0,-0.997154,212.732858,150.554309)\"/>\n",
       "<g style=\"fill:rgb(13.331604%,13.331604%,33.332825%);fill-opacity:1;\">\n",
       "  <use xlink:href=\"#glyph-1606366588244580-0-8\" x=\"232.276081\" y=\"153.66543\"/>\n",
       "</g>\n",
       "<g style=\"fill:rgb(13.331604%,13.331604%,33.332825%);fill-opacity:1;\">\n",
       "  <use xlink:href=\"#glyph-1606366588244580-0-9\" x=\"245.305895\" y=\"153.66543\"/>\n",
       "</g>\n",
       "<g style=\"fill:rgb(13.331604%,13.331604%,33.332825%);fill-opacity:1;\">\n",
       "  <use xlink:href=\"#glyph-1606366588244580-0-12\" x=\"256.344877\" y=\"153.66543\"/>\n",
       "</g>\n",
       "<path style=\"fill:none;stroke-width:1.19553;stroke-linecap:butt;stroke-linejoin:miter;stroke:rgb(73.33374%,73.33374%,73.33374%);stroke-opacity:1;stroke-miterlimit:10;\" d=\"M 0.00152159 0.000235375 L 17.006948 0.000235375 \" transform=\"matrix(0.997154,0,0,-0.997154,212.732858,163.730703)\"/>\n",
       "<g style=\"fill:rgb(13.331604%,13.331604%,33.332825%);fill-opacity:1;\">\n",
       "  <use xlink:href=\"#glyph-1606366588244580-0-8\" x=\"232.276081\" y=\"166.842821\"/>\n",
       "</g>\n",
       "<g style=\"fill:rgb(13.331604%,13.331604%,33.332825%);fill-opacity:1;\">\n",
       "  <use xlink:href=\"#glyph-1606366588244580-0-9\" x=\"245.305895\" y=\"166.842821\"/>\n",
       "</g>\n",
       "<g style=\"fill:rgb(13.331604%,13.331604%,33.332825%);fill-opacity:1;\">\n",
       "  <use xlink:href=\"#glyph-1606366588244580-0-7\" x=\"256.344877\" y=\"166.842821\"/>\n",
       "  <use xlink:href=\"#glyph-1606366588244580-0-1\" x=\"261.88821\" y=\"166.842821\"/>\n",
       "</g>\n",
       "</g>\n",
       "</svg>\n",
       "\n"
      ]
     },
     "execution_count": 153,
     "metadata": {},
     "output_type": "execute_result"
    }
   ],
   "source": [
    "NE = 4\n",
    "ΔEplot = plot(mid.(ΔEs(NE)), 0:1//3^NE:1-eps(),\n",
    "    label=latexstring(\"N = $NE\"),\n",
    "    xlim=(0, 1),\n",
    "    ylim=(0, 1),\n",
    "    key=:bottomright,\n",
    "    xlabel=L\"x \\in \\mathrm{supp}(\\Delta E/\\Delta E_\\text{max})\",\n",
    "    ylabel=L\"P(\\Delta E/\\Delta E_\\text{max} \\leqslant x)\")\n",
    "for NE in 5:10\n",
    "    plot!(ΔEplot, mid.(ΔEs(NE)), 0:1//3^NE:1-eps(), label=latexstring(\"N = $NE\"))\n",
    "end\n",
    "ΔEplot"
   ]
  },
  {
   "cell_type": "markdown",
   "metadata": {},
   "source": [
    "As expected, the density approaches a truncated normal distribution."
   ]
  },
  {
   "cell_type": "code",
   "execution_count": 154,
   "metadata": {
    "ExecuteTime": {
     "end_time": "2020-11-20T21:52:45.609000-08:00",
     "start_time": "2020-11-21T05:52:38.645Z"
    }
   },
   "outputs": [
    {
     "data": {
      "image/svg+xml": [
       "<?xml version=\"1.0\" encoding=\"UTF-8\"?>\n",
       "<svg xmlns=\"http://www.w3.org/2000/svg\" xmlns:xlink=\"http://www.w3.org/1999/xlink\" width=\"255.817pt\" height=\"189.953pt\" viewBox=\"0 0 255.817 189.953\" version=\"1.2\">\n",
       "<defs>\n",
       "<g>\n",
       "<symbol overflow=\"visible\" id=\"glyph-1606366588244581-0-0\">\n",
       "<path style=\"stroke:none;\" d=\"M 0 0 L 5.96875 0 L 5.96875 -8.34375 L 0 -8.34375 Z M 0.953125 -0.59375 L 2.984375 -3.640625 L 5.015625 -0.59375 Z M 0.59375 -7.203125 L 2.625 -4.171875 L 0.59375 -1.140625 Z M 3.34375 -4.171875 L 5.375 -7.203125 L 5.375 -1.140625 Z M 2.984375 -4.703125 L 0.953125 -7.734375 L 5.015625 -7.734375 Z M 2.984375 -4.703125 \"/>\n",
       "</symbol>\n",
       "<symbol overflow=\"visible\" id=\"glyph-1606366588244581-0-1\">\n",
       "<path style=\"stroke:none;\" d=\"M 2.71875 0.125 C 3.640625 0.125 5.046875 -0.8125 5.046875 -3.625 C 5.046875 -4.8125 4.75 -5.828125 4.234375 -6.515625 C 3.921875 -6.9375 3.421875 -7.296875 2.765625 -7.296875 C 1.59375 -7.296875 0.46875 -5.875 0.46875 -3.515625 C 0.46875 -2.234375 0.859375 -1.046875 1.515625 -0.375 C 1.859375 -0.046875 2.265625 0.125 2.71875 0.125 Z M 2.765625 -6.875 C 2.96875 -6.875 3.171875 -6.796875 3.3125 -6.671875 C 3.6875 -6.359375 4 -5.453125 4 -3.84375 C 4 -2.75 3.96875 -2 3.796875 -1.390625 C 3.53125 -0.40625 2.953125 -0.296875 2.734375 -0.296875 C 1.625 -0.296875 1.5 -2.34375 1.5 -3.375 C 1.5 -6.328125 2.234375 -6.875 2.765625 -6.875 Z M 2.765625 -6.875 \"/>\n",
       "</symbol>\n",
       "<symbol overflow=\"visible\" id=\"glyph-1606366588244581-0-2\">\n",
       "<path style=\"stroke:none;\" d=\"M 0.6875 -0.515625 C 0.6875 -0.171875 0.96875 0.125 1.3125 0.125 C 1.65625 0.125 1.953125 -0.171875 1.953125 -0.515625 C 1.953125 -0.859375 1.65625 -1.140625 1.3125 -1.140625 C 0.96875 -1.140625 0.6875 -0.859375 0.6875 -0.515625 Z M 0.6875 -0.515625 \"/>\n",
       "</symbol>\n",
       "<symbol overflow=\"visible\" id=\"glyph-1606366588244581-0-3\">\n",
       "<path style=\"stroke:none;\" d=\"M 0.734375 -5.59375 C 0.734375 -5.34375 0.953125 -5.125 1.203125 -5.125 C 1.40625 -5.125 1.765625 -5.34375 1.765625 -5.609375 C 1.765625 -5.703125 1.75 -5.765625 1.71875 -5.859375 C 1.703125 -5.9375 1.625 -6.046875 1.625 -6.140625 C 1.625 -6.4375 1.9375 -6.875 2.8125 -6.875 C 3.234375 -6.875 3.84375 -6.578125 3.84375 -5.421875 C 3.84375 -4.65625 3.578125 -4.046875 2.875 -3.328125 L 1.984375 -2.453125 C 0.8125 -1.25 0.625 -0.6875 0.625 0.03125 C 0.625 0.03125 1.234375 0 1.609375 0 L 3.703125 0 C 4.09375 0 4.640625 0.03125 4.640625 0.03125 C 4.796875 -0.609375 4.90625 -1.5 4.921875 -1.859375 C 4.859375 -1.921875 4.703125 -1.953125 4.578125 -1.921875 C 4.375 -1.078125 4.171875 -0.78125 3.734375 -0.78125 L 1.609375 -0.78125 C 1.609375 -1.34375 2.4375 -2.15625 2.5 -2.21875 L 3.703125 -3.375 C 4.390625 -4.046875 4.90625 -4.5625 4.90625 -5.46875 C 4.90625 -6.765625 3.84375 -7.296875 2.875 -7.296875 C 1.546875 -7.296875 0.734375 -6.3125 0.734375 -5.59375 Z M 0.734375 -5.59375 \"/>\n",
       "</symbol>\n",
       "<symbol overflow=\"visible\" id=\"glyph-1606366588244581-0-4\">\n",
       "<path style=\"stroke:none;\" d=\"M 3.8125 -2.265625 C 3.8125 -1.125 3.21875 -0.28125 2.5 -0.28125 C 2.046875 -0.28125 1.890625 -0.578125 1.703125 -0.828125 C 1.546875 -1.03125 1.34375 -1.203125 1.09375 -1.203125 C 0.875 -1.203125 0.640625 -1 0.640625 -0.765625 C 0.640625 -0.28125 1.65625 0.125 2.34375 0.125 C 3.828125 0.125 4.875 -0.96875 4.875 -2.46875 C 4.875 -3.640625 4.078125 -4.671875 2.734375 -4.671875 C 2.21875 -4.671875 1.78125 -4.5625 1.5625 -4.484375 L 1.8125 -6.484375 C 2.25 -6.4375 2.625 -6.375 3.203125 -6.375 C 3.5625 -6.375 3.96875 -6.390625 4.453125 -6.4375 L 4.65625 -7.25 L 4.5625 -7.296875 C 3.890625 -7.234375 3.234375 -7.171875 2.609375 -7.171875 C 2.15625 -7.171875 1.734375 -7.203125 1.3125 -7.234375 L 0.90625 -3.796875 C 1.546875 -4.03125 2 -4.078125 2.421875 -4.078125 C 3.203125 -4.078125 3.8125 -3.5625 3.8125 -2.265625 Z M 3.8125 -2.265625 \"/>\n",
       "</symbol>\n",
       "<symbol overflow=\"visible\" id=\"glyph-1606366588244581-0-5\">\n",
       "<path style=\"stroke:none;\" d=\"M 2.03125 -6.390625 L 4.171875 -6.390625 C 3.234375 -4.078125 2.296875 -1.75 1.484375 0.078125 L 1.578125 0.15625 L 2.390625 0.125 C 3.078125 -1.90625 3.734375 -3.890625 5.0625 -7.15625 L 4.875 -7.296875 C 4.671875 -7.25 4.40625 -7.171875 3.953125 -7.171875 L 1.5 -7.171875 C 1.09375 -7.171875 1.109375 -7.296875 0.890625 -7.34375 C 0.859375 -7.34375 0.84375 -7.34375 0.84375 -7.296875 C 0.84375 -6.734375 0.703125 -6.015625 0.609375 -5.390625 C 0.734375 -5.359375 0.859375 -5.34375 0.984375 -5.359375 C 1.25 -6.3125 1.65625 -6.390625 2.03125 -6.390625 Z M 2.03125 -6.390625 \"/>\n",
       "</symbol>\n",
       "<symbol overflow=\"visible\" id=\"glyph-1606366588244581-0-6\">\n",
       "<path style=\"stroke:none;\" d=\"M 3.4375 -1.453125 L 3.4375 -5.609375 C 3.4375 -6.328125 3.453125 -7.046875 3.484375 -7.203125 C 3.484375 -7.265625 3.453125 -7.265625 3.40625 -7.265625 C 2.75 -6.859375 2.109375 -6.5625 1.0625 -6.078125 C 1.09375 -5.9375 1.140625 -5.828125 1.25 -5.75 C 1.796875 -5.96875 2.0625 -6.046875 2.28125 -6.046875 C 2.484375 -6.046875 2.515625 -5.765625 2.515625 -5.359375 L 2.515625 -1.453125 C 2.515625 -0.46875 2.203125 -0.40625 1.359375 -0.375 C 1.296875 -0.296875 1.296875 -0.046875 1.359375 0.03125 C 1.953125 0.015625 2.375 0 3.03125 0 C 3.59375 0 3.890625 0.015625 4.484375 0.03125 C 4.546875 -0.046875 4.546875 -0.296875 4.484375 -0.375 C 3.640625 -0.40625 3.4375 -0.46875 3.4375 -1.453125 Z M 3.4375 -1.453125 \"/>\n",
       "</symbol>\n",
       "<symbol overflow=\"visible\" id=\"glyph-1606366588244581-0-7\">\n",
       "<path style=\"stroke:none;\" d=\"M 2.5625 -6.875 C 3.078125 -6.875 3.5625 -6.5625 3.5625 -5.796875 C 3.5625 -5.203125 2.875 -4.28125 1.6875 -4.109375 L 1.75 -3.734375 C 1.953125 -3.75 2.15625 -3.75 2.3125 -3.75 C 3 -3.75 3.890625 -3.5625 3.890625 -2.21875 C 3.890625 -0.625 2.828125 -0.296875 2.40625 -0.296875 C 1.796875 -0.296875 1.6875 -0.578125 1.546875 -0.78125 C 1.421875 -0.953125 1.265625 -1.09375 1.03125 -1.09375 C 0.78125 -1.09375 0.53125 -0.875 0.53125 -0.6875 C 0.53125 -0.203125 1.53125 0.125 2.25 0.125 C 3.671875 0.125 4.9375 -0.796875 4.9375 -2.375 C 4.9375 -3.6875 3.953125 -4.140625 3.25 -4.265625 L 3.234375 -4.296875 C 4.21875 -4.75 4.5 -5.25 4.5 -5.875 C 4.5 -6.234375 4.40625 -6.53125 4.125 -6.828125 C 3.859375 -7.09375 3.4375 -7.296875 2.828125 -7.296875 C 1.0625 -7.296875 0.5625 -6.140625 0.5625 -5.75 C 0.5625 -5.578125 0.6875 -5.34375 0.96875 -5.34375 C 1.390625 -5.34375 1.4375 -5.734375 1.4375 -5.96875 C 1.4375 -6.734375 2.265625 -6.875 2.5625 -6.875 Z M 2.5625 -6.875 \"/>\n",
       "</symbol>\n",
       "<symbol overflow=\"visible\" id=\"glyph-1606366588244581-1-0\">\n",
       "<path style=\"stroke:none;\" d=\"M 0 0 L 5.96875 0 L 5.96875 -8.34375 L 0 -8.34375 Z M 0.953125 -0.59375 L 2.984375 -3.640625 L 5.015625 -0.59375 Z M 0.59375 -7.203125 L 2.625 -4.171875 L 0.59375 -1.140625 Z M 3.34375 -4.171875 L 5.375 -7.203125 L 5.375 -1.140625 Z M 2.984375 -4.703125 L 0.953125 -7.734375 L 5.015625 -7.734375 Z M 2.984375 -4.703125 \"/>\n",
       "</symbol>\n",
       "<symbol overflow=\"visible\" id=\"glyph-1606366588244581-1-1\">\n",
       "<path style=\"stroke:none;\" d=\"M 2.4375 1.90625 C 2.625 1.578125 2.78125 1.25 2.921875 0.890625 C 3.890625 -1.421875 4.421875 -2.65625 5.046875 -4 C 5.28125 -4.5 5.453125 -4.6875 6.015625 -4.75 C 6.078125 -4.828125 6.078125 -5.078125 6.015625 -5.15625 C 5.765625 -5.140625 5.5 -5.125 5.15625 -5.125 C 4.8125 -5.125 4.4375 -5.140625 4.078125 -5.15625 C 4 -5.078125 4 -4.828125 4.078125 -4.75 C 4.453125 -4.71875 4.84375 -4.65625 4.65625 -4.21875 L 3.46875 -1.484375 C 3.375 -1.296875 3.28125 -1.25 3.171875 -1.5 L 2.109375 -3.984375 C 1.90625 -4.484375 1.84375 -4.703125 2.515625 -4.75 C 2.578125 -4.828125 2.578125 -5.078125 2.515625 -5.15625 C 2.0625 -5.140625 1.59375 -5.125 1.15625 -5.125 C 0.75 -5.125 0.4375 -5.140625 0.1875 -5.15625 C 0.125 -5.078125 0.125 -4.828125 0.1875 -4.75 C 0.671875 -4.703125 0.828125 -4.59375 1.140625 -3.859375 L 2.484375 -0.71875 C 2.59375 -0.484375 2.765625 0.078125 2.65625 0.40625 C 2.515625 0.796875 2.359375 1.140625 2.1875 1.5 C 2.0625 1.75 1.890625 1.859375 1.59375 1.859375 C 1.421875 1.859375 1.375 1.8125 1.25 1.8125 C 0.890625 1.8125 0.71875 2.171875 0.71875 2.328125 C 0.71875 2.578125 0.953125 2.765625 1.28125 2.765625 C 1.53125 2.765625 2.015625 2.671875 2.4375 1.90625 Z M 2.4375 1.90625 \"/>\n",
       "</symbol>\n",
       "<symbol overflow=\"visible\" id=\"glyph-1606366588244581-1-2\">\n",
       "<path style=\"stroke:none;\" d=\"M 2.5625 -1.453125 C 2.5625 -0.46875 2.234375 -0.40625 1.40625 -0.375 C 1.328125 -0.296875 1.328125 -0.046875 1.40625 0.03125 C 1.984375 0.015625 2.421875 0 3.0625 0 C 3.640625 0 3.921875 0.015625 4.515625 0.03125 C 4.59375 -0.046875 4.59375 -0.296875 4.515625 -0.375 C 3.6875 -0.40625 3.484375 -0.46875 3.484375 -1.453125 L 3.484375 -3.84375 C 3.484375 -4.546875 3.515625 -5.15625 3.515625 -5.15625 C 3.515625 -5.265625 3.453125 -5.28125 3.34375 -5.28125 C 2.765625 -5.09375 2.265625 -5 1.25 -4.78125 C 1.265625 -4.640625 1.3125 -4.515625 1.40625 -4.40625 C 1.75 -4.453125 2.0625 -4.484375 2.3125 -4.484375 C 2.515625 -4.484375 2.5625 -4.34375 2.5625 -3.734375 Z M 2.5625 -1.453125 \"/>\n",
       "</symbol>\n",
       "</g>\n",
       "<clipPath id=\"clip-1606366588244581-1\">\n",
       "  <path d=\"M 12 4 L 255.632812 4 L 255.632812 176 L 12 176 Z M 12 4 \"/>\n",
       "</clipPath>\n",
       "<clipPath id=\"clip-1606366588244581-2\">\n",
       "  <path d=\"M 12 6 L 255.632812 6 L 255.632812 171 L 12 171 Z M 12 6 \"/>\n",
       "</clipPath>\n",
       "<clipPath id=\"clip-1606366588244581-3\">\n",
       "  <path d=\"M 12 6 L 255.632812 6 L 255.632812 171 L 12 171 Z M 12 6 \"/>\n",
       "</clipPath>\n",
       "<clipPath id=\"clip-1606366588244581-4\">\n",
       "  <path d=\"M 12.390625 4.488281 L 255.386719 4.488281 L 255.386719 175.535156 L 12.390625 175.535156 Z M 12.390625 4.488281 \"/>\n",
       "</clipPath>\n",
       "</defs>\n",
       "<g id=\"surface1\">\n",
       "<g clip-path=\"url(#clip-1606366588244581-1)\" clip-rule=\"nonzero\">\n",
       "<path style=\" stroke:none;fill-rule:nonzero;fill:rgb(100%,100%,100%);fill-opacity:1;\" d=\"M 12.390625 175.535156 L 255.386719 175.535156 L 255.386719 4.488281 L 12.390625 4.488281 Z M 12.390625 175.535156 \"/>\n",
       "</g>\n",
       "<path style=\"fill:none;stroke-width:0.49814;stroke-linecap:butt;stroke-linejoin:miter;stroke:rgb(13.331604%,13.331604%,33.332825%);stroke-opacity:0.1;stroke-miterlimit:10;\" d=\"M 15.445123 0.000715703 L 15.445123 171.16995 M 68.514309 0.000715703 L 68.514309 171.16995 M 121.587404 0.000715703 L 121.587404 171.16995 M 174.656591 0.000715703 L 174.656591 171.16995 M 227.725777 0.000715703 L 227.725777 171.16995 \" transform=\"matrix(0.999285,0,0,-0.999285,12.390137,175.535871)\"/>\n",
       "<g clip-path=\"url(#clip-1606366588244581-2)\" clip-rule=\"nonzero\">\n",
       "<path style=\"fill:none;stroke-width:0.49814;stroke-linecap:butt;stroke-linejoin:miter;stroke:rgb(13.331604%,13.331604%,33.332825%);stroke-opacity:0.1;stroke-miterlimit:10;\" d=\"M 0.000488697 4.844022 L 243.170411 4.844022 M 0.000488697 59.426008 L 243.170411 59.426008 M 0.000488697 114.007994 L 243.170411 114.007994 M 0.000488697 168.59389 L 243.170411 168.59389 \" transform=\"matrix(0.999285,0,0,-0.999285,12.390137,175.535871)\"/>\n",
       "</g>\n",
       "<path style=\"fill:none;stroke-width:0.19925;stroke-linecap:butt;stroke-linejoin:miter;stroke:rgb(50%,50%,50%);stroke-opacity:1;stroke-miterlimit:10;\" d=\"M 15.445123 0.000715703 L 15.445123 4.253756 M 68.514309 0.000715703 L 68.514309 4.253756 M 121.587404 0.000715703 L 121.587404 4.253756 M 174.656591 0.000715703 L 174.656591 4.253756 M 227.725777 0.000715703 L 227.725777 4.253756 M 15.445123 171.16995 L 15.445123 166.920819 M 68.514309 171.16995 L 68.514309 166.920819 M 121.587404 171.16995 L 121.587404 166.920819 M 174.656591 171.16995 L 174.656591 166.920819 M 227.725777 171.16995 L 227.725777 166.920819 \" transform=\"matrix(0.999285,0,0,-0.999285,12.390137,175.535871)\"/>\n",
       "<g clip-path=\"url(#clip-1606366588244581-3)\" clip-rule=\"nonzero\">\n",
       "<path style=\"fill:none;stroke-width:0.19925;stroke-linecap:butt;stroke-linejoin:miter;stroke:rgb(50%,50%,50%);stroke-opacity:1;stroke-miterlimit:10;\" d=\"M 0.000488697 4.844022 L 4.253529 4.844022 M 0.000488697 59.426008 L 4.253529 59.426008 M 0.000488697 114.007994 L 4.253529 114.007994 M 0.000488697 168.59389 L 4.253529 168.59389 M 243.170411 4.844022 L 238.917371 4.844022 M 243.170411 59.426008 L 238.917371 59.426008 M 243.170411 114.007994 L 238.917371 114.007994 M 243.170411 168.59389 L 238.917371 168.59389 \" transform=\"matrix(0.999285,0,0,-0.999285,12.390137,175.535871)\"/>\n",
       "</g>\n",
       "<g style=\"fill:rgb(0%,0%,0%);fill-opacity:1;\">\n",
       "  <use xlink:href=\"#glyph-1606366588244581-0-1\" x=\"18.175998\" y=\"186.340143\"/>\n",
       "  <use xlink:href=\"#glyph-1606366588244581-0-2\" x=\"23.731178\" y=\"186.340143\"/>\n",
       "  <use xlink:href=\"#glyph-1606366588244581-0-1\" x=\"26.359435\" y=\"186.340143\"/>\n",
       "  <use xlink:href=\"#glyph-1606366588244581-0-1\" x=\"31.914615\" y=\"186.340143\"/>\n",
       "</g>\n",
       "<g style=\"fill:rgb(0%,0%,0%);fill-opacity:1;\">\n",
       "  <use xlink:href=\"#glyph-1606366588244581-0-1\" x=\"71.208061\" y=\"186.352134\"/>\n",
       "  <use xlink:href=\"#glyph-1606366588244581-0-2\" x=\"76.763241\" y=\"186.352134\"/>\n",
       "  <use xlink:href=\"#glyph-1606366588244581-0-3\" x=\"79.391498\" y=\"186.352134\"/>\n",
       "  <use xlink:href=\"#glyph-1606366588244581-0-4\" x=\"84.946678\" y=\"186.352134\"/>\n",
       "</g>\n",
       "<g style=\"fill:rgb(0%,0%,0%);fill-opacity:1;\">\n",
       "  <use xlink:href=\"#glyph-1606366588244581-0-1\" x=\"124.241123\" y=\"186.352134\"/>\n",
       "  <use xlink:href=\"#glyph-1606366588244581-0-2\" x=\"129.796304\" y=\"186.352134\"/>\n",
       "  <use xlink:href=\"#glyph-1606366588244581-0-4\" x=\"132.424561\" y=\"186.352134\"/>\n",
       "  <use xlink:href=\"#glyph-1606366588244581-0-1\" x=\"137.979741\" y=\"186.352134\"/>\n",
       "</g>\n",
       "<g style=\"fill:rgb(0%,0%,0%);fill-opacity:1;\">\n",
       "  <use xlink:href=\"#glyph-1606366588244581-0-1\" x=\"177.273187\" y=\"186.388108\"/>\n",
       "  <use xlink:href=\"#glyph-1606366588244581-0-2\" x=\"182.828367\" y=\"186.388108\"/>\n",
       "  <use xlink:href=\"#glyph-1606366588244581-0-5\" x=\"185.456624\" y=\"186.388108\"/>\n",
       "  <use xlink:href=\"#glyph-1606366588244581-0-4\" x=\"191.011804\" y=\"186.388108\"/>\n",
       "</g>\n",
       "<g style=\"fill:rgb(0%,0%,0%);fill-opacity:1;\">\n",
       "  <use xlink:href=\"#glyph-1606366588244581-0-6\" x=\"230.30525\" y=\"186.340143\"/>\n",
       "  <use xlink:href=\"#glyph-1606366588244581-0-2\" x=\"235.86043\" y=\"186.340143\"/>\n",
       "  <use xlink:href=\"#glyph-1606366588244581-0-1\" x=\"238.488687\" y=\"186.340143\"/>\n",
       "  <use xlink:href=\"#glyph-1606366588244581-0-1\" x=\"244.043867\" y=\"186.340143\"/>\n",
       "</g>\n",
       "<g style=\"fill:rgb(0%,0%,0%);fill-opacity:1;\">\n",
       "  <use xlink:href=\"#glyph-1606366588244581-0-1\" x=\"3.318626\" y=\"174.278771\"/>\n",
       "</g>\n",
       "<g style=\"fill:rgb(0%,0%,0%);fill-opacity:1;\">\n",
       "  <use xlink:href=\"#glyph-1606366588244581-0-6\" x=\"3.318626\" y=\"119.771763\"/>\n",
       "</g>\n",
       "<g style=\"fill:rgb(0%,0%,0%);fill-opacity:1;\">\n",
       "  <use xlink:href=\"#glyph-1606366588244581-0-3\" x=\"3.318626\" y=\"65.240772\"/>\n",
       "</g>\n",
       "<g style=\"fill:rgb(0%,0%,0%);fill-opacity:1;\">\n",
       "  <use xlink:href=\"#glyph-1606366588244581-0-7\" x=\"3.318626\" y=\"10.649824\"/>\n",
       "</g>\n",
       "<g clip-path=\"url(#clip-1606366588244581-4)\" clip-rule=\"nonzero\">\n",
       "<path style=\"fill:none;stroke-width:1.19553;stroke-linecap:butt;stroke-linejoin:miter;stroke:rgb(93.331909%,46.665955%,19.999695%);stroke-opacity:1;stroke-miterlimit:10;\" d=\"M 6.880407 4.85184 L 6.993769 4.85184 L 7.107131 4.855749 L 7.216585 4.855749 L 7.443309 4.863567 L 7.552762 4.867476 L 7.666125 4.871385 L 7.779487 4.879203 L 7.88894 4.883112 L 8.002302 4.894839 L 8.115665 4.902657 L 8.225118 4.918294 L 8.33848 4.930021 L 8.565205 4.969111 L 8.674658 4.992565 L 8.901383 5.05511 L 9.010836 5.0942 L 9.124198 5.141109 L 9.237561 5.195836 L 9.347014 5.25838 L 9.460376 5.328743 L 9.573738 5.414742 L 9.683192 5.508559 L 9.796554 5.618012 L 9.909916 5.743102 L 10.019369 5.887737 L 10.132732 6.051916 L 10.246094 6.235641 L 10.355547 6.44673 L 10.468909 6.685182 L 10.582272 6.950997 L 10.691725 7.251993 L 10.805087 7.588171 L 10.91845 7.963439 L 11.027903 8.377798 L 11.141265 8.842974 L 11.254627 9.358968 L 11.364081 9.925779 L 11.477443 10.551226 L 11.590805 11.239218 L 11.700258 11.989755 L 11.813621 12.810654 L 11.926983 13.709734 L 12.036436 14.683086 L 12.149799 15.734619 L 12.263161 16.87606 L 12.372614 18.1035 L 12.485976 19.420848 L 12.599339 20.835922 L 12.708792 22.348722 L 12.822154 23.959249 L 12.935516 25.667501 L 13.04497 27.481298 L 13.158332 29.400638 L 13.271694 31.421614 L 13.381148 33.544225 L 13.49451 35.772381 L 13.607872 38.098262 L 13.717325 40.525779 L 13.830688 43.051021 L 13.94405 45.666172 L 14.053503 48.367322 L 14.166865 51.158379 L 14.280228 54.023709 L 14.389681 56.96331 L 14.503043 59.969365 L 14.616406 63.034056 L 14.725859 66.149564 L 14.839221 69.311981 L 14.952583 72.509579 L 15.062037 75.730632 L 15.175399 78.975139 L 15.288761 82.227464 L 15.398214 85.483698 L 15.511577 88.728204 L 15.624939 91.960984 L 15.734392 95.162492 L 15.847755 98.336636 L 15.961117 101.46778 L 16.07057 104.548107 L 16.183932 107.569798 L 16.297295 110.532854 L 16.406748 113.425547 L 16.52011 116.240059 L 16.633472 118.97639 L 16.742926 121.626722 L 16.856288 124.191055 L 16.96965 126.661571 L 17.079103 129.03827 L 17.192466 131.321152 L 17.305828 133.502399 L 17.415281 135.589828 L 17.528644 137.579532 L 17.642006 139.4676 L 17.751459 141.265761 L 17.864821 142.966195 L 17.978184 144.572812 L 18.087637 146.09343 L 18.200999 147.524141 L 18.314362 148.872761 L 18.423815 150.139291 L 18.537177 151.33155 L 18.650539 152.449537 L 18.759993 153.49716 L 18.873355 154.478331 L 18.986717 155.396956 L 19.09617 156.260855 L 19.209533 157.070027 L 19.322895 157.824473 L 19.432348 158.535919 L 19.54571 159.200456 L 19.659073 159.821994 L 19.768526 160.408351 L 19.881888 160.955617 L 19.995251 161.471611 L 20.104704 161.956332 L 20.218066 162.409782 L 20.331428 162.831958 L 20.440882 163.230681 L 20.554244 163.60204 L 20.667606 163.949945 L 20.777059 164.274396 L 20.890422 164.571483 L 21.003784 164.845116 L 21.113237 165.099204 L 21.2266 165.325929 L 21.339962 165.529199 L 21.449415 165.712924 L 21.562777 165.869286 L 21.67614 166.006102 L 21.785593 166.115556 L 21.898955 166.205464 L 22.012317 166.268008 L 22.121771 166.311008 L 22.235133 166.326644 L 22.348495 166.322735 L 22.461858 166.295372 L 22.571311 166.248463 L 22.684673 166.182009 L 22.798035 166.092101 L 22.907489 165.982648 L 23.020851 165.857559 L 23.134213 165.716833 L 23.243666 165.560471 L 23.357029 165.392382 L 23.470391 165.212566 L 23.579844 165.021023 L 23.693207 164.821662 L 23.806569 164.618392 L 23.916022 164.407303 L 24.142747 163.985126 L 24.2522 163.777947 L 24.365562 163.570768 L 24.478924 163.371406 L 24.588378 163.179863 L 24.70174 162.996138 L 24.815102 162.82414 L 24.924556 162.65996 L 25.037918 162.515326 L 25.15128 162.382418 L 25.260733 162.265147 L 25.374096 162.167421 L 25.487458 162.085331 L 25.596911 162.018877 L 25.710273 161.971969 L 25.823636 161.944605 L 25.933089 161.932878 L 26.046451 161.940696 L 26.159814 161.964151 L 26.269267 162.00715 L 26.382629 162.061877 L 26.495991 162.132239 L 26.605445 162.218238 L 26.718807 162.315964 L 26.832169 162.421509 L 26.941622 162.53878 L 27.054985 162.663869 L 27.168347 162.792868 L 27.2778 162.925775 L 27.391162 163.062592 L 27.504525 163.195499 L 27.613978 163.328407 L 27.72734 163.457405 L 27.840703 163.578586 L 27.950156 163.695857 L 28.063518 163.797492 L 28.17688 163.891309 L 28.286334 163.96949 L 28.399696 164.035944 L 28.513058 164.082853 L 28.622511 164.114125 L 28.735874 164.125852 L 28.849236 164.118034 L 28.958689 164.09458 L 29.072052 164.047671 L 29.185414 163.977308 L 29.294867 163.891309 L 29.408229 163.781856 L 29.521592 163.648949 L 29.631045 163.500405 L 29.744407 163.332316 L 29.857769 163.148591 L 29.967223 162.945321 L 30.080585 162.726414 L 30.193947 162.491871 L 30.303401 162.245602 L 30.416763 161.987605 L 30.530125 161.72179 L 30.639578 161.448157 L 30.752941 161.170614 L 30.866303 160.889163 L 30.975756 160.603803 L 31.202481 160.040901 L 31.311934 159.767268 L 31.425296 159.497544 L 31.538659 159.235638 L 31.648112 158.985459 L 31.761474 158.747007 L 31.874836 158.520282 L 31.98429 158.309194 L 32.097652 158.113742 L 32.211014 157.933926 L 32.320467 157.769746 L 32.43383 157.62902 L 32.547192 157.503931 L 32.656645 157.398387 L 32.770008 157.308479 L 32.88337 157.242025 L 32.992823 157.191207 L 33.106185 157.159935 L 33.219548 157.148208 L 33.329001 157.148208 L 33.442363 157.167753 L 33.555725 157.199025 L 33.665179 157.245934 L 33.778541 157.300661 L 33.891903 157.367114 L 34.001357 157.437477 L 34.228081 157.601657 L 34.337534 157.687656 L 34.450897 157.769746 L 34.564259 157.855745 L 34.673712 157.933926 L 34.787074 158.008198 L 34.900437 158.074651 L 35.00989 158.129378 L 35.123252 158.176287 L 35.236615 158.207559 L 35.346068 158.227104 L 35.45943 158.231013 L 35.572792 158.219286 L 35.682246 158.188014 L 35.795608 158.141105 L 35.90897 158.074651 L 36.022332 157.992561 L 36.131786 157.890926 L 36.245148 157.769746 L 36.35851 157.62902 L 36.467963 157.472659 L 36.581326 157.300661 L 36.694688 157.109117 L 36.804141 156.905847 L 36.917504 156.686941 L 37.030866 156.460216 L 37.140319 156.217855 L 37.253681 155.967676 L 37.367044 155.70968 L 37.476497 155.447774 L 37.589859 155.181959 L 37.703222 154.912234 L 37.812675 154.64251 L 38.039399 154.11088 L 38.148853 153.852883 L 38.262215 153.598796 L 38.375577 153.356435 L 38.48503 153.121892 L 38.598393 152.899077 L 38.711755 152.687988 L 38.821208 152.492536 L 38.93457 152.308811 L 39.047933 152.144631 L 39.157386 151.992178 L 39.270748 151.859271 L 39.384111 151.742 L 39.493564 151.644273 L 39.606926 151.562183 L 39.720288 151.49573 L 39.829742 151.448821 L 39.943104 151.417549 L 40.056466 151.401913 L 40.165919 151.398004 L 40.279282 151.41364 L 40.392644 151.437094 L 40.502097 151.472275 L 40.61546 151.519184 L 40.728822 151.573911 L 40.838275 151.632546 L 40.951637 151.699 L 41.065 151.769363 L 41.174453 151.835817 L 41.287815 151.906179 L 41.401177 151.972633 L 41.510631 152.031269 L 41.623993 152.085995 L 41.737355 152.128995 L 41.846809 152.164176 L 41.960171 152.187631 L 42.073533 152.199358 L 42.182986 152.19154 L 42.296349 152.168085 L 42.409711 152.128995 L 42.519164 152.06645 L 42.632526 151.988269 L 42.745889 151.890543 L 42.855342 151.769363 L 42.968704 151.628637 L 43.082067 151.468366 L 43.19152 151.284641 L 43.304882 151.08528 L 43.418244 150.862465 L 43.527698 150.624013 L 43.64106 150.366016 L 43.754422 150.092383 L 43.863875 149.803114 L 43.977238 149.498208 L 44.0906 149.185485 L 44.200053 148.861034 L 44.313416 148.528765 L 44.426778 148.192587 L 44.536231 147.848591 L 44.762956 147.1606 L 44.872409 146.816604 L 44.985771 146.476517 L 45.099133 146.144248 L 45.208587 145.819797 L 45.321949 145.503165 L 45.435311 145.19435 L 45.544764 144.901172 L 45.658127 144.62363 L 45.771489 144.357815 L 45.880942 144.107636 L 45.994305 143.877002 L 46.107667 143.662005 L 46.21712 143.462644 L 46.330482 143.286737 L 46.443845 143.126466 L 46.553298 142.98574 L 46.66666 142.860651 L 46.780023 142.755107 L 46.889476 142.669108 L 47.002838 142.598745 L 47.1162 142.544018 L 47.225654 142.501019 L 47.339016 142.473655 L 47.452378 142.458019 L 47.561831 142.45411 L 47.675194 142.45411 L 47.788556 142.465837 L 47.898009 142.481473 L 48.011371 142.504928 L 48.124734 142.524473 L 48.234187 142.547927 L 48.460912 142.587018 L 48.570365 142.598745 L 48.683727 142.602654 L 48.797089 142.598745 L 48.906543 142.583109 L 49.019905 142.559654 L 49.133267 142.520564 L 49.24272 142.465837 L 49.356083 142.399384 L 49.469445 142.317294 L 49.578898 142.215658 L 49.692261 142.098387 L 49.805623 141.96548 L 49.918985 141.813027 L 50.028438 141.644938 L 50.141801 141.457304 L 50.255163 141.254034 L 50.364616 141.039036 L 50.477978 140.804493 L 50.591341 140.558224 L 50.700794 140.296318 L 50.814156 140.026594 L 50.927519 139.745142 L 51.036972 139.451964 L 51.150334 139.154877 L 51.263696 138.85388 L 51.37315 138.548975 L 51.599874 137.931346 L 51.709327 137.622531 L 51.936052 137.020538 L 52.045505 136.731269 L 52.158868 136.445909 L 52.27223 136.172276 L 52.381683 135.91037 L 52.495045 135.656282 L 52.608408 135.421739 L 52.717861 135.195015 L 52.831223 134.987835 L 52.944585 134.796292 L 53.054039 134.616476 L 53.167401 134.456205 L 53.280763 134.311571 L 53.390217 134.182572 L 53.503579 134.06921 L 53.616941 133.971484 L 53.726394 133.889394 L 53.839757 133.82294 L 53.953119 133.768214 L 54.062572 133.721305 L 54.175934 133.690033 L 54.289297 133.666578 L 54.39875 133.650942 L 54.512112 133.643124 L 54.625475 133.639215 L 54.734928 133.635306 L 54.84829 133.639215 L 54.961652 133.635306 L 55.071106 133.635306 L 55.184468 133.627488 L 55.29783 133.615761 L 55.407283 133.596216 L 55.520646 133.568852 L 55.634008 133.529762 L 55.743461 133.482853 L 55.856823 133.4164 L 55.970186 133.342128 L 56.079639 133.248311 L 56.193001 133.138857 L 56.306364 133.013768 L 56.415817 132.869133 L 56.529179 132.708863 L 56.642541 132.532956 L 56.751995 132.333594 L 56.865357 132.122506 L 56.978719 131.891872 L 57.088172 131.641693 L 57.201535 131.379787 L 57.314897 131.098336 L 57.42435 130.805158 L 57.537713 130.500252 L 57.651075 130.18362 L 57.87389 129.515173 L 57.987253 129.171177 L 58.096706 128.823272 L 58.32343 128.111826 L 58.432884 127.756103 L 58.546246 127.40038 L 58.659608 127.048566 L 58.769062 126.700661 L 58.882424 126.360575 L 58.995786 126.024397 L 59.105239 125.699946 L 59.218602 125.387222 L 59.331964 125.086226 L 59.441417 124.796957 L 59.554779 124.523324 L 59.668142 124.265327 L 59.777595 124.022966 L 59.890957 123.796241 L 60.00432 123.589062 L 60.113773 123.39361 L 60.227135 123.221612 L 60.340497 123.061341 L 60.449951 122.920615 L 60.563313 122.799435 L 60.676675 122.689982 L 60.786128 122.596165 L 60.899491 122.517984 L 61.012853 122.45153 L 61.122306 122.396804 L 61.235669 122.353804 L 61.349031 122.322532 L 61.458484 122.295168 L 61.685209 122.256078 L 61.794662 122.244351 L 61.908024 122.228715 L 62.021386 122.216987 L 62.13084 122.197442 L 62.244202 122.177897 L 62.357564 122.150534 L 62.467018 122.115352 L 62.58038 122.068444 L 62.693742 122.013717 L 62.803195 121.947263 L 62.916558 121.865173 L 63.02992 121.771356 L 63.139373 121.661903 L 63.252735 121.536814 L 63.366098 121.396088 L 63.47946 121.239726 L 63.588913 121.063819 L 63.702276 120.876185 L 63.815638 120.669006 L 63.925091 120.450099 L 64.038453 120.215557 L 64.151816 119.965378 L 64.261269 119.703472 L 64.374631 119.429839 L 64.487993 119.144479 L 64.597447 118.847391 L 64.710809 118.546395 L 64.824171 118.233671 L 64.933624 117.920948 L 65.160349 117.279864 L 65.269802 116.959323 L 65.496527 116.31824 L 65.60598 116.005516 L 65.719342 115.696702 L 65.832705 115.395705 L 65.942158 115.098618 L 66.05552 114.817167 L 66.168883 114.539624 L 66.278336 114.277718 L 66.391698 114.02754 L 66.50506 113.789088 L 66.614514 113.566272 L 66.727876 113.355184 L 66.841238 113.159732 L 66.950691 112.979916 L 67.064054 112.811827 L 67.177416 112.659374 L 67.286869 112.522557 L 67.400231 112.397468 L 67.513594 112.284106 L 67.623047 112.182471 L 67.736409 112.096472 L 67.849772 112.018291 L 67.959225 111.947928 L 68.072587 111.889292 L 68.185949 111.834566 L 68.295403 111.783748 L 68.522127 111.697749 L 68.63158 111.65475 L 68.858305 111.568751 L 68.967758 111.517933 L 69.081121 111.463206 L 69.194483 111.404571 L 69.303936 111.334208 L 69.417298 111.256027 L 69.530661 111.16221 L 69.640114 111.060575 L 69.753476 110.943304 L 69.866838 110.814305 L 69.976292 110.66967 L 70.089654 110.5094 L 70.203016 110.333493 L 70.31247 110.141949 L 70.425832 109.93477 L 70.539194 109.708046 L 70.648647 109.469594 L 70.76201 109.215506 L 70.875372 108.945782 L 70.984825 108.660422 L 71.098187 108.363334 L 71.21155 108.05452 L 71.321003 107.733978 L 71.434365 107.401709 L 71.547728 107.065532 L 71.657181 106.717627 L 71.770543 106.369722 L 71.883905 106.013999 L 71.993359 105.658276 L 72.106721 105.298644 L 72.220083 104.94292 L 72.329536 104.591106 L 72.442899 104.239292 L 72.556261 103.895297 L 72.665714 103.559119 L 72.779077 103.230759 L 72.892439 102.910217 L 73.001892 102.601403 L 73.115254 102.304316 L 73.228617 102.022864 L 73.33807 101.75314 L 73.451432 101.495143 L 73.564794 101.252783 L 73.674248 101.026058 L 73.78761 100.81497 L 73.900972 100.619517 L 74.010425 100.435792 L 74.123788 100.271612 L 74.23715 100.11916 L 74.346603 99.982343 L 74.459966 99.857254 L 74.573328 99.747801 L 74.682781 99.650074 L 74.796143 99.560166 L 74.909506 99.481986 L 75.018959 99.411623 L 75.132321 99.349078 L 75.245684 99.290442 L 75.355137 99.235716 L 75.468499 99.188807 L 75.581861 99.13799 L 75.691315 99.091081 L 75.918039 98.989446 L 76.027492 98.93081 L 76.140855 98.868266 L 76.254217 98.797903 L 76.36367 98.723631 L 76.477032 98.633723 L 76.590395 98.539906 L 76.699848 98.430453 L 76.81321 98.309272 L 76.926573 98.180274 L 77.036026 98.03173 L 77.149388 97.875368 L 77.26275 97.70337 L 77.376113 97.515736 L 77.485566 97.316375 L 77.598928 97.105287 L 77.71229 96.878562 L 77.821744 96.64011 L 77.935106 96.389931 L 78.048468 96.128025 L 78.157922 95.858301 L 78.271284 95.580759 L 78.384646 95.29149 L 78.494099 94.998312 L 78.607462 94.697315 L 78.720824 94.39241 L 78.830277 94.087504 L 79.057002 93.469875 L 79.166455 93.16497 L 79.279817 92.860064 L 79.39318 92.559068 L 79.502633 92.261981 L 79.615995 91.972711 L 79.729357 91.695169 L 79.838811 91.421536 L 79.952173 91.155721 L 80.065535 90.905542 L 80.174988 90.663181 L 80.288351 90.432548 L 80.401713 90.21755 L 80.511166 90.010371 L 80.624529 89.818828 L 80.737891 89.639012 L 80.847344 89.474832 L 80.960706 89.322379 L 81.074069 89.177745 L 81.183522 89.048746 L 81.296884 88.931475 L 81.410246 88.822022 L 81.5197 88.724295 L 81.633062 88.634387 L 81.746424 88.548388 L 81.855878 88.474117 L 82.082602 88.333391 L 82.192055 88.266937 L 82.305418 88.204393 L 82.41878 88.137939 L 82.528233 88.071485 L 82.641595 88.005031 L 82.754958 87.930759 L 82.864411 87.84867 L 82.977773 87.762671 L 83.091136 87.668853 L 83.200589 87.563309 L 83.313951 87.449947 L 83.427313 87.324858 L 83.536767 87.19195 L 83.650129 87.039497 L 83.763491 86.879227 L 83.872944 86.707229 L 83.986307 86.515685 L 84.099669 86.316324 L 84.209122 86.101327 L 84.322484 85.874602 L 84.435847 85.63615 L 84.5453 85.382063 L 84.658662 85.120157 L 84.772025 84.846523 L 84.881478 84.561163 L 84.99484 84.267985 L 85.108202 83.966988 L 85.217656 83.658174 L 85.331018 83.34545 L 85.44438 83.028818 L 85.553833 82.704367 L 85.667196 82.383826 L 85.780558 82.059375 L 85.890011 81.738833 L 86.116736 81.09775 L 86.226189 80.788935 L 86.339551 80.480121 L 86.452914 80.183034 L 86.562367 79.889855 L 86.675729 79.608404 L 86.789091 79.334771 L 86.898545 79.072865 L 87.011907 78.822686 L 87.125269 78.588143 L 87.234723 78.361419 L 87.348085 78.15033 L 87.461447 77.954878 L 87.5709 77.767244 L 87.684263 77.599155 L 87.797625 77.438884 L 87.907078 77.298159 L 88.02044 77.165251 L 88.133803 77.044071 L 88.243256 76.938527 L 88.356618 76.840801 L 88.469981 76.754802 L 88.579434 76.676621 L 88.692796 76.610167 L 88.806158 76.547622 L 88.915612 76.488987 L 89.142336 76.387351 L 89.251789 76.340443 L 89.478514 76.246626 L 89.587967 76.195808 L 89.70133 76.144991 L 89.814692 76.086355 L 89.924145 76.019901 L 90.037507 75.949538 L 90.15087 75.871358 L 90.260323 75.78145 L 90.373685 75.683723 L 90.487047 75.57427 L 90.596501 75.456999 L 90.709863 75.324091 L 90.823225 75.179457 L 90.932679 75.023095 L 91.046041 74.855006 L 91.159403 74.67519 L 91.272765 74.483647 L 91.382219 74.280377 L 91.495581 74.065379 L 91.608943 73.842564 L 91.718396 73.608021 L 91.831759 73.361751 L 91.945121 73.107663 L 92.054574 72.849666 L 92.167937 72.583851 L 92.281299 72.314127 L 92.390752 72.036585 L 92.504114 71.759043 L 92.617477 71.477592 L 92.72693 71.20005 L 92.840292 70.918598 L 92.953654 70.641056 L 93.063108 70.363514 L 93.289832 69.824066 L 93.399285 69.566069 L 93.512648 69.311981 L 93.62601 69.065711 L 93.735463 68.823351 L 93.848826 68.596626 L 93.962188 68.37772 L 94.071641 68.166631 L 94.185003 67.96727 L 94.298366 67.775727 L 94.407819 67.59982 L 94.521181 67.431731 L 94.634544 67.275369 L 94.743997 67.126825 L 94.857359 66.990009 L 94.970721 66.864919 L 95.080175 66.747648 L 95.193537 66.642104 L 95.306899 66.540469 L 95.416352 66.446652 L 95.529715 66.360653 L 95.643077 66.278563 L 95.75253 66.204291 L 95.865892 66.130019 L 95.979255 66.059656 L 96.088708 65.989293 L 96.315433 65.848568 L 96.424886 65.774296 L 96.538248 65.700024 L 96.65161 65.617934 L 96.761064 65.531935 L 96.874426 65.438118 L 96.987788 65.336483 L 97.097241 65.22703 L 97.210604 65.109758 L 97.323966 64.984669 L 97.433419 64.847853 L 97.546782 64.699309 L 97.660144 64.539038 L 97.769597 64.370949 L 97.882959 64.191133 L 97.996322 63.99959 L 98.105775 63.79632 L 98.219137 63.581322 L 98.332499 63.358507 L 98.441953 63.123964 L 98.555315 62.881603 L 98.668677 62.631424 L 98.778131 62.373427 L 98.891493 62.111521 L 99.004855 61.841797 L 99.114308 61.568164 L 99.227671 61.290622 L 99.341033 61.009171 L 99.450486 60.72772 L 99.563848 60.446269 L 99.677211 60.168726 L 99.786664 59.891184 L 99.900026 59.617551 L 100.013389 59.347827 L 100.122842 59.082012 L 100.236204 58.827924 L 100.349566 58.577745 L 100.45902 58.335385 L 100.572382 58.100842 L 100.685744 57.878026 L 100.795197 57.666938 L 100.90856 57.463668 L 101.021922 57.276034 L 101.131375 57.096218 L 101.244738 56.928129 L 101.3581 56.771767 L 101.467553 56.627132 L 101.580915 56.490316 L 101.694278 56.369135 L 101.803731 56.255773 L 101.917093 56.154138 L 102.030455 56.060321 L 102.139909 55.974322 L 102.253271 55.90005 L 102.366633 55.829687 L 102.476086 55.767142 L 102.589449 55.708507 L 102.702811 55.65378 L 102.812264 55.602963 L 102.925627 55.552145 L 103.038989 55.505237 L 103.148442 55.458328 L 103.261804 55.411419 L 103.375167 55.356693 L 103.48462 55.305875 L 103.597982 55.24724 L 103.711345 55.180786 L 103.820798 55.114332 L 103.93416 55.036151 L 104.047522 54.954061 L 104.156976 54.860244 L 104.270338 54.762518 L 104.3837 54.653065 L 104.493153 54.531884 L 104.606516 54.406795 L 104.719878 54.266069 L 104.829331 54.121435 L 104.942693 53.965073 L 105.056056 53.796984 L 105.169418 53.621077 L 105.278871 53.437352 L 105.392234 53.245809 L 105.505596 53.042539 L 105.615049 52.835359 L 105.728411 52.624271 L 105.841774 52.405364 L 105.951227 52.17864 L 106.064589 51.951915 L 106.177951 51.721282 L 106.287405 51.486739 L 106.400767 51.252196 L 106.514129 51.021563 L 106.623583 50.78702 L 106.850307 50.325753 L 106.95976 50.099028 L 107.186485 49.661215 L 107.295938 49.454036 L 107.4093 49.250766 L 107.522663 49.051404 L 107.632116 48.86377 L 107.745478 48.683954 L 107.858841 48.511956 L 107.968294 48.347776 L 108.081656 48.195324 L 108.195018 48.050689 L 108.304472 47.913872 L 108.417834 47.788783 L 108.531196 47.671512 L 108.640649 47.562058 L 108.754012 47.460423 L 108.867374 47.366606 L 108.976827 47.280607 L 109.09019 47.202426 L 109.203552 47.128154 L 109.313005 47.057792 L 109.53973 46.932702 L 109.649183 46.874067 L 109.875907 46.756795 L 109.985361 46.702069 L 110.098723 46.639524 L 110.212085 46.580888 L 110.321539 46.514434 L 110.434901 46.447981 L 110.548263 46.373709 L 110.657716 46.295528 L 110.771079 46.209529 L 110.884441 46.115712 L 110.993894 46.017986 L 111.107256 45.908533 L 111.220619 45.79517 L 111.330072 45.670081 L 111.443434 45.537173 L 111.556797 45.396448 L 111.66625 45.243995 L 111.779612 45.087633 L 111.892974 44.919544 L 112.002428 44.743637 L 112.11579 44.563821 L 112.229152 44.372278 L 112.338605 44.176826 L 112.451968 43.973556 L 112.56533 43.766376 L 112.674783 43.551379 L 112.788145 43.336381 L 112.901508 43.117475 L 113.010961 42.894659 L 113.237686 42.449028 L 113.347139 42.226213 L 113.460501 42.003397 L 113.573863 41.784491 L 113.683317 41.569493 L 113.796679 41.358405 L 113.910041 41.151226 L 114.019494 40.947955 L 114.246219 40.564869 L 114.355672 40.385053 L 114.469035 40.213055 L 114.582397 40.048875 L 114.69185 39.892513 L 114.805212 39.747879 L 114.918575 39.611062 L 115.028028 39.482064 L 115.14139 39.364792 L 115.254752 39.255339 L 115.364206 39.157613 L 115.477568 39.067705 L 115.59093 38.985615 L 115.700384 38.911343 L 115.813746 38.848799 L 115.927108 38.790163 L 116.036561 38.739345 L 116.149924 38.692437 L 116.263286 38.653346 L 116.372739 38.614256 L 116.599464 38.551711 L 116.708917 38.524348 L 116.822279 38.493075 L 116.935642 38.465712 L 117.045095 38.43444 L 117.158457 38.403167 L 117.271819 38.367986 L 117.381273 38.328896 L 117.494635 38.285896 L 117.607997 38.235079 L 117.71745 38.180352 L 117.830813 38.117807 L 117.944175 38.047444 L 118.053628 37.969264 L 118.166991 37.883265 L 118.280353 37.793357 L 118.389806 37.691721 L 118.503168 37.582268 L 118.616531 37.461088 L 118.729893 37.335998 L 118.839346 37.203091 L 118.952708 37.058456 L 119.066071 36.909913 L 119.175524 36.753551 L 119.288886 36.59328 L 119.402249 36.425191 L 119.511702 36.253193 L 119.738426 35.893561 L 119.84788 35.709836 L 119.961242 35.526111 L 120.074604 35.338477 L 120.184057 35.150843 L 120.410782 34.775574 L 120.520235 34.591849 L 120.74696 34.232217 L 120.856413 34.05631 L 121.083138 33.720132 L 121.192591 33.559861 L 121.305953 33.407409 L 121.419315 33.258865 L 121.528769 33.118139 L 121.642131 32.985232 L 121.755493 32.856234 L 121.864946 32.738962 L 121.978309 32.6256 L 122.091671 32.520056 L 122.201124 32.418421 L 122.314487 32.328513 L 122.427849 32.242514 L 122.537302 32.164333 L 122.650664 32.090061 L 122.764027 32.023607 L 122.87348 31.961062 L 123.100205 31.843791 L 123.209658 31.792973 L 123.32302 31.746065 L 123.436382 31.695247 L 123.545836 31.652248 L 123.77256 31.558431 L 123.882013 31.511522 L 124.108738 31.409887 L 124.218191 31.35516 L 124.331553 31.296525 L 124.444916 31.23398 L 124.554369 31.167526 L 124.667731 31.097164 L 124.781094 31.018983 L 124.890547 30.936893 L 125.003909 30.846985 L 125.117271 30.749259 L 125.226725 30.647623 L 125.340087 30.53817 L 125.453449 30.424808 L 125.562902 30.303628 L 125.676265 30.174629 L 125.789627 30.041722 L 125.89908 29.900996 L 126.012443 29.756361 L 126.125805 29.607818 L 126.235258 29.451456 L 126.34862 29.295094 L 126.461983 29.134823 L 126.571436 28.970643 L 126.79816 28.642284 L 126.907614 28.474195 L 127.020976 28.310015 L 127.134338 28.141926 L 127.243792 27.977746 L 127.470516 27.657205 L 127.579969 27.504752 L 127.693332 27.352299 L 127.806694 27.207664 L 127.916147 27.066939 L 128.029509 26.930122 L 128.142872 26.801124 L 128.252325 26.679943 L 128.365687 26.562672 L 128.47905 26.457128 L 128.588503 26.355493 L 128.701865 26.261676 L 128.815227 26.171768 L 128.924681 26.093587 L 129.038043 26.023224 L 129.151405 25.95677 L 129.260858 25.898135 L 129.374221 25.843408 L 129.487583 25.800408 L 129.597036 25.757409 L 129.710399 25.722228 L 129.823761 25.690955 L 129.933214 25.663592 L 130.046576 25.636229 L 130.159939 25.616683 L 130.269392 25.593229 L 130.382754 25.577593 L 130.496116 25.558048 L 130.60557 25.538502 L 130.718932 25.518957 L 130.832294 25.495503 L 130.941747 25.472049 L 131.05511 25.444685 L 131.168472 25.413413 L 131.277925 25.382141 L 131.391288 25.34305 L 131.50465 25.296142 L 131.614103 25.249233 L 131.727465 25.194507 L 131.840828 25.131962 L 131.950281 25.065508 L 132.063643 24.991236 L 132.177006 24.913055 L 132.286459 24.827056 L 132.399821 24.733239 L 132.513183 24.635513 L 132.626546 24.529969 L 132.849361 24.307154 L 132.962723 24.185973 L 133.072177 24.060884 L 133.185539 23.935794 L 133.298901 23.802887 L 133.408354 23.669979 L 133.635079 23.396346 L 133.744532 23.255621 L 133.857895 23.118804 L 133.971257 22.978078 L 134.08071 22.841262 L 134.194072 22.704445 L 134.307435 22.571538 L 134.416888 22.43863 L 134.53025 22.309632 L 134.643612 22.188451 L 134.753066 22.067271 L 134.866428 21.95 L 134.97979 21.840547 L 135.089244 21.735002 L 135.202606 21.637276 L 135.315968 21.543459 L 135.425421 21.453551 L 135.538784 21.371461 L 135.652146 21.297189 L 135.761599 21.226827 L 135.874961 21.164282 L 135.988324 21.105646 L 136.097777 21.05092 L 136.211139 21.004011 L 136.324502 20.961012 L 136.433955 20.921921 L 136.660679 20.859376 L 136.770133 20.832013 L 136.883495 20.80465 L 136.996857 20.781195 L 137.10631 20.757741 L 137.219673 20.738196 L 137.333035 20.714742 L 137.442488 20.691287 L 137.669213 20.644379 L 137.778666 20.617016 L 137.892028 20.585743 L 138.005391 20.550562 L 138.114844 20.51538 L 138.341568 20.429382 L 138.451022 20.378564 L 138.564384 20.323837 L 138.677746 20.261293 L 138.7872 20.194839 L 138.900562 20.124476 L 139.013924 20.050204 L 139.123377 19.968114 L 139.23674 19.882115 L 139.350102 19.792207 L 139.459555 19.69839 L 139.572917 19.600664 L 139.68628 19.49512 L 139.795733 19.389576 L 139.909095 19.280122 L 140.022458 19.16676 L 140.131911 19.053398 L 140.358635 18.818855 L 140.468089 18.697675 L 140.694813 18.463132 L 140.804266 18.341952 L 140.917629 18.22859 L 141.030991 18.111318 L 141.140444 18.001865 L 141.253806 17.892412 L 141.367169 17.786868 L 141.476622 17.681323 L 141.589984 17.583597 L 141.703347 17.48978 L 141.8128 17.403781 L 141.926162 17.317782 L 142.039524 17.239601 L 142.148978 17.165329 L 142.26234 17.098876 L 142.375702 17.036331 L 142.485155 16.977695 L 142.598518 16.926878 L 142.71188 16.883878 L 142.821333 16.844788 L 142.934696 16.809606 L 143.048058 16.778334 L 143.157511 16.75488 L 143.270873 16.731426 L 143.384236 16.715789 L 143.493689 16.700153 L 143.720413 16.684517 L 143.829867 16.676699 L 143.943229 16.67279 L 144.056591 16.67279 L 144.166045 16.668881 L 144.392769 16.661063 L 144.502222 16.657154 L 144.615585 16.653245 L 144.728947 16.645427 L 144.8384 16.633699 L 145.065125 16.602427 L 145.174578 16.578973 L 145.28794 16.55161 L 145.401303 16.520337 L 145.510756 16.485156 L 145.624118 16.446065 L 145.73748 16.399157 L 145.846934 16.352248 L 146.073658 16.234977 L 146.183111 16.168523 L 146.296474 16.09816 L 146.409836 16.023889 L 146.523198 15.945708 L 146.632652 15.863618 L 146.859376 15.683802 L 146.968829 15.593894 L 147.082192 15.496168 L 147.195554 15.40235 L 147.305007 15.300715 L 147.531732 15.105263 L 147.641185 15.003628 L 147.86791 14.808176 L 147.977363 14.71045 L 148.204087 14.522815 L 148.313541 14.436817 L 148.426903 14.350818 L 148.540265 14.268728 L 148.649718 14.186638 L 148.763081 14.112366 L 148.876443 14.042003 L 148.985896 13.975549 L 149.212621 13.858278 L 149.322074 13.80746 L 149.435436 13.756643 L 149.548799 13.713643 L 149.658252 13.674553 L 149.771614 13.639371 L 149.884976 13.608099 L 149.99443 13.580736 L 150.221154 13.533827 L 150.330607 13.518191 L 150.557332 13.486919 L 150.666785 13.475192 L 150.89351 13.451737 L 151.002963 13.44001 L 151.229688 13.416556 L 151.339141 13.404829 L 151.565866 13.373556 L 151.675319 13.354011 L 151.788681 13.334466 L 151.902043 13.311012 L 152.011497 13.283648 L 152.238221 13.221104 L 152.347674 13.182013 L 152.461037 13.142923 L 152.574399 13.096014 L 152.683852 13.049106 L 152.797214 12.998288 L 152.910577 12.939653 L 153.02003 12.881017 L 153.133392 12.822381 L 153.246755 12.755927 L 153.356208 12.689474 L 153.46957 12.619111 L 153.582932 12.544839 L 153.692386 12.470567 L 153.805748 12.396295 L 153.91911 12.318114 L 154.028563 12.239934 L 154.141926 12.161753 L 154.255288 12.087481 L 154.364741 12.0093 L 154.478104 11.931119 L 154.591466 11.856847 L 154.700919 11.782575 L 154.814281 11.708304 L 154.927644 11.637941 L 155.037097 11.571487 L 155.263821 11.446398 L 155.373275 11.387762 L 155.486637 11.333035 L 155.599999 11.282218 L 155.709453 11.235309 L 155.822815 11.19231 L 155.936177 11.153219 L 156.04563 11.118038 L 156.158993 11.086765 L 156.272355 11.059402 L 156.381808 11.035948 L 156.49517 11.016403 L 156.608533 11.000767 L 156.717986 10.989039 L 156.831348 10.977312 L 156.944711 10.969494 L 157.054164 10.965585 L 157.167526 10.961676 L 157.503704 10.961676 L 157.617066 10.965585 L 157.726519 10.969494 L 157.839882 10.969494 L 157.953244 10.973403 L 158.289422 10.973403 L 158.398875 10.969494 L 158.512237 10.965585 L 158.6256 10.957767 L 158.735053 10.94604 L 158.848415 10.934313 L 158.961777 10.918677 L 159.071231 10.899131 L 159.184593 10.875677 L 159.297955 10.848314 L 159.407408 10.82095 L 159.520771 10.789678 L 159.634133 10.750588 L 159.743586 10.711497 L 159.970311 10.625498 L 160.083673 10.574681 L 160.193126 10.523863 L 160.419851 10.41441 L 160.529304 10.355774 L 160.642667 10.297139 L 160.756029 10.234594 L 160.865482 10.172049 L 161.092207 10.04696 L 161.20166 9.984415 L 161.428384 9.859326 L 161.537838 9.796781 L 161.6512 9.734236 L 161.764562 9.6756 L 161.874015 9.620874 L 162.10074 9.511421 L 162.210193 9.460603 L 162.323556 9.413695 L 162.436918 9.370695 L 162.546371 9.327696 L 162.773096 9.257333 L 162.882549 9.22606 L 162.995911 9.194788 L 163.109273 9.171334 L 163.218727 9.147879 L 163.445451 9.116607 L 163.554905 9.100971 L 163.781629 9.085335 L 163.891082 9.081426 L 164.117807 9.073608 L 164.453985 9.073608 L 164.563438 9.077517 L 165.12634 9.077517 L 165.235794 9.073608 L 165.349156 9.06579 L 165.462518 9.061881 L 165.571971 9.050153 L 165.798696 9.026699 L 165.908149 9.007154 L 166.134874 8.968063 L 166.244327 8.9407 L 166.357689 8.913337 L 166.471052 8.882064 L 166.580505 8.850792 L 166.693867 8.815611 L 166.807229 8.77652 L 166.916683 8.73743 L 167.030045 8.698339 L 167.143407 8.65534 L 167.252861 8.608431 L 167.479585 8.514614 L 167.589038 8.467706 L 167.702401 8.420797 L 167.815763 8.36998 L 167.925216 8.323071 L 168.151941 8.229254 L 168.261394 8.182346 L 168.374756 8.139346 L 168.488119 8.092438 L 168.597572 8.053347 L 168.710934 8.010348 L 168.824296 7.975166 L 168.93375 7.936076 L 169.160474 7.873531 L 169.269927 7.842259 L 169.496652 7.79535 L 169.606105 7.771896 L 169.83283 7.740624 L 169.942283 7.724987 L 170.055645 7.71326 L 170.169008 7.705442 L 170.278461 7.701533 L 170.505185 7.693715 L 170.728001 7.693715 L 170.841363 7.697624 L 170.950816 7.701533 L 171.177541 7.709351 L 171.286994 7.717169 L 171.513719 7.724987 L 171.623172 7.732805 L 171.849897 7.740624 L 171.95935 7.740624 L 172.072712 7.744533 L 172.186074 7.744533 L 172.295528 7.740624 L 172.522252 7.732805 L 172.631706 7.724987 L 172.745068 7.717169 L 172.85843 7.705442 L 172.967883 7.693715 L 173.081246 7.678079 L 173.194608 7.658534 L 173.304061 7.638988 L 173.530786 7.59208 L 173.640239 7.568626 L 173.753601 7.537353 L 173.866964 7.50999 L 173.980326 7.478718 L 174.089779 7.447445 L 174.316504 7.377082 L 174.425957 7.341901 L 174.652681 7.271538 L 174.762135 7.232448 L 174.988859 7.162085 L 175.098313 7.126904 L 175.325037 7.056541 L 175.43449 7.021359 L 175.661215 6.958815 L 175.770668 6.927542 L 175.997393 6.872816 L 176.106846 6.849361 L 176.333571 6.802453 L 176.443024 6.782908 L 176.669748 6.751635 L 176.779202 6.735999 L 177.005926 6.712545 L 177.115379 6.704727 L 177.228742 6.696909 L 177.342104 6.693 L 177.451557 6.685182 L 177.56492 6.685182 L 177.678282 6.681273 L 177.787735 6.681273 L 177.901097 6.677363 L 178.686815 6.677363 L 178.796268 6.673454 L 178.909631 6.673454 L 179.022993 6.669545 L 179.132446 6.661727 L 179.245809 6.657818 L 179.359171 6.65 L 179.468624 6.642182 L 179.581986 6.634364 L 179.695349 6.622637 L 179.804802 6.607001 L 179.918164 6.595274 L 180.031527 6.579637 L 180.14098 6.564001 L 180.367704 6.524911 L 180.477158 6.505366 L 180.59052 6.48582 L 180.703882 6.462366 L 180.813335 6.438912 L 181.04006 6.392003 L 181.149513 6.36464 L 181.262875 6.341186 L 181.376238 6.313822 L 181.485691 6.290368 L 181.712416 6.24346 L 181.821869 6.220005 L 182.048593 6.173097 L 182.158047 6.153552 L 182.271409 6.130097 L 182.384771 6.114461 L 182.494224 6.094916 L 182.720949 6.063643 L 182.830402 6.051916 L 183.057127 6.028462 L 183.16658 6.020644 L 183.393305 6.005008 L 183.502758 6.001099 L 183.61612 5.99719 L 184.06566 5.99719 L 184.175114 6.001099 L 184.401838 6.008917 L 184.511291 6.012826 L 184.738016 6.020644 L 184.847469 6.024553 L 185.074194 6.032371 L 185.183647 6.03628 L 185.410372 6.044098 L 185.519825 6.048007 L 185.856003 6.048007 L 186.082727 6.040189 L 186.19218 6.03628 L 186.305543 6.032371 L 186.418905 6.024553 L 186.528358 6.016735 L 186.641721 6.008917 L 186.755083 5.99719 L 186.864536 5.985463 L 187.091261 5.962008 L 187.200714 5.946372 L 187.427438 5.9151 L 187.536892 5.895555 L 187.650254 5.879918 L 187.876979 5.840828 L 187.986432 5.825192 L 188.213156 5.786101 L 188.32261 5.766556 L 188.435972 5.747011 L 188.549334 5.731375 L 188.658787 5.71183 L 188.77215 5.696193 L 188.885512 5.676648 L 188.994965 5.661012 L 189.22169 5.62974 L 189.331143 5.618012 L 189.557868 5.594558 L 189.667321 5.582831 L 189.780683 5.571104 L 189.894045 5.563286 L 190.003499 5.555468 L 190.116861 5.54765 L 190.230223 5.543741 L 190.339676 5.539832 L 190.566401 5.532013 L 190.675854 5.528104 L 191.125394 5.528104 L 191.238757 5.532013 L 191.34821 5.532013 L 191.461572 5.535923 L 191.574934 5.535923 L 191.684388 5.539832 L 191.79775 5.543741 L 191.911112 5.543741 L 192.020566 5.54765 L 192.133928 5.54765 L 192.24729 5.551559 L 192.806283 5.551559 L 192.919646 5.54765 L 193.029099 5.54765 L 193.255824 5.539832 L 193.365277 5.535923 L 193.592001 5.520286 L 193.701455 5.512468 L 193.928179 5.496832 L 194.037632 5.489014 L 194.264357 5.46556 L 194.37381 5.453833 L 194.600535 5.430378 L 194.709988 5.418651 L 194.936713 5.395197 L 195.046166 5.38347 L 195.159528 5.367834 L 195.27289 5.356106 L 195.382344 5.344379 L 195.495706 5.332652 L 195.609068 5.324834 L 195.718522 5.313107 L 195.831884 5.30138 L 195.945246 5.293562 L 196.054699 5.285744 L 196.281424 5.270107 L 196.390877 5.262289 L 196.504239 5.25838 L 196.617602 5.250562 L 196.727055 5.246653 L 196.840417 5.242744 L 196.95378 5.242744 L 197.063233 5.238835 L 197.512773 5.238835 L 197.626135 5.242744 L 197.735588 5.242744 L 197.848951 5.246653 L 197.962313 5.246653 L 198.071766 5.250562 L 198.298491 5.25838 L 198.407944 5.262289 L 198.521306 5.266198 L 198.634669 5.266198 L 198.744122 5.270107 L 198.970846 5.277926 L 199.0803 5.277926 L 199.193662 5.281835 L 199.416477 5.281835 L 199.52984 5.285744 L 199.643202 5.285744 L 199.752655 5.281835 L 199.97938 5.281835 L 200.088833 5.277926 L 200.315558 5.270107 L 200.425011 5.266198 L 200.538373 5.262289 L 200.651735 5.254471 L 200.761189 5.246653 L 200.874551 5.242744 L 200.987913 5.234926 L 201.097367 5.227108 L 201.437453 5.203654 L 201.546907 5.191927 L 201.773631 5.17629 L 201.883084 5.168472 L 201.996447 5.156745 L 202.109809 5.148927 L 202.219262 5.141109 L 202.445987 5.125473 L 202.55544 5.117655 L 202.782165 5.102019 L 202.891618 5.0942 L 203.00498 5.090291 L 203.118342 5.082473 L 203.227796 5.078564 L 203.45452 5.070746 L 203.563974 5.066837 L 203.790698 5.059019 L 203.900151 5.05511 L 204.013514 5.05511 L 204.126876 5.051201 L 205.471587 5.051201 L 205.58104 5.05511 L 206.366758 5.05511 L 206.480121 5.051201 L 206.702936 5.051201 L 206.816298 5.047292 L 206.925752 5.047292 L 207.152476 5.039474 L 207.261929 5.039474 L 207.488654 5.031656 L 207.598107 5.027747 L 207.824832 5.019929 L 207.934285 5.01602 L 208.047647 5.012111 L 208.16101 5.004292 L 208.270463 5.000383 L 208.497188 4.992565 L 208.606641 4.988656 L 208.720003 4.984747 L 208.833365 4.976929 L 208.942819 4.97302 L 209.169543 4.965202 L 209.278996 4.961293 L 209.505721 4.953475 L 209.615174 4.953475 L 209.841899 4.945657 L 209.951352 4.945657 L 210.064714 4.941748 L 210.28753 4.941748 L 210.400892 4.937839 L 210.959885 4.937839 L 211.073248 4.941748 L 211.296063 4.941748 L 211.409426 4.945657 L 211.632241 4.945657 L 211.745603 4.949566 L 211.858966 4.949566 L 211.968419 4.953475 L 212.081781 4.953475 L 212.195143 4.957384 L 212.304597 4.957384 L 212.417959 4.961293 L 212.531321 4.961293 L 212.640775 4.965202 L 212.976952 4.965202 L 213.090315 4.969111 L 213.539855 4.969111 L 213.649308 4.965202 L 213.985486 4.965202 L 214.098848 4.961293 L 214.21221 4.961293 L 214.321664 4.957384 L 214.435026 4.953475 L 214.548388 4.953475 L 214.657841 4.949566 L 214.884566 4.941748 L 214.994019 4.941748 L 215.334106 4.930021 L 215.443559 4.926112 L 215.670284 4.918294 L 215.779737 4.918294 L 216.006462 4.910475 L 216.115915 4.906566 L 216.229277 4.902657 L 216.34264 4.902657 L 216.452093 4.898748 L 216.565455 4.894839 L 216.678817 4.894839 L 216.788271 4.89093 L 216.901633 4.89093 L 217.014995 4.887021 L 217.237811 4.887021 L 217.351173 4.883112 L 218.695884 4.883112 L 218.805337 4.887021 L 219.254878 4.887021 L 219.36824 4.89093 L 219.927233 4.89093 L 220.040595 4.894839 L 220.712951 4.894839 L 220.822404 4.89093 L 221.385307 4.89093 L 221.49476 4.887021 L 221.721485 4.887021 L 221.830938 4.883112 L 222.057662 4.883112 L 222.167116 4.879203 L 222.39384 4.879203 L 222.503293 4.875294 L 222.730018 4.875294 L 222.839471 4.871385 L 223.066196 4.871385 L 223.175649 4.867476 L 223.511827 4.867476 L 223.625189 4.863567 L 224.074729 4.863567 L 224.184183 4.859658 L 225.419441 4.859658 L 225.528894 4.863567 L 226.314612 4.863567 L 226.427974 4.867476 L 228.781219 4.867476 L 228.890672 4.863567 L 229.453574 4.863567 L 229.566937 4.859658 L 230.012568 4.859658 L 230.12593 4.855749 L 230.57547 4.855749 L 230.684923 4.85184 L 231.357279 4.85184 L 231.470641 4.847931 L 232.592537 4.847931 L 232.70199 4.844022 L 235.72759 4.844022 L 235.840953 4.847931 L 236.290493 4.847931 \" transform=\"matrix(0.999285,0,0,-0.999285,12.390137,175.535871)\"/>\n",
       "</g>\n",
       "<path style=\"fill-rule:nonzero;fill:rgb(100%,100%,100%);fill-opacity:0.9;stroke-width:0.99628;stroke-linecap:butt;stroke-linejoin:miter;stroke:rgb(13.331604%,13.331604%,33.332825%);stroke-opacity:0.1;stroke-miterlimit:10;\" d=\"M 197.927132 152.500354 L 237.807202 152.500354 L 237.807202 167.249178 L 197.927132 167.249178 Z M 197.927132 152.500354 \" transform=\"matrix(0.999285,0,0,-0.999285,12.390137,175.535871)\"/>\n",
       "<path style=\"fill:none;stroke-width:1.19553;stroke-linecap:butt;stroke-linejoin:miter;stroke:rgb(93.331909%,46.665955%,19.999695%);stroke-opacity:1;stroke-miterlimit:10;\" d=\"M 0.00172524 -0.000188228 L 17.009977 -0.000188228 \" transform=\"matrix(0.999285,0,0,-0.999285,213.756088,15.777156)\"/>\n",
       "<g style=\"fill:rgb(13.331604%,13.331604%,33.332825%);fill-opacity:1;\">\n",
       "  <use xlink:href=\"#glyph-1606366588244581-1-1\" x=\"233.341078\" y=\"17.670801\"/>\n",
       "  <use xlink:href=\"#glyph-1606366588244581-1-2\" x=\"239.49359\" y=\"17.670801\"/>\n",
       "</g>\n",
       "</g>\n",
       "</svg>\n",
       "\n"
      ]
     },
     "execution_count": 154,
     "metadata": {},
     "output_type": "execute_result"
    }
   ],
   "source": [
    "using KernelDensity\n",
    "ΔE_kde = kde(mid.(ΔEs(12)))\n",
    "plot(ΔE_kde.x, ΔE_kde.density)"
   ]
  },
  {
   "cell_type": "markdown",
   "metadata": {},
   "source": [
    "This rigorously shows that the smallest $\\Delta E$ is either within the first interval (nonzero) or the second interval (very close to zero)."
   ]
  },
  {
   "cell_type": "code",
   "execution_count": 155,
   "metadata": {},
   "outputs": [],
   "source": [
    "using DataStructures"
   ]
  },
  {
   "cell_type": "code",
   "execution_count": 156,
   "metadata": {},
   "outputs": [
    {
     "data": {
      "text/plain": [
       "OrderedDict{Int64,Tuple{Interval{Float64},Interval{Float64}}} with 14 entries:\n",
       "  2  => (1 ± 7.45059e-09, 3.72529e-09 ± 3.7253e-09)\n",
       "  3  => (0.25 ± 1.9429e-16, 1.249e-16 ± 1.24901e-16)\n",
       "  4  => (0.12132 ± 1.73028e-09, 1.54307e-09 ± 1.54307e-09)\n",
       "  5  => (0.0364745 ± 7.63279e-17, 6.00386e-17 ± 6.00387e-17)\n",
       "  6  => (0.0358984 ± 1.03403e-09, 9.98189e-10 ± 9.98189e-10)\n",
       "  7  => (0.00544257 ± 9.80119e-17, 7.10263e-17 ± 7.10263e-17)\n",
       "  8  => (0.00355265 ± 7.43639e-10, 7.41006e-10 ± 7.41007e-10)\n",
       "  9  => (0.00363698 ± 1.6957e-16, 1.90378e-16 ± 1.90379e-16)\n",
       "  10 => (0.000841145 ± 5.90525e-10, 5.90028e-10 ± 5.90029e-10)\n",
       "  11 => (0.000302047 ± 2.03668e-16, 2.15277e-16 ± 2.15277e-16)\n",
       "  12 => (0.000463957 ± 4.90672e-10, 4.90444e-10 ± 4.90444e-10)\n",
       "  13 => (2.37052e-05 ± 2.3923e-16, 2.60954e-16 ± 2.60955e-16)\n",
       "  14 => (5.20027e-05 ± 4.19762e-10, 4.1974e-10 ± 4.1974e-10)\n",
       "  15 => (0.000244098 ± 2.19307e-16, 2.56035e-16 ± 2.56036e-16)"
      ]
     },
     "execution_count": 156,
     "metadata": {},
     "output_type": "execute_result"
    }
   ],
   "source": [
    "minΔEs = []\n",
    "Threads.@threads for NE in 2:15 # A parallel fold would be faster\n",
    "    push!(minΔEs, NE =>\n",
    "        foldr((x, (m, z)) -> 0 ∈ x ? (m, x ∪ z) : (min(x, m), z),\n",
    "            ΔEs(NE),\n",
    "            init=(@interval(Inf), @interval(0))))\n",
    "end\n",
    "Dict(minΔEs) |> sort"
   ]
  },
  {
   "cell_type": "markdown",
   "metadata": {},
   "source": [
    "From the plot, we can derive an approximate lower bound for the smallest energy spacing. From the small $N$ plots, it is clear that the energy differences are not uniformly separated. However, the \\textsc{cdf} (from sorted indices) is uniformly spaced. Since we have computed $3^N$ energy differences, we may then expect the typical spacing between $\\Delta E$ values at $x$ to be $Q'(x) 3^{-N}$, where $Q(x)$ is the limiting differentiable quantile function (inverse \\textsc{cdf}). Suppose that for large $N$, $Q'(0) \\to k$. From the plots, we estimate that $k > 1/3$. We may then make the following estimates:"
   ]
  },
  {
   "cell_type": "code",
   "execution_count": 157,
   "metadata": {
    "ExecuteTime": {
     "end_time": "2020-11-20T21:53:40.932000-08:00",
     "start_time": "2020-11-21T05:53:40.881Z"
    }
   },
   "outputs": [
    {
     "data": {
      "text/plain": [
       "OrderedDict{Int64,Float64} with 14 entries:\n",
       "  2  => 0.037037\n",
       "  3  => 0.0123457\n",
       "  4  => 0.00411523\n",
       "  5  => 0.00137174\n",
       "  6  => 0.000457247\n",
       "  7  => 0.000152416\n",
       "  8  => 5.08053e-5\n",
       "  9  => 1.69351e-5\n",
       "  10 => 5.64503e-6\n",
       "  11 => 1.88168e-6\n",
       "  12 => 6.27225e-7\n",
       "  13 => 2.09075e-7\n",
       "  14 => 6.96917e-8\n",
       "  15 => 2.32306e-8"
      ]
     },
     "execution_count": 157,
     "metadata": {},
     "output_type": "execute_result"
    }
   ],
   "source": [
    "Dict(NE => (1/3) * 3.0^-NE for NE in 2:15) |> sort"
   ]
  },
  {
   "cell_type": "markdown",
   "metadata": {},
   "source": [
    "Note that these are all smaller than the actual minimum energy differences, as desired. Now we may estimate the $N$ where the spacing is small enough to cause problems to be around"
   ]
  },
  {
   "cell_type": "code",
   "execution_count": 158,
   "metadata": {
    "ExecuteTime": {
     "end_time": "2020-11-20T21:53:44.237000-08:00",
     "start_time": "2020-11-21T05:53:44.234Z"
    }
   },
   "outputs": [
    {
     "data": {
      "text/plain": [
       "31"
      ]
     },
     "execution_count": 158,
     "metadata": {},
     "output_type": "execute_result"
    }
   ],
   "source": [
    "-log(3, 3*eps()) |> floor |> Int"
   ]
  },
  {
   "cell_type": "markdown",
   "metadata": {},
   "source": [
    "## Construction of superoperators"
   ]
  },
  {
   "cell_type": "code",
   "execution_count": 309,
   "metadata": {},
   "outputs": [],
   "source": [
    "function addentry!(dict, key, value, isequal=isequal)\n",
    "    for k in keys(dict)\n",
    "        if isequal(k, key)\n",
    "            push!(dict[k], value)\n",
    "            return dict\n",
    "        end\n",
    "    end\n",
    "    dict[key] = [value]\n",
    "    dict\n",
    "end\n",
    "\n",
    "stateE(occ, N=length(occ)) = E0S + 2*sum(n == 1 ? E(m) : 0 for (m, n) in enumerate(occ))\n",
    "\n",
    "states = fermionstates(f, [0:N...])\n",
    "energies = Dict{Float64, Vector{Vector{Int64}}}()\n",
    "for state in states\n",
    "    addentry!(energies, stateE(state), state, ≈)\n",
    "end\n",
    "projectors = Dict(energy => sum(sparse(projector(basisstate(mbb, state))) for state in states)\n",
    "    for (energy, states) in energies)\n",
    "\n",
    "ωs = Dict{Float64,Vector{Tuple{Float64,Float64}}}()\n",
    "for E1 in keys(energies), E2 in keys(energies)\n",
    "    addentry!(ωs, E2 - E1, (E1, E2), ≈)\n",
    "end"
   ]
  },
  {
   "cell_type": "markdown",
   "metadata": {},
   "source": [
    "Now we may compute the superoperators for $\\pauli_x^i$."
   ]
  },
  {
   "cell_type": "code",
   "execution_count": 310,
   "metadata": {},
   "outputs": [],
   "source": [
    "using ProgressMeter"
   ]
  },
  {
   "cell_type": "code",
   "execution_count": 311,
   "metadata": {},
   "outputs": [
    {
     "data": {
      "text/plain": [
       "Aωs (generic function with 1 method)"
      ]
     },
     "execution_count": 311,
     "metadata": {},
     "output_type": "execute_result"
    }
   ],
   "source": [
    "function Aωs(i)\n",
    "    A = sxmb(i)\n",
    "    d = Dict{Float64, typeof(A)}()\n",
    "    for (ω, Ediffs) in ωs\n",
    "        Aω = sum(projectors[E1] * A * projectors[E2] for (E1, E2) in Ediffs)\n",
    "        if Aω != zero(A)\n",
    "            d[ω] = Aω\n",
    "        end\n",
    "    end\n",
    "    d\n",
    "end"
   ]
  },
  {
   "cell_type": "markdown",
   "metadata": {},
   "source": [
    "Since the spectral correlation tensor is already diagonal, the `Aωs(i)` are the Lindblad operators."
   ]
  },
  {
   "cell_type": "markdown",
   "metadata": {},
   "source": [
    "## Time evolution"
   ]
  },
  {
   "cell_type": "code",
   "execution_count": 312,
   "metadata": {},
   "outputs": [],
   "source": [
    "using ProgressMeter"
   ]
  },
  {
   "cell_type": "markdown",
   "metadata": {},
   "source": [
    "We start the system off in a random state."
   ]
  },
  {
   "cell_type": "code",
   "execution_count": 313,
   "metadata": {
    "ExecuteTime": {
     "end_time": "2020-11-20T21:53:50.902000-08:00",
     "start_time": "2020-11-21T05:53:50.893Z"
    },
    "code_folding": []
   },
   "outputs": [],
   "source": [
    "ψs = randstate(mbb);"
   ]
  },
  {
   "cell_type": "markdown",
   "metadata": {},
   "source": [
    "Now we time-evolve the system and look at the expectation values of some reduced operators on the spin chain. We start with just the isolated chain."
   ]
  },
  {
   "cell_type": "code",
   "execution_count": 314,
   "metadata": {
    "ExecuteTime": {
     "end_time": "2020-11-20T21:53:53.955000-08:00",
     "start_time": "2020-11-21T05:53:53.330Z"
    },
    "code_folding": []
   },
   "outputs": [
    {
     "name": "stderr",
     "output_type": "stream",
     "text": [
      "\u001b[32mProgress: 100%|█████████████████████████████████████████| Time: 0:00:00\u001b[39m\n"
     ]
    }
   ],
   "source": [
    "function fout(t, ψ)\n",
    "    next!(progress)\n",
    "    ψn = normalize(ψ)\n",
    "    real([\n",
    "            expect(sxmb(1), ψn)\n",
    "            ])\n",
    "end\n",
    "ts = [0:0.05:20;]\n",
    "progress = Progress(length(ts))\n",
    "ts, fouts = timeevolution.schroedinger(ts, ψs, Hmb, fout=fout);"
   ]
  },
  {
   "cell_type": "code",
   "execution_count": 315,
   "metadata": {
    "ExecuteTime": {
     "end_time": "2020-11-20T21:54:13.178000-08:00",
     "start_time": "2020-11-21T05:54:08.577Z"
    },
    "caption": "Isolated Ising time evolution.",
    "code_folding": [],
    "label": "fig:ising-2",
    "scrolled": true,
    "widefigure": false
   },
   "outputs": [],
   "source": [
    "plot(xlabel=\"Time\", ylabel=L\"\\left\\langle\\pauli_1^x\\right\\rangle\")\n",
    "plot!(ts, hcat(fouts...)',\n",
    "    title = latexstring(\"$N spins, \\$\\\\lambda = $λ\\$\"),\n",
    "    label = [\n",
    "        \"Closed\"\n",
    "        ]);"
   ]
  },
  {
   "cell_type": "markdown",
   "metadata": {},
   "source": [
    "Now we consider the open system. "
   ]
  },
  {
   "cell_type": "code",
   "execution_count": 316,
   "metadata": {},
   "outputs": [
    {
     "name": "stderr",
     "output_type": "stream",
     "text": [
      "\u001b[32mProgress: 100%|█████████████████████████████████████████| Time: 0:00:00\u001b[39m\n"
     ]
    }
   ],
   "source": [
    "β, Ω = 100, 1\n",
    "nB(ω, β) = 1 / (exp(β*ω) - 1)\n",
    "coupling(ω, Ω) = abs(ω) / (1 + (ω / Ω)^2)\n",
    "γ(ω, β=β, Ω=Ω) = coupling(ω, Ω)^2 * (nB(ω, β) + 1)\n",
    "jumpoperators = typeof(first(Aωs(1)).second)[]\n",
    "γs = Float64[]\n",
    "progress = Progress(N)\n",
    "Threads.@threads for i in 1:N\n",
    "    for (ω, L) in Aωs(i)\n",
    "        γω = γ(ω)\n",
    "        if γω > 0\n",
    "            push!(jumpoperators, L)\n",
    "            push!(γs, γω)\n",
    "        end\n",
    "    end\n",
    "    next!(progress)\n",
    "end"
   ]
  },
  {
   "cell_type": "code",
   "execution_count": 317,
   "metadata": {},
   "outputs": [
    {
     "name": "stderr",
     "output_type": "stream",
     "text": [
      "\u001b[32mProgress: 100%|█████████████████████████████████████████| Time: 0:00:00\u001b[39m\n"
     ]
    }
   ],
   "source": [
    "progress = Progress(length(ts));\n",
    "ts, fouts = timeevolution.mcwf(ts, ψs, Hmb, jumpoperators, rates=γs, fout=fout);"
   ]
  },
  {
   "cell_type": "code",
   "execution_count": 318,
   "metadata": {
    "ExecuteTime": {
     "end_time": "2020-11-20T21:54:13.178000-08:00",
     "start_time": "2020-11-21T05:54:08.577Z"
    },
    "caption": "Open Ising time evolution.",
    "code_folding": [],
    "label": "fig:ising-2",
    "scrolled": true,
    "widefigure": false
   },
   "outputs": [
    {
     "data": {
      "image/svg+xml": [
       "<?xml version=\"1.0\" encoding=\"UTF-8\"?>\n",
       "<svg xmlns=\"http://www.w3.org/2000/svg\" xmlns:xlink=\"http://www.w3.org/1999/xlink\" width=\"290.543pt\" height=\"223.509pt\" viewBox=\"0 0 290.543 223.509\" version=\"1.2\">\n",
       "<defs>\n",
       "<g>\n",
       "<symbol overflow=\"visible\" id=\"glyph-1606366588244584-0-0\">\n",
       "<path style=\"stroke:none;\" d=\"M 0 0 L 5.96875 0 L 5.96875 -8.328125 L 0 -8.328125 Z M 0.953125 -0.59375 L 2.984375 -3.625 L 5 -0.59375 Z M 0.59375 -7.1875 L 2.625 -4.15625 L 0.59375 -1.125 Z M 3.34375 -4.15625 L 5.359375 -7.1875 L 5.359375 -1.125 Z M 2.984375 -4.703125 L 0.953125 -7.71875 L 5 -7.71875 Z M 2.984375 -4.703125 \"/>\n",
       "</symbol>\n",
       "<symbol overflow=\"visible\" id=\"glyph-1606366588244584-0-1\">\n",
       "<path style=\"stroke:none;\" d=\"M 2.71875 0.125 C 3.640625 0.125 5.03125 -0.8125 5.03125 -3.609375 C 5.03125 -4.796875 4.75 -5.8125 4.21875 -6.5 C 3.90625 -6.921875 3.40625 -7.265625 2.765625 -7.265625 C 1.578125 -7.265625 0.46875 -5.859375 0.46875 -3.5 C 0.46875 -2.234375 0.859375 -1.03125 1.515625 -0.375 C 1.84375 -0.046875 2.25 0.125 2.71875 0.125 Z M 2.765625 -6.859375 C 2.96875 -6.859375 3.15625 -6.78125 3.296875 -6.65625 C 3.671875 -6.34375 4 -5.4375 4 -3.84375 C 4 -2.734375 3.953125 -1.984375 3.796875 -1.390625 C 3.53125 -0.40625 2.9375 -0.296875 2.734375 -0.296875 C 1.625 -0.296875 1.5 -2.34375 1.5 -3.375 C 1.5 -6.3125 2.234375 -6.859375 2.765625 -6.859375 Z M 2.765625 -6.859375 \"/>\n",
       "</symbol>\n",
       "<symbol overflow=\"visible\" id=\"glyph-1606366588244584-0-2\">\n",
       "<path style=\"stroke:none;\" d=\"M 3.796875 -2.25 C 3.796875 -1.125 3.203125 -0.28125 2.484375 -0.28125 C 2.03125 -0.28125 1.890625 -0.578125 1.703125 -0.828125 C 1.546875 -1.03125 1.34375 -1.203125 1.09375 -1.203125 C 0.875 -1.203125 0.640625 -1 0.640625 -0.765625 C 0.640625 -0.28125 1.65625 0.125 2.34375 0.125 C 3.8125 0.125 4.859375 -0.96875 4.859375 -2.46875 C 4.859375 -3.625 4.0625 -4.65625 2.734375 -4.65625 C 2.21875 -4.65625 1.78125 -4.546875 1.5625 -4.46875 L 1.796875 -6.46875 C 2.234375 -6.40625 2.625 -6.359375 3.1875 -6.359375 C 3.546875 -6.359375 3.953125 -6.375 4.453125 -6.421875 L 4.640625 -7.234375 L 4.546875 -7.28125 C 3.875 -7.21875 3.234375 -7.15625 2.59375 -7.15625 C 2.15625 -7.15625 1.734375 -7.171875 1.3125 -7.21875 L 0.90625 -3.78125 C 1.53125 -4.015625 1.984375 -4.0625 2.421875 -4.0625 C 3.1875 -4.0625 3.796875 -3.546875 3.796875 -2.25 Z M 3.796875 -2.25 \"/>\n",
       "</symbol>\n",
       "<symbol overflow=\"visible\" id=\"glyph-1606366588244584-0-3\">\n",
       "<path style=\"stroke:none;\" d=\"M 3.4375 -1.453125 L 3.4375 -5.59375 C 3.4375 -6.3125 3.453125 -7.03125 3.46875 -7.1875 C 3.46875 -7.25 3.453125 -7.25 3.390625 -7.25 C 2.734375 -6.84375 2.109375 -6.546875 1.0625 -6.0625 C 1.078125 -5.921875 1.125 -5.8125 1.234375 -5.734375 C 1.78125 -5.96875 2.046875 -6.03125 2.28125 -6.03125 C 2.484375 -6.03125 2.515625 -5.75 2.515625 -5.34375 L 2.515625 -1.453125 C 2.515625 -0.46875 2.1875 -0.40625 1.359375 -0.375 C 1.28125 -0.296875 1.28125 -0.046875 1.359375 0.03125 C 1.9375 0.015625 2.375 0 3.015625 0 C 3.59375 0 3.875 0.015625 4.46875 0.03125 C 4.546875 -0.046875 4.546875 -0.296875 4.46875 -0.375 C 3.640625 -0.40625 3.4375 -0.46875 3.4375 -1.453125 Z M 3.4375 -1.453125 \"/>\n",
       "</symbol>\n",
       "<symbol overflow=\"visible\" id=\"glyph-1606366588244584-0-4\">\n",
       "<path style=\"stroke:none;\" d=\"M 0.734375 -5.578125 C 0.734375 -5.328125 0.953125 -5.109375 1.203125 -5.109375 C 1.40625 -5.109375 1.765625 -5.328125 1.765625 -5.59375 C 1.765625 -5.6875 1.734375 -5.765625 1.71875 -5.84375 C 1.6875 -5.921875 1.625 -6.03125 1.625 -6.125 C 1.625 -6.421875 1.9375 -6.859375 2.796875 -6.859375 C 3.234375 -6.859375 3.84375 -6.5625 3.84375 -5.40625 C 3.84375 -4.65625 3.5625 -4.03125 2.859375 -3.3125 L 1.984375 -2.4375 C 0.8125 -1.25 0.625 -0.671875 0.625 0.03125 C 0.625 0.03125 1.234375 0 1.609375 0 L 3.703125 0 C 4.078125 0 4.625 0.03125 4.625 0.03125 C 4.78125 -0.609375 4.90625 -1.5 4.90625 -1.859375 C 4.84375 -1.921875 4.6875 -1.9375 4.5625 -1.921875 C 4.359375 -1.078125 4.15625 -0.78125 3.734375 -0.78125 L 1.609375 -0.78125 C 1.609375 -1.34375 2.4375 -2.15625 2.484375 -2.21875 L 3.703125 -3.375 C 4.375 -4.03125 4.890625 -4.546875 4.890625 -5.453125 C 4.890625 -6.75 3.84375 -7.265625 2.875 -7.265625 C 1.546875 -7.265625 0.734375 -6.296875 0.734375 -5.578125 Z M 0.734375 -5.578125 \"/>\n",
       "</symbol>\n",
       "<symbol overflow=\"visible\" id=\"glyph-1606366588244584-0-5\">\n",
       "<path style=\"stroke:none;\" d=\"M 0.703125 -3.390625 C 0.5625 -3.25 0.5625 -2.9375 0.703125 -2.796875 L 7.015625 -2.796875 C 7.171875 -2.9375 7.171875 -3.25 7.015625 -3.390625 Z M 0.703125 -3.390625 \"/>\n",
       "</symbol>\n",
       "<symbol overflow=\"visible\" id=\"glyph-1606366588244584-0-6\">\n",
       "<path style=\"stroke:none;\" d=\"M 0.671875 -0.515625 C 0.671875 -0.171875 0.96875 0.125 1.3125 0.125 C 1.65625 0.125 1.9375 -0.171875 1.9375 -0.515625 C 1.9375 -0.859375 1.65625 -1.140625 1.3125 -1.140625 C 0.96875 -1.140625 0.671875 -0.859375 0.671875 -0.515625 Z M 0.671875 -0.515625 \"/>\n",
       "</symbol>\n",
       "<symbol overflow=\"visible\" id=\"glyph-1606366588244584-0-7\">\n",
       "<path style=\"stroke:none;\" d=\"M 5.125 -2.609375 L 4.140625 -2.609375 L 4.140625 -6.09375 C 4.140625 -6.6875 4.140625 -7.15625 4.15625 -7.25 L 4.140625 -7.265625 L 3.75 -7.265625 C 3.671875 -7.265625 3.609375 -7.203125 3.5625 -7.140625 C 2.8125 -6.21875 1.4375 -4.25 0.328125 -2.546875 C 0.375 -2.375 0.4375 -2.046875 0.796875 -2.046875 L 3.234375 -2.046875 L 3.234375 -0.953125 C 3.234375 -0.40625 2.78125 -0.40625 2.265625 -0.375 C 2.1875 -0.296875 2.1875 -0.046875 2.265625 0.03125 C 2.640625 0.015625 3.125 0 3.671875 0 C 4.140625 0 4.59375 0.015625 4.96875 0.03125 C 5.046875 -0.046875 5.046875 -0.296875 4.96875 -0.375 C 4.390625 -0.421875 4.140625 -0.390625 4.140625 -0.953125 L 4.140625 -2.046875 L 4.953125 -2.046875 C 5.125 -2.046875 5.3125 -2.28125 5.3125 -2.421875 C 5.3125 -2.546875 5.25 -2.609375 5.125 -2.609375 Z M 3.234375 -6.046875 L 3.234375 -2.609375 L 0.953125 -2.609375 C 1.5625 -3.59375 2.40625 -4.921875 3.234375 -6.046875 Z M 3.234375 -6.046875 \"/>\n",
       "</symbol>\n",
       "<symbol overflow=\"visible\" id=\"glyph-1606366588244584-0-8\">\n",
       "<path style=\"stroke:none;\" d=\"M 5.9375 -0.71875 L 5.734375 -0.921875 C 5.421875 -0.609375 5.25 -0.578125 5.015625 -0.578125 C 4.671875 -0.578125 4.640625 -0.984375 4.546875 -2.546875 L 4.34375 -6.78125 C 4.296875 -8.1875 3.703125 -8.328125 3.375 -8.328125 C 2.9375 -8.328125 2.484375 -7.953125 2.09375 -7.5 L 2.234375 -7.296875 C 2.5 -7.46875 2.8125 -7.59375 3.09375 -7.59375 C 3.40625 -7.59375 3.78125 -7.34375 3.859375 -5.703125 L 3.890625 -5.1875 L 0.234375 0 L 0.484375 0.140625 C 0.734375 0.046875 1.03125 0.015625 1.34375 0 L 3.921875 -4.328125 L 4.0625 -1.5 C 4.109375 -0.390625 4.25 0.140625 4.8125 0.140625 C 5.140625 0.140625 5.625 -0.25 5.9375 -0.71875 Z M 5.9375 -0.71875 \"/>\n",
       "</symbol>\n",
       "<symbol overflow=\"visible\" id=\"glyph-1606366588244584-0-9\">\n",
       "<path style=\"stroke:none;\" d=\"M 0.703125 -2.203125 C 0.5625 -2.0625 0.5625 -1.75 0.703125 -1.609375 L 7.015625 -1.609375 C 7.171875 -1.75 7.171875 -2.0625 7.015625 -2.203125 Z M 0.703125 -4.59375 C 0.5625 -4.453125 0.5625 -4.140625 0.703125 -4 L 7.015625 -4 C 7.171875 -4.140625 7.171875 -4.453125 7.015625 -4.59375 Z M 0.703125 -4.59375 \"/>\n",
       "</symbol>\n",
       "<symbol overflow=\"visible\" id=\"glyph-1606366588244584-1-0\">\n",
       "<path style=\"stroke:none;\" d=\"M 0 0 L 5.46875 0 L 5.46875 -7.640625 L 0 -7.640625 Z M 0.875 -0.546875 L 2.734375 -3.328125 L 4.59375 -0.546875 Z M 0.546875 -6.59375 L 2.40625 -3.8125 L 0.546875 -1.03125 Z M 3.0625 -3.8125 L 4.921875 -6.59375 L 4.921875 -1.03125 Z M 2.734375 -4.3125 L 0.875 -7.078125 L 4.59375 -7.078125 Z M 2.734375 -4.3125 \"/>\n",
       "</symbol>\n",
       "<symbol overflow=\"visible\" id=\"glyph-1606366588244584-1-1\">\n",
       "<path style=\"stroke:none;\" d=\"M 3.828125 -1.328125 L 3.828125 -5.515625 C 3.828125 -6.21875 3.9375 -6.625 4.328125 -6.625 L 4.578125 -6.625 C 5.390625 -6.625 5.90625 -6.34375 6.09375 -5.5 C 6.21875 -5.5 6.359375 -5.515625 6.46875 -5.5625 C 6.390625 -6.0625 6.328125 -6.609375 6.328125 -7.109375 C 6.328125 -7.125 6.296875 -7.140625 6.28125 -7.140625 C 5.921875 -7.109375 4.703125 -7.046875 3.84375 -7.046875 L 2.890625 -7.046875 C 2.0625 -7.046875 0.765625 -7.109375 0.34375 -7.140625 C 0.328125 -7.140625 0.3125 -7.125 0.3125 -7.109375 C 0.265625 -6.609375 0.15625 -6.046875 0.03125 -5.515625 C 0.140625 -5.484375 0.265625 -5.46875 0.40625 -5.46875 C 0.625 -6.34375 1.125 -6.625 1.84375 -6.625 L 2.390625 -6.625 C 2.78125 -6.625 2.890625 -6.21875 2.890625 -5.546875 L 2.890625 -1.328125 C 2.890625 -0.421875 2.71875 -0.375 1.84375 -0.34375 C 1.765625 -0.265625 1.765625 -0.046875 1.84375 0.015625 C 2.375 0.015625 2.9375 0 3.375 0 C 3.78125 0 4.34375 0.015625 4.890625 0.015625 C 4.953125 -0.046875 4.953125 -0.265625 4.890625 -0.34375 C 4.015625 -0.375 3.828125 -0.421875 3.828125 -1.328125 Z M 3.828125 -1.328125 \"/>\n",
       "</symbol>\n",
       "<symbol overflow=\"visible\" id=\"glyph-1606366588244584-1-2\">\n",
       "<path style=\"stroke:none;\" d=\"M 1.984375 -1.328125 L 1.984375 -3.515625 C 1.984375 -4.0625 2.015625 -4.75 2.015625 -4.75 C 2.015625 -4.796875 1.96875 -4.828125 1.875 -4.828125 C 1.578125 -4.71875 1.140625 -4.609375 0.375 -4.515625 C 0.359375 -4.453125 0.375 -4.28125 0.40625 -4.203125 C 1 -4.15625 1.109375 -4.09375 1.109375 -3.46875 L 1.109375 -1.328125 C 1.109375 -0.421875 1 -0.390625 0.328125 -0.34375 C 0.265625 -0.265625 0.265625 -0.046875 0.328125 0.015625 C 0.6875 0.015625 1.109375 0 1.546875 0 C 1.984375 0 2.40625 0.015625 2.765625 0.015625 C 2.828125 -0.046875 2.828125 -0.265625 2.765625 -0.34375 C 2.09375 -0.375 1.984375 -0.421875 1.984375 -1.328125 Z M 0.984375 -6.546875 C 0.984375 -6.265625 1.25 -5.984375 1.515625 -5.984375 C 1.8125 -5.984375 2.078125 -6.28125 2.078125 -6.5 C 2.078125 -6.765625 1.84375 -7.078125 1.546875 -7.078125 C 1.296875 -7.078125 0.984375 -6.8125 0.984375 -6.546875 Z M 0.984375 -6.546875 \"/>\n",
       "</symbol>\n",
       "<symbol overflow=\"visible\" id=\"glyph-1606366588244584-1-3\">\n",
       "<path style=\"stroke:none;\" d=\"M 1.859375 -3.921875 C 1.84375 -4.25 1.828125 -4.640625 1.765625 -4.75 C 1.75 -4.796875 1.734375 -4.828125 1.640625 -4.828125 C 1.328125 -4.71875 1.046875 -4.609375 0.296875 -4.515625 C 0.265625 -4.453125 0.296875 -4.28125 0.3125 -4.203125 C 0.90625 -4.15625 1.03125 -4.09375 1.03125 -3.46875 L 1.03125 -1.328125 C 1.03125 -0.4375 0.890625 -0.375 0.28125 -0.34375 C 0.21875 -0.265625 0.21875 -0.046875 0.28125 0.015625 C 0.609375 0.015625 1.03125 0 1.46875 0 C 1.90625 0 2.234375 0.015625 2.5625 0.015625 C 2.640625 -0.046875 2.640625 -0.265625 2.5625 -0.34375 C 2.015625 -0.390625 1.890625 -0.4375 1.890625 -1.328125 L 1.890625 -3.125 C 1.890625 -3.359375 1.984375 -3.484375 2.078125 -3.59375 C 2.515625 -4.015625 2.921875 -4.234375 3.265625 -4.234375 C 3.671875 -4.234375 3.984375 -3.96875 3.984375 -3.234375 L 3.984375 -1.328125 C 3.984375 -0.4375 3.890625 -0.375 3.296875 -0.34375 C 3.25 -0.265625 3.25 -0.046875 3.296875 0.015625 C 3.578125 0.015625 3.984375 0 4.421875 0 C 4.859375 0 5.21875 0.015625 5.484375 0.015625 C 5.546875 -0.046875 5.546875 -0.265625 5.484375 -0.34375 C 4.9375 -0.375 4.84375 -0.4375 4.84375 -1.328125 L 4.84375 -3.078125 C 4.84375 -3.21875 4.84375 -3.375 4.828125 -3.515625 C 5.359375 -4.09375 5.84375 -4.234375 6.28125 -4.234375 C 6.6875 -4.234375 6.9375 -3.984375 6.9375 -3.265625 L 6.9375 -1.328125 C 6.9375 -0.4375 6.828125 -0.375 6.25 -0.34375 C 6.203125 -0.265625 6.203125 -0.046875 6.25 0.015625 C 6.53125 0.015625 6.9375 0 7.375 0 C 7.8125 0 8.1875 0.015625 8.5 0.015625 C 8.546875 -0.046875 8.546875 -0.265625 8.5 -0.34375 C 7.890625 -0.375 7.796875 -0.4375 7.796875 -1.328125 L 7.796875 -3.0625 C 7.796875 -4.03125 7.640625 -4.796875 6.671875 -4.796875 C 6.109375 -4.796875 5.4375 -4.59375 4.859375 -3.984375 C 4.828125 -3.953125 4.765625 -3.90625 4.75 -4 C 4.640625 -4.453125 4.21875 -4.796875 3.65625 -4.796875 C 3.015625 -4.796875 2.453125 -4.421875 1.984375 -3.921875 C 1.9375 -3.859375 1.875 -3.78125 1.859375 -3.921875 Z M 1.859375 -3.921875 \"/>\n",
       "</symbol>\n",
       "<symbol overflow=\"visible\" id=\"glyph-1606366588244584-1-4\">\n",
       "<path style=\"stroke:none;\" d=\"M 4.21875 -1.015625 C 3.8125 -0.59375 3.5 -0.421875 2.859375 -0.421875 C 2.46875 -0.421875 2.015625 -0.65625 1.671875 -1.21875 C 1.453125 -1.578125 1.328125 -2.078125 1.328125 -2.71875 L 4.234375 -2.6875 C 4.359375 -2.6875 4.4375 -2.75 4.4375 -2.875 C 4.4375 -3.796875 4.109375 -4.78125 2.59375 -4.78125 C 1.640625 -4.78125 0.40625 -3.875 0.40625 -2.203125 C 0.40625 -1.59375 0.5625 -1 0.921875 -0.59375 C 1.296875 -0.15625 1.796875 0.109375 2.59375 0.109375 C 3.421875 0.109375 4.015625 -0.265625 4.453125 -0.84375 C 4.421875 -0.953125 4.359375 -1 4.21875 -1.015625 Z M 1.359375 -3.078125 C 1.5625 -4.3125 2.328125 -4.421875 2.59375 -4.421875 C 3 -4.421875 3.5 -4.1875 3.5 -3.265625 C 3.5 -3.171875 3.453125 -3.109375 3.328125 -3.109375 Z M 1.359375 -3.078125 \"/>\n",
       "</symbol>\n",
       "<symbol overflow=\"visible\" id=\"glyph-1606366588244584-2-0\">\n",
       "<path style=\"stroke:none;\" d=\"M 0 0 L 0 -5.46875 L -7.640625 -5.46875 L -7.640625 0 Z M -0.546875 -0.875 L -3.328125 -2.734375 L -0.546875 -4.59375 Z M -6.59375 -0.546875 L -3.8125 -2.40625 L -1.03125 -0.546875 Z M -3.8125 -3.0625 L -6.59375 -4.921875 L -1.03125 -4.921875 Z M -4.3125 -2.734375 L -7.078125 -0.875 L -7.078125 -4.59375 Z M -4.3125 -2.734375 \"/>\n",
       "</symbol>\n",
       "<symbol overflow=\"visible\" id=\"glyph-1606366588244584-2-1\">\n",
       "<path style=\"stroke:none;\" d=\"M -7.671875 -3.375 L -7.671875 -2.796875 L -2.734375 -0.484375 L -2.515625 -0.484375 L 2.375 -2.78125 L 2.375 -3.375 L -2.625 -1.21875 Z M -7.671875 -3.375 \"/>\n",
       "</symbol>\n",
       "<symbol overflow=\"visible\" id=\"glyph-1606366588244584-2-2\">\n",
       "<path style=\"stroke:none;\" d=\"M -1.53125 -0.21875 C -0.53125 -0.21875 0.125 -0.8125 0.125 -1.953125 C 0.125 -3.546875 -1.296875 -4.46875 -2.4375 -4.46875 C -3.140625 -4.46875 -3.671875 -4.15625 -3.953125 -3.734375 L -3.953125 -5.109375 C -3.953125 -5.484375 -4.1875 -5.703125 -4.5625 -5.984375 L -4.6875 -5.890625 L -4.6875 -3.4375 C -4.6875 -1.046875 -2.703125 -0.21875 -1.53125 -0.21875 Z M -3.953125 -3.21875 C -3.546875 -3.546875 -3.1875 -3.75 -2.640625 -3.75 C -1.5625 -3.75 -0.234375 -3.09375 -0.234375 -2.109375 C -0.234375 -1.265625 -0.921875 -0.96875 -1.578125 -0.96875 C -2.234375 -0.96875 -3.953125 -1.40625 -3.953125 -3.21875 Z M -3.953125 -3.21875 \"/>\n",
       "</symbol>\n",
       "<symbol overflow=\"visible\" id=\"glyph-1606366588244584-2-3\">\n",
       "<path style=\"stroke:none;\" d=\"M -2.625 -2.703125 L 2.375 -0.5625 L 2.375 -1.140625 L -2.515625 -3.4375 L -2.734375 -3.4375 L -7.671875 -1.125 L -7.671875 -0.546875 Z M -2.625 -2.703125 \"/>\n",
       "</symbol>\n",
       "<symbol overflow=\"visible\" id=\"glyph-1606366588244584-3-0\">\n",
       "<path style=\"stroke:none;\" d=\"M 0 0 L 0 -3.828125 L -5.34375 -3.828125 L -5.34375 0 Z M -0.390625 -0.609375 L -2.328125 -1.921875 L -0.390625 -3.21875 Z M -4.609375 -0.390625 L -2.671875 -1.6875 L -0.734375 -0.390625 Z M -2.671875 -2.140625 L -4.609375 -3.453125 L -0.734375 -3.453125 Z M -3.015625 -1.921875 L -4.953125 -0.609375 L -4.953125 -3.21875 Z M -3.015625 -1.921875 \"/>\n",
       "</symbol>\n",
       "<symbol overflow=\"visible\" id=\"glyph-1606366588244584-3-1\">\n",
       "<path style=\"stroke:none;\" d=\"M -2.359375 -1.53125 L -1.609375 -1.8125 L -0.5625 -1.09375 C -0.4375 -1.015625 -0.40625 -0.921875 -0.40625 -0.875 C -0.40625 -0.8125 -0.421875 -0.734375 -0.453125 -0.671875 C -0.484375 -0.59375 -0.5 -0.515625 -0.5 -0.4375 C -0.5 -0.28125 -0.390625 -0.15625 -0.21875 -0.15625 C -0.015625 -0.15625 0.078125 -0.421875 0.078125 -0.59375 C 0.078125 -0.859375 -0.03125 -1.046875 -0.515625 -1.375 L -1.28125 -1.921875 L -0.359375 -2.203125 C -0.046875 -2.296875 0.078125 -2.375 0.078125 -2.640625 C 0.078125 -2.90625 -0.0625 -3.25 -0.46875 -3.484375 C -0.53125 -3.453125 -0.59375 -3.390625 -0.609375 -3.296875 C -0.359375 -3.09375 -0.296875 -3 -0.296875 -2.921875 C -0.296875 -2.84375 -0.390625 -2.796875 -0.578125 -2.734375 L -1.8125 -2.3125 L -2.671875 -2.90625 C -2.84375 -3.03125 -2.875 -3.203125 -2.875 -3.265625 C -2.875 -3.328125 -2.859375 -3.421875 -2.796875 -3.484375 C -2.75 -3.546875 -2.71875 -3.671875 -2.71875 -3.75 C -2.71875 -3.84375 -2.875 -3.984375 -3.0625 -3.984375 C -3.25 -3.984375 -3.359375 -3.78125 -3.359375 -3.609375 C -3.359375 -3.21875 -3.234375 -2.96875 -2.6875 -2.59375 L -2.140625 -2.21875 L -2.8125 -2 C -3.203125 -1.875 -3.359375 -1.78125 -3.359375 -1.59375 C -3.359375 -1.421875 -3.046875 -0.84375 -2.84375 -0.578125 C -2.765625 -0.59375 -2.671875 -0.625 -2.609375 -0.6875 C -2.65625 -0.765625 -2.78125 -1.03125 -2.78125 -1.1875 C -2.78125 -1.28125 -2.75 -1.359375 -2.6875 -1.40625 C -2.625 -1.4375 -2.5 -1.484375 -2.359375 -1.53125 Z M -2.359375 -1.53125 \"/>\n",
       "</symbol>\n",
       "<symbol overflow=\"visible\" id=\"glyph-1606366588244584-3-2\">\n",
       "<path style=\"stroke:none;\" d=\"M -0.9375 -2.203125 L -3.59375 -2.203125 C -4.046875 -2.203125 -4.515625 -2.21875 -4.609375 -2.234375 C -4.65625 -2.234375 -4.65625 -2.21875 -4.65625 -2.1875 C -4.390625 -1.765625 -4.203125 -1.359375 -3.890625 -0.6875 C -3.8125 -0.703125 -3.734375 -0.734375 -3.6875 -0.796875 C -3.828125 -1.15625 -3.875 -1.3125 -3.875 -1.46875 C -3.875 -1.59375 -3.6875 -1.609375 -3.4375 -1.609375 L -0.9375 -1.609375 C -0.296875 -1.609375 -0.265625 -1.40625 -0.234375 -0.875 C -0.1875 -0.828125 -0.03125 -0.828125 0.015625 -0.875 C 0 -1.25 0 -1.53125 0 -1.9375 C 0 -2.296875 0 -2.484375 0.015625 -2.875 C -0.03125 -2.921875 -0.1875 -2.921875 -0.234375 -2.875 C -0.265625 -2.328125 -0.296875 -2.203125 -0.9375 -2.203125 Z M -0.9375 -2.203125 \"/>\n",
       "</symbol>\n",
       "<symbol overflow=\"visible\" id=\"glyph-1606366588244584-4-0\">\n",
       "<path style=\"stroke:none;\" d=\"M 0 0 L 5.96875 0 L 5.96875 -8.328125 L 0 -8.328125 Z M 0.953125 -0.59375 L 2.984375 -3.625 L 5 -0.59375 Z M 0.59375 -7.1875 L 2.625 -4.15625 L 0.59375 -1.125 Z M 3.34375 -4.15625 L 5.359375 -7.1875 L 5.359375 -1.125 Z M 2.984375 -4.703125 L 0.953125 -7.71875 L 5 -7.71875 Z M 2.984375 -4.703125 \"/>\n",
       "</symbol>\n",
       "<symbol overflow=\"visible\" id=\"glyph-1606366588244584-4-1\">\n",
       "<path style=\"stroke:none;\" d=\"M 4.6875 -5.78125 C 4.6875 -6.640625 4.015625 -7.265625 2.84375 -7.265625 C 1.640625 -7.265625 0.84375 -6.546875 0.84375 -5.625 C 0.84375 -4.953125 1.171875 -4.46875 1.890625 -4.015625 L 2.203125 -3.828125 C 1.859375 -3.640625 1.53125 -3.4375 1.234375 -3.171875 C 0.75 -2.734375 0.546875 -2.203125 0.546875 -1.734375 C 0.546875 -0.53125 1.40625 0.125 2.671875 0.125 C 4.234375 0.125 5 -1.03125 5 -1.9375 C 5 -2.625 4.703125 -3.234375 4.0625 -3.609375 L 3.21875 -4.125 C 3.78125 -4.40625 4.6875 -5.015625 4.6875 -5.78125 Z M 2.6875 -0.296875 C 2.15625 -0.296875 1.34375 -0.671875 1.34375 -1.734375 C 1.34375 -2.09375 1.5 -2.9375 2.53125 -3.609375 L 3.09375 -3.28125 C 3.828125 -2.828125 4.125 -2.265625 4.125 -1.6875 C 4.125 -0.5 3.234375 -0.296875 2.6875 -0.296875 Z M 2.796875 -6.859375 C 3.5625 -6.859375 3.84375 -6.34375 3.84375 -5.796875 C 3.84375 -5.15625 3.21875 -4.609375 2.890625 -4.375 L 2.53125 -4.609375 C 1.78125 -5.09375 1.6875 -5.484375 1.6875 -5.859375 C 1.6875 -6.40625 2.078125 -6.859375 2.796875 -6.859375 Z M 2.796875 -6.859375 \"/>\n",
       "</symbol>\n",
       "<symbol overflow=\"visible\" id=\"glyph-1606366588244584-4-2\">\n",
       "<path style=\"stroke:none;\" d=\"M 0.578125 -1.640625 C 0.625 -1.0625 0.65625 -0.5 0.65625 0 C 0.78125 -0.03125 0.890625 -0.03125 0.953125 -0.03125 C 1.03125 -0.03125 1.109375 -0.03125 1.1875 -0.015625 C 1.515625 0.078125 1.84375 0.125 2.28125 0.125 C 2.9375 0.125 4.171875 -0.203125 4.171875 -1.390625 C 4.171875 -2.1875 3.59375 -2.671875 2.78125 -2.96875 C 2.0625 -3.25 1.578125 -3.421875 1.578125 -4.078125 C 1.578125 -4.5625 2.015625 -4.84375 2.421875 -4.84375 C 2.6875 -4.84375 3.375 -4.75 3.53125 -3.734375 C 3.59375 -3.65625 3.84375 -3.671875 3.90625 -3.75 C 3.953125 -4.171875 3.96875 -4.609375 3.984375 -5 C 3.609375 -5.0625 3.046875 -5.234375 2.421875 -5.234375 C 1.53125 -5.234375 0.734375 -4.65625 0.734375 -3.90625 C 0.734375 -3.03125 1.125 -2.65625 2.046875 -2.28125 C 3.046875 -1.875 3.265625 -1.625 3.265625 -1.109375 C 3.265625 -0.53125 2.6875 -0.28125 2.25 -0.28125 C 1.78125 -0.28125 1.53125 -0.421875 1.40625 -0.5625 C 1.140625 -0.828125 1.015625 -1.359375 0.9375 -1.65625 C 0.875 -1.734375 0.640625 -1.71875 0.578125 -1.640625 Z M 0.578125 -1.640625 \"/>\n",
       "</symbol>\n",
       "<symbol overflow=\"visible\" id=\"glyph-1606366588244584-4-3\">\n",
       "<path style=\"stroke:none;\" d=\"M 1.859375 -4.390625 C 1.84375 -4.75 1.828125 -5.0625 1.765625 -5.171875 C 1.734375 -5.234375 1.71875 -5.265625 1.625 -5.265625 C 1.28125 -5.140625 0.984375 -5.03125 0.15625 -4.921875 C 0.125 -4.859375 0.15625 -4.65625 0.171875 -4.59375 C 0.828125 -4.53125 0.953125 -4.46875 0.953125 -3.78125 L 0.953125 1.3125 C 0.953125 2.296875 0.828125 2.359375 0.09375 2.390625 C 0.03125 2.46875 0.03125 2.71875 0.09375 2.796875 C 0.515625 2.78125 0.953125 2.765625 1.4375 2.765625 C 1.90625 2.765625 2.484375 2.78125 2.875 2.796875 C 2.9375 2.71875 2.9375 2.46875 2.875 2.390625 C 2.03125 2.34375 1.890625 2.296875 1.890625 1.3125 L 1.890625 0.03125 C 1.890625 -0.125 1.9375 -0.125 2.0625 -0.078125 C 2.359375 0.046875 2.71875 0.125 3.09375 0.125 C 3.765625 0.125 4.359375 -0.078125 4.859375 -0.546875 C 5.40625 -1.09375 5.734375 -1.84375 5.734375 -2.796875 C 5.734375 -4.0625 4.84375 -5.234375 3.625 -5.234375 C 3.078125 -5.234375 2.46875 -4.875 1.984375 -4.34375 C 1.921875 -4.265625 1.875 -4.265625 1.859375 -4.390625 Z M 2.09375 -3.953125 C 2.390625 -4.328125 2.9375 -4.6875 3.296875 -4.6875 C 4.046875 -4.6875 4.703125 -3.828125 4.703125 -2.484375 C 4.703125 -1.5 4.359375 -0.28125 3.03125 -0.28125 C 2.8125 -0.28125 2.390625 -0.34375 2.1875 -0.53125 C 1.9375 -0.75 1.890625 -0.828125 1.890625 -1.25 L 1.890625 -3.421875 C 1.890625 -3.671875 1.9375 -3.78125 2.09375 -3.953125 Z M 2.09375 -3.953125 \"/>\n",
       "</symbol>\n",
       "<symbol overflow=\"visible\" id=\"glyph-1606366588244584-4-4\">\n",
       "<path style=\"stroke:none;\" d=\"M 2.15625 -1.453125 L 2.15625 -3.828125 C 2.15625 -4.421875 2.203125 -5.1875 2.203125 -5.1875 C 2.203125 -5.234375 2.140625 -5.265625 2.046875 -5.265625 C 1.71875 -5.140625 1.234375 -5.03125 0.421875 -4.921875 C 0.390625 -4.859375 0.421875 -4.65625 0.4375 -4.59375 C 1.09375 -4.53125 1.21875 -4.453125 1.21875 -3.78125 L 1.21875 -1.453125 C 1.21875 -0.46875 1.078125 -0.421875 0.359375 -0.375 C 0.28125 -0.296875 0.28125 -0.046875 0.359375 0.03125 C 0.75 0.015625 1.21875 0 1.6875 0 C 2.171875 0 2.625 0.015625 3.015625 0.03125 C 3.09375 -0.046875 3.09375 -0.296875 3.015625 -0.375 C 2.28125 -0.421875 2.15625 -0.46875 2.15625 -1.453125 Z M 1.078125 -7.140625 C 1.078125 -6.828125 1.359375 -6.515625 1.640625 -6.515625 C 1.984375 -6.515625 2.265625 -6.84375 2.265625 -7.09375 C 2.265625 -7.375 2.015625 -7.71875 1.6875 -7.71875 C 1.40625 -7.71875 1.078125 -7.421875 1.078125 -7.140625 Z M 1.078125 -7.140625 \"/>\n",
       "</symbol>\n",
       "<symbol overflow=\"visible\" id=\"glyph-1606366588244584-4-5\">\n",
       "<path style=\"stroke:none;\" d=\"M 2.1875 -4.265625 C 2.125 -4.1875 2.046875 -4.15625 2.046875 -4.265625 C 2.03125 -4.59375 2.015625 -5.0625 1.953125 -5.171875 C 1.9375 -5.234375 1.90625 -5.265625 1.8125 -5.265625 C 1.484375 -5.140625 1.171875 -5.03125 0.34375 -4.921875 C 0.328125 -4.859375 0.34375 -4.65625 0.375 -4.59375 C 1.015625 -4.53125 1.140625 -4.46875 1.140625 -3.78125 L 1.140625 -1.453125 C 1.140625 -0.484375 1.03125 -0.421875 0.3125 -0.375 C 0.234375 -0.296875 0.234375 -0.046875 0.3125 0.03125 C 0.671875 0.015625 1.140625 0 1.625 0 C 2.09375 0 2.453125 0.015625 2.8125 0.03125 C 2.890625 -0.046875 2.890625 -0.296875 2.8125 -0.375 C 2.203125 -0.421875 2.09375 -0.484375 2.09375 -1.453125 L 2.09375 -3.40625 C 2.09375 -3.65625 2.1875 -3.796875 2.28125 -3.90625 C 2.734375 -4.34375 3.28125 -4.609375 3.75 -4.609375 C 3.984375 -4.609375 4.234375 -4.453125 4.375 -4.1875 C 4.5 -3.953125 4.515625 -3.625 4.515625 -3.265625 L 4.515625 -1.453125 C 4.515625 -0.484375 4.40625 -0.421875 3.78125 -0.375 C 3.71875 -0.296875 3.71875 -0.046875 3.78125 0.03125 C 4.140625 0.015625 4.515625 0 5 0 C 5.46875 0 5.90625 0.015625 6.265625 0.03125 C 6.3125 -0.046875 6.3125 -0.296875 6.265625 -0.375 C 5.59375 -0.421875 5.453125 -0.484375 5.453125 -1.453125 L 5.453125 -3.234375 C 5.453125 -3.890625 5.40625 -4.453125 5.140625 -4.828125 C 4.9375 -5.09375 4.5625 -5.234375 4.15625 -5.234375 C 3.5625 -5.234375 2.890625 -5.078125 2.1875 -4.265625 Z M 2.1875 -4.265625 \"/>\n",
       "</symbol>\n",
       "<symbol overflow=\"visible\" id=\"glyph-1606366588244584-4-6\">\n",
       "<path style=\"stroke:none;\" d=\"M 1.234375 -1.125 C 0.875 -1.125 0.609375 -0.875 0.609375 -0.546875 C 0.609375 -0.171875 0.921875 -0.0625 1.125 -0.03125 C 1.359375 0 1.5625 0.078125 1.5625 0.34375 C 1.5625 0.59375 1.125 1.140625 0.515625 1.296875 C 0.515625 1.421875 0.53125 1.5 0.625 1.578125 C 1.328125 1.453125 2.03125 0.875 2.03125 0.046875 C 2.03125 -0.671875 1.71875 -1.125 1.234375 -1.125 Z M 1.234375 -1.125 \"/>\n",
       "</symbol>\n",
       "<symbol overflow=\"visible\" id=\"glyph-1606366588244584-4-7\">\n",
       "<path style=\"stroke:none;\" d=\"M 4.25 0.125 C 5.40625 0.125 6.46875 -0.421875 7.28125 -1.484375 C 7.21875 -1.59375 7.140625 -1.671875 7.015625 -1.671875 C 6.15625 -0.734375 5.359375 -0.375 4.25 -0.375 C 2.640625 -0.375 1.53125 -2.1875 1.53125 -3.921875 C 1.53125 -4.953125 1.796875 -5.8125 2.234375 -6.34375 C 2.828125 -7.0625 3.515625 -7.40625 4.140625 -7.40625 C 5.78125 -7.40625 6.4375 -6.421875 6.75 -5.40625 C 6.890625 -5.359375 7.015625 -5.390625 7.140625 -5.453125 C 7.078125 -6.078125 7 -6.65625 6.875 -7.3125 C 6.265625 -7.375 5.734375 -7.84375 4.265625 -7.84375 C 3.25 -7.84375 2.40625 -7.46875 1.703125 -6.828125 C 0.921875 -6.109375 0.4375 -4.9375 0.4375 -3.703125 C 0.4375 -1.625 1.6875 0.125 4.25 0.125 Z M 4.25 0.125 \"/>\n",
       "</symbol>\n",
       "<symbol overflow=\"visible\" id=\"glyph-1606366588244584-4-8\">\n",
       "<path style=\"stroke:none;\" d=\"M 1.125 -1.453125 C 1.125 -0.46875 1 -0.40625 0.28125 -0.375 C 0.203125 -0.296875 0.203125 -0.046875 0.28125 0.03125 C 0.6875 0.015625 1.125 0 1.609375 0 C 2.09375 0 2.546875 0.015625 2.9375 0.03125 C 3 -0.046875 3 -0.296875 2.9375 -0.375 C 2.203125 -0.40625 2.078125 -0.46875 2.078125 -1.453125 L 2.078125 -6.953125 C 2.078125 -7.71875 2.125 -8.203125 2.125 -8.203125 C 2.125 -8.28125 2.078125 -8.328125 1.96875 -8.328125 C 1.671875 -8.203125 0.78125 -8.03125 0.296875 -8 C 0.28125 -7.90625 0.296875 -7.71875 0.375 -7.640625 C 1.0625 -7.59375 1.125 -7.5625 1.125 -6.671875 Z M 1.125 -1.453125 \"/>\n",
       "</symbol>\n",
       "<symbol overflow=\"visible\" id=\"glyph-1606366588244584-4-9\">\n",
       "<path style=\"stroke:none;\" d=\"M 0.484375 -2.4375 C 0.484375 -1.234375 1.296875 0.125 3 0.125 C 3.75 0.125 4.34375 -0.15625 4.75 -0.546875 C 5.28125 -1.078125 5.515625 -1.828125 5.515625 -2.546875 C 5.515625 -3.796875 4.84375 -5.234375 3.015625 -5.234375 C 2.234375 -5.234375 1.578125 -4.90625 1.140625 -4.40625 C 0.71875 -3.890625 0.484375 -3.1875 0.484375 -2.4375 Z M 2.84375 -4.8125 C 3.859375 -4.8125 4.5 -3.890625 4.5 -2.171875 C 4.5 -0.671875 3.71875 -0.296875 3.15625 -0.296875 C 1.921875 -0.296875 1.515625 -1.796875 1.515625 -2.71875 C 1.515625 -3.75 1.765625 -4.8125 2.84375 -4.8125 Z M 2.84375 -4.8125 \"/>\n",
       "</symbol>\n",
       "<symbol overflow=\"visible\" id=\"glyph-1606366588244584-4-10\">\n",
       "<path style=\"stroke:none;\" d=\"M 4.609375 -1.109375 C 4.15625 -0.65625 3.8125 -0.46875 3.125 -0.46875 C 2.6875 -0.46875 2.1875 -0.71875 1.828125 -1.328125 C 1.578125 -1.71875 1.4375 -2.265625 1.4375 -2.953125 L 4.609375 -2.9375 C 4.75 -2.9375 4.84375 -3 4.84375 -3.140625 C 4.84375 -4.140625 4.484375 -5.203125 2.828125 -5.203125 C 1.78125 -5.203125 0.4375 -4.21875 0.4375 -2.40625 C 0.4375 -1.734375 0.609375 -1.09375 1 -0.640625 C 1.40625 -0.171875 1.96875 0.125 2.828125 0.125 C 3.734375 0.125 4.375 -0.296875 4.859375 -0.921875 C 4.8125 -1.03125 4.75 -1.09375 4.609375 -1.109375 Z M 1.484375 -3.359375 C 1.703125 -4.703125 2.546875 -4.8125 2.828125 -4.8125 C 3.28125 -4.8125 3.8125 -4.5625 3.8125 -3.5625 C 3.8125 -3.453125 3.765625 -3.390625 3.640625 -3.390625 Z M 1.484375 -3.359375 \"/>\n",
       "</symbol>\n",
       "<symbol overflow=\"visible\" id=\"glyph-1606366588244584-4-11\">\n",
       "<path style=\"stroke:none;\" d=\"M 3.984375 -0.59375 C 4.046875 -0.640625 4.15625 -0.671875 4.15625 -0.578125 C 4.203125 -0.296875 4.296875 0.125 4.296875 0.125 C 4.390625 0.15625 4.453125 0.140625 4.515625 0.125 C 4.78125 -0.09375 5.203125 -0.28125 5.921875 -0.359375 C 6 -0.421875 6 -0.609375 5.921875 -0.671875 C 5.15625 -0.734375 5.0625 -0.96875 5.0625 -1.546875 L 5.0625 -6.953125 C 5.0625 -7.71875 5.109375 -8.203125 5.109375 -8.203125 C 5.109375 -8.28125 5.0625 -8.328125 4.953125 -8.328125 C 4.65625 -8.203125 3.75 -8.03125 3.28125 -8 C 3.25 -7.90625 3.28125 -7.71875 3.34375 -7.640625 C 3.390625 -7.640625 3.421875 -7.640625 3.453125 -7.640625 C 3.984375 -7.609375 4.109375 -7.609375 4.109375 -6.671875 L 4.109375 -5.140625 C 4.109375 -5.0625 4.09375 -5.03125 4 -5.03125 C 3.953125 -5.03125 3.46875 -5.234375 3.078125 -5.234375 C 2.28125 -5.234375 1.765625 -4.96875 1.28125 -4.515625 C 0.78125 -4 0.46875 -3.296875 0.46875 -2.421875 C 0.46875 -0.953125 1.203125 0.125 2.484375 0.125 C 2.953125 0.125 3.390625 -0.125 3.984375 -0.59375 Z M 4.109375 -1.484375 C 4.109375 -1.25 4.09375 -1.15625 3.921875 -1.015625 C 3.484375 -0.625 3.09375 -0.4375 2.796875 -0.4375 C 2.15625 -0.4375 1.484375 -1.140625 1.484375 -2.640625 C 1.484375 -3.5 1.65625 -3.96875 1.84375 -4.21875 C 2.203125 -4.78125 2.703125 -4.8125 2.9375 -4.8125 C 3.375 -4.8125 3.671875 -4.65625 3.90625 -4.390625 C 4.078125 -4.203125 4.109375 -4.109375 4.109375 -3.75 Z M 4.109375 -1.484375 \"/>\n",
       "</symbol>\n",
       "<symbol overflow=\"visible\" id=\"glyph-1606366588244584-4-12\">\n",
       "<path style=\"stroke:none;\" d=\"M 7.90625 -1.390625 C 7.96875 -0.421875 7.921875 -0.40625 7.140625 -0.375 C 7.0625 -0.296875 7.0625 -0.046875 7.140625 0.03125 C 7.578125 0.015625 8.0625 0 8.421875 0 C 8.78125 0 9.328125 0.015625 9.71875 0.03125 C 9.78125 -0.046875 9.78125 -0.296875 9.71875 -0.375 C 8.90625 -0.40625 8.875 -0.453125 8.796875 -1.4375 L 8.4375 -6.46875 C 8.390625 -7.109375 8.453125 -7.265625 9.265625 -7.3125 C 9.328125 -7.390625 9.328125 -7.640625 9.265625 -7.71875 L 7.703125 -7.6875 L 5.171875 -1.640625 C 5.125 -1.53125 5.09375 -1.484375 5.0625 -1.484375 C 5.046875 -1.484375 5 -1.53125 4.96875 -1.640625 L 2.53125 -7.6875 L 0.796875 -7.71875 C 0.734375 -7.640625 0.734375 -7.390625 0.796875 -7.3125 C 1.625 -7.265625 1.6875 -7.25 1.609375 -6.359375 L 1.125 -1.4375 C 1.0625 -0.734375 0.921875 -0.421875 0.234375 -0.375 C 0.171875 -0.296875 0.171875 -0.046875 0.234375 0.03125 C 0.59375 0.015625 0.984375 0 1.265625 0 C 1.546875 0 2.03125 0.015625 2.390625 0.03125 C 2.453125 -0.046875 2.453125 -0.296875 2.390625 -0.375 C 1.59375 -0.421875 1.53125 -0.796875 1.59375 -1.46875 L 2.046875 -6.25 L 2.078125 -6.25 L 4.546875 -0.0625 C 4.578125 0.03125 4.65625 0.125 4.71875 0.125 C 4.796875 0.125 4.84375 0.03125 4.890625 -0.0625 L 7.578125 -6.359375 L 7.59375 -6.359375 Z M 7.90625 -1.390625 \"/>\n",
       "</symbol>\n",
       "<symbol overflow=\"visible\" id=\"glyph-1606366588244584-4-13\">\n",
       "<path style=\"stroke:none;\" d=\"M 9.65625 -6.734375 L 7.796875 -1.5625 L 7.765625 -1.578125 L 6.109375 -6.609375 C 5.90625 -7.25 6.328125 -7.28125 6.734375 -7.3125 C 6.8125 -7.390625 6.8125 -7.640625 6.734375 -7.71875 C 6.25 -7.703125 5.71875 -7.6875 5.25 -7.6875 C 4.859375 -7.6875 4.4375 -7.703125 4.046875 -7.71875 C 3.984375 -7.640625 3.984375 -7.390625 4.046875 -7.3125 C 4.6875 -7.28125 4.953125 -6.921875 5.0625 -6.609375 L 5.328125 -5.8125 C 5.375 -5.671875 5.40625 -5.5625 5.40625 -5.453125 C 5.40625 -5.328125 5.40625 -5.234375 5.3125 -5.03125 L 3.765625 -1.53125 L 3.703125 -1.546875 L 1.96875 -6.8125 C 1.828125 -7.234375 2.140625 -7.296875 2.5625 -7.3125 C 2.640625 -7.390625 2.640625 -7.640625 2.5625 -7.71875 C 2.171875 -7.703125 1.640625 -7.6875 1.1875 -7.6875 C 0.765625 -7.6875 0.421875 -7.703125 0.078125 -7.71875 C 0 -7.640625 0 -7.390625 0.078125 -7.3125 C 0.609375 -7.28125 0.6875 -7.265625 0.921875 -6.625 L 3.15625 -0.171875 C 3.21875 0.015625 3.296875 0.140625 3.421875 0.140625 C 3.578125 0.140625 3.640625 0.03125 3.734375 -0.171875 L 5.515625 -4.171875 C 5.609375 -4.40625 5.65625 -4.46875 5.703125 -4.46875 C 5.765625 -4.46875 5.8125 -4.34375 5.875 -4.140625 L 7.25 -0.171875 C 7.3125 0.03125 7.375 0.140625 7.515625 0.140625 C 7.65625 0.140625 7.734375 0.015625 7.796875 -0.171875 L 10.1875 -6.59375 C 10.34375 -7.015625 10.5625 -7.28125 11.21875 -7.3125 C 11.296875 -7.390625 11.296875 -7.640625 11.21875 -7.71875 C 10.875 -7.703125 10.484375 -7.6875 10.1875 -7.6875 C 9.875 -7.6875 9.34375 -7.703125 8.875 -7.71875 C 8.796875 -7.640625 8.796875 -7.390625 8.875 -7.3125 C 9.359375 -7.28125 9.828125 -7.25 9.65625 -6.734375 Z M 9.65625 -6.734375 \"/>\n",
       "</symbol>\n",
       "<symbol overflow=\"visible\" id=\"glyph-1606366588244584-4-14\">\n",
       "<path style=\"stroke:none;\" d=\"M 3.375 -3.84375 C 4.390625 -3.84375 4.421875 -3.578125 4.453125 -3.046875 C 4.53125 -2.96875 4.78125 -2.96875 4.859375 -3.046875 C 4.84375 -3.34375 4.828125 -3.6875 4.828125 -4.09375 C 4.828125 -4.5 4.84375 -4.796875 4.859375 -5.109375 C 4.78125 -5.1875 4.53125 -5.1875 4.453125 -5.109375 C 4.421875 -4.453125 4.390625 -4.296875 3.375 -4.296875 L 2.265625 -4.296875 L 2.265625 -6.453125 C 2.265625 -7.09375 2.40625 -7.21875 2.9375 -7.21875 L 3.46875 -7.21875 C 4.734375 -7.21875 5.03125 -6.734375 5.296875 -5.90625 C 5.4375 -5.90625 5.5625 -5.9375 5.65625 -5.96875 C 5.609375 -6.46875 5.421875 -7.609375 5.40625 -7.703125 C 5.40625 -7.71875 5.390625 -7.734375 5.359375 -7.734375 C 5.15625 -7.703125 5.09375 -7.6875 4.796875 -7.6875 L 1.75 -7.6875 C 1.375 -7.6875 0.6875 -7.703125 0.21875 -7.71875 C 0.140625 -7.640625 0.140625 -7.390625 0.21875 -7.3125 C 1.046875 -7.28125 1.25 -7.21875 1.25 -6.234375 L 1.25 -1.453125 C 1.25 -0.46875 1.046875 -0.40625 0.21875 -0.375 C 0.140625 -0.296875 0.140625 -0.046875 0.21875 0.03125 C 0.625 0.015625 1.234375 0 1.765625 0 C 2.296875 0 2.890625 0.015625 3.296875 0.03125 C 3.375 -0.046875 3.375 -0.296875 3.296875 -0.375 C 2.46875 -0.40625 2.265625 -0.46875 2.265625 -1.453125 L 2.265625 -3.84375 Z M 3.375 -3.84375 \"/>\n",
       "</symbol>\n",
       "</g>\n",
       "<clipPath id=\"clip-1606366588244584-1\">\n",
       "  <path d=\"M 45.367188 29 L 288.007812 29 L 288.007812 185 L 45.367188 185 Z M 45.367188 29 \"/>\n",
       "</clipPath>\n",
       "<clipPath id=\"clip-1606366588244584-2\">\n",
       "  <path d=\"M 45.367188 23.90625 L 288.007812 23.90625 L 288.007812 194.699219 L 45.367188 194.699219 Z M 45.367188 23.90625 \"/>\n",
       "</clipPath>\n",
       "</defs>\n",
       "<g id=\"surface1\">\n",
       "<path style=\" stroke:none;fill-rule:nonzero;fill:rgb(100%,100%,100%);fill-opacity:1;\" d=\"M 45.367188 194.699219 L 288.007812 194.699219 L 288.007812 23.90625 L 45.367188 23.90625 Z M 45.367188 194.699219 \"/>\n",
       "<path style=\"fill:none;stroke-width:0.49814;stroke-linecap:butt;stroke-linejoin:miter;stroke:rgb(13.331604%,13.331604%,33.332825%);stroke-opacity:0.1;stroke-miterlimit:10;\" d=\"M 6.881493 0.0000699882 L 6.881493 171.168233 M 64.23377 0.0000699882 L 64.23377 171.168233 M 121.586046 0.0000699882 L 121.586046 171.168233 M 178.938323 0.0000699882 L 178.938323 171.168233 M 236.2906 0.0000699882 L 236.2906 171.168233 \" transform=\"matrix(0.997808,0,0,-0.997808,45.367966,194.699289)\"/>\n",
       "<path style=\"fill:none;stroke-width:0.49814;stroke-linecap:butt;stroke-linejoin:miter;stroke:rgb(13.331604%,13.331604%,33.332825%);stroke-opacity:0.1;stroke-miterlimit:10;\" d=\"M -0.00078025 20.611656 L 243.172873 20.611656 M -0.00078025 55.128723 L 243.172873 55.128723 M -0.00078025 89.645789 L 243.172873 89.645789 M -0.00078025 124.162855 L 243.172873 124.162855 M -0.00078025 158.679922 L 243.172873 158.679922 \" transform=\"matrix(0.997808,0,0,-0.997808,45.367966,194.699289)\"/>\n",
       "<path style=\"fill:none;stroke-width:0.19925;stroke-linecap:butt;stroke-linejoin:miter;stroke:rgb(50%,50%,50%);stroke-opacity:1;stroke-miterlimit:10;\" d=\"M 6.881493 0.0000699882 L 6.881493 4.251577 M 64.23377 0.0000699882 L 64.23377 4.251577 M 121.586046 0.0000699882 L 121.586046 4.251577 M 178.938323 0.0000699882 L 178.938323 4.251577 M 236.2906 0.0000699882 L 236.2906 4.251577 M 6.881493 171.168233 L 6.881493 166.916727 M 64.23377 171.168233 L 64.23377 166.916727 M 121.586046 171.168233 L 121.586046 166.916727 M 178.938323 171.168233 L 178.938323 166.916727 M 236.2906 171.168233 L 236.2906 166.916727 \" transform=\"matrix(0.997808,0,0,-0.997808,45.367966,194.699289)\"/>\n",
       "<path style=\"fill:none;stroke-width:0.19925;stroke-linecap:butt;stroke-linejoin:miter;stroke:rgb(50%,50%,50%);stroke-opacity:1;stroke-miterlimit:10;\" d=\"M -0.00078025 20.611656 L 4.250726 20.611656 M -0.00078025 55.128723 L 4.250726 55.128723 M -0.00078025 89.645789 L 4.250726 89.645789 M -0.00078025 124.162855 L 4.250726 124.162855 M -0.00078025 158.679922 L 4.250726 158.679922 M 243.172873 20.611656 L 238.917451 20.611656 M 243.172873 55.128723 L 238.917451 55.128723 M 243.172873 89.645789 L 238.917451 89.645789 M 243.172873 124.162855 L 238.917451 124.162855 M 243.172873 158.679922 L 238.917451 158.679922 \" transform=\"matrix(0.997808,0,0,-0.997808,45.367966,194.699289)\"/>\n",
       "<g style=\"fill:rgb(0%,0%,0%);fill-opacity:1;\">\n",
       "  <use xlink:href=\"#glyph-1606366588244584-0-1\" x=\"49.461972\" y=\"205.487589\"/>\n",
       "</g>\n",
       "<g style=\"fill:rgb(0%,0%,0%);fill-opacity:1;\">\n",
       "  <use xlink:href=\"#glyph-1606366588244584-0-2\" x=\"106.687261\" y=\"205.499563\"/>\n",
       "</g>\n",
       "<g style=\"fill:rgb(0%,0%,0%);fill-opacity:1;\">\n",
       "  <use xlink:href=\"#glyph-1606366588244584-0-3\" x=\"161.138643\" y=\"205.487589\"/>\n",
       "  <use xlink:href=\"#glyph-1606366588244584-0-1\" x=\"166.685612\" y=\"205.487589\"/>\n",
       "</g>\n",
       "<g style=\"fill:rgb(0%,0%,0%);fill-opacity:1;\">\n",
       "  <use xlink:href=\"#glyph-1606366588244584-0-3\" x=\"218.363932\" y=\"205.499563\"/>\n",
       "  <use xlink:href=\"#glyph-1606366588244584-0-2\" x=\"223.910901\" y=\"205.499563\"/>\n",
       "</g>\n",
       "<g style=\"fill:rgb(0%,0%,0%);fill-opacity:1;\">\n",
       "  <use xlink:href=\"#glyph-1606366588244584-0-4\" x=\"275.589221\" y=\"205.487589\"/>\n",
       "  <use xlink:href=\"#glyph-1606366588244584-0-1\" x=\"281.136189\" y=\"205.487589\"/>\n",
       "</g>\n",
       "<g style=\"fill:rgb(0%,0%,0%);fill-opacity:1;\">\n",
       "  <use xlink:href=\"#glyph-1606366588244584-0-5\" x=\"20.407798\" y=\"177.711607\"/>\n",
       "  <use xlink:href=\"#glyph-1606366588244584-0-1\" x=\"28.137767\" y=\"177.711607\"/>\n",
       "  <use xlink:href=\"#glyph-1606366588244584-0-6\" x=\"33.684736\" y=\"177.711607\"/>\n",
       "  <use xlink:href=\"#glyph-1606366588244584-0-7\" x=\"36.309108\" y=\"177.711607\"/>\n",
       "</g>\n",
       "<g style=\"fill:rgb(0%,0%,0%);fill-opacity:1;\">\n",
       "  <use xlink:href=\"#glyph-1606366588244584-0-5\" x=\"20.407798\" y=\"143.270267\"/>\n",
       "  <use xlink:href=\"#glyph-1606366588244584-0-1\" x=\"28.137767\" y=\"143.270267\"/>\n",
       "  <use xlink:href=\"#glyph-1606366588244584-0-6\" x=\"33.684736\" y=\"143.270267\"/>\n",
       "  <use xlink:href=\"#glyph-1606366588244584-0-4\" x=\"36.309108\" y=\"143.270267\"/>\n",
       "</g>\n",
       "<g style=\"fill:rgb(0%,0%,0%);fill-opacity:1;\">\n",
       "  <use xlink:href=\"#glyph-1606366588244584-0-1\" x=\"28.137817\" y=\"108.828927\"/>\n",
       "  <use xlink:href=\"#glyph-1606366588244584-0-6\" x=\"33.684785\" y=\"108.828927\"/>\n",
       "  <use xlink:href=\"#glyph-1606366588244584-0-1\" x=\"36.309158\" y=\"108.828927\"/>\n",
       "</g>\n",
       "<g style=\"fill:rgb(0%,0%,0%);fill-opacity:1;\">\n",
       "  <use xlink:href=\"#glyph-1606366588244584-0-1\" x=\"28.137817\" y=\"74.387587\"/>\n",
       "  <use xlink:href=\"#glyph-1606366588244584-0-6\" x=\"33.684785\" y=\"74.387587\"/>\n",
       "  <use xlink:href=\"#glyph-1606366588244584-0-4\" x=\"36.309158\" y=\"74.387587\"/>\n",
       "</g>\n",
       "<g style=\"fill:rgb(0%,0%,0%);fill-opacity:1;\">\n",
       "  <use xlink:href=\"#glyph-1606366588244584-0-1\" x=\"28.137817\" y=\"39.946247\"/>\n",
       "  <use xlink:href=\"#glyph-1606366588244584-0-6\" x=\"33.684785\" y=\"39.946247\"/>\n",
       "  <use xlink:href=\"#glyph-1606366588244584-0-7\" x=\"36.309158\" y=\"39.946247\"/>\n",
       "</g>\n",
       "<g clip-path=\"url(#clip-1606366588244584-1)\" clip-rule=\"nonzero\">\n",
       "<path style=\"fill:none;stroke-width:1.19553;stroke-linecap:butt;stroke-linejoin:miter;stroke:rgb(93.331909%,46.665955%,19.999695%);stroke-opacity:1;stroke-miterlimit:10;\" d=\"M 6.881493 39.853051 L 7.456973 42.800919 L 8.028538 48.175982 L 8.604019 55.668969 L 9.175584 64.857078 L 9.751064 75.258784 L 10.32263 86.322097 L 10.89811 97.483281 L 11.469675 108.17077 L 12.045155 117.840403 L 12.616721 125.998911 L 13.192201 132.227408 L 13.763766 136.200961 L 14.339246 137.704256 L 14.910812 136.647252 L 15.486292 133.073011 L 16.057857 127.149872 L 16.633337 119.17536 L 17.204903 109.56445 L 17.780383 98.822153 L 18.351948 87.52395 L 18.927428 76.288385 L 19.498994 65.734 L 20.074474 56.46368 L 20.646039 49.005927 L 21.22152 43.791371 L 21.793085 41.141031 L 22.368565 41.215413 L 22.94013 44.030176 L 23.515611 49.436558 L 24.087176 57.129201 L 24.662656 66.669645 L 25.234221 77.513727 L 25.809702 89.023331 L 26.381267 100.536849 L 26.956747 111.380932 L 27.528313 120.929205 L 28.103793 128.637507 L 28.675358 134.071293 L 29.250838 136.933035 L 29.822404 137.085713 L 30.397884 134.552817 L 30.969449 129.51443 L 31.544929 122.287651 L 32.116495 113.326603 L 32.691975 103.159786 L 33.26354 92.386171 L 33.83902 81.620385 L 34.410586 71.461398 L 34.986066 62.457286 L 35.557631 55.081745 L 36.133111 49.694937 L 36.704677 46.555242 L 37.280157 45.772276 L 37.851722 47.338208 L 38.427203 51.12385 L 38.998768 56.878652 L 39.574248 64.269853 L 40.145813 72.882482 L 40.721294 82.254588 L 41.292859 91.904647 L 41.868339 101.33939 L 42.439904 110.092952 L 43.015385 117.734703 L 43.58695 123.900562 L 44.16243 128.293002 L 44.733996 130.696709 L 45.309476 131.00598 L 45.881041 129.193413 L 46.456521 125.345134 L 47.028087 119.637311 L 47.603567 112.340065 L 48.175132 103.805733 L 48.750612 94.453202 L 49.322178 84.748335 L 49.897658 75.196147 L 50.469223 66.301651 L 51.044703 58.550285 L 51.616269 52.380511 L 52.191749 48.168153 L 52.763314 46.175504 L 53.338794 46.574816 L 53.91036 49.385665 L 54.48584 54.50235 L 55.057405 61.678235 L 55.632886 70.545328 L 56.204451 80.614273 L 56.779931 91.313507 L 57.351496 102.024485 L 57.926977 112.10909 L 58.498542 120.956609 L 59.074022 128.018964 L 59.645587 132.845951 L 60.221068 135.128297 L 60.792633 134.713325 L 61.368113 131.608864 L 61.939679 126.002826 L 62.515159 118.239716 L 63.086724 108.801058 L 63.662204 98.277992 L 64.23377 87.328209 L 64.80925 76.636805 L 65.380815 66.857557 L 65.956295 58.585518 L 66.527861 52.310044 L 67.103341 48.371724 L 67.674906 46.970214 L 68.250386 48.129004 L 68.821952 51.69933 L 69.397432 57.39541 L 69.968997 64.80227 L 70.544477 73.407069 L 71.116043 82.642156 L 71.691523 91.93988 L 72.263088 100.74042 L 72.838569 108.554424 L 73.410134 114.982576 L 73.985614 119.735181 L 74.557179 122.639986 L 75.128745 123.650012 L 75.704225 122.843557 L 76.27579 120.377214 L 76.85127 116.50936 L 77.422836 111.53361 L 77.998316 105.782723 L 78.569881 99.58946 L 79.145362 93.274837 L 79.716927 87.116808 L 80.292407 81.362006 L 80.863972 76.198344 L 81.439453 71.774585 L 82.011018 68.188599 L 82.586498 65.510855 L 83.158063 63.780499 L 83.733544 63.021022 L 84.305109 63.240253 L 84.880589 64.438191 L 85.452155 66.603093 L 86.027635 69.715383 L 86.5992 73.720256 L 87.17468 78.547243 L 87.746246 84.074984 L 88.321726 90.142973 L 88.893291 96.539807 L 89.468771 102.995363 L 90.040337 109.2082 L 90.615817 114.833813 L 91.187382 119.52378 L 91.762862 122.929684 L 92.334428 124.753995 L 92.909908 124.753995 L 93.481473 122.784835 L 94.056953 118.807366 L 94.628519 112.915545 L 95.203999 105.340347 L 95.775564 96.438021 L 96.351045 86.686177 L 96.92261 76.652464 L 97.49809 66.955427 L 98.069655 58.233184 L 98.645136 51.100361 L 99.216701 46.085463 L 99.792181 43.607374 L 100.363746 43.920561 L 100.939227 47.107233 L 101.510792 53.057777 L 102.086272 61.466834 L 102.657838 71.848966 L 103.233318 83.573886 L 103.804883 95.909519 L 104.380363 108.053325 L 104.951929 119.214509 L 105.527409 128.645337 L 106.098974 135.707693 L 106.674454 139.923966 L 107.24602 140.992715 L 107.8215 138.827813 L 108.393065 133.56628 L 108.968545 125.540876 L 109.540111 115.272274 L 110.115591 103.433824 L 110.687156 90.796749 L 111.262636 78.167504 L 111.834202 66.356458 L 112.409682 56.103515 L 112.981247 48.035048 L 113.556728 42.628667 L 114.128293 40.174067 L 114.703773 40.769122 L 115.275338 44.308129 L 115.850819 50.513137 L 116.422384 58.933938 L 116.997864 68.995055 L 117.569429 80.046623 L 118.14491 91.387889 L 118.716475 102.337672 L 119.291955 112.257854 L 119.863521 120.592529 L 120.439001 126.914982 L 121.010566 130.931598 L 121.586046 132.497531 L 122.157612 131.612779 L 122.733092 128.422192 L 123.304657 123.199807 L 123.880137 116.305789 L 124.451703 108.190344 L 125.027183 99.338911 L 125.598748 90.252588 L 126.174228 81.416814 L 126.745794 73.289624 L 127.321274 66.258588 L 127.892839 60.640805 L 128.468319 56.667251 L 129.039885 54.474946 L 129.615365 54.118696 L 130.18693 55.551524 L 130.76241 58.648156 L 131.333976 63.212849 L 131.909456 68.98331 L 132.481021 75.662012 L 133.056502 82.90445 L 133.628067 90.362203 L 134.203547 97.675108 L 134.775112 104.498658 L 135.350593 110.515754 L 135.922158 115.452356 L 136.497638 119.081405 L 137.069204 121.242391 L 137.644684 121.833531 L 138.216249 120.843079 L 138.791729 118.314098 L 139.363295 114.379692 L 139.938775 109.231689 L 140.51034 103.120638 L 141.08582 96.34798 L 141.657386 89.250391 L 142.232866 82.172376 L 142.804431 75.470185 L 143.379911 69.472664 L 143.951477 64.481254 L 144.526957 60.746505 L 145.098522 58.452414 L 145.674002 57.716426 L 146.245568 58.577689 L 146.821048 60.99314 L 147.392613 64.849248 L 147.968093 69.958103 L 148.539659 76.069154 L 149.115139 82.884876 L 149.686704 90.072506 L 150.262185 97.287539 L 150.83375 104.173727 L 151.40923 110.394394 L 151.980795 115.636353 L 152.556276 119.64514 L 153.127841 122.20544 L 153.703321 123.172403 L 154.274887 122.479478 L 154.850367 120.130579 L 155.421932 116.204004 L 155.997412 110.868089 L 156.568978 104.34598 L 157.144458 96.935205 L 157.716023 88.980268 L 158.291503 80.872652 L 158.863069 73.015586 L 159.438549 65.824041 L 160.010114 59.689501 L 160.585594 54.972129 L 161.15716 51.977283 L 161.73264 50.916364 L 162.304205 51.930305 L 162.879685 55.034767 L 163.451251 60.139706 L 164.026731 67.033724 L 164.598296 75.395803 L 165.173776 84.803143 L 165.745342 94.762473 L 166.320822 104.710059 L 166.892387 114.070421 L 167.467868 122.275907 L 168.039433 128.80193 L 168.614913 133.206115 L 169.186478 135.159616 L 169.761959 134.48235 L 170.333524 131.131255 L 170.909004 125.247264 L 171.480569 117.127904 L 172.05605 107.215551 L 172.627615 96.077857 L 173.203095 84.384256 L 173.774661 72.843334 L 174.350141 62.167589 L 174.921706 53.034288 L 175.497186 46.02674 L 176.068752 41.599066 L 176.644232 40.052708 L 177.215797 41.49728 L 177.791277 45.858402 L 178.362843 52.86595 L 178.938323 62.093207 L 179.509888 72.960779 L 180.085368 84.795313 L 180.656934 96.856908 L 181.232414 108.401745 L 181.803979 118.732985 L 182.379459 127.232083 L 182.951025 133.409687 L 183.526505 136.92912 L 184.09807 137.629875 L 184.673551 135.523695 L 185.245116 130.802409 L 185.820596 123.802691 L 186.392161 115.00215 L 186.967642 104.952779 L 187.539207 94.277034 L 188.114687 83.59346 L 188.686252 73.508855 L 189.261733 64.559551 L 189.833298 57.195753 L 190.408778 51.758053 L 190.980344 48.45785 L 191.555824 47.389101 L 192.127389 48.520488 L 192.702869 51.71499 L 193.274435 56.733803 L 193.849915 63.267657 L 194.42148 70.9603 L 194.99696 79.408505 L 195.568526 88.212961 L 196.144006 96.962608 L 196.715571 105.281625 L 197.291051 112.809845 L 197.862617 119.237998 L 198.438097 124.29596 L 199.009662 127.7645 L 199.585142 129.487026 L 200.156708 129.361751 L 200.732188 127.361272 L 201.303753 123.520823 L 201.879234 117.961763 L 202.450799 110.868089 L 203.026279 102.513839 L 203.597844 93.251348 L 204.173325 83.48776 L 204.74489 73.688937 L 205.32037 64.367724 L 205.891935 56.036963 L 206.467416 49.193838 L 207.038981 44.3003 L 207.614461 41.728255 L 208.186027 41.74783 L 208.761507 44.488211 L 209.333072 49.929827 L 209.908552 57.880849 L 210.480118 67.985028 L 211.055598 79.725607 L 211.627163 92.460553 L 212.202643 105.446048 L 212.774209 117.887381 L 213.349689 128.985927 L 213.921254 138.001784 L 214.496734 144.292917 L 215.0683 147.377804 L 215.64378 146.958917 L 216.215345 142.973619 L 216.790825 135.590248 L 217.362391 125.200286 L 217.937871 112.410532 L 218.509436 98.000039 L 219.084917 82.877046 L 219.656482 68.004602 L 220.231962 54.349671 L 220.803527 42.804834 L 221.379008 34.133483 L 221.950573 28.918928 L 222.526053 27.505674 L 223.097618 29.999421 L 223.673099 36.231832 L 224.244664 45.795765 L 224.820144 58.064846 L 225.39171 72.236535 L 225.96719 87.383017 L 226.538755 102.529498 L 227.114235 116.709017 L 227.685801 129.040735 L 228.261281 138.76909 L 228.832846 145.330348 L 229.408326 148.372171 L 229.979892 147.784947 L 230.555372 143.682204 L 231.126937 136.416277 L 231.702417 126.507839 L 232.273983 114.645901 L 232.849463 101.609513 L 233.421028 88.216876 L 233.996508 75.286188 L 234.568074 63.569099 L 235.143554 53.707639 L 235.715119 46.210737 L 236.2906 41.415069 \" transform=\"matrix(0.997808,0,0,-0.997808,45.367966,194.699289)\"/>\n",
       "</g>\n",
       "<g clip-path=\"url(#clip-1606366588244584-2)\" clip-rule=\"nonzero\">\n",
       "<path style=\"fill:none;stroke-width:1.19553;stroke-linecap:butt;stroke-linejoin:miter;stroke:rgb(0%,46.665955%,73.33374%);stroke-opacity:1;stroke-miterlimit:10;\" d=\"M 6.881493 39.853051 L 7.456973 42.828323 L 8.028538 48.266023 L 8.604019 55.829477 L 9.175584 65.099798 L 9.751064 75.575886 L 10.32263 86.701836 L 10.89811 97.890423 L 11.469675 108.570083 L 12.045155 118.192738 L 12.616721 126.25729 L 13.192201 132.344853 L 13.763766 136.146154 L 14.339246 137.449792 L 14.910812 136.185302 L 15.486292 132.403575 L 16.057857 126.300353 L 16.633337 118.184908 L 17.204903 108.483957 L 17.780383 97.718171 L 18.351948 86.470861 L 18.927428 75.364485 L 19.498994 65.009756 L 20.074474 55.997815 L 20.646039 48.841504 L 21.22152 43.963624 L 21.793085 41.649959 L 22.368565 42.049272 L 22.94013 45.145903 L 23.515611 50.77543 L 24.087176 58.616837 L 24.662656 68.223833 L 25.234221 79.036596 L 25.809702 90.428755 L 26.381267 101.738702 L 26.956747 112.312661 L 27.528313 121.536004 L 28.103793 128.888057 L 28.675358 133.949933 L 29.250838 136.45151 L 29.822404 136.275343 L 30.397884 133.456665 L 30.969449 128.187302 L 31.544929 120.800015 L 32.116495 111.748926 L 32.691975 101.570365 L 33.26354 90.855472 L 33.83902 80.211046 L 34.410586 70.236056 L 34.986066 61.462919 L 35.557631 54.361416 L 36.133111 49.279965 L 36.704677 46.457371 L 37.280157 46.007166 L 37.851722 47.901944 L 38.427203 51.996858 L 38.998768 58.041357 L 39.574248 65.675278 L 40.145813 74.483648 L 40.721294 83.992773 L 41.292859 93.705469 L 41.868339 103.64131 L 42.439904 109.071181 L 43.015385 113.252221 L 43.58695 115.679416 L 44.16243 115.988688 L 44.733996 113.98038 L 45.309476 109.681895 L 45.881041 103.316379 L 46.456521 95.314464 L 47.028087 86.286864 L 47.603567 76.957821 L 48.175132 68.122047 L 48.750612 60.554679 L 49.322178 54.968214 L 49.897658 51.926391 L 50.469223 51.793286 L 51.044703 54.694176 L 51.616269 60.507701 L 52.191749 68.86195 L 52.763314 79.150127 L 53.338794 90.601008 L 53.91036 102.318097 L 54.48584 113.365751 L 55.057405 122.843557 L 55.632886 129.964635 L 56.204451 134.122186 L 56.779931 134.940386 L 57.351496 132.313534 L 57.926977 126.406054 L 58.498542 117.648576 L 59.074022 106.706623 L 59.645587 94.414053 L 60.221068 81.722171 L 60.792633 69.601853 L 61.368113 58.984831 L 61.939679 50.66973 L 62.515159 45.275092 L 63.086724 43.184573 L 63.662204 44.5117 L 64.23377 49.111627 L 64.80925 56.588955 L 65.380815 66.321225 L 65.956295 77.545046 L 66.527861 89.391325 L 67.103341 100.963566 L 67.674906 111.423995 L 68.250386 120.044453 L 68.821952 126.25729 L 69.397432 129.706256 L 69.968997 130.250418 L 70.544477 127.987645 L 71.116043 123.207637 L 71.691523 116.380171 L 72.263088 108.096388 L 72.838569 99.025724 L 73.410134 89.841531 L 73.985614 81.189754 L 74.557179 73.622385 L 75.128745 67.566141 L 75.704225 63.31072 L 76.27579 60.973565 L 76.85127 60.539019 L 77.422836 61.846573 L 77.998316 64.633933 L 78.569881 68.564423 L 79.145362 73.27005 L 79.716927 78.386735 L 80.292407 83.573886 L 80.863972 88.549636 L 81.439453 93.102585 L 82.011018 97.095713 L 82.586498 100.458553 L 83.158063 103.17936 L 83.733544 105.281625 L 84.305109 106.816238 L 84.880589 107.818435 L 85.452155 108.327363 L 86.027635 108.339108 L 86.5992 107.82235 L 87.17468 106.726197 L 87.746246 104.980183 L 88.321726 102.517754 L 88.893291 99.295848 L 89.468771 95.314464 L 90.040337 90.640156 L 90.615817 85.413856 L 91.187382 79.858711 L 91.762862 74.272247 L 92.334428 69.014629 L 92.909908 64.485169 L 93.481473 61.087096 L 94.056953 59.192317 L 94.628519 59.106191 L 95.203999 61.020543 L 95.775564 64.994097 L 96.351045 70.925066 L 96.92261 78.547243 L 97.49809 87.441739 L 98.069655 97.04482 L 98.645136 106.694879 L 99.216701 115.683331 L 99.792181 123.301593 L 100.363746 128.911546 L 100.939227 131.980773 L 101.510792 132.16477 L 102.086272 129.314773 L 102.657838 123.516908 L 103.233318 115.088277 L 103.804883 104.569125 L 104.380363 92.675868 L 104.951929 80.261939 L 105.527409 68.235577 L 106.098974 57.50894 L 106.674454 48.911971 L 107.24602 43.12585 L 107.8215 40.628188 L 108.393065 41.649959 L 108.968545 46.1481 L 109.540111 53.821169 L 110.115591 64.11326 L 110.687156 76.264896 L 111.262636 89.375666 L 111.834202 61.807425 L 112.409682 67.433037 L 112.981247 74.076505 L 113.556728 81.131031 L 114.128293 88.00939 L 114.703773 94.190908 L 115.275338 99.260614 L 115.850819 102.940556 L 116.422384 105.121117 L 116.997864 105.829701 L 117.569429 105.246391 L 118.14491 103.660885 L 118.716475 101.433346 L 119.291955 98.955257 L 119.863521 96.598529 L 120.439001 94.672432 L 121.010566 93.400112 L 121.586046 92.883354 L 122.157612 93.09084 L 122.733092 93.877721 L 123.304657 95.001278 L 123.880137 96.140494 L 124.451703 96.946949 L 125.027183 97.095713 L 125.598748 96.308832 L 126.174228 94.410138 L 126.745794 91.35657 L 127.321274 87.238168 L 127.892839 82.293736 L 128.468319 76.895184 L 129.039885 71.504461 L 129.615365 66.653985 L 130.18693 62.876173 L 130.76241 60.664294 L 131.333976 60.40983 L 131.909456 62.355501 L 132.481021 66.575689 L 133.056502 72.941204 L 133.628067 81.119287 L 134.203547 90.608837 L 134.775112 100.74825 L 135.350593 110.785877 L 135.922158 119.938753 L 136.497638 127.439569 L 137.069204 132.62672 L 137.644684 134.999108 L 138.216249 134.251375 L 138.791729 130.313055 L 139.363295 123.372059 L 139.938775 113.847275 L 140.51034 102.372905 L 141.08582 89.747575 L 141.657386 76.86778 L 142.232866 64.665251 L 142.804431 54.036485 L 143.379911 45.748787 L 143.951477 40.412872 L 144.526957 38.408479 L 145.098522 39.868711 L 145.674002 44.660464 L 146.245568 52.423574 L 146.821048 62.566902 L 147.392613 74.350544 L 147.968093 86.924981 L 148.539659 99.401548 L 149.115139 110.938556 L 149.686704 120.784356 L 150.262185 128.33998 L 150.83375 133.190456 L 151.40923 135.136127 L 151.980795 134.196568 L 152.556276 130.583178 L 153.127841 124.683528 L 153.703321 117.014374 L 154.274887 108.17077 L 154.850367 98.78692 L 155.421932 89.465707 L 155.997412 80.751293 L 156.568978 73.089968 L 157.144458 66.806664 L 157.716023 62.108867 L 158.291503 59.067043 L 158.863069 57.649874 L 159.438549 57.732085 L 160.010114 59.133595 L 160.585594 61.646916 L 161.15716 65.048905 L 161.73264 69.139903 L 162.304205 73.751574 L 162.879685 78.739069 L 163.451251 84.008432 L 164.026731 89.465707 L 164.598296 95.044341 L 165.173776 100.650379 L 165.745342 106.174206 L 166.320822 111.451399 L 166.892387 116.286215 L 167.467868 120.420277 L 168.039433 123.571716 L 168.614913 125.43909 L 169.186478 125.732703 L 169.761959 124.205919 L 170.333524 120.69823 L 170.909004 115.154829 L 171.480569 107.657927 L 172.05605 98.442415 L 172.627615 87.907604 L 173.203095 76.597657 L 173.774661 65.174179 L 174.350141 54.384905 L 174.921706 45.008884 L 175.497186 37.797765 L 176.068752 33.413154 L 176.644232 32.363979 L 177.215797 34.955598 L 177.791277 41.258476 L 178.362843 51.069043 L 178.938323 63.921433 L 179.509888 79.099234 L 180.085368 95.678544 L 180.656934 112.57887 L 181.232414 128.657082 L 181.803979 142.762218 L 182.379459 153.845105 L 182.951025 161.032735 L 183.526505 163.698735 L 184.09807 161.51426 L 184.673551 154.498882 L 185.245116 143.008853 L 185.820596 127.729267 L 186.392161 109.631002 L 186.967642 89.904168 L 187.539207 69.871977 L 188.114687 50.892875 L 188.686252 34.282247 L 189.261733 21.179307 L 189.833298 12.500126 L 190.408778 8.847588 L 190.980344 10.476158 L 191.555824 17.26839 L 192.127389 28.75059 L 192.702869 44.135877 L 193.274435 62.355501 L 193.849915 82.180206 L 194.42148 102.271119 L 194.99696 121.297199 L 195.568526 138.033102 L 196.144006 151.42574 L 196.715571 160.680401 L 197.291051 165.299901 L 197.862617 165.108075 L 198.438097 160.253684 L 199.009662 151.198679 L 199.585142 138.647731 L 200.156708 123.512993 L 200.732188 106.831898 L 201.303753 89.684937 L 201.879234 73.136946 L 202.450799 58.150972 L 203.026279 45.537386 L 203.597844 35.918646 L 204.173325 29.694064 L 204.74489 27.031979 L 205.32037 27.889327 L 205.891935 32.015559 L 206.467416 39.011363 L 207.038981 48.340405 L 207.614461 59.395889 L 208.186027 71.531865 L 208.761507 84.106303 L 209.333072 96.504573 L 209.908552 108.174685 L 210.480118 118.639029 L 211.055598 127.510036 L 211.627163 134.474521 L 212.202643 139.309337 L 212.774209 141.873552 L 213.349689 142.100612 L 213.921254 139.982688 L 214.496734 135.605907 L 215.0683 129.103372 L 215.64378 120.694315 L 216.215345 110.668432 L 216.790825 99.393719 L 217.362391 87.316464 L 217.937871 74.949513 L 218.509436 62.864429 L 219.084917 51.675841 L 219.656482 42.002294 L 220.231962 34.442755 L 220.803527 29.537471 L 221.379008 27.71316 L 221.950573 29.263433 L 222.526053 34.305736 L 223.097618 42.746112 L 223.673099 54.283119 L 224.244664 68.384341 L 224.820144 84.333363 L 225.39171 101.229774 L 225.96719 118.075293 L 226.538755 133.80117 L 227.114235 147.362145 L 227.685801 157.79517 L 228.261281 164.305534 L 228.832846 166.321672 L 229.408326 163.553887 L 229.979892 156.021751 L 230.555372 144.073687 L 231.126937 128.367384 L 231.702417 109.830658 L 232.273983 89.626215 L 232.849463 69.049862 L 233.421028 49.460047 L 233.996508 32.176067 L 234.568074 18.384117 L 235.143554 9.047245 L 235.715119 4.842716 L 236.2906 6.103292 \" transform=\"matrix(0.997808,0,0,-0.997808,45.367966,194.699289)\"/>\n",
       "</g>\n",
       "<g style=\"fill:rgb(0%,0%,0%);fill-opacity:1;\">\n",
       "  <use xlink:href=\"#glyph-1606366588244584-1-1\" x=\"155.17674\" y=\"219.596595\"/>\n",
       "  <use xlink:href=\"#glyph-1606366588244584-1-2\" x=\"161.704863\" y=\"219.596595\"/>\n",
       "  <use xlink:href=\"#glyph-1606366588244584-1-3\" x=\"164.668215\" y=\"219.596595\"/>\n",
       "  <use xlink:href=\"#glyph-1606366588244584-1-4\" x=\"173.306769\" y=\"219.596595\"/>\n",
       "</g>\n",
       "<g style=\"fill:rgb(0%,0%,0%);fill-opacity:1;\">\n",
       "  <use xlink:href=\"#glyph-1606366588244584-2-1\" x=\"11.080289\" y=\"118.324068\"/>\n",
       "</g>\n",
       "<g style=\"fill:rgb(0%,0%,0%);fill-opacity:1;\">\n",
       "  <use xlink:href=\"#glyph-1606366588244584-2-2\" x=\"11.27087\" y=\"114.398691\"/>\n",
       "</g>\n",
       "<g style=\"fill:rgb(0%,0%,0%);fill-opacity:1;\">\n",
       "  <use xlink:href=\"#glyph-1606366588244584-3-1\" x=\"7.170877\" y=\"108.198312\"/>\n",
       "</g>\n",
       "<g style=\"fill:rgb(0%,0%,0%);fill-opacity:1;\">\n",
       "  <use xlink:href=\"#glyph-1606366588244584-3-2\" x=\"13.566826\" y=\"109.29191\"/>\n",
       "</g>\n",
       "<g style=\"fill:rgb(0%,0%,0%);fill-opacity:1;\">\n",
       "  <use xlink:href=\"#glyph-1606366588244584-2-3\" x=\"11.080289\" y=\"104.20708\"/>\n",
       "</g>\n",
       "<g style=\"fill:rgb(0%,0%,0%);fill-opacity:1;\">\n",
       "  <use xlink:href=\"#glyph-1606366588244584-4-1\" x=\"133.979306\" y=\"11.639431\"/>\n",
       "</g>\n",
       "<g style=\"fill:rgb(0%,0%,0%);fill-opacity:1;\">\n",
       "  <use xlink:href=\"#glyph-1606366588244584-4-2\" x=\"142.508516\" y=\"11.639431\"/>\n",
       "  <use xlink:href=\"#glyph-1606366588244584-4-3\" x=\"147.160812\" y=\"11.639431\"/>\n",
       "  <use xlink:href=\"#glyph-1606366588244584-4-4\" x=\"153.351945\" y=\"11.639431\"/>\n",
       "  <use xlink:href=\"#glyph-1606366588244584-4-5\" x=\"156.584695\" y=\"11.639431\"/>\n",
       "  <use xlink:href=\"#glyph-1606366588244584-4-2\" x=\"163.050193\" y=\"11.639431\"/>\n",
       "  <use xlink:href=\"#glyph-1606366588244584-4-6\" x=\"167.70249\" y=\"11.639431\"/>\n",
       "</g>\n",
       "<g style=\"fill:rgb(0%,0%,0%);fill-opacity:1;\">\n",
       "  <use xlink:href=\"#glyph-1606366588244584-0-8\" x=\"173.308908\" y=\"11.639431\"/>\n",
       "</g>\n",
       "<g style=\"fill:rgb(0%,0%,0%);fill-opacity:1;\">\n",
       "  <use xlink:href=\"#glyph-1606366588244584-0-9\" x=\"182.792435\" y=\"11.639431\"/>\n",
       "</g>\n",
       "<g style=\"fill:rgb(0%,0%,0%);fill-opacity:1;\">\n",
       "  <use xlink:href=\"#glyph-1606366588244584-0-3\" x=\"193.838656\" y=\"11.639431\"/>\n",
       "</g>\n",
       "<path style=\"fill-rule:nonzero;fill:rgb(100%,100%,100%);fill-opacity:0.9;stroke-width:0.99628;stroke-linecap:butt;stroke-linejoin:miter;stroke:rgb(13.331604%,13.331604%,33.332825%);stroke-opacity:0.1;stroke-miterlimit:10;\" d=\"M 174.72205 136.091346 L 237.809554 136.091346 L 237.809554 167.245572 L 174.72205 167.245572 Z M 174.72205 136.091346 \" transform=\"matrix(0.997808,0,0,-0.997808,45.367966,194.699289)\"/>\n",
       "<path style=\"fill:none;stroke-width:1.19553;stroke-linecap:butt;stroke-linejoin:miter;stroke:rgb(93.331909%,46.665955%,19.999695%);stroke-opacity:1;stroke-miterlimit:10;\" d=\"M -0.000879777 -0.000668506 L 17.009062 -0.000668506 \" transform=\"matrix(0.997808,0,0,-0.997808,223.282128,36.706364)\"/>\n",
       "<g style=\"fill:rgb(13.331604%,13.331604%,33.332825%);fill-opacity:1;\">\n",
       "  <use xlink:href=\"#glyph-1606366588244584-4-7\" x=\"242.83717\" y=\"40.123857\"/>\n",
       "  <use xlink:href=\"#glyph-1606366588244584-4-8\" x=\"250.543281\" y=\"40.123857\"/>\n",
       "  <use xlink:href=\"#glyph-1606366588244584-4-9\" x=\"253.692528\" y=\"40.123857\"/>\n",
       "  <use xlink:href=\"#glyph-1606366588244584-4-2\" x=\"259.704726\" y=\"40.123857\"/>\n",
       "  <use xlink:href=\"#glyph-1606366588244584-4-10\" x=\"264.357022\" y=\"40.123857\"/>\n",
       "</g>\n",
       "<g style=\"fill:rgb(13.331604%,13.331604%,33.332825%);fill-opacity:1;\">\n",
       "  <use xlink:href=\"#glyph-1606366588244584-4-11\" x=\"269.772772\" y=\"40.123857\"/>\n",
       "</g>\n",
       "<path style=\"fill:none;stroke-width:1.19553;stroke-linecap:butt;stroke-linejoin:miter;stroke:rgb(0%,46.665955%,73.33374%);stroke-opacity:1;stroke-miterlimit:10;\" d=\"M -0.000879777 -0.000132666 L 17.009062 -0.000132666 \" transform=\"matrix(0.997808,0,0,-0.997808,223.282128,50.261586)\"/>\n",
       "<g style=\"fill:rgb(13.331604%,13.331604%,33.332825%);fill-opacity:1;\">\n",
       "  <use xlink:href=\"#glyph-1606366588244584-4-12\" x=\"242.83717\" y=\"53.440603\"/>\n",
       "  <use xlink:href=\"#glyph-1606366588244584-4-7\" x=\"252.845571\" y=\"53.440603\"/>\n",
       "  <use xlink:href=\"#glyph-1606366588244584-4-13\" x=\"260.551682\" y=\"53.440603\"/>\n",
       "  <use xlink:href=\"#glyph-1606366588244584-4-14\" x=\"271.896128\" y=\"53.440603\"/>\n",
       "</g>\n",
       "</g>\n",
       "</svg>\n",
       "\n"
      ]
     },
     "execution_count": 318,
     "metadata": {},
     "output_type": "execute_result"
    }
   ],
   "source": [
    "plot!(ts, hcat(fouts...)',\n",
    "    title = latexstring(\"$N spins, \\$\\\\lambda = $λ\\$\"),\n",
    "    label = [\n",
    "        \"MCWF\"\n",
    "        ])"
   ]
  },
  {
   "cell_type": "code",
   "execution_count": 319,
   "metadata": {},
   "outputs": [
    {
     "name": "stderr",
     "output_type": "stream",
     "text": [
      "\u001b[32mProgress: 100%|█████████████████████████████████████████| Time: 0:23:02\u001b[39m\n"
     ]
    }
   ],
   "source": [
    "progress = Progress(length(ts));\n",
    "ts, fouts = timeevolution.master(ts, ψs, Hmb, jumpoperators, rates=γs, fout=fout);"
   ]
  },
  {
   "cell_type": "code",
   "execution_count": 320,
   "metadata": {
    "ExecuteTime": {
     "end_time": "2020-11-20T21:54:13.178000-08:00",
     "start_time": "2020-11-21T05:54:08.577Z"
    },
    "caption": "Open Ising time evolution.",
    "code_folding": [],
    "label": "fig:ising-2",
    "scrolled": true,
    "widefigure": false
   },
   "outputs": [
    {
     "data": {
      "image/svg+xml": [
       "<?xml version=\"1.0\" encoding=\"UTF-8\"?>\n",
       "<svg xmlns=\"http://www.w3.org/2000/svg\" xmlns:xlink=\"http://www.w3.org/1999/xlink\" width=\"290.543pt\" height=\"223.509pt\" viewBox=\"0 0 290.543 223.509\" version=\"1.2\">\n",
       "<defs>\n",
       "<g>\n",
       "<symbol overflow=\"visible\" id=\"glyph-1606366588244585-0-0\">\n",
       "<path style=\"stroke:none;\" d=\"M 0 0 L 5.96875 0 L 5.96875 -8.328125 L 0 -8.328125 Z M 0.953125 -0.59375 L 2.984375 -3.625 L 5 -0.59375 Z M 0.59375 -7.1875 L 2.625 -4.15625 L 0.59375 -1.125 Z M 3.34375 -4.15625 L 5.359375 -7.1875 L 5.359375 -1.125 Z M 2.984375 -4.703125 L 0.953125 -7.71875 L 5 -7.71875 Z M 2.984375 -4.703125 \"/>\n",
       "</symbol>\n",
       "<symbol overflow=\"visible\" id=\"glyph-1606366588244585-0-1\">\n",
       "<path style=\"stroke:none;\" d=\"M 2.71875 0.125 C 3.640625 0.125 5.03125 -0.8125 5.03125 -3.609375 C 5.03125 -4.796875 4.75 -5.8125 4.21875 -6.5 C 3.90625 -6.921875 3.40625 -7.265625 2.765625 -7.265625 C 1.578125 -7.265625 0.46875 -5.859375 0.46875 -3.5 C 0.46875 -2.234375 0.859375 -1.03125 1.515625 -0.375 C 1.84375 -0.046875 2.25 0.125 2.71875 0.125 Z M 2.765625 -6.859375 C 2.96875 -6.859375 3.15625 -6.78125 3.296875 -6.65625 C 3.671875 -6.34375 4 -5.4375 4 -3.84375 C 4 -2.734375 3.953125 -1.984375 3.796875 -1.390625 C 3.53125 -0.40625 2.9375 -0.296875 2.734375 -0.296875 C 1.625 -0.296875 1.5 -2.34375 1.5 -3.375 C 1.5 -6.3125 2.234375 -6.859375 2.765625 -6.859375 Z M 2.765625 -6.859375 \"/>\n",
       "</symbol>\n",
       "<symbol overflow=\"visible\" id=\"glyph-1606366588244585-0-2\">\n",
       "<path style=\"stroke:none;\" d=\"M 3.796875 -2.25 C 3.796875 -1.125 3.203125 -0.28125 2.484375 -0.28125 C 2.03125 -0.28125 1.890625 -0.578125 1.703125 -0.828125 C 1.546875 -1.03125 1.34375 -1.203125 1.09375 -1.203125 C 0.875 -1.203125 0.640625 -1 0.640625 -0.765625 C 0.640625 -0.28125 1.65625 0.125 2.34375 0.125 C 3.8125 0.125 4.859375 -0.96875 4.859375 -2.46875 C 4.859375 -3.625 4.0625 -4.65625 2.734375 -4.65625 C 2.21875 -4.65625 1.78125 -4.546875 1.5625 -4.46875 L 1.796875 -6.46875 C 2.234375 -6.40625 2.625 -6.359375 3.1875 -6.359375 C 3.546875 -6.359375 3.953125 -6.375 4.453125 -6.421875 L 4.640625 -7.234375 L 4.546875 -7.28125 C 3.875 -7.21875 3.234375 -7.15625 2.59375 -7.15625 C 2.15625 -7.15625 1.734375 -7.171875 1.3125 -7.21875 L 0.90625 -3.78125 C 1.53125 -4.015625 1.984375 -4.0625 2.421875 -4.0625 C 3.1875 -4.0625 3.796875 -3.546875 3.796875 -2.25 Z M 3.796875 -2.25 \"/>\n",
       "</symbol>\n",
       "<symbol overflow=\"visible\" id=\"glyph-1606366588244585-0-3\">\n",
       "<path style=\"stroke:none;\" d=\"M 3.4375 -1.453125 L 3.4375 -5.59375 C 3.4375 -6.3125 3.453125 -7.03125 3.46875 -7.1875 C 3.46875 -7.25 3.453125 -7.25 3.390625 -7.25 C 2.734375 -6.84375 2.109375 -6.546875 1.0625 -6.0625 C 1.078125 -5.921875 1.125 -5.8125 1.234375 -5.734375 C 1.78125 -5.96875 2.046875 -6.03125 2.28125 -6.03125 C 2.484375 -6.03125 2.515625 -5.75 2.515625 -5.34375 L 2.515625 -1.453125 C 2.515625 -0.46875 2.1875 -0.40625 1.359375 -0.375 C 1.28125 -0.296875 1.28125 -0.046875 1.359375 0.03125 C 1.9375 0.015625 2.375 0 3.015625 0 C 3.59375 0 3.875 0.015625 4.46875 0.03125 C 4.546875 -0.046875 4.546875 -0.296875 4.46875 -0.375 C 3.640625 -0.40625 3.4375 -0.46875 3.4375 -1.453125 Z M 3.4375 -1.453125 \"/>\n",
       "</symbol>\n",
       "<symbol overflow=\"visible\" id=\"glyph-1606366588244585-0-4\">\n",
       "<path style=\"stroke:none;\" d=\"M 0.734375 -5.578125 C 0.734375 -5.328125 0.953125 -5.109375 1.203125 -5.109375 C 1.40625 -5.109375 1.765625 -5.328125 1.765625 -5.59375 C 1.765625 -5.6875 1.734375 -5.765625 1.71875 -5.84375 C 1.6875 -5.921875 1.625 -6.03125 1.625 -6.125 C 1.625 -6.421875 1.9375 -6.859375 2.796875 -6.859375 C 3.234375 -6.859375 3.84375 -6.5625 3.84375 -5.40625 C 3.84375 -4.65625 3.5625 -4.03125 2.859375 -3.3125 L 1.984375 -2.4375 C 0.8125 -1.25 0.625 -0.671875 0.625 0.03125 C 0.625 0.03125 1.234375 0 1.609375 0 L 3.703125 0 C 4.078125 0 4.625 0.03125 4.625 0.03125 C 4.78125 -0.609375 4.90625 -1.5 4.90625 -1.859375 C 4.84375 -1.921875 4.6875 -1.9375 4.5625 -1.921875 C 4.359375 -1.078125 4.15625 -0.78125 3.734375 -0.78125 L 1.609375 -0.78125 C 1.609375 -1.34375 2.4375 -2.15625 2.484375 -2.21875 L 3.703125 -3.375 C 4.375 -4.03125 4.890625 -4.546875 4.890625 -5.453125 C 4.890625 -6.75 3.84375 -7.265625 2.875 -7.265625 C 1.546875 -7.265625 0.734375 -6.296875 0.734375 -5.578125 Z M 0.734375 -5.578125 \"/>\n",
       "</symbol>\n",
       "<symbol overflow=\"visible\" id=\"glyph-1606366588244585-0-5\">\n",
       "<path style=\"stroke:none;\" d=\"M 0.703125 -3.390625 C 0.5625 -3.25 0.5625 -2.9375 0.703125 -2.796875 L 7.015625 -2.796875 C 7.171875 -2.9375 7.171875 -3.25 7.015625 -3.390625 Z M 0.703125 -3.390625 \"/>\n",
       "</symbol>\n",
       "<symbol overflow=\"visible\" id=\"glyph-1606366588244585-0-6\">\n",
       "<path style=\"stroke:none;\" d=\"M 0.671875 -0.515625 C 0.671875 -0.171875 0.96875 0.125 1.3125 0.125 C 1.65625 0.125 1.9375 -0.171875 1.9375 -0.515625 C 1.9375 -0.859375 1.65625 -1.140625 1.3125 -1.140625 C 0.96875 -1.140625 0.671875 -0.859375 0.671875 -0.515625 Z M 0.671875 -0.515625 \"/>\n",
       "</symbol>\n",
       "<symbol overflow=\"visible\" id=\"glyph-1606366588244585-0-7\">\n",
       "<path style=\"stroke:none;\" d=\"M 5.125 -2.609375 L 4.140625 -2.609375 L 4.140625 -6.09375 C 4.140625 -6.6875 4.140625 -7.15625 4.15625 -7.25 L 4.140625 -7.265625 L 3.75 -7.265625 C 3.671875 -7.265625 3.609375 -7.203125 3.5625 -7.140625 C 2.8125 -6.21875 1.4375 -4.25 0.328125 -2.546875 C 0.375 -2.375 0.4375 -2.046875 0.796875 -2.046875 L 3.234375 -2.046875 L 3.234375 -0.953125 C 3.234375 -0.40625 2.78125 -0.40625 2.265625 -0.375 C 2.1875 -0.296875 2.1875 -0.046875 2.265625 0.03125 C 2.640625 0.015625 3.125 0 3.671875 0 C 4.140625 0 4.59375 0.015625 4.96875 0.03125 C 5.046875 -0.046875 5.046875 -0.296875 4.96875 -0.375 C 4.390625 -0.421875 4.140625 -0.390625 4.140625 -0.953125 L 4.140625 -2.046875 L 4.953125 -2.046875 C 5.125 -2.046875 5.3125 -2.28125 5.3125 -2.421875 C 5.3125 -2.546875 5.25 -2.609375 5.125 -2.609375 Z M 3.234375 -6.046875 L 3.234375 -2.609375 L 0.953125 -2.609375 C 1.5625 -3.59375 2.40625 -4.921875 3.234375 -6.046875 Z M 3.234375 -6.046875 \"/>\n",
       "</symbol>\n",
       "<symbol overflow=\"visible\" id=\"glyph-1606366588244585-0-8\">\n",
       "<path style=\"stroke:none;\" d=\"M 5.9375 -0.71875 L 5.734375 -0.921875 C 5.421875 -0.609375 5.25 -0.578125 5.015625 -0.578125 C 4.671875 -0.578125 4.640625 -0.984375 4.546875 -2.546875 L 4.34375 -6.78125 C 4.296875 -8.1875 3.703125 -8.328125 3.375 -8.328125 C 2.9375 -8.328125 2.484375 -7.953125 2.09375 -7.5 L 2.234375 -7.296875 C 2.5 -7.46875 2.8125 -7.59375 3.09375 -7.59375 C 3.40625 -7.59375 3.78125 -7.34375 3.859375 -5.703125 L 3.890625 -5.1875 L 0.234375 0 L 0.484375 0.140625 C 0.734375 0.046875 1.03125 0.015625 1.34375 0 L 3.921875 -4.328125 L 4.0625 -1.5 C 4.109375 -0.390625 4.25 0.140625 4.8125 0.140625 C 5.140625 0.140625 5.625 -0.25 5.9375 -0.71875 Z M 5.9375 -0.71875 \"/>\n",
       "</symbol>\n",
       "<symbol overflow=\"visible\" id=\"glyph-1606366588244585-0-9\">\n",
       "<path style=\"stroke:none;\" d=\"M 0.703125 -2.203125 C 0.5625 -2.0625 0.5625 -1.75 0.703125 -1.609375 L 7.015625 -1.609375 C 7.171875 -1.75 7.171875 -2.0625 7.015625 -2.203125 Z M 0.703125 -4.59375 C 0.5625 -4.453125 0.5625 -4.140625 0.703125 -4 L 7.015625 -4 C 7.171875 -4.140625 7.171875 -4.453125 7.015625 -4.59375 Z M 0.703125 -4.59375 \"/>\n",
       "</symbol>\n",
       "<symbol overflow=\"visible\" id=\"glyph-1606366588244585-1-0\">\n",
       "<path style=\"stroke:none;\" d=\"M 0 0 L 5.46875 0 L 5.46875 -7.640625 L 0 -7.640625 Z M 0.875 -0.546875 L 2.734375 -3.328125 L 4.59375 -0.546875 Z M 0.546875 -6.59375 L 2.40625 -3.8125 L 0.546875 -1.03125 Z M 3.0625 -3.8125 L 4.921875 -6.59375 L 4.921875 -1.03125 Z M 2.734375 -4.3125 L 0.875 -7.078125 L 4.59375 -7.078125 Z M 2.734375 -4.3125 \"/>\n",
       "</symbol>\n",
       "<symbol overflow=\"visible\" id=\"glyph-1606366588244585-1-1\">\n",
       "<path style=\"stroke:none;\" d=\"M 3.828125 -1.328125 L 3.828125 -5.515625 C 3.828125 -6.21875 3.9375 -6.625 4.328125 -6.625 L 4.578125 -6.625 C 5.390625 -6.625 5.90625 -6.34375 6.09375 -5.5 C 6.21875 -5.5 6.359375 -5.515625 6.46875 -5.5625 C 6.390625 -6.0625 6.328125 -6.609375 6.328125 -7.109375 C 6.328125 -7.125 6.296875 -7.140625 6.28125 -7.140625 C 5.921875 -7.109375 4.703125 -7.046875 3.84375 -7.046875 L 2.890625 -7.046875 C 2.0625 -7.046875 0.765625 -7.109375 0.34375 -7.140625 C 0.328125 -7.140625 0.3125 -7.125 0.3125 -7.109375 C 0.265625 -6.609375 0.15625 -6.046875 0.03125 -5.515625 C 0.140625 -5.484375 0.265625 -5.46875 0.40625 -5.46875 C 0.625 -6.34375 1.125 -6.625 1.84375 -6.625 L 2.390625 -6.625 C 2.78125 -6.625 2.890625 -6.21875 2.890625 -5.546875 L 2.890625 -1.328125 C 2.890625 -0.421875 2.71875 -0.375 1.84375 -0.34375 C 1.765625 -0.265625 1.765625 -0.046875 1.84375 0.015625 C 2.375 0.015625 2.9375 0 3.375 0 C 3.78125 0 4.34375 0.015625 4.890625 0.015625 C 4.953125 -0.046875 4.953125 -0.265625 4.890625 -0.34375 C 4.015625 -0.375 3.828125 -0.421875 3.828125 -1.328125 Z M 3.828125 -1.328125 \"/>\n",
       "</symbol>\n",
       "<symbol overflow=\"visible\" id=\"glyph-1606366588244585-1-2\">\n",
       "<path style=\"stroke:none;\" d=\"M 1.984375 -1.328125 L 1.984375 -3.515625 C 1.984375 -4.0625 2.015625 -4.75 2.015625 -4.75 C 2.015625 -4.796875 1.96875 -4.828125 1.875 -4.828125 C 1.578125 -4.71875 1.140625 -4.609375 0.375 -4.515625 C 0.359375 -4.453125 0.375 -4.28125 0.40625 -4.203125 C 1 -4.15625 1.109375 -4.09375 1.109375 -3.46875 L 1.109375 -1.328125 C 1.109375 -0.421875 1 -0.390625 0.328125 -0.34375 C 0.265625 -0.265625 0.265625 -0.046875 0.328125 0.015625 C 0.6875 0.015625 1.109375 0 1.546875 0 C 1.984375 0 2.40625 0.015625 2.765625 0.015625 C 2.828125 -0.046875 2.828125 -0.265625 2.765625 -0.34375 C 2.09375 -0.375 1.984375 -0.421875 1.984375 -1.328125 Z M 0.984375 -6.546875 C 0.984375 -6.265625 1.25 -5.984375 1.515625 -5.984375 C 1.8125 -5.984375 2.078125 -6.28125 2.078125 -6.5 C 2.078125 -6.765625 1.84375 -7.078125 1.546875 -7.078125 C 1.296875 -7.078125 0.984375 -6.8125 0.984375 -6.546875 Z M 0.984375 -6.546875 \"/>\n",
       "</symbol>\n",
       "<symbol overflow=\"visible\" id=\"glyph-1606366588244585-1-3\">\n",
       "<path style=\"stroke:none;\" d=\"M 1.859375 -3.921875 C 1.84375 -4.25 1.828125 -4.640625 1.765625 -4.75 C 1.75 -4.796875 1.734375 -4.828125 1.640625 -4.828125 C 1.328125 -4.71875 1.046875 -4.609375 0.296875 -4.515625 C 0.265625 -4.453125 0.296875 -4.28125 0.3125 -4.203125 C 0.90625 -4.15625 1.03125 -4.09375 1.03125 -3.46875 L 1.03125 -1.328125 C 1.03125 -0.4375 0.890625 -0.375 0.28125 -0.34375 C 0.21875 -0.265625 0.21875 -0.046875 0.28125 0.015625 C 0.609375 0.015625 1.03125 0 1.46875 0 C 1.90625 0 2.234375 0.015625 2.5625 0.015625 C 2.640625 -0.046875 2.640625 -0.265625 2.5625 -0.34375 C 2.015625 -0.390625 1.890625 -0.4375 1.890625 -1.328125 L 1.890625 -3.125 C 1.890625 -3.359375 1.984375 -3.484375 2.078125 -3.59375 C 2.515625 -4.015625 2.921875 -4.234375 3.265625 -4.234375 C 3.671875 -4.234375 3.984375 -3.96875 3.984375 -3.234375 L 3.984375 -1.328125 C 3.984375 -0.4375 3.890625 -0.375 3.296875 -0.34375 C 3.25 -0.265625 3.25 -0.046875 3.296875 0.015625 C 3.578125 0.015625 3.984375 0 4.421875 0 C 4.859375 0 5.21875 0.015625 5.484375 0.015625 C 5.546875 -0.046875 5.546875 -0.265625 5.484375 -0.34375 C 4.9375 -0.375 4.84375 -0.4375 4.84375 -1.328125 L 4.84375 -3.078125 C 4.84375 -3.21875 4.84375 -3.375 4.828125 -3.515625 C 5.359375 -4.09375 5.84375 -4.234375 6.28125 -4.234375 C 6.6875 -4.234375 6.9375 -3.984375 6.9375 -3.265625 L 6.9375 -1.328125 C 6.9375 -0.4375 6.828125 -0.375 6.25 -0.34375 C 6.203125 -0.265625 6.203125 -0.046875 6.25 0.015625 C 6.53125 0.015625 6.9375 0 7.375 0 C 7.8125 0 8.1875 0.015625 8.5 0.015625 C 8.546875 -0.046875 8.546875 -0.265625 8.5 -0.34375 C 7.890625 -0.375 7.796875 -0.4375 7.796875 -1.328125 L 7.796875 -3.0625 C 7.796875 -4.03125 7.640625 -4.796875 6.671875 -4.796875 C 6.109375 -4.796875 5.4375 -4.59375 4.859375 -3.984375 C 4.828125 -3.953125 4.765625 -3.90625 4.75 -4 C 4.640625 -4.453125 4.21875 -4.796875 3.65625 -4.796875 C 3.015625 -4.796875 2.453125 -4.421875 1.984375 -3.921875 C 1.9375 -3.859375 1.875 -3.78125 1.859375 -3.921875 Z M 1.859375 -3.921875 \"/>\n",
       "</symbol>\n",
       "<symbol overflow=\"visible\" id=\"glyph-1606366588244585-1-4\">\n",
       "<path style=\"stroke:none;\" d=\"M 4.21875 -1.015625 C 3.8125 -0.59375 3.5 -0.421875 2.859375 -0.421875 C 2.46875 -0.421875 2.015625 -0.65625 1.671875 -1.21875 C 1.453125 -1.578125 1.328125 -2.078125 1.328125 -2.71875 L 4.234375 -2.6875 C 4.359375 -2.6875 4.4375 -2.75 4.4375 -2.875 C 4.4375 -3.796875 4.109375 -4.78125 2.59375 -4.78125 C 1.640625 -4.78125 0.40625 -3.875 0.40625 -2.203125 C 0.40625 -1.59375 0.5625 -1 0.921875 -0.59375 C 1.296875 -0.15625 1.796875 0.109375 2.59375 0.109375 C 3.421875 0.109375 4.015625 -0.265625 4.453125 -0.84375 C 4.421875 -0.953125 4.359375 -1 4.21875 -1.015625 Z M 1.359375 -3.078125 C 1.5625 -4.3125 2.328125 -4.421875 2.59375 -4.421875 C 3 -4.421875 3.5 -4.1875 3.5 -3.265625 C 3.5 -3.171875 3.453125 -3.109375 3.328125 -3.109375 Z M 1.359375 -3.078125 \"/>\n",
       "</symbol>\n",
       "<symbol overflow=\"visible\" id=\"glyph-1606366588244585-2-0\">\n",
       "<path style=\"stroke:none;\" d=\"M 0 0 L 0 -5.46875 L -7.640625 -5.46875 L -7.640625 0 Z M -0.546875 -0.875 L -3.328125 -2.734375 L -0.546875 -4.59375 Z M -6.59375 -0.546875 L -3.8125 -2.40625 L -1.03125 -0.546875 Z M -3.8125 -3.0625 L -6.59375 -4.921875 L -1.03125 -4.921875 Z M -4.3125 -2.734375 L -7.078125 -0.875 L -7.078125 -4.59375 Z M -4.3125 -2.734375 \"/>\n",
       "</symbol>\n",
       "<symbol overflow=\"visible\" id=\"glyph-1606366588244585-2-1\">\n",
       "<path style=\"stroke:none;\" d=\"M -7.671875 -3.375 L -7.671875 -2.796875 L -2.734375 -0.484375 L -2.515625 -0.484375 L 2.375 -2.78125 L 2.375 -3.375 L -2.625 -1.21875 Z M -7.671875 -3.375 \"/>\n",
       "</symbol>\n",
       "<symbol overflow=\"visible\" id=\"glyph-1606366588244585-2-2\">\n",
       "<path style=\"stroke:none;\" d=\"M -1.53125 -0.21875 C -0.53125 -0.21875 0.125 -0.8125 0.125 -1.953125 C 0.125 -3.546875 -1.296875 -4.46875 -2.4375 -4.46875 C -3.140625 -4.46875 -3.671875 -4.15625 -3.953125 -3.734375 L -3.953125 -5.109375 C -3.953125 -5.484375 -4.1875 -5.703125 -4.5625 -5.984375 L -4.6875 -5.890625 L -4.6875 -3.4375 C -4.6875 -1.046875 -2.703125 -0.21875 -1.53125 -0.21875 Z M -3.953125 -3.21875 C -3.546875 -3.546875 -3.1875 -3.75 -2.640625 -3.75 C -1.5625 -3.75 -0.234375 -3.09375 -0.234375 -2.109375 C -0.234375 -1.265625 -0.921875 -0.96875 -1.578125 -0.96875 C -2.234375 -0.96875 -3.953125 -1.40625 -3.953125 -3.21875 Z M -3.953125 -3.21875 \"/>\n",
       "</symbol>\n",
       "<symbol overflow=\"visible\" id=\"glyph-1606366588244585-2-3\">\n",
       "<path style=\"stroke:none;\" d=\"M -2.625 -2.703125 L 2.375 -0.5625 L 2.375 -1.140625 L -2.515625 -3.4375 L -2.734375 -3.4375 L -7.671875 -1.125 L -7.671875 -0.546875 Z M -2.625 -2.703125 \"/>\n",
       "</symbol>\n",
       "<symbol overflow=\"visible\" id=\"glyph-1606366588244585-3-0\">\n",
       "<path style=\"stroke:none;\" d=\"M 0 0 L 0 -3.828125 L -5.34375 -3.828125 L -5.34375 0 Z M -0.390625 -0.609375 L -2.328125 -1.921875 L -0.390625 -3.21875 Z M -4.609375 -0.390625 L -2.671875 -1.6875 L -0.734375 -0.390625 Z M -2.671875 -2.140625 L -4.609375 -3.453125 L -0.734375 -3.453125 Z M -3.015625 -1.921875 L -4.953125 -0.609375 L -4.953125 -3.21875 Z M -3.015625 -1.921875 \"/>\n",
       "</symbol>\n",
       "<symbol overflow=\"visible\" id=\"glyph-1606366588244585-3-1\">\n",
       "<path style=\"stroke:none;\" d=\"M -2.359375 -1.53125 L -1.609375 -1.8125 L -0.5625 -1.09375 C -0.4375 -1.015625 -0.40625 -0.921875 -0.40625 -0.875 C -0.40625 -0.8125 -0.421875 -0.734375 -0.453125 -0.671875 C -0.484375 -0.59375 -0.5 -0.515625 -0.5 -0.4375 C -0.5 -0.28125 -0.390625 -0.15625 -0.21875 -0.15625 C -0.015625 -0.15625 0.078125 -0.421875 0.078125 -0.59375 C 0.078125 -0.859375 -0.03125 -1.046875 -0.515625 -1.375 L -1.28125 -1.921875 L -0.359375 -2.203125 C -0.046875 -2.296875 0.078125 -2.375 0.078125 -2.640625 C 0.078125 -2.90625 -0.0625 -3.25 -0.46875 -3.484375 C -0.53125 -3.453125 -0.59375 -3.390625 -0.609375 -3.296875 C -0.359375 -3.09375 -0.296875 -3 -0.296875 -2.921875 C -0.296875 -2.84375 -0.390625 -2.796875 -0.578125 -2.734375 L -1.8125 -2.3125 L -2.671875 -2.90625 C -2.84375 -3.03125 -2.875 -3.203125 -2.875 -3.265625 C -2.875 -3.328125 -2.859375 -3.421875 -2.796875 -3.484375 C -2.75 -3.546875 -2.71875 -3.671875 -2.71875 -3.75 C -2.71875 -3.84375 -2.875 -3.984375 -3.0625 -3.984375 C -3.25 -3.984375 -3.359375 -3.78125 -3.359375 -3.609375 C -3.359375 -3.21875 -3.234375 -2.96875 -2.6875 -2.59375 L -2.140625 -2.21875 L -2.8125 -2 C -3.203125 -1.875 -3.359375 -1.78125 -3.359375 -1.59375 C -3.359375 -1.421875 -3.046875 -0.84375 -2.84375 -0.578125 C -2.765625 -0.59375 -2.671875 -0.625 -2.609375 -0.6875 C -2.65625 -0.765625 -2.78125 -1.03125 -2.78125 -1.1875 C -2.78125 -1.28125 -2.75 -1.359375 -2.6875 -1.40625 C -2.625 -1.4375 -2.5 -1.484375 -2.359375 -1.53125 Z M -2.359375 -1.53125 \"/>\n",
       "</symbol>\n",
       "<symbol overflow=\"visible\" id=\"glyph-1606366588244585-3-2\">\n",
       "<path style=\"stroke:none;\" d=\"M -0.9375 -2.203125 L -3.59375 -2.203125 C -4.046875 -2.203125 -4.515625 -2.21875 -4.609375 -2.234375 C -4.65625 -2.234375 -4.65625 -2.21875 -4.65625 -2.1875 C -4.390625 -1.765625 -4.203125 -1.359375 -3.890625 -0.6875 C -3.8125 -0.703125 -3.734375 -0.734375 -3.6875 -0.796875 C -3.828125 -1.15625 -3.875 -1.3125 -3.875 -1.46875 C -3.875 -1.59375 -3.6875 -1.609375 -3.4375 -1.609375 L -0.9375 -1.609375 C -0.296875 -1.609375 -0.265625 -1.40625 -0.234375 -0.875 C -0.1875 -0.828125 -0.03125 -0.828125 0.015625 -0.875 C 0 -1.25 0 -1.53125 0 -1.9375 C 0 -2.296875 0 -2.484375 0.015625 -2.875 C -0.03125 -2.921875 -0.1875 -2.921875 -0.234375 -2.875 C -0.265625 -2.328125 -0.296875 -2.203125 -0.9375 -2.203125 Z M -0.9375 -2.203125 \"/>\n",
       "</symbol>\n",
       "<symbol overflow=\"visible\" id=\"glyph-1606366588244585-4-0\">\n",
       "<path style=\"stroke:none;\" d=\"M 0 0 L 5.96875 0 L 5.96875 -8.328125 L 0 -8.328125 Z M 0.953125 -0.59375 L 2.984375 -3.625 L 5 -0.59375 Z M 0.59375 -7.1875 L 2.625 -4.15625 L 0.59375 -1.125 Z M 3.34375 -4.15625 L 5.359375 -7.1875 L 5.359375 -1.125 Z M 2.984375 -4.703125 L 0.953125 -7.71875 L 5 -7.71875 Z M 2.984375 -4.703125 \"/>\n",
       "</symbol>\n",
       "<symbol overflow=\"visible\" id=\"glyph-1606366588244585-4-1\">\n",
       "<path style=\"stroke:none;\" d=\"M 4.6875 -5.78125 C 4.6875 -6.640625 4.015625 -7.265625 2.84375 -7.265625 C 1.640625 -7.265625 0.84375 -6.546875 0.84375 -5.625 C 0.84375 -4.953125 1.171875 -4.46875 1.890625 -4.015625 L 2.203125 -3.828125 C 1.859375 -3.640625 1.53125 -3.4375 1.234375 -3.171875 C 0.75 -2.734375 0.546875 -2.203125 0.546875 -1.734375 C 0.546875 -0.53125 1.40625 0.125 2.671875 0.125 C 4.234375 0.125 5 -1.03125 5 -1.9375 C 5 -2.625 4.703125 -3.234375 4.0625 -3.609375 L 3.21875 -4.125 C 3.78125 -4.40625 4.6875 -5.015625 4.6875 -5.78125 Z M 2.6875 -0.296875 C 2.15625 -0.296875 1.34375 -0.671875 1.34375 -1.734375 C 1.34375 -2.09375 1.5 -2.9375 2.53125 -3.609375 L 3.09375 -3.28125 C 3.828125 -2.828125 4.125 -2.265625 4.125 -1.6875 C 4.125 -0.5 3.234375 -0.296875 2.6875 -0.296875 Z M 2.796875 -6.859375 C 3.5625 -6.859375 3.84375 -6.34375 3.84375 -5.796875 C 3.84375 -5.15625 3.21875 -4.609375 2.890625 -4.375 L 2.53125 -4.609375 C 1.78125 -5.09375 1.6875 -5.484375 1.6875 -5.859375 C 1.6875 -6.40625 2.078125 -6.859375 2.796875 -6.859375 Z M 2.796875 -6.859375 \"/>\n",
       "</symbol>\n",
       "<symbol overflow=\"visible\" id=\"glyph-1606366588244585-4-2\">\n",
       "<path style=\"stroke:none;\" d=\"M 0.578125 -1.640625 C 0.625 -1.0625 0.65625 -0.5 0.65625 0 C 0.78125 -0.03125 0.890625 -0.03125 0.953125 -0.03125 C 1.03125 -0.03125 1.109375 -0.03125 1.1875 -0.015625 C 1.515625 0.078125 1.84375 0.125 2.28125 0.125 C 2.9375 0.125 4.171875 -0.203125 4.171875 -1.390625 C 4.171875 -2.1875 3.59375 -2.671875 2.78125 -2.96875 C 2.0625 -3.25 1.578125 -3.421875 1.578125 -4.078125 C 1.578125 -4.5625 2.015625 -4.84375 2.421875 -4.84375 C 2.6875 -4.84375 3.375 -4.75 3.53125 -3.734375 C 3.59375 -3.65625 3.84375 -3.671875 3.90625 -3.75 C 3.953125 -4.171875 3.96875 -4.609375 3.984375 -5 C 3.609375 -5.0625 3.046875 -5.234375 2.421875 -5.234375 C 1.53125 -5.234375 0.734375 -4.65625 0.734375 -3.90625 C 0.734375 -3.03125 1.125 -2.65625 2.046875 -2.28125 C 3.046875 -1.875 3.265625 -1.625 3.265625 -1.109375 C 3.265625 -0.53125 2.6875 -0.28125 2.25 -0.28125 C 1.78125 -0.28125 1.53125 -0.421875 1.40625 -0.5625 C 1.140625 -0.828125 1.015625 -1.359375 0.9375 -1.65625 C 0.875 -1.734375 0.640625 -1.71875 0.578125 -1.640625 Z M 0.578125 -1.640625 \"/>\n",
       "</symbol>\n",
       "<symbol overflow=\"visible\" id=\"glyph-1606366588244585-4-3\">\n",
       "<path style=\"stroke:none;\" d=\"M 1.859375 -4.390625 C 1.84375 -4.75 1.828125 -5.0625 1.765625 -5.171875 C 1.734375 -5.234375 1.71875 -5.265625 1.625 -5.265625 C 1.28125 -5.140625 0.984375 -5.03125 0.15625 -4.921875 C 0.125 -4.859375 0.15625 -4.65625 0.171875 -4.59375 C 0.828125 -4.53125 0.953125 -4.46875 0.953125 -3.78125 L 0.953125 1.3125 C 0.953125 2.296875 0.828125 2.359375 0.09375 2.390625 C 0.03125 2.46875 0.03125 2.71875 0.09375 2.796875 C 0.515625 2.78125 0.953125 2.765625 1.4375 2.765625 C 1.90625 2.765625 2.484375 2.78125 2.875 2.796875 C 2.9375 2.71875 2.9375 2.46875 2.875 2.390625 C 2.03125 2.34375 1.890625 2.296875 1.890625 1.3125 L 1.890625 0.03125 C 1.890625 -0.125 1.9375 -0.125 2.0625 -0.078125 C 2.359375 0.046875 2.71875 0.125 3.09375 0.125 C 3.765625 0.125 4.359375 -0.078125 4.859375 -0.546875 C 5.40625 -1.09375 5.734375 -1.84375 5.734375 -2.796875 C 5.734375 -4.0625 4.84375 -5.234375 3.625 -5.234375 C 3.078125 -5.234375 2.46875 -4.875 1.984375 -4.34375 C 1.921875 -4.265625 1.875 -4.265625 1.859375 -4.390625 Z M 2.09375 -3.953125 C 2.390625 -4.328125 2.9375 -4.6875 3.296875 -4.6875 C 4.046875 -4.6875 4.703125 -3.828125 4.703125 -2.484375 C 4.703125 -1.5 4.359375 -0.28125 3.03125 -0.28125 C 2.8125 -0.28125 2.390625 -0.34375 2.1875 -0.53125 C 1.9375 -0.75 1.890625 -0.828125 1.890625 -1.25 L 1.890625 -3.421875 C 1.890625 -3.671875 1.9375 -3.78125 2.09375 -3.953125 Z M 2.09375 -3.953125 \"/>\n",
       "</symbol>\n",
       "<symbol overflow=\"visible\" id=\"glyph-1606366588244585-4-4\">\n",
       "<path style=\"stroke:none;\" d=\"M 2.15625 -1.453125 L 2.15625 -3.828125 C 2.15625 -4.421875 2.203125 -5.1875 2.203125 -5.1875 C 2.203125 -5.234375 2.140625 -5.265625 2.046875 -5.265625 C 1.71875 -5.140625 1.234375 -5.03125 0.421875 -4.921875 C 0.390625 -4.859375 0.421875 -4.65625 0.4375 -4.59375 C 1.09375 -4.53125 1.21875 -4.453125 1.21875 -3.78125 L 1.21875 -1.453125 C 1.21875 -0.46875 1.078125 -0.421875 0.359375 -0.375 C 0.28125 -0.296875 0.28125 -0.046875 0.359375 0.03125 C 0.75 0.015625 1.21875 0 1.6875 0 C 2.171875 0 2.625 0.015625 3.015625 0.03125 C 3.09375 -0.046875 3.09375 -0.296875 3.015625 -0.375 C 2.28125 -0.421875 2.15625 -0.46875 2.15625 -1.453125 Z M 1.078125 -7.140625 C 1.078125 -6.828125 1.359375 -6.515625 1.640625 -6.515625 C 1.984375 -6.515625 2.265625 -6.84375 2.265625 -7.09375 C 2.265625 -7.375 2.015625 -7.71875 1.6875 -7.71875 C 1.40625 -7.71875 1.078125 -7.421875 1.078125 -7.140625 Z M 1.078125 -7.140625 \"/>\n",
       "</symbol>\n",
       "<symbol overflow=\"visible\" id=\"glyph-1606366588244585-4-5\">\n",
       "<path style=\"stroke:none;\" d=\"M 2.1875 -4.265625 C 2.125 -4.1875 2.046875 -4.15625 2.046875 -4.265625 C 2.03125 -4.59375 2.015625 -5.0625 1.953125 -5.171875 C 1.9375 -5.234375 1.90625 -5.265625 1.8125 -5.265625 C 1.484375 -5.140625 1.171875 -5.03125 0.34375 -4.921875 C 0.328125 -4.859375 0.34375 -4.65625 0.375 -4.59375 C 1.015625 -4.53125 1.140625 -4.46875 1.140625 -3.78125 L 1.140625 -1.453125 C 1.140625 -0.484375 1.03125 -0.421875 0.3125 -0.375 C 0.234375 -0.296875 0.234375 -0.046875 0.3125 0.03125 C 0.671875 0.015625 1.140625 0 1.625 0 C 2.09375 0 2.453125 0.015625 2.8125 0.03125 C 2.890625 -0.046875 2.890625 -0.296875 2.8125 -0.375 C 2.203125 -0.421875 2.09375 -0.484375 2.09375 -1.453125 L 2.09375 -3.40625 C 2.09375 -3.65625 2.1875 -3.796875 2.28125 -3.90625 C 2.734375 -4.34375 3.28125 -4.609375 3.75 -4.609375 C 3.984375 -4.609375 4.234375 -4.453125 4.375 -4.1875 C 4.5 -3.953125 4.515625 -3.625 4.515625 -3.265625 L 4.515625 -1.453125 C 4.515625 -0.484375 4.40625 -0.421875 3.78125 -0.375 C 3.71875 -0.296875 3.71875 -0.046875 3.78125 0.03125 C 4.140625 0.015625 4.515625 0 5 0 C 5.46875 0 5.90625 0.015625 6.265625 0.03125 C 6.3125 -0.046875 6.3125 -0.296875 6.265625 -0.375 C 5.59375 -0.421875 5.453125 -0.484375 5.453125 -1.453125 L 5.453125 -3.234375 C 5.453125 -3.890625 5.40625 -4.453125 5.140625 -4.828125 C 4.9375 -5.09375 4.5625 -5.234375 4.15625 -5.234375 C 3.5625 -5.234375 2.890625 -5.078125 2.1875 -4.265625 Z M 2.1875 -4.265625 \"/>\n",
       "</symbol>\n",
       "<symbol overflow=\"visible\" id=\"glyph-1606366588244585-4-6\">\n",
       "<path style=\"stroke:none;\" d=\"M 1.234375 -1.125 C 0.875 -1.125 0.609375 -0.875 0.609375 -0.546875 C 0.609375 -0.171875 0.921875 -0.0625 1.125 -0.03125 C 1.359375 0 1.5625 0.078125 1.5625 0.34375 C 1.5625 0.59375 1.125 1.140625 0.515625 1.296875 C 0.515625 1.421875 0.53125 1.5 0.625 1.578125 C 1.328125 1.453125 2.03125 0.875 2.03125 0.046875 C 2.03125 -0.671875 1.71875 -1.125 1.234375 -1.125 Z M 1.234375 -1.125 \"/>\n",
       "</symbol>\n",
       "<symbol overflow=\"visible\" id=\"glyph-1606366588244585-4-7\">\n",
       "<path style=\"stroke:none;\" d=\"M 4.25 0.125 C 5.40625 0.125 6.46875 -0.421875 7.28125 -1.484375 C 7.21875 -1.59375 7.140625 -1.671875 7.015625 -1.671875 C 6.15625 -0.734375 5.359375 -0.375 4.25 -0.375 C 2.640625 -0.375 1.53125 -2.1875 1.53125 -3.921875 C 1.53125 -4.953125 1.796875 -5.8125 2.234375 -6.34375 C 2.828125 -7.0625 3.515625 -7.40625 4.140625 -7.40625 C 5.78125 -7.40625 6.4375 -6.421875 6.75 -5.40625 C 6.890625 -5.359375 7.015625 -5.390625 7.140625 -5.453125 C 7.078125 -6.078125 7 -6.65625 6.875 -7.3125 C 6.265625 -7.375 5.734375 -7.84375 4.265625 -7.84375 C 3.25 -7.84375 2.40625 -7.46875 1.703125 -6.828125 C 0.921875 -6.109375 0.4375 -4.9375 0.4375 -3.703125 C 0.4375 -1.625 1.6875 0.125 4.25 0.125 Z M 4.25 0.125 \"/>\n",
       "</symbol>\n",
       "<symbol overflow=\"visible\" id=\"glyph-1606366588244585-4-8\">\n",
       "<path style=\"stroke:none;\" d=\"M 1.125 -1.453125 C 1.125 -0.46875 1 -0.40625 0.28125 -0.375 C 0.203125 -0.296875 0.203125 -0.046875 0.28125 0.03125 C 0.6875 0.015625 1.125 0 1.609375 0 C 2.09375 0 2.546875 0.015625 2.9375 0.03125 C 3 -0.046875 3 -0.296875 2.9375 -0.375 C 2.203125 -0.40625 2.078125 -0.46875 2.078125 -1.453125 L 2.078125 -6.953125 C 2.078125 -7.71875 2.125 -8.203125 2.125 -8.203125 C 2.125 -8.28125 2.078125 -8.328125 1.96875 -8.328125 C 1.671875 -8.203125 0.78125 -8.03125 0.296875 -8 C 0.28125 -7.90625 0.296875 -7.71875 0.375 -7.640625 C 1.0625 -7.59375 1.125 -7.5625 1.125 -6.671875 Z M 1.125 -1.453125 \"/>\n",
       "</symbol>\n",
       "<symbol overflow=\"visible\" id=\"glyph-1606366588244585-4-9\">\n",
       "<path style=\"stroke:none;\" d=\"M 0.484375 -2.4375 C 0.484375 -1.234375 1.296875 0.125 3 0.125 C 3.75 0.125 4.34375 -0.15625 4.75 -0.546875 C 5.28125 -1.078125 5.515625 -1.828125 5.515625 -2.546875 C 5.515625 -3.796875 4.84375 -5.234375 3.015625 -5.234375 C 2.234375 -5.234375 1.578125 -4.90625 1.140625 -4.40625 C 0.71875 -3.890625 0.484375 -3.1875 0.484375 -2.4375 Z M 2.84375 -4.8125 C 3.859375 -4.8125 4.5 -3.890625 4.5 -2.171875 C 4.5 -0.671875 3.71875 -0.296875 3.15625 -0.296875 C 1.921875 -0.296875 1.515625 -1.796875 1.515625 -2.71875 C 1.515625 -3.75 1.765625 -4.8125 2.84375 -4.8125 Z M 2.84375 -4.8125 \"/>\n",
       "</symbol>\n",
       "<symbol overflow=\"visible\" id=\"glyph-1606366588244585-4-10\">\n",
       "<path style=\"stroke:none;\" d=\"M 4.609375 -1.109375 C 4.15625 -0.65625 3.8125 -0.46875 3.125 -0.46875 C 2.6875 -0.46875 2.1875 -0.71875 1.828125 -1.328125 C 1.578125 -1.71875 1.4375 -2.265625 1.4375 -2.953125 L 4.609375 -2.9375 C 4.75 -2.9375 4.84375 -3 4.84375 -3.140625 C 4.84375 -4.140625 4.484375 -5.203125 2.828125 -5.203125 C 1.78125 -5.203125 0.4375 -4.21875 0.4375 -2.40625 C 0.4375 -1.734375 0.609375 -1.09375 1 -0.640625 C 1.40625 -0.171875 1.96875 0.125 2.828125 0.125 C 3.734375 0.125 4.375 -0.296875 4.859375 -0.921875 C 4.8125 -1.03125 4.75 -1.09375 4.609375 -1.109375 Z M 1.484375 -3.359375 C 1.703125 -4.703125 2.546875 -4.8125 2.828125 -4.8125 C 3.28125 -4.8125 3.8125 -4.5625 3.8125 -3.5625 C 3.8125 -3.453125 3.765625 -3.390625 3.640625 -3.390625 Z M 1.484375 -3.359375 \"/>\n",
       "</symbol>\n",
       "<symbol overflow=\"visible\" id=\"glyph-1606366588244585-4-11\">\n",
       "<path style=\"stroke:none;\" d=\"M 3.984375 -0.59375 C 4.046875 -0.640625 4.15625 -0.671875 4.15625 -0.578125 C 4.203125 -0.296875 4.296875 0.125 4.296875 0.125 C 4.390625 0.15625 4.453125 0.140625 4.515625 0.125 C 4.78125 -0.09375 5.203125 -0.28125 5.921875 -0.359375 C 6 -0.421875 6 -0.609375 5.921875 -0.671875 C 5.15625 -0.734375 5.0625 -0.96875 5.0625 -1.546875 L 5.0625 -6.953125 C 5.0625 -7.71875 5.109375 -8.203125 5.109375 -8.203125 C 5.109375 -8.28125 5.0625 -8.328125 4.953125 -8.328125 C 4.65625 -8.203125 3.75 -8.03125 3.28125 -8 C 3.25 -7.90625 3.28125 -7.71875 3.34375 -7.640625 C 3.390625 -7.640625 3.421875 -7.640625 3.453125 -7.640625 C 3.984375 -7.609375 4.109375 -7.609375 4.109375 -6.671875 L 4.109375 -5.140625 C 4.109375 -5.0625 4.09375 -5.03125 4 -5.03125 C 3.953125 -5.03125 3.46875 -5.234375 3.078125 -5.234375 C 2.28125 -5.234375 1.765625 -4.96875 1.28125 -4.515625 C 0.78125 -4 0.46875 -3.296875 0.46875 -2.421875 C 0.46875 -0.953125 1.203125 0.125 2.484375 0.125 C 2.953125 0.125 3.390625 -0.125 3.984375 -0.59375 Z M 4.109375 -1.484375 C 4.109375 -1.25 4.09375 -1.15625 3.921875 -1.015625 C 3.484375 -0.625 3.09375 -0.4375 2.796875 -0.4375 C 2.15625 -0.4375 1.484375 -1.140625 1.484375 -2.640625 C 1.484375 -3.5 1.65625 -3.96875 1.84375 -4.21875 C 2.203125 -4.78125 2.703125 -4.8125 2.9375 -4.8125 C 3.375 -4.8125 3.671875 -4.65625 3.90625 -4.390625 C 4.078125 -4.203125 4.109375 -4.109375 4.109375 -3.75 Z M 4.109375 -1.484375 \"/>\n",
       "</symbol>\n",
       "<symbol overflow=\"visible\" id=\"glyph-1606366588244585-4-12\">\n",
       "<path style=\"stroke:none;\" d=\"M 7.90625 -1.390625 C 7.96875 -0.421875 7.921875 -0.40625 7.140625 -0.375 C 7.0625 -0.296875 7.0625 -0.046875 7.140625 0.03125 C 7.578125 0.015625 8.0625 0 8.421875 0 C 8.78125 0 9.328125 0.015625 9.71875 0.03125 C 9.78125 -0.046875 9.78125 -0.296875 9.71875 -0.375 C 8.90625 -0.40625 8.875 -0.453125 8.796875 -1.4375 L 8.4375 -6.46875 C 8.390625 -7.109375 8.453125 -7.265625 9.265625 -7.3125 C 9.328125 -7.390625 9.328125 -7.640625 9.265625 -7.71875 L 7.703125 -7.6875 L 5.171875 -1.640625 C 5.125 -1.53125 5.09375 -1.484375 5.0625 -1.484375 C 5.046875 -1.484375 5 -1.53125 4.96875 -1.640625 L 2.53125 -7.6875 L 0.796875 -7.71875 C 0.734375 -7.640625 0.734375 -7.390625 0.796875 -7.3125 C 1.625 -7.265625 1.6875 -7.25 1.609375 -6.359375 L 1.125 -1.4375 C 1.0625 -0.734375 0.921875 -0.421875 0.234375 -0.375 C 0.171875 -0.296875 0.171875 -0.046875 0.234375 0.03125 C 0.59375 0.015625 0.984375 0 1.265625 0 C 1.546875 0 2.03125 0.015625 2.390625 0.03125 C 2.453125 -0.046875 2.453125 -0.296875 2.390625 -0.375 C 1.59375 -0.421875 1.53125 -0.796875 1.59375 -1.46875 L 2.046875 -6.25 L 2.078125 -6.25 L 4.546875 -0.0625 C 4.578125 0.03125 4.65625 0.125 4.71875 0.125 C 4.796875 0.125 4.84375 0.03125 4.890625 -0.0625 L 7.578125 -6.359375 L 7.59375 -6.359375 Z M 7.90625 -1.390625 \"/>\n",
       "</symbol>\n",
       "<symbol overflow=\"visible\" id=\"glyph-1606366588244585-4-13\">\n",
       "<path style=\"stroke:none;\" d=\"M 9.65625 -6.734375 L 7.796875 -1.5625 L 7.765625 -1.578125 L 6.109375 -6.609375 C 5.90625 -7.25 6.328125 -7.28125 6.734375 -7.3125 C 6.8125 -7.390625 6.8125 -7.640625 6.734375 -7.71875 C 6.25 -7.703125 5.71875 -7.6875 5.25 -7.6875 C 4.859375 -7.6875 4.4375 -7.703125 4.046875 -7.71875 C 3.984375 -7.640625 3.984375 -7.390625 4.046875 -7.3125 C 4.6875 -7.28125 4.953125 -6.921875 5.0625 -6.609375 L 5.328125 -5.8125 C 5.375 -5.671875 5.40625 -5.5625 5.40625 -5.453125 C 5.40625 -5.328125 5.40625 -5.234375 5.3125 -5.03125 L 3.765625 -1.53125 L 3.703125 -1.546875 L 1.96875 -6.8125 C 1.828125 -7.234375 2.140625 -7.296875 2.5625 -7.3125 C 2.640625 -7.390625 2.640625 -7.640625 2.5625 -7.71875 C 2.171875 -7.703125 1.640625 -7.6875 1.1875 -7.6875 C 0.765625 -7.6875 0.421875 -7.703125 0.078125 -7.71875 C 0 -7.640625 0 -7.390625 0.078125 -7.3125 C 0.609375 -7.28125 0.6875 -7.265625 0.921875 -6.625 L 3.15625 -0.171875 C 3.21875 0.015625 3.296875 0.140625 3.421875 0.140625 C 3.578125 0.140625 3.640625 0.03125 3.734375 -0.171875 L 5.515625 -4.171875 C 5.609375 -4.40625 5.65625 -4.46875 5.703125 -4.46875 C 5.765625 -4.46875 5.8125 -4.34375 5.875 -4.140625 L 7.25 -0.171875 C 7.3125 0.03125 7.375 0.140625 7.515625 0.140625 C 7.65625 0.140625 7.734375 0.015625 7.796875 -0.171875 L 10.1875 -6.59375 C 10.34375 -7.015625 10.5625 -7.28125 11.21875 -7.3125 C 11.296875 -7.390625 11.296875 -7.640625 11.21875 -7.71875 C 10.875 -7.703125 10.484375 -7.6875 10.1875 -7.6875 C 9.875 -7.6875 9.34375 -7.703125 8.875 -7.71875 C 8.796875 -7.640625 8.796875 -7.390625 8.875 -7.3125 C 9.359375 -7.28125 9.828125 -7.25 9.65625 -6.734375 Z M 9.65625 -6.734375 \"/>\n",
       "</symbol>\n",
       "<symbol overflow=\"visible\" id=\"glyph-1606366588244585-4-14\">\n",
       "<path style=\"stroke:none;\" d=\"M 3.375 -3.84375 C 4.390625 -3.84375 4.421875 -3.578125 4.453125 -3.046875 C 4.53125 -2.96875 4.78125 -2.96875 4.859375 -3.046875 C 4.84375 -3.34375 4.828125 -3.6875 4.828125 -4.09375 C 4.828125 -4.5 4.84375 -4.796875 4.859375 -5.109375 C 4.78125 -5.1875 4.53125 -5.1875 4.453125 -5.109375 C 4.421875 -4.453125 4.390625 -4.296875 3.375 -4.296875 L 2.265625 -4.296875 L 2.265625 -6.453125 C 2.265625 -7.09375 2.40625 -7.21875 2.9375 -7.21875 L 3.46875 -7.21875 C 4.734375 -7.21875 5.03125 -6.734375 5.296875 -5.90625 C 5.4375 -5.90625 5.5625 -5.9375 5.65625 -5.96875 C 5.609375 -6.46875 5.421875 -7.609375 5.40625 -7.703125 C 5.40625 -7.71875 5.390625 -7.734375 5.359375 -7.734375 C 5.15625 -7.703125 5.09375 -7.6875 4.796875 -7.6875 L 1.75 -7.6875 C 1.375 -7.6875 0.6875 -7.703125 0.21875 -7.71875 C 0.140625 -7.640625 0.140625 -7.390625 0.21875 -7.3125 C 1.046875 -7.28125 1.25 -7.21875 1.25 -6.234375 L 1.25 -1.453125 C 1.25 -0.46875 1.046875 -0.40625 0.21875 -0.375 C 0.140625 -0.296875 0.140625 -0.046875 0.21875 0.03125 C 0.625 0.015625 1.234375 0 1.765625 0 C 2.296875 0 2.890625 0.015625 3.296875 0.03125 C 3.375 -0.046875 3.375 -0.296875 3.296875 -0.375 C 2.46875 -0.40625 2.265625 -0.46875 2.265625 -1.453125 L 2.265625 -3.84375 Z M 3.375 -3.84375 \"/>\n",
       "</symbol>\n",
       "<symbol overflow=\"visible\" id=\"glyph-1606366588244585-4-15\">\n",
       "<path style=\"stroke:none;\" d=\"M 3.5 -0.578125 C 3.5625 -0.203125 3.703125 0.125 4.296875 0.125 C 4.75 0.125 5.171875 -0.078125 5.421875 -0.328125 C 5.40625 -0.46875 5.359375 -0.578125 5.21875 -0.640625 C 5.140625 -0.578125 4.9375 -0.453125 4.78125 -0.453125 C 4.4375 -0.453125 4.421875 -0.921875 4.421875 -1.46875 L 4.421875 -3.21875 C 4.421875 -4.90625 3.5 -5.234375 2.625 -5.234375 C 1.640625 -5.234375 0.65625 -4.59375 0.65625 -3.90625 C 0.65625 -3.625 0.796875 -3.484375 1.078125 -3.484375 C 1.421875 -3.484375 1.640625 -3.734375 1.640625 -3.890625 C 1.640625 -3.96875 1.625 -4.046875 1.59375 -4.09375 C 1.578125 -4.140625 1.578125 -4.203125 1.578125 -4.34375 C 1.578125 -4.703125 2.078125 -4.84375 2.53125 -4.84375 C 2.9375 -4.84375 3.5 -4.640625 3.5 -3.296875 C 3.5 -3.203125 3.453125 -3.15625 3.421875 -3.140625 L 2.390625 -2.890625 C 1.25 -2.609375 0.421875 -1.984375 0.421875 -1.171875 C 0.421875 -0.1875 1.09375 0.125 1.9375 0.125 C 2.34375 0.125 2.703125 0.03125 3.234375 -0.375 L 3.46875 -0.578125 Z M 3.5 -2.78125 L 3.5 -1.203125 C 3.5 -1.046875 3.421875 -0.96875 3.328125 -0.890625 C 3.015625 -0.640625 2.609375 -0.375 2.28125 -0.375 C 1.6875 -0.375 1.421875 -0.84375 1.421875 -1.21875 C 1.421875 -1.75 1.671875 -2.296875 2.546875 -2.53125 Z M 3.5 -2.78125 \"/>\n",
       "</symbol>\n",
       "<symbol overflow=\"visible\" id=\"glyph-1606366588244585-4-16\">\n",
       "<path style=\"stroke:none;\" d=\"M 0.515625 -5.109375 C 0.34375 -5.109375 0.296875 -4.96875 0.296875 -4.875 L 0.296875 -4.71875 C 0.296875 -4.65625 0.3125 -4.65625 0.359375 -4.65625 L 1.0625 -4.65625 L 1.0625 -1.0625 C 1.0625 -0.21875 1.4375 0.125 1.984375 0.125 C 2.53125 0.125 3.125 -0.140625 3.59375 -0.671875 C 3.5625 -0.78125 3.5 -0.859375 3.375 -0.875 C 3.0625 -0.625 2.703125 -0.53125 2.390625 -0.53125 C 2.078125 -0.53125 2 -0.890625 2 -1.640625 L 2 -4.65625 L 3.25 -4.65625 C 3.359375 -4.65625 3.53125 -4.703125 3.53125 -4.796875 L 3.53125 -5.046875 C 3.53125 -5.09375 3.5 -5.109375 3.4375 -5.109375 L 2 -5.109375 L 2 -5.578125 C 2 -6.359375 2.046875 -6.828125 2.046875 -6.828125 C 2.046875 -6.90625 2.015625 -6.9375 1.953125 -6.9375 C 1.90625 -6.9375 1.796875 -6.890625 1.6875 -6.828125 C 1.5625 -6.765625 1.4375 -6.703125 1.28125 -6.671875 C 1.140625 -6.609375 1.03125 -6.578125 1.03125 -6.5 C 1.03125 -6.359375 1.0625 -6.4375 1.0625 -5.109375 Z M 0.515625 -5.109375 \"/>\n",
       "</symbol>\n",
       "<symbol overflow=\"visible\" id=\"glyph-1606366588244585-4-17\">\n",
       "<path style=\"stroke:none;\" d=\"M 2.09375 -4.265625 C 2.078125 -4.75 2.0625 -5.0625 2 -5.171875 C 1.984375 -5.234375 1.953125 -5.265625 1.859375 -5.265625 C 1.53125 -5.140625 1.21875 -5.03125 0.390625 -4.921875 C 0.375 -4.859375 0.390625 -4.65625 0.421875 -4.59375 C 1.0625 -4.53125 1.1875 -4.46875 1.1875 -3.78125 L 1.1875 -1.453125 C 1.1875 -0.46875 1.046875 -0.421875 0.3125 -0.375 C 0.234375 -0.296875 0.234375 -0.046875 0.3125 0.03125 C 0.734375 0.015625 1.1875 0 1.671875 0 C 2.140625 0 2.6875 0.015625 3.109375 0.03125 C 3.1875 -0.046875 3.1875 -0.296875 3.109375 -0.375 C 2.28125 -0.421875 2.140625 -0.46875 2.140625 -1.453125 L 2.140625 -3.109375 C 2.140625 -3.421875 2.28125 -3.703125 2.421875 -3.90625 C 2.546875 -4.09375 2.828125 -4.5 2.96875 -4.5 C 3.078125 -4.5 3.1875 -4.46875 3.28125 -4.34375 C 3.359375 -4.21875 3.5 -4.0625 3.703125 -4.0625 C 4 -4.0625 4.265625 -4.359375 4.265625 -4.65625 C 4.265625 -4.890625 4.046875 -5.234375 3.546875 -5.234375 C 3 -5.234375 2.5 -4.703125 2.234375 -4.25 C 2.15625 -4.109375 2.09375 -4.203125 2.09375 -4.265625 Z M 2.09375 -4.265625 \"/>\n",
       "</symbol>\n",
       "</g>\n",
       "<clipPath id=\"clip-1606366588244585-1\">\n",
       "  <path d=\"M 45.367188 29 L 288.007812 29 L 288.007812 185 L 45.367188 185 Z M 45.367188 29 \"/>\n",
       "</clipPath>\n",
       "<clipPath id=\"clip-1606366588244585-2\">\n",
       "  <path d=\"M 45.367188 23.90625 L 288.007812 23.90625 L 288.007812 194.699219 L 45.367188 194.699219 Z M 45.367188 23.90625 \"/>\n",
       "</clipPath>\n",
       "<clipPath id=\"clip-1606366588244585-3\">\n",
       "  <path d=\"M 45.367188 52 L 288.007812 52 L 288.007812 172 L 45.367188 172 Z M 45.367188 52 \"/>\n",
       "</clipPath>\n",
       "</defs>\n",
       "<g id=\"surface1\">\n",
       "<path style=\" stroke:none;fill-rule:nonzero;fill:rgb(100%,100%,100%);fill-opacity:1;\" d=\"M 45.367188 194.699219 L 288.007812 194.699219 L 288.007812 23.90625 L 45.367188 23.90625 Z M 45.367188 194.699219 \"/>\n",
       "<path style=\"fill:none;stroke-width:0.49814;stroke-linecap:butt;stroke-linejoin:miter;stroke:rgb(13.331604%,13.331604%,33.332825%);stroke-opacity:0.1;stroke-miterlimit:10;\" d=\"M 6.881493 0.0000699882 L 6.881493 171.168233 M 64.23377 0.0000699882 L 64.23377 171.168233 M 121.586046 0.0000699882 L 121.586046 171.168233 M 178.938323 0.0000699882 L 178.938323 171.168233 M 236.2906 0.0000699882 L 236.2906 171.168233 \" transform=\"matrix(0.997808,0,0,-0.997808,45.367966,194.699289)\"/>\n",
       "<path style=\"fill:none;stroke-width:0.49814;stroke-linecap:butt;stroke-linejoin:miter;stroke:rgb(13.331604%,13.331604%,33.332825%);stroke-opacity:0.1;stroke-miterlimit:10;\" d=\"M -0.00078025 20.611656 L 243.172873 20.611656 M -0.00078025 55.128723 L 243.172873 55.128723 M -0.00078025 89.645789 L 243.172873 89.645789 M -0.00078025 124.162855 L 243.172873 124.162855 M -0.00078025 158.679922 L 243.172873 158.679922 \" transform=\"matrix(0.997808,0,0,-0.997808,45.367966,194.699289)\"/>\n",
       "<path style=\"fill:none;stroke-width:0.19925;stroke-linecap:butt;stroke-linejoin:miter;stroke:rgb(50%,50%,50%);stroke-opacity:1;stroke-miterlimit:10;\" d=\"M 6.881493 0.0000699882 L 6.881493 4.251577 M 64.23377 0.0000699882 L 64.23377 4.251577 M 121.586046 0.0000699882 L 121.586046 4.251577 M 178.938323 0.0000699882 L 178.938323 4.251577 M 236.2906 0.0000699882 L 236.2906 4.251577 M 6.881493 171.168233 L 6.881493 166.916727 M 64.23377 171.168233 L 64.23377 166.916727 M 121.586046 171.168233 L 121.586046 166.916727 M 178.938323 171.168233 L 178.938323 166.916727 M 236.2906 171.168233 L 236.2906 166.916727 \" transform=\"matrix(0.997808,0,0,-0.997808,45.367966,194.699289)\"/>\n",
       "<path style=\"fill:none;stroke-width:0.19925;stroke-linecap:butt;stroke-linejoin:miter;stroke:rgb(50%,50%,50%);stroke-opacity:1;stroke-miterlimit:10;\" d=\"M -0.00078025 20.611656 L 4.250726 20.611656 M -0.00078025 55.128723 L 4.250726 55.128723 M -0.00078025 89.645789 L 4.250726 89.645789 M -0.00078025 124.162855 L 4.250726 124.162855 M -0.00078025 158.679922 L 4.250726 158.679922 M 243.172873 20.611656 L 238.917451 20.611656 M 243.172873 55.128723 L 238.917451 55.128723 M 243.172873 89.645789 L 238.917451 89.645789 M 243.172873 124.162855 L 238.917451 124.162855 M 243.172873 158.679922 L 238.917451 158.679922 \" transform=\"matrix(0.997808,0,0,-0.997808,45.367966,194.699289)\"/>\n",
       "<g style=\"fill:rgb(0%,0%,0%);fill-opacity:1;\">\n",
       "  <use xlink:href=\"#glyph-1606366588244585-0-1\" x=\"49.461972\" y=\"205.487589\"/>\n",
       "</g>\n",
       "<g style=\"fill:rgb(0%,0%,0%);fill-opacity:1;\">\n",
       "  <use xlink:href=\"#glyph-1606366588244585-0-2\" x=\"106.687261\" y=\"205.499563\"/>\n",
       "</g>\n",
       "<g style=\"fill:rgb(0%,0%,0%);fill-opacity:1;\">\n",
       "  <use xlink:href=\"#glyph-1606366588244585-0-3\" x=\"161.138643\" y=\"205.487589\"/>\n",
       "  <use xlink:href=\"#glyph-1606366588244585-0-1\" x=\"166.685612\" y=\"205.487589\"/>\n",
       "</g>\n",
       "<g style=\"fill:rgb(0%,0%,0%);fill-opacity:1;\">\n",
       "  <use xlink:href=\"#glyph-1606366588244585-0-3\" x=\"218.363932\" y=\"205.499563\"/>\n",
       "  <use xlink:href=\"#glyph-1606366588244585-0-2\" x=\"223.910901\" y=\"205.499563\"/>\n",
       "</g>\n",
       "<g style=\"fill:rgb(0%,0%,0%);fill-opacity:1;\">\n",
       "  <use xlink:href=\"#glyph-1606366588244585-0-4\" x=\"275.589221\" y=\"205.487589\"/>\n",
       "  <use xlink:href=\"#glyph-1606366588244585-0-1\" x=\"281.136189\" y=\"205.487589\"/>\n",
       "</g>\n",
       "<g style=\"fill:rgb(0%,0%,0%);fill-opacity:1;\">\n",
       "  <use xlink:href=\"#glyph-1606366588244585-0-5\" x=\"20.407798\" y=\"177.711607\"/>\n",
       "  <use xlink:href=\"#glyph-1606366588244585-0-1\" x=\"28.137767\" y=\"177.711607\"/>\n",
       "  <use xlink:href=\"#glyph-1606366588244585-0-6\" x=\"33.684736\" y=\"177.711607\"/>\n",
       "  <use xlink:href=\"#glyph-1606366588244585-0-7\" x=\"36.309108\" y=\"177.711607\"/>\n",
       "</g>\n",
       "<g style=\"fill:rgb(0%,0%,0%);fill-opacity:1;\">\n",
       "  <use xlink:href=\"#glyph-1606366588244585-0-5\" x=\"20.407798\" y=\"143.270267\"/>\n",
       "  <use xlink:href=\"#glyph-1606366588244585-0-1\" x=\"28.137767\" y=\"143.270267\"/>\n",
       "  <use xlink:href=\"#glyph-1606366588244585-0-6\" x=\"33.684736\" y=\"143.270267\"/>\n",
       "  <use xlink:href=\"#glyph-1606366588244585-0-4\" x=\"36.309108\" y=\"143.270267\"/>\n",
       "</g>\n",
       "<g style=\"fill:rgb(0%,0%,0%);fill-opacity:1;\">\n",
       "  <use xlink:href=\"#glyph-1606366588244585-0-1\" x=\"28.137817\" y=\"108.828927\"/>\n",
       "  <use xlink:href=\"#glyph-1606366588244585-0-6\" x=\"33.684785\" y=\"108.828927\"/>\n",
       "  <use xlink:href=\"#glyph-1606366588244585-0-1\" x=\"36.309158\" y=\"108.828927\"/>\n",
       "</g>\n",
       "<g style=\"fill:rgb(0%,0%,0%);fill-opacity:1;\">\n",
       "  <use xlink:href=\"#glyph-1606366588244585-0-1\" x=\"28.137817\" y=\"74.387587\"/>\n",
       "  <use xlink:href=\"#glyph-1606366588244585-0-6\" x=\"33.684785\" y=\"74.387587\"/>\n",
       "  <use xlink:href=\"#glyph-1606366588244585-0-4\" x=\"36.309158\" y=\"74.387587\"/>\n",
       "</g>\n",
       "<g style=\"fill:rgb(0%,0%,0%);fill-opacity:1;\">\n",
       "  <use xlink:href=\"#glyph-1606366588244585-0-1\" x=\"28.137817\" y=\"39.946247\"/>\n",
       "  <use xlink:href=\"#glyph-1606366588244585-0-6\" x=\"33.684785\" y=\"39.946247\"/>\n",
       "  <use xlink:href=\"#glyph-1606366588244585-0-7\" x=\"36.309158\" y=\"39.946247\"/>\n",
       "</g>\n",
       "<g clip-path=\"url(#clip-1606366588244585-1)\" clip-rule=\"nonzero\">\n",
       "<path style=\"fill:none;stroke-width:1.19553;stroke-linecap:butt;stroke-linejoin:miter;stroke:rgb(93.331909%,46.665955%,19.999695%);stroke-opacity:1;stroke-miterlimit:10;\" d=\"M 6.881493 39.853051 L 7.456973 42.800919 L 8.028538 48.175982 L 8.604019 55.668969 L 9.175584 64.857078 L 9.751064 75.258784 L 10.32263 86.322097 L 10.89811 97.483281 L 11.469675 108.17077 L 12.045155 117.840403 L 12.616721 125.998911 L 13.192201 132.227408 L 13.763766 136.200961 L 14.339246 137.704256 L 14.910812 136.647252 L 15.486292 133.073011 L 16.057857 127.149872 L 16.633337 119.17536 L 17.204903 109.56445 L 17.780383 98.822153 L 18.351948 87.52395 L 18.927428 76.288385 L 19.498994 65.734 L 20.074474 56.46368 L 20.646039 49.005927 L 21.22152 43.791371 L 21.793085 41.141031 L 22.368565 41.215413 L 22.94013 44.030176 L 23.515611 49.436558 L 24.087176 57.129201 L 24.662656 66.669645 L 25.234221 77.513727 L 25.809702 89.023331 L 26.381267 100.536849 L 26.956747 111.380932 L 27.528313 120.929205 L 28.103793 128.637507 L 28.675358 134.071293 L 29.250838 136.933035 L 29.822404 137.085713 L 30.397884 134.552817 L 30.969449 129.51443 L 31.544929 122.287651 L 32.116495 113.326603 L 32.691975 103.159786 L 33.26354 92.386171 L 33.83902 81.620385 L 34.410586 71.461398 L 34.986066 62.457286 L 35.557631 55.081745 L 36.133111 49.694937 L 36.704677 46.555242 L 37.280157 45.772276 L 37.851722 47.338208 L 38.427203 51.12385 L 38.998768 56.878652 L 39.574248 64.269853 L 40.145813 72.882482 L 40.721294 82.254588 L 41.292859 91.904647 L 41.868339 101.33939 L 42.439904 110.092952 L 43.015385 117.734703 L 43.58695 123.900562 L 44.16243 128.293002 L 44.733996 130.696709 L 45.309476 131.00598 L 45.881041 129.193413 L 46.456521 125.345134 L 47.028087 119.637311 L 47.603567 112.340065 L 48.175132 103.805733 L 48.750612 94.453202 L 49.322178 84.748335 L 49.897658 75.196147 L 50.469223 66.301651 L 51.044703 58.550285 L 51.616269 52.380511 L 52.191749 48.168153 L 52.763314 46.175504 L 53.338794 46.574816 L 53.91036 49.385665 L 54.48584 54.50235 L 55.057405 61.678235 L 55.632886 70.545328 L 56.204451 80.614273 L 56.779931 91.313507 L 57.351496 102.024485 L 57.926977 112.10909 L 58.498542 120.956609 L 59.074022 128.018964 L 59.645587 132.845951 L 60.221068 135.128297 L 60.792633 134.713325 L 61.368113 131.608864 L 61.939679 126.002826 L 62.515159 118.239716 L 63.086724 108.801058 L 63.662204 98.277992 L 64.23377 87.328209 L 64.80925 76.636805 L 65.380815 66.857557 L 65.956295 58.585518 L 66.527861 52.310044 L 67.103341 48.371724 L 67.674906 46.970214 L 68.250386 48.129004 L 68.821952 51.69933 L 69.397432 57.39541 L 69.968997 64.80227 L 70.544477 73.407069 L 71.116043 82.642156 L 71.691523 91.93988 L 72.263088 100.74042 L 72.838569 108.554424 L 73.410134 114.982576 L 73.985614 119.735181 L 74.557179 122.639986 L 75.128745 123.650012 L 75.704225 122.843557 L 76.27579 120.377214 L 76.85127 116.50936 L 77.422836 111.53361 L 77.998316 105.782723 L 78.569881 99.58946 L 79.145362 93.274837 L 79.716927 87.116808 L 80.292407 81.362006 L 80.863972 76.198344 L 81.439453 71.774585 L 82.011018 68.188599 L 82.586498 65.510855 L 83.158063 63.780499 L 83.733544 63.021022 L 84.305109 63.240253 L 84.880589 64.438191 L 85.452155 66.603093 L 86.027635 69.715383 L 86.5992 73.720256 L 87.17468 78.547243 L 87.746246 84.074984 L 88.321726 90.142973 L 88.893291 96.539807 L 89.468771 102.995363 L 90.040337 109.2082 L 90.615817 114.833813 L 91.187382 119.52378 L 91.762862 122.929684 L 92.334428 124.753995 L 92.909908 124.753995 L 93.481473 122.784835 L 94.056953 118.807366 L 94.628519 112.915545 L 95.203999 105.340347 L 95.775564 96.438021 L 96.351045 86.686177 L 96.92261 76.652464 L 97.49809 66.955427 L 98.069655 58.233184 L 98.645136 51.100361 L 99.216701 46.085463 L 99.792181 43.607374 L 100.363746 43.920561 L 100.939227 47.107233 L 101.510792 53.057777 L 102.086272 61.466834 L 102.657838 71.848966 L 103.233318 83.573886 L 103.804883 95.909519 L 104.380363 108.053325 L 104.951929 119.214509 L 105.527409 128.645337 L 106.098974 135.707693 L 106.674454 139.923966 L 107.24602 140.992715 L 107.8215 138.827813 L 108.393065 133.56628 L 108.968545 125.540876 L 109.540111 115.272274 L 110.115591 103.433824 L 110.687156 90.796749 L 111.262636 78.167504 L 111.834202 66.356458 L 112.409682 56.103515 L 112.981247 48.035048 L 113.556728 42.628667 L 114.128293 40.174067 L 114.703773 40.769122 L 115.275338 44.308129 L 115.850819 50.513137 L 116.422384 58.933938 L 116.997864 68.995055 L 117.569429 80.046623 L 118.14491 91.387889 L 118.716475 102.337672 L 119.291955 112.257854 L 119.863521 120.592529 L 120.439001 126.914982 L 121.010566 130.931598 L 121.586046 132.497531 L 122.157612 131.612779 L 122.733092 128.422192 L 123.304657 123.199807 L 123.880137 116.305789 L 124.451703 108.190344 L 125.027183 99.338911 L 125.598748 90.252588 L 126.174228 81.416814 L 126.745794 73.289624 L 127.321274 66.258588 L 127.892839 60.640805 L 128.468319 56.667251 L 129.039885 54.474946 L 129.615365 54.118696 L 130.18693 55.551524 L 130.76241 58.648156 L 131.333976 63.212849 L 131.909456 68.98331 L 132.481021 75.662012 L 133.056502 82.90445 L 133.628067 90.362203 L 134.203547 97.675108 L 134.775112 104.498658 L 135.350593 110.515754 L 135.922158 115.452356 L 136.497638 119.081405 L 137.069204 121.242391 L 137.644684 121.833531 L 138.216249 120.843079 L 138.791729 118.314098 L 139.363295 114.379692 L 139.938775 109.231689 L 140.51034 103.120638 L 141.08582 96.34798 L 141.657386 89.250391 L 142.232866 82.172376 L 142.804431 75.470185 L 143.379911 69.472664 L 143.951477 64.481254 L 144.526957 60.746505 L 145.098522 58.452414 L 145.674002 57.716426 L 146.245568 58.577689 L 146.821048 60.99314 L 147.392613 64.849248 L 147.968093 69.958103 L 148.539659 76.069154 L 149.115139 82.884876 L 149.686704 90.072506 L 150.262185 97.287539 L 150.83375 104.173727 L 151.40923 110.394394 L 151.980795 115.636353 L 152.556276 119.64514 L 153.127841 122.20544 L 153.703321 123.172403 L 154.274887 122.479478 L 154.850367 120.130579 L 155.421932 116.204004 L 155.997412 110.868089 L 156.568978 104.34598 L 157.144458 96.935205 L 157.716023 88.980268 L 158.291503 80.872652 L 158.863069 73.015586 L 159.438549 65.824041 L 160.010114 59.689501 L 160.585594 54.972129 L 161.15716 51.977283 L 161.73264 50.916364 L 162.304205 51.930305 L 162.879685 55.034767 L 163.451251 60.139706 L 164.026731 67.033724 L 164.598296 75.395803 L 165.173776 84.803143 L 165.745342 94.762473 L 166.320822 104.710059 L 166.892387 114.070421 L 167.467868 122.275907 L 168.039433 128.80193 L 168.614913 133.206115 L 169.186478 135.159616 L 169.761959 134.48235 L 170.333524 131.131255 L 170.909004 125.247264 L 171.480569 117.127904 L 172.05605 107.215551 L 172.627615 96.077857 L 173.203095 84.384256 L 173.774661 72.843334 L 174.350141 62.167589 L 174.921706 53.034288 L 175.497186 46.02674 L 176.068752 41.599066 L 176.644232 40.052708 L 177.215797 41.49728 L 177.791277 45.858402 L 178.362843 52.86595 L 178.938323 62.093207 L 179.509888 72.960779 L 180.085368 84.795313 L 180.656934 96.856908 L 181.232414 108.401745 L 181.803979 118.732985 L 182.379459 127.232083 L 182.951025 133.409687 L 183.526505 136.92912 L 184.09807 137.629875 L 184.673551 135.523695 L 185.245116 130.802409 L 185.820596 123.802691 L 186.392161 115.00215 L 186.967642 104.952779 L 187.539207 94.277034 L 188.114687 83.59346 L 188.686252 73.508855 L 189.261733 64.559551 L 189.833298 57.195753 L 190.408778 51.758053 L 190.980344 48.45785 L 191.555824 47.389101 L 192.127389 48.520488 L 192.702869 51.71499 L 193.274435 56.733803 L 193.849915 63.267657 L 194.42148 70.9603 L 194.99696 79.408505 L 195.568526 88.212961 L 196.144006 96.962608 L 196.715571 105.281625 L 197.291051 112.809845 L 197.862617 119.237998 L 198.438097 124.29596 L 199.009662 127.7645 L 199.585142 129.487026 L 200.156708 129.361751 L 200.732188 127.361272 L 201.303753 123.520823 L 201.879234 117.961763 L 202.450799 110.868089 L 203.026279 102.513839 L 203.597844 93.251348 L 204.173325 83.48776 L 204.74489 73.688937 L 205.32037 64.367724 L 205.891935 56.036963 L 206.467416 49.193838 L 207.038981 44.3003 L 207.614461 41.728255 L 208.186027 41.74783 L 208.761507 44.488211 L 209.333072 49.929827 L 209.908552 57.880849 L 210.480118 67.985028 L 211.055598 79.725607 L 211.627163 92.460553 L 212.202643 105.446048 L 212.774209 117.887381 L 213.349689 128.985927 L 213.921254 138.001784 L 214.496734 144.292917 L 215.0683 147.377804 L 215.64378 146.958917 L 216.215345 142.973619 L 216.790825 135.590248 L 217.362391 125.200286 L 217.937871 112.410532 L 218.509436 98.000039 L 219.084917 82.877046 L 219.656482 68.004602 L 220.231962 54.349671 L 220.803527 42.804834 L 221.379008 34.133483 L 221.950573 28.918928 L 222.526053 27.505674 L 223.097618 29.999421 L 223.673099 36.231832 L 224.244664 45.795765 L 224.820144 58.064846 L 225.39171 72.236535 L 225.96719 87.383017 L 226.538755 102.529498 L 227.114235 116.709017 L 227.685801 129.040735 L 228.261281 138.76909 L 228.832846 145.330348 L 229.408326 148.372171 L 229.979892 147.784947 L 230.555372 143.682204 L 231.126937 136.416277 L 231.702417 126.507839 L 232.273983 114.645901 L 232.849463 101.609513 L 233.421028 88.216876 L 233.996508 75.286188 L 234.568074 63.569099 L 235.143554 53.707639 L 235.715119 46.210737 L 236.2906 41.415069 \" transform=\"matrix(0.997808,0,0,-0.997808,45.367966,194.699289)\"/>\n",
       "</g>\n",
       "<g clip-path=\"url(#clip-1606366588244585-2)\" clip-rule=\"nonzero\">\n",
       "<path style=\"fill:none;stroke-width:1.19553;stroke-linecap:butt;stroke-linejoin:miter;stroke:rgb(0%,46.665955%,73.33374%);stroke-opacity:1;stroke-miterlimit:10;\" d=\"M 6.881493 39.853051 L 7.456973 42.828323 L 8.028538 48.266023 L 8.604019 55.829477 L 9.175584 65.099798 L 9.751064 75.575886 L 10.32263 86.701836 L 10.89811 97.890423 L 11.469675 108.570083 L 12.045155 118.192738 L 12.616721 126.25729 L 13.192201 132.344853 L 13.763766 136.146154 L 14.339246 137.449792 L 14.910812 136.185302 L 15.486292 132.403575 L 16.057857 126.300353 L 16.633337 118.184908 L 17.204903 108.483957 L 17.780383 97.718171 L 18.351948 86.470861 L 18.927428 75.364485 L 19.498994 65.009756 L 20.074474 55.997815 L 20.646039 48.841504 L 21.22152 43.963624 L 21.793085 41.649959 L 22.368565 42.049272 L 22.94013 45.145903 L 23.515611 50.77543 L 24.087176 58.616837 L 24.662656 68.223833 L 25.234221 79.036596 L 25.809702 90.428755 L 26.381267 101.738702 L 26.956747 112.312661 L 27.528313 121.536004 L 28.103793 128.888057 L 28.675358 133.949933 L 29.250838 136.45151 L 29.822404 136.275343 L 30.397884 133.456665 L 30.969449 128.187302 L 31.544929 120.800015 L 32.116495 111.748926 L 32.691975 101.570365 L 33.26354 90.855472 L 33.83902 80.211046 L 34.410586 70.236056 L 34.986066 61.462919 L 35.557631 54.361416 L 36.133111 49.279965 L 36.704677 46.457371 L 37.280157 46.007166 L 37.851722 47.901944 L 38.427203 51.996858 L 38.998768 58.041357 L 39.574248 65.675278 L 40.145813 74.483648 L 40.721294 83.992773 L 41.292859 93.705469 L 41.868339 103.64131 L 42.439904 109.071181 L 43.015385 113.252221 L 43.58695 115.679416 L 44.16243 115.988688 L 44.733996 113.98038 L 45.309476 109.681895 L 45.881041 103.316379 L 46.456521 95.314464 L 47.028087 86.286864 L 47.603567 76.957821 L 48.175132 68.122047 L 48.750612 60.554679 L 49.322178 54.968214 L 49.897658 51.926391 L 50.469223 51.793286 L 51.044703 54.694176 L 51.616269 60.507701 L 52.191749 68.86195 L 52.763314 79.150127 L 53.338794 90.601008 L 53.91036 102.318097 L 54.48584 113.365751 L 55.057405 122.843557 L 55.632886 129.964635 L 56.204451 134.122186 L 56.779931 134.940386 L 57.351496 132.313534 L 57.926977 126.406054 L 58.498542 117.648576 L 59.074022 106.706623 L 59.645587 94.414053 L 60.221068 81.722171 L 60.792633 69.601853 L 61.368113 58.984831 L 61.939679 50.66973 L 62.515159 45.275092 L 63.086724 43.184573 L 63.662204 44.5117 L 64.23377 49.111627 L 64.80925 56.588955 L 65.380815 66.321225 L 65.956295 77.545046 L 66.527861 89.391325 L 67.103341 100.963566 L 67.674906 111.423995 L 68.250386 120.044453 L 68.821952 126.25729 L 69.397432 129.706256 L 69.968997 130.250418 L 70.544477 127.987645 L 71.116043 123.207637 L 71.691523 116.380171 L 72.263088 108.096388 L 72.838569 99.025724 L 73.410134 89.841531 L 73.985614 81.189754 L 74.557179 73.622385 L 75.128745 67.566141 L 75.704225 63.31072 L 76.27579 60.973565 L 76.85127 60.539019 L 77.422836 61.846573 L 77.998316 64.633933 L 78.569881 68.564423 L 79.145362 73.27005 L 79.716927 78.386735 L 80.292407 83.573886 L 80.863972 88.549636 L 81.439453 93.102585 L 82.011018 97.095713 L 82.586498 100.458553 L 83.158063 103.17936 L 83.733544 105.281625 L 84.305109 106.816238 L 84.880589 107.818435 L 85.452155 108.327363 L 86.027635 108.339108 L 86.5992 107.82235 L 87.17468 106.726197 L 87.746246 104.980183 L 88.321726 102.517754 L 88.893291 99.295848 L 89.468771 95.314464 L 90.040337 90.640156 L 90.615817 85.413856 L 91.187382 79.858711 L 91.762862 74.272247 L 92.334428 69.014629 L 92.909908 64.485169 L 93.481473 61.087096 L 94.056953 59.192317 L 94.628519 59.106191 L 95.203999 61.020543 L 95.775564 64.994097 L 96.351045 70.925066 L 96.92261 78.547243 L 97.49809 87.441739 L 98.069655 97.04482 L 98.645136 106.694879 L 99.216701 115.683331 L 99.792181 123.301593 L 100.363746 128.911546 L 100.939227 131.980773 L 101.510792 132.16477 L 102.086272 129.314773 L 102.657838 123.516908 L 103.233318 115.088277 L 103.804883 104.569125 L 104.380363 92.675868 L 104.951929 80.261939 L 105.527409 68.235577 L 106.098974 57.50894 L 106.674454 48.911971 L 107.24602 43.12585 L 107.8215 40.628188 L 108.393065 41.649959 L 108.968545 46.1481 L 109.540111 53.821169 L 110.115591 64.11326 L 110.687156 76.264896 L 111.262636 89.375666 L 111.834202 61.807425 L 112.409682 67.433037 L 112.981247 74.076505 L 113.556728 81.131031 L 114.128293 88.00939 L 114.703773 94.190908 L 115.275338 99.260614 L 115.850819 102.940556 L 116.422384 105.121117 L 116.997864 105.829701 L 117.569429 105.246391 L 118.14491 103.660885 L 118.716475 101.433346 L 119.291955 98.955257 L 119.863521 96.598529 L 120.439001 94.672432 L 121.010566 93.400112 L 121.586046 92.883354 L 122.157612 93.09084 L 122.733092 93.877721 L 123.304657 95.001278 L 123.880137 96.140494 L 124.451703 96.946949 L 125.027183 97.095713 L 125.598748 96.308832 L 126.174228 94.410138 L 126.745794 91.35657 L 127.321274 87.238168 L 127.892839 82.293736 L 128.468319 76.895184 L 129.039885 71.504461 L 129.615365 66.653985 L 130.18693 62.876173 L 130.76241 60.664294 L 131.333976 60.40983 L 131.909456 62.355501 L 132.481021 66.575689 L 133.056502 72.941204 L 133.628067 81.119287 L 134.203547 90.608837 L 134.775112 100.74825 L 135.350593 110.785877 L 135.922158 119.938753 L 136.497638 127.439569 L 137.069204 132.62672 L 137.644684 134.999108 L 138.216249 134.251375 L 138.791729 130.313055 L 139.363295 123.372059 L 139.938775 113.847275 L 140.51034 102.372905 L 141.08582 89.747575 L 141.657386 76.86778 L 142.232866 64.665251 L 142.804431 54.036485 L 143.379911 45.748787 L 143.951477 40.412872 L 144.526957 38.408479 L 145.098522 39.868711 L 145.674002 44.660464 L 146.245568 52.423574 L 146.821048 62.566902 L 147.392613 74.350544 L 147.968093 86.924981 L 148.539659 99.401548 L 149.115139 110.938556 L 149.686704 120.784356 L 150.262185 128.33998 L 150.83375 133.190456 L 151.40923 135.136127 L 151.980795 134.196568 L 152.556276 130.583178 L 153.127841 124.683528 L 153.703321 117.014374 L 154.274887 108.17077 L 154.850367 98.78692 L 155.421932 89.465707 L 155.997412 80.751293 L 156.568978 73.089968 L 157.144458 66.806664 L 157.716023 62.108867 L 158.291503 59.067043 L 158.863069 57.649874 L 159.438549 57.732085 L 160.010114 59.133595 L 160.585594 61.646916 L 161.15716 65.048905 L 161.73264 69.139903 L 162.304205 73.751574 L 162.879685 78.739069 L 163.451251 84.008432 L 164.026731 89.465707 L 164.598296 95.044341 L 165.173776 100.650379 L 165.745342 106.174206 L 166.320822 111.451399 L 166.892387 116.286215 L 167.467868 120.420277 L 168.039433 123.571716 L 168.614913 125.43909 L 169.186478 125.732703 L 169.761959 124.205919 L 170.333524 120.69823 L 170.909004 115.154829 L 171.480569 107.657927 L 172.05605 98.442415 L 172.627615 87.907604 L 173.203095 76.597657 L 173.774661 65.174179 L 174.350141 54.384905 L 174.921706 45.008884 L 175.497186 37.797765 L 176.068752 33.413154 L 176.644232 32.363979 L 177.215797 34.955598 L 177.791277 41.258476 L 178.362843 51.069043 L 178.938323 63.921433 L 179.509888 79.099234 L 180.085368 95.678544 L 180.656934 112.57887 L 181.232414 128.657082 L 181.803979 142.762218 L 182.379459 153.845105 L 182.951025 161.032735 L 183.526505 163.698735 L 184.09807 161.51426 L 184.673551 154.498882 L 185.245116 143.008853 L 185.820596 127.729267 L 186.392161 109.631002 L 186.967642 89.904168 L 187.539207 69.871977 L 188.114687 50.892875 L 188.686252 34.282247 L 189.261733 21.179307 L 189.833298 12.500126 L 190.408778 8.847588 L 190.980344 10.476158 L 191.555824 17.26839 L 192.127389 28.75059 L 192.702869 44.135877 L 193.274435 62.355501 L 193.849915 82.180206 L 194.42148 102.271119 L 194.99696 121.297199 L 195.568526 138.033102 L 196.144006 151.42574 L 196.715571 160.680401 L 197.291051 165.299901 L 197.862617 165.108075 L 198.438097 160.253684 L 199.009662 151.198679 L 199.585142 138.647731 L 200.156708 123.512993 L 200.732188 106.831898 L 201.303753 89.684937 L 201.879234 73.136946 L 202.450799 58.150972 L 203.026279 45.537386 L 203.597844 35.918646 L 204.173325 29.694064 L 204.74489 27.031979 L 205.32037 27.889327 L 205.891935 32.015559 L 206.467416 39.011363 L 207.038981 48.340405 L 207.614461 59.395889 L 208.186027 71.531865 L 208.761507 84.106303 L 209.333072 96.504573 L 209.908552 108.174685 L 210.480118 118.639029 L 211.055598 127.510036 L 211.627163 134.474521 L 212.202643 139.309337 L 212.774209 141.873552 L 213.349689 142.100612 L 213.921254 139.982688 L 214.496734 135.605907 L 215.0683 129.103372 L 215.64378 120.694315 L 216.215345 110.668432 L 216.790825 99.393719 L 217.362391 87.316464 L 217.937871 74.949513 L 218.509436 62.864429 L 219.084917 51.675841 L 219.656482 42.002294 L 220.231962 34.442755 L 220.803527 29.537471 L 221.379008 27.71316 L 221.950573 29.263433 L 222.526053 34.305736 L 223.097618 42.746112 L 223.673099 54.283119 L 224.244664 68.384341 L 224.820144 84.333363 L 225.39171 101.229774 L 225.96719 118.075293 L 226.538755 133.80117 L 227.114235 147.362145 L 227.685801 157.79517 L 228.261281 164.305534 L 228.832846 166.321672 L 229.408326 163.553887 L 229.979892 156.021751 L 230.555372 144.073687 L 231.126937 128.367384 L 231.702417 109.830658 L 232.273983 89.626215 L 232.849463 69.049862 L 233.421028 49.460047 L 233.996508 32.176067 L 234.568074 18.384117 L 235.143554 9.047245 L 235.715119 4.842716 L 236.2906 6.103292 \" transform=\"matrix(0.997808,0,0,-0.997808,45.367966,194.699289)\"/>\n",
       "</g>\n",
       "<g clip-path=\"url(#clip-1606366588244585-3)\" clip-rule=\"nonzero\">\n",
       "<path style=\"fill:none;stroke-width:1.19553;stroke-linecap:butt;stroke-linejoin:miter;stroke:rgb(19.999695%,73.33374%,93.331909%);stroke-opacity:1;stroke-miterlimit:10;\" d=\"M 6.881493 39.853051 L 7.456973 43.807031 L 8.028538 49.957231 L 8.604019 57.845615 L 9.175584 66.967172 L 9.751064 76.773824 L 10.32263 86.737069 L 10.89811 96.336235 L 11.469675 105.101542 L 12.045155 112.629763 L 12.616721 118.59988 L 13.192201 122.777005 L 13.763766 125.020203 L 14.339246 125.302071 L 14.910812 123.685246 L 15.486292 120.322406 L 16.057857 115.460186 L 16.633337 109.403942 L 17.204903 102.517754 L 17.780383 95.19702 L 18.351948 87.848881 L 18.927428 80.876567 L 19.498994 74.644156 L 20.074474 69.476579 L 20.646039 65.62047 L 21.22152 63.248082 L 21.793085 62.441627 L 22.368565 63.201104 L 22.94013 65.424729 L 23.515611 68.936332 L 24.087176 73.485366 L 24.662656 78.774303 L 25.234221 84.470382 L 25.809702 90.221269 L 26.381267 95.698118 L 26.956747 100.583827 L 27.528313 104.623933 L 28.103793 107.614864 L 28.675358 109.427431 L 29.250838 110.010741 L 29.822404 109.388283 L 30.397884 107.657927 L 30.969449 104.972353 L 31.544929 101.542961 L 32.116495 97.608556 L 32.691975 93.427516 L 33.26354 89.254306 L 33.83902 85.33556 L 34.410586 81.882679 L 34.986066 79.067915 L 35.557631 77.008714 L 36.133111 75.783372 L 36.704677 75.407548 L 37.280157 75.842094 L 37.851722 77.020458 L 38.427203 78.817366 L 38.998768 81.099713 L 39.574248 83.70699 L 40.145813 86.474776 L 40.721294 89.246476 L 41.292859 91.869413 L 41.868339 94.222227 L 42.439904 96.195302 L 43.015385 97.714256 L 43.58695 98.728197 L 44.16243 99.221466 L 44.733996 99.197977 L 45.309476 98.692964 L 45.881041 97.757319 L 46.456521 96.457595 L 47.028087 94.879918 L 47.603567 93.114329 L 48.175132 91.246955 L 48.750612 89.37958 L 49.322178 87.598332 L 49.897658 85.985422 L 50.469223 84.611316 L 51.044703 83.538652 L 51.616269 82.810494 L 52.191749 82.454244 L 52.763314 82.481648 L 53.338794 82.880961 L 53.91036 83.624779 L 54.48584 84.670039 L 55.057405 85.954103 L 55.632886 87.41042 L 56.204451 88.948949 L 56.779931 90.487478 L 57.351496 91.943795 L 57.926977 93.231774 L 58.498542 94.284864 L 59.074022 95.044341 L 59.645587 95.474973 L 60.221068 95.553269 L 60.792633 95.287061 L 61.368113 94.699836 L 61.939679 93.834658 L 62.515159 92.754165 L 63.086724 91.528823 L 63.662204 90.240843 L 64.23377 88.972438 L 64.80925 87.797989 L 65.380815 86.787962 L 65.956295 85.997166 L 66.527861 85.468664 L 67.103341 85.22203 L 67.674906 85.253348 L 68.250386 85.546961 L 68.821952 86.067633 L 69.397432 86.772303 L 69.968997 87.602247 L 70.544477 88.494829 L 71.116043 89.38741 L 71.691523 90.233014 L 72.263088 90.976832 L 72.838569 91.579716 L 73.410134 92.026006 L 73.985614 92.29613 L 74.557179 92.390086 L 75.128745 92.327448 L 75.704225 92.123877 L 76.27579 91.810691 L 76.85127 91.411378 L 77.422836 90.965087 L 77.998316 90.499222 L 78.569881 90.037272 L 79.145362 89.606641 L 79.716927 89.219072 L 80.292407 88.886312 L 80.863972 88.616188 L 81.439453 88.408702 L 82.011018 88.267768 L 82.586498 88.185557 L 83.158063 88.158153 L 83.733544 88.185557 L 84.305109 88.263854 L 84.880589 88.385213 L 85.452155 88.545721 L 86.027635 88.749293 L 86.5992 88.988097 L 87.17468 89.250391 L 87.746246 89.536174 L 88.321726 89.833701 L 88.893291 90.127313 L 89.468771 90.409181 L 90.040337 90.65973 L 90.615817 90.863301 L 91.187382 91.00815 L 91.762862 91.086447 L 92.334428 91.086447 L 92.909908 91.004235 L 93.481473 90.847642 L 94.056953 90.616667 L 94.628519 90.323055 L 95.203999 89.990294 L 95.775564 89.637959 L 96.351045 89.28171 L 96.92261 88.948949 L 97.49809 88.659251 L 98.069655 88.436106 L 98.645136 88.287343 L 99.216701 88.224705 L 99.792181 88.252109 L 100.363746 88.365639 L 100.939227 88.557466 L 101.510792 88.815845 L 102.086272 89.117287 L 102.657838 89.442218 L 103.233318 89.767149 L 103.804883 90.07642 L 104.380363 90.346544 L 104.951929 90.557945 L 105.527409 90.706708 L 106.098974 90.78109 L 106.674454 90.777175 L 107.24602 90.706708 L 107.8215 90.569689 L 108.393065 90.381777 L 108.968545 90.162547 L 109.540111 89.923742 L 110.115591 89.681022 L 110.687156 89.453962 L 111.262636 89.254306 L 111.834202 89.093798 L 112.409682 88.980268 L 112.981247 88.91763 L 113.556728 88.905886 L 114.128293 88.937205 L 114.703773 89.011586 L 115.275338 89.117287 L 115.850819 89.242561 L 116.422384 89.37958 L 116.997864 89.512685 L 117.569429 89.641874 L 118.14491 89.751489 L 118.716475 89.841531 L 119.291955 89.908083 L 119.863521 89.947231 L 120.439001 89.966805 L 121.010566 89.96289 L 121.586046 89.943316 L 122.157612 89.911997 L 122.733092 89.872849 L 123.304657 89.833701 L 123.880137 89.798467 L 124.451703 89.767149 L 125.027183 89.739745 L 125.598748 89.720171 L 126.174228 89.708426 L 126.745794 89.696682 L 127.321274 89.688852 L 127.892839 89.677108 L 128.468319 89.665363 L 129.039885 89.641874 L 129.615365 89.61447 L 130.18693 89.579237 L 130.76241 89.536174 L 131.333976 89.489196 L 131.909456 89.446133 L 132.481021 89.403069 L 133.056502 89.363921 L 133.628067 89.340432 L 134.203547 89.332602 L 134.775112 89.340432 L 135.350593 89.371751 L 135.922158 89.418729 L 136.497638 89.485281 L 137.069204 89.567492 L 137.644684 89.661448 L 138.216249 89.763234 L 138.791729 89.861105 L 139.363295 89.951146 L 139.938775 90.029442 L 140.51034 90.08425 L 141.08582 90.115569 L 141.657386 90.119484 L 142.232866 90.09208 L 142.804431 90.037272 L 143.379911 89.955061 L 143.951477 89.853275 L 144.526957 89.731915 L 145.098522 89.602726 L 145.674002 89.469622 L 146.245568 89.348262 L 146.821048 89.242561 L 147.392613 89.156435 L 147.968093 89.101627 L 148.539659 89.082053 L 149.115139 89.093798 L 149.686704 89.144691 L 150.262185 89.226902 L 150.83375 89.336517 L 151.40923 89.465707 L 151.980795 89.606641 L 152.556276 89.755404 L 153.127841 89.896338 L 153.703321 90.021613 L 154.274887 90.123398 L 154.850367 90.193865 L 155.421932 90.233014 L 155.997412 90.233014 L 156.568978 90.193865 L 157.144458 90.123398 L 157.716023 90.017698 L 158.291503 89.892423 L 158.863069 89.747575 L 159.438549 89.598811 L 160.010114 89.450047 L 160.585594 89.316943 L 161.15716 89.207328 L 161.73264 89.121202 L 162.304205 89.070309 L 162.879685 89.058564 L 163.451251 89.082053 L 164.026731 89.144691 L 164.598296 89.234732 L 165.173776 89.356091 L 165.745342 89.489196 L 166.320822 89.637959 L 166.892387 89.782808 L 167.467868 89.915912 L 168.039433 90.033357 L 168.614913 90.123398 L 169.186478 90.182121 L 169.761959 90.20561 L 170.333524 90.193865 L 170.909004 90.142973 L 171.480569 90.064676 L 172.05605 89.955061 L 172.627615 89.829786 L 173.203095 89.692767 L 173.774661 89.551833 L 174.350141 89.418729 L 174.921706 89.305199 L 175.497186 89.211243 L 176.068752 89.148605 L 176.644232 89.121202 L 177.215797 89.129031 L 177.791277 89.172094 L 178.362843 89.242561 L 178.938323 89.344347 L 179.509888 89.461792 L 180.085368 89.590981 L 180.656934 89.720171 L 181.232414 89.841531 L 181.803979 89.951146 L 182.379459 90.033357 L 182.951025 90.088165 L 183.526505 90.111654 L 184.09807 90.103824 L 184.673551 90.060761 L 185.245116 89.990294 L 185.820596 89.900253 L 186.392161 89.790638 L 186.967642 89.673193 L 187.539207 89.559663 L 188.114687 89.453962 L 188.686252 89.367836 L 189.261733 89.301284 L 189.833298 89.262135 L 190.408778 89.254306 L 190.980344 89.27388 L 191.555824 89.320858 L 192.127389 89.38741 L 192.702869 89.473536 L 193.274435 89.567492 L 193.849915 89.665363 L 194.42148 89.755404 L 194.99696 89.833701 L 195.568526 89.896338 L 196.144006 89.935486 L 196.715571 89.951146 L 197.291051 89.943316 L 197.862617 89.911997 L 198.438097 89.861105 L 199.009662 89.794553 L 199.585142 89.724086 L 200.156708 89.645789 L 200.732188 89.575322 L 201.303753 89.512685 L 201.879234 89.461792 L 202.450799 89.430473 L 203.026279 89.418729 L 203.597844 89.422644 L 204.173325 89.446133 L 204.74489 89.481366 L 205.32037 89.528344 L 205.891935 89.583152 L 206.467416 89.637959 L 207.038981 89.692767 L 207.614461 89.739745 L 208.186027 89.774978 L 208.761507 89.798467 L 209.333072 89.806297 L 209.908552 89.806297 L 210.480118 89.790638 L 211.055598 89.763234 L 211.627163 89.731915 L 212.202643 89.696682 L 212.774209 89.657533 L 213.349689 89.6223 L 213.921254 89.590981 L 214.496734 89.563577 L 215.0683 89.547918 L 215.64378 89.536174 L 216.215345 89.536174 L 216.790825 89.540089 L 217.362391 89.551833 L 217.937871 89.567492 L 218.509436 89.583152 L 219.084917 89.602726 L 219.656482 89.6223 L 220.231962 89.641874 L 220.803527 89.661448 L 221.379008 89.677108 L 221.950573 89.688852 L 222.526053 89.700597 L 223.097618 89.712341 L 223.673099 89.720171 L 224.244664 89.728 L 224.820144 89.731915 L 225.39171 89.731915 L 225.96719 89.728 L 226.538755 89.720171 L 227.114235 89.708426 L 227.685801 89.692767 L 228.261281 89.673193 L 228.832846 89.645789 L 229.408326 89.618385 L 229.979892 89.587066 L 230.555372 89.555748 L 231.126937 89.528344 L 231.702417 89.504855 L 232.273983 89.489196 L 232.849463 89.485281 L 233.421028 89.489196 L 233.996508 89.50877 L 234.568074 89.536174 L 235.143554 89.575322 L 235.715119 89.626215 L 236.2906 89.677108 \" transform=\"matrix(0.997808,0,0,-0.997808,45.367966,194.699289)\"/>\n",
       "</g>\n",
       "<g style=\"fill:rgb(0%,0%,0%);fill-opacity:1;\">\n",
       "  <use xlink:href=\"#glyph-1606366588244585-1-1\" x=\"155.17674\" y=\"219.596595\"/>\n",
       "  <use xlink:href=\"#glyph-1606366588244585-1-2\" x=\"161.704863\" y=\"219.596595\"/>\n",
       "  <use xlink:href=\"#glyph-1606366588244585-1-3\" x=\"164.668215\" y=\"219.596595\"/>\n",
       "  <use xlink:href=\"#glyph-1606366588244585-1-4\" x=\"173.306769\" y=\"219.596595\"/>\n",
       "</g>\n",
       "<g style=\"fill:rgb(0%,0%,0%);fill-opacity:1;\">\n",
       "  <use xlink:href=\"#glyph-1606366588244585-2-1\" x=\"11.080289\" y=\"118.324068\"/>\n",
       "</g>\n",
       "<g style=\"fill:rgb(0%,0%,0%);fill-opacity:1;\">\n",
       "  <use xlink:href=\"#glyph-1606366588244585-2-2\" x=\"11.27087\" y=\"114.398691\"/>\n",
       "</g>\n",
       "<g style=\"fill:rgb(0%,0%,0%);fill-opacity:1;\">\n",
       "  <use xlink:href=\"#glyph-1606366588244585-3-1\" x=\"7.170877\" y=\"108.198312\"/>\n",
       "</g>\n",
       "<g style=\"fill:rgb(0%,0%,0%);fill-opacity:1;\">\n",
       "  <use xlink:href=\"#glyph-1606366588244585-3-2\" x=\"13.566826\" y=\"109.29191\"/>\n",
       "</g>\n",
       "<g style=\"fill:rgb(0%,0%,0%);fill-opacity:1;\">\n",
       "  <use xlink:href=\"#glyph-1606366588244585-2-3\" x=\"11.080289\" y=\"104.20708\"/>\n",
       "</g>\n",
       "<g style=\"fill:rgb(0%,0%,0%);fill-opacity:1;\">\n",
       "  <use xlink:href=\"#glyph-1606366588244585-4-1\" x=\"133.979306\" y=\"11.639431\"/>\n",
       "</g>\n",
       "<g style=\"fill:rgb(0%,0%,0%);fill-opacity:1;\">\n",
       "  <use xlink:href=\"#glyph-1606366588244585-4-2\" x=\"142.508516\" y=\"11.639431\"/>\n",
       "  <use xlink:href=\"#glyph-1606366588244585-4-3\" x=\"147.160812\" y=\"11.639431\"/>\n",
       "  <use xlink:href=\"#glyph-1606366588244585-4-4\" x=\"153.351945\" y=\"11.639431\"/>\n",
       "  <use xlink:href=\"#glyph-1606366588244585-4-5\" x=\"156.584695\" y=\"11.639431\"/>\n",
       "  <use xlink:href=\"#glyph-1606366588244585-4-2\" x=\"163.050193\" y=\"11.639431\"/>\n",
       "  <use xlink:href=\"#glyph-1606366588244585-4-6\" x=\"167.70249\" y=\"11.639431\"/>\n",
       "</g>\n",
       "<g style=\"fill:rgb(0%,0%,0%);fill-opacity:1;\">\n",
       "  <use xlink:href=\"#glyph-1606366588244585-0-8\" x=\"173.308908\" y=\"11.639431\"/>\n",
       "</g>\n",
       "<g style=\"fill:rgb(0%,0%,0%);fill-opacity:1;\">\n",
       "  <use xlink:href=\"#glyph-1606366588244585-0-9\" x=\"182.792435\" y=\"11.639431\"/>\n",
       "</g>\n",
       "<g style=\"fill:rgb(0%,0%,0%);fill-opacity:1;\">\n",
       "  <use xlink:href=\"#glyph-1606366588244585-0-3\" x=\"193.838656\" y=\"11.639431\"/>\n",
       "</g>\n",
       "<path style=\"fill-rule:nonzero;fill:rgb(100%,100%,100%);fill-opacity:0.9;stroke-width:0.99628;stroke-linecap:butt;stroke-linejoin:miter;stroke:rgb(13.331604%,13.331604%,33.332825%);stroke-opacity:0.1;stroke-miterlimit:10;\" d=\"M 174.72205 122.874876 L 237.809554 122.874876 L 237.809554 167.245572 L 174.72205 167.245572 Z M 174.72205 122.874876 \" transform=\"matrix(0.997808,0,0,-0.997808,45.367966,194.699289)\"/>\n",
       "<path style=\"fill:none;stroke-width:1.19553;stroke-linecap:butt;stroke-linejoin:miter;stroke:rgb(93.331909%,46.665955%,19.999695%);stroke-opacity:1;stroke-miterlimit:10;\" d=\"M -0.000879777 -0.000668506 L 17.009062 -0.000668506 \" transform=\"matrix(0.997808,0,0,-0.997808,223.282128,36.706364)\"/>\n",
       "<g style=\"fill:rgb(13.331604%,13.331604%,33.332825%);fill-opacity:1;\">\n",
       "  <use xlink:href=\"#glyph-1606366588244585-4-7\" x=\"242.83717\" y=\"40.123857\"/>\n",
       "  <use xlink:href=\"#glyph-1606366588244585-4-8\" x=\"250.543281\" y=\"40.123857\"/>\n",
       "  <use xlink:href=\"#glyph-1606366588244585-4-9\" x=\"253.692528\" y=\"40.123857\"/>\n",
       "  <use xlink:href=\"#glyph-1606366588244585-4-2\" x=\"259.704726\" y=\"40.123857\"/>\n",
       "  <use xlink:href=\"#glyph-1606366588244585-4-10\" x=\"264.357022\" y=\"40.123857\"/>\n",
       "</g>\n",
       "<g style=\"fill:rgb(13.331604%,13.331604%,33.332825%);fill-opacity:1;\">\n",
       "  <use xlink:href=\"#glyph-1606366588244585-4-11\" x=\"269.772772\" y=\"40.123857\"/>\n",
       "</g>\n",
       "<path style=\"fill:none;stroke-width:1.19553;stroke-linecap:butt;stroke-linejoin:miter;stroke:rgb(0%,46.665955%,73.33374%);stroke-opacity:1;stroke-miterlimit:10;\" d=\"M -0.000879777 -0.000132666 L 17.009062 -0.000132666 \" transform=\"matrix(0.997808,0,0,-0.997808,223.282128,50.261586)\"/>\n",
       "<g style=\"fill:rgb(13.331604%,13.331604%,33.332825%);fill-opacity:1;\">\n",
       "  <use xlink:href=\"#glyph-1606366588244585-4-12\" x=\"242.83717\" y=\"53.440603\"/>\n",
       "  <use xlink:href=\"#glyph-1606366588244585-4-7\" x=\"252.845571\" y=\"53.440603\"/>\n",
       "  <use xlink:href=\"#glyph-1606366588244585-4-13\" x=\"260.551682\" y=\"53.440603\"/>\n",
       "  <use xlink:href=\"#glyph-1606366588244585-4-14\" x=\"271.896128\" y=\"53.440603\"/>\n",
       "</g>\n",
       "<path style=\"fill:none;stroke-width:1.19553;stroke-linecap:butt;stroke-linejoin:miter;stroke:rgb(19.999695%,73.33374%,93.331909%);stroke-opacity:1;stroke-miterlimit:10;\" d=\"M -0.000879777 0.000760005 L 17.009062 0.000760005 \" transform=\"matrix(0.997808,0,0,-0.997808,223.282128,63.512477)\"/>\n",
       "<g style=\"fill:rgb(13.331604%,13.331604%,33.332825%);fill-opacity:1;\">\n",
       "  <use xlink:href=\"#glyph-1606366588244585-4-12\" x=\"242.83717\" y=\"66.625638\"/>\n",
       "  <use xlink:href=\"#glyph-1606366588244585-4-15\" x=\"252.845571\" y=\"66.625638\"/>\n",
       "  <use xlink:href=\"#glyph-1606366588244585-4-2\" x=\"258.297108\" y=\"66.625638\"/>\n",
       "  <use xlink:href=\"#glyph-1606366588244585-4-16\" x=\"262.949404\" y=\"66.625638\"/>\n",
       "  <use xlink:href=\"#glyph-1606366588244585-4-10\" x=\"266.718957\" y=\"66.625638\"/>\n",
       "  <use xlink:href=\"#glyph-1606366588244585-4-17\" x=\"272.051204\" y=\"66.625638\"/>\n",
       "</g>\n",
       "</g>\n",
       "</svg>\n",
       "\n"
      ]
     },
     "execution_count": 320,
     "metadata": {},
     "output_type": "execute_result"
    }
   ],
   "source": [
    "plot!(ts, hcat(fouts...)',\n",
    "    title = latexstring(\"$N spins, \\$\\\\lambda = $λ\\$\"),\n",
    "    label = [\n",
    "        \"Master\"\n",
    "        ])"
   ]
  }
 ],
 "metadata": {
  "kernelspec": {
   "display_name": "Julia (16 threads) 1.5.0-rc1",
   "language": "julia",
   "name": "julia-(16-threads)-1.5"
  },
  "language_info": {
   "file_extension": ".jl",
   "mimetype": "application/julia",
   "name": "julia",
   "version": "1.5.0"
  },
  "latex_envs": {
   "LaTeX_envs_menu_present": true,
   "autoclose": false,
   "autocomplete": true,
   "bibliofile": "biblio.bib",
   "cite_by": "apalike",
   "current_citInitial": 1,
   "eqLabelWithNumbers": true,
   "eqNumInitial": 1,
   "hotkeys": {
    "equation": "Ctrl-E",
    "itemize": "Ctrl-I"
   },
   "labels_anchors": false,
   "latex_user_defs": false,
   "report_style_numbering": false,
   "user_envs_cfg": false
  },
  "notify_time": "30",
  "toc": {
   "base_numbering": 1,
   "nav_menu": {},
   "number_sections": true,
   "sideBar": true,
   "skip_h1_title": false,
   "title_cell": "Table of Contents",
   "title_sidebar": "Contents",
   "toc_cell": false,
   "toc_position": {
    "height": "calc(100% - 180px)",
    "left": "10px",
    "top": "150px",
    "width": "272px"
   },
   "toc_section_display": true,
   "toc_window_display": false
  }
 },
 "nbformat": 4,
 "nbformat_minor": 4
}
