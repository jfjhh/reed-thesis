{
 "cells": [
  {
   "cell_type": "markdown",
   "metadata": {},
   "source": [
    "# Computation of transverse-Ising superoperators"
   ]
  },
  {
   "cell_type": "code",
   "execution_count": 365,
   "metadata": {
    "ExecuteTime": {
     "end_time": "2020-10-02T10:21:40.849000-07:00",
     "start_time": "2020-10-02T17:20:26.887Z"
    },
    "tags": [
     "hide"
    ]
   },
   "outputs": [],
   "source": [
    "include(\"notebook_preamble.jl\");"
   ]
  },
  {
   "cell_type": "markdown",
   "metadata": {},
   "source": [
    "**TODO:** Redefine spin operators and the rest to depend on $N$ and maybe $\\lambda$, so that we can look at what happens as those parameters are varied."
   ]
  },
  {
   "cell_type": "markdown",
   "metadata": {
    "heading_collapsed": true
   },
   "source": [
    "## Utility functions"
   ]
  },
  {
   "cell_type": "code",
   "execution_count": 366,
   "metadata": {
    "hidden": true
   },
   "outputs": [],
   "source": [
    "trnorm(op) = tracenorm(dense(op))\n",
    "acomm(x, y) = x*y + y*x\n",
    "matriximage(A) = Gray.(1 .- abs.(A))\n",
    "matriximage(A::Operator) = matriximage(dense(A).data)\n",
    "\n",
    "function acomm_table(a, b, N, image)\n",
    "    A = Matrix{Float64}(undef, N, N)\n",
    "    for i in 1:N, j in i:N\n",
    "        A[j, i] = trnorm(acomm(a(i), b(j))) / 2^N\n",
    "    end\n",
    "    L = LowerTriangular(A)\n",
    "    image ? matriximage(L) : L\n",
    "end\n",
    "\n",
    "function acomm_tables(c, N=Int(log2(size(c(1))[1])); image=true)\n",
    "    ct = dagger ∘ c\n",
    "    acomms = [\n",
    "        acomm_table(ct, c, N, image),\n",
    "        acomm_table(c, c, N, image),\n",
    "        acomm_table(ct, ct, N, image),\n",
    "    ]\n",
    "    if image\n",
    "        hcat(acomms...)\n",
    "    else\n",
    "        for ac in acomms\n",
    "            display(ac)\n",
    "        end\n",
    "    end\n",
    "end\n",
    "\n",
    "tpow(x, n) = ⊗(repeat([x], n)...);"
   ]
  },
  {
   "cell_type": "markdown",
   "metadata": {
    "heading_collapsed": true
   },
   "source": [
    "## Spins"
   ]
  },
  {
   "cell_type": "markdown",
   "metadata": {
    "hidden": true
   },
   "source": [
    "First, we set up the spin-1/2 sites and Pauli operators."
   ]
  },
  {
   "cell_type": "code",
   "execution_count": 367,
   "metadata": {
    "ExecuteTime": {
     "end_time": "2020-10-02T10:22:03.369000-07:00",
     "start_time": "2020-10-02T17:20:26.927Z"
    },
    "hidden": true
   },
   "outputs": [],
   "source": [
    "sb = SpinBasis(1//2)\n",
    "sx, sy, sz, sp, sm = sigmax(sb), sigmay(sb), sigmaz(sb), sigmap(sb), sigmam(sb)\n",
    "up, down = spinup(sb), spindown(sb)\n",
    "ψx = eigenstates(dense(sx))[2][1];"
   ]
  },
  {
   "cell_type": "markdown",
   "metadata": {
    "heading_collapsed": true
   },
   "source": [
    "## Ising model"
   ]
  },
  {
   "cell_type": "markdown",
   "metadata": {
    "hidden": true
   },
   "source": [
    "To create a $N$-site spin loop, we need to construct the basis for the loop and operators for each site."
   ]
  },
  {
   "cell_type": "code",
   "execution_count": 368,
   "metadata": {
    "hidden": true
   },
   "outputs": [
    {
     "data": {
      "image/png": "[encoded data removed]",
      "text/plain": [
       "8×24 Array{Gray{Float64},2} with eltype Gray{Float64}:\n",
       " Gray{Float64}(0.0)  Gray{Float64}(1.0)  …  Gray{Float64}(1.0)\n",
       " Gray{Float64}(0.5)  Gray{Float64}(0.0)     Gray{Float64}(1.0)\n",
       " Gray{Float64}(0.5)  Gray{Float64}(0.5)     Gray{Float64}(1.0)\n",
       " Gray{Float64}(0.5)  Gray{Float64}(0.5)     Gray{Float64}(1.0)\n",
       " Gray{Float64}(0.5)  Gray{Float64}(0.5)     Gray{Float64}(1.0)\n",
       " Gray{Float64}(0.5)  Gray{Float64}(0.5)  …  Gray{Float64}(1.0)\n",
       " Gray{Float64}(0.5)  Gray{Float64}(0.5)     Gray{Float64}(1.0)\n",
       " Gray{Float64}(0.5)  Gray{Float64}(0.5)     Gray{Float64}(1.0)"
      ]
     },
     "execution_count": 368,
     "metadata": {},
     "output_type": "execute_result"
    }
   ],
   "source": [
    "N = 8\n",
    "sB = tpow(sb, N)\n",
    "I = identityoperator(sB)\n",
    "site(i, op) = embed(sB, (i-1)%N + 1, op) # Periodic boundary\n",
    "acomm_tables(i -> site(i, sm))"
   ]
  },
  {
   "cell_type": "markdown",
   "metadata": {
    "hidden": true
   },
   "source": [
    "We now construct the transverse-field Ising Hamiltonian (Pfeuty)\n",
    "$$\n",
    "\\frac{\\ham}{\\Gamma}\n",
    "= - \\sum_i \\opr{S}_z^i\n",
    "- \\frac{J}{\\Gamma} \\sum_{i=1}^N \\opr{S}_i^x \\opr{S}_{i+1}^x ,\n",
    "$$\n",
    "where $2\\lambda = J / \\Gamma$."
   ]
  },
  {
   "cell_type": "code",
   "execution_count": 369,
   "metadata": {
    "ExecuteTime": {
     "end_time": "2020-09-28T14:35:28.645000-07:00",
     "start_time": "2020-09-28T21:32:42.137Z"
    },
    "hidden": true,
    "scrolled": true
   },
   "outputs": [],
   "source": [
    "λ = 0.5 # Pfeuty with Γ=1, so \n",
    "Hs = -sum(site(i, sz)/2 + 2λ*site(i, sx)*site(i+1, sx)/4 for i in 1:N);"
   ]
  },
  {
   "cell_type": "markdown",
   "metadata": {},
   "source": [
    "## Fermion definitions"
   ]
  },
  {
   "cell_type": "code",
   "execution_count": 370,
   "metadata": {},
   "outputs": [
    {
     "data": {
      "image/png": "[encoded data removed]",
      "text/plain": [
       "8×24 Array{Gray{Float64},2} with eltype Gray{Float64}:\n",
       " Gray{Float64}(0.0)  Gray{Float64}(1.0)  …  Gray{Float64}(1.0)\n",
       " Gray{Float64}(1.0)  Gray{Float64}(0.0)     Gray{Float64}(1.0)\n",
       " Gray{Float64}(1.0)  Gray{Float64}(1.0)     Gray{Float64}(1.0)\n",
       " Gray{Float64}(1.0)  Gray{Float64}(1.0)     Gray{Float64}(1.0)\n",
       " Gray{Float64}(1.0)  Gray{Float64}(1.0)     Gray{Float64}(1.0)\n",
       " Gray{Float64}(1.0)  Gray{Float64}(1.0)  …  Gray{Float64}(1.0)\n",
       " Gray{Float64}(1.0)  Gray{Float64}(1.0)     Gray{Float64}(1.0)\n",
       " Gray{Float64}(1.0)  Gray{Float64}(1.0)     Gray{Float64}(1.0)"
      ]
     },
     "execution_count": 370,
     "metadata": {},
     "output_type": "execute_result"
    }
   ],
   "source": [
    "k(m, N=N) = 2π*(m-1)/N - π*(N - (N%2))/N; # for m in 1:N\n",
    "function c(i) # for i in 1:N\n",
    "    i = (i-1)%N + 1 \n",
    "    A = -(i == 1\n",
    "        ? I\n",
    "        : prod(-site(j, sz) for j in 1:(i-1)))\n",
    "    A * site(i, sm)\n",
    "end\n",
    "ct(i) = dagger(c(i))\n",
    "acomm_tables(c)"
   ]
  },
  {
   "cell_type": "markdown",
   "metadata": {},
   "source": [
    "Verify that the inverse Jordan-Wigner transformation reproduces all the $\\pauli_i^x$:"
   ]
  },
  {
   "cell_type": "code",
   "execution_count": 371,
   "metadata": {},
   "outputs": [
    {
     "data": {
      "text/plain": [
       "1×8 Array{Float64,2}:\n",
       " 0.0  0.0  0.0  0.0  0.0  0.0  0.0  0.0"
      ]
     },
     "execution_count": 371,
     "metadata": {},
     "output_type": "execute_result"
    }
   ],
   "source": [
    "csx(i) = -(i == 1 ? I : prod(I - 2*ct(j)*c(j) for j in 1:(i-1))) * (ct(i) + c(i))\n",
    "[csx(i) - site(i, sx) for i in 1:N]' .|> trnorm"
   ]
  },
  {
   "cell_type": "markdown",
   "metadata": {},
   "source": [
    "The Jordan-Wigner transformed Hamiltonian:"
   ]
  },
  {
   "cell_type": "code",
   "execution_count": 372,
   "metadata": {},
   "outputs": [],
   "source": [
    "L = sum(ct(i)*c(i) for i in 1:N)\n",
    "Hend = (λ/2) * (ct(N) - c(N))*(ct(1) + c(1))*((sparse ∘ exp ∘ dense)(im*π*L) + I);\n",
    "Hc = I*(N/2) + Hend - sum(\n",
    "    ct(i)*c(i) + (λ/2) * (ct(i) - c(i))*(ct(i+1) + c(i+1))\n",
    "    for i in 1:N);"
   ]
  },
  {
   "cell_type": "code",
   "execution_count": 373,
   "metadata": {},
   "outputs": [
    {
     "data": {
      "text/plain": [
       "2.4308524276541633e-16"
      ]
     },
     "execution_count": 373,
     "metadata": {},
     "output_type": "execute_result"
    }
   ],
   "source": [
    "trnorm(Hs - Hc) / 2^N"
   ]
  },
  {
   "cell_type": "markdown",
   "metadata": {},
   "source": [
    "It looks like the trace norm of the boundary term relative to that of the whole Hamiltonian diminishes with increasing $N$. But does this imply that it may be dropped?"
   ]
  },
  {
   "cell_type": "code",
   "execution_count": 374,
   "metadata": {},
   "outputs": [
    {
     "data": {
      "text/plain": [
       "0.19610389063966407"
      ]
     },
     "execution_count": 374,
     "metadata": {},
     "output_type": "execute_result"
    }
   ],
   "source": [
    "trnorm(Hend) / trnorm(Hs)"
   ]
  },
  {
   "cell_type": "code",
   "execution_count": 375,
   "metadata": {},
   "outputs": [
    {
     "data": {
      "image/png": "[encoded data removed]",
      "text/plain": [
       "256×256 Array{Gray{Float64},2} with eltype Gray{Float64}:\n",
       " Gray{Float64}(-3.0)  Gray{Float64}(1.0)   …  Gray{Float64}(1.0)\n",
       " Gray{Float64}(1.0)   Gray{Float64}(-2.0)     Gray{Float64}(1.0)\n",
       " Gray{Float64}(1.0)   Gray{Float64}(0.75)     Gray{Float64}(1.0)\n",
       " Gray{Float64}(0.75)  Gray{Float64}(1.0)      Gray{Float64}(1.0)\n",
       " Gray{Float64}(1.0)   Gray{Float64}(1.0)      Gray{Float64}(1.0)\n",
       " Gray{Float64}(1.0)   Gray{Float64}(1.0)   …  Gray{Float64}(1.0)\n",
       " Gray{Float64}(0.75)  Gray{Float64}(1.0)      Gray{Float64}(1.0)\n",
       " Gray{Float64}(1.0)   Gray{Float64}(0.75)     Gray{Float64}(1.0)\n",
       " Gray{Float64}(1.0)   Gray{Float64}(1.0)      Gray{Float64}(1.0)\n",
       " Gray{Float64}(1.0)   Gray{Float64}(1.0)      Gray{Float64}(1.0)\n",
       " Gray{Float64}(1.0)   Gray{Float64}(1.0)   …  Gray{Float64}(1.0)\n",
       " Gray{Float64}(1.0)   Gray{Float64}(1.0)      Gray{Float64}(1.0)\n",
       " Gray{Float64}(0.75)  Gray{Float64}(1.0)      Gray{Float64}(1.0)\n",
       " ⋮                                         ⋱  ⋮\n",
       " Gray{Float64}(1.0)   Gray{Float64}(1.0)      Gray{Float64}(1.0)\n",
       " Gray{Float64}(1.0)   Gray{Float64}(1.0)   …  Gray{Float64}(1.0)\n",
       " Gray{Float64}(1.0)   Gray{Float64}(1.0)      Gray{Float64}(1.0)\n",
       " Gray{Float64}(1.0)   Gray{Float64}(1.0)      Gray{Float64}(1.0)\n",
       " Gray{Float64}(1.0)   Gray{Float64}(1.0)      Gray{Float64}(1.0)\n",
       " Gray{Float64}(1.0)   Gray{Float64}(1.0)      Gray{Float64}(0.75)\n",
       " Gray{Float64}(1.0)   Gray{Float64}(1.0)   …  Gray{Float64}(1.0)\n",
       " Gray{Float64}(1.0)   Gray{Float64}(1.0)      Gray{Float64}(1.0)\n",
       " Gray{Float64}(1.0)   Gray{Float64}(1.0)      Gray{Float64}(0.75)\n",
       " Gray{Float64}(1.0)   Gray{Float64}(1.0)      Gray{Float64}(1.0)\n",
       " Gray{Float64}(1.0)   Gray{Float64}(1.0)      Gray{Float64}(1.0)\n",
       " Gray{Float64}(1.0)   Gray{Float64}(1.0)   …  Gray{Float64}(-3.0)"
      ]
     },
     "execution_count": 375,
     "metadata": {},
     "output_type": "execute_result"
    }
   ],
   "source": [
    "matriximage(Hs - Hend)"
   ]
  },
  {
   "cell_type": "code",
   "execution_count": 376,
   "metadata": {},
   "outputs": [
    {
     "data": {
      "image/png": "[encoded data removed]",
      "text/plain": [
       "256×256 Array{Gray{Float64},2} with eltype Gray{Float64}:\n",
       " Gray{Float64}(1.0)  Gray{Float64}(1.0)  …  Gray{Float64}(1.0)\n",
       " Gray{Float64}(1.0)  Gray{Float64}(1.0)     Gray{Float64}(1.0)\n",
       " Gray{Float64}(1.0)  Gray{Float64}(1.0)     Gray{Float64}(1.0)\n",
       " Gray{Float64}(1.0)  Gray{Float64}(1.0)     Gray{Float64}(1.0)\n",
       " Gray{Float64}(1.0)  Gray{Float64}(1.0)     Gray{Float64}(1.0)\n",
       " Gray{Float64}(1.0)  Gray{Float64}(1.0)  …  Gray{Float64}(1.0)\n",
       " Gray{Float64}(1.0)  Gray{Float64}(1.0)     Gray{Float64}(1.0)\n",
       " Gray{Float64}(1.0)  Gray{Float64}(1.0)     Gray{Float64}(1.0)\n",
       " Gray{Float64}(1.0)  Gray{Float64}(1.0)     Gray{Float64}(1.0)\n",
       " Gray{Float64}(1.0)  Gray{Float64}(1.0)     Gray{Float64}(1.0)\n",
       " Gray{Float64}(1.0)  Gray{Float64}(1.0)  …  Gray{Float64}(1.0)\n",
       " Gray{Float64}(1.0)  Gray{Float64}(1.0)     Gray{Float64}(1.0)\n",
       " Gray{Float64}(1.0)  Gray{Float64}(1.0)     Gray{Float64}(1.0)\n",
       " ⋮                                       ⋱  ⋮\n",
       " Gray{Float64}(1.0)  Gray{Float64}(1.0)     Gray{Float64}(1.0)\n",
       " Gray{Float64}(1.0)  Gray{Float64}(1.0)  …  Gray{Float64}(1.0)\n",
       " Gray{Float64}(1.0)  Gray{Float64}(1.0)     Gray{Float64}(1.0)\n",
       " Gray{Float64}(1.0)  Gray{Float64}(1.0)     Gray{Float64}(1.0)\n",
       " Gray{Float64}(1.0)  Gray{Float64}(1.0)     Gray{Float64}(1.0)\n",
       " Gray{Float64}(1.0)  Gray{Float64}(1.0)     Gray{Float64}(1.0)\n",
       " Gray{Float64}(1.0)  Gray{Float64}(1.0)  …  Gray{Float64}(1.0)\n",
       " Gray{Float64}(1.0)  Gray{Float64}(1.0)     Gray{Float64}(1.0)\n",
       " Gray{Float64}(1.0)  Gray{Float64}(1.0)     Gray{Float64}(1.0)\n",
       " Gray{Float64}(1.0)  Gray{Float64}(1.0)     Gray{Float64}(1.0)\n",
       " Gray{Float64}(1.0)  Gray{Float64}(1.0)     Gray{Float64}(1.0)\n",
       " Gray{Float64}(1.0)  Gray{Float64}(1.0)  …  Gray{Float64}(1.0)"
      ]
     },
     "execution_count": 376,
     "metadata": {},
     "output_type": "execute_result"
    }
   ],
   "source": [
    "matriximage(Hend)"
   ]
  },
  {
   "cell_type": "code",
   "execution_count": 377,
   "metadata": {},
   "outputs": [
    {
     "data": {
      "text/plain": [
       "(0.0, 4.0)"
      ]
     },
     "execution_count": 377,
     "metadata": {},
     "output_type": "execute_result"
    }
   ],
   "source": [
    "Hs.data .|> abs |> extrema"
   ]
  },
  {
   "cell_type": "markdown",
   "metadata": {},
   "source": [
    "### Striff\n",
    "\n",
    "**Hyp:** The diagonalization of the Fourier-transformed fermion operator Hamiltonian is incorrect. Esp. for the negative eigenvalue."
   ]
  },
  {
   "cell_type": "markdown",
   "metadata": {},
   "source": [
    "My $\\lambda$ differs from Pfeuty's:"
   ]
  },
  {
   "cell_type": "code",
   "execution_count": 482,
   "metadata": {},
   "outputs": [
    {
     "data": {
      "text/plain": [
       "-2.0"
      ]
     },
     "execution_count": 482,
     "metadata": {},
     "output_type": "execute_result"
    }
   ],
   "source": [
    "λS = -1 / λ"
   ]
  },
  {
   "cell_type": "markdown",
   "metadata": {},
   "source": [
    "First, we define the Fourier-transformed fermion operators and verify that the corresponding Hamiltonian is correct."
   ]
  },
  {
   "cell_type": "code",
   "execution_count": 483,
   "metadata": {},
   "outputs": [],
   "source": [
    "C(k) = sum(exp(-im*k*i) * c(i) for i in 1:N) / √N\n",
    "Ct(k) = dagger(C(k))\n",
    "Hk(k) = [\n",
    "    λS - cos(k)  -im*sin(k)\n",
    "    im*sin(k)    cos(k) - λS\n",
    "]\n",
    "vk(k) = [C(k); Ct(-k)]\n",
    "vkt(k) = [Ct(k) C(-k)];"
   ]
  },
  {
   "cell_type": "code",
   "execution_count": 484,
   "metadata": {},
   "outputs": [
    {
     "data": {
      "image/png": "[encoded data removed]",
      "text/plain": [
       "8×24 Array{Gray{Float64},2} with eltype Gray{Float64}:\n",
       " Gray{Float64}(1.11022e-16)  …  Gray{Float64}(1.0)\n",
       " Gray{Float64}(1.0)             Gray{Float64}(1.0)\n",
       " Gray{Float64}(1.0)             Gray{Float64}(1.0)\n",
       " Gray{Float64}(1.0)             Gray{Float64}(1.0)\n",
       " Gray{Float64}(1.0)             Gray{Float64}(1.0)\n",
       " Gray{Float64}(1.0)          …  Gray{Float64}(1.0)\n",
       " Gray{Float64}(1.0)             Gray{Float64}(1.0)\n",
       " Gray{Float64}(1.0)             Gray{Float64}(1.0)"
      ]
     },
     "execution_count": 484,
     "metadata": {},
     "output_type": "execute_result"
    }
   ],
   "source": [
    "acomm_tables(C∘k)"
   ]
  },
  {
   "cell_type": "code",
   "execution_count": 485,
   "metadata": {},
   "outputs": [
    {
     "data": {
      "image/png": "[encoded data removed]",
      "text/plain": [
       "256×256 Array{Gray{Float64},2} with eltype Gray{Float64}:\n",
       " Gray{Float64}(-3.0)  Gray{Float64}(1.0)   …  Gray{Float64}(1.0)\n",
       " Gray{Float64}(1.0)   Gray{Float64}(-2.0)     Gray{Float64}(1.0)\n",
       " Gray{Float64}(1.0)   Gray{Float64}(0.75)     Gray{Float64}(1.0)\n",
       " Gray{Float64}(0.75)  Gray{Float64}(1.0)      Gray{Float64}(1.0)\n",
       " Gray{Float64}(1.0)   Gray{Float64}(1.0)      Gray{Float64}(1.0)\n",
       " Gray{Float64}(1.0)   Gray{Float64}(1.0)   …  Gray{Float64}(1.0)\n",
       " Gray{Float64}(0.75)  Gray{Float64}(1.0)      Gray{Float64}(1.0)\n",
       " Gray{Float64}(1.0)   Gray{Float64}(0.75)     Gray{Float64}(1.0)\n",
       " Gray{Float64}(1.0)   Gray{Float64}(1.0)      Gray{Float64}(1.0)\n",
       " Gray{Float64}(1.0)   Gray{Float64}(1.0)      Gray{Float64}(1.0)\n",
       " Gray{Float64}(1.0)   Gray{Float64}(1.0)   …  Gray{Float64}(1.0)\n",
       " Gray{Float64}(1.0)   Gray{Float64}(1.0)      Gray{Float64}(1.0)\n",
       " Gray{Float64}(0.75)  Gray{Float64}(1.0)      Gray{Float64}(1.0)\n",
       " ⋮                                         ⋱  ⋮\n",
       " Gray{Float64}(1.0)   Gray{Float64}(1.0)      Gray{Float64}(1.0)\n",
       " Gray{Float64}(1.0)   Gray{Float64}(1.0)   …  Gray{Float64}(1.0)\n",
       " Gray{Float64}(1.0)   Gray{Float64}(1.0)      Gray{Float64}(1.0)\n",
       " Gray{Float64}(1.0)   Gray{Float64}(1.0)      Gray{Float64}(1.0)\n",
       " Gray{Float64}(1.0)   Gray{Float64}(1.0)      Gray{Float64}(1.0)\n",
       " Gray{Float64}(1.0)   Gray{Float64}(1.0)      Gray{Float64}(0.75)\n",
       " Gray{Float64}(1.0)   Gray{Float64}(1.0)   …  Gray{Float64}(1.0)\n",
       " Gray{Float64}(1.0)   Gray{Float64}(1.0)      Gray{Float64}(1.0)\n",
       " Gray{Float64}(1.0)   Gray{Float64}(1.0)      Gray{Float64}(0.75)\n",
       " Gray{Float64}(1.0)   Gray{Float64}(1.0)      Gray{Float64}(1.0)\n",
       " Gray{Float64}(1.0)   Gray{Float64}(1.0)      Gray{Float64}(1.0)\n",
       " Gray{Float64}(1.0)   Gray{Float64}(1.0)   …  Gray{Float64}(-3.0)"
      ]
     },
     "execution_count": 485,
     "metadata": {},
     "output_type": "execute_result"
    }
   ],
   "source": [
    "HC = sum((vkt(k(m))*Hk(k(m))*vk(k(m)))[1] for m in 1:N) / 4 # factor?\n",
    "matriximage(HC)"
   ]
  },
  {
   "cell_type": "code",
   "execution_count": 486,
   "metadata": {},
   "outputs": [
    {
     "data": {
      "text/plain": [
       "(0.0, 3.9999999999999996)"
      ]
     },
     "execution_count": 486,
     "metadata": {},
     "output_type": "execute_result"
    }
   ],
   "source": [
    "HC.data .|> abs |> extrema"
   ]
  },
  {
   "cell_type": "code",
   "execution_count": 500,
   "metadata": {},
   "outputs": [
    {
     "data": {
      "text/plain": [
       "(4.630581115863444e-16, 0.2500000000000001)"
      ]
     },
     "execution_count": 500,
     "metadata": {},
     "output_type": "execute_result"
    }
   ],
   "source": [
    "(trnorm((Hs - Hend) - HC), trnorm(Hs - HC)) ./ 2^N"
   ]
  },
  {
   "cell_type": "markdown",
   "metadata": {},
   "source": [
    "Now, we define $E_k$ and the operators $\\opr{\\eta}_k = \\opr{\\eta}_k^+$."
   ]
  },
  {
   "cell_type": "code",
   "execution_count": 488,
   "metadata": {},
   "outputs": [
    {
     "data": {
      "image/png": "[encoded data removed]",
      "text/plain": [
       "8×24 Array{Gray{Float64},2} with eltype Gray{Float64}:\n",
       " Gray{Float64}(1.11022e-16)  …  Gray{Float64}(1.0)\n",
       " Gray{Float64}(1.0)             Gray{Float64}(1.0)\n",
       " Gray{Float64}(1.0)             Gray{Float64}(1.0)\n",
       " Gray{Float64}(1.0)             Gray{Float64}(1.0)\n",
       " Gray{Float64}(1.0)             Gray{Float64}(1.0)\n",
       " Gray{Float64}(1.0)          …  Gray{Float64}(1.0)\n",
       " Gray{Float64}(1.0)             Gray{Float64}(1.0)\n",
       " Gray{Float64}(1.0)             Gray{Float64}(1.0)"
      ]
     },
     "execution_count": 488,
     "metadata": {},
     "output_type": "execute_result"
    }
   ],
   "source": [
    "E(m, N=N) = √(λS^2 - 2λS*cos(k(m, N)) + 1)\n",
    "aS(m) = ((N%2 == 0 && m == 1) || m == 1 + floor(N//2) ? 0 :\n",
    "    -im*sin(k(m)) / √(2E(m)*(E(m) + cos(k(m)) - λS)))\n",
    "bS(m) = ((N%2 == 0 && m == 1) || m == 1 + floor(N//2) ? 1 :\n",
    "    √((E(m) + cos(k(m)) - λS) / (2E(m))))\n",
    "ηS(m) = aS(m)*C(k(m)) + bS(m)*Ct(-k(m))\n",
    "ηSt(m) = dagger(ηS(m))\n",
    "acomm_tables(ηS)"
   ]
  },
  {
   "cell_type": "markdown",
   "metadata": {},
   "source": [
    "We'll also try with the form that includes $\\opr{\\eta}_k^-$, too."
   ]
  },
  {
   "cell_type": "code",
   "execution_count": 554,
   "metadata": {},
   "outputs": [
    {
     "data": {
      "image/png": "[encoded data removed]",
      "text/plain": [
       "8×24 Array{Gray{Float64},2} with eltype Gray{Float64}:\n",
       " Gray{Float64}(1.11022e-16)  Gray{Float64}(1.0)  …  Gray{Float64}(1.0)\n",
       " Gray{Float64}(1.0)          Gray{Float64}(0.0)     Gray{Float64}(1.0)\n",
       " Gray{Float64}(1.0)          Gray{Float64}(1.0)     Gray{Float64}(1.0)\n",
       " Gray{Float64}(1.0)          Gray{Float64}(1.0)     Gray{Float64}(1.0)\n",
       " Gray{Float64}(1.0)          Gray{Float64}(1.0)     Gray{Float64}(1.0)\n",
       " Gray{Float64}(1.0)          Gray{Float64}(1.0)  …  Gray{Float64}(1.0)\n",
       " Gray{Float64}(1.0)          Gray{Float64}(1.0)     Gray{Float64}(1.0)\n",
       " Gray{Float64}(1.0)          Gray{Float64}(1.0)     Gray{Float64}(1.0)"
      ]
     },
     "execution_count": 554,
     "metadata": {},
     "output_type": "execute_result"
    }
   ],
   "source": [
    "amS(m) = ((N%2 == 0 && m == 1) || m == 1 + floor(N//2) ? 0 :\n",
    "    -im*sin(k(m)) / √(2E(m)*(E(m) - cos(k(m)) + λS)))\n",
    "bmS(m) = -((N%2 == 0 && m == 1) || m == 1 + floor(N//2) ? 1 :\n",
    "    √((E(m) - cos(k(m)) + λS) / (2E(m))))\n",
    "ηmS(m) = amS(m)*C(k(m)) + bmS(m)*Ct(-k(m))\n",
    "ηmSt(m) = dagger(ηmS(m))\n",
    "acomm_tables(ηmS)"
   ]
  },
  {
   "cell_type": "markdown",
   "metadata": {},
   "source": [
    "Check if the Striff $\\opr{\\eta}_k^\\pm$ Hamiltonian is correct:"
   ]
  },
  {
   "cell_type": "code",
   "execution_count": 490,
   "metadata": {},
   "outputs": [
    {
     "data": {
      "image/png": "[encoded data removed]",
      "text/plain": [
       "256×256 Array{Gray{Float64},2} with eltype Gray{Float64}:\n",
       " Gray{Float64}(-3.0)      Gray{Float64}(1.0)       …  Gray{Float64}(1.0)\n",
       " Gray{Float64}(1.0)       Gray{Float64}(-2.0)         Gray{Float64}(1.0)\n",
       " Gray{Float64}(1.0)       Gray{Float64}(0.833333)     Gray{Float64}(1.0)\n",
       " Gray{Float64}(0.666667)  Gray{Float64}(1.0)          Gray{Float64}(1.0)\n",
       " Gray{Float64}(1.0)       Gray{Float64}(0.666667)     Gray{Float64}(1.0)\n",
       " Gray{Float64}(1.0)       Gray{Float64}(1.0)       …  Gray{Float64}(1.0)\n",
       " Gray{Float64}(0.666667)  Gray{Float64}(1.0)          Gray{Float64}(1.0)\n",
       " Gray{Float64}(1.0)       Gray{Float64}(0.666667)     Gray{Float64}(1.0)\n",
       " Gray{Float64}(1.0)       Gray{Float64}(0.833333)     Gray{Float64}(1.0)\n",
       " Gray{Float64}(1.0)       Gray{Float64}(1.0)          Gray{Float64}(1.0)\n",
       " Gray{Float64}(1.0)       Gray{Float64}(1.0)       …  Gray{Float64}(1.0)\n",
       " Gray{Float64}(1.0)       Gray{Float64}(1.0)          Gray{Float64}(1.0)\n",
       " Gray{Float64}(0.666667)  Gray{Float64}(1.0)          Gray{Float64}(1.0)\n",
       " ⋮                                                 ⋱  ⋮\n",
       " Gray{Float64}(1.0)       Gray{Float64}(1.0)          Gray{Float64}(1.0)\n",
       " Gray{Float64}(1.0)       Gray{Float64}(1.0)       …  Gray{Float64}(1.0)\n",
       " Gray{Float64}(1.0)       Gray{Float64}(1.0)          Gray{Float64}(1.0)\n",
       " Gray{Float64}(1.0)       Gray{Float64}(1.0)          Gray{Float64}(1.0)\n",
       " Gray{Float64}(1.0)       Gray{Float64}(1.0)          Gray{Float64}(1.0)\n",
       " Gray{Float64}(1.0)       Gray{Float64}(1.0)          Gray{Float64}(0.666667)\n",
       " Gray{Float64}(1.0)       Gray{Float64}(1.0)       …  Gray{Float64}(1.0)\n",
       " Gray{Float64}(1.0)       Gray{Float64}(1.0)          Gray{Float64}(1.0)\n",
       " Gray{Float64}(1.0)       Gray{Float64}(1.0)          Gray{Float64}(0.666667)\n",
       " Gray{Float64}(1.0)       Gray{Float64}(1.0)          Gray{Float64}(1.0)\n",
       " Gray{Float64}(1.0)       Gray{Float64}(1.0)          Gray{Float64}(1.0)\n",
       " Gray{Float64}(1.0)       Gray{Float64}(1.0)       …  Gray{Float64}(-3.0)"
      ]
     },
     "execution_count": 490,
     "metadata": {},
     "output_type": "execute_result"
    }
   ],
   "source": [
    "HηpmS = (1/3) * (sum(E(m)*ηSt(m)*ηS(m) for m in 1:N) - sum(E(m)*ηmSt(m)*ηmS(m) for m in 1:N)) # factor?\n",
    "matriximage(HηpmS)"
   ]
  },
  {
   "cell_type": "code",
   "execution_count": 491,
   "metadata": {},
   "outputs": [
    {
     "data": {
      "text/plain": [
       "(0.0, 3.999999999999999)"
      ]
     },
     "execution_count": 491,
     "metadata": {},
     "output_type": "execute_result"
    }
   ],
   "source": [
    "HηpmS.data .|> abs |> extrema"
   ]
  },
  {
   "cell_type": "code",
   "execution_count": 492,
   "metadata": {},
   "outputs": [
    {
     "data": {
      "text/plain": [
       "(1.1933452587283473, 1.1878736812244224)"
      ]
     },
     "execution_count": 492,
     "metadata": {},
     "output_type": "execute_result"
    }
   ],
   "source": [
    "(trnorm((Hs - Hend) - HηpmS), trnorm(Hs - HηpmS)) ./ 2^N"
   ]
  },
  {
   "cell_type": "code",
   "execution_count": 499,
   "metadata": {},
   "outputs": [
    {
     "data": {
      "image/png": "[encoded data removed]",
      "text/plain": [
       "256×256 Array{Gray{Float64},2} with eltype Gray{Float64}:\n",
       " Gray{Float64}(1.0)       Gray{Float64}(1.0)       …  Gray{Float64}(1.0)\n",
       " Gray{Float64}(1.0)       Gray{Float64}(1.0)          Gray{Float64}(1.0)\n",
       " Gray{Float64}(1.0)       Gray{Float64}(0.916667)     Gray{Float64}(1.0)\n",
       " Gray{Float64}(0.416667)  Gray{Float64}(1.0)          Gray{Float64}(1.0)\n",
       " Gray{Float64}(1.0)       Gray{Float64}(0.666667)     Gray{Float64}(1.0)\n",
       " Gray{Float64}(1.0)       Gray{Float64}(1.0)       …  Gray{Float64}(1.0)\n",
       " Gray{Float64}(0.416667)  Gray{Float64}(1.0)          Gray{Float64}(1.0)\n",
       " Gray{Float64}(1.0)       Gray{Float64}(0.416667)     Gray{Float64}(1.0)\n",
       " Gray{Float64}(1.0)       Gray{Float64}(0.833333)     Gray{Float64}(1.0)\n",
       " Gray{Float64}(1.0)       Gray{Float64}(1.0)          Gray{Float64}(1.0)\n",
       " Gray{Float64}(1.0)       Gray{Float64}(1.0)       …  Gray{Float64}(1.0)\n",
       " Gray{Float64}(1.0)       Gray{Float64}(1.0)          Gray{Float64}(1.0)\n",
       " Gray{Float64}(0.416667)  Gray{Float64}(1.0)          Gray{Float64}(1.0)\n",
       " ⋮                                                 ⋱  ⋮\n",
       " Gray{Float64}(1.0)       Gray{Float64}(1.0)          Gray{Float64}(1.0)\n",
       " Gray{Float64}(1.0)       Gray{Float64}(1.0)       …  Gray{Float64}(1.0)\n",
       " Gray{Float64}(1.0)       Gray{Float64}(1.0)          Gray{Float64}(1.0)\n",
       " Gray{Float64}(1.0)       Gray{Float64}(1.0)          Gray{Float64}(1.0)\n",
       " Gray{Float64}(1.0)       Gray{Float64}(1.0)          Gray{Float64}(1.0)\n",
       " Gray{Float64}(1.0)       Gray{Float64}(1.0)          Gray{Float64}(0.416667)\n",
       " Gray{Float64}(1.0)       Gray{Float64}(1.0)       …  Gray{Float64}(1.0)\n",
       " Gray{Float64}(1.0)       Gray{Float64}(1.0)          Gray{Float64}(1.0)\n",
       " Gray{Float64}(1.0)       Gray{Float64}(1.0)          Gray{Float64}(0.416667)\n",
       " Gray{Float64}(1.0)       Gray{Float64}(1.0)          Gray{Float64}(1.0)\n",
       " Gray{Float64}(1.0)       Gray{Float64}(1.0)          Gray{Float64}(1.0)\n",
       " Gray{Float64}(1.0)       Gray{Float64}(1.0)       …  Gray{Float64}(1.0)"
      ]
     },
     "execution_count": 499,
     "metadata": {},
     "output_type": "execute_result"
    }
   ],
   "source": [
    "(Hs - Hend) - HηpmS |> matriximage"
   ]
  },
  {
   "cell_type": "markdown",
   "metadata": {},
   "source": [
    "Check if the Striff $\\opr{\\eta}_k$ Hamiltonian is correct:"
   ]
  },
  {
   "cell_type": "code",
   "execution_count": 493,
   "metadata": {},
   "outputs": [
    {
     "data": {
      "image/png": "[encoded data removed]",
      "text/plain": [
       "256×256 Array{Gray{Float64},2} with eltype Gray{Float64}:\n",
       " Gray{Float64}(-3.0)  Gray{Float64}(1.0)   …  Gray{Float64}(1.0)\n",
       " Gray{Float64}(1.0)   Gray{Float64}(-2.0)     Gray{Float64}(1.0)\n",
       " Gray{Float64}(1.0)   Gray{Float64}(0.75)     Gray{Float64}(1.0)\n",
       " Gray{Float64}(0.75)  Gray{Float64}(1.0)      Gray{Float64}(1.0)\n",
       " Gray{Float64}(1.0)   Gray{Float64}(1.0)      Gray{Float64}(1.0)\n",
       " Gray{Float64}(1.0)   Gray{Float64}(1.0)   …  Gray{Float64}(1.0)\n",
       " Gray{Float64}(0.75)  Gray{Float64}(1.0)      Gray{Float64}(1.0)\n",
       " Gray{Float64}(1.0)   Gray{Float64}(0.75)     Gray{Float64}(1.0)\n",
       " Gray{Float64}(1.0)   Gray{Float64}(1.0)      Gray{Float64}(1.0)\n",
       " Gray{Float64}(1.0)   Gray{Float64}(1.0)      Gray{Float64}(1.0)\n",
       " Gray{Float64}(1.0)   Gray{Float64}(1.0)   …  Gray{Float64}(1.0)\n",
       " Gray{Float64}(1.0)   Gray{Float64}(1.0)      Gray{Float64}(1.0)\n",
       " Gray{Float64}(0.75)  Gray{Float64}(1.0)      Gray{Float64}(1.0)\n",
       " ⋮                                         ⋱  ⋮\n",
       " Gray{Float64}(1.0)   Gray{Float64}(1.0)      Gray{Float64}(1.0)\n",
       " Gray{Float64}(1.0)   Gray{Float64}(1.0)   …  Gray{Float64}(1.0)\n",
       " Gray{Float64}(1.0)   Gray{Float64}(1.0)      Gray{Float64}(1.0)\n",
       " Gray{Float64}(1.0)   Gray{Float64}(1.0)      Gray{Float64}(1.0)\n",
       " Gray{Float64}(1.0)   Gray{Float64}(1.0)      Gray{Float64}(1.0)\n",
       " Gray{Float64}(1.0)   Gray{Float64}(1.0)      Gray{Float64}(0.75)\n",
       " Gray{Float64}(1.0)   Gray{Float64}(1.0)   …  Gray{Float64}(1.0)\n",
       " Gray{Float64}(1.0)   Gray{Float64}(1.0)      Gray{Float64}(1.0)\n",
       " Gray{Float64}(1.0)   Gray{Float64}(1.0)      Gray{Float64}(0.75)\n",
       " Gray{Float64}(1.0)   Gray{Float64}(1.0)      Gray{Float64}(1.0)\n",
       " Gray{Float64}(1.0)   Gray{Float64}(1.0)      Gray{Float64}(1.0)\n",
       " Gray{Float64}(1.0)   Gray{Float64}(1.0)   …  Gray{Float64}(-3.0)"
      ]
     },
     "execution_count": 493,
     "metadata": {},
     "output_type": "execute_result"
    }
   ],
   "source": [
    "E0S = -sum(E(m) for m in 1:N) / 2;\n",
    "HηS = (1/2)*(sum(E(m)*ηSt(m)*ηS(m) for m in 1:N) + E0S*I) # factor?\n",
    "matriximage(HηS)"
   ]
  },
  {
   "cell_type": "code",
   "execution_count": 494,
   "metadata": {},
   "outputs": [
    {
     "data": {
      "text/plain": [
       "(0.0, 3.9999999999999996)"
      ]
     },
     "execution_count": 494,
     "metadata": {},
     "output_type": "execute_result"
    }
   ],
   "source": [
    "HηS.data .|> abs |> extrema"
   ]
  },
  {
   "cell_type": "code",
   "execution_count": 495,
   "metadata": {},
   "outputs": [
    {
     "data": {
      "text/plain": [
       "(0.7910533905932737, 0.802127402334464)"
      ]
     },
     "execution_count": 495,
     "metadata": {},
     "output_type": "execute_result"
    }
   ],
   "source": [
    "(trnorm((Hs - Hend) - HηS), trnorm(Hs - HηS)) ./ 2^N"
   ]
  },
  {
   "cell_type": "code",
   "execution_count": 498,
   "metadata": {},
   "outputs": [
    {
     "data": {
      "image/png": "[encoded data removed]",
      "text/plain": [
       "256×256 Array{Gray{Float64},2} with eltype Gray{Float64}:\n",
       " Gray{Float64}(1.0)  Gray{Float64}(1.0)  …  Gray{Float64}(1.0)\n",
       " Gray{Float64}(1.0)  Gray{Float64}(1.0)     Gray{Float64}(1.0)\n",
       " Gray{Float64}(1.0)  Gray{Float64}(1.0)     Gray{Float64}(1.0)\n",
       " Gray{Float64}(0.5)  Gray{Float64}(1.0)     Gray{Float64}(1.0)\n",
       " Gray{Float64}(1.0)  Gray{Float64}(1.0)     Gray{Float64}(1.0)\n",
       " Gray{Float64}(1.0)  Gray{Float64}(1.0)  …  Gray{Float64}(1.0)\n",
       " Gray{Float64}(0.5)  Gray{Float64}(1.0)     Gray{Float64}(1.0)\n",
       " Gray{Float64}(1.0)  Gray{Float64}(0.5)     Gray{Float64}(1.0)\n",
       " Gray{Float64}(1.0)  Gray{Float64}(1.0)     Gray{Float64}(1.0)\n",
       " Gray{Float64}(1.0)  Gray{Float64}(1.0)     Gray{Float64}(1.0)\n",
       " Gray{Float64}(1.0)  Gray{Float64}(1.0)  …  Gray{Float64}(1.0)\n",
       " Gray{Float64}(1.0)  Gray{Float64}(1.0)     Gray{Float64}(1.0)\n",
       " Gray{Float64}(0.5)  Gray{Float64}(1.0)     Gray{Float64}(1.0)\n",
       " ⋮                                       ⋱  ⋮\n",
       " Gray{Float64}(1.0)  Gray{Float64}(1.0)     Gray{Float64}(1.0)\n",
       " Gray{Float64}(1.0)  Gray{Float64}(1.0)  …  Gray{Float64}(1.0)\n",
       " Gray{Float64}(1.0)  Gray{Float64}(1.0)     Gray{Float64}(1.0)\n",
       " Gray{Float64}(1.0)  Gray{Float64}(1.0)     Gray{Float64}(1.0)\n",
       " Gray{Float64}(1.0)  Gray{Float64}(1.0)     Gray{Float64}(1.0)\n",
       " Gray{Float64}(1.0)  Gray{Float64}(1.0)     Gray{Float64}(0.5)\n",
       " Gray{Float64}(1.0)  Gray{Float64}(1.0)  …  Gray{Float64}(1.0)\n",
       " Gray{Float64}(1.0)  Gray{Float64}(1.0)     Gray{Float64}(1.0)\n",
       " Gray{Float64}(1.0)  Gray{Float64}(1.0)     Gray{Float64}(0.5)\n",
       " Gray{Float64}(1.0)  Gray{Float64}(1.0)     Gray{Float64}(1.0)\n",
       " Gray{Float64}(1.0)  Gray{Float64}(1.0)     Gray{Float64}(1.0)\n",
       " Gray{Float64}(1.0)  Gray{Float64}(1.0)  …  Gray{Float64}(1.0)"
      ]
     },
     "execution_count": 498,
     "metadata": {},
     "output_type": "execute_result"
    }
   ],
   "source": [
    "(Hs - Hend) - HηS |> matriximage"
   ]
  },
  {
   "cell_type": "markdown",
   "metadata": {},
   "source": [
    "Solve for the $\\opr{\\eta}_k^\\pm$:"
   ]
  },
  {
   "cell_type": "code",
   "execution_count": 737,
   "metadata": {},
   "outputs": [
    {
     "data": {
      "image/png": "[encoded data removed]",
      "text/plain": [
       "8×24 Array{Gray{Float64},2} with eltype Gray{Float64}:\n",
       " Gray{Float64}(1.11022e-16)  …  Gray{Float64}(1.0)\n",
       " Gray{Float64}(1.0)             Gray{Float64}(1.0)\n",
       " Gray{Float64}(1.0)             Gray{Float64}(1.0)\n",
       " Gray{Float64}(1.0)             Gray{Float64}(1.0)\n",
       " Gray{Float64}(1.0)             Gray{Float64}(1.0)\n",
       " Gray{Float64}(1.0)          …  Gray{Float64}(1.0)\n",
       " Gray{Float64}(1.0)             Gray{Float64}(1.0)\n",
       " Gray{Float64}(1.0)             Gray{Float64}(1.0)"
      ]
     },
     "execution_count": 737,
     "metadata": {},
     "output_type": "execute_result"
    }
   ],
   "source": [
    "Heigs = [eigen(Hk(k(m))) for m in 1:N]\n",
    "EC(m) = Heigs[m].values[2] # Positive energy\n",
    "# ηC(m) = ([C(k(m)) Ct(-k(m))] * Heigs[m].vectors[:,2])[1]\n",
    "# ηmC(m) = ([C(k(m)) Ct(-k(m))] * Heigs[m].vectors[:,1])[1]\n",
    "ηC(m)  = (Heigs[m].vectors)'[1,2] * C(k(m)) + (Heigs[m].vectors)'[2,2] * Ct(-k(m))\n",
    "ηmC(m) = (Heigs[m].vectors)'[1,1] * C(k(m)) + (Heigs[m].vectors)'[2,1] * Ct(-k(m))\n",
    "ηCt(m)  = dagger(ηC(m))\n",
    "ηmCt(m) = dagger(ηmC(m))\n",
    "acomm_tables(ηC)"
   ]
  },
  {
   "cell_type": "code",
   "execution_count": 738,
   "metadata": {},
   "outputs": [
    {
     "data": {
      "image/png": "[encoded data removed]",
      "text/plain": [
       "8×24 Array{Gray{Float64},2} with eltype Gray{Float64}:\n",
       " Gray{Float64}(1.11022e-16)  …  Gray{Float64}(1.0)\n",
       " Gray{Float64}(1.0)             Gray{Float64}(1.0)\n",
       " Gray{Float64}(1.0)             Gray{Float64}(1.0)\n",
       " Gray{Float64}(1.0)             Gray{Float64}(1.0)\n",
       " Gray{Float64}(1.0)             Gray{Float64}(1.0)\n",
       " Gray{Float64}(1.0)          …  Gray{Float64}(1.0)\n",
       " Gray{Float64}(1.0)             Gray{Float64}(1.0)\n",
       " Gray{Float64}(1.0)             Gray{Float64}(1.0)"
      ]
     },
     "execution_count": 738,
     "metadata": {},
     "output_type": "execute_result"
    }
   ],
   "source": [
    "acomm_tables(ηmC)"
   ]
  },
  {
   "cell_type": "code",
   "execution_count": 739,
   "metadata": {},
   "outputs": [
    {
     "data": {
      "text/plain": [
       "1×8 Array{Float64,2}:\n",
       " 7.83774e-15  44.8265  41.5897  23.062  0.0  23.062  41.5897  44.8265"
      ]
     },
     "execution_count": 739,
     "metadata": {},
     "output_type": "execute_result"
    }
   ],
   "source": [
    "[ηC(m) - ηS(m) for m in 1:N]' .|> trnorm"
   ]
  },
  {
   "cell_type": "code",
   "execution_count": 740,
   "metadata": {},
   "outputs": [
    {
     "data": {
      "text/plain": [
       "1×8 Array{Float64,2}:\n",
       " 256.0  44.8265  41.5897  23.062  256.0  254.959  252.599  252.045"
      ]
     },
     "execution_count": 740,
     "metadata": {},
     "output_type": "execute_result"
    }
   ],
   "source": [
    "[ηmC(m) - ηmS(m) for m in 1:N]' .|> trnorm"
   ]
  },
  {
   "cell_type": "code",
   "execution_count": 741,
   "metadata": {},
   "outputs": [
    {
     "data": {
      "image/png": "[encoded data removed]",
      "text/plain": [
       "256×256 Array{Gray{Float64},2} with eltype Gray{Float64}:\n",
       " Gray{Float64}(-3.0)  Gray{Float64}(1.0)   …  Gray{Float64}(1.0)\n",
       " Gray{Float64}(1.0)   Gray{Float64}(-2.0)     Gray{Float64}(1.0)\n",
       " Gray{Float64}(1.0)   Gray{Float64}(0.75)     Gray{Float64}(1.0)\n",
       " Gray{Float64}(0.75)  Gray{Float64}(1.0)      Gray{Float64}(1.0)\n",
       " Gray{Float64}(1.0)   Gray{Float64}(1.0)      Gray{Float64}(1.0)\n",
       " Gray{Float64}(1.0)   Gray{Float64}(1.0)   …  Gray{Float64}(1.0)\n",
       " Gray{Float64}(0.75)  Gray{Float64}(1.0)      Gray{Float64}(1.0)\n",
       " Gray{Float64}(1.0)   Gray{Float64}(0.75)     Gray{Float64}(1.0)\n",
       " Gray{Float64}(1.0)   Gray{Float64}(1.0)      Gray{Float64}(1.0)\n",
       " Gray{Float64}(1.0)   Gray{Float64}(1.0)      Gray{Float64}(1.0)\n",
       " Gray{Float64}(1.0)   Gray{Float64}(1.0)   …  Gray{Float64}(1.0)\n",
       " Gray{Float64}(1.0)   Gray{Float64}(1.0)      Gray{Float64}(1.0)\n",
       " Gray{Float64}(0.75)  Gray{Float64}(1.0)      Gray{Float64}(1.0)\n",
       " ⋮                                         ⋱  ⋮\n",
       " Gray{Float64}(1.0)   Gray{Float64}(1.0)      Gray{Float64}(1.0)\n",
       " Gray{Float64}(1.0)   Gray{Float64}(1.0)   …  Gray{Float64}(1.0)\n",
       " Gray{Float64}(1.0)   Gray{Float64}(1.0)      Gray{Float64}(1.0)\n",
       " Gray{Float64}(1.0)   Gray{Float64}(1.0)      Gray{Float64}(1.0)\n",
       " Gray{Float64}(1.0)   Gray{Float64}(1.0)      Gray{Float64}(1.0)\n",
       " Gray{Float64}(1.0)   Gray{Float64}(1.0)      Gray{Float64}(0.75)\n",
       " Gray{Float64}(1.0)   Gray{Float64}(1.0)   …  Gray{Float64}(1.0)\n",
       " Gray{Float64}(1.0)   Gray{Float64}(1.0)      Gray{Float64}(1.0)\n",
       " Gray{Float64}(1.0)   Gray{Float64}(1.0)      Gray{Float64}(0.75)\n",
       " Gray{Float64}(1.0)   Gray{Float64}(1.0)      Gray{Float64}(1.0)\n",
       " Gray{Float64}(1.0)   Gray{Float64}(1.0)      Gray{Float64}(1.0)\n",
       " Gray{Float64}(1.0)   Gray{Float64}(1.0)   …  Gray{Float64}(-3.0)"
      ]
     },
     "execution_count": 741,
     "metadata": {},
     "output_type": "execute_result"
    }
   ],
   "source": [
    "HηC = sum(EC(m) * (ηCt(m)*ηC(m) - ηmCt(m)*ηmC(m)) for m in 1:N) / 4 # factor? (prop. from C)\n",
    "matriximage(HηC)"
   ]
  },
  {
   "cell_type": "code",
   "execution_count": 742,
   "metadata": {},
   "outputs": [
    {
     "data": {
      "text/plain": [
       "(0.0, 3.999999999999999)"
      ]
     },
     "execution_count": 742,
     "metadata": {},
     "output_type": "execute_result"
    }
   ],
   "source": [
    "HηC.data .|> abs |> extrema"
   ]
  },
  {
   "cell_type": "code",
   "execution_count": 743,
   "metadata": {},
   "outputs": [
    {
     "data": {
      "text/plain": [
       "(0.5593592167691146, 0.6017922181450926)"
      ]
     },
     "execution_count": 743,
     "metadata": {},
     "output_type": "execute_result"
    }
   ],
   "source": [
    "(trnorm((Hs - Hend) - HηC), trnorm(Hs - HηC)) ./ 2^N"
   ]
  },
  {
   "cell_type": "markdown",
   "metadata": {},
   "source": [
    "We may now construct the vacuum state from the sum of number operators."
   ]
  },
  {
   "cell_type": "code",
   "execution_count": 497,
   "metadata": {},
   "outputs": [
    {
     "data": {
      "text/plain": [
       "5.110974530065956e-16"
      ]
     },
     "execution_count": 497,
     "metadata": {},
     "output_type": "execute_result"
    }
   ],
   "source": [
    "NηS = sum(ηSt(m)*ηS(m) for m in 1:N)\n",
    "vacS = eigenstates(NηS, 1, info=false)[2][1] # Indices select first eigenstate\n",
    "((ηSt(1)*ηS(1) + ηSt(2)*ηS(2)) - 2*I) * (ηSt(1) * ηSt(2) * vacS) |> norm"
   ]
  },
  {
   "cell_type": "markdown",
   "metadata": {},
   "source": [
    "### Pfeuty"
   ]
  },
  {
   "cell_type": "markdown",
   "metadata": {},
   "source": [
    "Pfeuty: $\\eta$'s do not satisfy the CARs? Typo, or **problem**?"
   ]
  },
  {
   "cell_type": "code",
   "execution_count": 393,
   "metadata": {},
   "outputs": [],
   "source": [
    "Λ(m) = √(λ^2 + 2λ*cos(k(m)) + 1)\n",
    "ϕ(k, i) = √(2/N) * (k > 0 ? sin(k*i) : cos(k*i))\n",
    "ψ(k, i) = -((1 + λ*cos(k))*ϕ(k, i) + λ*sin(k)*ϕ(-k, i)) / Λ(k)\n",
    "a(m, i) = (ϕ(k(m), i) + ψ(k(m), i)) / 2\n",
    "b(m, i) = (ϕ(k(m), i) - ψ(k(m), i)) / 2\n",
    "η(m) = sum(a(m, i)*c(i) + b(m, i)*ct(i) for i in 1:N)\n",
    "ηt(m) = dagger(η(m));"
   ]
  },
  {
   "cell_type": "code",
   "execution_count": 394,
   "metadata": {},
   "outputs": [
    {
     "data": {
      "image/png": "[encoded data removed]",
      "text/plain": [
       "8×24 Array{Gray{Float64},2} with eltype Gray{Float64}:\n",
       " Gray{Float64}(-0.111417)  …  Gray{Float64}(1.0)\n",
       " Gray{Float64}(1.0)           Gray{Float64}(1.0)\n",
       " Gray{Float64}(1.0)           Gray{Float64}(1.0)\n",
       " Gray{Float64}(1.0)           Gray{Float64}(1.0)\n",
       " Gray{Float64}(1.0)           Gray{Float64}(1.0)\n",
       " Gray{Float64}(1.0)        …  Gray{Float64}(1.0)\n",
       " Gray{Float64}(1.0)           Gray{Float64}(1.0)\n",
       " Gray{Float64}(1.0)           Gray{Float64}(0.854541)"
      ]
     },
     "execution_count": 394,
     "metadata": {},
     "output_type": "execute_result"
    }
   ],
   "source": [
    "acomm_tables(η)"
   ]
  },
  {
   "cell_type": "markdown",
   "metadata": {},
   "source": [
    "Check if the Pfeuty Hamiltonian is correct:"
   ]
  },
  {
   "cell_type": "code",
   "execution_count": 395,
   "metadata": {},
   "outputs": [],
   "source": [
    "E0 = -sum(Λ(m) for m in 1:N) / 2;\n",
    "Hη = sum(Λ(m)*ηt(m)*η(m) for m in 1:N) + E0*I;"
   ]
  },
  {
   "cell_type": "code",
   "execution_count": 396,
   "metadata": {},
   "outputs": [
    {
     "data": {
      "image/png": "[encoded data removed]",
      "text/plain": [
       "256×256 Array{Gray{Float64},2} with eltype Gray{Float64}:\n",
       " Gray{Float64}(-1.33397)  …  Gray{Float64}(1.0)\n",
       " Gray{Float64}(1.0)          Gray{Float64}(1.0)\n",
       " Gray{Float64}(1.0)          Gray{Float64}(1.0)\n",
       " Gray{Float64}(0.908637)     Gray{Float64}(1.0)\n",
       " Gray{Float64}(1.0)          Gray{Float64}(1.0)\n",
       " Gray{Float64}(0.879833)  …  Gray{Float64}(1.0)\n",
       " Gray{Float64}(0.908637)     Gray{Float64}(1.0)\n",
       " Gray{Float64}(1.0)          Gray{Float64}(1.0)\n",
       " Gray{Float64}(1.0)          Gray{Float64}(1.0)\n",
       " Gray{Float64}(0.997022)     Gray{Float64}(1.0)\n",
       " Gray{Float64}(0.879833)  …  Gray{Float64}(1.0)\n",
       " Gray{Float64}(1.0)          Gray{Float64}(1.0)\n",
       " Gray{Float64}(0.908637)     Gray{Float64}(1.0)\n",
       " ⋮                        ⋱  ⋮\n",
       " Gray{Float64}(1.0)          Gray{Float64}(1.0)\n",
       " Gray{Float64}(1.0)       …  Gray{Float64}(0.879833)\n",
       " Gray{Float64}(1.0)          Gray{Float64}(0.997022)\n",
       " Gray{Float64}(1.0)          Gray{Float64}(1.0)\n",
       " Gray{Float64}(1.0)          Gray{Float64}(1.0)\n",
       " Gray{Float64}(1.0)          Gray{Float64}(0.908637)\n",
       " Gray{Float64}(1.0)       …  Gray{Float64}(0.879833)\n",
       " Gray{Float64}(1.0)          Gray{Float64}(1.0)\n",
       " Gray{Float64}(1.0)          Gray{Float64}(0.908637)\n",
       " Gray{Float64}(1.0)          Gray{Float64}(1.0)\n",
       " Gray{Float64}(1.0)          Gray{Float64}(1.0)\n",
       " Gray{Float64}(1.0)       …  Gray{Float64}(-8.90537)"
      ]
     },
     "execution_count": 396,
     "metadata": {},
     "output_type": "execute_result"
    }
   ],
   "source": [
    "(Hs - Hend) - Hη |> matriximage"
   ]
  },
  {
   "cell_type": "code",
   "execution_count": 397,
   "metadata": {},
   "outputs": [
    {
     "data": {
      "text/plain": [
       "(6.119669832517357, 6.119669832517357)"
      ]
     },
     "execution_count": 397,
     "metadata": {},
     "output_type": "execute_result"
    }
   ],
   "source": [
    "(trnorm((Hs - Hend) - Hη), trnorm(Hs - Hη)) ./ 2^N"
   ]
  },
  {
   "cell_type": "markdown",
   "metadata": {
    "heading_collapsed": true
   },
   "source": [
    "## Starting from the many-body basis instead"
   ]
  },
  {
   "cell_type": "code",
   "execution_count": 238,
   "metadata": {
    "hidden": true
   },
   "outputs": [],
   "source": [
    "f = NLevelBasis(N) # \"Levels\" 1 to N are indices of k's\n",
    "mbb = ManyBodyBasis(f, fermionstates(f, [0:N...]))\n",
    "ηmb(m) = destroy(mbb, m)\n",
    "ηtmb(m) = create(mbb, m)\n",
    "Hf = diagonaloperator(f, @. Λ(k(1:N)) + E0)\n",
    "Hmb = manybodyoperator(mbb, Hf);"
   ]
  },
  {
   "cell_type": "code",
   "execution_count": 239,
   "metadata": {
    "hidden": true
   },
   "outputs": [],
   "source": [
    "A = reshape([a(m, i) for i in 1:N for m in 1:N], (N, N))\n",
    "B = reshape([b(m, i) for i in 1:N for m in 1:N], (N, N))\n",
    "η2c = inv([A B; conj(B) conj(A)]);"
   ]
  },
  {
   "cell_type": "code",
   "execution_count": 240,
   "metadata": {
    "hidden": true
   },
   "outputs": [],
   "source": [
    "ηmbs = [[ηmb(m) for m in 1:N]; [ηtmb(m) for m in 1:N]]\n",
    "cmbs = η2c * ηmbs\n",
    "cmb(i) = cmbs[i];\n",
    "cmbt(i) = cmbs[i+N];"
   ]
  },
  {
   "cell_type": "code",
   "execution_count": 241,
   "metadata": {
    "hidden": true
   },
   "outputs": [
    {
     "data": {
      "text/plain": [
       "8-element Array{Float64,1}:\n",
       " 8.276191610228936e-14\n",
       " 8.217185201225568e-14\n",
       " 7.420665142989512e-14\n",
       " 9.820039996621008e-14\n",
       " 8.073334107241556e-14\n",
       " 6.175135788873238e-14\n",
       " 7.632354211795359e-14\n",
       " 6.348397547880297e-14"
      ]
     },
     "execution_count": 241,
     "metadata": {},
     "output_type": "execute_result"
    }
   ],
   "source": [
    "[cmbt(i) - dagger(cmb(i)) for i in 1:N] .|> dense .|> tracenorm"
   ]
  },
  {
   "cell_type": "markdown",
   "metadata": {
    "hidden": true
   },
   "source": [
    "It looks like `create` and `destroy` do not change the signs of occupation states, and thus do not anticommute:"
   ]
  },
  {
   "cell_type": "code",
   "execution_count": 242,
   "metadata": {
    "hidden": true
   },
   "outputs": [
    {
     "data": {
      "text/plain": [
       "(0.0, 1.0)"
      ]
     },
     "execution_count": 242,
     "metadata": {},
     "output_type": "execute_result"
    }
   ],
   "source": [
    "ηmb(1).data .|> real |> extrema"
   ]
  },
  {
   "cell_type": "code",
   "execution_count": 243,
   "metadata": {
    "hidden": true
   },
   "outputs": [
    {
     "data": {
      "image/png": "[encoded data removed]",
      "text/plain": [
       "8×24 Array{Gray{Float64},2} with eltype Gray{Float64}:\n",
       " Gray{Float64}(0.0)  Gray{Float64}(1.0)  …  Gray{Float64}(1.0)\n",
       " Gray{Float64}(0.5)  Gray{Float64}(0.0)     Gray{Float64}(1.0)\n",
       " Gray{Float64}(0.5)  Gray{Float64}(0.5)     Gray{Float64}(1.0)\n",
       " Gray{Float64}(0.5)  Gray{Float64}(0.5)     Gray{Float64}(1.0)\n",
       " Gray{Float64}(0.5)  Gray{Float64}(0.5)     Gray{Float64}(1.0)\n",
       " Gray{Float64}(0.5)  Gray{Float64}(0.5)  …  Gray{Float64}(1.0)\n",
       " Gray{Float64}(0.5)  Gray{Float64}(0.5)     Gray{Float64}(1.0)\n",
       " Gray{Float64}(0.5)  Gray{Float64}(0.5)     Gray{Float64}(1.0)"
      ]
     },
     "execution_count": 243,
     "metadata": {},
     "output_type": "execute_result"
    }
   ],
   "source": [
    "acomm_tables(ηmb)"
   ]
  },
  {
   "cell_type": "code",
   "execution_count": 244,
   "metadata": {
    "hidden": true
   },
   "outputs": [
    {
     "data": {
      "image/png": "[encoded data removed]",
      "text/plain": [
       "8×24 Array{Gray{Float64},2} with eltype Gray{Float64}:\n",
       " Gray{Float64}(-0.281832)   …  Gray{Float64}(1.0)\n",
       " Gray{Float64}(0.0537958)      Gray{Float64}(1.0)\n",
       " Gray{Float64}(0.170476)       Gray{Float64}(1.0)\n",
       " Gray{Float64}(0.143106)       Gray{Float64}(1.0)\n",
       " Gray{Float64}(0.153596)       Gray{Float64}(1.0)\n",
       " Gray{Float64}(0.184116)    …  Gray{Float64}(1.0)\n",
       " Gray{Float64}(0.114848)       Gray{Float64}(1.0)\n",
       " Gray{Float64}(-0.0854012)     Gray{Float64}(-0.124125)"
      ]
     },
     "execution_count": 244,
     "metadata": {},
     "output_type": "execute_result"
    }
   ],
   "source": [
    "acomm_tables(cmb)"
   ]
  },
  {
   "cell_type": "markdown",
   "metadata": {
    "heading_collapsed": true
   },
   "source": [
    "## Energy spacings"
   ]
  },
  {
   "cell_type": "code",
   "execution_count": 245,
   "metadata": {
    "hidden": true
   },
   "outputs": [],
   "source": [
    "using IntervalArithmetic\n",
    "setformat(:midpoint);"
   ]
  },
  {
   "cell_type": "markdown",
   "metadata": {
    "hidden": true
   },
   "source": [
    "Note that `ΔEs` generally double-counts due to parity symmetry."
   ]
  },
  {
   "cell_type": "code",
   "execution_count": 246,
   "metadata": {
    "hidden": true
   },
   "outputs": [],
   "source": [
    "function ΔEs(NE)\n",
    "    Eks = (m -> E(@interval(m), NE)).(1:NE)\n",
    "    diffweights = Iterators.product(repeat([[-1,0,1]], NE)...)\n",
    "    Ediffs = (abs(w ⋅ Eks) for w in diffweights)\n",
    "    Ediffs = Ediffs ./ abs(-(extrema(Ediffs)...))\n",
    "    Ediffs |> collect |> vec |> sort\n",
    "end\n",
    ";"
   ]
  },
  {
   "cell_type": "code",
   "execution_count": 247,
   "metadata": {
    "hidden": true
   },
   "outputs": [
    {
     "data": {
      "image/svg+xml": [
       "<?xml version=\"1.0\" encoding=\"UTF-8\"?>\n",
       "<svg xmlns=\"http://www.w3.org/2000/svg\" xmlns:xlink=\"http://www.w3.org/1999/xlink\" width=\"291.169pt\" height=\"209.875pt\" viewBox=\"0 0 291.169 209.875\" version=\"1.1\">\n",
       "<defs>\n",
       "<g>\n",
       "<symbol overflow=\"visible\" id=\"glyph-1601166393153061-0-0\">\n",
       "<path style=\"stroke:none;\" d=\"M 0 0 L 5.96875 0 L 5.96875 -8.34375 L 0 -8.34375 Z M 0.953125 -0.59375 L 2.984375 -3.640625 L 5.015625 -0.59375 Z M 0.59375 -7.203125 L 2.625 -4.171875 L 0.59375 -1.140625 Z M 3.34375 -4.171875 L 5.375 -7.203125 L 5.375 -1.140625 Z M 2.984375 -4.703125 L 0.953125 -7.734375 L 5.015625 -7.734375 Z M 2.984375 -4.703125 \"/>\n",
       "</symbol>\n",
       "<symbol overflow=\"visible\" id=\"glyph-1601166393153061-0-1\">\n",
       "<path style=\"stroke:none;\" d=\"M 2.71875 0.125 C 3.640625 0.125 5.046875 -0.8125 5.046875 -3.625 C 5.046875 -4.8125 4.75 -5.828125 4.234375 -6.515625 C 3.921875 -6.9375 3.421875 -7.296875 2.765625 -7.296875 C 1.59375 -7.296875 0.46875 -5.875 0.46875 -3.515625 C 0.46875 -2.234375 0.859375 -1.046875 1.515625 -0.375 C 1.859375 -0.046875 2.265625 0.125 2.71875 0.125 Z M 2.765625 -6.875 C 2.96875 -6.875 3.171875 -6.796875 3.3125 -6.671875 C 3.6875 -6.359375 4 -5.453125 4 -3.84375 C 4 -2.75 3.96875 -2 3.796875 -1.390625 C 3.53125 -0.40625 2.953125 -0.296875 2.734375 -0.296875 C 1.625 -0.296875 1.5 -2.34375 1.5 -3.375 C 1.5 -6.328125 2.234375 -6.875 2.765625 -6.875 Z M 2.765625 -6.875 \"/>\n",
       "</symbol>\n",
       "<symbol overflow=\"visible\" id=\"glyph-1601166393153061-0-2\">\n",
       "<path style=\"stroke:none;\" d=\"M 0.6875 -0.515625 C 0.6875 -0.171875 0.96875 0.125 1.3125 0.125 C 1.65625 0.125 1.953125 -0.171875 1.953125 -0.515625 C 1.953125 -0.859375 1.65625 -1.140625 1.3125 -1.140625 C 0.96875 -1.140625 0.6875 -0.859375 0.6875 -0.515625 Z M 0.6875 -0.515625 \"/>\n",
       "</symbol>\n",
       "<symbol overflow=\"visible\" id=\"glyph-1601166393153061-0-3\">\n",
       "<path style=\"stroke:none;\" d=\"M 0.734375 -5.59375 C 0.734375 -5.34375 0.953125 -5.125 1.203125 -5.125 C 1.40625 -5.125 1.765625 -5.34375 1.765625 -5.609375 C 1.765625 -5.703125 1.75 -5.765625 1.71875 -5.859375 C 1.703125 -5.9375 1.625 -6.046875 1.625 -6.140625 C 1.625 -6.4375 1.9375 -6.875 2.8125 -6.875 C 3.234375 -6.875 3.84375 -6.578125 3.84375 -5.421875 C 3.84375 -4.65625 3.578125 -4.046875 2.875 -3.328125 L 1.984375 -2.453125 C 0.8125 -1.25 0.625 -0.6875 0.625 0.03125 C 0.625 0.03125 1.234375 0 1.609375 0 L 3.703125 0 C 4.09375 0 4.640625 0.03125 4.640625 0.03125 C 4.796875 -0.609375 4.90625 -1.5 4.921875 -1.859375 C 4.859375 -1.921875 4.703125 -1.953125 4.578125 -1.921875 C 4.375 -1.078125 4.171875 -0.78125 3.734375 -0.78125 L 1.609375 -0.78125 C 1.609375 -1.34375 2.4375 -2.15625 2.5 -2.21875 L 3.703125 -3.375 C 4.390625 -4.046875 4.90625 -4.5625 4.90625 -5.46875 C 4.90625 -6.765625 3.84375 -7.296875 2.875 -7.296875 C 1.546875 -7.296875 0.734375 -6.3125 0.734375 -5.59375 Z M 0.734375 -5.59375 \"/>\n",
       "</symbol>\n",
       "<symbol overflow=\"visible\" id=\"glyph-1601166393153061-0-4\">\n",
       "<path style=\"stroke:none;\" d=\"M 5.140625 -2.625 L 4.140625 -2.625 L 4.140625 -6.109375 C 4.140625 -6.703125 4.140625 -7.171875 4.171875 -7.265625 L 4.140625 -7.296875 L 3.765625 -7.296875 C 3.6875 -7.296875 3.625 -7.21875 3.578125 -7.15625 C 2.828125 -6.234375 1.4375 -4.265625 0.328125 -2.5625 C 0.375 -2.375 0.4375 -2.0625 0.796875 -2.0625 L 3.234375 -2.0625 L 3.234375 -0.953125 C 3.234375 -0.40625 2.78125 -0.40625 2.265625 -0.375 C 2.203125 -0.296875 2.203125 -0.046875 2.265625 0.03125 C 2.65625 0.015625 3.125 0 3.6875 0 C 4.140625 0 4.609375 0.015625 4.984375 0.03125 C 5.0625 -0.046875 5.0625 -0.296875 4.984375 -0.375 C 4.40625 -0.421875 4.140625 -0.390625 4.140625 -0.953125 L 4.140625 -2.0625 L 4.96875 -2.0625 C 5.140625 -2.0625 5.3125 -2.28125 5.3125 -2.421875 C 5.3125 -2.546875 5.265625 -2.625 5.140625 -2.625 Z M 3.234375 -6.0625 L 3.234375 -2.625 L 0.953125 -2.625 C 1.5625 -3.59375 2.421875 -4.9375 3.234375 -6.0625 Z M 3.234375 -6.0625 \"/>\n",
       "</symbol>\n",
       "<symbol overflow=\"visible\" id=\"glyph-1601166393153061-0-5\">\n",
       "<path style=\"stroke:none;\" d=\"M 1.71875 -4.09375 C 2.046875 -5.1875 2.8125 -6.390625 4.40625 -7 C 4.40625 -7.140625 4.34375 -7.25 4.25 -7.296875 C 3.046875 -6.9375 2.3125 -6.4375 1.640625 -5.671875 C 0.890625 -4.8125 0.53125 -3.71875 0.53125 -2.765625 C 0.53125 -0.34375 1.90625 0.125 2.828125 0.125 C 4.390625 0.125 5.03125 -1.390625 5.03125 -2.421875 C 5.03125 -3.4375 4.484375 -4.359375 2.859375 -4.359375 C 2.546875 -4.359375 2.078125 -4.265625 1.71875 -4.09375 Z M 1.609375 -3.671875 C 2.015625 -3.9375 2.40625 -3.9375 2.609375 -3.9375 C 3.78125 -3.9375 4.046875 -2.796875 4.046875 -2.203125 C 4.046875 -0.890625 3.53125 -0.28125 2.953125 -0.28125 C 2.203125 -0.28125 1.515625 -0.6875 1.515625 -2.734375 C 1.515625 -3.015625 1.546875 -3.328125 1.609375 -3.671875 Z M 1.609375 -3.671875 \"/>\n",
       "</symbol>\n",
       "<symbol overflow=\"visible\" id=\"glyph-1601166393153061-0-6\">\n",
       "<path style=\"stroke:none;\" d=\"M 4.703125 -5.796875 C 4.703125 -6.65625 4.03125 -7.296875 2.859375 -7.296875 C 1.640625 -7.296875 0.84375 -6.5625 0.84375 -5.640625 C 0.84375 -4.96875 1.171875 -4.484375 1.90625 -4.03125 L 2.21875 -3.84375 C 1.859375 -3.65625 1.546875 -3.4375 1.25 -3.171875 C 0.75 -2.75 0.546875 -2.21875 0.546875 -1.75 C 0.546875 -0.53125 1.40625 0.125 2.671875 0.125 C 4.25 0.125 5.015625 -1.03125 5.015625 -1.9375 C 5.015625 -2.625 4.703125 -3.234375 4.078125 -3.625 L 3.234375 -4.140625 C 3.796875 -4.40625 4.703125 -5.03125 4.703125 -5.796875 Z M 2.703125 -0.296875 C 2.15625 -0.296875 1.34375 -0.671875 1.34375 -1.75 C 1.34375 -2.109375 1.5 -2.9375 2.53125 -3.625 L 3.09375 -3.28125 C 3.84375 -2.828125 4.140625 -2.265625 4.140625 -1.703125 C 4.140625 -0.5 3.234375 -0.296875 2.703125 -0.296875 Z M 2.796875 -6.875 C 3.578125 -6.875 3.859375 -6.359375 3.859375 -5.8125 C 3.859375 -5.15625 3.234375 -4.625 2.90625 -4.390625 L 2.53125 -4.609375 C 1.78125 -5.109375 1.703125 -5.5 1.703125 -5.875 C 1.703125 -6.421875 2.078125 -6.875 2.796875 -6.875 Z M 2.796875 -6.875 \"/>\n",
       "</symbol>\n",
       "<symbol overflow=\"visible\" id=\"glyph-1601166393153061-0-7\">\n",
       "<path style=\"stroke:none;\" d=\"M 3.4375 -1.453125 L 3.4375 -5.609375 C 3.4375 -6.328125 3.453125 -7.046875 3.484375 -7.203125 C 3.484375 -7.265625 3.453125 -7.265625 3.40625 -7.265625 C 2.75 -6.859375 2.109375 -6.5625 1.0625 -6.078125 C 1.09375 -5.9375 1.140625 -5.828125 1.25 -5.75 C 1.796875 -5.96875 2.0625 -6.046875 2.28125 -6.046875 C 2.484375 -6.046875 2.515625 -5.765625 2.515625 -5.359375 L 2.515625 -1.453125 C 2.515625 -0.46875 2.203125 -0.40625 1.359375 -0.375 C 1.296875 -0.296875 1.296875 -0.046875 1.359375 0.03125 C 1.953125 0.015625 2.375 0 3.03125 0 C 3.59375 0 3.890625 0.015625 4.484375 0.03125 C 4.546875 -0.046875 4.546875 -0.296875 4.484375 -0.375 C 3.640625 -0.40625 3.4375 -0.46875 3.4375 -1.453125 Z M 3.4375 -1.453125 \"/>\n",
       "</symbol>\n",
       "<symbol overflow=\"visible\" id=\"glyph-1601166393153061-0-8\">\n",
       "<path style=\"stroke:none;\" d=\"M 8.3125 -6.65625 C 8.375 -7.015625 8.609375 -7.328125 9.0625 -7.359375 L 9.390625 -7.390625 C 9.421875 -7.390625 9.484375 -7.421875 9.484375 -7.484375 L 9.515625 -7.703125 L 9.484375 -7.734375 C 8.953125 -7.71875 8.515625 -7.703125 8.25 -7.703125 C 7.953125 -7.703125 7.46875 -7.71875 6.9375 -7.734375 L 6.90625 -7.703125 L 6.875 -7.484375 C 6.859375 -7.4375 6.953125 -7.390625 7.015625 -7.390625 L 7.296875 -7.359375 C 7.6875 -7.34375 7.8125 -7.09375 7.8125 -6.84375 C 7.8125 -6.78125 7.8125 -6.71875 7.796875 -6.65625 L 6.90625 -2.125 C 6.859375 -1.90625 6.84375 -1.765625 6.765625 -1.765625 C 6.671875 -1.765625 6.5625 -1.984375 6.3125 -2.421875 L 3.40625 -7.734375 L 1.828125 -7.734375 L 1.796875 -7.703125 L 1.765625 -7.484375 C 1.765625 -7.421875 1.859375 -7.40625 1.9375 -7.390625 C 2.3125 -7.34375 2.5625 -6.890625 2.5625 -6.578125 L 1.5 -1.046875 C 1.421875 -0.734375 1.203125 -0.375 0.734375 -0.34375 L 0.4375 -0.328125 C 0.328125 -0.3125 0.28125 -0.28125 0.265625 -0.21875 L 0.234375 0 L 0.265625 0.03125 C 0.796875 0.015625 1.296875 0 1.578125 0 C 1.859375 0 2.28125 0.015625 2.828125 0.03125 L 2.84375 0 L 2.875 -0.234375 C 2.875 -0.296875 2.859375 -0.328125 2.796875 -0.328125 L 2.5 -0.34375 C 2.140625 -0.375 1.984375 -0.59375 1.984375 -0.875 C 1.984375 -0.9375 2 -0.984375 2.015625 -1.046875 L 2.828125 -5.25 C 2.90625 -5.65625 2.96875 -5.828125 3.046875 -5.828125 C 3.125 -5.828125 3.21875 -5.703125 3.375 -5.4375 L 6.34375 -0.171875 C 6.4375 0.015625 6.5625 0.125 6.75 0.125 C 6.90625 0.125 7.015625 -0.03125 7.0625 -0.25 Z M 8.3125 -6.65625 \"/>\n",
       "</symbol>\n",
       "<symbol overflow=\"visible\" id=\"glyph-1601166393153061-0-9\">\n",
       "<path style=\"stroke:none;\" d=\"M 0.703125 -2.21875 C 0.5625 -2.0625 0.5625 -1.75 0.703125 -1.609375 L 7.046875 -1.609375 C 7.1875 -1.75 7.1875 -2.0625 7.046875 -2.21875 Z M 0.703125 -4.609375 C 0.5625 -4.453125 0.5625 -4.140625 0.703125 -4 L 7.046875 -4 C 7.1875 -4.140625 7.1875 -4.453125 7.046875 -4.609375 Z M 0.703125 -4.609375 \"/>\n",
       "</symbol>\n",
       "<symbol overflow=\"visible\" id=\"glyph-1601166393153061-0-10\">\n",
       "<path style=\"stroke:none;\" d=\"M 3.8125 -2.265625 C 3.8125 -1.125 3.21875 -0.28125 2.5 -0.28125 C 2.046875 -0.28125 1.890625 -0.578125 1.703125 -0.828125 C 1.546875 -1.03125 1.34375 -1.203125 1.09375 -1.203125 C 0.875 -1.203125 0.640625 -1 0.640625 -0.765625 C 0.640625 -0.28125 1.65625 0.125 2.34375 0.125 C 3.828125 0.125 4.875 -0.96875 4.875 -2.46875 C 4.875 -3.640625 4.078125 -4.671875 2.734375 -4.671875 C 2.21875 -4.671875 1.78125 -4.5625 1.5625 -4.484375 L 1.8125 -6.484375 C 2.25 -6.4375 2.625 -6.375 3.203125 -6.375 C 3.5625 -6.375 3.96875 -6.390625 4.453125 -6.4375 L 4.65625 -7.25 L 4.5625 -7.296875 C 3.890625 -7.234375 3.234375 -7.171875 2.609375 -7.171875 C 2.15625 -7.171875 1.734375 -7.203125 1.3125 -7.234375 L 0.90625 -3.796875 C 1.546875 -4.03125 2 -4.078125 2.421875 -4.078125 C 3.203125 -4.078125 3.8125 -3.5625 3.8125 -2.265625 Z M 3.8125 -2.265625 \"/>\n",
       "</symbol>\n",
       "<symbol overflow=\"visible\" id=\"glyph-1601166393153061-0-11\">\n",
       "<path style=\"stroke:none;\" d=\"M 2.03125 -6.390625 L 4.171875 -6.390625 C 3.234375 -4.078125 2.296875 -1.75 1.484375 0.078125 L 1.578125 0.15625 L 2.390625 0.125 C 3.078125 -1.90625 3.734375 -3.890625 5.0625 -7.15625 L 4.875 -7.296875 C 4.671875 -7.25 4.40625 -7.171875 3.953125 -7.171875 L 1.5 -7.171875 C 1.09375 -7.171875 1.109375 -7.296875 0.890625 -7.34375 C 0.859375 -7.34375 0.84375 -7.34375 0.84375 -7.296875 C 0.84375 -6.734375 0.703125 -6.015625 0.609375 -5.390625 C 0.734375 -5.359375 0.859375 -5.34375 0.984375 -5.359375 C 1.25 -6.3125 1.65625 -6.390625 2.03125 -6.390625 Z M 2.03125 -6.390625 \"/>\n",
       "</symbol>\n",
       "<symbol overflow=\"visible\" id=\"glyph-1601166393153061-0-12\">\n",
       "<path style=\"stroke:none;\" d=\"M 3.90625 -3.0625 C 3.578125 -1.96875 2.828125 -0.765625 1.234375 -0.171875 C 1.234375 -0.03125 1.28125 0.078125 1.375 0.140625 C 2.578125 -0.21875 3.328125 -0.71875 4 -1.5 C 4.734375 -2.359375 5.109375 -3.4375 5.109375 -4.390625 C 5.109375 -6.8125 3.734375 -7.296875 2.8125 -7.296875 C 1.25 -7.296875 0.59375 -5.765625 0.59375 -4.75 C 0.59375 -3.71875 1.140625 -2.796875 2.765625 -2.796875 C 3.078125 -2.796875 3.546875 -2.890625 3.90625 -3.0625 Z M 4.015625 -3.484375 C 3.625 -3.234375 3.234375 -3.21875 3.03125 -3.21875 C 1.859375 -3.21875 1.59375 -4.359375 1.59375 -4.953125 C 1.59375 -6.28125 2.09375 -6.875 2.671875 -6.875 C 3.4375 -6.875 4.109375 -6.46875 4.109375 -4.421875 C 4.109375 -4.15625 4.09375 -3.84375 4.015625 -3.484375 Z M 4.015625 -3.484375 \"/>\n",
       "</symbol>\n",
       "<symbol overflow=\"visible\" id=\"glyph-1601166393153061-1-0\">\n",
       "<path style=\"stroke:none;\" d=\"M 0 0 L 5.484375 0 L 5.484375 -7.640625 L 0 -7.640625 Z M 0.875 -0.546875 L 2.734375 -3.328125 L 4.59375 -0.546875 Z M 0.546875 -6.609375 L 2.40625 -3.828125 L 0.546875 -1.046875 Z M 3.0625 -3.828125 L 4.921875 -6.609375 L 4.921875 -1.046875 Z M 2.734375 -4.3125 L 0.875 -7.09375 L 4.59375 -7.09375 Z M 2.734375 -4.3125 \"/>\n",
       "</symbol>\n",
       "<symbol overflow=\"visible\" id=\"glyph-1601166393153061-1-1\">\n",
       "<path style=\"stroke:none;\" d=\"M 2.1875 -3.390625 L 2.578125 -2.3125 L 1.5625 -0.796875 C 1.453125 -0.640625 1.328125 -0.59375 1.25 -0.59375 C 1.15625 -0.59375 1.046875 -0.609375 0.953125 -0.65625 C 0.859375 -0.703125 0.75 -0.71875 0.640625 -0.71875 C 0.390625 -0.71875 0.21875 -0.546875 0.21875 -0.3125 C 0.21875 -0.015625 0.609375 0.109375 0.859375 0.109375 C 1.234375 0.109375 1.484375 -0.0625 1.96875 -0.75 L 2.734375 -1.84375 L 3.15625 -0.5 C 3.296875 -0.0625 3.40625 0.109375 3.78125 0.109375 C 4.15625 0.109375 4.640625 -0.09375 4.984375 -0.671875 C 4.9375 -0.765625 4.84375 -0.859375 4.71875 -0.875 C 4.4375 -0.515625 4.296875 -0.421875 4.171875 -0.421875 C 4.078125 -0.421875 4 -0.5625 3.90625 -0.828125 L 3.3125 -2.59375 L 4.15625 -3.828125 C 4.328125 -4.078125 4.59375 -4.125 4.671875 -4.125 C 4.75 -4.125 4.890625 -4.078125 5 -4.015625 C 5.078125 -3.9375 5.25 -3.90625 5.359375 -3.90625 C 5.515625 -3.90625 5.703125 -4.125 5.703125 -4.375 C 5.703125 -4.640625 5.40625 -4.8125 5.15625 -4.8125 C 4.609375 -4.8125 4.25 -4.625 3.71875 -3.84375 L 3.171875 -3.0625 L 2.859375 -4.015625 C 2.671875 -4.59375 2.546875 -4.8125 2.28125 -4.8125 C 2.03125 -4.8125 1.21875 -4.359375 0.828125 -4.078125 C 0.84375 -3.953125 0.890625 -3.828125 0.96875 -3.734375 C 1.109375 -3.796875 1.46875 -3.96875 1.703125 -3.96875 C 1.84375 -3.96875 1.953125 -3.9375 2 -3.84375 C 2.046875 -3.75 2.125 -3.578125 2.1875 -3.390625 Z M 2.1875 -3.390625 \"/>\n",
       "</symbol>\n",
       "<symbol overflow=\"visible\" id=\"glyph-1601166393153061-1-2\">\n",
       "<path style=\"stroke:none;\" d=\"M 4.859375 0 C 4.96875 -0.09375 4.96875 -0.46875 4.859375 -0.5625 L 3.3125 -0.5625 C 2.28125 -0.5625 1.390625 -1.4375 1.25 -2.578125 L 4.765625 -2.578125 C 4.859375 -2.671875 4.859375 -3.015625 4.765625 -3.125 L 1.25 -3.125 C 1.375 -4.203125 2.15625 -5.125 3.3125 -5.125 L 4.859375 -5.125 C 4.96875 -5.21875 4.96875 -5.59375 4.859375 -5.703125 L 3.359375 -5.703125 C 1.8125 -5.703125 0.546875 -4.390625 0.546875 -2.84375 C 0.546875 -1.3125 1.78125 0 3.359375 0 Z M 4.859375 0 \"/>\n",
       "</symbol>\n",
       "<symbol overflow=\"visible\" id=\"glyph-1601166393153061-1-3\">\n",
       "<path style=\"stroke:none;\" d=\"M 0.46875 -3 C 0.46875 -0.59375 1.625 1.125 3.390625 2.03125 L 3.5625 1.734375 C 1.953125 0.671875 1.375 -0.796875 1.375 -3 C 1.375 -5.1875 1.953125 -6.65625 3.5625 -7.71875 L 3.390625 -8 C 1.625 -7.09375 0.46875 -5.390625 0.46875 -3 Z M 0.46875 -3 \"/>\n",
       "</symbol>\n",
       "<symbol overflow=\"visible\" id=\"glyph-1601166393153061-1-4\">\n",
       "<path style=\"stroke:none;\" d=\"M 3.859375 -7.203125 L 3.171875 -7.203125 L 0.390625 -0.21875 C 0.34375 -0.109375 0.328125 -0.109375 0.328125 -0.078125 C 0.328125 -0.015625 0.421875 0 0.5625 0 L 6.34375 0 C 6.53125 0 6.578125 -0.015625 6.578125 -0.0625 C 6.578125 -0.09375 6.5625 -0.125 6.53125 -0.21875 Z M 3.28125 -6.09375 L 3.3125 -6.09375 L 5.484375 -0.375 L 1.0625 -0.375 Z M 3.28125 -6.09375 \"/>\n",
       "</symbol>\n",
       "<symbol overflow=\"visible\" id=\"glyph-1601166393153061-1-5\">\n",
       "<path style=\"stroke:none;\" d=\"M 6.15625 -7.078125 C 6.15625 -7.09375 6.140625 -7.109375 6.109375 -7.109375 C 5.921875 -7.078125 5.859375 -7.0625 5.609375 -7.0625 L 2.953125 -7.0625 C 2.546875 -7.0625 2.109375 -7.078125 1.625 -7.09375 L 1.59375 -7.0625 L 1.5625 -6.84375 C 1.546875 -6.8125 1.546875 -6.765625 1.625 -6.765625 L 1.921875 -6.75 C 2.25 -6.71875 2.40625 -6.640625 2.40625 -6.40625 C 2.40625 -6.359375 2.390625 -6.3125 2.375 -6.25 L 1.3125 -0.78125 C 1.25 -0.484375 1.09375 -0.34375 0.671875 -0.3125 L 0.359375 -0.296875 C 0.296875 -0.296875 0.28125 -0.25 0.265625 -0.21875 L 0.21875 0 L 0.234375 0.015625 C 0.734375 0.015625 1.171875 0 1.578125 0 L 3.828125 0 C 4.34375 0 5.171875 0.015625 5.171875 0.015625 C 5.40625 -0.546875 5.671875 -1.234375 5.921875 -1.8125 L 5.59375 -1.859375 C 5.234375 -1.078125 4.703125 -0.421875 3.90625 -0.421875 L 2.46875 -0.421875 C 2.28125 -0.421875 2.140625 -0.46875 2.140625 -0.671875 C 2.140625 -0.71875 2.140625 -0.75 2.15625 -0.78125 L 2.6875 -3.53125 L 4.03125 -3.53125 C 4.359375 -3.53125 4.484375 -3.46875 4.484375 -3.203125 C 4.484375 -3.1875 4.484375 -3.15625 4.484375 -3.125 L 4.453125 -2.84375 C 4.453125 -2.8125 4.453125 -2.765625 4.515625 -2.765625 L 4.75 -2.765625 L 4.796875 -2.796875 C 4.84375 -3.234375 4.890625 -3.53125 4.9375 -3.75 C 4.96875 -3.96875 5.046875 -4.296875 5.171875 -4.734375 L 5.140625 -4.78125 L 4.90625 -4.78125 C 4.859375 -4.78125 4.8125 -4.734375 4.8125 -4.6875 L 4.734375 -4.421875 C 4.640625 -4.109375 4.484375 -3.953125 4.125 -3.953125 L 2.78125 -3.953125 L 3.21875 -6.25 C 3.28125 -6.515625 3.421875 -6.625 3.6875 -6.625 L 4.78125 -6.625 C 5.5625 -6.625 5.671875 -6.1875 5.765625 -5.4375 L 6.0625 -5.484375 C 6.109375 -5.9375 6.15625 -6.984375 6.15625 -7.078125 Z M 6.15625 -7.078125 \"/>\n",
       "</symbol>\n",
       "<symbol overflow=\"visible\" id=\"glyph-1601166393153061-1-6\">\n",
       "<path style=\"stroke:none;\" d=\"M 1.140625 2.1875 L 5.21875 -7.890625 C 5.109375 -7.984375 4.71875 -7.984375 4.625 -7.890625 L 0.546875 2.1875 C 0.640625 2.296875 1.046875 2.296875 1.140625 2.1875 Z M 1.140625 2.1875 \"/>\n",
       "</symbol>\n",
       "<symbol overflow=\"visible\" id=\"glyph-1601166393153061-1-7\">\n",
       "<path style=\"stroke:none;\" d=\"M 3.421875 -3 C 3.421875 -5.390625 2.28125 -7.09375 0.515625 -8 L 0.34375 -7.71875 C 1.9375 -6.65625 2.53125 -5.1875 2.53125 -3 C 2.53125 -0.796875 1.9375 0.671875 0.34375 1.734375 L 0.515625 2.03125 C 2.28125 1.125 3.421875 -0.59375 3.421875 -3 Z M 3.421875 -3 \"/>\n",
       "</symbol>\n",
       "<symbol overflow=\"visible\" id=\"glyph-1601166393153061-2-0\">\n",
       "<path style=\"stroke:none;\" d=\"M 0 0 L 5.484375 0 L 5.484375 -7.640625 L 0 -7.640625 Z M 0.875 -0.546875 L 2.734375 -3.328125 L 4.59375 -0.546875 Z M 0.546875 -6.609375 L 2.40625 -3.828125 L 0.546875 -1.046875 Z M 3.0625 -3.828125 L 4.921875 -6.609375 L 4.921875 -1.046875 Z M 2.734375 -4.3125 L 0.875 -7.09375 L 4.59375 -7.09375 Z M 2.734375 -4.3125 \"/>\n",
       "</symbol>\n",
       "<symbol overflow=\"visible\" id=\"glyph-1601166393153061-2-1\">\n",
       "<path style=\"stroke:none;\" d=\"M 0.53125 -1.515625 C 0.5625 -0.96875 0.609375 -0.453125 0.609375 0 C 0.71875 -0.015625 0.828125 -0.03125 0.875 -0.03125 C 0.953125 -0.03125 1.015625 -0.03125 1.09375 -0.015625 C 1.390625 0.0625 1.6875 0.109375 2.09375 0.109375 C 2.703125 0.109375 3.828125 -0.1875 3.828125 -1.265625 C 3.828125 -2.015625 3.296875 -2.453125 2.546875 -2.734375 C 1.890625 -2.984375 1.453125 -3.140625 1.453125 -3.75 C 1.453125 -4.1875 1.84375 -4.453125 2.21875 -4.453125 C 2.46875 -4.453125 3.09375 -4.359375 3.234375 -3.421875 C 3.3125 -3.359375 3.53125 -3.375 3.59375 -3.4375 C 3.625 -3.828125 3.640625 -4.234375 3.65625 -4.59375 C 3.3125 -4.65625 2.796875 -4.8125 2.21875 -4.8125 C 1.40625 -4.8125 0.671875 -4.28125 0.671875 -3.578125 C 0.671875 -2.78125 1.046875 -2.4375 1.890625 -2.09375 C 2.796875 -1.71875 3 -1.484375 3 -1.015625 C 3 -0.484375 2.46875 -0.25 2.0625 -0.25 C 1.640625 -0.25 1.40625 -0.390625 1.296875 -0.515625 C 1.046875 -0.765625 0.9375 -1.25 0.859375 -1.515625 C 0.796875 -1.59375 0.59375 -1.578125 0.53125 -1.515625 Z M 0.53125 -1.515625 \"/>\n",
       "</symbol>\n",
       "<symbol overflow=\"visible\" id=\"glyph-1601166393153061-2-2\">\n",
       "<path style=\"stroke:none;\" d=\"M 2.375 0.109375 C 2.796875 0.109375 3.3125 -0.109375 3.859375 -0.546875 C 3.90625 -0.59375 4.015625 -0.609375 4.015625 -0.53125 C 4.046875 -0.265625 4.140625 0.109375 4.140625 0.109375 C 4.234375 0.140625 4.28125 0.125 4.34375 0.109375 C 4.59375 -0.09375 4.96875 -0.25 5.640625 -0.328125 C 5.703125 -0.390625 5.703125 -0.5625 5.640625 -0.625 C 4.9375 -0.671875 4.84375 -0.890625 4.84375 -1.421875 L 4.84375 -3.53125 C 4.84375 -3.859375 4.890625 -4.65625 4.890625 -4.65625 C 4.890625 -4.6875 4.859375 -4.71875 4.796875 -4.71875 C 4.75 -4.703125 4.578125 -4.703125 4.421875 -4.703125 C 4.0625 -4.703125 3.671875 -4.703125 3.296875 -4.71875 C 3.234375 -4.65625 3.234375 -4.421875 3.296875 -4.359375 C 3.828125 -4.328125 3.96875 -4.1875 3.96875 -3.46875 L 3.96875 -1.359375 C 3.96875 -1.15625 3.953125 -1.0625 3.796875 -0.9375 C 3.390625 -0.578125 2.984375 -0.40625 2.703125 -0.40625 C 2.375 -0.40625 1.828125 -0.5625 1.828125 -1.53125 L 1.828125 -3.53125 C 1.828125 -3.859375 1.875 -4.65625 1.875 -4.65625 C 1.875 -4.6875 1.84375 -4.71875 1.78125 -4.71875 C 1.734375 -4.703125 1.5625 -4.703125 1.40625 -4.703125 C 1.046875 -4.703125 0.65625 -4.703125 0.28125 -4.71875 C 0.21875 -4.65625 0.21875 -4.421875 0.28125 -4.359375 C 0.8125 -4.3125 0.96875 -4.1875 0.96875 -3.484375 L 0.96875 -1.375 C 0.96875 -0.625 1.296875 0.109375 2.375 0.109375 Z M 2.375 0.109375 \"/>\n",
       "</symbol>\n",
       "<symbol overflow=\"visible\" id=\"glyph-1601166393153061-2-3\">\n",
       "<path style=\"stroke:none;\" d=\"M 1.703125 -4.03125 C 1.703125 -4.359375 1.671875 -4.640625 1.625 -4.75 C 1.59375 -4.8125 1.578125 -4.84375 1.484375 -4.84375 C 1.1875 -4.71875 0.890625 -4.625 0.140625 -4.53125 C 0.125 -4.453125 0.140625 -4.28125 0.171875 -4.21875 C 0.75 -4.15625 0.875 -4.109375 0.875 -3.46875 L 0.875 1.203125 C 0.875 2.109375 0.75 2.171875 0.09375 2.203125 C 0.015625 2.265625 0.015625 2.5 0.09375 2.5625 C 0.46875 2.546875 0.875 2.546875 1.3125 2.546875 C 1.75 2.546875 2.28125 2.546875 2.640625 2.5625 C 2.703125 2.5 2.703125 2.265625 2.640625 2.203125 C 1.859375 2.15625 1.734375 2.109375 1.734375 1.203125 L 1.734375 0.015625 C 1.734375 -0.125 1.78125 -0.109375 1.890625 -0.0625 C 2.171875 0.046875 2.5 0.109375 2.84375 0.109375 C 3.46875 0.109375 4.015625 -0.078125 4.453125 -0.5 C 4.96875 -1 5.265625 -1.6875 5.265625 -2.578125 C 5.265625 -3.734375 4.453125 -4.8125 3.328125 -4.8125 C 2.828125 -4.8125 2.265625 -4.484375 1.828125 -3.984375 C 1.765625 -3.921875 1.71875 -3.921875 1.703125 -4.03125 Z M 1.921875 -3.625 C 2.203125 -3.96875 2.703125 -4.296875 3.015625 -4.296875 C 3.71875 -4.296875 4.328125 -3.515625 4.328125 -2.28125 C 4.328125 -1.375 4.015625 -0.265625 2.78125 -0.265625 C 2.578125 -0.265625 2.203125 -0.3125 2 -0.5 C 1.78125 -0.6875 1.734375 -0.75 1.734375 -1.15625 L 1.734375 -3.140625 C 1.734375 -3.375 1.78125 -3.46875 1.921875 -3.625 Z M 1.921875 -3.625 \"/>\n",
       "</symbol>\n",
       "<symbol overflow=\"visible\" id=\"glyph-1601166393153061-3-0\">\n",
       "<path style=\"stroke:none;\" d=\"M 0 0 L 3.828125 0 L 3.828125 -5.359375 L 0 -5.359375 Z M 0.609375 -0.390625 L 1.921875 -2.328125 L 3.21875 -0.390625 Z M 0.390625 -4.625 L 1.6875 -2.671875 L 0.390625 -0.734375 Z M 2.140625 -2.671875 L 3.453125 -4.625 L 3.453125 -0.734375 Z M 1.921875 -3.015625 L 0.609375 -4.96875 L 3.21875 -4.96875 Z M 1.921875 -3.015625 \"/>\n",
       "</symbol>\n",
       "<symbol overflow=\"visible\" id=\"glyph-1601166393153061-3-1\">\n",
       "<path style=\"stroke:none;\" d=\"M 1.296875 -2.75 C 1.296875 -2.984375 1.28125 -3.25 1.25 -3.328125 C 1.234375 -3.375 1.21875 -3.390625 1.15625 -3.390625 C 0.9375 -3.3125 0.734375 -3.234375 0.203125 -3.171875 C 0.1875 -3.125 0.203125 -3 0.21875 -2.953125 C 0.640625 -2.921875 0.71875 -2.875 0.71875 -2.4375 L 0.71875 -0.9375 C 0.71875 -0.3125 0.625 -0.265625 0.203125 -0.234375 C 0.15625 -0.1875 0.15625 -0.03125 0.203125 0.015625 C 0.421875 0 0.71875 0 1.03125 0 C 1.328125 0 1.578125 0 1.796875 0.015625 C 1.84375 -0.03125 1.84375 -0.1875 1.796875 -0.234375 C 1.40625 -0.28125 1.328125 -0.3125 1.328125 -0.9375 L 1.328125 -2.1875 C 1.328125 -2.359375 1.390625 -2.453125 1.453125 -2.515625 C 1.765625 -2.8125 2.046875 -2.96875 2.28125 -2.96875 C 2.578125 -2.96875 2.796875 -2.78125 2.796875 -2.265625 L 2.796875 -0.9375 C 2.796875 -0.3125 2.734375 -0.265625 2.3125 -0.234375 C 2.28125 -0.1875 2.28125 -0.03125 2.3125 0.015625 C 2.515625 0 2.796875 0 3.09375 0 C 3.40625 0 3.65625 0 3.84375 0.015625 C 3.890625 -0.03125 3.890625 -0.1875 3.84375 -0.234375 C 3.46875 -0.265625 3.40625 -0.3125 3.40625 -0.9375 L 3.40625 -2.15625 C 3.40625 -2.265625 3.40625 -2.375 3.390625 -2.46875 C 3.765625 -2.875 4.109375 -2.96875 4.40625 -2.96875 C 4.6875 -2.96875 4.859375 -2.796875 4.859375 -2.28125 L 4.859375 -0.9375 C 4.859375 -0.3125 4.78125 -0.265625 4.390625 -0.234375 C 4.34375 -0.1875 4.34375 -0.03125 4.390625 0.015625 C 4.578125 0 4.859375 0 5.171875 0 C 5.484375 0 5.75 0 5.96875 0.015625 C 6 -0.03125 6 -0.1875 5.96875 -0.234375 C 5.546875 -0.265625 5.46875 -0.3125 5.46875 -0.9375 L 5.46875 -2.140625 C 5.46875 -2.828125 5.359375 -3.375 4.6875 -3.375 C 4.28125 -3.375 3.8125 -3.21875 3.40625 -2.796875 C 3.390625 -2.78125 3.34375 -2.734375 3.328125 -2.8125 C 3.265625 -3.125 2.96875 -3.375 2.5625 -3.375 C 2.125 -3.375 1.71875 -3.109375 1.390625 -2.75 C 1.359375 -2.703125 1.3125 -2.65625 1.296875 -2.75 Z M 1.296875 -2.75 \"/>\n",
       "</symbol>\n",
       "<symbol overflow=\"visible\" id=\"glyph-1601166393153061-3-2\">\n",
       "<path style=\"stroke:none;\" d=\"M 2.25 -0.375 C 2.296875 -0.125 2.375 0.078125 2.765625 0.078125 C 3.046875 0.078125 3.328125 -0.046875 3.484375 -0.203125 C 3.46875 -0.296875 3.4375 -0.375 3.359375 -0.421875 C 3.3125 -0.375 3.171875 -0.296875 3.078125 -0.296875 C 2.859375 -0.296875 2.84375 -0.59375 2.84375 -0.9375 L 2.84375 -2.078125 C 2.84375 -3.15625 2.25 -3.375 1.6875 -3.375 C 1.0625 -3.375 0.421875 -2.953125 0.421875 -2.515625 C 0.421875 -2.328125 0.515625 -2.234375 0.6875 -2.234375 C 0.90625 -2.234375 1.046875 -2.40625 1.046875 -2.5 C 1.046875 -2.5625 1.046875 -2.609375 1.03125 -2.640625 C 1.015625 -2.65625 1.015625 -2.703125 1.015625 -2.796875 C 1.015625 -3.03125 1.328125 -3.109375 1.625 -3.109375 C 1.890625 -3.109375 2.25 -2.984375 2.25 -2.125 C 2.25 -2.0625 2.21875 -2.03125 2.203125 -2.03125 L 1.546875 -1.859375 C 0.8125 -1.6875 0.28125 -1.28125 0.28125 -0.75 C 0.28125 -0.125 0.703125 0.078125 1.25 0.078125 C 1.515625 0.078125 1.734375 0.015625 2.078125 -0.25 L 2.234375 -0.375 Z M 2.25 -1.78125 L 2.25 -0.78125 C 2.25 -0.671875 2.203125 -0.625 2.140625 -0.578125 C 1.9375 -0.421875 1.6875 -0.234375 1.46875 -0.234375 C 1.078125 -0.234375 0.90625 -0.546875 0.90625 -0.78125 C 0.90625 -1.125 1.078125 -1.484375 1.640625 -1.625 Z M 2.25 -1.78125 \"/>\n",
       "</symbol>\n",
       "<symbol overflow=\"visible\" id=\"glyph-1601166393153061-3-3\">\n",
       "<path style=\"stroke:none;\" d=\"M 1.390625 -2.75 C 1.21875 -3 1.28125 -3.015625 1.625 -3.046875 C 1.671875 -3.09375 1.671875 -3.265625 1.625 -3.3125 C 1.40625 -3.296875 1.078125 -3.296875 0.84375 -3.296875 C 0.609375 -3.296875 0.390625 -3.296875 0.1875 -3.3125 C 0.140625 -3.265625 0.140625 -3.09375 0.1875 -3.046875 C 0.4375 -3.03125 0.65625 -2.90625 0.875 -2.578125 L 1.546875 -1.609375 C 1.578125 -1.5625 1.578125 -1.53125 1.546875 -1.5 L 0.90625 -0.671875 C 0.59375 -0.28125 0.421875 -0.25 0.15625 -0.234375 C 0.109375 -0.1875 0.109375 -0.03125 0.15625 0.015625 C 0.3125 0 0.484375 0 0.71875 0 C 0.9375 0 1.15625 0 1.359375 0.015625 C 1.40625 -0.03125 1.40625 -0.1875 1.359375 -0.234375 C 1.078125 -0.265625 1.015625 -0.296875 1.1875 -0.546875 L 1.671875 -1.25 C 1.734375 -1.328125 1.765625 -1.328125 1.8125 -1.265625 L 2.25 -0.640625 C 2.53125 -0.28125 2.40625 -0.265625 2.15625 -0.234375 C 2.109375 -0.1875 2.109375 -0.03125 2.15625 0.015625 C 2.390625 0 2.640625 0 2.921875 0 C 3.203125 0 3.40625 0 3.59375 0.015625 C 3.640625 -0.03125 3.640625 -0.1875 3.59375 -0.234375 C 3.25 -0.265625 3.140625 -0.28125 2.828125 -0.71875 L 2.140625 -1.703125 C 2.109375 -1.734375 2.109375 -1.765625 2.140625 -1.8125 L 2.78125 -2.625 C 3.0625 -2.984375 3.25 -3.03125 3.53125 -3.046875 C 3.578125 -3.09375 3.578125 -3.265625 3.53125 -3.3125 C 3.375 -3.296875 3.203125 -3.296875 2.96875 -3.296875 C 2.734375 -3.296875 2.53125 -3.296875 2.328125 -3.3125 C 2.28125 -3.265625 2.28125 -3.09375 2.328125 -3.046875 C 2.609375 -3.015625 2.6875 -3 2.515625 -2.734375 L 2.015625 -2.046875 C 1.953125 -1.96875 1.921875 -1.96875 1.859375 -2.0625 Z M 1.390625 -2.75 \"/>\n",
       "</symbol>\n",
       "<symbol overflow=\"visible\" id=\"glyph-1601166393153061-4-0\">\n",
       "<path style=\"stroke:none;\" d=\"M 0 0 L 0 -5.484375 L -7.640625 -5.484375 L -7.640625 0 Z M -0.546875 -0.875 L -3.328125 -2.734375 L -0.546875 -4.59375 Z M -6.609375 -0.546875 L -3.828125 -2.40625 L -1.046875 -0.546875 Z M -3.828125 -3.0625 L -6.609375 -4.921875 L -1.046875 -4.921875 Z M -4.3125 -2.734375 L -7.09375 -0.875 L -7.09375 -4.59375 Z M -4.3125 -2.734375 \"/>\n",
       "</symbol>\n",
       "<symbol overflow=\"visible\" id=\"glyph-1601166393153061-4-1\">\n",
       "<path style=\"stroke:none;\" d=\"M -0.78125 -1.296875 C -0.46875 -1.25 -0.34375 -1.0625 -0.3125 -0.640625 L -0.296875 -0.359375 C -0.296875 -0.3125 -0.265625 -0.28125 -0.203125 -0.265625 L 0 -0.21875 L 0.015625 -0.234375 C 0.015625 -0.625 0 -1.15625 0 -1.59375 C 0 -2 0.015625 -2.53125 0.015625 -3.015625 L 0 -3.046875 L -0.203125 -3.09375 C -0.265625 -3.09375 -0.296875 -3.0625 -0.296875 -3.015625 L -0.3125 -2.640625 C -0.34375 -2.296875 -0.421875 -2.140625 -0.640625 -2.140625 C -0.671875 -2.140625 -0.71875 -2.140625 -0.78125 -2.15625 L -3.203125 -2.625 C -3.125 -2.84375 -3.09375 -3.03125 -3.09375 -3.40625 C -3.09375 -5.328125 -4.390625 -6.125 -5.328125 -6.296875 C -5.4375 -6.3125 -5.546875 -6.328125 -5.671875 -6.328125 C -6.3125 -6.328125 -7.15625 -5.953125 -7.15625 -4.34375 C -7.15625 -4.0625 -7.0625 -3.390625 -7.0625 -2.953125 C -7.0625 -2.546875 -7.078125 -2 -7.09375 -1.625 L -7.0625 -1.59375 L -6.828125 -1.546875 C -6.796875 -1.53125 -6.765625 -1.5625 -6.765625 -1.59375 L -6.75 -2 C -6.734375 -2.15625 -6.65625 -2.390625 -6.390625 -2.390625 C -6.359375 -2.390625 -6.3125 -2.390625 -6.28125 -2.375 Z M -6.28125 -3.234375 C -6.609375 -3.28125 -6.796875 -3.421875 -6.796875 -4.1875 C -6.796875 -4.8125 -6.59375 -5.40625 -5.703125 -5.40625 C -5.53125 -5.40625 -5.34375 -5.375 -5.125 -5.328125 C -3.9375 -5.109375 -3.46875 -4.453125 -3.46875 -3.421875 C -3.46875 -3.171875 -3.484375 -2.796875 -3.515625 -2.6875 Z M -6.28125 -3.234375 \"/>\n",
       "</symbol>\n",
       "<symbol overflow=\"visible\" id=\"glyph-1601166393153061-4-2\">\n",
       "<path style=\"stroke:none;\" d=\"M -3 -0.46875 C -0.59375 -0.46875 1.125 -1.625 2.03125 -3.390625 L 1.734375 -3.5625 C 0.671875 -1.953125 -0.796875 -1.375 -3 -1.375 C -5.1875 -1.375 -6.65625 -1.953125 -7.71875 -3.5625 L -8 -3.390625 C -7.09375 -1.625 -5.390625 -0.46875 -3 -0.46875 Z M -3 -0.46875 \"/>\n",
       "</symbol>\n",
       "<symbol overflow=\"visible\" id=\"glyph-1601166393153061-4-3\">\n",
       "<path style=\"stroke:none;\" d=\"M -7.203125 -3.859375 L -7.203125 -3.171875 L -0.21875 -0.390625 C -0.109375 -0.34375 -0.109375 -0.328125 -0.078125 -0.328125 C -0.015625 -0.328125 0 -0.421875 0 -0.5625 L 0 -6.34375 C 0 -6.53125 -0.015625 -6.578125 -0.0625 -6.578125 C -0.09375 -6.578125 -0.125 -6.5625 -0.21875 -6.53125 Z M -6.09375 -3.28125 L -6.09375 -3.3125 L -0.375 -5.484375 L -0.375 -1.0625 Z M -6.09375 -3.28125 \"/>\n",
       "</symbol>\n",
       "<symbol overflow=\"visible\" id=\"glyph-1601166393153061-4-4\">\n",
       "<path style=\"stroke:none;\" d=\"M -7.078125 -6.15625 C -7.09375 -6.15625 -7.109375 -6.140625 -7.109375 -6.109375 C -7.078125 -5.921875 -7.0625 -5.859375 -7.0625 -5.609375 L -7.0625 -2.953125 C -7.0625 -2.546875 -7.078125 -2.109375 -7.09375 -1.625 L -7.0625 -1.59375 L -6.84375 -1.5625 C -6.8125 -1.546875 -6.765625 -1.546875 -6.765625 -1.625 L -6.75 -1.921875 C -6.71875 -2.25 -6.640625 -2.40625 -6.40625 -2.40625 C -6.359375 -2.40625 -6.3125 -2.390625 -6.25 -2.375 L -0.78125 -1.3125 C -0.484375 -1.25 -0.34375 -1.09375 -0.3125 -0.671875 L -0.296875 -0.359375 C -0.296875 -0.296875 -0.25 -0.28125 -0.21875 -0.265625 L 0 -0.21875 L 0.015625 -0.234375 C 0.015625 -0.734375 0 -1.171875 0 -1.578125 L 0 -3.828125 C 0 -4.34375 0.015625 -5.171875 0.015625 -5.171875 C -0.546875 -5.40625 -1.234375 -5.671875 -1.8125 -5.921875 L -1.859375 -5.59375 C -1.078125 -5.234375 -0.421875 -4.703125 -0.421875 -3.90625 L -0.421875 -2.46875 C -0.421875 -2.28125 -0.46875 -2.140625 -0.671875 -2.140625 C -0.71875 -2.140625 -0.75 -2.140625 -0.78125 -2.15625 L -3.53125 -2.6875 L -3.53125 -4.03125 C -3.53125 -4.359375 -3.46875 -4.484375 -3.203125 -4.484375 C -3.1875 -4.484375 -3.15625 -4.484375 -3.125 -4.484375 L -2.84375 -4.453125 C -2.8125 -4.453125 -2.765625 -4.453125 -2.765625 -4.515625 L -2.765625 -4.75 L -2.796875 -4.796875 C -3.234375 -4.84375 -3.53125 -4.890625 -3.75 -4.9375 C -3.96875 -4.96875 -4.296875 -5.046875 -4.734375 -5.171875 L -4.78125 -5.140625 L -4.78125 -4.90625 C -4.78125 -4.859375 -4.734375 -4.8125 -4.6875 -4.8125 L -4.421875 -4.734375 C -4.109375 -4.640625 -3.953125 -4.484375 -3.953125 -4.125 L -3.953125 -2.78125 L -6.25 -3.21875 C -6.515625 -3.28125 -6.625 -3.421875 -6.625 -3.6875 L -6.625 -4.78125 C -6.625 -5.5625 -6.1875 -5.671875 -5.4375 -5.765625 L -5.484375 -6.0625 C -5.9375 -6.109375 -6.984375 -6.15625 -7.078125 -6.15625 Z M -7.078125 -6.15625 \"/>\n",
       "</symbol>\n",
       "<symbol overflow=\"visible\" id=\"glyph-1601166393153061-4-5\">\n",
       "<path style=\"stroke:none;\" d=\"M 2.1875 -1.140625 L -7.890625 -5.21875 C -7.984375 -5.109375 -7.984375 -4.71875 -7.890625 -4.625 L 2.1875 -0.546875 C 2.296875 -0.640625 2.296875 -1.046875 2.1875 -1.140625 Z M 2.1875 -1.140625 \"/>\n",
       "</symbol>\n",
       "<symbol overflow=\"visible\" id=\"glyph-1601166393153061-4-6\">\n",
       "<path style=\"stroke:none;\" d=\"M -3.703125 -1.203125 L -6.25 -6.453125 C -6.390625 -6.578125 -6.734375 -6.578125 -6.875 -6.453125 L -4.046875 -0.640625 C -3.96875 -0.578125 -3.8125 -0.546875 -3.703125 -0.546875 C -3.609375 -0.546875 -3.421875 -0.578125 -3.359375 -0.640625 L -0.53125 -6.453125 C -0.671875 -6.578125 -1.015625 -6.578125 -1.15625 -6.453125 Z M 0.5625 -6.453125 L -2.265625 -0.640625 C -2.203125 -0.578125 -2.109375 -0.546875 -2 -0.546875 C -1.890625 -0.546875 -1.71875 -0.578125 -1.65625 -0.640625 L 1.171875 -6.453125 C 1.046875 -6.578125 0.6875 -6.578125 0.5625 -6.453125 Z M 0.5625 -6.453125 \"/>\n",
       "</symbol>\n",
       "<symbol overflow=\"visible\" id=\"glyph-1601166393153061-4-7\">\n",
       "<path style=\"stroke:none;\" d=\"M -3.390625 -2.1875 L -2.3125 -2.578125 L -0.796875 -1.5625 C -0.640625 -1.453125 -0.59375 -1.328125 -0.59375 -1.25 C -0.59375 -1.15625 -0.609375 -1.046875 -0.65625 -0.953125 C -0.703125 -0.859375 -0.71875 -0.75 -0.71875 -0.640625 C -0.71875 -0.390625 -0.546875 -0.21875 -0.3125 -0.21875 C -0.015625 -0.21875 0.109375 -0.609375 0.109375 -0.859375 C 0.109375 -1.234375 -0.0625 -1.484375 -0.75 -1.96875 L -1.84375 -2.734375 L -0.5 -3.15625 C -0.0625 -3.296875 0.109375 -3.40625 0.109375 -3.78125 C 0.109375 -4.15625 -0.09375 -4.640625 -0.671875 -4.984375 C -0.765625 -4.9375 -0.859375 -4.84375 -0.875 -4.71875 C -0.515625 -4.4375 -0.421875 -4.296875 -0.421875 -4.171875 C -0.421875 -4.078125 -0.5625 -4 -0.828125 -3.90625 L -2.59375 -3.3125 L -3.828125 -4.15625 C -4.078125 -4.328125 -4.125 -4.59375 -4.125 -4.671875 C -4.125 -4.75 -4.078125 -4.890625 -4.015625 -5 C -3.9375 -5.078125 -3.90625 -5.25 -3.90625 -5.359375 C -3.90625 -5.515625 -4.125 -5.703125 -4.375 -5.703125 C -4.640625 -5.703125 -4.8125 -5.40625 -4.8125 -5.15625 C -4.8125 -4.609375 -4.625 -4.25 -3.84375 -3.71875 L -3.0625 -3.171875 L -4.015625 -2.859375 C -4.59375 -2.671875 -4.8125 -2.546875 -4.8125 -2.28125 C -4.8125 -2.03125 -4.359375 -1.21875 -4.078125 -0.828125 C -3.953125 -0.84375 -3.828125 -0.890625 -3.734375 -0.96875 C -3.796875 -1.109375 -3.96875 -1.46875 -3.96875 -1.703125 C -3.96875 -1.84375 -3.9375 -1.953125 -3.84375 -2 C -3.75 -2.046875 -3.578125 -2.125 -3.390625 -2.1875 Z M -3.390625 -2.1875 \"/>\n",
       "</symbol>\n",
       "<symbol overflow=\"visible\" id=\"glyph-1601166393153061-4-8\">\n",
       "<path style=\"stroke:none;\" d=\"M -3 -3.421875 C -5.390625 -3.421875 -7.09375 -2.28125 -8 -0.515625 L -7.71875 -0.34375 C -6.65625 -1.9375 -5.1875 -2.53125 -3 -2.53125 C -0.796875 -2.53125 0.671875 -1.9375 1.734375 -0.34375 L 2.03125 -0.515625 C 1.125 -2.28125 -0.59375 -3.421875 -3 -3.421875 Z M -3 -3.421875 \"/>\n",
       "</symbol>\n",
       "<symbol overflow=\"visible\" id=\"glyph-1601166393153061-5-0\">\n",
       "<path style=\"stroke:none;\" d=\"M 0 0 L 0 -3.828125 L -5.359375 -3.828125 L -5.359375 0 Z M -0.390625 -0.609375 L -2.328125 -1.921875 L -0.390625 -3.21875 Z M -4.625 -0.390625 L -2.671875 -1.6875 L -0.734375 -0.390625 Z M -2.671875 -2.140625 L -4.625 -3.453125 L -0.734375 -3.453125 Z M -3.015625 -1.921875 L -4.96875 -0.609375 L -4.96875 -3.21875 Z M -3.015625 -1.921875 \"/>\n",
       "</symbol>\n",
       "<symbol overflow=\"visible\" id=\"glyph-1601166393153061-5-1\">\n",
       "<path style=\"stroke:none;\" d=\"M -2.75 -1.296875 C -2.984375 -1.296875 -3.25 -1.28125 -3.328125 -1.25 C -3.375 -1.234375 -3.390625 -1.21875 -3.390625 -1.15625 C -3.3125 -0.9375 -3.234375 -0.734375 -3.171875 -0.203125 C -3.125 -0.1875 -3 -0.203125 -2.953125 -0.21875 C -2.921875 -0.640625 -2.875 -0.71875 -2.4375 -0.71875 L -0.9375 -0.71875 C -0.3125 -0.71875 -0.265625 -0.625 -0.234375 -0.203125 C -0.1875 -0.15625 -0.03125 -0.15625 0.015625 -0.203125 C 0 -0.421875 0 -0.71875 0 -1.03125 C 0 -1.328125 0 -1.578125 0.015625 -1.796875 C -0.03125 -1.84375 -0.1875 -1.84375 -0.234375 -1.796875 C -0.28125 -1.40625 -0.3125 -1.328125 -0.9375 -1.328125 L -2.1875 -1.328125 C -2.359375 -1.328125 -2.453125 -1.390625 -2.515625 -1.453125 C -2.8125 -1.765625 -2.96875 -2.046875 -2.96875 -2.28125 C -2.96875 -2.578125 -2.78125 -2.796875 -2.265625 -2.796875 L -0.9375 -2.796875 C -0.3125 -2.796875 -0.265625 -2.734375 -0.234375 -2.3125 C -0.1875 -2.28125 -0.03125 -2.28125 0.015625 -2.3125 C 0 -2.515625 0 -2.796875 0 -3.09375 C 0 -3.40625 0 -3.65625 0.015625 -3.84375 C -0.03125 -3.890625 -0.1875 -3.890625 -0.234375 -3.84375 C -0.265625 -3.46875 -0.3125 -3.40625 -0.9375 -3.40625 L -2.15625 -3.40625 C -2.265625 -3.40625 -2.375 -3.40625 -2.46875 -3.390625 C -2.875 -3.765625 -2.96875 -4.109375 -2.96875 -4.40625 C -2.96875 -4.6875 -2.796875 -4.859375 -2.28125 -4.859375 L -0.9375 -4.859375 C -0.3125 -4.859375 -0.265625 -4.78125 -0.234375 -4.390625 C -0.1875 -4.34375 -0.03125 -4.34375 0.015625 -4.390625 C 0 -4.578125 0 -4.859375 0 -5.171875 C 0 -5.484375 0 -5.75 0.015625 -5.96875 C -0.03125 -6 -0.1875 -6 -0.234375 -5.96875 C -0.265625 -5.546875 -0.3125 -5.46875 -0.9375 -5.46875 L -2.140625 -5.46875 C -2.828125 -5.46875 -3.375 -5.359375 -3.375 -4.6875 C -3.375 -4.28125 -3.21875 -3.8125 -2.796875 -3.40625 C -2.78125 -3.390625 -2.734375 -3.34375 -2.8125 -3.328125 C -3.125 -3.265625 -3.375 -2.96875 -3.375 -2.5625 C -3.375 -2.125 -3.109375 -1.71875 -2.75 -1.390625 C -2.703125 -1.359375 -2.65625 -1.3125 -2.75 -1.296875 Z M -2.75 -1.296875 \"/>\n",
       "</symbol>\n",
       "<symbol overflow=\"visible\" id=\"glyph-1601166393153061-5-2\">\n",
       "<path style=\"stroke:none;\" d=\"M -0.375 -2.25 C -0.125 -2.296875 0.078125 -2.375 0.078125 -2.765625 C 0.078125 -3.046875 -0.046875 -3.328125 -0.203125 -3.484375 C -0.296875 -3.46875 -0.375 -3.4375 -0.421875 -3.359375 C -0.375 -3.3125 -0.296875 -3.171875 -0.296875 -3.078125 C -0.296875 -2.859375 -0.59375 -2.84375 -0.9375 -2.84375 L -2.078125 -2.84375 C -3.15625 -2.84375 -3.375 -2.25 -3.375 -1.6875 C -3.375 -1.0625 -2.953125 -0.421875 -2.515625 -0.421875 C -2.328125 -0.421875 -2.234375 -0.515625 -2.234375 -0.6875 C -2.234375 -0.90625 -2.40625 -1.046875 -2.5 -1.046875 C -2.5625 -1.046875 -2.609375 -1.046875 -2.640625 -1.03125 C -2.65625 -1.015625 -2.703125 -1.015625 -2.796875 -1.015625 C -3.03125 -1.015625 -3.109375 -1.328125 -3.109375 -1.625 C -3.109375 -1.890625 -2.984375 -2.25 -2.125 -2.25 C -2.0625 -2.25 -2.03125 -2.21875 -2.03125 -2.203125 L -1.859375 -1.546875 C -1.6875 -0.8125 -1.28125 -0.28125 -0.75 -0.28125 C -0.125 -0.28125 0.078125 -0.703125 0.078125 -1.25 C 0.078125 -1.515625 0.015625 -1.734375 -0.25 -2.078125 L -0.375 -2.234375 Z M -1.78125 -2.25 L -0.78125 -2.25 C -0.671875 -2.25 -0.625 -2.203125 -0.578125 -2.140625 C -0.421875 -1.9375 -0.234375 -1.6875 -0.234375 -1.46875 C -0.234375 -1.078125 -0.546875 -0.90625 -0.78125 -0.90625 C -1.125 -0.90625 -1.484375 -1.078125 -1.625 -1.640625 Z M -1.78125 -2.25 \"/>\n",
       "</symbol>\n",
       "<symbol overflow=\"visible\" id=\"glyph-1601166393153061-5-3\">\n",
       "<path style=\"stroke:none;\" d=\"M -2.75 -1.390625 C -3 -1.21875 -3.015625 -1.28125 -3.046875 -1.625 C -3.09375 -1.671875 -3.265625 -1.671875 -3.3125 -1.625 C -3.296875 -1.40625 -3.296875 -1.078125 -3.296875 -0.84375 C -3.296875 -0.609375 -3.296875 -0.390625 -3.3125 -0.1875 C -3.265625 -0.140625 -3.09375 -0.140625 -3.046875 -0.1875 C -3.03125 -0.4375 -2.90625 -0.65625 -2.578125 -0.875 L -1.609375 -1.546875 C -1.5625 -1.578125 -1.53125 -1.578125 -1.5 -1.546875 L -0.671875 -0.90625 C -0.28125 -0.59375 -0.25 -0.421875 -0.234375 -0.15625 C -0.1875 -0.109375 -0.03125 -0.109375 0.015625 -0.15625 C 0 -0.3125 0 -0.484375 0 -0.71875 C 0 -0.9375 0 -1.15625 0.015625 -1.359375 C -0.03125 -1.40625 -0.1875 -1.40625 -0.234375 -1.359375 C -0.265625 -1.078125 -0.296875 -1.015625 -0.546875 -1.1875 L -1.25 -1.671875 C -1.328125 -1.734375 -1.328125 -1.765625 -1.265625 -1.8125 L -0.640625 -2.25 C -0.28125 -2.53125 -0.265625 -2.40625 -0.234375 -2.15625 C -0.1875 -2.109375 -0.03125 -2.109375 0.015625 -2.15625 C 0 -2.390625 0 -2.640625 0 -2.921875 C 0 -3.203125 0 -3.40625 0.015625 -3.59375 C -0.03125 -3.640625 -0.1875 -3.640625 -0.234375 -3.59375 C -0.265625 -3.25 -0.28125 -3.140625 -0.71875 -2.828125 L -1.703125 -2.140625 C -1.734375 -2.109375 -1.765625 -2.109375 -1.8125 -2.140625 L -2.625 -2.78125 C -2.984375 -3.0625 -3.03125 -3.25 -3.046875 -3.53125 C -3.09375 -3.578125 -3.265625 -3.578125 -3.3125 -3.53125 C -3.296875 -3.375 -3.296875 -3.203125 -3.296875 -2.96875 C -3.296875 -2.734375 -3.296875 -2.53125 -3.3125 -2.328125 C -3.265625 -2.28125 -3.09375 -2.28125 -3.046875 -2.328125 C -3.015625 -2.609375 -3 -2.6875 -2.734375 -2.515625 L -2.046875 -2.015625 C -1.96875 -1.953125 -1.96875 -1.921875 -2.0625 -1.859375 Z M -2.75 -1.390625 \"/>\n",
       "</symbol>\n",
       "</g>\n",
       "<clipPath id=\"clip-1601166393153061-1\">\n",
       "  <path d=\"M 37.808594 7.023438 L 280.976562 7.023438 L 280.976562 178.195312 L 37.808594 178.195312 Z M 37.808594 7.023438 \"/>\n",
       "</clipPath>\n",
       "</defs>\n",
       "<g id=\"surface1\">\n",
       "<path style=\" stroke:none;fill-rule:nonzero;fill:rgb(100%,100%,100%);fill-opacity:1;\" d=\"M 37.808594 178.195312 L 280.976562 178.195312 L 280.976562 7.023438 L 37.808594 7.023438 Z M 37.808594 178.195312 \"/>\n",
       "<path style=\"fill:none;stroke-width:0.49814;stroke-linecap:butt;stroke-linejoin:miter;stroke:rgb(13.331604%,13.331604%,33.332825%);stroke-opacity:0.1;stroke-miterlimit:10;\" d=\"M 0.00159375 -0.0013125 L 0.00159375 171.170562 M 48.634406 -0.0013125 L 48.634406 171.170562 M 97.267219 -0.0013125 L 97.267219 171.170562 M 145.903938 -0.0013125 L 145.903938 171.170562 M 194.53675 -0.0013125 L 194.53675 171.170562 M 243.169563 -0.0013125 L 243.169563 171.170562 \" transform=\"matrix(1,0,0,-1,37.807,178.194)\"/>\n",
       "<path style=\"fill:none;stroke-width:0.49814;stroke-linecap:butt;stroke-linejoin:miter;stroke:rgb(13.331604%,13.331604%,33.332825%);stroke-opacity:0.1;stroke-miterlimit:10;\" d=\"M 0.00159375 -0.0013125 L 243.169563 -0.0013125 M 0.00159375 34.233062 L 243.169563 34.233062 M 0.00159375 68.467437 L 243.169563 68.467437 M 0.00159375 102.701812 L 243.169563 102.701812 M 0.00159375 136.936187 L 243.169563 136.936187 M 0.00159375 171.170562 L 243.169563 171.170562 \" transform=\"matrix(1,0,0,-1,37.807,178.194)\"/>\n",
       "<path style=\"fill:none;stroke-width:0.19925;stroke-linecap:butt;stroke-linejoin:miter;stroke:rgb(50%,50%,50%);stroke-opacity:1;stroke-miterlimit:10;\" d=\"M 0.00159375 -0.0013125 L 0.00159375 4.252594 M 48.634406 -0.0013125 L 48.634406 4.252594 M 97.267219 -0.0013125 L 97.267219 4.252594 M 145.903938 -0.0013125 L 145.903938 4.252594 M 194.53675 -0.0013125 L 194.53675 4.252594 M 243.169563 -0.0013125 L 243.169563 4.252594 M 0.00159375 171.170562 L 0.00159375 166.916656 M 48.634406 171.170562 L 48.634406 166.916656 M 97.267219 171.170562 L 97.267219 166.916656 M 145.903938 171.170562 L 145.903938 166.916656 M 194.53675 171.170562 L 194.53675 166.916656 M 243.169563 171.170562 L 243.169563 166.916656 \" transform=\"matrix(1,0,0,-1,37.807,178.194)\"/>\n",
       "<path style=\"fill:none;stroke-width:0.19925;stroke-linecap:butt;stroke-linejoin:miter;stroke:rgb(50%,50%,50%);stroke-opacity:1;stroke-miterlimit:10;\" d=\"M 0.00159375 -0.0013125 L 4.251594 -0.0013125 M 0.00159375 34.233062 L 4.251594 34.233062 M 0.00159375 68.467437 L 4.251594 68.467437 M 0.00159375 102.701812 L 4.251594 102.701812 M 0.00159375 136.936187 L 4.251594 136.936187 M 0.00159375 171.170562 L 4.251594 171.170562 M 243.169563 -0.0013125 L 238.919563 -0.0013125 M 243.169563 34.233062 L 238.919563 34.233062 M 243.169563 68.467437 L 238.919563 68.467437 M 243.169563 102.701812 L 238.919563 102.701812 M 243.169563 136.936187 L 238.919563 136.936187 M 243.169563 171.170562 L 238.919563 171.170562 \" transform=\"matrix(1,0,0,-1,37.807,178.194)\"/>\n",
       "<g style=\"fill:rgb(0%,0%,0%);fill-opacity:1;\">\n",
       "  <use xlink:href=\"#glyph-1601166393153061-0-1\" x=\"30.933\" y=\"189.006\"/>\n",
       "  <use xlink:href=\"#glyph-1601166393153061-0-2\" x=\"36.492154\" y=\"189.006\"/>\n",
       "  <use xlink:href=\"#glyph-1601166393153061-0-1\" x=\"39.122291\" y=\"189.006\"/>\n",
       "</g>\n",
       "<g style=\"fill:rgb(0%,0%,0%);fill-opacity:1;\">\n",
       "  <use xlink:href=\"#glyph-1601166393153061-0-1\" x=\"79.566\" y=\"189.006\"/>\n",
       "  <use xlink:href=\"#glyph-1601166393153061-0-2\" x=\"85.125154\" y=\"189.006\"/>\n",
       "  <use xlink:href=\"#glyph-1601166393153061-0-3\" x=\"87.755291\" y=\"189.006\"/>\n",
       "</g>\n",
       "<g style=\"fill:rgb(0%,0%,0%);fill-opacity:1;\">\n",
       "  <use xlink:href=\"#glyph-1601166393153061-0-1\" x=\"128.2\" y=\"189.006\"/>\n",
       "  <use xlink:href=\"#glyph-1601166393153061-0-2\" x=\"133.759154\" y=\"189.006\"/>\n",
       "  <use xlink:href=\"#glyph-1601166393153061-0-4\" x=\"136.389291\" y=\"189.006\"/>\n",
       "</g>\n",
       "<g style=\"fill:rgb(0%,0%,0%);fill-opacity:1;\">\n",
       "  <use xlink:href=\"#glyph-1601166393153061-0-1\" x=\"176.833\" y=\"189.018\"/>\n",
       "  <use xlink:href=\"#glyph-1601166393153061-0-2\" x=\"182.392154\" y=\"189.018\"/>\n",
       "  <use xlink:href=\"#glyph-1601166393153061-0-5\" x=\"185.022291\" y=\"189.018\"/>\n",
       "</g>\n",
       "<g style=\"fill:rgb(0%,0%,0%);fill-opacity:1;\">\n",
       "  <use xlink:href=\"#glyph-1601166393153061-0-1\" x=\"225.467\" y=\"189.006\"/>\n",
       "  <use xlink:href=\"#glyph-1601166393153061-0-2\" x=\"231.026154\" y=\"189.006\"/>\n",
       "  <use xlink:href=\"#glyph-1601166393153061-0-6\" x=\"233.656291\" y=\"189.006\"/>\n",
       "</g>\n",
       "<g style=\"fill:rgb(0%,0%,0%);fill-opacity:1;\">\n",
       "  <use xlink:href=\"#glyph-1601166393153061-0-7\" x=\"274.1\" y=\"189.006\"/>\n",
       "  <use xlink:href=\"#glyph-1601166393153061-0-2\" x=\"279.659154\" y=\"189.006\"/>\n",
       "  <use xlink:href=\"#glyph-1601166393153061-0-1\" x=\"282.289291\" y=\"189.006\"/>\n",
       "</g>\n",
       "<g style=\"fill:rgb(0%,0%,0%);fill-opacity:1;\">\n",
       "  <use xlink:href=\"#glyph-1601166393153061-0-1\" x=\"20.539\" y=\"181.78\"/>\n",
       "  <use xlink:href=\"#glyph-1601166393153061-0-2\" x=\"26.098154\" y=\"181.78\"/>\n",
       "  <use xlink:href=\"#glyph-1601166393153061-0-1\" x=\"28.728291\" y=\"181.78\"/>\n",
       "</g>\n",
       "<g style=\"fill:rgb(0%,0%,0%);fill-opacity:1;\">\n",
       "  <use xlink:href=\"#glyph-1601166393153061-0-1\" x=\"20.539\" y=\"147.547\"/>\n",
       "  <use xlink:href=\"#glyph-1601166393153061-0-2\" x=\"26.098154\" y=\"147.547\"/>\n",
       "  <use xlink:href=\"#glyph-1601166393153061-0-3\" x=\"28.728291\" y=\"147.547\"/>\n",
       "</g>\n",
       "<g style=\"fill:rgb(0%,0%,0%);fill-opacity:1;\">\n",
       "  <use xlink:href=\"#glyph-1601166393153061-0-1\" x=\"20.539\" y=\"113.313\"/>\n",
       "  <use xlink:href=\"#glyph-1601166393153061-0-2\" x=\"26.098154\" y=\"113.313\"/>\n",
       "  <use xlink:href=\"#glyph-1601166393153061-0-4\" x=\"28.728291\" y=\"113.313\"/>\n",
       "</g>\n",
       "<g style=\"fill:rgb(0%,0%,0%);fill-opacity:1;\">\n",
       "  <use xlink:href=\"#glyph-1601166393153061-0-1\" x=\"20.539\" y=\"79.08\"/>\n",
       "  <use xlink:href=\"#glyph-1601166393153061-0-2\" x=\"26.098154\" y=\"79.08\"/>\n",
       "  <use xlink:href=\"#glyph-1601166393153061-0-5\" x=\"28.728291\" y=\"79.08\"/>\n",
       "</g>\n",
       "<g style=\"fill:rgb(0%,0%,0%);fill-opacity:1;\">\n",
       "  <use xlink:href=\"#glyph-1601166393153061-0-1\" x=\"20.539\" y=\"44.846\"/>\n",
       "  <use xlink:href=\"#glyph-1601166393153061-0-2\" x=\"26.098154\" y=\"44.846\"/>\n",
       "  <use xlink:href=\"#glyph-1601166393153061-0-6\" x=\"28.728291\" y=\"44.846\"/>\n",
       "</g>\n",
       "<g style=\"fill:rgb(0%,0%,0%);fill-opacity:1;\">\n",
       "  <use xlink:href=\"#glyph-1601166393153061-0-7\" x=\"20.539\" y=\"10.613\"/>\n",
       "  <use xlink:href=\"#glyph-1601166393153061-0-2\" x=\"26.098154\" y=\"10.613\"/>\n",
       "  <use xlink:href=\"#glyph-1601166393153061-0-1\" x=\"28.728291\" y=\"10.613\"/>\n",
       "</g>\n",
       "<g clip-path=\"url(#clip-1601166393153061-1)\" clip-rule=\"nonzero\">\n",
       "<path style=\"fill:none;stroke-width:1.19553;stroke-linecap:butt;stroke-linejoin:miter;stroke:rgb(93.331909%,46.665955%,19.999695%);stroke-opacity:1;stroke-miterlimit:10;\" d=\"M 0.00159375 -0.0013125 L 0.00159375 4.22525 L 6.775031 6.338531 L 6.775031 12.678375 L 13.552375 14.791656 L 13.552375 16.904937 L 21.927375 19.018219 L 21.927375 25.358062 L 28.700813 27.471344 L 28.700813 38.03775 L 35.478156 40.151031 L 35.478156 46.490875 L 42.2555 48.604156 L 42.2555 50.717437 L 50.6305 52.830719 L 50.6305 59.170562 L 57.403938 61.283844 L 57.403938 71.85025 L 64.181281 73.963531 L 64.181281 80.303375 L 70.954719 82.416656 L 70.954719 84.529937 L 86.107063 86.643219 L 86.107063 97.209625 L 92.884406 99.322906 L 92.884406 105.658844 L 99.657844 107.772125 L 99.657844 109.885406 L 114.810188 111.998687 L 114.810188 122.565094 L 121.587531 124.678375 L 121.587531 131.018219 L 128.360969 133.1315 L 128.360969 135.244781 L 150.28675 137.358062 L 150.28675 143.697906 L 157.064094 145.811187 L 157.064094 147.924469 L 178.989875 150.03775 L 178.989875 156.377594 L 185.767219 158.490875 L 185.767219 160.604156 L 214.470344 162.717437 L 214.470344 164.830719 L 243.169563 166.944 L 243.169563 169.057281 \" transform=\"matrix(1,0,0,-1,37.807,178.194)\"/>\n",
       "<path style=\"fill:none;stroke-width:1.19553;stroke-linecap:butt;stroke-linejoin:miter;stroke:rgb(0%,46.665955%,73.33374%);stroke-opacity:1;stroke-miterlimit:10;\" d=\"M 0.00159375 -0.0013125 L 0.00159375 5.635406 L 3.6305 6.338531 L 3.6305 8.451812 L 7.84925 9.158844 L 7.84925 12.678375 L 11.478156 13.385406 L 11.478156 21.1315 L 15.110969 21.834625 L 15.110969 22.541656 L 15.212531 23.244781 L 15.212531 25.358062 L 18.845344 26.061187 L 18.845344 30.994781 L 26.693 31.697906 L 26.693 36.627594 L 30.321906 37.334625 L 30.321906 45.080719 L 38.169563 45.78775 L 38.169563 53.533844 L 41.802375 54.240875 L 41.802375 59.170562 L 45.53675 59.873687 L 45.53675 63.397125 L 49.165656 64.10025 L 49.165656 66.213531 L 53.384406 66.916656 L 53.384406 67.623687 L 57.013313 68.326812 L 57.013313 76.076812 L 60.646125 76.779937 L 60.646125 80.303375 L 64.864875 81.0065 L 64.864875 83.119781 L 68.493781 83.822906 L 68.493781 95.799469 L 72.126594 96.502594 L 72.126594 98.615875 L 75.857063 99.322906 L 75.857063 101.436187 L 83.708625 102.139312 L 83.708625 104.252594 L 87.337531 104.955719 L 87.337531 109.885406 L 95.185188 110.592437 L 95.185188 115.522125 L 98.818 116.22525 L 98.818 123.97525 L 106.181281 124.678375 L 106.181281 125.385406 L 114.028938 126.088531 L 114.028938 129.611969 L 117.66175 130.315094 L 117.66175 132.428375 L 121.876594 133.1315 L 121.876594 133.838531 L 125.509406 134.541656 L 125.509406 142.291656 L 129.142219 142.994781 L 129.142219 146.514312 L 144.353156 147.221344 L 144.353156 149.334625 L 152.200813 150.03775 L 152.200813 152.151031 L 155.833625 152.854156 L 155.833625 157.78775 L 174.677375 158.490875 L 174.677375 159.194 L 182.525031 159.901031 L 182.525031 163.420562 L 186.157844 164.127594 L 186.157844 166.240875 L 212.84925 166.944 L 212.84925 169.057281 L 243.169563 169.760406 L 243.169563 170.467437 \" transform=\"matrix(1,0,0,-1,37.807,178.194)\"/>\n",
       "<path style=\"fill:none;stroke-width:1.19553;stroke-linecap:butt;stroke-linejoin:miter;stroke:rgb(19.999695%,73.33374%,93.331909%);stroke-opacity:1;stroke-miterlimit:10;\" d=\"M 0.00159375 -0.0013125 L 0.00159375 1.877594 L 1.646125 2.111969 L 1.646125 3.7565 L 3.290656 3.990875 L 3.290656 4.22525 L 3.462531 4.459625 L 3.462531 5.166656 L 5.107063 5.401031 L 5.107063 7.983062 L 6.751594 8.217437 L 6.751594 10.799469 L 7.200813 11.033844 L 7.200813 12.678375 L 8.400031 12.91275 L 8.400031 13.619781 L 8.84925 13.854156 L 8.84925 15.026031 L 10.216438 15.260406 L 10.216438 16.436187 L 10.665656 16.670562 L 10.665656 17.373687 L 12.310188 17.611969 L 12.310188 20.194 L 13.954719 20.428375 L 13.954719 23.010406 L 15.59925 23.244781 L 15.59925 23.947906 L 15.775031 24.186187 L 15.775031 24.420562 L 17.419563 24.654937 L 17.419563 26.299469 L 19.064094 26.533844 L 19.064094 30.526031 L 20.708625 30.760406 L 20.708625 32.401031 L 22.353156 32.639312 L 22.353156 32.873687 L 22.525031 33.108062 L 22.525031 33.811187 L 24.173469 34.045562 L 24.173469 36.627594 L 24.622688 36.861969 L 24.622688 38.03775 L 25.818 38.272125 L 25.818 40.854156 L 26.267219 41.088531 L 26.267219 42.733062 L 27.91175 42.967437 L 27.91175 44.143219 L 29.728156 44.377594 L 29.728156 45.080719 L 31.372688 45.315094 L 31.372688 47.901031 L 33.021125 48.135406 L 33.021125 50.717437 L 34.665656 50.951812 L 34.665656 51.654937 L 34.837531 51.889312 L 34.837531 52.127594 L 36.482063 52.361969 L 36.482063 54.002594 L 38.126594 54.240875 L 38.126594 58.229156 L 39.771125 58.467437 L 39.771125 60.108062 L 40.220344 60.342437 L 40.220344 61.049469 L 41.419563 61.283844 L 41.419563 61.518219 L 41.591438 61.752594 L 41.591438 62.455719 L 43.235969 62.690094 L 43.235969 65.276031 L 43.685188 65.510406 L 43.685188 66.682281 L 45.329719 66.916656 L 45.329719 68.561187 L 46.97425 68.795562 L 46.97425 69.971344 L 48.794563 70.205719 L 48.794563 70.908844 L 50.439094 71.143219 L 50.439094 73.729156 L 52.083625 73.963531 L 52.083625 76.545562 L 53.728156 76.779937 L 53.728156 77.483062 L 53.900031 77.717437 L 53.900031 77.955719 L 55.544563 78.190094 L 55.544563 79.830719 L 57.193 80.069 L 57.193 84.057281 L 57.642219 84.295562 L 57.642219 84.998687 L 58.837531 85.233062 L 58.837531 86.877594 L 59.28675 87.111969 L 59.28675 87.815094 L 60.653938 88.049469 L 60.653938 88.7565 L 62.747688 88.990875 L 62.747688 90.16275 L 64.392219 90.397125 L 64.392219 92.041656 L 66.040656 92.276031 L 66.040656 93.451812 L 67.857063 93.686187 L 67.857063 94.389312 L 69.501594 94.623687 L 69.501594 97.209625 L 71.146125 97.444 L 71.146125 100.026031 L 72.790656 100.260406 L 72.790656 100.963531 L 72.966438 101.197906 L 72.966438 101.436187 L 74.610969 101.670562 L 74.610969 103.311187 L 76.2555 103.545562 L 76.2555 107.53775 L 76.704719 107.772125 L 76.704719 108.479156 L 78.34925 108.713531 L 78.34925 109.416656 L 81.814094 109.651031 L 81.814094 110.826812 L 83.458625 111.061187 L 83.458625 112.705719 L 85.103156 112.940094 L 85.103156 114.111969 L 86.919563 114.35025 L 86.919563 115.053375 L 88.564094 115.28775 L 88.564094 117.869781 L 90.212531 118.104156 L 90.212531 120.686187 L 90.66175 120.924469 L 90.66175 121.158844 L 91.857063 121.393219 L 91.857063 122.096344 L 92.028938 122.330719 L 92.028938 122.565094 L 93.673469 122.799469 L 93.673469 124.444 L 95.767219 124.678375 L 95.767219 125.385406 L 97.41175 125.619781 L 97.41175 126.322906 L 100.876594 126.557281 L 100.876594 127.733062 L 102.521125 127.967437 L 102.521125 129.611969 L 104.165656 129.846344 L 104.165656 131.018219 L 105.985969 131.252594 L 105.985969 131.959625 L 107.6305 132.194 L 107.6305 134.776031 L 109.275031 135.010406 L 109.275031 137.592437 L 109.72425 137.826812 L 109.72425 138.065094 L 111.091438 138.299469 L 111.091438 138.533844 L 114.833625 138.768219 L 114.833625 139.471344 L 116.478156 139.705719 L 116.478156 140.41275 L 119.939094 140.647125 L 119.939094 141.819 L 121.587531 142.053375 L 121.587531 143.697906 L 123.232063 143.932281 L 123.232063 145.108062 L 125.048469 145.342437 L 125.048469 146.045562 L 126.693 146.279937 L 126.693 148.865875 L 128.78675 149.10025 L 128.78675 149.334625 L 133.896125 149.569 L 133.896125 150.272125 L 135.540656 150.5065 L 135.540656 151.213531 L 139.0055 151.447906 L 139.0055 152.619781 L 140.650031 152.854156 L 140.650031 154.498687 L 142.294563 154.733062 L 142.294563 155.908844 L 144.110969 156.143219 L 144.110969 156.846344 L 147.853156 157.080719 L 147.853156 157.315094 L 152.958625 157.553375 L 152.958625 158.2565 L 154.607063 158.490875 L 154.607063 159.194 L 158.068 159.428375 L 158.068 160.604156 L 159.712531 160.838531 L 159.712531 162.483062 L 166.915656 162.717437 L 166.915656 162.951812 L 172.025031 163.186187 L 172.025031 163.893219 L 173.669563 164.127594 L 173.669563 164.830719 L 177.1305 165.065094 L 177.1305 166.240875 L 185.978156 166.47525 L 185.978156 166.709625 L 191.087531 166.944 L 191.087531 167.647125 L 192.732063 167.8815 L 192.732063 168.588531 L 205.044563 168.822906 L 205.044563 169.057281 L 210.150031 169.291656 L 210.150031 169.994781 L 224.107063 170.233062 L 224.107063 170.467437 L 243.169563 170.701812 L 243.169563 170.936187 \" transform=\"matrix(1,0,0,-1,37.807,178.194)\"/>\n",
       "<path style=\"fill:none;stroke-width:1.19553;stroke-linecap:butt;stroke-linejoin:miter;stroke:rgb(93.331909%,19.999695%,46.665955%);stroke-opacity:1;stroke-miterlimit:10;\" d=\"M 0.00159375 -0.0013125 L 0.00159375 2.033844 L 1.196906 2.111969 L 1.196906 2.66275 L 1.825813 2.740875 L 1.825813 3.1315 L 2.071906 3.209625 L 2.071906 4.069 L 2.212531 4.147125 L 2.212531 4.697906 L 3.41175 4.776031 L 3.41175 6.572906 L 3.900031 6.651031 L 3.900031 6.889312 L 4.28675 6.967437 L 4.28675 9.705719 L 5.482063 9.783844 L 5.482063 10.643219 L 6.110969 10.721344 L 6.110969 11.584625 L 6.497688 11.66275 L 6.497688 11.897125 L 7.310188 11.97525 L 7.310188 12.834625 L 7.696906 12.91275 L 7.696906 14.088531 L 8.185188 14.166656 L 8.185188 14.713531 L 9.521125 14.791656 L 9.521125 15.967437 L 9.771125 16.045562 L 9.771125 16.592437 L 10.400031 16.670562 L 10.400031 18.002594 L 11.107063 18.080719 L 11.107063 18.315094 L 11.595344 18.393219 L 11.595344 20.194 L 11.982063 20.272125 L 11.982063 20.819 L 12.794563 20.897125 L 12.794563 20.97525 L 13.810188 21.053375 L 13.810188 22.854156 L 15.0055 22.932281 L 15.0055 24.733062 L 15.392219 24.811187 L 15.392219 24.889312 L 15.884406 24.967437 L 15.884406 27.705719 L 17.079719 27.783844 L 17.079719 28.018219 L 17.220344 28.096344 L 17.220344 29.428375 L 17.708625 29.5065 L 17.708625 29.740875 L 18.095344 29.819 L 18.095344 30.994781 L 19.294563 31.072906 L 19.294563 33.811187 L 21.118781 33.889312 L 21.118781 34.748687 L 21.364875 34.830719 L 21.364875 35.221344 L 21.5055 35.299469 L 21.5055 36.158844 L 21.993781 36.236969 L 21.993781 36.783844 L 22.704719 36.861969 L 22.704719 37.72525 L 23.193 37.803375 L 23.193 38.194 L 23.333625 38.272125 L 23.333625 38.5065 L 23.579719 38.584625 L 23.579719 40.385406 L 25.403938 40.463531 L 25.403938 42.264312 L 25.790656 42.342437 L 25.790656 42.733062 L 26.603156 42.811187 L 26.603156 43.361969 L 26.989875 43.440094 L 26.989875 43.986969 L 27.478156 44.065094 L 27.478156 44.924469 L 27.618781 45.002594 L 27.618781 45.393219 L 28.814094 45.471344 L 28.814094 47.272125 L 29.693 47.35025 L 29.693 50.092437 L 30.888313 50.170562 L 30.888313 51.342437 L 31.275031 51.420562 L 31.275031 51.654937 L 31.903938 51.733062 L 31.903938 51.971344 L 33.103156 52.049469 L 33.103156 54.78775 L 33.591438 54.865875 L 33.591438 54.944 L 34.298469 55.022125 L 34.298469 55.8815 L 34.927375 55.959625 L 34.927375 56.194 L 35.177375 56.276031 L 35.177375 58.072906 L 36.513313 58.151031 L 36.513313 59.014312 L 37.001594 59.092437 L 37.001594 59.639312 L 37.388313 59.717437 L 37.388313 61.518219 L 38.587531 61.596344 L 38.587531 62.928375 L 39.212531 63.0065 L 39.212531 63.553375 L 40.41175 63.6315 L 40.41175 64.963531 L 40.798469 65.041656 L 40.798469 65.588531 L 41.28675 65.666656 L 41.28675 66.838531 L 42.485969 66.916656 L 42.485969 67.154937 L 42.626594 67.233062 L 42.626594 67.779937 L 42.872688 67.858062 L 42.872688 68.717437 L 43.501594 68.795562 L 43.501594 69.658844 L 44.696906 69.736969 L 44.696906 72.47525 L 45.083625 72.553375 L 45.083625 72.78775 L 45.896125 72.865875 L 45.896125 73.10025 L 46.771125 73.178375 L 46.771125 73.729156 L 46.91175 73.807281 L 46.91175 74.666656 L 48.107063 74.744781 L 48.107063 75.920562 L 48.985969 75.998687 L 48.985969 80.147125 L 50.181281 80.22525 L 50.181281 80.772125 L 50.810188 80.85025 L 50.810188 81.240875 L 51.196906 81.319 L 51.196906 81.865875 L 52.396125 81.944 L 52.396125 83.744781 L 52.884406 83.822906 L 52.884406 84.057281 L 54.220344 84.135406 L 54.220344 84.686187 L 54.470344 84.764312 L 54.470344 85.623687 L 55.095344 85.701812 L 55.095344 86.565094 L 55.806281 86.643219 L 55.806281 87.033844 L 56.294563 87.111969 L 56.294563 87.971344 L 56.681281 88.049469 L 56.681281 89.22525 L 58.5055 89.303375 L 58.5055 90.47525 L 59.704719 90.553375 L 59.704719 91.416656 L 60.091438 91.494781 L 60.091438 91.729156 L 60.579719 91.807281 L 60.579719 93.608062 L 61.778938 93.686187 L 61.778938 93.764312 L 61.919563 93.842437 L 61.919563 94.701812 L 62.794563 94.779937 L 62.794563 96.580719 L 63.989875 96.658844 L 63.989875 98.459625 L 64.376594 98.53775 L 64.376594 98.615875 L 66.064094 98.694 L 66.064094 98.928375 L 66.204719 99.0065 L 66.204719 100.338531 L 66.693 100.416656 L 66.693 100.651031 L 67.400031 100.729156 L 67.400031 101.276031 L 68.028938 101.354156 L 68.028938 101.436187 L 68.278938 101.514312 L 68.278938 104.252594 L 70.103156 104.330719 L 70.103156 105.190094 L 70.489875 105.268219 L 70.489875 106.1315 L 71.689094 106.209625 L 71.689094 107.069 L 72.177375 107.147125 L 72.177375 107.53775 L 72.318 107.615875 L 72.318 107.85025 L 73.513313 107.932281 L 73.513313 108.791656 L 74.388313 108.869781 L 74.388313 110.670562 L 75.587531 110.748687 L 75.587531 111.295562 L 75.97425 111.373687 L 75.97425 111.920562 L 76.603156 111.998687 L 76.603156 112.393219 L 77.798469 112.471344 L 77.798469 114.268219 L 78.997688 114.35025 L 78.997688 114.740875 L 79.872688 114.819 L 79.872688 115.990875 L 81.212531 116.069 L 81.212531 116.619781 L 82.087531 116.697906 L 82.087531 119.436187 L 83.282844 119.514312 L 83.282844 120.373687 L 83.91175 120.451812 L 83.91175 120.686187 L 85.497688 120.764312 L 85.497688 121.627594 L 85.985969 121.705719 L 85.985969 122.252594 L 87.321906 122.330719 L 87.321906 122.565094 L 87.571906 122.643219 L 87.571906 123.97525 L 88.200813 124.053375 L 88.200813 124.60025 L 89.396125 124.678375 L 89.396125 126.010406 L 89.782844 126.088531 L 89.782844 126.635406 L 91.470344 126.713531 L 91.470344 126.947906 L 91.610969 127.026031 L 91.610969 127.576812 L 92.806281 127.654937 L 92.806281 128.201812 L 93.681281 128.279937 L 93.681281 131.018219 L 94.8805 131.096344 L 94.8805 131.330719 L 95.896125 131.408844 L 95.896125 132.272125 L 97.091438 132.35025 L 97.091438 133.522125 L 99.165656 133.60025 L 99.165656 134.151031 L 99.794563 134.229156 L 99.794563 134.619781 L 100.5055 134.697906 L 100.5055 134.932281 L 101.3805 135.010406 L 101.3805 136.811187 L 103.204719 136.889312 L 103.204719 137.436187 L 104.790656 137.514312 L 104.790656 137.904937 L 105.278938 137.986969 L 105.278938 138.846344 L 106.614875 138.924469 L 106.614875 139.315094 L 107.493781 139.393219 L 107.493781 140.569 L 108.689094 140.647125 L 108.689094 141.5065 L 109.075813 141.584625 L 109.075813 141.819 L 110.763313 141.897125 L 110.763313 141.97525 L 110.903938 142.053375 L 110.903938 142.916656 L 112.09925 142.994781 L 112.09925 143.229156 L 112.97425 143.307281 L 112.97425 145.108062 L 115.189094 145.186187 L 115.189094 146.514312 L 116.388313 146.596344 L 116.388313 147.143219 L 117.013313 147.221344 L 117.013313 147.299469 L 119.087531 147.377594 L 119.087531 148.236969 L 120.673469 148.315094 L 120.673469 149.178375 L 121.302375 149.2565 L 121.302375 149.490875 L 122.497688 149.569 L 122.497688 150.428375 L 124.571906 150.5065 L 124.571906 151.057281 L 125.907844 151.135406 L 125.907844 151.369781 L 126.78675 151.447906 L 126.78675 153.248687 L 127.982063 153.326812 L 127.982063 153.717437 L 130.196906 153.795562 L 130.196906 154.342437 L 132.267219 154.420562 L 132.267219 155.283844 L 132.896125 155.361969 L 132.896125 155.596344 L 134.482063 155.674469 L 134.482063 156.533844 L 136.306281 156.611969 L 136.306281 156.846344 L 138.3805 156.924469 L 138.3805 158.2565 L 140.595344 158.334625 L 140.595344 158.8815 L 141.790656 158.959625 L 141.790656 159.510406 L 143.864875 159.588531 L 143.864875 159.822906 L 145.200813 159.901031 L 145.200813 159.979156 L 146.079719 160.057281 L 146.079719 161.229156 L 149.489875 161.307281 L 149.489875 161.541656 L 152.189094 161.619781 L 152.189094 162.170562 L 153.775031 162.248687 L 153.775031 162.639312 L 155.59925 162.717437 L 155.59925 163.108062 L 157.673469 163.186187 L 157.673469 164.049469 L 159.888313 164.127594 L 159.888313 164.986969 L 161.083625 165.065094 L 161.083625 165.299469 L 165.372688 165.377594 L 165.372688 165.924469 L 165.997688 166.0065 L 165.997688 166.084625 L 171.482063 166.16275 L 171.482063 167.022125 L 174.892219 167.10025 L 174.892219 167.334625 L 176.966438 167.41275 L 176.966438 167.803375 L 179.181281 167.8815 L 179.181281 168.432281 L 185.290656 168.510406 L 185.290656 168.744781 L 190.775031 168.822906 L 190.775031 169.369781 L 194.185188 169.447906 L 194.185188 169.526031 L 198.47425 169.604156 L 198.47425 169.838531 L 204.583625 169.916656 L 204.583625 170.311187 L 210.068 170.389312 L 210.068 170.623687 L 223.876594 170.701812 L 223.876594 170.936187 L 243.169563 171.014312 L 243.169563 171.092437 \" transform=\"matrix(1,0,0,-1,37.807,178.194)\"/>\n",
       "<path style=\"fill:none;stroke-width:1.19553;stroke-linecap:butt;stroke-linejoin:miter;stroke:rgb(79.998779%,19.999695%,6.666565%);stroke-opacity:1;stroke-miterlimit:10;\" d=\"M 0.00159375 -0.0013125 L 0.00159375 0.678375 L 0.021125 0.705719 L 0.021125 0.990875 L 0.5055 1.018219 L 0.5055 1.408844 L 0.7555 1.436187 L 0.7555 1.877594 L 1.013313 1.904937 L 1.013313 1.932281 L 1.239875 1.955719 L 1.239875 2.139312 L 1.259406 2.166656 L 1.259406 2.557281 L 1.626594 2.584625 L 1.626594 2.764312 L 1.747688 2.791656 L 1.747688 3.076812 L 1.767219 3.104156 L 1.767219 3.236969 L 2.110969 3.260406 L 2.110969 3.444 L 2.134406 3.471344 L 2.134406 3.7565 L 2.521125 3.783844 L 2.521125 3.807281 L 2.864875 3.834625 L 2.864875 4.018219 L 2.888313 4.045562 L 2.888313 4.955719 L 3.372688 4.983062 L 3.372688 5.897125 L 3.396125 5.920562 L 3.396125 6.522125 L 3.8805 6.549469 L 3.8805 7.147125 L 3.903938 7.174469 L 3.903938 7.252594 L 4.126594 7.279937 L 4.126594 7.565094 L 4.150031 7.592437 L 4.150031 8.190094 L 4.614875 8.217437 L 4.614875 8.295562 L 4.634406 8.322906 L 4.634406 8.920562 L 4.657844 8.947906 L 4.657844 9.236969 L 5.001594 9.260406 L 5.001594 9.338531 L 5.021125 9.365875 L 5.021125 9.494781 L 5.142219 9.522125 L 5.142219 9.811187 L 5.509406 9.834625 L 5.509406 10.018219 L 5.7555 10.045562 L 5.7555 10.123687 L 5.896125 10.147125 L 5.896125 10.22525 L 6.263313 10.252594 L 6.263313 10.854156 L 6.282844 10.877594 L 6.282844 11.272125 L 6.747688 11.295562 L 6.747688 11.740875 L 6.767219 11.764312 L 6.767219 12.678375 L 6.790656 12.705719 L 6.790656 12.834625 L 7.017219 12.861969 L 7.017219 13.045562 L 7.275031 13.069 L 7.275031 13.252594 L 7.501594 13.279937 L 7.501594 13.408844 L 7.521125 13.436187 L 7.521125 14.35025 L 8.009406 14.373687 L 8.009406 14.768219 L 8.028938 14.791656 L 8.028938 15.393219 L 8.396125 15.420562 L 8.396125 15.498687 L 8.53675 15.522125 L 8.53675 15.60025 L 8.782844 15.627594 L 8.782844 15.811187 L 8.8805 15.834625 L 8.8805 15.91275 L 9.150031 15.940094 L 9.150031 16.229156 L 9.271125 16.252594 L 9.271125 16.385406 L 9.290656 16.408844 L 9.290656 16.486969 L 9.634406 16.514312 L 9.634406 16.799469 L 9.657844 16.826812 L 9.657844 17.428375 L 10.142219 17.451812 L 10.142219 18.053375 L 10.165656 18.080719 L 10.165656 18.365875 L 10.388313 18.393219 L 10.388313 18.471344 L 10.896125 18.498687 L 10.896125 19.096344 L 10.919563 19.123687 L 10.919563 20.03775 L 11.403938 20.061187 L 11.403938 20.97525 L 11.423469 21.002594 L 11.423469 21.186187 L 11.771125 21.209625 L 11.771125 21.236969 L 11.91175 21.264312 L 11.91175 21.444 L 12.157844 21.471344 L 12.157844 21.7565 L 12.177375 21.783844 L 12.177375 21.967437 L 12.525031 21.994781 L 12.525031 22.123687 L 12.642219 22.151031 L 12.642219 22.229156 L 12.665656 22.252594 L 12.665656 22.436187 L 13.028938 22.463531 L 13.028938 22.854156 L 13.052375 22.8815 L 13.052375 23.061187 L 13.53675 23.088531 L 13.53675 23.533844 L 13.782844 23.557281 L 13.782844 23.947906 L 14.271125 23.97525 L 14.271125 24.264312 L 14.290656 24.28775 L 14.290656 25.670562 L 14.314094 25.697906 L 14.314094 25.983062 L 14.778938 26.010406 L 14.778938 26.611969 L 14.798469 26.635406 L 14.798469 27.029937 L 15.044563 27.053375 L 15.044563 27.498687 L 15.306281 27.522125 L 15.306281 27.549469 L 15.532844 27.576812 L 15.532844 27.760406 L 15.552375 27.783844 L 15.552375 28.174469 L 15.919563 28.201812 L 15.919563 28.385406 L 16.03675 28.41275 L 16.03675 28.697906 L 16.060188 28.72525 L 16.060188 28.854156 L 16.403938 28.8815 L 16.403938 29.065094 L 16.423469 29.088531 L 16.423469 29.377594 L 16.814094 29.401031 L 16.814094 29.428375 L 16.91175 29.455719 L 16.91175 29.740875 L 17.157844 29.768219 L 17.157844 29.951812 L 17.177375 29.97525 L 17.177375 30.889312 L 17.665656 30.916656 L 17.665656 31.826812 L 17.685188 31.854156 L 17.685188 32.455719 L 18.173469 32.479156 L 18.173469 33.080719 L 18.193 33.108062 L 18.193 33.186187 L 18.419563 33.209625 L 18.419563 33.498687 L 18.903938 33.526031 L 18.903938 33.604156 L 18.927375 33.627594 L 18.927375 34.229156 L 18.946906 34.2565 L 18.946906 34.541656 L 19.290656 34.569 L 19.290656 34.647125 L 19.314094 34.670562 L 19.314094 34.803375 L 19.435188 34.830719 L 19.435188 35.115875 L 19.798469 35.143219 L 19.798469 35.322906 L 20.044563 35.35025 L 20.044563 35.428375 L 20.189094 35.455719 L 20.189094 35.533844 L 20.552375 35.561187 L 20.552375 36.158844 L 21.040656 36.186187 L 21.040656 36.627594 L 21.060188 36.654937 L 21.060188 37.569 L 21.079719 37.592437 L 21.079719 37.72525 L 21.568 37.752594 L 21.568 37.932281 L 21.794563 37.959625 L 21.794563 38.088531 L 21.814094 38.115875 L 21.814094 39.029937 L 22.298469 39.053375 L 22.298469 39.447906 L 22.321906 39.471344 L 22.321906 40.072906 L 22.685188 40.10025 L 22.685188 40.178375 L 22.806281 40.201812 L 22.806281 40.647125 L 22.829719 40.674469 L 22.829719 40.752594 L 23.075813 40.776031 L 23.075813 40.959625 L 23.173469 40.986969 L 23.173469 41.065094 L 23.560188 41.088531 L 23.560188 41.221344 L 23.583625 41.248687 L 23.583625 41.326812 L 23.927375 41.35025 L 23.927375 41.639312 L 23.946906 41.66275 L 23.946906 42.264312 L 24.435188 42.291656 L 24.435188 42.889312 L 24.454719 42.916656 L 24.454719 43.201812 L 24.681281 43.229156 L 24.681281 43.307281 L 24.943 43.334625 L 24.943 43.619781 L 25.189094 43.647125 L 25.189094 44.248687 L 25.208625 44.272125 L 25.208625 45.186187 L 25.673469 45.213531 L 25.673469 45.393219 L 25.693 45.420562 L 25.693 46.334625 L 25.716438 46.361969 L 25.716438 46.541656 L 26.060188 46.569 L 26.060188 46.596344 L 26.200813 46.619781 L 26.200813 46.803375 L 26.446906 46.830719 L 26.446906 47.115875 L 26.814094 47.143219 L 26.814094 47.272125 L 26.935188 47.299469 L 26.935188 47.377594 L 26.954719 47.404937 L 26.954719 47.584625 L 27.321906 47.611969 L 27.321906 48.002594 L 27.341438 48.029937 L 27.341438 48.213531 L 27.806281 48.236969 L 27.806281 48.526031 L 27.829719 48.553375 L 27.829719 48.994781 L 28.075813 49.022125 L 28.075813 49.41275 L 28.560188 49.440094 L 28.560188 49.72525 L 28.583625 49.752594 L 28.583625 51.135406 L 29.068 51.158844 L 29.068 51.760406 L 29.091438 51.78775 L 29.091438 52.178375 L 29.595344 52.205719 L 29.595344 52.229156 L 29.821906 52.2565 L 29.821906 52.440094 L 29.845344 52.463531 L 29.845344 52.858062 L 30.208625 52.8815 L 30.208625 53.065094 L 30.329719 53.092437 L 30.329719 53.377594 L 30.34925 53.404937 L 30.34925 53.533844 L 30.696906 53.561187 L 30.696906 53.744781 L 30.716438 53.768219 L 30.716438 54.057281 L 31.103156 54.080719 L 31.103156 54.108062 L 31.200813 54.135406 L 31.200813 54.420562 L 31.450813 54.447906 L 31.450813 54.6315 L 31.954719 54.654937 L 31.954719 55.569 L 31.978156 55.596344 L 31.978156 56.194 L 32.462531 56.221344 L 32.462531 56.822906 L 32.485969 56.846344 L 32.485969 56.924469 L 32.708625 56.951812 L 32.708625 57.240875 L 32.970344 57.264312 L 32.970344 57.342437 L 33.196906 57.369781 L 33.196906 57.447906 L 33.216438 57.47525 L 33.216438 58.072906 L 33.239875 58.10025 L 33.239875 58.385406 L 33.583625 58.41275 L 33.583625 58.490875 L 33.704719 58.518219 L 33.704719 58.701812 L 33.72425 58.72525 L 33.72425 59.014312 L 34.091438 59.03775 L 34.091438 59.221344 L 34.478156 59.248687 L 34.478156 59.326812 L 34.845344 59.354156 L 34.845344 59.951812 L 35.329719 59.979156 L 35.329719 60.420562 L 35.353156 60.447906 L 35.353156 61.361969 L 35.372688 61.389312 L 35.372688 61.518219 L 35.837531 61.545562 L 35.837531 61.936187 L 35.857063 61.959625 L 35.857063 62.143219 L 36.083625 62.170562 L 36.083625 62.299469 L 36.107063 62.326812 L 36.107063 63.240875 L 36.591438 63.264312 L 36.591438 63.658844 L 36.610969 63.682281 L 36.610969 64.283844 L 36.978156 64.311187 L 36.978156 64.389312 L 37.09925 64.41275 L 37.09925 64.858062 L 37.118781 64.885406 L 37.118781 64.963531 L 37.462531 64.986969 L 37.462531 65.065094 L 37.853156 65.092437 L 37.853156 65.221344 L 37.872688 65.248687 L 37.872688 65.326812 L 38.216438 65.354156 L 38.216438 65.639312 L 38.239875 65.666656 L 38.239875 66.264312 L 38.72425 66.291656 L 38.72425 66.893219 L 38.747688 66.916656 L 38.747688 67.205719 L 38.970344 67.233062 L 38.970344 67.311187 L 39.232063 67.334625 L 39.232063 67.623687 L 39.478156 67.647125 L 39.478156 68.248687 L 39.966438 68.276031 L 39.966438 68.459625 L 39.985969 68.483062 L 39.985969 69.397125 L 40.009406 69.424469 L 40.009406 69.604156 L 40.353156 69.6315 L 40.353156 69.658844 L 40.493781 69.682281 L 40.493781 69.865875 L 40.739875 69.893219 L 40.739875 70.178375 L 41.107063 70.205719 L 41.107063 70.334625 L 41.22425 70.361969 L 41.22425 70.440094 L 41.247688 70.467437 L 41.247688 70.651031 L 41.614875 70.674469 L 41.614875 71.065094 L 42.09925 71.092437 L 42.09925 71.3815 L 42.118781 71.404937 L 42.118781 71.85025 L 42.853156 71.873687 L 42.853156 72.16275 L 42.872688 72.190094 L 42.872688 73.572906 L 43.360969 73.596344 L 43.360969 74.197906 L 43.3805 74.22525 L 43.3805 74.615875 L 43.868781 74.639312 L 43.868781 74.928375 L 43.888313 74.955719 L 43.888313 74.979156 L 44.114875 75.0065 L 44.114875 75.190094 L 44.134406 75.213531 L 44.134406 75.604156 L 44.59925 75.6315 L 44.59925 75.658844 L 44.622688 75.686187 L 44.622688 75.971344 L 44.642219 75.998687 L 44.642219 76.127594 L 44.985969 76.154937 L 44.985969 76.338531 L 45.009406 76.361969 L 45.009406 76.651031 L 45.493781 76.674469 L 45.493781 76.963531 L 45.739875 76.986969 L 45.739875 77.170562 L 46.247688 77.197906 L 46.247688 78.111969 L 46.267219 78.135406 L 46.267219 78.736969 L 46.732063 78.764312 L 46.732063 79.049469 L 46.7555 79.076812 L 46.7555 79.674469 L 46.775031 79.701812 L 46.775031 79.779937 L 47.001594 79.807281 L 47.001594 80.092437 L 47.263313 80.119781 L 47.263313 80.197906 L 47.485969 80.22525 L 47.485969 80.303375 L 47.509406 80.326812 L 47.509406 80.928375 L 47.872688 80.955719 L 47.872688 81.033844 L 47.993781 81.057281 L 47.993781 81.240875 L 48.017219 81.268219 L 48.017219 81.553375 L 48.3805 81.580719 L 48.3805 81.764312 L 48.771125 81.78775 L 48.771125 81.865875 L 48.868781 81.893219 L 48.868781 82.022125 L 49.134406 82.049469 L 49.134406 82.651031 L 49.622688 82.674469 L 49.622688 83.119781 L 49.642219 83.147125 L 49.642219 84.057281 L 50.1305 84.084625 L 50.1305 84.47525 L 50.150031 84.502594 L 50.150031 84.686187 L 50.376594 84.709625 L 50.376594 84.842437 L 50.884406 84.865875 L 50.884406 85.260406 L 50.903938 85.283844 L 50.903938 85.885406 L 51.271125 85.91275 L 51.271125 85.990875 L 51.388313 86.014312 L 51.388313 86.459625 L 51.41175 86.486969 L 51.41175 86.565094 L 51.7555 86.588531 L 51.7555 86.666656 L 52.142219 86.694 L 52.142219 86.822906 L 52.165656 86.85025 L 52.165656 86.928375 L 52.509406 86.955719 L 52.509406 87.240875 L 53.017219 87.268219 L 53.017219 87.869781 L 53.03675 87.893219 L 53.03675 88.182281 L 53.525031 88.205719 L 53.525031 88.494781 L 53.771125 88.518219 L 53.771125 89.119781 L 54.2555 89.147125 L 54.2555 89.330719 L 54.278938 89.354156 L 54.278938 90.268219 L 54.298469 90.295562 L 54.298469 90.47525 L 54.642219 90.502594 L 54.642219 90.529937 L 54.763313 90.553375 L 54.763313 90.842437 L 54.78675 90.869781 L 54.78675 91.049469 L 55.032844 91.076812 L 55.032844 91.361969 L 55.517219 91.389312 L 55.517219 91.467437 L 55.53675 91.494781 L 55.53675 91.678375 L 55.903938 91.701812 L 55.903938 92.092437 L 56.392219 92.119781 L 56.392219 92.408844 L 56.41175 92.432281 L 56.41175 92.877594 L 56.896125 92.904937 L 56.896125 93.084625 L 57.146125 93.111969 L 57.146125 93.397125 L 57.165656 93.424469 L 57.165656 94.807281 L 57.650031 94.834625 L 57.650031 95.432281 L 57.673469 95.459625 L 57.673469 95.85025 L 58.157844 95.877594 L 58.157844 96.16275 L 58.181281 96.190094 L 58.181281 96.217437 L 58.403938 96.240875 L 58.403938 96.424469 L 58.892219 96.451812 L 58.892219 96.479156 L 58.91175 96.502594 L 58.91175 96.791656 L 58.935188 96.815094 L 58.935188 96.947906 L 59.278938 96.971344 L 59.278938 97.154937 L 59.298469 97.182281 L 59.298469 97.467437 L 59.78675 97.494781 L 59.78675 97.779937 L 60.032844 97.807281 L 60.032844 97.990875 L 60.540656 98.018219 L 60.540656 98.928375 L 61.025031 98.955719 L 61.025031 99.240875 L 61.044563 99.268219 L 61.044563 99.869781 L 61.068 99.893219 L 61.068 99.971344 L 61.552375 99.998687 L 61.552375 100.076812 L 61.778938 100.104156 L 61.778938 100.182281 L 61.798469 100.209625 L 61.798469 100.807281 L 62.165656 100.834625 L 62.165656 100.91275 L 62.28675 100.940094 L 62.28675 101.119781 L 62.306281 101.147125 L 62.306281 101.436187 L 62.673469 101.459625 L 62.673469 101.643219 L 63.060188 101.670562 L 63.060188 101.748687 L 63.157844 101.772125 L 63.157844 101.904937 L 63.91175 101.928375 L 63.91175 102.373687 L 63.935188 102.401031 L 63.935188 103.311187 L 64.419563 103.338531 L 64.419563 103.729156 L 64.443 103.7565 L 64.443 103.940094 L 64.665656 103.963531 L 64.665656 104.096344 L 64.927375 104.119781 L 64.927375 104.252594 L 65.173469 104.276031 L 65.173469 104.670562 L 65.196906 104.694 L 65.196906 105.295562 L 65.66175 105.322906 L 65.66175 105.401031 L 65.681281 105.424469 L 65.681281 105.869781 L 65.700813 105.897125 L 65.700813 105.97525 L 66.048469 105.998687 L 66.048469 106.076812 L 66.435188 106.104156 L 66.435188 106.233062 L 66.802375 106.260406 L 66.802375 106.549469 L 67.306281 106.572906 L 67.306281 107.174469 L 67.329719 107.201812 L 67.329719 107.486969 L 67.794563 107.514312 L 67.794563 107.694 L 67.814094 107.721344 L 67.814094 108.010406 L 68.060188 108.033844 L 68.060188 108.635406 L 68.548469 108.66275 L 68.548469 108.842437 L 68.568 108.869781 L 68.568 109.783844 L 68.935188 109.807281 L 68.935188 109.834625 L 69.056281 109.861969 L 69.056281 110.147125 L 69.075813 110.174469 L 69.075813 110.358062 L 69.810188 110.3815 L 69.810188 110.459625 L 69.829719 110.486969 L 69.829719 110.670562 L 70.196906 110.694 L 70.196906 111.088531 L 70.681281 111.111969 L 70.681281 111.401031 L 70.704719 111.424469 L 70.704719 111.869781 L 71.189094 111.897125 L 71.189094 112.076812 L 71.435188 112.104156 L 71.435188 112.393219 L 71.943 112.416656 L 71.943 113.018219 L 71.962531 113.045562 L 71.962531 113.436187 L 72.450813 113.459625 L 72.450813 113.748687 L 72.470344 113.776031 L 72.470344 113.799469 L 72.696906 113.826812 L 72.696906 114.010406 L 73.181281 114.033844 L 73.181281 114.061187 L 73.204719 114.088531 L 73.204719 114.373687 L 73.22425 114.401031 L 73.22425 114.529937 L 73.568 114.557281 L 73.568 114.740875 L 74.075813 114.764312 L 74.075813 115.053375 L 74.829719 115.080719 L 74.829719 115.990875 L 75.318 116.018219 L 75.318 116.303375 L 75.337531 116.330719 L 75.337531 116.932281 L 75.360969 116.955719 L 75.360969 117.033844 L 75.821906 117.061187 L 75.821906 117.244781 L 75.845344 117.272125 L 75.845344 117.35025 L 76.071906 117.373687 L 76.071906 117.451812 L 76.091438 117.479156 L 76.091438 118.080719 L 76.575813 118.104156 L 76.575813 118.28775 L 76.59925 118.315094 L 76.59925 118.60025 L 76.966438 118.627594 L 76.966438 118.811187 L 77.450813 118.834625 L 77.450813 118.967437 L 78.204719 118.990875 L 78.204719 119.436187 L 78.22425 119.463531 L 78.22425 120.373687 L 78.712531 120.401031 L 78.712531 120.791656 L 78.732063 120.819 L 78.732063 121.002594 L 78.958625 121.026031 L 78.958625 121.158844 L 79.220344 121.182281 L 79.220344 121.315094 L 79.466438 121.338531 L 79.466438 121.733062 L 79.950813 121.7565 L 79.950813 121.834625 L 79.97425 121.861969 L 79.97425 122.307281 L 79.993781 122.330719 L 79.993781 122.408844 L 80.337531 122.436187 L 80.337531 122.514312 L 80.728156 122.541656 L 80.728156 122.670562 L 81.091438 122.697906 L 81.091438 122.983062 L 81.59925 123.010406 L 81.59925 123.608062 L 82.083625 123.635406 L 82.083625 123.819 L 82.107063 123.846344 L 82.107063 124.1315 L 82.837531 124.158844 L 82.837531 124.338531 L 82.860969 124.365875 L 82.860969 125.279937 L 83.22425 125.307281 L 83.22425 125.330719 L 83.345344 125.358062 L 83.345344 125.643219 L 83.368781 125.670562 L 83.368781 125.854156 L 84.09925 125.8815 L 84.09925 125.959625 L 84.122688 125.983062 L 84.122688 126.166656 L 84.97425 126.194 L 84.97425 126.479156 L 84.993781 126.5065 L 84.993781 126.947906 L 85.482063 126.97525 L 85.482063 127.158844 L 85.728156 127.182281 L 85.728156 127.471344 L 86.235969 127.498687 L 86.235969 128.096344 L 86.2555 128.123687 L 86.2555 128.514312 L 86.720344 128.541656 L 86.720344 128.670562 L 86.739875 128.697906 L 86.739875 128.983062 L 86.763313 129.010406 L 86.763313 129.03775 L 86.989875 129.061187 L 86.989875 129.244781 L 87.47425 129.272125 L 87.47425 129.295562 L 87.493781 129.322906 L 87.493781 129.611969 L 87.860969 129.635406 L 87.860969 129.819 L 88.368781 129.846344 L 88.368781 130.1315 L 88.853156 130.158844 L 88.853156 130.236969 L 89.122688 130.264312 L 89.122688 131.174469 L 89.607063 131.201812 L 89.607063 131.486969 L 89.6305 131.514312 L 89.6305 132.115875 L 90.114875 132.139312 L 90.114875 132.322906 L 90.134406 132.35025 L 90.134406 132.428375 L 90.360969 132.455719 L 90.360969 132.533844 L 90.868781 132.557281 L 90.868781 132.740875 L 90.888313 132.768219 L 90.888313 133.053375 L 91.2555 133.080719 L 91.2555 133.264312 L 91.743781 133.28775 L 91.743781 133.420562 L 92.493781 133.444 L 92.493781 133.889312 L 93.001594 133.916656 L 93.001594 134.307281 L 93.025031 134.330719 L 93.025031 134.514312 L 93.509406 134.541656 L 93.509406 134.670562 L 93.7555 134.697906 L 93.7555 135.088531 L 94.243781 135.115875 L 94.243781 135.194 L 94.263313 135.221344 L 94.263313 135.66275 L 94.28675 135.690094 L 94.28675 135.768219 L 94.6305 135.791656 L 94.6305 135.873687 L 95.017219 135.897125 L 95.017219 136.029937 L 95.892219 136.053375 L 95.892219 136.654937 L 96.376594 136.682281 L 96.376594 136.861969 L 96.396125 136.889312 L 96.396125 137.174469 L 96.884406 137.201812 L 96.884406 137.279937 L 97.1305 137.307281 L 97.1305 137.490875 L 97.150031 137.514312 L 97.150031 138.428375 L 97.638313 138.455719 L 97.638313 138.740875 L 97.657844 138.768219 L 97.657844 138.951812 L 98.392219 138.97525 L 98.392219 139.053375 L 99.263313 139.080719 L 99.263313 139.365875 L 99.28675 139.393219 L 99.28675 139.838531 L 99.771125 139.861969 L 99.771125 140.045562 L 100.017219 140.072906 L 100.017219 140.358062 L 100.525031 140.385406 L 100.525031 140.986969 L 101.013313 141.010406 L 101.013313 141.143219 L 101.032844 141.166656 L 101.032844 141.455719 L 101.052375 141.479156 L 101.052375 141.5065 L 101.763313 141.533844 L 101.763313 141.557281 L 101.78675 141.584625 L 101.78675 141.873687 L 102.153938 141.897125 L 102.153938 142.080719 L 102.657844 142.108062 L 102.657844 142.393219 L 103.146125 142.420562 L 103.146125 142.498687 L 103.900031 142.526031 L 103.900031 142.811187 L 103.919563 142.838531 L 103.919563 143.436187 L 104.407844 143.463531 L 104.407844 143.647125 L 104.427375 143.670562 L 104.427375 143.752594 L 104.653938 143.776031 L 104.653938 143.854156 L 105.16175 143.8815 L 105.16175 144.065094 L 105.181281 144.088531 L 105.181281 144.377594 L 106.032844 144.401031 L 106.032844 144.533844 L 106.78675 144.561187 L 106.78675 145.002594 L 107.294563 145.029937 L 107.294563 145.420562 L 107.314094 145.447906 L 107.314094 145.627594 L 107.778938 145.654937 L 107.778938 145.733062 L 107.802375 145.760406 L 107.802375 145.889312 L 108.048469 145.916656 L 108.048469 146.307281 L 108.532844 146.334625 L 108.532844 146.41275 L 108.556281 146.436187 L 108.556281 146.8815 L 108.919563 146.908844 L 108.919563 146.986969 L 110.181281 147.010406 L 110.181281 147.611969 L 110.669563 147.639312 L 110.669563 147.819 L 110.689094 147.846344 L 110.689094 148.135406 L 111.173469 148.158844 L 111.173469 148.236969 L 111.423469 148.264312 L 111.423469 148.447906 L 111.927375 148.471344 L 111.927375 148.760406 L 111.950813 148.78775 L 111.950813 148.967437 L 112.681281 148.994781 L 112.681281 149.072906 L 113.556281 149.10025 L 113.556281 149.385406 L 114.064094 149.41275 L 114.064094 149.596344 L 114.818 149.619781 L 114.818 150.221344 L 115.302375 150.248687 L 115.302375 150.377594 L 115.325813 150.404937 L 115.325813 150.690094 L 115.345344 150.717437 L 115.345344 150.740875 L 116.056281 150.768219 L 116.056281 150.795562 L 116.079719 150.819 L 116.079719 151.108062 L 116.950813 151.135406 L 116.950813 151.420562 L 117.435188 151.447906 L 117.435188 151.526031 L 118.189094 151.549469 L 118.189094 151.838531 L 118.212531 151.865875 L 118.212531 152.463531 L 118.696906 152.490875 L 118.696906 152.674469 L 118.720344 152.697906 L 118.720344 152.776031 L 118.943 152.803375 L 118.943 152.8815 L 119.450813 152.908844 L 119.450813 153.092437 L 120.325813 153.115875 L 120.325813 153.248687 L 121.079719 153.272125 L 121.079719 153.717437 L 121.587531 153.744781 L 121.587531 154.135406 L 122.071906 154.158844 L 122.071906 154.236969 L 122.091438 154.264312 L 122.091438 154.393219 L 122.825813 154.420562 L 122.825813 154.498687 L 122.845344 154.526031 L 122.845344 154.967437 L 123.212531 154.994781 L 123.212531 155.072906 L 124.958625 155.10025 L 124.958625 155.283844 L 124.982063 155.307281 L 124.982063 155.596344 L 125.466438 155.619781 L 125.466438 155.697906 L 125.712531 155.72525 L 125.712531 155.908844 L 126.220344 155.936187 L 126.220344 156.221344 L 126.239875 156.248687 L 126.239875 156.428375 L 126.97425 156.455719 L 126.97425 156.533844 L 127.845344 156.561187 L 127.845344 156.846344 L 128.353156 156.873687 L 128.353156 157.057281 L 128.841438 157.080719 L 128.841438 157.108062 L 129.107063 157.135406 L 129.107063 157.733062 L 129.595344 157.760406 L 129.595344 157.889312 L 129.614875 157.916656 L 129.614875 158.205719 L 130.34925 158.229156 L 130.34925 158.2565 L 131.243781 158.283844 L 131.243781 158.569 L 131.728156 158.596344 L 131.728156 158.674469 L 132.482063 158.697906 L 132.482063 158.986969 L 132.989875 159.014312 L 132.989875 159.194 L 133.009406 159.221344 L 133.009406 159.299469 L 133.743781 159.326812 L 133.743781 159.510406 L 134.614875 159.533844 L 134.614875 159.666656 L 135.876594 159.690094 L 135.876594 160.080719 L 136.360969 160.108062 L 136.360969 160.186187 L 136.384406 160.213531 L 136.384406 160.342437 L 137.114875 160.369781 L 137.114875 160.447906 L 137.138313 160.47525 L 137.138313 160.916656 L 139.251594 160.944 L 139.251594 161.127594 L 139.271125 161.151031 L 139.271125 161.440094 L 139.759406 161.463531 L 139.759406 161.541656 L 140.0055 161.569 L 140.0055 161.752594 L 140.513313 161.779937 L 140.513313 162.065094 L 142.138313 162.092437 L 142.138313 162.377594 L 142.646125 162.404937 L 142.646125 162.588531 L 143.1305 162.611969 L 143.1305 162.639312 L 143.884406 162.666656 L 143.884406 162.795562 L 143.907844 162.822906 L 143.907844 163.108062 L 144.638313 163.135406 L 144.638313 163.16275 L 146.021125 163.186187 L 146.021125 163.264312 L 146.775031 163.291656 L 146.775031 163.576812 L 147.278938 163.604156 L 147.278938 163.78775 L 147.302375 163.815094 L 147.302375 163.893219 L 148.032844 163.916656 L 148.032844 164.10025 L 148.907844 164.127594 L 148.907844 164.2565 L 150.169563 164.283844 L 150.169563 164.674469 L 150.653938 164.701812 L 150.653938 164.779937 L 150.677375 164.803375 L 150.677375 164.936187 L 151.407844 164.959625 L 151.407844 165.03775 L 153.540656 165.065094 L 153.540656 165.248687 L 154.048469 165.276031 L 154.048469 165.354156 L 154.802375 165.377594 L 154.802375 165.666656 L 156.935188 165.690094 L 156.935188 165.873687 L 157.423469 165.901031 L 157.423469 165.924469 L 158.177375 165.951812 L 158.177375 166.084625 L 158.196906 166.108062 L 158.196906 166.397125 L 158.931281 166.420562 L 158.931281 166.447906 L 160.310188 166.47525 L 160.310188 166.553375 L 161.064094 166.576812 L 161.064094 166.865875 L 161.571906 166.893219 L 161.571906 167.072906 L 163.196906 167.10025 L 163.196906 167.229156 L 164.946906 167.2565 L 164.946906 167.334625 L 164.966438 167.361969 L 164.966438 167.490875 L 165.700813 167.518219 L 165.700813 167.596344 L 167.833625 167.623687 L 167.833625 167.803375 L 168.341438 167.830719 L 168.341438 167.908844 L 169.095344 167.936187 L 169.095344 168.221344 L 171.228156 168.248687 L 171.228156 168.432281 L 171.712531 168.455719 L 171.712531 168.483062 L 172.466438 168.510406 L 172.466438 168.639312 L 174.603156 168.666656 L 174.603156 168.744781 L 175.864875 168.768219 L 175.864875 168.951812 L 179.235969 168.979156 L 179.235969 169.057281 L 179.259406 169.084625 L 179.259406 169.213531 L 179.989875 169.240875 L 179.989875 169.319 L 182.126594 169.342437 L 182.126594 169.526031 L 182.6305 169.553375 L 182.6305 169.6315 L 186.0055 169.658844 L 186.0055 169.682281 L 186.759406 169.709625 L 186.759406 169.838531 L 188.892219 169.865875 L 188.892219 169.944 L 190.153938 169.971344 L 190.153938 170.151031 L 193.528938 170.178375 L 193.528938 170.2565 L 196.923469 170.283844 L 196.923469 170.361969 L 200.298469 170.389312 L 200.298469 170.41275 L 201.052375 170.440094 L 201.052375 170.569 L 203.185188 170.596344 L 203.185188 170.674469 L 207.818 170.701812 L 207.818 170.779937 L 211.216438 170.803375 L 211.216438 170.8815 L 214.587531 170.908844 L 214.587531 170.936187 L 222.110969 170.963531 L 222.110969 171.041656 L 228.8805 171.065094 L 228.8805 171.092437 L 243.169563 171.119781 L 243.169563 171.143219 \" transform=\"matrix(1,0,0,-1,37.807,178.194)\"/>\n",
       "<path style=\"fill:none;stroke-width:1.19553;stroke-linecap:butt;stroke-linejoin:miter;stroke:rgb(0%,59.999084%,53.33252%);stroke-opacity:1;stroke-miterlimit:10;\" d=\"M 0.00159375 -0.0013125 L 0.00159375 0.694 L 0.0289375 0.705719 L 0.0289375 0.904937 L 0.0562813 0.91275 L 0.0562813 1.322906 L 0.0797188 1.330719 L 0.0797188 1.740875 L 0.134406 1.748687 L 0.134406 1.947906 L 0.16175 1.955719 L 0.16175 1.998687 L 0.435188 2.010406 L 0.435188 2.069 L 0.462531 2.076812 L 0.462531 2.279937 L 0.517219 2.28775 L 0.517219 2.592437 L 0.544563 2.60025 L 0.544563 2.729156 L 0.595344 2.740875 L 0.595344 2.940094 L 0.677375 2.947906 L 0.677375 2.97525 L 1.493781 2.983062 L 1.493781 3.182281 L 1.575813 3.190094 L 1.575813 3.322906 L 1.716438 3.330719 L 1.716438 3.373687 L 1.872688 3.3815 L 1.872688 3.479156 L 1.954719 3.486969 L 1.954719 4.104156 L 2.009406 4.111969 L 2.009406 4.416656 L 2.03675 4.428375 L 2.03675 5.358062 L 2.091438 5.365875 L 2.091438 5.635406 L 2.118781 5.643219 L 2.118781 5.842437 L 2.146125 5.854156 L 2.146125 5.877594 L 2.169563 5.889312 L 2.169563 5.983062 L 2.470344 5.990875 L 2.470344 6.088531 L 2.497688 6.096344 L 2.497688 6.22525 L 2.552375 6.236969 L 2.552375 6.436187 L 2.579719 6.444 L 2.579719 6.5065 L 2.634406 6.514312 L 2.634406 6.608062 L 3.263313 6.619781 L 3.263313 6.643219 L 3.669563 6.651031 L 3.669563 6.713531 L 3.72425 6.721344 L 3.72425 7.026031 L 3.751594 7.033844 L 3.751594 7.1315 L 3.806281 7.139312 L 3.806281 7.408844 L 3.888313 7.416656 L 3.888313 7.514312 L 4.044563 7.522125 L 4.044563 7.721344 L 4.126594 7.729156 L 4.126594 7.861969 L 4.181281 7.869781 L 4.181281 7.877594 L 4.185188 7.889312 L 4.185188 7.983062 L 4.267219 7.990875 L 4.267219 8.190094 L 4.5055 8.201812 L 4.5055 8.260406 L 4.587531 8.272125 L 4.587531 8.365875 L 5.216438 8.373687 L 5.216438 8.401031 L 5.298469 8.408844 L 5.298469 8.471344 L 5.622688 8.479156 L 5.622688 8.522125 L 5.677375 8.529937 L 5.677375 8.66275 L 5.704719 8.670562 L 5.704719 8.799469 L 5.732063 8.811187 L 5.732063 8.955719 L 5.759406 8.967437 L 5.759406 9.584625 L 5.78675 9.592437 L 5.78675 9.740875 L 5.814094 9.748687 L 5.814094 10.158844 L 5.841438 10.166656 L 5.841438 10.572906 L 5.896125 10.584625 L 5.896125 11.045562 L 5.923469 11.053375 L 5.923469 11.115875 L 6.193 11.123687 L 6.193 11.182281 L 6.220344 11.194 L 6.220344 11.393219 L 6.275031 11.401031 L 6.275031 11.811187 L 6.302375 11.819 L 6.302375 12.123687 L 6.357063 12.1315 L 6.357063 12.748687 L 6.439094 12.7565 L 6.439094 12.889312 L 6.818 12.897125 L 6.818 12.940094 L 7.251594 12.947906 L 7.251594 13.010406 L 7.333625 13.018219 L 7.333625 13.115875 L 7.6305 13.123687 L 7.6305 13.147125 L 7.712531 13.158844 L 7.712531 13.428375 L 7.767219 13.436187 L 7.767219 13.740875 L 7.794563 13.748687 L 7.794563 14.678375 L 7.84925 14.686187 L 7.84925 15.307281 L 7.876594 15.315094 L 7.876594 15.584625 L 7.903938 15.592437 L 7.903938 15.690094 L 7.931281 15.697906 L 7.931281 16.002594 L 7.958625 16.010406 L 7.958625 16.03775 L 8.228156 16.045562 L 8.228156 16.174469 L 8.2555 16.182281 L 8.2555 16.486969 L 8.282844 16.498687 L 8.282844 16.557281 L 8.310188 16.565094 L 8.310188 17.182281 L 8.337531 17.194 L 8.337531 17.393219 L 8.364875 17.401031 L 8.364875 17.705719 L 8.392219 17.713531 L 8.392219 18.123687 L 8.446906 18.1315 L 8.446906 18.330719 L 8.47425 18.342437 L 8.47425 18.401031 L 8.528938 18.408844 L 8.528938 18.436187 L 8.853156 18.444 L 8.853156 18.471344 L 9.564094 18.479156 L 9.564094 18.541656 L 9.646125 18.549469 L 9.646125 18.576812 L 9.802375 18.584625 L 9.802375 19.045562 L 9.884406 19.053375 L 9.884406 19.463531 L 9.939094 19.471344 L 9.939094 19.533844 L 9.966438 19.541656 L 9.966438 19.690094 L 10.025031 19.697906 L 10.025031 19.7565 L 10.263313 19.768219 L 10.263313 19.967437 L 10.318 19.97525 L 10.318 20.072906 L 10.345344 20.080719 L 10.345344 20.486969 L 10.400031 20.498687 L 10.400031 20.697906 L 10.427375 20.705719 L 10.427375 20.904937 L 10.482063 20.916656 L 10.482063 21.010406 L 10.888313 21.018219 L 10.888313 21.026031 L 11.517219 21.03775 L 11.517219 21.186187 L 11.571906 21.194 L 11.571906 21.322906 L 11.59925 21.330719 L 11.59925 21.463531 L 11.653938 21.471344 L 11.653938 21.670562 L 11.681281 21.678375 L 11.681281 21.72525 L 11.97425 21.733062 L 11.97425 21.7565 L 11.978156 21.768219 L 11.978156 21.826812 L 12.032844 21.834625 L 12.032844 22.139312 L 12.060188 22.151031 L 12.060188 22.279937 L 12.114875 22.28775 L 12.114875 22.904937 L 12.196906 22.916656 L 12.196906 23.217437 L 12.353156 23.229156 L 12.353156 23.28775 L 12.435188 23.299469 L 12.435188 23.393219 L 12.575813 23.401031 L 12.575813 23.463531 L 13.47425 23.471344 L 13.47425 23.533844 L 13.525031 23.541656 L 13.525031 23.635406 L 13.552375 23.647125 L 13.552375 23.947906 L 13.607063 23.959625 L 13.607063 24.229156 L 13.634406 24.236969 L 13.634406 24.436187 L 13.66175 24.444 L 13.66175 24.541656 L 13.689094 24.549469 L 13.689094 24.854156 L 13.716438 24.861969 L 13.716438 24.889312 L 13.989875 24.897125 L 13.989875 24.994781 L 14.017219 25.002594 L 14.017219 25.1315 L 14.044563 25.139312 L 14.044563 25.201812 L 14.068 25.209625 L 14.068 25.826812 L 14.095344 25.838531 L 14.095344 26.03775 L 14.122688 26.045562 L 14.122688 26.455719 L 14.150031 26.463531 L 14.150031 27.393219 L 14.204719 27.401031 L 14.204719 28.018219 L 14.232063 28.029937 L 14.232063 28.229156 L 14.28675 28.236969 L 14.28675 28.365875 L 14.587531 28.377594 L 14.587531 28.471344 L 14.610969 28.479156 L 14.610969 28.576812 L 14.665656 28.584625 L 14.665656 28.783844 L 14.747688 28.795562 L 14.747688 28.889312 L 15.564094 28.897125 L 15.564094 29.096344 L 15.642219 29.108062 L 15.642219 29.514312 L 15.696906 29.526031 L 15.696906 29.670562 L 15.72425 29.682281 L 15.72425 29.8815 L 16.025031 29.889312 L 16.025031 30.088531 L 16.079719 30.096344 L 16.079719 30.229156 L 16.107063 30.236969 L 16.107063 31.166656 L 16.157844 31.174469 L 16.157844 31.795562 L 16.185188 31.803375 L 16.185188 32.420562 L 16.212531 32.428375 L 16.212531 32.526031 L 16.239875 32.533844 L 16.239875 32.940094 L 16.267219 32.951812 L 16.267219 33.045562 L 16.294563 33.053375 L 16.294563 33.115875 L 16.321906 33.123687 L 16.321906 33.186187 L 16.622688 33.194 L 16.622688 33.342437 L 16.650031 33.35025 L 16.650031 33.41275 L 16.700813 33.420562 L 16.700813 33.549469 L 16.782844 33.557281 L 16.782844 33.604156 L 17.41175 33.611969 L 17.41175 33.654937 L 17.732063 33.66275 L 17.732063 33.760406 L 17.821906 33.768219 L 17.821906 33.795562 L 17.876594 33.803375 L 17.876594 34.002594 L 17.954719 34.010406 L 17.954719 34.143219 L 18.114875 34.151031 L 18.114875 34.35025 L 18.196906 34.358062 L 18.196906 34.768219 L 18.247688 34.776031 L 18.247688 34.838531 L 18.275031 34.846344 L 18.275031 35.045562 L 18.329719 35.053375 L 18.329719 35.080719 L 18.337531 35.088531 L 18.337531 35.1315 L 18.657844 35.143219 L 18.657844 35.236969 L 18.739875 35.244781 L 18.739875 35.307281 L 19.368781 35.315094 L 19.368781 35.377594 L 19.423469 35.385406 L 19.423469 35.41275 L 19.450813 35.420562 L 19.450813 35.514312 L 19.775031 35.526031 L 19.775031 35.549469 L 19.829719 35.561187 L 19.829719 35.760406 L 19.857063 35.768219 L 19.857063 35.830719 L 19.884406 35.838531 L 19.884406 36.143219 L 19.91175 36.151031 L 19.91175 36.561187 L 19.966438 36.569 L 19.966438 37.186187 L 19.993781 37.194 L 19.993781 37.393219 L 20.044563 37.404937 L 20.044563 37.705719 L 20.28675 37.717437 L 20.28675 37.740875 L 20.345344 37.752594 L 20.345344 37.846344 L 20.372688 37.854156 L 20.372688 37.951812 L 20.427375 37.959625 L 20.427375 38.229156 L 20.509406 38.236969 L 20.509406 38.541656 L 21.321906 38.549469 L 21.321906 38.596344 L 21.403938 38.604156 L 21.403938 38.733062 L 21.458625 38.740875 L 21.458625 38.803375 L 21.485969 38.811187 L 21.485969 38.959625 L 21.782844 38.967437 L 21.782844 39.029937 L 21.837531 39.03775 L 21.837531 39.135406 L 21.864875 39.143219 L 21.864875 39.549469 L 21.919563 39.561187 L 21.919563 40.178375 L 21.946906 40.186187 L 21.946906 40.803375 L 21.97425 40.811187 L 21.97425 40.944 L 22.001594 40.951812 L 22.001594 41.8815 L 22.028938 41.889312 L 22.028938 42.022125 L 22.056281 42.029937 L 22.056281 42.229156 L 22.083625 42.236969 L 22.083625 42.440094 L 22.353156 42.447906 L 22.353156 42.455719 L 22.3805 42.463531 L 22.3805 42.66275 L 22.407844 42.674469 L 22.407844 42.819 L 22.435188 42.830719 L 22.435188 42.959625 L 22.462531 42.967437 L 22.462531 43.377594 L 22.517219 43.385406 L 22.517219 43.846344 L 22.544563 43.854156 L 22.544563 44.057281 L 22.59925 44.065094 L 22.59925 44.194 L 22.677375 44.201812 L 22.677375 44.213531 L 23.493781 44.221344 L 23.493781 44.315094 L 23.716438 44.326812 L 23.716438 44.35025 L 23.872688 44.361969 L 23.872688 44.561187 L 23.954719 44.569 L 23.954719 45.498687 L 24.009406 45.5065 L 24.009406 45.709625 L 24.03675 45.717437 L 24.03675 46.334625 L 24.091438 46.342437 L 24.091438 46.47525 L 24.118781 46.483062 L 24.118781 46.576812 L 24.388313 46.584625 L 24.388313 46.611969 L 24.415656 46.619781 L 24.415656 46.924469 L 24.470344 46.932281 L 24.470344 47.135406 L 24.497688 47.143219 L 24.497688 47.41275 L 24.552375 47.420562 L 24.552375 47.72525 L 24.579719 47.733062 L 24.579719 47.830719 L 24.634406 47.838531 L 24.634406 47.901031 L 25.669563 47.908844 L 25.669563 48.002594 L 25.72425 48.014312 L 25.72425 48.213531 L 25.751594 48.221344 L 25.751594 48.283844 L 25.806281 48.291656 L 25.806281 48.420562 L 26.044563 48.428375 L 26.044563 48.561187 L 26.126594 48.569 L 26.126594 48.6315 L 26.1305 48.639312 L 26.1305 48.666656 L 26.185188 48.674469 L 26.185188 48.873687 L 26.267219 48.8815 L 26.267219 49.186187 L 26.423469 49.194 L 26.423469 49.236969 L 26.5055 49.248687 L 26.5055 49.377594 L 26.587531 49.385406 L 26.587531 49.533844 L 27.216438 49.541656 L 27.216438 49.553375 L 27.622688 49.561187 L 27.622688 49.654937 L 27.677375 49.666656 L 27.677375 49.865875 L 27.704719 49.873687 L 27.704719 50.072906 L 27.732063 50.080719 L 27.732063 50.178375 L 27.759406 50.186187 L 27.759406 50.596344 L 27.78675 50.604156 L 27.78675 50.697906 L 27.814094 50.709625 L 27.814094 50.908844 L 27.841438 50.916656 L 27.841438 51.115875 L 28.138313 51.127594 L 28.138313 51.272125 L 28.165656 51.283844 L 28.165656 51.342437 L 28.193 51.35025 L 28.193 51.483062 L 28.220344 51.490875 L 28.220344 51.901031 L 28.275031 51.908844 L 28.275031 52.526031 L 28.302375 52.533844 L 28.302375 52.994781 L 28.357063 53.002594 L 28.357063 53.41275 L 28.439094 53.420562 L 28.439094 53.483062 L 28.735969 53.490875 L 28.735969 53.553375 L 28.818 53.561187 L 28.818 53.654937 L 29.251594 53.666656 L 29.251594 53.690094 L 29.6305 53.701812 L 29.6305 53.760406 L 29.712531 53.768219 L 29.712531 54.178375 L 29.767219 54.186187 L 29.767219 54.385406 L 29.794563 54.397125 L 29.794563 55.014312 L 29.84925 55.022125 L 29.84925 55.326812 L 29.876594 55.334625 L 29.876594 55.463531 L 30.150031 55.47525 L 30.150031 55.498687 L 30.173469 55.510406 L 30.173469 55.815094 L 30.228156 55.822906 L 30.228156 56.092437 L 30.2555 56.10025 L 30.2555 56.717437 L 30.282844 56.72525 L 30.282844 56.822906 L 30.310188 56.830719 L 30.310188 57.760406 L 30.337531 57.768219 L 30.337531 58.072906 L 30.364875 58.084625 L 30.364875 58.283844 L 30.392219 58.291656 L 30.392219 58.561187 L 30.446906 58.569 L 30.446906 58.666656 L 30.47425 58.674469 L 30.47425 58.701812 L 30.771125 58.709625 L 30.771125 58.803375 L 30.853156 58.815094 L 30.853156 58.873687 L 31.564094 58.8815 L 31.564094 58.908844 L 31.802375 58.916656 L 31.802375 59.221344 L 31.884406 59.229156 L 31.884406 59.432281 L 32.025031 59.440094 L 32.025031 59.533844 L 32.185188 59.545562 L 32.185188 59.604156 L 32.263313 59.611969 L 32.263313 60.022125 L 32.318 60.029937 L 32.318 60.178375 L 32.345344 60.186187 L 32.345344 60.803375 L 32.400031 60.815094 L 32.400031 60.944 L 32.427375 60.951812 L 32.427375 61.084625 L 32.482063 61.092437 L 32.482063 61.135406 L 32.806281 61.143219 L 32.806281 61.205719 L 32.888313 61.213531 L 32.888313 61.240875 L 33.517219 61.248687 L 33.517219 61.342437 L 33.571906 61.354156 L 33.571906 61.41275 L 33.59925 61.420562 L 33.59925 61.483062 L 33.927375 61.490875 L 33.927375 61.498687 L 33.982063 61.510406 L 33.982063 61.639312 L 34.032844 61.647125 L 34.032844 62.108062 L 34.060188 62.119781 L 34.060188 62.319 L 34.114875 62.326812 L 34.114875 62.736969 L 34.196906 62.744781 L 34.196906 62.893219 L 34.353156 62.901031 L 34.353156 62.994781 L 34.435188 63.0065 L 34.435188 63.065094 L 34.497688 63.072906 L 34.497688 63.135406 L 34.575813 63.143219 L 34.575813 63.276031 L 35.47425 63.283844 L 35.47425 63.377594 L 35.528938 63.389312 L 35.528938 63.447906 L 35.552375 63.455719 L 35.552375 63.658844 L 35.607063 63.666656 L 35.607063 63.795562 L 35.634406 63.803375 L 35.634406 63.901031 L 35.935188 63.908844 L 35.935188 64.0065 L 35.989875 64.014312 L 35.989875 64.213531 L 36.017219 64.221344 L 36.017219 64.490875 L 36.044563 64.502594 L 36.044563 64.596344 L 36.071906 64.604156 L 36.071906 65.533844 L 36.095344 65.545562 L 36.095344 65.85025 L 36.122688 65.858062 L 36.122688 66.127594 L 36.150031 66.135406 L 36.150031 66.752594 L 36.204719 66.760406 L 36.204719 67.065094 L 36.232063 67.076812 L 36.232063 67.170562 L 36.5055 67.178375 L 36.5055 67.205719 L 36.532844 67.213531 L 36.532844 67.346344 L 36.587531 67.354156 L 36.587531 67.553375 L 36.614875 67.561187 L 36.614875 67.760406 L 36.665656 67.772125 L 36.665656 68.076812 L 36.747688 68.084625 L 36.747688 68.143219 L 37.564094 68.154937 L 37.564094 68.283844 L 37.642219 68.291656 L 37.642219 68.490875 L 37.943 68.502594 L 37.943 68.545562 L 38.025031 68.553375 L 38.025031 68.963531 L 38.079719 68.971344 L 38.079719 69.170562 L 38.107063 69.178375 L 38.107063 70.580719 L 38.16175 70.588531 L 38.16175 70.998687 L 38.185188 71.0065 L 38.185188 71.41275 L 38.212531 71.424469 L 38.212531 71.467437 L 38.239875 71.47525 L 38.239875 71.674469 L 38.267219 71.682281 L 38.267219 71.729156 L 38.540656 71.736969 L 38.540656 71.795562 L 38.568 71.807281 L 38.568 72.0065 L 38.622688 72.014312 L 38.622688 72.319 L 38.650031 72.326812 L 38.650031 72.459625 L 38.704719 72.467437 L 38.704719 72.666656 L 38.782844 72.674469 L 38.782844 72.701812 L 39.821906 72.709625 L 39.821906 72.752594 L 39.876594 72.764312 L 39.876594 72.893219 L 39.958625 72.901031 L 39.958625 72.963531 L 40.114875 72.971344 L 40.114875 73.276031 L 40.196906 73.283844 L 40.196906 73.553375 L 40.251594 73.561187 L 40.251594 73.588531 L 40.275031 73.596344 L 40.275031 73.694 L 40.337531 73.701812 L 40.337531 73.795562 L 40.575813 73.807281 L 40.575813 73.901031 L 40.657844 73.908844 L 40.657844 74.111969 L 40.739875 74.119781 L 40.739875 74.213531 L 41.368781 74.22525 L 41.368781 74.248687 L 41.775031 74.2565 L 41.775031 74.319 L 41.829719 74.326812 L 41.829719 74.6315 L 41.857063 74.639312 L 41.857063 74.736969 L 41.884406 74.744781 L 41.884406 74.944 L 41.91175 74.955719 L 41.91175 75.22525 L 41.966438 75.233062 L 41.966438 75.53775 L 41.993781 75.545562 L 41.993781 75.639312 L 42.28675 75.651031 L 42.28675 75.658844 L 42.290656 75.666656 L 42.290656 75.764312 L 42.345344 75.772125 L 42.345344 75.971344 L 42.372688 75.979156 L 42.372688 76.178375 L 42.427375 76.190094 L 42.427375 76.596344 L 42.509406 76.608062 L 42.509406 76.807281 L 42.888313 76.815094 L 42.888313 76.842437 L 43.321906 76.85025 L 43.321906 76.877594 L 43.403938 76.885406 L 43.403938 76.944 L 43.782844 76.955719 L 43.782844 77.084625 L 43.837531 77.092437 L 43.837531 77.240875 L 43.864875 77.248687 L 43.864875 77.865875 L 43.919563 77.877594 L 43.919563 78.283844 L 43.946906 78.291656 L 43.946906 78.701812 L 43.97425 78.709625 L 43.97425 78.772125 L 44.001594 78.779937 L 44.001594 79.240875 L 44.028938 79.248687 L 44.028938 79.311187 L 44.298469 79.319 L 44.298469 79.3815 L 44.325813 79.389312 L 44.325813 79.588531 L 44.353156 79.596344 L 44.353156 79.623687 L 44.3805 79.6315 L 44.3805 80.041656 L 44.407844 80.049469 L 44.407844 80.354156 L 44.435188 80.361969 L 44.435188 80.561187 L 44.462531 80.572906 L 44.462531 81.190094 L 44.517219 81.197906 L 44.517219 81.502594 L 44.544563 81.510406 L 44.544563 81.643219 L 44.59925 81.651031 L 44.59925 81.709625 L 44.923469 81.721344 L 44.923469 81.764312 L 45.716438 81.772125 L 45.716438 81.779937 L 45.872688 81.78775 L 45.872688 82.092437 L 45.954719 82.104156 L 45.954719 82.721344 L 46.009406 82.729156 L 46.009406 82.822906 L 46.03675 82.834625 L 46.03675 83.135406 L 46.333625 83.147125 L 46.333625 83.276031 L 46.388313 83.283844 L 46.388313 83.346344 L 46.415656 83.354156 L 46.415656 83.971344 L 46.470344 83.979156 L 46.470344 84.283844 L 46.497688 84.295562 L 46.497688 84.701812 L 46.552375 84.709625 L 46.552375 84.91275 L 46.579719 84.920562 L 46.579719 84.979156 L 46.634406 84.990875 L 46.634406 85.014312 L 46.958625 85.026031 L 46.958625 85.049469 L 47.669563 85.057281 L 47.669563 85.119781 L 47.72425 85.127594 L 47.72425 85.22525 L 47.751594 85.233062 L 47.751594 85.260406 L 48.044563 85.268219 L 48.044563 85.326812 L 48.1305 85.338531 L 48.1305 85.397125 L 48.185188 85.404937 L 48.185188 85.709625 L 48.267219 85.721344 L 48.267219 85.920562 L 48.423469 85.928375 L 48.423469 86.026031 L 48.5055 86.033844 L 48.5055 86.233062 L 48.587531 86.240875 L 48.587531 86.338531 L 48.646125 86.346344 L 48.646125 86.373687 L 49.622688 86.3815 L 49.622688 86.529937 L 49.677375 86.53775 L 49.677375 86.666656 L 49.704719 86.678375 L 49.704719 86.807281 L 49.732063 86.815094 L 49.732063 86.858062 L 49.759406 86.869781 L 49.759406 87.069 L 49.78675 87.076812 L 49.78675 87.119781 L 50.087531 87.127594 L 50.087531 87.190094 L 50.138313 87.197906 L 50.138313 87.502594 L 50.165656 87.510406 L 50.165656 87.643219 L 50.193 87.651031 L 50.193 87.85025 L 50.220344 87.858062 L 50.220344 88.47525 L 50.275031 88.486969 L 50.275031 88.893219 L 50.302375 88.901031 L 50.302375 89.205719 L 50.357063 89.217437 L 50.357063 89.416656 L 50.657844 89.424469 L 50.657844 89.467437 L 50.681281 89.47525 L 50.681281 89.53775 L 50.735969 89.545562 L 50.735969 89.678375 L 50.818 89.686187 L 50.818 89.834625 L 51.634406 89.842437 L 51.634406 89.936187 L 51.712531 89.947906 L 51.712531 90.217437 L 51.767219 90.22525 L 51.767219 90.319 L 51.794563 90.330719 L 51.794563 90.6315 L 52.095344 90.643219 L 52.095344 90.736969 L 52.150031 90.744781 L 52.150031 90.807281 L 52.177375 90.815094 L 52.177375 91.432281 L 52.228156 91.444 L 52.228156 91.85025 L 52.2555 91.858062 L 52.2555 92.791656 L 52.282844 92.799469 L 52.282844 92.858062 L 52.310188 92.869781 L 52.310188 93.486969 L 52.337531 93.494781 L 52.337531 93.694 L 52.364875 93.701812 L 52.364875 93.799469 L 52.392219 93.807281 L 52.392219 93.936187 L 52.693 93.947906 L 52.693 94.041656 L 52.720344 94.049469 L 52.720344 94.147125 L 52.771125 94.154937 L 52.771125 94.354156 L 52.853156 94.365875 L 52.853156 94.459625 L 53.802375 94.467437 L 53.802375 94.615875 L 54.025031 94.623687 L 54.025031 94.686187 L 54.185188 94.694 L 54.185188 94.826812 L 54.267219 94.834625 L 54.267219 95.451812 L 54.318 95.459625 L 54.318 95.557281 L 54.345344 95.565094 L 54.345344 95.971344 L 54.400031 95.983062 L 54.400031 96.041656 L 54.427375 96.049469 L 54.427375 96.111969 L 54.728156 96.119781 L 54.728156 96.268219 L 54.810188 96.276031 L 54.810188 96.408844 L 54.888313 96.416656 L 54.888313 96.459625 L 55.517219 96.467437 L 55.517219 96.510406 L 55.927375 96.522125 L 55.927375 96.545562 L 55.982063 96.557281 L 55.982063 96.7565 L 56.03675 96.764312 L 56.03675 97.069 L 56.060188 97.076812 L 56.060188 97.209625 L 56.114875 97.217437 L 56.114875 97.416656 L 56.357063 97.424469 L 56.357063 97.486969 L 56.435188 97.494781 L 56.435188 97.522125 L 56.443 97.529937 L 56.443 97.572906 L 56.497688 97.580719 L 56.497688 97.713531 L 56.579719 97.721344 L 56.579719 97.920562 L 57.47425 97.928375 L 57.47425 97.990875 L 57.528938 97.998687 L 57.528938 98.026031 L 57.556281 98.033844 L 57.556281 98.1315 L 57.935188 98.139312 L 57.935188 98.338531 L 57.989875 98.346344 L 57.989875 98.651031 L 58.017219 98.658844 L 58.017219 99.069 L 58.044563 99.076812 L 58.044563 99.139312 L 58.071906 99.147125 L 58.071906 99.764312 L 58.09925 99.772125 L 58.09925 99.971344 L 58.126594 99.983062 L 58.126594 100.111969 L 58.150031 100.119781 L 58.150031 100.424469 L 58.450813 100.432281 L 58.450813 100.529937 L 58.478156 100.53775 L 58.478156 100.635406 L 58.5055 100.643219 L 58.5055 100.705719 L 58.532844 100.713531 L 58.532844 100.983062 L 58.587531 100.990875 L 58.587531 101.295562 L 58.614875 101.303375 L 58.614875 101.608062 L 58.669563 101.615875 L 58.669563 101.815094 L 58.747688 101.826812 L 58.747688 101.85025 L 59.564094 101.861969 L 59.564094 101.920562 L 59.943 101.928375 L 59.943 102.026031 L 60.025031 102.033844 L 60.025031 102.651031 L 60.079719 102.658844 L 60.079719 102.791656 L 60.107063 102.799469 L 60.107063 103.729156 L 60.16175 103.736969 L 60.16175 103.940094 L 60.189094 103.947906 L 60.189094 104.147125 L 60.458625 104.154937 L 60.458625 104.166656 L 60.485969 104.174469 L 60.485969 104.373687 L 60.540656 104.3815 L 60.540656 104.514312 L 60.568 104.522125 L 60.568 104.928375 L 60.622688 104.940094 L 60.622688 105.401031 L 60.650031 105.408844 L 60.650031 105.608062 L 60.704719 105.615875 L 60.704719 105.748687 L 60.782844 105.7565 L 60.782844 105.764312 L 61.821906 105.772125 L 61.821906 105.799469 L 61.876594 105.807281 L 61.876594 105.869781 L 62.114875 105.877594 L 62.114875 106.076812 L 62.196906 106.088531 L 62.196906 106.217437 L 62.337531 106.22525 L 62.337531 106.373687 L 62.493781 106.3815 L 62.493781 106.408844 L 62.575813 106.416656 L 62.575813 106.615875 L 62.657844 106.627594 L 62.657844 106.932281 L 62.739875 106.940094 L 62.739875 106.998687 L 63.775031 107.010406 L 63.775031 107.104156 L 63.829719 107.111969 L 63.829719 107.311187 L 63.857063 107.322906 L 63.857063 107.3815 L 63.884406 107.393219 L 63.884406 107.486969 L 63.91175 107.494781 L 63.91175 107.627594 L 64.235969 107.635406 L 64.235969 107.66275 L 64.290656 107.670562 L 64.290656 107.869781 L 64.345344 107.877594 L 64.345344 108.182281 L 64.372688 108.190094 L 64.372688 108.494781 L 64.427375 108.502594 L 64.427375 108.772125 L 64.509406 108.783844 L 64.509406 108.877594 L 64.806281 108.885406 L 64.806281 108.91275 L 64.888313 108.920562 L 64.888313 108.983062 L 65.321906 108.990875 L 65.321906 108.998687 L 65.782844 109.010406 L 65.782844 109.209625 L 65.837531 109.217437 L 65.837531 109.315094 L 65.864875 109.322906 L 65.864875 109.729156 L 65.919563 109.740875 L 65.919563 109.940094 L 65.946906 109.947906 L 65.946906 110.147125 L 66.243781 110.154937 L 66.243781 110.303375 L 66.298469 110.315094 L 66.298469 110.444 L 66.325813 110.451812 L 66.325813 110.861969 L 66.353156 110.869781 L 66.353156 110.91275 L 66.3805 110.920562 L 66.3805 111.53775 L 66.407844 111.549469 L 66.407844 112.010406 L 66.435188 112.018219 L 66.435188 112.147125 L 66.462531 112.154937 L 66.462531 112.565094 L 66.517219 112.572906 L 66.517219 112.721344 L 66.544563 112.729156 L 66.544563 112.791656 L 66.841438 112.799469 L 66.841438 112.861969 L 66.923469 112.869781 L 66.923469 112.967437 L 67.872688 112.97525 L 67.872688 113.174469 L 67.954719 113.182281 L 67.954719 113.486969 L 68.2555 113.494781 L 68.2555 113.522125 L 68.333625 113.529937 L 68.333625 113.799469 L 68.388313 113.807281 L 68.388313 113.904937 L 68.415656 113.91275 L 68.415656 114.842437 L 68.470344 114.854156 L 68.470344 115.053375 L 68.497688 115.061187 L 68.497688 115.330719 L 68.552375 115.338531 L 68.552375 115.436187 L 68.579719 115.444 L 68.579719 115.471344 L 68.876594 115.479156 L 68.876594 115.572906 L 68.958625 115.584625 L 68.958625 115.643219 L 69.669563 115.651031 L 69.669563 115.678375 L 70.1305 115.686187 L 70.1305 115.783844 L 70.185188 115.791656 L 70.185188 115.990875 L 70.267219 116.002594 L 70.267219 116.096344 L 70.423469 116.104156 L 70.423469 116.252594 L 70.5055 116.260406 L 70.5055 116.393219 L 70.587531 116.401031 L 70.587531 116.444 L 70.646125 116.451812 L 70.646125 116.514312 L 71.622688 116.522125 L 71.622688 116.619781 L 71.677375 116.627594 L 71.677375 116.686187 L 71.704719 116.697906 L 71.704719 116.7565 L 72.087531 116.764312 L 72.087531 116.897125 L 72.142219 116.904937 L 72.142219 117.365875 L 72.165656 117.373687 L 72.165656 117.572906 L 72.193 117.584625 L 72.193 117.713531 L 72.220344 117.721344 L 72.220344 118.1315 L 72.275031 118.139312 L 72.275031 118.338531 L 72.302375 118.35025 L 72.302375 118.494781 L 72.603156 118.5065 L 72.603156 118.565094 L 72.657844 118.572906 L 72.657844 118.670562 L 72.685188 118.678375 L 72.685188 118.811187 L 72.735969 118.819 L 72.735969 119.018219 L 72.818 119.026031 L 72.818 119.123687 L 73.634406 119.1315 L 73.634406 119.194 L 73.712531 119.201812 L 73.712531 119.330719 L 74.095344 119.338531 L 74.095344 119.541656 L 74.150031 119.549469 L 74.150031 119.643219 L 74.177375 119.654937 L 74.177375 120.584625 L 74.232063 120.592437 L 74.232063 120.861969 L 74.2555 120.869781 L 74.2555 121.486969 L 74.282844 121.498687 L 74.282844 121.522125 L 74.310188 121.529937 L 74.310188 121.834625 L 74.337531 121.846344 L 74.337531 121.940094 L 74.610969 121.947906 L 74.610969 121.97525 L 74.638313 121.983062 L 74.638313 122.115875 L 74.693 122.123687 L 74.693 122.322906 L 74.720344 122.330719 L 74.720344 122.529937 L 74.775031 122.541656 L 74.775031 122.846344 L 74.853156 122.854156 L 74.853156 122.91275 L 76.025031 122.924469 L 76.025031 122.947906 L 76.185188 122.959625 L 76.185188 123.158844 L 76.267219 123.166656 L 76.267219 123.576812 L 76.321906 123.584625 L 76.321906 123.627594 L 76.345344 123.635406 L 76.345344 123.834625 L 76.646125 123.846344 L 76.646125 123.904937 L 76.728156 123.91275 L 76.728156 124.217437 L 76.810188 124.229156 L 76.810188 124.428375 L 76.888313 124.436187 L 76.888313 124.463531 L 77.927375 124.471344 L 77.927375 124.514312 L 77.982063 124.522125 L 77.982063 124.654937 L 78.03675 124.66275 L 78.03675 124.811187 L 78.064094 124.819 L 78.064094 124.8815 L 78.357063 124.889312 L 78.357063 124.91275 L 78.443 124.924469 L 78.443 125.018219 L 78.497688 125.026031 L 78.497688 125.229156 L 78.579719 125.236969 L 78.579719 125.365875 L 78.958625 125.373687 L 78.958625 125.385406 L 79.47425 125.393219 L 79.47425 125.420562 L 79.935188 125.428375 L 79.935188 125.733062 L 79.989875 125.740875 L 79.989875 125.940094 L 80.017219 125.947906 L 80.017219 126.217437 L 80.044563 126.229156 L 80.044563 126.252594 L 80.071906 126.260406 L 80.071906 126.565094 L 80.09925 126.576812 L 80.09925 126.670562 L 80.396125 126.678375 L 80.396125 126.776031 L 80.450813 126.783844 L 80.450813 126.983062 L 80.478156 126.994781 L 80.478156 127.194 L 80.5055 127.201812 L 80.5055 127.295562 L 80.532844 127.307281 L 80.532844 127.713531 L 80.587531 127.72525 L 80.587531 127.924469 L 80.614875 127.932281 L 80.614875 128.1315 L 80.669563 128.139312 L 80.669563 128.236969 L 80.993781 128.244781 L 80.993781 128.272125 L 81.943 128.279937 L 81.943 128.428375 L 82.025031 128.436187 L 82.025031 128.846344 L 82.079719 128.854156 L 82.079719 128.916656 L 82.107063 128.924469 L 82.107063 129.385406 L 82.403938 129.393219 L 82.403938 129.455719 L 82.458625 129.463531 L 82.458625 129.486969 L 82.485969 129.498687 L 82.485969 129.904937 L 82.540656 129.916656 L 82.540656 130.115875 L 82.568 130.123687 L 82.568 130.740875 L 82.622688 130.748687 L 82.622688 131.053375 L 82.650031 131.061187 L 82.650031 131.194 L 82.704719 131.201812 L 82.704719 131.264312 L 83.028938 131.272125 L 83.028938 131.315094 L 83.821906 131.322906 L 83.821906 131.330719 L 84.114875 131.342437 L 84.114875 131.436187 L 84.337531 131.444 L 84.337531 131.541656 L 84.493781 131.549469 L 84.493781 131.611969 L 84.575813 131.619781 L 84.575813 131.924469 L 84.657844 131.932281 L 84.657844 132.1315 L 84.739875 132.139312 L 84.739875 132.166656 L 85.775031 132.174469 L 85.775031 132.236969 L 85.829719 132.244781 L 85.829719 132.342437 L 85.857063 132.35025 L 85.857063 132.377594 L 86.235969 132.385406 L 86.235969 132.444 L 86.290656 132.455719 L 86.290656 132.760406 L 86.345344 132.768219 L 86.345344 132.967437 L 86.372688 132.97525 L 86.372688 133.174469 L 86.427375 133.186187 L 86.427375 133.315094 L 86.751594 133.322906 L 86.751594 133.35025 L 86.806281 133.358062 L 86.806281 133.420562 L 86.888313 133.428375 L 86.888313 133.522125 L 87.782844 133.533844 L 87.782844 133.66275 L 87.837531 133.670562 L 87.837531 133.713531 L 87.864875 133.72525 L 87.864875 133.924469 L 88.247688 133.932281 L 88.247688 134.236969 L 88.298469 134.244781 L 88.298469 134.444 L 88.325813 134.455719 L 88.325813 135.072906 L 88.353156 135.080719 L 88.353156 135.108062 L 88.3805 135.115875 L 88.3805 135.522125 L 88.407844 135.533844 L 88.407844 135.838531 L 88.435188 135.846344 L 88.435188 135.904937 L 88.462531 135.916656 L 88.462531 136.115875 L 88.763313 136.123687 L 88.763313 136.166656 L 88.790656 136.174469 L 88.790656 136.236969 L 88.841438 136.244781 L 88.841438 136.377594 L 88.923469 136.385406 L 88.923469 136.533844 L 89.872688 136.541656 L 89.872688 136.635406 L 90.2555 136.647125 L 90.2555 136.705719 L 90.337531 136.713531 L 90.337531 137.123687 L 90.388313 137.1315 L 90.388313 137.194 L 90.415656 137.201812 L 90.415656 137.819 L 90.470344 137.826812 L 90.470344 137.924469 L 90.497688 137.932281 L 90.497688 138.065094 L 90.798469 138.072906 L 90.798469 138.166656 L 90.8805 138.174469 L 90.8805 138.377594 L 90.958625 138.385406 L 90.958625 138.479156 L 92.1305 138.490875 L 92.1305 138.549469 L 92.185188 138.557281 L 92.185188 138.654937 L 92.427375 138.66275 L 92.427375 138.760406 L 92.5055 138.768219 L 92.5055 138.826812 L 92.650031 138.838531 L 92.650031 138.932281 L 93.626594 138.940094 L 93.626594 138.986969 L 94.087531 138.994781 L 94.087531 139.194 L 94.142219 139.201812 L 94.142219 139.5065 L 94.169563 139.514312 L 94.169563 139.647125 L 94.196906 139.654937 L 94.196906 139.717437 L 94.220344 139.72525 L 94.220344 139.924469 L 94.548469 139.932281 L 94.548469 139.97525 L 94.603156 139.986969 L 94.603156 140.115875 L 94.657844 140.123687 L 94.657844 140.272125 L 94.685188 140.279937 L 94.685188 140.479156 L 94.739875 140.490875 L 94.739875 140.619781 L 94.818 140.627594 L 94.818 140.670562 L 95.634406 140.682281 L 95.634406 140.705719 L 96.095344 140.717437 L 96.095344 141.018219 L 96.150031 141.029937 L 96.150031 141.088531 L 96.177375 141.10025 L 96.177375 141.717437 L 96.232063 141.72525 L 96.232063 141.854156 L 96.259406 141.861969 L 96.259406 142.166656 L 96.556281 142.178375 L 96.556281 142.272125 L 96.610969 142.279937 L 96.610969 142.342437 L 96.638313 142.35025 L 96.638313 142.619781 L 96.693 142.627594 L 96.693 142.932281 L 96.720344 142.940094 L 96.720344 143.244781 L 96.775031 143.2565 L 96.775031 143.455719 L 96.853156 143.463531 L 96.853156 143.490875 L 98.185188 143.498687 L 98.185188 143.627594 L 98.267219 143.639312 L 98.267219 143.838531 L 98.564094 143.846344 L 98.564094 143.854156 L 98.646125 143.861969 L 98.646125 143.994781 L 98.728156 144.002594 L 98.728156 144.463531 L 98.810188 144.471344 L 98.810188 144.604156 L 98.892219 144.611969 L 98.892219 144.619781 L 99.927375 144.627594 L 99.927375 144.654937 L 99.982063 144.66275 L 99.982063 144.72525 L 100.443 144.733062 L 100.443 144.8815 L 100.497688 144.889312 L 100.497688 145.022125 L 100.579719 145.029937 L 100.579719 145.088531 L 100.958625 145.10025 L 100.958625 145.123687 L 101.935188 145.1315 L 101.935188 145.334625 L 101.989875 145.342437 L 101.989875 145.436187 L 102.017219 145.447906 L 102.017219 145.576812 L 102.396125 145.584625 L 102.396125 145.783844 L 102.450813 145.795562 L 102.450813 146.10025 L 102.478156 146.108062 L 102.478156 146.41275 L 102.5055 146.420562 L 102.5055 146.483062 L 102.532844 146.490875 L 102.532844 146.760406 L 102.587531 146.768219 L 102.587531 146.865875 L 102.614875 146.873687 L 102.614875 146.967437 L 102.91175 146.97525 L 102.91175 147.002594 L 102.993781 147.010406 L 102.993781 147.072906 L 103.943 147.080719 L 103.943 147.178375 L 104.025031 147.186187 L 104.025031 147.385406 L 104.403938 147.393219 L 104.403938 147.526031 L 104.458625 147.533844 L 104.458625 147.576812 L 104.485969 147.584625 L 104.485969 148.201812 L 104.540656 148.213531 L 104.540656 148.342437 L 104.568 148.35025 L 104.568 148.760406 L 104.622688 148.768219 L 104.622688 148.916656 L 104.650031 148.924469 L 104.650031 148.986969 L 104.946906 148.994781 L 104.946906 149.057281 L 105.028938 149.065094 L 105.028938 149.158844 L 106.337531 149.166656 L 106.337531 149.213531 L 106.493781 149.221344 L 106.493781 149.315094 L 106.575813 149.326812 L 106.575813 149.526031 L 106.657844 149.533844 L 106.657844 149.627594 L 107.775031 149.639312 L 107.775031 149.66275 L 108.235969 149.674469 L 108.235969 149.768219 L 108.290656 149.776031 L 108.290656 149.979156 L 108.345344 149.986969 L 108.345344 150.080719 L 108.372688 150.088531 L 108.372688 150.186187 L 108.7555 150.194 L 108.7555 150.2565 L 108.806281 150.264312 L 108.806281 150.358062 L 108.888313 150.369781 L 108.888313 150.428375 L 109.782844 150.440094 L 109.782844 150.498687 L 110.247688 150.5065 L 110.247688 150.967437 L 110.302375 150.979156 L 110.302375 151.108062 L 110.325813 151.115875 L 110.325813 151.526031 L 110.353156 151.533844 L 110.353156 151.541656 L 110.3805 151.549469 L 110.3805 151.752594 L 110.407844 151.760406 L 110.407844 151.908844 L 110.708625 151.916656 L 110.708625 151.979156 L 110.763313 151.986969 L 110.763313 152.080719 L 110.790656 152.092437 L 110.790656 152.221344 L 110.845344 152.229156 L 110.845344 152.428375 L 110.923469 152.440094 L 110.923469 152.533844 L 112.2555 152.541656 L 112.2555 152.639312 L 112.337531 152.647125 L 112.337531 152.916656 L 112.392219 152.924469 L 112.392219 152.951812 L 112.415656 152.959625 L 112.415656 153.264312 L 112.716438 153.272125 L 112.716438 153.299469 L 112.798469 153.307281 L 112.798469 153.5065 L 112.8805 153.518219 L 112.8805 153.822906 L 112.958625 153.830719 L 112.958625 153.889312 L 114.134406 153.901031 L 114.134406 153.924469 L 114.427375 153.932281 L 114.427375 153.979156 L 114.650031 153.986969 L 114.650031 154.045562 L 116.087531 154.057281 L 116.087531 154.186187 L 116.142219 154.194 L 116.142219 154.342437 L 116.169563 154.35025 L 116.169563 154.41275 L 116.548469 154.420562 L 116.548469 154.518219 L 116.603156 154.526031 L 116.603156 154.72525 L 116.657844 154.733062 L 116.657844 154.830719 L 116.685188 154.838531 L 116.685188 154.967437 L 116.739875 154.979156 L 116.739875 155.03775 L 117.064094 155.045562 L 117.064094 155.057281 L 118.095344 155.065094 L 118.095344 155.264312 L 118.150031 155.272125 L 118.150031 155.299469 L 118.177375 155.307281 L 118.177375 155.611969 L 118.556281 155.619781 L 118.556281 155.822906 L 118.610969 155.830719 L 118.610969 155.924469 L 118.638313 155.936187 L 118.638313 156.342437 L 118.693 156.35025 L 118.693 156.553375 L 118.720344 156.561187 L 118.720344 156.760406 L 118.775031 156.768219 L 118.775031 156.865875 L 119.09925 156.873687 L 119.09925 156.901031 L 120.185188 156.908844 L 120.185188 156.967437 L 120.564094 156.979156 L 120.564094 157.002594 L 120.646125 157.014312 L 120.646125 157.213531 L 120.728156 157.221344 L 120.728156 157.526031 L 120.810188 157.533844 L 120.810188 157.596344 L 121.927375 157.604156 L 121.927375 157.611969 L 122.443 157.619781 L 122.443 157.717437 L 122.497688 157.72525 L 122.497688 157.78775 L 122.958625 157.795562 L 122.958625 157.838531 L 123.935188 157.846344 L 123.935188 157.944 L 124.396125 157.951812 L 124.396125 158.2565 L 124.450813 158.264312 L 124.450813 158.463531 L 124.478156 158.47525 L 124.478156 158.674469 L 124.5055 158.682281 L 124.5055 158.709625 L 124.532844 158.717437 L 124.532844 158.846344 L 124.857063 158.858062 L 124.857063 158.8815 L 124.91175 158.889312 L 124.91175 158.951812 L 124.993781 158.959625 L 124.993781 159.057281 L 125.943 159.065094 L 125.943 159.108062 L 126.403938 159.115875 L 126.403938 159.319 L 126.458625 159.326812 L 126.458625 159.35025 L 126.485969 159.361969 L 126.485969 159.768219 L 126.540656 159.779937 L 126.540656 159.838531 L 126.568 159.846344 L 126.568 160.049469 L 126.868781 160.057281 L 126.868781 160.10025 L 126.946906 160.108062 L 126.946906 160.240875 L 127.028938 160.248687 L 127.028938 160.397125 L 128.493781 160.404937 L 128.493781 160.463531 L 128.575813 160.47525 L 128.575813 160.569 L 130.239875 160.576812 L 130.239875 160.639312 L 130.290656 160.647125 L 130.290656 160.744781 L 130.7555 160.752594 L 130.7555 160.846344 L 130.810188 160.858062 L 130.810188 160.916656 L 130.888313 160.924469 L 130.888313 160.951812 L 132.247688 160.959625 L 132.247688 161.264312 L 132.302375 161.272125 L 132.302375 161.334625 L 132.329719 161.342437 L 132.329719 161.541656 L 132.708625 161.553375 L 132.708625 161.682281 L 132.763313 161.690094 L 132.763313 161.838531 L 132.790656 161.846344 L 132.790656 162.049469 L 132.845344 162.057281 L 132.845344 162.186187 L 132.923469 162.194 L 132.923469 162.240875 L 134.2555 162.248687 L 134.2555 162.307281 L 134.337531 162.319 L 134.337531 162.447906 L 134.716438 162.455719 L 134.716438 162.518219 L 134.798469 162.526031 L 134.798469 162.830719 L 134.8805 162.838531 L 134.8805 163.03775 L 134.962531 163.049469 L 134.962531 163.072906 L 136.650031 163.084625 L 136.650031 163.108062 L 138.087531 163.115875 L 138.087531 163.178375 L 138.548469 163.186187 L 138.548469 163.334625 L 138.603156 163.342437 L 138.603156 163.47525 L 138.657844 163.483062 L 138.657844 163.526031 L 138.685188 163.533844 L 138.685188 163.596344 L 139.064094 163.604156 L 139.064094 163.6315 L 140.095344 163.639312 L 140.095344 163.733062 L 140.556281 163.744781 L 140.556281 164.049469 L 140.610969 164.057281 L 140.610969 164.115875 L 140.638313 164.127594 L 140.638313 164.397125 L 140.693 164.404937 L 140.693 164.498687 L 140.720344 164.510406 L 140.720344 164.604156 L 141.017219 164.611969 L 141.017219 164.639312 L 141.09925 164.647125 L 141.09925 164.709625 L 142.564094 164.717437 L 142.564094 164.760406 L 142.646125 164.768219 L 142.646125 164.901031 L 142.728156 164.908844 L 142.728156 165.057281 L 144.443 165.065094 L 144.443 165.108062 L 144.958625 165.115875 L 144.958625 165.143219 L 146.396125 165.151031 L 146.396125 165.354156 L 146.450813 165.361969 L 146.450813 165.455719 L 146.478156 165.467437 L 146.478156 165.561187 L 146.860969 165.569 L 146.860969 165.6315 L 146.91175 165.639312 L 146.91175 165.736969 L 146.993781 165.744781 L 146.993781 165.803375 L 148.407844 165.815094 L 148.407844 165.944 L 148.458625 165.951812 L 148.458625 165.959625 L 148.485969 165.971344 L 148.485969 166.170562 L 148.868781 166.178375 L 148.868781 166.276031 L 148.950813 166.283844 L 148.950813 166.483062 L 149.028938 166.490875 L 149.028938 166.588531 L 150.497688 166.596344 L 150.497688 166.623687 L 152.239875 166.6315 L 152.239875 166.658844 L 152.7555 166.666656 L 152.7555 166.72525 L 152.810188 166.736969 L 152.810188 166.760406 L 154.247688 166.768219 L 154.247688 166.916656 L 154.708625 166.928375 L 154.708625 167.127594 L 154.763313 167.135406 L 154.763313 167.229156 L 154.790656 167.240875 L 154.790656 167.369781 L 154.845344 167.377594 L 154.845344 167.440094 L 155.169563 167.447906 L 155.169563 167.455719 L 156.2555 167.467437 L 156.2555 167.490875 L 156.716438 167.498687 L 156.716438 167.596344 L 156.798469 167.604156 L 156.798469 167.803375 L 156.8805 167.815094 L 156.8805 167.908844 L 160.548469 167.916656 L 160.548469 168.014312 L 160.603156 168.022125 L 160.603156 168.084625 L 161.064094 168.092437 L 161.064094 168.135406 L 162.556281 168.143219 L 162.556281 168.342437 L 162.610969 168.354156 L 162.610969 168.377594 L 162.638313 168.389312 L 162.638313 168.518219 L 163.017219 168.526031 L 163.017219 168.588531 L 163.09925 168.596344 L 163.09925 168.690094 L 164.564094 168.701812 L 164.564094 168.72525 L 164.646125 168.736969 L 164.646125 168.795562 L 166.958625 168.803375 L 166.958625 168.815094 L 168.396125 168.822906 L 168.396125 168.916656 L 168.860969 168.928375 L 168.860969 169.022125 L 168.915656 169.029937 L 168.915656 169.092437 L 168.993781 169.10025 L 168.993781 169.127594 L 170.407844 169.135406 L 170.407844 169.197906 L 170.868781 169.205719 L 170.868781 169.354156 L 170.950813 169.361969 L 170.950813 169.490875 L 171.028938 169.498687 L 171.028938 169.545562 L 174.7555 169.553375 L 174.7555 169.580719 L 176.708625 169.588531 L 176.708625 169.717437 L 176.763313 169.72525 L 176.763313 169.772125 L 176.790656 169.779937 L 176.790656 169.838531 L 177.169563 169.85025 L 177.169563 169.873687 L 178.716438 169.8815 L 178.716438 169.944 L 178.798469 169.951812 L 178.798469 170.049469 L 182.548469 170.057281 L 182.548469 170.10025 L 183.064094 170.108062 L 183.064094 170.135406 L 184.556281 170.143219 L 184.556281 170.240875 L 185.021125 170.248687 L 185.021125 170.342437 L 185.09925 170.354156 L 185.09925 170.41275 L 186.568 170.420562 L 186.568 170.432281 L 190.860969 170.440094 L 190.860969 170.502594 L 190.915656 170.510406 L 190.915656 170.533844 L 192.868781 170.545562 L 192.868781 170.639312 L 192.950813 170.647125 L 192.950813 170.709625 L 198.708625 170.717437 L 198.708625 170.779937 L 199.169563 170.78775 L 199.169563 170.830719 L 200.716438 170.838531 L 200.716438 170.865875 L 205.064094 170.873687 L 205.064094 170.8815 L 207.021125 170.893219 L 207.021125 170.951812 L 207.09925 170.963531 L 207.09925 170.986969 L 212.860969 170.994781 L 212.860969 171.022125 L 214.868781 171.029937 L 214.868781 171.072906 L 221.169563 171.084625 L 221.169563 171.108062 L 229.021125 171.119781 L 229.021125 171.143219 L 243.169563 171.151031 L 243.169563 171.16275 \" transform=\"matrix(1,0,0,-1,37.807,178.194)\"/>\n",
       "<path style=\"fill:none;stroke-width:1.19553;stroke-linecap:butt;stroke-linejoin:miter;stroke:rgb(73.33374%,73.33374%,73.33374%);stroke-opacity:1;stroke-miterlimit:10;\" d=\"M 0.00159375 -0.0013125 L 0.00159375 0.233062 L 0.118781 0.233062 L 0.118781 0.334625 L 0.153938 0.338531 L 0.153938 0.358062 L 0.177375 0.361969 L 0.177375 0.451812 L 0.181281 0.455719 L 0.181281 0.486969 L 0.212531 0.490875 L 0.212531 0.498687 L 0.294563 0.502594 L 0.294563 0.545562 L 0.325813 0.549469 L 0.325813 0.569 L 0.329719 0.572906 L 0.329719 0.639312 L 0.333625 0.639312 L 0.333625 0.651031 L 0.353156 0.651031 L 0.353156 0.654937 L 0.392219 0.658844 L 0.392219 0.678375 L 0.446906 0.682281 L 0.446906 0.854156 L 0.47425 0.854156 L 0.47425 0.873687 L 0.509406 0.877594 L 0.509406 1.014312 L 0.622688 1.018219 L 0.622688 1.119781 L 0.626594 1.123687 L 0.626594 1.190094 L 0.685188 1.190094 L 0.685188 1.502594 L 0.739875 1.502594 L 0.739875 1.572906 L 0.802375 1.572906 L 0.802375 1.779937 L 0.837531 1.783844 L 0.837531 1.815094 L 0.860969 1.819 L 0.860969 1.861969 L 0.954719 1.861969 L 0.954719 1.91275 L 0.958625 1.916656 L 0.958625 1.936187 L 0.978156 1.940094 L 0.978156 2.0065 L 1.017219 2.010406 L 1.017219 2.069 L 1.071906 2.072906 L 1.071906 2.104156 L 1.1305 2.108062 L 1.1305 2.197906 L 1.134406 2.201812 L 1.134406 2.279937 L 1.193 2.279937 L 1.193 2.369781 L 1.247688 2.373687 L 1.247688 2.510406 L 1.306281 2.514312 L 1.306281 2.561187 L 1.310188 2.565094 L 1.310188 2.701812 L 1.368781 2.705719 L 1.368781 2.858062 L 1.423469 2.861969 L 1.423469 2.963531 L 1.485969 2.963531 L 1.485969 3.276031 L 1.525031 3.279937 L 1.525031 3.299469 L 1.540656 3.303375 L 1.540656 3.315094 L 1.607063 3.319 L 1.607063 3.369781 L 1.638313 3.369781 L 1.638313 3.424469 L 1.642219 3.428375 L 1.642219 3.471344 L 1.665656 3.47525 L 1.665656 3.518219 L 1.700813 3.522125 L 1.700813 3.553375 L 1.7555 3.557281 L 1.7555 3.623687 L 1.814094 3.627594 L 1.814094 3.670562 L 1.818 3.674469 L 1.818 3.776031 L 1.821906 3.776031 L 1.821906 3.795562 L 1.931281 3.799469 L 1.931281 4.0065 L 1.935188 4.010406 L 1.935188 4.029937 L 1.997688 4.033844 L 1.997688 4.236969 L 2.052375 4.240875 L 2.052375 4.283844 L 2.110969 4.28775 L 2.110969 4.354156 L 2.114875 4.358062 L 2.114875 4.401031 L 2.146125 4.404937 L 2.146125 4.436187 L 2.208625 4.436187 L 2.208625 4.447906 L 2.228156 4.447906 L 2.228156 4.483062 L 2.259406 4.483062 L 2.259406 4.486969 L 2.263313 4.490875 L 2.263313 4.697906 L 2.290656 4.697906 L 2.290656 4.799469 L 2.325813 4.803375 L 2.325813 4.885406 L 2.439094 4.889312 L 2.439094 4.955719 L 2.443 4.959625 L 2.443 5.061187 L 2.446906 5.065094 L 2.446906 5.096344 L 2.501594 5.10025 L 2.501594 5.166656 L 2.556281 5.166656 L 2.556281 5.213531 L 2.560188 5.213531 L 2.560188 5.264312 L 2.618781 5.268219 L 2.618781 5.404937 L 2.622688 5.404937 L 2.622688 5.467437 L 2.735969 5.471344 L 2.735969 5.561187 L 2.771125 5.561187 L 2.771125 5.66275 L 2.794563 5.666656 L 2.794563 5.697906 L 2.888313 5.701812 L 2.888313 5.768219 L 2.91175 5.772125 L 2.91175 5.819 L 2.946906 5.822906 L 2.946906 5.959625 L 3.013313 5.963531 L 3.013313 6.0065 L 3.064094 6.010406 L 3.064094 6.029937 L 3.068 6.033844 L 3.068 6.236969 L 3.122688 6.240875 L 3.122688 6.272125 L 3.126594 6.276031 L 3.126594 6.342437 L 3.1305 6.346344 L 3.1305 6.41275 L 3.181281 6.416656 L 3.181281 6.447906 L 3.189094 6.447906 L 3.189094 6.483062 L 3.243781 6.483062 L 3.243781 6.654937 L 3.302375 6.658844 L 3.302375 6.72525 L 3.306281 6.729156 L 3.306281 6.795562 L 3.360969 6.799469 L 3.360969 6.807281 L 3.400031 6.807281 L 3.400031 6.819 L 3.419563 6.819 L 3.419563 6.955719 L 3.423469 6.959625 L 3.423469 6.967437 L 3.458625 6.971344 L 3.458625 7.03775 L 3.540656 7.041656 L 3.540656 7.061187 L 3.575813 7.065094 L 3.575813 7.201812 L 3.595344 7.201812 L 3.595344 7.236969 L 3.634406 7.236969 L 3.634406 7.303375 L 3.747688 7.307281 L 3.747688 7.315094 L 3.751594 7.319 L 3.751594 7.6315 L 3.810188 7.6315 L 3.810188 7.66275 L 3.814094 7.666656 L 3.814094 7.768219 L 3.864875 7.772125 L 3.864875 7.819 L 3.868781 7.822906 L 3.868781 7.889312 L 3.927375 7.893219 L 3.927375 7.936187 L 3.931281 7.940094 L 3.931281 8.115875 L 3.982063 8.119781 L 3.982063 8.127594 L 4.044563 8.1315 L 4.044563 8.151031 L 4.048469 8.154937 L 4.048469 8.186187 L 4.079719 8.190094 L 4.079719 8.221344 L 4.083625 8.22525 L 4.083625 8.244781 L 4.107063 8.248687 L 4.107063 8.338531 L 4.110969 8.338531 L 4.110969 8.361969 L 4.142219 8.361969 L 4.142219 8.393219 L 4.22425 8.397125 L 4.22425 8.440094 L 4.259406 8.444 L 4.259406 8.651031 L 4.372688 8.651031 L 4.372688 8.721344 L 4.376594 8.721344 L 4.376594 8.822906 L 4.435188 8.826812 L 4.435188 9.033844 L 4.552375 9.033844 L 4.552375 9.205719 L 4.591438 9.209625 L 4.591438 9.22525 L 4.610969 9.22525 L 4.610969 9.248687 L 4.669563 9.248687 L 4.669563 9.272125 L 4.704719 9.272125 L 4.704719 9.373687 L 4.708625 9.377594 L 4.708625 9.385406 L 4.732063 9.389312 L 4.732063 9.490875 L 4.767219 9.494781 L 4.767219 9.526031 L 4.8805 9.529937 L 4.8805 9.66275 L 4.888313 9.666656 L 4.888313 9.686187 L 4.946906 9.690094 L 4.946906 9.826812 L 4.997688 9.830719 L 4.997688 10.033844 L 5.056281 10.03775 L 5.056281 10.069 L 5.064094 10.072906 L 5.064094 10.279937 L 5.122688 10.283844 L 5.122688 10.3815 L 5.173469 10.385406 L 5.173469 10.451812 L 5.235969 10.455719 L 5.235969 10.471344 L 5.239875 10.47525 L 5.239875 10.678375 L 5.275031 10.682281 L 5.275031 10.690094 L 5.294563 10.694 L 5.294563 10.701812 L 5.333625 10.705719 L 5.333625 10.713531 L 5.353156 10.717437 L 5.353156 10.748687 L 5.357063 10.752594 L 5.357063 10.783844 L 5.388313 10.78775 L 5.388313 10.854156 L 5.392219 10.854156 L 5.392219 10.877594 L 5.415656 10.877594 L 5.415656 10.901031 L 5.454719 10.901031 L 5.454719 10.924469 L 5.470344 10.924469 L 5.470344 10.928375 L 5.509406 10.932281 L 5.509406 11.069 L 5.568 11.069 L 5.568 11.135406 L 5.571906 11.139312 L 5.571906 11.182281 L 5.6305 11.186187 L 5.6305 11.252594 L 5.685188 11.2565 L 5.685188 11.565094 L 5.747688 11.569 L 5.747688 11.877594 L 5.802375 11.8815 L 5.802375 11.947906 L 5.860969 11.951812 L 5.860969 11.994781 L 5.864875 11.998687 L 5.864875 12.065094 L 5.896125 12.069 L 5.896125 12.080719 L 5.923469 12.084625 L 5.923469 12.221344 L 5.958625 12.22525 L 5.978156 12.229156 L 5.978156 12.248687 L 6.017219 12.252594 L 6.017219 12.272125 L 6.040656 12.276031 L 6.040656 12.365875 L 6.075813 12.369781 L 6.075813 12.401031 L 6.079719 12.404937 L 6.079719 12.436187 L 6.157844 12.440094 L 6.157844 12.447906 L 6.193 12.451812 L 6.193 12.654937 L 6.196906 12.658844 L 6.196906 12.674469 L 6.2555 12.674469 L 6.2555 12.744781 L 6.310188 12.744781 L 6.310188 12.846344 L 6.368781 12.85025 L 6.368781 13.057281 L 6.376594 13.057281 L 6.376594 13.092437 L 6.485969 13.092437 L 6.485969 13.229156 L 6.525031 13.233062 L 6.525031 13.299469 L 6.544563 13.303375 L 6.544563 13.322906 L 6.552375 13.326812 L 6.552375 13.463531 L 6.66175 13.463531 L 6.66175 13.494781 L 6.700813 13.498687 L 6.700813 13.60025 L 6.763313 13.604156 L 6.763313 13.623687 L 6.814094 13.627594 L 6.814094 13.670562 L 6.818 13.674469 L 6.818 13.799469 L 6.841438 13.799469 L 6.841438 13.815094 L 6.876594 13.819 L 6.876594 13.955719 L 6.8805 13.955719 L 6.8805 13.990875 L 6.997688 13.990875 L 6.997688 14.197906 L 7.052375 14.201812 L 7.052375 14.303375 L 7.150031 14.307281 L 7.150031 14.319 L 7.173469 14.322906 L 7.173469 14.529937 L 7.208625 14.529937 L 7.208625 14.576812 L 7.290656 14.576812 L 7.290656 14.608062 L 7.321906 14.611969 L 7.321906 14.6315 L 7.325813 14.635406 L 7.325813 14.72525 L 7.34925 14.729156 L 7.34925 14.748687 L 7.384406 14.752594 L 7.384406 14.783844 L 7.388313 14.78775 L 7.388313 14.807281 L 7.443 14.811187 L 7.443 14.854156 L 7.446906 14.858062 L 7.446906 14.865875 L 7.497688 14.869781 L 7.497688 14.889312 L 7.501594 14.889312 L 7.501594 15.045562 L 7.5055 15.049469 L 7.5055 15.092437 L 7.564094 15.092437 L 7.564094 15.158844 L 7.568 15.16275 L 7.568 15.213531 L 7.618781 15.217437 L 7.618781 15.35025 L 7.681281 15.354156 L 7.681281 15.666656 L 7.685188 15.666656 L 7.685188 15.678375 L 7.735969 15.678375 L 7.735969 15.697906 L 7.798469 15.701812 L 7.798469 15.768219 L 7.833625 15.772125 L 7.833625 15.803375 L 7.857063 15.807281 L 7.857063 15.944 L 7.892219 15.947906 L 7.892219 15.967437 L 7.97425 15.967437 L 7.97425 16.03775 L 8.009406 16.03775 L 8.009406 16.049469 L 8.013313 16.049469 L 8.013313 16.186187 L 8.032844 16.190094 L 8.032844 16.197906 L 8.071906 16.201812 L 8.071906 16.209625 L 8.126594 16.213531 L 8.126594 16.279937 L 8.1305 16.283844 L 8.1305 16.35025 L 8.189094 16.35025 L 8.189094 16.522125 L 8.243781 16.526031 L 8.243781 16.557281 L 8.302375 16.561187 L 8.302375 16.627594 L 8.306281 16.6315 L 8.306281 16.733062 L 8.364875 16.733062 L 8.364875 16.940094 L 8.368781 16.944 L 8.368781 16.963531 L 8.419563 16.967437 L 8.419563 17.010406 L 8.482063 17.014312 L 8.482063 17.151031 L 8.521125 17.151031 L 8.521125 17.201812 L 8.634406 17.205719 L 8.634406 17.295562 L 8.638313 17.295562 L 8.638313 17.330719 L 8.66175 17.330719 L 8.66175 17.432281 L 8.696906 17.436187 L 8.696906 17.526031 L 8.810188 17.529937 L 8.810188 17.588531 L 8.814094 17.592437 L 8.814094 17.729156 L 8.872688 17.733062 L 8.872688 17.779937 L 8.927375 17.783844 L 8.927375 17.885406 L 8.985969 17.889312 L 8.985969 17.920562 L 8.989875 17.924469 L 8.989875 18.026031 L 8.993781 18.026031 L 8.993781 18.092437 L 9.103156 18.096344 L 9.103156 18.16275 L 9.107063 18.166656 L 9.107063 18.182281 L 9.142219 18.182281 L 9.142219 18.283844 L 9.204719 18.28775 L 9.204719 18.319 L 9.22425 18.322906 L 9.22425 18.330719 L 9.259406 18.334625 L 9.259406 18.541656 L 9.28675 18.541656 L 9.28675 18.576812 L 9.318 18.576812 L 9.318 18.623687 L 9.321906 18.623687 L 9.321906 18.690094 L 9.3805 18.694 L 9.3805 18.736969 L 9.435188 18.740875 L 9.435188 18.947906 L 9.497688 18.947906 L 9.497688 19.178375 L 9.552375 19.182281 L 9.552375 19.22525 L 9.610969 19.229156 L 9.610969 19.248687 L 9.614875 19.252594 L 9.614875 19.354156 L 9.618781 19.354156 L 9.618781 19.397125 L 9.673469 19.401031 L 9.673469 19.467437 L 9.728156 19.471344 L 9.728156 19.479156 L 9.732063 19.483062 L 9.732063 19.502594 L 9.767219 19.5065 L 9.767219 19.549469 L 9.790656 19.553375 L 9.790656 19.596344 L 9.794563 19.60025 L 9.794563 19.6315 L 9.825813 19.6315 L 9.825813 19.682281 L 9.888313 19.686187 L 9.888313 19.701812 L 9.907844 19.701812 L 9.907844 19.72525 L 9.943 19.72525 L 9.943 20.03775 L 10.009406 20.03775 L 10.009406 20.139312 L 10.064094 20.143219 L 10.064094 20.295562 L 10.118781 20.299469 L 10.118781 20.436187 L 10.126594 20.440094 L 10.126594 20.486969 L 10.185188 20.490875 L 10.185188 20.627594 L 10.239875 20.6315 L 10.239875 20.721344 L 10.298469 20.72525 L 10.298469 20.803375 L 10.302375 20.803375 L 10.302375 20.893219 L 10.415656 20.897125 L 10.415656 20.959625 L 10.454719 20.959625 L 10.454719 21.026031 L 10.47425 21.029937 L 10.47425 21.049469 L 10.478156 21.053375 L 10.478156 21.104156 L 10.571906 21.104156 L 10.571906 21.151031 L 10.591438 21.151031 L 10.591438 21.186187 L 10.6305 21.186187 L 10.6305 21.393219 L 10.747688 21.397125 L 10.747688 21.705719 L 10.806281 21.709625 L 10.806281 21.776031 L 10.810188 21.779937 L 10.810188 21.8815 L 10.923469 21.8815 L 10.923469 22.018219 L 10.958625 22.022125 L 10.958625 22.041656 L 11.040656 22.045562 L 11.040656 22.065094 L 11.075813 22.069 L 11.075813 22.158844 L 11.079719 22.16275 L 11.09925 22.166656 L 11.09925 22.174469 L 11.103156 22.178375 L 11.103156 22.268219 L 11.138313 22.272125 L 11.138313 22.315094 L 11.220344 22.319 L 11.220344 22.326812 L 11.251594 22.330719 L 11.251594 22.361969 L 11.2555 22.365875 L 11.2555 22.455719 L 11.314094 22.455719 L 11.314094 22.557281 L 11.368781 22.561187 L 11.368781 22.713531 L 11.431281 22.717437 L 11.431281 23.186187 L 11.548469 23.186187 L 11.548469 23.28775 L 11.587531 23.291656 L 11.587531 23.311187 L 11.607063 23.315094 L 11.607063 23.404937 L 11.646125 23.408844 L 11.646125 23.416656 L 11.700813 23.420562 L 11.700813 23.451812 L 11.728156 23.455719 L 11.728156 23.498687 L 11.759406 23.498687 L 11.759406 23.522125 L 11.763313 23.522125 L 11.763313 23.60025 L 11.782844 23.604156 L 11.782844 23.608062 L 11.821906 23.611969 L 11.821906 23.6315 L 11.876594 23.635406 L 11.876594 23.768219 L 11.8805 23.772125 L 11.8805 23.803375 L 11.943 23.807281 L 11.943 23.944 L 11.993781 23.947906 L 11.993781 24.014312 L 12.052375 24.018219 L 12.052375 24.119781 L 12.060188 24.119781 L 12.060188 24.186187 L 12.118781 24.190094 L 12.118781 24.498687 L 12.169563 24.502594 L 12.169563 24.569 L 12.235969 24.572906 L 12.235969 24.779937 L 12.271125 24.779937 L 12.271125 24.815094 L 12.294563 24.815094 L 12.294563 24.858062 L 12.384406 24.861969 L 12.384406 24.91275 L 12.388313 24.916656 L 12.388313 24.936187 L 12.41175 24.940094 L 12.41175 25.0065 L 12.446906 25.0065 L 12.446906 25.049469 L 12.450813 25.053375 L 12.450813 25.069 L 12.5055 25.072906 L 12.5055 25.104156 L 12.564094 25.108062 L 12.564094 25.264312 L 12.568 25.268219 L 12.568 25.276031 L 12.626594 25.279937 L 12.626594 25.369781 L 12.681281 25.373687 L 12.681281 25.510406 L 12.739875 25.510406 L 12.739875 25.561187 L 12.743781 25.565094 L 12.743781 25.701812 L 12.857063 25.701812 L 12.857063 25.803375 L 12.892219 25.807281 L 12.892219 25.873687 L 12.919563 25.877594 L 12.919563 26.186187 L 12.954719 26.190094 L 12.954719 26.209625 L 12.97425 26.213531 L 12.97425 26.229156 L 13.03675 26.229156 L 13.03675 26.279937 L 13.068 26.283844 L 13.068 26.303375 L 13.071906 26.307281 L 13.071906 26.338531 L 13.075813 26.342437 L 13.075813 26.385406 L 13.134406 26.389312 L 13.134406 26.408844 L 13.185188 26.41275 L 13.185188 26.510406 L 13.189094 26.514312 L 13.189094 26.580719 L 13.247688 26.584625 L 13.247688 26.627594 L 13.251594 26.6315 L 13.251594 26.7565 L 13.364875 26.760406 L 13.364875 26.963531 L 13.368781 26.967437 L 13.368781 26.986969 L 13.482063 26.990875 L 13.482063 27.033844 L 13.521125 27.03775 L 13.521125 27.104156 L 13.540656 27.108062 L 13.540656 27.174469 L 13.548469 27.174469 L 13.548469 27.221344 L 13.579719 27.221344 L 13.579719 27.252594 L 13.642219 27.2565 L 13.642219 27.264312 L 13.657844 27.268219 L 13.657844 27.299469 L 13.693 27.303375 L 13.693 27.307281 L 13.696906 27.311187 L 13.696906 27.514312 L 13.7555 27.518219 L 13.7555 27.533844 L 13.759406 27.533844 L 13.759406 27.604156 L 13.810188 27.604156 L 13.810188 27.635406 L 13.814094 27.639312 L 13.814094 27.740875 L 13.872688 27.744781 L 13.872688 27.916656 L 13.876594 27.916656 L 13.876594 27.951812 L 13.935188 27.951812 L 13.935188 28.018219 L 13.989875 28.022125 L 13.989875 28.065094 L 13.993781 28.069 L 13.993781 28.119781 L 14.048469 28.119781 L 14.048469 28.2565 L 14.052375 28.260406 L 14.052375 28.303375 L 14.169563 28.307281 L 14.169563 28.397125 L 14.204719 28.401031 L 14.204719 28.502594 L 14.228156 28.502594 L 14.228156 28.533844 L 14.321906 28.53775 L 14.321906 28.604156 L 14.345344 28.608062 L 14.345344 28.658844 L 14.3805 28.658844 L 14.3805 28.795562 L 14.443 28.799469 L 14.443 28.842437 L 14.493781 28.846344 L 14.493781 28.865875 L 14.497688 28.869781 L 14.497688 29.072906 L 14.556281 29.076812 L 14.556281 29.108062 L 14.560188 29.111969 L 14.560188 29.178375 L 14.564094 29.182281 L 14.564094 29.248687 L 14.614875 29.252594 L 14.614875 29.283844 L 14.673469 29.28775 L 14.673469 29.354156 L 14.677375 29.354156 L 14.677375 29.455719 L 14.735969 29.459625 L 14.735969 29.526031 L 14.739875 29.529937 L 14.739875 29.596344 L 14.794563 29.60025 L 14.794563 29.608062 L 14.829719 29.611969 L 14.829719 29.619781 L 14.853156 29.623687 L 14.853156 29.760406 L 14.857063 29.760406 L 14.857063 29.772125 L 14.888313 29.772125 L 14.888313 29.838531 L 14.970344 29.842437 L 14.970344 29.861969 L 15.001594 29.865875 L 15.001594 29.885406 L 15.009406 29.889312 L 15.009406 30.026031 L 15.028938 30.029937 L 15.028938 30.061187 L 15.064094 30.065094 L 15.064094 30.1315 L 15.181281 30.1315 L 15.181281 30.143219 L 15.185188 30.143219 L 15.185188 30.455719 L 15.298469 30.455719 L 15.298469 30.5065 L 15.302375 30.510406 L 15.302375 30.576812 L 15.337531 30.580719 L 15.337531 30.588531 L 15.360969 30.592437 L 15.360969 30.791656 L 15.364875 30.795562 L 15.364875 30.815094 L 15.415656 30.815094 L 15.415656 30.826812 L 15.478156 30.826812 L 15.478156 30.885406 L 15.509406 30.885406 L 15.509406 30.916656 L 15.517219 30.920562 L 15.517219 30.940094 L 15.575813 30.944 L 15.575813 30.97525 L 15.6305 30.979156 L 15.6305 31.186187 L 15.657844 31.186187 L 15.657844 31.233062 L 15.693 31.233062 L 15.693 31.440094 L 15.806281 31.444 L 15.806281 31.510406 L 15.810188 31.514312 L 15.810188 31.615875 L 15.868781 31.615875 L 15.868781 31.822906 L 15.923469 31.826812 L 15.923469 31.869781 L 15.982063 31.873687 L 15.982063 31.904937 L 15.985969 31.908844 L 15.985969 32.041656 L 16.021125 32.045562 L 16.021125 32.061187 L 16.044563 32.065094 L 16.044563 32.084625 L 16.09925 32.088531 L 16.09925 32.108062 L 16.138313 32.108062 L 16.138313 32.209625 L 16.142219 32.213531 L 16.142219 32.221344 L 16.16175 32.22525 L 16.16175 32.2565 L 16.200813 32.260406 L 16.200813 32.291656 L 16.2555 32.295562 L 16.2555 32.361969 L 16.314094 32.365875 L 16.314094 32.502594 L 16.318 32.502594 L 16.318 32.526031 L 16.376594 32.526031 L 16.376594 32.66275 L 16.431281 32.666656 L 16.431281 32.873687 L 16.489875 32.873687 L 16.489875 32.908844 L 16.493781 32.908844 L 16.493781 33.115875 L 16.552375 33.119781 L 16.552375 33.221344 L 16.607063 33.221344 L 16.607063 33.28775 L 16.669563 33.291656 L 16.669563 33.514312 L 16.708625 33.518219 L 16.708625 33.526031 L 16.72425 33.529937 L 16.72425 33.53775 L 16.763313 33.541656 L 16.763313 33.549469 L 16.78675 33.553375 L 16.78675 33.584625 L 16.790656 33.588531 L 16.790656 33.619781 L 16.821906 33.623687 L 16.821906 33.690094 L 16.825813 33.694 L 16.825813 33.713531 L 16.84925 33.717437 L 16.84925 33.736969 L 16.884406 33.740875 L 16.884406 33.760406 L 16.903938 33.760406 L 16.903938 33.764312 L 16.939094 33.768219 L 16.939094 33.904937 L 16.997688 33.908844 L 16.997688 33.97525 L 17.0055 33.97525 L 17.0055 34.018219 L 17.114875 34.022125 L 17.114875 34.334625 L 17.181281 34.334625 L 17.181281 34.647125 L 17.235969 34.651031 L 17.235969 34.717437 L 17.294563 34.717437 L 17.294563 34.760406 L 17.298469 34.764312 L 17.298469 34.830719 L 17.329719 34.834625 L 17.329719 34.85025 L 17.392219 34.85025 L 17.392219 34.854156 L 17.41175 34.858062 L 17.41175 34.877594 L 17.443 34.8815 L 17.443 34.889312 L 17.446906 34.893219 L 17.446906 34.994781 L 17.450813 34.998687 L 17.450813 35.018219 L 17.470344 35.022125 L 17.470344 35.041656 L 17.47425 35.041656 L 17.47425 35.111969 L 17.509406 35.111969 L 17.509406 35.178375 L 17.587531 35.182281 L 17.587531 35.190094 L 17.626594 35.194 L 17.626594 35.401031 L 17.6305 35.401031 L 17.6305 35.416656 L 17.743781 35.420562 L 17.743781 35.522125 L 17.802375 35.526031 L 17.802375 35.729156 L 17.806281 35.733062 L 17.806281 35.764312 L 17.919563 35.768219 L 17.919563 35.904937 L 17.954719 35.908844 L 17.954719 35.97525 L 17.978156 35.97525 L 17.978156 35.998687 L 18.071906 35.998687 L 18.071906 36.076812 L 18.095344 36.080719 L 18.095344 36.111969 L 18.1305 36.115875 L 18.1305 36.182281 L 18.134406 36.186187 L 18.134406 36.217437 L 18.196906 36.221344 L 18.196906 36.240875 L 18.247688 36.244781 L 18.247688 36.28775 L 18.251594 36.291656 L 18.251594 36.41275 L 18.310188 36.416656 L 18.310188 36.553375 L 18.314094 36.557281 L 18.314094 36.588531 L 18.364875 36.592437 L 18.364875 36.658844 L 18.427375 36.66275 L 18.427375 36.865875 L 18.485969 36.869781 L 18.485969 36.971344 L 18.583625 36.97525 L 18.583625 36.986969 L 18.603156 36.990875 L 18.603156 37.197906 L 18.642219 37.201812 L 18.642219 37.244781 L 18.72425 37.244781 L 18.72425 37.279937 L 18.7555 37.279937 L 18.7555 37.303375 L 18.759406 37.303375 L 18.759406 37.393219 L 18.778938 37.397125 L 18.778938 37.416656 L 18.818 37.420562 L 18.818 37.47525 L 18.872688 37.479156 L 18.872688 37.522125 L 18.931281 37.526031 L 18.931281 37.545562 L 18.935188 37.549469 L 18.935188 37.701812 L 18.939094 37.705719 L 18.939094 37.748687 L 18.993781 37.752594 L 18.993781 37.819 L 18.997688 37.819 L 18.997688 37.869781 L 19.048469 37.873687 L 19.048469 37.97525 L 19.052375 37.97525 L 19.052375 38.010406 L 19.114875 38.010406 L 19.114875 38.334625 L 19.165656 38.334625 L 19.165656 38.358062 L 19.232063 38.358062 L 19.232063 38.424469 L 19.263313 38.428375 L 19.263313 38.447906 L 19.267219 38.451812 L 19.267219 38.483062 L 19.290656 38.486969 L 19.290656 38.623687 L 19.325813 38.627594 L 19.325813 38.647125 L 19.407844 38.651031 L 19.407844 38.717437 L 19.439094 38.717437 L 19.439094 38.729156 L 19.443 38.729156 L 19.443 38.865875 L 19.556281 38.869781 L 19.556281 38.901031 L 19.560188 38.904937 L 19.560188 39.041656 L 19.618781 39.045562 L 19.618781 39.143219 L 19.622688 39.147125 L 19.622688 39.213531 L 19.677375 39.217437 L 19.677375 39.248687 L 19.735969 39.252594 L 19.735969 39.389312 L 19.739875 39.393219 L 19.739875 39.424469 L 19.853156 39.424469 L 19.853156 39.471344 L 19.888313 39.471344 L 19.888313 39.627594 L 19.915656 39.627594 L 19.915656 39.764312 L 19.950813 39.768219 L 19.950813 39.819 L 20.064094 39.819 L 20.064094 39.908844 L 20.071906 39.91275 L 20.071906 39.944 L 20.1305 39.947906 L 20.1305 40.03775 L 20.181281 40.041656 L 20.181281 40.178375 L 20.239875 40.178375 L 20.239875 40.194 L 20.243781 40.197906 L 20.243781 40.240875 L 20.247688 40.244781 L 20.247688 40.3815 L 20.306281 40.3815 L 20.306281 40.432281 L 20.357063 40.436187 L 20.357063 40.467437 L 20.360969 40.471344 L 20.360969 40.53775 L 20.419563 40.53775 L 20.419563 40.572906 L 20.423469 40.572906 L 20.423469 40.674469 L 20.478156 40.678375 L 20.478156 40.682281 L 20.517219 40.686187 L 20.517219 40.705719 L 20.53675 40.705719 L 20.53675 40.776031 L 20.540656 40.776031 L 20.540656 40.791656 L 20.571906 40.795562 L 20.571906 40.897125 L 20.638313 40.897125 L 20.638313 40.932281 L 20.653938 40.932281 L 20.653938 40.944 L 20.693 40.944 L 20.693 41.151031 L 20.751594 41.154937 L 20.751594 41.197906 L 20.7555 41.201812 L 20.7555 41.268219 L 20.814094 41.268219 L 20.814094 41.315094 L 20.868781 41.315094 L 20.868781 41.522125 L 20.927375 41.526031 L 20.927375 41.545562 L 20.931281 41.549469 L 20.931281 41.752594 L 20.985969 41.7565 L 20.985969 41.799469 L 21.044563 41.803375 L 21.044563 41.928375 L 21.048469 41.932281 L 21.048469 41.97525 L 21.107063 41.979156 L 21.107063 42.045562 L 21.16175 42.045562 L 21.16175 42.057281 L 21.165656 42.057281 L 21.165656 42.076812 L 21.200813 42.080719 L 21.200813 42.123687 L 21.22425 42.127594 L 21.22425 42.205719 L 21.259406 42.209625 L 21.259406 42.260406 L 21.341438 42.260406 L 21.341438 42.279937 L 21.376594 42.283844 L 21.376594 42.596344 L 21.439094 42.596344 L 21.439094 42.697906 L 21.493781 42.701812 L 21.493781 42.854156 L 21.552375 42.858062 L 21.552375 42.994781 L 21.560188 42.998687 L 21.560188 43.045562 L 21.669563 43.049469 L 21.669563 43.139312 L 21.708625 43.143219 L 21.708625 43.174469 L 21.728156 43.178375 L 21.728156 43.186187 L 21.732063 43.190094 L 21.732063 43.2565 L 21.735969 43.260406 L 21.735969 43.35025 L 21.845344 43.35025 L 21.845344 43.365875 L 21.84925 43.369781 L 21.84925 43.41275 L 21.884406 43.416656 L 21.884406 43.483062 L 21.997688 43.483062 L 21.997688 43.549469 L 22.001594 43.553375 L 22.001594 43.596344 L 22.025031 43.60025 L 22.025031 43.6315 L 22.060188 43.635406 L 22.060188 43.842437 L 22.181281 43.842437 L 22.181281 44.154937 L 22.235969 44.158844 L 22.235969 44.22525 L 22.333625 44.22525 L 22.333625 44.236969 L 22.357063 44.236969 L 22.357063 44.373687 L 22.392219 44.377594 L 22.392219 44.397125 L 22.47425 44.401031 L 22.47425 44.420562 L 22.5055 44.424469 L 22.5055 44.467437 L 22.509406 44.471344 L 22.509406 44.514312 L 22.513313 44.518219 L 22.532844 44.522125 L 22.532844 44.529937 L 22.571906 44.533844 L 22.571906 44.576812 L 22.626594 44.580719 L 22.626594 44.670562 L 22.653938 44.674469 L 22.653938 44.682281 L 22.681281 44.686187 L 22.681281 44.717437 L 22.689094 44.721344 L 22.689094 44.811187 L 22.747688 44.811187 L 22.747688 44.91275 L 22.802375 44.916656 L 22.802375 45.069 L 22.864875 45.072906 L 22.864875 45.541656 L 22.919563 45.541656 L 22.919563 45.572906 L 22.982063 45.576812 L 22.982063 45.678375 L 23.017219 45.682281 L 23.017219 45.701812 L 23.040656 45.705719 L 23.040656 45.795562 L 23.075813 45.799469 L 23.075813 45.807281 L 23.134406 45.811187 L 23.134406 45.842437 L 23.157844 45.842437 L 23.157844 45.889312 L 23.193 45.889312 L 23.193 45.91275 L 23.196906 45.91275 L 23.196906 45.990875 L 23.216438 45.994781 L 23.216438 45.998687 L 23.2555 46.002594 L 23.2555 46.022125 L 23.310188 46.022125 L 23.310188 46.158844 L 23.314094 46.16275 L 23.314094 46.194 L 23.372688 46.197906 L 23.372688 46.334625 L 23.427375 46.338531 L 23.427375 46.404937 L 23.485969 46.404937 L 23.485969 46.5065 L 23.489875 46.510406 L 23.489875 46.576812 L 23.548469 46.580719 L 23.548469 46.889312 L 23.603156 46.893219 L 23.603156 46.959625 L 23.665656 46.963531 L 23.665656 47.170562 L 23.704719 47.170562 L 23.704719 47.205719 L 23.818 47.205719 L 23.818 47.303375 L 23.821906 47.303375 L 23.821906 47.326812 L 23.845344 47.326812 L 23.845344 47.393219 L 23.8805 47.397125 L 23.8805 47.459625 L 23.935188 47.463531 L 23.935188 47.494781 L 23.993781 47.494781 L 23.993781 47.584625 L 23.997688 47.588531 L 23.997688 47.654937 L 24.001594 47.658844 L 24.001594 47.666656 L 24.110969 47.670562 L 24.110969 47.807281 L 24.169563 47.811187 L 24.169563 47.858062 L 24.177375 47.861969 L 24.177375 47.998687 L 24.28675 48.002594 L 24.28675 48.104156 L 24.325813 48.104156 L 24.325813 48.170562 L 24.388313 48.174469 L 24.388313 48.194 L 24.407844 48.197906 L 24.407844 48.213531 L 24.439094 48.213531 L 24.439094 48.22525 L 24.443 48.22525 L 24.443 48.361969 L 24.470344 48.365875 L 24.470344 48.416656 L 24.501594 48.416656 L 24.501594 48.47525 L 24.5055 48.47525 L 24.5055 48.518219 L 24.564094 48.522125 L 24.564094 48.541656 L 24.618781 48.545562 L 24.618781 48.647125 L 24.622688 48.651031 L 24.622688 48.717437 L 24.681281 48.721344 L 24.681281 48.865875 L 24.735969 48.869781 L 24.735969 48.889312 L 24.798469 48.893219 L 24.798469 49.10025 L 24.802375 49.104156 L 24.802375 49.123687 L 24.915656 49.127594 L 24.915656 49.170562 L 24.950813 49.170562 L 24.950813 49.236969 L 24.97425 49.240875 L 24.97425 49.307281 L 25.009406 49.311187 L 25.009406 49.342437 L 25.071906 49.346344 L 25.071906 49.354156 L 25.091438 49.358062 L 25.091438 49.389312 L 25.126594 49.393219 L 25.126594 49.604156 L 25.189094 49.608062 L 25.189094 49.619781 L 25.193 49.623687 L 25.193 49.690094 L 25.243781 49.694 L 25.243781 49.72525 L 25.247688 49.729156 L 25.247688 49.830719 L 25.302375 49.834625 L 25.302375 49.901031 L 25.306281 49.901031 L 25.306281 50.002594 L 25.310188 50.0065 L 25.310188 50.03775 L 25.360969 50.041656 L 25.360969 50.057281 L 25.368781 50.057281 L 25.368781 50.127594 L 25.423469 50.127594 L 25.423469 50.22525 L 25.482063 50.229156 L 25.482063 50.361969 L 25.485969 50.365875 L 25.485969 50.408844 L 25.59925 50.41275 L 25.59925 50.502594 L 25.638313 50.5065 L 25.638313 50.608062 L 25.657844 50.608062 L 25.657844 50.643219 L 25.7555 50.643219 L 25.7555 50.709625 L 25.775031 50.713531 L 25.775031 50.764312 L 25.814094 50.768219 L 25.814094 50.901031 L 25.927375 50.904937 L 25.927375 50.924469 L 25.931281 50.928375 L 25.931281 51.135406 L 25.989875 51.139312 L 25.989875 51.236969 L 25.993781 51.240875 L 25.993781 51.307281 L 26.044563 51.311187 L 26.044563 51.342437 L 26.107063 51.346344 L 26.107063 51.41275 L 26.110969 51.416656 L 26.110969 51.518219 L 26.22425 51.518219 L 26.22425 51.529937 L 26.259406 51.529937 L 26.259406 51.60025 L 26.263313 51.60025 L 26.263313 51.608062 L 26.28675 51.611969 L 26.28675 51.760406 L 26.321906 51.764312 L 26.321906 51.830719 L 26.403938 51.834625 L 26.403938 51.854156 L 26.435188 51.858062 L 26.435188 51.877594 L 26.439094 51.8815 L 26.439094 52.014312 L 26.497688 52.018219 L 26.497688 52.084625 L 26.552375 52.088531 L 26.552375 52.190094 L 26.610969 52.194 L 26.610969 52.201812 L 26.614875 52.205719 L 26.614875 52.514312 L 26.732063 52.518219 L 26.732063 52.635406 L 26.771125 52.639312 L 26.771125 52.647125 L 26.790656 52.651031 L 26.790656 52.694 L 26.84925 52.697906 L 26.84925 52.705719 L 26.884406 52.709625 L 26.884406 52.776031 L 26.91175 52.779937 L 26.91175 52.834625 L 26.943 52.834625 L 26.943 52.869781 L 26.946906 52.869781 L 26.946906 52.889312 L 27.0055 52.893219 L 27.0055 52.924469 L 27.060188 52.928375 L 27.060188 53.135406 L 27.126594 53.139312 L 27.126594 53.342437 L 27.177375 53.346344 L 27.177375 53.447906 L 27.235969 53.451812 L 27.235969 53.518219 L 27.243781 53.522125 L 27.243781 53.619781 L 27.302375 53.623687 L 27.302375 53.830719 L 27.353156 53.834625 L 27.353156 53.877594 L 27.415656 53.8815 L 27.415656 53.91275 L 27.419563 53.91275 L 27.419563 54.049469 L 27.454719 54.053375 L 27.454719 54.069 L 27.478156 54.072906 L 27.478156 54.092437 L 27.532844 54.092437 L 27.532844 54.115875 L 27.568 54.115875 L 27.568 54.217437 L 27.571906 54.221344 L 27.571906 54.229156 L 27.595344 54.233062 L 27.595344 54.264312 L 27.634406 54.268219 L 27.634406 54.299469 L 27.689094 54.303375 L 27.689094 54.369781 L 27.747688 54.373687 L 27.747688 54.510406 L 27.751594 54.510406 L 27.751594 54.533844 L 27.810188 54.533844 L 27.810188 54.670562 L 27.864875 54.674469 L 27.864875 54.8815 L 27.923469 54.8815 L 27.923469 54.91275 L 27.927375 54.916656 L 27.927375 55.123687 L 28.040656 55.127594 L 28.040656 55.194 L 28.075813 55.194 L 28.075813 55.229156 L 28.09925 55.229156 L 28.09925 55.244781 L 28.103156 55.248687 L 28.103156 55.451812 L 28.138313 55.455719 L 28.138313 55.463531 L 28.157844 55.467437 L 28.157844 55.47525 L 28.196906 55.479156 L 28.196906 55.486969 L 28.216438 55.490875 L 28.216438 55.522125 L 28.220344 55.526031 L 28.220344 55.557281 L 28.2555 55.561187 L 28.2555 55.627594 L 28.259406 55.6315 L 28.259406 55.651031 L 28.337531 55.654937 L 28.372688 55.658844 L 28.372688 55.795562 L 28.431281 55.799469 L 28.431281 55.865875 L 28.435188 55.869781 L 28.435188 55.91275 L 28.548469 55.91275 L 28.548469 56.22525 L 28.665656 56.229156 L 28.665656 56.295562 L 28.704719 56.295562 L 28.704719 56.342437 L 28.72425 56.342437 L 28.72425 56.385406 L 28.732063 56.389312 L 28.732063 56.455719 L 28.763313 56.459625 L 28.763313 56.47525 L 28.825813 56.47525 L 28.825813 56.479156 L 28.841438 56.483062 L 28.841438 56.502594 L 28.876594 56.5065 L 28.876594 56.514312 L 28.8805 56.518219 L 28.8805 56.643219 L 28.939094 56.643219 L 28.939094 56.678375 L 28.943 56.678375 L 28.943 56.713531 L 28.993781 56.713531 L 28.993781 56.779937 L 28.997688 56.783844 L 28.997688 56.834625 L 29.021125 56.834625 L 29.021125 56.846344 L 29.056281 56.846344 L 29.056281 57.053375 L 29.060188 57.057281 L 29.060188 57.072906 L 29.177375 57.072906 L 29.177375 57.174469 L 29.232063 57.178375 L 29.232063 57.385406 L 29.353156 57.385406 L 29.353156 57.522125 L 29.388313 57.526031 L 29.388313 57.592437 L 29.41175 57.596344 L 29.41175 57.615875 L 29.501594 57.619781 L 29.501594 57.651031 L 29.5055 57.654937 L 29.5055 57.697906 L 29.528938 57.701812 L 29.528938 57.733062 L 29.564094 57.736969 L 29.564094 57.803375 L 29.568 57.803375 L 29.568 57.834625 L 29.622688 57.838531 L 29.622688 57.858062 L 29.626594 57.861969 L 29.626594 57.8815 L 29.677375 57.885406 L 29.677375 57.928375 L 29.681281 57.932281 L 29.681281 58.033844 L 29.685188 58.03775 L 29.685188 58.057281 L 29.743781 58.061187 L 29.743781 58.197906 L 29.747688 58.197906 L 29.747688 58.229156 L 29.798469 58.233062 L 29.798469 58.299469 L 29.860969 58.303375 L 29.860969 58.510406 L 29.919563 58.510406 L 29.919563 58.611969 L 30.013313 58.615875 L 30.013313 58.6315 L 30.03675 58.635406 L 30.03675 58.838531 L 30.071906 58.842437 L 30.071906 58.885406 L 30.153938 58.889312 L 30.153938 58.920562 L 30.185188 58.924469 L 30.185188 58.932281 L 30.189094 58.936187 L 30.189094 58.955719 L 30.193 58.959625 L 30.193 59.049469 L 30.212531 59.049469 L 30.212531 59.072906 L 30.247688 59.072906 L 30.247688 59.108062 L 30.251594 59.108062 L 30.251594 59.127594 L 30.306281 59.1315 L 30.306281 59.174469 L 30.364875 59.178375 L 30.364875 59.197906 L 30.368781 59.201812 L 30.368781 59.401031 L 30.482063 59.404937 L 30.482063 59.5065 L 30.485969 59.510406 L 30.485969 59.541656 L 30.544563 59.545562 L 30.544563 59.854156 L 30.548469 59.858062 L 30.548469 59.865875 L 30.59925 59.869781 L 30.59925 59.889312 L 30.66175 59.893219 L 30.66175 59.959625 L 30.693 59.959625 L 30.693 59.983062 L 30.700813 59.983062 L 30.700813 60.018219 L 30.759406 60.018219 L 30.759406 60.03775 L 30.814094 60.041656 L 30.814094 60.178375 L 30.841438 60.182281 L 30.841438 60.248687 L 30.872688 60.252594 L 30.872688 60.260406 L 30.876594 60.264312 L 30.876594 60.397125 L 30.989875 60.401031 L 30.989875 60.502594 L 30.993781 60.5065 L 30.993781 60.572906 L 31.052375 60.576812 L 31.052375 60.678375 L 31.107063 60.678375 L 31.107063 60.736969 L 31.165656 60.736969 L 31.165656 60.803375 L 31.169563 60.807281 L 31.169563 60.873687 L 31.173469 60.877594 L 31.173469 60.908844 L 31.282844 60.91275 L 31.282844 60.955719 L 31.321906 60.959625 L 31.321906 61.111969 L 31.384406 61.115875 L 31.384406 61.16275 L 31.439094 61.166656 L 31.439094 61.268219 L 31.497688 61.272125 L 31.497688 61.361969 L 31.501594 61.365875 L 31.501594 61.397125 L 31.560188 61.401031 L 31.560188 61.490875 L 31.614875 61.490875 L 31.614875 61.627594 L 31.673469 61.6315 L 31.673469 61.647125 L 31.677375 61.647125 L 31.677375 61.830719 L 31.735969 61.834625 L 31.735969 61.8815 L 31.790656 61.885406 L 31.790656 61.916656 L 31.794563 61.920562 L 31.794563 61.986969 L 31.853156 61.990875 L 31.853156 62.127594 L 31.907844 62.1315 L 31.946906 62.135406 L 31.946906 62.154937 L 31.970344 62.158844 L 31.970344 62.22525 L 31.97425 62.229156 L 31.97425 62.240875 L 32.0055 62.244781 L 32.0055 62.346344 L 32.068 62.35025 L 32.068 62.3815 L 32.087531 62.385406 L 32.087531 62.393219 L 32.122688 62.397125 L 32.122688 62.60025 L 32.181281 62.604156 L 32.181281 62.647125 L 32.189094 62.651031 L 32.189094 62.717437 L 32.298469 62.721344 L 32.298469 62.928375 L 32.360969 62.928375 L 32.360969 62.951812 L 32.364875 62.951812 L 32.364875 63.158844 L 32.419563 63.16275 L 32.419563 63.205719 L 32.478156 63.209625 L 32.478156 63.330719 L 32.482063 63.334625 L 32.482063 63.377594 L 32.595344 63.3815 L 32.595344 63.41275 L 32.626594 63.416656 L 32.626594 63.432281 L 32.634406 63.432281 L 32.634406 63.479156 L 32.653938 63.479156 L 32.653938 63.522125 L 32.657844 63.526031 L 32.657844 63.557281 L 32.693 63.561187 L 32.693 63.611969 L 32.771125 63.611969 L 32.771125 63.635406 L 32.810188 63.635406 L 32.810188 63.947906 L 32.927375 63.951812 L 32.927375 64.104156 L 32.985969 64.108062 L 32.985969 64.244781 L 32.989875 64.244781 L 32.989875 64.295562 L 33.103156 64.299469 L 33.103156 64.389312 L 33.138313 64.389312 L 33.138313 64.424469 L 33.16175 64.424469 L 33.16175 64.432281 L 33.2555 64.436187 L 33.2555 64.526031 L 33.278938 64.529937 L 33.278938 64.545562 L 33.282844 64.545562 L 33.282844 64.592437 L 33.318 64.592437 L 33.318 64.658844 L 33.431281 64.66275 L 33.431281 64.729156 L 33.435188 64.733062 L 33.435188 64.776031 L 33.493781 64.779937 L 33.493781 64.983062 L 33.548469 64.986969 L 33.548469 65.088531 L 33.610969 65.092437 L 33.610969 65.401031 L 33.669563 65.404937 L 33.669563 65.471344 L 33.767219 65.47525 L 33.767219 65.483062 L 33.78675 65.486969 L 33.78675 65.623687 L 33.825813 65.623687 L 33.825813 65.647125 L 33.8805 65.647125 L 33.8805 65.66275 L 33.907844 65.666656 L 33.907844 65.686187 L 33.939094 65.690094 L 33.939094 65.733062 L 33.943 65.736969 L 33.943 65.783844 L 33.962531 65.78775 L 33.962531 65.795562 L 34.001594 65.799469 L 34.001594 65.842437 L 34.056281 65.846344 L 34.056281 65.936187 L 34.114875 65.940094 L 34.114875 65.971344 L 34.122688 65.97525 L 34.122688 66.065094 L 34.177375 66.065094 L 34.177375 66.166656 L 34.232063 66.170562 L 34.232063 66.322906 L 34.298469 66.326812 L 34.298469 66.795562 L 34.34925 66.795562 L 34.34925 66.826812 L 34.415656 66.830719 L 34.415656 66.932281 L 34.446906 66.936187 L 34.446906 66.944 L 34.450813 66.947906 L 34.450813 66.967437 L 34.47425 66.971344 L 34.47425 67.061187 L 34.509406 67.065094 L 34.509406 67.072906 L 34.564094 67.076812 L 34.564094 67.108062 L 34.591438 67.108062 L 34.591438 67.154937 L 34.622688 67.154937 L 34.622688 67.174469 L 34.626594 67.178375 L 34.626594 67.244781 L 34.6305 67.248687 L 34.6305 67.2565 L 34.743781 67.260406 L 34.743781 67.432281 L 34.806281 67.436187 L 34.806281 67.569 L 34.860969 67.572906 L 34.860969 67.639312 L 34.919563 67.643219 L 34.919563 67.744781 L 34.923469 67.748687 L 34.923469 67.815094 L 35.03675 67.819 L 35.03675 67.885406 L 35.071906 67.885406 L 35.071906 67.986969 L 35.09925 67.990875 L 35.09925 68.197906 L 35.134406 68.197906 L 35.134406 68.233062 L 35.247688 68.233062 L 35.247688 68.276031 L 35.251594 68.279937 L 35.251594 68.330719 L 35.2555 68.334625 L 35.2555 68.354156 L 35.314094 68.358062 L 35.314094 68.401031 L 35.364875 68.401031 L 35.364875 68.467437 L 35.368781 68.471344 L 35.368781 68.502594 L 35.427375 68.5065 L 35.427375 68.596344 L 35.431281 68.60025 L 35.431281 68.678375 L 35.544563 68.682281 L 35.544563 68.819 L 35.603156 68.819 L 35.603156 68.869781 L 35.700813 68.873687 L 35.700813 68.904937 L 35.720344 68.908844 L 35.720344 69.010406 L 35.7555 69.010406 L 35.7555 69.076812 L 35.821906 69.080719 L 35.821906 69.10025 L 35.837531 69.104156 L 35.837531 69.119781 L 35.872688 69.119781 L 35.872688 69.1315 L 35.876594 69.1315 L 35.876594 69.268219 L 35.935188 69.272125 L 35.935188 69.326812 L 35.939094 69.330719 L 35.939094 69.373687 L 35.989875 69.377594 L 35.989875 69.397125 L 35.997688 69.401031 L 35.997688 69.420562 L 36.052375 69.424469 L 36.052375 69.592437 L 36.110969 69.596344 L 36.110969 69.639312 L 36.114875 69.643219 L 36.114875 69.744781 L 36.169563 69.748687 L 36.169563 69.768219 L 36.228156 69.772125 L 36.228156 69.97525 L 36.232063 69.979156 L 36.232063 69.998687 L 36.34925 70.002594 L 36.34925 70.045562 L 36.384406 70.049469 L 36.384406 70.115875 L 36.407844 70.119781 L 36.407844 70.186187 L 36.443 70.190094 L 36.443 70.221344 L 36.525031 70.221344 L 36.525031 70.2565 L 36.556281 70.2565 L 36.556281 70.260406 L 36.560188 70.264312 L 36.560188 70.471344 L 36.622688 70.471344 L 36.622688 70.557281 L 36.673469 70.561187 L 36.673469 70.592437 L 36.677375 70.592437 L 36.677375 70.694 L 36.735969 70.697906 L 36.735969 70.764312 L 36.739875 70.768219 L 36.739875 70.869781 L 36.743781 70.873687 L 36.743781 70.904937 L 36.794563 70.908844 L 36.794563 70.920562 L 36.853156 70.924469 L 36.853156 70.967437 L 36.857063 70.971344 L 36.857063 71.022125 L 36.915656 71.022125 L 36.915656 71.158844 L 36.919563 71.16275 L 36.919563 71.205719 L 37.032844 71.209625 L 37.032844 71.299469 L 37.068 71.299469 L 37.068 71.401031 L 37.181281 71.404937 L 37.181281 71.447906 L 37.185188 71.451812 L 37.185188 71.518219 L 37.208625 71.522125 L 37.208625 71.572906 L 37.243781 71.572906 L 37.243781 71.709625 L 37.360969 71.713531 L 37.360969 71.733062 L 37.364875 71.736969 L 37.364875 71.940094 L 37.419563 71.944 L 37.419563 71.97525 L 37.478156 71.979156 L 37.478156 72.010406 L 37.517219 72.014312 L 37.517219 72.018219 L 37.540656 72.022125 L 37.540656 72.190094 L 37.657844 72.194 L 37.657844 72.201812 L 37.689094 72.205719 L 37.689094 72.272125 L 37.696906 72.276031 L 37.696906 72.283844 L 37.7555 72.28775 L 37.7555 72.354156 L 37.810188 72.358062 L 37.810188 72.490875 L 37.837531 72.494781 L 37.837531 72.514312 L 37.864875 72.518219 L 37.864875 72.53775 L 37.872688 72.541656 L 37.872688 72.678375 L 37.931281 72.682281 L 37.931281 72.748687 L 37.985969 72.752594 L 37.985969 72.854156 L 38.044563 72.854156 L 38.044563 72.861969 L 38.048469 72.865875 L 38.048469 73.178375 L 38.103156 73.178375 L 38.103156 73.201812 L 38.16175 73.201812 L 38.16175 73.252594 L 38.165656 73.2565 L 38.165656 73.322906 L 38.200813 73.322906 L 38.200813 73.334625 L 38.22425 73.334625 L 38.22425 73.3815 L 38.278938 73.3815 L 38.278938 73.393219 L 38.318 73.393219 L 38.318 73.459625 L 38.341438 73.463531 L 38.341438 73.483062 L 38.376594 73.486969 L 38.376594 73.518219 L 38.3805 73.522125 L 38.3805 73.541656 L 38.439094 73.545562 L 38.439094 73.576812 L 38.493781 73.580719 L 38.493781 73.783844 L 38.556281 73.78775 L 38.556281 73.994781 L 38.610969 73.998687 L 38.610969 74.10025 L 38.669563 74.10025 L 38.669563 74.166656 L 38.673469 74.170562 L 38.673469 74.272125 L 38.732063 74.276031 L 38.732063 74.483062 L 38.78675 74.483062 L 38.78675 74.526031 L 38.84925 74.529937 L 38.84925 74.701812 L 38.888313 74.705719 L 38.888313 74.717437 L 38.966438 74.721344 L 38.966438 74.740875 L 39.001594 74.744781 L 39.001594 74.846344 L 39.0055 74.85025 L 39.0055 74.858062 L 39.028938 74.861969 L 39.028938 74.893219 L 39.064094 74.897125 L 39.064094 74.928375 L 39.118781 74.932281 L 39.118781 74.998687 L 39.177375 74.998687 L 39.177375 75.135406 L 39.185188 75.139312 L 39.185188 75.158844 L 39.294563 75.16275 L 39.294563 75.369781 L 39.353156 75.369781 L 39.353156 75.404937 L 39.360969 75.404937 L 39.360969 75.611969 L 39.470344 75.615875 L 39.470344 75.682281 L 39.509406 75.686187 L 39.509406 75.717437 L 39.571906 75.717437 L 39.571906 75.729156 L 39.591438 75.729156 L 39.591438 75.740875 L 39.622688 75.740875 L 39.622688 75.764312 L 39.626594 75.764312 L 39.626594 75.830719 L 39.6305 75.834625 L 39.6305 75.842437 L 39.650031 75.846344 L 39.650031 75.877594 L 39.653938 75.8815 L 39.653938 75.91275 L 39.685188 75.916656 L 39.685188 75.983062 L 39.689094 75.986969 L 39.689094 76.0065 L 39.767219 76.010406 L 39.806281 76.014312 L 39.806281 76.151031 L 39.864875 76.154937 L 39.864875 76.221344 L 39.982063 76.22525 L 39.982063 76.533844 L 40.09925 76.53775 L 40.09925 76.604156 L 40.134406 76.608062 L 40.134406 76.651031 L 40.157844 76.651031 L 40.157844 76.697906 L 40.193 76.697906 L 40.193 76.713531 L 40.251594 76.717437 L 40.251594 76.736969 L 40.2555 76.740875 L 40.275031 76.744781 L 40.275031 76.764312 L 40.310188 76.768219 L 40.310188 76.8815 L 40.314094 76.885406 L 40.314094 76.904937 L 40.372688 76.908844 L 40.372688 76.940094 L 40.376594 76.944 L 40.376594 76.97525 L 40.427375 76.979156 L 40.427375 77.045562 L 40.431281 77.045562 L 40.431281 77.096344 L 40.489875 77.10025 L 40.489875 77.303375 L 40.493781 77.307281 L 40.493781 77.322906 L 40.544563 77.326812 L 40.544563 77.358062 L 40.607063 77.358062 L 40.607063 77.459625 L 40.665656 77.463531 L 40.665656 77.670562 L 40.782844 77.674469 L 40.782844 77.807281 L 40.821906 77.811187 L 40.821906 77.877594 L 40.841438 77.8815 L 40.841438 77.901031 L 40.935188 77.904937 L 40.935188 77.936187 L 40.939094 77.940094 L 40.939094 77.983062 L 40.958625 77.986969 L 40.958625 78.018219 L 40.997688 78.022125 L 40.997688 78.123687 L 41.052375 78.123687 L 41.052375 78.147125 L 41.110969 78.147125 L 41.110969 78.190094 L 41.114875 78.194 L 41.114875 78.319 L 41.173469 78.322906 L 41.173469 78.459625 L 41.177375 78.459625 L 41.177375 78.494781 L 41.228156 78.494781 L 41.228156 78.561187 L 41.294563 78.565094 L 41.294563 78.772125 L 41.443 78.776031 L 41.443 78.819 L 41.446906 78.819 L 41.446906 78.834625 L 41.470344 78.838531 L 41.470344 79.045562 L 41.5055 79.045562 L 41.5055 79.088531 L 41.587531 79.092437 L 41.587531 79.123687 L 41.618781 79.127594 L 41.618781 79.158844 L 41.622688 79.16275 L 41.622688 79.252594 L 41.681281 79.2565 L 41.681281 79.28775 L 41.735969 79.291656 L 41.735969 79.338531 L 41.739875 79.342437 L 41.739875 79.385406 L 41.794563 79.389312 L 41.794563 79.408844 L 41.798469 79.41275 L 41.798469 79.565094 L 41.802375 79.569 L 41.802375 79.611969 L 41.915656 79.615875 L 41.915656 79.752594 L 42.032844 79.752594 L 42.032844 79.776031 L 42.068 79.776031 L 42.068 79.877594 L 42.095344 79.8815 L 42.095344 79.947906 L 42.126594 79.951812 L 42.126594 79.971344 L 42.1305 79.97525 L 42.1305 80.0065 L 42.189094 80.010406 L 42.189094 80.029937 L 42.243781 80.033844 L 42.243781 80.170562 L 42.306281 80.170562 L 42.306281 80.182281 L 42.310188 80.182281 L 42.310188 80.319 L 42.360969 80.322906 L 42.360969 80.389312 L 42.419563 80.393219 L 42.419563 80.424469 L 42.423469 80.428375 L 42.423469 80.494781 L 42.427375 80.494781 L 42.427375 80.561187 L 42.485969 80.565094 L 42.485969 80.666656 L 42.53675 80.670562 L 42.53675 80.690094 L 42.540656 80.694 L 42.540656 80.72525 L 42.59925 80.729156 L 42.59925 80.795562 L 42.603156 80.799469 L 42.603156 80.865875 L 42.716438 80.865875 L 42.716438 80.91275 L 42.751594 80.91275 L 42.751594 81.069 L 42.818 81.069 L 42.818 81.119781 L 42.872688 81.123687 L 42.872688 81.22525 L 42.931281 81.22525 L 42.931281 81.315094 L 42.935188 81.319 L 42.935188 81.35025 L 42.993781 81.354156 L 42.993781 81.444 L 43.048469 81.447906 L 43.048469 81.584625 L 43.107063 81.584625 L 43.107063 81.647125 L 43.110969 81.651031 L 43.110969 81.78775 L 43.22425 81.78775 L 43.22425 81.889312 L 43.282844 81.893219 L 43.282844 81.924469 L 43.28675 81.928375 L 43.28675 82.029937 L 43.341438 82.033844 L 43.3805 82.03775 L 43.3805 82.057281 L 43.400031 82.061187 L 43.400031 82.127594 L 43.403938 82.1315 L 43.403938 82.147125 L 43.439094 82.147125 L 43.439094 82.248687 L 43.521125 82.252594 L 43.521125 82.260406 L 43.556281 82.264312 L 43.556281 82.471344 L 43.614875 82.47525 L 43.614875 82.518219 L 43.618781 82.518219 L 43.618781 82.584625 L 43.732063 82.588531 L 43.732063 82.795562 L 43.84925 82.799469 L 43.84925 82.842437 L 43.888313 82.842437 L 43.888313 82.865875 L 43.907844 82.865875 L 43.907844 82.889312 L 43.91175 82.889312 L 43.91175 82.990875 L 43.915656 82.994781 L 43.915656 83.03775 L 44.025031 83.041656 L 44.025031 83.049469 L 44.028938 83.053375 L 44.028938 83.072906 L 44.060188 83.076812 L 44.060188 83.092437 L 44.064094 83.092437 L 44.064094 83.135406 L 44.122688 83.139312 L 44.122688 83.190094 L 44.177375 83.194 L 44.177375 83.295562 L 44.204719 83.295562 L 44.204719 83.315094 L 44.239875 83.319 L 44.239875 83.6315 L 44.360969 83.6315 L 44.360969 83.78775 L 44.415656 83.78775 L 44.415656 83.924469 L 44.53675 83.928375 L 44.53675 84.018219 L 44.571906 84.022125 L 44.571906 84.053375 L 44.595344 84.057281 L 44.595344 84.065094 L 44.685188 84.069 L 44.685188 84.135406 L 44.689094 84.135406 L 44.689094 84.158844 L 44.712531 84.158844 L 44.712531 84.174469 L 44.751594 84.178375 L 44.751594 84.244781 L 44.806281 84.248687 L 44.806281 84.291656 L 44.860969 84.295562 L 44.860969 84.361969 L 44.868781 84.361969 L 44.868781 84.404937 L 44.927375 84.408844 L 44.927375 84.615875 L 44.982063 84.619781 L 44.982063 84.721344 L 45.044563 84.721344 L 45.044563 85.033844 L 45.103156 85.03775 L 45.103156 85.104156 L 45.196906 85.104156 L 45.196906 85.115875 L 45.220344 85.115875 L 45.220344 85.252594 L 45.2555 85.2565 L 45.2555 85.276031 L 45.314094 85.279937 L 45.314094 85.295562 L 45.337531 85.295562 L 45.337531 85.315094 L 45.372688 85.319 L 45.372688 85.408844 L 45.376594 85.41275 L 45.376594 85.416656 L 45.396125 85.416656 L 45.396125 85.428375 L 45.435188 85.428375 L 45.435188 85.47525 L 45.489875 85.47525 L 45.489875 85.565094 L 45.548469 85.569 L 45.548469 85.60025 L 45.552375 85.604156 L 45.552375 85.694 L 45.665656 85.697906 L 45.665656 85.85025 L 45.728156 85.854156 L 45.728156 86.319 L 45.782844 86.322906 L 45.782844 86.354156 L 45.845344 86.358062 L 45.845344 86.459625 L 45.876594 86.463531 L 45.876594 86.471344 L 45.884406 86.47525 L 45.884406 86.494781 L 45.943 86.498687 L 45.943 86.5065 L 45.997688 86.5065 L 45.997688 86.608062 L 46.025031 86.611969 L 46.025031 86.654937 L 46.056281 86.658844 L 46.056281 86.678375 L 46.060188 86.682281 L 46.060188 86.760406 L 46.173469 86.764312 L 46.173469 86.901031 L 46.177375 86.901031 L 46.177375 86.936187 L 46.290656 86.936187 L 46.290656 87.002594 L 46.34925 87.0065 L 46.34925 87.108062 L 46.357063 87.111969 L 46.357063 87.178375 L 46.466438 87.182281 L 46.466438 87.248687 L 46.5055 87.248687 L 46.5055 87.35025 L 46.568 87.354156 L 46.568 87.385406 L 46.618781 87.389312 L 46.618781 87.404937 L 46.622688 87.408844 L 46.622688 87.47525 L 46.681281 87.47525 L 46.681281 87.572906 L 46.685188 87.576812 L 46.685188 87.596344 L 46.743781 87.60025 L 46.743781 87.643219 L 46.798469 87.643219 L 46.798469 87.709625 L 46.802375 87.713531 L 46.802375 87.744781 L 46.860969 87.748687 L 46.860969 87.908844 L 46.978156 87.91275 L 46.978156 88.049469 L 47.03675 88.049469 L 47.03675 88.10025 L 47.1305 88.104156 L 47.1305 88.135406 L 47.153938 88.139312 L 47.153938 88.240875 L 47.189094 88.240875 L 47.189094 88.307281 L 47.251594 88.311187 L 47.251594 88.330719 L 47.271125 88.334625 L 47.271125 88.35025 L 47.306281 88.35025 L 47.306281 88.498687 L 47.364875 88.502594 L 47.364875 88.522125 L 47.368781 88.526031 L 47.368781 88.557281 L 47.372688 88.561187 L 47.372688 88.604156 L 47.423469 88.608062 L 47.423469 88.627594 L 47.482063 88.6315 L 47.482063 88.733062 L 47.485969 88.733062 L 47.485969 88.799469 L 47.544563 88.803375 L 47.544563 88.846344 L 47.548469 88.85025 L 47.548469 88.951812 L 47.603156 88.955719 L 47.603156 88.97525 L 47.66175 88.979156 L 47.66175 89.182281 L 47.665656 89.186187 L 47.665656 89.205719 L 47.778938 89.209625 L 47.778938 89.252594 L 47.810188 89.2565 L 47.810188 89.264312 L 47.818 89.268219 L 47.818 89.334625 L 47.837531 89.338531 L 47.837531 89.404937 L 47.872688 89.408844 L 47.872688 89.440094 L 47.954719 89.440094 L 47.954719 89.47525 L 47.989875 89.47525 L 47.989875 89.479156 L 47.993781 89.483062 L 47.993781 89.690094 L 48.107063 89.690094 L 48.107063 89.721344 L 48.110969 89.72525 L 48.110969 89.826812 L 48.169563 89.830719 L 48.169563 90.002594 L 48.173469 90.002594 L 48.173469 90.03775 L 48.22425 90.03775 L 48.22425 90.053375 L 48.28675 90.057281 L 48.28675 90.10025 L 48.290656 90.104156 L 48.290656 90.151031 L 48.439094 90.154937 L 48.439094 90.2565 L 48.466438 90.260406 L 48.466438 90.35025 L 48.501594 90.35025 L 48.501594 90.451812 L 48.614875 90.455719 L 48.614875 90.498687 L 48.618781 90.502594 L 48.618781 90.569 L 48.677375 90.572906 L 48.677375 90.709625 L 48.732063 90.713531 L 48.732063 90.779937 L 48.790656 90.779937 L 48.790656 90.803375 L 48.794563 90.803375 L 48.794563 91.010406 L 48.853156 91.014312 L 48.853156 91.045562 L 48.91175 91.049469 L 48.91175 91.080719 L 48.950813 91.084625 L 48.970344 91.088531 L 48.970344 91.154937 L 49.064094 91.158844 L 49.064094 91.190094 L 49.091438 91.194 L 49.091438 91.201812 L 49.122688 91.205719 L 49.122688 91.272125 L 49.126594 91.272125 L 49.126594 91.283844 L 49.185188 91.283844 L 49.185188 91.354156 L 49.239875 91.354156 L 49.239875 91.490875 L 49.298469 91.494781 L 49.298469 91.514312 L 49.306281 91.518219 L 49.306281 91.654937 L 49.360969 91.654937 L 49.360969 91.72525 L 49.415656 91.72525 L 49.415656 91.826812 L 49.478156 91.830719 L 49.478156 91.838531 L 49.482063 91.842437 L 49.482063 92.151031 L 49.532844 92.154937 L 49.532844 92.174469 L 49.595344 92.178375 L 49.595344 92.229156 L 49.59925 92.229156 L 49.59925 92.295562 L 49.634406 92.299469 L 49.634406 92.307281 L 49.657844 92.311187 L 49.657844 92.354156 L 49.712531 92.358062 L 49.712531 92.365875 L 49.747688 92.369781 L 49.747688 92.436187 L 49.775031 92.440094 L 49.775031 92.459625 L 49.806281 92.463531 L 49.806281 92.494781 L 49.814094 92.498687 L 49.814094 92.518219 L 49.927375 92.522125 L 49.927375 92.72525 L 49.989875 92.729156 L 49.989875 92.936187 L 50.044563 92.936187 L 50.044563 93.03775 L 50.103156 93.041656 L 50.103156 93.108062 L 50.107063 93.111969 L 50.107063 93.213531 L 50.220344 93.217437 L 50.220344 93.260406 L 50.2555 93.264312 L 50.2555 93.311187 L 50.278938 93.315094 L 50.278938 93.346344 L 50.282844 93.35025 L 50.282844 93.486969 L 50.318 93.486969 L 50.318 93.502594 L 50.396125 93.5065 L 50.396125 93.526031 L 50.435188 93.529937 L 50.435188 93.6315 L 50.439094 93.635406 L 50.439094 93.643219 L 50.552375 93.647125 L 50.552375 93.713531 L 50.610969 93.713531 L 50.610969 93.85025 L 50.614875 93.854156 L 50.614875 93.873687 L 50.728156 93.877594 L 50.728156 94.084625 L 50.78675 94.084625 L 50.78675 94.115875 L 50.884406 94.119781 L 50.884406 94.139312 L 50.903938 94.143219 L 50.903938 94.209625 L 50.939094 94.213531 L 50.939094 94.244781 L 51.0055 94.248687 L 51.0055 94.2565 L 51.021125 94.260406 L 51.021125 94.268219 L 51.056281 94.272125 L 51.056281 94.291656 L 51.060188 94.295562 L 51.060188 94.373687 L 51.118781 94.377594 L 51.118781 94.444 L 51.122688 94.444 L 51.122688 94.467437 L 51.173469 94.467437 L 51.173469 94.510406 L 51.200813 94.514312 L 51.200813 94.518219 L 51.235969 94.522125 L 51.235969 94.658844 L 51.294563 94.658844 L 51.294563 94.72525 L 51.41175 94.729156 L 51.41175 95.03775 L 51.532844 95.041656 L 51.532844 95.108062 L 51.568 95.111969 L 51.568 95.154937 L 51.591438 95.158844 L 51.591438 95.201812 L 51.626594 95.205719 L 51.626594 95.217437 L 51.681281 95.221344 L 51.681281 95.240875 L 51.708625 95.244781 L 51.708625 95.264312 L 51.739875 95.268219 L 51.739875 95.276031 L 51.743781 95.279937 L 51.743781 95.3815 L 51.747688 95.385406 L 51.747688 95.404937 L 51.806281 95.408844 L 51.806281 95.47525 L 51.857063 95.479156 L 51.857063 95.545562 L 51.860969 95.545562 L 51.860969 95.596344 L 51.923469 95.60025 L 51.923469 95.803375 L 51.927375 95.807281 L 51.927375 95.822906 L 51.978156 95.826812 L 51.978156 95.858062 L 52.040656 95.858062 L 52.040656 95.959625 L 52.09925 95.963531 L 52.09925 96.170562 L 52.216438 96.174469 L 52.216438 96.307281 L 52.251594 96.311187 L 52.251594 96.377594 L 52.364875 96.3815 L 52.364875 96.401031 L 52.368781 96.404937 L 52.368781 96.483062 L 52.392219 96.486969 L 52.392219 96.518219 L 52.427375 96.522125 L 52.427375 96.588531 L 52.431281 96.588531 L 52.431281 96.623687 L 52.485969 96.623687 L 52.485969 96.647125 L 52.544563 96.647125 L 52.544563 96.690094 L 52.548469 96.694 L 52.548469 96.819 L 52.66175 96.822906 L 52.66175 96.889312 L 52.72425 96.893219 L 52.72425 97.096344 L 52.872688 97.10025 L 52.872688 97.143219 L 52.8805 97.147125 L 52.8805 97.16275 L 52.939094 97.16275 L 52.939094 97.209625 L 52.993781 97.209625 L 52.993781 97.299469 L 53.021125 97.303375 L 53.021125 97.334625 L 53.048469 97.338531 L 53.048469 97.346344 L 53.052375 97.35025 L 53.052375 97.369781 L 53.056281 97.373687 L 53.056281 97.463531 L 53.114875 97.467437 L 53.114875 97.498687 L 53.169563 97.498687 L 53.169563 97.596344 L 53.228156 97.60025 L 53.228156 97.619781 L 53.232063 97.623687 L 53.232063 97.776031 L 53.28675 97.779937 L 53.28675 97.78775 L 53.345344 97.791656 L 53.345344 97.893219 L 53.34925 97.893219 L 53.34925 97.928375 L 53.462531 97.928375 L 53.462531 97.951812 L 53.501594 97.951812 L 53.501594 98.053375 L 53.560188 98.057281 L 53.560188 98.076812 L 53.564094 98.080719 L 53.564094 98.111969 L 53.622688 98.115875 L 53.622688 98.135406 L 53.677375 98.139312 L 53.677375 98.276031 L 53.735969 98.276031 L 53.735969 98.28775 L 53.739875 98.28775 L 53.739875 98.424469 L 53.794563 98.428375 L 53.794563 98.494781 L 53.853156 98.498687 L 53.853156 98.529937 L 53.857063 98.533844 L 53.857063 98.670562 L 53.915656 98.670562 L 53.915656 98.772125 L 53.970344 98.776031 L 53.970344 98.795562 L 53.97425 98.799469 L 53.97425 98.830719 L 54.032844 98.834625 L 54.032844 98.971344 L 54.150031 98.971344 L 54.150031 99.018219 L 54.185188 99.018219 L 54.185188 99.174469 L 54.247688 99.174469 L 54.247688 99.22525 L 54.302375 99.229156 L 54.302375 99.330719 L 54.360969 99.330719 L 54.360969 99.420562 L 54.368781 99.424469 L 54.368781 99.455719 L 54.478156 99.459625 L 54.478156 99.596344 L 54.53675 99.60025 L 54.53675 99.611969 L 54.540656 99.615875 L 54.540656 99.658844 L 54.544563 99.66275 L 54.544563 99.799469 L 54.653938 99.803375 L 54.653938 99.834625 L 54.657844 99.838531 L 54.657844 99.904937 L 54.775031 99.904937 L 54.775031 99.908844 L 54.806281 99.91275 L 54.806281 99.944 L 54.814094 99.947906 L 54.814094 99.967437 L 54.833625 99.971344 L 54.833625 100.03775 L 54.837531 100.041656 L 54.837531 100.053375 L 54.868781 100.057281 L 54.868781 100.158844 L 54.950813 100.16275 L 54.950813 100.170562 L 54.989875 100.174469 L 54.989875 100.377594 L 55.048469 100.3815 L 55.048469 100.424469 L 55.165656 100.428375 L 55.165656 100.635406 L 55.282844 100.635406 L 55.282844 100.682281 L 55.318 100.682281 L 55.318 100.705719 L 55.341438 100.705719 L 55.341438 100.72525 L 55.435188 100.729156 L 55.435188 100.772125 L 55.458625 100.776031 L 55.458625 100.783844 L 55.462531 100.78775 L 55.462531 100.807281 L 55.493781 100.811187 L 55.493781 100.826812 L 55.497688 100.826812 L 55.497688 100.873687 L 55.556281 100.873687 L 55.556281 100.924469 L 55.610969 100.928375 L 55.610969 101.029937 L 55.673469 101.029937 L 55.673469 101.342437 L 55.728156 101.342437 L 55.728156 101.393219 L 55.790656 101.397125 L 55.790656 101.549469 L 55.84925 101.553375 L 55.84925 101.690094 L 55.966438 101.694 L 55.966438 101.783844 L 56.0055 101.783844 L 56.0055 101.815094 L 56.025031 101.819 L 56.025031 101.826812 L 56.118781 101.830719 L 56.118781 101.897125 L 56.122688 101.901031 L 56.122688 101.920562 L 56.142219 101.924469 L 56.142219 101.940094 L 56.181281 101.940094 L 56.181281 102.0065 L 56.235969 102.010406 L 56.235969 102.053375 L 56.294563 102.057281 L 56.294563 102.123687 L 56.298469 102.127594 L 56.298469 102.170562 L 56.357063 102.174469 L 56.357063 102.377594 L 56.41175 102.3815 L 56.41175 102.483062 L 56.478156 102.486969 L 56.478156 102.795562 L 56.626594 102.799469 L 56.626594 102.819 L 56.6305 102.822906 L 56.6305 102.830719 L 56.653938 102.834625 L 56.653938 102.971344 L 56.689094 102.97525 L 56.689094 102.994781 L 56.743781 102.994781 L 56.743781 103.010406 L 56.771125 103.014312 L 56.771125 103.033844 L 56.802375 103.03775 L 56.802375 103.080719 L 56.806281 103.084625 L 56.806281 103.127594 L 56.810188 103.1315 L 56.923469 103.135406 L 56.923469 103.22525 L 56.978156 103.229156 L 56.978156 103.260406 L 56.985969 103.264312 L 56.985969 103.354156 L 57.09925 103.358062 L 57.09925 103.510406 L 57.216438 103.514312 L 57.216438 103.545562 L 57.251594 103.545562 L 57.251594 103.615875 L 57.278938 103.615875 L 57.278938 103.717437 L 57.310188 103.721344 L 57.310188 103.729156 L 57.314094 103.733062 L 57.314094 103.752594 L 57.372688 103.7565 L 57.372688 103.764312 L 57.427375 103.768219 L 57.427375 103.834625 L 57.431281 103.838531 L 57.431281 103.869781 L 57.489875 103.873687 L 57.489875 103.893219 L 57.493781 103.897125 L 57.493781 103.963531 L 57.544563 103.963531 L 57.544563 103.998687 L 57.607063 103.998687 L 57.607063 104.135406 L 57.610969 104.139312 L 57.610969 104.170562 L 57.72425 104.174469 L 57.72425 104.240875 L 57.782844 104.244781 L 57.782844 104.346344 L 57.900031 104.346344 L 57.900031 104.41275 L 57.935188 104.416656 L 57.935188 104.518219 L 58.001594 104.522125 L 58.001594 104.553375 L 58.052375 104.557281 L 58.052375 104.569 L 58.056281 104.572906 L 58.056281 104.639312 L 58.114875 104.643219 L 58.114875 104.736969 L 58.118781 104.740875 L 58.118781 104.760406 L 58.169563 104.764312 L 58.169563 104.772125 L 58.177375 104.776031 L 58.177375 104.819 L 58.232063 104.822906 L 58.232063 104.924469 L 58.290656 104.928375 L 58.290656 105.018219 L 58.294563 105.018219 L 58.294563 105.088531 L 58.407844 105.088531 L 58.407844 105.22525 L 58.466438 105.229156 L 58.466438 105.279937 L 58.564094 105.279937 L 58.564094 105.311187 L 58.583625 105.315094 L 58.583625 105.416656 L 58.622688 105.420562 L 58.622688 105.486969 L 58.704719 105.490875 L 58.704719 105.502594 L 58.735969 105.5065 L 58.735969 105.514312 L 58.739875 105.518219 L 58.739875 105.654937 L 58.798469 105.658844 L 58.798469 105.713531 L 58.802375 105.717437 L 58.802375 105.760406 L 58.853156 105.760406 L 58.853156 105.783844 L 58.915656 105.783844 L 58.915656 105.885406 L 58.919563 105.889312 L 58.919563 105.955719 L 59.032844 105.959625 L 59.032844 105.979156 L 59.095344 105.983062 L 59.095344 106.190094 L 59.09925 106.190094 L 59.09925 106.209625 L 59.212531 106.213531 L 59.212531 106.2565 L 59.243781 106.260406 L 59.243781 106.268219 L 59.247688 106.272125 L 59.247688 106.338531 L 59.306281 106.342437 L 59.306281 106.373687 L 59.360969 106.377594 L 59.360969 106.444 L 59.388313 106.447906 L 59.388313 106.479156 L 59.423469 106.479156 L 59.423469 106.694 L 59.540656 106.694 L 59.540656 106.729156 L 59.544563 106.729156 L 59.544563 106.830719 L 59.59925 106.834625 L 59.59925 106.901031 L 59.657844 106.904937 L 59.657844 106.920562 L 59.720344 106.920562 L 59.720344 107.018219 L 59.868781 107.022125 L 59.868781 107.119781 L 59.935188 107.123687 L 59.935188 107.22525 L 59.989875 107.229156 L 59.989875 107.295562 L 60.044563 107.299469 L 60.044563 107.342437 L 60.052375 107.346344 L 60.052375 107.41275 L 60.110969 107.41275 L 60.110969 107.549469 L 60.165656 107.553375 L 60.165656 107.619781 L 60.22425 107.623687 L 60.22425 107.643219 L 60.228156 107.647125 L 60.228156 107.85025 L 60.28675 107.854156 L 60.28675 107.885406 L 60.341438 107.889312 L 60.341438 107.920562 L 60.3805 107.924469 L 60.3805 107.928375 L 60.403938 107.932281 L 60.403938 107.998687 L 60.497688 107.998687 L 60.497688 108.029937 L 60.521125 108.033844 L 60.521125 108.041656 L 60.556281 108.045562 L 60.556281 108.111969 L 60.560188 108.115875 L 60.560188 108.123687 L 60.618781 108.127594 L 60.618781 108.194 L 60.673469 108.197906 L 60.673469 108.334625 L 60.732063 108.334625 L 60.732063 108.358062 L 60.735969 108.358062 L 60.735969 108.494781 L 60.84925 108.498687 L 60.84925 108.60025 L 60.907844 108.604156 L 60.907844 108.611969 L 60.91175 108.615875 L 60.91175 108.924469 L 60.966438 108.928375 L 60.966438 108.947906 L 61.028938 108.951812 L 61.028938 109.069 L 61.068 109.072906 L 61.068 109.080719 L 61.146125 109.084625 L 61.146125 109.092437 L 61.181281 109.096344 L 61.181281 109.16275 L 61.208625 109.166656 L 61.208625 109.186187 L 61.239875 109.190094 L 61.239875 109.221344 L 61.243781 109.221344 L 61.243781 109.244781 L 61.357063 109.244781 L 61.357063 109.451812 L 61.47425 109.455719 L 61.47425 109.557281 L 61.532844 109.561187 L 61.532844 109.627594 L 61.540656 109.627594 L 61.540656 109.729156 L 61.650031 109.733062 L 61.650031 109.776031 L 61.689094 109.779937 L 61.689094 109.830719 L 61.751594 109.830719 L 61.751594 109.846344 L 61.802375 109.85025 L 61.802375 109.8815 L 61.806281 109.885406 L 61.806281 109.916656 L 61.829719 109.920562 L 61.829719 109.940094 L 61.864875 109.944 L 61.864875 110.045562 L 61.868781 110.045562 L 61.868781 110.053375 L 61.985969 110.057281 L 61.985969 110.123687 L 62.044563 110.127594 L 62.044563 110.264312 L 62.16175 110.268219 L 62.16175 110.471344 L 62.220344 110.47525 L 62.220344 110.5065 L 62.314094 110.510406 L 62.314094 110.529937 L 62.337531 110.533844 L 62.337531 110.60025 L 62.372688 110.604156 L 62.372688 110.635406 L 62.431281 110.639312 L 62.431281 110.647125 L 62.435188 110.651031 L 62.435188 110.658844 L 62.454719 110.66275 L 62.454719 110.670562 L 62.489875 110.674469 L 62.489875 110.764312 L 62.493781 110.764312 L 62.493781 110.776031 L 62.552375 110.776031 L 62.552375 110.842437 L 62.556281 110.846344 L 62.556281 110.865875 L 62.607063 110.869781 L 62.607063 110.91275 L 62.669563 110.916656 L 62.669563 111.053375 L 62.728156 111.057281 L 62.728156 111.123687 L 62.845344 111.123687 L 62.845344 111.436187 L 62.962531 111.436187 L 62.962531 111.5065 L 62.993781 111.5065 L 62.993781 111.510406 L 63.001594 111.514312 L 63.001594 111.557281 L 63.021125 111.561187 L 63.021125 111.604156 L 63.056281 111.604156 L 63.056281 111.619781 L 63.114875 111.623687 L 63.114875 111.643219 L 63.138313 111.647125 L 63.138313 111.666656 L 63.173469 111.670562 L 63.173469 111.678375 L 63.177375 111.682281 L 63.177375 111.807281 L 63.290656 111.807281 L 63.290656 111.877594 L 63.294563 111.877594 L 63.294563 111.928375 L 63.353156 111.932281 L 63.353156 112.135406 L 63.357063 112.139312 L 63.357063 112.154937 L 63.407844 112.154937 L 63.407844 112.190094 L 63.47425 112.190094 L 63.47425 112.291656 L 63.622688 112.295562 L 63.622688 112.361969 L 63.650031 112.365875 L 63.650031 112.502594 L 63.685188 112.5065 L 63.685188 112.572906 L 63.798469 112.572906 L 63.798469 112.627594 L 63.802375 112.6315 L 63.802375 112.674469 L 63.860969 112.678375 L 63.860969 112.744781 L 63.915656 112.748687 L 63.915656 112.779937 L 63.919563 112.783844 L 63.919563 112.803375 L 63.97425 112.807281 L 63.97425 112.85025 L 63.978156 112.854156 L 63.978156 112.955719 L 63.982063 112.955719 L 63.982063 112.979156 L 64.095344 112.979156 L 64.095344 113.045562 L 64.247688 113.049469 L 64.247688 113.10025 L 64.306281 113.10025 L 64.306281 113.147125 L 64.310188 113.147125 L 64.310188 113.16275 L 64.368781 113.166656 L 64.368781 113.209625 L 64.423469 113.213531 L 64.423469 113.303375 L 64.482063 113.303375 L 64.482063 113.315094 L 64.485969 113.315094 L 64.485969 113.338531 L 64.489875 113.338531 L 64.489875 113.428375 L 64.544563 113.432281 L 64.544563 113.463531 L 64.59925 113.467437 L 64.59925 113.518219 L 64.603156 113.518219 L 64.603156 113.561187 L 64.66175 113.565094 L 64.66175 113.584625 L 64.665656 113.588531 L 64.665656 113.740875 L 64.716438 113.744781 L 64.716438 113.752594 L 64.778938 113.7565 L 64.778938 113.858062 L 64.782844 113.861969 L 64.782844 113.893219 L 64.896125 113.897125 L 64.896125 113.916656 L 64.931281 113.920562 L 64.931281 114.022125 L 64.989875 114.022125 L 64.989875 114.045562 L 64.997688 114.045562 L 64.997688 114.076812 L 65.110969 114.080719 L 65.110969 114.217437 L 65.169563 114.221344 L 65.169563 114.229156 L 65.173469 114.233062 L 65.173469 114.369781 L 65.228156 114.369781 L 65.228156 114.440094 L 65.28675 114.440094 L 65.28675 114.541656 L 65.290656 114.545562 L 65.290656 114.611969 L 65.403938 114.615875 L 65.403938 114.670562 L 65.462531 114.674469 L 65.462531 114.740875 L 65.466438 114.740875 L 65.466438 114.811187 L 65.579719 114.811187 L 65.579719 114.854156 L 65.618781 114.858062 L 65.618781 115.010406 L 65.735969 115.014312 L 65.735969 115.115875 L 65.794563 115.119781 L 65.794563 115.209625 L 65.798469 115.213531 L 65.798469 115.244781 L 65.91175 115.248687 L 65.91175 115.3815 L 65.970344 115.385406 L 65.970344 115.401031 L 66.068 115.404937 L 66.068 115.41275 L 66.087531 115.416656 L 66.087531 115.447906 L 66.091438 115.451812 L 66.091438 115.518219 L 66.204719 115.518219 L 66.204719 115.522125 L 66.239875 115.526031 L 66.239875 115.557281 L 66.243781 115.561187 L 66.243781 115.580719 L 66.302375 115.584625 L 66.302375 115.686187 L 66.357063 115.686187 L 66.357063 115.752594 L 66.384406 115.7565 L 66.384406 115.764312 L 66.419563 115.768219 L 66.419563 115.97525 L 66.478156 115.979156 L 66.478156 116.022125 L 66.595344 116.022125 L 66.595344 116.229156 L 66.716438 116.233062 L 66.716438 116.276031 L 66.751594 116.279937 L 66.751594 116.299469 L 66.771125 116.303375 L 66.771125 116.322906 L 66.864875 116.326812 L 66.864875 116.369781 L 66.892219 116.369781 L 66.892219 116.3815 L 66.923469 116.3815 L 66.923469 116.397125 L 66.931281 116.401031 L 66.931281 116.444 L 66.989875 116.447906 L 66.989875 116.494781 L 67.040656 116.498687 L 67.040656 116.60025 L 67.107063 116.604156 L 67.107063 116.91275 L 67.16175 116.916656 L 67.16175 116.967437 L 67.22425 116.967437 L 67.22425 117.123687 L 67.282844 117.123687 L 67.282844 117.260406 L 67.400031 117.264312 L 67.400031 117.354156 L 67.435188 117.358062 L 67.435188 117.389312 L 67.552375 117.393219 L 67.552375 117.483062 L 67.575813 117.483062 L 67.575813 117.498687 L 67.614875 117.502594 L 67.614875 117.569 L 67.669563 117.572906 L 67.669563 117.615875 L 67.728156 117.619781 L 67.728156 117.686187 L 67.732063 117.686187 L 67.732063 117.733062 L 67.845344 117.733062 L 67.845344 117.834625 L 67.907844 117.838531 L 67.907844 118.147125 L 68.056281 118.151031 L 68.056281 118.170562 L 68.064094 118.174469 L 68.064094 118.182281 L 68.122688 118.186187 L 68.122688 118.205719 L 68.177375 118.209625 L 68.177375 118.272125 L 68.204719 118.272125 L 68.204719 118.291656 L 68.235969 118.295562 L 68.235969 118.338531 L 68.239875 118.342437 L 68.239875 118.393219 L 68.353156 118.393219 L 68.353156 118.483062 L 68.41175 118.486969 L 68.41175 118.518219 L 68.528938 118.522125 L 68.528938 118.674469 L 68.646125 118.678375 L 68.646125 118.709625 L 68.685188 118.713531 L 68.685188 118.779937 L 68.743781 118.783844 L 68.743781 118.791656 L 68.747688 118.795562 L 68.747688 118.815094 L 68.798469 118.819 L 68.798469 118.826812 L 68.806281 118.830719 L 68.806281 118.838531 L 68.860969 118.842437 L 68.860969 118.944 L 68.919563 118.944 L 68.919563 118.967437 L 68.923469 118.967437 L 68.923469 119.033844 L 68.978156 119.03775 L 68.978156 119.069 L 69.040656 119.072906 L 69.040656 119.244781 L 69.157844 119.248687 L 69.157844 119.315094 L 69.216438 119.315094 L 69.216438 119.416656 L 69.333625 119.420562 L 69.333625 119.486969 L 69.368781 119.490875 L 69.368781 119.592437 L 69.431281 119.596344 L 69.431281 119.627594 L 69.482063 119.6315 L 69.482063 119.643219 L 69.485969 119.647125 L 69.485969 119.713531 L 69.544563 119.717437 L 69.544563 119.760406 L 69.548469 119.764312 L 69.548469 119.811187 L 69.552375 119.815094 L 69.552375 119.834625 L 69.603156 119.838531 L 69.603156 119.846344 L 69.66175 119.85025 L 69.66175 119.916656 L 69.665656 119.920562 L 69.665656 119.951812 L 69.72425 119.955719 L 69.72425 120.045562 L 69.728156 120.045562 L 69.728156 120.115875 L 69.841438 120.115875 L 69.841438 120.252594 L 69.989875 120.2565 L 69.989875 120.276031 L 69.997688 120.279937 L 69.997688 120.311187 L 70.017219 120.315094 L 70.017219 120.416656 L 70.052375 120.416656 L 70.052375 120.486969 L 70.134406 120.486969 L 70.134406 120.502594 L 70.169563 120.5065 L 70.169563 120.514312 L 70.173469 120.518219 L 70.173469 120.654937 L 70.232063 120.654937 L 70.232063 120.674469 L 70.28675 120.678375 L 70.28675 120.697906 L 70.34925 120.701812 L 70.34925 120.873687 L 70.466438 120.877594 L 70.466438 120.897125 L 70.618781 120.901031 L 70.618781 120.967437 L 70.646125 120.967437 L 70.646125 121.014312 L 70.677375 121.014312 L 70.677375 121.026031 L 70.681281 121.026031 L 70.681281 121.092437 L 70.739875 121.096344 L 70.739875 121.127594 L 70.794563 121.1315 L 70.794563 121.197906 L 70.853156 121.201812 L 70.853156 121.205719 L 70.857063 121.205719 L 70.857063 121.41275 L 70.91175 121.416656 L 70.91175 121.447906 L 70.970344 121.451812 L 70.970344 121.483062 L 70.97425 121.486969 L 70.97425 121.588531 L 71.032844 121.588531 L 71.032844 121.654937 L 71.091438 121.658844 L 71.091438 121.674469 L 71.150031 121.678375 L 71.150031 121.721344 L 71.302375 121.721344 L 71.302375 121.822906 L 71.364875 121.826812 L 71.364875 121.928375 L 71.419563 121.932281 L 71.419563 121.998687 L 71.478156 122.002594 L 71.478156 122.045562 L 71.482063 122.049469 L 71.482063 122.115875 L 71.540656 122.115875 L 71.540656 122.252594 L 71.595344 122.2565 L 71.595344 122.322906 L 71.657844 122.326812 L 71.657844 122.346344 L 71.66175 122.35025 L 71.66175 122.553375 L 71.775031 122.557281 L 71.775031 122.588531 L 71.814094 122.592437 L 71.814094 122.596344 L 71.837531 122.60025 L 71.837531 122.666656 L 71.927375 122.666656 L 71.927375 122.697906 L 71.954719 122.701812 L 71.954719 122.709625 L 71.985969 122.713531 L 71.985969 122.779937 L 71.993781 122.783844 L 71.993781 122.791656 L 72.107063 122.795562 L 72.107063 122.932281 L 72.16175 122.936187 L 72.16175 122.955719 L 72.169563 122.959625 L 72.169563 123.092437 L 72.282844 123.096344 L 72.282844 123.197906 L 72.400031 123.201812 L 72.400031 123.221344 L 72.435188 123.22525 L 72.435188 123.2565 L 72.458625 123.260406 L 72.458625 123.307281 L 72.462531 123.311187 L 72.462531 123.377594 L 72.497688 123.3815 L 72.497688 123.389312 L 72.575813 123.393219 L 72.575813 123.401031 L 72.614875 123.404937 L 72.614875 123.471344 L 72.673469 123.47525 L 72.673469 123.5065 L 72.790656 123.510406 L 72.790656 123.713531 L 72.907844 123.717437 L 72.907844 123.819 L 72.966438 123.822906 L 72.966438 123.889312 L 73.083625 123.889312 L 73.083625 123.936187 L 73.118781 123.936187 L 73.118781 123.986969 L 73.185188 123.990875 L 73.185188 124.002594 L 73.235969 124.0065 L 73.235969 124.03775 L 73.239875 124.041656 L 73.239875 124.072906 L 73.298469 124.076812 L 73.298469 124.178375 L 73.302375 124.182281 L 73.302375 124.190094 L 73.353156 124.194 L 73.353156 124.213531 L 73.415656 124.217437 L 73.415656 124.283844 L 73.47425 124.283844 L 73.47425 124.420562 L 73.591438 124.424469 L 73.591438 124.6315 L 73.650031 124.6315 L 73.650031 124.666656 L 73.747688 124.666656 L 73.747688 124.690094 L 73.767219 124.690094 L 73.767219 124.7565 L 73.806281 124.760406 L 73.806281 124.791656 L 73.860969 124.795562 L 73.860969 124.803375 L 73.888313 124.807281 L 73.888313 124.815094 L 73.919563 124.819 L 73.919563 124.838531 L 73.923469 124.842437 L 73.923469 124.908844 L 73.927375 124.91275 L 73.927375 124.920562 L 73.982063 124.924469 L 73.982063 124.990875 L 73.985969 124.990875 L 73.985969 125.014312 L 74.03675 125.014312 L 74.03675 125.061187 L 74.103156 125.061187 L 74.103156 125.197906 L 74.278938 125.201812 L 74.278938 125.510406 L 74.396125 125.514312 L 74.396125 125.580719 L 74.427375 125.584625 L 74.427375 125.588531 L 74.431281 125.588531 L 74.431281 125.6315 L 74.489875 125.635406 L 74.489875 125.651031 L 74.544563 125.654937 L 74.544563 125.686187 L 74.548469 125.690094 L 74.548469 125.709625 L 74.571906 125.713531 L 74.571906 125.733062 L 74.607063 125.733062 L 74.607063 125.846344 L 74.610969 125.85025 L 74.610969 125.869781 L 74.72425 125.873687 L 74.72425 125.940094 L 74.728156 125.944 L 74.728156 125.990875 L 74.841438 125.994781 L 74.841438 126.026031 L 74.903938 126.029937 L 74.903938 126.1315 L 75.052375 126.135406 L 75.052375 126.201812 L 75.118781 126.205719 L 75.118781 126.272125 L 75.169563 126.272125 L 75.169563 126.319 L 75.228156 126.319 L 75.228156 126.342437 L 75.232063 126.342437 L 75.232063 126.373687 L 75.235969 126.377594 L 75.235969 126.420562 L 75.294563 126.424469 L 75.294563 126.490875 L 75.34925 126.494781 L 75.34925 126.549469 L 75.407844 126.553375 L 75.407844 126.596344 L 75.41175 126.60025 L 75.41175 126.701812 L 75.525031 126.701812 L 75.525031 126.768219 L 75.681281 126.772125 L 75.681281 126.822906 L 75.739875 126.822906 L 75.739875 126.869781 L 75.743781 126.869781 L 75.743781 126.885406 L 75.802375 126.889312 L 75.802375 126.932281 L 75.857063 126.936187 L 75.857063 127.026031 L 75.915656 127.026031 L 75.915656 127.061187 L 75.919563 127.061187 L 75.919563 127.151031 L 76.032844 127.154937 L 76.032844 127.205719 L 76.03675 127.205719 L 76.03675 127.252594 L 76.091438 127.252594 L 76.091438 127.272125 L 76.095344 127.276031 L 76.095344 127.432281 L 76.150031 127.432281 L 76.150031 127.444 L 76.212531 127.444 L 76.212531 127.580719 L 76.329719 127.584625 L 76.329719 127.604156 L 76.364875 127.608062 L 76.364875 127.709625 L 76.423469 127.713531 L 76.423469 127.733062 L 76.427375 127.733062 L 76.427375 127.768219 L 76.540656 127.768219 L 76.540656 127.904937 L 76.657844 127.908844 L 76.657844 127.97525 L 76.716438 127.979156 L 76.716438 128.010406 L 76.720344 128.014312 L 76.720344 128.080719 L 76.72425 128.084625 L 76.72425 128.151031 L 76.833625 128.151031 L 76.833625 128.174469 L 76.837531 128.174469 L 76.837531 128.205719 L 76.985969 128.209625 L 76.985969 128.260406 L 77.013313 128.264312 L 77.013313 128.307281 L 77.048469 128.307281 L 77.048469 128.463531 L 77.169563 128.463531 L 77.169563 128.565094 L 77.228156 128.569 L 77.228156 128.658844 L 77.345344 128.66275 L 77.345344 128.799469 L 77.403938 128.803375 L 77.403938 128.815094 L 77.497688 128.819 L 77.497688 128.826812 L 77.521125 128.830719 L 77.521125 128.861969 L 77.614875 128.865875 L 77.614875 128.885406 L 77.638313 128.889312 L 77.638313 128.893219 L 77.669563 128.893219 L 77.669563 128.924469 L 77.677375 128.928375 L 77.677375 128.947906 L 77.735969 128.951812 L 77.735969 129.053375 L 77.790656 129.057281 L 77.790656 129.123687 L 77.853156 129.127594 L 77.853156 129.330719 L 77.91175 129.334625 L 77.91175 129.377594 L 78.028938 129.3815 L 78.028938 129.588531 L 78.146125 129.588531 L 78.146125 129.635406 L 78.185188 129.635406 L 78.185188 129.654937 L 78.204719 129.658844 L 78.204719 129.678375 L 78.298469 129.682281 L 78.298469 129.72525 L 78.321906 129.729156 L 78.321906 129.736969 L 78.357063 129.740875 L 78.357063 129.7565 L 78.360969 129.7565 L 78.360969 129.803375 L 78.47425 129.803375 L 78.47425 129.904937 L 78.53675 129.908844 L 78.53675 130.217437 L 78.591438 130.221344 L 78.591438 130.272125 L 78.657844 130.276031 L 78.657844 130.428375 L 78.806281 130.432281 L 78.806281 130.463531 L 78.833625 130.467437 L 78.833625 130.557281 L 78.868781 130.557281 L 78.868781 130.588531 L 78.982063 130.592437 L 78.982063 130.658844 L 78.985969 130.66275 L 78.985969 130.682281 L 79.103156 130.686187 L 79.103156 130.729156 L 79.157844 130.733062 L 79.157844 130.799469 L 79.165656 130.803375 L 79.165656 130.846344 L 79.278938 130.846344 L 79.278938 130.947906 L 79.431281 130.951812 L 79.431281 130.983062 L 79.489875 130.986969 L 79.489875 131.0065 L 79.493781 131.010406 L 79.493781 131.018219 L 79.552375 131.022125 L 79.552375 131.041656 L 79.607063 131.045562 L 79.607063 131.088531 L 79.610969 131.092437 L 79.610969 131.108062 L 79.669563 131.108062 L 79.669563 131.197906 L 79.78675 131.201812 L 79.78675 131.291656 L 79.845344 131.295562 L 79.845344 131.326812 L 79.962531 131.330719 L 79.962531 131.483062 L 80.079719 131.486969 L 80.079719 131.518219 L 80.114875 131.522125 L 80.114875 131.588531 L 80.173469 131.588531 L 80.173469 131.60025 L 80.181281 131.60025 L 80.181281 131.623687 L 80.232063 131.623687 L 80.232063 131.635406 L 80.294563 131.635406 L 80.294563 131.736969 L 80.353156 131.740875 L 80.353156 131.760406 L 80.357063 131.764312 L 80.357063 131.830719 L 80.41175 131.834625 L 80.41175 131.865875 L 80.470344 131.869781 L 80.470344 132.0065 L 80.47425 132.0065 L 80.47425 132.03775 L 80.587531 132.041656 L 80.587531 132.108062 L 80.646125 132.111969 L 80.646125 132.213531 L 80.763313 132.217437 L 80.763313 132.283844 L 80.802375 132.28775 L 80.802375 132.389312 L 80.915656 132.389312 L 80.915656 132.404937 L 80.919563 132.408844 L 80.919563 132.47525 L 80.978156 132.479156 L 80.978156 132.572906 L 80.982063 132.576812 L 80.982063 132.596344 L 81.032844 132.60025 L 81.032844 132.608062 L 81.095344 132.611969 L 81.095344 132.678375 L 81.09925 132.678375 L 81.09925 132.713531 L 81.275031 132.713531 L 81.275031 132.85025 L 81.423469 132.854156 L 81.423469 132.873687 L 81.427375 132.877594 L 81.427375 132.908844 L 81.485969 132.91275 L 81.485969 132.979156 L 81.540656 132.983062 L 81.540656 133.026031 L 81.568 133.029937 L 81.568 133.041656 L 81.603156 133.045562 L 81.603156 133.194 L 81.66175 133.197906 L 81.66175 133.217437 L 81.720344 133.221344 L 81.720344 133.240875 L 81.778938 133.240875 L 81.778938 133.342437 L 81.900031 133.346344 L 81.900031 133.365875 L 82.048469 133.369781 L 82.048469 133.436187 L 82.107063 133.440094 L 82.107063 133.447906 L 82.114875 133.451812 L 82.114875 133.518219 L 82.169563 133.522125 L 82.169563 133.553375 L 82.22425 133.557281 L 82.22425 133.623687 L 82.28675 133.623687 L 82.28675 133.627594 L 82.290656 133.6315 L 82.290656 133.838531 L 82.345344 133.838531 L 82.345344 133.869781 L 82.403938 133.873687 L 82.403938 133.904937 L 82.407844 133.908844 L 82.407844 134.010406 L 82.466438 134.014312 L 82.466438 134.080719 L 82.521125 134.084625 L 82.521125 134.096344 L 82.583625 134.10025 L 82.583625 134.143219 L 82.735969 134.147125 L 82.735969 134.248687 L 82.798469 134.252594 L 82.798469 134.354156 L 82.853156 134.354156 L 82.853156 134.420562 L 82.91175 134.424469 L 82.91175 134.467437 L 82.915656 134.471344 L 82.915656 134.53775 L 83.028938 134.541656 L 83.028938 134.608062 L 83.087531 134.611969 L 83.087531 134.6315 L 83.091438 134.635406 L 83.091438 134.838531 L 83.208625 134.842437 L 83.208625 134.873687 L 83.247688 134.877594 L 83.247688 134.8815 L 83.360969 134.8815 L 83.360969 134.916656 L 83.384406 134.916656 L 83.384406 134.928375 L 83.419563 134.928375 L 83.419563 134.994781 L 83.423469 134.998687 L 83.423469 135.0065 L 83.53675 135.010406 L 83.53675 135.147125 L 83.595344 135.151031 L 83.595344 135.170562 L 83.712531 135.174469 L 83.712531 135.276031 L 83.829719 135.276031 L 83.829719 135.299469 L 83.868781 135.299469 L 83.868781 135.330719 L 83.931281 135.334625 L 83.931281 135.342437 L 83.982063 135.346344 L 83.982063 135.365875 L 84.009406 135.369781 L 84.009406 135.377594 L 84.044563 135.3815 L 84.044563 135.447906 L 84.103156 135.451812 L 84.103156 135.483062 L 84.22425 135.486969 L 84.22425 135.694 L 84.341438 135.694 L 84.341438 135.795562 L 84.400031 135.799469 L 84.400031 135.865875 L 84.517219 135.869781 L 84.517219 135.91275 L 84.552375 135.916656 L 84.552375 135.963531 L 84.614875 135.967437 L 84.614875 135.983062 L 84.665656 135.983062 L 84.665656 136.018219 L 84.669563 136.018219 L 84.669563 136.053375 L 84.732063 136.053375 L 84.732063 136.154937 L 84.735969 136.158844 L 84.735969 136.166656 L 84.78675 136.170562 L 84.78675 136.190094 L 84.84925 136.194 L 84.84925 136.260406 L 84.907844 136.264312 L 84.907844 136.401031 L 85.025031 136.401031 L 85.025031 136.608062 L 85.173469 136.611969 L 85.173469 136.619781 L 85.181281 136.623687 L 85.181281 136.643219 L 85.200813 136.647125 L 85.200813 136.713531 L 85.235969 136.713531 L 85.235969 136.748687 L 85.294563 136.748687 L 85.294563 136.760406 L 85.318 136.760406 L 85.318 136.772125 L 85.353156 136.772125 L 85.353156 136.795562 L 85.357063 136.795562 L 85.357063 136.873687 L 85.470344 136.877594 L 85.470344 136.920562 L 85.532844 136.924469 L 85.532844 137.061187 L 85.802375 137.065094 L 85.802375 137.108062 L 85.829719 137.108062 L 85.829719 137.174469 L 85.860969 137.178375 L 85.860969 137.182281 L 85.864875 137.186187 L 85.864875 137.229156 L 85.923469 137.233062 L 85.923469 137.244781 L 85.978156 137.248687 L 85.978156 137.303375 L 86.03675 137.307281 L 86.03675 137.315094 L 86.040656 137.319 L 86.040656 137.420562 L 86.095344 137.424469 L 86.095344 137.436187 L 86.153938 137.440094 L 86.153938 137.5065 L 86.157844 137.510406 L 86.157844 137.557281 L 86.275031 137.561187 L 86.275031 137.592437 L 86.485969 137.596344 L 86.485969 137.66275 L 86.548469 137.666656 L 86.548469 137.733062 L 86.603156 137.736969 L 86.603156 137.779937 L 86.66175 137.783844 L 86.66175 137.803375 L 86.665656 137.803375 L 86.665656 137.885406 L 86.72425 137.885406 L 86.72425 137.951812 L 86.778938 137.955719 L 86.778938 137.986969 L 86.782844 137.990875 L 86.782844 138.010406 L 86.841438 138.014312 L 86.841438 138.057281 L 86.845344 138.061187 L 86.845344 138.16275 L 86.958625 138.166656 L 86.958625 138.233062 L 87.110969 138.233062 L 87.110969 138.283844 L 87.169563 138.28775 L 87.169563 138.330719 L 87.177375 138.334625 L 87.177375 138.346344 L 87.290656 138.35025 L 87.290656 138.440094 L 87.345344 138.444 L 87.345344 138.451812 L 87.34925 138.455719 L 87.34925 138.47525 L 87.353156 138.479156 L 87.353156 138.569 L 87.466438 138.569 L 87.466438 138.666656 L 87.583625 138.670562 L 87.583625 138.678375 L 87.642219 138.682281 L 87.642219 138.783844 L 87.646125 138.783844 L 87.646125 138.815094 L 87.759406 138.819 L 87.759406 138.838531 L 87.798469 138.842437 L 87.798469 138.944 L 87.857063 138.947906 L 87.857063 138.967437 L 87.97425 138.971344 L 87.97425 139.108062 L 88.091438 139.108062 L 88.091438 139.178375 L 88.150031 139.178375 L 88.150031 139.209625 L 88.267219 139.213531 L 88.267219 139.233062 L 88.271125 139.236969 L 88.271125 139.268219 L 88.419563 139.272125 L 88.419563 139.322906 L 88.482063 139.322906 L 88.482063 139.479156 L 88.53675 139.479156 L 88.53675 139.514312 L 88.59925 139.514312 L 88.59925 139.615875 L 88.657844 139.619781 L 88.657844 139.709625 L 88.775031 139.713531 L 88.775031 139.85025 L 88.833625 139.85025 L 88.833625 139.865875 L 88.931281 139.869781 L 88.931281 139.877594 L 88.950813 139.8815 L 88.950813 139.91275 L 89.044563 139.916656 L 89.044563 139.936187 L 89.071906 139.940094 L 89.103156 139.944 L 89.103156 139.97525 L 89.110969 139.979156 L 89.110969 139.998687 L 89.165656 140.002594 L 89.165656 140.104156 L 89.220344 140.108062 L 89.220344 140.174469 L 89.28675 140.178375 L 89.28675 140.3815 L 89.462531 140.385406 L 89.462531 140.592437 L 89.579719 140.592437 L 89.579719 140.639312 L 89.614875 140.639312 L 89.614875 140.658844 L 89.732063 140.66275 L 89.732063 140.705719 L 89.7555 140.709625 L 89.7555 140.717437 L 89.790656 140.721344 L 89.790656 140.736969 L 89.794563 140.736969 L 89.794563 140.783844 L 89.907844 140.783844 L 89.907844 140.885406 L 90.025031 140.889312 L 90.025031 140.940094 L 90.087531 140.940094 L 90.087531 141.096344 L 90.235969 141.10025 L 90.235969 141.1315 L 90.302375 141.1315 L 90.302375 141.166656 L 90.353156 141.166656 L 90.353156 141.190094 L 90.415656 141.190094 L 90.415656 141.2565 L 90.419563 141.260406 L 90.419563 141.279937 L 90.532844 141.283844 L 90.532844 141.326812 L 90.591438 141.330719 L 90.591438 141.397125 L 90.708625 141.401031 L 90.708625 141.502594 L 90.864875 141.502594 L 90.864875 141.53775 L 90.923469 141.53775 L 90.923469 141.557281 L 90.927375 141.561187 L 90.927375 141.569 L 90.978156 141.572906 L 90.978156 141.576812 L 90.985969 141.580719 L 90.985969 141.60025 L 91.040656 141.604156 L 91.040656 141.66275 L 91.09925 141.666656 L 91.09925 141.709625 L 91.103156 141.713531 L 91.103156 141.7565 L 91.220344 141.760406 L 91.220344 141.85025 L 91.275031 141.85025 L 91.275031 141.885406 L 91.396125 141.885406 L 91.396125 142.041656 L 91.513313 142.041656 L 91.513313 142.076812 L 91.548469 142.076812 L 91.548469 142.143219 L 91.607063 142.147125 L 91.607063 142.154937 L 91.610969 142.158844 L 91.610969 142.178375 L 91.66175 142.182281 L 91.66175 142.190094 L 91.72425 142.194 L 91.72425 142.260406 L 91.728156 142.264312 L 91.728156 142.295562 L 91.841438 142.299469 L 91.841438 142.330719 L 91.903938 142.334625 L 91.903938 142.471344 L 91.907844 142.471344 L 91.907844 142.502594 L 92.021125 142.5065 L 92.021125 142.572906 L 92.169563 142.576812 L 92.169563 142.608062 L 92.196906 142.611969 L 92.196906 142.678375 L 92.232063 142.682281 L 92.232063 142.783844 L 92.34925 142.783844 L 92.34925 142.799469 L 92.353156 142.803375 L 92.353156 142.869781 L 92.41175 142.873687 L 92.41175 142.916656 L 92.466438 142.920562 L 92.466438 142.928375 L 92.528938 142.932281 L 92.528938 143.029937 L 92.798469 143.033844 L 92.798469 143.065094 L 92.853156 143.069 L 92.853156 143.088531 L 92.860969 143.092437 L 92.860969 143.123687 L 92.919563 143.127594 L 92.919563 143.194 L 92.97425 143.197906 L 92.97425 143.240875 L 93.032844 143.244781 L 93.032844 143.252594 L 93.03675 143.2565 L 93.03675 143.393219 L 93.095344 143.393219 L 93.095344 143.41275 L 93.150031 143.416656 L 93.150031 143.436187 L 93.212531 143.440094 L 93.212531 143.541656 L 93.329719 143.545562 L 93.329719 143.565094 L 93.482063 143.569 L 93.482063 143.635406 L 93.540656 143.639312 L 93.540656 143.647125 L 93.544563 143.651031 L 93.544563 143.717437 L 93.657844 143.717437 L 93.657844 143.783844 L 93.720344 143.78775 L 93.720344 143.998687 L 93.775031 144.002594 L 93.775031 144.033844 L 93.837531 144.03775 L 93.837531 144.069 L 93.841438 144.072906 L 93.841438 144.174469 L 93.954719 144.178375 L 93.954719 144.190094 L 94.017219 144.194 L 94.017219 144.236969 L 94.165656 144.240875 L 94.165656 144.342437 L 94.282844 144.346344 L 94.282844 144.41275 L 94.341438 144.41275 L 94.341438 144.459625 L 94.34925 144.459625 L 94.34925 144.526031 L 94.462531 144.529937 L 94.462531 144.596344 L 94.614875 144.60025 L 94.614875 144.615875 L 94.638313 144.615875 L 94.638313 144.651031 L 94.677375 144.651031 L 94.677375 144.654937 L 94.794563 144.658844 L 94.794563 144.690094 L 94.853156 144.694 L 94.853156 144.760406 L 94.970344 144.764312 L 94.970344 144.897125 L 95.028938 144.901031 L 95.028938 144.920562 L 95.146125 144.924469 L 95.146125 145.026031 L 95.263313 145.029937 L 95.263313 145.049469 L 95.298469 145.053375 L 95.298469 145.084625 L 95.364875 145.088531 L 95.364875 145.096344 L 95.415656 145.10025 L 95.415656 145.119781 L 95.478156 145.123687 L 95.478156 145.190094 L 95.53675 145.190094 L 95.53675 145.22525 L 95.653938 145.22525 L 95.653938 145.432281 L 95.771125 145.436187 L 95.771125 145.53775 L 95.829719 145.53775 L 95.829719 145.604156 L 95.946906 145.608062 L 95.946906 145.651031 L 95.985969 145.654937 L 95.985969 145.705719 L 96.09925 145.705719 L 96.09925 145.740875 L 96.103156 145.740875 L 96.103156 145.776031 L 96.16175 145.776031 L 96.16175 145.877594 L 96.165656 145.8815 L 96.165656 145.889312 L 96.216438 145.893219 L 96.216438 145.91275 L 96.282844 145.916656 L 96.282844 145.983062 L 96.458625 145.986969 L 96.458625 146.190094 L 96.607063 146.194 L 96.607063 146.201812 L 96.610969 146.205719 L 96.610969 146.22525 L 96.669563 146.229156 L 96.669563 146.260406 L 96.72425 146.264312 L 96.72425 146.283844 L 96.728156 146.28775 L 96.728156 146.295562 L 96.751594 146.299469 L 96.751594 146.307281 L 96.78675 146.311187 L 96.78675 146.401031 L 96.790656 146.404937 L 96.790656 146.41275 L 96.903938 146.41275 L 96.903938 146.459625 L 97.232063 146.459625 L 97.232063 146.5065 L 97.290656 146.5065 L 97.290656 146.510406 L 97.298469 146.514312 L 97.298469 146.557281 L 97.353156 146.561187 L 97.353156 146.572906 L 97.407844 146.576812 L 97.407844 146.608062 L 97.41175 146.611969 L 97.41175 146.6315 L 97.470344 146.635406 L 97.470344 146.643219 L 97.47425 146.647125 L 97.47425 146.748687 L 97.528938 146.752594 L 97.528938 146.764312 L 97.587531 146.768219 L 97.587531 146.834625 L 97.591438 146.838531 L 97.591438 146.885406 L 97.704719 146.889312 L 97.704719 146.920562 L 97.919563 146.924469 L 97.919563 146.990875 L 97.982063 146.994781 L 97.982063 147.061187 L 98.03675 147.065094 L 98.03675 147.108062 L 98.095344 147.111969 L 98.095344 147.166656 L 98.09925 147.166656 L 98.09925 147.213531 L 98.212531 147.213531 L 98.212531 147.244781 L 98.216438 147.248687 L 98.216438 147.268219 L 98.271125 147.272125 L 98.271125 147.315094 L 98.275031 147.319 L 98.275031 147.420562 L 98.392219 147.424469 L 98.392219 147.490875 L 98.544563 147.494781 L 98.544563 147.541656 L 98.603156 147.545562 L 98.603156 147.588531 L 98.607063 147.592437 L 98.607063 147.604156 L 98.720344 147.608062 L 98.720344 147.697906 L 98.778938 147.701812 L 98.778938 147.709625 L 98.896125 147.713531 L 98.896125 147.764312 L 98.900031 147.764312 L 98.900031 147.807281 L 99.013313 147.811187 L 99.013313 147.819 L 99.165656 147.822906 L 99.165656 147.854156 L 99.193 147.858062 L 99.193 147.877594 L 99.228156 147.8815 L 99.228156 147.983062 L 99.28675 147.986969 L 99.28675 148.0065 L 99.407844 148.010406 L 99.407844 148.147125 L 99.525031 148.147125 L 99.525031 148.213531 L 99.583625 148.217437 L 99.583625 148.248687 L 99.700813 148.252594 L 99.700813 148.272125 L 99.84925 148.276031 L 99.84925 148.326812 L 99.915656 148.326812 L 99.915656 148.483062 L 99.970344 148.483062 L 99.970344 148.518219 L 100.032844 148.518219 L 100.032844 148.619781 L 100.091438 148.623687 L 100.091438 148.713531 L 100.208625 148.717437 L 100.208625 148.854156 L 100.364875 148.854156 L 100.364875 148.865875 L 100.384406 148.865875 L 100.384406 148.897125 L 100.478156 148.901031 L 100.478156 148.920562 L 100.501594 148.924469 L 100.501594 148.928375 L 100.53675 148.932281 L 100.53675 148.963531 L 100.540656 148.967437 L 100.540656 148.986969 L 100.653938 148.986969 L 100.653938 149.057281 L 100.716438 149.057281 L 100.716438 149.264312 L 100.985969 149.268219 L 100.985969 149.28775 L 101.013313 149.291656 L 101.013313 149.334625 L 101.048469 149.338531 L 101.048469 149.358062 L 101.16175 149.358062 L 101.16175 149.404937 L 101.220344 149.404937 L 101.220344 149.420562 L 101.337531 149.424469 L 101.337531 149.526031 L 101.458625 149.526031 L 101.458625 149.576812 L 101.669563 149.580719 L 101.669563 149.611969 L 101.732063 149.615875 L 101.732063 149.647125 L 101.78675 149.651031 L 101.78675 149.670562 L 101.84925 149.674469 L 101.84925 149.764312 L 101.966438 149.764312 L 101.966438 149.807281 L 102.025031 149.811187 L 102.025031 149.877594 L 102.142219 149.8815 L 102.142219 149.983062 L 102.294563 149.986969 L 102.294563 150.018219 L 102.353156 150.022125 L 102.353156 150.041656 L 102.360969 150.045562 L 102.360969 150.053375 L 102.41175 150.057281 L 102.47425 150.061187 L 102.47425 150.123687 L 102.532844 150.123687 L 102.532844 150.170562 L 102.53675 150.170562 L 102.53675 150.213531 L 102.650031 150.217437 L 102.650031 150.307281 L 102.825813 150.311187 L 102.825813 150.463531 L 102.943 150.467437 L 102.943 150.498687 L 102.982063 150.502594 L 102.982063 150.569 L 103.040656 150.572906 L 103.040656 150.580719 L 103.095344 150.584625 L 103.095344 150.592437 L 103.157844 150.596344 L 103.157844 150.697906 L 103.275031 150.697906 L 103.275031 150.729156 L 103.454719 150.733062 L 103.454719 150.799469 L 103.603156 150.803375 L 103.603156 150.834625 L 103.665656 150.838531 L 103.665656 150.940094 L 103.720344 150.944 L 103.720344 150.963531 L 103.778938 150.967437 L 103.778938 150.979156 L 103.782844 150.983062 L 103.782844 151.049469 L 103.841438 151.053375 L 103.841438 151.096344 L 103.900031 151.10025 L 103.900031 151.108062 L 103.958625 151.111969 L 103.958625 151.178375 L 104.228156 151.178375 L 104.228156 151.213531 L 104.28675 151.213531 L 104.28675 151.236969 L 104.294563 151.236969 L 104.294563 151.268219 L 104.34925 151.272125 L 104.34925 151.338531 L 104.403938 151.342437 L 104.403938 151.385406 L 104.466438 151.389312 L 104.466438 151.397125 L 104.470344 151.401031 L 104.470344 151.53775 L 104.583625 151.541656 L 104.583625 151.561187 L 104.646125 151.561187 L 104.646125 151.66275 L 104.763313 151.666656 L 104.763313 151.686187 L 104.915656 151.690094 L 104.915656 151.7565 L 104.97425 151.760406 L 104.97425 151.768219 L 104.978156 151.772125 L 104.978156 151.838531 L 105.091438 151.842437 L 105.091438 151.908844 L 105.208625 151.91275 L 105.208625 151.944 L 105.267219 151.944 L 105.267219 151.979156 L 105.271125 151.979156 L 105.271125 152.080719 L 105.388313 152.084625 L 105.388313 152.10025 L 105.59925 152.10025 L 105.59925 152.201812 L 105.716438 152.205719 L 105.716438 152.272125 L 105.775031 152.276031 L 105.775031 152.319 L 105.892219 152.322906 L 105.892219 152.389312 L 106.048469 152.393219 L 106.048469 152.404937 L 106.110969 152.408844 L 106.110969 152.41275 L 106.16175 152.416656 L 106.16175 152.424469 L 106.22425 152.428375 L 106.22425 152.459625 L 106.282844 152.459625 L 106.282844 152.529937 L 106.403938 152.529937 L 106.403938 152.666656 L 106.458625 152.670562 L 106.458625 152.690094 L 106.579719 152.694 L 106.579719 152.795562 L 106.696906 152.799469 L 106.696906 152.819 L 106.732063 152.822906 L 106.732063 152.854156 L 106.794563 152.854156 L 106.794563 152.865875 L 106.845344 152.865875 L 106.845344 152.889312 L 106.91175 152.889312 L 106.91175 152.955719 L 107.087531 152.959625 L 107.087531 153.166656 L 107.204719 153.170562 L 107.204719 153.272125 L 107.353156 153.272125 L 107.353156 153.28775 L 107.3805 153.291656 L 107.3805 153.334625 L 107.415656 153.338531 L 107.415656 153.385406 L 107.532844 153.389312 L 107.532844 153.420562 L 107.53675 153.424469 L 107.53675 153.455719 L 107.650031 153.459625 L 107.650031 153.479156 L 107.712531 153.483062 L 107.712531 153.549469 L 107.982063 153.553375 L 107.982063 153.572906 L 108.03675 153.572906 L 108.03675 153.584625 L 108.044563 153.584625 L 108.044563 153.608062 L 108.103156 153.608062 L 108.103156 153.643219 L 108.157844 153.643219 L 108.157844 153.674469 L 108.216438 153.678375 L 108.216438 153.697906 L 108.220344 153.701812 L 108.220344 153.768219 L 108.333625 153.772125 L 108.333625 153.815094 L 108.665656 153.819 L 108.665656 153.861969 L 108.72425 153.865875 L 108.728156 153.869781 L 108.728156 153.91275 L 108.841438 153.916656 L 108.841438 153.947906 L 108.845344 153.951812 L 108.845344 153.971344 L 108.903938 153.97525 L 108.903938 154.088531 L 108.958625 154.092437 L 108.958625 154.104156 L 109.021125 154.108062 L 109.021125 154.174469 L 109.025031 154.178375 L 109.025031 154.22525 L 109.138313 154.229156 L 109.138313 154.260406 L 109.34925 154.264312 L 109.34925 154.330719 L 109.466438 154.334625 L 109.466438 154.377594 L 109.525031 154.3815 L 109.525031 154.401031 L 109.528938 154.404937 L 109.528938 154.436187 L 109.532844 154.440094 L 109.532844 154.483062 L 109.646125 154.483062 L 109.646125 154.541656 L 109.821906 154.541656 L 109.821906 154.608062 L 109.978156 154.611969 L 109.978156 154.66275 L 110.03675 154.66275 L 110.03675 154.709625 L 110.153938 154.709625 L 110.153938 154.799469 L 110.212531 154.803375 L 110.212531 154.811187 L 110.329719 154.815094 L 110.329719 154.865875 L 110.446906 154.865875 L 110.446906 154.877594 L 110.59925 154.877594 L 110.59925 154.91275 L 110.66175 154.91275 L 110.66175 155.014312 L 110.720344 155.018219 L 110.720344 155.03775 L 110.837531 155.041656 L 110.837531 155.178375 L 110.954719 155.182281 L 110.954719 155.248687 L 111.013313 155.248687 L 111.013313 155.283844 L 111.1305 155.283844 L 111.1305 155.303375 L 111.282844 155.307281 L 111.282844 155.358062 L 111.345344 155.361969 L 111.345344 155.514312 L 111.400031 155.518219 L 111.400031 155.549469 L 111.466438 155.553375 L 111.466438 155.654937 L 111.642219 155.654937 L 111.642219 155.791656 L 111.794563 155.795562 L 111.794563 155.803375 L 111.91175 155.807281 L 111.91175 155.826812 L 111.935188 155.830719 L 111.935188 155.834625 L 111.966438 155.834625 L 111.966438 155.865875 L 111.97425 155.869781 L 111.97425 155.889312 L 112.087531 155.893219 L 112.087531 155.959625 L 112.415656 155.963531 L 112.415656 155.983062 L 112.482063 155.986969 L 112.482063 156.0065 L 112.595344 156.010406 L 112.595344 156.053375 L 112.653938 156.057281 L 112.653938 156.069 L 112.771125 156.072906 L 112.771125 156.174469 L 112.888313 156.178375 L 112.888313 156.22525 L 113.103156 156.229156 L 113.103156 156.260406 L 113.165656 156.264312 L 113.165656 156.295562 L 113.220344 156.299469 L 113.220344 156.319 L 113.278938 156.322906 L 113.278938 156.389312 L 113.282844 156.393219 L 113.282844 156.41275 L 113.400031 156.416656 L 113.400031 156.459625 L 113.454719 156.463531 L 113.454719 156.529937 L 113.575813 156.529937 L 113.575813 156.6315 L 113.728156 156.635406 L 113.728156 156.666656 L 113.78675 156.670562 L 113.78675 156.690094 L 113.790656 156.694 L 113.790656 156.701812 L 113.841438 156.705719 L 113.841438 156.709625 L 113.903938 156.709625 L 113.903938 156.7565 L 113.907844 156.7565 L 113.907844 156.772125 L 114.083625 156.776031 L 114.083625 156.865875 L 114.34925 156.865875 L 114.34925 156.889312 L 114.376594 156.889312 L 114.376594 156.924469 L 114.41175 156.924469 L 114.41175 156.990875 L 114.470344 156.994781 L 114.470344 157.002594 L 114.528938 157.0065 L 114.528938 157.014312 L 114.591438 157.018219 L 114.591438 157.084625 L 114.708625 157.088531 L 114.708625 157.119781 L 115.032844 157.123687 L 115.032844 157.154937 L 115.09925 157.158844 L 115.09925 157.260406 L 115.153938 157.260406 L 115.153938 157.283844 L 115.212531 157.283844 L 115.212531 157.299469 L 115.216438 157.303375 L 115.216438 157.369781 L 115.275031 157.373687 L 115.275031 157.416656 L 115.329719 157.416656 L 115.329719 157.428375 L 115.392219 157.428375 L 115.392219 157.498687 L 115.66175 157.498687 L 115.66175 157.529937 L 115.720344 157.533844 L 115.720344 157.553375 L 115.72425 157.557281 L 115.72425 157.588531 L 115.837531 157.592437 L 115.837531 157.635406 L 115.900031 157.639312 L 115.900031 157.78775 L 116.017219 157.78775 L 116.017219 157.811187 L 116.196906 157.811187 L 116.196906 157.834625 L 116.345344 157.834625 L 116.345344 157.901031 L 116.403938 157.904937 L 116.403938 157.91275 L 116.521125 157.916656 L 116.521125 157.983062 L 116.642219 157.986969 L 116.642219 158.018219 L 116.818 158.022125 L 116.818 158.03775 L 117.032844 158.03775 L 117.032844 158.139312 L 117.150031 158.143219 L 117.150031 158.209625 L 117.208625 158.213531 L 117.208625 158.2565 L 117.325813 158.260406 L 117.325813 158.326812 L 117.478156 158.326812 L 117.478156 158.342437 L 117.544563 158.346344 L 117.544563 158.35025 L 117.595344 158.35025 L 117.595344 158.361969 L 117.657844 158.361969 L 117.657844 158.397125 L 117.716438 158.397125 L 117.716438 158.463531 L 117.833625 158.467437 L 117.833625 158.604156 L 118.009406 158.608062 L 118.009406 158.709625 L 118.126594 158.709625 L 118.126594 158.733062 L 118.165656 158.733062 L 118.165656 158.768219 L 118.278938 158.768219 L 118.278938 158.78775 L 118.341438 158.791656 L 118.341438 158.858062 L 118.638313 158.861969 L 118.638313 158.963531 L 118.78675 158.967437 L 118.78675 158.979156 L 118.84925 158.983062 L 118.84925 159.033844 L 118.903938 159.03775 L 118.903938 159.045562 L 118.962531 159.049469 L 118.962531 159.080719 L 118.966438 159.080719 L 118.966438 159.115875 L 119.083625 159.115875 L 119.083625 159.139312 L 119.41175 159.139312 L 119.41175 159.158844 L 119.470344 159.16275 L 119.470344 159.170562 L 119.478156 159.174469 L 119.478156 159.194 L 119.532844 159.197906 L 119.532844 159.229156 L 119.587531 159.233062 L 119.587531 159.252594 L 119.591438 159.2565 L 119.591438 159.264312 L 119.650031 159.268219 L 119.650031 159.28775 L 119.653938 159.291656 L 119.653938 159.358062 L 119.767219 159.361969 L 119.767219 159.404937 L 120.09925 159.408844 L 120.09925 159.451812 L 120.157844 159.451812 L 120.157844 159.455719 L 120.16175 159.459625 L 120.16175 159.502594 L 120.275031 159.5065 L 120.275031 159.561187 L 120.392219 159.565094 L 120.392219 159.576812 L 120.450813 159.580719 L 120.450813 159.647125 L 120.454719 159.651031 L 120.454719 159.697906 L 120.571906 159.701812 L 120.571906 159.733062 L 120.782844 159.736969 L 120.782844 159.803375 L 120.900031 159.807281 L 120.900031 159.85025 L 120.958625 159.854156 L 120.958625 159.873687 L 121.075813 159.877594 L 121.075813 159.908844 L 121.079719 159.91275 L 121.079719 159.932281 L 121.345344 159.936187 L 121.345344 159.947906 L 121.407844 159.951812 L 121.407844 160.002594 L 121.466438 160.002594 L 121.466438 160.049469 L 121.587531 160.049469 L 121.587531 160.139312 L 121.642219 160.143219 L 121.642219 160.151031 L 121.763313 160.154937 L 121.763313 160.205719 L 121.8805 160.205719 L 121.8805 160.217437 L 122.028938 160.217437 L 122.028938 160.248687 L 122.095344 160.252594 L 122.095344 160.354156 L 122.271125 160.358062 L 122.271125 160.494781 L 122.388313 160.498687 L 122.388313 160.565094 L 122.564094 160.565094 L 122.564094 160.588531 L 122.716438 160.588531 L 122.716438 160.639312 L 122.833625 160.643219 L 122.833625 160.674469 L 122.896125 160.678375 L 122.896125 160.779937 L 123.165656 160.779937 L 123.165656 160.791656 L 123.228156 160.791656 L 123.228156 160.799469 L 123.341438 160.803375 L 123.341438 160.822906 L 123.400031 160.826812 L 123.400031 160.858062 L 123.517219 160.861969 L 123.517219 160.928375 L 123.84925 160.932281 L 123.84925 160.951812 L 123.91175 160.955719 L 123.91175 160.97525 L 124.028938 160.979156 L 124.028938 161.022125 L 124.087531 161.026031 L 124.087531 161.03775 L 124.204719 161.041656 L 124.204719 161.143219 L 124.321906 161.147125 L 124.321906 161.194 L 124.532844 161.197906 L 124.532844 161.229156 L 124.650031 161.233062 L 124.650031 161.252594 L 124.712531 161.2565 L 124.712531 161.322906 L 124.716438 161.326812 L 124.716438 161.346344 L 124.829719 161.35025 L 124.829719 161.393219 L 125.0055 161.397125 L 125.0055 161.498687 L 125.16175 161.498687 L 125.16175 161.529937 L 125.220344 161.533844 L 125.220344 161.553375 L 125.275031 161.557281 L 125.275031 161.561187 L 125.337531 161.565094 L 125.337531 161.623687 L 125.782844 161.627594 L 125.782844 161.647125 L 125.845344 161.651031 L 125.845344 161.717437 L 125.903938 161.721344 L 125.903938 161.729156 L 125.958625 161.733062 L 125.958625 161.740875 L 126.021125 161.744781 L 126.021125 161.811187 L 126.138313 161.811187 L 126.138313 161.846344 L 126.466438 161.846344 L 126.466438 161.8815 L 126.528938 161.8815 L 126.528938 161.983062 L 126.583625 161.986969 L 126.583625 162.0065 L 126.646125 162.010406 L 126.646125 162.026031 L 126.650031 162.026031 L 126.650031 162.092437 L 126.763313 162.096344 L 126.763313 162.104156 L 126.825813 162.108062 L 126.825813 162.174469 L 127.095344 162.178375 L 127.095344 162.209625 L 127.150031 162.213531 L 127.150031 162.233062 L 127.157844 162.236969 L 127.157844 162.268219 L 127.271125 162.272125 L 127.271125 162.315094 L 127.446906 162.319 L 127.446906 162.338531 L 127.778938 162.342437 L 127.778938 162.408844 L 127.837531 162.408844 L 127.837531 162.420562 L 127.954719 162.420562 L 127.954719 162.486969 L 128.071906 162.490875 L 128.071906 162.522125 L 128.462531 162.526031 L 128.462531 162.627594 L 128.579719 162.6315 L 128.579719 162.697906 L 128.638313 162.701812 L 128.638313 162.744781 L 128.759406 162.744781 L 128.759406 162.811187 L 128.91175 162.815094 L 128.91175 162.830719 L 128.97425 162.834625 L 129.025031 162.838531 L 129.025031 162.846344 L 129.091438 162.85025 L 129.091438 162.8815 L 129.267219 162.885406 L 129.267219 163.022125 L 129.532844 163.026031 L 129.532844 163.033844 L 129.560188 163.03775 L 129.560188 163.057281 L 129.595344 163.061187 L 129.595344 163.092437 L 129.712531 163.092437 L 129.712531 163.115875 L 130.216438 163.115875 L 130.216438 163.1315 L 130.282844 163.135406 L 130.282844 163.182281 L 130.337531 163.186187 L 130.337531 163.194 L 130.396125 163.197906 L 130.396125 163.229156 L 130.400031 163.233062 L 130.400031 163.264312 L 130.513313 163.268219 L 130.513313 163.28775 L 130.845344 163.291656 L 130.845344 163.311187 L 130.903938 163.315094 L 130.903938 163.322906 L 130.907844 163.326812 L 130.907844 163.346344 L 131.021125 163.35025 L 131.021125 163.369781 L 131.025031 163.373687 L 131.025031 163.3815 L 131.079719 163.385406 L 131.079719 163.404937 L 131.083625 163.408844 L 131.083625 163.47525 L 131.200813 163.47525 L 131.200813 163.522125 L 131.528938 163.522125 L 131.528938 163.565094 L 131.587531 163.569 L 131.587531 163.572906 L 131.704719 163.576812 L 131.704719 163.608062 L 131.708625 163.611969 L 131.708625 163.6315 L 131.825813 163.635406 L 131.825813 163.647125 L 132.001594 163.651031 L 132.001594 163.682281 L 132.216438 163.686187 L 132.216438 163.752594 L 132.333625 163.7565 L 132.333625 163.799469 L 132.392219 163.803375 L 132.392219 163.822906 L 132.509406 163.822906 L 132.509406 163.858062 L 132.778938 163.858062 L 132.778938 163.873687 L 132.841438 163.877594 L 132.841438 163.924469 L 132.900031 163.928375 L 132.900031 163.971344 L 133.017219 163.97525 L 133.017219 164.065094 L 133.193 164.069 L 133.193 164.115875 L 133.310188 164.119781 L 133.310188 164.127594 L 133.462531 164.1315 L 133.462531 164.16275 L 133.525031 164.166656 L 133.525031 164.268219 L 133.821906 164.272125 L 133.821906 164.338531 L 134.146125 164.342437 L 134.146125 164.389312 L 134.267219 164.393219 L 134.267219 164.424469 L 134.595344 164.428375 L 134.595344 164.436187 L 134.66175 164.440094 L 134.66175 164.447906 L 134.775031 164.451812 L 134.775031 164.471344 L 134.833625 164.47525 L 134.833625 164.5065 L 134.950813 164.510406 L 134.950813 164.576812 L 135.282844 164.576812 L 135.282844 164.60025 L 135.345344 164.60025 L 135.345344 164.623687 L 135.458625 164.623687 L 135.458625 164.666656 L 135.634406 164.670562 L 135.634406 164.772125 L 135.7555 164.776031 L 135.7555 164.826812 L 135.966438 164.826812 L 135.966438 164.858062 L 136.083625 164.861969 L 136.083625 164.8815 L 136.263313 164.885406 L 136.263313 164.928375 L 136.528938 164.932281 L 136.528938 164.940094 L 136.591438 164.944 L 136.591438 164.97525 L 136.650031 164.979156 L 136.650031 164.998687 L 136.708625 165.002594 L 136.708625 165.0065 L 136.771125 165.0065 L 136.771125 165.049469 L 137.212531 165.053375 L 137.212531 165.072906 L 137.278938 165.076812 L 137.278938 165.143219 L 137.392219 165.147125 L 137.392219 165.154937 L 137.454719 165.158844 L 137.454719 165.22525 L 137.571906 165.229156 L 137.571906 165.260406 L 137.900031 165.264312 L 137.900031 165.295562 L 138.017219 165.295562 L 138.017219 165.319 L 138.075813 165.319 L 138.075813 165.334625 L 138.079719 165.338531 L 138.079719 165.404937 L 138.196906 165.408844 L 138.196906 165.416656 L 138.525031 165.420562 L 138.525031 165.451812 L 138.583625 165.455719 L 138.583625 165.47525 L 138.700813 165.47525 L 138.700813 165.522125 L 139.212531 165.522125 L 139.212531 165.588531 L 139.271125 165.592437 L 139.271125 165.60025 L 139.388313 165.604156 L 139.388313 165.670562 L 139.5055 165.674469 L 139.5055 165.705719 L 139.896125 165.709625 L 139.896125 165.811187 L 140.013313 165.815094 L 140.013313 165.8815 L 140.189094 165.8815 L 140.189094 165.947906 L 140.345344 165.951812 L 140.345344 165.967437 L 140.458625 165.971344 L 140.458625 165.979156 L 140.521125 165.983062 L 140.521125 166.014312 L 140.966438 166.018219 L 140.966438 166.026031 L 141.028938 166.026031 L 141.028938 166.061187 L 141.142219 166.061187 L 141.142219 166.084625 L 141.650031 166.084625 L 141.650031 166.10025 L 141.712531 166.104156 L 141.712531 166.151031 L 141.767219 166.154937 L 141.767219 166.16275 L 141.829719 166.166656 L 141.829719 166.197906 L 141.833625 166.201812 L 141.833625 166.233062 L 141.946906 166.236969 L 141.946906 166.2565 L 142.278938 166.260406 L 142.278938 166.279937 L 142.333625 166.283844 L 142.333625 166.291656 L 142.341438 166.295562 L 142.341438 166.315094 L 142.454719 166.319 L 142.454719 166.35025 L 142.6305 166.354156 L 142.6305 166.397125 L 142.962531 166.397125 L 142.962531 166.444 L 143.021125 166.444 L 143.021125 166.447906 L 143.138313 166.451812 L 143.138313 166.483062 L 143.2555 166.486969 L 143.2555 166.498687 L 143.646125 166.502594 L 143.646125 166.569 L 143.763313 166.572906 L 143.763313 166.615875 L 143.821906 166.619781 L 143.821906 166.639312 L 143.943 166.643219 L 143.943 166.674469 L 144.208625 166.678375 L 144.208625 166.690094 L 144.275031 166.694 L 144.275031 166.744781 L 144.450813 166.748687 L 144.450813 166.838531 L 144.743781 166.838531 L 144.743781 166.846344 L 144.896125 166.85025 L 144.896125 166.8815 L 145.579719 166.885406 L 145.579719 166.936187 L 145.696906 166.936187 L 145.696906 166.971344 L 146.028938 166.971344 L 146.028938 166.983062 L 146.091438 166.983062 L 146.091438 166.994781 L 146.208625 166.994781 L 146.208625 167.018219 L 146.263313 167.018219 L 146.263313 167.049469 L 146.384406 167.053375 L 146.384406 167.119781 L 146.712531 167.123687 L 146.712531 167.143219 L 146.892219 167.147125 L 146.892219 167.190094 L 147.185188 167.194 L 147.185188 167.240875 L 147.400031 167.244781 L 147.400031 167.276031 L 147.517219 167.279937 L 147.517219 167.299469 L 147.962531 167.303375 L 147.962531 167.311187 L 148.025031 167.315094 L 148.025031 167.346344 L 148.083625 167.35025 L 148.083625 167.369781 L 148.138313 167.373687 L 148.138313 167.377594 L 148.200813 167.377594 L 148.200813 167.420562 L 148.646125 167.424469 L 148.646125 167.444 L 148.708625 167.447906 L 148.708625 167.514312 L 148.825813 167.518219 L 148.825813 167.526031 L 149.0055 167.529937 L 149.0055 167.561187 L 149.329719 167.565094 L 149.329719 167.596344 L 149.450813 167.60025 L 149.450813 167.619781 L 149.626594 167.623687 L 149.626594 167.6315 L 149.958625 167.635406 L 149.958625 167.666656 L 150.017219 167.666656 L 150.017219 167.690094 L 150.134406 167.690094 L 150.134406 167.736969 L 150.642219 167.736969 L 150.642219 167.803375 L 150.818 167.807281 L 150.818 167.873687 L 150.939094 167.877594 L 150.939094 167.908844 L 151.446906 167.91275 L 151.446906 167.979156 L 151.712531 167.983062 L 151.775031 167.986969 L 151.775031 168.002594 L 151.892219 168.0065 L 151.892219 168.014312 L 152.396125 168.018219 L 152.396125 168.026031 L 152.462531 168.029937 L 152.462531 168.061187 L 152.575813 168.061187 L 152.575813 168.084625 L 153.083625 168.084625 L 153.083625 168.10025 L 153.200813 168.104156 L 153.200813 168.111969 L 153.259406 168.115875 L 153.259406 168.147125 L 153.263313 168.151031 L 153.263313 168.182281 L 153.3805 168.186187 L 153.3805 168.205719 L 153.708625 168.209625 L 153.708625 168.229156 L 153.767219 168.229156 L 153.767219 168.240875 L 153.884406 168.240875 L 153.884406 168.264312 L 153.888313 168.264312 L 153.888313 168.276031 L 154.396125 168.276031 L 154.396125 168.319 L 154.454719 168.322906 L 154.454719 168.326812 L 154.571906 168.330719 L 154.571906 168.361969 L 154.689094 168.365875 L 154.689094 168.377594 L 155.079719 168.3815 L 155.079719 168.447906 L 155.196906 168.451812 L 155.196906 168.494781 L 155.372688 168.498687 L 155.372688 168.529937 L 155.642219 168.533844 L 155.642219 168.545562 L 155.704719 168.549469 L 155.704719 168.60025 L 156.325813 168.60025 L 156.325813 168.635406 L 157.013313 168.635406 L 157.013313 168.686187 L 157.1305 168.690094 L 157.1305 168.721344 L 157.462531 168.72525 L 157.462531 168.733062 L 157.525031 168.736969 L 157.525031 168.744781 L 157.638313 168.748687 L 157.638313 168.768219 L 157.814094 168.768219 L 157.814094 168.838531 L 158.146125 168.838531 L 158.146125 168.858062 L 158.829719 168.861969 L 158.829719 168.893219 L 158.946906 168.897125 L 158.946906 168.916656 L 159.392219 168.920562 L 159.392219 168.928375 L 159.458625 168.932281 L 159.458625 168.963531 L 159.571906 168.967437 L 159.571906 168.971344 L 159.634406 168.971344 L 159.634406 169.018219 L 160.079719 169.018219 L 160.079719 169.041656 L 160.2555 169.041656 L 160.2555 169.049469 L 160.763313 169.053375 L 160.763313 169.084625 L 160.8805 169.088531 L 160.8805 169.108062 L 161.392219 169.111969 L 161.392219 169.143219 L 161.446906 169.147125 L 161.446906 169.166656 L 161.568 169.170562 L 161.568 169.213531 L 162.075813 169.217437 L 162.075813 169.283844 L 162.368781 169.28775 L 162.368781 169.319 L 163.146125 169.319 L 163.146125 169.322906 L 163.208625 169.326812 L 163.208625 169.342437 L 163.321906 169.342437 L 163.321906 169.354156 L 163.829719 169.354156 L 163.829719 169.365875 L 163.892219 169.365875 L 163.892219 169.401031 L 164.009406 169.401031 L 164.009406 169.420562 L 164.513313 169.424469 L 164.513313 169.440094 L 164.634406 169.444 L 164.634406 169.451812 L 164.810188 169.455719 L 164.810188 169.47525 L 165.142219 169.479156 L 165.142219 169.498687 L 165.200813 169.498687 L 165.200813 169.510406 L 165.318 169.510406 L 165.318 169.533844 L 165.825813 169.533844 L 165.825813 169.580719 L 166.001594 169.580719 L 166.001594 169.611969 L 166.122688 169.615875 L 166.122688 169.6315 L 166.6305 169.635406 L 166.6305 169.678375 L 167.075813 169.682281 L 167.075813 169.694 L 167.759406 169.697906 L 167.759406 169.729156 L 168.443 169.733062 L 168.443 169.779937 L 168.564094 169.783844 L 168.564094 169.815094 L 168.892219 169.819 L 168.892219 169.826812 L 169.071906 169.830719 L 169.071906 169.85025 L 169.579719 169.854156 L 169.579719 169.873687 L 170.263313 169.877594 L 170.263313 169.908844 L 170.3805 169.91275 L 170.3805 169.932281 L 170.825813 169.936187 L 170.825813 169.944 L 170.888313 169.947906 L 170.888313 169.979156 L 171.0055 169.983062 L 171.509406 169.986969 L 171.509406 170.0065 L 172.196906 170.010406 L 172.196906 170.041656 L 172.314094 170.045562 L 172.314094 170.065094 L 172.821906 170.069 L 172.821906 170.10025 L 172.997688 170.104156 L 172.997688 170.147125 L 174.575813 170.151031 L 174.642219 170.154937 L 174.642219 170.170562 L 174.7555 170.174469 L 174.7555 170.182281 L 175.263313 170.186187 L 175.263313 170.194 L 175.439094 170.197906 L 175.439094 170.217437 L 175.946906 170.221344 L 175.946906 170.233062 L 176.064094 170.236969 L 176.064094 170.244781 L 176.575813 170.248687 L 176.575813 170.268219 L 176.6305 170.272125 L 176.6305 170.279937 L 176.751594 170.283844 L 176.751594 170.303375 L 177.259406 170.307281 L 177.259406 170.35025 L 177.552375 170.354156 L 177.552375 170.365875 L 178.5055 170.369781 L 178.5055 170.385406 L 179.193 170.389312 L 179.193 170.420562 L 179.993781 170.420562 L 179.993781 170.455719 L 180.325813 170.455719 L 180.325813 170.467437 L 181.009406 170.467437 L 181.009406 170.490875 L 181.814094 170.490875 L 181.814094 170.510406 L 182.259406 170.514312 L 182.259406 170.522125 L 182.435188 170.526031 L 182.435188 170.529937 L 182.943 170.533844 L 182.943 170.553375 L 183.626594 170.557281 L 183.626594 170.588531 L 183.747688 170.592437 L 183.747688 170.611969 L 184.2555 170.611969 L 184.2555 170.647125 L 186.009406 170.647125 L 186.009406 170.651031 L 186.071906 170.654937 L 186.071906 170.670562 L 186.189094 170.670562 L 186.189094 170.682281 L 186.693 170.682281 L 186.693 170.690094 L 187.3805 170.694 L 187.3805 170.709625 L 187.497688 170.713531 L 187.497688 170.721344 L 188.0055 170.72525 L 188.0055 170.744781 L 188.181281 170.748687 L 188.181281 170.768219 L 189.939094 170.772125 L 189.939094 170.783844 L 190.622688 170.78775 L 190.622688 170.819 L 191.759406 170.822906 L 191.759406 170.830719 L 192.443 170.834625 L 192.443 170.854156 L 193.689094 170.858062 L 193.689094 170.865875 L 194.376594 170.869781 L 194.376594 170.889312 L 195.177375 170.893219 L 195.177375 170.91275 L 197.443 170.916656 L 197.618781 170.920562 L 197.618781 170.928375 L 198.126594 170.932281 L 198.126594 170.940094 L 198.810188 170.944 L 198.810188 170.959625 L 198.931281 170.963531 L 198.931281 170.971344 L 199.439094 170.971344 L 199.439094 170.994781 L 201.372688 170.994781 L 201.372688 171.010406 L 203.189094 171.014312 L 203.189094 171.022125 L 205.122688 171.026031 L 205.122688 171.033844 L 205.806281 171.03775 L 205.806281 171.057281 L 208.872688 171.061187 L 209.560188 171.065094 L 209.560188 171.072906 L 210.360969 171.076812 L 210.360969 171.084625 L 212.802375 171.088531 L 212.802375 171.104156 L 214.622688 171.108062 L 214.622688 171.115875 L 216.556281 171.119781 L 216.556281 171.127594 L 220.306281 171.1315 L 220.989875 171.135406 L 220.989875 171.143219 L 227.985969 171.147125 L 227.985969 171.154937 L 231.739875 171.158844 L 231.739875 171.16275 L 243.169563 171.16275 L 243.169563 171.166656 \" transform=\"matrix(1,0,0,-1,37.807,178.194)\"/>\n",
       "</g>\n",
       "<g style=\"fill:rgb(0%,0%,0%);fill-opacity:1;\">\n",
       "  <use xlink:href=\"#glyph-1601166393153061-1-1\" x=\"113.142\" y=\"203.99\"/>\n",
       "</g>\n",
       "<g style=\"fill:rgb(0%,0%,0%);fill-opacity:1;\">\n",
       "  <use xlink:href=\"#glyph-1601166393153061-1-2\" x=\"122.10638\" y=\"203.99\"/>\n",
       "</g>\n",
       "<g style=\"fill:rgb(0%,0%,0%);fill-opacity:1;\">\n",
       "  <use xlink:href=\"#glyph-1601166393153061-2-1\" x=\"130.638\" y=\"203.99\"/>\n",
       "  <use xlink:href=\"#glyph-1601166393153061-2-2\" x=\"134.911971\" y=\"203.99\"/>\n",
       "  <use xlink:href=\"#glyph-1601166393153061-2-3\" x=\"140.731147\" y=\"203.99\"/>\n",
       "  <use xlink:href=\"#glyph-1601166393153061-2-3\" x=\"146.418816\" y=\"203.99\"/>\n",
       "</g>\n",
       "<g style=\"fill:rgb(0%,0%,0%);fill-opacity:1;\">\n",
       "  <use xlink:href=\"#glyph-1601166393153061-1-3\" x=\"152.106\" y=\"203.99\"/>\n",
       "  <use xlink:href=\"#glyph-1601166393153061-1-4\" x=\"156.007368\" y=\"203.99\"/>\n",
       "  <use xlink:href=\"#glyph-1601166393153061-1-5\" x=\"162.977229\" y=\"203.99\"/>\n",
       "</g>\n",
       "<g style=\"fill:rgb(0%,0%,0%);fill-opacity:1;\">\n",
       "  <use xlink:href=\"#glyph-1601166393153061-1-6\" x=\"169.355309\" y=\"203.99\"/>\n",
       "  <use xlink:href=\"#glyph-1601166393153061-1-4\" x=\"175.108731\" y=\"203.99\"/>\n",
       "  <use xlink:href=\"#glyph-1601166393153061-1-5\" x=\"182.078591\" y=\"203.99\"/>\n",
       "</g>\n",
       "<g style=\"fill:rgb(0%,0%,0%);fill-opacity:1;\">\n",
       "  <use xlink:href=\"#glyph-1601166393153061-3-1\" x=\"187.942\" y=\"206.291\"/>\n",
       "  <use xlink:href=\"#glyph-1601166393153061-3-2\" x=\"194.002248\" y=\"206.291\"/>\n",
       "  <use xlink:href=\"#glyph-1601166393153061-3-3\" x=\"197.507986\" y=\"206.291\"/>\n",
       "</g>\n",
       "<g style=\"fill:rgb(0%,0%,0%);fill-opacity:1;\">\n",
       "  <use xlink:href=\"#glyph-1601166393153061-1-7\" x=\"201.738\" y=\"203.99\"/>\n",
       "</g>\n",
       "<g style=\"fill:rgb(0%,0%,0%);fill-opacity:1;\">\n",
       "  <use xlink:href=\"#glyph-1601166393153061-4-1\" x=\"11.321\" y=\"132.212\"/>\n",
       "</g>\n",
       "<g style=\"fill:rgb(0%,0%,0%);fill-opacity:1;\">\n",
       "  <use xlink:href=\"#glyph-1601166393153061-4-2\" x=\"11.321\" y=\"125.658578\"/>\n",
       "  <use xlink:href=\"#glyph-1601166393153061-4-3\" x=\"11.321\" y=\"121.757209\"/>\n",
       "  <use xlink:href=\"#glyph-1601166393153061-4-4\" x=\"11.321\" y=\"114.787349\"/>\n",
       "</g>\n",
       "<g style=\"fill:rgb(0%,0%,0%);fill-opacity:1;\">\n",
       "  <use xlink:href=\"#glyph-1601166393153061-4-5\" x=\"11.321\" y=\"108.409269\"/>\n",
       "  <use xlink:href=\"#glyph-1601166393153061-4-3\" x=\"11.321\" y=\"102.655847\"/>\n",
       "  <use xlink:href=\"#glyph-1601166393153061-4-4\" x=\"11.321\" y=\"95.685986\"/>\n",
       "</g>\n",
       "<g style=\"fill:rgb(0%,0%,0%);fill-opacity:1;\">\n",
       "  <use xlink:href=\"#glyph-1601166393153061-5-1\" x=\"13.622\" y=\"89.823\"/>\n",
       "  <use xlink:href=\"#glyph-1601166393153061-5-2\" x=\"13.622\" y=\"83.762752\"/>\n",
       "  <use xlink:href=\"#glyph-1601166393153061-5-3\" x=\"13.622\" y=\"80.257014\"/>\n",
       "</g>\n",
       "<g style=\"fill:rgb(0%,0%,0%);fill-opacity:1;\">\n",
       "  <use xlink:href=\"#glyph-1601166393153061-4-6\" x=\"11.321\" y=\"72.984\"/>\n",
       "</g>\n",
       "<g style=\"fill:rgb(0%,0%,0%);fill-opacity:1;\">\n",
       "  <use xlink:href=\"#glyph-1601166393153061-4-7\" x=\"11.321\" y=\"62.847017\"/>\n",
       "</g>\n",
       "<g style=\"fill:rgb(0%,0%,0%);fill-opacity:1;\">\n",
       "  <use xlink:href=\"#glyph-1601166393153061-4-8\" x=\"11.321\" y=\"56.918253\"/>\n",
       "</g>\n",
       "<path style=\"fill-rule:nonzero;fill:rgb(100%,100%,100%);fill-opacity:0.9;stroke-width:0.99628;stroke-linecap:butt;stroke-linejoin:miter;stroke:rgb(13.331604%,13.331604%,33.332825%);stroke-opacity:0.1;stroke-miterlimit:10;\" d=\"M 171.950813 5.6315 L 235.376594 5.6315 L 235.376594 102.119781 L 171.950813 102.119781 Z M 171.950813 5.6315 \" transform=\"matrix(1,0,0,-1,37.807,178.194)\"/>\n",
       "<path style=\"fill:none;stroke-width:1.19553;stroke-linecap:butt;stroke-linejoin:miter;stroke:rgb(93.331909%,46.665955%,19.999695%);stroke-opacity:1;stroke-miterlimit:10;\" d=\"M -0.00015625 -0.00078125 L 17.007656 -0.00078125 \" transform=\"matrix(1,0,0,-1,213.34,84.675)\"/>\n",
       "<g style=\"fill:rgb(13.331604%,13.331604%,33.332825%);fill-opacity:1;\">\n",
       "  <use xlink:href=\"#glyph-1601166393153061-0-8\" x=\"232.939\" y=\"87.795\"/>\n",
       "</g>\n",
       "<g style=\"fill:rgb(13.331604%,13.331604%,33.332825%);fill-opacity:1;\">\n",
       "  <use xlink:href=\"#glyph-1601166393153061-0-9\" x=\"246.006001\" y=\"87.795\"/>\n",
       "</g>\n",
       "<g style=\"fill:rgb(13.331604%,13.331604%,33.332825%);fill-opacity:1;\">\n",
       "  <use xlink:href=\"#glyph-1601166393153061-0-4\" x=\"257.076488\" y=\"87.795\"/>\n",
       "</g>\n",
       "<path style=\"fill:none;stroke-width:1.19553;stroke-linecap:butt;stroke-linejoin:miter;stroke:rgb(0%,46.665955%,73.33374%);stroke-opacity:1;stroke-miterlimit:10;\" d=\"M -0.00015625 -0.001625 L 17.007656 -0.001625 \" transform=\"matrix(1,0,0,-1,213.34,97.889)\"/>\n",
       "<g style=\"fill:rgb(13.331604%,13.331604%,33.332825%);fill-opacity:1;\">\n",
       "  <use xlink:href=\"#glyph-1601166393153061-0-8\" x=\"232.939\" y=\"101.01\"/>\n",
       "</g>\n",
       "<g style=\"fill:rgb(13.331604%,13.331604%,33.332825%);fill-opacity:1;\">\n",
       "  <use xlink:href=\"#glyph-1601166393153061-0-9\" x=\"246.006001\" y=\"101.01\"/>\n",
       "</g>\n",
       "<g style=\"fill:rgb(13.331604%,13.331604%,33.332825%);fill-opacity:1;\">\n",
       "  <use xlink:href=\"#glyph-1601166393153061-0-10\" x=\"257.076488\" y=\"101.01\"/>\n",
       "</g>\n",
       "<path style=\"fill:none;stroke-width:1.19553;stroke-linecap:butt;stroke-linejoin:miter;stroke:rgb(19.999695%,73.33374%,93.331909%);stroke-opacity:1;stroke-miterlimit:10;\" d=\"M -0.00015625 -0.00146875 L 17.007656 -0.00146875 \" transform=\"matrix(1,0,0,-1,213.34,111.104)\"/>\n",
       "<g style=\"fill:rgb(13.331604%,13.331604%,33.332825%);fill-opacity:1;\">\n",
       "  <use xlink:href=\"#glyph-1601166393153061-0-8\" x=\"232.939\" y=\"114.224\"/>\n",
       "</g>\n",
       "<g style=\"fill:rgb(13.331604%,13.331604%,33.332825%);fill-opacity:1;\">\n",
       "  <use xlink:href=\"#glyph-1601166393153061-0-9\" x=\"246.006001\" y=\"114.224\"/>\n",
       "</g>\n",
       "<g style=\"fill:rgb(13.331604%,13.331604%,33.332825%);fill-opacity:1;\">\n",
       "  <use xlink:href=\"#glyph-1601166393153061-0-5\" x=\"257.076488\" y=\"114.224\"/>\n",
       "</g>\n",
       "<path style=\"fill:none;stroke-width:1.19553;stroke-linecap:butt;stroke-linejoin:miter;stroke:rgb(93.331909%,19.999695%,46.665955%);stroke-opacity:1;stroke-miterlimit:10;\" d=\"M -0.00015625 0.00159375 L 17.007656 0.00159375 \" transform=\"matrix(1,0,0,-1,213.34,124.318)\"/>\n",
       "<g style=\"fill:rgb(13.331604%,13.331604%,33.332825%);fill-opacity:1;\">\n",
       "  <use xlink:href=\"#glyph-1601166393153061-0-8\" x=\"232.939\" y=\"127.438\"/>\n",
       "</g>\n",
       "<g style=\"fill:rgb(13.331604%,13.331604%,33.332825%);fill-opacity:1;\">\n",
       "  <use xlink:href=\"#glyph-1601166393153061-0-9\" x=\"246.006001\" y=\"127.438\"/>\n",
       "</g>\n",
       "<g style=\"fill:rgb(13.331604%,13.331604%,33.332825%);fill-opacity:1;\">\n",
       "  <use xlink:href=\"#glyph-1601166393153061-0-11\" x=\"257.076488\" y=\"127.438\"/>\n",
       "</g>\n",
       "<path style=\"fill:none;stroke-width:1.19553;stroke-linecap:butt;stroke-linejoin:miter;stroke:rgb(79.998779%,19.999695%,6.666565%);stroke-opacity:1;stroke-miterlimit:10;\" d=\"M -0.00015625 0.00075 L 17.007656 0.00075 \" transform=\"matrix(1,0,0,-1,213.34,137.532)\"/>\n",
       "<g style=\"fill:rgb(13.331604%,13.331604%,33.332825%);fill-opacity:1;\">\n",
       "  <use xlink:href=\"#glyph-1601166393153061-0-8\" x=\"232.939\" y=\"140.653\"/>\n",
       "</g>\n",
       "<g style=\"fill:rgb(13.331604%,13.331604%,33.332825%);fill-opacity:1;\">\n",
       "  <use xlink:href=\"#glyph-1601166393153061-0-9\" x=\"246.006001\" y=\"140.653\"/>\n",
       "</g>\n",
       "<g style=\"fill:rgb(13.331604%,13.331604%,33.332825%);fill-opacity:1;\">\n",
       "  <use xlink:href=\"#glyph-1601166393153061-0-6\" x=\"257.076488\" y=\"140.653\"/>\n",
       "</g>\n",
       "<path style=\"fill:none;stroke-width:1.19553;stroke-linecap:butt;stroke-linejoin:miter;stroke:rgb(0%,59.999084%,53.33252%);stroke-opacity:1;stroke-miterlimit:10;\" d=\"M -0.00015625 0.00090625 L 17.007656 0.00090625 \" transform=\"matrix(1,0,0,-1,213.34,150.747)\"/>\n",
       "<g style=\"fill:rgb(13.331604%,13.331604%,33.332825%);fill-opacity:1;\">\n",
       "  <use xlink:href=\"#glyph-1601166393153061-0-8\" x=\"232.939\" y=\"153.867\"/>\n",
       "</g>\n",
       "<g style=\"fill:rgb(13.331604%,13.331604%,33.332825%);fill-opacity:1;\">\n",
       "  <use xlink:href=\"#glyph-1601166393153061-0-9\" x=\"246.006001\" y=\"153.867\"/>\n",
       "</g>\n",
       "<g style=\"fill:rgb(13.331604%,13.331604%,33.332825%);fill-opacity:1;\">\n",
       "  <use xlink:href=\"#glyph-1601166393153061-0-12\" x=\"257.076488\" y=\"153.867\"/>\n",
       "</g>\n",
       "<path style=\"fill:none;stroke-width:1.19553;stroke-linecap:butt;stroke-linejoin:miter;stroke:rgb(73.33374%,73.33374%,73.33374%);stroke-opacity:1;stroke-miterlimit:10;\" d=\"M -0.00015625 0.0000625 L 17.007656 0.0000625 \" transform=\"matrix(1,0,0,-1,213.34,163.961)\"/>\n",
       "<g style=\"fill:rgb(13.331604%,13.331604%,33.332825%);fill-opacity:1;\">\n",
       "  <use xlink:href=\"#glyph-1601166393153061-0-8\" x=\"232.939\" y=\"167.082\"/>\n",
       "</g>\n",
       "<g style=\"fill:rgb(13.331604%,13.331604%,33.332825%);fill-opacity:1;\">\n",
       "  <use xlink:href=\"#glyph-1601166393153061-0-9\" x=\"246.006001\" y=\"167.082\"/>\n",
       "</g>\n",
       "<g style=\"fill:rgb(13.331604%,13.331604%,33.332825%);fill-opacity:1;\">\n",
       "  <use xlink:href=\"#glyph-1601166393153061-0-7\" x=\"257.076488\" y=\"167.082\"/>\n",
       "  <use xlink:href=\"#glyph-1601166393153061-0-1\" x=\"262.635642\" y=\"167.082\"/>\n",
       "</g>\n",
       "</g>\n",
       "</svg>\n",
       "\n"
      ]
     },
     "execution_count": 247,
     "metadata": {},
     "output_type": "execute_result"
    }
   ],
   "source": [
    "NE = 4\n",
    "ΔEplot = plot(mid.(ΔEs(NE)), 0:1//3^NE:1-eps(),\n",
    "    label=latexstring(\"N = $NE\"),\n",
    "    xlim=(0, 1),\n",
    "    ylim=(0, 1),\n",
    "    key=:bottomright,\n",
    "    xlabel=L\"x \\in \\mathrm{supp}(\\Delta E/\\Delta E_\\text{max})\",\n",
    "    ylabel=L\"P(\\Delta E/\\Delta E_\\text{max} \\leqslant x)\")\n",
    "for NE in 5:10\n",
    "    plot!(ΔEplot, mid.(ΔEs(NE)), 0:1//3^NE:1-eps(), label=latexstring(\"N = $NE\"))\n",
    "end\n",
    "ΔEplot"
   ]
  },
  {
   "cell_type": "markdown",
   "metadata": {
    "hidden": true
   },
   "source": [
    "As expected, the density approaches a truncated normal distribution."
   ]
  },
  {
   "cell_type": "code",
   "execution_count": 248,
   "metadata": {
    "hidden": true
   },
   "outputs": [
    {
     "data": {
      "image/svg+xml": [
       "<?xml version=\"1.0\" encoding=\"UTF-8\"?>\n",
       "<svg xmlns=\"http://www.w3.org/2000/svg\" xmlns:xlink=\"http://www.w3.org/1999/xlink\" width=\"255.816pt\" height=\"185.753pt\" viewBox=\"0 0 255.816 185.753\" version=\"1.1\">\n",
       "<defs>\n",
       "<g>\n",
       "<symbol overflow=\"visible\" id=\"glyph-1601166393153062-0-0\">\n",
       "<path style=\"stroke:none;\" d=\"M 0 0 L 5.96875 0 L 5.96875 -8.34375 L 0 -8.34375 Z M 0.953125 -0.59375 L 2.984375 -3.640625 L 5.015625 -0.59375 Z M 0.59375 -7.203125 L 2.625 -4.171875 L 0.59375 -1.140625 Z M 3.34375 -4.171875 L 5.375 -7.203125 L 5.375 -1.140625 Z M 2.984375 -4.703125 L 0.953125 -7.734375 L 5.015625 -7.734375 Z M 2.984375 -4.703125 \"/>\n",
       "</symbol>\n",
       "<symbol overflow=\"visible\" id=\"glyph-1601166393153062-0-1\">\n",
       "<path style=\"stroke:none;\" d=\"M 2.71875 0.125 C 3.640625 0.125 5.046875 -0.8125 5.046875 -3.625 C 5.046875 -4.8125 4.75 -5.828125 4.234375 -6.515625 C 3.921875 -6.9375 3.421875 -7.296875 2.765625 -7.296875 C 1.59375 -7.296875 0.46875 -5.875 0.46875 -3.515625 C 0.46875 -2.234375 0.859375 -1.046875 1.515625 -0.375 C 1.859375 -0.046875 2.265625 0.125 2.71875 0.125 Z M 2.765625 -6.875 C 2.96875 -6.875 3.171875 -6.796875 3.3125 -6.671875 C 3.6875 -6.359375 4 -5.453125 4 -3.84375 C 4 -2.75 3.96875 -2 3.796875 -1.390625 C 3.53125 -0.40625 2.953125 -0.296875 2.734375 -0.296875 C 1.625 -0.296875 1.5 -2.34375 1.5 -3.375 C 1.5 -6.328125 2.234375 -6.875 2.765625 -6.875 Z M 2.765625 -6.875 \"/>\n",
       "</symbol>\n",
       "<symbol overflow=\"visible\" id=\"glyph-1601166393153062-0-2\">\n",
       "<path style=\"stroke:none;\" d=\"M 0.6875 -0.515625 C 0.6875 -0.171875 0.96875 0.125 1.3125 0.125 C 1.65625 0.125 1.953125 -0.171875 1.953125 -0.515625 C 1.953125 -0.859375 1.65625 -1.140625 1.3125 -1.140625 C 0.96875 -1.140625 0.6875 -0.859375 0.6875 -0.515625 Z M 0.6875 -0.515625 \"/>\n",
       "</symbol>\n",
       "<symbol overflow=\"visible\" id=\"glyph-1601166393153062-0-3\">\n",
       "<path style=\"stroke:none;\" d=\"M 0.734375 -5.59375 C 0.734375 -5.34375 0.953125 -5.125 1.203125 -5.125 C 1.40625 -5.125 1.765625 -5.34375 1.765625 -5.609375 C 1.765625 -5.703125 1.75 -5.765625 1.71875 -5.859375 C 1.703125 -5.9375 1.625 -6.046875 1.625 -6.140625 C 1.625 -6.4375 1.9375 -6.875 2.8125 -6.875 C 3.234375 -6.875 3.84375 -6.578125 3.84375 -5.421875 C 3.84375 -4.65625 3.578125 -4.046875 2.875 -3.328125 L 1.984375 -2.453125 C 0.8125 -1.25 0.625 -0.6875 0.625 0.03125 C 0.625 0.03125 1.234375 0 1.609375 0 L 3.703125 0 C 4.09375 0 4.640625 0.03125 4.640625 0.03125 C 4.796875 -0.609375 4.90625 -1.5 4.921875 -1.859375 C 4.859375 -1.921875 4.703125 -1.953125 4.578125 -1.921875 C 4.375 -1.078125 4.171875 -0.78125 3.734375 -0.78125 L 1.609375 -0.78125 C 1.609375 -1.34375 2.4375 -2.15625 2.5 -2.21875 L 3.703125 -3.375 C 4.390625 -4.046875 4.90625 -4.5625 4.90625 -5.46875 C 4.90625 -6.765625 3.84375 -7.296875 2.875 -7.296875 C 1.546875 -7.296875 0.734375 -6.3125 0.734375 -5.59375 Z M 0.734375 -5.59375 \"/>\n",
       "</symbol>\n",
       "<symbol overflow=\"visible\" id=\"glyph-1601166393153062-0-4\">\n",
       "<path style=\"stroke:none;\" d=\"M 3.8125 -2.265625 C 3.8125 -1.125 3.21875 -0.28125 2.5 -0.28125 C 2.046875 -0.28125 1.890625 -0.578125 1.703125 -0.828125 C 1.546875 -1.03125 1.34375 -1.203125 1.09375 -1.203125 C 0.875 -1.203125 0.640625 -1 0.640625 -0.765625 C 0.640625 -0.28125 1.65625 0.125 2.34375 0.125 C 3.828125 0.125 4.875 -0.96875 4.875 -2.46875 C 4.875 -3.640625 4.078125 -4.671875 2.734375 -4.671875 C 2.21875 -4.671875 1.78125 -4.5625 1.5625 -4.484375 L 1.8125 -6.484375 C 2.25 -6.4375 2.625 -6.375 3.203125 -6.375 C 3.5625 -6.375 3.96875 -6.390625 4.453125 -6.4375 L 4.65625 -7.25 L 4.5625 -7.296875 C 3.890625 -7.234375 3.234375 -7.171875 2.609375 -7.171875 C 2.15625 -7.171875 1.734375 -7.203125 1.3125 -7.234375 L 0.90625 -3.796875 C 1.546875 -4.03125 2 -4.078125 2.421875 -4.078125 C 3.203125 -4.078125 3.8125 -3.5625 3.8125 -2.265625 Z M 3.8125 -2.265625 \"/>\n",
       "</symbol>\n",
       "<symbol overflow=\"visible\" id=\"glyph-1601166393153062-0-5\">\n",
       "<path style=\"stroke:none;\" d=\"M 2.03125 -6.390625 L 4.171875 -6.390625 C 3.234375 -4.078125 2.296875 -1.75 1.484375 0.078125 L 1.578125 0.15625 L 2.390625 0.125 C 3.078125 -1.90625 3.734375 -3.890625 5.0625 -7.15625 L 4.875 -7.296875 C 4.671875 -7.25 4.40625 -7.171875 3.953125 -7.171875 L 1.5 -7.171875 C 1.09375 -7.171875 1.109375 -7.296875 0.890625 -7.34375 C 0.859375 -7.34375 0.84375 -7.34375 0.84375 -7.296875 C 0.84375 -6.734375 0.703125 -6.015625 0.609375 -5.390625 C 0.734375 -5.359375 0.859375 -5.34375 0.984375 -5.359375 C 1.25 -6.3125 1.65625 -6.390625 2.03125 -6.390625 Z M 2.03125 -6.390625 \"/>\n",
       "</symbol>\n",
       "<symbol overflow=\"visible\" id=\"glyph-1601166393153062-0-6\">\n",
       "<path style=\"stroke:none;\" d=\"M 3.4375 -1.453125 L 3.4375 -5.609375 C 3.4375 -6.328125 3.453125 -7.046875 3.484375 -7.203125 C 3.484375 -7.265625 3.453125 -7.265625 3.40625 -7.265625 C 2.75 -6.859375 2.109375 -6.5625 1.0625 -6.078125 C 1.09375 -5.9375 1.140625 -5.828125 1.25 -5.75 C 1.796875 -5.96875 2.0625 -6.046875 2.28125 -6.046875 C 2.484375 -6.046875 2.515625 -5.765625 2.515625 -5.359375 L 2.515625 -1.453125 C 2.515625 -0.46875 2.203125 -0.40625 1.359375 -0.375 C 1.296875 -0.296875 1.296875 -0.046875 1.359375 0.03125 C 1.953125 0.015625 2.375 0 3.03125 0 C 3.59375 0 3.890625 0.015625 4.484375 0.03125 C 4.546875 -0.046875 4.546875 -0.296875 4.484375 -0.375 C 3.640625 -0.40625 3.4375 -0.46875 3.4375 -1.453125 Z M 3.4375 -1.453125 \"/>\n",
       "</symbol>\n",
       "<symbol overflow=\"visible\" id=\"glyph-1601166393153062-0-7\">\n",
       "<path style=\"stroke:none;\" d=\"M 2.5625 -6.875 C 3.078125 -6.875 3.5625 -6.5625 3.5625 -5.796875 C 3.5625 -5.203125 2.875 -4.28125 1.6875 -4.109375 L 1.75 -3.734375 C 1.953125 -3.75 2.15625 -3.75 2.3125 -3.75 C 3 -3.75 3.890625 -3.5625 3.890625 -2.21875 C 3.890625 -0.625 2.828125 -0.296875 2.40625 -0.296875 C 1.796875 -0.296875 1.6875 -0.578125 1.546875 -0.78125 C 1.421875 -0.953125 1.265625 -1.09375 1.03125 -1.09375 C 0.78125 -1.09375 0.53125 -0.875 0.53125 -0.6875 C 0.53125 -0.203125 1.53125 0.125 2.25 0.125 C 3.671875 0.125 4.9375 -0.796875 4.9375 -2.375 C 4.9375 -3.6875 3.953125 -4.140625 3.25 -4.265625 L 3.234375 -4.296875 C 4.21875 -4.75 4.5 -5.25 4.5 -5.875 C 4.5 -6.234375 4.40625 -6.53125 4.125 -6.828125 C 3.859375 -7.09375 3.4375 -7.296875 2.828125 -7.296875 C 1.0625 -7.296875 0.5625 -6.140625 0.5625 -5.75 C 0.5625 -5.578125 0.6875 -5.34375 0.96875 -5.34375 C 1.390625 -5.34375 1.4375 -5.734375 1.4375 -5.96875 C 1.4375 -6.734375 2.265625 -6.875 2.5625 -6.875 Z M 2.5625 -6.875 \"/>\n",
       "</symbol>\n",
       "<symbol overflow=\"visible\" id=\"glyph-1601166393153062-1-0\">\n",
       "<path style=\"stroke:none;\" d=\"M 0 0 L 5.96875 0 L 5.96875 -8.34375 L 0 -8.34375 Z M 0.953125 -0.59375 L 2.984375 -3.640625 L 5.015625 -0.59375 Z M 0.59375 -7.203125 L 2.625 -4.171875 L 0.59375 -1.140625 Z M 3.34375 -4.171875 L 5.375 -7.203125 L 5.375 -1.140625 Z M 2.984375 -4.703125 L 0.953125 -7.734375 L 5.015625 -7.734375 Z M 2.984375 -4.703125 \"/>\n",
       "</symbol>\n",
       "<symbol overflow=\"visible\" id=\"glyph-1601166393153062-1-1\">\n",
       "<path style=\"stroke:none;\" d=\"M 2.4375 1.90625 C 2.625 1.578125 2.78125 1.25 2.921875 0.890625 C 3.890625 -1.421875 4.421875 -2.65625 5.046875 -4 C 5.28125 -4.5 5.453125 -4.6875 6.015625 -4.75 C 6.078125 -4.828125 6.078125 -5.078125 6.015625 -5.15625 C 5.765625 -5.140625 5.5 -5.125 5.15625 -5.125 C 4.8125 -5.125 4.4375 -5.140625 4.078125 -5.15625 C 4 -5.078125 4 -4.828125 4.078125 -4.75 C 4.453125 -4.71875 4.84375 -4.65625 4.65625 -4.21875 L 3.46875 -1.484375 C 3.375 -1.296875 3.28125 -1.25 3.171875 -1.5 L 2.109375 -3.984375 C 1.90625 -4.484375 1.84375 -4.703125 2.515625 -4.75 C 2.578125 -4.828125 2.578125 -5.078125 2.515625 -5.15625 C 2.0625 -5.140625 1.59375 -5.125 1.15625 -5.125 C 0.75 -5.125 0.4375 -5.140625 0.1875 -5.15625 C 0.125 -5.078125 0.125 -4.828125 0.1875 -4.75 C 0.671875 -4.703125 0.828125 -4.59375 1.140625 -3.859375 L 2.484375 -0.71875 C 2.59375 -0.484375 2.765625 0.078125 2.65625 0.40625 C 2.515625 0.796875 2.359375 1.140625 2.1875 1.5 C 2.0625 1.75 1.890625 1.859375 1.59375 1.859375 C 1.421875 1.859375 1.375 1.8125 1.25 1.8125 C 0.890625 1.8125 0.71875 2.171875 0.71875 2.328125 C 0.71875 2.578125 0.953125 2.765625 1.28125 2.765625 C 1.53125 2.765625 2.015625 2.671875 2.4375 1.90625 Z M 2.4375 1.90625 \"/>\n",
       "</symbol>\n",
       "<symbol overflow=\"visible\" id=\"glyph-1601166393153062-1-2\">\n",
       "<path style=\"stroke:none;\" d=\"M 2.5625 -1.453125 C 2.5625 -0.46875 2.234375 -0.40625 1.40625 -0.375 C 1.328125 -0.296875 1.328125 -0.046875 1.40625 0.03125 C 1.984375 0.015625 2.421875 0 3.0625 0 C 3.640625 0 3.921875 0.015625 4.515625 0.03125 C 4.59375 -0.046875 4.59375 -0.296875 4.515625 -0.375 C 3.6875 -0.40625 3.484375 -0.46875 3.484375 -1.453125 L 3.484375 -3.84375 C 3.484375 -4.546875 3.515625 -5.15625 3.515625 -5.15625 C 3.515625 -5.265625 3.453125 -5.28125 3.34375 -5.28125 C 2.765625 -5.09375 2.265625 -5 1.25 -4.78125 C 1.265625 -4.640625 1.3125 -4.515625 1.40625 -4.40625 C 1.75 -4.453125 2.0625 -4.484375 2.3125 -4.484375 C 2.515625 -4.484375 2.5625 -4.34375 2.5625 -3.734375 Z M 2.5625 -1.453125 \"/>\n",
       "</symbol>\n",
       "</g>\n",
       "<clipPath id=\"clip-1601166393153062-1\">\n",
       "  <path d=\"M 12 0 L 255.816406 0 L 255.816406 172 L 12 172 Z M 12 0 \"/>\n",
       "</clipPath>\n",
       "<clipPath id=\"clip-1601166393153062-2\">\n",
       "  <path d=\"M 12 11 L 255.816406 11 L 255.816406 167 L 12 167 Z M 12 11 \"/>\n",
       "</clipPath>\n",
       "<clipPath id=\"clip-1601166393153062-3\">\n",
       "  <path d=\"M 12 11 L 255.816406 11 L 255.816406 167 L 12 167 Z M 12 11 \"/>\n",
       "</clipPath>\n",
       "<clipPath id=\"clip-1601166393153062-4\">\n",
       "  <path d=\"M 12.398438 0.246094 L 255.570312 0.246094 L 255.570312 171.417969 L 12.398438 171.417969 Z M 12.398438 0.246094 \"/>\n",
       "</clipPath>\n",
       "</defs>\n",
       "<g id=\"surface1\">\n",
       "<g clip-path=\"url(#clip-1601166393153062-1)\" clip-rule=\"nonzero\">\n",
       "<path style=\" stroke:none;fill-rule:nonzero;fill:rgb(100%,100%,100%);fill-opacity:1;\" d=\"M 12.398438 171.417969 L 255.570312 171.417969 L 255.570312 0.246094 L 12.398438 0.246094 Z M 12.398438 171.417969 \"/>\n",
       "</g>\n",
       "<path style=\"fill:none;stroke-width:0.49814;stroke-linecap:butt;stroke-linejoin:miter;stroke:rgb(13.331604%,13.331604%,33.332825%);stroke-opacity:0.1;stroke-miterlimit:10;\" d=\"M 14.987719 -0.00096875 L 14.987719 171.170906 M 68.284594 -0.00096875 L 68.284594 171.170906 M 121.585375 -0.00096875 L 121.585375 171.170906 M 174.88225 -0.00096875 L 174.88225 171.170906 M 228.183031 -0.00096875 L 228.183031 171.170906 \" transform=\"matrix(1,0,0,-1,12.399,171.417)\"/>\n",
       "<g clip-path=\"url(#clip-1601166393153062-2)\" clip-rule=\"nonzero\">\n",
       "<path style=\"fill:none;stroke-width:0.49814;stroke-linecap:butt;stroke-linejoin:miter;stroke:rgb(13.331604%,13.331604%,33.332825%);stroke-opacity:0.1;stroke-miterlimit:10;\" d=\"M -0.0005625 4.842781 L 243.171312 4.842781 M -0.0005625 56.499031 L 243.171312 56.499031 M -0.0005625 108.155281 L 243.171312 108.155281 M -0.0005625 159.807625 L 243.171312 159.807625 \" transform=\"matrix(1,0,0,-1,12.399,171.417)\"/>\n",
       "</g>\n",
       "<path style=\"fill:none;stroke-width:0.19925;stroke-linecap:butt;stroke-linejoin:miter;stroke:rgb(50%,50%,50%);stroke-opacity:1;stroke-miterlimit:10;\" d=\"M 14.987719 -0.00096875 L 14.987719 4.252937 M 68.284594 -0.00096875 L 68.284594 4.252937 M 121.585375 -0.00096875 L 121.585375 4.252937 M 174.88225 -0.00096875 L 174.88225 4.252937 M 228.183031 -0.00096875 L 228.183031 4.252937 M 14.987719 171.170906 L 14.987719 166.917 M 68.284594 171.170906 L 68.284594 166.917 M 121.585375 171.170906 L 121.585375 166.917 M 174.88225 171.170906 L 174.88225 166.917 M 228.183031 171.170906 L 228.183031 166.917 \" transform=\"matrix(1,0,0,-1,12.399,171.417)\"/>\n",
       "<g clip-path=\"url(#clip-1601166393153062-3)\" clip-rule=\"nonzero\">\n",
       "<path style=\"fill:none;stroke-width:0.19925;stroke-linecap:butt;stroke-linejoin:miter;stroke:rgb(50%,50%,50%);stroke-opacity:1;stroke-miterlimit:10;\" d=\"M -0.0005625 4.842781 L 4.253344 4.842781 M -0.0005625 56.499031 L 4.253344 56.499031 M -0.0005625 108.155281 L 4.253344 108.155281 M -0.0005625 159.807625 L 4.253344 159.807625 M 243.171312 4.842781 L 238.917406 4.842781 M 243.171312 56.499031 L 238.917406 56.499031 M 243.171312 108.155281 L 238.917406 108.155281 M 243.171312 159.807625 L 238.917406 159.807625 \" transform=\"matrix(1,0,0,-1,12.399,171.417)\"/>\n",
       "</g>\n",
       "<g style=\"fill:rgb(0%,0%,0%);fill-opacity:1;\">\n",
       "  <use xlink:href=\"#glyph-1601166393153062-0-1\" x=\"17.733\" y=\"182.229\"/>\n",
       "  <use xlink:href=\"#glyph-1601166393153062-0-2\" x=\"23.292154\" y=\"182.229\"/>\n",
       "  <use xlink:href=\"#glyph-1601166393153062-0-1\" x=\"25.922291\" y=\"182.229\"/>\n",
       "  <use xlink:href=\"#glyph-1601166393153062-0-1\" x=\"31.481445\" y=\"182.229\"/>\n",
       "</g>\n",
       "<g style=\"fill:rgb(0%,0%,0%);fill-opacity:1;\">\n",
       "  <use xlink:href=\"#glyph-1601166393153062-0-1\" x=\"71.031\" y=\"182.241\"/>\n",
       "  <use xlink:href=\"#glyph-1601166393153062-0-2\" x=\"76.590154\" y=\"182.241\"/>\n",
       "  <use xlink:href=\"#glyph-1601166393153062-0-3\" x=\"79.220291\" y=\"182.241\"/>\n",
       "  <use xlink:href=\"#glyph-1601166393153062-0-4\" x=\"84.779446\" y=\"182.241\"/>\n",
       "</g>\n",
       "<g style=\"fill:rgb(0%,0%,0%);fill-opacity:1;\">\n",
       "  <use xlink:href=\"#glyph-1601166393153062-0-1\" x=\"124.329\" y=\"182.241\"/>\n",
       "  <use xlink:href=\"#glyph-1601166393153062-0-2\" x=\"129.888154\" y=\"182.241\"/>\n",
       "  <use xlink:href=\"#glyph-1601166393153062-0-4\" x=\"132.518291\" y=\"182.241\"/>\n",
       "  <use xlink:href=\"#glyph-1601166393153062-0-1\" x=\"138.077446\" y=\"182.241\"/>\n",
       "</g>\n",
       "<g style=\"fill:rgb(0%,0%,0%);fill-opacity:1;\">\n",
       "  <use xlink:href=\"#glyph-1601166393153062-0-1\" x=\"177.627\" y=\"182.277\"/>\n",
       "  <use xlink:href=\"#glyph-1601166393153062-0-2\" x=\"183.186154\" y=\"182.277\"/>\n",
       "  <use xlink:href=\"#glyph-1601166393153062-0-5\" x=\"185.816291\" y=\"182.277\"/>\n",
       "  <use xlink:href=\"#glyph-1601166393153062-0-4\" x=\"191.375445\" y=\"182.277\"/>\n",
       "</g>\n",
       "<g style=\"fill:rgb(0%,0%,0%);fill-opacity:1;\">\n",
       "  <use xlink:href=\"#glyph-1601166393153062-0-6\" x=\"230.926\" y=\"182.229\"/>\n",
       "  <use xlink:href=\"#glyph-1601166393153062-0-2\" x=\"236.485154\" y=\"182.229\"/>\n",
       "  <use xlink:href=\"#glyph-1601166393153062-0-1\" x=\"239.115291\" y=\"182.229\"/>\n",
       "  <use xlink:href=\"#glyph-1601166393153062-0-1\" x=\"244.674445\" y=\"182.229\"/>\n",
       "</g>\n",
       "<g style=\"fill:rgb(0%,0%,0%);fill-opacity:1;\">\n",
       "  <use xlink:href=\"#glyph-1601166393153062-0-1\" x=\"3.321\" y=\"170.159\"/>\n",
       "</g>\n",
       "<g style=\"fill:rgb(0%,0%,0%);fill-opacity:1;\">\n",
       "  <use xlink:href=\"#glyph-1601166393153062-0-6\" x=\"3.321\" y=\"118.541\"/>\n",
       "</g>\n",
       "<g style=\"fill:rgb(0%,0%,0%);fill-opacity:1;\">\n",
       "  <use xlink:href=\"#glyph-1601166393153062-0-3\" x=\"3.321\" y=\"66.899\"/>\n",
       "</g>\n",
       "<g style=\"fill:rgb(0%,0%,0%);fill-opacity:1;\">\n",
       "  <use xlink:href=\"#glyph-1601166393153062-0-7\" x=\"3.321\" y=\"15.197\"/>\n",
       "</g>\n",
       "<g clip-path=\"url(#clip-1601166393153062-4)\" clip-rule=\"nonzero\">\n",
       "<path style=\"fill:none;stroke-width:1.19553;stroke-linecap:butt;stroke-linejoin:miter;stroke:rgb(93.331909%,46.665955%,19.999695%);stroke-opacity:1;stroke-miterlimit:10;\" d=\"M 6.88225 4.850594 L 6.995531 4.850594 L 7.104906 4.8545 L 7.218187 4.8545 L 7.331469 4.858406 L 7.440844 4.862312 L 7.667406 4.870125 L 7.776781 4.877937 L 7.890062 4.881844 L 8.003344 4.893562 L 8.116625 4.901375 L 8.226 4.917 L 8.339281 4.932625 L 8.452562 4.952156 L 8.561937 4.971687 L 8.675219 4.999031 L 8.7885 5.030281 L 8.897875 5.069344 L 9.011156 5.112312 L 9.124437 5.163094 L 9.233812 5.225594 L 9.347094 5.295906 L 9.460375 5.377937 L 9.573656 5.475594 L 9.683031 5.584969 L 9.796312 5.713875 L 9.909594 5.862312 L 10.018969 6.030281 L 10.13225 6.225594 L 10.245531 6.44825 L 10.354906 6.69825 L 10.468187 6.983406 L 10.581469 7.307625 L 10.690844 7.670906 L 10.804125 8.077156 L 10.917406 8.534187 L 11.026781 9.045906 L 11.140062 9.616219 L 11.253344 10.245125 L 11.366625 10.944344 L 11.476 11.713875 L 11.589281 12.561531 L 11.702562 13.491219 L 11.811937 14.506844 L 11.925219 15.616219 L 12.0385 16.815437 L 12.147875 18.120125 L 12.261156 19.526375 L 12.374437 21.042 L 12.483812 22.667 L 12.597094 24.405281 L 12.710375 26.26075 L 12.823656 28.233406 L 12.933031 30.32325 L 13.046312 32.538094 L 13.159594 34.866219 L 13.268969 37.315437 L 13.38225 39.881844 L 13.495531 42.557625 L 13.604906 45.346687 L 13.718187 48.245125 L 13.831469 51.237312 L 13.940844 54.331062 L 14.054125 57.506844 L 14.167406 60.768562 L 14.276781 64.100594 L 14.390062 67.495125 L 14.503344 70.94825 L 14.616625 74.444344 L 14.726 77.975594 L 14.839281 81.530281 L 14.952562 85.096687 L 15.061937 88.670906 L 15.175219 92.233406 L 15.2885 95.776375 L 15.397875 99.292 L 15.511156 102.768562 L 15.624437 106.194344 L 15.733812 109.561531 L 15.847094 112.858406 L 15.960375 116.081062 L 16.073656 119.217781 L 16.183031 122.26075 L 16.296312 125.209969 L 16.409594 128.053719 L 16.518969 130.788094 L 16.63225 133.413094 L 16.745531 135.920906 L 16.854906 138.315437 L 16.968187 140.584969 L 17.081469 142.741219 L 17.190844 144.772469 L 17.304125 146.686531 L 17.417406 148.483406 L 17.530687 150.167 L 17.640062 151.733406 L 17.753344 153.194344 L 17.866625 154.545906 L 17.976 155.792 L 18.089281 156.944344 L 18.202562 157.999031 L 18.311937 158.963875 L 18.425219 159.846687 L 18.5385 160.647469 L 18.647875 161.370125 L 18.761156 162.022469 L 18.874437 162.608406 L 18.983812 163.13575 L 19.097094 163.6045 L 19.210375 164.018562 L 19.323656 164.38575 L 19.433031 164.709969 L 19.546312 164.991219 L 19.659594 165.233406 L 19.768969 165.444344 L 19.88225 165.627937 L 19.995531 165.780281 L 20.104906 165.909187 L 20.218187 166.014656 L 20.331469 166.1045 L 20.440844 166.170906 L 20.554125 166.225594 L 20.667406 166.268562 L 20.780687 166.295906 L 20.890062 166.315437 L 21.003344 166.32325 L 21.116625 166.327156 L 21.226 166.319344 L 21.339281 166.311531 L 21.452562 166.292 L 21.561937 166.272469 L 21.675219 166.249031 L 21.7885 166.221687 L 21.897875 166.194344 L 22.011156 166.163094 L 22.124437 166.127937 L 22.233812 166.092781 L 22.460375 166.022469 L 22.573656 165.983406 L 22.683031 165.944344 L 22.909594 165.866219 L 23.018969 165.827156 L 23.13225 165.784187 L 23.245531 165.745125 L 23.354906 165.702156 L 23.581469 165.616219 L 23.690844 165.57325 L 23.804125 165.526375 L 23.917406 165.483406 L 24.030687 165.436531 L 24.140062 165.389656 L 24.253344 165.338875 L 24.366625 165.292 L 24.476 165.241219 L 24.589281 165.186531 L 24.702562 165.13575 L 24.811937 165.081062 L 24.925219 165.026375 L 25.0385 164.967781 L 25.147875 164.909187 L 25.374437 164.792 L 25.483812 164.7295 L 25.710375 164.6045 L 25.823656 164.538094 L 25.933031 164.471687 L 26.159594 164.338875 L 26.268969 164.272469 L 26.38225 164.202156 L 26.495531 164.13575 L 26.604906 164.065437 L 26.831469 163.924812 L 26.940844 163.8545 L 27.167406 163.713875 L 27.280687 163.639656 L 27.390062 163.569344 L 27.503344 163.499031 L 27.616625 163.424812 L 27.726 163.350594 L 27.839281 163.280281 L 27.952562 163.206062 L 28.061937 163.131844 L 28.2885 162.983406 L 28.397875 162.905281 L 28.511156 162.831062 L 28.624437 162.752937 L 28.733812 162.674812 L 28.847094 162.592781 L 28.960375 162.514656 L 29.073656 162.432625 L 29.183031 162.350594 L 29.409594 162.178719 L 29.518969 162.092781 L 29.745531 161.913094 L 29.854906 161.82325 L 30.081469 161.63575 L 30.190844 161.542 L 30.304125 161.44825 L 30.530687 161.252937 L 30.640062 161.155281 L 30.753344 161.053719 L 30.866625 160.956062 L 30.976 160.8545 L 31.202562 160.651375 L 31.311937 160.549812 L 31.5385 160.346687 L 31.647875 160.245125 L 31.761156 160.147469 L 31.874437 160.045906 L 31.983812 159.944344 L 32.323656 159.639656 L 32.433031 159.542 L 32.659594 159.338875 L 32.768969 159.241219 L 32.88225 159.139656 L 32.995531 159.042 L 33.104906 158.940437 L 33.331469 158.737312 L 33.440844 158.639656 L 33.554125 158.538094 L 33.667406 158.432625 L 33.780687 158.331062 L 33.890062 158.2295 L 34.116625 158.018562 L 34.226 157.913094 L 34.339281 157.807625 L 34.452562 157.69825 L 34.561937 157.588875 L 34.7885 157.370125 L 35.233812 156.924812 L 35.347094 156.807625 L 35.573656 156.581062 L 35.683031 156.463875 L 35.796312 156.346687 L 35.909594 156.233406 L 36.018969 156.116219 L 36.245531 155.881844 L 36.354906 155.764656 L 36.581469 155.530281 L 36.690844 155.413094 L 37.030687 155.061531 L 37.140062 154.944344 L 37.366625 154.709969 L 37.476 154.592781 L 37.589281 154.471687 L 37.702562 154.3545 L 37.811937 154.237312 L 38.0385 153.995125 L 38.147875 153.874031 L 38.374437 153.631844 L 38.483812 153.506844 L 38.823656 153.131844 L 38.933031 153.002937 L 39.159594 152.745125 L 39.268969 152.612312 L 39.38225 152.4795 L 39.495531 152.342781 L 39.604906 152.209969 L 39.718187 152.069344 L 39.831469 151.932625 L 39.940844 151.792 L 40.167406 151.51075 L 40.280687 151.366219 L 40.390062 151.221687 L 40.616625 150.932625 L 40.726 150.788094 L 40.952562 150.491219 L 41.061937 150.342781 L 41.2885 150.045906 L 41.397875 149.897469 L 41.624437 149.600594 L 41.733812 149.452156 L 42.073656 149.006844 L 42.183031 148.858406 L 42.409594 148.561531 L 42.518969 148.413094 L 42.745531 148.116219 L 42.854906 147.967781 L 43.081469 147.670906 L 43.190844 147.518562 L 43.417406 147.221687 L 43.530687 147.069344 L 43.640062 146.917 L 43.753344 146.768562 L 43.866625 146.616219 L 43.976 146.463875 L 44.089281 146.307625 L 44.202562 146.155281 L 44.311937 145.999031 L 44.5385 145.686531 L 44.647875 145.530281 L 44.761156 145.374031 L 44.874437 145.213875 L 44.983812 145.053719 L 45.097094 144.897469 L 45.323656 144.577156 L 45.433031 144.417 L 45.659594 144.096687 L 45.768969 143.936531 L 45.995531 143.616219 L 46.104906 143.456062 L 46.218187 143.299812 L 46.331469 143.139656 L 46.440844 142.9795 L 46.667406 142.667 L 46.780687 142.506844 L 46.890062 142.350594 L 47.116625 142.038094 L 47.226 141.881844 L 47.339281 141.725594 L 47.452562 141.565437 L 47.561937 141.409187 L 47.7885 141.096687 L 47.897875 140.940437 L 48.124437 140.620125 L 48.233812 140.463875 L 48.347094 140.303719 L 48.460375 140.139656 L 48.573656 139.9795 L 48.683031 139.815437 L 48.909594 139.487312 L 49.018969 139.319344 L 49.245531 138.983406 L 49.354906 138.811531 L 49.581469 138.467781 L 49.690844 138.295906 L 49.804125 138.120125 L 49.917406 137.94825 L 50.030687 137.772469 L 50.140062 137.592781 L 50.253344 137.417 L 50.366625 137.237312 L 50.476 137.061531 L 50.702562 136.702156 L 50.811937 136.522469 L 50.925219 136.342781 L 51.0385 136.159187 L 51.147875 135.9795 L 51.374437 135.620125 L 51.483812 135.440437 L 51.597094 135.256844 L 51.823656 134.897469 L 51.933031 134.717781 L 52.046312 134.534187 L 52.159594 134.3545 L 52.268969 134.174812 L 52.38225 133.991219 L 52.495531 133.811531 L 52.604906 133.627937 L 52.718187 133.44825 L 52.831469 133.264656 L 52.940844 133.081062 L 53.280687 132.530281 L 53.390062 132.342781 L 53.503344 132.159187 L 53.616625 131.971687 L 53.726 131.784187 L 53.952562 131.409187 L 54.061937 131.217781 L 54.175219 131.026375 L 54.2885 130.838875 L 54.397875 130.647469 L 54.511156 130.456062 L 54.624437 130.26075 L 54.733812 130.069344 L 54.847094 129.877937 L 54.960375 129.682625 L 55.073656 129.491219 L 55.183031 129.295906 L 55.296312 129.1045 L 55.409594 128.909187 L 55.518969 128.717781 L 55.63225 128.522469 L 55.745531 128.331062 L 55.854906 128.139656 L 56.081469 127.756844 L 56.190844 127.565437 L 56.304125 127.374031 L 56.417406 127.186531 L 56.530687 126.995125 L 56.640062 126.807625 L 56.866625 126.432625 L 56.976 126.245125 L 57.089281 126.057625 L 57.202562 125.874031 L 57.311937 125.686531 L 57.425219 125.502937 L 57.5385 125.315437 L 57.647875 125.131844 L 57.761156 124.944344 L 57.874437 124.76075 L 57.983812 124.57325 L 58.323656 124.01075 L 58.433031 123.82325 L 58.659594 123.44825 L 58.768969 123.256844 L 58.88225 123.065437 L 58.995531 122.877937 L 59.104906 122.682625 L 59.331469 122.299812 L 59.440844 122.1045 L 59.780687 121.518562 L 59.890062 121.32325 L 60.003344 121.124031 L 60.116625 120.928719 L 60.226 120.733406 L 60.339281 120.534187 L 60.452562 120.338875 L 60.561937 120.139656 L 60.675219 119.944344 L 60.7885 119.745125 L 60.897875 119.549812 L 61.011156 119.350594 L 61.124437 119.155281 L 61.233812 118.956062 L 61.573656 118.370125 L 61.683031 118.174812 L 61.796312 117.975594 L 61.909594 117.780281 L 62.018969 117.584969 L 62.245531 117.194344 L 62.354906 116.999031 L 62.468187 116.799812 L 62.581469 116.6045 L 62.690844 116.405281 L 62.804125 116.209969 L 63.030687 115.811531 L 63.140062 115.612312 L 63.253344 115.409187 L 63.366625 115.209969 L 63.476 115.006844 L 63.702562 114.600594 L 63.811937 114.397469 L 63.925219 114.190437 L 64.0385 113.987312 L 64.147875 113.780281 L 64.374437 113.366219 L 64.483812 113.155281 L 64.710375 112.741219 L 64.823656 112.530281 L 64.933031 112.32325 L 65.046312 112.112312 L 65.159594 111.905281 L 65.268969 111.694344 L 65.495531 111.280281 L 65.604906 111.07325 L 65.718187 110.862312 L 65.831469 110.659187 L 65.940844 110.452156 L 66.167406 110.038094 L 66.280687 109.834969 L 66.390062 109.627937 L 66.616625 109.221687 L 66.726 109.018562 L 66.952562 108.612312 L 67.061937 108.413094 L 67.2885 108.006844 L 67.397875 107.803719 L 67.511156 107.6045 L 67.624437 107.401375 L 67.733812 107.19825 L 67.847094 106.999031 L 68.073656 106.592781 L 68.183031 106.389656 L 68.409594 105.983406 L 68.518969 105.780281 L 68.63225 105.57325 L 68.745531 105.370125 L 68.854906 105.163094 L 68.968187 104.959969 L 69.081469 104.752937 L 69.190844 104.545906 L 69.304125 104.338875 L 69.417406 104.13575 L 69.530687 103.928719 L 69.640062 103.721687 L 69.866625 103.307625 L 69.976 103.100594 L 70.089281 102.897469 L 70.202562 102.690437 L 70.311937 102.483406 L 70.425219 102.280281 L 70.5385 102.07325 L 70.647875 101.870125 L 70.874437 101.463875 L 70.983812 101.26075 L 71.097094 101.057625 L 71.210375 100.858406 L 71.323656 100.655281 L 71.433031 100.456062 L 71.546312 100.252937 L 71.659594 100.053719 L 71.768969 99.8545 L 71.995531 99.456062 L 72.104906 99.256844 L 72.218187 99.053719 L 72.331469 98.8545 L 72.440844 98.655281 L 72.780687 98.057625 L 72.890062 97.8545 L 73.003344 97.655281 L 73.116625 97.452156 L 73.226 97.249031 L 73.452562 96.842781 L 73.561937 96.639656 L 73.675219 96.436531 L 73.7885 96.2295 L 73.897875 96.026375 L 74.124437 95.612312 L 74.233812 95.405281 L 74.347094 95.202156 L 74.460375 94.991219 L 74.573656 94.784187 L 74.683031 94.577156 L 74.909594 94.163094 L 75.018969 93.956062 L 75.245531 93.542 L 75.354906 93.334969 L 75.468187 93.131844 L 75.581469 92.924812 L 75.690844 92.717781 L 75.917406 92.311531 L 76.030687 92.1045 L 76.140062 91.901375 L 76.253344 91.69825 L 76.366625 91.499031 L 76.476 91.295906 L 76.702562 90.889656 L 76.811937 90.690437 L 77.0385 90.284187 L 77.147875 90.084969 L 77.261156 89.881844 L 77.374437 89.682625 L 77.483812 89.4795 L 77.823656 88.870125 L 77.933031 88.667 L 78.159594 88.26075 L 78.268969 88.057625 L 78.38225 87.8545 L 78.495531 87.647469 L 78.604906 87.444344 L 78.831469 87.030281 L 78.940844 86.827156 L 79.167406 86.413094 L 79.280687 86.209969 L 79.390062 86.002937 L 79.503344 85.799812 L 79.616625 85.592781 L 79.726 85.389656 L 79.839281 85.186531 L 79.952562 84.9795 L 80.061937 84.776375 L 80.175219 84.577156 L 80.2885 84.374031 L 80.397875 84.174812 L 80.511156 83.971687 L 80.624437 83.772469 L 80.733812 83.57325 L 80.847094 83.377937 L 80.960375 83.178719 L 81.073656 82.983406 L 81.183031 82.784187 L 81.409594 82.393562 L 81.518969 82.202156 L 81.745531 81.811531 L 81.854906 81.620125 L 81.968187 81.428719 L 82.081469 81.233406 L 82.190844 81.042 L 82.304125 80.850594 L 82.417406 80.655281 L 82.530687 80.463875 L 82.640062 80.272469 L 82.753344 80.077156 L 82.866625 79.88575 L 82.976 79.694344 L 83.089281 79.499031 L 83.202562 79.307625 L 83.311937 79.112312 L 83.425219 78.920906 L 83.5385 78.725594 L 83.647875 78.534187 L 83.874437 78.143562 L 83.983812 77.952156 L 84.210375 77.561531 L 84.323656 77.370125 L 84.433031 77.174812 L 84.546312 76.983406 L 84.659594 76.788094 L 84.768969 76.596687 L 84.88225 76.405281 L 84.995531 76.209969 L 85.104906 76.018562 L 85.218187 75.827156 L 85.331469 75.639656 L 85.440844 75.44825 L 85.554125 75.256844 L 85.780687 74.881844 L 85.890062 74.690437 L 86.116625 74.315437 L 86.226 74.127937 L 86.339281 73.944344 L 86.452562 73.756844 L 86.561937 73.569344 L 86.675219 73.381844 L 86.7885 73.19825 L 86.897875 73.01075 L 87.124437 72.63575 L 87.233812 72.452156 L 87.573656 71.889656 L 87.683031 71.702156 L 87.796312 71.514656 L 87.909594 71.32325 L 88.018969 71.13575 L 88.13225 70.944344 L 88.245531 70.756844 L 88.354906 70.565437 L 88.468187 70.374031 L 88.581469 70.186531 L 88.690844 69.995125 L 89.030687 69.420906 L 89.140062 69.2295 L 89.366625 68.846687 L 89.476 68.659187 L 89.702562 68.276375 L 89.811937 68.088875 L 89.925219 67.897469 L 90.0385 67.709969 L 90.147875 67.522469 L 90.374437 67.147469 L 90.483812 66.963875 L 90.597094 66.776375 L 90.823656 66.409187 L 90.933031 66.225594 L 91.046312 66.042 L 91.159594 65.862312 L 91.268969 65.678719 L 91.495531 65.319344 L 91.604906 65.13575 L 91.718187 64.956062 L 91.831469 64.780281 L 91.940844 64.600594 L 92.280687 64.061531 L 92.390062 63.88575 L 92.503344 63.706062 L 92.616625 63.530281 L 92.726 63.350594 L 92.839281 63.170906 L 92.952562 62.995125 L 93.061937 62.815437 L 93.175219 62.639656 L 93.2885 62.459969 L 93.397875 62.284187 L 93.511156 62.108406 L 93.624437 61.928719 L 93.733812 61.752937 L 94.073656 61.225594 L 94.183031 61.049812 L 94.296312 60.874031 L 94.409594 60.702156 L 94.518969 60.530281 L 94.63225 60.3545 L 94.745531 60.182625 L 94.854906 60.014656 L 95.081469 59.670906 L 95.190844 59.502937 L 95.417406 59.167 L 95.530687 59.002937 L 95.640062 58.834969 L 95.866625 58.506844 L 95.976 58.342781 L 96.202562 58.014656 L 96.311937 57.850594 L 96.425219 57.686531 L 96.5385 57.526375 L 96.647875 57.362312 L 96.761156 57.19825 L 96.874437 57.038094 L 96.987719 56.874031 L 97.097094 56.713875 L 97.323656 56.38575 L 97.433031 56.225594 L 97.659594 55.897469 L 97.768969 55.733406 L 97.995531 55.405281 L 98.104906 55.241219 L 98.331469 54.913094 L 98.440844 54.749031 L 98.554125 54.581062 L 98.780687 54.252937 L 98.890062 54.084969 L 99.116625 53.756844 L 99.226 53.592781 L 99.452562 53.264656 L 99.561937 53.100594 L 99.7885 52.772469 L 99.897875 52.608406 L 100.011156 52.44825 L 100.124437 52.284187 L 100.237719 52.124031 L 100.347094 51.959969 L 100.573656 51.639656 L 100.683031 51.4795 L 100.796312 51.319344 L 100.909594 51.163094 L 101.018969 51.002937 L 101.13225 50.842781 L 101.245531 50.686531 L 101.354906 50.530281 L 101.468187 50.370125 L 101.581469 50.213875 L 101.690844 50.057625 L 101.804125 49.901375 L 101.917406 49.741219 L 102.030687 49.584969 L 102.140062 49.428719 L 102.366625 49.116219 L 102.476 48.959969 L 102.702562 48.647469 L 102.811937 48.491219 L 103.0385 48.178719 L 103.147875 48.026375 L 103.374437 47.713875 L 103.487719 47.561531 L 103.597094 47.405281 L 103.823656 47.100594 L 103.933031 46.94825 L 104.159594 46.643562 L 104.268969 46.491219 L 104.495531 46.194344 L 104.604906 46.045906 L 104.831469 45.749031 L 104.940844 45.6045 L 105.280687 45.170906 L 105.390062 45.026375 L 105.616625 44.745125 L 105.726 44.6045 L 105.839281 44.463875 L 105.952562 44.327156 L 106.061937 44.186531 L 106.2885 43.913094 L 106.397875 43.772469 L 106.737719 43.362312 L 106.847094 43.2295 L 107.073656 42.956062 L 107.183031 42.819344 L 107.409594 42.545906 L 107.518969 42.409187 L 107.63225 42.276375 L 107.745531 42.139656 L 107.854906 42.002937 L 108.081469 41.7295 L 108.190844 41.592781 L 108.304125 41.456062 L 108.417406 41.32325 L 108.530687 41.186531 L 108.640062 41.049812 L 108.753344 40.913094 L 108.866625 40.780281 L 108.976 40.643562 L 109.089281 40.506844 L 109.202562 40.374031 L 109.311937 40.241219 L 109.425219 40.1045 L 109.5385 39.971687 L 109.647875 39.838875 L 109.874437 39.57325 L 109.987719 39.444344 L 110.097094 39.311531 L 110.210375 39.182625 L 110.323656 39.049812 L 110.433031 38.920906 L 110.659594 38.663094 L 110.768969 38.534187 L 110.995531 38.276375 L 111.104906 38.147469 L 111.331469 37.889656 L 111.440844 37.76075 L 111.780687 37.374031 L 111.890062 37.249031 L 112.116625 36.991219 L 112.226 36.862312 L 112.452562 36.6045 L 112.561937 36.475594 L 112.7885 36.217781 L 112.897875 36.088875 L 113.011156 35.959969 L 113.124437 35.834969 L 113.237719 35.706062 L 113.347094 35.577156 L 113.460375 35.452156 L 113.573656 35.32325 L 113.683031 35.19825 L 113.796312 35.069344 L 113.909594 34.944344 L 114.018969 34.819344 L 114.13225 34.694344 L 114.245531 34.57325 L 114.354906 34.44825 L 114.581469 34.206062 L 114.690844 34.084969 L 114.917406 33.842781 L 115.030687 33.725594 L 115.140062 33.608406 L 115.366625 33.374031 L 115.476 33.256844 L 115.589281 33.143562 L 115.702562 33.026375 L 115.811937 32.913094 L 116.0385 32.686531 L 116.147875 32.57325 L 116.261156 32.459969 L 116.374437 32.350594 L 116.710375 32.014656 L 116.823656 31.905281 L 116.933031 31.792 L 117.159594 31.57325 L 117.268969 31.463875 L 117.495531 31.245125 L 117.604906 31.13575 L 117.831469 30.917 L 117.940844 30.807625 L 118.054125 30.69825 L 118.167406 30.592781 L 118.280687 30.483406 L 118.390062 30.377937 L 118.503344 30.268562 L 118.616625 30.163094 L 118.726 30.057625 L 118.839281 29.94825 L 118.952562 29.842781 L 119.061937 29.737312 L 119.175219 29.63575 L 119.2885 29.530281 L 119.397875 29.424812 L 119.624437 29.221687 L 119.737719 29.116219 L 119.847094 29.014656 L 119.960375 28.917 L 120.073656 28.815437 L 120.183031 28.713875 L 120.296312 28.612312 L 120.409594 28.514656 L 120.518969 28.417 L 120.63225 28.315437 L 120.745531 28.217781 L 120.854906 28.120125 L 121.081469 27.924812 L 121.190844 27.82325 L 121.530687 27.530281 L 121.640062 27.432625 L 121.866625 27.237312 L 121.976 27.139656 L 122.202562 26.944344 L 122.311937 26.846687 L 122.425219 26.745125 L 122.5385 26.647469 L 122.647875 26.549812 L 122.874437 26.3545 L 122.987719 26.252937 L 123.097094 26.155281 L 123.323656 25.959969 L 123.433031 25.862312 L 123.659594 25.667 L 123.768969 25.57325 L 123.995531 25.377937 L 124.104906 25.284187 L 124.218187 25.190437 L 124.331469 25.092781 L 124.440844 24.999031 L 124.554125 24.905281 L 124.667406 24.815437 L 124.780687 24.721687 L 124.890062 24.627937 L 125.116625 24.44825 L 125.226 24.358406 L 125.452562 24.178719 L 125.561937 24.088875 L 125.7885 23.909187 L 125.897875 23.82325 L 126.011156 23.733406 L 126.124437 23.647469 L 126.237719 23.557625 L 126.347094 23.471687 L 126.573656 23.299812 L 126.683031 23.209969 L 126.909594 23.038094 L 127.018969 22.952156 L 127.245531 22.780281 L 127.354906 22.694344 L 127.581469 22.522469 L 127.690844 22.436531 L 127.804125 22.350594 L 127.917406 22.268562 L 128.030687 22.182625 L 128.140062 22.100594 L 128.253344 22.014656 L 128.366625 21.932625 L 128.476 21.850594 L 128.702562 21.686531 L 128.811937 21.6045 L 128.925219 21.522469 L 129.0385 21.444344 L 129.147875 21.366219 L 129.261156 21.284187 L 129.487719 21.127937 L 129.597094 21.049812 L 129.710375 20.975594 L 129.823656 20.897469 L 129.933031 20.82325 L 130.046312 20.745125 L 130.159594 20.670906 L 130.268969 20.596687 L 130.495531 20.44825 L 130.604906 20.374031 L 130.718187 20.303719 L 130.831469 20.2295 L 130.940844 20.155281 L 131.054125 20.084969 L 131.280687 19.936531 L 131.390062 19.866219 L 131.503344 19.792 L 131.616625 19.721687 L 131.726 19.647469 L 131.952562 19.506844 L 132.061937 19.432625 L 132.2885 19.292 L 132.397875 19.217781 L 132.624437 19.077156 L 132.737719 19.002937 L 132.847094 18.932625 L 133.073656 18.792 L 133.183031 18.721687 L 133.409594 18.581062 L 133.518969 18.51075 L 133.63225 18.444344 L 133.745531 18.374031 L 133.854906 18.307625 L 133.968187 18.237312 L 134.081469 18.170906 L 134.190844 18.100594 L 134.530687 17.901375 L 134.640062 17.834969 L 134.753344 17.772469 L 134.866625 17.706062 L 134.976 17.639656 L 135.089281 17.577156 L 135.202562 17.51075 L 135.311937 17.44825 L 135.425219 17.38575 L 135.5385 17.319344 L 135.647875 17.256844 L 135.987719 17.069344 L 136.097094 17.006844 L 136.210375 16.944344 L 136.323656 16.877937 L 136.433031 16.815437 L 136.659594 16.690437 L 136.768969 16.627937 L 136.995531 16.502937 L 137.104906 16.440437 L 137.331469 16.315437 L 137.440844 16.252937 L 137.780687 16.065437 L 137.890062 16.002937 L 138.003344 15.940437 L 138.116625 15.881844 L 138.226 15.819344 L 138.339281 15.756844 L 138.452562 15.69825 L 138.561937 15.63575 L 138.7885 15.518562 L 138.897875 15.459969 L 139.124437 15.342781 L 139.237719 15.288094 L 139.347094 15.2295 L 139.460375 15.174812 L 139.573656 15.116219 L 139.683031 15.061531 L 139.909594 14.952156 L 140.018969 14.897469 L 140.13225 14.842781 L 140.245531 14.792 L 140.354906 14.737312 L 140.468187 14.682625 L 140.581469 14.631844 L 140.690844 14.581062 L 140.804125 14.526375 L 141.030687 14.424812 L 141.140062 14.370125 L 141.366625 14.268562 L 141.476 14.217781 L 141.589281 14.163094 L 141.702562 14.112312 L 141.811937 14.061531 L 142.0385 13.959969 L 142.147875 13.909187 L 142.374437 13.807625 L 142.487719 13.76075 L 142.597094 13.709969 L 142.823656 13.608406 L 142.933031 13.561531 L 143.046312 13.51075 L 143.159594 13.463875 L 143.268969 13.417 L 143.495531 13.32325 L 143.604906 13.276375 L 143.831469 13.182625 L 143.940844 13.13575 L 144.054125 13.092781 L 144.167406 13.045906 L 144.280687 13.002937 L 144.390062 12.959969 L 144.616625 12.874031 L 144.726 12.827156 L 144.839281 12.784187 L 144.952562 12.745125 L 145.061937 12.702156 L 145.2885 12.616219 L 145.397875 12.57325 L 145.511156 12.530281 L 145.624437 12.491219 L 145.737719 12.44825 L 145.847094 12.405281 L 145.960375 12.362312 L 146.073656 12.32325 L 146.183031 12.280281 L 146.409594 12.194344 L 146.518969 12.155281 L 146.745531 12.069344 L 146.854906 12.026375 L 147.081469 11.940437 L 147.190844 11.901375 L 147.530687 11.772469 L 147.640062 11.7295 L 147.753344 11.686531 L 147.866625 11.647469 L 147.976 11.6045 L 148.089281 11.561531 L 148.202562 11.522469 L 148.311937 11.4795 L 148.425219 11.436531 L 148.5385 11.397469 L 148.647875 11.358406 L 148.761156 11.315437 L 148.987719 11.237312 L 149.097094 11.194344 L 149.323656 11.116219 L 149.433031 11.077156 L 149.546312 11.042 L 149.659594 11.002937 L 149.768969 10.963875 L 149.88225 10.924812 L 149.995531 10.889656 L 150.104906 10.850594 L 150.218187 10.811531 L 150.331469 10.776375 L 150.440844 10.737312 L 150.554125 10.702156 L 150.667406 10.663094 L 150.780687 10.627937 L 150.890062 10.592781 L 151.003344 10.553719 L 151.116625 10.518562 L 151.226 10.483406 L 151.339281 10.444344 L 151.452562 10.409187 L 151.561937 10.374031 L 151.675219 10.338875 L 151.7885 10.299812 L 151.897875 10.264656 L 152.237719 10.159187 L 152.347094 10.124031 L 152.573656 10.053719 L 152.683031 10.018562 L 152.796312 9.987312 L 152.909594 9.952156 L 153.018969 9.920906 L 153.13225 9.88575 L 153.245531 9.8545 L 153.354906 9.82325 L 153.468187 9.788094 L 153.581469 9.756844 L 153.690844 9.7295 L 153.917406 9.667 L 154.030687 9.639656 L 154.140062 9.608406 L 154.253344 9.581062 L 154.366625 9.549812 L 154.476 9.522469 L 154.702562 9.467781 L 154.811937 9.440437 L 155.0385 9.38575 L 155.147875 9.362312 L 155.487719 9.280281 L 155.597094 9.256844 L 155.823656 9.202156 L 155.933031 9.178719 L 156.159594 9.124031 L 156.268969 9.100594 L 156.495531 9.045906 L 156.604906 9.022469 L 156.831469 8.967781 L 156.940844 8.944344 L 157.167406 8.889656 L 157.280687 8.866219 L 157.390062 8.838875 L 157.503344 8.811531 L 157.616625 8.788094 L 157.726 8.76075 L 157.839281 8.737312 L 157.952562 8.709969 L 158.061937 8.686531 L 158.175219 8.663094 L 158.2885 8.63575 L 158.397875 8.612312 L 158.511156 8.588875 L 158.624437 8.561531 L 158.737719 8.538094 L 158.847094 8.514656 L 159.073656 8.467781 L 159.183031 8.444344 L 159.409594 8.397469 L 159.518969 8.374031 L 159.745531 8.327156 L 159.854906 8.303719 L 160.081469 8.256844 L 160.190844 8.233406 L 160.530687 8.163094 L 160.640062 8.139656 L 160.866625 8.092781 L 160.976 8.065437 L 161.202562 8.018562 L 161.311937 7.995125 L 161.5385 7.94825 L 161.647875 7.924812 L 161.987719 7.8545 L 162.097094 7.831062 L 162.210375 7.807625 L 162.323656 7.788094 L 162.433031 7.764656 L 162.659594 7.717781 L 162.768969 7.69825 L 162.88225 7.674812 L 162.995531 7.655281 L 163.104906 7.631844 L 163.44475 7.57325 L 163.554125 7.553719 L 163.780687 7.514656 L 163.890062 7.495125 L 164.003344 7.475594 L 164.116625 7.459969 L 164.226 7.440437 L 164.339281 7.420906 L 164.452562 7.405281 L 164.561937 7.389656 L 164.675219 7.370125 L 164.7885 7.3545 L 164.897875 7.338875 L 165.011156 7.319344 L 165.237719 7.288094 L 165.347094 7.272469 L 165.573656 7.241219 L 165.683031 7.225594 L 165.796312 7.209969 L 165.909594 7.190437 L 166.018969 7.174812 L 166.245531 7.143562 L 166.354906 7.127937 L 166.69475 7.081062 L 166.804125 7.065437 L 167.030687 7.034187 L 167.140062 7.018562 L 167.366625 6.987312 L 167.476 6.975594 L 167.702562 6.944344 L 167.811937 6.928719 L 167.925219 6.913094 L 168.0385 6.901375 L 168.147875 6.88575 L 168.261156 6.874031 L 168.487719 6.842781 L 168.597094 6.831062 L 168.710375 6.819344 L 168.823656 6.803719 L 168.933031 6.792 L 169.046312 6.776375 L 169.159594 6.764656 L 169.268969 6.752937 L 169.38225 6.737312 L 169.495531 6.725594 L 169.604906 6.709969 L 169.831469 6.686531 L 169.94475 6.670906 L 170.054125 6.659187 L 170.167406 6.643562 L 170.280687 6.631844 L 170.390062 6.616219 L 170.503344 6.6045 L 170.616625 6.588875 L 170.726 6.577156 L 170.839281 6.561531 L 170.952562 6.549812 L 171.061937 6.534187 L 171.175219 6.518562 L 171.2885 6.506844 L 171.397875 6.491219 L 171.511156 6.475594 L 171.624437 6.463875 L 171.737719 6.44825 L 171.847094 6.432625 L 171.960375 6.420906 L 172.073656 6.405281 L 172.183031 6.393562 L 172.296312 6.377937 L 172.409594 6.366219 L 172.518969 6.350594 L 172.63225 6.338875 L 172.745531 6.32325 L 172.854906 6.311531 L 173.19475 6.276375 L 173.304125 6.26075 L 173.530687 6.237312 L 173.640062 6.225594 L 173.753344 6.213875 L 173.866625 6.206062 L 173.976 6.194344 L 174.202562 6.170906 L 174.311937 6.159187 L 174.425219 6.151375 L 174.5385 6.139656 L 174.647875 6.127937 L 174.761156 6.116219 L 174.874437 6.108406 L 174.987719 6.096687 L 175.097094 6.084969 L 175.210375 6.077156 L 175.323656 6.065437 L 175.433031 6.053719 L 175.546312 6.045906 L 175.659594 6.034187 L 175.768969 6.026375 L 175.995531 6.002937 L 176.104906 5.995125 L 176.218187 5.983406 L 176.331469 5.975594 L 176.44475 5.963875 L 176.554125 5.956062 L 176.667406 5.944344 L 176.780687 5.936531 L 176.890062 5.928719 L 177.003344 5.917 L 177.116625 5.909187 L 177.226 5.901375 L 177.339281 5.889656 L 177.452562 5.881844 L 177.561937 5.874031 L 177.7885 5.858406 L 177.897875 5.850594 L 178.237719 5.827156 L 178.347094 5.819344 L 178.573656 5.803719 L 178.683031 5.799812 L 178.909594 5.784187 L 179.018969 5.776375 L 179.13225 5.772469 L 179.245531 5.764656 L 179.354906 5.756844 L 179.468187 5.752937 L 179.69475 5.737312 L 179.804125 5.733406 L 180.030687 5.717781 L 180.140062 5.713875 L 180.366625 5.69825 L 180.476 5.694344 L 180.702562 5.678719 L 180.811937 5.670906 L 180.925219 5.667 L 181.0385 5.659187 L 181.147875 5.651375 L 181.261156 5.643562 L 181.374437 5.639656 L 181.487719 5.631844 L 181.597094 5.624031 L 181.710375 5.616219 L 181.823656 5.612312 L 181.933031 5.6045 L 182.159594 5.588875 L 182.268969 5.584969 L 182.495531 5.569344 L 182.604906 5.565437 L 182.718187 5.557625 L 182.831469 5.553719 L 182.94475 5.545906 L 183.054125 5.538094 L 183.167406 5.534187 L 183.280687 5.526375 L 183.390062 5.522469 L 183.503344 5.514656 L 183.616625 5.51075 L 183.726 5.502937 L 183.952562 5.495125 L 184.061937 5.487312 L 184.175219 5.483406 L 184.2885 5.475594 L 184.397875 5.471687 L 184.511156 5.463875 L 184.624437 5.459969 L 184.737719 5.452156 L 184.847094 5.44825 L 184.960375 5.444344 L 185.073656 5.436531 L 185.183031 5.432625 L 185.296312 5.424812 L 185.409594 5.420906 L 185.518969 5.413094 L 185.63225 5.409187 L 185.745531 5.401375 L 185.854906 5.397469 L 185.968187 5.389656 L 186.081469 5.38575 L 186.19475 5.377937 L 186.304125 5.374031 L 186.417406 5.366219 L 186.530687 5.362312 L 186.640062 5.3545 L 186.866625 5.346687 L 186.976 5.338875 L 187.202562 5.331062 L 187.311937 5.327156 L 187.425219 5.319344 L 187.5385 5.315437 L 187.647875 5.311531 L 187.987719 5.299812 L 188.097094 5.295906 L 188.323656 5.288094 L 188.433031 5.284187 L 188.659594 5.276375 L 188.768969 5.272469 L 188.995531 5.264656 L 189.104906 5.26075 L 189.44475 5.249031 L 189.554125 5.245125 L 189.667406 5.245125 L 189.780687 5.241219 L 189.890062 5.237312 L 190.116625 5.2295 L 190.226 5.225594 L 190.452562 5.217781 L 190.561937 5.213875 L 190.7885 5.206062 L 190.897875 5.202156 L 191.237719 5.190437 L 191.347094 5.186531 L 191.460375 5.186531 L 191.573656 5.182625 L 191.683031 5.178719 L 191.909594 5.170906 L 192.018969 5.167 L 192.13225 5.167 L 192.245531 5.163094 L 192.354906 5.159187 L 192.581469 5.151375 L 192.69475 5.151375 L 192.804125 5.147469 L 192.917406 5.143562 L 193.030687 5.143562 L 193.140062 5.139656 L 193.253344 5.13575 L 193.366625 5.13575 L 193.476 5.131844 L 193.589281 5.127937 L 193.702562 5.127937 L 193.811937 5.124031 L 193.925219 5.120125 L 194.0385 5.120125 L 194.147875 5.116219 L 194.261156 5.112312 L 194.374437 5.112312 L 194.487719 5.108406 L 194.597094 5.1045 L 194.710375 5.1045 L 194.823656 5.100594 L 194.933031 5.096687 L 195.046312 5.096687 L 195.159594 5.092781 L 195.268969 5.088875 L 195.38225 5.088875 L 195.495531 5.084969 L 195.604906 5.081062 L 195.718187 5.077156 L 195.831469 5.077156 L 195.94475 5.07325 L 196.054125 5.069344 L 196.167406 5.065437 L 196.280687 5.065437 L 196.390062 5.061531 L 196.503344 5.057625 L 196.616625 5.057625 L 196.726 5.053719 L 196.839281 5.049812 L 196.952562 5.049812 L 197.061937 5.045906 L 197.175219 5.042 L 197.2885 5.042 L 197.397875 5.038094 L 197.511156 5.038094 L 197.737719 5.030281 L 197.847094 5.030281 L 197.960375 5.026375 L 198.073656 5.026375 L 198.183031 5.022469 L 198.296312 5.022469 L 198.409594 5.018562 L 198.518969 5.018562 L 198.63225 5.014656 L 198.745531 5.014656 L 198.854906 5.01075 L 198.968187 5.01075 L 199.081469 5.006844 L 199.19475 5.006844 L 199.304125 5.002937 L 199.417406 5.002937 L 199.530687 4.999031 L 199.640062 4.995125 L 199.753344 4.995125 L 199.866625 4.991219 L 199.976 4.991219 L 200.089281 4.987312 L 200.202562 4.987312 L 200.311937 4.983406 L 200.425219 4.983406 L 200.5385 4.9795 L 200.647875 4.9795 L 200.761156 4.975594 L 200.874437 4.975594 L 200.987719 4.971687 L 201.097094 4.971687 L 201.210375 4.967781 L 201.433031 4.967781 L 201.546312 4.963875 L 201.768969 4.963875 L 201.88225 4.959969 L 202.104906 4.959969 L 202.218187 4.956062 L 202.554125 4.956062 L 202.667406 4.952156 L 203.116625 4.952156 L 203.226 4.94825 L 203.7885 4.94825 L 203.897875 4.944344 L 204.347094 4.944344 L 204.460375 4.940437 L 204.909594 4.940437 L 205.018969 4.936531 L 205.468187 4.936531 L 205.581469 4.932625 L 206.030687 4.932625 L 206.140062 4.928719 L 206.589281 4.928719 L 206.702562 4.924812 L 207.147875 4.924812 L 207.261156 4.920906 L 207.710375 4.920906 L 207.823656 4.917 L 208.268969 4.917 L 208.38225 4.913094 L 208.831469 4.913094 L 208.94475 4.909187 L 209.280687 4.909187 L 209.390062 4.905281 L 209.726 4.905281 L 209.839281 4.901375 L 210.061937 4.901375 L 210.175219 4.897469 L 210.397875 4.897469 L 210.511156 4.893562 L 210.847094 4.893562 L 210.960375 4.889656 L 211.183031 4.889656 L 211.296312 4.88575 L 211.63225 4.88575 L 211.745531 4.881844 L 212.19475 4.881844 L 212.304125 4.877937 L 212.753344 4.877937 L 212.866625 4.874031 L 213.425219 4.874031 L 213.5385 4.870125 L 214.433031 4.870125 L 214.546312 4.866219 L 219.476 4.866219 L 219.589281 4.862312 L 220.147875 4.862312 L 220.261156 4.858406 L 220.823656 4.858406 L 220.933031 4.8545 L 221.604906 4.8545 L 221.718187 4.850594 L 222.616625 4.850594 L 222.726 4.846687 L 225.753344 4.846687 L 225.866625 4.850594 L 230.460375 4.850594 L 230.573656 4.846687 L 233.0385 4.846687 L 233.147875 4.842781 L 235.167406 4.842781 L 235.280687 4.846687 L 236.2885 4.846687 \" transform=\"matrix(1,0,0,-1,12.399,171.417)\"/>\n",
       "</g>\n",
       "<path style=\"fill-rule:nonzero;fill:rgb(100%,100%,100%);fill-opacity:0.9;stroke-width:0.99628;stroke-linecap:butt;stroke-linejoin:miter;stroke:rgb(13.331604%,13.331604%,33.332825%);stroke-opacity:0.1;stroke-miterlimit:10;\" d=\"M 197.925219 152.499031 L 237.808031 152.499031 L 237.808031 167.249031 L 197.925219 167.249031 Z M 197.925219 152.499031 \" transform=\"matrix(1,0,0,-1,12.399,171.417)\"/>\n",
       "<path style=\"fill:none;stroke-width:1.19553;stroke-linecap:butt;stroke-linejoin:miter;stroke:rgb(93.331909%,46.665955%,19.999695%);stroke-opacity:1;stroke-miterlimit:10;\" d=\"M -0.00175 -0.001875 L 17.009969 -0.001875 \" transform=\"matrix(1,0,0,-1,213.908,11.545)\"/>\n",
       "<g style=\"fill:rgb(13.331604%,13.331604%,33.332825%);fill-opacity:1;\">\n",
       "  <use xlink:href=\"#glyph-1601166393153062-1-1\" x=\"233.507\" y=\"13.44\"/>\n",
       "  <use xlink:href=\"#glyph-1601166393153062-1-2\" x=\"239.663913\" y=\"13.44\"/>\n",
       "</g>\n",
       "</g>\n",
       "</svg>\n",
       "\n"
      ]
     },
     "execution_count": 248,
     "metadata": {},
     "output_type": "execute_result"
    }
   ],
   "source": [
    "using KernelDensity\n",
    "ΔE_kde = kde(mid.(ΔEs(12)))\n",
    "plot(ΔE_kde.x, ΔE_kde.density)"
   ]
  },
  {
   "cell_type": "markdown",
   "metadata": {
    "hidden": true
   },
   "source": [
    "This rigorously shows that the smallest $\\Delta E$ is either within the first interval (nonzero) or the second interval (very close to zero)."
   ]
  },
  {
   "cell_type": "code",
   "execution_count": 249,
   "metadata": {
    "hidden": true
   },
   "outputs": [
    {
     "data": {
      "text/plain": [
       "14-element Array{Pair{Int64,Tuple{Interval{Float64},Interval{Float64}}},1}:\n",
       "  2 => (0.25 ± 5.55112e-17, 0 ± 0)\n",
       "  3 => (0.0717968 ± 1.80412e-16, 1.03051e-16 ± 1.03052e-16)\n",
       "  4 => (0.027864 ± 7.28584e-17, 5.24176e-17 ± 5.24177e-17)\n",
       "  5 => (0.0149333 ± 8.84709e-17, 6.25437e-17 ± 6.25438e-17)\n",
       "  6 => (0.00676561 ± 8.93383e-17, 1.04446e-16 ± 1.04446e-16)\n",
       "  7 => (0.00492663 ± 9.1073e-17, 8.94574e-17 ± 8.94575e-17)\n",
       "  8 => (8.75569e-05 ± 8.4866e-17, 6.52487e-17 ± 6.52487e-17)\n",
       "  9 => (0.000111021 ± 1.21851e-16, 1.56578e-16 ± 1.56578e-16)\n",
       " 10 => (0.000484994 ± 8.89588e-17, 1.0961e-16 ± 1.09611e-16)\n",
       " 11 => (0.000260287 ± 1.94777e-16, 1.66072e-16 ± 1.66073e-16)\n",
       " 12 => (4.47363e-05 ± 1.13123e-16, 1.34836e-16 ± 1.34837e-16)\n",
       " 13 => (2.69225e-05 ± 1.96756e-16, 1.76658e-16 ± 1.76659e-16)\n",
       " 14 => (6.73035e-07 ± 1.60313e-16, 1.67768e-16 ± 1.67769e-16)\n",
       " 15 => (1.19663e-07 ± 1.53104e-16, 1.67022e-16 ± 1.67023e-16)"
      ]
     },
     "execution_count": 249,
     "metadata": {},
     "output_type": "execute_result"
    }
   ],
   "source": [
    "[NE => foldr((x, (m, z)) -> 0 ∈ x ? (m, x ∪ z) : (min(x, m), z), ΔEs(NE), init=(@interval(Inf), @interval(0))) for NE in 2:15]"
   ]
  },
  {
   "cell_type": "markdown",
   "metadata": {
    "hidden": true
   },
   "source": [
    "From the plot, we can derive an approximate lower bound for the smallest energy spacing. From the small $N$ plots, it is clear that the energy differences are not uniformly separated. However, the \\textsc{cdf} (from sorted indices) is uniformly spaced. Since we have computed $3^N$ energy differences, we may then expect the typical spacing between $\\Delta E$ values at $x$ to be $Q'(x) 3^{-N}$, where $Q(x)$ is the quantile function (inverse \\textsc{cdf}). Suppose that for large $N$, $Q'(0) \\to k$. From the plots, we estimate that $k > 1/3$. We may then make the following estimates:"
   ]
  },
  {
   "cell_type": "code",
   "execution_count": 250,
   "metadata": {
    "hidden": true
   },
   "outputs": [
    {
     "data": {
      "text/plain": [
       "14-element Array{Pair{Int64,Float64},1}:\n",
       "  2 => 0.037037037037037035\n",
       "  3 => 0.012345679012345678\n",
       "  4 => 0.004115226337448559\n",
       "  5 => 0.0013717421124828533\n",
       "  6 => 0.00045724737082761767\n",
       "  7 => 0.00015241579027587256\n",
       "  8 => 5.080526342529086e-5\n",
       "  9 => 1.6935087808430286e-5\n",
       " 10 => 5.645029269476761e-6\n",
       " 11 => 1.8816764231589206e-6\n",
       " 12 => 6.272254743863069e-7\n",
       " 13 => 2.0907515812876897e-7\n",
       " 14 => 6.969171937625632e-8\n",
       " 15 => 2.3230573125418773e-8"
      ]
     },
     "execution_count": 250,
     "metadata": {},
     "output_type": "execute_result"
    }
   ],
   "source": [
    "[NE => (1/3) * 3.0^-NE for NE in 2:15]"
   ]
  },
  {
   "cell_type": "markdown",
   "metadata": {
    "hidden": true
   },
   "source": [
    "Note that these are all smaller than the actual minimum energy differences, as desired. Now we may estimate the $N$ where the spacing is small enough to cause problems to be around"
   ]
  },
  {
   "cell_type": "code",
   "execution_count": 251,
   "metadata": {
    "hidden": true
   },
   "outputs": [
    {
     "data": {
      "text/plain": [
       "31"
      ]
     },
     "execution_count": 251,
     "metadata": {},
     "output_type": "execute_result"
    }
   ],
   "source": [
    "-log(3, 3*eps()) |> floor |> Int"
   ]
  },
  {
   "cell_type": "markdown",
   "metadata": {
    "heading_collapsed": true
   },
   "source": [
    "## Construction of superoperators"
   ]
  },
  {
   "cell_type": "markdown",
   "metadata": {
    "hidden": true
   },
   "source": [
    "TODO: Sort spectrum to group projectors together, etc."
   ]
  },
  {
   "cell_type": "markdown",
   "metadata": {
    "heading_collapsed": true
   },
   "source": [
    "## Time evolution"
   ]
  },
  {
   "cell_type": "markdown",
   "metadata": {
    "hidden": true
   },
   "source": [
    "We start the system off with all $x$-oriented spins."
   ]
  },
  {
   "cell_type": "code",
   "execution_count": 252,
   "metadata": {
    "code_folding": [],
    "hidden": true
   },
   "outputs": [],
   "source": [
    "# ψs = tpow(down, N);\n",
    "ψs = tpow(ψx, N);"
   ]
  },
  {
   "cell_type": "markdown",
   "metadata": {
    "hidden": true
   },
   "source": [
    "Now we time-evolve the system and look at the expectation values of some reduced operators on the spin chain. We start with just the isolated chain."
   ]
  },
  {
   "cell_type": "code",
   "execution_count": 253,
   "metadata": {
    "ExecuteTime": {
     "end_time": "2020-10-02T10:22:49.542000-07:00",
     "start_time": "2020-10-02T17:20:27.079Z"
    },
    "code_folding": [],
    "hidden": true
   },
   "outputs": [],
   "source": [
    "fout(t, ρ) = real([\n",
    "        expect(site(1, sz), ρ)\n",
    "        expect(embed(sB, [1, 2], [sz, sz]), ρ)\n",
    "        expect(site(1, sx), ρ)\n",
    "        ])\n",
    "ts, fouts = timeevolution.schroedinger([0:0.05:20;], ψs, Hs, fout=fout);"
   ]
  },
  {
   "cell_type": "code",
   "execution_count": 254,
   "metadata": {
    "ExecuteTime": {
     "end_time": "2020-10-02T10:22:49.542000-07:00",
     "start_time": "2020-10-02T17:20:27.079Z"
    },
    "caption": "Isolated Ising time evolution.",
    "code_folding": [],
    "hidden": true,
    "label": "fig:ising-2",
    "scrolled": true,
    "widefigure": false
   },
   "outputs": [
    {
     "data": {
      "image/svg+xml": [
       "<?xml version=\"1.0\" encoding=\"UTF-8\"?>\n",
       "<svg xmlns=\"http://www.w3.org/2000/svg\" xmlns:xlink=\"http://www.w3.org/1999/xlink\" width=\"290.555pt\" height=\"223.51pt\" viewBox=\"0 0 290.555 223.51\" version=\"1.1\">\n",
       "<defs>\n",
       "<g>\n",
       "<symbol overflow=\"visible\" id=\"glyph-1601166393153063-0-0\">\n",
       "<path style=\"stroke:none;\" d=\"M 0 0 L 5.96875 0 L 5.96875 -8.34375 L 0 -8.34375 Z M 0.953125 -0.59375 L 2.984375 -3.640625 L 5.015625 -0.59375 Z M 0.59375 -7.203125 L 2.625 -4.171875 L 0.59375 -1.140625 Z M 3.34375 -4.171875 L 5.375 -7.203125 L 5.375 -1.140625 Z M 2.984375 -4.703125 L 0.953125 -7.734375 L 5.015625 -7.734375 Z M 2.984375 -4.703125 \"/>\n",
       "</symbol>\n",
       "<symbol overflow=\"visible\" id=\"glyph-1601166393153063-0-1\">\n",
       "<path style=\"stroke:none;\" d=\"M 2.71875 0.125 C 3.640625 0.125 5.046875 -0.8125 5.046875 -3.625 C 5.046875 -4.8125 4.75 -5.828125 4.234375 -6.515625 C 3.921875 -6.9375 3.421875 -7.296875 2.765625 -7.296875 C 1.59375 -7.296875 0.46875 -5.875 0.46875 -3.515625 C 0.46875 -2.234375 0.859375 -1.046875 1.515625 -0.375 C 1.859375 -0.046875 2.265625 0.125 2.71875 0.125 Z M 2.765625 -6.875 C 2.96875 -6.875 3.171875 -6.796875 3.3125 -6.671875 C 3.6875 -6.359375 4 -5.453125 4 -3.84375 C 4 -2.75 3.96875 -2 3.796875 -1.390625 C 3.53125 -0.40625 2.953125 -0.296875 2.734375 -0.296875 C 1.625 -0.296875 1.5 -2.34375 1.5 -3.375 C 1.5 -6.328125 2.234375 -6.875 2.765625 -6.875 Z M 2.765625 -6.875 \"/>\n",
       "</symbol>\n",
       "<symbol overflow=\"visible\" id=\"glyph-1601166393153063-0-2\">\n",
       "<path style=\"stroke:none;\" d=\"M 3.8125 -2.265625 C 3.8125 -1.125 3.21875 -0.28125 2.5 -0.28125 C 2.046875 -0.28125 1.890625 -0.578125 1.703125 -0.828125 C 1.546875 -1.03125 1.34375 -1.203125 1.09375 -1.203125 C 0.875 -1.203125 0.640625 -1 0.640625 -0.765625 C 0.640625 -0.28125 1.65625 0.125 2.34375 0.125 C 3.828125 0.125 4.875 -0.96875 4.875 -2.46875 C 4.875 -3.640625 4.078125 -4.671875 2.734375 -4.671875 C 2.21875 -4.671875 1.78125 -4.5625 1.5625 -4.484375 L 1.8125 -6.484375 C 2.25 -6.4375 2.625 -6.375 3.203125 -6.375 C 3.5625 -6.375 3.96875 -6.390625 4.453125 -6.4375 L 4.65625 -7.25 L 4.5625 -7.296875 C 3.890625 -7.234375 3.234375 -7.171875 2.609375 -7.171875 C 2.15625 -7.171875 1.734375 -7.203125 1.3125 -7.234375 L 0.90625 -3.796875 C 1.546875 -4.03125 2 -4.078125 2.421875 -4.078125 C 3.203125 -4.078125 3.8125 -3.5625 3.8125 -2.265625 Z M 3.8125 -2.265625 \"/>\n",
       "</symbol>\n",
       "<symbol overflow=\"visible\" id=\"glyph-1601166393153063-0-3\">\n",
       "<path style=\"stroke:none;\" d=\"M 3.4375 -1.453125 L 3.4375 -5.609375 C 3.4375 -6.328125 3.453125 -7.046875 3.484375 -7.203125 C 3.484375 -7.265625 3.453125 -7.265625 3.40625 -7.265625 C 2.75 -6.859375 2.109375 -6.5625 1.0625 -6.078125 C 1.09375 -5.9375 1.140625 -5.828125 1.25 -5.75 C 1.796875 -5.96875 2.0625 -6.046875 2.28125 -6.046875 C 2.484375 -6.046875 2.515625 -5.765625 2.515625 -5.359375 L 2.515625 -1.453125 C 2.515625 -0.46875 2.203125 -0.40625 1.359375 -0.375 C 1.296875 -0.296875 1.296875 -0.046875 1.359375 0.03125 C 1.953125 0.015625 2.375 0 3.03125 0 C 3.59375 0 3.890625 0.015625 4.484375 0.03125 C 4.546875 -0.046875 4.546875 -0.296875 4.484375 -0.375 C 3.640625 -0.40625 3.4375 -0.46875 3.4375 -1.453125 Z M 3.4375 -1.453125 \"/>\n",
       "</symbol>\n",
       "<symbol overflow=\"visible\" id=\"glyph-1601166393153063-0-4\">\n",
       "<path style=\"stroke:none;\" d=\"M 0.734375 -5.59375 C 0.734375 -5.34375 0.953125 -5.125 1.203125 -5.125 C 1.40625 -5.125 1.765625 -5.34375 1.765625 -5.609375 C 1.765625 -5.703125 1.75 -5.765625 1.71875 -5.859375 C 1.703125 -5.9375 1.625 -6.046875 1.625 -6.140625 C 1.625 -6.4375 1.9375 -6.875 2.8125 -6.875 C 3.234375 -6.875 3.84375 -6.578125 3.84375 -5.421875 C 3.84375 -4.65625 3.578125 -4.046875 2.875 -3.328125 L 1.984375 -2.453125 C 0.8125 -1.25 0.625 -0.6875 0.625 0.03125 C 0.625 0.03125 1.234375 0 1.609375 0 L 3.703125 0 C 4.09375 0 4.640625 0.03125 4.640625 0.03125 C 4.796875 -0.609375 4.90625 -1.5 4.921875 -1.859375 C 4.859375 -1.921875 4.703125 -1.953125 4.578125 -1.921875 C 4.375 -1.078125 4.171875 -0.78125 3.734375 -0.78125 L 1.609375 -0.78125 C 1.609375 -1.34375 2.4375 -2.15625 2.5 -2.21875 L 3.703125 -3.375 C 4.390625 -4.046875 4.90625 -4.5625 4.90625 -5.46875 C 4.90625 -6.765625 3.84375 -7.296875 2.875 -7.296875 C 1.546875 -7.296875 0.734375 -6.3125 0.734375 -5.59375 Z M 0.734375 -5.59375 \"/>\n",
       "</symbol>\n",
       "<symbol overflow=\"visible\" id=\"glyph-1601166393153063-0-5\">\n",
       "<path style=\"stroke:none;\" d=\"M 0.703125 -3.40625 C 0.5625 -3.265625 0.5625 -2.953125 0.703125 -2.8125 L 7.046875 -2.8125 C 7.1875 -2.953125 7.1875 -3.265625 7.046875 -3.40625 Z M 0.703125 -3.40625 \"/>\n",
       "</symbol>\n",
       "<symbol overflow=\"visible\" id=\"glyph-1601166393153063-0-6\">\n",
       "<path style=\"stroke:none;\" d=\"M 0.6875 -0.515625 C 0.6875 -0.171875 0.96875 0.125 1.3125 0.125 C 1.65625 0.125 1.953125 -0.171875 1.953125 -0.515625 C 1.953125 -0.859375 1.65625 -1.140625 1.3125 -1.140625 C 0.96875 -1.140625 0.6875 -0.859375 0.6875 -0.515625 Z M 0.6875 -0.515625 \"/>\n",
       "</symbol>\n",
       "<symbol overflow=\"visible\" id=\"glyph-1601166393153063-0-7\">\n",
       "<path style=\"stroke:none;\" d=\"M 3.90625 -3.0625 C 3.578125 -1.96875 2.828125 -0.765625 1.234375 -0.171875 C 1.234375 -0.03125 1.28125 0.078125 1.375 0.140625 C 2.578125 -0.21875 3.328125 -0.71875 4 -1.5 C 4.734375 -2.359375 5.109375 -3.4375 5.109375 -4.390625 C 5.109375 -6.8125 3.734375 -7.296875 2.8125 -7.296875 C 1.25 -7.296875 0.59375 -5.765625 0.59375 -4.75 C 0.59375 -3.71875 1.140625 -2.796875 2.765625 -2.796875 C 3.078125 -2.796875 3.546875 -2.890625 3.90625 -3.0625 Z M 4.015625 -3.484375 C 3.625 -3.234375 3.234375 -3.21875 3.03125 -3.21875 C 1.859375 -3.21875 1.59375 -4.359375 1.59375 -4.953125 C 1.59375 -6.28125 2.09375 -6.875 2.671875 -6.875 C 3.4375 -6.875 4.109375 -6.46875 4.109375 -4.421875 C 4.109375 -4.15625 4.09375 -3.84375 4.015625 -3.484375 Z M 4.015625 -3.484375 \"/>\n",
       "</symbol>\n",
       "<symbol overflow=\"visible\" id=\"glyph-1601166393153063-0-8\">\n",
       "<path style=\"stroke:none;\" d=\"M 1.71875 -4.09375 C 2.046875 -5.1875 2.8125 -6.390625 4.40625 -7 C 4.40625 -7.140625 4.34375 -7.25 4.25 -7.296875 C 3.046875 -6.9375 2.3125 -6.4375 1.640625 -5.671875 C 0.890625 -4.8125 0.53125 -3.71875 0.53125 -2.765625 C 0.53125 -0.34375 1.90625 0.125 2.828125 0.125 C 4.390625 0.125 5.03125 -1.390625 5.03125 -2.421875 C 5.03125 -3.4375 4.484375 -4.359375 2.859375 -4.359375 C 2.546875 -4.359375 2.078125 -4.265625 1.71875 -4.09375 Z M 1.609375 -3.671875 C 2.015625 -3.9375 2.40625 -3.9375 2.609375 -3.9375 C 3.78125 -3.9375 4.046875 -2.796875 4.046875 -2.203125 C 4.046875 -0.890625 3.53125 -0.28125 2.953125 -0.28125 C 2.203125 -0.28125 1.515625 -0.6875 1.515625 -2.734375 C 1.515625 -3.015625 1.546875 -3.328125 1.609375 -3.671875 Z M 1.609375 -3.671875 \"/>\n",
       "</symbol>\n",
       "<symbol overflow=\"visible\" id=\"glyph-1601166393153063-0-9\">\n",
       "<path style=\"stroke:none;\" d=\"M 2.5625 -6.875 C 3.078125 -6.875 3.5625 -6.5625 3.5625 -5.796875 C 3.5625 -5.203125 2.875 -4.28125 1.6875 -4.109375 L 1.75 -3.734375 C 1.953125 -3.75 2.15625 -3.75 2.3125 -3.75 C 3 -3.75 3.890625 -3.5625 3.890625 -2.21875 C 3.890625 -0.625 2.828125 -0.296875 2.40625 -0.296875 C 1.796875 -0.296875 1.6875 -0.578125 1.546875 -0.78125 C 1.421875 -0.953125 1.265625 -1.09375 1.03125 -1.09375 C 0.78125 -1.09375 0.53125 -0.875 0.53125 -0.6875 C 0.53125 -0.203125 1.53125 0.125 2.25 0.125 C 3.671875 0.125 4.9375 -0.796875 4.9375 -2.375 C 4.9375 -3.6875 3.953125 -4.140625 3.25 -4.265625 L 3.234375 -4.296875 C 4.21875 -4.75 4.5 -5.25 4.5 -5.875 C 4.5 -6.234375 4.40625 -6.53125 4.125 -6.828125 C 3.859375 -7.09375 3.4375 -7.296875 2.828125 -7.296875 C 1.0625 -7.296875 0.5625 -6.140625 0.5625 -5.75 C 0.5625 -5.578125 0.6875 -5.34375 0.96875 -5.34375 C 1.390625 -5.34375 1.4375 -5.734375 1.4375 -5.96875 C 1.4375 -6.734375 2.265625 -6.875 2.5625 -6.875 Z M 2.5625 -6.875 \"/>\n",
       "</symbol>\n",
       "<symbol overflow=\"visible\" id=\"glyph-1601166393153063-0-10\">\n",
       "<path style=\"stroke:none;\" d=\"M 5.953125 -0.71875 L 5.75 -0.921875 C 5.4375 -0.609375 5.265625 -0.578125 5.03125 -0.578125 C 4.6875 -0.578125 4.65625 -0.984375 4.5625 -2.5625 L 4.359375 -6.796875 C 4.296875 -8.21875 3.703125 -8.34375 3.375 -8.34375 C 2.9375 -8.34375 2.5 -7.96875 2.109375 -7.515625 L 2.25 -7.3125 C 2.515625 -7.5 2.828125 -7.609375 3.109375 -7.609375 C 3.421875 -7.609375 3.796875 -7.359375 3.875 -5.71875 L 3.890625 -5.203125 L 0.234375 0 L 0.484375 0.140625 C 0.734375 0.046875 1.046875 0.015625 1.34375 0 L 3.9375 -4.34375 L 4.078125 -1.5 C 4.125 -0.390625 4.265625 0.140625 4.828125 0.140625 C 5.15625 0.140625 5.640625 -0.25 5.953125 -0.71875 Z M 5.953125 -0.71875 \"/>\n",
       "</symbol>\n",
       "<symbol overflow=\"visible\" id=\"glyph-1601166393153063-0-11\">\n",
       "<path style=\"stroke:none;\" d=\"M 0.703125 -2.21875 C 0.5625 -2.0625 0.5625 -1.75 0.703125 -1.609375 L 7.046875 -1.609375 C 7.1875 -1.75 7.1875 -2.0625 7.046875 -2.21875 Z M 0.703125 -4.609375 C 0.5625 -4.453125 0.5625 -4.140625 0.703125 -4 L 7.046875 -4 C 7.1875 -4.140625 7.1875 -4.453125 7.046875 -4.609375 Z M 0.703125 -4.609375 \"/>\n",
       "</symbol>\n",
       "<symbol overflow=\"visible\" id=\"glyph-1601166393153063-0-12\">\n",
       "<path style=\"stroke:none;\" d=\"M 3.6875 -8.390625 L 3.0625 -8.390625 L 0.53125 -2.984375 L 0.53125 -2.75 L 3.046875 2.59375 L 3.6875 2.59375 L 1.34375 -2.875 Z M 3.6875 -8.390625 \"/>\n",
       "</symbol>\n",
       "<symbol overflow=\"visible\" id=\"glyph-1601166393153063-0-13\">\n",
       "<path style=\"stroke:none;\" d=\"M 0.234375 -1.671875 C 0.234375 -0.578125 0.890625 0.140625 2.140625 0.140625 C 3.890625 0.140625 4.890625 -1.421875 4.890625 -2.671875 C 4.890625 -3.4375 4.546875 -4.015625 4.09375 -4.3125 L 5.578125 -4.3125 C 6 -4.3125 6.234375 -4.578125 6.53125 -4.984375 L 6.4375 -5.125 L 3.765625 -5.125 C 1.140625 -5.125 0.234375 -2.953125 0.234375 -1.671875 Z M 3.53125 -4.3125 C 3.890625 -3.890625 4.09375 -3.484375 4.09375 -2.875 C 4.09375 -1.703125 3.375 -0.265625 2.3125 -0.265625 C 1.390625 -0.265625 1.0625 -1.015625 1.0625 -1.734375 C 1.0625 -2.4375 1.53125 -4.3125 3.53125 -4.3125 Z M 3.53125 -4.3125 \"/>\n",
       "</symbol>\n",
       "<symbol overflow=\"visible\" id=\"glyph-1601166393153063-0-14\">\n",
       "<path style=\"stroke:none;\" d=\"M 2.953125 -2.875 L 0.609375 2.59375 L 1.25 2.59375 L 3.75 -2.75 L 3.75 -2.984375 L 1.234375 -8.390625 L 0.59375 -8.390625 Z M 2.953125 -2.875 \"/>\n",
       "</symbol>\n",
       "<symbol overflow=\"visible\" id=\"glyph-1601166393153063-1-0\">\n",
       "<path style=\"stroke:none;\" d=\"M 0 0 L 5.484375 0 L 5.484375 -7.640625 L 0 -7.640625 Z M 0.875 -0.546875 L 2.734375 -3.328125 L 4.59375 -0.546875 Z M 0.546875 -6.609375 L 2.40625 -3.828125 L 0.546875 -1.046875 Z M 3.0625 -3.828125 L 4.921875 -6.609375 L 4.921875 -1.046875 Z M 2.734375 -4.3125 L 0.875 -7.09375 L 4.59375 -7.09375 Z M 2.734375 -4.3125 \"/>\n",
       "</symbol>\n",
       "<symbol overflow=\"visible\" id=\"glyph-1601166393153063-1-1\">\n",
       "<path style=\"stroke:none;\" d=\"M 3.828125 -1.34375 L 3.828125 -5.515625 C 3.828125 -6.21875 3.9375 -6.640625 4.34375 -6.640625 L 4.578125 -6.640625 C 5.40625 -6.640625 5.921875 -6.359375 6.09375 -5.515625 C 6.21875 -5.515625 6.375 -5.515625 6.46875 -5.5625 C 6.390625 -6.0625 6.34375 -6.625 6.328125 -7.125 C 6.328125 -7.125 6.3125 -7.15625 6.296875 -7.15625 C 5.921875 -7.125 4.703125 -7.0625 3.84375 -7.0625 L 2.90625 -7.0625 C 2.0625 -7.0625 0.765625 -7.125 0.34375 -7.15625 C 0.328125 -7.15625 0.3125 -7.125 0.3125 -7.125 C 0.265625 -6.625 0.15625 -6.0625 0.03125 -5.53125 C 0.140625 -5.484375 0.28125 -5.484375 0.40625 -5.484375 C 0.625 -6.359375 1.125 -6.640625 1.84375 -6.640625 L 2.390625 -6.640625 C 2.796875 -6.640625 2.90625 -6.21875 2.90625 -5.546875 L 2.90625 -1.34375 C 2.90625 -0.421875 2.71875 -0.375 1.84375 -0.34375 C 1.78125 -0.28125 1.78125 -0.046875 1.84375 0.015625 C 2.375 0.015625 2.9375 0 3.375 0 C 3.796875 0 4.34375 0.015625 4.890625 0.015625 C 4.96875 -0.046875 4.96875 -0.28125 4.890625 -0.34375 C 4.015625 -0.375 3.828125 -0.421875 3.828125 -1.34375 Z M 3.828125 -1.34375 \"/>\n",
       "</symbol>\n",
       "<symbol overflow=\"visible\" id=\"glyph-1601166393153063-1-2\">\n",
       "<path style=\"stroke:none;\" d=\"M 1.984375 -1.34375 L 1.984375 -3.515625 C 1.984375 -4.0625 2.03125 -4.765625 2.03125 -4.765625 C 2.03125 -4.8125 1.96875 -4.84375 1.890625 -4.84375 C 1.578125 -4.71875 1.140625 -4.625 0.390625 -4.53125 C 0.359375 -4.453125 0.390625 -4.28125 0.40625 -4.21875 C 1 -4.15625 1.125 -4.09375 1.125 -3.46875 L 1.125 -1.34375 C 1.125 -0.421875 1 -0.390625 0.328125 -0.34375 C 0.265625 -0.28125 0.265625 -0.046875 0.328125 0.015625 C 0.6875 0.015625 1.125 0 1.5625 0 C 2 0 2.40625 0.015625 2.765625 0.015625 C 2.84375 -0.046875 2.84375 -0.28125 2.765625 -0.34375 C 2.109375 -0.390625 1.984375 -0.421875 1.984375 -1.34375 Z M 0.984375 -6.5625 C 0.984375 -6.28125 1.25 -5.984375 1.515625 -5.984375 C 1.8125 -5.984375 2.078125 -6.28125 2.078125 -6.515625 C 2.078125 -6.78125 1.84375 -7.09375 1.5625 -7.09375 C 1.296875 -7.09375 0.984375 -6.828125 0.984375 -6.5625 Z M 0.984375 -6.5625 \"/>\n",
       "</symbol>\n",
       "<symbol overflow=\"visible\" id=\"glyph-1601166393153063-1-3\">\n",
       "<path style=\"stroke:none;\" d=\"M 1.859375 -3.921875 C 1.84375 -4.25 1.828125 -4.640625 1.78125 -4.75 C 1.75 -4.8125 1.734375 -4.84375 1.640625 -4.84375 C 1.34375 -4.71875 1.046875 -4.625 0.296875 -4.53125 C 0.28125 -4.453125 0.296875 -4.28125 0.3125 -4.21875 C 0.90625 -4.15625 1.03125 -4.109375 1.03125 -3.46875 L 1.03125 -1.34375 C 1.03125 -0.4375 0.890625 -0.390625 0.28125 -0.34375 C 0.21875 -0.28125 0.21875 -0.046875 0.28125 0.015625 C 0.609375 0.015625 1.03125 0 1.46875 0 C 1.90625 0 2.25 0.015625 2.578125 0.015625 C 2.640625 -0.046875 2.640625 -0.28125 2.578125 -0.34375 C 2.015625 -0.390625 1.890625 -0.4375 1.890625 -1.34375 L 1.890625 -3.125 C 1.890625 -3.359375 2 -3.5 2.078125 -3.59375 C 2.515625 -4.015625 2.921875 -4.234375 3.265625 -4.234375 C 3.6875 -4.234375 3.984375 -3.96875 3.984375 -3.234375 L 3.984375 -1.34375 C 3.984375 -0.4375 3.90625 -0.390625 3.3125 -0.34375 C 3.25 -0.28125 3.25 -0.046875 3.3125 0.015625 C 3.578125 0.015625 3.984375 0 4.421875 0 C 4.859375 0 5.21875 0.015625 5.5 0.015625 C 5.546875 -0.046875 5.546875 -0.28125 5.5 -0.34375 C 4.953125 -0.390625 4.859375 -0.4375 4.859375 -1.34375 L 4.859375 -3.078125 C 4.859375 -3.234375 4.859375 -3.390625 4.84375 -3.515625 C 5.359375 -4.09375 5.859375 -4.234375 6.28125 -4.234375 C 6.703125 -4.234375 6.9375 -4 6.9375 -3.265625 L 6.9375 -1.34375 C 6.9375 -0.4375 6.828125 -0.390625 6.265625 -0.34375 C 6.203125 -0.28125 6.203125 -0.046875 6.265625 0.015625 C 6.53125 0.015625 6.9375 0 7.375 0 C 7.828125 0 8.203125 0.015625 8.515625 0.015625 C 8.5625 -0.046875 8.5625 -0.28125 8.515625 -0.34375 C 7.90625 -0.390625 7.8125 -0.4375 7.8125 -1.34375 L 7.8125 -3.0625 C 7.8125 -4.046875 7.640625 -4.8125 6.6875 -4.8125 C 6.125 -4.8125 5.4375 -4.59375 4.875 -4 C 4.84375 -3.96875 4.78125 -3.90625 4.75 -4.015625 C 4.65625 -4.453125 4.234375 -4.8125 3.65625 -4.8125 C 3.015625 -4.8125 2.453125 -4.4375 2 -3.921875 C 1.9375 -3.859375 1.875 -3.796875 1.859375 -3.921875 Z M 1.859375 -3.921875 \"/>\n",
       "</symbol>\n",
       "<symbol overflow=\"visible\" id=\"glyph-1601166393153063-1-4\">\n",
       "<path style=\"stroke:none;\" d=\"M 4.234375 -1.015625 C 3.828125 -0.609375 3.5 -0.421875 2.875 -0.421875 C 2.46875 -0.421875 2.015625 -0.65625 1.671875 -1.21875 C 1.453125 -1.578125 1.328125 -2.078125 1.328125 -2.71875 L 4.234375 -2.6875 C 4.375 -2.6875 4.453125 -2.765625 4.453125 -2.875 C 4.453125 -3.796875 4.125 -4.78125 2.59375 -4.78125 C 1.640625 -4.78125 0.40625 -3.875 0.40625 -2.21875 C 0.40625 -1.59375 0.5625 -1 0.921875 -0.59375 C 1.296875 -0.15625 1.8125 0.109375 2.59375 0.109375 C 3.421875 0.109375 4.015625 -0.28125 4.453125 -0.84375 C 4.421875 -0.953125 4.359375 -1 4.234375 -1.015625 Z M 1.359375 -3.09375 C 1.5625 -4.328125 2.328125 -4.421875 2.59375 -4.421875 C 3.015625 -4.421875 3.5 -4.1875 3.5 -3.28125 C 3.5 -3.171875 3.46875 -3.125 3.34375 -3.125 Z M 1.359375 -3.09375 \"/>\n",
       "</symbol>\n",
       "<symbol overflow=\"visible\" id=\"glyph-1601166393153063-2-0\">\n",
       "<path style=\"stroke:none;\" d=\"M 0 0 L 0 -5.484375 L -7.640625 -5.484375 L -7.640625 0 Z M -0.546875 -0.875 L -3.328125 -2.734375 L -0.546875 -4.59375 Z M -6.609375 -0.546875 L -3.828125 -2.40625 L -1.046875 -0.546875 Z M -3.828125 -3.0625 L -6.609375 -4.921875 L -1.046875 -4.921875 Z M -4.3125 -2.734375 L -7.09375 -0.875 L -7.09375 -4.59375 Z M -4.3125 -2.734375 \"/>\n",
       "</symbol>\n",
       "<symbol overflow=\"visible\" id=\"glyph-1601166393153063-2-1\">\n",
       "<path style=\"stroke:none;\" d=\"M -3.953125 -3.078125 L -3.953125 -2.078125 L -5.921875 -2.078125 C -6.40625 -2.078125 -6.625 -2.21875 -6.625 -2.796875 L -6.625 -3.625 C -6.625 -4.453125 -6.1875 -4.625 -5.4375 -4.859375 C -5.40625 -5 -5.4375 -5.109375 -5.484375 -5.21875 C -5.9375 -5.171875 -6.984375 -5 -7.078125 -4.984375 C -7.09375 -4.984375 -7.109375 -4.96875 -7.109375 -4.9375 C -7.078125 -4.75 -7.0625 -4.671875 -7.0625 -4.40625 L -7.0625 -1.609375 C -7.0625 -1.28125 -7.078125 -0.640625 -7.09375 -0.203125 C -7.015625 -0.125 -6.796875 -0.125 -6.71875 -0.203125 C -6.6875 -0.96875 -6.640625 -1.15625 -5.734375 -1.15625 L -1.34375 -1.15625 C -0.421875 -1.15625 -0.375 -0.96875 -0.34375 -0.203125 C -0.28125 -0.125 -0.046875 -0.125 0.015625 -0.203125 C 0.015625 -0.609375 0 -1.265625 0 -1.625 L 0 -3.96875 C 0 -4.5 0.015625 -5.375 0.015625 -5.375 C -0.53125 -5.53125 -1.25 -5.703125 -1.8125 -5.78125 C -1.875 -5.671875 -1.890625 -5.546875 -1.859375 -5.40625 C -1.078125 -5.1875 -0.421875 -4.796875 -0.421875 -3.96875 L -0.421875 -2.6875 C -0.421875 -2.234375 -0.609375 -2.078125 -1.125 -2.078125 L -3.53125 -2.078125 L -3.53125 -3.078125 C -3.53125 -4.015625 -3.28125 -4.046875 -2.796875 -4.078125 C -2.734375 -4.140625 -2.734375 -4.375 -2.796875 -4.4375 C -3.078125 -4.421875 -3.390625 -4.421875 -3.75 -4.421875 C -4.0625 -4.421875 -4.4375 -4.421875 -4.703125 -4.4375 C -4.765625 -4.375 -4.765625 -4.140625 -4.703125 -4.078125 C -4.09375 -4.046875 -3.953125 -4.015625 -3.953125 -3.078125 Z M -3.953125 -3.078125 \"/>\n",
       "</symbol>\n",
       "<symbol overflow=\"visible\" id=\"glyph-1601166393153063-2-2\">\n",
       "<path style=\"stroke:none;\" d=\"M -3.921875 -2 C -4.296875 -1.734375 -4.296875 -1.8125 -4.359375 -2.3125 C -4.421875 -2.375 -4.65625 -2.375 -4.71875 -2.3125 C -4.703125 -2.015625 -4.703125 -1.53125 -4.703125 -1.203125 C -4.703125 -0.875 -4.703125 -0.546875 -4.71875 -0.265625 C -4.65625 -0.203125 -4.421875 -0.203125 -4.359375 -0.265625 C -4.328125 -0.640625 -4.140625 -0.9375 -3.6875 -1.25 L -2.296875 -2.203125 C -2.21875 -2.25 -2.1875 -2.25 -2.140625 -2.21875 L -0.953125 -1.296875 C -0.390625 -0.859375 -0.359375 -0.609375 -0.34375 -0.234375 C -0.28125 -0.171875 -0.046875 -0.171875 0.015625 -0.234375 C 0.015625 -0.453125 0 -0.6875 0 -1.015625 C 0 -1.34375 0.015625 -1.65625 0.015625 -1.9375 C -0.046875 -2 -0.28125 -2 -0.34375 -1.9375 C -0.390625 -1.546875 -0.421875 -1.453125 -0.78125 -1.703125 L -1.78125 -2.390625 C -1.90625 -2.46875 -1.890625 -2.515625 -1.796875 -2.578125 L -0.921875 -3.21875 C -0.390625 -3.609375 -0.375 -3.421875 -0.34375 -3.078125 C -0.28125 -3.015625 -0.046875 -3.015625 0.015625 -3.078125 C 0.015625 -3.40625 0 -3.765625 0 -4.15625 C 0 -4.578125 0.015625 -4.875 0.015625 -5.140625 C -0.046875 -5.203125 -0.28125 -5.203125 -0.34375 -5.140625 C -0.375 -4.640625 -0.40625 -4.484375 -1.03125 -4.046875 L -2.421875 -3.0625 C -2.484375 -3.015625 -2.515625 -3 -2.578125 -3.0625 L -3.75 -3.96875 C -4.265625 -4.375 -4.328125 -4.640625 -4.359375 -5.03125 C -4.421875 -5.109375 -4.65625 -5.109375 -4.71875 -5.03125 C -4.703125 -4.8125 -4.703125 -4.5625 -4.703125 -4.234375 C -4.703125 -3.90625 -4.703125 -3.609375 -4.71875 -3.3125 C -4.65625 -3.25 -4.421875 -3.25 -4.359375 -3.3125 C -4.3125 -3.71875 -4.28125 -3.84375 -3.90625 -3.578125 L -2.90625 -2.875 C -2.796875 -2.796875 -2.8125 -2.75 -2.9375 -2.65625 Z M -3.921875 -2 \"/>\n",
       "</symbol>\n",
       "<symbol overflow=\"visible\" id=\"glyph-1601166393153063-2-3\">\n",
       "<path style=\"stroke:none;\" d=\"M -4.03125 -1.703125 C -4.359375 -1.703125 -4.640625 -1.671875 -4.75 -1.625 C -4.8125 -1.59375 -4.84375 -1.578125 -4.84375 -1.484375 C -4.71875 -1.1875 -4.625 -0.890625 -4.53125 -0.140625 C -4.453125 -0.125 -4.28125 -0.140625 -4.21875 -0.171875 C -4.15625 -0.75 -4.109375 -0.875 -3.46875 -0.875 L 1.203125 -0.875 C 2.109375 -0.875 2.171875 -0.75 2.203125 -0.09375 C 2.265625 -0.015625 2.5 -0.015625 2.5625 -0.09375 C 2.546875 -0.46875 2.546875 -0.875 2.546875 -1.3125 C 2.546875 -1.75 2.546875 -2.28125 2.5625 -2.640625 C 2.5 -2.703125 2.265625 -2.703125 2.203125 -2.640625 C 2.15625 -1.859375 2.109375 -1.734375 1.203125 -1.734375 L 0.015625 -1.734375 C -0.125 -1.734375 -0.109375 -1.78125 -0.0625 -1.890625 C 0.046875 -2.171875 0.109375 -2.5 0.109375 -2.84375 C 0.109375 -3.46875 -0.078125 -4.015625 -0.5 -4.453125 C -1 -4.96875 -1.6875 -5.265625 -2.578125 -5.265625 C -3.734375 -5.265625 -4.8125 -4.453125 -4.8125 -3.328125 C -4.8125 -2.828125 -4.484375 -2.265625 -3.984375 -1.828125 C -3.921875 -1.765625 -3.921875 -1.71875 -4.03125 -1.703125 Z M -3.625 -1.921875 C -3.96875 -2.203125 -4.296875 -2.703125 -4.296875 -3.015625 C -4.296875 -3.71875 -3.515625 -4.328125 -2.28125 -4.328125 C -1.375 -4.328125 -0.265625 -4.015625 -0.265625 -2.78125 C -0.265625 -2.578125 -0.3125 -2.203125 -0.5 -2 C -0.6875 -1.78125 -0.75 -1.734375 -1.15625 -1.734375 L -3.140625 -1.734375 C -3.375 -1.734375 -3.46875 -1.78125 -3.625 -1.921875 Z M -3.625 -1.921875 \"/>\n",
       "</symbol>\n",
       "<symbol overflow=\"visible\" id=\"glyph-1601166393153063-2-4\">\n",
       "<path style=\"stroke:none;\" d=\"M -1.015625 -4.234375 C -0.609375 -3.828125 -0.421875 -3.5 -0.421875 -2.875 C -0.421875 -2.46875 -0.65625 -2.015625 -1.21875 -1.671875 C -1.578125 -1.453125 -2.078125 -1.328125 -2.71875 -1.328125 L -2.6875 -4.234375 C -2.6875 -4.375 -2.765625 -4.453125 -2.875 -4.453125 C -3.796875 -4.453125 -4.78125 -4.125 -4.78125 -2.59375 C -4.78125 -1.640625 -3.875 -0.40625 -2.21875 -0.40625 C -1.59375 -0.40625 -1 -0.5625 -0.59375 -0.921875 C -0.15625 -1.296875 0.109375 -1.8125 0.109375 -2.59375 C 0.109375 -3.421875 -0.28125 -4.015625 -0.84375 -4.453125 C -0.953125 -4.421875 -1 -4.359375 -1.015625 -4.234375 Z M -3.09375 -1.359375 C -4.328125 -1.5625 -4.421875 -2.328125 -4.421875 -2.59375 C -4.421875 -3.015625 -4.1875 -3.5 -3.28125 -3.5 C -3.171875 -3.5 -3.125 -3.46875 -3.125 -3.34375 Z M -3.09375 -1.359375 \"/>\n",
       "</symbol>\n",
       "<symbol overflow=\"visible\" id=\"glyph-1601166393153063-2-5\">\n",
       "<path style=\"stroke:none;\" d=\"M -1 -4.359375 C -1.09375 -4.3125 -1.140625 -4.234375 -1.15625 -4.125 C -0.671875 -3.75 -0.421875 -3.28125 -0.421875 -2.8125 C -0.421875 -2.015625 -1.234375 -1.34375 -2.515625 -1.34375 C -3.71875 -1.34375 -4.453125 -1.875 -4.453125 -2.59375 C -4.453125 -3.234375 -4.0625 -3.328125 -3.6875 -3.375 C -3.390625 -3.40625 -3.28125 -3.5625 -3.28125 -3.796875 C -3.28125 -4.015625 -3.421875 -4.328125 -3.765625 -4.328125 C -4.375 -4.328125 -4.8125 -3.703125 -4.8125 -2.65625 C -4.8125 -1.5625 -3.828125 -0.40625 -2.28125 -0.40625 C -0.859375 -0.40625 0.109375 -1.1875 0.109375 -2.578125 C 0.109375 -3.234375 -0.09375 -3.8125 -1 -4.359375 Z M -1 -4.359375 \"/>\n",
       "</symbol>\n",
       "<symbol overflow=\"visible\" id=\"glyph-1601166393153063-2-6\">\n",
       "<path style=\"stroke:none;\" d=\"M -4.703125 -0.46875 C -4.703125 -0.3125 -4.5625 -0.28125 -4.484375 -0.28125 L -4.34375 -0.28125 C -4.28125 -0.28125 -4.265625 -0.28125 -4.265625 -0.328125 L -4.265625 -0.96875 L -0.96875 -0.96875 C -0.203125 -0.96875 0.109375 -1.3125 0.109375 -1.8125 C 0.109375 -2.328125 -0.125 -2.875 -0.609375 -3.296875 C -0.71875 -3.28125 -0.78125 -3.203125 -0.796875 -3.09375 C -0.578125 -2.8125 -0.5 -2.484375 -0.5 -2.203125 C -0.5 -1.90625 -0.828125 -1.84375 -1.5 -1.84375 L -4.265625 -1.84375 L -4.265625 -2.984375 C -4.265625 -3.09375 -4.3125 -3.234375 -4.421875 -3.234375 L -4.640625 -3.234375 C -4.671875 -3.234375 -4.703125 -3.203125 -4.703125 -3.15625 L -4.703125 -1.84375 L -5.125 -1.84375 C -5.84375 -1.84375 -6.28125 -1.890625 -6.28125 -1.890625 C -6.34375 -1.890625 -6.375 -1.84375 -6.375 -1.796875 C -6.375 -1.75 -6.328125 -1.65625 -6.28125 -1.5625 C -6.203125 -1.4375 -6.15625 -1.328125 -6.125 -1.1875 C -6.078125 -1.046875 -6.046875 -0.9375 -5.96875 -0.9375 C -5.84375 -0.9375 -5.921875 -0.96875 -4.703125 -0.96875 Z M -4.703125 -0.46875 \"/>\n",
       "</symbol>\n",
       "<symbol overflow=\"visible\" id=\"glyph-1601166393153063-2-7\">\n",
       "<path style=\"stroke:none;\" d=\"M -0.53125 -3.203125 C -0.1875 -3.28125 0.109375 -3.390625 0.109375 -3.9375 C 0.109375 -4.359375 -0.078125 -4.75 -0.296875 -4.984375 C -0.421875 -4.96875 -0.53125 -4.921875 -0.59375 -4.796875 C -0.53125 -4.71875 -0.421875 -4.53125 -0.421875 -4.390625 C -0.421875 -4.078125 -0.84375 -4.0625 -1.34375 -4.0625 L -2.953125 -4.0625 C -4.515625 -4.0625 -4.8125 -3.203125 -4.8125 -2.40625 C -4.8125 -1.515625 -4.21875 -0.609375 -3.59375 -0.609375 C -3.328125 -0.609375 -3.203125 -0.734375 -3.203125 -0.984375 C -3.203125 -1.296875 -3.421875 -1.5 -3.578125 -1.5 C -3.640625 -1.5 -3.71875 -1.484375 -3.765625 -1.46875 C -3.796875 -1.453125 -3.859375 -1.453125 -3.984375 -1.453125 C -4.328125 -1.453125 -4.453125 -1.90625 -4.453125 -2.328125 C -4.453125 -2.6875 -4.265625 -3.203125 -3.015625 -3.203125 C -2.953125 -3.203125 -2.90625 -3.171875 -2.890625 -3.140625 L -2.65625 -2.203125 C -2.40625 -1.15625 -1.8125 -0.390625 -1.078125 -0.390625 C -0.171875 -0.390625 0.109375 -1 0.109375 -1.78125 C 0.109375 -2.15625 0.015625 -2.484375 -0.34375 -2.96875 L -0.53125 -3.1875 Z M -2.546875 -3.203125 L -1.109375 -3.203125 C -0.96875 -3.203125 -0.890625 -3.140625 -0.828125 -3.0625 C -0.59375 -2.765625 -0.34375 -2.40625 -0.34375 -2.09375 C -0.34375 -1.546875 -0.78125 -1.296875 -1.125 -1.296875 C -1.609375 -1.296875 -2.109375 -1.53125 -2.328125 -2.34375 Z M -2.546875 -3.203125 \"/>\n",
       "</symbol>\n",
       "<symbol overflow=\"visible\" id=\"glyph-1601166393153063-2-8\">\n",
       "<path style=\"stroke:none;\" d=\"M -1.34375 -1.984375 L -3.515625 -1.984375 C -4.0625 -1.984375 -4.765625 -2.03125 -4.765625 -2.03125 C -4.8125 -2.03125 -4.84375 -1.96875 -4.84375 -1.890625 C -4.71875 -1.578125 -4.625 -1.140625 -4.53125 -0.390625 C -4.453125 -0.359375 -4.28125 -0.390625 -4.21875 -0.40625 C -4.15625 -1 -4.09375 -1.125 -3.46875 -1.125 L -1.34375 -1.125 C -0.421875 -1.125 -0.390625 -1 -0.34375 -0.328125 C -0.28125 -0.265625 -0.046875 -0.265625 0.015625 -0.328125 C 0.015625 -0.6875 0 -1.125 0 -1.5625 C 0 -2 0.015625 -2.40625 0.015625 -2.765625 C -0.046875 -2.84375 -0.28125 -2.84375 -0.34375 -2.765625 C -0.390625 -2.109375 -0.421875 -1.984375 -1.34375 -1.984375 Z M -6.5625 -0.984375 C -6.28125 -0.984375 -5.984375 -1.25 -5.984375 -1.515625 C -5.984375 -1.8125 -6.28125 -2.078125 -6.515625 -2.078125 C -6.78125 -2.078125 -7.09375 -1.84375 -7.09375 -1.5625 C -7.09375 -1.296875 -6.828125 -0.984375 -6.5625 -0.984375 Z M -6.5625 -0.984375 \"/>\n",
       "</symbol>\n",
       "<symbol overflow=\"visible\" id=\"glyph-1601166393153063-2-9\">\n",
       "<path style=\"stroke:none;\" d=\"M -2.25 -0.453125 C -1.125 -0.453125 0.109375 -1.1875 0.109375 -2.75 C 0.109375 -3.453125 -0.140625 -3.984375 -0.5 -4.359375 C -0.984375 -4.859375 -1.671875 -5.078125 -2.34375 -5.078125 C -3.484375 -5.078125 -4.8125 -4.453125 -4.8125 -2.765625 C -4.8125 -2.046875 -4.515625 -1.453125 -4.046875 -1.046875 C -3.578125 -0.65625 -2.9375 -0.453125 -2.25 -0.453125 Z M -4.421875 -2.609375 C -4.421875 -3.546875 -3.578125 -4.125 -2 -4.125 C -0.609375 -4.125 -0.28125 -3.421875 -0.28125 -2.90625 C -0.28125 -1.765625 -1.65625 -1.390625 -2.5 -1.390625 C -3.453125 -1.390625 -4.421875 -1.625 -4.421875 -2.609375 Z M -4.421875 -2.609375 \"/>\n",
       "</symbol>\n",
       "<symbol overflow=\"visible\" id=\"glyph-1601166393153063-2-10\">\n",
       "<path style=\"stroke:none;\" d=\"M -3.921875 -2.015625 C -3.84375 -1.953125 -3.828125 -1.890625 -3.921875 -1.890625 C -4.21875 -1.875 -4.640625 -1.84375 -4.75 -1.796875 C -4.8125 -1.78125 -4.84375 -1.75 -4.84375 -1.671875 C -4.71875 -1.359375 -4.625 -1.078125 -4.53125 -0.3125 C -4.453125 -0.296875 -4.28125 -0.3125 -4.21875 -0.34375 C -4.15625 -0.9375 -4.109375 -1.046875 -3.46875 -1.046875 L -1.34375 -1.046875 C -0.4375 -1.046875 -0.390625 -0.9375 -0.34375 -0.28125 C -0.28125 -0.21875 -0.046875 -0.21875 0.015625 -0.28125 C 0.015625 -0.609375 0 -1.046875 0 -1.484375 C 0 -1.921875 0.015625 -2.25 0.015625 -2.578125 C -0.046875 -2.65625 -0.28125 -2.65625 -0.34375 -2.578125 C -0.390625 -2.03125 -0.4375 -1.921875 -1.34375 -1.921875 L -3.125 -1.921875 C -3.359375 -1.921875 -3.5 -2.015625 -3.59375 -2.109375 C -4 -2.515625 -4.234375 -3.015625 -4.234375 -3.4375 C -4.234375 -3.65625 -4.09375 -3.890625 -3.84375 -4.015625 C -3.625 -4.125 -3.328125 -4.15625 -3 -4.15625 L -1.34375 -4.15625 C -0.4375 -4.15625 -0.390625 -4.046875 -0.34375 -3.46875 C -0.28125 -3.421875 -0.046875 -3.421875 0.015625 -3.46875 C 0.015625 -3.796875 0 -4.15625 0 -4.59375 C 0 -5.03125 0.015625 -5.421875 0.015625 -5.75 C -0.046875 -5.8125 -0.28125 -5.8125 -0.34375 -5.75 C -0.390625 -5.140625 -0.4375 -5.015625 -1.34375 -5.015625 L -2.96875 -5.015625 C -3.578125 -5.015625 -4.09375 -4.96875 -4.4375 -4.71875 C -4.671875 -4.53125 -4.8125 -4.1875 -4.8125 -3.8125 C -4.8125 -3.28125 -4.671875 -2.65625 -3.921875 -2.015625 Z M -3.921875 -2.015625 \"/>\n",
       "</symbol>\n",
       "<symbol overflow=\"visible\" id=\"glyph-1601166393153063-2-11\">\n",
       "<path style=\"stroke:none;\" d=\"M -6.71875 -4.90625 C -6.671875 -5.71875 -6.375 -5.71875 -5.78125 -5.484375 L -1.390625 -3.75 L -1.390625 -3.71875 L -5.84375 -1.953125 C -6.5 -1.703125 -6.65625 -1.78125 -6.71875 -2.515625 C -6.796875 -2.578125 -7.015625 -2.578125 -7.09375 -2.515625 C -7.078125 -2.078125 -7.0625 -1.59375 -7.0625 -1.1875 C -7.0625 -0.796875 -7.078125 -0.421875 -7.09375 -0.0625 C -7.015625 0.015625 -6.796875 0 -6.71875 -0.0625 C -6.671875 -0.671875 -6.484375 -0.75 -5.734375 -1.046875 L -0.125 -3.203125 C 0.0625 -3.28125 0.125 -3.359375 0.125 -3.46875 C 0.125 -3.578125 0.03125 -3.65625 -0.125 -3.71875 L -5.703125 -5.984375 C -6.21875 -6.203125 -6.65625 -6.375 -6.71875 -7.0625 C -6.796875 -7.125 -7.015625 -7.125 -7.09375 -7.0625 C -7.078125 -6.734375 -7.0625 -6.359375 -7.0625 -6.09375 C -7.0625 -5.84375 -7.078125 -5.359375 -7.09375 -4.90625 C -7.015625 -4.84375 -6.796875 -4.84375 -6.71875 -4.90625 Z M -6.71875 -4.90625 \"/>\n",
       "</symbol>\n",
       "<symbol overflow=\"visible\" id=\"glyph-1601166393153063-2-12\">\n",
       "<path style=\"stroke:none;\" d=\"M -1.34375 -1.046875 C -0.421875 -1.046875 -0.375 -0.921875 -0.34375 -0.25 C -0.28125 -0.1875 -0.046875 -0.1875 0.015625 -0.25 C 0.015625 -0.640625 0 -1.046875 0 -1.484375 C 0 -1.921875 0.015625 -2.328125 0.015625 -2.6875 C -0.046875 -2.765625 -0.28125 -2.765625 -0.34375 -2.6875 C -0.375 -2.03125 -0.421875 -1.90625 -1.34375 -1.90625 L -6.390625 -1.90625 C -7.09375 -1.90625 -7.53125 -1.953125 -7.53125 -1.953125 C -7.609375 -1.953125 -7.640625 -1.90625 -7.640625 -1.8125 C -7.53125 -1.53125 -7.375 -0.71875 -7.34375 -0.28125 C -7.265625 -0.25 -7.09375 -0.28125 -7.015625 -0.34375 C -6.984375 -0.96875 -6.9375 -1.046875 -6.125 -1.046875 Z M -1.34375 -1.046875 \"/>\n",
       "</symbol>\n",
       "<symbol overflow=\"visible\" id=\"glyph-1601166393153063-2-13\">\n",
       "<path style=\"stroke:none;\" d=\"M 0.109375 -2.375 C 0.109375 -2.796875 -0.109375 -3.3125 -0.546875 -3.859375 C -0.59375 -3.90625 -0.609375 -4.015625 -0.53125 -4.015625 C -0.265625 -4.046875 0.109375 -4.140625 0.109375 -4.140625 C 0.140625 -4.234375 0.125 -4.28125 0.109375 -4.34375 C -0.09375 -4.59375 -0.25 -4.96875 -0.328125 -5.640625 C -0.390625 -5.703125 -0.5625 -5.703125 -0.625 -5.640625 C -0.671875 -4.9375 -0.890625 -4.84375 -1.421875 -4.84375 L -3.53125 -4.84375 C -3.859375 -4.84375 -4.65625 -4.890625 -4.65625 -4.890625 C -4.6875 -4.890625 -4.71875 -4.859375 -4.71875 -4.796875 C -4.703125 -4.75 -4.703125 -4.578125 -4.703125 -4.421875 C -4.703125 -4.0625 -4.703125 -3.671875 -4.71875 -3.296875 C -4.65625 -3.234375 -4.421875 -3.234375 -4.359375 -3.296875 C -4.328125 -3.828125 -4.1875 -3.96875 -3.46875 -3.96875 L -1.359375 -3.96875 C -1.15625 -3.96875 -1.0625 -3.953125 -0.9375 -3.796875 C -0.578125 -3.390625 -0.40625 -2.984375 -0.40625 -2.703125 C -0.40625 -2.375 -0.5625 -1.828125 -1.53125 -1.828125 L -3.53125 -1.828125 C -3.859375 -1.828125 -4.65625 -1.875 -4.65625 -1.875 C -4.6875 -1.875 -4.71875 -1.84375 -4.71875 -1.78125 C -4.703125 -1.734375 -4.703125 -1.5625 -4.703125 -1.40625 C -4.703125 -1.046875 -4.703125 -0.65625 -4.71875 -0.28125 C -4.65625 -0.21875 -4.421875 -0.21875 -4.359375 -0.28125 C -4.3125 -0.8125 -4.1875 -0.96875 -3.484375 -0.96875 L -1.375 -0.96875 C -0.625 -0.96875 0.109375 -1.296875 0.109375 -2.375 Z M 0.109375 -2.375 \"/>\n",
       "</symbol>\n",
       "<symbol overflow=\"visible\" id=\"glyph-1601166393153063-3-0\">\n",
       "<path style=\"stroke:none;\" d=\"M 0 0 L 5.96875 0 L 5.96875 -8.34375 L 0 -8.34375 Z M 0.953125 -0.59375 L 2.984375 -3.640625 L 5.015625 -0.59375 Z M 0.59375 -7.203125 L 2.625 -4.171875 L 0.59375 -1.140625 Z M 3.34375 -4.171875 L 5.375 -7.203125 L 5.375 -1.140625 Z M 2.984375 -4.703125 L 0.953125 -7.734375 L 5.015625 -7.734375 Z M 2.984375 -4.703125 \"/>\n",
       "</symbol>\n",
       "<symbol overflow=\"visible\" id=\"glyph-1601166393153063-3-1\">\n",
       "<path style=\"stroke:none;\" d=\"M 4.703125 -5.796875 C 4.703125 -6.65625 4.03125 -7.296875 2.859375 -7.296875 C 1.640625 -7.296875 0.84375 -6.5625 0.84375 -5.640625 C 0.84375 -4.96875 1.171875 -4.484375 1.90625 -4.03125 L 2.21875 -3.84375 C 1.859375 -3.65625 1.546875 -3.4375 1.25 -3.171875 C 0.75 -2.75 0.546875 -2.21875 0.546875 -1.75 C 0.546875 -0.53125 1.40625 0.125 2.671875 0.125 C 4.25 0.125 5.015625 -1.03125 5.015625 -1.9375 C 5.015625 -2.625 4.703125 -3.234375 4.078125 -3.625 L 3.234375 -4.140625 C 3.796875 -4.40625 4.703125 -5.03125 4.703125 -5.796875 Z M 2.703125 -0.296875 C 2.15625 -0.296875 1.34375 -0.671875 1.34375 -1.75 C 1.34375 -2.109375 1.5 -2.9375 2.53125 -3.625 L 3.09375 -3.28125 C 3.84375 -2.828125 4.140625 -2.265625 4.140625 -1.703125 C 4.140625 -0.5 3.234375 -0.296875 2.703125 -0.296875 Z M 2.796875 -6.875 C 3.578125 -6.875 3.859375 -6.359375 3.859375 -5.8125 C 3.859375 -5.15625 3.234375 -4.625 2.90625 -4.390625 L 2.53125 -4.609375 C 1.78125 -5.109375 1.703125 -5.5 1.703125 -5.875 C 1.703125 -6.421875 2.078125 -6.875 2.796875 -6.875 Z M 2.796875 -6.875 \"/>\n",
       "</symbol>\n",
       "<symbol overflow=\"visible\" id=\"glyph-1601166393153063-3-2\">\n",
       "<path style=\"stroke:none;\" d=\"M 0.578125 -1.65625 C 0.625 -1.0625 0.65625 -0.5 0.65625 0 C 0.78125 -0.03125 0.890625 -0.03125 0.953125 -0.03125 C 1.046875 -0.03125 1.109375 -0.03125 1.1875 -0.015625 C 1.515625 0.078125 1.84375 0.125 2.28125 0.125 C 2.953125 0.125 4.1875 -0.203125 4.1875 -1.390625 C 4.1875 -2.203125 3.59375 -2.671875 2.78125 -2.96875 C 2.0625 -3.25 1.59375 -3.4375 1.59375 -4.09375 C 1.59375 -4.578125 2.015625 -4.859375 2.421875 -4.859375 C 2.6875 -4.859375 3.375 -4.75 3.53125 -3.734375 C 3.609375 -3.671875 3.84375 -3.6875 3.921875 -3.75 C 3.953125 -4.1875 3.984375 -4.625 4 -5.015625 C 3.625 -5.078125 3.046875 -5.25 2.421875 -5.25 C 1.546875 -5.25 0.734375 -4.671875 0.734375 -3.90625 C 0.734375 -3.03125 1.140625 -2.671875 2.0625 -2.28125 C 3.046875 -1.875 3.28125 -1.625 3.28125 -1.109375 C 3.28125 -0.53125 2.703125 -0.28125 2.265625 -0.28125 C 1.796875 -0.28125 1.53125 -0.4375 1.40625 -0.5625 C 1.140625 -0.84375 1.015625 -1.359375 0.9375 -1.65625 C 0.875 -1.734375 0.640625 -1.71875 0.578125 -1.65625 Z M 0.578125 -1.65625 \"/>\n",
       "</symbol>\n",
       "<symbol overflow=\"visible\" id=\"glyph-1601166393153063-3-3\">\n",
       "<path style=\"stroke:none;\" d=\"M 1.859375 -4.40625 C 1.859375 -4.75 1.828125 -5.0625 1.765625 -5.1875 C 1.75 -5.25 1.71875 -5.28125 1.625 -5.28125 C 1.296875 -5.15625 0.984375 -5.046875 0.15625 -4.9375 C 0.125 -4.859375 0.15625 -4.671875 0.171875 -4.609375 C 0.828125 -4.546875 0.953125 -4.484375 0.953125 -3.796875 L 0.953125 1.3125 C 0.953125 2.3125 0.828125 2.359375 0.09375 2.40625 C 0.03125 2.46875 0.03125 2.71875 0.09375 2.796875 C 0.515625 2.78125 0.953125 2.765625 1.4375 2.765625 C 1.90625 2.765625 2.484375 2.78125 2.875 2.796875 C 2.953125 2.71875 2.953125 2.46875 2.875 2.40625 C 2.03125 2.359375 1.90625 2.3125 1.90625 1.3125 L 1.90625 0.03125 C 1.90625 -0.125 1.953125 -0.125 2.0625 -0.078125 C 2.359375 0.046875 2.71875 0.125 3.109375 0.125 C 3.78125 0.125 4.375 -0.078125 4.859375 -0.546875 C 5.421875 -1.09375 5.75 -1.84375 5.75 -2.8125 C 5.75 -4.078125 4.859375 -5.25 3.640625 -5.25 C 3.078125 -5.25 2.46875 -4.890625 2 -4.34375 C 1.921875 -4.28125 1.875 -4.28125 1.859375 -4.40625 Z M 2.09375 -3.953125 C 2.40625 -4.34375 2.953125 -4.703125 3.296875 -4.703125 C 4.0625 -4.703125 4.71875 -3.84375 4.71875 -2.484375 C 4.71875 -1.5 4.375 -0.28125 3.03125 -0.28125 C 2.828125 -0.28125 2.40625 -0.34375 2.1875 -0.53125 C 1.953125 -0.75 1.90625 -0.828125 1.90625 -1.25 L 1.90625 -3.4375 C 1.90625 -3.6875 1.953125 -3.796875 2.09375 -3.953125 Z M 2.09375 -3.953125 \"/>\n",
       "</symbol>\n",
       "<symbol overflow=\"visible\" id=\"glyph-1601166393153063-3-4\">\n",
       "<path style=\"stroke:none;\" d=\"M 2.15625 -1.453125 L 2.15625 -3.84375 C 2.15625 -4.4375 2.21875 -5.203125 2.21875 -5.203125 C 2.21875 -5.25 2.15625 -5.28125 2.0625 -5.28125 C 1.71875 -5.15625 1.25 -5.046875 0.421875 -4.9375 C 0.390625 -4.859375 0.421875 -4.671875 0.4375 -4.609375 C 1.09375 -4.546875 1.21875 -4.46875 1.21875 -3.796875 L 1.21875 -1.453125 C 1.21875 -0.46875 1.09375 -0.4375 0.359375 -0.375 C 0.28125 -0.296875 0.28125 -0.046875 0.359375 0.03125 C 0.75 0.015625 1.21875 0 1.703125 0 C 2.171875 0 2.625 0.015625 3.03125 0.03125 C 3.09375 -0.046875 3.09375 -0.296875 3.03125 -0.375 C 2.296875 -0.421875 2.15625 -0.46875 2.15625 -1.453125 Z M 1.078125 -7.15625 C 1.078125 -6.84375 1.359375 -6.53125 1.65625 -6.53125 C 1.984375 -6.53125 2.265625 -6.859375 2.265625 -7.109375 C 2.265625 -7.40625 2.015625 -7.734375 1.703125 -7.734375 C 1.40625 -7.734375 1.078125 -7.453125 1.078125 -7.15625 Z M 1.078125 -7.15625 \"/>\n",
       "</symbol>\n",
       "<symbol overflow=\"visible\" id=\"glyph-1601166393153063-3-5\">\n",
       "<path style=\"stroke:none;\" d=\"M 2.203125 -4.28125 C 2.125 -4.203125 2.0625 -4.171875 2.0625 -4.28125 C 2.046875 -4.609375 2.015625 -5.0625 1.953125 -5.1875 C 1.9375 -5.25 1.90625 -5.28125 1.8125 -5.28125 C 1.484375 -5.15625 1.171875 -5.046875 0.34375 -4.9375 C 0.328125 -4.859375 0.34375 -4.671875 0.375 -4.609375 C 1.015625 -4.546875 1.140625 -4.484375 1.140625 -3.796875 L 1.140625 -1.453125 C 1.140625 -0.484375 1.03125 -0.4375 0.3125 -0.375 C 0.234375 -0.296875 0.234375 -0.046875 0.3125 0.03125 C 0.671875 0.015625 1.140625 0 1.625 0 C 2.109375 0 2.46875 0.015625 2.828125 0.03125 C 2.890625 -0.046875 2.890625 -0.296875 2.828125 -0.375 C 2.21875 -0.4375 2.09375 -0.484375 2.09375 -1.453125 L 2.09375 -3.421875 C 2.09375 -3.671875 2.203125 -3.8125 2.296875 -3.921875 C 2.75 -4.359375 3.28125 -4.625 3.75 -4.625 C 4 -4.625 4.25 -4.46875 4.390625 -4.203125 C 4.5 -3.953125 4.53125 -3.640625 4.53125 -3.28125 L 4.53125 -1.453125 C 4.53125 -0.484375 4.40625 -0.4375 3.796875 -0.375 C 3.734375 -0.296875 3.734375 -0.046875 3.796875 0.03125 C 4.140625 0.015625 4.53125 0 5.015625 0 C 5.484375 0 5.921875 0.015625 6.28125 0.03125 C 6.328125 -0.046875 6.328125 -0.296875 6.28125 -0.375 C 5.609375 -0.4375 5.46875 -0.484375 5.46875 -1.453125 L 5.46875 -3.234375 C 5.46875 -3.890625 5.421875 -4.46875 5.15625 -4.84375 C 4.953125 -5.109375 4.578125 -5.25 4.15625 -5.25 C 3.578125 -5.25 2.90625 -5.09375 2.203125 -4.28125 Z M 2.203125 -4.28125 \"/>\n",
       "</symbol>\n",
       "<symbol overflow=\"visible\" id=\"glyph-1601166393153063-3-6\">\n",
       "<path style=\"stroke:none;\" d=\"M 1.25 -1.140625 C 0.875 -1.140625 0.609375 -0.890625 0.609375 -0.546875 C 0.609375 -0.171875 0.921875 -0.0625 1.140625 -0.03125 C 1.359375 0 1.5625 0.078125 1.5625 0.34375 C 1.5625 0.59375 1.140625 1.140625 0.515625 1.296875 C 0.515625 1.421875 0.53125 1.5 0.625 1.59375 C 1.34375 1.453125 2.03125 0.890625 2.03125 0.046875 C 2.03125 -0.671875 1.71875 -1.140625 1.25 -1.140625 Z M 1.25 -1.140625 \"/>\n",
       "</symbol>\n",
       "<symbol overflow=\"visible\" id=\"glyph-1601166393153063-4-0\">\n",
       "<path style=\"stroke:none;\" d=\"M 0 0 L 3.984375 0 L 3.984375 -5.5625 L 0 -5.5625 Z M 0.640625 -0.390625 L 1.984375 -2.421875 L 3.34375 -0.390625 Z M 0.390625 -4.8125 L 1.75 -2.78125 L 0.390625 -0.75 Z M 2.234375 -2.78125 L 3.578125 -4.8125 L 3.578125 -0.75 Z M 1.984375 -3.140625 L 0.640625 -5.15625 L 3.34375 -5.15625 Z M 1.984375 -3.140625 \"/>\n",
       "</symbol>\n",
       "<symbol overflow=\"visible\" id=\"glyph-1601166393153063-4-1\">\n",
       "<path style=\"stroke:none;\" d=\"M 3.21875 -3.53125 C 3.03125 -3.328125 2.921875 -3.28125 2.78125 -3.28125 C 2.640625 -3.28125 2.53125 -3.3125 2.15625 -3.390625 C 1.78125 -3.453125 1.53125 -3.5 1.3125 -3.5 C 1.03125 -3.5 0.671875 -2.984375 0.546875 -2.515625 C 0.59375 -2.453125 0.671875 -2.453125 0.75 -2.453125 C 0.921875 -2.8125 1.0625 -2.890625 1.421875 -2.890625 C 1.78125 -2.890625 2.09375 -2.828125 2.3125 -2.828125 C 2.4375 -2.828125 2.5 -2.828125 2.578125 -2.84375 L 0.65625 -0.71875 C 0.5 -0.546875 0.1875 -0.171875 0.15625 -0.0625 C 0.1875 0 0.21875 0.046875 0.265625 0.046875 C 0.328125 0.078125 0.390625 0.09375 0.453125 0.09375 C 0.625 -0.203125 0.828125 -0.328125 0.90625 -0.328125 C 1.046875 -0.328125 1.265625 -0.28125 1.515625 -0.125 C 1.71875 0 1.96875 0.078125 2.203125 0.078125 C 2.546875 0.078125 2.8125 -0.125 3.171875 -0.984375 C 3.125 -1.03125 3.078125 -1.0625 2.984375 -1.0625 C 2.671875 -0.578125 2.453125 -0.53125 2.21875 -0.53125 C 1.8125 -0.53125 1.859375 -0.8125 1.125 -0.8125 C 1.6875 -1.4375 2.5625 -2.328125 3.015625 -2.890625 C 3.21875 -3.125 3.375 -3.296875 3.453125 -3.421875 Z M 3.21875 -3.53125 \"/>\n",
       "</symbol>\n",
       "<symbol overflow=\"visible\" id=\"glyph-1601166393153063-4-2\">\n",
       "<path style=\"stroke:none;\" d=\"M 2.296875 -0.96875 L 2.296875 -3.734375 C 2.296875 -4.21875 2.296875 -4.703125 2.3125 -4.8125 C 2.3125 -4.84375 2.296875 -4.84375 2.265625 -4.84375 C 1.828125 -4.578125 1.40625 -4.375 0.703125 -4.046875 C 0.71875 -3.953125 0.75 -3.875 0.828125 -3.828125 C 1.1875 -3.984375 1.375 -4.03125 1.515625 -4.03125 C 1.65625 -4.03125 1.6875 -3.84375 1.6875 -3.5625 L 1.6875 -0.96875 C 1.6875 -0.3125 1.46875 -0.265625 0.90625 -0.25 C 0.859375 -0.203125 0.859375 -0.03125 0.90625 0.015625 C 1.296875 0.015625 1.578125 0 2.015625 0 C 2.40625 0 2.59375 0.015625 2.984375 0.015625 C 3.03125 -0.03125 3.03125 -0.203125 2.984375 -0.25 C 2.4375 -0.265625 2.296875 -0.3125 2.296875 -0.96875 Z M 2.296875 -0.96875 \"/>\n",
       "</symbol>\n",
       "<symbol overflow=\"visible\" id=\"glyph-1601166393153063-4-3\">\n",
       "<path style=\"stroke:none;\" d=\"M 0.484375 -3.734375 C 0.484375 -3.5625 0.640625 -3.421875 0.8125 -3.421875 C 0.9375 -3.421875 1.171875 -3.5625 1.171875 -3.734375 C 1.171875 -3.796875 1.15625 -3.84375 1.140625 -3.90625 C 1.125 -3.953125 1.078125 -4.03125 1.078125 -4.09375 C 1.078125 -4.296875 1.296875 -4.578125 1.875 -4.578125 C 2.15625 -4.578125 2.5625 -4.375 2.5625 -3.625 C 2.5625 -3.109375 2.375 -2.6875 1.90625 -2.21875 L 1.328125 -1.640625 C 0.546875 -0.84375 0.421875 -0.453125 0.421875 0.015625 C 0.421875 0.015625 0.828125 0 1.078125 0 L 2.46875 0 C 2.71875 0 3.09375 0.015625 3.09375 0.015625 C 3.203125 -0.40625 3.28125 -1 3.28125 -1.25 C 3.234375 -1.28125 3.125 -1.296875 3.046875 -1.28125 C 2.921875 -0.71875 2.78125 -0.515625 2.5 -0.515625 L 1.078125 -0.515625 C 1.078125 -0.90625 1.625 -1.4375 1.671875 -1.484375 L 2.46875 -2.25 C 2.921875 -2.6875 3.265625 -3.046875 3.265625 -3.65625 C 3.265625 -4.515625 2.5625 -4.859375 1.921875 -4.859375 C 1.03125 -4.859375 0.484375 -4.203125 0.484375 -3.734375 Z M 0.484375 -3.734375 \"/>\n",
       "</symbol>\n",
       "<symbol overflow=\"visible\" id=\"glyph-1601166393153063-4-4\">\n",
       "<path style=\"stroke:none;\" d=\"M 1.59375 -2.46875 L 1.875 -1.6875 L 1.125 -0.578125 C 1.046875 -0.46875 0.96875 -0.4375 0.90625 -0.4375 C 0.84375 -0.4375 0.75 -0.453125 0.6875 -0.484375 C 0.625 -0.515625 0.546875 -0.53125 0.46875 -0.53125 C 0.28125 -0.53125 0.15625 -0.390625 0.15625 -0.21875 C 0.15625 -0.015625 0.4375 0.078125 0.625 0.078125 C 0.890625 0.078125 1.078125 -0.046875 1.4375 -0.546875 L 1.984375 -1.34375 L 2.296875 -0.359375 C 2.40625 -0.046875 2.484375 0.078125 2.75 0.078125 C 3.03125 0.078125 3.375 -0.078125 3.625 -0.484375 C 3.59375 -0.5625 3.515625 -0.625 3.4375 -0.640625 C 3.234375 -0.375 3.125 -0.3125 3.03125 -0.3125 C 2.96875 -0.3125 2.90625 -0.421875 2.84375 -0.609375 L 2.421875 -1.890625 L 3.015625 -2.78125 C 3.140625 -2.96875 3.34375 -3 3.390625 -3 C 3.453125 -3 3.5625 -2.96875 3.640625 -2.921875 C 3.6875 -2.875 3.8125 -2.84375 3.890625 -2.84375 C 4.015625 -2.84375 4.15625 -3 4.15625 -3.171875 C 4.15625 -3.375 3.9375 -3.5 3.75 -3.5 C 3.359375 -3.5 3.09375 -3.359375 2.703125 -2.796875 L 2.296875 -2.21875 L 2.078125 -2.921875 C 1.9375 -3.34375 1.859375 -3.5 1.65625 -3.5 C 1.46875 -3.5 0.890625 -3.171875 0.609375 -2.96875 C 0.609375 -2.875 0.640625 -2.78125 0.703125 -2.71875 C 0.8125 -2.765625 1.0625 -2.890625 1.234375 -2.890625 C 1.34375 -2.890625 1.421875 -2.875 1.453125 -2.796875 C 1.484375 -2.734375 1.546875 -2.609375 1.59375 -2.46875 Z M 1.59375 -2.46875 \"/>\n",
       "</symbol>\n",
       "</g>\n",
       "<clipPath id=\"clip-1601166393153063-1\">\n",
       "  <path d=\"M 45.390625 23.957031 L 288.5625 23.957031 L 288.5625 102 L 45.390625 102 Z M 45.390625 23.957031 \"/>\n",
       "</clipPath>\n",
       "<clipPath id=\"clip-1601166393153063-2\">\n",
       "  <path d=\"M 45.390625 54 L 288.5625 54 L 288.5625 122 L 45.390625 122 Z M 45.390625 54 \"/>\n",
       "</clipPath>\n",
       "<clipPath id=\"clip-1601166393153063-3\">\n",
       "  <path d=\"M 45.390625 23.957031 L 288.5625 23.957031 L 288.5625 195.128906 L 45.390625 195.128906 Z M 45.390625 23.957031 \"/>\n",
       "</clipPath>\n",
       "</defs>\n",
       "<g id=\"surface1\">\n",
       "<path style=\" stroke:none;fill-rule:nonzero;fill:rgb(100%,100%,100%);fill-opacity:1;\" d=\"M 45.390625 195.128906 L 288.5625 195.128906 L 288.5625 23.957031 L 45.390625 23.957031 Z M 45.390625 195.128906 \"/>\n",
       "<path style=\"fill:none;stroke-width:0.49814;stroke-linecap:butt;stroke-linejoin:miter;stroke:rgb(13.331604%,13.331604%,33.332825%);stroke-opacity:0.1;stroke-miterlimit:10;\" d=\"M 6.883437 -0.00090625 L 6.883437 171.170969 M 64.235 -0.00090625 L 64.235 171.170969 M 121.586562 -0.00090625 L 121.586562 171.170969 M 178.938125 -0.00090625 L 178.938125 171.170969 M 236.289688 -0.00090625 L 236.289688 171.170969 \" transform=\"matrix(1,0,0,-1,45.39,195.128)\"/>\n",
       "<path style=\"fill:none;stroke-width:0.49814;stroke-linecap:butt;stroke-linejoin:miter;stroke:rgb(13.331604%,13.331604%,33.332825%);stroke-opacity:0.1;stroke-miterlimit:10;\" d=\"M 0.000625 15.385812 L 243.1725 15.385812 M 0.000625 47.006906 L 243.1725 47.006906 M 0.000625 78.631906 L 243.1725 78.631906 M 0.000625 110.253 L 243.1725 110.253 M 0.000625 141.878 L 243.1725 141.878 \" transform=\"matrix(1,0,0,-1,45.39,195.128)\"/>\n",
       "<path style=\"fill:none;stroke-width:0.19925;stroke-linecap:butt;stroke-linejoin:miter;stroke:rgb(50%,50%,50%);stroke-opacity:1;stroke-miterlimit:10;\" d=\"M 6.883437 -0.00090625 L 6.883437 4.253 M 64.235 -0.00090625 L 64.235 4.253 M 121.586562 -0.00090625 L 121.586562 4.253 M 178.938125 -0.00090625 L 178.938125 4.253 M 236.289688 -0.00090625 L 236.289688 4.253 M 6.883437 171.170969 L 6.883437 166.917062 M 64.235 171.170969 L 64.235 166.917062 M 121.586562 171.170969 L 121.586562 166.917062 M 178.938125 171.170969 L 178.938125 166.917062 M 236.289688 171.170969 L 236.289688 166.917062 \" transform=\"matrix(1,0,0,-1,45.39,195.128)\"/>\n",
       "<path style=\"fill:none;stroke-width:0.19925;stroke-linecap:butt;stroke-linejoin:miter;stroke:rgb(50%,50%,50%);stroke-opacity:1;stroke-miterlimit:10;\" d=\"M 0.000625 15.385812 L 4.250625 15.385812 M 0.000625 47.006906 L 4.250625 47.006906 M 0.000625 78.631906 L 4.250625 78.631906 M 0.000625 110.253 L 4.250625 110.253 M 0.000625 141.878 L 4.250625 141.878 M 243.1725 15.385812 L 238.918594 15.385812 M 243.1725 47.006906 L 238.918594 47.006906 M 243.1725 78.631906 L 238.918594 78.631906 M 243.1725 110.253 L 238.918594 110.253 M 243.1725 141.878 L 238.918594 141.878 \" transform=\"matrix(1,0,0,-1,45.39,195.128)\"/>\n",
       "<g style=\"fill:rgb(0%,0%,0%);fill-opacity:1;\">\n",
       "  <use xlink:href=\"#glyph-1601166393153063-0-1\" x=\"49.492\" y=\"205.94\"/>\n",
       "</g>\n",
       "<g style=\"fill:rgb(0%,0%,0%);fill-opacity:1;\">\n",
       "  <use xlink:href=\"#glyph-1601166393153063-0-2\" x=\"106.843\" y=\"205.952\"/>\n",
       "</g>\n",
       "<g style=\"fill:rgb(0%,0%,0%);fill-opacity:1;\">\n",
       "  <use xlink:href=\"#glyph-1601166393153063-0-3\" x=\"161.415\" y=\"205.94\"/>\n",
       "  <use xlink:href=\"#glyph-1601166393153063-0-1\" x=\"166.974154\" y=\"205.94\"/>\n",
       "</g>\n",
       "<g style=\"fill:rgb(0%,0%,0%);fill-opacity:1;\">\n",
       "  <use xlink:href=\"#glyph-1601166393153063-0-3\" x=\"218.766\" y=\"205.952\"/>\n",
       "  <use xlink:href=\"#glyph-1601166393153063-0-2\" x=\"224.325154\" y=\"205.952\"/>\n",
       "</g>\n",
       "<g style=\"fill:rgb(0%,0%,0%);fill-opacity:1;\">\n",
       "  <use xlink:href=\"#glyph-1601166393153063-0-4\" x=\"276.117\" y=\"205.94\"/>\n",
       "  <use xlink:href=\"#glyph-1601166393153063-0-1\" x=\"281.676154\" y=\"205.94\"/>\n",
       "</g>\n",
       "<g style=\"fill:rgb(0%,0%,0%);fill-opacity:1;\">\n",
       "  <use xlink:href=\"#glyph-1601166393153063-0-5\" x=\"20.374\" y=\"183.317\"/>\n",
       "  <use xlink:href=\"#glyph-1601166393153063-0-1\" x=\"28.12095\" y=\"183.317\"/>\n",
       "  <use xlink:href=\"#glyph-1601166393153063-0-6\" x=\"33.680104\" y=\"183.317\"/>\n",
       "  <use xlink:href=\"#glyph-1601166393153063-0-7\" x=\"36.310242\" y=\"183.317\"/>\n",
       "</g>\n",
       "<g style=\"fill:rgb(0%,0%,0%);fill-opacity:1;\">\n",
       "  <use xlink:href=\"#glyph-1601166393153063-0-5\" x=\"20.374\" y=\"151.707\"/>\n",
       "  <use xlink:href=\"#glyph-1601166393153063-0-1\" x=\"28.12095\" y=\"151.707\"/>\n",
       "  <use xlink:href=\"#glyph-1601166393153063-0-6\" x=\"33.680104\" y=\"151.707\"/>\n",
       "  <use xlink:href=\"#glyph-1601166393153063-0-8\" x=\"36.310242\" y=\"151.707\"/>\n",
       "</g>\n",
       "<g style=\"fill:rgb(0%,0%,0%);fill-opacity:1;\">\n",
       "  <use xlink:href=\"#glyph-1601166393153063-0-5\" x=\"20.374\" y=\"120.084\"/>\n",
       "  <use xlink:href=\"#glyph-1601166393153063-0-1\" x=\"28.12095\" y=\"120.084\"/>\n",
       "  <use xlink:href=\"#glyph-1601166393153063-0-6\" x=\"33.680104\" y=\"120.084\"/>\n",
       "  <use xlink:href=\"#glyph-1601166393153063-0-9\" x=\"36.310242\" y=\"120.084\"/>\n",
       "</g>\n",
       "<g style=\"fill:rgb(0%,0%,0%);fill-opacity:1;\">\n",
       "  <use xlink:href=\"#glyph-1601166393153063-0-1\" x=\"28.121\" y=\"88.462\"/>\n",
       "  <use xlink:href=\"#glyph-1601166393153063-0-6\" x=\"33.680154\" y=\"88.462\"/>\n",
       "  <use xlink:href=\"#glyph-1601166393153063-0-1\" x=\"36.310291\" y=\"88.462\"/>\n",
       "</g>\n",
       "<g style=\"fill:rgb(0%,0%,0%);fill-opacity:1;\">\n",
       "  <use xlink:href=\"#glyph-1601166393153063-0-1\" x=\"28.121\" y=\"56.84\"/>\n",
       "  <use xlink:href=\"#glyph-1601166393153063-0-6\" x=\"33.680154\" y=\"56.84\"/>\n",
       "  <use xlink:href=\"#glyph-1601166393153063-0-9\" x=\"36.310291\" y=\"56.84\"/>\n",
       "</g>\n",
       "<g clip-path=\"url(#clip-1601166393153063-1)\" clip-rule=\"nonzero\">\n",
       "<path style=\"fill:none;stroke-width:1.19553;stroke-linecap:butt;stroke-linejoin:miter;stroke:rgb(93.331909%,46.665955%,19.999695%);stroke-opacity:1;stroke-miterlimit:10;\" d=\"M 6.883437 110.253 L 7.457656 110.385812 L 8.027969 110.776437 L 8.602187 111.428781 L 9.176406 112.327219 L 9.750625 113.463937 L 10.324844 114.823312 L 10.895156 116.389719 L 11.469375 118.139719 L 12.043594 120.061594 L 12.617812 122.120187 L 13.192031 124.299875 L 13.76625 126.569406 L 14.336562 128.905344 L 14.910781 131.280344 L 15.485 133.65925 L 16.059219 136.026437 L 16.633437 138.34675 L 17.20375 140.59675 L 17.777969 142.753 L 18.352187 144.795969 L 18.926406 146.698312 L 19.500625 148.448312 L 20.074844 150.026437 L 20.645156 151.417062 L 21.219375 152.616281 L 21.793594 153.612375 L 22.367812 154.397531 L 22.942031 154.975656 L 23.512344 155.342844 L 24.086562 155.503 L 24.660781 155.463937 L 25.235 155.229562 L 25.809219 154.8155 L 26.383437 154.237375 L 26.95375 153.499094 L 27.527969 152.628 L 28.102187 151.631906 L 28.676406 150.53425 L 29.250625 149.354562 L 29.820937 148.108469 L 30.395156 146.819406 L 30.969375 145.503 L 31.543594 144.178781 L 32.117812 142.866281 L 32.692031 141.581125 L 33.262344 140.338937 L 33.836562 139.151437 L 34.410781 138.030344 L 34.985 136.991281 L 35.559219 136.042062 L 36.133437 135.186594 L 36.70375 134.428781 L 37.277969 133.776437 L 37.852187 133.229562 L 38.426406 132.788156 L 39.000625 132.448312 L 39.570937 132.202219 L 40.145156 132.053781 L 40.719375 131.987375 L 41.293594 132.003 L 41.867812 132.085031 L 42.442031 132.229562 L 43.012344 132.428781 L 43.586562 132.663156 L 44.160781 132.928781 L 44.735 133.217844 L 45.309219 133.514719 L 45.879531 133.811594 L 46.45375 134.104562 L 47.027969 134.381906 L 47.602187 134.635812 L 48.176406 134.862375 L 48.750625 135.057687 L 49.320937 135.213937 L 49.895156 135.327219 L 50.469375 135.405344 L 51.043594 135.436594 L 51.617812 135.428781 L 52.188125 135.381906 L 52.762344 135.299875 L 53.336562 135.182687 L 53.910781 135.038156 L 54.485 134.870187 L 55.059219 134.682687 L 55.629531 134.479562 L 57.352187 133.858469 L 57.926406 133.667062 L 58.500625 133.491281 L 59.070937 133.335031 L 59.645156 133.202219 L 60.219375 133.100656 L 60.793594 133.03425 L 61.367812 132.999094 L 61.938125 133.003 L 62.512344 133.045969 L 63.086562 133.128 L 63.660781 133.245187 L 64.235 133.397531 L 64.809219 133.585031 L 65.379531 133.803781 L 65.95375 134.049875 L 66.527969 134.319406 L 67.102187 134.612375 L 67.676406 134.917062 L 68.246719 135.233469 L 69.395156 135.881906 L 69.969375 136.198312 L 70.543594 136.510812 L 71.117812 136.807687 L 71.688125 137.088937 L 72.262344 137.350656 L 72.836562 137.588937 L 73.410781 137.799875 L 73.985 137.987375 L 74.555312 138.139719 L 75.129531 138.264719 L 75.70375 138.358469 L 76.277969 138.424875 L 76.852187 138.460031 L 77.426406 138.467844 L 77.996719 138.452219 L 78.570937 138.413156 L 79.145156 138.354562 L 79.719375 138.276437 L 80.293594 138.186594 L 80.863906 138.085031 L 81.438125 137.979562 L 82.012344 137.870187 L 82.586562 137.756906 L 83.160781 137.651437 L 83.735 137.549875 L 84.305312 137.460031 L 84.879531 137.378 L 85.45375 137.311594 L 86.027969 137.256906 L 86.602187 137.22175 L 87.176406 137.198312 L 87.746719 137.198312 L 88.320937 137.210031 L 88.895156 137.237375 L 89.469375 137.280344 L 90.043594 137.338937 L 90.613906 137.405344 L 91.188125 137.483469 L 91.762344 137.5655 L 93.485 137.835031 L 94.055312 137.917062 L 94.629531 137.999094 L 95.20375 138.069406 L 95.777969 138.128 L 96.352187 138.178781 L 96.9225 138.210031 L 97.496719 138.225656 L 98.070937 138.225656 L 98.645156 138.206125 L 99.219375 138.167062 L 99.793594 138.112375 L 100.363906 138.038156 L 100.938125 137.948312 L 101.512344 137.842844 L 102.086562 137.717844 L 102.660781 137.585031 L 103.231094 137.436594 L 103.805312 137.280344 L 104.379531 137.120187 L 106.102187 136.616281 L 106.6725 136.448312 L 107.246719 136.288156 L 107.820937 136.135812 L 108.395156 135.991281 L 108.969375 135.858469 L 109.543594 135.737375 L 110.113906 135.631906 L 110.688125 135.542062 L 111.262344 135.467844 L 111.836562 135.405344 L 112.410781 135.362375 L 112.981094 135.335031 L 113.555312 135.323312 L 114.129531 135.323312 L 114.70375 135.338937 L 115.277969 135.366281 L 115.852187 135.405344 L 116.4225 135.452219 L 116.996719 135.506906 L 117.570937 135.5655 L 118.719375 135.698312 L 119.289687 135.764719 L 119.863906 135.835031 L 121.012344 135.960031 L 121.586562 136.018625 L 122.160781 136.073312 L 122.731094 136.124094 L 123.305312 136.167062 L 123.879531 136.202219 L 124.45375 136.233469 L 125.027969 136.260812 L 125.598281 136.28425 L 126.1725 136.303781 L 128.469375 136.366281 L 129.039688 136.385812 L 129.613906 136.40925 L 130.188125 136.436594 L 130.762344 136.47175 L 131.336563 136.514719 L 131.910781 136.561594 L 132.481094 136.620187 L 133.055313 136.6905 L 133.629531 136.768625 L 134.20375 136.854562 L 134.777969 136.952219 L 135.348281 137.057687 L 135.9225 137.170969 L 136.496719 137.288156 L 137.645156 137.538156 L 138.219375 137.667062 L 138.789688 137.792062 L 139.363906 137.917062 L 139.938125 138.03425 L 140.512344 138.139719 L 141.086563 138.237375 L 141.656875 138.323312 L 142.231094 138.389719 L 142.805313 138.436594 L 143.379531 138.460031 L 143.95375 138.463937 L 144.527969 138.436594 L 145.098281 138.385812 L 145.6725 138.303781 L 146.246719 138.194406 L 146.820938 138.049875 L 147.395156 137.874094 L 147.965469 137.670969 L 148.539688 137.432687 L 149.113906 137.167062 L 149.688125 136.874094 L 150.262344 136.549875 L 150.836563 136.206125 L 151.406875 135.838937 L 151.981094 135.452219 L 152.555313 135.049875 L 153.129531 134.635812 L 153.70375 134.217844 L 154.274063 133.792062 L 154.848281 133.370187 L 155.4225 132.952219 L 155.996719 132.545969 L 156.570938 132.15925 L 157.145156 131.788156 L 157.715469 131.444406 L 158.289688 131.131906 L 158.863906 130.850656 L 159.438125 130.612375 L 160.012344 130.417062 L 160.586563 130.268625 L 161.156875 130.170969 L 161.731094 130.128 L 162.305313 130.143625 L 162.879531 130.217844 L 163.45375 130.354562 L 164.024063 130.553781 L 164.598281 130.819406 L 165.1725 131.147531 L 165.746719 131.538156 L 166.320938 131.995187 L 166.895156 132.510812 L 167.465469 133.088937 L 168.039688 133.72175 L 168.613906 134.413156 L 169.188125 135.151437 L 169.762344 135.9405 L 170.332656 136.764719 L 170.906875 137.631906 L 171.481094 138.522531 L 172.055313 139.4405 L 172.629531 140.374094 L 173.20375 141.3155 L 173.774063 142.260812 L 174.348281 143.198312 L 174.9225 144.124094 L 175.496719 145.026437 L 176.070938 145.897531 L 176.64125 146.725656 L 177.215469 147.506906 L 177.789688 148.233469 L 178.363906 148.889719 L 178.938125 149.475656 L 179.512344 149.979562 L 180.082656 150.397531 L 180.656875 150.717844 L 181.231094 150.932687 L 181.805313 151.045969 L 182.379531 151.042062 L 182.95375 150.924875 L 183.524063 150.686594 L 184.098281 150.327219 L 184.6725 149.842844 L 185.246719 149.237375 L 185.820938 148.506906 L 186.39125 147.65925 L 186.965469 146.694406 L 187.539688 145.620187 L 188.113906 144.436594 L 188.688125 143.155344 L 189.262344 141.788156 L 189.832656 140.335031 L 190.406875 138.811594 L 190.981094 137.229562 L 191.555313 135.604562 L 192.129531 133.9405 L 192.699844 132.260812 L 193.274063 130.577219 L 193.848281 128.905344 L 194.4225 127.256906 L 194.996719 125.655344 L 195.570938 124.108469 L 196.14125 122.631906 L 196.715469 121.249094 L 197.289688 119.963937 L 197.863906 118.799875 L 198.438125 117.764719 L 199.008438 116.874094 L 199.582656 116.135812 L 200.156875 115.561594 L 200.731094 115.155344 L 201.305313 114.932687 L 201.879531 114.889719 L 202.449844 115.030344 L 203.024063 115.362375 L 203.598281 115.878 L 204.1725 116.581125 L 204.746719 117.460031 L 205.317031 118.514719 L 205.89125 119.729562 L 206.465469 121.104562 L 207.039688 122.616281 L 207.613906 124.256906 L 208.188125 126.014719 L 208.758438 127.862375 L 209.332656 129.795969 L 209.906875 131.78425 L 210.481094 133.8155 L 211.055313 135.870187 L 211.629531 137.920969 L 212.199844 139.952219 L 212.774063 141.944406 L 213.348281 143.874094 L 213.9225 145.725656 L 214.496719 147.479562 L 215.067031 149.120187 L 215.64125 150.624094 L 216.215469 151.987375 L 216.789688 153.186594 L 217.363906 154.22175 L 217.938125 155.073312 L 218.508438 155.737375 L 219.082656 156.213937 L 219.656875 156.495187 L 220.231094 156.585031 L 220.805313 156.479562 L 221.375625 156.1905 L 221.949844 155.713937 L 222.524063 155.069406 L 223.098281 154.260812 L 223.6725 153.299875 L 224.246719 152.202219 L 224.817031 150.979562 L 225.39125 149.655344 L 225.965469 148.245187 L 226.539688 146.760812 L 227.113906 145.229562 L 227.684219 143.667062 L 228.258438 142.092844 L 228.832656 140.522531 L 229.406875 138.979562 L 229.981094 137.483469 L 230.555313 136.042062 L 231.125625 134.682687 L 231.699844 133.40925 L 232.274063 132.241281 L 232.848281 131.1905 L 233.4225 130.260812 L 233.996719 129.463937 L 234.567031 128.803781 L 235.14125 128.28425 L 235.715469 127.905344 L 236.289688 127.670969 \" transform=\"matrix(1,0,0,-1,45.39,195.128)\"/>\n",
       "</g>\n",
       "<g clip-path=\"url(#clip-1601166393153063-2)\" clip-rule=\"nonzero\">\n",
       "<path style=\"fill:none;stroke-width:1.19553;stroke-linecap:butt;stroke-linejoin:miter;stroke:rgb(0%,46.665955%,73.33374%);stroke-opacity:1;stroke-miterlimit:10;\" d=\"M 6.883437 110.253 L 8.027969 110.253 L 8.602187 110.256906 L 9.176406 110.268625 L 9.750625 110.288156 L 10.324844 110.319406 L 10.895156 110.374094 L 11.469375 110.456125 L 12.043594 110.569406 L 12.617812 110.717844 L 13.192031 110.90925 L 13.76625 111.147531 L 14.336562 111.436594 L 14.910781 111.772531 L 15.485 112.15925 L 16.059219 112.59675 L 16.633437 113.077219 L 17.20375 113.59675 L 17.777969 114.151437 L 18.352187 114.733469 L 18.926406 115.331125 L 19.500625 115.936594 L 20.074844 116.538156 L 20.645156 117.124094 L 21.219375 117.686594 L 21.793594 118.213937 L 22.367812 118.6905 L 22.942031 119.116281 L 23.512344 119.475656 L 24.086562 119.760812 L 24.660781 119.967844 L 25.235 120.092844 L 25.809219 120.131906 L 26.383437 120.077219 L 26.95375 119.936594 L 27.527969 119.706125 L 28.102187 119.385812 L 28.676406 118.979562 L 29.250625 118.491281 L 29.820937 117.920969 L 30.395156 117.280344 L 30.969375 116.573312 L 31.543594 115.799875 L 32.117812 114.967844 L 32.692031 114.085031 L 33.262344 113.151437 L 33.836562 112.182687 L 34.410781 111.174875 L 34.985 110.139719 L 35.559219 109.077219 L 36.133437 107.999094 L 36.70375 106.90925 L 37.852187 104.706125 L 38.426406 103.612375 L 39.000625 102.522531 L 39.570937 101.452219 L 40.145156 100.405344 L 40.719375 99.385812 L 41.293594 98.397531 L 41.867812 97.452219 L 42.442031 96.553781 L 43.012344 95.706125 L 43.586562 94.913156 L 44.160781 94.186594 L 44.735 93.526437 L 45.309219 92.932687 L 45.879531 92.413156 L 46.45375 91.967844 L 47.027969 91.600656 L 47.602187 91.307687 L 48.176406 91.092844 L 48.750625 90.952219 L 49.320937 90.881906 L 49.895156 90.878 L 50.469375 90.936594 L 51.043594 91.057687 L 51.617812 91.229562 L 52.188125 91.448312 L 52.762344 91.710031 L 53.336562 92.003 L 53.910781 92.323312 L 54.485 92.663156 L 55.059219 93.014719 L 55.629531 93.374094 L 56.20375 93.733469 L 56.777969 94.085031 L 57.352187 94.428781 L 57.926406 94.756906 L 58.500625 95.0655 L 59.070937 95.354562 L 59.645156 95.616281 L 60.219375 95.850656 L 60.793594 96.061594 L 61.367812 96.249094 L 61.938125 96.405344 L 62.512344 96.538156 L 63.086562 96.651437 L 63.660781 96.741281 L 64.235 96.819406 L 64.809219 96.878 L 65.379531 96.928781 L 65.95375 96.97175 L 67.102187 97.049875 L 67.676406 97.09675 L 68.246719 97.147531 L 68.820937 97.210031 L 69.395156 97.288156 L 69.969375 97.381906 L 70.543594 97.495187 L 71.117812 97.628 L 71.688125 97.78425 L 72.262344 97.967844 L 72.836562 98.174875 L 73.410781 98.405344 L 73.985 98.667062 L 74.555312 98.952219 L 75.129531 99.260812 L 75.70375 99.592844 L 76.277969 99.948312 L 76.852187 100.327219 L 77.426406 100.72175 L 77.996719 101.135812 L 78.570937 101.5655 L 79.145156 102.003 L 79.719375 102.452219 L 80.293594 102.90925 L 80.863906 103.366281 L 82.012344 104.280344 L 82.586562 104.729562 L 83.160781 105.170969 L 83.735 105.600656 L 84.305312 106.018625 L 84.879531 106.420969 L 85.45375 106.803781 L 86.027969 107.167062 L 86.602187 107.514719 L 87.176406 107.842844 L 87.746719 108.151437 L 88.320937 108.4405 L 88.895156 108.713937 L 89.469375 108.967844 L 90.043594 109.213937 L 90.613906 109.448312 L 91.188125 109.674875 L 92.336562 110.120187 L 92.910781 110.34675 L 93.485 110.581125 L 94.055312 110.823312 L 94.629531 111.081125 L 95.20375 111.358469 L 95.777969 111.647531 L 96.352187 111.960031 L 96.9225 112.292062 L 97.496719 112.643625 L 98.070937 113.014719 L 98.645156 113.401437 L 99.219375 113.803781 L 99.793594 114.213937 L 100.363906 114.628 L 100.938125 115.045969 L 101.512344 115.460031 L 102.086562 115.858469 L 102.660781 116.245187 L 103.231094 116.604562 L 103.805312 116.9405 L 104.379531 117.241281 L 104.95375 117.503 L 105.527969 117.72175 L 106.102187 117.893625 L 106.6725 118.022531 L 107.246719 118.100656 L 107.820937 118.131906 L 108.395156 118.116281 L 108.969375 118.053781 L 109.543594 117.952219 L 110.113906 117.811594 L 110.688125 117.635812 L 111.262344 117.432687 L 111.836562 117.206125 L 112.410781 116.960031 L 112.981094 116.702219 L 113.555312 116.436594 L 114.70375 115.897531 L 115.277969 115.631906 L 115.852187 115.370187 L 116.4225 115.120187 L 116.996719 114.874094 L 117.570937 114.635812 L 118.145156 114.401437 L 118.719375 114.174875 L 119.289687 113.952219 L 119.863906 113.725656 L 120.438125 113.495187 L 121.012344 113.256906 L 121.586562 113.014719 L 122.160781 112.756906 L 122.731094 112.483469 L 123.305312 112.194406 L 123.879531 111.889719 L 124.45375 111.569406 L 125.027969 111.229562 L 125.598281 110.874094 L 126.1725 110.506906 L 126.746719 110.128 L 127.320937 109.737375 L 128.469375 108.948312 L 129.039688 108.549875 L 129.613906 108.15925 L 130.188125 107.776437 L 130.762344 107.401437 L 131.336563 107.038156 L 131.910781 106.6905 L 132.481094 106.358469 L 133.055313 106.038156 L 133.629531 105.733469 L 134.20375 105.4405 L 134.777969 105.15925 L 135.348281 104.885812 L 135.9225 104.616281 L 137.070938 104.085031 L 137.645156 103.811594 L 138.219375 103.53425 L 138.789688 103.245187 L 139.363906 102.944406 L 139.938125 102.628 L 140.512344 102.295969 L 141.086563 101.944406 L 141.656875 101.577219 L 142.231094 101.194406 L 142.805313 100.799875 L 143.379531 100.385812 L 143.95375 99.967844 L 144.527969 99.538156 L 145.098281 99.108469 L 146.246719 98.249094 L 146.820938 97.835031 L 147.395156 97.428781 L 147.965469 97.042062 L 148.539688 96.674875 L 149.113906 96.331125 L 149.688125 96.014719 L 150.262344 95.729562 L 150.836563 95.475656 L 151.406875 95.256906 L 151.981094 95.069406 L 152.555313 94.920969 L 153.129531 94.807687 L 153.70375 94.729562 L 154.274063 94.686594 L 154.848281 94.678781 L 155.4225 94.706125 L 155.996719 94.764719 L 156.570938 94.858469 L 157.145156 94.983469 L 157.715469 95.135812 L 158.289688 95.319406 L 158.863906 95.53425 L 159.438125 95.776437 L 160.012344 96.049875 L 160.586563 96.350656 L 161.156875 96.682687 L 161.731094 97.042062 L 162.305313 97.432687 L 162.879531 97.858469 L 163.45375 98.311594 L 164.024063 98.795969 L 164.598281 99.3155 L 165.1725 99.866281 L 165.746719 100.452219 L 166.320938 101.0655 L 166.895156 101.710031 L 167.465469 102.385812 L 168.039688 103.085031 L 168.613906 103.811594 L 169.188125 104.557687 L 169.762344 105.319406 L 170.332656 106.09675 L 172.055313 108.452219 L 172.629531 109.225656 L 173.20375 109.983469 L 173.774063 110.717844 L 174.348281 111.420969 L 174.9225 112.088937 L 175.496719 112.713937 L 176.070938 113.288156 L 176.64125 113.803781 L 177.215469 114.256906 L 177.789688 114.643625 L 178.363906 114.956125 L 178.938125 115.1905 L 179.512344 115.342844 L 180.082656 115.413156 L 180.656875 115.397531 L 181.231094 115.295969 L 181.805313 115.108469 L 182.379531 114.835031 L 182.95375 114.475656 L 183.524063 114.03425 L 184.098281 113.518625 L 184.6725 112.924875 L 185.246719 112.268625 L 185.820938 111.545969 L 186.39125 110.772531 L 186.965469 109.952219 L 187.539688 109.088937 L 188.113906 108.202219 L 188.688125 107.292062 L 189.262344 106.370187 L 189.832656 105.448312 L 190.406875 104.538156 L 190.981094 103.643625 L 191.555313 102.776437 L 192.129531 101.944406 L 192.699844 101.163156 L 193.274063 100.432687 L 193.848281 99.764719 L 194.4225 99.163156 L 194.996719 98.635812 L 195.570938 98.1905 L 196.14125 97.827219 L 196.715469 97.549875 L 197.289688 97.358469 L 197.863906 97.256906 L 198.438125 97.245187 L 199.008438 97.323312 L 199.582656 97.487375 L 200.156875 97.737375 L 200.731094 98.069406 L 201.305313 98.479562 L 201.879531 98.963937 L 202.449844 99.518625 L 203.024063 100.143625 L 203.598281 100.823312 L 204.1725 101.5655 L 204.746719 102.354562 L 205.317031 103.194406 L 205.89125 104.073312 L 206.465469 104.991281 L 207.039688 105.936594 L 207.613906 106.913156 L 208.188125 107.913156 L 208.758438 108.928781 L 209.332656 109.956125 L 209.906875 110.987375 L 210.481094 112.022531 L 211.055313 113.049875 L 211.629531 114.069406 L 212.199844 115.0655 L 212.774063 116.042062 L 213.348281 116.983469 L 213.9225 117.889719 L 214.496719 118.749094 L 215.067031 119.557687 L 215.64125 120.303781 L 216.215469 120.987375 L 216.789688 121.59675 L 217.363906 122.128 L 217.938125 122.573312 L 218.508438 122.936594 L 219.082656 123.206125 L 219.656875 123.381906 L 220.231094 123.460031 L 220.805313 123.444406 L 221.375625 123.331125 L 221.949844 123.124094 L 222.524063 122.827219 L 223.098281 122.4405 L 223.6725 121.967844 L 224.246719 121.417062 L 224.817031 120.792062 L 225.39125 120.100656 L 225.965469 119.350656 L 226.539688 118.545969 L 227.113906 117.694406 L 227.684219 116.803781 L 228.258438 115.878 L 228.832656 114.928781 L 229.406875 113.960031 L 229.981094 112.979562 L 230.555313 111.987375 L 231.125625 110.995187 L 231.699844 110.003 L 232.274063 109.018625 L 232.848281 108.038156 L 233.4225 107.073312 L 233.996719 106.120187 L 234.567031 105.182687 L 235.14125 104.264719 L 235.715469 103.362375 L 236.289688 102.483469 \" transform=\"matrix(1,0,0,-1,45.39,195.128)\"/>\n",
       "</g>\n",
       "<g clip-path=\"url(#clip-1601166393153063-3)\" clip-rule=\"nonzero\">\n",
       "<path style=\"fill:none;stroke-width:1.19553;stroke-linecap:butt;stroke-linejoin:miter;stroke:rgb(19.999695%,73.33374%,93.331909%);stroke-opacity:1;stroke-miterlimit:10;\" d=\"M 6.883437 4.842844 L 7.457656 4.975656 L 8.027969 5.370187 L 8.602187 6.026437 L 9.176406 6.9405 L 9.750625 8.104562 L 10.324844 9.518625 L 10.895156 11.170969 L 11.469375 13.057687 L 12.043594 15.167062 L 12.617812 17.491281 L 13.192031 20.018625 L 13.76625 22.737375 L 14.336562 25.635812 L 14.910781 28.706125 L 15.485 31.928781 L 16.059219 35.292062 L 16.633437 38.788156 L 17.20375 42.397531 L 17.777969 46.108469 L 18.352187 49.913156 L 18.926406 53.792062 L 19.500625 57.733469 L 20.074844 61.729562 L 20.645156 65.760812 L 21.219375 69.819406 L 21.793594 73.897531 L 22.367812 77.979562 L 22.942031 82.053781 L 23.512344 86.112375 L 24.086562 90.147531 L 24.660781 94.143625 L 25.235 98.09675 L 25.809219 101.995187 L 26.383437 105.835031 L 26.95375 109.604562 L 27.527969 113.295969 L 28.102187 116.905344 L 28.676406 120.424875 L 29.250625 123.842844 L 29.820937 127.15925 L 30.395156 130.362375 L 30.969375 133.456125 L 31.543594 136.424875 L 32.117812 139.268625 L 32.692031 141.987375 L 33.262344 144.5655 L 33.836562 147.010812 L 34.410781 149.3155 L 34.985 151.475656 L 35.559219 153.491281 L 36.133437 155.358469 L 36.70375 157.077219 L 37.277969 158.647531 L 37.852187 160.069406 L 38.426406 161.338937 L 39.000625 162.463937 L 39.570937 163.436594 L 40.145156 164.264719 L 40.719375 164.952219 L 41.293594 165.495187 L 41.867812 165.901437 L 42.442031 166.170969 L 43.012344 166.311594 L 43.586562 166.323312 L 44.160781 166.217844 L 44.735 165.987375 L 45.309219 165.647531 L 45.879531 165.202219 L 46.45375 164.651437 L 47.027969 164.003 L 47.602187 163.260812 L 48.176406 162.432687 L 48.750625 161.522531 L 49.320937 160.538156 L 49.895156 159.479562 L 50.469375 158.358469 L 51.043594 157.170969 L 51.617812 155.932687 L 52.188125 154.639719 L 52.762344 153.299875 L 53.336562 151.917062 L 53.910781 150.499094 L 54.485 149.045969 L 55.059219 147.5655 L 55.629531 146.057687 L 56.20375 144.526437 L 56.777969 142.979562 L 57.352187 141.417062 L 57.926406 139.842844 L 58.500625 138.260812 L 59.070937 136.674875 L 60.219375 133.503 L 60.793594 131.924875 L 61.367812 130.350656 L 61.938125 128.788156 L 62.512344 127.241281 L 63.086562 125.706125 L 63.660781 124.1905 L 64.235 122.694406 L 64.809219 121.22175 L 65.379531 119.776437 L 65.95375 118.354562 L 66.527969 116.963937 L 67.102187 115.604562 L 67.676406 114.276437 L 68.246719 112.987375 L 68.820937 111.729562 L 69.395156 110.510812 L 69.969375 109.331125 L 70.543594 108.1905 L 71.117812 107.092844 L 71.688125 106.03425 L 72.262344 105.022531 L 72.836562 104.049875 L 73.410781 103.128 L 73.985 102.245187 L 74.555312 101.413156 L 75.129531 100.624094 L 75.70375 99.878 L 76.277969 99.182687 L 76.852187 98.53425 L 77.426406 97.928781 L 77.996719 97.370187 L 78.570937 96.858469 L 79.145156 96.393625 L 79.719375 95.975656 L 80.293594 95.59675 L 80.863906 95.268625 L 81.438125 94.979562 L 82.012344 94.737375 L 82.586562 94.538156 L 83.160781 94.378 L 83.735 94.260812 L 84.305312 94.186594 L 84.879531 94.147531 L 85.45375 94.147531 L 86.027969 94.186594 L 86.602187 94.260812 L 87.176406 94.366281 L 87.746719 94.510812 L 88.320937 94.682687 L 88.895156 94.889719 L 89.469375 95.124094 L 90.043594 95.389719 L 90.613906 95.678781 L 91.188125 95.991281 L 91.762344 96.331125 L 92.336562 96.6905 L 92.910781 97.069406 L 93.485 97.467844 L 94.055312 97.885812 L 94.629531 98.3155 L 95.20375 98.760812 L 95.777969 99.213937 L 96.352187 99.678781 L 96.9225 100.151437 L 97.496719 100.631906 L 99.793594 102.569406 L 100.363906 103.053781 L 100.938125 103.526437 L 101.512344 103.995187 L 102.086562 104.456125 L 102.660781 104.905344 L 103.231094 105.342844 L 103.805312 105.768625 L 104.379531 106.174875 L 104.95375 106.5655 L 105.527969 106.936594 L 106.102187 107.28425 L 106.6725 107.612375 L 107.246719 107.920969 L 107.820937 108.202219 L 108.395156 108.460031 L 108.969375 108.6905 L 109.543594 108.893625 L 110.113906 109.073312 L 110.688125 109.225656 L 111.262344 109.34675 L 111.836562 109.444406 L 112.410781 109.510812 L 112.981094 109.553781 L 113.555312 109.569406 L 114.129531 109.561594 L 114.70375 109.530344 L 115.277969 109.47175 L 115.852187 109.393625 L 116.4225 109.295969 L 116.996719 109.182687 L 117.570937 109.045969 L 118.145156 108.901437 L 118.719375 108.737375 L 119.289687 108.569406 L 120.438125 108.202219 L 121.012344 108.006906 L 121.586562 107.8155 L 122.160781 107.620187 L 122.731094 107.428781 L 123.305312 107.237375 L 123.879531 107.053781 L 124.45375 106.874094 L 125.027969 106.706125 L 125.598281 106.545969 L 126.1725 106.397531 L 126.746719 106.260812 L 127.320937 106.139719 L 127.895156 106.030344 L 128.469375 105.9405 L 129.039688 105.862375 L 129.613906 105.799875 L 130.188125 105.756906 L 130.762344 105.725656 L 131.336563 105.717844 L 131.910781 105.72175 L 132.481094 105.745187 L 133.055313 105.78425 L 133.629531 105.838937 L 134.20375 105.913156 L 134.777969 106.003 L 135.348281 106.108469 L 135.9225 106.229562 L 136.496719 106.366281 L 137.070938 106.518625 L 137.645156 106.682687 L 138.219375 106.866281 L 138.789688 107.061594 L 139.363906 107.268625 L 139.938125 107.487375 L 140.512344 107.72175 L 141.086563 107.967844 L 141.656875 108.22175 L 142.231094 108.487375 L 142.805313 108.760812 L 143.379531 109.042062 L 143.95375 109.331125 L 144.527969 109.624094 L 145.098281 109.924875 L 146.820938 110.827219 L 147.395156 111.124094 L 147.965469 111.417062 L 148.539688 111.706125 L 149.113906 111.983469 L 149.688125 112.253 L 150.262344 112.510812 L 150.836563 112.753 L 151.406875 112.983469 L 151.981094 113.1905 L 152.555313 113.381906 L 153.129531 113.553781 L 153.70375 113.702219 L 154.274063 113.831125 L 154.848281 113.936594 L 155.4225 114.018625 L 155.996719 114.073312 L 156.570938 114.108469 L 157.145156 114.116281 L 157.715469 114.104562 L 158.289688 114.069406 L 158.863906 114.010812 L 159.438125 113.932687 L 160.012344 113.838937 L 160.586563 113.729562 L 161.156875 113.604562 L 161.731094 113.463937 L 162.305313 113.3155 L 162.879531 113.15925 L 163.45375 112.999094 L 164.024063 112.835031 L 165.1725 112.499094 L 165.746719 112.338937 L 166.320938 112.182687 L 166.895156 112.030344 L 167.465469 111.889719 L 168.039688 111.760812 L 168.613906 111.643625 L 169.188125 111.538156 L 169.762344 111.452219 L 170.332656 111.378 L 170.906875 111.319406 L 171.481094 111.280344 L 172.055313 111.260812 L 172.629531 111.256906 L 173.20375 111.272531 L 173.774063 111.307687 L 174.348281 111.362375 L 174.9225 111.432687 L 175.496719 111.526437 L 176.070938 111.635812 L 176.64125 111.760812 L 177.215469 111.90925 L 177.789688 112.069406 L 178.363906 112.253 L 178.938125 112.448312 L 179.512344 112.663156 L 180.082656 112.893625 L 180.656875 113.139719 L 181.231094 113.397531 L 181.805313 113.670969 L 182.379531 113.956125 L 182.95375 114.253 L 183.524063 114.561594 L 184.098281 114.878 L 185.246719 115.53425 L 185.820938 115.870187 L 186.39125 116.210031 L 187.539688 116.881906 L 188.113906 117.213937 L 188.688125 117.538156 L 189.262344 117.854562 L 189.832656 118.15925 L 190.406875 118.448312 L 190.981094 118.72175 L 191.555313 118.975656 L 192.129531 119.206125 L 192.699844 119.413156 L 193.274063 119.59675 L 193.848281 119.749094 L 194.4225 119.874094 L 194.996719 119.967844 L 195.570938 120.030344 L 196.14125 120.061594 L 196.715469 120.057687 L 197.289688 120.022531 L 197.863906 119.952219 L 198.438125 119.850656 L 199.008438 119.717844 L 199.582656 119.557687 L 200.156875 119.366281 L 200.731094 119.151437 L 201.305313 118.90925 L 201.879531 118.647531 L 202.449844 118.366281 L 203.024063 118.0655 L 203.598281 117.756906 L 204.1725 117.432687 L 204.746719 117.100656 L 205.317031 116.764719 L 205.89125 116.424875 L 207.039688 115.753 L 207.613906 115.420969 L 208.188125 115.100656 L 208.758438 114.788156 L 209.332656 114.487375 L 209.906875 114.198312 L 210.481094 113.924875 L 211.055313 113.670969 L 211.629531 113.428781 L 212.199844 113.210031 L 212.774063 113.006906 L 213.348281 112.823312 L 213.9225 112.65925 L 214.496719 112.514719 L 215.067031 112.389719 L 215.64125 112.28425 L 216.215469 112.198312 L 216.789688 112.128 L 217.363906 112.077219 L 217.938125 112.045969 L 218.508438 112.030344 L 219.082656 112.026437 L 219.656875 112.042062 L 220.231094 112.069406 L 220.805313 112.108469 L 221.375625 112.163156 L 221.949844 112.225656 L 222.524063 112.299875 L 223.098281 112.381906 L 223.6725 112.47175 L 224.246719 112.5655 L 224.817031 112.667062 L 227.113906 113.088937 L 227.684219 113.194406 L 228.258438 113.295969 L 228.832656 113.389719 L 229.406875 113.479562 L 229.981094 113.561594 L 230.555313 113.635812 L 231.125625 113.698312 L 231.699844 113.749094 L 232.274063 113.788156 L 232.848281 113.8155 L 233.4225 113.827219 L 233.996719 113.823312 L 234.567031 113.807687 L 235.14125 113.776437 L 235.715469 113.725656 L 236.289688 113.663156 \" transform=\"matrix(1,0,0,-1,45.39,195.128)\"/>\n",
       "</g>\n",
       "<g style=\"fill:rgb(0%,0%,0%);fill-opacity:1;\">\n",
       "  <use xlink:href=\"#glyph-1601166393153063-1-1\" x=\"155.44\" y=\"220.08\"/>\n",
       "  <use xlink:href=\"#glyph-1601166393153063-1-2\" x=\"161.982463\" y=\"220.08\"/>\n",
       "  <use xlink:href=\"#glyph-1601166393153063-1-3\" x=\"164.952325\" y=\"220.08\"/>\n",
       "  <use xlink:href=\"#glyph-1601166393153063-1-4\" x=\"173.609856\" y=\"220.08\"/>\n",
       "</g>\n",
       "<g style=\"fill:rgb(0%,0%,0%);fill-opacity:1;\">\n",
       "  <use xlink:href=\"#glyph-1601166393153063-2-1\" x=\"10.97\" y=\"150.103\"/>\n",
       "  <use xlink:href=\"#glyph-1601166393153063-2-2\" x=\"10.97\" y=\"143.998893\"/>\n",
       "  <use xlink:href=\"#glyph-1601166393153063-2-3\" x=\"10.97\" y=\"138.629032\"/>\n",
       "</g>\n",
       "<g style=\"fill:rgb(0%,0%,0%);fill-opacity:1;\">\n",
       "  <use xlink:href=\"#glyph-1601166393153063-2-4\" x=\"10.97\" y=\"132.86465\"/>\n",
       "</g>\n",
       "<g style=\"fill:rgb(0%,0%,0%);fill-opacity:1;\">\n",
       "  <use xlink:href=\"#glyph-1601166393153063-2-5\" x=\"10.97\" y=\"127.88931\"/>\n",
       "  <use xlink:href=\"#glyph-1601166393153063-2-6\" x=\"10.97\" y=\"123.1989\"/>\n",
       "  <use xlink:href=\"#glyph-1601166393153063-2-7\" x=\"10.97\" y=\"119.735888\"/>\n",
       "  <use xlink:href=\"#glyph-1601166393153063-2-6\" x=\"10.97\" y=\"114.727671\"/>\n",
       "  <use xlink:href=\"#glyph-1601166393153063-2-8\" x=\"10.97\" y=\"111.264658\"/>\n",
       "  <use xlink:href=\"#glyph-1601166393153063-2-9\" x=\"10.97\" y=\"108.294796\"/>\n",
       "  <use xlink:href=\"#glyph-1601166393153063-2-10\" x=\"10.97\" y=\"102.771511\"/>\n",
       "</g>\n",
       "<g style=\"fill:rgb(0%,0%,0%);fill-opacity:1;\">\n",
       "  <use xlink:href=\"#glyph-1601166393153063-2-11\" x=\"10.97\" y=\"94.092062\"/>\n",
       "</g>\n",
       "<g style=\"fill:rgb(0%,0%,0%);fill-opacity:1;\">\n",
       "  <use xlink:href=\"#glyph-1601166393153063-2-7\" x=\"10.97\" y=\"87.604393\"/>\n",
       "  <use xlink:href=\"#glyph-1601166393153063-2-12\" x=\"10.97\" y=\"82.596176\"/>\n",
       "  <use xlink:href=\"#glyph-1601166393153063-2-13\" x=\"10.97\" y=\"79.703026\"/>\n",
       "  <use xlink:href=\"#glyph-1601166393153063-2-4\" x=\"10.97\" y=\"73.88385\"/>\n",
       "</g>\n",
       "<g style=\"fill:rgb(0%,0%,0%);fill-opacity:1;\">\n",
       "  <use xlink:href=\"#glyph-1601166393153063-3-1\" x=\"130.101\" y=\"11.666\"/>\n",
       "</g>\n",
       "<g style=\"fill:rgb(0%,0%,0%);fill-opacity:1;\">\n",
       "  <use xlink:href=\"#glyph-1601166393153063-3-2\" x=\"138.648947\" y=\"11.666\"/>\n",
       "  <use xlink:href=\"#glyph-1601166393153063-3-3\" x=\"143.311463\" y=\"11.666\"/>\n",
       "  <use xlink:href=\"#glyph-1601166393153063-3-4\" x=\"149.516196\" y=\"11.666\"/>\n",
       "  <use xlink:href=\"#glyph-1601166393153063-3-5\" x=\"152.756047\" y=\"11.666\"/>\n",
       "  <use xlink:href=\"#glyph-1601166393153063-3-2\" x=\"159.235749\" y=\"11.666\"/>\n",
       "  <use xlink:href=\"#glyph-1601166393153063-3-6\" x=\"163.898266\" y=\"11.666\"/>\n",
       "</g>\n",
       "<g style=\"fill:rgb(0%,0%,0%);fill-opacity:1;\">\n",
       "  <use xlink:href=\"#glyph-1601166393153063-0-10\" x=\"169.517\" y=\"11.666\"/>\n",
       "</g>\n",
       "<g style=\"fill:rgb(0%,0%,0%);fill-opacity:1;\">\n",
       "  <use xlink:href=\"#glyph-1601166393153063-0-11\" x=\"179.02136\" y=\"11.666\"/>\n",
       "</g>\n",
       "<g style=\"fill:rgb(0%,0%,0%);fill-opacity:1;\">\n",
       "  <use xlink:href=\"#glyph-1601166393153063-0-1\" x=\"190.091848\" y=\"11.666\"/>\n",
       "  <use xlink:href=\"#glyph-1601166393153063-0-6\" x=\"195.651002\" y=\"11.666\"/>\n",
       "  <use xlink:href=\"#glyph-1601166393153063-0-2\" x=\"198.281139\" y=\"11.666\"/>\n",
       "</g>\n",
       "<path style=\"fill-rule:nonzero;fill:rgb(100%,100%,100%);fill-opacity:0.9;stroke-width:0.99628;stroke-linecap:butt;stroke-linejoin:miter;stroke:rgb(13.331604%,13.331604%,33.332825%);stroke-opacity:0.1;stroke-miterlimit:10;\" d=\"M 180.063125 121.018625 L 237.809219 121.018625 L 237.809219 167.245187 L 180.063125 167.245187 Z M 180.063125 121.018625 \" transform=\"matrix(1,0,0,-1,45.39,195.128)\"/>\n",
       "<path style=\"fill:none;stroke-width:1.19553;stroke-linecap:butt;stroke-linejoin:miter;stroke:rgb(93.331909%,46.665955%,19.999695%);stroke-opacity:1;stroke-miterlimit:10;\" d=\"M 0.0000625 0.0009375 L 17.007875 0.0009375 \" transform=\"matrix(1,0,0,-1,229.039,36.915)\"/>\n",
       "<g style=\"fill:rgb(13.331604%,13.331604%,33.332825%);fill-opacity:1;\">\n",
       "  <use xlink:href=\"#glyph-1601166393153063-0-12\" x=\"248.637\" y=\"40.26\"/>\n",
       "</g>\n",
       "<g style=\"fill:rgb(13.331604%,13.331604%,33.332825%);fill-opacity:1;\">\n",
       "  <use xlink:href=\"#glyph-1601166393153063-0-13\" x=\"252.929\" y=\"40.469\"/>\n",
       "</g>\n",
       "<g style=\"fill:rgb(13.331604%,13.331604%,33.332825%);fill-opacity:1;\">\n",
       "  <use xlink:href=\"#glyph-1601166393153063-4-1\" x=\"259.708\" y=\"35.986\"/>\n",
       "</g>\n",
       "<g style=\"fill:rgb(13.331604%,13.331604%,33.332825%);fill-opacity:1;\">\n",
       "  <use xlink:href=\"#glyph-1601166393153063-4-2\" x=\"258.512\" y=\"42.979\"/>\n",
       "</g>\n",
       "<g style=\"fill:rgb(13.331604%,13.331604%,33.332825%);fill-opacity:1;\">\n",
       "  <use xlink:href=\"#glyph-1601166393153063-0-14\" x=\"263.426\" y=\"40.26\"/>\n",
       "</g>\n",
       "<path style=\"fill:none;stroke-width:1.19553;stroke-linecap:butt;stroke-linejoin:miter;stroke:rgb(0%,46.665955%,73.33374%);stroke-opacity:1;stroke-miterlimit:10;\" d=\"M 0.0000625 -0.00009375 L 17.007875 -0.00009375 \" transform=\"matrix(1,0,0,-1,229.039,50.996)\"/>\n",
       "<g style=\"fill:rgb(13.331604%,13.331604%,33.332825%);fill-opacity:1;\">\n",
       "  <use xlink:href=\"#glyph-1601166393153063-0-12\" x=\"248.637\" y=\"54.341\"/>\n",
       "</g>\n",
       "<g style=\"fill:rgb(13.331604%,13.331604%,33.332825%);fill-opacity:1;\">\n",
       "  <use xlink:href=\"#glyph-1601166393153063-0-13\" x=\"252.929\" y=\"54.55\"/>\n",
       "</g>\n",
       "<g style=\"fill:rgb(13.331604%,13.331604%,33.332825%);fill-opacity:1;\">\n",
       "  <use xlink:href=\"#glyph-1601166393153063-4-1\" x=\"259.708\" y=\"50.067\"/>\n",
       "</g>\n",
       "<g style=\"fill:rgb(13.331604%,13.331604%,33.332825%);fill-opacity:1;\">\n",
       "  <use xlink:href=\"#glyph-1601166393153063-4-2\" x=\"258.512\" y=\"57.06\"/>\n",
       "</g>\n",
       "<g style=\"fill:rgb(13.331604%,13.331604%,33.332825%);fill-opacity:1;\">\n",
       "  <use xlink:href=\"#glyph-1601166393153063-0-13\" x=\"263.426\" y=\"54.55\"/>\n",
       "</g>\n",
       "<g style=\"fill:rgb(13.331604%,13.331604%,33.332825%);fill-opacity:1;\">\n",
       "  <use xlink:href=\"#glyph-1601166393153063-4-1\" x=\"270.204\" y=\"50.067\"/>\n",
       "</g>\n",
       "<g style=\"fill:rgb(13.331604%,13.331604%,33.332825%);fill-opacity:1;\">\n",
       "  <use xlink:href=\"#glyph-1601166393153063-4-3\" x=\"269.009\" y=\"57.06\"/>\n",
       "</g>\n",
       "<g style=\"fill:rgb(13.331604%,13.331604%,33.332825%);fill-opacity:1;\">\n",
       "  <use xlink:href=\"#glyph-1601166393153063-0-14\" x=\"273.922\" y=\"54.341\"/>\n",
       "</g>\n",
       "<path style=\"fill:none;stroke-width:1.19553;stroke-linecap:butt;stroke-linejoin:miter;stroke:rgb(19.999695%,73.33374%,93.331909%);stroke-opacity:1;stroke-miterlimit:10;\" d=\"M 0.0000625 -0.001125 L 17.007875 -0.001125 \" transform=\"matrix(1,0,0,-1,229.039,65.077)\"/>\n",
       "<g style=\"fill:rgb(13.331604%,13.331604%,33.332825%);fill-opacity:1;\">\n",
       "  <use xlink:href=\"#glyph-1601166393153063-0-12\" x=\"248.637\" y=\"68.422\"/>\n",
       "</g>\n",
       "<g style=\"fill:rgb(13.331604%,13.331604%,33.332825%);fill-opacity:1;\">\n",
       "  <use xlink:href=\"#glyph-1601166393153063-0-13\" x=\"252.929\" y=\"68.631\"/>\n",
       "</g>\n",
       "<g style=\"fill:rgb(13.331604%,13.331604%,33.332825%);fill-opacity:1;\">\n",
       "  <use xlink:href=\"#glyph-1601166393153063-4-4\" x=\"259.708\" y=\"64.148\"/>\n",
       "</g>\n",
       "<g style=\"fill:rgb(13.331604%,13.331604%,33.332825%);fill-opacity:1;\">\n",
       "  <use xlink:href=\"#glyph-1601166393153063-4-2\" x=\"258.512\" y=\"71.141\"/>\n",
       "</g>\n",
       "<g style=\"fill:rgb(13.331604%,13.331604%,33.332825%);fill-opacity:1;\">\n",
       "  <use xlink:href=\"#glyph-1601166393153063-0-14\" x=\"263.888\" y=\"68.422\"/>\n",
       "</g>\n",
       "</g>\n",
       "</svg>\n",
       "\n"
      ]
     },
     "execution_count": 254,
     "metadata": {},
     "output_type": "execute_result"
    }
   ],
   "source": [
    "plot(xlabel=\"Time\", ylabel=\"Expectation Value\")\n",
    "plot!(ts, hcat(fouts...)',\n",
    "    title = latexstring(\"$N spins, \\$\\\\lambda = $λ\\$\"),\n",
    "    label = [\n",
    "        L\"\\left\\langle\\pauli_1^z\\right\\rangle\"\n",
    "        L\"\\left\\langle\\pauli_1^z\\pauli_2^z\\right\\rangle\"\n",
    "        L\"\\left\\langle\\pauli_1^x\\right\\rangle\"\n",
    "        ])"
   ]
  }
 ],
 "metadata": {
  "kernelspec": {
   "display_name": "Julia 1.4.0",
   "language": "julia",
   "name": "julia-1.4"
  },
  "language_info": {
   "file_extension": ".jl",
   "mimetype": "application/julia",
   "name": "julia",
   "version": "1.4.0"
  },
  "latex_envs": {
   "LaTeX_envs_menu_present": true,
   "autoclose": false,
   "autocomplete": true,
   "bibliofile": "biblio.bib",
   "cite_by": "apalike",
   "current_citInitial": 1,
   "eqLabelWithNumbers": true,
   "eqNumInitial": 1,
   "hotkeys": {
    "equation": "Ctrl-E",
    "itemize": "Ctrl-I"
   },
   "labels_anchors": false,
   "latex_user_defs": false,
   "report_style_numbering": false,
   "user_envs_cfg": false
  }
 },
 "nbformat": 4,
 "nbformat_minor": 4
}
