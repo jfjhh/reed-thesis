{
 "cells": [
  {
   "cell_type": "markdown",
   "metadata": {},
   "source": [
    "# Computation of transverse-Ising superoperators"
   ]
  },
  {
   "cell_type": "code",
   "execution_count": 1,
   "metadata": {
    "ExecuteTime": {
     "end_time": "2020-11-20T21:49:16.331000-08:00",
     "start_time": "2020-11-21T05:49:16.328Z"
    },
    "tags": [
     "hide"
    ]
   },
   "outputs": [],
   "source": [
    "include(\"notebook_preamble.jl\");"
   ]
  },
  {
   "cell_type": "markdown",
   "metadata": {},
   "source": [
    "**TODO:** Redefine spin operators and the rest to depend on $N$ and maybe $\\lambda$, so that we can look at what happens as those parameters are varied."
   ]
  },
  {
   "cell_type": "markdown",
   "metadata": {
    "heading_collapsed": true
   },
   "source": [
    "## Utility functions"
   ]
  },
  {
   "cell_type": "code",
   "execution_count": 61,
   "metadata": {
    "ExecuteTime": {
     "end_time": "2020-11-20T21:49:19.358000-08:00",
     "start_time": "2020-11-21T05:49:19.349Z"
    },
    "hidden": true
   },
   "outputs": [],
   "source": [
    "trnorm(op) = tracenorm(dense(op))\n",
    "acomm(x, y) = x*y + y*x\n",
    "matriximage(A) = Gray.(1 .- abs.(A ./ max(1, maximum(A))))\n",
    "matriximage(A::Operator) = matriximage(dense(A).data)\n",
    "\n",
    "function acomm_table(a, b, N, image)\n",
    "    A = Matrix{Float64}(undef, N, N)\n",
    "    for i in 1:N, j in i:N\n",
    "        A[j, i] = trnorm(acomm(a(i), b(j))) / 2^N\n",
    "    end\n",
    "    L = LowerTriangular(A)\n",
    "    image ? matriximage(L) : L\n",
    "end\n",
    "\n",
    "function acomm_tables(c, N=Int(log2(size(c(1))[1])); image=true)\n",
    "    ct = dagger ∘ c\n",
    "    acomms = [\n",
    "        acomm_table(ct, c, N, image),\n",
    "        acomm_table(c, c, N, image),\n",
    "        acomm_table(ct, ct, N, image),\n",
    "    ]\n",
    "    if image\n",
    "        hcat(acomms...)\n",
    "    else\n",
    "        for ac in acomms\n",
    "            display(ac)\n",
    "        end\n",
    "    end\n",
    "end\n",
    "\n",
    "tpow(x, n) = ⊗(repeat([x], n)...);"
   ]
  },
  {
   "cell_type": "markdown",
   "metadata": {
    "heading_collapsed": true
   },
   "source": [
    "## Spins"
   ]
  },
  {
   "cell_type": "markdown",
   "metadata": {
    "hidden": true
   },
   "source": [
    "First, we set up the spin-1/2 sites and Pauli operators."
   ]
  },
  {
   "cell_type": "code",
   "execution_count": 3,
   "metadata": {
    "ExecuteTime": {
     "end_time": "2020-11-20T21:49:21.630000-08:00",
     "start_time": "2020-11-21T05:49:21.627Z"
    },
    "hidden": true
   },
   "outputs": [],
   "source": [
    "sb = SpinBasis(1//2)\n",
    "sx, sy, sz, sp, sm = sigmax(sb), sigmay(sb), sigmaz(sb), sigmap(sb), sigmam(sb)\n",
    "up, down = spinup(sb), spindown(sb)\n",
    "ψx = eigenstates(dense(sx))[2][1];"
   ]
  },
  {
   "cell_type": "markdown",
   "metadata": {
    "heading_collapsed": true
   },
   "source": [
    "## Ising model"
   ]
  },
  {
   "cell_type": "markdown",
   "metadata": {
    "hidden": true
   },
   "source": [
    "To create a $N$-site spin loop, we need to construct the basis for the loop and operators for each site."
   ]
  },
  {
   "cell_type": "code",
   "execution_count": 4,
   "metadata": {
    "ExecuteTime": {
     "end_time": "2020-11-20T21:49:26.020000-08:00",
     "start_time": "2020-11-21T05:49:24.714Z"
    },
    "hidden": true
   },
   "outputs": [
    {
     "data": {
      "image/png": "[encoded data removed]",
      "text/plain": [
       "8×24 Array{Gray{Float64},2} with eltype Gray{Float64}:\n",
       " Gray{Float64}(0.0)  Gray{Float64}(1.0)  …  Gray{Float64}(1.0)\n",
       " Gray{Float64}(0.5)  Gray{Float64}(0.0)     Gray{Float64}(1.0)\n",
       " Gray{Float64}(0.5)  Gray{Float64}(0.5)     Gray{Float64}(1.0)\n",
       " Gray{Float64}(0.5)  Gray{Float64}(0.5)     Gray{Float64}(1.0)\n",
       " Gray{Float64}(0.5)  Gray{Float64}(0.5)     Gray{Float64}(1.0)\n",
       " Gray{Float64}(0.5)  Gray{Float64}(0.5)  …  Gray{Float64}(1.0)\n",
       " Gray{Float64}(0.5)  Gray{Float64}(0.5)     Gray{Float64}(1.0)\n",
       " Gray{Float64}(0.5)  Gray{Float64}(0.5)     Gray{Float64}(1.0)"
      ]
     },
     "execution_count": 4,
     "metadata": {},
     "output_type": "execute_result"
    }
   ],
   "source": [
    "N = 8\n",
    "sB = tpow(sb, N)\n",
    "I = identityoperator(sB)\n",
    "site(i, op) = embed(sB, (i-1)%N + 1, op) # Periodic boundary\n",
    "acomm_tables(i -> site(i, sm))"
   ]
  },
  {
   "cell_type": "markdown",
   "metadata": {
    "hidden": true
   },
   "source": [
    "We now construct the transverse-field Ising Hamiltonian (Pfeuty)\n",
    "<!-- \\begin{equation}\n",
    "\\frac{\\ham}{\\Gamma}\n",
    "= - \\sum_i \\opr{S}_z^i\n",
    "- \\frac{J}{\\Gamma} \\sum_{i=1}^N \\opr{S}_i^x \\opr{S}_{i+1}^x ,\n",
    "\\end{equation} -->\n",
    "\\begin{equation}\n",
    "\\frac{4\\ham}{J}\n",
    "= -\\frac{1}{\\lambda} \\sum_i \\pauli_z^i\n",
    "- \\sum_{i=1}^N \\pauli_i^x \\pauli_{i+1}^x ,\n",
    "\\end{equation}\n",
    "where $2\\lambda = J / \\Gamma$."
   ]
  },
  {
   "cell_type": "code",
   "execution_count": 5,
   "metadata": {
    "ExecuteTime": {
     "end_time": "2020-11-20T21:49:53.177000-08:00",
     "start_time": "2020-11-21T05:49:53.130Z"
    },
    "hidden": true,
    "scrolled": true
   },
   "outputs": [],
   "source": [
    "λ = 0.5 # Pfeuty with Γ=1, so \n",
    "# Hs = -sum(site(i, sz)/2 + 2λ*site(i, sx)*site(i+1, sx)/4 for i in 1:N);\n",
    "Hs = -sum((1/λ)*site(i, sz) + site(i, sx)*site(i+1, sx) for i in 1:N);"
   ]
  },
  {
   "cell_type": "markdown",
   "metadata": {},
   "source": [
    "## Fermion definitions"
   ]
  },
  {
   "cell_type": "code",
   "execution_count": 6,
   "metadata": {
    "ExecuteTime": {
     "end_time": "2020-11-20T21:49:57.178000-08:00",
     "start_time": "2020-11-21T05:49:55.506Z"
    }
   },
   "outputs": [
    {
     "data": {
      "image/png": "[encoded data removed]",
      "text/plain": [
       "8×24 Array{Gray{Float64},2} with eltype Gray{Float64}:\n",
       " Gray{Float64}(0.0)  Gray{Float64}(1.0)  …  Gray{Float64}(1.0)\n",
       " Gray{Float64}(1.0)  Gray{Float64}(0.0)     Gray{Float64}(1.0)\n",
       " Gray{Float64}(1.0)  Gray{Float64}(1.0)     Gray{Float64}(1.0)\n",
       " Gray{Float64}(1.0)  Gray{Float64}(1.0)     Gray{Float64}(1.0)\n",
       " Gray{Float64}(1.0)  Gray{Float64}(1.0)     Gray{Float64}(1.0)\n",
       " Gray{Float64}(1.0)  Gray{Float64}(1.0)  …  Gray{Float64}(1.0)\n",
       " Gray{Float64}(1.0)  Gray{Float64}(1.0)     Gray{Float64}(1.0)\n",
       " Gray{Float64}(1.0)  Gray{Float64}(1.0)     Gray{Float64}(1.0)"
      ]
     },
     "execution_count": 6,
     "metadata": {},
     "output_type": "execute_result"
    }
   ],
   "source": [
    "k(m, N=N) = 2π*(m-1)/N - π*(N - (N%2))/N; # for m in 1:N\n",
    "function c(i) # for i in 1:N\n",
    "    i = (i-1)%N + 1 \n",
    "    A = -(i == 1\n",
    "        ? I\n",
    "        : prod(-site(j, sz) for j in 1:(i-1)))\n",
    "    A * site(i, sm)\n",
    "end\n",
    "ct(i) = dagger(c(i))\n",
    "acomm_tables(c)"
   ]
  },
  {
   "cell_type": "markdown",
   "metadata": {},
   "source": [
    "Verify that the inverse Jordan-Wigner transformation reproduces all the $\\pauli_i^x$:"
   ]
  },
  {
   "cell_type": "code",
   "execution_count": 7,
   "metadata": {
    "ExecuteTime": {
     "end_time": "2020-11-20T21:49:58.930000-08:00",
     "start_time": "2020-11-21T05:49:58.709Z"
    }
   },
   "outputs": [
    {
     "data": {
      "text/plain": [
       "1×8 Array{Float64,2}:\n",
       " 0.0  0.0  0.0  0.0  0.0  0.0  0.0  0.0"
      ]
     },
     "execution_count": 7,
     "metadata": {},
     "output_type": "execute_result"
    }
   ],
   "source": [
    "csx(i) = -(i == 1 ? I : prod(I - 2*ct(j)*c(j) for j in 1:(i-1))) * (ct(i) + c(i))\n",
    "[csx(i) - site(i, sx) for i in 1:N]' .|> trnorm"
   ]
  },
  {
   "cell_type": "markdown",
   "metadata": {},
   "source": [
    "The Jordan-Wigner transformed Hamiltonian:"
   ]
  },
  {
   "cell_type": "code",
   "execution_count": 8,
   "metadata": {
    "ExecuteTime": {
     "end_time": "2020-11-20T21:50:02.222000-08:00",
     "start_time": "2020-11-21T05:50:02.026Z"
    }
   },
   "outputs": [
    {
     "data": {
      "text/plain": [
       "9.690564197239252e-16"
      ]
     },
     "execution_count": 8,
     "metadata": {},
     "output_type": "execute_result"
    }
   ],
   "source": [
    "L = sum(ct(i)*c(i) for i in 1:N)\n",
    "Hend = (ct(N) - c(N))*(ct(1) + c(1))*((sparse ∘ exp ∘ dense)(im*π*L) + I)\n",
    "Hc = I*(N/λ) + Hend - sum(\n",
    "    (2/λ)*ct(i)*c(i) + (ct(i) - c(i))*(ct(i+1) + c(i+1))\n",
    "    for i in 1:N)\n",
    "trnorm(Hs - Hc) / 2^N"
   ]
  },
  {
   "cell_type": "markdown",
   "metadata": {},
   "source": [
    "It looks like the trace norm of the boundary term relative to that of the whole Hamiltonian diminishes with increasing $N$. But does this imply that it may be dropped?"
   ]
  },
  {
   "cell_type": "code",
   "execution_count": 9,
   "metadata": {
    "ExecuteTime": {
     "end_time": "2020-11-20T21:50:04.309000-08:00",
     "start_time": "2020-11-21T05:50:04.292Z"
    }
   },
   "outputs": [
    {
     "data": {
      "text/plain": [
       "0.19610389063966407"
      ]
     },
     "execution_count": 9,
     "metadata": {},
     "output_type": "execute_result"
    }
   ],
   "source": [
    "trnorm(Hend) / trnorm(Hs)"
   ]
  },
  {
   "cell_type": "code",
   "execution_count": 10,
   "metadata": {
    "ExecuteTime": {
     "end_time": "2020-11-20T21:50:06.011000-08:00",
     "start_time": "2020-11-21T05:50:05.919Z"
    }
   },
   "outputs": [
    {
     "data": {
      "image/png": "[encoded data removed]",
      "text/plain": [
       "256×256 Array{Gray{Float64},2} with eltype Gray{Float64}:\n",
       " Gray{Float64}(1.0)  Gray{Float64}(1.0)  …  Gray{Float64}(1.0)\n",
       " Gray{Float64}(1.0)  Gray{Float64}(1.0)     Gray{Float64}(1.0)\n",
       " Gray{Float64}(1.0)  Gray{Float64}(1.0)     Gray{Float64}(1.0)\n",
       " Gray{Float64}(1.0)  Gray{Float64}(1.0)     Gray{Float64}(1.0)\n",
       " Gray{Float64}(1.0)  Gray{Float64}(1.0)     Gray{Float64}(1.0)\n",
       " Gray{Float64}(1.0)  Gray{Float64}(1.0)  …  Gray{Float64}(1.0)\n",
       " Gray{Float64}(1.0)  Gray{Float64}(1.0)     Gray{Float64}(1.0)\n",
       " Gray{Float64}(1.0)  Gray{Float64}(1.0)     Gray{Float64}(1.0)\n",
       " Gray{Float64}(1.0)  Gray{Float64}(1.0)     Gray{Float64}(1.0)\n",
       " Gray{Float64}(1.0)  Gray{Float64}(1.0)     Gray{Float64}(1.0)\n",
       " Gray{Float64}(1.0)  Gray{Float64}(1.0)  …  Gray{Float64}(1.0)\n",
       " Gray{Float64}(1.0)  Gray{Float64}(1.0)     Gray{Float64}(1.0)\n",
       " Gray{Float64}(1.0)  Gray{Float64}(1.0)     Gray{Float64}(1.0)\n",
       " ⋮                                       ⋱  ⋮\n",
       " Gray{Float64}(1.0)  Gray{Float64}(1.0)     Gray{Float64}(1.0)\n",
       " Gray{Float64}(1.0)  Gray{Float64}(1.0)  …  Gray{Float64}(1.0)\n",
       " Gray{Float64}(1.0)  Gray{Float64}(1.0)     Gray{Float64}(1.0)\n",
       " Gray{Float64}(1.0)  Gray{Float64}(1.0)     Gray{Float64}(1.0)\n",
       " Gray{Float64}(1.0)  Gray{Float64}(1.0)     Gray{Float64}(1.0)\n",
       " Gray{Float64}(1.0)  Gray{Float64}(1.0)     Gray{Float64}(1.0)\n",
       " Gray{Float64}(1.0)  Gray{Float64}(1.0)  …  Gray{Float64}(1.0)\n",
       " Gray{Float64}(1.0)  Gray{Float64}(1.0)     Gray{Float64}(1.0)\n",
       " Gray{Float64}(1.0)  Gray{Float64}(1.0)     Gray{Float64}(1.0)\n",
       " Gray{Float64}(1.0)  Gray{Float64}(1.0)     Gray{Float64}(1.0)\n",
       " Gray{Float64}(1.0)  Gray{Float64}(1.0)     Gray{Float64}(1.0)\n",
       " Gray{Float64}(1.0)  Gray{Float64}(1.0)  …  Gray{Float64}(1.0)"
      ]
     },
     "execution_count": 10,
     "metadata": {},
     "output_type": "execute_result"
    }
   ],
   "source": [
    "matriximage(Hend)"
   ]
  },
  {
   "cell_type": "markdown",
   "metadata": {},
   "source": [
    "### Striff"
   ]
  },
  {
   "cell_type": "markdown",
   "metadata": {},
   "source": [
    "My $\\lambda$ differs from Pfeuty's (**TODO:** $\\lambda \\mapsto -\\alpha$)"
   ]
  },
  {
   "cell_type": "code",
   "execution_count": 11,
   "metadata": {
    "ExecuteTime": {
     "end_time": "2020-11-20T21:50:07.628000-08:00",
     "start_time": "2020-11-21T05:50:07.626Z"
    }
   },
   "outputs": [
    {
     "data": {
      "text/plain": [
       "-2.0"
      ]
     },
     "execution_count": 11,
     "metadata": {},
     "output_type": "execute_result"
    }
   ],
   "source": [
    "λS = -1 / λ"
   ]
  },
  {
   "cell_type": "markdown",
   "metadata": {},
   "source": [
    "First, we define the Fourier-transformed fermion operators and verify that the corresponding Hamiltonian is correct."
   ]
  },
  {
   "cell_type": "code",
   "execution_count": 12,
   "metadata": {
    "ExecuteTime": {
     "end_time": "2020-11-20T21:50:09.840000-08:00",
     "start_time": "2020-11-21T05:50:09.832Z"
    }
   },
   "outputs": [],
   "source": [
    "C(k) = sum(exp(-im*k*i) * c(i) for i in 1:N) / √N\n",
    "Ct(k) = dagger(C(k))\n",
    "Hk(k) = [\n",
    "    λS - cos(k)  -im*sin(k)\n",
    "    im*sin(k)    cos(k) - λS\n",
    "]\n",
    "vk(k) = [C(k); Ct(-k)]\n",
    "vkt(k) = [Ct(k) C(-k)];"
   ]
  },
  {
   "cell_type": "code",
   "execution_count": 13,
   "metadata": {
    "ExecuteTime": {
     "end_time": "2020-11-20T21:50:13.783000-08:00",
     "start_time": "2020-11-21T05:50:11.318Z"
    }
   },
   "outputs": [
    {
     "data": {
      "image/png": "[encoded data removed]",
      "text/plain": [
       "8×24 Array{Gray{Float64},2} with eltype Gray{Float64}:\n",
       " Gray{Float64}(1.11022e-16)  …  Gray{Float64}(1.0)\n",
       " Gray{Float64}(1.0)             Gray{Float64}(1.0)\n",
       " Gray{Float64}(1.0)             Gray{Float64}(1.0)\n",
       " Gray{Float64}(1.0)             Gray{Float64}(1.0)\n",
       " Gray{Float64}(1.0)             Gray{Float64}(1.0)\n",
       " Gray{Float64}(1.0)          …  Gray{Float64}(1.0)\n",
       " Gray{Float64}(1.0)             Gray{Float64}(1.0)\n",
       " Gray{Float64}(1.0)             Gray{Float64}(1.0)"
      ]
     },
     "execution_count": 13,
     "metadata": {},
     "output_type": "execute_result"
    }
   ],
   "source": [
    "acomm_tables(C∘k)"
   ]
  },
  {
   "cell_type": "code",
   "execution_count": 14,
   "metadata": {
    "ExecuteTime": {
     "end_time": "2020-11-20T21:50:15.527000-08:00",
     "start_time": "2020-11-21T05:50:15.346Z"
    }
   },
   "outputs": [
    {
     "data": {
      "text/plain": [
       "(1.851167940425097e-15, 1.0000000000000004)"
      ]
     },
     "execution_count": 14,
     "metadata": {},
     "output_type": "execute_result"
    }
   ],
   "source": [
    "HC = sum((vkt(k(m))*Hk(k(m))*vk(k(m)))[1] for m in 1:N)\n",
    "(trnorm((Hs - Hend) - HC), trnorm(Hs - HC)) ./ 2^N"
   ]
  },
  {
   "cell_type": "markdown",
   "metadata": {},
   "source": [
    "Now, we define $E_k$ and the operators $\\opr{\\eta}_k = \\opr{\\eta}_k^+$."
   ]
  },
  {
   "cell_type": "code",
   "execution_count": 68,
   "metadata": {
    "ExecuteTime": {
     "end_time": "2020-11-20T21:50:20.165000-08:00",
     "start_time": "2020-11-21T05:50:17.717Z"
    }
   },
   "outputs": [
    {
     "data": {
      "image/png": "[encoded data removed]",
      "text/plain": [
       "8×24 Array{Gray{Float64},2} with eltype Gray{Float64}:\n",
       " Gray{Float64}(1.11022e-16)  …  Gray{Float64}(1.0)\n",
       " Gray{Float64}(1.0)             Gray{Float64}(1.0)\n",
       " Gray{Float64}(1.0)             Gray{Float64}(1.0)\n",
       " Gray{Float64}(1.0)             Gray{Float64}(1.0)\n",
       " Gray{Float64}(1.0)             Gray{Float64}(1.0)\n",
       " Gray{Float64}(1.0)          …  Gray{Float64}(1.0)\n",
       " Gray{Float64}(1.0)             Gray{Float64}(1.0)\n",
       " Gray{Float64}(1.0)             Gray{Float64}(1.0)"
      ]
     },
     "execution_count": 68,
     "metadata": {},
     "output_type": "execute_result"
    }
   ],
   "source": [
    "E(m, N=N) = √(λS^2 - 2λS*cos(k(m, N)) + 1)\n",
    "aS(m) = ((N%2 == 0 && m == 1) || m == 1 + floor(N//2) ? 0 :\n",
    "    im*sin(k(m)) / √(2E(m)*(E(m) + cos(k(m)) - λS)))\n",
    "bS(m) = ((N%2 == 0 && m == 1) || m == 1 + floor(N//2) ? 1 :\n",
    "    √((E(m) + cos(k(m)) - λS) / (2E(m))))\n",
    "ηS(m) = aS(m)*C(k(m)) + bS(m)*Ct(-k(m))\n",
    "ηSt(m) = dagger(ηS(m))\n",
    "acomm_tables(ηS)"
   ]
  },
  {
   "cell_type": "markdown",
   "metadata": {},
   "source": [
    "Check if the Striff $\\opr{\\eta}_k$ Hamiltonian is correct:"
   ]
  },
  {
   "cell_type": "code",
   "execution_count": 16,
   "metadata": {
    "ExecuteTime": {
     "end_time": "2020-11-20T21:50:21.690000-08:00",
     "start_time": "2020-11-21T05:50:21.502Z"
    }
   },
   "outputs": [
    {
     "data": {
      "text/plain": [
       "(1.8958426287023017e-15, 1.0000000000000002)"
      ]
     },
     "execution_count": 16,
     "metadata": {},
     "output_type": "execute_result"
    }
   ],
   "source": [
    "E0S = -sum(E(m) for m in 1:N);\n",
    "HηS = sum(2E(m)*ηSt(m)*ηS(m) for m in 1:N) + E0S*I\n",
    "(trnorm((Hs - Hend) - HηS), trnorm(Hs - HηS)) ./ 2^N"
   ]
  },
  {
   "cell_type": "markdown",
   "metadata": {},
   "source": [
    "Try to directly diagonalize $\\mq{H}_k$ to find the $\\opr{\\eta}_k^\\pm$:"
   ]
  },
  {
   "cell_type": "code",
   "execution_count": 80,
   "metadata": {
    "ExecuteTime": {
     "end_time": "2020-11-20T21:50:26.464000-08:00",
     "start_time": "2020-11-21T05:50:24.192Z"
    }
   },
   "outputs": [
    {
     "data": {
      "image/png": "[encoded data removed]",
      "text/plain": [
       "8×24 Array{Gray{Float64},2} with eltype Gray{Float64}:\n",
       " Gray{Float64}(1.11022e-16)  …  Gray{Float64}(1.0)\n",
       " Gray{Float64}(1.0)             Gray{Float64}(1.0)\n",
       " Gray{Float64}(1.0)             Gray{Float64}(1.0)\n",
       " Gray{Float64}(1.0)             Gray{Float64}(1.0)\n",
       " Gray{Float64}(1.0)             Gray{Float64}(1.0)\n",
       " Gray{Float64}(1.0)          …  Gray{Float64}(1.0)\n",
       " Gray{Float64}(1.0)             Gray{Float64}(1.0)\n",
       " Gray{Float64}(1.0)             Gray{Float64}(1.0)"
      ]
     },
     "execution_count": 80,
     "metadata": {},
     "output_type": "execute_result"
    }
   ],
   "source": [
    "Heigs = [eigen(Hk(k(m))) for m in 1:N]\n",
    "EC(m) = Heigs[m].values[2] # Positive energy\n",
    "ηC(m) = Heigs[m].vectors'[2,1] * C(k(m)) + Heigs[m].vectors'[2,2] * Ct(-k(m))\n",
    "ηCt(m) = dagger(ηC(m))\n",
    "ηmC(m) = Heigs[m].vectors'[1,1] * C(k(m)) + Heigs[m].vectors'[1,2] * Ct(-k(m))\n",
    "ηmCt(m) = dagger(ηmC(m))\n",
    "acomm_tables(ηC)"
   ]
  },
  {
   "cell_type": "code",
   "execution_count": 18,
   "metadata": {},
   "outputs": [
    {
     "data": {
      "image/png": "[encoded data removed]",
      "text/plain": [
       "8×24 Array{Gray{Float64},2} with eltype Gray{Float64}:\n",
       " Gray{Float64}(1.11022e-16)  …  Gray{Float64}(1.0)\n",
       " Gray{Float64}(1.0)             Gray{Float64}(1.0)\n",
       " Gray{Float64}(1.0)             Gray{Float64}(1.0)\n",
       " Gray{Float64}(1.0)             Gray{Float64}(1.0)\n",
       " Gray{Float64}(1.0)             Gray{Float64}(1.0)\n",
       " Gray{Float64}(1.0)          …  Gray{Float64}(1.0)\n",
       " Gray{Float64}(1.0)             Gray{Float64}(1.0)\n",
       " Gray{Float64}(1.0)             Gray{Float64}(1.0)"
      ]
     },
     "execution_count": 18,
     "metadata": {},
     "output_type": "execute_result"
    }
   ],
   "source": [
    "acomm_tables(ηmC)"
   ]
  },
  {
   "cell_type": "code",
   "execution_count": 19,
   "metadata": {
    "ExecuteTime": {
     "end_time": "2020-11-20T21:50:27.909000-08:00",
     "start_time": "2020-11-21T05:50:27.717Z"
    }
   },
   "outputs": [
    {
     "data": {
      "text/plain": [
       "1×8 Array{Float64,2}:\n",
       " 7.83774e-15  0.0  1.2473e-30  0.0  0.0  0.0  1.2473e-30  0.0"
      ]
     },
     "execution_count": 19,
     "metadata": {},
     "output_type": "execute_result"
    }
   ],
   "source": [
    "[ηC(m) - ηS(m) for m in 1:N]' .|> trnorm"
   ]
  },
  {
   "cell_type": "code",
   "execution_count": 20,
   "metadata": {
    "ExecuteTime": {
     "end_time": "2020-11-20T21:50:29.170000-08:00",
     "start_time": "2020-11-21T05:50:29.017Z"
    }
   },
   "outputs": [
    {
     "data": {
      "text/plain": [
       "(5.2321209391772435e-15, 1.000000000000002)"
      ]
     },
     "execution_count": 20,
     "metadata": {},
     "output_type": "execute_result"
    }
   ],
   "source": [
    "HηC = sum(2EC(m) * (ηCt(m)*ηC(m) - I/2) for m in 1:N)\n",
    "(trnorm((Hs - Hend) - HηC), trnorm(Hs - HηC)) ./ 2^N"
   ]
  },
  {
   "cell_type": "code",
   "execution_count": 21,
   "metadata": {
    "ExecuteTime": {
     "end_time": "2020-11-20T21:50:29.170000-08:00",
     "start_time": "2020-11-21T05:50:29.017Z"
    }
   },
   "outputs": [
    {
     "data": {
      "text/plain": [
       "(2.583572737251841e-15, 1.0000000000000009)"
      ]
     },
     "execution_count": 21,
     "metadata": {},
     "output_type": "execute_result"
    }
   ],
   "source": [
    "HηpmC = sum(EC(m) * (ηCt(m)*ηC(m) - ηmCt(m)*ηmC(m)) for m in 1:N)\n",
    "(trnorm((Hs - Hend) - HηpmC), trnorm(Hs - HηpmC)) ./ 2^N"
   ]
  },
  {
   "cell_type": "markdown",
   "metadata": {},
   "source": [
    "Thus the diagonalization is correct."
   ]
  },
  {
   "cell_type": "markdown",
   "metadata": {},
   "source": [
    "We may now construct the vacuum state from the sum of number operators."
   ]
  },
  {
   "cell_type": "code",
   "execution_count": 22,
   "metadata": {
    "ExecuteTime": {
     "end_time": "2020-11-20T21:50:33.440000-08:00",
     "start_time": "2020-11-21T05:50:33.247Z"
    }
   },
   "outputs": [
    {
     "data": {
      "text/plain": [
       "4.451931037434651e-16"
      ]
     },
     "execution_count": 22,
     "metadata": {},
     "output_type": "execute_result"
    }
   ],
   "source": [
    "NηS = sum(ηSt(m)*ηS(m) for m in 1:N)\n",
    "vacS = eigenstates(NηS, 1, info=false)[2][1] # Indices select first eigenstate\n",
    "((ηSt(1)*ηS(1) + ηSt(2)*ηS(2)) - 2*I) * (ηSt(1) * ηSt(2) * vacS) |> norm"
   ]
  },
  {
   "cell_type": "markdown",
   "metadata": {
    "heading_collapsed": true
   },
   "source": [
    "### Pfeuty"
   ]
  },
  {
   "cell_type": "markdown",
   "metadata": {
    "hidden": true
   },
   "source": [
    "Pfeuty: $\\eta$'s do not satisfy the CARs? Typo, or **problem**?"
   ]
  },
  {
   "cell_type": "code",
   "execution_count": 23,
   "metadata": {
    "ExecuteTime": {
     "end_time": "2020-11-20T21:50:35.916000-08:00",
     "start_time": "2020-11-21T05:50:35.900Z"
    },
    "hidden": true
   },
   "outputs": [],
   "source": [
    "Λ(m) = √(λ^2 + 2λ*cos(k(m)) + 1)\n",
    "ϕ(k, i) = √(2/N) * (k > 0 ? sin(k*i) : cos(k*i))\n",
    "ψ(k, i) = -((1 + λ*cos(k))*ϕ(k, i) + λ*sin(k)*ϕ(-k, i)) / Λ(k)\n",
    "a(m, i) = (ϕ(k(m), i) + ψ(k(m), i)) / 2\n",
    "b(m, i) = (ϕ(k(m), i) - ψ(k(m), i)) / 2\n",
    "η(m) = sum(a(m, i)*c(i) + b(m, i)*ct(i) for i in 1:N)\n",
    "ηt(m) = dagger(η(m));"
   ]
  },
  {
   "cell_type": "code",
   "execution_count": 24,
   "metadata": {
    "ExecuteTime": {
     "end_time": "2020-11-20T21:50:40.246000-08:00",
     "start_time": "2020-11-21T05:50:36.886Z"
    },
    "hidden": true
   },
   "outputs": [
    {
     "data": {
      "image/png": "[encoded data removed]",
      "text/plain": [
       "8×24 Array{Gray{Float64},2} with eltype Gray{Float64}:\n",
       " Gray{Float64}(-0.111417)  …  Gray{Float64}(1.0)\n",
       " Gray{Float64}(1.0)           Gray{Float64}(1.0)\n",
       " Gray{Float64}(1.0)           Gray{Float64}(1.0)\n",
       " Gray{Float64}(1.0)           Gray{Float64}(1.0)\n",
       " Gray{Float64}(1.0)           Gray{Float64}(1.0)\n",
       " Gray{Float64}(1.0)        …  Gray{Float64}(1.0)\n",
       " Gray{Float64}(1.0)           Gray{Float64}(1.0)\n",
       " Gray{Float64}(1.0)           Gray{Float64}(0.854541)"
      ]
     },
     "execution_count": 24,
     "metadata": {},
     "output_type": "execute_result"
    }
   ],
   "source": [
    "acomm_tables(η)"
   ]
  },
  {
   "cell_type": "markdown",
   "metadata": {
    "hidden": true
   },
   "source": [
    "Check if the Pfeuty Hamiltonian is correct:"
   ]
  },
  {
   "cell_type": "code",
   "execution_count": 25,
   "metadata": {
    "ExecuteTime": {
     "end_time": "2020-11-20T21:50:41.075000-08:00",
     "start_time": "2020-11-21T05:50:40.919Z"
    },
    "hidden": true
   },
   "outputs": [],
   "source": [
    "E0 = -sum(Λ(m) for m in 1:N) / 2;\n",
    "Hη = sum(Λ(m)*ηt(m)*η(m) for m in 1:N) + E0*I;"
   ]
  },
  {
   "cell_type": "code",
   "execution_count": 26,
   "metadata": {
    "ExecuteTime": {
     "end_time": "2020-11-20T21:50:43.051000-08:00",
     "start_time": "2020-11-21T05:50:43.027Z"
    },
    "hidden": true
   },
   "outputs": [
    {
     "data": {
      "image/png": "[encoded data removed]",
      "text/plain": [
       "256×256 Array{Gray{Float64},2} with eltype Gray{Float64}:\n",
       " Gray{Float64}(-13.334)   Gray{Float64}(1.0)       …  Gray{Float64}(1.0)\n",
       " Gray{Float64}(1.0)       Gray{Float64}(-11.4553)     Gray{Float64}(1.0)\n",
       " Gray{Float64}(1.0)       Gray{Float64}(0.734158)     Gray{Float64}(1.0)\n",
       " Gray{Float64}(0.341363)  Gray{Float64}(1.0)          Gray{Float64}(1.0)\n",
       " Gray{Float64}(1.0)       Gray{Float64}(0.407913)     Gray{Float64}(1.0)\n",
       " Gray{Float64}(0.879833)  Gray{Float64}(1.0)       …  Gray{Float64}(1.0)\n",
       " Gray{Float64}(0.341363)  Gray{Float64}(1.0)          Gray{Float64}(1.0)\n",
       " Gray{Float64}(1.0)       Gray{Float64}(0.341363)     Gray{Float64}(1.0)\n",
       " Gray{Float64}(1.0)       Gray{Float64}(0.531402)     Gray{Float64}(1.0)\n",
       " Gray{Float64}(0.997022)  Gray{Float64}(1.0)          Gray{Float64}(1.0)\n",
       " Gray{Float64}(0.879833)  Gray{Float64}(1.0)       …  Gray{Float64}(1.0)\n",
       " Gray{Float64}(1.0)       Gray{Float64}(0.879833)     Gray{Float64}(1.0)\n",
       " Gray{Float64}(0.341363)  Gray{Float64}(1.0)          Gray{Float64}(1.0)\n",
       " ⋮                                                 ⋱  ⋮\n",
       " Gray{Float64}(1.0)       Gray{Float64}(1.0)          Gray{Float64}(1.0)\n",
       " Gray{Float64}(1.0)       Gray{Float64}(1.0)       …  Gray{Float64}(0.879833)\n",
       " Gray{Float64}(1.0)       Gray{Float64}(1.0)          Gray{Float64}(0.997022)\n",
       " Gray{Float64}(1.0)       Gray{Float64}(1.0)          Gray{Float64}(1.0)\n",
       " Gray{Float64}(1.0)       Gray{Float64}(1.0)          Gray{Float64}(1.0)\n",
       " Gray{Float64}(1.0)       Gray{Float64}(1.0)          Gray{Float64}(0.341363)\n",
       " Gray{Float64}(1.0)       Gray{Float64}(1.0)       …  Gray{Float64}(0.879833)\n",
       " Gray{Float64}(1.0)       Gray{Float64}(1.0)          Gray{Float64}(1.0)\n",
       " Gray{Float64}(1.0)       Gray{Float64}(1.0)          Gray{Float64}(0.341363)\n",
       " Gray{Float64}(1.0)       Gray{Float64}(1.0)          Gray{Float64}(1.0)\n",
       " Gray{Float64}(1.0)       Gray{Float64}(1.0)          Gray{Float64}(1.0)\n",
       " Gray{Float64}(1.0)       Gray{Float64}(1.0)       …  Gray{Float64}(-1.09463)"
      ]
     },
     "execution_count": 26,
     "metadata": {},
     "output_type": "execute_result"
    }
   ],
   "source": [
    "(Hs - Hend) - Hη |> matriximage"
   ]
  },
  {
   "cell_type": "code",
   "execution_count": 27,
   "metadata": {
    "ExecuteTime": {
     "end_time": "2020-11-20T21:50:44.560000-08:00",
     "start_time": "2020-11-21T05:50:44.534Z"
    },
    "hidden": true
   },
   "outputs": [
    {
     "data": {
      "text/plain": [
       "(6.219280775999117, 6.254978848074612)"
      ]
     },
     "execution_count": 27,
     "metadata": {},
     "output_type": "execute_result"
    }
   ],
   "source": [
    "(trnorm((Hs - Hend) - Hη), trnorm(Hs - Hη)) ./ 2^N"
   ]
  },
  {
   "cell_type": "markdown",
   "metadata": {},
   "source": [
    "## Starting from the many-body basis instead"
   ]
  },
  {
   "cell_type": "code",
   "execution_count": 46,
   "metadata": {},
   "outputs": [],
   "source": [
    "import QuantumOpticsBase: ManyBodyBasis, SparseOperator, isnonzero"
   ]
  },
  {
   "cell_type": "code",
   "execution_count": 47,
   "metadata": {},
   "outputs": [
    {
     "data": {
      "text/plain": [
       "destroyfermion (generic function with 1 method)"
      ]
     },
     "execution_count": 47,
     "metadata": {},
     "output_type": "execute_result"
    }
   ],
   "source": [
    "function destroyfermion(b::ManyBodyBasis, index::Int)\n",
    "    c = SparseOperator(b)\n",
    "    # <{m}_j| c |{m}_i>\n",
    "    for i in 1:length(b)\n",
    "        occ_i = b.occupations[i]\n",
    "        if occ_i[index] == 0\n",
    "            continue\n",
    "        end\n",
    "        sign = sum(occ_i[1:(index-1)]) % 2 == 0 ? 1 : -1\n",
    "        for j in 1:length(b)\n",
    "            if isnonzero(occ_i, b.occupations[j], index)\n",
    "                c.data[j, i] = sign * sqrt(occ_i[index])\n",
    "            end\n",
    "        end\n",
    "    end\n",
    "    c\n",
    "end"
   ]
  },
  {
   "cell_type": "code",
   "execution_count": 48,
   "metadata": {},
   "outputs": [],
   "source": [
    "minusk(m, N=N) = N%2 == 0 ? (m == 1 ? 1 : N - (m - 2)) : (N - (m - 1)); # π ≡ -π"
   ]
  },
  {
   "cell_type": "code",
   "execution_count": 263,
   "metadata": {
    "ExecuteTime": {
     "end_time": "2020-11-20T21:50:46.650000-08:00",
     "start_time": "2020-11-21T05:50:46.439Z"
    }
   },
   "outputs": [],
   "source": [
    "f = NLevelBasis(N) # \"Levels\" 1 to N are indices of k's\n",
    "mbb = ManyBodyBasis(f, fermionstates(f, [0:N...]))\n",
    "Imb = identityoperator(mbb)\n",
    "ηmb(m) = destroyfermion(mbb, m)\n",
    "ηtmb(m) = dagger(ηmb(m))\n",
    "Hf = diagonaloperator(f, @. Λ(k(1:N)) + E0)\n",
    "Hmb = manybodyoperator(mbb, Hf);"
   ]
  },
  {
   "cell_type": "code",
   "execution_count": 264,
   "metadata": {},
   "outputs": [
    {
     "data": {
      "image/png": "[encoded data removed]",
      "text/plain": [
       "8×24 Array{Gray{Float64},2} with eltype Gray{Float64}:\n",
       " Gray{Float64}(0.0)  Gray{Float64}(1.0)  …  Gray{Float64}(1.0)\n",
       " Gray{Float64}(1.0)  Gray{Float64}(0.0)     Gray{Float64}(1.0)\n",
       " Gray{Float64}(1.0)  Gray{Float64}(1.0)     Gray{Float64}(1.0)\n",
       " Gray{Float64}(1.0)  Gray{Float64}(1.0)     Gray{Float64}(1.0)\n",
       " Gray{Float64}(1.0)  Gray{Float64}(1.0)     Gray{Float64}(1.0)\n",
       " Gray{Float64}(1.0)  Gray{Float64}(1.0)  …  Gray{Float64}(1.0)\n",
       " Gray{Float64}(1.0)  Gray{Float64}(1.0)     Gray{Float64}(1.0)\n",
       " Gray{Float64}(1.0)  Gray{Float64}(1.0)     Gray{Float64}(1.0)"
      ]
     },
     "execution_count": 264,
     "metadata": {},
     "output_type": "execute_result"
    }
   ],
   "source": [
    "acomm_tables(ηmb)"
   ]
  },
  {
   "cell_type": "code",
   "execution_count": 265,
   "metadata": {
    "ExecuteTime": {
     "end_time": "2020-11-20T21:50:48.242000-08:00",
     "start_time": "2020-11-21T05:50:47.989Z"
    }
   },
   "outputs": [],
   "source": [
    "A = reshape([a(m, i) for i in 1:N for m in 1:N], (N, N))\n",
    "B = reshape([b(m, i) for i in 1:N for m in 1:N], (N, N))\n",
    "η2c = inv([A B; conj(B) conj(A)]);"
   ]
  },
  {
   "cell_type": "code",
   "execution_count": 266,
   "metadata": {},
   "outputs": [
    {
     "data": {
      "image/png": "[encoded data removed]",
      "text/plain": [
       "8×24 Array{Gray{Float64},2} with eltype Gray{Float64}:\n",
       " Gray{Float64}(0.0)  Gray{Float64}(1.0)  …  Gray{Float64}(1.0)\n",
       " Gray{Float64}(1.0)  Gray{Float64}(0.0)     Gray{Float64}(1.0)\n",
       " Gray{Float64}(1.0)  Gray{Float64}(1.0)     Gray{Float64}(1.0)\n",
       " Gray{Float64}(1.0)  Gray{Float64}(1.0)     Gray{Float64}(1.0)\n",
       " Gray{Float64}(1.0)  Gray{Float64}(1.0)     Gray{Float64}(1.0)\n",
       " Gray{Float64}(1.0)  Gray{Float64}(1.0)  …  Gray{Float64}(1.0)\n",
       " Gray{Float64}(1.0)  Gray{Float64}(1.0)     Gray{Float64}(1.0)\n",
       " Gray{Float64}(1.0)  Gray{Float64}(1.0)     Gray{Float64}(1.0)"
      ]
     },
     "execution_count": 266,
     "metadata": {},
     "output_type": "execute_result"
    }
   ],
   "source": [
    "Cmbs = [(Heigs[m].vectors * [ηtmb(minusk(m)), ηmb(m)])[1] for m in 1:N]\n",
    "acomm_tables(m -> Cmbs[m])"
   ]
  },
  {
   "cell_type": "code",
   "execution_count": 267,
   "metadata": {},
   "outputs": [
    {
     "data": {
      "image/png": "[encoded data removed]",
      "text/plain": [
       "8×24 Array{Gray{Float64},2} with eltype Gray{Float64}:\n",
       " Gray{Float64}(1.11022e-16)  …  Gray{Float64}(1.0)\n",
       " Gray{Float64}(1.0)             Gray{Float64}(1.0)\n",
       " Gray{Float64}(1.0)             Gray{Float64}(1.0)\n",
       " Gray{Float64}(1.0)             Gray{Float64}(1.0)\n",
       " Gray{Float64}(1.0)             Gray{Float64}(1.0)\n",
       " Gray{Float64}(1.0)          …  Gray{Float64}(1.0)\n",
       " Gray{Float64}(1.0)             Gray{Float64}(1.0)\n",
       " Gray{Float64}(1.0)             Gray{Float64}(1.0)"
      ]
     },
     "execution_count": 267,
     "metadata": {},
     "output_type": "execute_result"
    }
   ],
   "source": [
    "cmb(i) = sum(exp(im*k(m)*(i-1)) * Cmbs[m] for m in 1:N) / √N\n",
    "cmbt(i) = dagger(cmb(i))\n",
    "sxmb(i) = -(i == 1 ? Imb : prod(Imb - 2*cmbt(j)*cmb(j) for j in 1:(i-1))) * (cmbt(i) + cmb(i))\n",
    "acomm_tables(cmb)"
   ]
  },
  {
   "cell_type": "markdown",
   "metadata": {
    "heading_collapsed": true
   },
   "source": [
    "## Energy spacings"
   ]
  },
  {
   "cell_type": "markdown",
   "metadata": {
    "hidden": true
   },
   "source": [
    "The eigenvalues of the eigenoperators we seek are energy spacings. We should then figure out how they are distributed, and verify that the smallest energy spacing is large enough to be represented as a floating point number. Even with floating point errors, we may find rigorous bounds on the minimum energy difference using interval arithmetic."
   ]
  },
  {
   "cell_type": "code",
   "execution_count": 36,
   "metadata": {
    "ExecuteTime": {
     "end_time": "2020-11-20T21:51:01.920000-08:00",
     "start_time": "2020-11-21T05:51:01.917Z"
    },
    "hidden": true
   },
   "outputs": [],
   "source": [
    "using IntervalArithmetic\n",
    "setformat(:midpoint);"
   ]
  },
  {
   "cell_type": "markdown",
   "metadata": {
    "hidden": true
   },
   "source": [
    "Note that `ΔEs` generally double-counts due to parity symmetry."
   ]
  },
  {
   "cell_type": "code",
   "execution_count": 37,
   "metadata": {
    "ExecuteTime": {
     "end_time": "2020-11-20T21:51:04.466000-08:00",
     "start_time": "2020-11-21T05:51:04.458Z"
    },
    "hidden": true
   },
   "outputs": [],
   "source": [
    "function ΔEs(NE)\n",
    "    Eks = (m -> E(@interval(m), NE)).(1:NE)\n",
    "    diffweights = Iterators.product(repeat([[-1,0,1]], NE)...)\n",
    "    Ediffs = (abs(w ⋅ Eks) for w in diffweights)\n",
    "    Ediffs = Ediffs ./ abs(-(extrema(Ediffs)...))\n",
    "    Ediffs |> collect |> vec |> sort\n",
    "end\n",
    ";"
   ]
  },
  {
   "cell_type": "code",
   "execution_count": 38,
   "metadata": {
    "ExecuteTime": {
     "end_time": "2020-11-20T21:51:47.741000-08:00",
     "start_time": "2020-11-21T05:51:07.344Z"
    },
    "hidden": true
   },
   "outputs": [
    {
     "data": {
      "image/svg+xml": [
       "<?xml version=\"1.0\" encoding=\"UTF-8\"?>\n",
       "<svg xmlns=\"http://www.w3.org/2000/svg\" xmlns:xlink=\"http://www.w3.org/1999/xlink\" width=\"291.169pt\" height=\"209.875pt\" viewBox=\"0 0 291.169 209.875\" version=\"1.2\">\n",
       "<defs>\n",
       "<g>\n",
       "<symbol overflow=\"visible\" id=\"glyph-1606366588244572-0-0\">\n",
       "<path style=\"stroke:none;\" d=\"M 0 0 L 5.96875 0 L 5.96875 -8.328125 L 0 -8.328125 Z M 0.953125 -0.59375 L 2.984375 -3.625 L 5 -0.59375 Z M 0.59375 -7.1875 L 2.625 -4.15625 L 0.59375 -1.125 Z M 3.34375 -4.15625 L 5.359375 -7.1875 L 5.359375 -1.125 Z M 2.984375 -4.703125 L 0.953125 -7.71875 L 5 -7.71875 Z M 2.984375 -4.703125 \"/>\n",
       "</symbol>\n",
       "<symbol overflow=\"visible\" id=\"glyph-1606366588244572-0-1\">\n",
       "<path style=\"stroke:none;\" d=\"M 2.71875 0.125 C 3.640625 0.125 5.03125 -0.8125 5.03125 -3.609375 C 5.03125 -4.796875 4.75 -5.8125 4.21875 -6.5 C 3.90625 -6.921875 3.40625 -7.265625 2.765625 -7.265625 C 1.578125 -7.265625 0.46875 -5.859375 0.46875 -3.5 C 0.46875 -2.234375 0.859375 -1.03125 1.515625 -0.375 C 1.84375 -0.046875 2.25 0.125 2.71875 0.125 Z M 2.765625 -6.859375 C 2.96875 -6.859375 3.15625 -6.78125 3.296875 -6.65625 C 3.671875 -6.34375 4 -5.4375 4 -3.84375 C 4 -2.734375 3.953125 -1.984375 3.796875 -1.390625 C 3.53125 -0.40625 2.9375 -0.296875 2.734375 -0.296875 C 1.625 -0.296875 1.5 -2.34375 1.5 -3.375 C 1.5 -6.3125 2.234375 -6.859375 2.765625 -6.859375 Z M 2.765625 -6.859375 \"/>\n",
       "</symbol>\n",
       "<symbol overflow=\"visible\" id=\"glyph-1606366588244572-0-2\">\n",
       "<path style=\"stroke:none;\" d=\"M 0.671875 -0.515625 C 0.671875 -0.171875 0.96875 0.125 1.3125 0.125 C 1.65625 0.125 1.9375 -0.171875 1.9375 -0.515625 C 1.9375 -0.859375 1.65625 -1.140625 1.3125 -1.140625 C 0.96875 -1.140625 0.671875 -0.859375 0.671875 -0.515625 Z M 0.671875 -0.515625 \"/>\n",
       "</symbol>\n",
       "<symbol overflow=\"visible\" id=\"glyph-1606366588244572-0-3\">\n",
       "<path style=\"stroke:none;\" d=\"M 0.734375 -5.578125 C 0.734375 -5.328125 0.953125 -5.109375 1.203125 -5.109375 C 1.40625 -5.109375 1.765625 -5.328125 1.765625 -5.59375 C 1.765625 -5.6875 1.734375 -5.765625 1.71875 -5.84375 C 1.6875 -5.921875 1.625 -6.03125 1.625 -6.125 C 1.625 -6.421875 1.9375 -6.859375 2.796875 -6.859375 C 3.234375 -6.859375 3.84375 -6.5625 3.84375 -5.40625 C 3.84375 -4.65625 3.5625 -4.03125 2.859375 -3.3125 L 1.984375 -2.4375 C 0.8125 -1.25 0.625 -0.671875 0.625 0.03125 C 0.625 0.03125 1.234375 0 1.609375 0 L 3.703125 0 C 4.078125 0 4.625 0.03125 4.625 0.03125 C 4.78125 -0.609375 4.90625 -1.5 4.90625 -1.859375 C 4.84375 -1.921875 4.6875 -1.9375 4.5625 -1.921875 C 4.359375 -1.078125 4.15625 -0.78125 3.734375 -0.78125 L 1.609375 -0.78125 C 1.609375 -1.34375 2.4375 -2.15625 2.484375 -2.21875 L 3.703125 -3.375 C 4.375 -4.03125 4.890625 -4.546875 4.890625 -5.453125 C 4.890625 -6.75 3.84375 -7.265625 2.875 -7.265625 C 1.546875 -7.265625 0.734375 -6.296875 0.734375 -5.578125 Z M 0.734375 -5.578125 \"/>\n",
       "</symbol>\n",
       "<symbol overflow=\"visible\" id=\"glyph-1606366588244572-0-4\">\n",
       "<path style=\"stroke:none;\" d=\"M 5.125 -2.609375 L 4.140625 -2.609375 L 4.140625 -6.09375 C 4.140625 -6.6875 4.140625 -7.15625 4.15625 -7.25 L 4.140625 -7.265625 L 3.75 -7.265625 C 3.671875 -7.265625 3.609375 -7.203125 3.5625 -7.140625 C 2.8125 -6.21875 1.4375 -4.25 0.328125 -2.546875 C 0.375 -2.375 0.4375 -2.046875 0.796875 -2.046875 L 3.234375 -2.046875 L 3.234375 -0.953125 C 3.234375 -0.40625 2.78125 -0.40625 2.265625 -0.375 C 2.1875 -0.296875 2.1875 -0.046875 2.265625 0.03125 C 2.640625 0.015625 3.125 0 3.671875 0 C 4.140625 0 4.59375 0.015625 4.96875 0.03125 C 5.046875 -0.046875 5.046875 -0.296875 4.96875 -0.375 C 4.390625 -0.421875 4.140625 -0.390625 4.140625 -0.953125 L 4.140625 -2.046875 L 4.953125 -2.046875 C 5.125 -2.046875 5.3125 -2.28125 5.3125 -2.421875 C 5.3125 -2.546875 5.25 -2.609375 5.125 -2.609375 Z M 3.234375 -6.046875 L 3.234375 -2.609375 L 0.953125 -2.609375 C 1.5625 -3.59375 2.40625 -4.921875 3.234375 -6.046875 Z M 3.234375 -6.046875 \"/>\n",
       "</symbol>\n",
       "<symbol overflow=\"visible\" id=\"glyph-1606366588244572-0-5\">\n",
       "<path style=\"stroke:none;\" d=\"M 1.71875 -4.09375 C 2.03125 -5.171875 2.796875 -6.375 4.390625 -6.96875 C 4.390625 -7.125 4.34375 -7.21875 4.25 -7.28125 C 3.046875 -6.921875 2.296875 -6.421875 1.640625 -5.65625 C 0.890625 -4.796875 0.53125 -3.703125 0.53125 -2.765625 C 0.53125 -0.34375 1.890625 0.125 2.8125 0.125 C 4.375 0.125 5.015625 -1.390625 5.015625 -2.40625 C 5.015625 -3.4375 4.46875 -4.34375 2.84375 -4.34375 C 2.546875 -4.34375 2.078125 -4.25 1.71875 -4.09375 Z M 1.609375 -3.65625 C 2 -3.921875 2.390625 -3.9375 2.59375 -3.9375 C 3.765625 -3.9375 4.03125 -2.796875 4.03125 -2.1875 C 4.03125 -0.875 3.53125 -0.28125 2.9375 -0.28125 C 2.1875 -0.28125 1.515625 -0.6875 1.515625 -2.734375 C 1.515625 -3 1.53125 -3.3125 1.609375 -3.65625 Z M 1.609375 -3.65625 \"/>\n",
       "</symbol>\n",
       "<symbol overflow=\"visible\" id=\"glyph-1606366588244572-0-6\">\n",
       "<path style=\"stroke:none;\" d=\"M 4.6875 -5.78125 C 4.6875 -6.640625 4.015625 -7.265625 2.84375 -7.265625 C 1.640625 -7.265625 0.84375 -6.546875 0.84375 -5.625 C 0.84375 -4.953125 1.171875 -4.46875 1.890625 -4.015625 L 2.203125 -3.828125 C 1.859375 -3.640625 1.53125 -3.4375 1.234375 -3.171875 C 0.75 -2.734375 0.546875 -2.203125 0.546875 -1.734375 C 0.546875 -0.53125 1.40625 0.125 2.671875 0.125 C 4.234375 0.125 5 -1.03125 5 -1.9375 C 5 -2.625 4.703125 -3.234375 4.0625 -3.609375 L 3.21875 -4.125 C 3.78125 -4.40625 4.6875 -5.015625 4.6875 -5.78125 Z M 2.6875 -0.296875 C 2.15625 -0.296875 1.34375 -0.671875 1.34375 -1.734375 C 1.34375 -2.09375 1.5 -2.9375 2.53125 -3.609375 L 3.09375 -3.28125 C 3.828125 -2.828125 4.125 -2.265625 4.125 -1.6875 C 4.125 -0.5 3.234375 -0.296875 2.6875 -0.296875 Z M 2.796875 -6.859375 C 3.5625 -6.859375 3.84375 -6.34375 3.84375 -5.796875 C 3.84375 -5.15625 3.21875 -4.609375 2.890625 -4.375 L 2.53125 -4.609375 C 1.78125 -5.09375 1.6875 -5.484375 1.6875 -5.859375 C 1.6875 -6.40625 2.078125 -6.859375 2.796875 -6.859375 Z M 2.796875 -6.859375 \"/>\n",
       "</symbol>\n",
       "<symbol overflow=\"visible\" id=\"glyph-1606366588244572-0-7\">\n",
       "<path style=\"stroke:none;\" d=\"M 3.4375 -1.453125 L 3.4375 -5.59375 C 3.4375 -6.3125 3.453125 -7.03125 3.46875 -7.1875 C 3.46875 -7.25 3.453125 -7.25 3.390625 -7.25 C 2.734375 -6.84375 2.109375 -6.546875 1.0625 -6.0625 C 1.078125 -5.921875 1.125 -5.8125 1.234375 -5.734375 C 1.78125 -5.96875 2.046875 -6.03125 2.28125 -6.03125 C 2.484375 -6.03125 2.515625 -5.75 2.515625 -5.34375 L 2.515625 -1.453125 C 2.515625 -0.46875 2.1875 -0.40625 1.359375 -0.375 C 1.28125 -0.296875 1.28125 -0.046875 1.359375 0.03125 C 1.9375 0.015625 2.375 0 3.015625 0 C 3.59375 0 3.875 0.015625 4.46875 0.03125 C 4.546875 -0.046875 4.546875 -0.296875 4.46875 -0.375 C 3.640625 -0.40625 3.4375 -0.46875 3.4375 -1.453125 Z M 3.4375 -1.453125 \"/>\n",
       "</symbol>\n",
       "<symbol overflow=\"visible\" id=\"glyph-1606366588244572-0-8\">\n",
       "<path style=\"stroke:none;\" d=\"M 8.28125 -6.640625 C 8.359375 -7 8.578125 -7.3125 9.03125 -7.34375 L 9.359375 -7.375 C 9.390625 -7.375 9.46875 -7.40625 9.46875 -7.46875 L 9.484375 -7.6875 L 9.46875 -7.71875 C 8.921875 -7.703125 8.5 -7.6875 8.21875 -7.6875 C 7.9375 -7.6875 7.453125 -7.703125 6.921875 -7.71875 L 6.890625 -7.6875 L 6.859375 -7.46875 C 6.84375 -7.421875 6.9375 -7.375 7 -7.375 L 7.28125 -7.34375 C 7.671875 -7.3125 7.796875 -7.078125 7.796875 -6.8125 C 7.796875 -6.765625 7.78125 -6.703125 7.765625 -6.640625 L 6.890625 -2.125 C 6.84375 -1.890625 6.8125 -1.765625 6.75 -1.765625 C 6.65625 -1.765625 6.546875 -1.984375 6.296875 -2.421875 L 3.390625 -7.71875 L 1.828125 -7.71875 L 1.78125 -7.6875 L 1.765625 -7.46875 C 1.765625 -7.40625 1.84375 -7.375 1.9375 -7.375 C 2.296875 -7.328125 2.546875 -6.859375 2.5625 -6.5625 L 1.484375 -1.046875 C 1.421875 -0.734375 1.203125 -0.375 0.734375 -0.34375 L 0.421875 -0.328125 C 0.328125 -0.3125 0.28125 -0.28125 0.265625 -0.21875 L 0.234375 0 L 0.265625 0.03125 C 0.796875 0.015625 1.28125 0 1.578125 0 C 1.859375 0 2.28125 0.015625 2.8125 0.03125 L 2.84375 0 L 2.859375 -0.21875 C 2.875 -0.296875 2.84375 -0.328125 2.796875 -0.328125 L 2.484375 -0.34375 C 2.140625 -0.375 1.984375 -0.59375 1.984375 -0.875 C 1.984375 -0.9375 1.984375 -0.984375 2 -1.046875 L 2.8125 -5.234375 C 2.890625 -5.640625 2.953125 -5.8125 3.046875 -5.8125 C 3.109375 -5.8125 3.203125 -5.6875 3.359375 -5.421875 L 6.328125 -0.171875 C 6.40625 0.015625 6.546875 0.125 6.734375 0.125 C 6.890625 0.125 7 -0.03125 7.046875 -0.25 Z M 8.28125 -6.640625 \"/>\n",
       "</symbol>\n",
       "<symbol overflow=\"visible\" id=\"glyph-1606366588244572-0-9\">\n",
       "<path style=\"stroke:none;\" d=\"M 0.703125 -2.203125 C 0.5625 -2.0625 0.5625 -1.75 0.703125 -1.609375 L 7.015625 -1.609375 C 7.171875 -1.75 7.171875 -2.0625 7.015625 -2.203125 Z M 0.703125 -4.59375 C 0.5625 -4.453125 0.5625 -4.140625 0.703125 -4 L 7.015625 -4 C 7.171875 -4.140625 7.171875 -4.453125 7.015625 -4.59375 Z M 0.703125 -4.59375 \"/>\n",
       "</symbol>\n",
       "<symbol overflow=\"visible\" id=\"glyph-1606366588244572-0-10\">\n",
       "<path style=\"stroke:none;\" d=\"M 3.796875 -2.25 C 3.796875 -1.125 3.203125 -0.28125 2.484375 -0.28125 C 2.03125 -0.28125 1.890625 -0.578125 1.703125 -0.828125 C 1.546875 -1.03125 1.34375 -1.203125 1.09375 -1.203125 C 0.875 -1.203125 0.640625 -1 0.640625 -0.765625 C 0.640625 -0.28125 1.65625 0.125 2.34375 0.125 C 3.8125 0.125 4.859375 -0.96875 4.859375 -2.46875 C 4.859375 -3.625 4.0625 -4.65625 2.734375 -4.65625 C 2.21875 -4.65625 1.78125 -4.546875 1.5625 -4.46875 L 1.796875 -6.46875 C 2.234375 -6.40625 2.625 -6.359375 3.1875 -6.359375 C 3.546875 -6.359375 3.953125 -6.375 4.453125 -6.421875 L 4.640625 -7.234375 L 4.546875 -7.28125 C 3.875 -7.21875 3.234375 -7.15625 2.59375 -7.15625 C 2.15625 -7.15625 1.734375 -7.171875 1.3125 -7.21875 L 0.90625 -3.78125 C 1.53125 -4.015625 1.984375 -4.0625 2.421875 -4.0625 C 3.1875 -4.0625 3.796875 -3.546875 3.796875 -2.25 Z M 3.796875 -2.25 \"/>\n",
       "</symbol>\n",
       "<symbol overflow=\"visible\" id=\"glyph-1606366588244572-0-11\">\n",
       "<path style=\"stroke:none;\" d=\"M 2.03125 -6.375 L 4.15625 -6.375 C 3.234375 -4.0625 2.28125 -1.734375 1.484375 0.078125 L 1.578125 0.15625 L 2.390625 0.125 C 3.0625 -1.90625 3.71875 -3.890625 5.0625 -7.140625 L 4.859375 -7.28125 C 4.65625 -7.21875 4.40625 -7.15625 3.953125 -7.15625 L 1.484375 -7.15625 C 1.078125 -7.15625 1.109375 -7.265625 0.890625 -7.3125 C 0.859375 -7.3125 0.84375 -7.3125 0.84375 -7.28125 C 0.828125 -6.71875 0.703125 -6 0.609375 -5.375 C 0.734375 -5.34375 0.859375 -5.328125 0.984375 -5.34375 C 1.25 -6.296875 1.640625 -6.375 2.03125 -6.375 Z M 2.03125 -6.375 \"/>\n",
       "</symbol>\n",
       "<symbol overflow=\"visible\" id=\"glyph-1606366588244572-0-12\">\n",
       "<path style=\"stroke:none;\" d=\"M 3.90625 -3.046875 C 3.578125 -1.96875 2.8125 -0.765625 1.234375 -0.171875 C 1.234375 -0.03125 1.28125 0.078125 1.375 0.140625 C 2.578125 -0.21875 3.3125 -0.71875 3.984375 -1.484375 C 4.71875 -2.34375 5.09375 -3.4375 5.09375 -4.375 C 5.09375 -6.796875 3.71875 -7.265625 2.796875 -7.265625 C 1.234375 -7.265625 0.59375 -5.765625 0.59375 -4.734375 C 0.59375 -3.703125 1.140625 -2.796875 2.765625 -2.796875 C 3.078125 -2.796875 3.546875 -2.890625 3.90625 -3.046875 Z M 4 -3.484375 C 3.609375 -3.21875 3.21875 -3.203125 3.015625 -3.203125 C 1.84375 -3.203125 1.578125 -4.34375 1.578125 -4.953125 C 1.578125 -6.265625 2.09375 -6.859375 2.671875 -6.859375 C 3.421875 -6.859375 4.09375 -6.453125 4.09375 -4.40625 C 4.09375 -4.15625 4.078125 -3.828125 4 -3.484375 Z M 4 -3.484375 \"/>\n",
       "</symbol>\n",
       "<symbol overflow=\"visible\" id=\"glyph-1606366588244572-1-0\">\n",
       "<path style=\"stroke:none;\" d=\"M 0 0 L 5.46875 0 L 5.46875 -7.625 L 0 -7.625 Z M 0.875 -0.546875 L 2.734375 -3.3125 L 4.59375 -0.546875 Z M 0.546875 -6.59375 L 2.40625 -3.8125 L 0.546875 -1.03125 Z M 3.0625 -3.8125 L 4.921875 -6.59375 L 4.921875 -1.03125 Z M 2.734375 -4.296875 L 0.875 -7.0625 L 4.59375 -7.0625 Z M 2.734375 -4.296875 \"/>\n",
       "</symbol>\n",
       "<symbol overflow=\"visible\" id=\"glyph-1606366588244572-1-1\">\n",
       "<path style=\"stroke:none;\" d=\"M 2.1875 -3.375 L 2.578125 -2.296875 L 1.546875 -0.796875 C 1.4375 -0.640625 1.328125 -0.59375 1.25 -0.59375 C 1.15625 -0.59375 1.03125 -0.609375 0.953125 -0.65625 C 0.859375 -0.703125 0.75 -0.71875 0.640625 -0.71875 C 0.390625 -0.71875 0.21875 -0.546875 0.21875 -0.3125 C 0.21875 -0.015625 0.59375 0.109375 0.859375 0.109375 C 1.21875 0.109375 1.484375 -0.046875 1.96875 -0.75 L 2.734375 -1.828125 L 3.140625 -0.5 C 3.28125 -0.0625 3.390625 0.109375 3.765625 0.109375 C 4.15625 0.109375 4.625 -0.09375 4.96875 -0.671875 C 4.921875 -0.765625 4.828125 -0.859375 4.703125 -0.875 C 4.421875 -0.515625 4.28125 -0.421875 4.15625 -0.421875 C 4.0625 -0.421875 3.984375 -0.5625 3.90625 -0.828125 L 3.3125 -2.59375 L 4.140625 -3.8125 C 4.3125 -4.0625 4.578125 -4.109375 4.65625 -4.109375 C 4.734375 -4.109375 4.875 -4.078125 4.984375 -4 C 5.0625 -3.9375 5.234375 -3.890625 5.34375 -3.890625 C 5.5 -3.890625 5.6875 -4.109375 5.6875 -4.359375 C 5.6875 -4.625 5.390625 -4.796875 5.140625 -4.796875 C 4.59375 -4.796875 4.234375 -4.609375 3.703125 -3.828125 L 3.15625 -3.046875 L 2.84375 -4.015625 C 2.671875 -4.578125 2.546875 -4.796875 2.265625 -4.796875 C 2.015625 -4.796875 1.21875 -4.34375 0.828125 -4.0625 C 0.84375 -3.9375 0.890625 -3.8125 0.96875 -3.71875 C 1.109375 -3.796875 1.46875 -3.96875 1.6875 -3.96875 C 1.828125 -3.96875 1.9375 -3.9375 2 -3.828125 C 2.046875 -3.75 2.125 -3.578125 2.1875 -3.375 Z M 2.1875 -3.375 \"/>\n",
       "</symbol>\n",
       "<symbol overflow=\"visible\" id=\"glyph-1606366588244572-1-2\">\n",
       "<path style=\"stroke:none;\" d=\"M 4.84375 0 C 4.953125 -0.09375 4.953125 -0.46875 4.84375 -0.5625 L 3.3125 -0.5625 C 2.265625 -0.5625 1.390625 -1.4375 1.25 -2.5625 L 4.75 -2.5625 C 4.84375 -2.671875 4.84375 -3.015625 4.75 -3.109375 L 1.25 -3.109375 C 1.359375 -4.1875 2.15625 -5.109375 3.3125 -5.109375 L 4.84375 -5.109375 C 4.953125 -5.203125 4.953125 -5.578125 4.84375 -5.671875 L 3.359375 -5.671875 C 1.796875 -5.671875 0.546875 -4.375 0.546875 -2.84375 C 0.546875 -1.3125 1.78125 0 3.359375 0 Z M 4.84375 0 \"/>\n",
       "</symbol>\n",
       "<symbol overflow=\"visible\" id=\"glyph-1606366588244572-1-3\">\n",
       "<path style=\"stroke:none;\" d=\"M 0.46875 -3 C 0.46875 -0.59375 1.609375 1.125 3.375 2.03125 L 3.546875 1.71875 C 1.953125 0.671875 1.359375 -0.796875 1.359375 -3 C 1.359375 -5.171875 1.953125 -6.625 3.546875 -7.6875 L 3.375 -7.96875 C 1.609375 -7.078125 0.46875 -5.375 0.46875 -3 Z M 0.46875 -3 \"/>\n",
       "</symbol>\n",
       "<symbol overflow=\"visible\" id=\"glyph-1606366588244572-1-4\">\n",
       "<path style=\"stroke:none;\" d=\"M 3.84375 -7.1875 L 3.171875 -7.1875 L 0.375 -0.21875 C 0.34375 -0.109375 0.328125 -0.109375 0.328125 -0.078125 C 0.328125 -0.015625 0.421875 0 0.5625 0 L 6.328125 0 C 6.515625 0 6.546875 -0.015625 6.546875 -0.0625 C 6.546875 -0.09375 6.546875 -0.125 6.515625 -0.21875 Z M 3.28125 -6.078125 L 3.296875 -6.078125 L 5.46875 -0.375 L 1.0625 -0.375 Z M 3.28125 -6.078125 \"/>\n",
       "</symbol>\n",
       "<symbol overflow=\"visible\" id=\"glyph-1606366588244572-1-5\">\n",
       "<path style=\"stroke:none;\" d=\"M 6.140625 -7.0625 C 6.140625 -7.078125 6.125 -7.09375 6.09375 -7.09375 C 5.90625 -7.0625 5.84375 -7.046875 5.59375 -7.046875 L 2.9375 -7.046875 C 2.53125 -7.046875 2.109375 -7.0625 1.609375 -7.0625 L 1.59375 -7.046875 L 1.546875 -6.828125 C 1.546875 -6.796875 1.546875 -6.75 1.609375 -6.75 L 1.921875 -6.734375 C 2.25 -6.703125 2.390625 -6.625 2.390625 -6.390625 C 2.390625 -6.34375 2.375 -6.296875 2.375 -6.234375 L 1.3125 -0.78125 C 1.25 -0.484375 1.09375 -0.34375 0.671875 -0.3125 L 0.359375 -0.296875 C 0.296875 -0.296875 0.265625 -0.25 0.265625 -0.21875 L 0.21875 0 L 0.234375 0.015625 C 0.734375 0.015625 1.171875 0 1.578125 0 L 3.828125 0 C 4.328125 0 5.15625 0.015625 5.15625 0.015625 C 5.390625 -0.546875 5.65625 -1.234375 5.890625 -1.796875 L 5.578125 -1.859375 C 5.21875 -1.078125 4.6875 -0.421875 3.890625 -0.421875 L 2.46875 -0.421875 C 2.265625 -0.421875 2.140625 -0.46875 2.140625 -0.671875 C 2.140625 -0.703125 2.140625 -0.75 2.15625 -0.78125 L 2.6875 -3.53125 L 4.015625 -3.53125 C 4.34375 -3.53125 4.484375 -3.453125 4.484375 -3.203125 C 4.484375 -3.171875 4.46875 -3.140625 4.46875 -3.109375 L 4.4375 -2.84375 C 4.4375 -2.8125 4.4375 -2.75 4.5 -2.75 L 4.734375 -2.75 L 4.78125 -2.78125 C 4.828125 -3.21875 4.875 -3.515625 4.921875 -3.734375 C 4.953125 -3.953125 5.03125 -4.28125 5.15625 -4.71875 L 5.125 -4.765625 L 4.890625 -4.765625 C 4.84375 -4.765625 4.8125 -4.71875 4.796875 -4.671875 L 4.71875 -4.40625 C 4.625 -4.09375 4.46875 -3.9375 4.109375 -3.9375 L 2.78125 -3.9375 L 3.21875 -6.234375 C 3.265625 -6.5 3.421875 -6.609375 3.671875 -6.609375 L 4.765625 -6.609375 C 5.546875 -6.609375 5.65625 -6.171875 5.75 -5.421875 L 6.046875 -5.46875 C 6.09375 -5.921875 6.140625 -6.96875 6.140625 -7.0625 Z M 6.140625 -7.0625 \"/>\n",
       "</symbol>\n",
       "<symbol overflow=\"visible\" id=\"glyph-1606366588244572-1-6\">\n",
       "<path style=\"stroke:none;\" d=\"M 1.140625 2.1875 L 5.203125 -7.859375 C 5.09375 -7.96875 4.703125 -7.96875 4.609375 -7.859375 L 0.546875 2.1875 C 0.640625 2.28125 1.03125 2.28125 1.140625 2.1875 Z M 1.140625 2.1875 \"/>\n",
       "</symbol>\n",
       "<symbol overflow=\"visible\" id=\"glyph-1606366588244572-1-7\">\n",
       "<path style=\"stroke:none;\" d=\"M 3.421875 -3 C 3.421875 -5.375 2.265625 -7.078125 0.515625 -7.96875 L 0.34375 -7.6875 C 1.9375 -6.625 2.515625 -5.171875 2.515625 -3 C 2.515625 -0.796875 1.9375 0.671875 0.34375 1.71875 L 0.515625 2.03125 C 2.265625 1.125 3.421875 -0.59375 3.421875 -3 Z M 3.421875 -3 \"/>\n",
       "</symbol>\n",
       "<symbol overflow=\"visible\" id=\"glyph-1606366588244572-2-0\">\n",
       "<path style=\"stroke:none;\" d=\"M 0 0 L 5.46875 0 L 5.46875 -7.625 L 0 -7.625 Z M 0.875 -0.546875 L 2.734375 -3.3125 L 4.59375 -0.546875 Z M 0.546875 -6.59375 L 2.40625 -3.8125 L 0.546875 -1.03125 Z M 3.0625 -3.8125 L 4.921875 -6.59375 L 4.921875 -1.03125 Z M 2.734375 -4.296875 L 0.875 -7.0625 L 4.59375 -7.0625 Z M 2.734375 -4.296875 \"/>\n",
       "</symbol>\n",
       "<symbol overflow=\"visible\" id=\"glyph-1606366588244572-2-1\">\n",
       "<path style=\"stroke:none;\" d=\"M 0.53125 -1.5 C 0.5625 -0.96875 0.59375 -0.453125 0.59375 0 C 0.703125 -0.015625 0.8125 -0.03125 0.875 -0.03125 C 0.953125 -0.03125 1.015625 -0.03125 1.09375 -0.015625 C 1.390625 0.0625 1.6875 0.109375 2.09375 0.109375 C 2.703125 0.109375 3.828125 -0.1875 3.828125 -1.265625 C 3.828125 -2.015625 3.28125 -2.453125 2.546875 -2.71875 C 1.890625 -2.96875 1.453125 -3.140625 1.453125 -3.734375 C 1.453125 -4.1875 1.84375 -4.4375 2.21875 -4.4375 C 2.453125 -4.4375 3.09375 -4.34375 3.234375 -3.421875 C 3.296875 -3.359375 3.515625 -3.359375 3.578125 -3.421875 C 3.609375 -3.828125 3.640625 -4.234375 3.640625 -4.59375 C 3.3125 -4.640625 2.78125 -4.796875 2.21875 -4.796875 C 1.40625 -4.796875 0.671875 -4.265625 0.671875 -3.578125 C 0.671875 -2.78125 1.03125 -2.4375 1.875 -2.09375 C 2.78125 -1.71875 3 -1.484375 3 -1.015625 C 3 -0.484375 2.46875 -0.25 2.0625 -0.25 C 1.640625 -0.25 1.390625 -0.390625 1.28125 -0.515625 C 1.046875 -0.765625 0.921875 -1.25 0.859375 -1.515625 C 0.796875 -1.578125 0.59375 -1.578125 0.53125 -1.5 Z M 0.53125 -1.5 \"/>\n",
       "</symbol>\n",
       "<symbol overflow=\"visible\" id=\"glyph-1606366588244572-2-2\">\n",
       "<path style=\"stroke:none;\" d=\"M 2.375 0.109375 C 2.796875 0.109375 3.3125 -0.109375 3.84375 -0.546875 C 3.90625 -0.59375 4 -0.609375 4.015625 -0.53125 C 4.046875 -0.265625 4.125 0.109375 4.125 0.109375 C 4.21875 0.140625 4.265625 0.125 4.34375 0.109375 C 4.578125 -0.09375 4.953125 -0.25 5.625 -0.328125 C 5.6875 -0.390625 5.6875 -0.5625 5.625 -0.625 C 4.921875 -0.671875 4.828125 -0.890625 4.828125 -1.421875 L 4.828125 -3.515625 C 4.828125 -3.84375 4.875 -4.640625 4.875 -4.640625 C 4.875 -4.671875 4.84375 -4.703125 4.78125 -4.703125 C 4.734375 -4.703125 4.5625 -4.6875 4.40625 -4.6875 C 4.046875 -4.6875 3.65625 -4.703125 3.28125 -4.703125 C 3.21875 -4.640625 3.21875 -4.40625 3.28125 -4.34375 C 3.828125 -4.3125 3.96875 -4.1875 3.96875 -3.46875 L 3.96875 -1.359375 C 3.96875 -1.140625 3.9375 -1.0625 3.796875 -0.921875 C 3.390625 -0.578125 2.96875 -0.40625 2.703125 -0.40625 C 2.375 -0.40625 1.828125 -0.5625 1.828125 -1.53125 L 1.828125 -3.515625 C 1.828125 -3.84375 1.875 -4.640625 1.875 -4.640625 C 1.875 -4.671875 1.828125 -4.703125 1.78125 -4.703125 C 1.71875 -4.703125 1.5625 -4.6875 1.390625 -4.6875 C 1.046875 -4.6875 0.65625 -4.703125 0.28125 -4.703125 C 0.21875 -4.640625 0.21875 -4.40625 0.28125 -4.34375 C 0.8125 -4.296875 0.96875 -4.1875 0.96875 -3.46875 L 0.96875 -1.375 C 0.96875 -0.625 1.28125 0.109375 2.375 0.109375 Z M 2.375 0.109375 \"/>\n",
       "</symbol>\n",
       "<symbol overflow=\"visible\" id=\"glyph-1606366588244572-2-3\">\n",
       "<path style=\"stroke:none;\" d=\"M 1.703125 -4.015625 C 1.6875 -4.34375 1.671875 -4.625 1.609375 -4.734375 C 1.59375 -4.796875 1.578125 -4.828125 1.484375 -4.828125 C 1.171875 -4.703125 0.890625 -4.609375 0.140625 -4.515625 C 0.125 -4.4375 0.140625 -4.265625 0.15625 -4.203125 C 0.75 -4.15625 0.875 -4.09375 0.875 -3.46875 L 0.875 1.203125 C 0.875 2.109375 0.75 2.15625 0.09375 2.203125 C 0.015625 2.265625 0.015625 2.484375 0.09375 2.5625 C 0.46875 2.546875 0.875 2.53125 1.3125 2.53125 C 1.75 2.53125 2.265625 2.546875 2.625 2.5625 C 2.703125 2.484375 2.703125 2.265625 2.625 2.203125 C 1.859375 2.15625 1.734375 2.109375 1.734375 1.203125 L 1.734375 0.015625 C 1.734375 -0.125 1.78125 -0.109375 1.890625 -0.0625 C 2.15625 0.046875 2.484375 0.109375 2.84375 0.109375 C 3.453125 0.109375 4 -0.078125 4.4375 -0.5 C 4.953125 -1 5.25 -1.6875 5.25 -2.5625 C 5.25 -3.71875 4.4375 -4.796875 3.3125 -4.796875 C 2.8125 -4.796875 2.265625 -4.46875 1.828125 -3.96875 C 1.765625 -3.90625 1.71875 -3.90625 1.703125 -4.015625 Z M 1.90625 -3.609375 C 2.203125 -3.96875 2.703125 -4.296875 3.015625 -4.296875 C 3.71875 -4.296875 4.3125 -3.5 4.3125 -2.265625 C 4.3125 -1.375 4 -0.265625 2.78125 -0.265625 C 2.578125 -0.265625 2.203125 -0.3125 2 -0.484375 C 1.78125 -0.6875 1.734375 -0.75 1.734375 -1.140625 L 1.734375 -3.140625 C 1.734375 -3.359375 1.78125 -3.46875 1.90625 -3.609375 Z M 1.90625 -3.609375 \"/>\n",
       "</symbol>\n",
       "<symbol overflow=\"visible\" id=\"glyph-1606366588244572-3-0\">\n",
       "<path style=\"stroke:none;\" d=\"M 0 0 L 3.828125 0 L 3.828125 -5.34375 L 0 -5.34375 Z M 0.609375 -0.390625 L 1.921875 -2.328125 L 3.21875 -0.390625 Z M 0.390625 -4.609375 L 1.6875 -2.671875 L 0.390625 -0.734375 Z M 2.140625 -2.671875 L 3.453125 -4.609375 L 3.453125 -0.734375 Z M 1.921875 -3.015625 L 0.609375 -4.953125 L 3.21875 -4.953125 Z M 1.921875 -3.015625 \"/>\n",
       "</symbol>\n",
       "<symbol overflow=\"visible\" id=\"glyph-1606366588244572-3-1\">\n",
       "<path style=\"stroke:none;\" d=\"M 1.296875 -2.734375 C 1.296875 -2.96875 1.28125 -3.25 1.234375 -3.328125 C 1.21875 -3.359375 1.203125 -3.390625 1.15625 -3.390625 C 0.9375 -3.296875 0.734375 -3.234375 0.203125 -3.15625 C 0.1875 -3.109375 0.203125 -3 0.21875 -2.953125 C 0.640625 -2.90625 0.71875 -2.875 0.71875 -2.421875 L 0.71875 -0.9375 C 0.71875 -0.3125 0.625 -0.265625 0.203125 -0.234375 C 0.15625 -0.1875 0.15625 -0.03125 0.203125 0.015625 C 0.421875 0 0.71875 0 1.03125 0 C 1.328125 0 1.5625 0 1.796875 0.015625 C 1.84375 -0.03125 1.84375 -0.1875 1.796875 -0.234375 C 1.40625 -0.28125 1.328125 -0.3125 1.328125 -0.9375 L 1.328125 -2.1875 C 1.328125 -2.34375 1.390625 -2.4375 1.453125 -2.515625 C 1.765625 -2.8125 2.046875 -2.96875 2.28125 -2.96875 C 2.578125 -2.96875 2.78125 -2.78125 2.78125 -2.265625 L 2.78125 -0.9375 C 2.78125 -0.3125 2.71875 -0.265625 2.3125 -0.234375 C 2.28125 -0.1875 2.28125 -0.03125 2.3125 0.015625 C 2.5 0 2.78125 0 3.09375 0 C 3.40625 0 3.65625 0 3.84375 0.015625 C 3.875 -0.03125 3.875 -0.1875 3.84375 -0.234375 C 3.453125 -0.265625 3.390625 -0.3125 3.390625 -0.9375 L 3.390625 -2.15625 C 3.390625 -2.265625 3.390625 -2.359375 3.390625 -2.453125 C 3.75 -2.859375 4.09375 -2.96875 4.390625 -2.96875 C 4.6875 -2.96875 4.859375 -2.796875 4.859375 -2.28125 L 4.859375 -0.9375 C 4.859375 -0.3125 4.78125 -0.265625 4.375 -0.234375 C 4.34375 -0.1875 4.34375 -0.03125 4.375 0.015625 C 4.578125 0 4.859375 0 5.15625 0 C 5.46875 0 5.734375 0 5.953125 0.015625 C 5.984375 -0.03125 5.984375 -0.1875 5.953125 -0.234375 C 5.53125 -0.265625 5.453125 -0.3125 5.453125 -0.9375 L 5.453125 -2.140625 C 5.453125 -2.828125 5.34375 -3.359375 4.671875 -3.359375 C 4.28125 -3.359375 3.8125 -3.21875 3.40625 -2.796875 C 3.390625 -2.765625 3.34375 -2.734375 3.328125 -2.796875 C 3.25 -3.109375 2.953125 -3.359375 2.5625 -3.359375 C 2.109375 -3.359375 1.71875 -3.09375 1.390625 -2.734375 C 1.359375 -2.703125 1.3125 -2.65625 1.296875 -2.734375 Z M 1.296875 -2.734375 \"/>\n",
       "</symbol>\n",
       "<symbol overflow=\"visible\" id=\"glyph-1606366588244572-3-2\">\n",
       "<path style=\"stroke:none;\" d=\"M 2.25 -0.375 C 2.296875 -0.125 2.375 0.078125 2.75 0.078125 C 3.046875 0.078125 3.328125 -0.046875 3.484375 -0.203125 C 3.46875 -0.296875 3.4375 -0.375 3.359375 -0.40625 C 3.296875 -0.375 3.171875 -0.296875 3.0625 -0.296875 C 2.84375 -0.296875 2.84375 -0.59375 2.84375 -0.9375 L 2.84375 -2.0625 C 2.84375 -3.15625 2.25 -3.359375 1.6875 -3.359375 C 1.0625 -3.359375 0.421875 -2.953125 0.421875 -2.515625 C 0.421875 -2.328125 0.515625 -2.234375 0.6875 -2.234375 C 0.90625 -2.234375 1.046875 -2.390625 1.046875 -2.5 C 1.046875 -2.546875 1.046875 -2.609375 1.03125 -2.640625 C 1.015625 -2.65625 1.015625 -2.703125 1.015625 -2.78125 C 1.015625 -3.03125 1.328125 -3.109375 1.625 -3.109375 C 1.890625 -3.109375 2.25 -2.984375 2.25 -2.109375 C 2.25 -2.0625 2.21875 -2.03125 2.203125 -2.015625 L 1.53125 -1.859375 C 0.796875 -1.671875 0.28125 -1.265625 0.28125 -0.75 C 0.28125 -0.125 0.703125 0.078125 1.234375 0.078125 C 1.515625 0.078125 1.734375 0.015625 2.078125 -0.25 L 2.234375 -0.375 Z M 2.25 -1.78125 L 2.25 -0.765625 C 2.25 -0.671875 2.203125 -0.625 2.140625 -0.578125 C 1.9375 -0.40625 1.671875 -0.234375 1.46875 -0.234375 C 1.078125 -0.234375 0.90625 -0.546875 0.90625 -0.78125 C 0.90625 -1.125 1.078125 -1.484375 1.640625 -1.625 Z M 2.25 -1.78125 \"/>\n",
       "</symbol>\n",
       "<symbol overflow=\"visible\" id=\"glyph-1606366588244572-3-3\">\n",
       "<path style=\"stroke:none;\" d=\"M 1.390625 -2.734375 C 1.21875 -3 1.265625 -3.015625 1.609375 -3.046875 C 1.65625 -3.09375 1.65625 -3.25 1.609375 -3.296875 C 1.40625 -3.296875 1.078125 -3.28125 0.84375 -3.28125 C 0.609375 -3.28125 0.390625 -3.296875 0.1875 -3.296875 C 0.140625 -3.25 0.140625 -3.09375 0.1875 -3.046875 C 0.4375 -3.03125 0.65625 -2.890625 0.875 -2.578125 L 1.53125 -1.609375 C 1.578125 -1.546875 1.578125 -1.53125 1.546875 -1.5 L 0.90625 -0.671875 C 0.59375 -0.28125 0.421875 -0.25 0.15625 -0.234375 C 0.109375 -0.1875 0.109375 -0.03125 0.15625 0.015625 C 0.3125 0 0.484375 0 0.71875 0 C 0.9375 0 1.15625 0 1.359375 0.015625 C 1.40625 -0.03125 1.40625 -0.1875 1.359375 -0.234375 C 1.078125 -0.265625 1.015625 -0.296875 1.1875 -0.546875 L 1.671875 -1.234375 C 1.734375 -1.328125 1.765625 -1.328125 1.8125 -1.25 L 2.25 -0.640625 C 2.515625 -0.28125 2.390625 -0.265625 2.15625 -0.234375 C 2.109375 -0.1875 2.109375 -0.03125 2.15625 0.015625 C 2.375 0 2.640625 0 2.90625 0 C 3.203125 0 3.40625 0 3.59375 0.015625 C 3.640625 -0.03125 3.640625 -0.1875 3.59375 -0.234375 C 3.25 -0.265625 3.125 -0.28125 2.828125 -0.71875 L 2.140625 -1.6875 C 2.109375 -1.734375 2.09375 -1.765625 2.140625 -1.8125 L 2.78125 -2.625 C 3.0625 -2.984375 3.25 -3.03125 3.515625 -3.046875 C 3.5625 -3.09375 3.5625 -3.25 3.515625 -3.296875 C 3.375 -3.296875 3.1875 -3.28125 2.96875 -3.28125 C 2.734375 -3.28125 2.515625 -3.296875 2.3125 -3.296875 C 2.28125 -3.25 2.28125 -3.09375 2.3125 -3.046875 C 2.609375 -3.015625 2.6875 -3 2.5 -2.734375 L 2 -2.03125 C 1.953125 -1.953125 1.921875 -1.96875 1.859375 -2.046875 Z M 1.390625 -2.734375 \"/>\n",
       "</symbol>\n",
       "<symbol overflow=\"visible\" id=\"glyph-1606366588244572-4-0\">\n",
       "<path style=\"stroke:none;\" d=\"M 0 0 L 0 -5.46875 L -7.625 -5.46875 L -7.625 0 Z M -0.546875 -0.875 L -3.3125 -2.734375 L -0.546875 -4.59375 Z M -6.59375 -0.546875 L -3.8125 -2.40625 L -1.03125 -0.546875 Z M -3.8125 -3.0625 L -6.59375 -4.921875 L -1.03125 -4.921875 Z M -4.296875 -2.734375 L -7.0625 -0.875 L -7.0625 -4.59375 Z M -4.296875 -2.734375 \"/>\n",
       "</symbol>\n",
       "<symbol overflow=\"visible\" id=\"glyph-1606366588244572-4-1\">\n",
       "<path style=\"stroke:none;\" d=\"M -0.78125 -1.296875 C -0.46875 -1.25 -0.34375 -1.0625 -0.3125 -0.640625 L -0.296875 -0.359375 C -0.296875 -0.3125 -0.265625 -0.265625 -0.203125 -0.265625 L 0 -0.21875 L 0.015625 -0.234375 C 0.015625 -0.625 0 -1.140625 0 -1.578125 C 0 -2 0.015625 -2.515625 0.015625 -3.015625 L 0 -3.03125 L -0.203125 -3.078125 C -0.265625 -3.09375 -0.296875 -3.0625 -0.296875 -3.015625 L -0.3125 -2.625 C -0.34375 -2.296875 -0.421875 -2.140625 -0.640625 -2.140625 C -0.671875 -2.140625 -0.71875 -2.140625 -0.78125 -2.15625 L -3.1875 -2.625 C -3.109375 -2.84375 -3.078125 -3.03125 -3.078125 -3.390625 C -3.078125 -5.3125 -4.375 -6.109375 -5.3125 -6.28125 C -5.421875 -6.296875 -5.53125 -6.3125 -5.65625 -6.3125 C -6.296875 -6.3125 -7.140625 -5.9375 -7.140625 -4.328125 C -7.140625 -4.046875 -7.046875 -3.375 -7.046875 -2.953125 C -7.046875 -2.53125 -7.0625 -2 -7.0625 -1.609375 L -7.046875 -1.578125 L -6.8125 -1.546875 C -6.765625 -1.53125 -6.75 -1.546875 -6.75 -1.59375 L -6.734375 -2 C -6.71875 -2.15625 -6.640625 -2.375 -6.375 -2.375 C -6.34375 -2.375 -6.296875 -2.375 -6.265625 -2.375 Z M -6.265625 -3.21875 C -6.59375 -3.28125 -6.765625 -3.421875 -6.765625 -4.171875 C -6.765625 -4.796875 -6.578125 -5.390625 -5.671875 -5.390625 C -5.515625 -5.390625 -5.328125 -5.359375 -5.109375 -5.3125 C -3.9375 -5.09375 -3.453125 -4.4375 -3.453125 -3.421875 C -3.453125 -3.15625 -3.46875 -2.796875 -3.5 -2.6875 Z M -6.265625 -3.21875 \"/>\n",
       "</symbol>\n",
       "<symbol overflow=\"visible\" id=\"glyph-1606366588244572-4-2\">\n",
       "<path style=\"stroke:none;\" d=\"M -3 -0.46875 C -0.59375 -0.46875 1.125 -1.609375 2.03125 -3.375 L 1.71875 -3.546875 C 0.671875 -1.953125 -0.796875 -1.359375 -3 -1.359375 C -5.171875 -1.359375 -6.625 -1.953125 -7.6875 -3.546875 L -7.96875 -3.375 C -7.078125 -1.609375 -5.375 -0.46875 -3 -0.46875 Z M -3 -0.46875 \"/>\n",
       "</symbol>\n",
       "<symbol overflow=\"visible\" id=\"glyph-1606366588244572-4-3\">\n",
       "<path style=\"stroke:none;\" d=\"M -7.1875 -3.84375 L -7.1875 -3.171875 L -0.21875 -0.375 C -0.109375 -0.34375 -0.109375 -0.328125 -0.078125 -0.328125 C -0.015625 -0.328125 0 -0.421875 0 -0.5625 L 0 -6.328125 C 0 -6.515625 -0.015625 -6.546875 -0.0625 -6.546875 C -0.09375 -6.546875 -0.125 -6.546875 -0.21875 -6.515625 Z M -6.078125 -3.28125 L -6.078125 -3.296875 L -0.375 -5.46875 L -0.375 -1.0625 Z M -6.078125 -3.28125 \"/>\n",
       "</symbol>\n",
       "<symbol overflow=\"visible\" id=\"glyph-1606366588244572-4-4\">\n",
       "<path style=\"stroke:none;\" d=\"M -7.0625 -6.140625 C -7.078125 -6.140625 -7.09375 -6.125 -7.09375 -6.09375 C -7.0625 -5.90625 -7.046875 -5.84375 -7.046875 -5.59375 L -7.046875 -2.9375 C -7.046875 -2.53125 -7.0625 -2.109375 -7.0625 -1.609375 L -7.046875 -1.59375 L -6.828125 -1.546875 C -6.796875 -1.546875 -6.75 -1.546875 -6.75 -1.609375 L -6.734375 -1.921875 C -6.703125 -2.25 -6.625 -2.390625 -6.390625 -2.390625 C -6.34375 -2.390625 -6.296875 -2.375 -6.234375 -2.375 L -0.78125 -1.3125 C -0.484375 -1.25 -0.34375 -1.09375 -0.3125 -0.671875 L -0.296875 -0.359375 C -0.296875 -0.296875 -0.25 -0.265625 -0.21875 -0.265625 L 0 -0.21875 L 0.015625 -0.234375 C 0.015625 -0.734375 0 -1.171875 0 -1.578125 L 0 -3.828125 C 0 -4.328125 0.015625 -5.15625 0.015625 -5.15625 C -0.546875 -5.390625 -1.234375 -5.65625 -1.796875 -5.890625 L -1.859375 -5.578125 C -1.078125 -5.21875 -0.421875 -4.6875 -0.421875 -3.890625 L -0.421875 -2.46875 C -0.421875 -2.265625 -0.46875 -2.140625 -0.671875 -2.140625 C -0.703125 -2.140625 -0.75 -2.140625 -0.78125 -2.15625 L -3.53125 -2.6875 L -3.53125 -4.015625 C -3.53125 -4.34375 -3.453125 -4.484375 -3.203125 -4.484375 C -3.171875 -4.484375 -3.140625 -4.46875 -3.109375 -4.46875 L -2.84375 -4.4375 C -2.8125 -4.4375 -2.75 -4.4375 -2.75 -4.5 L -2.75 -4.734375 L -2.78125 -4.78125 C -3.21875 -4.828125 -3.515625 -4.875 -3.734375 -4.921875 C -3.953125 -4.953125 -4.28125 -5.03125 -4.71875 -5.15625 L -4.765625 -5.125 L -4.765625 -4.890625 C -4.765625 -4.84375 -4.71875 -4.8125 -4.671875 -4.796875 L -4.40625 -4.71875 C -4.09375 -4.625 -3.9375 -4.46875 -3.9375 -4.109375 L -3.9375 -2.78125 L -6.234375 -3.21875 C -6.5 -3.265625 -6.609375 -3.421875 -6.609375 -3.671875 L -6.609375 -4.765625 C -6.609375 -5.546875 -6.171875 -5.65625 -5.421875 -5.75 L -5.46875 -6.046875 C -5.921875 -6.09375 -6.96875 -6.140625 -7.0625 -6.140625 Z M -7.0625 -6.140625 \"/>\n",
       "</symbol>\n",
       "<symbol overflow=\"visible\" id=\"glyph-1606366588244572-4-5\">\n",
       "<path style=\"stroke:none;\" d=\"M 2.1875 -1.140625 L -7.859375 -5.203125 C -7.96875 -5.09375 -7.96875 -4.703125 -7.859375 -4.609375 L 2.1875 -0.546875 C 2.28125 -0.640625 2.28125 -1.03125 2.1875 -1.140625 Z M 2.1875 -1.140625 \"/>\n",
       "</symbol>\n",
       "<symbol overflow=\"visible\" id=\"glyph-1606366588244572-4-6\">\n",
       "<path style=\"stroke:none;\" d=\"M -3.6875 -1.203125 L -6.234375 -6.4375 C -6.375 -6.5625 -6.71875 -6.5625 -6.84375 -6.4375 L -4.03125 -0.640625 C -3.96875 -0.578125 -3.796875 -0.546875 -3.6875 -0.546875 C -3.59375 -0.546875 -3.421875 -0.578125 -3.359375 -0.640625 L -0.53125 -6.4375 C -0.671875 -6.5625 -1.015625 -6.5625 -1.140625 -6.4375 Z M 0.5625 -6.4375 L -2.265625 -0.640625 C -2.203125 -0.578125 -2.09375 -0.546875 -1.984375 -0.546875 C -1.890625 -0.546875 -1.71875 -0.578125 -1.65625 -0.640625 L 1.171875 -6.4375 C 1.03125 -6.5625 0.6875 -6.5625 0.5625 -6.4375 Z M 0.5625 -6.4375 \"/>\n",
       "</symbol>\n",
       "<symbol overflow=\"visible\" id=\"glyph-1606366588244572-4-7\">\n",
       "<path style=\"stroke:none;\" d=\"M -3.375 -2.1875 L -2.296875 -2.578125 L -0.796875 -1.546875 C -0.640625 -1.4375 -0.59375 -1.328125 -0.59375 -1.25 C -0.59375 -1.15625 -0.609375 -1.03125 -0.65625 -0.953125 C -0.703125 -0.859375 -0.71875 -0.75 -0.71875 -0.640625 C -0.71875 -0.390625 -0.546875 -0.21875 -0.3125 -0.21875 C -0.015625 -0.21875 0.109375 -0.59375 0.109375 -0.859375 C 0.109375 -1.21875 -0.046875 -1.484375 -0.75 -1.96875 L -1.828125 -2.734375 L -0.5 -3.140625 C -0.0625 -3.28125 0.109375 -3.390625 0.109375 -3.765625 C 0.109375 -4.15625 -0.09375 -4.625 -0.671875 -4.96875 C -0.765625 -4.921875 -0.859375 -4.828125 -0.875 -4.703125 C -0.515625 -4.421875 -0.421875 -4.28125 -0.421875 -4.15625 C -0.421875 -4.0625 -0.5625 -3.984375 -0.828125 -3.90625 L -2.59375 -3.3125 L -3.8125 -4.140625 C -4.0625 -4.3125 -4.109375 -4.578125 -4.109375 -4.65625 C -4.109375 -4.734375 -4.078125 -4.875 -4 -4.984375 C -3.9375 -5.0625 -3.890625 -5.234375 -3.890625 -5.34375 C -3.890625 -5.5 -4.109375 -5.6875 -4.359375 -5.6875 C -4.625 -5.6875 -4.796875 -5.390625 -4.796875 -5.140625 C -4.796875 -4.59375 -4.609375 -4.234375 -3.828125 -3.703125 L -3.046875 -3.15625 L -4.015625 -2.84375 C -4.578125 -2.671875 -4.796875 -2.546875 -4.796875 -2.265625 C -4.796875 -2.015625 -4.34375 -1.21875 -4.0625 -0.828125 C -3.9375 -0.84375 -3.8125 -0.890625 -3.71875 -0.96875 C -3.796875 -1.109375 -3.96875 -1.46875 -3.96875 -1.6875 C -3.96875 -1.828125 -3.9375 -1.9375 -3.828125 -2 C -3.75 -2.046875 -3.578125 -2.125 -3.375 -2.1875 Z M -3.375 -2.1875 \"/>\n",
       "</symbol>\n",
       "<symbol overflow=\"visible\" id=\"glyph-1606366588244572-4-8\">\n",
       "<path style=\"stroke:none;\" d=\"M -3 -3.421875 C -5.375 -3.421875 -7.078125 -2.265625 -7.96875 -0.515625 L -7.6875 -0.34375 C -6.625 -1.9375 -5.171875 -2.515625 -3 -2.515625 C -0.796875 -2.515625 0.671875 -1.9375 1.71875 -0.34375 L 2.03125 -0.515625 C 1.125 -2.265625 -0.59375 -3.421875 -3 -3.421875 Z M -3 -3.421875 \"/>\n",
       "</symbol>\n",
       "<symbol overflow=\"visible\" id=\"glyph-1606366588244572-5-0\">\n",
       "<path style=\"stroke:none;\" d=\"M 0 0 L 0 -3.828125 L -5.34375 -3.828125 L -5.34375 0 Z M -0.390625 -0.609375 L -2.328125 -1.921875 L -0.390625 -3.21875 Z M -4.609375 -0.390625 L -2.671875 -1.6875 L -0.734375 -0.390625 Z M -2.671875 -2.140625 L -4.609375 -3.453125 L -0.734375 -3.453125 Z M -3.015625 -1.921875 L -4.953125 -0.609375 L -4.953125 -3.21875 Z M -3.015625 -1.921875 \"/>\n",
       "</symbol>\n",
       "<symbol overflow=\"visible\" id=\"glyph-1606366588244572-5-1\">\n",
       "<path style=\"stroke:none;\" d=\"M -2.734375 -1.296875 C -2.96875 -1.296875 -3.25 -1.28125 -3.328125 -1.234375 C -3.359375 -1.21875 -3.390625 -1.203125 -3.390625 -1.15625 C -3.296875 -0.9375 -3.234375 -0.734375 -3.15625 -0.203125 C -3.109375 -0.1875 -3 -0.203125 -2.953125 -0.21875 C -2.90625 -0.640625 -2.875 -0.71875 -2.421875 -0.71875 L -0.9375 -0.71875 C -0.3125 -0.71875 -0.265625 -0.625 -0.234375 -0.203125 C -0.1875 -0.15625 -0.03125 -0.15625 0.015625 -0.203125 C 0 -0.421875 0 -0.71875 0 -1.03125 C 0 -1.328125 0 -1.5625 0.015625 -1.796875 C -0.03125 -1.84375 -0.1875 -1.84375 -0.234375 -1.796875 C -0.28125 -1.40625 -0.3125 -1.328125 -0.9375 -1.328125 L -2.1875 -1.328125 C -2.34375 -1.328125 -2.4375 -1.390625 -2.515625 -1.453125 C -2.8125 -1.765625 -2.96875 -2.046875 -2.96875 -2.28125 C -2.96875 -2.578125 -2.78125 -2.78125 -2.265625 -2.78125 L -0.9375 -2.78125 C -0.3125 -2.78125 -0.265625 -2.71875 -0.234375 -2.3125 C -0.1875 -2.28125 -0.03125 -2.28125 0.015625 -2.3125 C 0 -2.5 0 -2.78125 0 -3.09375 C 0 -3.40625 0 -3.65625 0.015625 -3.84375 C -0.03125 -3.875 -0.1875 -3.875 -0.234375 -3.84375 C -0.265625 -3.453125 -0.3125 -3.390625 -0.9375 -3.390625 L -2.15625 -3.390625 C -2.265625 -3.390625 -2.359375 -3.390625 -2.453125 -3.390625 C -2.859375 -3.75 -2.96875 -4.09375 -2.96875 -4.390625 C -2.96875 -4.6875 -2.796875 -4.859375 -2.28125 -4.859375 L -0.9375 -4.859375 C -0.3125 -4.859375 -0.265625 -4.78125 -0.234375 -4.375 C -0.1875 -4.34375 -0.03125 -4.34375 0.015625 -4.375 C 0 -4.578125 0 -4.859375 0 -5.15625 C 0 -5.46875 0 -5.734375 0.015625 -5.953125 C -0.03125 -5.984375 -0.1875 -5.984375 -0.234375 -5.953125 C -0.265625 -5.53125 -0.3125 -5.453125 -0.9375 -5.453125 L -2.140625 -5.453125 C -2.828125 -5.453125 -3.359375 -5.34375 -3.359375 -4.671875 C -3.359375 -4.28125 -3.21875 -3.8125 -2.796875 -3.40625 C -2.765625 -3.390625 -2.734375 -3.34375 -2.796875 -3.328125 C -3.109375 -3.25 -3.359375 -2.953125 -3.359375 -2.5625 C -3.359375 -2.109375 -3.09375 -1.71875 -2.734375 -1.390625 C -2.703125 -1.359375 -2.65625 -1.3125 -2.734375 -1.296875 Z M -2.734375 -1.296875 \"/>\n",
       "</symbol>\n",
       "<symbol overflow=\"visible\" id=\"glyph-1606366588244572-5-2\">\n",
       "<path style=\"stroke:none;\" d=\"M -0.375 -2.25 C -0.125 -2.296875 0.078125 -2.375 0.078125 -2.75 C 0.078125 -3.046875 -0.046875 -3.328125 -0.203125 -3.484375 C -0.296875 -3.46875 -0.375 -3.4375 -0.40625 -3.359375 C -0.375 -3.296875 -0.296875 -3.171875 -0.296875 -3.0625 C -0.296875 -2.84375 -0.59375 -2.84375 -0.9375 -2.84375 L -2.0625 -2.84375 C -3.15625 -2.84375 -3.359375 -2.25 -3.359375 -1.6875 C -3.359375 -1.0625 -2.953125 -0.421875 -2.515625 -0.421875 C -2.328125 -0.421875 -2.234375 -0.515625 -2.234375 -0.6875 C -2.234375 -0.90625 -2.390625 -1.046875 -2.5 -1.046875 C -2.546875 -1.046875 -2.609375 -1.046875 -2.640625 -1.03125 C -2.65625 -1.015625 -2.703125 -1.015625 -2.78125 -1.015625 C -3.03125 -1.015625 -3.109375 -1.328125 -3.109375 -1.625 C -3.109375 -1.890625 -2.984375 -2.25 -2.109375 -2.25 C -2.0625 -2.25 -2.03125 -2.21875 -2.015625 -2.203125 L -1.859375 -1.53125 C -1.671875 -0.796875 -1.265625 -0.28125 -0.75 -0.28125 C -0.125 -0.28125 0.078125 -0.703125 0.078125 -1.234375 C 0.078125 -1.515625 0.015625 -1.734375 -0.25 -2.078125 L -0.375 -2.234375 Z M -1.78125 -2.25 L -0.765625 -2.25 C -0.671875 -2.25 -0.625 -2.203125 -0.578125 -2.140625 C -0.40625 -1.9375 -0.234375 -1.671875 -0.234375 -1.46875 C -0.234375 -1.078125 -0.546875 -0.90625 -0.78125 -0.90625 C -1.125 -0.90625 -1.484375 -1.078125 -1.625 -1.640625 Z M -1.78125 -2.25 \"/>\n",
       "</symbol>\n",
       "<symbol overflow=\"visible\" id=\"glyph-1606366588244572-5-3\">\n",
       "<path style=\"stroke:none;\" d=\"M -2.734375 -1.390625 C -3 -1.21875 -3.015625 -1.265625 -3.046875 -1.609375 C -3.09375 -1.65625 -3.25 -1.65625 -3.296875 -1.609375 C -3.296875 -1.40625 -3.28125 -1.078125 -3.28125 -0.84375 C -3.28125 -0.609375 -3.296875 -0.390625 -3.296875 -0.1875 C -3.25 -0.140625 -3.09375 -0.140625 -3.046875 -0.1875 C -3.03125 -0.4375 -2.890625 -0.65625 -2.578125 -0.875 L -1.609375 -1.53125 C -1.546875 -1.578125 -1.53125 -1.578125 -1.5 -1.546875 L -0.671875 -0.90625 C -0.28125 -0.59375 -0.25 -0.421875 -0.234375 -0.15625 C -0.1875 -0.109375 -0.03125 -0.109375 0.015625 -0.15625 C 0 -0.3125 0 -0.484375 0 -0.71875 C 0 -0.9375 0 -1.15625 0.015625 -1.359375 C -0.03125 -1.40625 -0.1875 -1.40625 -0.234375 -1.359375 C -0.265625 -1.078125 -0.296875 -1.015625 -0.546875 -1.1875 L -1.234375 -1.671875 C -1.328125 -1.734375 -1.328125 -1.765625 -1.25 -1.8125 L -0.640625 -2.25 C -0.28125 -2.515625 -0.265625 -2.390625 -0.234375 -2.15625 C -0.1875 -2.109375 -0.03125 -2.109375 0.015625 -2.15625 C 0 -2.375 0 -2.640625 0 -2.90625 C 0 -3.203125 0 -3.40625 0.015625 -3.59375 C -0.03125 -3.640625 -0.1875 -3.640625 -0.234375 -3.59375 C -0.265625 -3.25 -0.28125 -3.125 -0.71875 -2.828125 L -1.6875 -2.140625 C -1.734375 -2.109375 -1.765625 -2.09375 -1.8125 -2.140625 L -2.625 -2.78125 C -2.984375 -3.0625 -3.03125 -3.25 -3.046875 -3.515625 C -3.09375 -3.5625 -3.25 -3.5625 -3.296875 -3.515625 C -3.296875 -3.375 -3.28125 -3.1875 -3.28125 -2.96875 C -3.28125 -2.734375 -3.296875 -2.515625 -3.296875 -2.3125 C -3.25 -2.28125 -3.09375 -2.28125 -3.046875 -2.3125 C -3.015625 -2.609375 -3 -2.6875 -2.734375 -2.5 L -2.03125 -2 C -1.953125 -1.953125 -1.96875 -1.921875 -2.046875 -1.859375 Z M -2.734375 -1.390625 \"/>\n",
       "</symbol>\n",
       "</g>\n",
       "<clipPath id=\"clip-1606366588244572-1\">\n",
       "  <path d=\"M 37.699219 7.242188 L 280.179688 7.242188 L 280.179688 177.921875 L 37.699219 177.921875 Z M 37.699219 7.242188 \"/>\n",
       "</clipPath>\n",
       "</defs>\n",
       "<g id=\"surface1\">\n",
       "<path style=\" stroke:none;fill-rule:nonzero;fill:rgb(100%,100%,100%);fill-opacity:1;\" d=\"M 37.699219 177.921875 L 280.179688 177.921875 L 280.179688 7.242188 L 37.699219 7.242188 Z M 37.699219 177.921875 \"/>\n",
       "<path style=\"fill:none;stroke-width:0.49814;stroke-linecap:butt;stroke-linejoin:miter;stroke:rgb(13.331604%,13.331604%,33.332825%);stroke-opacity:0.1;stroke-miterlimit:10;\" d=\"M -0.000187204 0.00132667 L -0.000187204 171.168136 M 48.634315 0.00132667 L 48.634315 171.168136 M 97.268817 0.00132667 L 97.268817 171.168136 M 145.903319 0.00132667 L 145.903319 171.168136 M 194.537822 0.00132667 L 194.537822 171.168136 M 243.172324 0.00132667 L 243.172324 171.168136 \" transform=\"matrix(0.997154,0,0,-0.997154,37.699405,177.923198)\"/>\n",
       "<path style=\"fill:none;stroke-width:0.49814;stroke-linecap:butt;stroke-linejoin:miter;stroke:rgb(13.331604%,13.331604%,33.332825%);stroke-opacity:0.1;stroke-miterlimit:10;\" d=\"M -0.000187204 0.00132667 L 243.172324 0.00132667 M -0.000187204 34.235472 L 243.172324 34.235472 M -0.000187204 68.469617 L 243.172324 68.469617 M -0.000187204 102.703763 L 243.172324 102.703763 M -0.000187204 136.933991 L 243.172324 136.933991 M -0.000187204 171.168136 L 243.172324 171.168136 \" transform=\"matrix(0.997154,0,0,-0.997154,37.699405,177.923198)\"/>\n",
       "<path style=\"fill:none;stroke-width:0.19925;stroke-linecap:butt;stroke-linejoin:miter;stroke:rgb(50%,50%,50%);stroke-opacity:1;stroke-miterlimit:10;\" d=\"M -0.000187204 0.00132667 L -0.000187204 4.251704 M 48.634315 0.00132667 L 48.634315 4.251704 M 97.268817 0.00132667 L 97.268817 4.251704 M 145.903319 0.00132667 L 145.903319 4.251704 M 194.537822 0.00132667 L 194.537822 4.251704 M 243.172324 0.00132667 L 243.172324 4.251704 M -0.000187204 171.168136 L -0.000187204 166.917759 M 48.634315 171.168136 L 48.634315 166.917759 M 97.268817 171.168136 L 97.268817 166.917759 M 145.903319 171.168136 L 145.903319 166.917759 M 194.537822 171.168136 L 194.537822 166.917759 M 243.172324 171.168136 L 243.172324 166.917759 \" transform=\"matrix(0.997154,0,0,-0.997154,37.699405,177.923198)\"/>\n",
       "<path style=\"fill:none;stroke-width:0.19925;stroke-linecap:butt;stroke-linejoin:miter;stroke:rgb(50%,50%,50%);stroke-opacity:1;stroke-miterlimit:10;\" d=\"M -0.000187204 0.00132667 L 4.254108 0.00132667 M -0.000187204 34.235472 L 4.254108 34.235472 M -0.000187204 68.469617 L 4.254108 68.469617 M -0.000187204 102.703763 L 4.254108 102.703763 M -0.000187204 136.933991 L 4.254108 136.933991 M -0.000187204 171.168136 L 4.254108 171.168136 M 243.172324 0.00132667 L 238.918029 0.00132667 M 243.172324 34.235472 L 238.918029 34.235472 M 243.172324 68.469617 L 238.918029 68.469617 M 243.172324 102.703763 L 238.918029 102.703763 M 243.172324 136.933991 L 238.918029 136.933991 M 243.172324 171.168136 L 238.918029 171.168136 \" transform=\"matrix(0.997154,0,0,-0.997154,37.699405,177.923198)\"/>\n",
       "<g style=\"fill:rgb(0%,0%,0%);fill-opacity:1;\">\n",
       "  <use xlink:href=\"#glyph-1606366588244572-0-1\" x=\"30.844968\" y=\"188.704428\"/>\n",
       "  <use xlink:href=\"#glyph-1606366588244572-0-2\" x=\"36.388301\" y=\"188.704428\"/>\n",
       "  <use xlink:href=\"#glyph-1606366588244572-0-1\" x=\"39.010954\" y=\"188.704428\"/>\n",
       "</g>\n",
       "<g style=\"fill:rgb(0%,0%,0%);fill-opacity:1;\">\n",
       "  <use xlink:href=\"#glyph-1606366588244572-0-1\" x=\"79.339564\" y=\"188.704428\"/>\n",
       "  <use xlink:href=\"#glyph-1606366588244572-0-2\" x=\"84.882897\" y=\"188.704428\"/>\n",
       "  <use xlink:href=\"#glyph-1606366588244572-0-3\" x=\"87.50555\" y=\"188.704428\"/>\n",
       "</g>\n",
       "<g style=\"fill:rgb(0%,0%,0%);fill-opacity:1;\">\n",
       "  <use xlink:href=\"#glyph-1606366588244572-0-1\" x=\"127.835157\" y=\"188.704428\"/>\n",
       "  <use xlink:href=\"#glyph-1606366588244572-0-2\" x=\"133.37849\" y=\"188.704428\"/>\n",
       "  <use xlink:href=\"#glyph-1606366588244572-0-4\" x=\"136.001142\" y=\"188.704428\"/>\n",
       "</g>\n",
       "<g style=\"fill:rgb(0%,0%,0%);fill-opacity:1;\">\n",
       "  <use xlink:href=\"#glyph-1606366588244572-0-1\" x=\"176.329753\" y=\"188.716394\"/>\n",
       "  <use xlink:href=\"#glyph-1606366588244572-0-2\" x=\"181.873086\" y=\"188.716394\"/>\n",
       "  <use xlink:href=\"#glyph-1606366588244572-0-5\" x=\"184.495738\" y=\"188.716394\"/>\n",
       "</g>\n",
       "<g style=\"fill:rgb(0%,0%,0%);fill-opacity:1;\">\n",
       "  <use xlink:href=\"#glyph-1606366588244572-0-1\" x=\"224.825346\" y=\"188.704428\"/>\n",
       "  <use xlink:href=\"#glyph-1606366588244572-0-2\" x=\"230.368679\" y=\"188.704428\"/>\n",
       "  <use xlink:href=\"#glyph-1606366588244572-0-6\" x=\"232.991331\" y=\"188.704428\"/>\n",
       "</g>\n",
       "<g style=\"fill:rgb(0%,0%,0%);fill-opacity:1;\">\n",
       "  <use xlink:href=\"#glyph-1606366588244572-0-7\" x=\"273.319941\" y=\"188.704428\"/>\n",
       "  <use xlink:href=\"#glyph-1606366588244572-0-2\" x=\"278.863275\" y=\"188.704428\"/>\n",
       "  <use xlink:href=\"#glyph-1606366588244572-0-1\" x=\"281.485927\" y=\"188.704428\"/>\n",
       "</g>\n",
       "<g style=\"fill:rgb(0%,0%,0%);fill-opacity:1;\">\n",
       "  <use xlink:href=\"#glyph-1606366588244572-0-1\" x=\"20.480548\" y=\"181.498993\"/>\n",
       "  <use xlink:href=\"#glyph-1606366588244572-0-2\" x=\"26.023882\" y=\"181.498993\"/>\n",
       "  <use xlink:href=\"#glyph-1606366588244572-0-1\" x=\"28.646534\" y=\"181.498993\"/>\n",
       "</g>\n",
       "<g style=\"fill:rgb(0%,0%,0%);fill-opacity:1;\">\n",
       "  <use xlink:href=\"#glyph-1606366588244572-0-1\" x=\"20.480548\" y=\"147.363416\"/>\n",
       "  <use xlink:href=\"#glyph-1606366588244572-0-2\" x=\"26.023882\" y=\"147.363416\"/>\n",
       "  <use xlink:href=\"#glyph-1606366588244572-0-3\" x=\"28.646534\" y=\"147.363416\"/>\n",
       "</g>\n",
       "<g style=\"fill:rgb(0%,0%,0%);fill-opacity:1;\">\n",
       "  <use xlink:href=\"#glyph-1606366588244572-0-1\" x=\"20.480548\" y=\"113.226842\"/>\n",
       "  <use xlink:href=\"#glyph-1606366588244572-0-2\" x=\"26.023882\" y=\"113.226842\"/>\n",
       "  <use xlink:href=\"#glyph-1606366588244572-0-4\" x=\"28.646534\" y=\"113.226842\"/>\n",
       "</g>\n",
       "<g style=\"fill:rgb(0%,0%,0%);fill-opacity:1;\">\n",
       "  <use xlink:href=\"#glyph-1606366588244572-0-1\" x=\"20.480548\" y=\"79.091265\"/>\n",
       "  <use xlink:href=\"#glyph-1606366588244572-0-2\" x=\"26.023882\" y=\"79.091265\"/>\n",
       "  <use xlink:href=\"#glyph-1606366588244572-0-5\" x=\"28.646534\" y=\"79.091265\"/>\n",
       "</g>\n",
       "<g style=\"fill:rgb(0%,0%,0%);fill-opacity:1;\">\n",
       "  <use xlink:href=\"#glyph-1606366588244572-0-1\" x=\"20.480548\" y=\"44.954692\"/>\n",
       "  <use xlink:href=\"#glyph-1606366588244572-0-2\" x=\"26.023882\" y=\"44.954692\"/>\n",
       "  <use xlink:href=\"#glyph-1606366588244572-0-6\" x=\"28.646534\" y=\"44.954692\"/>\n",
       "</g>\n",
       "<g style=\"fill:rgb(0%,0%,0%);fill-opacity:1;\">\n",
       "  <use xlink:href=\"#glyph-1606366588244572-0-7\" x=\"20.480548\" y=\"10.819115\"/>\n",
       "  <use xlink:href=\"#glyph-1606366588244572-0-2\" x=\"26.023882\" y=\"10.819115\"/>\n",
       "  <use xlink:href=\"#glyph-1606366588244572-0-1\" x=\"28.646534\" y=\"10.819115\"/>\n",
       "</g>\n",
       "<g clip-path=\"url(#clip-1606366588244572-1)\" clip-rule=\"nonzero\">\n",
       "<path style=\"fill:none;stroke-width:1.19553;stroke-linecap:butt;stroke-linejoin:miter;stroke:rgb(93.331909%,46.665955%,19.999695%);stroke-opacity:1;stroke-miterlimit:10;\" d=\"M -0.000187204 0.00132667 L -0.000187204 4.2282 L 6.776912 6.339677 L 6.776912 12.678028 L 13.550094 14.793423 L 13.550094 16.904901 L 21.925492 19.020296 L 21.925492 25.358647 L 28.702592 27.470125 L 28.702592 38.039266 L 35.479691 40.150744 L 35.479691 46.489095 L 42.252873 48.60449 L 42.252873 50.715967 L 50.628271 52.831363 L 50.628271 59.169713 L 57.40537 61.285109 L 57.40537 71.850332 L 64.18247 73.96181 L 64.18247 80.304078 L 70.955652 82.415556 L 70.955652 84.527034 L 86.108149 86.642429 L 86.108149 97.207653 L 92.881331 99.319131 L 92.881331 105.661399 L 99.65843 107.772876 L 99.65843 109.888272 L 114.810928 111.999749 L 114.810928 122.564973 L 121.58411 124.680368 L 121.58411 131.018719 L 128.361209 133.134114 L 128.361209 135.245592 L 150.286888 137.35707 L 150.286888 143.699338 L 157.063988 145.810816 L 157.063988 147.926211 L 178.989667 150.037689 L 178.989667 156.376039 L 185.766766 158.491435 L 185.766766 160.602912 L 214.469545 162.718308 L 214.469545 164.829785 L 243.172324 166.945181 L 243.172324 169.056658 \" transform=\"matrix(0.997154,0,0,-0.997154,37.699405,177.923198)\"/>\n",
       "<path style=\"fill:none;stroke-width:1.19553;stroke-linecap:butt;stroke-linejoin:miter;stroke:rgb(0%,46.665955%,73.33374%);stroke-opacity:1;stroke-miterlimit:10;\" d=\"M -0.000187204 0.00132667 L -0.000187204 5.634546 L 3.631241 6.339677 L 3.631241 8.451155 L 7.846362 9.156287 L 7.846362 12.678028 L 11.47779 13.38316 L 11.47779 21.131774 L 15.109219 21.836906 L 15.109219 22.542038 L 15.211071 23.247169 L 15.211071 25.358647 L 18.8425 26.063779 L 18.8425 30.991866 L 26.692966 31.696998 L 26.692966 36.629003 L 30.324394 37.334134 L 30.324394 45.082748 L 38.170944 45.78788 L 38.170944 53.536494 L 41.802372 54.237709 L 41.802372 59.169713 L 45.535653 59.874845 L 45.535653 63.396586 L 49.167081 64.101718 L 49.167081 66.213196 L 53.382202 66.918328 L 53.382202 67.623459 L 57.01363 68.328591 L 57.01363 76.077205 L 60.645059 76.77842 L 60.645059 80.304078 L 64.864097 81.005293 L 64.864097 83.120688 L 68.495525 83.825819 L 68.495525 95.797389 L 72.126954 96.502521 L 72.126954 98.617916 L 75.860234 99.319131 L 75.860234 101.434526 L 83.706784 102.139657 L 83.706784 104.251135 L 87.338212 104.956267 L 87.338212 109.888272 L 95.184761 110.593403 L 95.184761 115.521491 L 98.81619 116.226622 L 98.81619 123.975237 L 106.180899 124.680368 L 106.180899 125.3855 L 114.031365 126.086714 L 114.031365 129.612373 L 117.662794 130.313587 L 117.662794 132.428983 L 121.877915 133.134114 L 121.877915 133.835329 L 125.509343 134.54046 L 125.509343 142.289075 L 129.140771 142.994206 L 129.140771 146.515947 L 144.35203 147.221079 L 144.35203 149.332557 L 152.202496 150.037689 L 152.202496 152.153084 L 155.833925 152.854298 L 155.833925 157.786303 L 174.676611 158.491435 L 174.676611 159.196566 L 182.52316 159.901698 L 182.52316 163.423439 L 186.154589 164.124654 L 186.154589 166.240049 L 212.847742 166.945181 L 212.847742 169.056658 L 243.172324 169.76179 L 243.172324 170.466922 \" transform=\"matrix(0.997154,0,0,-0.997154,37.699405,177.923198)\"/>\n",
       "<path style=\"fill:none;stroke-width:1.19553;stroke-linecap:butt;stroke-linejoin:miter;stroke:rgb(19.999695%,73.33374%,93.331909%);stroke-opacity:1;stroke-miterlimit:10;\" d=\"M -0.000187204 0.00132667 L -0.000187204 1.877761 L 1.64512 2.112804 L 1.64512 3.758112 L 3.290428 3.993156 L 3.290428 4.2282 L 3.462793 4.459326 L 3.462793 5.164458 L 5.1081 5.399502 L 5.1081 7.984985 L 6.753408 8.216111 L 6.753408 10.801594 L 7.203909 11.036638 L 7.203909 12.678028 L 8.398715 12.913072 L 8.398715 13.618204 L 8.849216 13.853248 L 8.849216 15.028467 L 10.216388 15.263511 L 10.216388 16.434813 L 10.666889 16.669857 L 10.666889 17.374989 L 12.312196 17.610033 L 12.312196 20.191598 L 13.957504 20.426642 L 13.957504 23.012125 L 15.602811 23.247169 L 15.602811 23.948384 L 15.775177 24.183428 L 15.775177 24.418471 L 17.420484 24.653515 L 17.420484 26.298823 L 19.065791 26.533867 L 19.065791 30.525696 L 20.707181 30.76074 L 20.707181 32.40213 L 22.352489 32.637173 L 22.352489 32.872217 L 22.524854 33.107261 L 22.524854 33.812393 L 24.170161 34.047437 L 24.170161 36.629003 L 24.620662 36.864046 L 24.620662 38.039266 L 25.815469 38.27431 L 25.815469 40.855875 L 26.26597 41.090919 L 26.26597 42.732309 L 27.911277 42.967353 L 27.911277 44.142573 L 29.72895 44.377617 L 29.72895 45.082748 L 31.374257 45.317792 L 31.374257 47.899358 L 33.019565 48.134402 L 33.019565 50.715967 L 34.664872 50.951011 L 34.664872 51.656143 L 34.837238 51.891187 L 34.837238 52.126231 L 36.482545 52.361275 L 36.482545 54.002665 L 38.127852 54.237709 L 38.127852 58.229538 L 39.77316 58.464582 L 39.77316 60.109889 L 40.22366 60.344933 L 40.22366 61.050065 L 41.418467 61.285109 L 41.418467 61.516235 L 41.590833 61.751279 L 41.590833 62.456411 L 43.23614 62.691455 L 43.23614 65.27302 L 43.686641 65.508064 L 43.686641 66.683284 L 45.331948 66.918328 L 45.331948 68.563635 L 46.977255 68.798679 L 46.977255 69.969981 L 48.794928 70.205025 L 48.794928 70.910157 L 50.440236 71.145201 L 50.440236 73.726766 L 52.081626 73.96181 L 52.081626 76.543376 L 53.726933 76.77842 L 53.726933 77.483551 L 53.899299 77.718595 L 53.899299 77.953639 L 55.544606 78.188683 L 55.544606 79.83399 L 57.189913 80.069034 L 57.189913 84.060863 L 57.640414 84.29199 L 57.640414 84.997122 L 58.835221 85.232166 L 58.835221 86.877473 L 59.285721 87.112517 L 59.285721 87.817649 L 60.652894 88.048775 L 60.652894 88.753907 L 62.748702 88.988951 L 62.748702 90.16417 L 64.394009 90.399214 L 64.394009 92.040604 L 66.039316 92.275648 L 66.039316 93.450868 L 67.856989 93.685911 L 67.856989 94.391043 L 69.502297 94.626087 L 69.502297 97.207653 L 71.147604 97.442697 L 71.147604 100.024262 L 72.792911 100.259306 L 72.792911 100.964438 L 72.965277 101.199482 L 72.965277 101.434526 L 74.610584 101.66957 L 74.610584 103.31096 L 76.255892 103.546003 L 76.255892 107.537833 L 76.706393 107.772876 L 76.706393 108.478008 L 78.347783 108.713052 L 78.347783 109.418184 L 81.810763 109.653228 L 81.810763 110.82453 L 83.45607 111.059574 L 83.45607 112.704881 L 85.101378 112.939925 L 85.101378 114.115145 L 86.91905 114.350189 L 86.91905 115.051403 L 88.564358 115.286447 L 88.564358 117.87193 L 90.209665 118.106974 L 90.209665 120.688539 L 90.660166 120.923583 L 90.660166 121.158627 L 91.854973 121.393671 L 91.854973 122.094885 L 92.027338 122.329929 L 92.027338 122.564973 L 93.672645 122.800017 L 93.672645 124.445324 L 95.768454 124.680368 L 95.768454 125.3855 L 97.413761 125.620544 L 97.413761 126.321758 L 100.876741 126.556802 L 100.876741 127.732022 L 102.522049 127.967066 L 102.522049 129.612373 L 104.167356 129.8435 L 104.167356 131.018719 L 105.985029 131.253763 L 105.985029 131.958895 L 107.630336 132.193939 L 107.630336 134.775504 L 109.275644 135.010548 L 109.275644 137.592114 L 109.722227 137.827158 L 109.722227 138.062202 L 111.093316 138.297245 L 111.093316 138.532289 L 114.830515 138.767333 L 114.830515 139.472465 L 116.475822 139.707509 L 116.475822 140.412641 L 119.938802 140.647685 L 119.938802 141.818987 L 121.58411 142.054031 L 121.58411 143.699338 L 123.229417 143.934382 L 123.229417 145.105684 L 125.04709 145.340728 L 125.04709 146.04586 L 126.692397 146.280904 L 126.692397 148.862469 L 128.788205 149.097513 L 128.788205 149.332557 L 133.896493 149.567601 L 133.896493 150.272733 L 135.5418 150.507777 L 135.5418 151.212908 L 139.004781 151.447952 L 139.004781 152.619254 L 140.650088 152.854298 L 140.650088 154.499606 L 142.295395 154.73465 L 142.295395 155.909869 L 144.113068 156.144913 L 144.113068 156.846127 L 147.850266 157.081171 L 147.850266 157.316215 L 152.958554 157.551259 L 152.958554 158.256391 L 154.603861 158.491435 L 154.603861 159.196566 L 158.066842 159.43161 L 158.066842 160.602912 L 159.712149 160.837956 L 159.712149 162.483264 L 166.916245 162.718308 L 166.916245 162.953352 L 172.024533 163.188395 L 172.024533 163.88961 L 173.66984 164.124654 L 173.66984 164.829785 L 177.13282 165.064829 L 177.13282 166.240049 L 185.978306 166.475093 L 185.978306 166.710137 L 191.086594 166.945181 L 191.086594 167.646395 L 192.731901 167.881439 L 192.731901 168.586571 L 205.044284 168.821614 L 205.044284 169.056658 L 210.152572 169.291702 L 210.152572 169.996834 L 224.106345 170.231878 L 224.106345 170.466922 L 243.172324 170.701966 L 243.172324 170.93701 \" transform=\"matrix(0.997154,0,0,-0.997154,37.699405,177.923198)\"/>\n",
       "<path style=\"fill:none;stroke-width:1.19553;stroke-linecap:butt;stroke-linejoin:miter;stroke:rgb(93.331909%,19.999695%,46.665955%);stroke-opacity:1;stroke-miterlimit:10;\" d=\"M -0.000187204 0.00132667 L -0.000187204 2.034456 L 1.198537 2.112804 L 1.198537 2.66124 L 1.82532 2.739588 L 1.82532 3.131328 L 2.072117 3.209676 L 2.072117 4.071504 L 2.213143 4.149852 L 2.213143 4.69437 L 3.411867 4.772718 L 3.411867 6.574721 L 3.901542 6.653069 L 3.901542 6.888113 L 4.285447 6.966461 L 4.285447 9.704723 L 5.484171 9.783071 L 5.484171 10.644898 L 6.110954 10.723246 L 6.110954 11.585074 L 6.498777 11.663422 L 6.498777 11.898466 L 7.309678 11.976814 L 7.309678 12.834724 L 7.697501 12.913072 L 7.697501 14.088292 L 8.187176 14.16664 L 8.187176 14.715075 L 9.523009 14.793423 L 9.523009 15.964726 L 9.769805 16.043073 L 9.769805 16.591509 L 10.396588 16.669857 L 10.396588 18.001773 L 11.105638 18.080121 L 11.105638 18.315165 L 11.595312 18.393513 L 11.595312 20.191598 L 11.983135 20.269946 L 11.983135 20.818382 L 12.794036 20.89673 L 12.794036 20.975078 L 13.808642 21.053426 L 13.808642 22.855429 L 15.007366 22.933777 L 15.007366 24.731863 L 15.391271 24.810211 L 15.391271 24.888559 L 15.880946 24.966907 L 15.880946 27.705169 L 17.07967 27.783517 L 17.07967 28.018561 L 17.220697 28.096909 L 17.220697 29.428824 L 17.710371 29.507172 L 17.710371 29.742216 L 18.094276 29.820564 L 18.094276 30.991866 L 19.293 31.070214 L 19.293 33.812393 L 21.118508 33.890741 L 21.118508 34.752569 L 21.365304 34.826999 L 21.365304 35.218739 L 21.50633 35.297087 L 21.50633 36.158915 L 21.996005 36.237263 L 21.996005 36.785698 L 22.705054 36.864046 L 22.705054 37.725874 L 23.194729 37.804222 L 23.194729 38.195962 L 23.331838 38.27431 L 23.331838 38.509354 L 23.578634 38.583784 L 23.578634 40.385788 L 25.404142 40.464136 L 25.404142 42.266139 L 25.791964 42.344487 L 25.791964 42.732309 L 26.602866 42.810657 L 26.602866 43.359093 L 26.990688 43.437441 L 26.990688 43.985877 L 27.480363 44.064225 L 27.480363 44.926053 L 27.617472 45.0044 L 27.617472 45.39614 L 28.816196 45.474488 L 28.816196 47.272574 L 29.689776 47.350922 L 29.689776 50.089184 L 30.8885 50.167532 L 30.8885 51.342751 L 31.276322 51.421099 L 31.276322 51.656143 L 31.903106 51.734491 L 31.903106 51.969535 L 33.10183 52.047883 L 33.10183 54.786145 L 33.591505 54.864492 L 33.591505 54.94284 L 34.300554 55.021188 L 34.300554 55.883016 L 34.927338 55.961364 L 34.927338 56.196408 L 35.174134 56.274756 L 35.174134 58.072842 L 36.513884 58.15119 L 36.513884 59.013017 L 37.003559 59.091365 L 37.003559 59.639801 L 37.387464 59.718149 L 37.387464 61.516235 L 38.586188 61.594583 L 38.586188 62.926499 L 39.212972 63.004847 L 39.212972 63.553282 L 40.411696 63.63163 L 40.411696 64.963546 L 40.799518 65.041894 L 40.799518 65.586412 L 41.289193 65.66476 L 41.289193 66.83998 L 42.487917 66.918328 L 42.487917 67.153372 L 42.625026 67.23172 L 42.625026 67.780155 L 42.871822 67.858503 L 42.871822 68.720331 L 43.498606 68.798679 L 43.498606 69.656589 L 44.69733 69.734937 L 44.69733 72.477116 L 45.085152 72.555464 L 45.085152 72.786591 L 45.896053 72.864939 L 45.896053 73.099982 L 46.773551 73.17833 L 46.773551 73.726766 L 46.91066 73.805114 L 46.91066 74.666942 L 48.109384 74.74529 L 48.109384 75.920509 L 48.982963 75.998857 L 48.982963 80.147382 L 50.181687 80.22573 L 50.181687 80.770249 L 50.812389 80.848597 L 50.812389 81.240336 L 51.196294 81.318684 L 51.196294 81.86712 L 52.395018 81.945468 L 52.395018 83.747472 L 52.884692 83.825819 L 52.884692 84.060863 L 54.220525 84.135294 L 54.220525 84.68373 L 54.467321 84.762078 L 54.467321 85.623905 L 55.098023 85.702253 L 55.098023 86.564081 L 55.807072 86.642429 L 55.807072 87.034169 L 56.296746 87.112517 L 56.296746 87.970427 L 56.680652 88.048775 L 56.680652 89.223995 L 58.506159 89.302343 L 58.506159 90.477562 L 59.704883 90.55591 L 59.704883 91.417738 L 60.092706 91.496086 L 60.092706 91.727212 L 60.58238 91.80556 L 60.58238 93.607564 L 61.777187 93.685911 L 61.777187 93.764259 L 61.918213 93.842607 L 61.918213 94.704435 L 62.791793 94.782783 L 62.791793 96.580869 L 63.990517 96.659217 L 63.990517 98.46122 L 64.37834 98.539568 L 64.37834 98.617916 L 66.066738 98.696264 L 66.066738 98.931308 L 66.203847 99.009656 L 66.203847 100.337654 L 66.693522 100.416002 L 66.693522 100.651046 L 67.402571 100.729394 L 67.402571 101.27783 L 68.029355 101.356178 L 68.029355 101.434526 L 68.276151 101.512874 L 68.276151 104.251135 L 70.105576 104.329483 L 70.105576 105.191311 L 70.489481 105.269659 L 70.489481 106.131486 L 71.688205 106.209834 L 71.688205 107.067745 L 72.17788 107.146093 L 72.17788 107.537833 L 72.314989 107.616181 L 72.314989 107.851224 L 73.513713 107.929572 L 73.513713 108.7914 L 74.39121 108.869748 L 74.39121 110.667834 L 75.586017 110.746182 L 75.586017 111.294618 L 75.973839 111.372966 L 75.973839 111.921401 L 76.600623 111.999749 L 76.600623 112.391489 L 77.799347 112.469837 L 77.799347 114.271841 L 78.998071 114.350189 L 78.998071 114.738011 L 79.875568 114.816359 L 79.875568 115.991578 L 81.211401 116.069926 L 81.211401 116.618362 L 82.084981 116.69671 L 82.084981 119.434972 L 83.283705 119.51332 L 83.283705 120.375147 L 83.914406 120.453495 L 83.914406 120.688539 L 85.497035 120.766887 L 85.497035 121.628715 L 85.98671 121.707063 L 85.98671 122.251581 L 87.322542 122.329929 L 87.322542 122.564973 L 87.569339 122.643321 L 87.569339 123.975237 L 88.20004 124.053585 L 88.20004 124.60202 L 89.398764 124.680368 L 89.398764 126.008366 L 89.782669 126.086714 L 89.782669 126.63515 L 91.471067 126.713498 L 91.471067 126.948542 L 91.608176 127.02689 L 91.608176 127.575326 L 92.8069 127.653674 L 92.8069 128.20211 L 93.684398 128.280458 L 93.684398 131.018719 L 94.879204 131.097067 L 94.879204 131.332111 L 95.89381 131.410459 L 95.89381 132.272287 L 97.092534 132.350635 L 97.092534 133.521937 L 99.168755 133.600285 L 99.168755 134.14872 L 99.795539 134.227068 L 99.795539 134.618808 L 100.504588 134.697156 L 100.504588 134.9322 L 101.378168 135.010548 L 101.378168 136.812551 L 103.207593 136.890899 L 103.207593 137.435418 L 104.790222 137.513766 L 104.790222 137.905506 L 105.279897 137.983854 L 105.279897 138.845681 L 106.61573 138.924029 L 106.61573 139.315769 L 107.493227 139.394117 L 107.493227 140.569337 L 108.688034 140.647685 L 108.688034 141.505595 L 109.075856 141.583943 L 109.075856 141.818987 L 110.764255 141.897335 L 110.764255 141.975683 L 110.901364 142.054031 L 110.901364 142.915858 L 112.100088 142.994206 L 112.100088 143.22925 L 112.977585 143.307598 L 112.977585 145.105684 L 115.186998 145.184032 L 115.186998 146.515947 L 116.385722 146.594295 L 116.385722 147.142731 L 117.016423 147.221079 L 117.016423 147.299427 L 119.088727 147.377775 L 119.088727 148.239603 L 120.671356 148.317951 L 120.671356 149.175861 L 121.302057 149.254209 L 121.302057 149.489253 L 122.500781 149.567601 L 122.500781 150.429429 L 124.573085 150.507777 L 124.573085 151.056212 L 125.908918 151.13456 L 125.908918 151.369604 L 126.786415 151.447952 L 126.786415 153.246038 L 127.981221 153.324386 L 127.981221 153.716126 L 130.194552 153.794474 L 130.194552 154.34291 L 132.270773 154.421258 L 132.270773 155.283085 L 132.897556 155.361433 L 132.897556 155.596477 L 134.480185 155.674825 L 134.480185 156.532735 L 136.309611 156.611083 L 136.309611 156.846127 L 138.381914 156.924475 L 138.381914 158.256391 L 140.595244 158.334739 L 140.595244 158.883175 L 141.790051 158.961522 L 141.790051 159.509958 L 143.866272 159.588306 L 143.866272 159.82335 L 145.202105 159.901698 L 145.202105 159.980046 L 146.079602 160.054477 L 146.079602 161.229696 L 149.487739 161.308044 L 149.487739 161.543088 L 152.190744 161.621436 L 152.190744 162.169872 L 153.773373 162.24822 L 153.773373 162.63996 L 155.602798 162.718308 L 155.602798 163.110047 L 157.675102 163.188395 L 157.675102 164.046306 L 159.888432 164.124654 L 159.888432 164.986481 L 161.083239 165.064829 L 161.083239 165.299873 L 165.368873 165.378221 L 165.368873 165.926657 L 165.999574 166.005005 L 165.999574 166.083353 L 171.483932 166.161701 L 171.483932 167.023529 L 174.892068 167.101877 L 174.892068 167.33692 L 176.968289 167.415268 L 176.968289 167.803091 L 179.18162 167.881439 L 179.18162 168.429875 L 185.292761 168.508223 L 185.292761 168.743266 L 190.777119 168.821614 L 190.777119 169.37005 L 194.185256 169.448398 L 194.185256 169.526746 L 198.47089 169.605094 L 198.47089 169.840138 L 204.585949 169.918486 L 204.585949 170.310226 L 210.070307 170.388574 L 210.070307 170.623618 L 223.879136 170.701966 L 223.879136 170.93701 L 243.172324 171.015358 L 243.172324 171.093706 \" transform=\"matrix(0.997154,0,0,-0.997154,37.699405,177.923198)\"/>\n",
       "<path style=\"fill:none;stroke-width:1.19553;stroke-linecap:butt;stroke-linejoin:miter;stroke:rgb(79.998779%,19.999695%,6.666565%);stroke-opacity:1;stroke-miterlimit:10;\" d=\"M -0.000187204 0.00132667 L -0.000187204 0.679037 L 0.0193998 0.702541 L 0.0193998 0.992428 L 0.509075 1.015933 L 0.509075 1.407673 L 0.751953 1.435095 L 0.751953 1.877761 L 1.014419 1.905182 L 1.014419 1.928687 L 1.241628 1.956109 L 1.241628 2.140226 L 1.261215 2.163731 L 1.261215 2.55547 L 1.625533 2.582892 L 1.625533 2.76701 L 1.746973 2.790514 L 1.746973 3.080402 L 1.76656 3.103906 L 1.76656 3.23318 L 2.111291 3.260602 L 2.111291 3.44472 L 2.134795 3.468224 L 2.134795 3.758112 L 2.522617 3.781616 L 2.522617 3.809038 L 2.867348 3.83646 L 2.867348 4.01666 L 2.886935 4.044082 L 2.886935 4.956836 L 3.372693 4.984258 L 3.372693 5.897011 L 3.396197 5.920516 L 3.396197 6.523795 L 3.881955 6.5473 L 3.881955 7.146662 L 3.901542 7.174083 L 3.901542 7.252431 L 4.128751 7.279853 L 4.128751 7.565823 L 4.148338 7.593245 L 4.148338 8.192607 L 4.614508 8.216111 L 4.614508 8.294459 L 4.634095 8.321881 L 4.634095 8.921243 L 4.6576 8.948665 L 4.6576 9.234635 L 5.002331 9.262057 L 5.002331 9.340405 L 5.021918 9.367826 L 5.021918 9.497101 L 5.143357 9.520605 L 5.143357 9.810492 L 5.507675 9.833997 L 5.507675 10.018115 L 5.754471 10.045536 L 5.754471 10.123884 L 5.895498 10.147389 L 5.895498 10.225737 L 6.259816 10.253159 L 6.259816 10.85252 L 6.28332 10.879942 L 6.28332 11.271682 L 6.745573 11.295187 L 6.745573 11.74177 L 6.769077 11.765274 L 6.769077 12.678028 L 6.788664 12.70545 L 6.788664 12.834724 L 7.015873 12.862146 L 7.015873 13.046264 L 7.274422 13.069768 L 7.274422 13.253886 L 7.501631 13.27739 L 7.501631 13.410582 L 7.521218 13.434086 L 7.521218 14.350757 L 8.006975 14.374262 L 8.006975 14.766002 L 8.03048 14.793423 L 8.03048 15.392785 L 8.394798 15.420207 L 8.394798 15.498555 L 8.535824 15.522059 L 8.535824 15.600407 L 8.78262 15.627829 L 8.78262 15.80803 L 8.880555 15.835451 L 8.880555 15.913799 L 9.150856 15.941221 L 9.150856 16.227191 L 9.268378 16.254613 L 9.268378 16.383887 L 9.291882 16.411309 L 9.291882 16.489657 L 9.636613 16.513161 L 9.636613 16.803049 L 9.6562 16.826553 L 9.6562 17.425915 L 10.141957 17.453337 L 10.141957 18.052699 L 10.165462 18.080121 L 10.165462 18.366091 L 10.388754 18.393513 L 10.388754 18.471861 L 10.898015 18.495365 L 10.898015 19.098644 L 10.917602 19.122149 L 10.917602 20.034903 L 11.40336 20.062324 L 11.40336 20.975078 L 11.422947 21.0025 L 11.422947 21.1827 L 11.767678 21.210122 L 11.767678 21.237544 L 11.912622 21.261048 L 11.912622 21.445166 L 12.1555 21.472588 L 12.1555 21.758558 L 12.179005 21.78598 L 12.179005 21.96618 L 12.523736 21.993602 L 12.523736 22.122876 L 12.645175 22.150298 L 12.645175 22.228646 L 12.664762 22.25215 L 12.664762 22.436268 L 13.02908 22.46369 L 13.02908 22.855429 L 13.052585 22.878934 L 13.052585 23.063052 L 13.538342 23.090473 L 13.538342 23.533139 L 13.785138 23.556644 L 13.785138 23.948384 L 14.270895 23.975805 L 14.270895 24.261776 L 14.290482 24.289197 L 14.290482 25.672039 L 14.313987 25.699461 L 14.313987 25.985431 L 14.77624 26.008935 L 14.77624 26.612215 L 14.799744 26.635719 L 14.799744 27.027459 L 15.04654 27.054881 L 15.04654 27.497547 L 15.305089 27.524968 L 15.305089 27.548473 L 15.532298 27.575895 L 15.532298 27.760012 L 15.551885 27.783517 L 15.551885 28.175257 L 15.916203 28.202678 L 15.916203 28.386796 L 16.037642 28.4103 L 16.037642 28.696271 L 16.061147 28.723692 L 16.061147 28.852967 L 16.405878 28.880388 L 16.405878 29.064506 L 16.425465 29.08801 L 16.425465 29.377898 L 16.813287 29.401402 L 16.813287 29.428824 L 16.911222 29.456246 L 16.911222 29.742216 L 17.158018 29.76572 L 17.158018 29.949838 L 17.177605 29.97726 L 17.177605 30.890014 L 17.663363 30.917436 L 17.663363 31.830189 L 17.686867 31.853694 L 17.686867 32.453056 L 18.172624 32.480478 L 18.172624 33.079839 L 18.192211 33.107261 L 18.192211 33.185609 L 18.41942 33.213031 L 18.41942 33.499001 L 18.905178 33.522506 L 18.905178 33.600853 L 18.924765 33.628275 L 18.924765 34.227637 L 18.948269 34.255059 L 18.948269 34.541029 L 19.293 34.568451 L 19.293 34.646799 L 19.312587 34.674221 L 19.312587 34.803495 L 19.434027 34.826999 L 19.434027 35.116887 L 19.798345 35.140391 L 19.798345 35.324509 L 20.045141 35.351931 L 20.045141 35.430279 L 20.186167 35.453783 L 20.186167 35.532131 L 20.554403 35.559553 L 20.554403 36.158915 L 21.04016 36.186336 L 21.04016 36.629003 L 21.059747 36.656424 L 21.059747 37.569178 L 21.083251 37.592683 L 21.083251 37.725874 L 21.569009 37.749378 L 21.569009 37.933496 L 21.792301 37.960918 L 21.792301 38.090192 L 21.815805 38.117614 L 21.815805 39.030368 L 22.301562 39.053872 L 22.301562 39.445612 L 22.321149 39.473034 L 22.321149 40.072396 L 22.685467 40.099818 L 22.685467 40.178166 L 22.806907 40.20167 L 22.806907 40.648253 L 22.826494 40.671758 L 22.826494 40.750106 L 23.07329 40.777528 L 23.07329 40.961645 L 23.171225 40.98515 L 23.171225 41.063498 L 23.559047 41.090919 L 23.559047 41.220194 L 23.582552 41.247615 L 23.582552 41.325963 L 23.927283 41.349468 L 23.927283 41.639355 L 23.94687 41.66286 L 23.94687 42.266139 L 24.432627 42.289643 L 24.432627 42.889005 L 24.456132 42.916427 L 24.456132 43.202397 L 24.679423 43.229819 L 24.679423 43.308167 L 24.941889 43.335589 L 24.941889 43.621559 L 25.188685 43.645063 L 25.188685 44.248343 L 25.208272 44.271847 L 25.208272 45.184601 L 25.674442 45.212023 L 25.674442 45.39614 L 25.694029 45.419645 L 25.694029 46.332399 L 25.717534 46.35982 L 25.717534 46.543938 L 26.062265 46.567442 L 26.062265 46.594864 L 26.203291 46.622286 L 26.203291 46.802486 L 26.450087 46.829908 L 26.450087 47.115878 L 26.814405 47.1433 L 26.814405 47.272574 L 26.935845 47.299996 L 26.935845 47.378344 L 26.955432 47.405766 L 26.955432 47.585966 L 27.31975 47.613388 L 27.31975 48.005128 L 27.343254 48.028632 L 27.343254 48.21275 L 27.809425 48.240172 L 27.809425 48.526142 L 27.829012 48.553564 L 27.829012 48.99623 L 28.075808 49.019734 L 28.075808 49.411474 L 28.561565 49.438896 L 28.561565 49.724866 L 28.581152 49.752287 L 28.581152 51.135129 L 29.06691 51.162551 L 29.06691 51.761913 L 29.090414 51.785417 L 29.090414 52.177157 L 29.595758 52.204579 L 29.595758 52.232001 L 29.822967 52.255505 L 29.822967 52.439623 L 29.842554 52.467045 L 29.842554 52.854867 L 30.21079 52.882289 L 30.21079 53.066407 L 30.328312 53.089911 L 30.328312 53.379798 L 30.351816 53.403303 L 30.351816 53.536494 L 30.696547 53.559999 L 30.696547 53.744117 L 30.716134 53.767621 L 30.716134 54.057508 L 31.103957 54.081013 L 31.103957 54.108435 L 31.201892 54.135856 L 31.201892 54.421826 L 31.448688 54.449248 L 31.448688 54.629449 L 31.95795 54.65687 L 31.95795 55.569624 L 31.977537 55.597046 L 31.977537 56.196408 L 32.463294 56.22383 L 32.463294 56.823192 L 32.486798 56.846696 L 32.486798 56.925044 L 32.71009 56.952466 L 32.71009 57.238436 L 32.972556 57.265858 L 32.972556 57.344206 L 33.195848 57.371628 L 33.195848 57.449975 L 33.219352 57.47348 L 33.219352 58.072842 L 33.238939 58.100264 L 33.238939 58.386234 L 33.58367 58.413656 L 33.58367 58.492003 L 33.705109 58.519425 L 33.705109 58.699626 L 33.724696 58.727047 L 33.724696 59.013017 L 34.089014 59.040439 L 34.089014 59.22064 L 34.476837 59.248061 L 34.476837 59.326409 L 34.845072 59.353831 L 34.845072 59.953193 L 35.33083 59.980615 L 35.33083 60.423281 L 35.350417 60.446785 L 35.350417 61.359539 L 35.373921 61.386961 L 35.373921 61.516235 L 35.836174 61.543657 L 35.836174 61.935397 L 35.859679 61.962819 L 35.859679 62.143019 L 36.08297 62.170441 L 36.08297 62.299715 L 36.106475 62.327137 L 36.106475 63.23989 L 36.592232 63.267312 L 36.592232 63.659052 L 36.611819 63.682556 L 36.611819 64.281918 L 36.980055 64.30934 L 36.980055 64.387688 L 37.097576 64.41511 L 37.097576 64.857776 L 37.121081 64.885198 L 37.121081 64.963546 L 37.465812 64.98705 L 37.465812 65.065398 L 37.853634 65.09282 L 37.853634 65.222094 L 37.873221 65.249516 L 37.873221 65.327864 L 38.217952 65.351368 L 38.217952 65.641256 L 38.237539 65.66476 L 38.237539 66.268039 L 38.723297 66.291544 L 38.723297 66.890906 L 38.746801 66.918328 L 38.746801 67.204298 L 38.970093 67.23172 L 38.970093 67.310067 L 39.232559 67.337489 L 39.232559 67.623459 L 39.479355 67.650881 L 39.479355 68.250243 L 39.965112 68.273748 L 39.965112 68.457865 L 39.984699 68.485287 L 39.984699 69.398041 L 40.008204 69.421545 L 40.008204 69.605663 L 40.352935 69.633085 L 40.352935 69.656589 L 40.493961 69.684011 L 40.493961 69.868129 L 40.740757 69.891633 L 40.740757 70.181521 L 41.105075 70.205025 L 41.105075 70.334299 L 41.226514 70.361721 L 41.226514 70.440069 L 41.246101 70.467491 L 41.246101 70.647691 L 41.614337 70.675113 L 41.614337 71.066853 L 42.100094 71.094274 L 42.100094 71.380245 L 42.119681 71.407666 L 42.119681 71.850332 L 42.852235 71.873837 L 42.852235 72.163724 L 42.875739 72.187229 L 42.875739 73.57007 L 43.361497 73.597492 L 43.361497 74.196854 L 43.381084 74.224276 L 43.381084 74.616016 L 43.866841 74.63952 L 43.866841 74.929408 L 43.890345 74.952912 L 43.890345 74.980334 L 44.113637 75.007755 L 44.113637 75.187956 L 44.133224 75.215378 L 44.133224 75.607117 L 44.599395 75.630622 L 44.599395 75.658044 L 44.622899 75.685465 L 44.622899 75.971436 L 44.642486 75.998857 L 44.642486 76.128131 L 44.987217 76.155553 L 44.987217 76.335754 L 45.006804 76.363175 L 45.006804 76.649145 L 45.492561 76.676567 L 45.492561 76.962537 L 45.739358 76.989959 L 45.739358 77.170159 L 46.248619 77.197581 L 46.248619 78.110335 L 46.268206 78.137757 L 46.268206 78.737119 L 46.734377 78.764541 L 46.734377 79.050511 L 46.753964 79.074015 L 46.753964 79.677294 L 46.777468 79.700799 L 46.777468 79.779147 L 47.00076 79.806569 L 47.00076 80.092539 L 47.263226 80.119961 L 47.263226 80.198308 L 47.486517 80.22573 L 47.486517 80.304078 L 47.510022 80.327583 L 47.510022 80.926945 L 47.87434 80.954366 L 47.87434 81.032714 L 47.995779 81.060136 L 47.995779 81.240336 L 48.015366 81.267758 L 48.015366 81.553728 L 48.383602 81.58115 L 48.383602 81.76135 L 48.771424 81.788772 L 48.771424 81.86712 L 48.869359 81.894542 L 48.869359 82.023816 L 49.135742 82.051238 L 49.135742 82.6506 L 49.621499 82.678022 L 49.621499 83.120688 L 49.641086 83.144192 L 49.641086 84.060863 L 50.126844 84.084368 L 50.126844 84.476108 L 50.150348 84.503529 L 50.150348 84.68373 L 50.37364 84.711152 L 50.37364 84.840426 L 50.882902 84.867847 L 50.882902 85.259587 L 50.902489 85.287009 L 50.902489 85.886371 L 51.270724 85.909875 L 51.270724 85.988223 L 51.388246 86.015645 L 51.388246 86.458311 L 51.411751 86.485733 L 51.411751 86.564081 L 51.756482 86.591503 L 51.756482 86.665933 L 52.144304 86.693355 L 52.144304 86.822629 L 52.163891 86.850051 L 52.163891 86.928399 L 52.508622 86.955821 L 52.508622 87.241791 L 53.017884 87.269213 L 53.017884 87.868575 L 53.037471 87.892079 L 53.037471 88.181967 L 53.523228 88.205471 L 53.523228 88.495358 L 53.770024 88.518863 L 53.770024 89.122142 L 54.255782 89.145647 L 54.255782 89.329764 L 54.279286 89.353269 L 54.279286 90.26994 L 54.298873 90.293444 L 54.298873 90.477562 L 54.643604 90.501067 L 54.643604 90.528488 L 54.765044 90.55591 L 54.765044 90.84188 L 54.784631 90.869302 L 54.784631 91.049502 L 55.031427 91.076924 L 55.031427 91.362894 L 55.517184 91.390316 L 55.517184 91.468664 L 55.536771 91.496086 L 55.536771 91.676286 L 55.905007 91.703708 L 55.905007 92.095448 L 56.390764 92.118952 L 56.390764 92.40884 L 56.410351 92.432344 L 56.410351 92.878927 L 56.896108 92.902432 L 56.896108 93.08655 L 57.142905 93.110054 L 57.142905 93.399941 L 57.166409 93.423446 L 57.166409 94.806287 L 57.652166 94.833709 L 57.652166 95.433071 L 57.671753 95.460493 L 57.671753 95.852233 L 58.157511 95.875737 L 58.157511 96.165625 L 58.181015 96.189129 L 58.181015 96.216551 L 58.404307 96.243973 L 58.404307 96.424173 L 58.890064 96.451595 L 58.890064 96.479017 L 58.913569 96.502521 L 58.913569 96.788491 L 58.933156 96.815913 L 58.933156 96.945187 L 59.277887 96.972609 L 59.277887 97.156727 L 59.301391 97.180231 L 59.301391 97.470118 L 59.787149 97.493623 L 59.787149 97.78351 L 60.033945 97.807015 L 60.033945 97.991132 L 60.539289 98.014637 L 60.539289 98.931308 L 61.025046 98.954812 L 61.025046 99.2447 L 61.044633 99.268204 L 61.044633 99.867566 L 61.068138 99.894988 L 61.068138 99.973336 L 61.553895 100.000758 L 61.553895 100.079106 L 61.777187 100.10261 L 61.777187 100.180958 L 61.800691 100.20838 L 61.800691 100.807742 L 62.165009 100.835164 L 62.165009 100.913512 L 62.286449 100.937016 L 62.286449 101.121134 L 62.306036 101.148556 L 62.306036 101.434526 L 62.674271 101.461947 L 62.674271 101.642148 L 63.062094 101.66957 L 63.062094 101.747918 L 63.160029 101.775339 L 63.160029 101.904614 L 63.912169 101.928118 L 63.912169 102.374701 L 63.935673 102.398206 L 63.935673 103.31096 L 64.421431 103.338381 L 64.421431 103.730121 L 64.441018 103.757543 L 64.441018 103.937743 L 64.668227 103.965165 L 64.668227 104.094439 L 64.926775 104.121861 L 64.926775 104.251135 L 65.173571 104.278557 L 65.173571 104.670297 L 65.197076 104.693801 L 65.197076 105.297081 L 65.659329 105.320585 L 65.659329 105.398933 L 65.682833 105.426355 L 65.682833 105.869021 L 65.70242 105.896443 L 65.70242 105.974791 L 66.047151 105.998295 L 66.047151 106.076643 L 66.434974 106.104065 L 66.434974 106.233339 L 66.799292 106.260761 L 66.799292 106.546731 L 67.308554 106.574153 L 67.308554 107.173514 L 67.328141 107.200936 L 67.328141 107.486906 L 67.794311 107.514328 L 67.794311 107.694528 L 67.813898 107.72195 L 67.813898 108.00792 L 68.060694 108.035342 L 68.060694 108.634704 L 68.546452 108.662126 L 68.546452 108.842326 L 68.569956 108.869748 L 68.569956 109.782502 L 68.934274 109.809924 L 68.934274 109.833428 L 69.055713 109.86085 L 69.055713 110.14682 L 69.0753 110.174242 L 69.0753 110.358359 L 69.807854 110.381864 L 69.807854 110.460212 L 69.831358 110.487634 L 69.831358 110.667834 L 70.195676 110.695256 L 70.195676 111.086996 L 70.681434 111.114417 L 70.681434 111.400387 L 70.704938 111.427809 L 70.704938 111.870475 L 71.190695 111.897897 L 71.190695 112.078097 L 71.437492 112.105519 L 71.437492 112.391489 L 71.942836 112.418911 L 71.942836 113.018273 L 71.962423 113.045695 L 71.962423 113.433517 L 72.44818 113.460939 L 72.44818 113.746909 L 72.471685 113.774331 L 72.471685 113.801753 L 72.694977 113.825257 L 72.694977 114.009375 L 73.180734 114.036797 L 73.180734 114.060301 L 73.204238 114.087723 L 73.204238 114.373693 L 73.223825 114.401115 L 73.223825 114.530389 L 73.568556 114.557811 L 73.568556 114.738011 L 74.077818 114.765433 L 74.077818 115.051403 L 74.829959 115.078825 L 74.829959 115.991578 L 75.315716 116.019 L 75.315716 116.30497 L 75.33922 116.332392 L 75.33922 116.931754 L 75.358807 116.959176 L 75.358807 117.033606 L 75.824978 117.061028 L 75.824978 117.245146 L 75.844565 117.26865 L 75.844565 117.346998 L 76.071774 117.37442 L 76.071774 117.452768 L 76.091361 117.48019 L 76.091361 118.079552 L 76.577118 118.106974 L 76.577118 118.287174 L 76.600623 118.314596 L 76.600623 118.600566 L 76.964941 118.627988 L 76.964941 118.808188 L 77.450698 118.83561 L 77.450698 118.964884 L 78.202839 118.992306 L 78.202839 119.434972 L 78.226343 119.462394 L 78.226343 120.375147 L 78.712101 120.402569 L 78.712101 120.790392 L 78.731688 120.817813 L 78.731688 121.001931 L 78.958897 121.025436 L 78.958897 121.158627 L 79.217445 121.182131 L 79.217445 121.315323 L 79.464241 121.338827 L 79.464241 121.730567 L 79.949999 121.757989 L 79.949999 121.836337 L 79.973503 121.863759 L 79.973503 122.306425 L 79.99309 122.329929 L 79.99309 122.408277 L 80.337821 122.435699 L 80.337821 122.514047 L 80.725643 122.541469 L 80.725643 122.670743 L 81.093879 122.698165 L 81.093879 122.984135 L 81.599223 123.011557 L 81.599223 123.610919 L 82.084981 123.634423 L 82.084981 123.818541 L 82.108485 123.845962 L 82.108485 124.131933 L 82.841039 124.159354 L 82.841039 124.339555 L 82.860626 124.366976 L 82.860626 125.27973 L 83.224944 125.307152 L 83.224944 125.330656 L 83.346383 125.358078 L 83.346383 125.644048 L 83.36597 125.67147 L 83.36597 125.85167 L 84.098524 125.879092 L 84.098524 125.95744 L 84.122028 125.984862 L 84.122028 126.165062 L 84.972103 126.192484 L 84.972103 126.478454 L 84.995608 126.505876 L 84.995608 126.948542 L 85.481365 126.975964 L 85.481365 127.156164 L 85.728161 127.183586 L 85.728161 127.469556 L 86.233506 127.496978 L 86.233506 128.09634 L 86.25701 128.123762 L 86.25701 128.515501 L 86.719263 128.539006 L 86.719263 128.672197 L 86.742767 128.695702 L 86.742767 128.985589 L 86.762354 129.009094 L 86.762354 129.036515 L 86.989564 129.063937 L 86.989564 129.244138 L 87.475321 129.271559 L 87.475321 129.298981 L 87.494908 129.322486 L 87.494908 129.612373 L 87.859226 129.635877 L 87.859226 129.819995 L 88.368488 129.8435 L 88.368488 130.133387 L 88.854245 130.156891 L 88.854245 130.235239 L 89.120628 130.262661 L 89.120628 131.175415 L 89.606386 131.202837 L 89.606386 131.488807 L 89.62989 131.516229 L 89.62989 132.115591 L 90.115648 132.143012 L 90.115648 132.323213 L 90.135235 132.350635 L 90.135235 132.428983 L 90.362444 132.452487 L 90.362444 132.530835 L 90.867788 132.558257 L 90.867788 132.742374 L 90.891292 132.765879 L 90.891292 133.055766 L 91.255611 133.079271 L 91.255611 133.263388 L 91.741368 133.29081 L 91.741368 133.420084 L 92.497426 133.443589 L 92.497426 133.890172 L 93.00277 133.913677 L 93.00277 134.305416 L 93.022357 134.332838 L 93.022357 134.516956 L 93.512032 134.54046 L 93.512032 134.673652 L 93.754911 134.697156 L 93.754911 135.088896 L 94.244586 135.116318 L 94.244586 135.194666 L 94.264173 135.21817 L 94.264173 135.664754 L 94.28376 135.688258 L 94.28376 135.766606 L 94.628491 135.794028 L 94.628491 135.872376 L 95.016313 135.899798 L 95.016313 136.029072 L 95.889893 136.052576 L 95.889893 136.655855 L 96.37565 136.67936 L 96.37565 136.863478 L 96.399155 136.890899 L 96.399155 137.176869 L 96.884912 137.204291 L 96.884912 137.278722 L 97.131708 137.306144 L 97.131708 137.490261 L 97.151295 137.513766 L 97.151295 138.430437 L 97.637053 138.453941 L 97.637053 138.739911 L 97.660557 138.767333 L 97.660557 138.951451 L 98.393111 138.974955 L 98.393111 139.053303 L 99.262773 139.080725 L 99.262773 139.366695 L 99.286277 139.394117 L 99.286277 139.836783 L 99.772035 139.864205 L 99.772035 140.044405 L 100.018831 140.071827 L 100.018831 140.357797 L 100.524175 140.385219 L 100.524175 140.984581 L 101.009933 141.012003 L 101.009933 141.141277 L 101.033437 141.168699 L 101.033437 141.454669 L 101.053024 141.48209 L 101.053024 141.505595 L 101.765991 141.533017 L 101.765991 141.560438 L 101.785578 141.583943 L 101.785578 141.87383 L 102.153813 141.897335 L 102.153813 142.081452 L 102.659158 142.108874 L 102.659158 142.394844 L 103.144915 142.418349 L 103.144915 142.496697 L 103.900973 142.524118 L 103.900973 142.810089 L 103.92056 142.83751 L 103.92056 143.436872 L 104.406317 143.464294 L 104.406317 143.644494 L 104.425904 143.671916 L 104.425904 143.750264 L 104.653113 143.777686 L 104.653113 143.856034 L 105.158458 143.879538 L 105.158458 144.063656 L 105.181962 144.091078 L 105.181962 144.377048 L 106.032038 144.40447 L 106.032038 144.533744 L 106.788096 144.561166 L 106.788096 145.003832 L 107.29344 145.027336 L 107.29344 145.419076 L 107.316944 145.446498 L 107.316944 145.630615 L 107.779197 145.65412 L 107.779197 145.732468 L 107.802702 145.75989 L 107.802702 145.889164 L 108.049498 145.916586 L 108.049498 146.308325 L 108.535255 146.33183 L 108.535255 146.410178 L 108.554842 146.4376 L 108.554842 146.880266 L 108.91916 146.907687 L 108.91916 146.986035 L 110.180563 147.013457 L 110.180563 147.612819 L 110.66632 147.636323 L 110.66632 147.820441 L 110.689824 147.847863 L 110.689824 148.133833 L 111.175582 148.161255 L 111.175582 148.239603 L 111.422378 148.263107 L 111.422378 148.447225 L 111.927722 148.474647 L 111.927722 148.760617 L 111.951227 148.784121 L 111.951227 148.968239 L 112.68378 148.995661 L 112.68378 149.074009 L 113.55736 149.097513 L 113.55736 149.387401 L 114.062705 149.410905 L 114.062705 149.595023 L 114.818762 149.622444 L 114.818762 150.221806 L 115.30452 150.245311 L 115.30452 150.378502 L 115.324107 150.402007 L 115.324107 150.691894 L 115.343694 150.715399 L 115.343694 150.74282 L 116.05666 150.770242 L 116.05666 150.793747 L 116.076247 150.821168 L 116.076247 151.107139 L 116.949827 151.13456 L 116.949827 151.42053 L 117.435585 151.447952 L 117.435585 151.5263 L 118.191643 151.549805 L 118.191643 151.839692 L 118.21123 151.863196 L 118.21123 152.462558 L 118.696987 152.48998 L 118.696987 152.674098 L 118.720491 152.697602 L 118.720491 152.77595 L 118.943783 152.803372 L 118.943783 152.88172 L 119.453045 152.909142 L 119.453045 153.089342 L 120.322707 153.116764 L 120.322707 153.246038 L 121.078765 153.27346 L 121.078765 153.716126 L 121.58411 153.743548 L 121.58411 154.135288 L 122.069867 154.158792 L 122.069867 154.23714 L 122.093371 154.264562 L 122.093371 154.393836 L 122.825925 154.421258 L 122.825925 154.499606 L 122.845512 154.527027 L 122.845512 154.969693 L 123.213747 154.993198 L 123.213747 155.071546 L 124.960907 155.098968 L 124.960907 155.283085 L 124.980494 155.30659 L 124.980494 155.596477 L 125.466252 155.619982 L 125.466252 155.69833 L 125.713048 155.725751 L 125.713048 155.909869 L 126.222309 155.933373 L 126.222309 156.219344 L 126.241896 156.246765 L 126.241896 156.430883 L 126.97445 156.454387 L 126.97445 156.532735 L 127.84803 156.560157 L 127.84803 156.846127 L 128.353374 156.873549 L 128.353374 157.057667 L 128.839132 157.081171 L 128.839132 157.108593 L 129.109432 157.136015 L 129.109432 157.735377 L 129.59519 157.758881 L 129.59519 157.892073 L 129.614777 157.915577 L 129.614777 158.205465 L 130.34733 158.228969 L 130.34733 158.256391 L 131.240497 158.283813 L 131.240497 158.569783 L 131.726254 158.597204 L 131.726254 158.675552 L 132.482312 158.699057 L 132.482312 158.985027 L 132.987657 159.012449 L 132.987657 159.196566 L 133.011161 159.220071 L 133.011161 159.298419 L 133.743715 159.325841 L 133.743715 159.509958 L 134.617294 159.533463 L 134.617294 159.666654 L 135.878697 159.690159 L 135.878697 160.081898 L 136.364454 160.10932 L 136.364454 160.187668 L 136.384041 160.211173 L 136.384041 160.344364 L 137.116595 160.367869 L 137.116595 160.446216 L 137.136182 160.473638 L 137.136182 160.916304 L 139.251577 160.943726 L 139.251577 161.127844 L 139.271164 161.151348 L 139.271164 161.437318 L 139.756921 161.46474 L 139.756921 161.543088 L 140.003717 161.57051 L 140.003717 161.75071 L 140.512979 161.778132 L 140.512979 162.064102 L 142.138699 162.091524 L 142.138699 162.377494 L 142.644044 162.404916 L 142.644044 162.585116 L 143.129801 162.612538 L 143.129801 162.63996 L 143.885859 162.663464 L 143.885859 162.796656 L 143.905446 162.82016 L 143.905446 163.110047 L 144.638 163.133552 L 144.638 163.160974 L 146.020841 163.188395 L 146.020841 163.266743 L 146.772982 163.290248 L 146.772982 163.580135 L 147.282244 163.60364 L 147.282244 163.787757 L 147.301831 163.811262 L 147.301831 163.88961 L 148.034384 163.917032 L 148.034384 164.101149 L 148.907964 164.124654 L 148.907964 164.257845 L 150.169366 164.28135 L 150.169366 164.673089 L 150.655124 164.700511 L 150.655124 164.778859 L 150.674711 164.806281 L 150.674711 164.935555 L 151.407264 164.962977 L 151.407264 165.041325 L 153.542246 165.064829 L 153.542246 165.248947 L 154.047591 165.272451 L 154.047591 165.350799 L 154.803649 165.378221 L 154.803649 165.664191 L 156.938631 165.691613 L 156.938631 165.875731 L 157.424388 165.899235 L 157.424388 165.926657 L 158.176529 165.954079 L 158.176529 166.083353 L 158.200033 166.110775 L 158.200033 166.396745 L 158.932587 166.420249 L 158.932587 166.447671 L 160.311511 166.475093 L 160.311511 166.553441 L 161.063652 166.576945 L 161.063652 166.866833 L 161.572913 166.890337 L 161.572913 167.074455 L 163.198634 167.101877 L 163.198634 167.231151 L 164.945793 167.258572 L 164.945793 167.33692 L 164.96538 167.360425 L 164.96538 167.493616 L 165.697934 167.517121 L 165.697934 167.595469 L 167.832916 167.622891 L 167.832916 167.803091 L 168.342178 167.830513 L 168.342178 167.908861 L 169.094318 167.936282 L 169.094318 168.222252 L 171.229301 168.249674 L 171.229301 168.429875 L 171.715058 168.457296 L 171.715058 168.484718 L 172.467199 168.508223 L 172.467199 168.641414 L 174.602181 168.664919 L 174.602181 168.743266 L 175.863583 168.770688 L 175.863583 168.950889 L 179.236463 168.97831 L 179.236463 169.056658 L 179.259968 169.08408 L 179.259968 169.213354 L 179.992521 169.240776 L 179.992521 169.319124 L 182.123586 169.342628 L 182.123586 169.526746 L 182.632848 169.554168 L 182.632848 169.632516 L 186.005728 169.65602 L 186.005728 169.683442 L 186.757868 169.710864 L 186.757868 169.840138 L 188.89285 169.86756 L 188.89285 169.945908 L 190.154253 169.969412 L 190.154253 170.15353 L 193.527133 170.177034 L 193.527133 170.255382 L 196.923517 170.282804 L 196.923517 170.361152 L 200.296397 170.388574 L 200.296397 170.412078 L 201.052455 170.4395 L 201.052455 170.568774 L 203.18352 170.596196 L 203.18352 170.674544 L 207.817803 170.701966 L 207.817803 170.780314 L 211.214187 170.803818 L 211.214187 170.882166 L 214.587067 170.909588 L 214.587067 170.93701 L 222.11239 170.960514 L 222.11239 171.038862 L 228.881654 171.066284 L 228.881654 171.093706 L 243.172324 171.11721 L 243.172324 171.144632 \" transform=\"matrix(0.997154,0,0,-0.997154,37.699405,177.923198)\"/>\n",
       "<path style=\"fill:none;stroke-width:1.19553;stroke-linecap:butt;stroke-linejoin:miter;stroke:rgb(0%,59.999084%,53.33252%);stroke-opacity:1;stroke-miterlimit:10;\" d=\"M -0.000187204 0.00132667 L -0.000187204 0.694706 L 0.0272346 0.702541 L 0.0272346 0.906246 L 0.0546564 0.914081 L 0.0546564 1.32149 L 0.0820782 1.329325 L 0.0820782 1.740652 L 0.136922 1.748486 L 0.136922 1.948274 L 0.164344 1.956109 L 0.164344 1.9992 L 0.434644 2.007035 L 0.434644 2.069713 L 0.462066 2.077548 L 0.462066 2.277335 L 0.516909 2.28517 L 0.516909 2.590727 L 0.544331 2.598562 L 0.544331 2.731753 L 0.599175 2.739588 L 0.599175 2.939376 L 0.677523 2.94721 L 0.677523 2.974632 L 1.492342 2.982467 L 1.492342 3.182254 L 1.574607 3.190089 L 1.574607 3.323281 L 1.715633 3.331115 L 1.715633 3.374207 L 1.872329 3.382042 L 1.872329 3.479977 L 1.954595 3.487811 L 1.954595 4.102843 L 2.009438 4.114595 L 2.009438 4.416235 L 2.03686 4.427987 L 2.03686 5.35641 L 2.091704 5.364245 L 2.091704 5.634546 L 2.115208 5.64238 L 2.115208 5.842168 L 2.14263 5.85392 L 2.14263 5.877424 L 2.170052 5.889177 L 2.170052 5.983194 L 2.471691 5.991029 L 2.471691 6.088964 L 2.495196 6.096799 L 2.495196 6.226073 L 2.550039 6.233908 L 2.550039 6.433695 L 2.577461 6.445447 L 2.577461 6.504208 L 2.632305 6.512043 L 2.632305 6.609978 L 3.263006 6.617813 L 3.263006 6.645235 L 3.670415 6.653069 L 3.670415 6.71183 L 3.725259 6.723582 L 3.725259 7.025222 L 3.752681 7.036974 L 3.752681 7.130992 L 3.803607 7.138827 L 3.803607 7.409127 L 3.885872 7.416962 L 3.885872 7.514897 L 4.042568 7.522732 L 4.042568 7.722519 L 4.124833 7.730354 L 4.124833 7.859628 L 4.179677 7.87138 L 4.179677 7.879215 L 4.183594 7.88705 L 4.183594 7.984985 L 4.26586 7.99282 L 4.26586 8.192607 L 4.504821 8.200442 L 4.504821 8.26312 L 4.587086 8.270955 L 4.587086 8.364972 L 5.217788 8.372807 L 5.217788 8.400229 L 5.296136 8.408064 L 5.296136 8.470742 L 5.625197 8.478577 L 5.625197 8.521668 L 5.676123 8.529503 L 5.676123 8.662695 L 5.703545 8.67053 L 5.703545 8.799804 L 5.730967 8.807638 L 5.730967 8.9565 L 5.758389 8.964334 L 5.758389 9.583283 L 5.78581 9.591118 L 5.78581 9.739979 L 5.813232 9.747814 L 5.813232 10.159141 L 5.840654 10.166976 L 5.840654 10.574385 L 5.895498 10.58222 L 5.895498 11.044473 L 5.922919 11.052308 L 5.922919 11.114986 L 6.19322 11.122821 L 6.19322 11.181582 L 6.220642 11.193334 L 6.220642 11.393121 L 6.275485 11.400956 L 6.275485 11.808366 L 6.302907 11.820118 L 6.302907 12.121758 L 6.357751 12.129592 L 6.357751 12.748541 L 6.436099 12.756376 L 6.436099 12.889568 L 6.820004 12.897402 L 6.820004 12.940494 L 7.250917 12.948329 L 7.250917 13.011007 L 7.333183 13.018842 L 7.333183 13.112859 L 7.630905 13.124612 L 7.630905 13.148116 L 7.71317 13.155951 L 7.71317 13.426251 L 7.768014 13.434086 L 7.768014 13.739643 L 7.795436 13.747478 L 7.795436 14.679819 L 7.850279 14.687654 L 7.850279 15.306603 L 7.877701 15.314437 L 7.877701 15.584738 L 7.905123 15.592573 L 7.905123 15.68659 L 7.928627 15.698342 L 7.928627 15.999982 L 7.956049 16.011734 L 7.956049 16.035239 L 8.230267 16.043073 L 8.230267 16.176265 L 8.257689 16.1841 L 8.257689 16.489657 L 8.285111 16.497492 L 8.285111 16.556253 L 8.312532 16.568005 L 8.312532 17.183036 L 8.336037 17.190871 L 8.336037 17.394576 L 8.363459 17.402411 L 8.363459 17.70405 L 8.39088 17.715803 L 8.39088 18.123212 L 8.445724 18.131047 L 8.445724 18.330834 L 8.473146 18.338669 L 8.473146 18.401347 L 8.527989 18.409182 L 8.527989 18.436604 L 8.853133 18.444439 L 8.853133 18.471861 L 9.5661 18.479695 L 9.5661 18.542374 L 9.644448 18.550209 L 9.644448 18.573713 L 9.805061 18.585465 L 9.805061 19.043801 L 9.883409 19.055553 L 9.883409 19.462962 L 9.938253 19.470797 L 9.938253 19.533476 L 9.965675 19.54131 L 9.965675 19.690171 L 10.024436 19.698006 L 10.024436 19.756767 L 10.263397 19.768519 L 10.263397 19.968307 L 10.31824 19.976142 L 10.31824 20.070159 L 10.345662 20.077994 L 10.345662 20.489321 L 10.400506 20.497156 L 10.400506 20.696943 L 10.427928 20.704778 L 10.427928 20.904565 L 10.482771 20.916317 L 10.482771 21.010335 L 10.890181 21.01817 L 10.890181 21.026004 L 11.516964 21.037757 L 11.516964 21.1827 L 11.571808 21.194452 L 11.571808 21.323727 L 11.59923 21.331561 L 11.59923 21.460836 L 11.654073 21.472588 L 11.654073 21.672375 L 11.681495 21.68021 L 11.681495 21.723301 L 11.9753 21.731136 L 11.9753 21.758558 L 11.979217 21.766393 L 11.979217 21.829071 L 12.034061 21.836906 L 12.034061 22.142463 L 12.061483 22.150298 L 12.061483 22.279572 L 12.116326 22.287407 L 12.116326 22.906356 L 12.198592 22.91419 L 12.198592 23.219748 L 12.355288 23.227582 L 12.355288 23.290261 L 12.437553 23.298095 L 12.437553 23.392113 L 12.578579 23.399948 L 12.578579 23.462626 L 13.471746 23.470461 L 13.471746 23.533139 L 13.52659 23.540974 L 13.52659 23.634992 L 13.554012 23.646744 L 13.554012 23.948384 L 13.608855 23.960136 L 13.608855 24.226519 L 13.636277 24.238271 L 13.636277 24.438058 L 13.663699 24.445893 L 13.663699 24.539911 L 13.691121 24.551663 L 13.691121 24.853303 L 13.718542 24.861137 L 13.718542 24.888559 L 13.988843 24.896394 L 13.988843 24.994329 L 14.016265 25.002164 L 14.016265 25.131438 L 14.043686 25.139273 L 14.043686 25.201951 L 14.071108 25.209786 L 14.071108 25.828735 L 14.09853 25.83657 L 14.09853 26.036357 L 14.125952 26.044192 L 14.125952 26.455519 L 14.149456 26.463353 L 14.149456 27.391777 L 14.2043 27.403529 L 14.2043 28.018561 L 14.231721 28.026395 L 14.231721 28.2301 L 14.286565 28.237935 L 14.286565 28.367209 L 14.584287 28.375044 L 14.584287 28.472979 L 14.611709 28.480814 L 14.611709 28.574831 L 14.666553 28.586583 L 14.666553 28.786371 L 14.748818 28.794206 L 14.748818 28.888223 L 15.563637 28.896058 L 15.563637 29.099763 L 15.641985 29.107597 L 15.641985 29.515007 L 15.696829 29.522842 L 15.696829 29.671703 L 15.72425 29.679538 L 15.72425 29.879325 L 16.02589 29.891077 L 16.02589 30.090864 L 16.076816 30.098699 L 16.076816 30.227973 L 16.104238 30.235808 L 16.104238 31.168149 L 16.159082 31.175984 L 16.159082 31.794933 L 16.186503 31.802768 L 16.186503 32.421717 L 16.213925 32.429551 L 16.213925 32.523569 L 16.241347 32.531404 L 16.241347 32.942731 L 16.268769 32.950565 L 16.268769 33.044583 L 16.296191 33.056335 L 16.296191 33.115096 L 16.323612 33.122931 L 16.323612 33.185609 L 16.621335 33.193444 L 16.621335 33.342305 L 16.648756 33.35014 L 16.648756 33.412818 L 16.7036 33.420653 L 16.7036 33.549927 L 16.785865 33.557762 L 16.785865 33.600853 L 17.412649 33.612606 L 17.412649 33.655697 L 17.733876 33.663532 L 17.733876 33.757549 L 17.820059 33.769302 L 17.820059 33.792806 L 17.874902 33.804558 L 17.874902 34.004346 L 17.957167 34.01218 L 17.957167 34.141454 L 18.113863 34.149289 L 18.113863 34.349077 L 18.196129 34.360829 L 18.196129 34.768238 L 18.250972 34.776073 L 18.250972 34.838751 L 18.278394 34.846586 L 18.278394 35.046374 L 18.32932 35.054208 L 18.32932 35.08163 L 18.337155 35.089465 L 18.337155 35.132556 L 18.658382 35.140391 L 18.658382 35.238326 L 18.73673 35.246161 L 18.73673 35.308839 L 19.367431 35.316674 L 19.367431 35.375435 L 19.422274 35.387187 L 19.422274 35.410692 L 19.449696 35.418526 L 19.449696 35.516461 L 19.77484 35.524296 L 19.77484 35.551718 L 19.829684 35.559553 L 19.829684 35.75934 L 19.857106 35.767175 L 19.857106 35.829853 L 19.884528 35.837688 L 19.884528 36.143245 L 19.911949 36.15108 L 19.911949 36.558489 L 19.966793 36.566324 L 19.966793 37.185273 L 19.990297 37.193108 L 19.990297 37.392895 L 20.045141 37.404647 L 20.045141 37.706287 L 20.284102 37.714122 L 20.284102 37.741544 L 20.346781 37.749378 L 20.346781 37.847313 L 20.370285 37.855148 L 20.370285 37.949166 L 20.425129 37.960918 L 20.425129 38.227301 L 20.507394 38.239053 L 20.507394 38.540693 L 21.322213 38.552445 L 21.322213 38.595537 L 21.404478 38.603371 L 21.404478 38.732646 L 21.459322 38.74048 L 21.459322 38.803159 L 21.482826 38.810993 L 21.482826 38.959855 L 21.784466 38.967689 L 21.784466 39.030368 L 21.839309 39.038203 L 21.839309 39.13222 L 21.862814 39.143972 L 21.862814 39.551382 L 21.917657 39.559217 L 21.917657 40.178166 L 21.945079 40.186 L 21.945079 40.804949 L 21.972501 40.812784 L 21.972501 40.942058 L 21.999923 40.949893 L 21.999923 41.882234 L 22.027344 41.890069 L 22.027344 42.019343 L 22.054766 42.031095 L 22.054766 42.230882 L 22.082188 42.238717 L 22.082188 42.438504 L 22.352489 42.446339 L 22.352489 42.454174 L 22.37991 42.465926 L 22.37991 42.665714 L 22.407332 42.673548 L 22.407332 42.82241 L 22.434754 42.830244 L 22.434754 42.959518 L 22.462176 42.967353 L 22.462176 43.37868 L 22.517019 43.386515 L 22.517019 43.848768 L 22.544441 43.856603 L 22.544441 44.05639 L 22.599285 44.064225 L 22.599285 44.193499 L 22.677633 44.205251 L 22.677633 44.213086 L 23.492452 44.220921 L 23.492452 44.314938 L 23.715743 44.326691 L 23.715743 44.350195 L 23.872439 44.361947 L 23.872439 44.561734 L 23.954705 44.569569 L 23.954705 45.497993 L 24.009548 45.509745 L 24.009548 45.709532 L 24.03697 45.717367 L 24.03697 46.332399 L 24.091813 46.344151 L 24.091813 46.473425 L 24.115318 46.48126 L 24.115318 46.579195 L 24.389536 46.587029 L 24.389536 46.610534 L 24.416958 46.622286 L 24.416958 46.923926 L 24.471801 46.935678 L 24.471801 47.135465 L 24.499223 47.1433 L 24.499223 47.413601 L 24.550149 47.421435 L 24.550149 47.726992 L 24.577571 47.734827 L 24.577571 47.828845 L 24.632414 47.83668 L 24.632414 47.899358 L 25.670525 47.907193 L 25.670525 48.005128 L 25.725369 48.012963 L 25.725369 48.21275 L 25.75279 48.220585 L 25.75279 48.283263 L 25.803717 48.291098 L 25.803717 48.420372 L 26.042678 48.428207 L 26.042678 48.561398 L 26.124943 48.569233 L 26.124943 48.631911 L 26.132778 48.639746 L 26.132778 48.663251 L 26.183704 48.675003 L 26.183704 48.87479 L 26.26597 48.882625 L 26.26597 49.188182 L 26.422666 49.196017 L 26.422666 49.239108 L 26.504931 49.246943 L 26.504931 49.376217 L 26.587196 49.387969 L 26.587196 49.532913 L 27.217897 49.544665 L 27.217897 49.5525 L 27.625307 49.560335 L 27.625307 49.654352 L 27.676233 49.666105 L 27.676233 49.865892 L 27.703655 49.873727 L 27.703655 50.073514 L 27.731077 50.081349 L 27.731077 50.179284 L 27.758498 50.187119 L 27.758498 50.594528 L 27.78592 50.602363 L 27.78592 50.700298 L 27.813342 50.708133 L 27.813342 50.90792 L 27.840764 50.915755 L 27.840764 51.115542 L 28.138486 51.127294 L 28.138486 51.272238 L 28.165908 51.28399 L 28.165908 51.342751 L 28.19333 51.350586 L 28.19333 51.483778 L 28.220751 51.491612 L 28.220751 51.899022 L 28.275595 51.906857 L 28.275595 52.525806 L 28.303017 52.53364 L 28.303017 52.995893 L 28.35786 53.003728 L 28.35786 53.411138 L 28.440126 53.42289 L 28.440126 53.481651 L 28.737848 53.489486 L 28.737848 53.552164 L 28.820113 53.559999 L 28.820113 53.657934 L 29.251027 53.665769 L 29.251027 53.69319 L 29.631015 53.701025 L 29.631015 53.759786 L 29.71328 53.767621 L 29.71328 54.178948 L 29.768124 54.186783 L 29.768124 54.38657 L 29.795546 54.394405 L 29.795546 55.013354 L 29.850389 55.021188 L 29.850389 55.326746 L 29.877811 55.33458 L 29.877811 55.463854 L 30.148112 55.475607 L 30.148112 55.499111 L 30.175533 55.506946 L 30.175533 55.812503 L 30.230377 55.820338 L 30.230377 56.090638 L 30.257799 56.098473 L 30.257799 56.717422 L 30.28522 56.725257 L 30.28522 56.823192 L 30.312642 56.831027 L 30.312642 57.75945 L 30.336147 57.771202 L 30.336147 58.072842 L 30.363568 58.084594 L 30.363568 58.284381 L 30.39099 58.292216 L 30.39099 58.562517 L 30.445834 58.570351 L 30.445834 58.664369 L 30.473256 58.676121 L 30.473256 58.699626 L 30.770978 58.70746 L 30.770978 58.805395 L 30.853243 58.81323 L 30.853243 58.875909 L 31.56621 58.883743 L 31.56621 58.907248 L 31.805171 58.919 L 31.805171 59.22064 L 31.883519 59.232392 L 31.883519 59.432179 L 32.024545 59.440014 L 32.024545 59.534031 L 32.185159 59.545784 L 32.185159 59.604545 L 32.263507 59.612379 L 32.263507 60.023706 L 32.31835 60.031541 L 32.31835 60.180402 L 32.345772 60.188237 L 32.345772 60.803269 L 32.400616 60.815021 L 32.400616 60.944295 L 32.428037 60.95213 L 32.428037 61.081404 L 32.482881 61.093156 L 32.482881 61.136247 L 32.808025 61.144082 L 32.808025 61.206761 L 32.89029 61.214595 L 32.89029 61.2381 L 33.517074 61.249852 L 33.517074 61.34387 L 33.571918 61.351704 L 33.571918 61.414383 L 33.59934 61.422218 L 33.59934 61.484896 L 33.924484 61.492731 L 33.924484 61.500566 L 33.979327 61.5084 L 33.979327 61.641592 L 34.034171 61.649427 L 34.034171 62.107762 L 34.061593 62.119514 L 34.061593 62.319302 L 34.116436 62.327137 L 34.116436 62.734546 L 34.198702 62.742381 L 34.198702 62.891242 L 34.355398 62.899077 L 34.355398 62.997012 L 34.437663 63.004847 L 34.437663 63.067525 L 34.496424 63.07536 L 34.496424 63.134121 L 34.578689 63.145873 L 34.578689 63.275147 L 35.471856 63.282982 L 35.471856 63.380917 L 35.5267 63.388752 L 35.5267 63.447513 L 35.554121 63.455347 L 35.554121 63.659052 L 35.608965 63.666887 L 35.608965 63.796161 L 35.636387 63.803996 L 35.636387 63.901931 L 35.934109 63.909766 L 35.934109 64.003783 L 35.988953 64.015535 L 35.988953 64.215323 L 36.016374 64.223157 L 36.016374 64.493458 L 36.043796 64.501293 L 36.043796 64.59531 L 36.071218 64.607063 L 36.071218 65.535486 L 36.09864 65.543321 L 36.09864 65.848878 L 36.126062 65.856713 L 36.126062 66.127013 L 36.153483 66.134848 L 36.153483 66.753797 L 36.20441 66.761632 L 36.20441 67.067189 L 36.231831 67.075024 L 36.231831 67.169041 L 36.506049 67.180793 L 36.506049 67.204298 L 36.533471 67.21605 L 36.533471 67.345324 L 36.584397 67.353159 L 36.584397 67.552946 L 36.611819 67.560781 L 36.611819 67.760568 L 36.666663 67.77232 L 36.666663 68.07396 L 36.748928 68.081795 L 36.748928 68.144473 L 37.563747 68.152308 L 37.563747 68.2855 L 37.646012 68.293334 L 37.646012 68.493122 L 37.943735 68.500957 L 37.943735 68.544048 L 38.026 68.551883 L 38.026 68.96321 L 38.076926 68.971044 L 38.076926 69.170832 L 38.104348 69.178667 L 38.104348 70.581095 L 38.159191 70.58893 L 38.159191 70.996339 L 38.186613 71.004174 L 38.186613 71.415501 L 38.214035 71.423336 L 38.214035 71.466427 L 38.241457 71.474262 L 38.241457 71.674049 L 38.268879 71.685802 L 38.268879 71.728893 L 38.539179 71.736728 L 38.539179 71.795489 L 38.566601 71.807241 L 38.566601 72.007028 L 38.621444 72.014863 L 38.621444 72.32042 L 38.648866 72.328255 L 38.648866 72.457529 L 38.70371 72.465364 L 38.70371 72.665151 L 38.785975 72.676903 L 38.785975 72.700408 L 39.820168 72.708243 L 39.820168 72.755251 L 39.875012 72.763086 L 39.875012 72.89236 L 39.957277 72.900195 L 39.957277 72.962873 L 40.113973 72.970708 L 40.113973 73.276265 L 40.196239 73.2841 L 40.196239 73.554401 L 40.251082 73.562235 L 40.251082 73.589657 L 40.278504 73.597492 L 40.278504 73.69151 L 40.337265 73.703262 L 40.337265 73.797279 L 40.576226 73.805114 L 40.576226 73.903049 L 40.658492 73.910884 L 40.658492 74.110671 L 40.73684 74.118506 L 40.73684 74.216441 L 41.367541 74.224276 L 41.367541 74.24778 L 41.77495 74.259532 L 41.77495 74.318293 L 41.829794 74.326128 L 41.829794 74.631685 L 41.857216 74.63952 L 41.857216 74.737455 L 41.884637 74.74529 L 41.884637 74.945077 L 41.912059 74.952912 L 41.912059 75.223212 L 41.966903 75.231047 L 41.966903 75.536604 L 41.990407 75.544439 L 41.990407 75.642374 L 42.284212 75.650209 L 42.284212 75.658044 L 42.292047 75.665878 L 42.292047 75.763813 L 42.34689 75.771648 L 42.34689 75.971436 L 42.374312 75.97927 L 42.374312 76.179058 L 42.425238 76.186892 L 42.425238 76.598219 L 42.507504 76.606054 L 42.507504 76.805841 L 42.887491 76.813676 L 42.887491 76.841098 L 43.322323 76.848933 L 43.322323 76.876355 L 43.404588 76.884189 L 43.404588 76.946868 L 43.784576 76.954703 L 43.784576 77.083977 L 43.839419 77.091811 L 43.839419 77.240673 L 43.866841 77.248507 L 43.866841 77.867456 L 43.917767 77.875291 L 43.917767 78.282701 L 43.945189 78.294453 L 43.945189 78.701862 L 43.972611 78.709697 L 43.972611 78.772375 L 44.000033 78.78021 L 44.000033 79.242463 L 44.027454 79.250298 L 44.027454 79.309059 L 44.297755 79.320811 L 44.297755 79.379572 L 44.325177 79.387407 L 44.325177 79.587194 L 44.352598 79.598947 L 44.352598 79.622451 L 44.38002 79.634203 L 44.38002 80.041613 L 44.407442 80.049447 L 44.407442 80.355004 L 44.434864 80.362839 L 44.434864 80.562627 L 44.462286 80.570461 L 44.462286 81.18941 L 44.517129 81.197245 L 44.517129 81.502802 L 44.544551 81.510637 L 44.544551 81.639911 L 44.599395 81.651663 L 44.599395 81.710424 L 44.924539 81.718259 L 44.924539 81.76135 L 45.715853 81.773103 L 45.715853 81.780937 L 45.872549 81.788772 L 45.872549 82.094329 L 45.954814 82.102164 L 45.954814 82.721113 L 46.009658 82.728948 L 46.009658 82.822965 L 46.03708 82.834718 L 46.03708 83.136357 L 46.334802 83.144192 L 46.334802 83.277384 L 46.389646 83.285219 L 46.389646 83.343979 L 46.417067 83.355732 L 46.417067 83.970763 L 46.471911 83.982515 L 46.471911 84.284155 L 46.499333 84.29199 L 46.499333 84.703317 L 46.550259 84.711152 L 46.550259 84.910939 L 46.577681 84.918774 L 46.577681 84.981452 L 46.632524 84.989287 L 46.632524 85.016709 L 46.957668 85.024543 L 46.957668 85.051965 L 47.670635 85.0598 L 47.670635 85.118561 L 47.725479 85.130313 L 47.725479 85.224331 L 47.7529 85.232166 L 47.7529 85.259587 L 48.042788 85.267422 L 48.042788 85.330101 L 48.132888 85.337935 L 48.132888 85.396696 L 48.187732 85.408448 L 48.187732 85.710088 L 48.26608 85.72184 L 48.26608 85.921628 L 48.426693 85.929462 L 48.426693 86.02348 L 48.505041 86.031315 L 48.505041 86.231102 L 48.587306 86.242854 L 48.587306 86.336872 L 48.646067 86.344707 L 48.646067 86.372129 L 49.625417 86.379963 L 49.625417 86.528824 L 49.68026 86.536659 L 49.68026 86.665933 L 49.703765 86.677686 L 49.703765 86.80696 L 49.731187 86.814795 L 49.731187 86.857886 L 49.758608 86.869638 L 49.758608 87.069425 L 49.78603 87.07726 L 49.78603 87.120352 L 50.083752 87.128186 L 50.083752 87.190865 L 50.138596 87.1987 L 50.138596 87.504257 L 50.166018 87.512091 L 50.166018 87.641366 L 50.19344 87.6492 L 50.19344 87.848988 L 50.220861 87.86074 L 50.220861 88.475771 L 50.275705 88.483606 L 50.275705 88.894933 L 50.303127 88.902768 L 50.303127 89.208325 L 50.35797 89.21616 L 50.35797 89.415947 L 50.655693 89.423782 L 50.655693 89.466873 L 50.683114 89.478626 L 50.683114 89.537386 L 50.737958 89.545221 L 50.737958 89.678413 L 50.820223 89.686248 L 50.820223 89.835109 L 51.631125 89.842944 L 51.631125 89.936961 L 51.71339 89.944796 L 51.71339 90.215096 L 51.768234 90.222931 L 51.768234 90.320866 L 51.795656 90.328701 L 51.795656 90.634258 L 52.093378 90.642093 L 52.093378 90.73611 L 52.148221 90.747863 L 52.148221 90.806624 L 52.175643 90.814458 L 52.175643 91.433407 L 52.230487 91.441242 L 52.230487 91.852569 L 52.257909 91.860404 L 52.257909 92.788827 L 52.28533 92.800579 L 52.28533 92.85934 L 52.312752 92.867175 L 52.312752 93.486124 L 52.340174 93.493959 L 52.340174 93.693746 L 52.367596 93.701581 L 52.367596 93.799516 L 52.3911 93.807351 L 52.3911 93.936625 L 52.69274 93.948377 L 52.69274 94.042395 L 52.720162 94.05023 L 52.720162 94.148165 L 52.771088 94.155999 L 52.771088 94.355787 L 52.853353 94.363621 L 52.853353 94.461556 L 53.805281 94.469391 L 53.805281 94.618252 L 54.024655 94.626087 L 54.024655 94.684848 L 54.185269 94.692683 L 54.185269 94.825874 L 54.263617 94.833709 L 54.263617 95.452658 L 54.31846 95.460493 L 54.31846 95.554511 L 54.345882 95.562345 L 54.345882 95.973672 L 54.400726 95.981507 L 54.400726 96.044185 L 54.428147 96.05202 L 54.428147 96.110781 L 54.72587 96.122533 L 54.72587 96.267477 L 54.808135 96.279229 L 54.808135 96.408503 L 54.8904 96.416338 L 54.8904 96.45943 L 55.517184 96.467264 L 55.517184 96.510356 L 55.924594 96.522108 L 55.924594 96.545612 L 55.979437 96.557365 L 55.979437 96.757152 L 56.034281 96.764987 L 56.034281 97.070544 L 56.061703 97.078379 L 56.061703 97.207653 L 56.116546 97.215488 L 56.116546 97.415275 L 56.355507 97.427027 L 56.355507 97.485788 L 56.437773 97.493623 L 56.437773 97.521045 L 56.44169 97.528879 L 56.44169 97.571971 L 56.496534 97.583723 L 56.496534 97.712997 L 56.578799 97.720832 L 56.578799 97.920619 L 57.471966 97.928454 L 57.471966 97.991132 L 57.52681 97.998967 L 57.52681 98.026389 L 57.554231 98.034224 L 57.554231 98.128241 L 57.934219 98.139994 L 57.934219 98.339781 L 57.989063 98.347616 L 57.989063 98.653173 L 58.016484 98.661008 L 58.016484 99.068417 L 58.043906 99.076252 L 58.043906 99.13893 L 58.071328 99.146765 L 58.071328 99.765714 L 58.09875 99.773549 L 58.09875 99.973336 L 58.126172 99.981171 L 58.126172 100.114362 L 58.153593 100.122197 L 58.153593 100.423837 L 58.451316 100.435589 L 58.451316 100.529607 L 58.478737 100.537441 L 58.478737 100.635376 L 58.506159 100.643211 L 58.506159 100.701972 L 58.533581 100.713724 L 58.533581 100.980107 L 58.588425 100.99186 L 58.588425 101.293499 L 58.611929 101.305252 L 58.611929 101.606891 L 58.666773 101.618643 L 58.666773 101.818431 L 58.749038 101.826266 L 58.749038 101.84977 L 59.563857 101.861522 L 59.563857 101.920283 L 59.943844 101.928118 L 59.943844 102.026053 L 60.02611 102.033888 L 60.02611 102.652837 L 60.080953 102.660671 L 60.080953 102.789946 L 60.104458 102.79778 L 60.104458 103.730121 L 60.159301 103.737956 L 60.159301 103.937743 L 60.186723 103.945578 L 60.186723 104.149283 L 60.460941 104.157118 L 60.460941 104.164952 L 60.484445 104.172787 L 60.484445 104.372575 L 60.539289 104.380409 L 60.539289 104.513601 L 60.566711 104.521436 L 60.566711 104.928845 L 60.621554 104.940597 L 60.621554 105.398933 L 60.648976 105.406768 L 60.648976 105.610472 L 60.70382 105.618307 L 60.70382 105.747581 L 60.786085 105.755416 L 60.786085 105.763251 L 61.820278 105.775003 L 61.820278 105.798508 L 61.875122 105.81026 L 61.875122 105.869021 L 62.114083 105.876856 L 62.114083 106.076643 L 62.196349 106.088395 L 62.196349 106.217669 L 62.337375 106.225504 L 62.337375 106.374365 L 62.494071 106.3822 L 62.494071 106.409622 L 62.576336 106.417457 L 62.576336 106.617244 L 62.658602 106.625079 L 62.658602 106.930636 L 62.73695 106.938471 L 62.73695 107.001149 L 63.77506 107.008984 L 63.77506 107.103001 L 63.829904 107.114753 L 63.829904 107.314541 L 63.857326 107.322376 L 63.857326 107.381137 L 63.884747 107.392889 L 63.884747 107.486906 L 63.912169 107.494741 L 63.912169 107.627933 L 64.237313 107.635767 L 64.237313 107.659272 L 64.292157 107.671024 L 64.292157 107.870811 L 64.347 107.878646 L 64.347 108.184203 L 64.374422 108.192038 L 64.374422 108.497595 L 64.425348 108.50543 L 64.425348 108.77573 L 64.507614 108.783565 L 64.507614 108.877583 L 64.805336 108.885418 L 64.805336 108.912839 L 64.887601 108.920674 L 64.887601 108.983353 L 65.322433 108.991187 L 65.322433 108.999022 L 65.784686 109.006857 L 65.784686 109.210562 L 65.839529 109.218396 L 65.839529 109.312414 L 65.866951 109.320249 L 65.866951 109.731576 L 65.917877 109.73941 L 65.917877 109.939198 L 65.945299 109.947033 L 65.945299 110.14682 L 66.246939 110.158572 L 66.246939 110.303516 L 66.297865 110.311351 L 66.297865 110.444542 L 66.325287 110.452377 L 66.325287 110.859786 L 66.352708 110.871539 L 66.352708 110.91463 L 66.38013 110.922465 L 66.38013 111.537496 L 66.407552 111.549249 L 66.407552 112.007584 L 66.434974 112.019336 L 66.434974 112.148611 L 66.462396 112.156445 L 66.462396 112.563855 L 66.517239 112.575607 L 66.517239 112.720551 L 66.544661 112.732303 L 66.544661 112.791064 L 66.842383 112.798899 L 66.842383 112.861577 L 66.924649 112.869412 L 66.924649 112.967347 L 67.872659 112.975182 L 67.872659 113.174969 L 67.954924 113.182804 L 67.954924 113.488361 L 68.252647 113.496196 L 68.252647 113.523617 L 68.334912 113.531452 L 68.334912 113.801753 L 68.389756 113.809588 L 68.389756 113.903605 L 68.417177 113.915357 L 68.417177 114.843781 L 68.472021 114.851616 L 68.472021 115.051403 L 68.499443 115.063155 L 68.499443 115.329538 L 68.554286 115.34129 L 68.554286 115.435308 L 68.577791 115.443143 L 68.577791 115.470564 L 68.87943 115.478399 L 68.87943 115.576334 L 68.957778 115.584169 L 68.957778 115.64293 L 69.670745 115.654682 L 69.670745 115.678187 L 70.132998 115.686021 L 70.132998 115.783956 L 70.187841 115.791791 L 70.187841 115.991578 L 70.266189 115.999413 L 70.266189 116.097348 L 70.426803 116.105183 L 70.426803 116.254044 L 70.505151 116.261879 L 70.505151 116.391153 L 70.587416 116.398988 L 70.587416 116.445997 L 70.646177 116.453831 L 70.646177 116.512592 L 71.625527 116.524345 L 71.625527 116.618362 L 71.68037 116.626197 L 71.68037 116.688875 L 71.707792 116.69671 L 71.707792 116.755471 L 72.08778 116.767223 L 72.08778 116.896498 L 72.138706 116.904332 L 72.138706 117.366585 L 72.166128 117.37442 L 72.166128 117.574207 L 72.19355 117.582042 L 72.19355 117.715234 L 72.220971 117.723069 L 72.220971 118.130478 L 72.275815 118.138313 L 72.275815 118.3381 L 72.303237 118.349852 L 72.303237 118.494796 L 72.600959 118.506548 L 72.600959 118.565309 L 72.655803 118.573144 L 72.655803 118.671079 L 72.683224 118.678914 L 72.683224 118.808188 L 72.738068 118.81994 L 72.738068 119.019727 L 72.820333 119.027562 L 72.820333 119.12158 L 73.631235 119.129415 L 73.631235 119.192093 L 73.7135 119.199928 L 73.7135 119.333119 L 74.093488 119.340954 L 74.093488 119.540741 L 74.148331 119.548576 L 74.148331 119.642594 L 74.175753 119.654346 L 74.175753 120.582769 L 74.230597 120.590604 L 74.230597 120.860905 L 74.258019 120.86874 L 74.258019 121.487689 L 74.28544 121.495523 L 74.28544 121.522945 L 74.312862 121.53078 L 74.312862 121.836337 L 74.340284 121.844172 L 74.340284 121.942107 L 74.610584 121.949942 L 74.610584 121.973446 L 74.638006 121.985198 L 74.638006 122.114472 L 74.69285 122.122307 L 74.69285 122.322094 L 74.720272 122.329929 L 74.720272 122.529717 L 74.775115 122.541469 L 74.775115 122.843108 L 74.853463 122.854861 L 74.853463 122.913622 L 76.028683 122.921456 L 76.028683 122.948878 L 76.185379 122.956713 L 76.185379 123.1565 L 76.267644 123.168252 L 76.267644 123.575662 L 76.31857 123.583497 L 76.31857 123.626588 L 76.345992 123.634423 L 76.345992 123.83421 L 76.647632 123.845962 L 76.647632 123.904723 L 76.72598 123.912558 L 76.72598 124.218115 L 76.808245 124.22595 L 76.808245 124.425737 L 76.89051 124.43749 L 76.89051 124.460994 L 77.924703 124.472746 L 77.924703 124.515838 L 77.979547 124.523672 L 77.979547 124.652947 L 78.034391 124.660781 L 78.034391 124.809642 L 78.061812 124.817477 L 78.061812 124.880156 L 78.355617 124.88799 L 78.355617 124.915412 L 78.4418 124.923247 L 78.4418 125.017265 L 78.496644 125.029017 L 78.496644 125.228804 L 78.578909 125.236639 L 78.578909 125.365913 L 78.958897 125.373748 L 78.958897 125.3855 L 79.472076 125.393335 L 79.472076 125.420757 L 79.934329 125.428591 L 79.934329 125.730231 L 79.989172 125.741983 L 79.989172 125.941771 L 80.016594 125.949605 L 80.016594 126.219906 L 80.044016 126.227741 L 80.044016 126.255163 L 80.071438 126.262997 L 80.071438 126.568554 L 80.09886 126.576389 L 80.09886 126.670407 L 80.396582 126.678242 L 80.396582 126.776177 L 80.451426 126.784011 L 80.451426 126.983799 L 80.478847 126.991633 L 80.478847 127.191421 L 80.506269 127.203173 L 80.506269 127.297191 L 80.533691 127.305025 L 80.533691 127.716352 L 80.588534 127.724187 L 80.588534 127.923974 L 80.612039 127.931809 L 80.612039 128.131596 L 80.666882 128.139431 L 80.666882 128.237366 L 80.995944 128.245201 L 80.995944 128.272623 L 81.943954 128.280458 L 81.943954 128.429319 L 82.02622 128.437153 L 82.02622 128.844563 L 82.081063 128.852398 L 82.081063 128.915076 L 82.104568 128.922911 L 82.104568 129.385164 L 82.406207 129.392999 L 82.406207 129.455677 L 82.461051 129.463512 L 82.461051 129.487016 L 82.488473 129.498768 L 82.488473 129.906178 L 82.539399 129.914013 L 82.539399 130.1138 L 82.566821 130.121635 L 82.566821 130.740584 L 82.621664 130.748419 L 82.621664 131.053976 L 82.649086 131.06181 L 82.649086 131.195002 L 82.70393 131.202837 L 82.70393 131.261598 L 83.029074 131.27335 L 83.029074 131.316441 L 83.820388 131.324276 L 83.820388 131.332111 L 84.114193 131.339946 L 84.114193 131.437881 L 84.337485 131.445715 L 84.337485 131.539733 L 84.494181 131.551485 L 84.494181 131.610246 L 84.576446 131.618081 L 84.576446 131.923638 L 84.658711 131.931473 L 84.658711 132.13126 L 84.740977 132.143012 L 84.740977 132.166517 L 85.77517 132.174352 L 85.77517 132.23703 L 85.830014 132.244865 L 85.830014 132.3428 L 85.857435 132.350635 L 85.857435 132.374139 L 86.237423 132.385891 L 86.237423 132.444652 L 86.292267 132.452487 L 86.292267 132.758044 L 86.34711 132.765879 L 86.34711 132.965666 L 86.374532 132.977418 L 86.374532 133.177206 L 86.425458 133.18504 L 86.425458 133.314315 L 86.75452 133.322149 L 86.75452 133.349571 L 86.809363 133.357406 L 86.809363 133.420084 L 86.887711 133.427919 L 86.887711 133.521937 L 87.784795 133.533689 L 87.784795 133.662963 L 87.839639 133.670798 L 87.839639 133.713889 L 87.867061 133.725641 L 87.867061 133.925429 L 88.247049 133.933264 L 88.247049 134.238821 L 88.301892 134.246655 L 88.301892 134.446443 L 88.325396 134.454278 L 88.325396 135.073226 L 88.352818 135.081061 L 88.352818 135.108483 L 88.38024 135.116318 L 88.38024 135.523727 L 88.407662 135.531562 L 88.407662 135.837119 L 88.435084 135.844954 L 88.435084 135.907632 L 88.462505 135.915467 L 88.462505 136.115254 L 88.760228 136.123089 L 88.760228 136.166181 L 88.787649 136.177933 L 88.787649 136.236694 L 88.842493 136.244529 L 88.842493 136.37772 L 88.924758 136.385555 L 88.924758 136.534416 L 89.872769 136.542251 L 89.872769 136.636268 L 90.252757 136.644103 L 90.252757 136.706782 L 90.335022 136.714616 L 90.335022 137.125943 L 90.389865 137.133778 L 90.389865 137.192539 L 90.417287 137.204291 L 90.417287 137.819323 L 90.472131 137.827158 L 90.472131 137.925093 L 90.499553 137.932927 L 90.499553 138.062202 L 90.797275 138.070036 L 90.797275 138.167971 L 90.87954 138.175806 L 90.87954 138.375593 L 90.961806 138.383428 L 90.961806 138.481363 L 92.133108 138.489198 L 92.133108 138.551876 L 92.187951 138.559711 L 92.187951 138.653729 L 92.426913 138.661564 L 92.426913 138.759498 L 92.505261 138.767333 L 92.505261 138.830012 L 92.646287 138.837846 L 92.646287 138.931864 L 93.625637 138.939699 L 93.625637 138.986708 L 94.08789 138.994542 L 94.08789 139.19433 L 94.138816 139.202165 L 94.138816 139.507722 L 94.166238 139.515556 L 94.166238 139.644831 L 94.193659 139.656583 L 94.193659 139.715344 L 94.221081 139.723179 L 94.221081 139.922966 L 94.546225 139.934718 L 94.546225 139.977809 L 94.601069 139.985644 L 94.601069 140.114918 L 94.655912 140.122753 L 94.655912 140.271614 L 94.683334 140.279449 L 94.683334 140.479236 L 94.738178 140.490989 L 94.738178 140.620263 L 94.820443 140.628098 L 94.820443 140.671189 L 95.635262 140.679024 L 95.635262 140.706446 L 96.093598 140.71428 L 96.093598 141.019837 L 96.148441 141.027672 L 96.148441 141.090351 L 96.175863 141.098185 L 96.175863 141.717134 L 96.230707 141.724969 L 96.230707 141.854243 L 96.258128 141.862078 L 96.258128 142.167635 L 96.555851 142.17547 L 96.555851 142.273405 L 96.610694 142.28124 L 96.610694 142.340001 L 96.638116 142.351753 L 96.638116 142.622053 L 96.69296 142.629888 L 96.69296 142.931528 L 96.720381 142.94328 L 96.720381 143.24492 L 96.775225 143.256672 L 96.775225 143.456459 L 96.853573 143.464294 L 96.853573 143.491716 L 98.185488 143.499551 L 98.185488 143.628825 L 98.267754 143.63666 L 98.267754 143.836447 L 98.565476 143.848199 L 98.565476 143.856034 L 98.647741 143.863869 L 98.647741 143.993143 L 98.726089 144.000978 L 98.726089 144.463231 L 98.808355 144.471065 L 98.808355 144.604257 L 98.89062 144.612092 L 98.89062 144.619927 L 99.928731 144.627761 L 99.928731 144.655183 L 99.979657 144.663018 L 99.979657 144.725696 L 100.44191 144.733531 L 100.44191 144.882392 L 100.496754 144.890227 L 100.496754 145.019501 L 100.579019 145.027336 L 100.579019 145.090014 L 100.959007 145.097849 L 100.959007 145.125271 L 101.934439 145.133106 L 101.934439 145.332893 L 101.989282 145.340728 L 101.989282 145.438663 L 102.016704 145.446498 L 102.016704 145.575772 L 102.396692 145.587524 L 102.396692 145.787311 L 102.451535 145.795146 L 102.451535 146.096786 L 102.478957 146.108538 L 102.478957 146.410178 L 102.506379 146.42193 L 102.506379 146.480691 L 102.533801 146.488526 L 102.533801 146.758826 L 102.588644 146.766661 L 102.588644 146.864596 L 102.616066 146.872431 L 102.616066 146.966448 L 102.913788 146.9782 L 102.913788 147.001705 L 102.996054 147.013457 L 102.996054 147.072218 L 103.944064 147.080053 L 103.944064 147.177988 L 104.02633 147.185823 L 104.02633 147.38561 L 104.406317 147.393445 L 104.406317 147.526636 L 104.461161 147.534471 L 104.461161 147.577562 L 104.488583 147.585397 L 104.488583 148.204346 L 104.539509 148.212181 L 104.539509 148.341455 L 104.566931 148.34929 L 104.566931 148.760617 L 104.621774 148.768452 L 104.621774 148.917313 L 104.649196 148.925148 L 104.649196 148.987826 L 104.946918 148.995661 L 104.946918 149.054422 L 105.029184 149.062256 L 105.029184 149.160191 L 106.337595 149.168026 L 106.337595 149.211118 L 106.494291 149.218952 L 106.494291 149.316887 L 106.576556 149.324722 L 106.576556 149.52451 L 106.658821 149.532344 L 106.658821 149.630279 L 107.77528 149.638114 L 107.77528 149.665536 L 108.237533 149.673371 L 108.237533 149.767388 L 108.292377 149.77914 L 108.292377 149.978928 L 108.34722 149.986763 L 108.34722 150.08078 L 108.374642 150.088615 L 108.374642 150.18655 L 108.75463 150.194385 L 108.75463 150.257063 L 108.809473 150.264898 L 108.809473 150.358915 L 108.887821 150.36675 L 108.887821 150.429429 L 109.784905 150.437263 L 109.784905 150.499942 L 110.247158 150.507777 L 110.247158 150.97003 L 110.302002 150.977864 L 110.302002 151.107139 L 110.329424 151.114973 L 110.329424 151.5263 L 110.352928 151.534135 L 110.352928 151.54197 L 110.38035 151.549805 L 110.38035 151.749592 L 110.407772 151.761344 L 110.407772 151.906288 L 110.709411 151.91804 L 110.709411 151.976801 L 110.760338 151.984636 L 110.760338 152.082571 L 110.787759 152.090406 L 110.787759 152.21968 L 110.842603 152.231432 L 110.842603 152.431219 L 110.924868 152.439054 L 110.924868 152.533072 L 112.252866 152.540906 L 112.252866 152.638841 L 112.335132 152.646676 L 112.335132 152.916977 L 112.389975 152.924811 L 112.389975 152.952233 L 112.417397 152.960068 L 112.417397 153.265625 L 112.715119 153.27346 L 112.715119 153.300882 L 112.797385 153.308716 L 112.797385 153.508504 L 112.87965 153.516339 L 112.87965 153.821896 L 112.961916 153.82973 L 112.961916 153.892409 L 114.133218 153.900244 L 114.133218 153.923748 L 114.427023 153.9355 L 114.427023 153.978592 L 114.650314 153.986426 L 114.650314 154.049105 L 116.088 154.05694 L 116.088 154.186214 L 116.142843 154.194049 L 116.142843 154.34291 L 116.166348 154.350744 L 116.166348 154.413423 L 116.546335 154.421258 L 116.546335 154.515275 L 116.601179 154.527027 L 116.601179 154.726815 L 116.656022 154.73465 L 116.656022 154.828667 L 116.683444 154.840419 L 116.683444 154.969693 L 116.738288 154.977528 L 116.738288 155.040207 L 117.063432 155.048041 L 117.063432 155.055876 L 118.093708 155.063711 L 118.093708 155.263498 L 118.148551 155.27525 L 118.148551 155.298755 L 118.175973 155.30659 L 118.175973 155.612147 L 118.555961 155.619982 L 118.555961 155.819769 L 118.610804 155.831521 L 118.610804 155.925539 L 118.638226 155.933373 L 118.638226 156.3447 L 118.69307 156.352535 L 118.69307 156.552322 L 118.720491 156.560157 L 118.720491 156.759945 L 118.775335 156.767779 L 118.775335 156.865714 L 119.100479 156.873549 L 119.100479 156.900971 L 120.185598 156.908806 L 120.185598 156.967567 L 120.565586 156.979319 L 120.565586 157.002823 L 120.647851 157.014575 L 120.647851 157.214363 L 120.726199 157.222198 L 120.726199 157.523837 L 120.808465 157.535589 L 120.808465 157.59435 L 121.928841 157.602185 L 121.928841 157.613937 L 122.44202 157.621772 L 122.44202 157.71579 L 122.496863 157.727542 L 122.496863 157.786303 L 122.959116 157.794138 L 122.959116 157.837229 L 123.934549 157.848981 L 123.934549 157.942999 L 124.396802 157.950834 L 124.396802 158.256391 L 124.451645 158.264226 L 124.451645 158.464013 L 124.479067 158.471848 L 124.479067 158.675552 L 124.506489 158.683387 L 124.506489 158.706892 L 124.533911 158.718644 L 124.533911 158.847918 L 124.859055 158.855753 L 124.859055 158.883175 L 124.913898 158.891009 L 124.913898 158.953688 L 124.996164 158.961522 L 124.996164 159.05554 L 125.944174 159.063375 L 125.944174 159.110384 L 126.406427 159.118218 L 126.406427 159.318006 L 126.461271 159.325841 L 126.461271 159.353262 L 126.488693 159.361097 L 126.488693 159.768507 L 126.543536 159.776341 L 126.543536 159.83902 L 126.567041 159.846855 L 126.567041 160.046642 L 126.86868 160.054477 L 126.86868 160.101485 L 126.947028 160.10932 L 126.947028 160.238594 L 127.029294 160.246429 L 127.029294 160.39529 L 128.494401 160.403125 L 128.494401 160.465803 L 128.576666 160.473638 L 128.576666 160.567656 L 130.237643 160.579408 L 130.237643 160.638169 L 130.292486 160.646004 L 130.292486 160.743939 L 130.754739 160.751774 L 130.754739 160.849709 L 130.809583 160.857543 L 130.809583 160.916304 L 130.887931 160.924139 L 130.887931 160.951561 L 132.247268 160.959396 L 132.247268 161.264953 L 132.302112 161.272788 L 132.302112 161.335466 L 132.329534 161.343301 L 132.329534 161.543088 L 132.709521 161.550923 L 132.709521 161.684114 L 132.760448 161.691949 L 132.760448 161.84081 L 132.787869 161.848645 L 132.787869 162.048432 L 132.842713 162.056267 L 132.842713 162.185541 L 132.924978 162.197294 L 132.924978 162.240385 L 134.256894 162.24822 L 134.256894 162.306981 L 134.335242 162.318733 L 134.335242 162.448007 L 134.715229 162.455842 L 134.715229 162.51852 L 134.797495 162.526355 L 134.797495 162.831912 L 134.87976 162.839747 L 134.87976 163.039534 L 134.962025 163.047369 L 134.962025 163.074791 L 136.650424 163.082626 L 136.650424 163.110047 L 138.088109 163.117882 L 138.088109 163.176643 L 138.550362 163.188395 L 138.550362 163.333339 L 138.601289 163.345091 L 138.601289 163.474366 L 138.656132 163.4822 L 138.656132 163.525292 L 138.683554 163.533127 L 138.683554 163.595805 L 139.063542 163.60364 L 139.063542 163.631061 L 140.093817 163.638896 L 140.093817 163.736831 L 140.556071 163.744666 L 140.556071 164.046306 L 140.610914 164.058058 L 140.610914 164.116819 L 140.638336 164.124654 L 140.638336 164.394954 L 140.693179 164.402789 L 140.693179 164.500724 L 140.720601 164.508559 L 140.720601 164.606494 L 141.018324 164.614328 L 141.018324 164.637833 L 141.100589 164.649585 L 141.100589 164.708346 L 142.565696 164.716181 L 142.565696 164.759272 L 142.647961 164.771024 L 142.647961 164.900299 L 142.730227 164.908133 L 142.730227 165.056995 L 144.44213 165.064829 L 144.44213 165.107921 L 144.959226 165.115755 L 144.959226 165.143177 L 146.396912 165.151012 L 146.396912 165.350799 L 146.451755 165.362552 L 146.451755 165.456569 L 146.479177 165.464404 L 146.479177 165.562339 L 146.859165 165.570174 L 146.859165 165.628935 L 146.914008 165.640687 L 146.914008 165.734704 L 146.996274 165.742539 L 146.996274 165.805218 L 148.406537 165.813052 L 148.406537 165.942327 L 148.461381 165.954079 L 148.461381 165.961914 L 148.488802 165.969748 L 148.488802 166.169536 L 148.86879 166.17737 L 148.86879 166.275305 L 148.951055 166.28314 L 148.951055 166.482928 L 149.029403 166.490762 L 149.029403 166.588697 L 150.49451 166.596532 L 150.49451 166.623954 L 152.237753 166.631789 L 152.237753 166.655293 L 152.754849 166.667045 L 152.754849 166.725806 L 152.809693 166.733641 L 152.809693 166.761063 L 154.247378 166.768898 L 154.247378 166.917759 L 154.709631 166.925594 L 154.709631 167.125381 L 154.764475 167.137133 L 154.764475 167.231151 L 154.787979 167.238985 L 154.787979 167.36826 L 154.842823 167.380012 L 154.842823 167.438773 L 155.167967 167.446608 L 155.167967 167.45836 L 156.257004 167.466195 L 156.257004 167.493616 L 156.715339 167.501451 L 156.715339 167.595469 L 156.797605 167.603304 L 156.797605 167.803091 L 156.87987 167.814843 L 156.87987 167.908861 L 160.550472 167.916695 L 160.550472 168.01463 L 160.601399 168.022465 L 160.601399 168.081226 L 161.063652 168.092978 L 161.063652 168.13607 L 162.55618 168.143905 L 162.55618 168.343692 L 162.611024 168.351527 L 162.611024 168.378948 L 162.638446 168.386783 L 162.638446 168.516057 L 163.018433 168.52781 L 163.018433 168.586571 L 163.100699 168.594405 L 163.100699 168.69234 L 164.565806 168.700175 L 164.565806 168.727597 L 164.648071 168.735432 L 164.648071 168.79811 L 166.959336 168.805945 L 166.959336 168.81378 L 168.397022 168.821614 L 168.397022 168.919549 L 168.859275 168.927384 L 168.859275 169.021402 L 168.914118 169.029237 L 168.914118 169.091915 L 168.996384 169.09975 L 168.996384 169.127172 L 170.406647 169.135006 L 170.406647 169.197685 L 170.8689 169.20552 L 170.8689 169.354381 L 170.951165 169.362215 L 170.951165 169.49149 L 171.029513 169.499324 L 171.029513 169.542416 L 174.754959 169.554168 L 174.754959 169.577672 L 176.709741 169.589425 L 176.709741 169.718699 L 176.764585 169.726534 L 176.764585 169.769625 L 176.792007 169.77746 L 176.792007 169.840138 L 177.171994 169.847973 L 177.171994 169.875395 L 178.715449 169.883229 L 178.715449 169.945908 L 178.797715 169.953743 L 178.797715 170.04776 L 182.550582 170.055595 L 182.550582 170.102604 L 183.063761 170.110439 L 183.063761 170.133943 L 184.55629 170.145695 L 184.55629 170.239713 L 185.018543 170.247548 L 185.018543 170.345482 L 185.100809 170.353317 L 185.100809 170.412078 L 186.565916 170.42383 L 186.565916 170.431665 L 190.859384 170.4395 L 190.859384 170.502178 L 190.914228 170.510013 L 190.914228 170.537435 L 192.86901 170.54527 L 192.86901 170.639287 L 192.951275 170.647122 L 192.951275 170.709801 L 198.709851 170.717635 L 198.709851 170.780314 L 199.172104 170.788149 L 199.172104 170.83124 L 200.715559 170.839075 L 200.715559 170.866496 L 205.063871 170.874331 L 205.063871 170.882166 L 207.018653 170.893918 L 207.018653 170.952679 L 207.100919 170.960514 L 207.100919 170.987936 L 212.859494 170.995771 L 212.859494 171.023192 L 214.86912 171.031027 L 214.86912 171.074119 L 221.172214 171.081953 L 221.172214 171.109375 L 229.018763 171.11721 L 229.018763 171.144632 L 243.172324 171.152467 L 243.172324 171.160301 \" transform=\"matrix(0.997154,0,0,-0.997154,37.699405,177.923198)\"/>\n",
       "<path style=\"fill:none;stroke-width:1.19553;stroke-linecap:butt;stroke-linejoin:miter;stroke:rgb(73.33374%,73.33374%,73.33374%);stroke-opacity:1;stroke-miterlimit:10;\" d=\"M -0.000187204 0.00132667 L -0.000187204 0.232453 L 0.117335 0.236371 L 0.117335 0.334306 L 0.152591 0.338223 L 0.152591 0.35781 L 0.176096 0.361727 L 0.176096 0.451827 L 0.180013 0.455745 L 0.180013 0.487084 L 0.211352 0.491001 L 0.211352 0.498836 L 0.293618 0.502754 L 0.293618 0.545845 L 0.328874 0.549762 L 0.328874 0.635945 L 0.332792 0.639863 L 0.332792 0.647697 L 0.352379 0.651615 L 0.352379 0.655532 L 0.391553 0.65945 L 0.391553 0.679037 L 0.446396 0.682954 L 0.446396 0.816146 L 0.450314 0.820063 L 0.450314 0.851402 L 0.473818 0.85532 L 0.473818 0.874907 L 0.509075 0.878824 L 0.509075 1.015933 L 0.622679 1.015933 L 0.622679 1.117785 L 0.626597 1.121703 L 0.626597 1.188298 L 0.685358 1.192216 L 0.685358 1.50169 L 0.740201 1.505608 L 0.740201 1.572203 L 0.802879 1.572203 L 0.802879 1.779826 L 0.838136 1.783743 L 0.838136 1.815082 L 0.86164 1.819 L 0.86164 1.862091 L 0.955658 1.862091 L 0.955658 1.936522 L 0.979162 1.940439 L 0.979162 2.007035 L 1.014419 2.007035 L 1.014419 2.054043 L 1.018336 2.054043 L 1.018336 2.069713 L 1.07318 2.07363 L 1.07318 2.10497 L 1.131941 2.108887 L 1.131941 2.265583 L 1.135858 2.2695 L 1.135858 2.277335 L 1.194619 2.281253 L 1.194619 2.371353 L 1.249463 2.37527 L 1.249463 2.508462 L 1.304306 2.512379 L 1.304306 2.563305 L 1.312141 2.567223 L 1.312141 2.700414 L 1.370902 2.704332 L 1.370902 2.85711 L 1.425746 2.861028 L 1.425746 2.96288 L 1.488424 2.966797 L 1.488424 3.276272 L 1.523681 3.280189 L 1.523681 3.299776 L 1.543268 3.299776 L 1.543268 3.315446 L 1.605946 3.319363 L 1.605946 3.370289 L 1.637285 3.370289 L 1.637285 3.425133 L 1.641203 3.42905 L 1.641203 3.472142 L 1.664707 3.476059 L 1.664707 3.519151 L 1.699964 3.523068 L 1.699964 3.542655 L 1.703881 3.546572 L 1.703881 3.554407 L 1.758725 3.558324 L 1.758725 3.62492 L 1.813568 3.62492 L 1.813568 3.668012 L 1.817486 3.671929 L 1.817486 3.773781 L 1.821403 3.777699 L 1.821403 3.797286 L 1.93109 3.801203 L 1.93109 4.004908 L 1.935008 4.008825 L 1.935008 4.028412 L 1.997686 4.03233 L 1.997686 4.239952 L 2.05253 4.239952 L 2.05253 4.283043 L 2.107373 4.286961 L 2.107373 4.353556 L 2.115208 4.357474 L 2.115208 4.400565 L 2.146547 4.404483 L 2.146547 4.435822 L 2.209226 4.439739 L 2.209226 4.447574 L 2.228813 4.451491 L 2.228813 4.482831 L 2.260152 4.482831 L 2.260152 4.486748 L 2.264069 4.490665 L 2.264069 4.69437 L 2.291491 4.698287 L 2.291491 4.80014 L 2.32283 4.804057 L 2.32283 4.819727 L 2.326747 4.819727 L 2.326747 4.886323 L 2.440352 4.89024 L 2.440352 5.062606 L 2.444269 5.062606 L 2.444269 5.097862 L 2.50303 5.097862 L 2.50303 5.164458 L 2.557874 5.168375 L 2.557874 5.262393 L 2.616635 5.26631 L 2.616635 5.403419 L 2.620552 5.407337 L 2.620552 5.450428 L 2.62447 5.454345 L 2.62447 5.466098 L 2.734157 5.470015 L 2.734157 5.560115 L 2.773331 5.564033 L 2.773331 5.665885 L 2.792918 5.665885 L 2.792918 5.697224 L 2.890853 5.701141 L 2.890853 5.767737 L 2.91044 5.771655 L 2.91044 5.822581 L 2.949614 5.822581 L 2.949614 5.95969 L 3.012292 5.963607 L 3.012292 6.006699 L 3.063218 6.010616 L 3.063218 6.030203 L 3.067136 6.03412 L 3.067136 6.237825 L 3.125897 6.241742 L 3.125897 6.343595 L 3.129814 6.343595 L 3.129814 6.410191 L 3.18074 6.414108 L 3.18074 6.445447 L 3.188575 6.449365 L 3.188575 6.480704 L 3.243419 6.484621 L 3.243419 6.656987 L 3.30218 6.656987 L 3.30218 6.723582 L 3.306097 6.7275 L 3.306097 6.794096 L 3.360941 6.798013 L 3.360941 6.805848 L 3.400115 6.809765 L 3.400115 6.8176 L 3.419702 6.821517 L 3.419702 6.958626 L 3.423619 6.958626 L 3.423619 6.970379 L 3.458876 6.970379 L 3.458876 7.036974 L 3.537224 7.040892 L 3.537224 7.060479 L 3.576398 7.064396 L 3.576398 7.201505 L 3.595985 7.201505 L 3.595985 7.236762 L 3.635159 7.236762 L 3.635159 7.303357 L 3.748763 7.307275 L 3.748763 7.31511 L 3.752681 7.319027 L 3.752681 7.628502 L 3.811442 7.632419 L 3.811442 7.663758 L 3.815359 7.667676 L 3.815359 7.769528 L 3.866285 7.773445 L 3.866285 7.820454 L 3.870203 7.824371 L 3.870203 7.890967 L 3.928963 7.894885 L 3.928963 8.094672 L 3.932881 8.094672 L 3.932881 8.118176 L 3.983807 8.118176 L 3.983807 8.129929 L 4.046485 8.129929 L 4.046485 8.184772 L 4.077825 8.18869 L 4.077825 8.220029 L 4.085659 8.223946 L 4.085659 8.243533 L 4.105246 8.24745 L 4.105246 8.337551 L 4.109164 8.341468 L 4.109164 8.361055 L 4.140503 8.361055 L 4.140503 8.396312 L 4.222768 8.396312 L 4.222768 8.439403 L 4.261942 8.44332 L 4.261942 8.650943 L 4.37163 8.650943 L 4.37163 8.721456 L 4.379464 8.721456 L 4.379464 8.823308 L 4.434308 8.827225 L 4.434308 9.03093 L 4.55183 9.034848 L 4.55183 9.066187 L 4.555747 9.070104 L 4.555747 9.207213 L 4.591004 9.211131 L 4.591004 9.222883 L 4.610591 9.2268 L 4.610591 9.246387 L 4.669352 9.250305 L 4.669352 9.269891 L 4.704608 9.273809 L 4.704608 9.375661 L 4.708526 9.375661 L 4.708526 9.387413 L 4.73203 9.387413 L 4.73203 9.489266 L 4.767287 9.493183 L 4.767287 9.524522 L 4.880891 9.52844 L 4.880891 9.665549 L 4.888726 9.665549 L 4.888726 9.689053 L 4.94357 9.689053 L 4.94357 9.826162 L 4.998413 9.830079 L 4.998413 10.033784 L 5.057174 10.037702 L 5.057174 10.069041 L 5.061092 10.072958 L 5.061092 10.28058 L 5.119853 10.28058 L 5.119853 10.382433 L 5.174696 10.38635 L 5.174696 10.452946 L 5.237375 10.456863 L 5.237375 10.680155 L 5.276549 10.680155 L 5.276549 10.691907 L 5.292218 10.691907 L 5.292218 10.703659 L 5.331392 10.703659 L 5.331392 10.715412 L 5.354897 10.715412 L 5.354897 10.746751 L 5.358814 10.750668 L 5.358814 10.782007 L 5.390153 10.785925 L 5.390153 10.85252 L 5.394071 10.856438 L 5.394071 10.876025 L 5.413658 10.879942 L 5.413658 10.899529 L 5.452831 10.903447 L 5.452831 10.923034 L 5.472418 10.926951 L 5.507675 10.930868 L 5.507675 11.067977 L 5.566436 11.071895 L 5.566436 11.138491 L 5.570353 11.138491 L 5.570353 11.181582 L 5.629114 11.185499 L 5.629114 11.252095 L 5.683958 11.256013 L 5.683958 11.565487 L 5.746636 11.569404 L 5.746636 11.878879 L 5.80148 11.882796 L 5.80148 11.949392 L 5.860241 11.953309 L 5.860241 11.996401 L 5.864158 11.996401 L 5.864158 12.062997 L 5.895498 12.066914 L 5.895498 12.082584 L 5.922919 12.086501 L 5.922919 12.219693 L 5.962093 12.22361 L 5.962093 12.227527 L 5.977763 12.231445 L 5.977763 12.251032 L 6.016937 12.254949 L 6.016937 12.274536 L 6.040441 12.274536 L 6.040441 12.364636 L 6.075698 12.368554 L 6.075698 12.399893 L 6.079615 12.40381 L 6.079615 12.435149 L 6.157963 12.439067 L 6.157963 12.446902 L 6.19322 12.450819 L 6.19322 12.654524 L 6.197137 12.658441 L 6.197137 12.674111 L 6.255898 12.678028 L 6.255898 12.744624 L 6.310742 12.744624 L 6.310742 12.846476 L 6.369503 12.850394 L 6.369503 13.058016 L 6.37342 13.058016 L 6.37342 13.089355 L 6.487025 13.093272 L 6.487025 13.230381 L 6.522281 13.234299 L 6.522281 13.300895 L 6.545786 13.300895 L 6.545786 13.324399 L 6.549703 13.324399 L 6.549703 13.461508 L 6.663308 13.465425 L 6.663308 13.496764 L 6.698564 13.500682 L 6.698564 13.567278 L 6.702482 13.567278 L 6.702482 13.602534 L 6.76516 13.602534 L 6.76516 13.626039 L 6.816086 13.626039 L 6.816086 13.7749 L 6.820004 13.778817 L 6.820004 13.798404 L 6.843508 13.802322 L 6.843508 13.814074 L 6.878765 13.817991 L 6.878765 13.9551 L 6.882682 13.959017 L 6.882682 13.990357 L 6.996286 13.994274 L 6.996286 14.197979 L 7.055047 14.201896 L 7.055047 14.303749 L 7.149065 14.303749 L 7.149065 14.319418 L 7.172569 14.323336 L 7.172569 14.52704 L 7.207826 14.530958 L 7.207826 14.574049 L 7.290091 14.577966 L 7.290091 14.609306 L 7.321431 14.613223 L 7.321431 14.63281 L 7.325348 14.636727 L 7.325348 14.726828 L 7.348852 14.726828 L 7.348852 14.750332 L 7.384109 14.750332 L 7.384109 14.785589 L 7.388026 14.785589 L 7.388026 14.805176 L 7.44287 14.809093 L 7.44287 14.852184 L 7.446787 14.856102 L 7.446787 14.863937 L 7.497713 14.867854 L 7.497713 14.887441 L 7.501631 14.891358 L 7.501631 15.044137 L 7.505548 15.048054 L 7.505548 15.091146 L 7.564309 15.095063 L 7.564309 15.161659 L 7.568227 15.161659 L 7.568227 15.212585 L 7.619153 15.216502 L 7.619153 15.353611 L 7.681831 15.353611 L 7.681831 15.663086 L 7.685749 15.667003 L 7.685749 15.674838 L 7.736675 15.678755 L 7.736675 15.698342 L 7.799353 15.70226 L 7.799353 15.768856 L 7.83461 15.772773 L 7.83461 15.804112 L 7.858114 15.80803 L 7.858114 15.945139 L 7.893371 15.945139 L 7.893371 15.964726 L 7.975636 15.968643 L 7.975636 16.035239 L 8.006975 16.039156 L 8.006975 16.046991 L 8.010893 16.050908 L 8.010893 16.188017 L 8.034397 16.188017 L 8.034397 16.199769 L 8.073571 16.199769 L 8.073571 16.211522 L 8.124497 16.211522 L 8.124497 16.278117 L 8.128415 16.282035 L 8.128415 16.348631 L 8.187176 16.352548 L 8.187176 16.4544 L 8.191093 16.458318 L 8.191093 16.524913 L 8.245937 16.524913 L 8.245937 16.556253 L 8.30078 16.56017 L 8.30078 16.626766 L 8.304698 16.630683 L 8.304698 16.697279 L 8.308615 16.701196 L 8.308615 16.732536 L 8.367376 16.736453 L 8.367376 16.963662 L 8.418302 16.96758 L 8.418302 17.010671 L 8.484898 17.014588 L 8.484898 17.14778 L 8.520155 17.151697 L 8.520155 17.202623 L 8.633759 17.202623 L 8.633759 17.292724 L 8.637676 17.296641 L 8.637676 17.32798 L 8.661181 17.331898 L 8.661181 17.43375 L 8.696437 17.437667 L 8.696437 17.527768 L 8.810042 17.527768 L 8.810042 17.590446 L 8.813959 17.594363 L 8.813959 17.727555 L 8.87272 17.731472 L 8.87272 17.782398 L 8.927564 17.782398 L 8.927564 17.884251 L 8.986325 17.888168 L 8.986325 17.919507 L 8.990242 17.923425 L 8.990242 18.025277 L 8.99416 18.029195 L 8.99416 18.09579 L 9.103847 18.09579 L 9.103847 18.162386 L 9.107764 18.166303 L 9.107764 18.181973 L 9.143021 18.18589 L 9.143021 18.283825 L 9.205699 18.287743 L 9.205699 18.319082 L 9.221369 18.322999 L 9.221369 18.330834 L 9.260543 18.334752 L 9.260543 18.542374 L 9.287965 18.542374 L 9.287965 18.573713 L 9.319304 18.57763 L 9.319304 18.620722 L 9.323221 18.624639 L 9.323221 18.691235 L 9.381982 18.695152 L 9.381982 18.738244 L 9.436826 18.742161 L 9.436826 18.945866 L 9.495587 18.949783 L 9.495587 18.96937 L 9.499504 18.973288 L 9.499504 19.176992 L 9.554348 19.18091 L 9.554348 19.224001 L 9.613109 19.227918 L 9.613109 19.353275 L 9.617026 19.353275 L 9.617026 19.400284 L 9.675787 19.400284 L 9.675787 19.46688 L 9.730631 19.470797 L 9.730631 19.502136 L 9.769805 19.506054 L 9.769805 19.549145 L 9.789392 19.553063 L 9.789392 19.596154 L 9.793309 19.600071 L 9.793309 19.63141 L 9.824648 19.635328 L 9.824648 19.682337 L 9.891244 19.686254 L 9.891244 19.701924 L 9.906914 19.701924 L 9.906914 19.721511 L 9.946088 19.725428 L 9.946088 20.034903 L 10.008766 20.03882 L 10.008766 20.140672 L 10.06361 20.14459 L 10.06361 20.297368 L 10.12237 20.301286 L 10.12237 20.434477 L 10.126288 20.438395 L 10.126288 20.489321 L 10.185049 20.493238 L 10.185049 20.62643 L 10.239892 20.630347 L 10.239892 20.720447 L 10.294736 20.724365 L 10.294736 20.732199 L 10.298653 20.736117 L 10.298653 20.802713 L 10.302571 20.802713 L 10.302571 20.892813 L 10.416175 20.89673 L 10.416175 20.959409 L 10.451432 20.959409 L 10.451432 21.026004 L 10.474936 21.029922 L 10.474936 21.049509 L 10.478854 21.053426 L 10.478854 21.104352 L 10.572871 21.104352 L 10.572871 21.151361 L 10.592458 21.151361 L 10.592458 21.1827 L 10.627715 21.186618 L 10.627715 21.39424 L 10.749154 21.39424 L 10.749154 21.707632 L 10.803998 21.707632 L 10.803998 21.774227 L 10.811833 21.778145 L 10.811833 21.879997 L 10.92152 21.883915 L 10.92152 22.021024 L 10.960694 22.021024 L 10.960694 22.040611 L 11.042959 22.044528 L 11.042959 22.064115 L 11.074298 22.068032 L 11.074298 22.111124 L 11.078216 22.115041 L 11.078216 22.165967 L 11.097803 22.165967 L 11.097803 22.173802 L 11.10172 22.17772 L 11.10172 22.244315 L 11.105638 22.248233 L 11.105638 22.26782 L 11.136977 22.271737 L 11.136977 22.314828 L 11.219242 22.318746 L 11.219242 22.326581 L 11.250581 22.330498 L 11.250581 22.361837 L 11.254499 22.365755 L 11.254499 22.455855 L 11.31326 22.455855 L 11.31326 22.557707 L 11.368103 22.561625 L 11.368103 22.714403 L 11.430782 22.71832 L 11.430782 23.184491 L 11.548304 23.188408 L 11.548304 23.290261 L 11.587478 23.290261 L 11.587478 23.313765 L 11.607065 23.313765 L 11.607065 23.403865 L 11.646238 23.407783 L 11.646238 23.415617 L 11.701082 23.419535 L 11.701082 23.450874 L 11.724586 23.454791 L 11.724586 23.497883 L 11.759843 23.5018 L 11.759843 23.521387 L 11.76376 23.525305 L 11.76376 23.603653 L 11.783347 23.603653 L 11.783347 23.60757 L 11.822521 23.611487 L 11.822521 23.631074 L 11.877365 23.634992 L 11.877365 23.768183 L 11.881282 23.772101 L 11.881282 23.80344 L 11.940043 23.807357 L 11.940043 23.944466 L 11.994887 23.948384 L 11.994887 24.014979 L 12.053648 24.014979 L 12.053648 24.116832 L 12.057565 24.120749 L 12.057565 24.187345 L 12.116326 24.191262 L 12.116326 24.500737 L 12.17117 24.504654 L 12.17117 24.57125 L 12.233848 24.57125 L 12.233848 24.778872 L 12.273022 24.78279 L 12.273022 24.814129 L 12.292609 24.818046 L 12.292609 24.861137 L 12.386627 24.861137 L 12.386627 24.912064 L 12.390544 24.915981 L 12.390544 24.935568 L 12.410131 24.939485 L 12.410131 25.006081 L 12.449305 25.006081 L 12.449305 25.06876 L 12.504149 25.072677 L 12.504149 25.104016 L 12.56291 25.107934 L 12.56291 25.198034 L 12.566827 25.198034 L 12.566827 25.276382 L 12.625588 25.280299 L 12.625588 25.370399 L 12.680432 25.374317 L 12.680432 25.507508 L 12.739193 25.511426 L 12.739193 25.562352 L 12.74311 25.566269 L 12.74311 25.699461 L 12.856715 25.703378 L 12.856715 25.805231 L 12.891971 25.809148 L 12.891971 25.875744 L 12.919393 25.875744 L 12.919393 26.189136 L 12.95465 26.189136 L 12.95465 26.21264 L 12.974237 26.21264 L 12.974237 26.22831 L 13.036915 26.232227 L 13.036915 26.279236 L 13.068254 26.283153 L 13.068254 26.30274 L 13.072172 26.306658 L 13.072172 26.337997 L 13.076089 26.341914 L 13.076089 26.385005 L 13.130933 26.388923 L 13.130933 26.40851 L 13.185776 26.412427 L 13.185776 26.510362 L 13.189694 26.51428 L 13.189694 26.580875 L 13.248454 26.584793 L 13.248454 26.627884 L 13.252372 26.631802 L 13.252372 26.757158 L 13.365976 26.757158 L 13.365976 26.96478 L 13.369894 26.968698 L 13.369894 26.988285 L 13.483498 26.992202 L 13.483498 27.035294 L 13.518755 27.035294 L 13.518755 27.101889 L 13.542259 27.105807 L 13.542259 27.172403 L 13.546177 27.17632 L 13.546177 27.219411 L 13.577516 27.223329 L 13.577516 27.254668 L 13.640194 27.258585 L 13.640194 27.26642 L 13.659781 27.270338 L 13.659781 27.301677 L 13.691121 27.305594 L 13.695038 27.309512 L 13.695038 27.517134 L 13.757716 27.517134 L 13.757716 27.603316 L 13.808642 27.603316 L 13.808642 27.638573 L 13.81256 27.638573 L 13.81256 27.740425 L 13.871321 27.744343 L 13.871321 27.810939 L 13.875238 27.814856 L 13.875238 27.916708 L 13.879156 27.916708 L 13.879156 27.951965 L 13.933999 27.951965 L 13.933999 28.018561 L 13.988843 28.022478 L 13.988843 28.065569 L 13.99276 28.069487 L 13.99276 28.116496 L 14.051521 28.120413 L 14.051521 28.257522 L 14.055439 28.261439 L 14.055439 28.304531 L 14.169043 28.308448 L 14.169043 28.394631 L 14.2043 28.398548 L 14.2043 28.500401 L 14.227804 28.504318 L 14.227804 28.535657 L 14.321822 28.539575 L 14.321822 28.60617 L 14.345326 28.60617 L 14.345326 28.657097 L 14.380583 28.661014 L 14.380583 28.798123 L 14.443261 28.798123 L 14.443261 28.841214 L 14.494187 28.845132 L 14.494187 28.864719 L 14.498105 28.868636 L 14.498105 29.076258 L 14.556866 29.076258 L 14.556866 29.111515 L 14.560783 29.111515 L 14.560783 29.248624 L 14.611709 29.252541 L 14.611709 29.28388 L 14.674388 29.287798 L 14.674388 29.354394 L 14.678305 29.354394 L 14.678305 29.456246 L 14.737066 29.460163 L 14.737066 29.597272 L 14.791909 29.60119 L 14.791909 29.609024 L 14.831083 29.612942 L 14.831083 29.620777 L 14.854588 29.620777 L 14.854588 29.769638 L 14.889844 29.773555 L 14.889844 29.840151 L 14.97211 29.844068 L 14.97211 29.863655 L 15.003449 29.867573 L 15.003449 29.88716 L 15.007366 29.891077 L 15.007366 30.024269 L 15.030871 30.028186 L 15.030871 30.059525 L 15.066127 30.063443 L 15.066127 30.130038 L 15.179732 30.133956 L 15.179732 30.141791 L 15.183649 30.145708 L 15.183649 30.455183 L 15.297254 30.4591 L 15.297254 30.506109 L 15.301171 30.510026 L 15.301171 30.576622 L 15.336428 30.580539 L 15.336428 30.588374 L 15.359932 30.592291 L 15.359932 30.635383 L 15.36385 30.635383 L 15.36385 30.815583 L 15.414776 30.815583 L 15.414776 30.827335 L 15.477454 30.827335 L 15.477454 30.846922 L 15.481372 30.85084 L 15.481372 30.882179 L 15.512711 30.886096 L 15.512711 30.917436 L 15.516628 30.921353 L 15.516628 30.94094 L 15.575389 30.944857 L 15.575389 30.976197 L 15.630233 30.980114 L 15.630233 31.183819 L 15.657655 31.187736 L 15.657655 31.230827 L 15.692911 31.234745 L 15.692911 31.43845 L 15.806516 31.442367 L 15.806516 31.508963 L 15.810433 31.51288 L 15.810433 31.614732 L 15.869194 31.61865 L 15.869194 31.822355 L 15.924038 31.826272 L 15.924038 31.869363 L 15.982799 31.873281 L 15.982799 31.90462 L 15.986716 31.908537 L 15.986716 32.041729 L 16.021973 32.045646 L 16.021973 32.061316 L 16.045477 32.065233 L 16.045477 32.08482 L 16.100321 32.08482 L 16.100321 32.108325 L 16.139495 32.108325 L 16.139495 32.221929 L 16.162999 32.225847 L 16.162999 32.257186 L 16.202173 32.261103 L 16.202173 32.292442 L 16.257017 32.29636 L 16.257017 32.362956 L 16.31186 32.366873 L 16.31186 32.500065 L 16.319695 32.503982 L 16.319695 32.523569 L 16.378456 32.527486 L 16.378456 32.664595 L 16.433299 32.664595 L 16.433299 32.872217 L 16.488143 32.876135 L 16.488143 32.907474 L 16.495978 32.911391 L 16.495978 33.115096 L 16.554739 33.119013 L 16.554739 33.220866 L 16.609582 33.224783 L 16.609582 33.291379 L 16.668343 33.291379 L 16.668343 33.307049 L 16.672261 33.310966 L 16.672261 33.514671 L 16.707517 33.518588 L 16.707517 33.526423 L 16.727104 33.53034 L 16.727104 33.538175 L 16.766278 33.542093 L 16.766278 33.549927 L 16.785865 33.553845 L 16.785865 33.585184 L 16.789783 33.589101 L 16.789783 33.62044 L 16.821122 33.624358 L 16.821122 33.690954 L 16.825039 33.690954 L 16.825039 33.714458 L 16.848544 33.714458 L 16.848544 33.737962 L 16.887718 33.737962 L 16.887718 33.757549 L 16.903387 33.761467 L 16.903387 33.765384 L 16.938644 33.769302 L 16.938644 33.902493 L 16.997405 33.906411 L 16.997405 33.973006 L 17.00524 33.976924 L 17.00524 34.020015 L 17.114927 34.023933 L 17.114927 34.333407 L 17.181523 34.337324 L 17.181523 34.646799 L 17.236366 34.650716 L 17.236366 34.717312 L 17.29121 34.717312 L 17.29121 34.760403 L 17.299045 34.764321 L 17.299045 34.830917 L 17.330384 34.834834 L 17.330384 34.850504 L 17.393062 34.850504 L 17.393062 34.854421 L 17.408732 34.858338 L 17.408732 34.877925 L 17.443988 34.881843 L 17.443988 34.889678 L 17.447906 34.893595 L 17.447906 35.018952 L 17.47141 35.018952 L 17.47141 35.042456 L 17.475327 35.042456 L 17.475327 35.109052 L 17.506667 35.112969 L 17.506667 35.144308 L 17.510584 35.148226 L 17.510584 35.179565 L 17.588932 35.183482 L 17.588932 35.191317 L 17.624189 35.195235 L 17.624189 35.398939 L 17.628106 35.402857 L 17.628106 35.418526 L 17.741711 35.418526 L 17.741711 35.520379 L 17.800472 35.524296 L 17.800472 35.731918 L 17.808306 35.731918 L 17.808306 35.763257 L 17.917993 35.767175 L 17.917993 35.904284 L 17.957167 35.908201 L 17.957167 35.974797 L 17.976754 35.978714 L 17.976754 35.998301 L 18.070772 35.998301 L 18.070772 36.033558 L 18.074689 36.033558 L 18.074689 36.076649 L 18.094276 36.080567 L 18.094276 36.111906 L 18.13345 36.115823 L 18.13345 36.217676 L 18.196129 36.221593 L 18.196129 36.24118 L 18.247055 36.245097 L 18.247055 36.288189 L 18.250972 36.288189 L 18.250972 36.413546 L 18.309733 36.417463 L 18.309733 36.554572 L 18.313651 36.558489 L 18.313651 36.589829 L 18.364577 36.589829 L 18.364577 36.656424 L 18.427255 36.660342 L 18.427255 36.867964 L 18.486016 36.867964 L 18.486016 36.969816 L 18.583951 36.973734 L 18.583951 36.989403 L 18.603538 36.993321 L 18.603538 37.197025 L 18.642712 37.200943 L 18.642712 37.244034 L 18.72106 37.247951 L 18.72106 37.279291 L 18.756317 37.283208 L 18.756317 37.302795 L 18.760234 37.302795 L 18.760234 37.392895 L 18.779821 37.396813 L 18.779821 37.4164 L 18.815078 37.420317 L 18.815078 37.451656 L 18.818995 37.455574 L 18.818995 37.475161 L 18.873839 37.479078 L 18.873839 37.522169 L 18.9326 37.526087 L 18.9326 37.545674 L 18.936517 37.549591 L 18.936517 37.749378 L 18.995278 37.749378 L 18.995278 37.815974 L 18.999195 37.819892 L 18.999195 37.870818 L 19.050122 37.870818 L 19.050122 37.97267 L 19.054039 37.976588 L 19.054039 38.007927 L 19.1128 38.011844 L 19.1128 38.321319 L 19.116717 38.325236 L 19.116717 38.333071 L 19.167644 38.336988 L 19.167644 38.356575 L 19.230322 38.360493 L 19.230322 38.427088 L 19.261661 38.431006 L 19.261661 38.450593 L 19.269496 38.450593 L 19.269496 38.485849 L 19.289083 38.485849 L 19.289083 38.622958 L 19.32434 38.626876 L 19.32434 38.646463 L 19.406605 38.65038 L 19.406605 38.716976 L 19.441861 38.720893 L 19.441861 38.865837 L 19.555466 38.869754 L 19.555466 38.901094 L 19.559383 38.905011 L 19.559383 38.971607 L 19.563301 38.975524 L 19.563301 39.04212 L 19.618144 39.04212 L 19.618144 39.143972 L 19.622062 39.14789 L 19.622062 39.214486 L 19.676905 39.218403 L 19.676905 39.249742 L 19.735666 39.25366 L 19.735666 39.320255 L 19.739584 39.320255 L 19.739584 39.422108 L 19.853188 39.426025 L 19.853188 39.469116 L 19.888445 39.473034 L 19.888445 39.625812 L 19.915867 39.62973 L 19.915867 39.766839 L 19.951123 39.766839 L 19.951123 39.817765 L 20.064728 39.821682 L 20.064728 39.911782 L 20.068645 39.911782 L 20.068645 39.947039 L 20.127406 39.947039 L 20.127406 40.037139 L 20.18225 40.041057 L 20.18225 40.178166 L 20.241011 40.178166 L 20.241011 40.193835 L 20.244928 40.197753 L 20.244928 40.38187 L 20.303689 40.38187 L 20.303689 40.432796 L 20.358533 40.436714 L 20.358533 40.468053 L 20.36245 40.468053 L 20.36245 40.534649 L 20.421211 40.538566 L 20.421211 40.675675 L 20.476055 40.679593 L 20.515229 40.68351 L 20.515229 40.703097 L 20.538733 40.707014 L 20.538733 40.793197 L 20.57399 40.793197 L 20.57399 40.895049 L 20.636668 40.898967 L 20.636668 40.930306 L 20.656255 40.934223 L 20.656255 40.942058 L 20.691512 40.945976 L 20.691512 41.14968 L 20.750273 41.153598 L 20.750273 41.196689 L 20.75419 41.200607 L 20.75419 41.267202 L 20.812951 41.27112 L 20.812951 41.314211 L 20.867795 41.318129 L 20.867795 41.521833 L 20.926556 41.525751 L 20.926556 41.545338 L 20.930473 41.549255 L 20.930473 41.75296 L 20.985316 41.756877 L 20.985316 41.799969 L 21.044077 41.803886 L 21.044077 41.823473 L 21.047995 41.82739 L 21.047995 41.976251 L 21.106756 41.976251 L 21.106756 42.042847 L 21.161599 42.046765 L 21.161599 42.054599 L 21.165517 42.058517 L 21.165517 42.078104 L 21.200773 42.082021 L 21.200773 42.125113 L 21.224278 42.12903 L 21.224278 42.207378 L 21.259534 42.207378 L 21.259534 42.258304 L 21.3418 42.262222 L 21.3418 42.281809 L 21.377056 42.285726 L 21.377056 42.5952 L 21.439735 42.599118 L 21.439735 42.70097 L 21.494578 42.70097 L 21.494578 42.853749 L 21.553339 42.857666 L 21.553339 42.994775 L 21.557257 42.998692 L 21.557257 43.045701 L 21.670861 43.049619 L 21.670861 43.139719 L 21.706118 43.143636 L 21.706118 43.174975 L 21.729622 43.178893 L 21.729622 43.257241 L 21.73354 43.257241 L 21.73354 43.347341 L 21.847144 43.351258 L 21.847144 43.366928 L 21.851062 43.366928 L 21.851062 43.413937 L 21.886318 43.413937 L 21.886318 43.480532 L 21.996005 43.48445 L 21.996005 43.551046 L 22.00384 43.554963 L 22.00384 43.598054 L 22.023427 43.601972 L 22.023427 43.633311 L 22.062601 43.637228 L 22.062601 43.840933 L 22.180123 43.844851 L 22.180123 44.154325 L 22.238884 44.158242 L 22.238884 44.224838 L 22.332902 44.224838 L 22.332902 44.23659 L 22.356406 44.23659 L 22.356406 44.373699 L 22.391663 44.377617 L 22.391663 44.397204 L 22.473928 44.401121 L 22.473928 44.420708 L 22.505267 44.424626 L 22.505267 44.467717 L 22.509185 44.471634 L 22.509185 44.514726 L 22.513102 44.514726 L 22.513102 44.518643 L 22.532689 44.52256 L 22.532689 44.530395 L 22.571863 44.534313 L 22.571863 44.577404 L 22.622789 44.581321 L 22.622789 44.671422 L 22.650211 44.671422 L 22.650211 44.683174 L 22.68155 44.683174 L 22.68155 44.71843 L 22.689385 44.71843 L 22.689385 44.808531 L 22.748146 44.812448 L 22.748146 44.9143 L 22.799072 44.918218 L 22.799072 45.070996 L 22.865668 45.074914 L 22.865668 45.541084 L 22.920511 45.541084 L 22.920511 45.576341 L 22.98319 45.576341 L 22.98319 45.678193 L 23.018446 45.68211 L 23.018446 45.701697 L 23.041951 45.705615 L 23.041951 45.795715 L 23.077207 45.799632 L 23.077207 45.807467 L 23.132051 45.811385 L 23.132051 45.842724 L 23.159473 45.842724 L 23.159473 45.885815 L 23.190812 45.889733 L 23.190812 45.90932 L 23.194729 45.913237 L 23.194729 45.979833 L 23.198647 45.98375 L 23.198647 45.991585 L 23.218234 45.995502 L 23.218234 45.99942 L 23.257408 45.99942 L 23.257408 46.022924 L 23.308334 46.022924 L 23.308334 46.160033 L 23.312251 46.16395 L 23.312251 46.19529 L 23.37493 46.199207 L 23.37493 46.332399 L 23.425856 46.336316 L 23.425856 46.402912 L 23.484617 46.406829 L 23.484617 46.508682 L 23.492452 46.512599 L 23.492452 46.579195 L 23.551212 46.579195 L 23.551212 46.892587 L 23.602139 46.892587 L 23.602139 46.959182 L 23.668734 46.9631 L 23.668734 47.170722 L 23.703991 47.170722 L 23.703991 47.202061 L 23.817596 47.205978 L 23.817596 47.303913 L 23.821513 47.303913 L 23.821513 47.327418 L 23.845017 47.327418 L 23.845017 47.394014 L 23.880274 47.397931 L 23.880274 47.441022 L 23.884191 47.44494 L 23.884191 47.460609 L 23.935118 47.460609 L 23.935118 47.491949 L 23.993879 47.495866 L 23.993879 47.585966 L 23.997796 47.589883 L 23.997796 47.656479 L 24.001713 47.660397 L 24.001713 47.668231 L 24.1114 47.672149 L 24.1114 47.80534 L 24.170161 47.809258 L 24.170161 47.860184 L 24.177996 47.860184 L 24.177996 47.997293 L 24.287683 48.00121 L 24.287683 48.103063 L 24.326857 48.10698 L 24.326857 48.173576 L 24.389536 48.173576 L 24.389536 48.19708 L 24.405205 48.19708 L 24.405205 48.21275 L 24.440462 48.216667 L 24.440462 48.224502 L 24.444379 48.228419 L 24.444379 48.361611 L 24.471801 48.365528 L 24.471801 48.416455 L 24.50314 48.416455 L 24.50314 48.475216 L 24.507058 48.475216 L 24.507058 48.518307 L 24.565819 48.522224 L 24.565819 48.541811 L 24.620662 48.545729 L 24.620662 48.718094 L 24.679423 48.718094 L 24.679423 48.765103 L 24.683341 48.765103 L 24.683341 48.866955 L 24.738184 48.870873 L 24.738184 48.89046 L 24.796945 48.894377 L 24.796945 49.098082 L 24.800863 49.101999 L 24.800863 49.121586 L 24.914467 49.125504 L 24.914467 49.168595 L 24.953641 49.172512 L 24.953641 49.239108 L 24.973228 49.243026 L 24.973228 49.309621 L 25.008485 49.309621 L 25.008485 49.344878 L 25.075081 49.344878 L 25.075081 49.35663 L 25.09075 49.35663 L 25.09075 49.387969 L 25.126007 49.391887 L 25.126007 49.395804 L 25.129924 49.399722 L 25.129924 49.603426 L 25.188685 49.607344 L 25.188685 49.623013 L 25.192602 49.623013 L 25.192602 49.689609 L 25.243529 49.693526 L 25.243529 49.724866 L 25.247446 49.728783 L 25.247446 49.830635 L 25.30229 49.834553 L 25.30229 49.901149 L 25.306207 49.901149 L 25.306207 50.003001 L 25.310124 50.006918 L 25.310124 50.038258 L 25.361051 50.042175 L 25.361051 50.057845 L 25.368885 50.057845 L 25.368885 50.12444 L 25.423729 50.128358 L 25.423729 50.222375 L 25.48249 50.226293 L 25.48249 50.363402 L 25.486407 50.367319 L 25.486407 50.41041 L 25.600012 50.414328 L 25.600012 50.504428 L 25.635268 50.504428 L 25.635268 50.60628 L 25.658773 50.610198 L 25.658773 50.641537 L 25.756708 50.645454 L 25.756708 50.71205 L 25.776295 50.715967 L 25.776295 50.762976 L 25.811551 50.766894 L 25.811551 50.904003 L 25.929073 50.904003 L 25.929073 51.135129 L 25.987834 51.139047 L 25.987834 51.170386 L 25.991752 51.170386 L 25.991752 51.236981 L 25.995669 51.240899 L 25.995669 51.307495 L 26.046595 51.311412 L 26.046595 51.342751 L 26.105356 51.346669 L 26.105356 51.413264 L 26.109274 51.417182 L 26.109274 51.519034 L 26.226796 51.519034 L 26.226796 51.526869 L 26.258135 51.530786 L 26.258135 51.597382 L 26.262052 51.6013 L 26.262052 51.609134 L 26.285557 51.613052 L 26.285557 51.750161 L 26.289474 51.750161 L 26.289474 51.761913 L 26.320813 51.761913 L 26.320813 51.828509 L 26.403079 51.832426 L 26.403079 51.852013 L 26.434418 51.85593 L 26.434418 51.875517 L 26.438335 51.879435 L 26.438335 52.016544 L 26.497096 52.020461 L 26.497096 52.087057 L 26.55194 52.087057 L 26.55194 52.188909 L 26.610701 52.192827 L 26.610701 52.200662 L 26.614618 52.204579 L 26.614618 52.514053 L 26.73214 52.517971 L 26.73214 52.635493 L 26.771314 52.63941 L 26.771314 52.647245 L 26.790901 52.651162 L 26.790901 52.694254 L 26.849662 52.698171 L 26.849662 52.706006 L 26.884919 52.709923 L 26.884919 52.776519 L 26.908423 52.776519 L 26.908423 52.800023 L 26.91234 52.800023 L 26.91234 52.831363 L 26.94368 52.83528 L 26.94368 52.866619 L 26.947597 52.870537 L 26.947597 52.890124 L 27.006358 52.894041 L 27.006358 52.92538 L 27.061202 52.929298 L 27.061202 53.133002 L 27.12388 53.13692 L 27.12388 53.344542 L 27.178723 53.344542 L 27.178723 53.446394 L 27.237484 53.450312 L 27.237484 53.516907 L 27.241402 53.520825 L 27.241402 53.622677 L 27.300163 53.622677 L 27.300163 53.830299 L 27.355006 53.834217 L 27.355006 53.877308 L 27.413767 53.881225 L 27.413767 53.912565 L 27.417685 53.912565 L 27.417685 54.049674 L 27.456859 54.053591 L 27.456859 54.069261 L 27.476446 54.069261 L 27.476446 54.092765 L 27.535207 54.092765 L 27.535207 54.116269 L 27.570463 54.116269 L 27.570463 54.218122 L 27.574381 54.222039 L 27.574381 54.229874 L 27.593968 54.233791 L 27.593968 54.265131 L 27.633142 54.269048 L 27.633142 54.300387 L 27.687985 54.304304 L 27.687985 54.3709 L 27.746746 54.3709 L 27.746746 54.508009 L 27.750664 54.511927 L 27.750664 54.531514 L 27.809425 54.535431 L 27.809425 54.67254 L 27.864268 54.67254 L 27.864268 54.880162 L 27.923029 54.884079 L 27.923029 54.915419 L 27.926947 54.919336 L 27.926947 55.123041 L 28.040551 55.126958 L 28.040551 55.193554 L 28.075808 55.197471 L 28.075808 55.228811 L 28.099312 55.228811 L 28.099312 55.24448 L 28.10323 55.248398 L 28.10323 55.452102 L 28.138486 55.45602 L 28.138486 55.463854 L 28.158073 55.467772 L 28.158073 55.475607 L 28.197247 55.479524 L 28.197247 55.487359 L 28.216834 55.491276 L 28.216834 55.522615 L 28.220751 55.526533 L 28.220751 55.557872 L 28.256008 55.561789 L 28.256008 55.628385 L 28.259925 55.632303 L 28.259925 55.65189 L 28.338273 55.65189 L 28.338273 55.655807 L 28.37353 55.659724 L 28.37353 55.796833 L 28.432291 55.796833 L 28.432291 55.863429 L 28.436208 55.867346 L 28.436208 55.910438 L 28.549813 55.914355 L 28.549813 56.22383 L 28.667335 56.227747 L 28.667335 56.294343 L 28.702592 56.29826 L 28.702592 56.341352 L 28.726096 56.345269 L 28.726096 56.38836 L 28.730013 56.38836 L 28.730013 56.454956 L 28.761352 56.458874 L 28.761352 56.474543 L 28.824031 56.478461 L 28.843618 56.482378 L 28.843618 56.501965 L 28.874957 56.505882 L 28.874957 56.513717 L 28.878874 56.517635 L 28.878874 56.619487 L 28.882792 56.623404 L 28.882792 56.642991 L 28.941553 56.646909 L 28.941553 56.713505 L 28.992479 56.713505 L 28.992479 56.7801 L 28.996396 56.784018 L 28.996396 56.834944 L 29.019901 56.834944 L 29.019901 56.846696 L 29.059075 56.846696 L 29.059075 57.069988 L 29.176597 57.073905 L 29.176597 57.175758 L 29.235358 57.179675 L 29.235358 57.38338 L 29.35288 57.387297 L 29.35288 57.524406 L 29.388136 57.528323 L 29.388136 57.594919 L 29.411641 57.594919 L 29.411641 57.614506 L 29.501741 57.618424 L 29.501741 57.649763 L 29.505658 57.65368 L 29.505658 57.696772 L 29.529163 57.700689 L 29.529163 57.732028 L 29.564419 57.735946 L 29.564419 57.802541 L 29.568337 57.806459 L 29.568337 57.837798 L 29.619263 57.837798 L 29.619263 57.861302 L 29.627098 57.861302 L 29.627098 57.884807 L 29.678024 57.884807 L 29.678024 57.927898 L 29.681941 57.931815 L 29.681941 58.033668 L 29.685859 58.037585 L 29.685859 58.057172 L 29.74462 58.06109 L 29.74462 58.229538 L 29.795546 58.233455 L 29.795546 58.300051 L 29.862141 58.303968 L 29.862141 58.507673 L 29.916985 58.51159 L 29.916985 58.613443 L 30.01492 58.61736 L 30.01492 58.629112 L 30.038424 58.63303 L 30.038424 58.840652 L 30.073681 58.840652 L 30.073681 58.887661 L 30.155946 58.887661 L 30.155946 58.919 L 30.187286 58.922917 L 30.187286 58.954257 L 30.191203 58.958174 L 30.191203 59.048274 L 30.214707 59.052191 L 30.214707 59.071778 L 30.249964 59.075696 L 30.249964 59.130539 L 30.304807 59.130539 L 30.304807 59.177548 L 30.363568 59.177548 L 30.363568 59.197135 L 30.367486 59.201053 L 30.367486 59.353831 L 30.371403 59.357749 L 30.371403 59.40084 L 30.48109 59.404757 L 30.48109 59.50661 L 30.485008 59.510527 L 30.485008 59.541866 L 30.543769 59.545784 L 30.543769 59.855258 L 30.547686 59.855258 L 30.547686 59.86701 L 30.598612 59.86701 L 30.598612 59.890515 L 30.665208 59.890515 L 30.665208 59.957111 L 30.69263 59.961028 L 30.69263 59.980615 L 30.700465 59.984532 L 30.700465 60.015871 L 30.759226 60.019789 L 30.759226 60.039376 L 30.814069 60.043293 L 30.814069 60.180402 L 30.841491 60.180402 L 30.841491 60.246998 L 30.87283 60.250915 L 30.87283 60.25875 L 30.876748 60.262668 L 30.876748 60.399777 L 30.986435 60.403694 L 30.986435 60.435033 L 30.990352 60.435033 L 30.990352 60.501629 L 30.99427 60.505546 L 30.99427 60.572142 L 31.053031 60.576059 L 31.053031 60.677912 L 31.107874 60.681829 L 31.107874 60.736673 L 31.166635 60.736673 L 31.166635 60.803269 L 31.170553 60.807186 L 31.170553 60.909038 L 31.284157 60.912956 L 31.284157 60.956047 L 31.319414 60.959965 L 31.319414 61.112743 L 31.386009 61.11666 L 31.386009 61.163669 L 31.440853 61.167587 L 31.440853 61.269439 L 31.495697 61.273356 L 31.495697 61.359539 L 31.503531 61.363457 L 31.503531 61.394796 L 31.562292 61.398713 L 31.562292 61.488813 L 31.613219 61.492731 L 31.613219 61.62984 L 31.67198 61.62984 L 31.67198 61.645509 L 31.675897 61.649427 L 31.675897 61.692518 L 31.679814 61.696435 L 31.679814 61.829627 L 31.738575 61.833544 L 31.738575 61.884471 L 31.789502 61.884471 L 31.789502 61.919727 L 31.793419 61.919727 L 31.793419 61.986323 L 31.85218 61.99024 L 31.85218 62.02158 L 31.856097 62.025497 L 31.856097 62.127349 L 31.910941 62.131267 L 31.946197 62.135184 L 31.946197 62.154771 L 31.969702 62.158688 L 31.969702 62.225284 L 31.973619 62.229202 L 31.973619 62.240954 L 32.004958 62.244871 L 32.004958 62.346724 L 32.071554 62.350641 L 32.071554 62.38198 L 32.087224 62.385898 L 32.087224 62.393732 L 32.12248 62.39765 L 32.12248 62.601354 L 32.181241 62.605272 L 32.181241 62.648363 L 32.189076 62.652281 L 32.189076 62.718876 L 32.298763 62.722794 L 32.298763 62.926499 L 32.361442 62.930416 L 32.361442 62.950003 L 32.365359 62.95392 L 32.365359 63.157625 L 32.416285 63.161542 L 32.416285 63.204634 L 32.475046 63.208551 L 32.475046 63.228138 L 32.478964 63.232056 L 32.478964 63.333908 L 32.482881 63.333908 L 32.482881 63.380917 L 32.592568 63.380917 L 32.592568 63.388752 L 32.596486 63.392669 L 32.596486 63.412256 L 32.627825 63.416173 L 32.627825 63.431843 L 32.631742 63.43576 L 32.631742 63.478852 L 32.655247 63.478852 L 32.655247 63.525861 L 32.659164 63.525861 L 32.659164 63.5572 L 32.690503 63.561117 L 32.690503 63.612043 L 32.772769 63.612043 L 32.772769 63.635548 L 32.808025 63.635548 L 32.808025 63.94894 L 32.925547 63.94894 L 32.925547 64.105636 L 32.984308 64.105636 L 32.984308 64.242744 L 32.992143 64.246662 L 32.992143 64.293671 L 33.10183 64.297588 L 33.10183 64.387688 L 33.141004 64.391606 L 33.141004 64.422945 L 33.160591 64.426862 L 33.160591 64.434697 L 33.254609 64.438614 L 33.254609 64.50521 L 33.258526 64.50521 L 33.258526 64.528715 L 33.278113 64.528715 L 33.278113 64.544384 L 33.28203 64.548302 L 33.28203 64.591393 L 33.317287 64.59531 L 33.317287 64.661906 L 33.430891 64.661906 L 33.430891 64.728502 L 33.434809 64.732419 L 33.434809 64.775511 L 33.49357 64.779428 L 33.49357 64.983133 L 33.548413 64.98705 L 33.548413 65.088903 L 33.611092 65.09282 L 33.611092 65.402294 L 33.669853 65.406212 L 33.669853 65.472808 L 33.767788 65.476725 L 33.767788 65.48456 L 33.787375 65.48456 L 33.787375 65.621669 L 33.822631 65.625586 L 33.822631 65.645173 L 33.881392 65.649091 L 33.881392 65.66476 L 33.904897 65.66476 L 33.904897 65.688264 L 33.940153 65.688264 L 33.940153 65.731356 L 33.944071 65.735273 L 33.944071 65.786199 L 33.963658 65.786199 L 33.963658 65.797952 L 34.002832 65.797952 L 34.002832 65.841043 L 34.057675 65.84496 L 34.057675 65.935061 L 34.116436 65.938978 L 34.116436 65.970317 L 34.120354 65.974235 L 34.120354 66.064335 L 34.179115 66.064335 L 34.179115 66.166187 L 34.233958 66.170105 L 34.233958 66.322883 L 34.296637 66.3268 L 34.296637 66.792971 L 34.35148 66.796888 L 34.35148 66.828227 L 34.414159 66.832145 L 34.414159 66.933997 L 34.445498 66.933997 L 34.445498 66.945749 L 34.449415 66.945749 L 34.449415 66.969254 L 34.472919 66.969254 L 34.472919 67.059354 L 34.508176 67.063271 L 34.508176 67.071106 L 34.566937 67.075024 L 34.566937 67.106363 L 34.590441 67.11028 L 34.590441 67.153372 L 34.625698 67.157289 L 34.625698 67.247389 L 34.629615 67.247389 L 34.629615 67.259141 L 34.74322 67.259141 L 34.74322 67.39625 L 34.747137 67.400168 L 34.747137 67.431507 L 34.805898 67.435424 L 34.805898 67.572533 L 34.860742 67.572533 L 34.860742 67.639129 L 34.919503 67.643046 L 34.919503 67.744899 L 34.92342 67.748816 L 34.92342 67.815412 L 35.037025 67.815412 L 35.037025 67.882008 L 35.072281 67.885925 L 35.072281 67.987777 L 35.099703 67.991695 L 35.099703 68.1954 L 35.13496 68.199317 L 35.13496 68.230656 L 35.248564 68.234574 L 35.248564 68.277665 L 35.252482 68.281582 L 35.252482 68.352095 L 35.311243 68.356013 L 35.311243 68.399104 L 35.366086 68.403022 L 35.366086 68.469617 L 35.370004 68.473535 L 35.370004 68.504874 L 35.428765 68.508791 L 35.428765 68.665487 L 35.432682 68.669405 L 35.432682 68.67724 L 35.546287 68.681157 L 35.546287 68.818266 L 35.60113 68.818266 L 35.60113 68.869192 L 35.699065 68.873109 L 35.699065 68.904449 L 35.72257 68.908366 L 35.72257 69.010218 L 35.757826 69.010218 L 35.757826 69.076814 L 35.820505 69.080732 L 35.820505 69.100319 L 35.840092 69.104236 L 35.840092 69.119906 L 35.871431 69.119906 L 35.871431 69.131658 L 35.875348 69.131658 L 35.875348 69.268767 L 35.934109 69.272684 L 35.934109 69.327528 L 35.938027 69.331445 L 35.938027 69.374536 L 35.988953 69.378454 L 35.988953 69.398041 L 35.996787 69.398041 L 35.996787 69.421545 L 36.051631 69.421545 L 36.051631 69.523398 L 36.055548 69.527315 L 36.055548 69.593911 L 36.110392 69.597828 L 36.110392 69.64092 L 36.114309 69.644837 L 36.114309 69.746689 L 36.169153 69.746689 L 36.169153 69.766276 L 36.227914 69.770194 L 36.227914 69.977816 L 36.231831 69.977816 L 36.231831 70.00132 L 36.349353 70.00132 L 36.349353 70.044412 L 36.38461 70.048329 L 36.38461 70.114925 L 36.404197 70.118842 L 36.404197 70.185438 L 36.443371 70.189355 L 36.443371 70.220695 L 36.525636 70.224612 L 36.525636 70.255951 L 36.556975 70.255951 L 36.556975 70.259869 L 36.560893 70.263786 L 36.560893 70.471408 L 36.619654 70.471408 L 36.619654 70.487078 L 36.623571 70.490995 L 36.623571 70.557591 L 36.674497 70.557591 L 36.674497 70.592847 L 36.678415 70.592847 L 36.678415 70.6947 L 36.737176 70.698617 L 36.737176 70.870983 L 36.741093 70.870983 L 36.741093 70.902322 L 36.792019 70.906239 L 36.792019 70.921909 L 36.854698 70.925826 L 36.854698 70.968918 L 36.858615 70.972835 L 36.858615 71.019844 L 36.913459 71.023761 L 36.913459 71.16087 L 36.917376 71.16087 L 36.917376 71.203962 L 37.030981 71.207879 L 37.030981 71.297979 L 37.070155 71.301897 L 37.070155 71.403749 L 37.179842 71.407666 L 37.179842 71.450758 L 37.187677 71.450758 L 37.187677 71.517353 L 37.207264 71.521271 L 37.207264 71.572197 L 37.246438 71.572197 L 37.246438 71.709306 L 37.360042 71.713223 L 37.360042 71.73281 L 37.36396 71.736728 L 37.36396 71.940432 L 37.422721 71.94435 L 37.422721 71.975689 L 37.477564 71.979606 L 37.477564 72.010946 L 37.516738 72.014863 L 37.516738 72.01878 L 37.540242 72.01878 L 37.540242 72.191146 L 37.657764 72.195063 L 37.657764 72.202898 L 37.689104 72.206816 L 37.689104 72.273411 L 37.696938 72.277329 L 37.696938 72.285164 L 37.755699 72.285164 L 37.755699 72.351759 L 37.806626 72.355677 L 37.806626 72.492786 L 37.834047 72.496703 L 37.834047 72.51629 L 37.865387 72.520207 L 37.865387 72.539794 L 37.873221 72.543712 L 37.873221 72.676903 L 37.931982 72.680821 L 37.931982 72.747417 L 37.982909 72.751334 L 37.982909 72.853186 L 38.045587 72.853186 L 38.045587 72.864939 L 38.049504 72.864939 L 38.049504 73.17833 L 38.10043 73.17833 L 38.10043 73.201835 L 38.163109 73.201835 L 38.163109 73.252761 L 38.167026 73.256678 L 38.167026 73.323274 L 38.202283 73.323274 L 38.202283 73.335026 L 38.225787 73.335026 L 38.225787 73.378118 L 38.280631 73.382035 L 38.280631 73.38987 L 38.315887 73.393787 L 38.315887 73.460383 L 38.343309 73.4643 L 38.343309 73.483887 L 38.374648 73.487805 L 38.374648 73.519144 L 38.382483 73.523061 L 38.382483 73.542648 L 38.437327 73.546566 L 38.437327 73.577905 L 38.49217 73.577905 L 38.49217 73.785527 L 38.558766 73.789445 L 38.558766 73.993149 L 38.609692 73.997067 L 38.609692 74.098919 L 38.668453 74.102836 L 38.668453 74.169432 L 38.676288 74.169432 L 38.676288 74.271285 L 38.735049 74.275202 L 38.735049 74.482824 L 38.785975 74.482824 L 38.785975 74.525915 L 38.848654 74.529833 L 38.848654 74.561172 L 38.852571 74.565089 L 38.852571 74.702198 L 38.887828 74.706116 L 38.887828 74.717868 L 38.966176 74.721785 L 38.966176 74.741372 L 39.001432 74.74529 L 39.001432 74.847142 L 39.00535 74.85106 L 39.00535 74.858894 L 39.028854 74.862812 L 39.028854 74.894151 L 39.064111 74.894151 L 39.064111 74.929408 L 39.118954 74.929408 L 39.118954 74.996003 L 39.177715 74.999921 L 39.177715 75.13703 L 39.18555 75.140947 L 39.18555 75.160534 L 39.295237 75.164451 L 39.295237 75.368156 L 39.353998 75.372074 L 39.353998 75.403413 L 39.361833 75.40733 L 39.361833 75.611035 L 39.47152 75.614952 L 39.47152 75.681548 L 39.506777 75.685465 L 39.506777 75.716805 L 39.573372 75.720722 L 39.573372 75.728557 L 39.589042 75.732474 L 39.589042 75.740309 L 39.624298 75.744226 L 39.624298 75.763813 L 39.628216 75.763813 L 39.628216 75.842161 L 39.65172 75.846079 L 39.65172 75.877418 L 39.655638 75.881335 L 39.655638 75.912675 L 39.686977 75.916592 L 39.686977 75.983188 L 39.690894 75.987105 L 39.690894 76.006692 L 39.769242 76.01061 L 39.804499 76.014527 L 39.804499 76.151636 L 39.86326 76.155553 L 39.86326 76.222149 L 39.980782 76.222149 L 39.980782 76.535541 L 40.098304 76.535541 L 40.098304 76.602137 L 40.13356 76.606054 L 40.13356 76.649145 L 40.157065 76.653063 L 40.157065 76.696154 L 40.192321 76.700072 L 40.192321 76.711824 L 40.251082 76.715741 L 40.251082 76.735328 L 40.258917 76.739246 L 40.258917 76.743163 L 40.274587 76.74708 L 40.274587 76.766667 L 40.309843 76.766667 L 40.309843 76.880272 L 40.313761 76.884189 L 40.313761 76.903776 L 40.372522 76.907694 L 40.372522 76.939033 L 40.376439 76.94295 L 40.376439 76.97429 L 40.427365 76.978207 L 40.427365 77.044803 L 40.431283 77.04872 L 40.431283 77.095729 L 40.490044 77.099646 L 40.490044 77.303351 L 40.493961 77.307268 L 40.493961 77.322938 L 40.544887 77.326855 L 40.544887 77.358195 L 40.607566 77.358195 L 40.607566 77.460047 L 40.666326 77.463964 L 40.666326 77.671586 L 40.783848 77.671586 L 40.783848 77.808695 L 40.819105 77.812613 L 40.819105 77.879209 L 40.842609 77.883126 L 40.842609 77.902713 L 40.936627 77.90663 L 40.936627 77.984978 L 40.960131 77.984978 L 40.960131 78.016318 L 40.995388 78.020235 L 40.995388 78.086831 L 40.999305 78.090748 L 40.999305 78.122087 L 41.054149 78.126005 L 41.054149 78.145592 L 41.11291 78.149509 L 41.11291 78.294453 L 41.116827 78.29837 L 41.116827 78.317957 L 41.175588 78.321875 L 41.175588 78.458984 L 41.179506 78.462901 L 41.179506 78.49424 L 41.230432 78.49424 L 41.230432 78.564753 L 41.29311 78.564753 L 41.29311 78.772375 L 41.441971 78.776293 L 41.441971 78.819384 L 41.445889 78.819384 L 41.445889 78.835054 L 41.469393 78.838971 L 41.469393 79.042676 L 41.50465 79.046593 L 41.50465 79.089685 L 41.586915 79.093602 L 41.586915 79.124941 L 41.618254 79.128859 L 41.618254 79.160198 L 41.622172 79.164115 L 41.622172 79.254215 L 41.680933 79.254215 L 41.680933 79.289472 L 41.735776 79.289472 L 41.735776 79.340398 L 41.739694 79.344316 L 41.739694 79.387407 L 41.794537 79.387407 L 41.794537 79.410911 L 41.798455 79.410911 L 41.798455 79.567607 L 41.802372 79.567607 L 41.802372 79.610699 L 41.915977 79.614616 L 41.915977 79.751725 L 42.033499 79.755642 L 42.033499 79.775229 L 42.068755 79.779147 L 42.068755 79.877082 L 42.096177 79.880999 L 42.096177 79.947595 L 42.127516 79.951512 L 42.127516 79.971099 L 42.131434 79.975017 L 42.131434 80.006356 L 42.190194 80.010273 L 42.190194 80.02986 L 42.245038 80.033778 L 42.245038 80.166969 L 42.303799 80.170887 L 42.303799 80.178722 L 42.307716 80.182639 L 42.307716 80.319748 L 42.36256 80.323665 L 42.36256 80.390261 L 42.421321 80.390261 L 42.421321 80.492113 L 42.425238 80.496031 L 42.425238 80.562627 L 42.483999 80.566544 L 42.483999 80.668396 L 42.538843 80.668396 L 42.538843 80.691901 L 42.54276 80.691901 L 42.54276 80.727157 L 42.597604 80.727157 L 42.597604 80.793753 L 42.601521 80.79767 L 42.601521 80.864266 L 42.715126 80.868184 L 42.715126 80.911275 L 42.7543 80.915192 L 42.7543 81.067971 L 42.816978 81.071888 L 42.816978 81.118897 L 42.871822 81.122815 L 42.871822 81.224667 L 42.930583 81.228584 L 42.930583 81.314767 L 42.9345 81.318684 L 42.9345 81.350024 L 42.993261 81.353941 L 42.993261 81.444041 L 43.048105 81.447959 L 43.048105 81.585068 L 43.106866 81.585068 L 43.106866 81.647746 L 43.110783 81.651663 L 43.110783 81.784855 L 43.224388 81.788772 L 43.224388 81.890625 L 43.283149 81.894542 L 43.283149 81.925881 L 43.287066 81.929799 L 43.287066 82.031651 L 43.34191 82.031651 L 43.34191 82.035568 L 43.381084 82.039486 L 43.381084 82.059073 L 43.400671 82.06299 L 43.400671 82.129586 L 43.404588 82.129586 L 43.404588 82.145256 L 43.439845 82.149173 L 43.439845 82.251025 L 43.518193 82.254943 L 43.518193 82.262777 L 43.557367 82.262777 L 43.557367 82.4704 L 43.616128 82.474317 L 43.616128 82.517408 L 43.620045 82.521326 L 43.620045 82.587922 L 43.73365 82.587922 L 43.73365 82.795544 L 43.851171 82.799461 L 43.851171 82.842552 L 43.886428 82.842552 L 43.886428 82.866057 L 43.909932 82.866057 L 43.909932 82.991414 L 43.91385 82.995331 L 43.91385 83.038422 L 44.027454 83.04234 L 44.027454 83.073679 L 44.058794 83.077596 L 44.058794 83.089349 L 44.066628 83.093266 L 44.066628 83.136357 L 44.121472 83.140275 L 44.121472 83.191201 L 44.176316 83.191201 L 44.176316 83.293053 L 44.203737 83.296971 L 44.203737 83.316558 L 44.242911 83.320475 L 44.242911 83.62995 L 44.360433 83.633867 L 44.360433 83.786646 L 44.419194 83.790563 L 44.419194 83.923754 L 44.536716 83.927672 L 44.536716 84.017772 L 44.571973 84.021689 L 44.571973 84.053029 L 44.59156 84.056946 L 44.59156 84.064781 L 44.685577 84.068698 L 44.685577 84.135294 L 44.689495 84.135294 L 44.689495 84.158798 L 44.712999 84.158798 L 44.712999 84.174468 L 44.748256 84.178385 L 44.748256 84.244981 L 44.803099 84.248899 L 44.803099 84.29199 L 44.86186 84.29199 L 44.86186 84.358586 L 44.869695 84.362503 L 44.869695 84.405594 L 44.924539 84.409512 L 44.924539 84.617134 L 44.979382 84.617134 L 44.979382 84.718986 L 45.045978 84.722904 L 45.045978 85.032378 L 45.100822 85.036296 L 45.100822 85.102891 L 45.198757 85.106809 L 45.198757 85.114644 L 45.218344 85.118561 L 45.218344 85.251753 L 45.257518 85.25567 L 45.257518 85.275257 L 45.312361 85.279174 L 45.312361 85.294844 L 45.339783 85.294844 L 45.339783 85.318348 L 45.371122 85.318348 L 45.371122 85.365357 L 45.375039 85.365357 L 45.375039 85.416283 L 45.394626 85.420201 L 45.394626 85.428035 L 45.4338 85.431953 L 45.4338 85.475044 L 45.488644 85.475044 L 45.488644 85.565144 L 45.547405 85.569062 L 45.547405 85.600401 L 45.551322 85.604318 L 45.551322 85.694419 L 45.664927 85.698336 L 45.664927 85.851115 L 45.727605 85.855032 L 45.727605 86.321202 L 45.782449 86.321202 L 45.782449 86.356459 L 45.845127 86.356459 L 45.845127 86.458311 L 45.876466 86.462229 L 45.876466 86.470063 L 45.884301 86.473981 L 45.884301 86.493568 L 45.943062 86.497485 L 45.943062 86.50532 L 45.993988 86.509237 L 45.993988 86.575833 L 45.997906 86.579751 L 45.997906 86.61109 L 46.02141 86.61109 L 46.02141 86.658099 L 46.056667 86.658099 L 46.056667 86.677686 L 46.060584 86.681603 L 46.060584 86.759951 L 46.174189 86.763868 L 46.174189 86.900977 L 46.178106 86.900977 L 46.178106 86.936234 L 46.291711 86.936234 L 46.291711 87.00283 L 46.350472 87.006747 L 46.350472 87.108599 L 46.354389 87.112517 L 46.354389 87.179113 L 46.467994 87.179113 L 46.467994 87.245708 L 46.50325 87.249626 L 46.50325 87.351478 L 46.569846 87.355396 L 46.569846 87.386735 L 46.620772 87.390652 L 46.620772 87.472917 L 46.679533 87.476835 L 46.679533 87.519926 L 46.683451 87.523844 L 46.683451 87.570852 L 46.687368 87.57477 L 46.687368 87.594357 L 46.746129 87.598274 L 46.746129 87.641366 L 46.797055 87.645283 L 46.797055 87.711879 L 46.800973 87.715796 L 46.800973 87.747135 L 46.859733 87.751053 L 46.859733 87.837236 L 46.863651 87.841153 L 46.863651 87.907749 L 46.977255 87.911666 L 46.977255 88.048775 L 47.036016 88.048775 L 47.036016 88.099701 L 47.130034 88.103619 L 47.130034 88.134958 L 47.153538 88.138875 L 47.153538 88.240728 L 47.188795 88.240728 L 47.188795 88.307323 L 47.251473 88.311241 L 47.251473 88.330828 L 47.27106 88.334745 L 47.27106 88.350415 L 47.3024 88.350415 L 47.3024 88.362167 L 47.306317 88.362167 L 47.306317 88.499276 L 47.365078 88.503193 L 47.365078 88.52278 L 47.368995 88.526698 L 47.368995 88.558037 L 47.372913 88.561954 L 47.372913 88.605046 L 47.423839 88.608963 L 47.423839 88.62855 L 47.4826 88.62855 L 47.4826 88.730402 L 47.486517 88.73432 L 47.486517 88.800916 L 47.545278 88.804833 L 47.545278 88.847924 L 47.549196 88.851842 L 47.549196 88.953694 L 47.600122 88.953694 L 47.600122 88.977199 L 47.6628 88.977199 L 47.6628 89.184821 L 47.666718 89.188738 L 47.666718 89.208325 L 47.780322 89.208325 L 47.780322 89.255334 L 47.811661 89.255334 L 47.811661 89.267086 L 47.815579 89.267086 L 47.815579 89.333682 L 47.839083 89.337599 L 47.839083 89.404195 L 47.87434 89.408112 L 47.87434 89.439452 L 47.956605 89.443369 L 47.956605 89.474708 L 47.987944 89.478626 L 47.991862 89.482543 L 47.991862 89.690165 L 48.105466 89.690165 L 48.105466 89.721504 L 48.109384 89.725422 L 48.109384 89.827274 L 48.168145 89.831191 L 48.168145 89.897787 L 48.172062 89.901705 L 48.172062 89.99964 L 48.175979 90.003557 L 48.175979 90.034896 L 48.226906 90.038813 L 48.226906 90.054483 L 48.285667 90.0584 L 48.285667 90.101492 L 48.289584 90.101492 L 48.289584 90.152418 L 48.438445 90.156335 L 48.438445 90.258188 L 48.465867 90.258188 L 48.465867 90.348288 L 48.501123 90.352205 L 48.501123 90.454058 L 48.614728 90.457975 L 48.614728 90.501067 L 48.618645 90.501067 L 48.618645 90.567662 L 48.677406 90.57158 L 48.677406 90.708689 L 48.73225 90.712606 L 48.73225 90.779202 L 48.791011 90.783119 L 48.791011 90.802706 L 48.794928 90.802706 L 48.794928 91.010328 L 48.853689 91.014246 L 48.853689 91.045585 L 48.908533 91.049502 L 48.908533 91.080841 L 48.951624 91.080841 L 48.951624 91.084759 L 48.971211 91.088676 L 48.971211 91.155272 L 49.065229 91.159189 L 49.065229 91.190529 L 49.088733 91.194446 L 49.088733 91.202281 L 49.12399 91.206198 L 49.12399 91.272794 L 49.127907 91.272794 L 49.127907 91.284546 L 49.186668 91.284546 L 49.186668 91.351142 L 49.241512 91.355059 L 49.241512 91.492168 L 49.300273 91.496086 L 49.300273 91.515673 L 49.30419 91.515673 L 49.30419 91.652782 L 49.362951 91.656699 L 49.362951 91.723295 L 49.417795 91.727212 L 49.417795 91.829065 L 49.476556 91.829065 L 49.476556 91.840817 L 49.480473 91.840817 L 49.480473 92.154209 L 49.535317 92.154209 L 49.535317 92.173796 L 49.594078 92.177713 L 49.594078 92.228639 L 49.597995 92.232557 L 49.597995 92.299152 L 49.633252 92.299152 L 49.633252 92.306987 L 49.656756 92.310905 L 49.656756 92.353996 L 49.7116 92.357913 L 49.7116 92.365748 L 49.750774 92.369666 L 49.750774 92.436261 L 49.774278 92.440179 L 49.774278 92.459766 L 49.809535 92.463683 L 49.809535 92.495022 L 49.813452 92.49894 L 49.813452 92.518527 L 49.927057 92.522444 L 49.927057 92.726149 L 49.989735 92.730066 L 49.989735 92.933771 L 50.044578 92.937688 L 50.044578 93.039541 L 50.103339 93.043458 L 50.103339 93.110054 L 50.107257 93.110054 L 50.107257 93.211906 L 50.220861 93.215824 L 50.220861 93.258915 L 50.256118 93.262832 L 50.256118 93.313759 L 50.279622 93.313759 L 50.279622 93.345098 L 50.28354 93.349015 L 50.28354 93.486124 L 50.318796 93.490042 L 50.318796 93.501794 L 50.397144 93.505711 L 50.397144 93.525298 L 50.436318 93.529216 L 50.436318 93.64282 L 50.55384 93.646737 L 50.55384 93.713333 L 50.608684 93.713333 L 50.608684 93.850442 L 50.616519 93.85436 L 50.616519 93.873947 L 50.730123 93.877864 L 50.730123 94.081569 L 50.784967 94.085486 L 50.784967 94.116825 L 50.882902 94.120743 L 50.882902 94.14033 L 50.906406 94.144247 L 50.906406 94.210843 L 50.941663 94.21476 L 50.941663 94.246099 L 51.004341 94.250017 L 51.004341 94.257852 L 51.023928 94.257852 L 51.023928 94.269604 L 51.055267 94.269604 L 51.055267 94.293108 L 51.059185 94.293108 L 51.059185 94.359704 L 51.063102 94.363621 L 51.063102 94.371456 L 51.117946 94.375374 L 51.117946 94.441969 L 51.121863 94.445887 L 51.121863 94.465474 L 51.172789 94.469391 L 51.172789 94.512483 L 51.200211 94.5164 L 51.235468 94.520317 L 51.235468 94.657426 L 51.294229 94.661344 L 51.294229 94.727939 L 51.411751 94.727939 L 51.411751 95.041331 L 51.53319 95.041331 L 51.53319 95.107927 L 51.568446 95.111845 L 51.568446 95.154936 L 51.588033 95.158853 L 51.588033 95.201945 L 51.627207 95.205862 L 51.627207 95.217614 L 51.682051 95.221532 L 51.682051 95.241119 L 51.705555 95.245036 L 51.705555 95.264623 L 51.740812 95.26854 L 51.740812 95.276375 L 51.744729 95.280293 L 51.744729 95.405649 L 51.80349 95.409567 L 51.80349 95.440906 L 51.807408 95.440906 L 51.807408 95.476163 L 51.858334 95.476163 L 51.858334 95.542758 L 51.862251 95.546676 L 51.862251 95.597602 L 51.921012 95.597602 L 51.921012 95.805224 L 51.92493 95.809141 L 51.92493 95.820894 L 51.975856 95.824811 L 51.975856 95.85615 L 52.038534 95.860068 L 52.038534 95.96192 L 52.097295 95.965837 L 52.097295 96.169542 L 52.214817 96.17346 L 52.214817 96.310568 L 52.253991 96.310568 L 52.253991 96.377164 L 52.363678 96.381082 L 52.363678 96.400669 L 52.367596 96.404586 L 52.367596 96.435925 L 52.371513 96.439843 L 52.371513 96.482934 L 52.3911 96.486851 L 52.3911 96.518191 L 52.430274 96.522108 L 52.430274 96.62396 L 52.485118 96.62396 L 52.485118 96.643547 L 52.543879 96.647465 L 52.543879 96.690556 L 52.547796 96.694474 L 52.547796 96.81983 L 52.661401 96.823748 L 52.661401 96.890343 L 52.724079 96.890343 L 52.724079 97.097966 L 52.87294 97.101883 L 52.87294 97.144974 L 52.880775 97.148892 L 52.880775 97.160644 L 52.939536 97.164561 L 52.939536 97.207653 L 52.990462 97.21157 L 52.990462 97.30167 L 53.017884 97.30167 L 53.017884 97.336927 L 53.049223 97.336927 L 53.049223 97.348679 L 53.053141 97.348679 L 53.053141 97.368266 L 53.057058 97.372183 L 53.057058 97.462284 L 53.111901 97.466201 L 53.111901 97.49754 L 53.166745 97.501458 L 53.166745 97.548466 L 53.170662 97.552384 L 53.170662 97.595475 L 53.229423 97.599393 L 53.229423 97.61898 L 53.233341 97.622897 L 53.233341 97.775676 L 53.284267 97.779593 L 53.284267 97.787428 L 53.346945 97.791345 L 53.346945 97.893197 L 53.350863 97.893197 L 53.350863 97.928454 L 53.464467 97.928454 L 53.464467 97.948041 L 53.499724 97.951958 L 53.499724 98.053811 L 53.558485 98.057728 L 53.558485 98.077315 L 53.56632 98.081233 L 53.56632 98.112572 L 53.621163 98.116489 L 53.621163 98.136076 L 53.676007 98.139994 L 53.676007 98.273185 L 53.738685 98.277103 L 53.738685 98.425964 L 53.793529 98.429881 L 53.793529 98.496477 L 53.85229 98.496477 L 53.85229 98.527816 L 53.856207 98.531733 L 53.856207 98.598329 L 53.860125 98.602247 L 53.860125 98.668842 L 53.914968 98.67276 L 53.914968 98.774612 L 53.969812 98.774612 L 53.969812 98.798117 L 53.973729 98.798117 L 53.973729 98.829456 L 54.03249 98.833373 L 54.03249 98.899969 L 54.036408 98.903886 L 54.036408 98.970482 L 54.150012 98.974399 L 54.150012 99.017491 L 54.185269 99.021408 L 54.185269 99.174187 L 54.247947 99.174187 L 54.247947 99.225113 L 54.302791 99.22903 L 54.302791 99.330883 L 54.361552 99.330883 L 54.361552 99.420983 L 54.365469 99.4249 L 54.365469 99.456239 L 54.479074 99.460157 L 54.479074 99.597266 L 54.537835 99.601183 L 54.537835 99.612935 L 54.541752 99.616853 L 54.541752 99.800971 L 54.655356 99.800971 L 54.655356 99.83231 L 54.659274 99.836227 L 54.659274 99.902823 L 54.772878 99.90674 L 54.772878 99.910658 L 54.808135 99.910658 L 54.808135 99.945914 L 54.812052 99.945914 L 54.812052 99.969419 L 54.835557 99.969419 L 54.835557 100.055601 L 54.870813 100.055601 L 54.870813 100.157454 L 54.953079 100.161371 L 54.953079 100.169206 L 54.988335 100.173123 L 54.988335 100.380745 L 55.047096 100.380745 L 55.047096 100.423837 L 55.164618 100.427754 L 55.164618 100.635376 L 55.28214 100.635376 L 55.28214 100.682385 L 55.317397 100.682385 L 55.317397 100.701972 L 55.340901 100.70589 L 55.340901 100.725477 L 55.434919 100.729394 L 55.434919 100.772485 L 55.458423 100.776403 L 55.458423 100.784238 L 55.462341 100.788155 L 55.462341 100.807742 L 55.49368 100.811659 L 55.49368 100.827329 L 55.497597 100.827329 L 55.497597 100.87042 L 55.556358 100.874338 L 55.556358 100.925264 L 55.611202 100.925264 L 55.611202 101.027116 L 55.67388 101.031034 L 55.67388 101.340508 L 55.728724 101.344426 L 55.728724 101.395352 L 55.791402 101.395352 L 55.791402 101.552048 L 55.850163 101.552048 L 55.850163 101.689157 L 55.967685 101.693074 L 55.967685 101.783174 L 56.002942 101.783174 L 56.002942 101.818431 L 56.026446 101.818431 L 56.026446 101.830183 L 56.120464 101.830183 L 56.120464 101.920283 L 56.143968 101.924201 L 56.143968 101.93987 L 56.183142 101.93987 L 56.183142 102.006466 L 56.237985 102.010383 L 56.237985 102.053475 L 56.292829 102.057392 L 56.292829 102.123988 L 56.300664 102.127905 L 56.300664 102.170997 L 56.359425 102.174914 L 56.359425 102.378619 L 56.414268 102.382536 L 56.414268 102.484388 L 56.476947 102.488306 L 56.476947 102.79778 L 56.625808 102.79778 L 56.625808 102.821285 L 56.629725 102.821285 L 56.629725 102.833037 L 56.65323 102.833037 L 56.65323 102.970146 L 56.688486 102.974063 L 56.688486 102.99365 L 56.747247 102.997568 L 56.747247 103.00932 L 56.770752 103.013237 L 56.770752 103.032824 L 56.802091 103.036742 L 56.802091 103.079833 L 56.806008 103.08375 L 56.806008 103.126842 L 56.809926 103.130759 L 56.809926 103.134677 L 56.92353 103.134677 L 56.92353 103.224777 L 56.978374 103.228694 L 56.978374 103.260033 L 56.986209 103.263951 L 56.986209 103.354051 L 57.095896 103.357968 L 57.095896 103.510747 L 57.217335 103.510747 L 57.217335 103.546003 L 57.252592 103.546003 L 57.252592 103.612599 L 57.280013 103.616517 L 57.280013 103.718369 L 57.311353 103.722286 L 57.311353 103.730121 L 57.31527 103.734039 L 57.31527 103.753626 L 57.374031 103.757543 L 57.374031 103.765378 L 57.428875 103.769295 L 57.428875 103.871148 L 57.487636 103.871148 L 57.487636 103.890735 L 57.491553 103.894652 L 57.491553 103.961248 L 57.546397 103.965165 L 57.546397 103.996504 L 57.605158 104.000422 L 57.605158 104.137531 L 57.609075 104.137531 L 57.609075 104.16887 L 57.722679 104.172787 L 57.722679 104.239383 L 57.78144 104.2433 L 57.78144 104.345153 L 57.898962 104.34907 L 57.898962 104.415666 L 57.938136 104.415666 L 57.938136 104.517518 L 58.000815 104.521436 L 58.000815 104.552775 L 58.051741 104.556692 L 58.051741 104.572362 L 58.055658 104.572362 L 58.055658 104.638958 L 58.114419 104.642875 L 58.114419 104.74081 L 58.118337 104.74081 L 58.118337 104.760397 L 58.169263 104.764314 L 58.169263 104.772149 L 58.177098 104.776067 L 58.177098 104.819158 L 58.231941 104.823075 L 58.231941 104.924928 L 58.290702 104.928845 L 58.290702 105.018945 L 58.29462 105.018945 L 58.29462 105.085541 L 58.408224 105.089458 L 58.408224 105.226567 L 58.466985 105.230485 L 58.466985 105.277494 L 58.56492 105.281411 L 58.56492 105.31275 L 58.584507 105.316668 L 58.584507 105.41852 L 58.623681 105.41852 L 58.623681 105.485116 L 58.702029 105.489033 L 58.702029 105.504703 L 58.737286 105.50862 L 58.737286 105.516455 L 58.741203 105.520372 L 58.741203 105.653564 L 58.799964 105.657481 L 58.799964 105.712325 L 58.803881 105.716242 L 58.803881 105.759334 L 58.854808 105.763251 L 58.854808 105.782838 L 58.917486 105.786755 L 58.917486 105.955204 L 59.035008 105.959121 L 59.035008 105.978708 L 59.093769 105.982625 L 59.093769 106.18633 L 59.097686 106.190247 L 59.097686 106.209834 L 59.211291 106.213752 L 59.211291 106.256843 L 59.24263 106.260761 L 59.24263 106.268595 L 59.250465 106.272513 L 59.250465 106.339109 L 59.305308 106.343026 L 59.305308 106.374365 L 59.360152 106.378283 L 59.360152 106.444878 L 59.387574 106.444878 L 59.387574 106.476218 L 59.42283 106.480135 L 59.42283 106.484052 L 59.426748 106.48797 L 59.426748 106.691674 L 59.540352 106.695592 L 59.540352 106.726931 L 59.54427 106.730848 L 59.54427 106.832701 L 59.599113 106.836618 L 59.599113 106.903214 L 59.657874 106.903214 L 59.657874 106.918884 L 59.720553 106.922801 L 59.720553 107.016819 L 59.869414 107.020736 L 59.869414 107.122588 L 59.932092 107.126506 L 59.932092 107.224441 L 59.986936 107.228358 L 59.986936 107.294954 L 60.045697 107.298871 L 60.045697 107.341963 L 60.053532 107.34588 L 60.053532 107.412476 L 60.108375 107.416393 L 60.108375 107.549585 L 60.163219 107.553502 L 60.163219 107.620098 L 60.225897 107.624015 L 60.225897 107.851224 L 60.284658 107.855142 L 60.284658 107.886481 L 60.343419 107.890398 L 60.343419 107.921738 L 60.382593 107.925655 L 60.40218 107.929572 L 60.40218 107.996168 L 60.496198 108.000086 L 60.496198 108.031425 L 60.523619 108.035342 L 60.523619 108.043177 L 60.554959 108.047094 L 60.554959 108.11369 L 60.558876 108.117608 L 60.558876 108.125442 L 60.617637 108.12936 L 60.617637 108.195955 L 60.672481 108.195955 L 60.672481 108.333064 L 60.731242 108.336982 L 60.731242 108.356569 L 60.735159 108.360486 L 60.735159 108.497595 L 60.848763 108.497595 L 60.848763 108.599448 L 60.907524 108.603365 L 60.907524 108.6112 L 60.911442 108.615117 L 60.911442 108.924592 L 60.966285 108.928509 L 60.966285 108.948096 L 61.028964 108.952013 L 61.028964 109.069535 L 61.068138 109.073453 L 61.068138 109.081288 L 61.146486 109.085205 L 61.146486 109.09304 L 61.181742 109.096957 L 61.181742 109.163553 L 61.205247 109.163553 L 61.205247 109.187057 L 61.240503 109.187057 L 61.240503 109.222314 L 61.244421 109.222314 L 61.244421 109.241901 L 61.358025 109.245818 L 61.358025 109.45344 L 61.475547 109.45344 L 61.475547 109.555293 L 61.534308 109.55921 L 61.534308 109.625806 L 61.538226 109.629723 L 61.538226 109.731576 L 61.65183 109.731576 L 61.65183 109.778584 L 61.687087 109.778584 L 61.687087 109.829511 L 61.753683 109.833428 L 61.753683 109.84518 L 61.804609 109.849098 L 61.804609 109.915693 L 61.832031 109.919611 L 61.832031 109.939198 L 61.867287 109.943115 L 61.867287 110.044968 L 61.871204 110.044968 L 61.871204 110.05672 L 61.984809 110.05672 L 61.984809 110.123316 L 62.04357 110.127233 L 62.04357 110.264342 L 62.161092 110.268259 L 62.161092 110.471964 L 62.219853 110.475881 L 62.219853 110.507221 L 62.313871 110.511138 L 62.313871 110.530725 L 62.337375 110.534642 L 62.337375 110.601238 L 62.372632 110.601238 L 62.372632 110.636495 L 62.431392 110.636495 L 62.431392 110.648247 L 62.43531 110.648247 L 62.43531 110.659999 L 62.454897 110.659999 L 62.454897 110.667834 L 62.486236 110.671751 L 62.486236 110.691338 L 62.490153 110.695256 L 62.490153 110.761851 L 62.494071 110.765769 L 62.494071 110.773604 L 62.552832 110.777521 L 62.552832 110.844117 L 62.556749 110.848034 L 62.556749 110.867621 L 62.607675 110.871539 L 62.607675 110.91463 L 62.670354 110.91463 L 62.670354 111.051739 L 62.729115 111.055656 L 62.729115 111.122252 L 62.846637 111.12617 L 62.846637 111.435644 L 62.964159 111.439561 L 62.964159 111.506157 L 62.995498 111.506157 L 62.995498 111.510075 L 62.999415 111.513992 L 62.999415 111.557083 L 63.02292 111.561001 L 63.02292 111.604092 L 63.058176 111.60801 L 63.058176 111.619762 L 63.11302 111.623679 L 63.11302 111.643266 L 63.140442 111.647184 L 63.140442 111.666771 L 63.171781 111.670688 L 63.171781 111.678523 L 63.175698 111.68244 L 63.175698 111.784292 L 63.179616 111.784292 L 63.179616 111.807797 L 63.289303 111.807797 L 63.289303 111.874393 L 63.29322 111.87831 L 63.29322 111.929236 L 63.355899 111.929236 L 63.355899 112.152528 L 63.406825 112.156445 L 63.406825 112.187785 L 63.47342 112.191702 L 63.47342 112.293554 L 63.622282 112.297472 L 63.622282 112.364067 L 63.649703 112.364067 L 63.649703 112.501176 L 63.68496 112.505094 L 63.68496 112.57169 L 63.798565 112.575607 L 63.798565 112.630451 L 63.802482 112.630451 L 63.802482 112.677459 L 63.861243 112.677459 L 63.861243 112.744055 L 63.916087 112.747973 L 63.916087 112.802816 L 63.974847 112.806733 L 63.974847 112.849825 L 63.978765 112.853742 L 63.978765 112.955595 L 63.982682 112.955595 L 63.982682 112.979099 L 64.092369 112.979099 L 64.092369 113.045695 L 64.249065 113.049612 L 64.249065 113.100538 L 64.307826 113.100538 L 64.307826 113.14363 L 64.311744 113.147547 L 64.311744 113.163217 L 64.370505 113.167134 L 64.370505 113.210226 L 64.425348 113.210226 L 64.425348 113.300326 L 64.484109 113.304243 L 64.484109 113.335582 L 64.488027 113.3395 L 64.488027 113.4296 L 64.546788 113.433517 L 64.546788 113.464856 L 64.601631 113.468774 L 64.601631 113.562791 L 64.660392 113.566709 L 64.660392 113.586296 L 64.66431 113.590213 L 64.66431 113.742992 L 64.719153 113.746909 L 64.719153 113.754744 L 64.777914 113.758661 L 64.777914 113.856596 L 64.781832 113.860514 L 64.781832 113.891853 L 64.895436 113.89577 L 64.895436 113.915357 L 64.93461 113.919275 L 64.93461 114.021127 L 64.989454 114.025044 L 64.989454 114.044631 L 64.997288 114.048549 L 64.997288 114.079888 L 65.110893 114.079888 L 65.110893 114.216997 L 65.169654 114.220914 L 65.169654 114.228749 L 65.173571 114.232667 L 65.173571 114.369775 L 65.228415 114.369775 L 65.228415 114.436371 L 65.287176 114.440289 L 65.287176 114.542141 L 65.291093 114.546058 L 65.291093 114.612654 L 65.404698 114.616572 L 65.404698 114.671415 L 65.463459 114.671415 L 65.463459 114.738011 L 65.467376 114.741928 L 65.467376 114.808524 L 65.580981 114.812442 L 65.580981 114.855533 L 65.616237 114.85945 L 65.616237 115.012229 L 65.737677 115.016146 L 65.737677 115.117999 L 65.79252 115.117999 L 65.79252 115.208099 L 65.800355 115.212016 L 65.800355 115.243355 L 65.91396 115.247273 L 65.91396 115.384382 L 65.968803 115.384382 L 65.968803 115.400051 L 66.066738 115.403969 L 66.066738 115.411803 L 66.086325 115.415721 L 66.086325 115.44706 L 66.090243 115.450977 L 66.090243 115.517573 L 66.207765 115.517573 L 66.207765 115.521491 L 66.239104 115.525408 L 66.239104 115.556747 L 66.243021 115.560665 L 66.243021 115.580252 L 66.301782 115.584169 L 66.301782 115.686021 L 66.356626 115.686021 L 66.356626 115.752617 L 66.384048 115.756535 L 66.384048 115.764369 L 66.419304 115.768287 L 66.419304 115.975909 L 66.478065 115.975909 L 66.478065 116.019 L 66.595587 116.022918 L 66.595587 116.23054 L 66.713109 116.234457 L 66.713109 116.277549 L 66.752283 116.277549 L 66.752283 116.301053 L 66.77187 116.301053 L 66.77187 116.32064 L 66.865888 116.324557 L 66.865888 116.367649 L 66.889392 116.371566 L 66.889392 116.379401 L 66.924649 116.383318 L 66.924649 116.398988 L 66.928566 116.398988 L 66.928566 116.445997 L 66.987327 116.445997 L 66.987327 116.496923 L 67.04217 116.50084 L 67.04217 116.598775 L 67.104849 116.602693 L 67.104849 116.912167 L 67.159692 116.916085 L 67.159692 116.967011 L 67.222371 116.967011 L 67.222371 117.123707 L 67.281132 117.123707 L 67.281132 117.260816 L 67.398654 117.264733 L 67.398654 117.354833 L 67.437828 117.358751 L 67.437828 117.39009 L 67.551432 117.394007 L 67.551432 117.460603 L 67.55535 117.460603 L 67.55535 117.48019 L 67.574937 117.484107 L 67.574937 117.499777 L 67.614111 117.503694 L 67.614111 117.57029 L 67.668954 117.57029 L 67.668954 117.613381 L 67.727715 117.617299 L 67.727715 117.683895 L 67.731633 117.687812 L 67.731633 117.730903 L 67.845237 117.734821 L 67.845237 117.836673 L 67.907916 117.836673 L 67.907916 118.150065 L 68.056777 118.150065 L 68.056777 118.173569 L 68.064612 118.173569 L 68.064612 118.185322 L 68.119455 118.185322 L 68.119455 118.204909 L 68.174299 118.208826 L 68.174299 118.251917 L 68.178216 118.255835 L 68.178216 118.271504 L 68.20172 118.271504 L 68.20172 118.295009 L 68.236977 118.295009 L 68.236977 118.3381 L 68.240894 118.342018 L 68.240894 118.392944 L 68.354499 118.396861 L 68.354499 118.483044 L 68.41326 118.486961 L 68.41326 118.5183 L 68.530782 118.522218 L 68.530782 118.674996 L 68.648304 118.678914 L 68.648304 118.710253 L 68.68356 118.71417 L 68.68356 118.780766 L 68.742321 118.784684 L 68.742321 118.792518 L 68.746239 118.796436 L 68.746239 118.816023 L 68.797165 118.81994 L 68.797165 118.827775 L 68.805 118.831692 L 68.805 118.839527 L 68.859843 118.839527 L 68.859843 118.91004 L 68.863761 118.91004 L 68.863761 118.94138 L 68.922522 118.945297 L 68.922522 119.035397 L 68.977365 119.039314 L 68.977365 119.070654 L 69.040044 119.074571 L 69.040044 119.207763 L 69.043961 119.21168 L 69.043961 119.243019 L 69.157566 119.246937 L 69.157566 119.313532 L 69.216327 119.31745 L 69.216327 119.419302 L 69.333849 119.419302 L 69.333849 119.489815 L 69.369105 119.489815 L 69.369105 119.591668 L 69.431784 119.595585 L 69.431784 119.626924 L 69.48271 119.630842 L 69.48271 119.642594 L 69.486627 119.646511 L 69.486627 119.713107 L 69.545388 119.717024 L 69.545388 119.760116 L 69.549306 119.764033 L 69.549306 119.834546 L 69.600232 119.838464 L 69.600232 119.846299 L 69.66291 119.850216 L 69.66291 119.916812 L 69.666827 119.920729 L 69.666827 119.952068 L 69.725588 119.955986 L 69.725588 120.112682 L 69.84311 120.116599 L 69.84311 120.253708 L 69.991972 120.257625 L 69.991972 120.277212 L 69.995889 120.28113 L 69.995889 120.312469 L 70.019393 120.312469 L 70.019393 120.414321 L 70.05465 120.418239 L 70.05465 120.484835 L 70.136915 120.488752 L 70.136915 120.504422 L 70.168254 120.504422 L 70.168254 120.512256 L 70.172172 120.516174 L 70.172172 120.653283 L 70.230933 120.6572 L 70.230933 120.676787 L 70.285776 120.680704 L 70.285776 120.700291 L 70.348455 120.704209 L 70.348455 120.802144 L 70.352372 120.806061 L 70.352372 120.872657 L 70.465977 120.876574 L 70.465977 120.896161 L 70.618755 120.900079 L 70.618755 120.966675 L 70.646177 120.970592 L 70.646177 121.013683 L 70.673599 121.013683 L 70.673599 121.025436 L 70.681434 121.025436 L 70.681434 121.092031 L 70.740195 121.095949 L 70.740195 121.127288 L 70.795038 121.131205 L 70.795038 121.197801 L 70.853799 121.201718 L 70.853799 121.205636 L 70.857717 121.205636 L 70.857717 121.413258 L 70.91256 121.417175 L 70.91256 121.448515 L 70.971321 121.448515 L 70.971321 121.483771 L 70.975239 121.483771 L 70.975239 121.585624 L 71.034 121.589541 L 71.034 121.656137 L 71.088843 121.660054 L 71.088843 121.671806 L 71.151522 121.675724 L 71.151522 121.718815 L 71.300383 121.722732 L 71.300383 121.824585 L 71.366978 121.828502 L 71.366978 121.930355 L 71.421822 121.930355 L 71.421822 121.99695 L 71.476666 122.000868 L 71.476666 122.043959 L 71.4845 122.047877 L 71.4845 122.114472 L 71.543261 122.11839 L 71.543261 122.251581 L 71.598105 122.255499 L 71.598105 122.322094 L 71.656866 122.326012 L 71.656866 122.345599 L 71.660783 122.349516 L 71.660783 122.553221 L 71.774388 122.557138 L 71.774388 122.588478 L 71.813562 122.592395 L 71.813562 122.596312 L 71.837066 122.60023 L 71.837066 122.666825 L 71.927166 122.666825 L 71.927166 122.698165 L 71.954588 122.702082 L 71.954588 122.709917 L 71.985927 122.713834 L 71.985927 122.78043 L 71.993762 122.784347 L 71.993762 122.792182 L 72.103449 122.7961 L 72.103449 122.933209 L 72.16221 122.933209 L 72.16221 122.956713 L 72.170045 122.956713 L 72.170045 123.093822 L 72.279732 123.097739 L 72.279732 123.199592 L 72.397254 123.199592 L 72.397254 123.223096 L 72.436428 123.223096 L 72.436428 123.254435 L 72.459933 123.258353 L 72.459933 123.309279 L 72.46385 123.313196 L 72.46385 123.379792 L 72.499107 123.379792 L 72.499107 123.391544 L 72.577455 123.391544 L 72.577455 123.399379 L 72.612711 123.403296 L 72.612711 123.469892 L 72.671472 123.47381 L 72.671472 123.505149 L 72.788994 123.509066 L 72.788994 123.712771 L 72.906516 123.716688 L 72.906516 123.818541 L 72.965277 123.822458 L 72.965277 123.889054 L 73.082799 123.892971 L 73.082799 123.936063 L 73.121973 123.936063 L 73.121973 123.986989 L 73.184651 123.990906 L 73.184651 124.002658 L 73.235578 124.006576 L 73.235578 124.037915 L 73.239495 124.041832 L 73.239495 124.073172 L 73.298256 124.077089 L 73.298256 124.178941 L 73.302173 124.182859 L 73.302173 124.190694 L 73.353099 124.190694 L 73.353099 124.214198 L 73.415778 124.214198 L 73.415778 124.280794 L 73.474539 124.284711 L 73.474539 124.42182 L 73.592061 124.425737 L 73.592061 124.629442 L 73.650822 124.63336 L 73.650822 124.664699 L 73.748757 124.668616 L 73.748757 124.688203 L 73.768344 124.692121 L 73.768344 124.758716 L 73.807518 124.762634 L 73.807518 124.793973 L 73.862361 124.793973 L 73.862361 124.805725 L 73.885866 124.805725 L 73.885866 124.817477 L 73.921122 124.817477 L 73.921122 124.840982 L 73.92504 124.840982 L 73.92504 124.91933 L 73.983801 124.923247 L 73.983801 124.989843 L 73.987718 124.99376 L 73.987718 125.013347 L 74.038644 125.017265 L 74.038644 125.060356 L 74.101323 125.060356 L 74.101323 125.197465 L 74.277606 125.201382 L 74.277606 125.510857 L 74.395127 125.514774 L 74.395127 125.58137 L 74.426467 125.585287 L 74.434301 125.589205 L 74.434301 125.632296 L 74.489145 125.636214 L 74.489145 125.651883 L 74.543989 125.651883 L 74.543989 125.68714 L 74.547906 125.68714 L 74.547906 125.706727 L 74.57141 125.710644 L 74.57141 125.730231 L 74.606667 125.734149 L 74.606667 125.847753 L 74.610584 125.85167 L 74.610584 125.871257 L 74.724189 125.875175 L 74.724189 125.941771 L 74.728106 125.941771 L 74.728106 125.992697 L 74.841711 125.996614 L 74.841711 126.027953 L 74.904389 126.031871 L 74.904389 126.133723 L 75.05325 126.133723 L 75.05325 126.200319 L 75.115929 126.204236 L 75.115929 126.270832 L 75.170772 126.274749 L 75.170772 126.317841 L 75.229533 126.321758 L 75.229533 126.341345 L 75.233451 126.345263 L 75.233451 126.423611 L 75.292212 126.423611 L 75.292212 126.490206 L 75.347055 126.494124 L 75.347055 126.525463 L 75.350973 126.52938 L 75.350973 126.548967 L 75.409734 126.552885 L 75.409734 126.701746 L 75.527256 126.701746 L 75.527256 126.768342 L 75.680034 126.772259 L 75.680034 126.823185 L 75.738795 126.823185 L 75.738795 126.866277 L 75.742713 126.870194 L 75.742713 126.885864 L 75.801474 126.889781 L 75.801474 126.932872 L 75.856317 126.93679 L 75.856317 127.022973 L 75.915078 127.02689 L 75.915078 127.058229 L 75.918995 127.062147 L 75.918995 127.152247 L 76.0326 127.156164 L 76.0326 127.203173 L 76.036517 127.20709 L 76.036517 127.250182 L 76.091361 127.254099 L 76.091361 127.273686 L 76.095278 127.277604 L 76.095278 127.430382 L 76.150122 127.434299 L 76.150122 127.442134 L 76.2128 127.446052 L 76.2128 127.583161 L 76.330322 127.583161 L 76.330322 127.602748 L 76.365579 127.606665 L 76.365579 127.708517 L 76.42434 127.712435 L 76.42434 127.732022 L 76.428257 127.735939 L 76.428257 127.767278 L 76.541862 127.771196 L 76.541862 127.904387 L 76.659384 127.908305 L 76.659384 127.9749 L 76.718145 127.978818 L 76.718145 128.08067 L 76.722062 128.084588 L 76.722062 128.151183 L 76.835667 128.151183 L 76.835667 128.17077 L 76.839584 128.174688 L 76.839584 128.206027 L 76.988445 128.209944 L 76.988445 128.260871 L 77.01195 128.260871 L 77.01195 128.307879 L 77.051124 128.307879 L 77.051124 128.460658 L 77.168646 128.464575 L 77.168646 128.566428 L 77.227407 128.570345 L 77.227407 128.660445 L 77.344929 128.664363 L 77.344929 128.797554 L 77.403689 128.801472 L 77.403689 128.817141 L 77.497707 128.817141 L 77.497707 128.828893 L 77.521211 128.828893 L 77.521211 128.86415 L 77.615229 128.86415 L 77.615229 128.887654 L 77.638733 128.887654 L 77.638733 128.891572 L 77.670073 128.895489 L 77.670073 128.926828 L 77.677907 128.930746 L 77.677907 128.950333 L 77.736668 128.95425 L 77.736668 129.052185 L 77.787595 129.056102 L 77.787595 129.122698 L 77.85419 129.126616 L 77.85419 129.33032 L 77.912951 129.334238 L 77.912951 129.377329 L 78.030473 129.381246 L 78.030473 129.588869 L 78.147995 129.588869 L 78.147995 129.63196 L 78.183252 129.635877 L 78.183252 129.655464 L 78.206756 129.659382 L 78.206756 129.678969 L 78.296856 129.682886 L 78.296856 129.725978 L 78.324278 129.729895 L 78.324278 129.73773 L 78.355617 129.741647 L 78.355617 129.757317 L 78.363452 129.757317 L 78.363452 129.800408 L 78.473139 129.804326 L 78.473139 129.906178 L 78.539735 129.910095 L 78.539735 130.21957 L 78.590661 130.223487 L 78.590661 130.270496 L 78.657257 130.274413 L 78.657257 130.427192 L 78.806118 130.431109 L 78.806118 130.462448 L 78.83354 130.466366 L 78.83354 130.556466 L 78.868797 130.556466 L 78.868797 130.591723 L 78.982401 130.591723 L 78.982401 130.658318 L 78.986318 130.662236 L 78.986318 130.681823 L 79.099923 130.68574 L 79.099923 130.728832 L 79.158684 130.732749 L 79.158684 130.799345 L 79.166519 130.803262 L 79.166519 130.846354 L 79.276206 130.846354 L 79.276206 130.948206 L 79.432902 130.952123 L 79.432902 130.983462 L 79.491663 130.98738 L 79.491663 131.006967 L 79.49558 131.010884 L 79.49558 131.018719 L 79.554341 131.022636 L 79.554341 131.042223 L 79.609185 131.046141 L 79.609185 131.104902 L 79.667946 131.108819 L 79.667946 131.151911 L 79.671863 131.155828 L 79.671863 131.198919 L 79.785468 131.202837 L 79.785468 131.292937 L 79.844229 131.292937 L 79.844229 131.328194 L 79.961751 131.328194 L 79.961751 131.484889 L 80.079273 131.484889 L 80.079273 131.516229 L 80.118447 131.520146 L 80.118447 131.586742 L 80.17329 131.590659 L 80.17329 131.598494 L 80.181125 131.602411 L 80.181125 131.621998 L 80.232051 131.625916 L 80.232051 131.633751 L 80.290812 131.637668 L 80.290812 131.704264 L 80.29473 131.708181 L 80.29473 131.73952 L 80.353491 131.73952 L 80.353491 131.763025 L 80.357408 131.763025 L 80.357408 131.829621 L 80.412252 131.833538 L 80.412252 131.864877 L 80.471013 131.868795 L 80.471013 132.005903 L 80.47493 132.005903 L 80.47493 132.04116 L 80.588534 132.04116 L 80.588534 132.107756 L 80.647295 132.111673 L 80.647295 132.213526 L 80.764817 132.217443 L 80.764817 132.284039 L 80.800074 132.287956 L 80.800074 132.385891 L 80.917596 132.389809 L 80.917596 132.475991 L 80.976357 132.475991 L 80.976357 132.519083 L 80.980274 132.523 L 80.980274 132.573926 L 80.984192 132.577844 L 80.984192 132.597431 L 81.035118 132.597431 L 81.035118 132.609183 L 81.093879 132.609183 L 81.093879 132.675779 L 81.097796 132.679696 L 81.097796 132.711035 L 81.274079 132.714953 L 81.274079 132.852062 L 81.42294 132.855979 L 81.42294 132.875566 L 81.426858 132.875566 L 81.426858 132.910823 L 81.485619 132.910823 L 81.485619 132.977418 L 81.540462 132.981336 L 81.540462 133.024427 L 81.567884 133.028344 L 81.567884 133.044014 L 81.603141 133.044014 L 81.603141 133.192875 L 81.661902 133.196793 L 81.661902 133.21638 L 81.720663 133.220297 L 81.720663 133.239884 L 81.779424 133.243801 L 81.779424 133.345654 L 81.896946 133.345654 L 81.896946 133.369158 L 82.049724 133.369158 L 82.049724 133.435754 L 82.108485 133.439671 L 82.108485 133.447506 L 82.112402 133.451424 L 82.112402 133.518019 L 82.171163 133.521937 L 82.171163 133.553276 L 82.226007 133.557193 L 82.226007 133.623789 L 82.284768 133.623789 L 82.284768 133.627706 L 82.288685 133.631624 L 82.288685 133.835329 L 82.343529 133.839246 L 82.343529 133.870585 L 82.40229 133.874503 L 82.40229 133.905842 L 82.406207 133.909759 L 82.406207 134.011612 L 82.464968 134.015529 L 82.464968 134.082125 L 82.523729 134.082125 L 82.523729 134.097794 L 82.58249 134.101712 L 82.58249 134.144803 L 82.735269 134.14872 L 82.735269 134.246655 L 82.797947 134.250573 L 82.797947 134.352425 L 82.852791 134.356343 L 82.852791 134.422938 L 82.911552 134.426856 L 82.911552 134.469947 L 82.915469 134.469947 L 82.915469 134.536543 L 83.029074 134.54046 L 83.029074 134.607056 L 83.087835 134.610973 L 83.087835 134.63056 L 83.091752 134.634478 L 83.091752 134.838183 L 83.205357 134.8421 L 83.205357 134.873439 L 83.248448 134.877357 L 83.248448 134.881274 L 83.362053 134.885191 L 83.362053 134.916531 L 83.385557 134.916531 L 83.385557 134.928283 L 83.420814 134.928283 L 83.420814 134.994879 L 83.424731 134.998796 L 83.424731 135.006631 L 83.538336 135.010548 L 83.538336 135.147657 L 83.597097 135.151574 L 83.597097 135.171161 L 83.714618 135.175079 L 83.714618 135.273014 L 83.83214 135.276931 L 83.83214 135.296518 L 83.867397 135.300436 L 83.867397 135.331775 L 83.930075 135.335692 L 83.930075 135.343527 L 83.981002 135.347444 L 83.981002 135.367031 L 84.008423 135.370949 L 84.008423 135.378784 L 84.047597 135.382701 L 84.047597 135.449297 L 84.106358 135.453214 L 84.106358 135.484553 L 84.22388 135.484553 L 84.22388 135.692175 L 84.341402 135.696093 L 84.341402 135.797945 L 84.400163 135.797945 L 84.400163 135.864541 L 84.517685 135.868458 L 84.517685 135.91155 L 84.552942 135.915467 L 84.552942 135.966393 L 84.61562 135.966393 L 84.61562 135.982063 L 84.666546 135.98598 L 84.666546 136.01732 L 84.670464 136.021237 L 84.670464 136.052576 L 84.733142 136.052576 L 84.733142 136.166181 L 84.784068 136.170098 L 84.784068 136.189685 L 84.850664 136.193602 L 84.850664 136.260198 L 84.905508 136.264116 L 84.905508 136.401225 L 85.026947 136.401225 L 85.026947 136.608847 L 85.175808 136.612764 L 85.175808 136.620599 L 85.179725 136.624516 L 85.179725 136.644103 L 85.20323 136.644103 L 85.20323 136.710699 L 85.238486 136.714616 L 85.238486 136.745956 L 85.29333 136.749873 L 85.29333 136.757708 L 85.320752 136.761625 L 85.320752 136.76946 L 85.352091 136.773377 L 85.352091 136.792964 L 85.356008 136.796882 L 85.356008 136.863478 L 85.359926 136.867395 L 85.359926 136.87523 L 85.469613 136.879147 L 85.469613 136.922239 L 85.532291 136.922239 L 85.532291 137.059348 L 85.802592 137.063265 L 85.802592 137.106356 L 85.830014 137.110274 L 85.830014 137.176869 L 85.857435 137.180787 L 85.86527 137.184704 L 85.86527 137.227796 L 85.924031 137.231713 L 85.924031 137.247383 L 85.978875 137.247383 L 85.978875 137.302226 L 86.037636 137.306144 L 86.037636 137.313978 L 86.041553 137.317896 L 86.041553 137.419748 L 86.096397 137.423666 L 86.096397 137.435418 L 86.155158 137.439335 L 86.155158 137.505931 L 86.159075 137.509848 L 86.159075 137.560775 L 86.27268 137.560775 L 86.27268 137.592114 L 86.484219 137.596031 L 86.484219 137.662627 L 86.550815 137.666544 L 86.550815 137.73314 L 86.605659 137.737057 L 86.605659 137.780149 L 86.660502 137.784066 L 86.660502 137.803653 L 86.66442 137.803653 L 86.66442 137.83891 L 86.668337 137.83891 L 86.668337 137.882001 L 86.727098 137.885919 L 86.727098 137.952514 L 86.778024 137.956432 L 86.778024 137.987771 L 86.781941 137.991688 L 86.781941 138.011275 L 86.840702 138.015193 L 86.840702 138.058284 L 86.84462 138.062202 L 86.84462 138.160137 L 86.958224 138.164054 L 86.958224 138.23065 L 87.111003 138.234567 L 87.111003 138.285493 L 87.169764 138.285493 L 87.169764 138.328585 L 87.177599 138.332502 L 87.177599 138.348172 L 87.287286 138.352089 L 87.287286 138.438272 L 87.346047 138.442189 L 87.346047 138.450024 L 87.349964 138.453941 L 87.349964 138.473528 L 87.353882 138.477446 L 87.353882 138.567546 L 87.463569 138.571463 L 87.463569 138.618472 L 87.467486 138.62239 L 87.467486 138.665481 L 87.581091 138.669398 L 87.581091 138.677233 L 87.643769 138.681151 L 87.643769 138.783003 L 87.647687 138.78692 L 87.647687 138.818259 L 87.761291 138.818259 L 87.761291 138.841764 L 87.796548 138.841764 L 87.796548 138.943616 L 87.855309 138.947534 L 87.855309 138.967121 L 87.972831 138.971038 L 87.972831 139.108147 L 88.090353 139.108147 L 88.090353 139.174743 L 88.149114 139.17866 L 88.149114 139.209999 L 88.266636 139.213917 L 88.266636 139.233504 L 88.270553 139.237421 L 88.270553 139.26876 L 88.419414 139.272678 L 88.419414 139.319686 L 88.482092 139.323604 L 88.482092 139.476382 L 88.536936 139.4803 L 88.536936 139.511639 L 88.599614 139.515556 L 88.599614 139.617409 L 88.658375 139.621326 L 88.658375 139.711426 L 88.775897 139.711426 L 88.775897 139.848535 L 88.834658 139.852453 L 88.834658 139.868122 L 88.932593 139.868122 L 88.932593 139.879874 L 88.95218 139.879874 L 88.95218 139.911214 L 89.046198 139.915131 L 89.046198 139.934718 L 89.069702 139.938635 L 89.069702 139.942553 L 89.104959 139.94647 L 89.104959 139.977809 L 89.108876 139.977809 L 89.108876 140.001314 L 89.167637 140.001314 L 89.167637 140.103166 L 89.222481 140.107084 L 89.222481 140.173679 L 89.285159 140.177597 L 89.285159 140.381301 L 89.461442 140.385219 L 89.461442 140.592841 L 89.578964 140.592841 L 89.578964 140.635932 L 89.614221 140.63985 L 89.614221 140.659437 L 89.731743 140.663354 L 89.731743 140.706446 L 89.755247 140.710363 L 89.755247 140.718198 L 89.790504 140.722115 L 89.790504 140.737785 L 89.794421 140.737785 L 89.794421 140.780876 L 89.908025 140.784793 L 89.908025 140.886646 L 90.025547 140.890563 L 90.025547 140.937572 L 90.088226 140.941489 L 90.088226 141.094268 L 90.237087 141.098185 L 90.237087 141.129525 L 90.299765 141.133442 L 90.299765 141.164781 L 90.354609 141.168699 L 90.354609 141.188286 L 90.417287 141.192203 L 90.417287 141.282303 L 90.534809 141.282303 L 90.534809 141.325394 L 90.59357 141.329312 L 90.59357 141.395908 L 90.711092 141.399825 L 90.711092 141.501677 L 90.863871 141.505595 L 90.863871 141.536934 L 90.922632 141.540851 L 90.922632 141.560438 L 90.926549 141.560438 L 90.926549 141.572191 L 90.977475 141.572191 L 90.977475 141.576108 L 90.98531 141.580025 L 90.98531 141.599612 L 91.040154 141.60353 L 91.040154 141.646621 L 91.044071 141.650539 L 91.044071 141.662291 L 91.098915 141.666208 L 91.098915 141.7093 L 91.102832 141.713217 L 91.102832 141.756308 L 91.220354 141.760226 L 91.220354 141.850326 L 91.275198 141.850326 L 91.275198 141.885582 L 91.392719 141.885582 L 91.392719 142.042278 L 91.514159 142.042278 L 91.514159 142.073618 L 91.549415 142.077535 L 91.549415 142.144131 L 91.608176 142.148048 L 91.608176 142.155883 L 91.612094 142.1598 L 91.612094 142.179387 L 91.66302 142.183305 L 91.66302 142.19114 L 91.725698 142.195057 L 91.725698 142.296909 L 91.84322 142.296909 L 91.84322 142.332166 L 91.901981 142.332166 L 91.901981 142.469275 L 91.905899 142.473192 L 91.905899 142.504531 L 92.019503 142.508449 L 92.019503 142.575045 L 92.168364 142.575045 L 92.168364 142.610301 L 92.195786 142.610301 L 92.195786 142.676897 L 92.23496 142.680814 L 92.23496 142.782667 L 92.348565 142.786584 L 92.348565 142.798336 L 92.352482 142.802254 L 92.352482 142.868849 L 92.411243 142.872767 L 92.411243 142.915858 L 92.466087 142.919776 L 92.466087 142.92761 L 92.528765 142.931528 L 92.528765 143.03338 L 92.795148 143.03338 L 92.795148 143.064719 L 92.853909 143.068637 L 92.853909 143.088224 L 92.861744 143.092141 L 92.861744 143.12348 L 92.920505 143.127398 L 92.920505 143.193994 L 92.971431 143.197911 L 92.971431 143.241002 L 93.034109 143.24492 L 93.034109 143.252755 L 93.038027 143.256672 L 93.038027 143.389863 L 93.096788 143.393781 L 93.096788 143.413368 L 93.151631 143.417285 L 93.151631 143.436872 L 93.21431 143.44079 L 93.21431 143.542642 L 93.331832 143.546559 L 93.331832 143.566146 L 93.480693 143.566146 L 93.480693 143.63666 L 93.539454 143.63666 L 93.539454 143.644494 L 93.547289 143.648412 L 93.547289 143.715008 L 93.656976 143.718925 L 93.656976 143.785521 L 93.719654 143.789438 L 93.723572 143.793356 L 93.723572 144.000978 L 93.774498 144.000978 L 93.774498 144.036234 L 93.837176 144.036234 L 93.837176 144.071491 L 93.841094 144.071491 L 93.841094 144.173343 L 93.954698 144.177261 L 93.954698 144.19293 L 94.017376 144.19293 L 94.017376 144.236022 L 94.166238 144.239939 L 94.166238 144.341791 L 94.28376 144.345709 L 94.28376 144.412304 L 94.342521 144.416222 L 94.342521 144.459313 L 94.350355 144.459313 L 94.350355 144.525909 L 94.460043 144.529826 L 94.460043 144.596422 L 94.616738 144.60034 L 94.616738 144.616009 L 94.640243 144.616009 L 94.640243 144.651266 L 94.679417 144.651266 L 94.679417 144.655183 L 94.793021 144.659101 L 94.793021 144.69044 L 94.851782 144.694357 L 94.851782 144.760953 L 94.969304 144.760953 L 94.969304 144.898062 L 95.028065 144.901979 L 95.028065 144.921566 L 95.145587 144.925484 L 95.145587 145.027336 L 95.263109 145.027336 L 95.263109 145.05084 L 95.298366 145.05084 L 95.298366 145.086097 L 95.364962 145.086097 L 95.364962 145.093932 L 95.415888 145.097849 L 95.415888 145.117436 L 95.478566 145.121354 L 95.478566 145.187949 L 95.537327 145.191867 L 95.537327 145.223206 L 95.654849 145.227123 L 95.654849 145.430828 L 95.772371 145.434745 L 95.772371 145.536598 L 95.831132 145.540515 L 95.831132 145.607111 L 95.948654 145.607111 L 95.948654 145.65412 L 95.983911 145.65412 L 95.983911 145.705046 L 96.101432 145.708963 L 96.101432 145.775559 L 96.164111 145.775559 L 96.164111 145.877412 L 96.168028 145.881329 L 96.168028 145.889164 L 96.218954 145.893081 L 96.218954 145.912668 L 96.281633 145.916586 L 96.281633 145.983181 L 96.457916 145.987099 L 96.457916 146.190803 L 96.606777 146.194721 L 96.606777 146.202556 L 96.610694 146.206473 L 96.610694 146.22606 L 96.669455 146.229977 L 96.669455 146.261317 L 96.724299 146.265234 L 96.724299 146.284821 L 96.728216 146.288738 L 96.728216 146.296573 L 96.751721 146.300491 L 96.751721 146.308325 L 96.78306 146.312243 L 96.78306 146.33183 L 96.786977 146.33183 L 96.786977 146.398426 L 96.790895 146.402343 L 96.790895 146.410178 L 96.904499 146.414095 L 96.904499 146.457186 L 97.233561 146.461104 L 97.233561 146.504195 L 97.292322 146.508113 L 97.292322 146.51203 L 97.296239 146.51203 L 97.296239 146.555121 L 97.355 146.559039 L 97.355 146.574708 L 97.409844 146.578626 L 97.409844 146.633469 L 97.468605 146.633469 L 97.468605 146.645222 L 97.472522 146.645222 L 97.472522 146.747074 L 97.527366 146.750991 L 97.527366 146.766661 L 97.586127 146.766661 L 97.586127 146.833257 L 97.590044 146.837174 L 97.590044 146.8881 L 97.707566 146.892018 L 97.707566 146.923357 L 97.919105 146.923357 L 97.919105 146.989953 L 97.981784 146.99387 L 97.981784 147.060466 L 98.036627 147.064383 L 98.036627 147.107475 L 98.095388 147.111392 L 98.095388 147.166236 L 98.099306 147.170153 L 98.099306 147.213244 L 98.21291 147.213244 L 98.21291 147.268088 L 98.271671 147.272005 L 98.271671 147.315097 L 98.275589 147.319014 L 98.275589 147.420867 L 98.389193 147.424784 L 98.389193 147.49138 L 98.545889 147.49138 L 98.545889 147.542306 L 98.60465 147.546223 L 98.60465 147.589315 L 98.608568 147.593232 L 98.608568 147.604984 L 98.722172 147.608902 L 98.722172 147.699002 L 98.780933 147.702919 L 98.780933 147.710754 L 98.898455 147.714671 L 98.898455 147.808689 L 99.015977 147.812606 L 99.015977 147.820441 L 99.164838 147.824359 L 99.164838 147.855698 L 99.19226 147.859615 L 99.19226 147.879202 L 99.231434 147.88312 L 99.231434 147.981055 L 99.286277 147.984972 L 99.286277 148.004559 L 99.407717 148.008476 L 99.407717 148.145585 L 99.525239 148.149503 L 99.525239 148.216098 L 99.584 148.216098 L 99.584 148.251355 L 99.701522 148.251355 L 99.701522 148.270942 L 99.850383 148.274859 L 99.850383 148.325786 L 99.913061 148.329703 L 99.913061 148.482482 L 99.967905 148.482482 L 99.967905 148.517738 L 100.034501 148.517738 L 100.034501 148.61959 L 100.089344 148.623508 L 100.089344 148.713608 L 100.210783 148.717525 L 100.210783 148.850717 L 100.363562 148.854634 L 100.363562 148.862469 L 100.383149 148.866387 L 100.383149 148.897726 L 100.477167 148.901643 L 100.477167 148.92123 L 100.504588 148.925148 L 100.504588 148.929065 L 100.535928 148.929065 L 100.535928 148.964322 L 100.539845 148.964322 L 100.539845 148.987826 L 100.65345 148.987826 L 100.65345 149.054422 L 100.716128 149.058339 L 100.716128 149.265961 L 100.986428 149.265961 L 100.986428 149.285548 L 101.009933 149.289466 L 101.009933 149.332557 L 101.049107 149.336474 L 101.049107 149.356061 L 101.162711 149.359979 L 101.162711 149.40307 L 101.221472 149.406988 L 101.221472 149.422657 L 101.338994 149.422657 L 101.338994 149.52451 L 101.456516 149.528427 L 101.456516 149.575436 L 101.668056 149.579353 L 101.668056 149.610692 L 101.734651 149.61461 L 101.734651 149.645949 L 101.785578 149.649866 L 101.785578 149.669453 L 101.848256 149.673371 L 101.848256 149.739966 L 101.852173 149.743884 L 101.852173 149.763471 L 101.965778 149.767388 L 101.965778 149.81048 L 102.024539 149.81048 L 102.024539 149.877075 L 102.142061 149.880993 L 102.142061 149.982845 L 102.294839 149.986763 L 102.294839 150.018102 L 102.3536 150.022019 L 102.3536 150.041606 L 102.361435 150.045524 L 102.361435 150.053358 L 102.412361 150.057276 L 102.471122 150.061193 L 102.471122 150.104284 L 102.47504 150.108202 L 102.47504 150.123871 L 102.533801 150.123871 L 102.533801 150.166963 L 102.537718 150.17088 L 102.537718 150.213972 L 102.651323 150.217889 L 102.651323 150.307989 L 102.827606 150.311907 L 102.827606 150.464685 L 102.945128 150.468603 L 102.945128 150.499942 L 102.980384 150.503859 L 102.980384 150.570455 L 103.039145 150.570455 L 103.039145 150.582207 L 103.093989 150.582207 L 103.093989 150.590042 L 103.156667 150.593959 L 103.156667 150.660555 L 103.160585 150.664472 L 103.160585 150.695812 L 103.274189 150.699729 L 103.274189 150.731068 L 103.454389 150.734986 L 103.454389 150.801581 L 103.603251 150.801581 L 103.603251 150.836838 L 103.665929 150.836838 L 103.665929 150.93869 L 103.720773 150.942608 L 103.720773 150.962195 L 103.779534 150.966112 L 103.779534 150.981782 L 103.783451 150.981782 L 103.783451 151.048378 L 103.842212 151.052295 L 103.842212 151.095386 L 103.897055 151.099304 L 103.897055 151.107139 L 103.959734 151.111056 L 103.959734 151.177652 L 104.230034 151.181569 L 104.230034 151.212908 L 104.288795 151.216826 L 104.288795 151.236413 L 104.292713 151.236413 L 104.292713 151.271669 L 104.351474 151.271669 L 104.351474 151.338265 L 104.406317 151.342182 L 104.406317 151.385274 L 104.465078 151.389191 L 104.465078 151.397026 L 104.468996 151.400943 L 104.468996 151.538052 L 104.5826 151.538052 L 104.5826 151.561557 L 104.645279 151.561557 L 104.645279 151.663409 L 104.762801 151.667326 L 104.762801 151.686913 L 104.915579 151.690831 L 104.915579 151.757427 L 104.970423 151.761344 L 104.970423 151.769179 L 104.978257 151.773096 L 104.978257 151.839692 L 105.091862 151.839692 L 105.091862 151.906288 L 105.209384 151.910205 L 105.209384 151.941544 L 105.268145 151.945462 L 105.268145 151.976801 L 105.272062 151.980718 L 105.272062 152.082571 L 105.385667 152.086488 L 105.385667 152.09824 L 105.597206 152.102158 L 105.597206 152.20401 L 105.718646 152.207927 L 105.718646 152.274523 L 105.773489 152.274523 L 105.773489 152.317615 L 105.894929 152.321532 L 105.894929 152.388128 L 106.047707 152.392045 L 106.047707 152.407715 L 106.110386 152.407715 L 106.110386 152.411632 L 106.161312 152.41555 L 106.161312 152.423384 L 106.227908 152.427302 L 106.227908 152.458641 L 106.282751 152.462558 L 106.282751 152.529154 L 106.400273 152.533072 L 106.400273 152.666263 L 106.459034 152.67018 L 106.459034 152.689767 L 106.576556 152.693685 L 106.576556 152.795537 L 106.697995 152.799455 L 106.697995 152.819042 L 106.733252 152.822959 L 106.733252 152.854298 L 106.79593 152.854298 L 106.79593 152.86605 L 106.846857 152.86605 L 106.846857 152.889555 L 106.909535 152.889555 L 106.909535 152.956151 L 107.085818 152.960068 L 107.085818 153.16769 L 107.20334 153.16769 L 107.20334 153.269542 L 107.352201 153.27346 L 107.352201 153.289129 L 107.379623 153.289129 L 107.379623 153.332221 L 107.418797 153.336138 L 107.418797 153.387064 L 107.532401 153.390982 L 107.532401 153.422321 L 107.536319 153.422321 L 107.536319 153.457578 L 107.649923 153.457578 L 107.649923 153.477165 L 107.712602 153.481082 L 107.712602 153.547678 L 107.978985 153.551595 L 107.978985 153.571182 L 108.037746 153.5751 L 108.037746 153.582934 L 108.04558 153.586852 L 108.04558 153.606439 L 108.104341 153.610356 L 108.104341 153.641695 L 108.155268 153.645613 L 108.155268 153.6652 L 108.159185 153.669117 L 108.159185 153.676952 L 108.217946 153.680869 L 108.217946 153.700456 L 108.221863 153.700456 L 108.221863 153.767052 L 108.335468 153.770969 L 108.335468 153.814061 L 108.664529 153.817978 L 108.664529 153.86107 L 108.72329 153.864987 L 108.72329 153.868904 L 108.731125 153.868904 L 108.731125 153.911996 L 108.840812 153.915913 L 108.840812 153.947252 L 108.84473 153.95117 L 108.84473 153.970757 L 108.903491 153.974674 L 108.903491 154.088279 L 108.958334 154.092196 L 108.958334 154.103948 L 109.021013 154.107866 L 109.021013 154.174462 L 109.02493 154.178379 L 109.02493 154.225388 L 109.138535 154.229305 L 109.138535 154.260644 L 109.350074 154.264562 L 109.350074 154.331157 L 109.467596 154.335075 L 109.467596 154.378166 L 109.526357 154.382084 L 109.526357 154.401671 L 109.530274 154.405588 L 109.530274 154.483936 L 109.643879 154.483936 L 109.643879 154.515275 L 109.647796 154.519193 L 109.647796 154.53878 L 109.824079 154.542697 L 109.824079 154.609293 L 109.976858 154.61321 L 109.976858 154.660219 L 110.035619 154.664136 L 110.035619 154.707228 L 110.153141 154.711145 L 110.153141 154.801245 L 110.211902 154.805163 L 110.211902 154.812997 L 110.329424 154.816915 L 110.329424 154.863924 L 110.446946 154.867841 L 110.446946 154.875676 L 110.599724 154.879593 L 110.599724 154.910932 L 110.662403 154.91485 L 110.662403 155.016702 L 110.721164 155.016702 L 110.721164 155.040207 L 110.838686 155.040207 L 110.838686 155.177316 L 110.956208 155.181233 L 110.956208 155.247829 L 111.014969 155.251746 L 111.014969 155.283085 L 111.13249 155.283085 L 111.13249 155.30659 L 111.285269 155.30659 L 111.285269 155.357516 L 111.347947 155.361433 L 111.347947 155.514212 L 111.402791 155.518129 L 111.402791 155.549468 L 111.465469 155.553386 L 111.465469 155.651321 L 111.641752 155.655238 L 111.641752 155.792347 L 111.794531 155.796264 L 111.794531 155.804099 L 111.912053 155.808017 L 111.912053 155.827604 L 111.935557 155.831521 L 111.966896 155.835438 L 111.966896 155.866778 L 111.974731 155.870695 L 111.974731 155.890282 L 112.084418 155.894199 L 112.084418 155.960795 L 112.417397 155.964713 L 112.417397 155.9843 L 112.480076 155.988217 L 112.480076 156.007804 L 112.59368 156.007804 L 112.59368 156.054813 L 112.652441 156.054813 L 112.652441 156.070482 L 112.769963 156.0744 L 112.769963 156.176252 L 112.887485 156.176252 L 112.887485 156.227178 L 113.102942 156.231096 L 113.102942 156.262435 L 113.16562 156.266352 L 113.16562 156.297691 L 113.220464 156.297691 L 113.220464 156.321196 L 113.279225 156.321196 L 113.279225 156.387792 L 113.283142 156.391709 L 113.283142 156.411296 L 113.396747 156.415213 L 113.396747 156.458305 L 113.455508 156.462222 L 113.455508 156.528818 L 113.57303 156.532735 L 113.57303 156.634588 L 113.729726 156.634588 L 113.729726 156.665927 L 113.788487 156.669844 L 113.788487 156.689431 L 113.792404 156.693349 L 113.792404 156.701184 L 113.84333 156.705101 L 113.84333 156.709018 L 113.906009 156.712936 L 113.906009 156.771697 L 114.082292 156.775614 L 114.082292 156.865714 L 114.348675 156.869632 L 114.348675 156.889219 L 114.376096 156.889219 L 114.376096 156.924475 L 114.41527 156.924475 L 114.41527 156.991071 L 114.470114 156.994988 L 114.470114 157.002823 L 114.528875 157.006741 L 114.528875 157.014575 L 114.587636 157.018493 L 114.587636 157.085089 L 114.709075 157.089006 L 114.709075 157.120345 L 115.034219 157.124263 L 115.034219 157.155602 L 115.096898 157.159519 L 115.096898 157.257454 L 115.151741 157.261372 L 115.151741 157.280959 L 115.21442 157.284876 L 115.21442 157.300546 L 115.218337 157.304463 L 115.218337 157.371059 L 115.273181 157.371059 L 115.273181 157.41415 L 115.331942 157.418067 L 115.331942 157.425902 L 115.390703 157.42982 L 115.390703 157.496415 L 115.661003 157.500333 L 115.661003 157.531672 L 115.719764 157.535589 L 115.719764 157.555176 L 115.723681 157.559094 L 115.723681 157.590433 L 115.837286 157.59435 L 115.837286 157.637442 L 115.899964 157.637442 L 115.899964 157.786303 L 116.017486 157.79022 L 116.017486 157.809807 L 116.193769 157.813725 L 116.193769 157.833312 L 116.346548 157.837229 L 116.346548 157.903825 L 116.405309 157.903825 L 116.405309 157.915577 L 116.522831 157.915577 L 116.522831 157.982173 L 116.640353 157.98609 L 116.640353 158.017429 L 116.820553 158.021347 L 116.820553 158.037016 L 117.032093 158.037016 L 117.032093 158.138869 L 117.149615 158.142786 L 117.149615 158.209382 L 117.208376 158.213299 L 117.208376 158.256391 L 117.325897 158.260308 L 117.325897 158.326904 L 117.478676 158.326904 L 117.478676 158.342574 L 117.545272 158.346491 L 117.545272 158.350408 L 117.596198 158.350408 L 117.596198 158.362161 L 117.658876 158.362161 L 117.658876 158.3935 L 117.717637 158.397417 L 117.717637 158.464013 L 117.835159 158.46793 L 117.835159 158.605039 L 118.011442 158.608957 L 118.011442 158.706892 L 118.128964 158.710809 L 118.128964 158.730396 L 118.164221 158.734313 L 118.164221 158.765653 L 118.277825 158.76957 L 118.277825 158.789157 L 118.344421 158.793074 L 118.344421 158.85967 L 118.638226 158.863588 L 118.638226 158.96544 L 118.787087 158.96544 L 118.787087 158.981109 L 118.849765 158.985027 L 118.849765 159.032036 L 118.904609 159.035953 L 118.904609 159.043788 L 118.96337 159.047705 L 118.96337 159.079044 L 118.967287 159.082962 L 118.967287 159.114301 L 119.080892 159.118218 L 119.080892 159.137805 L 119.413871 159.141723 L 119.413871 159.16131 L 119.472632 159.165227 L 119.472632 159.173062 L 119.476549 159.176979 L 119.476549 159.196566 L 119.53531 159.196566 L 119.53531 159.231823 L 119.590154 159.231823 L 119.590154 159.263162 L 119.648915 159.26708 L 119.648915 159.286667 L 119.652832 159.290584 L 119.652832 159.35718 L 119.766437 159.361097 L 119.766437 159.404188 L 120.099416 159.408106 L 120.099416 159.451197 L 120.154259 159.455115 L 120.162094 159.459032 L 120.162094 159.502123 L 120.275699 159.506041 L 120.275699 159.560884 L 120.39322 159.564802 L 120.39322 159.576554 L 120.451981 159.580471 L 120.451981 159.647067 L 120.455899 159.650985 L 120.455899 159.697993 L 120.569503 159.701911 L 120.569503 159.73325 L 120.781043 159.737167 L 120.781043 159.803763 L 120.902482 159.807681 L 120.902482 159.850772 L 120.957326 159.854689 L 120.957326 159.874276 L 121.074848 159.878194 L 121.074848 159.909533 L 121.078765 159.909533 L 121.078765 159.933037 L 121.345148 159.933037 L 121.345148 159.948707 L 121.407827 159.952624 L 121.407827 159.999633 L 121.466588 160.00355 L 121.466588 160.046642 L 121.58411 160.050559 L 121.58411 160.140659 L 121.642871 160.144577 L 121.642871 160.152412 L 121.760393 160.156329 L 121.760393 160.203338 L 121.877915 160.207255 L 121.877915 160.21509 L 122.030693 160.219007 L 122.030693 160.250347 L 122.093371 160.254264 L 122.093371 160.356116 L 122.269654 160.356116 L 122.269654 160.493225 L 122.387176 160.497143 L 122.387176 160.563738 L 122.563459 160.567656 L 122.563459 160.587243 L 122.716238 160.59116 L 122.716238 160.638169 L 122.83376 160.642086 L 122.83376 160.673426 L 122.896438 160.677343 L 122.896438 160.779195 L 123.162821 160.779195 L 123.162821 160.790948 L 123.229417 160.790948 L 123.229417 160.8027 L 123.343022 160.8027 L 123.343022 160.826204 L 123.401783 160.826204 L 123.401783 160.857543 L 123.519304 160.861461 L 123.519304 160.928057 L 123.848366 160.931974 L 123.848366 160.951561 L 123.911044 160.955478 L 123.911044 160.975065 L 124.028566 160.978983 L 124.028566 161.022074 L 124.087327 161.025991 L 124.087327 161.037744 L 124.204849 161.041661 L 124.204849 161.143513 L 124.322371 161.147431 L 124.322371 161.19444 L 124.533911 161.198357 L 124.533911 161.229696 L 124.651433 161.233614 L 124.651433 161.253201 L 124.714111 161.257118 L 124.714111 161.347218 L 124.831633 161.351136 L 124.831633 161.394227 L 125.007916 161.394227 L 125.007916 161.496079 L 125.160694 161.499997 L 125.160694 161.531336 L 125.219455 161.535253 L 125.219455 161.55484 L 125.274299 161.558758 L 125.274299 161.562675 L 125.336977 161.562675 L 125.336977 161.605766 L 125.340895 161.609684 L 125.340895 161.625353 L 125.783561 161.629271 L 125.783561 161.648858 L 125.846239 161.648858 L 125.846239 161.715454 L 125.905 161.719371 L 125.905 161.727206 L 125.959844 161.731123 L 125.959844 161.738958 L 126.022522 161.742875 L 126.022522 161.809471 L 126.140044 161.813389 L 126.140044 161.844728 L 126.465188 161.848645 L 126.465188 161.879984 L 126.531784 161.883902 L 126.531784 161.985754 L 126.586627 161.985754 L 126.586627 162.005341 L 126.645388 162.009258 L 126.645388 162.024928 L 126.649306 162.028845 L 126.649306 162.095441 L 126.76291 162.095441 L 126.76291 162.107193 L 126.825589 162.107193 L 126.825589 162.173789 L 127.091972 162.177707 L 127.091972 162.209046 L 127.150733 162.212963 L 127.150733 162.23255 L 127.158568 162.236468 L 127.158568 162.267807 L 127.268255 162.271724 L 127.268255 162.314816 L 127.448455 162.318733 L 127.448455 162.33832 L 127.777517 162.342237 L 127.777517 162.408833 L 127.836278 162.408833 L 127.836278 162.420585 L 127.9538 162.420585 L 127.9538 162.487181 L 128.071322 162.491099 L 128.071322 162.522438 L 128.463061 162.526355 L 128.463061 162.628207 L 128.580583 162.632125 L 128.580583 162.698721 L 128.639344 162.698721 L 128.639344 162.741812 L 128.756866 162.745729 L 128.756866 162.812325 L 128.913562 162.816243 L 128.913562 162.831912 L 128.976241 162.831912 L 128.976241 162.83583 L 129.027167 162.839747 L 129.027167 162.847582 L 129.089845 162.851499 L 129.089845 162.882838 L 129.266128 162.886756 L 129.266128 163.019947 L 129.532511 163.023865 L 129.532511 163.031699 L 129.559933 163.035617 L 129.559933 163.055204 L 129.59519 163.059121 L 129.59519 163.09046 L 129.712711 163.094378 L 129.712711 163.113965 L 130.218056 163.117882 L 130.218056 163.133552 L 130.280734 163.133552 L 130.280734 163.184478 L 130.335578 163.188395 L 130.335578 163.19623 L 130.398256 163.200148 L 130.398256 163.266743 L 130.515778 163.266743 L 130.515778 163.290248 L 130.84484 163.290248 L 130.84484 163.309835 L 130.903601 163.313752 L 130.903601 163.321587 L 130.907518 163.325504 L 130.907518 163.345091 L 131.021123 163.349009 L 131.021123 163.368596 L 131.02504 163.372513 L 131.02504 163.380348 L 131.079884 163.384265 L 131.079884 163.403852 L 131.083801 163.40777 L 131.083801 163.474366 L 131.201323 163.478283 L 131.201323 163.521374 L 131.530384 163.521374 L 131.530384 163.568383 L 131.589145 163.568383 L 131.589145 163.5723 L 131.706667 163.576218 L 131.706667 163.631061 L 131.824189 163.634979 L 131.824189 163.646731 L 132.00439 163.650648 L 132.00439 163.681988 L 132.215929 163.685905 L 132.215929 163.752501 L 132.333451 163.756418 L 132.333451 163.79951 L 132.392212 163.803427 L 132.392212 163.823014 L 132.509734 163.823014 L 132.509734 163.858271 L 132.780035 163.858271 L 132.780035 163.87394 L 132.842713 163.877858 L 132.842713 163.924866 L 132.901474 163.928784 L 132.901474 163.971875 L 133.018996 163.975793 L 133.018996 164.065893 L 133.195279 164.06981 L 133.195279 164.116819 L 133.312801 164.120736 L 133.312801 164.128571 L 133.461662 164.132488 L 133.461662 164.163828 L 133.528258 164.167745 L 133.528258 164.269597 L 133.822063 164.269597 L 133.822063 164.336193 L 134.147207 164.340111 L 134.147207 164.391037 L 134.264729 164.391037 L 134.264729 164.426293 L 134.597707 164.426293 L 134.597707 164.438046 L 134.660386 164.438046 L 134.660386 164.449798 L 134.77399 164.449798 L 134.77399 164.469385 L 134.832751 164.473302 L 134.832751 164.504641 L 134.950273 164.508559 L 134.950273 164.575155 L 135.283252 164.579072 L 135.283252 164.598659 L 135.345931 164.602576 L 135.345931 164.622163 L 135.459535 164.626081 L 135.459535 164.669172 L 135.635818 164.673089 L 135.635818 164.771024 L 135.75334 164.774942 L 135.75334 164.825868 L 135.964879 164.825868 L 135.964879 164.861125 L 136.082401 164.861125 L 136.082401 164.884629 L 136.262602 164.884629 L 136.262602 164.92772 L 136.528985 164.931638 L 136.528985 164.939473 L 136.591663 164.94339 L 136.591663 164.974729 L 136.650424 164.978647 L 136.650424 164.998234 L 136.709185 165.002151 L 136.709185 165.006068 L 136.767946 165.006068 L 136.767946 165.04916 L 137.21453 165.053077 L 137.21453 165.072664 L 137.277208 165.076582 L 137.277208 165.143177 L 137.390813 165.147095 L 137.390813 165.154929 L 137.453491 165.158847 L 137.453491 165.225443 L 137.571013 165.22936 L 137.571013 165.260699 L 137.900074 165.260699 L 137.900074 165.295956 L 138.017596 165.295956 L 138.017596 165.31946 L 138.076357 165.31946 L 138.076357 165.33513 L 138.080275 165.339047 L 138.080275 165.405643 L 138.193879 165.405643 L 138.193879 165.417395 L 138.526858 165.417395 L 138.526858 165.452652 L 138.585619 165.452652 L 138.585619 165.476156 L 138.703141 165.476156 L 138.703141 165.519248 L 139.212403 165.523165 L 139.212403 165.589761 L 139.271164 165.593678 L 139.271164 165.601513 L 139.388686 165.60543 L 139.388686 165.672026 L 139.506208 165.675943 L 139.506208 165.707283 L 139.897948 165.707283 L 139.897948 165.809135 L 140.01547 165.813052 L 140.01547 165.879648 L 140.191752 165.883566 L 140.191752 165.950161 L 140.344531 165.954079 L 140.344531 165.965831 L 140.458136 165.969748 L 140.458136 165.977583 L 140.524731 165.981501 L 140.524731 166.01284 L 140.967397 166.016757 L 140.967397 166.024592 L 141.030076 166.028509 L 141.030076 166.059849 L 141.14368 166.063766 L 141.14368 166.083353 L 141.649025 166.08727 L 141.649025 166.099023 L 141.71562 166.10294 L 141.71562 166.153866 L 141.770464 166.153866 L 141.770464 166.165618 L 141.829225 166.165618 L 141.829225 166.196957 L 141.833142 166.200875 L 141.833142 166.232214 L 141.946747 166.236131 L 141.946747 166.255718 L 142.275808 166.259636 L 142.275808 166.279223 L 142.334569 166.28314 L 142.334569 166.290975 L 142.342404 166.294892 L 142.342404 166.314479 L 142.452091 166.318397 L 142.452091 166.337984 L 142.456009 166.341901 L 142.456009 166.349736 L 142.632292 166.353653 L 142.632292 166.396745 L 142.961353 166.400662 L 142.961353 166.443754 L 143.020114 166.443754 L 143.020114 166.447671 L 143.137636 166.451588 L 143.137636 166.482928 L 143.255158 166.486845 L 143.255158 166.498597 L 143.646898 166.502515 L 143.646898 166.56911 L 143.76442 166.573028 L 143.76442 166.616119 L 143.823181 166.620037 L 143.823181 166.639624 L 143.940703 166.643541 L 143.940703 166.67488 L 144.211003 166.678797 L 144.211003 166.69055 L 144.273682 166.694467 L 144.273682 166.745393 L 144.449965 166.745393 L 144.449965 166.835493 L 144.743769 166.839411 L 144.743769 166.847246 L 144.896548 166.851163 L 144.896548 166.882502 L 145.582093 166.88642 L 145.582093 166.933428 L 145.699615 166.937346 L 145.699615 166.968685 L 146.028676 166.972602 L 146.028676 166.980437 L 146.091355 166.984355 L 146.091355 166.992189 L 146.208877 166.996107 L 146.208877 167.015694 L 146.26372 167.019611 L 146.26372 167.05095 L 146.381242 167.054868 L 146.381242 167.121464 L 146.714221 167.125381 L 146.714221 167.144968 L 146.890504 167.144968 L 146.890504 167.191977 L 147.184309 167.191977 L 147.184309 167.242903 L 147.399766 167.24682 L 147.399766 167.278159 L 147.517288 167.282077 L 147.517288 167.301664 L 147.959954 167.301664 L 147.959954 167.313416 L 148.026549 167.313416 L 148.026549 167.348673 L 148.08531 167.348673 L 148.08531 167.36826 L 148.140154 167.372177 L 148.140154 167.376094 L 148.202832 167.380012 L 148.202832 167.423103 L 148.645498 167.427021 L 148.645498 167.446608 L 148.712094 167.446608 L 148.712094 167.513203 L 148.825699 167.517121 L 148.825699 167.524956 L 149.005899 167.528873 L 149.005899 167.560212 L 149.331043 167.56413 L 149.331043 167.595469 L 149.448565 167.599386 L 149.448565 167.618973 L 149.628765 167.622891 L 149.628765 167.630725 L 149.957827 167.634643 L 149.957827 167.665982 L 150.016588 167.669899 L 150.016588 167.689486 L 150.13411 167.693404 L 150.13411 167.736495 L 150.643372 167.736495 L 150.643372 167.803091 L 150.819655 167.807008 L 150.819655 167.873604 L 150.937176 167.877521 L 150.937176 167.908861 L 151.446438 167.912778 L 151.446438 167.979374 L 151.712821 167.983291 L 151.7755 167.987209 L 151.7755 168.002878 L 151.893022 168.006796 L 151.893022 168.01463 L 152.398366 168.01463 L 152.398366 168.026383 L 152.461045 168.026383 L 152.461045 168.061639 L 152.574649 168.061639 L 152.574649 168.081226 L 153.083911 168.085144 L 153.083911 168.100813 L 153.201433 168.104731 L 153.201433 168.112565 L 153.260194 168.116483 L 153.260194 168.147822 L 153.264111 168.151739 L 153.264111 168.183079 L 153.377716 168.183079 L 153.377716 168.206583 L 153.710695 168.206583 L 153.710695 168.22617 L 153.769456 168.230087 L 153.769456 168.237922 L 153.886978 168.241839 L 153.886978 168.273179 L 154.396239 168.277096 L 154.396239 168.320187 L 154.451083 168.324105 L 154.451083 168.328022 L 154.572522 168.328022 L 154.572522 168.363279 L 154.690044 168.363279 L 154.690044 168.378948 L 155.077867 168.382866 L 155.077867 168.449462 L 155.199306 168.449462 L 155.199306 168.49647 L 155.371672 168.49647 L 155.371672 168.52781 L 155.641972 168.531727 L 155.641972 168.547397 L 155.70465 168.551314 L 155.70465 168.598323 L 156.327517 168.60224 L 156.327517 168.633579 L 157.013062 168.637497 L 157.013062 168.684506 L 157.130583 168.688423 L 157.130583 168.719762 L 157.459645 168.723679 L 157.459645 168.731514 L 157.526241 168.735432 L 157.526241 168.743266 L 157.639845 168.747184 L 157.639845 168.766771 L 157.816128 168.770688 L 157.816128 168.837284 L 158.14519 168.841201 L 158.14519 168.860788 L 158.830734 168.864706 L 158.830734 168.896045 L 158.948256 168.896045 L 158.948256 168.919549 L 159.39484 168.919549 L 159.39484 168.931302 L 159.457518 168.931302 L 159.457518 168.962641 L 159.571123 168.966558 L 159.571123 168.970476 L 159.633801 168.974393 L 159.633801 169.017484 L 160.080385 169.017484 L 160.080385 169.040989 L 160.256667 169.040989 L 160.256667 169.052741 L 160.762012 169.052741 L 160.762012 169.087998 L 160.883451 169.087998 L 160.883451 169.107585 L 161.388796 169.111502 L 161.388796 169.142841 L 161.447557 169.146759 L 161.447557 169.166346 L 161.565079 169.170263 L 161.565079 169.213354 L 162.07434 169.217272 L 162.07434 169.283867 L 162.368145 169.287785 L 162.368145 169.319124 L 163.14379 169.319124 L 163.14379 169.323041 L 163.210386 169.326959 L 163.210386 169.342628 L 163.323991 169.342628 L 163.323991 169.354381 L 163.829335 169.354381 L 163.829335 169.366133 L 163.892013 169.366133 L 163.892013 169.397472 L 164.009535 169.401389 L 164.009535 169.420976 L 164.51488 169.424894 L 164.51488 169.440563 L 164.632402 169.444481 L 164.632402 169.452316 L 164.812602 169.452316 L 164.812602 169.47582 L 165.141663 169.47582 L 165.141663 169.499324 L 165.200424 169.499324 L 165.200424 169.511077 L 165.317946 169.511077 L 165.317946 169.530664 L 165.827208 169.534581 L 165.827208 169.577672 L 166.003491 169.58159 L 166.003491 169.612929 L 166.121013 169.616846 L 166.121013 169.632516 L 166.630275 169.632516 L 166.630275 169.675607 L 167.076858 169.679525 L 167.076858 169.695194 L 167.758486 169.699112 L 167.758486 169.730451 L 168.44403 169.734368 L 168.44403 169.781377 L 168.561552 169.785294 L 168.561552 169.816634 L 168.894531 169.820551 L 168.894531 169.828386 L 169.070814 169.832303 L 169.070814 169.85189 L 169.580076 169.855808 L 169.580076 169.875395 L 170.261703 169.879312 L 170.261703 169.910651 L 170.379225 169.910651 L 170.379225 169.934156 L 170.825809 169.934156 L 170.825809 169.945908 L 170.888487 169.945908 L 170.888487 169.977247 L 171.006009 169.981164 L 171.006009 169.985082 L 171.511353 169.988999 L 171.511353 170.008586 L 172.196898 170.012504 L 172.196898 170.043843 L 172.31442 170.043843 L 172.31442 170.067347 L 172.823682 170.067347 L 172.823682 170.102604 L 172.999965 170.102604 L 172.999965 170.145695 L 174.578676 170.149613 L 174.578676 170.15353 L 174.641355 170.157447 L 174.641355 170.1692 L 174.754959 170.173117 L 174.754959 170.180952 L 175.264221 170.184869 L 175.264221 170.192704 L 175.440504 170.196621 L 175.440504 170.216208 L 175.945848 170.220126 L 175.945848 170.235795 L 176.067288 170.235795 L 176.067288 170.247548 L 176.572632 170.247548 L 176.572632 170.267135 L 176.631393 170.271052 L 176.631393 170.278887 L 176.748915 170.282804 L 176.748915 170.302391 L 177.258177 170.306308 L 177.258177 170.3494 L 177.551982 170.353317 L 177.551982 170.368987 L 178.507827 170.368987 L 178.507827 170.384656 L 179.193372 170.388574 L 179.193372 170.419913 L 179.996438 170.42383 L 179.996438 170.45517 L 180.3255 170.459087 L 180.3255 170.466922 L 181.011045 170.466922 L 181.011045 170.490426 L 181.814111 170.490426 L 181.814111 170.513931 L 182.256777 170.513931 L 182.256777 170.525683 L 182.436978 170.525683 L 182.436978 170.5296 L 182.942322 170.533518 L 182.942322 170.553105 L 183.627867 170.557022 L 183.627867 170.588361 L 183.745389 170.592279 L 183.745389 170.611866 L 184.254651 170.611866 L 184.254651 170.647122 L 186.009645 170.647122 L 186.009645 170.65104 L 186.072324 170.654957 L 186.072324 170.670627 L 186.189845 170.670627 L 186.189845 170.678461 L 186.69519 170.682379 L 186.69519 170.690214 L 187.380735 170.694131 L 187.380735 170.709801 L 187.498257 170.713718 L 187.498257 170.721553 L 188.007518 170.72547 L 188.007518 170.745057 L 188.183801 170.748975 L 188.183801 170.768562 L 189.938796 170.768562 L 189.938796 170.784231 L 190.624341 170.788149 L 190.624341 170.819488 L 191.756469 170.823405 L 191.756469 170.83124 L 192.442013 170.835157 L 192.442013 170.854744 L 193.691664 170.858662 L 193.691664 170.866496 L 194.377208 170.870414 L 194.377208 170.890001 L 195.180275 170.893918 L 195.180275 170.913505 L 197.440614 170.913505 L 197.440614 170.917423 L 197.620814 170.92134 L 197.620814 170.929175 L 198.126159 170.933092 L 198.126159 170.940927 L 198.811703 170.944844 L 198.811703 170.960514 L 198.929225 170.960514 L 198.929225 170.968349 L 199.438487 170.972266 L 199.438487 170.991853 L 201.373682 170.995771 L 201.373682 171.01144 L 203.191355 171.015358 L 203.191355 171.023192 L 205.122632 171.02711 L 205.122632 171.034945 L 205.808177 171.038862 L 205.808177 171.058449 L 208.8755 171.058449 L 208.8755 171.062366 L 209.561045 171.066284 L 209.561045 171.074119 L 210.364112 171.078036 L 210.364112 171.085871 L 212.804651 171.089788 L 212.804651 171.105458 L 214.622324 171.105458 L 214.622324 171.113293 L 216.553601 171.11721 L 216.553601 171.125045 L 220.306469 171.128962 L 220.306469 171.13288 L 220.992014 171.136797 L 220.992014 171.144632 L 227.988487 171.148549 L 227.988487 171.156384 L 231.737438 171.160301 L 243.172324 171.164219 L 243.172324 171.168136 \" transform=\"matrix(0.997154,0,0,-0.997154,37.699405,177.923198)\"/>\n",
       "</g>\n",
       "<g style=\"fill:rgb(0%,0%,0%);fill-opacity:1;\">\n",
       "  <use xlink:href=\"#glyph-1606366588244572-1-1\" x=\"112.82001\" y=\"203.645785\"/>\n",
       "</g>\n",
       "<g style=\"fill:rgb(0%,0%,0%);fill-opacity:1;\">\n",
       "  <use xlink:href=\"#glyph-1606366588244572-1-2\" x=\"121.758879\" y=\"203.645785\"/>\n",
       "</g>\n",
       "<g style=\"fill:rgb(0%,0%,0%);fill-opacity:1;\">\n",
       "  <use xlink:href=\"#glyph-1606366588244572-2-1\" x=\"130.266219\" y=\"203.645785\"/>\n",
       "  <use xlink:href=\"#glyph-1606366588244572-2-2\" x=\"134.528026\" y=\"203.645785\"/>\n",
       "  <use xlink:href=\"#glyph-1606366588244572-2-3\" x=\"140.330641\" y=\"203.645785\"/>\n",
       "  <use xlink:href=\"#glyph-1606366588244572-2-3\" x=\"146.002124\" y=\"203.645785\"/>\n",
       "</g>\n",
       "<g style=\"fill:rgb(0%,0%,0%);fill-opacity:1;\">\n",
       "  <use xlink:href=\"#glyph-1606366588244572-1-3\" x=\"151.673123\" y=\"203.645785\"/>\n",
       "  <use xlink:href=\"#glyph-1606366588244572-1-4\" x=\"155.563389\" y=\"203.645785\"/>\n",
       "  <use xlink:href=\"#glyph-1606366588244572-1-5\" x=\"162.513413\" y=\"203.645785\"/>\n",
       "</g>\n",
       "<g style=\"fill:rgb(0%,0%,0%);fill-opacity:1;\">\n",
       "  <use xlink:href=\"#glyph-1606366588244572-1-6\" x=\"168.873342\" y=\"203.645785\"/>\n",
       "  <use xlink:href=\"#glyph-1606366588244572-1-4\" x=\"174.610391\" y=\"203.645785\"/>\n",
       "  <use xlink:href=\"#glyph-1606366588244572-1-5\" x=\"181.560416\" y=\"203.645785\"/>\n",
       "</g>\n",
       "<g style=\"fill:rgb(0%,0%,0%);fill-opacity:1;\">\n",
       "  <use xlink:href=\"#glyph-1606366588244572-3-1\" x=\"187.407138\" y=\"205.940237\"/>\n",
       "  <use xlink:href=\"#glyph-1606366588244572-3-2\" x=\"193.450139\" y=\"205.940237\"/>\n",
       "  <use xlink:href=\"#glyph-1606366588244572-3-3\" x=\"196.9459\" y=\"205.940237\"/>\n",
       "</g>\n",
       "<g style=\"fill:rgb(0%,0%,0%);fill-opacity:1;\">\n",
       "  <use xlink:href=\"#glyph-1606366588244572-1-7\" x=\"201.163876\" y=\"203.645785\"/>\n",
       "</g>\n",
       "<g style=\"fill:rgb(0%,0%,0%);fill-opacity:1;\">\n",
       "  <use xlink:href=\"#glyph-1606366588244572-4-1\" x=\"11.288782\" y=\"132.072058\"/>\n",
       "</g>\n",
       "<g style=\"fill:rgb(0%,0%,0%);fill-opacity:1;\">\n",
       "  <use xlink:href=\"#glyph-1606366588244572-4-2\" x=\"11.288782\" y=\"125.537286\"/>\n",
       "  <use xlink:href=\"#glyph-1606366588244572-4-3\" x=\"11.288782\" y=\"121.64702\"/>\n",
       "  <use xlink:href=\"#glyph-1606366588244572-4-4\" x=\"11.288782\" y=\"114.696995\"/>\n",
       "</g>\n",
       "<g style=\"fill:rgb(0%,0%,0%);fill-opacity:1;\">\n",
       "  <use xlink:href=\"#glyph-1606366588244572-4-5\" x=\"11.288782\" y=\"108.337067\"/>\n",
       "  <use xlink:href=\"#glyph-1606366588244572-4-3\" x=\"11.288782\" y=\"102.600018\"/>\n",
       "  <use xlink:href=\"#glyph-1606366588244572-4-4\" x=\"11.288782\" y=\"95.649993\"/>\n",
       "</g>\n",
       "<g style=\"fill:rgb(0%,0%,0%);fill-opacity:1;\">\n",
       "  <use xlink:href=\"#glyph-1606366588244572-5-1\" x=\"13.583233\" y=\"89.803692\"/>\n",
       "  <use xlink:href=\"#glyph-1606366588244572-5-2\" x=\"13.583233\" y=\"83.760691\"/>\n",
       "  <use xlink:href=\"#glyph-1606366588244572-5-3\" x=\"13.583233\" y=\"80.264929\"/>\n",
       "</g>\n",
       "<g style=\"fill:rgb(0%,0%,0%);fill-opacity:1;\">\n",
       "  <use xlink:href=\"#glyph-1606366588244572-4-6\" x=\"11.288782\" y=\"73.012614\"/>\n",
       "</g>\n",
       "<g style=\"fill:rgb(0%,0%,0%);fill-opacity:1;\">\n",
       "  <use xlink:href=\"#glyph-1606366588244572-4-7\" x=\"11.288782\" y=\"62.90448\"/>\n",
       "</g>\n",
       "<g style=\"fill:rgb(0%,0%,0%);fill-opacity:1;\">\n",
       "  <use xlink:href=\"#glyph-1606366588244572-4-8\" x=\"11.288782\" y=\"56.992588\"/>\n",
       "</g>\n",
       "<path style=\"fill-rule:nonzero;fill:rgb(100%,100%,100%);fill-opacity:0.9;stroke-width:0.99628;stroke-linecap:butt;stroke-linejoin:miter;stroke:rgb(13.331604%,13.331604%,33.332825%);stroke-opacity:0.1;stroke-miterlimit:10;\" d=\"M 171.950102 5.634546 L 235.376701 5.634546 L 235.376701 102.12007 L 171.950102 102.12007 Z M 171.950102 5.634546 \" transform=\"matrix(0.997154,0,0,-0.997154,37.699405,177.923198)\"/>\n",
       "<path style=\"fill:none;stroke-width:1.19553;stroke-linecap:butt;stroke-linejoin:miter;stroke:rgb(93.331909%,46.665955%,19.999695%);stroke-opacity:1;stroke-miterlimit:10;\" d=\"M 0.00152159 -0.00153665 L 17.006948 -0.00153665 \" transform=\"matrix(0.997154,0,0,-0.997154,212.732858,84.670343)\"/>\n",
       "<g style=\"fill:rgb(13.331604%,13.331604%,33.332825%);fill-opacity:1;\">\n",
       "  <use xlink:href=\"#glyph-1606366588244572-0-8\" x=\"232.276081\" y=\"87.781464\"/>\n",
       "</g>\n",
       "<g style=\"fill:rgb(13.331604%,13.331604%,33.332825%);fill-opacity:1;\">\n",
       "  <use xlink:href=\"#glyph-1606366588244572-0-9\" x=\"245.305895\" y=\"87.781464\"/>\n",
       "</g>\n",
       "<g style=\"fill:rgb(13.331604%,13.331604%,33.332825%);fill-opacity:1;\">\n",
       "  <use xlink:href=\"#glyph-1606366588244572-0-4\" x=\"256.344877\" y=\"87.781464\"/>\n",
       "</g>\n",
       "<path style=\"fill:none;stroke-width:1.19553;stroke-linecap:butt;stroke-linejoin:miter;stroke:rgb(0%,46.665955%,73.33374%);stroke-opacity:1;stroke-miterlimit:10;\" d=\"M 0.00152159 -0.000921746 L 17.006948 -0.000921746 \" transform=\"matrix(0.997154,0,0,-0.997154,212.732858,97.846737)\"/>\n",
       "<g style=\"fill:rgb(13.331604%,13.331604%,33.332825%);fill-opacity:1;\">\n",
       "  <use xlink:href=\"#glyph-1606366588244572-0-8\" x=\"232.276081\" y=\"100.958855\"/>\n",
       "</g>\n",
       "<g style=\"fill:rgb(13.331604%,13.331604%,33.332825%);fill-opacity:1;\">\n",
       "  <use xlink:href=\"#glyph-1606366588244572-0-9\" x=\"245.305895\" y=\"100.958855\"/>\n",
       "</g>\n",
       "<g style=\"fill:rgb(13.331604%,13.331604%,33.332825%);fill-opacity:1;\">\n",
       "  <use xlink:href=\"#glyph-1606366588244572-0-10\" x=\"256.344877\" y=\"100.958855\"/>\n",
       "</g>\n",
       "<path style=\"fill:none;stroke-width:1.19553;stroke-linecap:butt;stroke-linejoin:miter;stroke:rgb(19.999695%,73.33374%,93.331909%);stroke-opacity:1;stroke-miterlimit:10;\" d=\"M 0.00152159 0.000693158 L 17.006948 0.000693158 \" transform=\"matrix(0.997154,0,0,-0.997154,212.732858,111.024129)\"/>\n",
       "<g style=\"fill:rgb(13.331604%,13.331604%,33.332825%);fill-opacity:1;\">\n",
       "  <use xlink:href=\"#glyph-1606366588244572-0-8\" x=\"232.276081\" y=\"114.13525\"/>\n",
       "</g>\n",
       "<g style=\"fill:rgb(13.331604%,13.331604%,33.332825%);fill-opacity:1;\">\n",
       "  <use xlink:href=\"#glyph-1606366588244572-0-9\" x=\"245.305895\" y=\"114.13525\"/>\n",
       "</g>\n",
       "<g style=\"fill:rgb(13.331604%,13.331604%,33.332825%);fill-opacity:1;\">\n",
       "  <use xlink:href=\"#glyph-1606366588244572-0-5\" x=\"256.344877\" y=\"114.13525\"/>\n",
       "</g>\n",
       "<path style=\"fill:none;stroke-width:1.19553;stroke-linecap:butt;stroke-linejoin:miter;stroke:rgb(93.331909%,19.999695%,46.665955%);stroke-opacity:1;stroke-miterlimit:10;\" d=\"M 0.00152159 0.00130806 L 17.006948 0.00130806 \" transform=\"matrix(0.997154,0,0,-0.997154,212.732858,124.200523)\"/>\n",
       "<g style=\"fill:rgb(13.331604%,13.331604%,33.332825%);fill-opacity:1;\">\n",
       "  <use xlink:href=\"#glyph-1606366588244572-0-8\" x=\"232.276081\" y=\"127.311644\"/>\n",
       "</g>\n",
       "<g style=\"fill:rgb(13.331604%,13.331604%,33.332825%);fill-opacity:1;\">\n",
       "  <use xlink:href=\"#glyph-1606366588244572-0-9\" x=\"245.305895\" y=\"127.311644\"/>\n",
       "</g>\n",
       "<g style=\"fill:rgb(13.331604%,13.331604%,33.332825%);fill-opacity:1;\">\n",
       "  <use xlink:href=\"#glyph-1606366588244572-0-11\" x=\"256.344877\" y=\"127.311644\"/>\n",
       "</g>\n",
       "<path style=\"fill:none;stroke-width:1.19553;stroke-linecap:butt;stroke-linejoin:miter;stroke:rgb(79.998779%,19.999695%,6.666565%);stroke-opacity:1;stroke-miterlimit:10;\" d=\"M 0.00152159 0.00192297 L 17.006948 0.00192297 \" transform=\"matrix(0.997154,0,0,-0.997154,212.732858,137.376917)\"/>\n",
       "<g style=\"fill:rgb(13.331604%,13.331604%,33.332825%);fill-opacity:1;\">\n",
       "  <use xlink:href=\"#glyph-1606366588244572-0-8\" x=\"232.276081\" y=\"140.489035\"/>\n",
       "</g>\n",
       "<g style=\"fill:rgb(13.331604%,13.331604%,33.332825%);fill-opacity:1;\">\n",
       "  <use xlink:href=\"#glyph-1606366588244572-0-9\" x=\"245.305895\" y=\"140.489035\"/>\n",
       "</g>\n",
       "<g style=\"fill:rgb(13.331604%,13.331604%,33.332825%);fill-opacity:1;\">\n",
       "  <use xlink:href=\"#glyph-1606366588244572-0-6\" x=\"256.344877\" y=\"140.489035\"/>\n",
       "</g>\n",
       "<path style=\"fill:none;stroke-width:1.19553;stroke-linecap:butt;stroke-linejoin:miter;stroke:rgb(0%,59.999084%,53.33252%);stroke-opacity:1;stroke-miterlimit:10;\" d=\"M 0.00152159 -0.000379529 L 17.006948 -0.000379529 \" transform=\"matrix(0.997154,0,0,-0.997154,212.732858,150.554309)\"/>\n",
       "<g style=\"fill:rgb(13.331604%,13.331604%,33.332825%);fill-opacity:1;\">\n",
       "  <use xlink:href=\"#glyph-1606366588244572-0-8\" x=\"232.276081\" y=\"153.66543\"/>\n",
       "</g>\n",
       "<g style=\"fill:rgb(13.331604%,13.331604%,33.332825%);fill-opacity:1;\">\n",
       "  <use xlink:href=\"#glyph-1606366588244572-0-9\" x=\"245.305895\" y=\"153.66543\"/>\n",
       "</g>\n",
       "<g style=\"fill:rgb(13.331604%,13.331604%,33.332825%);fill-opacity:1;\">\n",
       "  <use xlink:href=\"#glyph-1606366588244572-0-12\" x=\"256.344877\" y=\"153.66543\"/>\n",
       "</g>\n",
       "<path style=\"fill:none;stroke-width:1.19553;stroke-linecap:butt;stroke-linejoin:miter;stroke:rgb(73.33374%,73.33374%,73.33374%);stroke-opacity:1;stroke-miterlimit:10;\" d=\"M 0.00152159 0.000235375 L 17.006948 0.000235375 \" transform=\"matrix(0.997154,0,0,-0.997154,212.732858,163.730703)\"/>\n",
       "<g style=\"fill:rgb(13.331604%,13.331604%,33.332825%);fill-opacity:1;\">\n",
       "  <use xlink:href=\"#glyph-1606366588244572-0-8\" x=\"232.276081\" y=\"166.842821\"/>\n",
       "</g>\n",
       "<g style=\"fill:rgb(13.331604%,13.331604%,33.332825%);fill-opacity:1;\">\n",
       "  <use xlink:href=\"#glyph-1606366588244572-0-9\" x=\"245.305895\" y=\"166.842821\"/>\n",
       "</g>\n",
       "<g style=\"fill:rgb(13.331604%,13.331604%,33.332825%);fill-opacity:1;\">\n",
       "  <use xlink:href=\"#glyph-1606366588244572-0-7\" x=\"256.344877\" y=\"166.842821\"/>\n",
       "  <use xlink:href=\"#glyph-1606366588244572-0-1\" x=\"261.88821\" y=\"166.842821\"/>\n",
       "</g>\n",
       "</g>\n",
       "</svg>\n",
       "\n"
      ]
     },
     "execution_count": 38,
     "metadata": {},
     "output_type": "execute_result"
    }
   ],
   "source": [
    "NE = 4\n",
    "ΔEplot = plot(mid.(ΔEs(NE)), 0:1//3^NE:1-eps(),\n",
    "    label=latexstring(\"N = $NE\"),\n",
    "    xlim=(0, 1),\n",
    "    ylim=(0, 1),\n",
    "    key=:bottomright,\n",
    "    xlabel=L\"x \\in \\mathrm{supp}(\\Delta E/\\Delta E_\\text{max})\",\n",
    "    ylabel=L\"P(\\Delta E/\\Delta E_\\text{max} \\leqslant x)\")\n",
    "for NE in 5:10\n",
    "    plot!(ΔEplot, mid.(ΔEs(NE)), 0:1//3^NE:1-eps(), label=latexstring(\"N = $NE\"))\n",
    "end\n",
    "ΔEplot"
   ]
  },
  {
   "cell_type": "markdown",
   "metadata": {
    "hidden": true
   },
   "source": [
    "As expected, the density approaches a truncated normal distribution."
   ]
  },
  {
   "cell_type": "code",
   "execution_count": 39,
   "metadata": {
    "ExecuteTime": {
     "end_time": "2020-11-20T21:52:45.609000-08:00",
     "start_time": "2020-11-21T05:52:38.645Z"
    },
    "hidden": true
   },
   "outputs": [
    {
     "data": {
      "image/svg+xml": [
       "<?xml version=\"1.0\" encoding=\"UTF-8\"?>\n",
       "<svg xmlns=\"http://www.w3.org/2000/svg\" xmlns:xlink=\"http://www.w3.org/1999/xlink\" width=\"255.816pt\" height=\"185.753pt\" viewBox=\"0 0 255.816 185.753\" version=\"1.2\">\n",
       "<defs>\n",
       "<g>\n",
       "<symbol overflow=\"visible\" id=\"glyph-1606366588244573-0-0\">\n",
       "<path style=\"stroke:none;\" d=\"M 0 0 L 5.96875 0 L 5.96875 -8.328125 L 0 -8.328125 Z M 0.953125 -0.59375 L 2.984375 -3.625 L 5.015625 -0.59375 Z M 0.59375 -7.203125 L 2.625 -4.171875 L 0.59375 -1.140625 Z M 3.34375 -4.171875 L 5.375 -7.203125 L 5.375 -1.140625 Z M 2.984375 -4.703125 L 0.953125 -7.71875 L 5.015625 -7.71875 Z M 2.984375 -4.703125 \"/>\n",
       "</symbol>\n",
       "<symbol overflow=\"visible\" id=\"glyph-1606366588244573-0-1\">\n",
       "<path style=\"stroke:none;\" d=\"M 2.71875 0.125 C 3.640625 0.125 5.03125 -0.8125 5.03125 -3.609375 C 5.03125 -4.796875 4.75 -5.8125 4.21875 -6.5 C 3.921875 -6.921875 3.421875 -7.28125 2.765625 -7.28125 C 1.59375 -7.28125 0.46875 -5.875 0.46875 -3.515625 C 0.46875 -2.234375 0.859375 -1.03125 1.515625 -0.375 C 1.84375 -0.046875 2.25 0.125 2.71875 0.125 Z M 2.765625 -6.859375 C 2.96875 -6.859375 3.15625 -6.796875 3.3125 -6.65625 C 3.671875 -6.34375 4 -5.4375 4 -3.84375 C 4 -2.75 3.96875 -2 3.796875 -1.390625 C 3.53125 -0.40625 2.953125 -0.296875 2.734375 -0.296875 C 1.625 -0.296875 1.5 -2.34375 1.5 -3.375 C 1.5 -6.3125 2.234375 -6.859375 2.765625 -6.859375 Z M 2.765625 -6.859375 \"/>\n",
       "</symbol>\n",
       "<symbol overflow=\"visible\" id=\"glyph-1606366588244573-0-2\">\n",
       "<path style=\"stroke:none;\" d=\"M 0.6875 -0.515625 C 0.6875 -0.171875 0.96875 0.125 1.3125 0.125 C 1.65625 0.125 1.953125 -0.171875 1.953125 -0.515625 C 1.953125 -0.859375 1.65625 -1.140625 1.3125 -1.140625 C 0.96875 -1.140625 0.6875 -0.859375 0.6875 -0.515625 Z M 0.6875 -0.515625 \"/>\n",
       "</symbol>\n",
       "<symbol overflow=\"visible\" id=\"glyph-1606366588244573-0-3\">\n",
       "<path style=\"stroke:none;\" d=\"M 0.734375 -5.59375 C 0.734375 -5.34375 0.953125 -5.125 1.203125 -5.125 C 1.40625 -5.125 1.765625 -5.34375 1.765625 -5.59375 C 1.765625 -5.6875 1.75 -5.765625 1.71875 -5.84375 C 1.6875 -5.9375 1.625 -6.046875 1.625 -6.140625 C 1.625 -6.4375 1.9375 -6.859375 2.8125 -6.859375 C 3.234375 -6.859375 3.84375 -6.5625 3.84375 -5.421875 C 3.84375 -4.65625 3.5625 -4.03125 2.859375 -3.3125 L 1.984375 -2.453125 C 0.8125 -1.25 0.625 -0.6875 0.625 0.03125 C 0.625 0.03125 1.234375 0 1.609375 0 L 3.703125 0 C 4.078125 0 4.625 0.03125 4.625 0.03125 C 4.78125 -0.609375 4.90625 -1.5 4.921875 -1.859375 C 4.84375 -1.921875 4.6875 -1.953125 4.578125 -1.921875 C 4.375 -1.078125 4.171875 -0.78125 3.734375 -0.78125 L 1.609375 -0.78125 C 1.609375 -1.34375 2.4375 -2.15625 2.5 -2.21875 L 3.703125 -3.375 C 4.375 -4.03125 4.890625 -4.5625 4.890625 -5.46875 C 4.890625 -6.75 3.84375 -7.28125 2.875 -7.28125 C 1.546875 -7.28125 0.734375 -6.296875 0.734375 -5.59375 Z M 0.734375 -5.59375 \"/>\n",
       "</symbol>\n",
       "<symbol overflow=\"visible\" id=\"glyph-1606366588244573-0-4\">\n",
       "<path style=\"stroke:none;\" d=\"M 3.8125 -2.25 C 3.8125 -1.125 3.21875 -0.28125 2.5 -0.28125 C 2.046875 -0.28125 1.890625 -0.578125 1.703125 -0.828125 C 1.546875 -1.03125 1.34375 -1.203125 1.09375 -1.203125 C 0.875 -1.203125 0.640625 -1 0.640625 -0.765625 C 0.640625 -0.28125 1.65625 0.125 2.34375 0.125 C 3.8125 0.125 4.875 -0.96875 4.875 -2.46875 C 4.875 -3.625 4.078125 -4.671875 2.734375 -4.671875 C 2.21875 -4.671875 1.78125 -4.5625 1.5625 -4.484375 L 1.796875 -6.46875 C 2.25 -6.421875 2.625 -6.359375 3.203125 -6.359375 C 3.5625 -6.359375 3.96875 -6.390625 4.453125 -6.4375 L 4.640625 -7.25 L 4.5625 -7.296875 C 3.875 -7.21875 3.234375 -7.15625 2.609375 -7.15625 C 2.15625 -7.15625 1.734375 -7.1875 1.3125 -7.21875 L 0.90625 -3.78125 C 1.546875 -4.015625 2 -4.078125 2.421875 -4.078125 C 3.203125 -4.078125 3.8125 -3.5625 3.8125 -2.25 Z M 3.8125 -2.25 \"/>\n",
       "</symbol>\n",
       "<symbol overflow=\"visible\" id=\"glyph-1606366588244573-0-5\">\n",
       "<path style=\"stroke:none;\" d=\"M 2.03125 -6.390625 L 4.171875 -6.390625 C 3.234375 -4.078125 2.296875 -1.75 1.484375 0.078125 L 1.578125 0.15625 L 2.390625 0.125 C 3.0625 -1.90625 3.71875 -3.890625 5.0625 -7.15625 L 4.875 -7.296875 C 4.671875 -7.234375 4.40625 -7.15625 3.953125 -7.15625 L 1.5 -7.15625 C 1.09375 -7.15625 1.109375 -7.28125 0.890625 -7.328125 C 0.859375 -7.328125 0.84375 -7.328125 0.84375 -7.296875 C 0.828125 -6.71875 0.703125 -6 0.609375 -5.390625 C 0.734375 -5.34375 0.859375 -5.34375 0.984375 -5.34375 C 1.25 -6.296875 1.640625 -6.390625 2.03125 -6.390625 Z M 2.03125 -6.390625 \"/>\n",
       "</symbol>\n",
       "<symbol overflow=\"visible\" id=\"glyph-1606366588244573-0-6\">\n",
       "<path style=\"stroke:none;\" d=\"M 3.4375 -1.453125 L 3.4375 -5.59375 C 3.4375 -6.3125 3.453125 -7.046875 3.46875 -7.203125 C 3.46875 -7.265625 3.453125 -7.265625 3.40625 -7.265625 C 2.75 -6.859375 2.109375 -6.546875 1.0625 -6.0625 C 1.09375 -5.9375 1.140625 -5.8125 1.234375 -5.734375 C 1.796875 -5.96875 2.046875 -6.046875 2.28125 -6.046875 C 2.484375 -6.046875 2.515625 -5.75 2.515625 -5.34375 L 2.515625 -1.453125 C 2.515625 -0.46875 2.203125 -0.40625 1.359375 -0.375 C 1.296875 -0.296875 1.296875 -0.046875 1.359375 0.03125 C 1.953125 0.015625 2.375 0 3.015625 0 C 3.59375 0 3.875 0.015625 4.484375 0.03125 C 4.546875 -0.046875 4.546875 -0.296875 4.484375 -0.375 C 3.640625 -0.40625 3.4375 -0.46875 3.4375 -1.453125 Z M 3.4375 -1.453125 \"/>\n",
       "</symbol>\n",
       "<symbol overflow=\"visible\" id=\"glyph-1606366588244573-0-7\">\n",
       "<path style=\"stroke:none;\" d=\"M 2.5625 -6.859375 C 3.078125 -6.859375 3.5625 -6.546875 3.5625 -5.796875 C 3.5625 -5.1875 2.859375 -4.28125 1.6875 -4.109375 L 1.75 -3.71875 C 1.953125 -3.75 2.15625 -3.75 2.3125 -3.75 C 3 -3.75 3.875 -3.5625 3.875 -2.203125 C 3.875 -0.625 2.8125 -0.296875 2.40625 -0.296875 C 1.796875 -0.296875 1.6875 -0.578125 1.546875 -0.78125 C 1.421875 -0.953125 1.265625 -1.09375 1.03125 -1.09375 C 0.78125 -1.09375 0.53125 -0.875 0.53125 -0.6875 C 0.53125 -0.203125 1.53125 0.125 2.25 0.125 C 3.671875 0.125 4.9375 -0.796875 4.9375 -2.375 C 4.9375 -3.671875 3.953125 -4.140625 3.25 -4.265625 L 3.234375 -4.28125 C 4.21875 -4.75 4.484375 -5.234375 4.484375 -5.875 C 4.484375 -6.234375 4.40625 -6.515625 4.125 -6.8125 C 3.859375 -7.078125 3.4375 -7.28125 2.8125 -7.28125 C 1.0625 -7.28125 0.5625 -6.140625 0.5625 -5.734375 C 0.5625 -5.578125 0.6875 -5.34375 0.96875 -5.34375 C 1.390625 -5.34375 1.4375 -5.734375 1.4375 -5.953125 C 1.4375 -6.71875 2.25 -6.859375 2.5625 -6.859375 Z M 2.5625 -6.859375 \"/>\n",
       "</symbol>\n",
       "<symbol overflow=\"visible\" id=\"glyph-1606366588244573-1-0\">\n",
       "<path style=\"stroke:none;\" d=\"M 0 0 L 5.96875 0 L 5.96875 -8.328125 L 0 -8.328125 Z M 0.953125 -0.59375 L 2.984375 -3.625 L 5.015625 -0.59375 Z M 0.59375 -7.203125 L 2.625 -4.171875 L 0.59375 -1.140625 Z M 3.34375 -4.171875 L 5.375 -7.203125 L 5.375 -1.140625 Z M 2.984375 -4.703125 L 0.953125 -7.71875 L 5.015625 -7.71875 Z M 2.984375 -4.703125 \"/>\n",
       "</symbol>\n",
       "<symbol overflow=\"visible\" id=\"glyph-1606366588244573-1-1\">\n",
       "<path style=\"stroke:none;\" d=\"M 2.4375 1.90625 C 2.625 1.578125 2.78125 1.234375 2.921875 0.890625 C 3.875 -1.421875 4.421875 -2.65625 5.03125 -3.984375 C 5.28125 -4.484375 5.4375 -4.671875 6 -4.75 C 6.078125 -4.828125 6.078125 -5.078125 6 -5.140625 C 5.765625 -5.140625 5.484375 -5.125 5.15625 -5.125 C 4.796875 -5.125 4.421875 -5.140625 4.078125 -5.140625 C 4 -5.078125 4 -4.828125 4.078125 -4.75 C 4.453125 -4.71875 4.828125 -4.640625 4.640625 -4.21875 L 3.46875 -1.484375 C 3.375 -1.296875 3.265625 -1.25 3.171875 -1.5 L 2.109375 -3.96875 C 1.890625 -4.484375 1.84375 -4.703125 2.5 -4.75 C 2.578125 -4.828125 2.578125 -5.078125 2.5 -5.140625 C 2.0625 -5.140625 1.59375 -5.125 1.15625 -5.125 C 0.75 -5.125 0.4375 -5.140625 0.1875 -5.140625 C 0.125 -5.078125 0.125 -4.828125 0.1875 -4.75 C 0.671875 -4.6875 0.828125 -4.578125 1.140625 -3.859375 L 2.484375 -0.71875 C 2.59375 -0.484375 2.765625 0.078125 2.65625 0.40625 C 2.5 0.796875 2.359375 1.140625 2.1875 1.5 C 2.046875 1.75 1.890625 1.84375 1.59375 1.84375 C 1.421875 1.84375 1.375 1.8125 1.234375 1.8125 C 0.890625 1.8125 0.71875 2.171875 0.71875 2.328125 C 0.71875 2.578125 0.953125 2.765625 1.28125 2.765625 C 1.53125 2.765625 2 2.671875 2.4375 1.90625 Z M 2.4375 1.90625 \"/>\n",
       "</symbol>\n",
       "<symbol overflow=\"visible\" id=\"glyph-1606366588244573-1-2\">\n",
       "<path style=\"stroke:none;\" d=\"M 2.546875 -1.453125 C 2.546875 -0.46875 2.234375 -0.40625 1.390625 -0.375 C 1.328125 -0.296875 1.328125 -0.046875 1.390625 0.03125 C 1.984375 0.015625 2.40625 0 3.0625 0 C 3.625 0 3.921875 0.015625 4.515625 0.03125 C 4.578125 -0.046875 4.578125 -0.296875 4.515625 -0.375 C 3.671875 -0.40625 3.46875 -0.46875 3.46875 -1.453125 L 3.46875 -3.828125 C 3.46875 -4.546875 3.515625 -5.15625 3.515625 -5.15625 C 3.515625 -5.25 3.453125 -5.28125 3.34375 -5.28125 C 2.75 -5.078125 2.25 -4.984375 1.25 -4.78125 C 1.265625 -4.625 1.3125 -4.515625 1.390625 -4.40625 C 1.75 -4.4375 2.046875 -4.484375 2.3125 -4.484375 C 2.5 -4.484375 2.546875 -4.34375 2.546875 -3.71875 Z M 2.546875 -1.453125 \"/>\n",
       "</symbol>\n",
       "</g>\n",
       "<clipPath id=\"clip-1606366588244573-1\">\n",
       "  <path d=\"M 12 0 L 255.554688 0 L 255.554688 172 L 12 172 Z M 12 0 \"/>\n",
       "</clipPath>\n",
       "<clipPath id=\"clip-1606366588244573-2\">\n",
       "  <path d=\"M 12 11 L 255.554688 11 L 255.554688 167 L 12 167 Z M 12 11 \"/>\n",
       "</clipPath>\n",
       "<clipPath id=\"clip-1606366588244573-3\">\n",
       "  <path d=\"M 12 11 L 255.554688 11 L 255.554688 167 L 12 167 Z M 12 11 \"/>\n",
       "</clipPath>\n",
       "<clipPath id=\"clip-1606366588244573-4\">\n",
       "  <path d=\"M 12.460938 0.246094 L 255.308594 0.246094 L 255.308594 171.1875 L 12.460938 171.1875 Z M 12.460938 0.246094 \"/>\n",
       "</clipPath>\n",
       "</defs>\n",
       "<g id=\"surface1\">\n",
       "<g clip-path=\"url(#clip-1606366588244573-1)\" clip-rule=\"nonzero\">\n",
       "<path style=\" stroke:none;fill-rule:nonzero;fill:rgb(100%,100%,100%);fill-opacity:1;\" d=\"M 12.460938 171.1875 L 255.308594 171.1875 L 255.308594 0.246094 L 12.460938 0.246094 Z M 12.460938 171.1875 \"/>\n",
       "</g>\n",
       "<path style=\"fill:none;stroke-width:0.49814;stroke-linecap:butt;stroke-linejoin:miter;stroke:rgb(13.331604%,13.331604%,33.332825%);stroke-opacity:0.1;stroke-miterlimit:10;\" d=\"M 14.989079 0.00186808 L 14.989079 171.170579 M 68.286418 0.00186808 L 68.286418 171.170579 M 121.583757 0.00186808 L 121.583757 171.170579 M 174.885008 0.00186808 L 174.885008 171.170579 M 228.182347 0.00186808 L 228.182347 171.170579 \" transform=\"matrix(0.998672,0,0,-0.998672,12.460513,171.189366)\"/>\n",
       "<g clip-path=\"url(#clip-1606366588244573-2)\" clip-rule=\"nonzero\">\n",
       "<path style=\"fill:none;stroke-width:0.49814;stroke-linecap:butt;stroke-linejoin:miter;stroke:rgb(13.331604%,13.331604%,33.332825%);stroke-opacity:0.1;stroke-miterlimit:10;\" d=\"M 0.000424908 4.844236 L 243.171001 4.844236 M 0.000424908 56.498769 L 243.171001 56.498769 M 0.000424908 108.153301 L 243.171001 108.153301 M 0.000424908 159.807834 L 243.171001 159.807834 \" transform=\"matrix(0.998672,0,0,-0.998672,12.460513,171.189366)\"/>\n",
       "</g>\n",
       "<path style=\"fill:none;stroke-width:0.19925;stroke-linecap:butt;stroke-linejoin:miter;stroke:rgb(50%,50%,50%);stroke-opacity:1;stroke-miterlimit:10;\" d=\"M 14.989079 0.00186808 L 14.989079 4.253608 M 68.286418 0.00186808 L 68.286418 4.253608 M 121.583757 0.00186808 L 121.583757 4.253608 M 174.885008 0.00186808 L 174.885008 4.253608 M 228.182347 0.00186808 L 228.182347 4.253608 M 14.989079 171.170579 L 14.989079 166.918839 M 68.286418 171.170579 L 68.286418 166.918839 M 121.583757 171.170579 L 121.583757 166.918839 M 174.885008 171.170579 L 174.885008 166.918839 M 228.182347 171.170579 L 228.182347 166.918839 \" transform=\"matrix(0.998672,0,0,-0.998672,12.460513,171.189366)\"/>\n",
       "<g clip-path=\"url(#clip-1606366588244573-3)\" clip-rule=\"nonzero\">\n",
       "<path style=\"fill:none;stroke-width:0.19925;stroke-linecap:butt;stroke-linejoin:miter;stroke:rgb(50%,50%,50%);stroke-opacity:1;stroke-miterlimit:10;\" d=\"M 0.000424908 4.844236 L 4.252165 4.844236 M 0.000424908 56.498769 L 4.252165 56.498769 M 0.000424908 108.153301 L 4.252165 108.153301 M 0.000424908 159.807834 L 4.252165 159.807834 M 243.171001 4.844236 L 238.919261 4.844236 M 243.171001 56.498769 L 238.919261 56.498769 M 243.171001 108.153301 L 238.919261 108.153301 M 243.171001 159.807834 L 238.919261 159.807834 \" transform=\"matrix(0.998672,0,0,-0.998672,12.460513,171.189366)\"/>\n",
       "</g>\n",
       "<g style=\"fill:rgb(0%,0%,0%);fill-opacity:1;\">\n",
       "  <use xlink:href=\"#glyph-1606366588244573-0-1\" x=\"17.78743\" y=\"181.987008\"/>\n",
       "  <use xlink:href=\"#glyph-1606366588244573-0-2\" x=\"23.339202\" y=\"181.987008\"/>\n",
       "  <use xlink:href=\"#glyph-1606366588244573-0-1\" x=\"25.965846\" y=\"181.987008\"/>\n",
       "  <use xlink:href=\"#glyph-1606366588244573-0-1\" x=\"31.517618\" y=\"181.987008\"/>\n",
       "</g>\n",
       "<g style=\"fill:rgb(0%,0%,0%);fill-opacity:1;\">\n",
       "  <use xlink:href=\"#glyph-1606366588244573-0-1\" x=\"71.014652\" y=\"181.998992\"/>\n",
       "  <use xlink:href=\"#glyph-1606366588244573-0-2\" x=\"76.566424\" y=\"181.998992\"/>\n",
       "  <use xlink:href=\"#glyph-1606366588244573-0-3\" x=\"79.193069\" y=\"181.998992\"/>\n",
       "  <use xlink:href=\"#glyph-1606366588244573-0-4\" x=\"84.744841\" y=\"181.998992\"/>\n",
       "</g>\n",
       "<g style=\"fill:rgb(0%,0%,0%);fill-opacity:1;\">\n",
       "  <use xlink:href=\"#glyph-1606366588244573-0-1\" x=\"124.241875\" y=\"181.998992\"/>\n",
       "  <use xlink:href=\"#glyph-1606366588244573-0-2\" x=\"129.793647\" y=\"181.998992\"/>\n",
       "  <use xlink:href=\"#glyph-1606366588244573-0-4\" x=\"132.420291\" y=\"181.998992\"/>\n",
       "  <use xlink:href=\"#glyph-1606366588244573-0-1\" x=\"137.972063\" y=\"181.998992\"/>\n",
       "</g>\n",
       "<g style=\"fill:rgb(0%,0%,0%);fill-opacity:1;\">\n",
       "  <use xlink:href=\"#glyph-1606366588244573-0-1\" x=\"177.469097\" y=\"182.034944\"/>\n",
       "  <use xlink:href=\"#glyph-1606366588244573-0-2\" x=\"183.020869\" y=\"182.034944\"/>\n",
       "  <use xlink:href=\"#glyph-1606366588244573-0-5\" x=\"185.647514\" y=\"182.034944\"/>\n",
       "  <use xlink:href=\"#glyph-1606366588244573-0-4\" x=\"191.199286\" y=\"182.034944\"/>\n",
       "</g>\n",
       "<g style=\"fill:rgb(0%,0%,0%);fill-opacity:1;\">\n",
       "  <use xlink:href=\"#glyph-1606366588244573-0-6\" x=\"230.697319\" y=\"181.987008\"/>\n",
       "  <use xlink:href=\"#glyph-1606366588244573-0-2\" x=\"236.24909\" y=\"181.987008\"/>\n",
       "  <use xlink:href=\"#glyph-1606366588244573-0-1\" x=\"238.875735\" y=\"181.987008\"/>\n",
       "  <use xlink:href=\"#glyph-1606366588244573-0-1\" x=\"244.427507\" y=\"181.987008\"/>\n",
       "</g>\n",
       "<g style=\"fill:rgb(0%,0%,0%);fill-opacity:1;\">\n",
       "  <use xlink:href=\"#glyph-1606366588244573-0-1\" x=\"3.394568\" y=\"169.933036\"/>\n",
       "</g>\n",
       "<g style=\"fill:rgb(0%,0%,0%);fill-opacity:1;\">\n",
       "  <use xlink:href=\"#glyph-1606366588244573-0-6\" x=\"3.394568\" y=\"118.383583\"/>\n",
       "</g>\n",
       "<g style=\"fill:rgb(0%,0%,0%);fill-opacity:1;\">\n",
       "  <use xlink:href=\"#glyph-1606366588244573-0-3\" x=\"3.394568\" y=\"66.810161\"/>\n",
       "</g>\n",
       "<g style=\"fill:rgb(0%,0%,0%);fill-opacity:1;\">\n",
       "  <use xlink:href=\"#glyph-1606366588244573-0-7\" x=\"3.394568\" y=\"15.176819\"/>\n",
       "</g>\n",
       "<g clip-path=\"url(#clip-1606366588244573-4)\" clip-rule=\"nonzero\">\n",
       "<path style=\"fill:none;stroke-width:1.19553;stroke-linecap:butt;stroke-linejoin:miter;stroke:rgb(93.331909%,46.665955%,19.999695%);stroke-opacity:1;stroke-miterlimit:10;\" d=\"M 6.880655 4.848147 L 6.994087 4.852059 L 7.107519 4.852059 L 7.21704 4.85597 L 7.330471 4.85597 L 7.443903 4.859882 L 7.553424 4.863793 L 7.666856 4.871616 L 7.780287 4.875528 L 7.889808 4.88335 L 8.00324 4.891173 L 8.116672 4.902908 L 8.226192 4.914642 L 8.339624 4.930288 L 8.453056 4.949845 L 8.562576 4.973314 L 8.676008 5.000694 L 8.785529 5.031985 L 8.898961 5.067188 L 9.012392 5.110214 L 9.121913 5.164974 L 9.235345 5.223646 L 9.348777 5.294052 L 9.458297 5.376192 L 9.571729 5.473979 L 9.685161 5.583499 L 9.794681 5.712577 L 9.908113 5.861212 L 10.021545 6.029404 L 10.131065 6.224976 L 10.244497 6.447928 L 10.357929 6.698261 L 10.46745 6.983796 L 10.580882 7.304534 L 10.694313 7.668299 L 10.803834 8.079 L 10.917266 8.536639 L 11.026786 9.045127 L 11.140218 9.616198 L 11.25365 10.245941 L 11.36317 10.946089 L 11.476602 11.716644 L 11.590034 12.561515 L 11.699555 13.492439 L 11.812986 14.509415 L 11.926418 15.616353 L 12.035939 16.817167 L 12.149371 18.119678 L 12.262803 19.527798 L 12.372323 21.041527 L 12.485755 22.664776 L 12.599187 24.405369 L 12.708707 26.259393 L 12.822139 28.230761 L 12.935571 30.323384 L 13.045091 32.537261 L 13.158523 34.868482 L 13.271955 37.317046 L 13.381476 39.879042 L 13.494908 42.558381 L 13.604428 45.347241 L 13.71786 48.24171 L 13.831292 51.237876 L 13.940812 54.327917 L 14.054244 57.507921 L 14.167676 60.766154 L 14.277196 64.098705 L 14.390628 67.49775 L 14.50406 70.947644 L 14.613581 74.444475 L 14.727012 77.972597 L 14.840444 81.5281 L 14.949965 85.099249 L 15.063397 88.670397 L 15.176829 92.233723 L 15.286349 95.777491 L 15.399781 99.29388 L 15.513213 102.767242 L 15.622733 106.193667 L 15.736165 109.561421 L 15.849597 112.858768 L 15.959117 116.081798 L 16.072549 119.218777 L 16.18207 122.26188 L 16.295502 125.211109 L 16.408933 128.054729 L 16.518454 130.788829 L 16.631886 133.413408 L 16.745318 135.924555 L 16.854838 138.314447 L 16.96827 140.586997 L 17.081702 142.738291 L 17.191222 144.772242 L 17.304654 146.68885 L 17.418086 148.484202 L 17.527607 150.166124 L 17.641038 151.734613 L 17.75447 153.193581 L 17.863991 154.54303 L 17.977423 155.794692 L 18.090854 156.944656 L 18.200375 158.000746 L 18.313807 158.966873 L 18.427239 159.846948 L 18.536759 160.644883 L 18.650191 161.3685 L 18.759711 162.021711 L 18.873143 162.608428 L 18.986575 163.136473 L 19.096096 163.601934 L 19.209528 164.020459 L 19.322959 164.384223 L 19.43248 164.708873 L 19.545912 164.990497 L 19.659344 165.233007 L 19.768864 165.444225 L 19.882296 165.628063 L 19.995728 165.780609 L 20.105248 165.909687 L 20.21868 166.015296 L 20.332112 166.101347 L 20.441632 166.171753 L 20.555064 166.226514 L 20.668496 166.269539 L 20.778017 166.29692 L 20.891449 166.316477 L 21.000969 166.3243 L 21.114401 166.3243 L 21.227833 166.320388 L 21.337353 166.308654 L 21.450785 166.293008 L 21.564217 166.273451 L 21.673737 166.249982 L 21.787169 166.222602 L 21.900601 166.191311 L 22.010122 166.160019 L 22.123553 166.128727 L 22.236985 166.093524 L 22.346506 166.058321 L 22.459938 166.019207 L 22.57337 165.984004 L 22.68289 165.94489 L 22.909754 165.866661 L 23.019274 165.827546 L 23.132706 165.78452 L 23.246138 165.745406 L 23.355658 165.70238 L 23.46909 165.659354 L 23.578611 165.616328 L 23.692043 165.573302 L 23.805474 165.526365 L 23.914995 165.483339 L 24.141859 165.389464 L 24.251379 165.338616 L 24.364811 165.291678 L 24.478243 165.24083 L 24.587763 165.186069 L 24.701195 165.135221 L 24.814627 165.08046 L 24.924148 165.0257 L 25.151011 164.908357 L 25.260532 164.849685 L 25.373964 164.791013 L 25.487396 164.72843 L 25.596916 164.665847 L 25.710348 164.603264 L 25.82378 164.53677 L 25.9333 164.474186 L 26.046732 164.407692 L 26.156252 164.337286 L 26.383116 164.204297 L 26.492637 164.133891 L 26.7195 163.993079 L 26.829021 163.922673 L 27.055885 163.781861 L 27.165405 163.711455 L 27.392269 163.570643 L 27.501789 163.496325 L 27.615221 163.425919 L 27.728653 163.351602 L 27.838173 163.281196 L 28.065037 163.132561 L 28.174558 163.058244 L 28.28799 162.983926 L 28.39751 162.905697 L 28.510942 162.83138 L 28.624374 162.753151 L 28.733894 162.674922 L 28.847326 162.592782 L 28.960758 162.514553 L 29.070278 162.432413 L 29.18371 162.350272 L 29.297142 162.264221 L 29.406663 162.178169 L 29.520095 162.092117 L 29.633526 162.002154 L 29.743047 161.912191 L 29.969911 161.732264 L 30.079431 161.638389 L 30.192863 161.544515 L 30.306295 161.446729 L 30.415815 161.348943 L 30.642679 161.15337 L 30.752199 161.055584 L 30.865631 160.953887 L 30.975152 160.856101 L 31.202016 160.652705 L 31.311536 160.551008 L 31.5384 160.347613 L 31.64792 160.245915 L 31.874784 160.04252 L 31.984304 159.944734 L 32.211168 159.741339 L 32.320689 159.639641 L 32.43412 159.541855 L 32.547552 159.440158 L 32.657073 159.342372 L 32.883937 159.138977 L 32.993457 159.04119 L 33.106889 158.939493 L 33.220321 158.841707 L 33.329841 158.740009 L 33.443273 158.638312 L 33.552794 158.536614 L 33.779657 158.333219 L 33.889178 158.22761 L 34.00261 158.122001 L 34.116041 158.020304 L 34.225562 157.914695 L 34.338994 157.805174 L 34.452426 157.699565 L 34.561946 157.590045 L 34.78881 157.371004 L 35.125194 157.03462 L 35.234715 156.921188 L 35.461578 156.694324 L 35.571099 156.580892 L 35.684531 156.463549 L 35.797962 156.350117 L 35.907483 156.232774 L 36.020915 156.11543 L 36.130435 155.998087 L 36.243867 155.880744 L 36.357299 155.767312 L 36.466819 155.649968 L 36.693683 155.415282 L 36.803204 155.297938 L 37.030067 155.063252 L 37.139588 154.945908 L 37.366452 154.711222 L 37.475972 154.589967 L 37.702836 154.35528 L 37.812356 154.234025 L 37.925788 154.116682 L 38.03922 153.995427 L 38.14874 153.874173 L 38.262172 153.752918 L 38.371693 153.631663 L 38.598557 153.381331 L 38.708077 153.256164 L 38.821509 153.130998 L 38.934941 153.001921 L 39.044461 152.872843 L 39.157893 152.743765 L 39.271325 152.610776 L 39.380845 152.477787 L 39.494277 152.344798 L 39.607709 152.207897 L 39.71723 152.070997 L 39.830661 151.934096 L 39.944093 151.793284 L 40.053614 151.652472 L 40.167046 151.51166 L 40.280478 151.366937 L 40.389998 151.222213 L 40.616862 150.932767 L 40.726382 150.788043 L 40.839814 150.639408 L 40.949335 150.490773 L 41.062766 150.342138 L 41.176198 150.197415 L 41.285719 150.04878 L 41.512583 149.75151 L 41.622103 149.598964 L 41.848967 149.301694 L 41.958487 149.153059 L 42.185351 148.85579 L 42.294871 148.707155 L 42.408303 148.55852 L 42.521735 148.413796 L 42.631256 148.265162 L 42.858119 147.967892 L 42.96764 147.819257 L 43.081072 147.670622 L 43.194504 147.518076 L 43.304024 147.369441 L 43.417456 147.220806 L 43.526976 147.06826 L 43.640408 146.919625 L 43.75384 146.767078 L 43.863361 146.614532 L 44.090224 146.309439 L 44.199745 146.152982 L 44.313177 146.000435 L 44.426608 145.843978 L 44.536129 145.68752 L 44.649561 145.531062 L 44.762993 145.370693 L 44.872513 145.214235 L 44.985945 145.053866 L 45.099377 144.897408 L 45.208897 144.737039 L 45.435761 144.4163 L 45.545282 144.255931 L 45.658713 144.095562 L 45.768234 143.935193 L 45.881666 143.778735 L 45.995098 143.618366 L 46.104618 143.457997 L 46.21805 143.297627 L 46.331482 143.14117 L 46.441002 142.9808 L 46.554434 142.824343 L 46.667866 142.663973 L 46.777386 142.507516 L 47.00425 142.1946 L 47.113771 142.038142 L 47.340634 141.725227 L 47.450155 141.568769 L 47.563587 141.412311 L 47.677019 141.251942 L 47.786539 141.095484 L 48.013403 140.782569 L 48.122923 140.6222 L 48.236355 140.46183 L 48.345876 140.301461 L 48.459307 140.141092 L 48.572739 139.976811 L 48.68226 139.816442 L 48.795692 139.652161 L 48.909124 139.483969 L 49.018644 139.319689 L 49.245508 138.983304 L 49.355028 138.811201 L 49.46846 138.643009 L 49.581892 138.470905 L 49.691412 138.29489 L 49.804844 138.122787 L 49.918276 137.946772 L 50.027797 137.770757 L 50.141228 137.594742 L 50.25466 137.414815 L 50.364181 137.2388 L 50.591045 136.878947 L 50.700565 136.702932 L 50.813997 136.523006 L 50.923517 136.34308 L 51.036949 136.159242 L 51.150381 135.979315 L 51.259902 135.799389 L 51.486765 135.439536 L 51.596286 135.25961 L 51.709718 135.075772 L 51.82315 134.895845 L 51.93267 134.715919 L 52.159534 134.356066 L 52.269054 134.172228 L 52.382486 133.992302 L 52.495918 133.808464 L 52.605438 133.628537 L 52.71887 133.444699 L 52.832302 133.264773 L 52.941823 133.080935 L 53.055254 132.897097 L 53.164775 132.713259 L 53.391639 132.345584 L 53.501159 132.157834 L 53.728023 131.782336 L 53.837543 131.594586 L 54.064407 131.219088 L 54.173927 131.027427 L 54.287359 130.835766 L 54.400791 130.648017 L 54.510312 130.456356 L 54.623744 130.260784 L 54.737175 130.069123 L 54.846696 129.877462 L 54.960128 129.685802 L 55.07356 129.490229 L 55.18308 129.298569 L 55.296512 129.102996 L 55.409944 128.911336 L 55.519464 128.715763 L 55.632896 128.524103 L 55.742417 128.332442 L 55.96928 127.94912 L 56.078801 127.75746 L 56.305665 127.374138 L 56.415185 127.186389 L 56.528617 126.994728 L 56.642049 126.806979 L 56.751569 126.619229 L 56.978433 126.243731 L 57.087953 126.059893 L 57.201385 125.872143 L 57.314817 125.688306 L 57.424338 125.500556 L 57.53777 125.316718 L 57.651201 125.128969 L 57.760722 124.945131 L 57.874154 124.757382 L 57.987586 124.573544 L 58.097106 124.385795 L 58.210538 124.198045 L 58.320058 124.014207 L 58.43349 123.826458 L 58.546922 123.634797 L 58.656443 123.447048 L 58.769874 123.259299 L 58.883306 123.067638 L 58.992827 122.875977 L 59.219691 122.492656 L 59.329211 122.297083 L 59.442643 122.105423 L 59.556075 121.90985 L 59.665595 121.714278 L 59.892459 121.323134 L 60.001979 121.127562 L 60.115411 120.928078 L 60.228843 120.732506 L 60.338364 120.533022 L 60.451795 120.33745 L 60.565227 120.137966 L 60.674748 119.942394 L 60.78818 119.746822 L 60.8977 119.547338 L 61.124564 119.156194 L 61.234084 118.95671 L 61.460948 118.565566 L 61.570469 118.369993 L 61.797332 117.978849 L 61.906853 117.783277 L 62.020285 117.587705 L 62.133716 117.388221 L 62.243237 117.192649 L 62.470101 116.801504 L 62.579621 116.605932 L 62.693053 116.406448 L 62.806485 116.210876 L 62.916005 116.011392 L 63.029437 115.811909 L 63.138958 115.612425 L 63.25239 115.412942 L 63.365821 115.209546 L 63.475342 115.006151 L 63.588774 114.806668 L 63.702206 114.603273 L 63.811726 114.395966 L 63.925158 114.192571 L 64.03859 113.985264 L 64.14811 113.777958 L 64.374974 113.363345 L 64.484494 113.156038 L 64.711358 112.741425 L 64.820879 112.530207 L 65.047742 112.115594 L 65.157263 111.904376 L 65.270695 111.69707 L 65.384127 111.485852 L 65.493647 111.278545 L 65.607079 111.071238 L 65.716599 110.863932 L 65.943463 110.449319 L 66.052984 110.245924 L 66.166415 110.038617 L 66.279847 109.835222 L 66.389368 109.627916 L 66.616232 109.221125 L 66.725752 109.01773 L 66.839184 108.814335 L 66.952616 108.614851 L 67.062136 108.411456 L 67.175568 108.208061 L 67.289 108.008578 L 67.39852 107.805182 L 67.511952 107.601787 L 67.625384 107.402304 L 67.734905 107.198909 L 67.848337 106.999425 L 67.961768 106.79603 L 68.071289 106.592635 L 68.184721 106.38924 L 68.294241 106.185845 L 68.521105 105.779054 L 68.630625 105.575659 L 68.744057 105.368353 L 68.857489 105.164958 L 68.96701 104.957651 L 69.080441 104.754256 L 69.193873 104.546949 L 69.303394 104.339643 L 69.416826 104.136248 L 69.530258 103.928941 L 69.639778 103.721635 L 69.866642 103.307022 L 69.976162 103.103627 L 70.203026 102.689013 L 70.312546 102.485618 L 70.425978 102.278312 L 70.535499 102.074917 L 70.762362 101.668126 L 70.871883 101.464731 L 71.098747 101.057941 L 71.208267 100.858458 L 71.321699 100.655062 L 71.435131 100.455579 L 71.544651 100.252184 L 71.771515 99.853216 L 71.881036 99.653733 L 72.107899 99.254765 L 72.21742 99.055282 L 72.444283 98.656314 L 72.553804 98.456831 L 72.780668 98.057863 L 72.890188 97.854468 L 73.00362 97.654985 L 73.11314 97.45159 L 73.226572 97.252106 L 73.340004 97.048711 L 73.449525 96.845316 L 73.562957 96.641921 L 73.676388 96.434614 L 73.785909 96.231219 L 73.899341 96.023912 L 74.012773 95.820517 L 74.122293 95.613211 L 74.349157 95.198598 L 74.458677 94.991291 L 74.685541 94.576678 L 74.795061 94.369372 L 75.021925 93.954758 L 75.131446 93.751363 L 75.358309 93.33675 L 75.46783 93.129444 L 75.581262 92.926049 L 75.690782 92.718742 L 75.917646 92.311952 L 76.027166 92.104645 L 76.140598 91.90125 L 76.25403 91.701767 L 76.363551 91.498371 L 76.590414 91.091581 L 76.699935 90.892098 L 76.813367 90.688703 L 76.926799 90.489219 L 77.036319 90.285824 L 77.149751 90.08634 L 77.263183 89.882945 L 77.372703 89.67955 L 77.486135 89.480066 L 77.599567 89.276671 L 77.709087 89.073276 L 77.822519 88.873792 L 77.935951 88.670397 L 78.045472 88.467002 L 78.158904 88.259696 L 78.268424 88.056301 L 78.495288 87.64951 L 78.604808 87.442204 L 78.71824 87.238809 L 78.831672 87.031502 L 78.941192 86.828107 L 79.168056 86.413494 L 79.277577 86.210099 L 79.391008 86.002792 L 79.50444 85.799397 L 79.613961 85.592091 L 79.840825 85.185301 L 79.950345 84.981905 L 80.177209 84.575115 L 80.286729 84.375632 L 80.400161 84.172236 L 80.509681 83.972753 L 80.736545 83.573785 L 80.846066 83.374302 L 81.072929 82.983157 L 81.18245 82.787585 L 81.409314 82.396441 L 81.518834 82.200869 L 81.632266 82.005296 L 81.745698 81.813636 L 81.855218 81.621975 L 81.96865 81.426403 L 82.082082 81.234742 L 82.191603 81.043081 L 82.305034 80.847509 L 82.418466 80.655848 L 82.527987 80.464187 L 82.75485 80.080866 L 82.864371 79.885294 L 82.977803 79.693633 L 83.087323 79.501972 L 83.200755 79.3064 L 83.314187 79.114739 L 83.423707 78.919167 L 83.537139 78.727506 L 83.650571 78.531934 L 83.760092 78.340273 L 83.986955 77.949129 L 84.096476 77.757468 L 84.209908 77.561896 L 84.32334 77.370235 L 84.43286 77.174663 L 84.546292 76.983002 L 84.659724 76.78743 L 84.769244 76.595769 L 84.996108 76.212447 L 85.105628 76.020787 L 85.332492 75.637465 L 85.442013 75.449716 L 85.555445 75.258055 L 85.664965 75.070306 L 85.778397 74.882556 L 85.891829 74.690896 L 86.001349 74.503146 L 86.114781 74.315397 L 86.228213 74.131559 L 86.337733 73.94381 L 86.564597 73.568311 L 86.674118 73.384473 L 86.900981 73.008975 L 87.010502 72.825137 L 87.237366 72.449638 L 87.346886 72.261889 L 87.460318 72.078051 L 87.57375 71.890302 L 87.68327 71.702552 L 87.796702 71.514803 L 87.906223 71.323142 L 88.133086 70.947644 L 88.242607 70.755983 L 88.356039 70.564322 L 88.46947 70.376573 L 88.578991 70.184912 L 88.805855 69.80159 L 88.915375 69.613841 L 89.142239 69.230519 L 89.251759 69.038859 L 89.365191 68.847198 L 89.478623 68.659449 L 89.588144 68.467788 L 89.701575 68.276127 L 89.815007 68.088378 L 89.924528 67.900628 L 90.03796 67.708968 L 90.151392 67.521218 L 90.260912 67.333469 L 90.374344 67.149631 L 90.483864 66.961882 L 90.710728 66.594206 L 90.820248 66.410368 L 91.047112 66.042692 L 91.156633 65.858855 L 91.383496 65.499002 L 91.493017 65.319075 L 91.719881 64.959222 L 91.829401 64.779296 L 92.056265 64.419443 L 92.165785 64.243428 L 92.392649 63.883575 L 92.502169 63.70756 L 92.615601 63.527634 L 92.729033 63.351619 L 92.838554 63.171692 L 92.951986 62.995677 L 93.061506 62.815751 L 93.174938 62.639736 L 93.28837 62.45981 L 93.39789 62.283795 L 93.511322 62.10778 L 93.624754 61.927853 L 93.734274 61.751838 L 93.961138 61.399808 L 94.070659 61.223793 L 94.184091 61.05169 L 94.297522 60.875675 L 94.407043 60.69966 L 94.633907 60.355453 L 94.743427 60.183349 L 94.856859 60.011245 L 94.970291 59.843053 L 95.079811 59.67095 L 95.306675 59.334566 L 95.416195 59.166373 L 95.529627 59.002093 L 95.639148 58.833901 L 95.866012 58.505339 L 95.975532 58.341059 L 96.202396 58.012497 L 96.311916 57.852128 L 96.53878 57.523567 L 96.6483 57.363198 L 96.761732 57.198917 L 96.875164 57.038548 L 96.984685 56.874267 L 97.098116 56.713898 L 97.211548 56.549617 L 97.321069 56.389248 L 97.547933 56.060687 L 97.657453 55.896406 L 97.770885 55.736037 L 97.880405 55.571756 L 98.107269 55.243195 L 98.21679 55.078914 L 98.330221 54.910722 L 98.443653 54.746442 L 98.553174 54.582161 L 98.780037 54.2536 L 98.889558 54.085407 L 99.116422 53.756846 L 99.225942 53.592565 L 99.452806 53.264004 L 99.562326 53.099723 L 99.78919 52.771162 L 99.898711 52.610793 L 100.012142 52.446512 L 100.125574 52.286143 L 100.235095 52.121862 L 100.348527 51.961493 L 100.458047 51.801124 L 100.684911 51.480386 L 100.794431 51.320016 L 100.907863 51.163559 L 101.021295 51.003189 L 101.130815 50.84282 L 101.357679 50.529905 L 101.4672 50.369535 L 101.694063 50.05662 L 101.803584 49.900162 L 102.030448 49.587247 L 102.139968 49.430789 L 102.366832 49.117873 L 102.476352 48.961416 L 102.703216 48.6485 L 102.812736 48.492042 L 102.926168 48.335584 L 103.035689 48.179127 L 103.149121 48.02658 L 103.262553 47.870123 L 103.372073 47.713665 L 103.485505 47.561118 L 103.598937 47.404661 L 103.708457 47.252114 L 103.935321 46.947022 L 104.044841 46.794475 L 104.158273 46.641929 L 104.271705 46.493294 L 104.381226 46.340748 L 104.608089 46.043478 L 104.71761 45.894843 L 104.944474 45.605396 L 105.053994 45.460673 L 105.167426 45.315949 L 105.276946 45.171226 L 105.390378 45.026503 L 105.50381 44.885691 L 105.613331 44.744879 L 105.840194 44.463255 L 105.949715 44.326354 L 106.063147 44.185542 L 106.176579 44.048642 L 106.286099 43.911741 L 106.512963 43.63794 L 106.622483 43.501039 L 106.849347 43.227238 L 106.958867 43.090338 L 107.072299 42.953437 L 107.185731 42.820448 L 107.295252 42.683548 L 107.522115 42.409746 L 107.631636 42.276757 L 107.745068 42.139857 L 107.854588 42.002956 L 108.081452 41.729155 L 108.190972 41.592255 L 108.304404 41.459265 L 108.417836 41.322365 L 108.527357 41.185464 L 108.640788 41.048564 L 108.75422 40.915575 L 108.863741 40.778674 L 108.977173 40.641774 L 109.090604 40.508785 L 109.200125 40.375795 L 109.313557 40.238895 L 109.426989 40.105906 L 109.536509 39.972917 L 109.763373 39.706938 L 109.872893 39.573949 L 109.986325 39.444872 L 110.099757 39.311883 L 110.209278 39.182805 L 110.322709 39.049816 L 110.43223 38.920738 L 110.659094 38.662583 L 110.768614 38.533505 L 110.995478 38.27535 L 111.104998 38.146272 L 111.331862 37.888117 L 111.441382 37.759039 L 111.554814 37.633873 L 111.668246 37.504795 L 111.777767 37.375718 L 112.00463 37.117562 L 112.114151 36.988485 L 112.227583 36.863318 L 112.341015 36.734241 L 112.450535 36.605163 L 112.677399 36.347008 L 112.786919 36.21793 L 112.900351 36.088853 L 113.009872 35.959775 L 113.123303 35.834609 L 113.236735 35.705531 L 113.346256 35.576453 L 113.459688 35.451287 L 113.57312 35.322209 L 113.68264 35.197043 L 113.909504 34.946711 L 114.019024 34.821545 L 114.245888 34.571212 L 114.355408 34.449957 L 114.46884 34.324791 L 114.582272 34.203536 L 114.691793 34.082282 L 114.805224 33.964938 L 114.918656 33.843684 L 115.028177 33.72634 L 115.141609 33.608997 L 115.251129 33.491654 L 115.477993 33.256967 L 115.587513 33.143535 L 115.700945 33.026192 L 115.814377 32.91276 L 115.923898 32.799328 L 116.150761 32.572464 L 116.260282 32.459032 L 116.373714 32.349512 L 116.596666 32.12656 L 116.710098 32.017039 L 116.93305 31.794087 L 117.159914 31.575046 L 117.382866 31.352094 L 117.496298 31.242573 L 117.605819 31.136964 L 117.71925 31.027444 L 117.828771 30.917923 L 118.055635 30.698882 L 118.165155 30.593273 L 118.278587 30.483753 L 118.392019 30.378144 L 118.501539 30.268624 L 118.728403 30.057406 L 118.837923 29.947885 L 118.951355 29.842276 L 119.064787 29.740579 L 119.174308 29.63497 L 119.28774 29.529361 L 119.401171 29.427663 L 119.510692 29.322054 L 119.737556 29.118659 L 119.847076 29.016961 L 120.07394 28.813566 L 120.18346 28.71578 L 120.296892 28.614083 L 120.406413 28.516297 L 120.519845 28.414599 L 120.633276 28.316813 L 120.742797 28.219027 L 120.856229 28.117329 L 120.969661 28.019543 L 121.079181 27.921757 L 121.306045 27.726185 L 121.415565 27.628399 L 121.642429 27.432826 L 121.751949 27.33504 L 121.978813 27.139468 L 122.088334 27.041682 L 122.315197 26.84611 L 122.424718 26.748324 L 122.53815 26.646626 L 122.64767 26.54884 L 122.874534 26.353268 L 122.984054 26.255482 L 123.210918 26.05991 L 123.320439 25.962123 L 123.547302 25.766551 L 123.656823 25.668765 L 123.770255 25.570979 L 123.883687 25.477104 L 123.993207 25.379318 L 124.106639 25.285444 L 124.220071 25.187657 L 124.329591 25.093783 L 124.556455 24.906033 L 124.665975 24.812159 L 124.779407 24.722196 L 124.892839 24.628321 L 125.00236 24.538358 L 125.115791 24.448395 L 125.225312 24.358431 L 125.452176 24.178505 L 125.561696 24.088542 L 125.675128 23.998578 L 125.78856 23.912527 L 125.89808 23.822563 L 126.011512 23.736512 L 126.124944 23.646548 L 126.234465 23.560497 L 126.347896 23.470533 L 126.461328 23.384482 L 126.570849 23.29843 L 126.797713 23.126326 L 126.907233 23.036363 L 127.134097 22.86426 L 127.243617 22.778208 L 127.470481 22.606104 L 127.580001 22.523964 L 127.693433 22.437912 L 127.802954 22.35186 L 127.916386 22.265809 L 128.029817 22.183668 L 128.139338 22.097617 L 128.366202 21.933336 L 128.475722 21.851196 L 128.702586 21.686915 L 128.812106 21.604775 L 128.925538 21.522634 L 129.03897 21.444405 L 129.14849 21.366176 L 129.261922 21.284036 L 129.375354 21.205807 L 129.484875 21.127578 L 129.598307 21.053261 L 129.711738 20.975032 L 129.821259 20.896803 L 130.048123 20.748168 L 130.157643 20.669939 L 130.271075 20.595622 L 130.380595 20.521305 L 130.494027 20.450899 L 130.607459 20.376581 L 130.71698 20.302264 L 130.830412 20.227946 L 130.943843 20.15754 L 131.053364 20.083223 L 131.166796 20.008905 L 131.280228 19.938499 L 131.389748 19.864182 L 131.616612 19.72337 L 131.726132 19.649052 L 131.839564 19.578646 L 131.952996 19.504329 L 132.062516 19.433923 L 132.175948 19.363517 L 132.28938 19.2892 L 132.398901 19.218794 L 132.512333 19.148388 L 132.621853 19.07407 L 132.848717 18.933258 L 132.958237 18.862852 L 133.185101 18.72204 L 133.294621 18.651634 L 133.521485 18.510822 L 133.631006 18.444328 L 133.744437 18.373922 L 133.857869 18.307427 L 133.96739 18.237021 L 134.194254 18.104032 L 134.303774 18.033626 L 134.530638 17.900637 L 134.640158 17.838054 L 134.867022 17.705065 L 134.976542 17.642482 L 135.089974 17.575987 L 135.199495 17.513404 L 135.312927 17.446909 L 135.426358 17.384326 L 135.535879 17.321743 L 135.649311 17.25916 L 135.762743 17.192665 L 135.872263 17.130082 L 136.099127 17.004916 L 136.208647 16.942333 L 136.435511 16.817167 L 136.545032 16.754584 L 136.771895 16.629417 L 136.881416 16.566834 L 137.108279 16.441668 L 137.2178 16.379085 L 137.444664 16.253919 L 137.554184 16.191336 L 137.667616 16.128753 L 137.777136 16.06617 L 138.004 15.941003 L 138.113521 15.87842 L 138.226953 15.819749 L 138.340384 15.757165 L 138.449905 15.698494 L 138.563337 15.635911 L 138.676769 15.577239 L 138.786289 15.518567 L 139.013153 15.401224 L 139.122673 15.342552 L 139.236105 15.287792 L 139.349537 15.22912 L 139.459057 15.17436 L 139.572489 15.115689 L 139.685921 15.060928 L 139.795442 15.006168 L 139.908874 14.951408 L 140.018394 14.896648 L 140.131826 14.845799 L 140.245258 14.791039 L 140.354778 14.736278 L 140.46821 14.68543 L 140.581642 14.630669 L 140.691162 14.579821 L 140.804594 14.525061 L 140.918026 14.474212 L 141.027547 14.423363 L 141.140978 14.372514 L 141.25441 14.317754 L 141.363931 14.266905 L 141.590795 14.165208 L 141.700315 14.114359 L 141.927179 14.012661 L 142.036699 13.961813 L 142.263563 13.860115 L 142.373083 13.809266 L 142.486515 13.758417 L 142.596036 13.707569 L 142.709468 13.660631 L 142.8229 13.609783 L 142.93242 13.562845 L 143.045852 13.511996 L 143.159284 13.465059 L 143.268804 13.418122 L 143.382236 13.367273 L 143.495668 13.320336 L 143.605188 13.273398 L 143.71862 13.230372 L 143.832052 13.183435 L 143.941573 13.136498 L 144.055004 13.093472 L 144.168436 13.046535 L 144.277957 13.003509 L 144.504821 12.917457 L 144.614341 12.87052 L 144.841205 12.784468 L 144.950725 12.741442 L 145.064157 12.702327 L 145.173677 12.659302 L 145.400541 12.57325 L 145.510062 12.530224 L 145.623494 12.49111 L 145.736925 12.448084 L 145.846446 12.405058 L 145.959878 12.365943 L 146.07331 12.322917 L 146.18283 12.279892 L 146.296262 12.236866 L 146.409694 12.197751 L 146.519214 12.154725 L 146.746078 12.068674 L 146.855599 12.025648 L 146.96903 11.986533 L 147.082462 11.943507 L 147.191983 11.900481 L 147.418846 11.81443 L 147.528367 11.771404 L 147.641799 11.732289 L 147.751319 11.689263 L 147.978183 11.603212 L 148.087703 11.564097 L 148.314567 11.478045 L 148.424088 11.438931 L 148.53752 11.395905 L 148.650951 11.356791 L 148.760472 11.317676 L 148.873904 11.27465 L 148.987336 11.235536 L 149.096856 11.196421 L 149.32372 11.118193 L 149.43324 11.079078 L 149.660104 11.000849 L 149.769624 10.961735 L 149.883056 10.926532 L 149.992577 10.887417 L 150.106009 10.848303 L 150.219441 10.8131 L 150.328961 10.773985 L 150.442393 10.738782 L 150.555825 10.699668 L 150.665345 10.664465 L 150.778777 10.629262 L 150.892209 10.590148 L 151.001729 10.554945 L 151.115161 10.519742 L 151.228593 10.480627 L 151.338114 10.445424 L 151.564977 10.375018 L 151.674498 10.335904 L 151.901362 10.265498 L 152.010882 10.230295 L 152.237746 10.159889 L 152.347266 10.124686 L 152.460698 10.089483 L 152.570219 10.05428 L 152.68365 10.019077 L 152.797082 9.987785 L 152.906603 9.952582 L 153.020035 9.917379 L 153.133467 9.886088 L 153.242987 9.854796 L 153.356419 9.819593 L 153.469851 9.788302 L 153.579371 9.75701 L 153.692803 9.72963 L 153.806235 9.698338 L 153.915755 9.667047 L 154.029187 9.639667 L 154.142619 9.608375 L 154.25214 9.580995 L 154.365571 9.553615 L 154.479003 9.522323 L 154.588524 9.494943 L 154.815388 9.440183 L 154.924908 9.412803 L 155.03834 9.389334 L 155.14786 9.361954 L 155.374724 9.307194 L 155.484244 9.283725 L 155.711108 9.228965 L 155.820629 9.205496 L 156.047492 9.150736 L 156.157013 9.127267 L 156.383877 9.072507 L 156.493397 9.045127 L 156.606829 9.021658 L 156.720261 8.994278 L 156.829781 8.966898 L 156.943213 8.94343 L 157.056645 8.916049 L 157.166166 8.888669 L 157.279597 8.865201 L 157.389118 8.837821 L 157.50255 8.814352 L 157.615982 8.786972 L 157.725502 8.763503 L 157.838934 8.736123 L 157.952366 8.712654 L 158.061886 8.685274 L 158.28875 8.638337 L 158.39827 8.610957 L 158.625134 8.564019 L 158.734655 8.540551 L 158.848087 8.513171 L 158.961518 8.489702 L 159.071039 8.466233 L 159.297903 8.419296 L 159.407423 8.395827 L 159.634287 8.34889 L 159.743807 8.325421 L 159.857239 8.301953 L 159.96676 8.278484 L 160.193623 8.231547 L 160.303144 8.208078 L 160.530008 8.161141 L 160.639528 8.137672 L 160.866392 8.090735 L 160.975912 8.067266 L 161.202776 8.020329 L 161.312296 7.99686 L 161.53916 7.949923 L 161.648681 7.926454 L 161.875544 7.879517 L 161.985065 7.856048 L 162.211929 7.809111 L 162.321449 7.785642 L 162.434881 7.762173 L 162.544401 7.742616 L 162.657833 7.719148 L 162.771265 7.69959 L 162.880786 7.676122 L 162.994217 7.656564 L 163.107649 7.633096 L 163.21717 7.613539 L 163.444033 7.574424 L 163.553554 7.550955 L 163.666986 7.531398 L 163.780418 7.515752 L 163.889938 7.496195 L 164.116802 7.457081 L 164.226322 7.441435 L 164.339754 7.421878 L 164.453186 7.406232 L 164.562707 7.386675 L 164.78957 7.355383 L 164.899091 7.335826 L 165.012523 7.32018 L 165.122043 7.304534 L 165.348907 7.273243 L 165.458427 7.257597 L 165.571859 7.241951 L 165.685291 7.222394 L 165.794811 7.206748 L 166.021675 7.175457 L 166.131196 7.159811 L 166.358059 7.128519 L 166.46758 7.112874 L 166.694444 7.081582 L 166.803964 7.065936 L 167.030828 7.034645 L 167.140348 7.018999 L 167.25378 7.003353 L 167.363301 6.987707 L 167.476732 6.972062 L 167.590164 6.960327 L 167.699685 6.944682 L 167.926549 6.91339 L 168.036069 6.901656 L 168.262933 6.870364 L 168.372453 6.85863 L 168.485885 6.842984 L 168.599317 6.83125 L 168.708837 6.815604 L 168.935701 6.792135 L 169.045222 6.776489 L 169.272085 6.753021 L 169.381606 6.737375 L 169.495038 6.725641 L 169.60847 6.709995 L 169.71799 6.698261 L 169.831422 6.686526 L 169.940942 6.67088 L 170.054374 6.659146 L 170.167806 6.6435 L 170.277327 6.631766 L 170.390758 6.61612 L 170.50419 6.604386 L 170.613711 6.58874 L 170.727143 6.577006 L 170.840575 6.56136 L 170.950095 6.549626 L 171.176959 6.518334 L 171.286479 6.5066 L 171.513343 6.475308 L 171.622863 6.463574 L 171.849727 6.432282 L 171.959248 6.420548 L 172.072679 6.404902 L 172.186111 6.393168 L 172.295632 6.377522 L 172.409064 6.365788 L 172.518584 6.350142 L 172.745448 6.326673 L 172.854968 6.311028 L 173.081832 6.287559 L 173.191353 6.275825 L 173.418216 6.252356 L 173.527737 6.23671 L 173.641169 6.228887 L 173.7546 6.217153 L 173.864121 6.205419 L 174.090985 6.18195 L 174.200505 6.170216 L 174.313937 6.158481 L 174.427369 6.150658 L 174.536889 6.138924 L 174.650321 6.12719 L 174.759842 6.119367 L 174.986705 6.095898 L 175.096226 6.088075 L 175.32309 6.064607 L 175.43261 6.056784 L 175.659474 6.033315 L 175.768994 6.025492 L 175.882426 6.013758 L 175.995858 6.005935 L 176.105378 5.994201 L 176.21881 5.986378 L 176.332242 5.974643 L 176.441763 5.966821 L 176.555195 5.955086 L 176.668626 5.947263 L 176.778147 5.935529 L 177.005011 5.919883 L 177.114531 5.908149 L 177.227963 5.900326 L 177.337483 5.892503 L 177.450915 5.88468 L 177.564347 5.872946 L 177.673868 5.865123 L 177.900731 5.849477 L 178.010252 5.841654 L 178.237116 5.826009 L 178.346636 5.818186 L 178.460068 5.810363 L 178.5735 5.806451 L 178.68302 5.798628 L 178.909884 5.782983 L 179.019404 5.779071 L 179.246268 5.763425 L 179.355789 5.759514 L 179.582652 5.743868 L 179.692173 5.739957 L 179.805605 5.732134 L 179.915125 5.724311 L 180.028557 5.7204 L 180.141989 5.712577 L 180.251509 5.704754 L 180.364941 5.700842 L 180.478373 5.693019 L 180.587894 5.685197 L 180.701325 5.681285 L 180.814757 5.673462 L 180.924278 5.665639 L 181.03771 5.657816 L 181.151142 5.653905 L 181.260662 5.646082 L 181.487526 5.630436 L 181.597046 5.626525 L 181.82391 5.610879 L 181.93343 5.603056 L 182.046862 5.599145 L 182.160294 5.591322 L 182.269815 5.583499 L 182.383246 5.575676 L 182.492767 5.571765 L 182.606199 5.563942 L 182.719631 5.56003 L 182.829151 5.552207 L 182.942583 5.544385 L 183.056015 5.540473 L 183.165535 5.53265 L 183.278967 5.528739 L 183.392399 5.520916 L 183.50192 5.517004 L 183.615351 5.509182 L 183.728783 5.50527 L 183.838304 5.497447 L 184.065167 5.489624 L 184.174688 5.481801 L 184.28812 5.47789 L 184.401552 5.470067 L 184.511072 5.466156 L 184.624504 5.458333 L 184.734024 5.454421 L 184.847456 5.446598 L 184.960888 5.442687 L 185.070409 5.434864 L 185.183841 5.430953 L 185.297272 5.42313 L 185.406793 5.419218 L 185.520225 5.411395 L 185.633657 5.407484 L 185.743177 5.399661 L 185.856609 5.39575 L 185.970041 5.387927 L 186.079561 5.384015 L 186.192993 5.380104 L 186.306425 5.372281 L 186.415945 5.36837 L 186.529377 5.360547 L 186.642809 5.356635 L 186.75233 5.348812 L 186.979193 5.340989 L 187.088714 5.337078 L 187.202146 5.329255 L 187.311666 5.325344 L 187.53853 5.317521 L 187.64805 5.313609 L 187.761482 5.305786 L 187.874914 5.301875 L 187.984435 5.297964 L 188.211298 5.290141 L 188.320819 5.286229 L 188.547683 5.278406 L 188.657203 5.274495 L 188.770635 5.270583 L 188.884067 5.270583 L 188.993587 5.266672 L 189.220451 5.258849 L 189.329971 5.254938 L 189.556835 5.247115 L 189.666356 5.243203 L 189.779787 5.239292 L 189.889308 5.23538 L 190.116172 5.227558 L 190.225692 5.223646 L 190.452556 5.215823 L 190.562076 5.211912 L 190.675508 5.211912 L 190.78894 5.208 L 190.898461 5.204089 L 191.125324 5.196266 L 191.234845 5.192355 L 191.461709 5.184532 L 191.571229 5.18062 L 191.798093 5.172797 L 191.907613 5.172797 L 192.021045 5.168886 L 192.130565 5.164974 L 192.357429 5.157152 L 192.46695 5.157152 L 192.693813 5.149329 L 192.803334 5.149329 L 193.030198 5.141506 L 193.139718 5.137594 L 193.25315 5.137594 L 193.366582 5.133683 L 193.476102 5.133683 L 193.702966 5.12586 L 193.812486 5.12586 L 194.03935 5.118037 L 194.148871 5.118037 L 194.375734 5.110214 L 194.485255 5.110214 L 194.598687 5.106303 L 194.708207 5.102391 L 194.821639 5.102391 L 194.935071 5.09848 L 195.044591 5.094568 L 195.158023 5.094568 L 195.271455 5.090657 L 195.380976 5.086746 L 195.494408 5.082834 L 195.607839 5.082834 L 195.71736 5.078923 L 195.944224 5.0711 L 196.053744 5.0711 L 196.280608 5.063277 L 196.390128 5.063277 L 196.616992 5.055454 L 196.726512 5.055454 L 196.953376 5.047631 L 197.062897 5.047631 L 197.176329 5.04372 L 197.285849 5.039808 L 197.399281 5.039808 L 197.512713 5.035897 L 197.622233 5.035897 L 197.849097 5.028074 L 197.958617 5.028074 L 198.072049 5.024162 L 198.185481 5.024162 L 198.295002 5.020251 L 198.408433 5.020251 L 198.521865 5.01634 L 198.631386 5.01634 L 198.744818 5.012428 L 198.85825 5.012428 L 198.96777 5.008517 L 199.081202 5.008517 L 199.194634 5.004605 L 199.304154 5.004605 L 199.417586 5.000694 L 199.531018 5.000694 L 199.640538 4.996782 L 199.75397 4.996782 L 199.863491 4.992871 L 199.976923 4.988959 L 200.090354 4.988959 L 200.199875 4.985048 L 200.313307 4.985048 L 200.426739 4.981137 L 200.536259 4.981137 L 200.649691 4.977225 L 200.763123 4.977225 L 200.872643 4.973314 L 200.986075 4.973314 L 201.099507 4.969402 L 201.322459 4.969402 L 201.435891 4.965491 L 201.545412 4.965491 L 201.658844 4.961579 L 201.995228 4.961579 L 202.104748 4.957668 L 202.331612 4.957668 L 202.441132 4.953756 L 202.890949 4.953756 L 203.00438 4.949845 L 203.563717 4.949845 L 203.677149 4.945934 L 204.123053 4.945934 L 204.236485 4.942022 L 204.68239 4.942022 L 204.795822 4.938111 L 205.245638 4.938111 L 205.355158 4.934199 L 205.804974 4.934199 L 205.918406 4.930288 L 206.364311 4.930288 L 206.477743 4.926376 L 206.927559 4.926376 L 207.037079 4.922465 L 207.486896 4.922465 L 207.596416 4.918553 L 208.046232 4.918553 L 208.159664 4.914642 L 208.605569 4.914642 L 208.719 4.910731 L 209.055385 4.910731 L 209.168817 4.906819 L 209.501289 4.906819 L 209.614721 4.902908 L 209.951105 4.902908 L 210.064537 4.898996 L 210.28749 4.898996 L 210.400921 4.895085 L 210.623874 4.895085 L 210.737306 4.891173 L 211.07369 4.891173 L 211.18321 4.887262 L 211.519595 4.887262 L 211.633026 4.88335 L 211.969411 4.88335 L 212.078931 4.879439 L 212.528747 4.879439 L 212.642179 4.875528 L 213.201516 4.875528 L 213.314947 4.871616 L 213.987716 4.871616 L 214.097236 4.867705 L 219.029567 4.867705 L 219.142999 4.863793 L 219.925288 4.863793 L 220.03872 4.859882 L 220.598057 4.859882 L 220.711488 4.85597 L 221.270825 4.85597 L 221.384257 4.852059 L 222.166546 4.852059 L 222.279978 4.848147 L 226.426108 4.848147 L 226.53954 4.852059 L 229.786039 4.852059 L 229.899471 4.848147 L 231.581392 4.848147 L 231.694824 4.844236 L 235.840955 4.844236 L 235.950475 4.848147 L 236.286859 4.848147 \" transform=\"matrix(0.998672,0,0,-0.998672,12.460513,171.189366)\"/>\n",
       "</g>\n",
       "<path style=\"fill-rule:nonzero;fill:rgb(100%,100%,100%);fill-opacity:0.9;stroke-width:0.99628;stroke-linecap:butt;stroke-linejoin:miter;stroke:rgb(13.331604%,13.331604%,33.332825%);stroke-opacity:0.1;stroke-miterlimit:10;\" d=\"M 197.923414 152.497344 L 237.808411 152.497344 L 237.808411 167.2474 L 197.923414 167.2474 Z M 197.923414 152.497344 \" transform=\"matrix(0.998672,0,0,-0.998672,12.460513,171.189366)\"/>\n",
       "<path style=\"fill:none;stroke-width:1.19553;stroke-linecap:butt;stroke-linejoin:miter;stroke:rgb(93.331909%,46.665955%,19.999695%);stroke-opacity:1;stroke-miterlimit:10;\" d=\"M 0.00120873 -0.00158337 L 17.008168 -0.00158337 \" transform=\"matrix(0.998672,0,0,-0.998672,213.701918,11.529669)\"/>\n",
       "<g style=\"fill:rgb(13.331604%,13.331604%,33.332825%);fill-opacity:1;\">\n",
       "  <use xlink:href=\"#glyph-1606366588244573-1-1\" x=\"233.274891\" y=\"13.422152\"/>\n",
       "  <use xlink:href=\"#glyph-1606366588244573-1-2\" x=\"239.423628\" y=\"13.422152\"/>\n",
       "</g>\n",
       "</g>\n",
       "</svg>\n",
       "\n"
      ]
     },
     "execution_count": 39,
     "metadata": {},
     "output_type": "execute_result"
    }
   ],
   "source": [
    "using KernelDensity\n",
    "ΔE_kde = kde(mid.(ΔEs(12)))\n",
    "plot(ΔE_kde.x, ΔE_kde.density)"
   ]
  },
  {
   "cell_type": "markdown",
   "metadata": {
    "hidden": true
   },
   "source": [
    "This rigorously shows that the smallest $\\Delta E$ is either within the first interval (nonzero) or the second interval (very close to zero)."
   ]
  },
  {
   "cell_type": "code",
   "execution_count": 40,
   "metadata": {
    "ExecuteTime": {
     "end_time": "2020-11-20T21:53:26.118000-08:00",
     "start_time": "2020-11-21T05:52:49.351Z"
    },
    "hidden": true
   },
   "outputs": [
    {
     "data": {
      "text/plain": [
       "14-element Array{Pair{Int64,Tuple{Interval{Float64},Interval{Float64}}},1}:\n",
       "  2 => (0.25 ± 5.55112e-17, 0 ± 0)\n",
       "  3 => (0.0717968 ± 1.80412e-16, 1.03051e-16 ± 1.03052e-16)\n",
       "  4 => (0.027864 ± 7.28584e-17, 5.24176e-17 ± 5.24177e-17)\n",
       "  5 => (0.0149333 ± 8.84709e-17, 6.25437e-17 ± 6.25438e-17)\n",
       "  6 => (0.00676561 ± 8.93383e-17, 1.04446e-16 ± 1.04446e-16)\n",
       "  7 => (0.00492663 ± 9.1073e-17, 8.94574e-17 ± 8.94575e-17)\n",
       "  8 => (8.75569e-05 ± 8.4866e-17, 6.52487e-17 ± 6.52487e-17)\n",
       "  9 => (0.000111021 ± 1.21851e-16, 1.56578e-16 ± 1.56578e-16)\n",
       " 10 => (0.000484994 ± 8.89588e-17, 1.0961e-16 ± 1.09611e-16)\n",
       " 11 => (0.000260287 ± 1.94777e-16, 1.66072e-16 ± 1.66073e-16)\n",
       " 12 => (4.47363e-05 ± 1.13123e-16, 1.34836e-16 ± 1.34837e-16)\n",
       " 13 => (2.69225e-05 ± 1.96756e-16, 1.76658e-16 ± 1.76659e-16)\n",
       " 14 => (6.73035e-07 ± 1.60313e-16, 1.67768e-16 ± 1.67769e-16)\n",
       " 15 => (1.19663e-07 ± 1.53104e-16, 1.67022e-16 ± 1.67023e-16)"
      ]
     },
     "execution_count": 40,
     "metadata": {},
     "output_type": "execute_result"
    }
   ],
   "source": [
    "minΔEs = [NE => foldr((x, (m, z)) -> 0 ∈ x ? (m, x ∪ z) : (min(x, m), z), ΔEs(NE), init=(@interval(Inf), @interval(0))) for NE in 2:15]"
   ]
  },
  {
   "cell_type": "markdown",
   "metadata": {
    "hidden": true
   },
   "source": [
    "From the plot, we can derive an approximate lower bound for the smallest energy spacing. From the small $N$ plots, it is clear that the energy differences are not uniformly separated. However, the \\textsc{cdf} (from sorted indices) is uniformly spaced. Since we have computed $3^N$ energy differences, we may then expect the typical spacing between $\\Delta E$ values at $x$ to be $Q'(x) 3^{-N}$, where $Q(x)$ is the limiting differentiable quantile function (inverse \\textsc{cdf}). Suppose that for large $N$, $Q'(0) \\to k$. From the plots, we estimate that $k > 1/3$. We may then make the following estimates:"
   ]
  },
  {
   "cell_type": "code",
   "execution_count": 41,
   "metadata": {
    "ExecuteTime": {
     "end_time": "2020-11-20T21:53:40.932000-08:00",
     "start_time": "2020-11-21T05:53:40.881Z"
    },
    "hidden": true
   },
   "outputs": [
    {
     "data": {
      "text/plain": [
       "14-element Array{Pair{Int64,Float64},1}:\n",
       "  2 => 0.037037037037037035\n",
       "  3 => 0.012345679012345678\n",
       "  4 => 0.004115226337448559\n",
       "  5 => 0.0013717421124828533\n",
       "  6 => 0.00045724737082761767\n",
       "  7 => 0.00015241579027587256\n",
       "  8 => 5.080526342529086e-5\n",
       "  9 => 1.6935087808430286e-5\n",
       " 10 => 5.645029269476761e-6\n",
       " 11 => 1.8816764231589206e-6\n",
       " 12 => 6.272254743863069e-7\n",
       " 13 => 2.0907515812876897e-7\n",
       " 14 => 6.969171937625632e-8\n",
       " 15 => 2.3230573125418773e-8"
      ]
     },
     "execution_count": 41,
     "metadata": {},
     "output_type": "execute_result"
    }
   ],
   "source": [
    "[NE => (1/3) * 3.0^-NE for NE in 2:15]"
   ]
  },
  {
   "cell_type": "markdown",
   "metadata": {
    "hidden": true
   },
   "source": [
    "Note that these are all smaller than the actual minimum energy differences, as desired. Now we may estimate the $N$ where the spacing is small enough to cause problems to be around"
   ]
  },
  {
   "cell_type": "code",
   "execution_count": 42,
   "metadata": {
    "ExecuteTime": {
     "end_time": "2020-11-20T21:53:44.237000-08:00",
     "start_time": "2020-11-21T05:53:44.234Z"
    },
    "hidden": true
   },
   "outputs": [
    {
     "data": {
      "text/plain": [
       "31"
      ]
     },
     "execution_count": 42,
     "metadata": {},
     "output_type": "execute_result"
    }
   ],
   "source": [
    "-log(3, 3*eps()) |> floor |> Int"
   ]
  },
  {
   "cell_type": "markdown",
   "metadata": {},
   "source": [
    "## Construction of superoperators"
   ]
  },
  {
   "cell_type": "code",
   "execution_count": 389,
   "metadata": {},
   "outputs": [],
   "source": [
    "function addentry!(dict, key, value, isequal=isequal)\n",
    "    for k in keys(dict)\n",
    "        if isequal(k, key)\n",
    "            push!(dict[k], value)\n",
    "            return dict\n",
    "        end\n",
    "    end\n",
    "    dict[key] = [value]\n",
    "    dict\n",
    "end\n",
    "\n",
    "stateE(occ, N=length(occ)) = E0S + 2*sum(n == 1 ? E(m) : 0 for (m, n) in enumerate(occ))\n",
    "\n",
    "states = fermionstates(f, [0:N...])\n",
    "energies = Dict{Float64, Vector{Vector{Int64}}}()\n",
    "for state in states\n",
    "    addentry!(energies, stateE(state), state, ≈)\n",
    "end\n",
    "projectors = Dict(energy => sum(sparse(projector(basisstate(mbb, state))) for state in states)\n",
    "    for (energy, states) in energies)\n",
    "\n",
    "ωs = Dict{Float64,Vector{Tuple{Float64,Float64}}}()\n",
    "for E1 in keys(energies), E2 in keys(energies)\n",
    "    addentry!(ωs, E2 - E1, (E1, E2), ≈)\n",
    "end"
   ]
  },
  {
   "cell_type": "markdown",
   "metadata": {},
   "source": [
    "Now we may compute the superoperators for $\\pauli_x^i$."
   ]
  },
  {
   "cell_type": "code",
   "execution_count": 390,
   "metadata": {},
   "outputs": [
    {
     "data": {
      "text/plain": [
       "Aωs (generic function with 1 method)"
      ]
     },
     "execution_count": 390,
     "metadata": {},
     "output_type": "execute_result"
    }
   ],
   "source": [
    "function Aωs(i)\n",
    "    A = sxmb(i)\n",
    "    d = Dict(ω => sum(projectors[E1] * A * projectors[E2]\n",
    "        for (E1, E2) in Ediffs)\n",
    "    for (ω, Ediffs) in ωs)\n",
    "    filter!(kv -> kv.second != zero(A), d)\n",
    "end"
   ]
  },
  {
   "cell_type": "markdown",
   "metadata": {},
   "source": [
    "Since the spectral correlation tensor is already diagonal, the `Aωs(i)` are the Lindblad operators."
   ]
  },
  {
   "cell_type": "markdown",
   "metadata": {},
   "source": [
    "## Time evolution"
   ]
  },
  {
   "cell_type": "code",
   "execution_count": 473,
   "metadata": {},
   "outputs": [],
   "source": [
    "using ProgressMeter"
   ]
  },
  {
   "cell_type": "markdown",
   "metadata": {},
   "source": [
    "We start the system off with all $x$-oriented spins."
   ]
  },
  {
   "cell_type": "code",
   "execution_count": 454,
   "metadata": {
    "ExecuteTime": {
     "end_time": "2020-11-20T21:53:50.902000-08:00",
     "start_time": "2020-11-21T05:53:50.893Z"
    },
    "code_folding": []
   },
   "outputs": [],
   "source": [
    "# ψs = tpow(down, N);\n",
    "# ψs = tpow(ψx, N);\n",
    "ψs = randstate(mbb);"
   ]
  },
  {
   "cell_type": "markdown",
   "metadata": {},
   "source": [
    "Now we time-evolve the system and look at the expectation values of some reduced operators on the spin chain. We start with just the isolated chain."
   ]
  },
  {
   "cell_type": "code",
   "execution_count": 539,
   "metadata": {
    "ExecuteTime": {
     "end_time": "2020-11-20T21:53:53.955000-08:00",
     "start_time": "2020-11-21T05:53:53.330Z"
    },
    "code_folding": []
   },
   "outputs": [
    {
     "name": "stderr",
     "output_type": "stream",
     "text": [
      "\u001b[32mProgress: 100%|█████████████████████████████████████████| Time: 0:00:00\u001b[39m\n"
     ]
    }
   ],
   "source": [
    "function fout(t, ρ)\n",
    "    next!(progress)\n",
    "    real([\n",
    "            variance(sxmb(1), ρ)\n",
    "            ])\n",
    "end\n",
    "progress = Progress(length(ts))\n",
    "ts, fouts = timeevolution.schroedinger([0:0.025:20;], ψs, Hmb, fout=fout);"
   ]
  },
  {
   "cell_type": "code",
   "execution_count": 540,
   "metadata": {
    "ExecuteTime": {
     "end_time": "2020-11-20T21:54:13.178000-08:00",
     "start_time": "2020-11-21T05:54:08.577Z"
    },
    "caption": "Isolated Ising time evolution.",
    "code_folding": [],
    "label": "fig:ising-2",
    "scrolled": true,
    "widefigure": false
   },
   "outputs": [
    {
     "data": {
      "image/svg+xml": [
       "<?xml version=\"1.0\" encoding=\"UTF-8\"?>\n",
       "<svg xmlns=\"http://www.w3.org/2000/svg\" xmlns:xlink=\"http://www.w3.org/1999/xlink\" width=\"293.927pt\" height=\"223.51pt\" viewBox=\"0 0 293.927 223.51\" version=\"1.2\">\n",
       "<defs>\n",
       "<g>\n",
       "<symbol overflow=\"visible\" id=\"glyph-1606366588244596-0-0\">\n",
       "<path style=\"stroke:none;\" d=\"M 0 0 L 5.96875 0 L 5.96875 -8.328125 L 0 -8.328125 Z M 0.953125 -0.59375 L 2.984375 -3.625 L 5 -0.59375 Z M 0.59375 -7.1875 L 2.625 -4.15625 L 0.59375 -1.125 Z M 3.34375 -4.15625 L 5.359375 -7.1875 L 5.359375 -1.125 Z M 2.984375 -4.703125 L 0.953125 -7.71875 L 5 -7.71875 Z M 2.984375 -4.703125 \"/>\n",
       "</symbol>\n",
       "<symbol overflow=\"visible\" id=\"glyph-1606366588244596-0-1\">\n",
       "<path style=\"stroke:none;\" d=\"M 2.71875 0.125 C 3.640625 0.125 5.03125 -0.8125 5.03125 -3.609375 C 5.03125 -4.796875 4.75 -5.8125 4.21875 -6.5 C 3.90625 -6.921875 3.40625 -7.265625 2.765625 -7.265625 C 1.578125 -7.265625 0.46875 -5.859375 0.46875 -3.5 C 0.46875 -2.234375 0.859375 -1.03125 1.515625 -0.375 C 1.84375 -0.046875 2.25 0.125 2.71875 0.125 Z M 2.765625 -6.859375 C 2.96875 -6.859375 3.15625 -6.78125 3.296875 -6.65625 C 3.671875 -6.34375 4 -5.4375 4 -3.84375 C 4 -2.734375 3.953125 -1.984375 3.796875 -1.390625 C 3.53125 -0.40625 2.9375 -0.296875 2.734375 -0.296875 C 1.625 -0.296875 1.5 -2.34375 1.5 -3.375 C 1.5 -6.3125 2.234375 -6.859375 2.765625 -6.859375 Z M 2.765625 -6.859375 \"/>\n",
       "</symbol>\n",
       "<symbol overflow=\"visible\" id=\"glyph-1606366588244596-0-2\">\n",
       "<path style=\"stroke:none;\" d=\"M 3.796875 -2.25 C 3.796875 -1.125 3.203125 -0.28125 2.484375 -0.28125 C 2.03125 -0.28125 1.890625 -0.578125 1.703125 -0.828125 C 1.546875 -1.03125 1.34375 -1.203125 1.09375 -1.203125 C 0.875 -1.203125 0.640625 -1 0.640625 -0.765625 C 0.640625 -0.28125 1.65625 0.125 2.34375 0.125 C 3.8125 0.125 4.859375 -0.96875 4.859375 -2.46875 C 4.859375 -3.625 4.0625 -4.65625 2.734375 -4.65625 C 2.21875 -4.65625 1.78125 -4.546875 1.5625 -4.46875 L 1.796875 -6.46875 C 2.234375 -6.40625 2.625 -6.359375 3.1875 -6.359375 C 3.546875 -6.359375 3.953125 -6.375 4.453125 -6.421875 L 4.640625 -7.234375 L 4.546875 -7.28125 C 3.875 -7.21875 3.234375 -7.15625 2.59375 -7.15625 C 2.15625 -7.15625 1.734375 -7.171875 1.3125 -7.21875 L 0.90625 -3.78125 C 1.53125 -4.015625 1.984375 -4.0625 2.421875 -4.0625 C 3.1875 -4.0625 3.796875 -3.546875 3.796875 -2.25 Z M 3.796875 -2.25 \"/>\n",
       "</symbol>\n",
       "<symbol overflow=\"visible\" id=\"glyph-1606366588244596-0-3\">\n",
       "<path style=\"stroke:none;\" d=\"M 3.4375 -1.453125 L 3.4375 -5.59375 C 3.4375 -6.3125 3.453125 -7.03125 3.46875 -7.1875 C 3.46875 -7.25 3.453125 -7.25 3.390625 -7.25 C 2.734375 -6.84375 2.109375 -6.546875 1.0625 -6.0625 C 1.078125 -5.921875 1.125 -5.8125 1.234375 -5.734375 C 1.78125 -5.96875 2.046875 -6.03125 2.28125 -6.03125 C 2.484375 -6.03125 2.515625 -5.75 2.515625 -5.34375 L 2.515625 -1.453125 C 2.515625 -0.46875 2.1875 -0.40625 1.359375 -0.375 C 1.28125 -0.296875 1.28125 -0.046875 1.359375 0.03125 C 1.9375 0.015625 2.375 0 3.015625 0 C 3.59375 0 3.875 0.015625 4.46875 0.03125 C 4.546875 -0.046875 4.546875 -0.296875 4.46875 -0.375 C 3.640625 -0.40625 3.4375 -0.46875 3.4375 -1.453125 Z M 3.4375 -1.453125 \"/>\n",
       "</symbol>\n",
       "<symbol overflow=\"visible\" id=\"glyph-1606366588244596-0-4\">\n",
       "<path style=\"stroke:none;\" d=\"M 0.734375 -5.578125 C 0.734375 -5.328125 0.953125 -5.109375 1.203125 -5.109375 C 1.40625 -5.109375 1.765625 -5.328125 1.765625 -5.59375 C 1.765625 -5.6875 1.734375 -5.765625 1.71875 -5.84375 C 1.6875 -5.921875 1.625 -6.03125 1.625 -6.125 C 1.625 -6.421875 1.9375 -6.859375 2.796875 -6.859375 C 3.234375 -6.859375 3.84375 -6.5625 3.84375 -5.40625 C 3.84375 -4.65625 3.5625 -4.03125 2.859375 -3.3125 L 1.984375 -2.4375 C 0.8125 -1.25 0.625 -0.671875 0.625 0.03125 C 0.625 0.03125 1.234375 0 1.609375 0 L 3.703125 0 C 4.078125 0 4.625 0.03125 4.625 0.03125 C 4.78125 -0.609375 4.90625 -1.5 4.90625 -1.859375 C 4.84375 -1.921875 4.6875 -1.9375 4.5625 -1.921875 C 4.359375 -1.078125 4.15625 -0.78125 3.734375 -0.78125 L 1.609375 -0.78125 C 1.609375 -1.34375 2.4375 -2.15625 2.484375 -2.21875 L 3.703125 -3.375 C 4.375 -4.03125 4.890625 -4.546875 4.890625 -5.453125 C 4.890625 -6.75 3.84375 -7.265625 2.875 -7.265625 C 1.546875 -7.265625 0.734375 -6.296875 0.734375 -5.578125 Z M 0.734375 -5.578125 \"/>\n",
       "</symbol>\n",
       "<symbol overflow=\"visible\" id=\"glyph-1606366588244596-0-5\">\n",
       "<path style=\"stroke:none;\" d=\"M 0.671875 -0.515625 C 0.671875 -0.171875 0.96875 0.125 1.3125 0.125 C 1.65625 0.125 1.9375 -0.171875 1.9375 -0.515625 C 1.9375 -0.859375 1.65625 -1.140625 1.3125 -1.140625 C 0.96875 -1.140625 0.671875 -0.859375 0.671875 -0.515625 Z M 0.671875 -0.515625 \"/>\n",
       "</symbol>\n",
       "<symbol overflow=\"visible\" id=\"glyph-1606366588244596-0-6\">\n",
       "<path style=\"stroke:none;\" d=\"M 3.90625 -3.046875 C 3.578125 -1.96875 2.8125 -0.765625 1.234375 -0.171875 C 1.234375 -0.03125 1.28125 0.078125 1.375 0.140625 C 2.578125 -0.21875 3.3125 -0.71875 3.984375 -1.484375 C 4.71875 -2.34375 5.09375 -3.4375 5.09375 -4.375 C 5.09375 -6.796875 3.71875 -7.265625 2.796875 -7.265625 C 1.234375 -7.265625 0.59375 -5.765625 0.59375 -4.734375 C 0.59375 -3.703125 1.140625 -2.796875 2.765625 -2.796875 C 3.078125 -2.796875 3.546875 -2.890625 3.90625 -3.046875 Z M 4 -3.484375 C 3.609375 -3.21875 3.21875 -3.203125 3.015625 -3.203125 C 1.84375 -3.203125 1.578125 -4.34375 1.578125 -4.953125 C 1.578125 -6.265625 2.09375 -6.859375 2.671875 -6.859375 C 3.421875 -6.859375 4.09375 -6.453125 4.09375 -4.40625 C 4.09375 -4.15625 4.078125 -3.828125 4 -3.484375 Z M 4 -3.484375 \"/>\n",
       "</symbol>\n",
       "<symbol overflow=\"visible\" id=\"glyph-1606366588244596-0-7\">\n",
       "<path style=\"stroke:none;\" d=\"M 2.03125 -6.375 L 4.15625 -6.375 C 3.234375 -4.0625 2.28125 -1.734375 1.484375 0.078125 L 1.578125 0.15625 L 2.390625 0.125 C 3.0625 -1.90625 3.71875 -3.890625 5.0625 -7.140625 L 4.859375 -7.28125 C 4.65625 -7.21875 4.40625 -7.15625 3.953125 -7.15625 L 1.484375 -7.15625 C 1.078125 -7.15625 1.109375 -7.265625 0.890625 -7.3125 C 0.859375 -7.3125 0.84375 -7.3125 0.84375 -7.28125 C 0.828125 -6.71875 0.703125 -6 0.609375 -5.375 C 0.734375 -5.34375 0.859375 -5.328125 0.984375 -5.34375 C 1.25 -6.296875 1.640625 -6.375 2.03125 -6.375 Z M 2.03125 -6.375 \"/>\n",
       "</symbol>\n",
       "<symbol overflow=\"visible\" id=\"glyph-1606366588244596-0-8\">\n",
       "<path style=\"stroke:none;\" d=\"M 5.9375 -0.71875 L 5.734375 -0.921875 C 5.421875 -0.609375 5.25 -0.578125 5.015625 -0.578125 C 4.671875 -0.578125 4.640625 -0.984375 4.546875 -2.546875 L 4.34375 -6.78125 C 4.296875 -8.1875 3.703125 -8.328125 3.375 -8.328125 C 2.9375 -8.328125 2.484375 -7.953125 2.09375 -7.5 L 2.234375 -7.296875 C 2.5 -7.46875 2.8125 -7.59375 3.09375 -7.59375 C 3.40625 -7.59375 3.78125 -7.34375 3.859375 -5.703125 L 3.890625 -5.1875 L 0.234375 0 L 0.484375 0.140625 C 0.734375 0.046875 1.03125 0.015625 1.34375 0 L 3.921875 -4.328125 L 4.0625 -1.5 C 4.109375 -0.390625 4.25 0.140625 4.8125 0.140625 C 5.140625 0.140625 5.625 -0.25 5.9375 -0.71875 Z M 5.9375 -0.71875 \"/>\n",
       "</symbol>\n",
       "<symbol overflow=\"visible\" id=\"glyph-1606366588244596-0-9\">\n",
       "<path style=\"stroke:none;\" d=\"M 0.703125 -2.203125 C 0.5625 -2.0625 0.5625 -1.75 0.703125 -1.609375 L 7.015625 -1.609375 C 7.171875 -1.75 7.171875 -2.0625 7.015625 -2.203125 Z M 0.703125 -4.59375 C 0.5625 -4.453125 0.5625 -4.140625 0.703125 -4 L 7.015625 -4 C 7.171875 -4.140625 7.171875 -4.453125 7.015625 -4.59375 Z M 0.703125 -4.59375 \"/>\n",
       "</symbol>\n",
       "<symbol overflow=\"visible\" id=\"glyph-1606366588244596-0-10\">\n",
       "<path style=\"stroke:none;\" d=\"M 0.234375 -1.671875 C 0.234375 -0.578125 0.890625 0.140625 2.140625 0.140625 C 3.875 0.140625 4.875 -1.421875 4.875 -2.65625 C 4.875 -3.421875 4.53125 -4 4.078125 -4.296875 L 5.5625 -4.296875 C 5.984375 -4.296875 6.21875 -4.5625 6.515625 -4.96875 L 6.421875 -5.109375 L 3.75 -5.109375 C 1.140625 -5.109375 0.234375 -2.9375 0.234375 -1.671875 Z M 3.515625 -4.296875 C 3.875 -3.875 4.09375 -3.46875 4.09375 -2.875 C 4.09375 -1.703125 3.375 -0.265625 2.296875 -0.265625 C 1.390625 -0.265625 1.0625 -1.015625 1.0625 -1.734375 C 1.0625 -2.4375 1.53125 -4.296875 3.515625 -4.296875 Z M 3.515625 -4.296875 \"/>\n",
       "</symbol>\n",
       "<symbol overflow=\"visible\" id=\"glyph-1606366588244596-1-0\">\n",
       "<path style=\"stroke:none;\" d=\"M 0 0 L 5.46875 0 L 5.46875 -7.640625 L 0 -7.640625 Z M 0.875 -0.546875 L 2.734375 -3.328125 L 4.59375 -0.546875 Z M 0.546875 -6.59375 L 2.40625 -3.8125 L 0.546875 -1.03125 Z M 3.0625 -3.8125 L 4.921875 -6.59375 L 4.921875 -1.03125 Z M 2.734375 -4.3125 L 0.875 -7.078125 L 4.59375 -7.078125 Z M 2.734375 -4.3125 \"/>\n",
       "</symbol>\n",
       "<symbol overflow=\"visible\" id=\"glyph-1606366588244596-1-1\">\n",
       "<path style=\"stroke:none;\" d=\"M 3.828125 -1.328125 L 3.828125 -5.515625 C 3.828125 -6.21875 3.9375 -6.625 4.328125 -6.625 L 4.578125 -6.625 C 5.390625 -6.625 5.90625 -6.34375 6.09375 -5.5 C 6.21875 -5.5 6.359375 -5.515625 6.46875 -5.5625 C 6.390625 -6.0625 6.328125 -6.609375 6.328125 -7.109375 C 6.328125 -7.125 6.296875 -7.140625 6.28125 -7.140625 C 5.921875 -7.109375 4.703125 -7.046875 3.84375 -7.046875 L 2.890625 -7.046875 C 2.0625 -7.046875 0.765625 -7.109375 0.34375 -7.140625 C 0.328125 -7.140625 0.3125 -7.125 0.3125 -7.109375 C 0.265625 -6.609375 0.15625 -6.046875 0.03125 -5.515625 C 0.140625 -5.484375 0.265625 -5.46875 0.40625 -5.46875 C 0.625 -6.34375 1.125 -6.625 1.84375 -6.625 L 2.390625 -6.625 C 2.78125 -6.625 2.890625 -6.21875 2.890625 -5.546875 L 2.890625 -1.328125 C 2.890625 -0.421875 2.71875 -0.375 1.84375 -0.34375 C 1.765625 -0.265625 1.765625 -0.046875 1.84375 0.015625 C 2.375 0.015625 2.9375 0 3.375 0 C 3.78125 0 4.34375 0.015625 4.890625 0.015625 C 4.953125 -0.046875 4.953125 -0.265625 4.890625 -0.34375 C 4.015625 -0.375 3.828125 -0.421875 3.828125 -1.328125 Z M 3.828125 -1.328125 \"/>\n",
       "</symbol>\n",
       "<symbol overflow=\"visible\" id=\"glyph-1606366588244596-1-2\">\n",
       "<path style=\"stroke:none;\" d=\"M 1.984375 -1.328125 L 1.984375 -3.515625 C 1.984375 -4.0625 2.015625 -4.75 2.015625 -4.75 C 2.015625 -4.796875 1.96875 -4.828125 1.875 -4.828125 C 1.578125 -4.71875 1.140625 -4.609375 0.375 -4.515625 C 0.359375 -4.453125 0.375 -4.28125 0.40625 -4.203125 C 1 -4.15625 1.109375 -4.09375 1.109375 -3.46875 L 1.109375 -1.328125 C 1.109375 -0.421875 1 -0.390625 0.328125 -0.34375 C 0.265625 -0.265625 0.265625 -0.046875 0.328125 0.015625 C 0.6875 0.015625 1.109375 0 1.546875 0 C 1.984375 0 2.40625 0.015625 2.765625 0.015625 C 2.828125 -0.046875 2.828125 -0.265625 2.765625 -0.34375 C 2.09375 -0.375 1.984375 -0.421875 1.984375 -1.328125 Z M 0.984375 -6.546875 C 0.984375 -6.265625 1.25 -5.984375 1.515625 -5.984375 C 1.8125 -5.984375 2.078125 -6.28125 2.078125 -6.5 C 2.078125 -6.765625 1.84375 -7.078125 1.546875 -7.078125 C 1.296875 -7.078125 0.984375 -6.8125 0.984375 -6.546875 Z M 0.984375 -6.546875 \"/>\n",
       "</symbol>\n",
       "<symbol overflow=\"visible\" id=\"glyph-1606366588244596-1-3\">\n",
       "<path style=\"stroke:none;\" d=\"M 1.859375 -3.921875 C 1.84375 -4.25 1.828125 -4.640625 1.765625 -4.75 C 1.75 -4.796875 1.734375 -4.828125 1.640625 -4.828125 C 1.328125 -4.71875 1.046875 -4.609375 0.296875 -4.515625 C 0.265625 -4.453125 0.296875 -4.28125 0.3125 -4.203125 C 0.90625 -4.15625 1.03125 -4.09375 1.03125 -3.46875 L 1.03125 -1.328125 C 1.03125 -0.4375 0.890625 -0.375 0.28125 -0.34375 C 0.21875 -0.265625 0.21875 -0.046875 0.28125 0.015625 C 0.609375 0.015625 1.03125 0 1.46875 0 C 1.90625 0 2.234375 0.015625 2.5625 0.015625 C 2.640625 -0.046875 2.640625 -0.265625 2.5625 -0.34375 C 2.015625 -0.390625 1.890625 -0.4375 1.890625 -1.328125 L 1.890625 -3.125 C 1.890625 -3.359375 1.984375 -3.484375 2.078125 -3.59375 C 2.515625 -4.015625 2.921875 -4.234375 3.265625 -4.234375 C 3.671875 -4.234375 3.984375 -3.96875 3.984375 -3.234375 L 3.984375 -1.328125 C 3.984375 -0.4375 3.890625 -0.375 3.296875 -0.34375 C 3.25 -0.265625 3.25 -0.046875 3.296875 0.015625 C 3.578125 0.015625 3.984375 0 4.421875 0 C 4.859375 0 5.21875 0.015625 5.484375 0.015625 C 5.546875 -0.046875 5.546875 -0.265625 5.484375 -0.34375 C 4.9375 -0.375 4.84375 -0.4375 4.84375 -1.328125 L 4.84375 -3.078125 C 4.84375 -3.21875 4.84375 -3.375 4.828125 -3.515625 C 5.359375 -4.09375 5.84375 -4.234375 6.28125 -4.234375 C 6.6875 -4.234375 6.9375 -3.984375 6.9375 -3.265625 L 6.9375 -1.328125 C 6.9375 -0.4375 6.828125 -0.375 6.25 -0.34375 C 6.203125 -0.265625 6.203125 -0.046875 6.25 0.015625 C 6.53125 0.015625 6.9375 0 7.375 0 C 7.8125 0 8.1875 0.015625 8.5 0.015625 C 8.546875 -0.046875 8.546875 -0.265625 8.5 -0.34375 C 7.890625 -0.375 7.796875 -0.4375 7.796875 -1.328125 L 7.796875 -3.0625 C 7.796875 -4.03125 7.640625 -4.796875 6.671875 -4.796875 C 6.109375 -4.796875 5.4375 -4.59375 4.859375 -3.984375 C 4.828125 -3.953125 4.765625 -3.90625 4.75 -4 C 4.640625 -4.453125 4.21875 -4.796875 3.65625 -4.796875 C 3.015625 -4.796875 2.453125 -4.421875 1.984375 -3.921875 C 1.9375 -3.859375 1.875 -3.78125 1.859375 -3.921875 Z M 1.859375 -3.921875 \"/>\n",
       "</symbol>\n",
       "<symbol overflow=\"visible\" id=\"glyph-1606366588244596-1-4\">\n",
       "<path style=\"stroke:none;\" d=\"M 4.21875 -1.015625 C 3.8125 -0.59375 3.5 -0.421875 2.859375 -0.421875 C 2.46875 -0.421875 2.015625 -0.65625 1.671875 -1.21875 C 1.453125 -1.578125 1.328125 -2.078125 1.328125 -2.71875 L 4.234375 -2.6875 C 4.359375 -2.6875 4.4375 -2.75 4.4375 -2.875 C 4.4375 -3.796875 4.109375 -4.78125 2.59375 -4.78125 C 1.640625 -4.78125 0.40625 -3.875 0.40625 -2.203125 C 0.40625 -1.59375 0.5625 -1 0.921875 -0.59375 C 1.296875 -0.15625 1.796875 0.109375 2.59375 0.109375 C 3.421875 0.109375 4.015625 -0.265625 4.453125 -0.84375 C 4.421875 -0.953125 4.359375 -1 4.21875 -1.015625 Z M 1.359375 -3.078125 C 1.5625 -4.3125 2.328125 -4.421875 2.59375 -4.421875 C 3 -4.421875 3.5 -4.1875 3.5 -3.265625 C 3.5 -3.171875 3.453125 -3.109375 3.328125 -3.109375 Z M 1.359375 -3.078125 \"/>\n",
       "</symbol>\n",
       "<symbol overflow=\"visible\" id=\"glyph-1606366588244596-2-0\">\n",
       "<path style=\"stroke:none;\" d=\"M 0 0 L 0 -5.46875 L -7.640625 -5.46875 L -7.640625 0 Z M -0.546875 -0.875 L -3.328125 -2.734375 L -0.546875 -4.59375 Z M -6.59375 -0.546875 L -3.8125 -2.40625 L -1.03125 -0.546875 Z M -3.8125 -3.0625 L -6.59375 -4.921875 L -1.03125 -4.921875 Z M -4.3125 -2.734375 L -7.078125 -0.875 L -7.078125 -4.59375 Z M -4.3125 -2.734375 \"/>\n",
       "</symbol>\n",
       "<symbol overflow=\"visible\" id=\"glyph-1606366588244596-2-1\">\n",
       "<path style=\"stroke:none;\" d=\"M -3.953125 -3.078125 L -3.953125 -2.078125 L -5.921875 -2.078125 C -6.390625 -2.078125 -6.609375 -2.203125 -6.609375 -2.796875 L -6.609375 -3.625 C -6.609375 -4.4375 -6.171875 -4.609375 -5.421875 -4.859375 C -5.40625 -4.984375 -5.421875 -5.109375 -5.484375 -5.21875 C -5.921875 -5.15625 -6.984375 -5 -7.0625 -4.96875 C -7.09375 -4.96875 -7.09375 -4.96875 -7.09375 -4.9375 C -7.0625 -4.75 -7.046875 -4.65625 -7.046875 -4.390625 L -7.046875 -1.609375 C -7.046875 -1.28125 -7.0625 -0.640625 -7.078125 -0.203125 C -7.015625 -0.125 -6.78125 -0.125 -6.71875 -0.203125 C -6.6875 -0.96875 -6.625 -1.140625 -5.71875 -1.140625 L -1.328125 -1.140625 C -0.421875 -1.140625 -0.375 -0.96875 -0.34375 -0.203125 C -0.265625 -0.125 -0.046875 -0.125 0.015625 -0.203125 C 0.015625 -0.59375 0 -1.25 0 -1.625 L 0 -3.96875 C 0 -4.5 0.015625 -5.375 0.015625 -5.375 C -0.53125 -5.515625 -1.25 -5.6875 -1.796875 -5.78125 C -1.875 -5.671875 -1.890625 -5.53125 -1.859375 -5.390625 C -1.078125 -5.171875 -0.421875 -4.796875 -0.421875 -3.953125 L -0.421875 -2.6875 C -0.421875 -2.234375 -0.59375 -2.078125 -1.109375 -2.078125 L -3.53125 -2.078125 L -3.53125 -3.078125 C -3.53125 -4 -3.28125 -4.03125 -2.78125 -4.0625 C -2.71875 -4.140625 -2.71875 -4.359375 -2.78125 -4.421875 C -3.078125 -4.421875 -3.375 -4.40625 -3.75 -4.40625 C -4.0625 -4.40625 -4.421875 -4.421875 -4.6875 -4.421875 C -4.75 -4.359375 -4.75 -4.140625 -4.6875 -4.0625 C -4.09375 -4.03125 -3.953125 -4 -3.953125 -3.078125 Z M -3.953125 -3.078125 \"/>\n",
       "</symbol>\n",
       "<symbol overflow=\"visible\" id=\"glyph-1606366588244596-2-2\">\n",
       "<path style=\"stroke:none;\" d=\"M -3.921875 -1.984375 C -4.28125 -1.734375 -4.296875 -1.8125 -4.359375 -2.3125 C -4.421875 -2.375 -4.640625 -2.375 -4.71875 -2.3125 C -4.703125 -2.015625 -4.6875 -1.53125 -4.6875 -1.203125 C -4.6875 -0.875 -4.703125 -0.546875 -4.71875 -0.265625 C -4.640625 -0.203125 -4.421875 -0.203125 -4.359375 -0.265625 C -4.3125 -0.640625 -4.140625 -0.9375 -3.6875 -1.25 L -2.296875 -2.203125 C -2.21875 -2.25 -2.1875 -2.25 -2.125 -2.203125 L -0.953125 -1.296875 C -0.390625 -0.859375 -0.359375 -0.609375 -0.34375 -0.234375 C -0.265625 -0.15625 -0.046875 -0.15625 0.015625 -0.234375 C 0.015625 -0.453125 0 -0.6875 0 -1.015625 C 0 -1.34375 0.015625 -1.65625 0.015625 -1.9375 C -0.046875 -2 -0.265625 -2 -0.34375 -1.9375 C -0.375 -1.546875 -0.421875 -1.453125 -0.78125 -1.6875 L -1.765625 -2.390625 C -1.90625 -2.46875 -1.890625 -2.515625 -1.796875 -2.578125 L -0.921875 -3.21875 C -0.390625 -3.59375 -0.375 -3.421875 -0.34375 -3.078125 C -0.265625 -3 -0.046875 -3 0.015625 -3.078125 C 0.015625 -3.40625 0 -3.765625 0 -4.15625 C 0 -4.578125 0.015625 -4.859375 0.015625 -5.125 C -0.046875 -5.1875 -0.265625 -5.1875 -0.34375 -5.125 C -0.375 -4.640625 -0.40625 -4.46875 -1.03125 -4.03125 L -2.421875 -3.046875 C -2.484375 -3 -2.515625 -3 -2.578125 -3.046875 L -3.75 -3.96875 C -4.265625 -4.375 -4.3125 -4.640625 -4.359375 -5.03125 C -4.421875 -5.09375 -4.640625 -5.09375 -4.71875 -5.03125 C -4.703125 -4.8125 -4.6875 -4.5625 -4.6875 -4.234375 C -4.6875 -3.90625 -4.703125 -3.59375 -4.71875 -3.3125 C -4.640625 -3.25 -4.421875 -3.25 -4.359375 -3.3125 C -4.3125 -3.71875 -4.28125 -3.84375 -3.90625 -3.578125 L -2.90625 -2.859375 C -2.796875 -2.78125 -2.8125 -2.75 -2.9375 -2.65625 Z M -3.921875 -1.984375 \"/>\n",
       "</symbol>\n",
       "<symbol overflow=\"visible\" id=\"glyph-1606366588244596-2-3\">\n",
       "<path style=\"stroke:none;\" d=\"M -4.03125 -1.703125 C -4.359375 -1.6875 -4.640625 -1.671875 -4.75 -1.625 C -4.796875 -1.59375 -4.828125 -1.578125 -4.828125 -1.484375 C -4.71875 -1.1875 -4.609375 -0.890625 -4.515625 -0.140625 C -4.453125 -0.125 -4.28125 -0.140625 -4.203125 -0.15625 C -4.15625 -0.75 -4.09375 -0.875 -3.46875 -0.875 L 1.203125 -0.875 C 2.109375 -0.875 2.171875 -0.75 2.203125 -0.09375 C 2.265625 -0.015625 2.5 -0.015625 2.5625 -0.09375 C 2.546875 -0.46875 2.53125 -0.875 2.53125 -1.3125 C 2.53125 -1.75 2.546875 -2.28125 2.5625 -2.640625 C 2.5 -2.703125 2.265625 -2.703125 2.203125 -2.640625 C 2.15625 -1.859375 2.109375 -1.734375 1.203125 -1.734375 L 0.015625 -1.734375 C -0.125 -1.734375 -0.109375 -1.78125 -0.0625 -1.890625 C 0.046875 -2.171875 0.109375 -2.5 0.109375 -2.84375 C 0.109375 -3.453125 -0.078125 -4 -0.5 -4.453125 C -1 -4.96875 -1.6875 -5.265625 -2.5625 -5.265625 C -3.734375 -5.265625 -4.796875 -4.4375 -4.796875 -3.328125 C -4.796875 -2.828125 -4.46875 -2.265625 -3.984375 -1.828125 C -3.921875 -1.765625 -3.921875 -1.71875 -4.03125 -1.703125 Z M -3.625 -1.90625 C -3.96875 -2.203125 -4.296875 -2.703125 -4.296875 -3.015625 C -4.296875 -3.71875 -3.515625 -4.3125 -2.28125 -4.3125 C -1.375 -4.3125 -0.265625 -4 -0.265625 -2.78125 C -0.265625 -2.578125 -0.3125 -2.203125 -0.484375 -2 C -0.6875 -1.78125 -0.75 -1.734375 -1.140625 -1.734375 L -3.140625 -1.734375 C -3.375 -1.734375 -3.46875 -1.78125 -3.625 -1.90625 Z M -3.625 -1.90625 \"/>\n",
       "</symbol>\n",
       "<symbol overflow=\"visible\" id=\"glyph-1606366588244596-2-4\">\n",
       "<path style=\"stroke:none;\" d=\"M -1.015625 -4.21875 C -0.59375 -3.8125 -0.421875 -3.5 -0.421875 -2.859375 C -0.421875 -2.46875 -0.65625 -2.015625 -1.21875 -1.671875 C -1.578125 -1.453125 -2.078125 -1.328125 -2.71875 -1.328125 L -2.6875 -4.234375 C -2.6875 -4.359375 -2.75 -4.4375 -2.875 -4.4375 C -3.796875 -4.4375 -4.78125 -4.109375 -4.78125 -2.59375 C -4.78125 -1.640625 -3.875 -0.40625 -2.203125 -0.40625 C -1.59375 -0.40625 -1 -0.5625 -0.59375 -0.921875 C -0.15625 -1.296875 0.109375 -1.796875 0.109375 -2.59375 C 0.109375 -3.421875 -0.265625 -4.015625 -0.84375 -4.453125 C -0.953125 -4.421875 -1 -4.359375 -1.015625 -4.21875 Z M -3.078125 -1.359375 C -4.3125 -1.5625 -4.421875 -2.328125 -4.421875 -2.59375 C -4.421875 -3 -4.1875 -3.5 -3.265625 -3.5 C -3.171875 -3.5 -3.109375 -3.453125 -3.109375 -3.328125 Z M -3.078125 -1.359375 \"/>\n",
       "</symbol>\n",
       "<symbol overflow=\"visible\" id=\"glyph-1606366588244596-2-5\">\n",
       "<path style=\"stroke:none;\" d=\"M -1 -4.359375 C -1.09375 -4.3125 -1.140625 -4.21875 -1.140625 -4.125 C -0.671875 -3.75 -0.421875 -3.28125 -0.421875 -2.8125 C -0.421875 -2.015625 -1.234375 -1.34375 -2.515625 -1.34375 C -3.71875 -1.34375 -4.4375 -1.875 -4.4375 -2.59375 C -4.4375 -3.234375 -4.0625 -3.328125 -3.671875 -3.375 C -3.375 -3.40625 -3.28125 -3.546875 -3.28125 -3.78125 C -3.28125 -4.015625 -3.421875 -4.3125 -3.765625 -4.3125 C -4.359375 -4.3125 -4.796875 -3.703125 -4.796875 -2.640625 C -4.796875 -1.5625 -3.828125 -0.40625 -2.28125 -0.40625 C -0.859375 -0.40625 0.109375 -1.1875 0.109375 -2.5625 C 0.109375 -3.21875 -0.09375 -3.8125 -1 -4.359375 Z M -1 -4.359375 \"/>\n",
       "</symbol>\n",
       "<symbol overflow=\"visible\" id=\"glyph-1606366588244596-2-6\">\n",
       "<path style=\"stroke:none;\" d=\"M -4.6875 -0.46875 C -4.6875 -0.3125 -4.5625 -0.265625 -4.46875 -0.265625 L -4.328125 -0.265625 C -4.28125 -0.265625 -4.265625 -0.28125 -4.265625 -0.328125 L -4.265625 -0.96875 L -0.96875 -0.96875 C -0.203125 -0.96875 0.109375 -1.3125 0.109375 -1.8125 C 0.109375 -2.3125 -0.125 -2.859375 -0.609375 -3.296875 C -0.71875 -3.265625 -0.78125 -3.203125 -0.796875 -3.09375 C -0.578125 -2.8125 -0.484375 -2.484375 -0.484375 -2.203125 C -0.484375 -1.90625 -0.8125 -1.84375 -1.5 -1.84375 L -4.265625 -1.84375 L -4.265625 -2.96875 C -4.265625 -3.078125 -4.3125 -3.234375 -4.40625 -3.234375 L -4.625 -3.234375 C -4.671875 -3.234375 -4.6875 -3.203125 -4.6875 -3.15625 L -4.6875 -1.84375 L -5.125 -1.84375 C -5.828125 -1.84375 -6.265625 -1.875 -6.265625 -1.875 C -6.328125 -1.875 -6.359375 -1.84375 -6.359375 -1.796875 C -6.359375 -1.75 -6.328125 -1.65625 -6.265625 -1.546875 C -6.203125 -1.4375 -6.140625 -1.328125 -6.109375 -1.1875 C -6.0625 -1.046875 -6.03125 -0.9375 -5.953125 -0.9375 C -5.828125 -0.9375 -5.90625 -0.96875 -4.6875 -0.96875 Z M -4.6875 -0.46875 \"/>\n",
       "</symbol>\n",
       "<symbol overflow=\"visible\" id=\"glyph-1606366588244596-2-7\">\n",
       "<path style=\"stroke:none;\" d=\"M -0.53125 -3.203125 C -0.1875 -3.265625 0.109375 -3.390625 0.109375 -3.9375 C 0.109375 -4.359375 -0.078125 -4.75 -0.296875 -4.96875 C -0.421875 -4.953125 -0.53125 -4.90625 -0.59375 -4.796875 C -0.53125 -4.71875 -0.421875 -4.53125 -0.421875 -4.390625 C -0.421875 -4.0625 -0.84375 -4.0625 -1.34375 -4.0625 L -2.953125 -4.0625 C -4.5 -4.0625 -4.796875 -3.203125 -4.796875 -2.40625 C -4.796875 -1.515625 -4.203125 -0.59375 -3.59375 -0.59375 C -3.328125 -0.59375 -3.1875 -0.734375 -3.1875 -0.984375 C -3.1875 -1.296875 -3.421875 -1.5 -3.5625 -1.5 C -3.640625 -1.5 -3.71875 -1.484375 -3.765625 -1.46875 C -3.796875 -1.453125 -3.859375 -1.4375 -3.984375 -1.4375 C -4.3125 -1.4375 -4.4375 -1.90625 -4.4375 -2.3125 C -4.4375 -2.6875 -4.25 -3.203125 -3.015625 -3.203125 C -2.9375 -3.203125 -2.890625 -3.171875 -2.890625 -3.140625 L -2.65625 -2.203125 C -2.390625 -1.140625 -1.8125 -0.390625 -1.078125 -0.390625 C -0.171875 -0.390625 0.109375 -1 0.109375 -1.765625 C 0.109375 -2.15625 0.015625 -2.484375 -0.34375 -2.96875 L -0.53125 -3.1875 Z M -2.546875 -3.203125 L -1.109375 -3.203125 C -0.96875 -3.203125 -0.890625 -3.140625 -0.8125 -3.046875 C -0.59375 -2.765625 -0.34375 -2.390625 -0.34375 -2.09375 C -0.34375 -1.546875 -0.78125 -1.296875 -1.109375 -1.296875 C -1.609375 -1.296875 -2.109375 -1.53125 -2.3125 -2.34375 Z M -2.546875 -3.203125 \"/>\n",
       "</symbol>\n",
       "<symbol overflow=\"visible\" id=\"glyph-1606366588244596-2-8\">\n",
       "<path style=\"stroke:none;\" d=\"M -1.328125 -1.984375 L -3.515625 -1.984375 C -4.0625 -1.984375 -4.75 -2.015625 -4.75 -2.015625 C -4.796875 -2.015625 -4.828125 -1.96875 -4.828125 -1.875 C -4.71875 -1.578125 -4.609375 -1.140625 -4.515625 -0.375 C -4.453125 -0.359375 -4.28125 -0.375 -4.203125 -0.40625 C -4.15625 -1 -4.09375 -1.109375 -3.46875 -1.109375 L -1.328125 -1.109375 C -0.421875 -1.109375 -0.390625 -1 -0.34375 -0.328125 C -0.265625 -0.265625 -0.046875 -0.265625 0.015625 -0.328125 C 0.015625 -0.6875 0 -1.109375 0 -1.546875 C 0 -1.984375 0.015625 -2.40625 0.015625 -2.765625 C -0.046875 -2.828125 -0.265625 -2.828125 -0.34375 -2.765625 C -0.375 -2.09375 -0.421875 -1.984375 -1.328125 -1.984375 Z M -6.546875 -0.984375 C -6.265625 -0.984375 -5.984375 -1.25 -5.984375 -1.515625 C -5.984375 -1.8125 -6.28125 -2.078125 -6.5 -2.078125 C -6.765625 -2.078125 -7.078125 -1.84375 -7.078125 -1.546875 C -7.078125 -1.296875 -6.8125 -0.984375 -6.546875 -0.984375 Z M -6.546875 -0.984375 \"/>\n",
       "</symbol>\n",
       "<symbol overflow=\"visible\" id=\"glyph-1606366588244596-2-9\">\n",
       "<path style=\"stroke:none;\" d=\"M -2.234375 -0.453125 C -1.125 -0.453125 0.109375 -1.1875 0.109375 -2.75 C 0.109375 -3.4375 -0.140625 -3.984375 -0.5 -4.359375 C -0.984375 -4.84375 -1.671875 -5.0625 -2.34375 -5.0625 C -3.484375 -5.0625 -4.796875 -4.4375 -4.796875 -2.765625 C -4.796875 -2.046875 -4.5 -1.453125 -4.03125 -1.046875 C -3.5625 -0.65625 -2.9375 -0.453125 -2.234375 -0.453125 Z M -4.421875 -2.609375 C -4.421875 -3.546875 -3.5625 -4.125 -1.984375 -4.125 C -0.609375 -4.125 -0.265625 -3.40625 -0.265625 -2.890625 C -0.265625 -1.765625 -1.65625 -1.390625 -2.5 -1.390625 C -3.4375 -1.390625 -4.421875 -1.625 -4.421875 -2.609375 Z M -4.421875 -2.609375 \"/>\n",
       "</symbol>\n",
       "<symbol overflow=\"visible\" id=\"glyph-1606366588244596-2-10\">\n",
       "<path style=\"stroke:none;\" d=\"M -3.921875 -2.015625 C -3.84375 -1.953125 -3.8125 -1.875 -3.921875 -1.875 C -4.203125 -1.875 -4.640625 -1.84375 -4.75 -1.796875 C -4.796875 -1.765625 -4.828125 -1.75 -4.828125 -1.65625 C -4.71875 -1.359375 -4.609375 -1.078125 -4.515625 -0.3125 C -4.453125 -0.296875 -4.28125 -0.3125 -4.203125 -0.34375 C -4.15625 -0.921875 -4.09375 -1.046875 -3.46875 -1.046875 L -1.328125 -1.046875 C -0.4375 -1.046875 -0.390625 -0.9375 -0.34375 -0.28125 C -0.265625 -0.21875 -0.046875 -0.21875 0.015625 -0.28125 C 0.015625 -0.609375 0 -1.046875 0 -1.484375 C 0 -1.921875 0.015625 -2.25 0.015625 -2.578125 C -0.046875 -2.640625 -0.265625 -2.640625 -0.34375 -2.578125 C -0.390625 -2.015625 -0.4375 -1.90625 -1.328125 -1.90625 L -3.125 -1.90625 C -3.359375 -1.90625 -3.484375 -2.015625 -3.59375 -2.09375 C -3.984375 -2.515625 -4.234375 -3 -4.234375 -3.4375 C -4.234375 -3.65625 -4.09375 -3.875 -3.84375 -4.015625 C -3.625 -4.125 -3.328125 -4.140625 -3 -4.140625 L -1.328125 -4.140625 C -0.4375 -4.140625 -0.390625 -4.03125 -0.34375 -3.46875 C -0.265625 -3.40625 -0.046875 -3.40625 0.015625 -3.46875 C 0.015625 -3.796875 0 -4.140625 0 -4.578125 C 0 -5.015625 0.015625 -5.40625 0.015625 -5.734375 C -0.046875 -5.796875 -0.265625 -5.796875 -0.34375 -5.734375 C -0.390625 -5.125 -0.4375 -5.015625 -1.328125 -5.015625 L -2.96875 -5.015625 C -3.5625 -5.015625 -4.09375 -4.96875 -4.421875 -4.71875 C -4.671875 -4.53125 -4.796875 -4.1875 -4.796875 -3.8125 C -4.796875 -3.265625 -4.65625 -2.65625 -3.921875 -2.015625 Z M -3.921875 -2.015625 \"/>\n",
       "</symbol>\n",
       "<symbol overflow=\"visible\" id=\"glyph-1606366588244596-2-11\">\n",
       "<path style=\"stroke:none;\" d=\"M -6.71875 -4.90625 C -6.65625 -5.703125 -6.359375 -5.703125 -5.78125 -5.484375 L -1.390625 -3.75 L -1.390625 -3.703125 L -5.84375 -1.953125 C -6.5 -1.703125 -6.640625 -1.765625 -6.71875 -2.515625 C -6.78125 -2.578125 -7.015625 -2.578125 -7.078125 -2.515625 C -7.0625 -2.078125 -7.046875 -1.578125 -7.046875 -1.1875 C -7.046875 -0.796875 -7.0625 -0.421875 -7.078125 -0.046875 C -7.015625 0.015625 -6.78125 0 -6.71875 -0.0625 C -6.65625 -0.671875 -6.46875 -0.75 -5.71875 -1.046875 L -0.125 -3.203125 C 0.046875 -3.265625 0.125 -3.34375 0.125 -3.453125 C 0.125 -3.578125 0.03125 -3.65625 -0.125 -3.71875 L -5.703125 -5.984375 C -6.21875 -6.1875 -6.640625 -6.359375 -6.71875 -7.046875 C -6.78125 -7.125 -7.015625 -7.125 -7.078125 -7.046875 C -7.0625 -6.71875 -7.046875 -6.34375 -7.046875 -6.09375 C -7.046875 -5.84375 -7.0625 -5.34375 -7.078125 -4.90625 C -7.015625 -4.828125 -6.78125 -4.828125 -6.71875 -4.90625 Z M -6.71875 -4.90625 \"/>\n",
       "</symbol>\n",
       "<symbol overflow=\"visible\" id=\"glyph-1606366588244596-2-12\">\n",
       "<path style=\"stroke:none;\" d=\"M -1.328125 -1.03125 C -0.421875 -1.03125 -0.375 -0.921875 -0.34375 -0.25 C -0.265625 -0.1875 -0.046875 -0.1875 0.015625 -0.25 C 0.015625 -0.640625 0 -1.03125 0 -1.46875 C 0 -1.90625 0.015625 -2.328125 0.015625 -2.6875 C -0.046875 -2.75 -0.265625 -2.75 -0.34375 -2.6875 C -0.375 -2.015625 -0.421875 -1.90625 -1.328125 -1.90625 L -6.375 -1.90625 C -7.09375 -1.90625 -7.53125 -1.953125 -7.53125 -1.953125 C -7.59375 -1.953125 -7.640625 -1.90625 -7.640625 -1.796875 C -7.53125 -1.53125 -7.375 -0.703125 -7.34375 -0.265625 C -7.25 -0.25 -7.078125 -0.265625 -7.015625 -0.34375 C -6.96875 -0.96875 -6.9375 -1.03125 -6.109375 -1.03125 Z M -1.328125 -1.03125 \"/>\n",
       "</symbol>\n",
       "<symbol overflow=\"visible\" id=\"glyph-1606366588244596-2-13\">\n",
       "<path style=\"stroke:none;\" d=\"M 0.109375 -2.375 C 0.109375 -2.796875 -0.109375 -3.3125 -0.546875 -3.84375 C -0.59375 -3.90625 -0.609375 -4 -0.53125 -4.015625 C -0.265625 -4.046875 0.109375 -4.140625 0.109375 -4.140625 C 0.140625 -4.21875 0.125 -4.28125 0.109375 -4.34375 C -0.09375 -4.578125 -0.25 -4.96875 -0.328125 -5.625 C -0.390625 -5.703125 -0.5625 -5.703125 -0.625 -5.625 C -0.671875 -4.9375 -0.890625 -4.828125 -1.421875 -4.828125 L -3.515625 -4.828125 C -3.84375 -4.828125 -4.640625 -4.875 -4.640625 -4.875 C -4.6875 -4.875 -4.71875 -4.84375 -4.71875 -4.796875 C -4.703125 -4.734375 -4.6875 -4.578125 -4.6875 -4.40625 C -4.6875 -4.0625 -4.703125 -3.65625 -4.71875 -3.296875 C -4.640625 -3.21875 -4.421875 -3.21875 -4.359375 -3.296875 C -4.3125 -3.828125 -4.1875 -3.96875 -3.46875 -3.96875 L -1.359375 -3.96875 C -1.140625 -3.96875 -1.0625 -3.953125 -0.921875 -3.796875 C -0.578125 -3.390625 -0.40625 -2.96875 -0.40625 -2.703125 C -0.40625 -2.375 -0.5625 -1.828125 -1.53125 -1.828125 L -3.515625 -1.828125 C -3.84375 -1.828125 -4.640625 -1.875 -4.640625 -1.875 C -4.6875 -1.875 -4.71875 -1.84375 -4.71875 -1.78125 C -4.703125 -1.734375 -4.6875 -1.5625 -4.6875 -1.40625 C -4.6875 -1.046875 -4.703125 -0.65625 -4.71875 -0.28125 C -4.640625 -0.21875 -4.421875 -0.21875 -4.359375 -0.28125 C -4.3125 -0.8125 -4.1875 -0.96875 -3.484375 -0.96875 L -1.375 -0.96875 C -0.625 -0.96875 0.109375 -1.296875 0.109375 -2.375 Z M 0.109375 -2.375 \"/>\n",
       "</symbol>\n",
       "<symbol overflow=\"visible\" id=\"glyph-1606366588244596-3-0\">\n",
       "<path style=\"stroke:none;\" d=\"M 0 0 L 5.96875 0 L 5.96875 -8.328125 L 0 -8.328125 Z M 0.953125 -0.59375 L 2.984375 -3.625 L 5 -0.59375 Z M 0.59375 -7.1875 L 2.625 -4.15625 L 0.59375 -1.125 Z M 3.34375 -4.15625 L 5.359375 -7.1875 L 5.359375 -1.125 Z M 2.984375 -4.703125 L 0.953125 -7.71875 L 5 -7.71875 Z M 2.984375 -4.703125 \"/>\n",
       "</symbol>\n",
       "<symbol overflow=\"visible\" id=\"glyph-1606366588244596-3-1\">\n",
       "<path style=\"stroke:none;\" d=\"M 4.6875 -5.78125 C 4.6875 -6.640625 4.015625 -7.265625 2.84375 -7.265625 C 1.640625 -7.265625 0.84375 -6.546875 0.84375 -5.625 C 0.84375 -4.953125 1.171875 -4.46875 1.890625 -4.015625 L 2.203125 -3.828125 C 1.859375 -3.640625 1.53125 -3.4375 1.234375 -3.171875 C 0.75 -2.734375 0.546875 -2.203125 0.546875 -1.734375 C 0.546875 -0.53125 1.40625 0.125 2.671875 0.125 C 4.234375 0.125 5 -1.03125 5 -1.9375 C 5 -2.625 4.703125 -3.234375 4.0625 -3.609375 L 3.21875 -4.125 C 3.78125 -4.40625 4.6875 -5.015625 4.6875 -5.78125 Z M 2.6875 -0.296875 C 2.15625 -0.296875 1.34375 -0.671875 1.34375 -1.734375 C 1.34375 -2.09375 1.5 -2.9375 2.53125 -3.609375 L 3.09375 -3.28125 C 3.828125 -2.828125 4.125 -2.265625 4.125 -1.6875 C 4.125 -0.5 3.234375 -0.296875 2.6875 -0.296875 Z M 2.796875 -6.859375 C 3.5625 -6.859375 3.84375 -6.34375 3.84375 -5.796875 C 3.84375 -5.15625 3.21875 -4.609375 2.890625 -4.375 L 2.53125 -4.609375 C 1.78125 -5.09375 1.6875 -5.484375 1.6875 -5.859375 C 1.6875 -6.40625 2.078125 -6.859375 2.796875 -6.859375 Z M 2.796875 -6.859375 \"/>\n",
       "</symbol>\n",
       "<symbol overflow=\"visible\" id=\"glyph-1606366588244596-3-2\">\n",
       "<path style=\"stroke:none;\" d=\"M 0.578125 -1.640625 C 0.625 -1.0625 0.65625 -0.5 0.65625 0 C 0.78125 -0.03125 0.890625 -0.03125 0.953125 -0.03125 C 1.03125 -0.03125 1.109375 -0.03125 1.1875 -0.015625 C 1.515625 0.078125 1.84375 0.125 2.28125 0.125 C 2.9375 0.125 4.171875 -0.203125 4.171875 -1.390625 C 4.171875 -2.1875 3.59375 -2.671875 2.78125 -2.96875 C 2.0625 -3.25 1.578125 -3.421875 1.578125 -4.078125 C 1.578125 -4.5625 2.015625 -4.84375 2.421875 -4.84375 C 2.6875 -4.84375 3.375 -4.75 3.53125 -3.734375 C 3.59375 -3.65625 3.84375 -3.671875 3.90625 -3.75 C 3.953125 -4.171875 3.96875 -4.609375 3.984375 -5 C 3.609375 -5.0625 3.046875 -5.234375 2.421875 -5.234375 C 1.53125 -5.234375 0.734375 -4.65625 0.734375 -3.90625 C 0.734375 -3.03125 1.125 -2.65625 2.046875 -2.28125 C 3.046875 -1.875 3.265625 -1.625 3.265625 -1.109375 C 3.265625 -0.53125 2.6875 -0.28125 2.25 -0.28125 C 1.78125 -0.28125 1.53125 -0.421875 1.40625 -0.5625 C 1.140625 -0.828125 1.015625 -1.359375 0.9375 -1.65625 C 0.875 -1.734375 0.640625 -1.71875 0.578125 -1.640625 Z M 0.578125 -1.640625 \"/>\n",
       "</symbol>\n",
       "<symbol overflow=\"visible\" id=\"glyph-1606366588244596-3-3\">\n",
       "<path style=\"stroke:none;\" d=\"M 1.859375 -4.390625 C 1.84375 -4.75 1.828125 -5.0625 1.765625 -5.171875 C 1.734375 -5.234375 1.71875 -5.265625 1.625 -5.265625 C 1.28125 -5.140625 0.984375 -5.03125 0.15625 -4.921875 C 0.125 -4.859375 0.15625 -4.65625 0.171875 -4.59375 C 0.828125 -4.53125 0.953125 -4.46875 0.953125 -3.78125 L 0.953125 1.3125 C 0.953125 2.296875 0.828125 2.359375 0.09375 2.390625 C 0.03125 2.46875 0.03125 2.71875 0.09375 2.796875 C 0.515625 2.78125 0.953125 2.765625 1.4375 2.765625 C 1.90625 2.765625 2.484375 2.78125 2.875 2.796875 C 2.9375 2.71875 2.9375 2.46875 2.875 2.390625 C 2.03125 2.34375 1.890625 2.296875 1.890625 1.3125 L 1.890625 0.03125 C 1.890625 -0.125 1.9375 -0.125 2.0625 -0.078125 C 2.359375 0.046875 2.71875 0.125 3.09375 0.125 C 3.765625 0.125 4.359375 -0.078125 4.859375 -0.546875 C 5.40625 -1.09375 5.734375 -1.84375 5.734375 -2.796875 C 5.734375 -4.0625 4.84375 -5.234375 3.625 -5.234375 C 3.078125 -5.234375 2.46875 -4.875 1.984375 -4.34375 C 1.921875 -4.265625 1.875 -4.265625 1.859375 -4.390625 Z M 2.09375 -3.953125 C 2.390625 -4.328125 2.9375 -4.6875 3.296875 -4.6875 C 4.046875 -4.6875 4.703125 -3.828125 4.703125 -2.484375 C 4.703125 -1.5 4.359375 -0.28125 3.03125 -0.28125 C 2.8125 -0.28125 2.390625 -0.34375 2.1875 -0.53125 C 1.9375 -0.75 1.890625 -0.828125 1.890625 -1.25 L 1.890625 -3.421875 C 1.890625 -3.671875 1.9375 -3.78125 2.09375 -3.953125 Z M 2.09375 -3.953125 \"/>\n",
       "</symbol>\n",
       "<symbol overflow=\"visible\" id=\"glyph-1606366588244596-3-4\">\n",
       "<path style=\"stroke:none;\" d=\"M 2.15625 -1.453125 L 2.15625 -3.828125 C 2.15625 -4.421875 2.203125 -5.1875 2.203125 -5.1875 C 2.203125 -5.234375 2.140625 -5.265625 2.046875 -5.265625 C 1.71875 -5.140625 1.234375 -5.03125 0.421875 -4.921875 C 0.390625 -4.859375 0.421875 -4.65625 0.4375 -4.59375 C 1.09375 -4.53125 1.21875 -4.453125 1.21875 -3.78125 L 1.21875 -1.453125 C 1.21875 -0.46875 1.078125 -0.421875 0.359375 -0.375 C 0.28125 -0.296875 0.28125 -0.046875 0.359375 0.03125 C 0.75 0.015625 1.21875 0 1.6875 0 C 2.171875 0 2.625 0.015625 3.015625 0.03125 C 3.09375 -0.046875 3.09375 -0.296875 3.015625 -0.375 C 2.28125 -0.421875 2.15625 -0.46875 2.15625 -1.453125 Z M 1.078125 -7.140625 C 1.078125 -6.828125 1.359375 -6.515625 1.640625 -6.515625 C 1.984375 -6.515625 2.265625 -6.84375 2.265625 -7.09375 C 2.265625 -7.375 2.015625 -7.71875 1.6875 -7.71875 C 1.40625 -7.71875 1.078125 -7.421875 1.078125 -7.140625 Z M 1.078125 -7.140625 \"/>\n",
       "</symbol>\n",
       "<symbol overflow=\"visible\" id=\"glyph-1606366588244596-3-5\">\n",
       "<path style=\"stroke:none;\" d=\"M 2.1875 -4.265625 C 2.125 -4.1875 2.046875 -4.15625 2.046875 -4.265625 C 2.03125 -4.59375 2.015625 -5.0625 1.953125 -5.171875 C 1.9375 -5.234375 1.90625 -5.265625 1.8125 -5.265625 C 1.484375 -5.140625 1.171875 -5.03125 0.34375 -4.921875 C 0.328125 -4.859375 0.34375 -4.65625 0.375 -4.59375 C 1.015625 -4.53125 1.140625 -4.46875 1.140625 -3.78125 L 1.140625 -1.453125 C 1.140625 -0.484375 1.03125 -0.421875 0.3125 -0.375 C 0.234375 -0.296875 0.234375 -0.046875 0.3125 0.03125 C 0.671875 0.015625 1.140625 0 1.625 0 C 2.09375 0 2.453125 0.015625 2.8125 0.03125 C 2.890625 -0.046875 2.890625 -0.296875 2.8125 -0.375 C 2.203125 -0.421875 2.09375 -0.484375 2.09375 -1.453125 L 2.09375 -3.40625 C 2.09375 -3.65625 2.1875 -3.796875 2.28125 -3.90625 C 2.734375 -4.34375 3.28125 -4.609375 3.75 -4.609375 C 3.984375 -4.609375 4.234375 -4.453125 4.375 -4.1875 C 4.5 -3.953125 4.515625 -3.625 4.515625 -3.265625 L 4.515625 -1.453125 C 4.515625 -0.484375 4.40625 -0.421875 3.78125 -0.375 C 3.71875 -0.296875 3.71875 -0.046875 3.78125 0.03125 C 4.140625 0.015625 4.515625 0 5 0 C 5.46875 0 5.90625 0.015625 6.265625 0.03125 C 6.3125 -0.046875 6.3125 -0.296875 6.265625 -0.375 C 5.59375 -0.421875 5.453125 -0.484375 5.453125 -1.453125 L 5.453125 -3.234375 C 5.453125 -3.890625 5.40625 -4.453125 5.140625 -4.828125 C 4.9375 -5.09375 4.5625 -5.234375 4.15625 -5.234375 C 3.5625 -5.234375 2.890625 -5.078125 2.1875 -4.265625 Z M 2.1875 -4.265625 \"/>\n",
       "</symbol>\n",
       "<symbol overflow=\"visible\" id=\"glyph-1606366588244596-3-6\">\n",
       "<path style=\"stroke:none;\" d=\"M 1.234375 -1.125 C 0.875 -1.125 0.609375 -0.875 0.609375 -0.546875 C 0.609375 -0.171875 0.921875 -0.0625 1.125 -0.03125 C 1.359375 0 1.5625 0.078125 1.5625 0.34375 C 1.5625 0.59375 1.125 1.140625 0.515625 1.296875 C 0.515625 1.421875 0.53125 1.5 0.625 1.578125 C 1.328125 1.453125 2.03125 0.875 2.03125 0.046875 C 2.03125 -0.671875 1.71875 -1.125 1.234375 -1.125 Z M 1.234375 -1.125 \"/>\n",
       "</symbol>\n",
       "<symbol overflow=\"visible\" id=\"glyph-1606366588244596-4-0\">\n",
       "<path style=\"stroke:none;\" d=\"M 0 0 L 5.96875 0 L 5.96875 -8.328125 L 0 -8.328125 Z M 0.953125 -0.59375 L 2.984375 -3.625 L 5 -0.59375 Z M 0.59375 -7.1875 L 2.625 -4.15625 L 0.59375 -1.125 Z M 3.34375 -4.15625 L 5.359375 -7.1875 L 5.359375 -1.125 Z M 2.984375 -4.703125 L 0.953125 -7.71875 L 5 -7.71875 Z M 2.984375 -4.703125 \"/>\n",
       "</symbol>\n",
       "<symbol overflow=\"visible\" id=\"glyph-1606366588244596-4-1\">\n",
       "<path style=\"stroke:none;\" d=\"M 3.875 -4.75 C 4.515625 -4.703125 4.59375 -4.546875 4.34375 -3.953125 L 3.375 -1.609375 C 3.1875 -1.140625 3.125 -1.140625 2.9375 -1.640625 L 2.078125 -3.953125 C 1.859375 -4.515625 1.8125 -4.65625 2.4375 -4.75 C 2.515625 -4.8125 2.515625 -5.0625 2.4375 -5.140625 C 2.046875 -5.125 1.640625 -5.109375 1.234375 -5.109375 C 0.84375 -5.109375 0.484375 -5.125 0.125 -5.140625 C 0.0625 -5.0625 0.0625 -4.8125 0.125 -4.75 C 0.765625 -4.671875 0.84375 -4.484375 1.078125 -3.875 L 2.609375 -0.109375 C 2.6875 0.078125 2.75 0.140625 2.90625 0.140625 C 3.03125 0.140625 3.109375 0.078125 3.1875 -0.125 L 4.78125 -3.859375 C 5 -4.390625 5.140625 -4.6875 5.8125 -4.75 C 5.875 -4.8125 5.875 -5.0625 5.8125 -5.140625 C 5.5625 -5.125 5.28125 -5.109375 4.96875 -5.109375 C 4.578125 -5.109375 4.171875 -5.125 3.875 -5.140625 C 3.796875 -5.0625 3.796875 -4.8125 3.875 -4.75 Z M 3.875 -4.75 \"/>\n",
       "</symbol>\n",
       "<symbol overflow=\"visible\" id=\"glyph-1606366588244596-4-2\">\n",
       "<path style=\"stroke:none;\" d=\"M 3.5 -0.578125 C 3.5625 -0.203125 3.703125 0.125 4.296875 0.125 C 4.75 0.125 5.171875 -0.078125 5.421875 -0.328125 C 5.40625 -0.46875 5.359375 -0.578125 5.21875 -0.640625 C 5.140625 -0.578125 4.9375 -0.453125 4.78125 -0.453125 C 4.4375 -0.453125 4.421875 -0.921875 4.421875 -1.46875 L 4.421875 -3.21875 C 4.421875 -4.90625 3.5 -5.234375 2.625 -5.234375 C 1.640625 -5.234375 0.65625 -4.59375 0.65625 -3.90625 C 0.65625 -3.625 0.796875 -3.484375 1.078125 -3.484375 C 1.421875 -3.484375 1.640625 -3.734375 1.640625 -3.890625 C 1.640625 -3.96875 1.625 -4.046875 1.59375 -4.09375 C 1.578125 -4.140625 1.578125 -4.203125 1.578125 -4.34375 C 1.578125 -4.703125 2.078125 -4.84375 2.53125 -4.84375 C 2.9375 -4.84375 3.5 -4.640625 3.5 -3.296875 C 3.5 -3.203125 3.453125 -3.15625 3.421875 -3.140625 L 2.390625 -2.890625 C 1.25 -2.609375 0.421875 -1.984375 0.421875 -1.171875 C 0.421875 -0.1875 1.09375 0.125 1.9375 0.125 C 2.34375 0.125 2.703125 0.03125 3.234375 -0.375 L 3.46875 -0.578125 Z M 3.5 -2.78125 L 3.5 -1.203125 C 3.5 -1.046875 3.421875 -0.96875 3.328125 -0.890625 C 3.015625 -0.640625 2.609375 -0.375 2.28125 -0.375 C 1.6875 -0.375 1.421875 -0.84375 1.421875 -1.21875 C 1.421875 -1.75 1.671875 -2.296875 2.546875 -2.53125 Z M 3.5 -2.78125 \"/>\n",
       "</symbol>\n",
       "<symbol overflow=\"visible\" id=\"glyph-1606366588244596-4-3\">\n",
       "<path style=\"stroke:none;\" d=\"M 2.09375 -4.265625 C 2.078125 -4.75 2.0625 -5.0625 2 -5.171875 C 1.984375 -5.234375 1.953125 -5.265625 1.859375 -5.265625 C 1.53125 -5.140625 1.21875 -5.03125 0.390625 -4.921875 C 0.375 -4.859375 0.390625 -4.65625 0.421875 -4.59375 C 1.0625 -4.53125 1.1875 -4.46875 1.1875 -3.78125 L 1.1875 -1.453125 C 1.1875 -0.46875 1.046875 -0.421875 0.3125 -0.375 C 0.234375 -0.296875 0.234375 -0.046875 0.3125 0.03125 C 0.734375 0.015625 1.1875 0 1.671875 0 C 2.140625 0 2.6875 0.015625 3.109375 0.03125 C 3.1875 -0.046875 3.1875 -0.296875 3.109375 -0.375 C 2.28125 -0.421875 2.140625 -0.46875 2.140625 -1.453125 L 2.140625 -3.109375 C 2.140625 -3.421875 2.28125 -3.703125 2.421875 -3.90625 C 2.546875 -4.09375 2.828125 -4.5 2.96875 -4.5 C 3.078125 -4.5 3.1875 -4.46875 3.28125 -4.34375 C 3.359375 -4.21875 3.5 -4.0625 3.703125 -4.0625 C 4 -4.0625 4.265625 -4.359375 4.265625 -4.65625 C 4.265625 -4.890625 4.046875 -5.234375 3.546875 -5.234375 C 3 -5.234375 2.5 -4.703125 2.234375 -4.25 C 2.15625 -4.109375 2.09375 -4.203125 2.09375 -4.265625 Z M 2.09375 -4.265625 \"/>\n",
       "</symbol>\n",
       "<symbol overflow=\"visible\" id=\"glyph-1606366588244596-5-0\">\n",
       "<path style=\"stroke:none;\" d=\"M 0 0 L 3.984375 0 L 3.984375 -5.546875 L 0 -5.546875 Z M 0.640625 -0.390625 L 1.984375 -2.421875 L 3.34375 -0.390625 Z M 0.390625 -4.796875 L 1.75 -2.78125 L 0.390625 -0.75 Z M 2.234375 -2.78125 L 3.578125 -4.796875 L 3.578125 -0.75 Z M 1.984375 -3.140625 L 0.640625 -5.140625 L 3.34375 -5.140625 Z M 1.984375 -3.140625 \"/>\n",
       "</symbol>\n",
       "<symbol overflow=\"visible\" id=\"glyph-1606366588244596-5-1\">\n",
       "<path style=\"stroke:none;\" d=\"M 1.59375 -2.453125 L 1.875 -1.671875 L 1.125 -0.578125 C 1.046875 -0.46875 0.96875 -0.421875 0.90625 -0.421875 C 0.84375 -0.421875 0.75 -0.453125 0.6875 -0.484375 C 0.625 -0.515625 0.546875 -0.53125 0.46875 -0.53125 C 0.28125 -0.53125 0.15625 -0.390625 0.15625 -0.21875 C 0.15625 -0.015625 0.4375 0.078125 0.625 0.078125 C 0.890625 0.078125 1.078125 -0.046875 1.4375 -0.546875 L 1.984375 -1.34375 L 2.296875 -0.359375 C 2.390625 -0.046875 2.46875 0.078125 2.75 0.078125 C 3.015625 0.078125 3.375 -0.078125 3.625 -0.484375 C 3.59375 -0.5625 3.515625 -0.625 3.421875 -0.640625 C 3.21875 -0.375 3.125 -0.3125 3.03125 -0.3125 C 2.953125 -0.3125 2.90625 -0.40625 2.84375 -0.609375 L 2.40625 -1.890625 L 3.015625 -2.78125 C 3.140625 -2.953125 3.328125 -2.984375 3.390625 -2.984375 C 3.453125 -2.984375 3.5625 -2.96875 3.625 -2.90625 C 3.6875 -2.859375 3.8125 -2.828125 3.890625 -2.828125 C 4 -2.828125 4.140625 -2.984375 4.140625 -3.171875 C 4.140625 -3.375 3.921875 -3.484375 3.75 -3.484375 C 3.34375 -3.484375 3.078125 -3.359375 2.703125 -2.796875 L 2.296875 -2.21875 L 2.078125 -2.921875 C 1.9375 -3.328125 1.859375 -3.484375 1.65625 -3.484375 C 1.46875 -3.484375 0.875 -3.171875 0.609375 -2.953125 C 0.609375 -2.875 0.640625 -2.78125 0.703125 -2.71875 C 0.796875 -2.765625 1.0625 -2.890625 1.234375 -2.890625 C 1.34375 -2.890625 1.421875 -2.859375 1.453125 -2.796875 C 1.484375 -2.734375 1.546875 -2.59375 1.59375 -2.453125 Z M 1.59375 -2.453125 \"/>\n",
       "</symbol>\n",
       "<symbol overflow=\"visible\" id=\"glyph-1606366588244596-5-2\">\n",
       "<path style=\"stroke:none;\" d=\"M 2.296875 -0.96875 L 2.296875 -3.734375 C 2.296875 -4.203125 2.296875 -4.6875 2.3125 -4.796875 C 2.3125 -4.828125 2.296875 -4.828125 2.265625 -4.828125 C 1.828125 -4.5625 1.40625 -4.359375 0.703125 -4.046875 C 0.71875 -3.953125 0.75 -3.875 0.828125 -3.828125 C 1.1875 -3.984375 1.375 -4.03125 1.515625 -4.03125 C 1.65625 -4.03125 1.671875 -3.828125 1.671875 -3.5625 L 1.671875 -0.96875 C 1.671875 -0.3125 1.46875 -0.265625 0.90625 -0.25 C 0.859375 -0.203125 0.859375 -0.03125 0.90625 0.015625 C 1.296875 0.015625 1.578125 0 2.015625 0 C 2.390625 0 2.578125 0.015625 2.984375 0.015625 C 3.03125 -0.03125 3.03125 -0.203125 2.984375 -0.25 C 2.421875 -0.265625 2.296875 -0.3125 2.296875 -0.96875 Z M 2.296875 -0.96875 \"/>\n",
       "</symbol>\n",
       "</g>\n",
       "<clipPath id=\"clip-1606366588244596-1\">\n",
       "  <path d=\"M 48.9375 23.90625 L 291.578125 23.90625 L 291.578125 194.699219 L 48.9375 194.699219 Z M 48.9375 23.90625 \"/>\n",
       "</clipPath>\n",
       "</defs>\n",
       "<g id=\"surface1\">\n",
       "<path style=\" stroke:none;fill-rule:nonzero;fill:rgb(100%,100%,100%);fill-opacity:1;\" d=\"M 48.9375 194.699219 L 291.578125 194.699219 L 291.578125 23.90625 L 48.9375 23.90625 Z M 48.9375 194.699219 \"/>\n",
       "<path style=\"fill:none;stroke-width:0.49814;stroke-linecap:butt;stroke-linejoin:miter;stroke:rgb(13.331604%,13.331604%,33.332825%);stroke-opacity:0.1;stroke-miterlimit:10;\" d=\"M 6.88034 0.001943 L 6.88034 171.16934 M 64.23236 0.001943 L 64.23236 171.16934 M 121.584381 0.001943 L 121.584381 171.16934 M 178.936401 0.001943 L 178.936401 171.16934 M 236.288421 0.001943 L 236.288421 171.16934 \" transform=\"matrix(0.997812,0,0,-0.997812,48.939398,194.701157)\"/>\n",
       "<path style=\"fill:none;stroke-width:0.49814;stroke-linecap:butt;stroke-linejoin:miter;stroke:rgb(13.331604%,13.331604%,33.332825%);stroke-opacity:0.1;stroke-miterlimit:10;\" d=\"M -0.00190197 8.653681 L 243.170663 8.653681 M -0.00190197 48.075855 L 243.170663 48.075855 M -0.00190197 87.498028 L 243.170663 87.498028 M -0.00190197 126.920202 L 243.170663 126.920202 M -0.00190197 166.342375 L 243.170663 166.342375 \" transform=\"matrix(0.997812,0,0,-0.997812,48.939398,194.701157)\"/>\n",
       "<path style=\"fill:none;stroke-width:0.19925;stroke-linecap:butt;stroke-linejoin:miter;stroke:rgb(50%,50%,50%);stroke-opacity:1;stroke-miterlimit:10;\" d=\"M 6.88034 0.001943 L 6.88034 4.253431 M 64.23236 0.001943 L 64.23236 4.253431 M 121.584381 0.001943 L 121.584381 4.253431 M 178.936401 0.001943 L 178.936401 4.253431 M 236.288421 0.001943 L 236.288421 4.253431 M 6.88034 171.16934 L 6.88034 166.917853 M 64.23236 171.16934 L 64.23236 166.917853 M 121.584381 171.16934 L 121.584381 166.917853 M 178.936401 171.16934 L 178.936401 166.917853 M 236.288421 171.16934 L 236.288421 166.917853 \" transform=\"matrix(0.997812,0,0,-0.997812,48.939398,194.701157)\"/>\n",
       "<path style=\"fill:none;stroke-width:0.19925;stroke-linecap:butt;stroke-linejoin:miter;stroke:rgb(50%,50%,50%);stroke-opacity:1;stroke-miterlimit:10;\" d=\"M -0.00190197 8.653681 L 4.2535 8.653681 M -0.00190197 48.075855 L 4.2535 48.075855 M -0.00190197 87.498028 L 4.2535 87.498028 M -0.00190197 126.920202 L 4.2535 126.920202 M -0.00190197 166.342375 L 4.2535 166.342375 M 243.170663 8.653681 L 238.919175 8.653681 M 243.170663 48.075855 L 238.919175 48.075855 M 243.170663 87.498028 L 238.919175 87.498028 M 243.170663 126.920202 L 238.919175 126.920202 M 243.170663 166.342375 L 238.919175 166.342375 \" transform=\"matrix(0.997812,0,0,-0.997812,48.939398,194.701157)\"/>\n",
       "<g style=\"fill:rgb(0%,0%,0%);fill-opacity:1;\">\n",
       "  <use xlink:href=\"#glyph-1606366588244596-0-1\" x=\"53.033422\" y=\"205.489506\"/>\n",
       "</g>\n",
       "<g style=\"fill:rgb(0%,0%,0%);fill-opacity:1;\">\n",
       "  <use xlink:href=\"#glyph-1606366588244596-0-2\" x=\"110.258967\" y=\"205.50148\"/>\n",
       "</g>\n",
       "<g style=\"fill:rgb(0%,0%,0%);fill-opacity:1;\">\n",
       "  <use xlink:href=\"#glyph-1606366588244596-0-3\" x=\"164.710593\" y=\"205.489506\"/>\n",
       "  <use xlink:href=\"#glyph-1606366588244596-0-1\" x=\"170.257587\" y=\"205.489506\"/>\n",
       "</g>\n",
       "<g style=\"fill:rgb(0%,0%,0%);fill-opacity:1;\">\n",
       "  <use xlink:href=\"#glyph-1606366588244596-0-3\" x=\"221.936138\" y=\"205.50148\"/>\n",
       "  <use xlink:href=\"#glyph-1606366588244596-0-2\" x=\"227.483131\" y=\"205.50148\"/>\n",
       "</g>\n",
       "<g style=\"fill:rgb(0%,0%,0%);fill-opacity:1;\">\n",
       "  <use xlink:href=\"#glyph-1606366588244596-0-4\" x=\"279.161682\" y=\"205.489506\"/>\n",
       "  <use xlink:href=\"#glyph-1606366588244596-0-1\" x=\"284.708676\" y=\"205.489506\"/>\n",
       "</g>\n",
       "<g style=\"fill:rgb(0%,0%,0%);fill-opacity:1;\">\n",
       "  <use xlink:href=\"#glyph-1606366588244596-0-1\" x=\"20.614494\" y=\"189.633268\"/>\n",
       "  <use xlink:href=\"#glyph-1606366588244596-0-5\" x=\"26.161488\" y=\"189.633268\"/>\n",
       "  <use xlink:href=\"#glyph-1606366588244596-0-6\" x=\"28.785872\" y=\"189.633268\"/>\n",
       "  <use xlink:href=\"#glyph-1606366588244596-0-1\" x=\"34.332865\" y=\"189.633268\"/>\n",
       "  <use xlink:href=\"#glyph-1606366588244596-0-1\" x=\"39.879859\" y=\"189.633268\"/>\n",
       "</g>\n",
       "<g style=\"fill:rgb(0%,0%,0%);fill-opacity:1;\">\n",
       "  <use xlink:href=\"#glyph-1606366588244596-0-1\" x=\"20.614494\" y=\"150.30349\"/>\n",
       "  <use xlink:href=\"#glyph-1606366588244596-0-5\" x=\"26.161488\" y=\"150.30349\"/>\n",
       "  <use xlink:href=\"#glyph-1606366588244596-0-6\" x=\"28.785872\" y=\"150.30349\"/>\n",
       "  <use xlink:href=\"#glyph-1606366588244596-0-4\" x=\"34.332865\" y=\"150.30349\"/>\n",
       "  <use xlink:href=\"#glyph-1606366588244596-0-2\" x=\"39.879859\" y=\"150.30349\"/>\n",
       "</g>\n",
       "<g style=\"fill:rgb(0%,0%,0%);fill-opacity:1;\">\n",
       "  <use xlink:href=\"#glyph-1606366588244596-0-1\" x=\"20.614494\" y=\"110.968724\"/>\n",
       "  <use xlink:href=\"#glyph-1606366588244596-0-5\" x=\"26.161488\" y=\"110.968724\"/>\n",
       "  <use xlink:href=\"#glyph-1606366588244596-0-6\" x=\"28.785872\" y=\"110.968724\"/>\n",
       "  <use xlink:href=\"#glyph-1606366588244596-0-2\" x=\"34.332865\" y=\"110.968724\"/>\n",
       "  <use xlink:href=\"#glyph-1606366588244596-0-1\" x=\"39.879859\" y=\"110.968724\"/>\n",
       "</g>\n",
       "<g style=\"fill:rgb(0%,0%,0%);fill-opacity:1;\">\n",
       "  <use xlink:href=\"#glyph-1606366588244596-0-1\" x=\"20.614494\" y=\"71.644933\"/>\n",
       "  <use xlink:href=\"#glyph-1606366588244596-0-5\" x=\"26.161488\" y=\"71.644933\"/>\n",
       "  <use xlink:href=\"#glyph-1606366588244596-0-6\" x=\"28.785872\" y=\"71.644933\"/>\n",
       "  <use xlink:href=\"#glyph-1606366588244596-0-7\" x=\"34.332865\" y=\"71.644933\"/>\n",
       "  <use xlink:href=\"#glyph-1606366588244596-0-2\" x=\"39.879859\" y=\"71.644933\"/>\n",
       "</g>\n",
       "<g style=\"fill:rgb(0%,0%,0%);fill-opacity:1;\">\n",
       "  <use xlink:href=\"#glyph-1606366588244596-0-3\" x=\"20.614494\" y=\"32.303182\"/>\n",
       "  <use xlink:href=\"#glyph-1606366588244596-0-5\" x=\"26.161488\" y=\"32.303182\"/>\n",
       "  <use xlink:href=\"#glyph-1606366588244596-0-1\" x=\"28.785872\" y=\"32.303182\"/>\n",
       "  <use xlink:href=\"#glyph-1606366588244596-0-1\" x=\"34.332865\" y=\"32.303182\"/>\n",
       "  <use xlink:href=\"#glyph-1606366588244596-0-1\" x=\"39.879859\" y=\"32.303182\"/>\n",
       "</g>\n",
       "<g clip-path=\"url(#clip-1606366588244596-1)\" clip-rule=\"nonzero\">\n",
       "<path style=\"fill:none;stroke-width:1.19553;stroke-linecap:butt;stroke-linejoin:miter;stroke:rgb(93.331909%,46.665955%,19.999695%);stroke-opacity:1;stroke-miterlimit:10;\" d=\"M 6.88034 163.883872 L 7.170037 165.567242 L 7.455818 166.307142 L 7.741599 166.080083 L 8.027381 164.870405 L 8.317077 162.693769 L 8.602858 159.577577 L 8.88864 155.557064 L 9.174421 150.702695 L 9.464117 145.088852 L 9.749899 138.805576 L 10.03568 131.958567 L 10.321462 124.665269 L 10.611158 117.054871 L 10.896939 109.256562 L 11.182721 101.419106 L 11.468502 93.671689 L 11.758198 86.166992 L 12.04398 79.038116 L 12.329761 72.418166 L 12.615542 66.436331 L 12.905239 61.20614 L 13.19102 56.829378 L 13.476801 53.392172 L 13.762583 50.972817 L 14.052279 49.614376 L 14.33806 49.355999 L 14.623842 50.209428 L 14.909623 52.16292 L 15.199319 55.189071 L 15.485101 59.240903 L 15.770882 64.24012 L 16.056664 70.096681 L 16.34636 76.708802 L 16.632141 83.947292 L 16.917923 91.679049 L 17.203704 99.74748 L 17.4934 107.999907 L 17.779182 116.271909 L 18.064963 124.395147 L 18.350744 132.209115 L 18.640441 139.549391 L 18.926222 146.259381 L 19.212003 152.198153 L 19.497785 157.232604 L 19.787481 161.245288 L 20.073262 164.146165 L 20.359044 165.856938 L 20.644825 166.326716 L 20.934521 165.520264 L 21.220303 163.433669 L 21.506084 160.094333 L 21.791866 155.541404 L 22.081562 149.849265 L 22.367343 143.107956 L 22.653125 135.438836 L 22.938906 126.975009 L 23.228602 117.873067 L 23.514384 108.297433 L 23.800165 98.432103 L 24.085946 88.464987 L 24.375643 78.580083 L 24.661424 68.98096 L 24.947205 59.851614 L 25.232987 51.376043 L 25.522683 43.722582 L 25.808464 37.051739 L 26.094246 31.496619 L 26.380027 27.178579 L 26.669723 24.187662 L 26.955505 22.594333 L 27.241286 22.43774 L 27.527068 23.725714 L 27.816764 26.442594 L 28.102545 30.541404 L 28.388327 35.947762 L 28.674108 42.552053 L 28.963804 50.229002 L 29.249586 58.825933 L 29.535367 68.166678 L 29.821148 78.071157 L 30.110845 88.324054 L 30.396626 98.725714 L 30.682407 109.049077 L 30.968189 119.082745 L 31.257885 128.615316 L 31.543666 137.443221 L 31.829448 145.370718 L 32.115229 152.225557 L 32.404925 157.855059 L 32.690707 162.130036 L 32.976488 164.952616 L 33.26227 166.24842 L 33.551966 165.970468 L 33.837747 164.118761 L 34.123529 160.712873 L 34.40931 155.811526 L 34.699006 149.504762 L 34.984788 141.906108 L 35.270569 133.164329 L 35.55635 123.451677 L 35.846047 112.959976 L 36.131828 101.896713 L 36.417609 90.488946 L 36.703391 78.963734 L 36.993087 67.559882 L 37.278868 56.512278 L 37.56465 46.044066 L 37.850431 36.378391 L 38.140127 27.714909 L 38.425909 20.229785 L 38.71169 14.087443 L 38.997472 9.413155 L 39.287168 6.308708 L 39.572949 4.844567 L 39.858731 5.048138 L 40.144512 6.923334 L 40.434208 10.431007 L 40.71999 15.50069 L 41.005771 22.026685 L 41.291552 29.879801 L 41.581249 38.891702 L 41.86703 48.878391 L 42.152811 59.632385 L 42.438593 70.926622 L 42.728289 82.526215 L 43.01407 94.19236 L 43.299852 105.678423 L 43.585633 116.741686 L 43.875329 127.155091 L 44.161111 136.695491 L 44.446892 145.171063 L 44.732674 152.397809 L 45.02237 158.230881 L 45.308151 162.545006 L 45.593933 165.257972 L 45.879714 166.311057 L 46.16941 165.684687 L 46.455192 163.398435 L 46.740973 159.503196 L 47.026754 154.081179 L 47.316451 147.253744 L 47.602232 139.169654 L 47.888013 129.997245 L 48.173795 119.940089 L 48.463491 109.20567 L 48.749272 98.028877 L 49.035054 86.644599 L 49.320835 75.291639 L 49.610531 64.212717 L 49.896313 53.64272 L 50.182094 43.800878 L 50.467876 34.894677 L 50.757572 27.108113 L 51.043353 20.601692 L 51.329135 15.512435 L 51.614916 11.942125 L 51.904612 9.957314 L 52.190394 9.601066 L 52.476175 10.873381 L 52.761956 13.742939 L 53.051653 18.143189 L 53.337434 23.984091 L 53.623215 31.132541 L 53.908997 39.439776 L 54.198693 48.733543 L 54.484474 58.810274 L 54.770256 69.470311 L 55.056037 80.482682 L 55.345733 91.628157 L 55.631515 102.679676 L 55.917296 113.414095 L 56.203078 123.612184 L 56.492774 133.078204 L 56.778555 141.624242 L 57.064337 149.085877 L 57.350118 155.330004 L 57.639814 160.243096 L 57.925596 163.739024 L 58.211377 165.766898 L 58.497158 166.303227 L 58.786855 165.363672 L 59.072636 162.983465 L 59.358417 159.233074 L 59.644199 154.214282 L 59.933895 148.048451 L 60.219676 140.880427 L 60.505458 132.882463 L 60.791239 124.22681 L 61.080935 115.109209 L 61.366717 105.729315 L 61.652498 96.2907 L 61.93828 86.993017 L 62.227976 78.032009 L 62.513757 69.595585 L 62.799539 61.859914 L 63.08532 54.973756 L 63.375016 49.081962 L 63.660798 44.29806 L 63.946579 40.708175 L 64.23236 38.382776 L 64.522057 37.357095 L 64.807838 37.638961 L 65.093619 39.220546 L 65.379401 42.050956 L 65.669097 46.067555 L 65.954878 51.180302 L 66.24066 57.279582 L 66.526441 64.232291 L 66.816137 71.893581 L 67.101919 80.11469 L 67.3877 88.723365 L 67.673482 97.55127 L 67.963178 106.426152 L 68.248959 115.18359 L 68.534741 123.651332 L 68.820522 131.680615 L 69.110218 139.122676 L 69.396 145.852241 L 69.681781 151.75578 L 69.967562 156.735422 L 70.257259 160.724618 L 70.54304 163.660728 L 70.828821 165.520264 L 71.114603 166.287568 L 71.404299 165.982212 L 71.69008 164.639431 L 71.975862 162.302288 L 72.261643 159.052992 L 72.551339 154.977671 L 72.837121 150.17811 L 73.122902 144.767837 L 73.408684 138.876043 L 73.69838 132.631915 L 73.984161 126.168557 L 74.269943 119.626904 L 74.555724 113.136143 L 74.84542 106.837208 L 75.131202 100.847543 L 75.416983 95.284593 L 75.702764 90.254057 L 75.992461 85.853806 L 76.278242 82.154308 L 76.564023 79.222112 L 76.849805 77.104198 L 77.139501 75.835798 L 77.425282 75.420828 L 77.711064 75.867117 L 77.996845 77.151176 L 78.286541 79.237771 L 78.572323 82.079926 L 78.858104 85.618918 L 79.143886 89.77645 L 79.433582 94.470311 L 79.719363 99.614376 L 80.005145 105.10686 L 80.290926 110.845977 L 80.580622 116.729942 L 80.866404 122.660884 L 81.152185 128.525275 L 81.437966 134.233074 L 81.727663 139.690324 L 82.013444 144.806985 L 82.299225 149.508676 L 82.585007 153.721016 L 82.874703 157.389196 L 83.160484 160.46624 L 83.446266 162.912998 L 83.732047 164.705983 L 84.021744 165.833449 L 84.307525 166.295397 L 84.593306 166.099657 L 84.879088 165.273631 L 85.168784 163.848639 L 85.454565 161.863828 L 85.740347 159.374007 L 86.026128 156.433982 L 86.315824 153.10639 L 86.601606 149.465614 L 86.887387 145.578204 L 87.173168 141.526371 L 87.462865 137.380584 L 87.748646 133.223052 L 88.034427 129.120327 L 88.320209 125.146791 L 88.609905 121.372911 L 88.895687 117.861323 L 89.181468 114.666835 L 89.467249 111.844254 L 89.756946 109.428814 L 90.042727 107.467493 L 90.328508 105.979863 L 90.61429 104.99333 L 90.903986 104.511808 L 91.189767 104.539212 L 91.475549 105.071627 L 91.76133 106.101223 L 92.051026 107.596681 L 92.336808 109.538429 L 92.622589 111.887317 L 92.90837 114.604198 L 93.198067 117.642093 L 93.483848 120.954026 L 93.76963 124.481273 L 94.055411 128.172942 L 94.345107 131.966396 L 94.630889 135.806829 L 94.91667 139.635516 L 95.202451 143.385908 L 95.492148 147.011025 L 95.777929 150.452147 L 96.06371 153.654464 L 96.349492 156.57883 L 96.639188 159.178266 L 96.924969 161.413625 L 97.210751 163.257502 L 97.496532 164.682494 L 97.786228 165.669027 L 98.07201 166.201442 L 98.357791 166.275823 L 98.643573 165.892172 L 98.933269 165.058316 L 99.21905 163.789917 L 99.504832 162.106547 L 99.790613 160.03561 L 100.080309 157.604511 L 100.366091 154.856312 L 100.651872 151.834076 L 100.937653 148.580866 L 101.22735 145.147574 L 101.513131 141.589008 L 101.798912 137.959976 L 102.084694 134.31137 L 102.37439 130.709741 L 102.660171 127.205983 L 102.945953 123.854903 L 103.231734 120.711307 L 103.52143 117.822175 L 103.807212 115.238398 L 104.092993 113.003039 L 104.378775 111.151332 L 104.668471 109.710681 L 104.954252 108.716318 L 105.240034 108.176074 L 105.525815 108.109522 L 105.815511 108.520578 L 106.101293 109.401411 L 106.387074 110.744192 L 106.672855 112.525432 L 106.962552 114.725557 L 107.248333 117.309334 L 107.534114 120.2337 L 107.819896 123.455592 L 108.109592 126.924117 L 108.395373 130.580552 L 108.681155 134.358348 L 108.966936 138.202695 L 109.256632 142.043127 L 109.542414 145.813092 L 109.828195 149.446039 L 110.113977 152.871501 L 110.403673 156.026841 L 110.689454 158.853337 L 110.975236 161.292266 L 111.261017 163.29665 L 111.550713 164.815598 L 111.836495 165.81779 L 112.122276 166.267994 L 112.408057 166.154464 L 112.697754 165.461542 L 112.983535 164.189228 L 113.269316 162.34535 L 113.555098 159.953399 L 113.844794 157.040778 L 114.130575 153.64272 L 114.416357 149.814032 L 114.702138 145.609522 L 114.991834 141.095742 L 115.277616 136.339243 L 115.563397 131.422237 L 115.849179 126.42302 L 116.138875 121.431633 L 116.424656 116.526371 L 116.710438 111.801191 L 116.996219 107.338304 L 117.285915 103.216005 L 117.571697 99.512591 L 117.857478 96.302444 L 118.143259 93.640371 L 118.432956 91.589008 L 118.718737 90.18359 L 119.004518 89.463265 L 119.2903 89.443691 L 119.579996 90.132698 L 119.865777 91.522457 L 120.151559 93.601223 L 120.43734 96.325933 L 120.727036 99.661354 L 121.012818 103.544849 L 121.298599 107.905952 L 121.584381 112.666365 L 121.874077 117.736049 L 122.159858 123.024962 L 122.44564 128.427405 L 122.731421 133.833763 L 123.021117 139.14225 L 123.306899 144.243252 L 123.59268 149.031069 L 123.878461 153.400001 L 124.168158 157.263922 L 124.453939 160.528877 L 124.73972 163.120484 L 125.025502 164.97219 L 125.315198 166.033105 L 125.600979 166.267994 L 125.886761 165.653368 L 126.172542 164.181398 L 126.462238 161.867743 L 126.74802 158.739807 L 127.033801 154.836738 L 127.319583 150.221173 L 127.609279 144.971407 L 127.89506 139.169654 L 128.180842 132.917696 L 128.466623 126.33298 L 128.756319 119.525119 L 129.042101 112.623302 L 129.327882 105.756719 L 129.613663 99.058473 L 129.90336 92.649923 L 130.189141 86.656343 L 130.474922 81.199093 L 130.760704 76.387787 L 131.0504 72.316381 L 131.336181 69.067085 L 131.621963 66.714282 L 131.907744 65.30495 L 132.19744 64.878235 L 132.483222 65.441968 L 132.769003 66.996149 L 133.054785 69.509459 L 133.344481 72.946666 L 133.630262 77.241216 L 133.916044 82.306985 L 134.201825 88.053932 L 134.491521 94.368526 L 134.777303 101.12158 L 135.063084 108.187818 L 135.348865 115.414564 L 135.638562 122.660884 L 135.924343 129.778016 L 136.210124 136.61328 L 136.495906 143.02966 L 136.785602 148.890136 L 137.071383 154.06552 L 137.357165 158.442281 L 137.642946 161.926465 L 137.932642 164.428031 L 138.218424 165.888257 L 138.504205 166.271909 L 138.789987 165.547668 L 139.079683 163.71945 L 139.365464 160.818573 L 139.651246 156.884185 L 139.937027 151.982839 L 140.226723 146.204574 L 140.512505 139.651176 L 140.798286 132.451833 L 141.084067 124.735736 L 141.373764 116.651645 L 141.659545 108.36007 L 141.945326 100.017602 L 142.231108 91.788664 L 142.520804 83.837677 L 142.806585 76.32515 L 143.092367 69.392015 L 143.378148 63.187035 L 143.667844 57.83157 L 143.953626 53.439149 L 144.239407 50.095899 L 144.525189 47.872284 L 144.814885 46.815285 L 145.100666 46.952303 L 145.386448 48.28334 L 145.672229 50.784906 L 145.961925 54.406108 L 146.247707 59.076481 L 146.533488 64.709898 L 146.819269 71.192829 L 147.108966 78.392172 L 147.394747 86.166992 L 147.680528 94.356782 L 147.96631 102.801035 L 148.256006 111.327499 L 148.541787 119.760008 L 148.827569 127.930224 L 149.11335 135.66981 L 149.403046 142.814345 L 149.688828 149.222895 L 149.974609 154.758442 L 150.260391 159.307455 L 150.550087 162.77598 L 150.835868 165.081805 L 151.12165 166.181868 L 151.407431 166.048764 L 151.697127 164.674665 L 151.982909 162.090888 L 152.26869 158.340496 L 152.554471 153.497872 L 152.840253 147.653055 L 153.129949 140.927405 L 153.41573 133.450111 L 153.701512 125.369935 L 153.987293 116.843471 L 154.276989 108.046885 L 154.562771 99.152428 L 154.848552 90.336268 L 155.134334 81.7824 L 155.42403 73.651332 L 155.709811 66.115316 L 155.995593 59.323114 L 156.281374 53.403916 L 156.57107 48.48691 L 156.856852 44.666052 L 157.142633 42.015723 L 157.428414 40.594646 L 157.718111 40.422394 L 158.003892 41.510712 L 158.289673 43.832197 L 158.575455 47.343785 L 158.865151 51.971094 L 159.150932 57.624085 L 159.436714 64.189228 L 159.722495 71.529503 L 160.012191 79.503979 L 160.297973 87.948232 L 160.583754 96.693925 L 160.869536 105.572723 L 161.159232 114.396713 L 161.445013 123.001473 L 161.730795 131.206923 L 162.016576 138.860383 L 162.306272 145.801348 L 162.592054 151.896713 L 162.877835 157.029034 L 163.163616 161.10044 L 163.453313 164.02872 L 163.739094 165.759068 L 164.024875 166.267994 L 164.310657 165.539838 L 164.600353 163.602006 L 164.886134 160.489729 L 165.171916 156.273474 L 165.457697 151.043283 L 165.747393 144.904856 L 166.033175 137.983465 L 166.318956 130.42396 L 166.604738 122.375103 L 166.894434 114.001317 L 167.180215 105.474852 L 167.465997 96.960133 L 167.751778 88.637239 L 168.041474 80.662764 L 168.327256 73.197214 L 168.613037 66.389353 L 168.898818 60.376199 L 169.188515 55.271282 L 169.474296 51.172472 L 169.760077 48.165895 L 170.045859 46.298529 L 170.335555 45.613437 L 170.621336 46.114533 L 170.907118 47.790073 L 171.192899 50.608739 L 171.482595 54.503979 L 171.768377 59.405325 L 172.054158 65.210994 L 172.33994 71.799625 L 172.629636 79.04986 L 172.915417 86.809021 L 173.201199 94.932259 L 173.48698 103.255153 L 173.776676 111.62111 L 174.062458 119.865707 L 174.348239 127.836268 L 174.63402 135.372284 L 174.923717 142.340653 L 175.209498 148.604355 L 175.495279 154.04986 L 175.781061 158.5793 L 176.070757 162.110462 L 176.356538 164.584624 L 176.64232 165.962638 L 176.928101 166.228846 L 177.217797 165.383246 L 177.503579 163.453243 L 177.78936 160.485814 L 178.075142 156.547511 L 178.364838 151.728376 L 178.650619 146.122363 L 178.936401 139.846916 L 179.222182 133.035141 L 179.511878 125.820139 L 179.79766 118.350675 L 180.083441 110.771595 L 180.369222 103.235579 L 180.658919 95.887474 L 180.9447 88.872128 L 181.230481 82.322645 L 181.516263 76.368213 L 181.805959 71.122363 L 182.09174 66.679049 L 182.377522 63.124398 L 182.663303 60.524962 L 182.952999 58.923803 L 183.238781 58.344411 L 183.524562 58.802444 L 183.810344 60.278329 L 184.10004 62.740747 L 184.385821 66.14272 L 184.671603 70.409867 L 184.957384 75.463891 L 185.24708 81.203008 L 185.532862 87.513687 L 185.818643 94.2824 L 186.104424 101.376043 L 186.394121 108.657596 L 186.679902 115.997872 L 186.965683 123.255936 L 187.251465 130.302601 L 187.541161 137.004762 L 187.826942 143.24106 L 188.112724 148.905795 L 188.398505 153.893268 L 188.688201 158.121267 L 188.973983 161.519325 L 189.259764 164.024806 L 189.545546 165.610305 L 189.835242 166.244505 L 190.121023 165.935235 L 190.406805 164.690324 L 190.692586 162.545006 L 190.982282 159.546259 L 191.268064 155.764549 L 191.553845 151.270343 L 191.839626 146.157596 L 192.129323 140.528094 L 192.415104 134.491451 L 192.700885 128.165112 L 192.986667 121.674351 L 193.276363 115.140527 L 193.562144 108.685 L 193.847926 102.429127 L 194.133707 96.49427 L 194.423403 90.982212 L 194.709185 86.002569 L 194.994966 81.641467 L 195.280748 77.981116 L 195.570444 75.080239 L 195.856225 72.993644 L 196.142007 71.760477 L 196.427788 71.392485 L 196.717484 71.897496 L 197.003266 73.267681 L 197.289047 75.467806 L 197.574828 78.458723 L 197.864525 82.181711 L 198.150306 86.566303 L 198.436087 91.534201 L 198.721869 96.991451 L 199.011565 102.836268 L 199.297346 108.962951 L 199.583128 115.261887 L 199.868909 121.619544 L 200.158605 127.918479 L 200.444387 134.049077 L 200.730168 139.901724 L 201.01595 145.370718 L 201.305646 150.362106 L 201.591427 154.78976 L 201.877209 158.575385 L 202.16299 161.652428 L 202.452686 163.973913 L 202.738468 165.496775 L 203.024249 166.201442 L 203.31003 166.080083 L 203.599727 165.132698 L 203.885508 163.382776 L 204.171289 160.869466 L 204.457071 157.63583 L 204.746767 153.744505 L 205.032548 149.265958 L 205.31833 144.29023 L 205.604111 138.903446 L 205.893807 133.203478 L 206.179589 127.299939 L 206.46537 121.2907 L 206.751152 115.29712 L 207.040848 109.41707 L 207.326629 103.760164 L 207.612411 98.428188 L 207.898192 93.522926 L 208.187888 89.122676 L 208.47367 85.313562 L 208.759451 82.162137 L 209.045232 79.727123 L 209.334929 78.047668 L 209.62071 77.155091 L 209.906491 77.068965 L 210.192273 77.785376 L 210.481969 79.300408 L 210.76775 81.574915 L 211.053532 84.581492 L 211.339313 88.253587 L 211.629009 92.532479 L 211.914791 97.343785 L 212.200572 102.59355 L 212.486354 108.191733 L 212.77605 114.032635 L 213.061831 120.018385 L 213.347613 126.035454 L 213.633394 131.974226 L 213.92309 137.729002 L 214.208872 143.194082 L 214.494653 148.267681 L 214.780434 152.859757 L 215.070131 156.880271 L 215.355912 160.25484 L 215.641693 162.924743 L 215.927475 164.835172 L 216.217171 165.946979 L 216.502952 166.24059 L 216.788734 165.704261 L 217.074515 164.34582 L 217.364211 162.184843 L 217.649993 159.256562 L 217.935774 155.615786 L 218.221556 151.321235 L 218.511252 146.447292 L 218.797033 141.083997 L 219.082815 135.321392 L 219.368596 129.26909 L 219.658292 123.028877 L 219.944074 116.718197 L 220.229855 110.446666 L 220.515636 104.335642 L 220.805333 98.490825 L 221.091114 93.02183 L 221.376895 88.034358 L 221.662677 83.614533 L 221.952373 79.848482 L 222.238154 76.806672 L 222.523936 74.547825 L 222.809717 73.115003 L 223.099413 72.539525 L 223.385195 72.833136 L 223.670976 73.995836 L 223.956758 76.004135 L 224.246454 78.826716 L 224.532235 82.40877 L 224.818017 86.691577 L 225.103798 91.592923 L 225.393494 97.026685 L 225.679276 102.887161 L 225.965057 109.068651 L 226.250838 115.449798 L 226.540535 121.91707 L 226.826316 128.345194 L 227.112097 134.604981 L 227.397879 140.586816 L 227.687575 146.165426 L 227.973356 151.239024 L 228.259138 155.701912 L 228.544919 159.467962 L 228.834615 162.45888 L 229.120397 164.612028 L 229.406178 165.880427 L 229.69196 166.236675 L 229.981656 165.665112 L 230.267437 164.169654 L 230.553219 161.773788 L 230.839 158.516663 L 231.128696 154.453086 L 231.414478 149.661354 L 231.700259 144.215848 L 231.98604 138.226184 L 232.275737 131.801974 L 232.561518 125.05675 L 232.847299 118.119701 L 233.133081 111.120014 L 233.422777 104.194708 L 233.708558 97.469059 L 233.99434 91.076168 L 234.280121 85.137396 L 234.569817 79.770186 L 234.855599 75.07241 L 235.14138 71.141937 L 235.427162 68.049234 L 235.716858 65.864768 L 236.002639 64.627687 L 236.288421 64.365394 \" transform=\"matrix(0.997812,0,0,-0.997812,48.939398,194.701157)\"/>\n",
       "</g>\n",
       "<g style=\"fill:rgb(0%,0%,0%);fill-opacity:1;\">\n",
       "  <use xlink:href=\"#glyph-1606366588244596-1-1\" x=\"158.748663\" y=\"219.598575\"/>\n",
       "  <use xlink:href=\"#glyph-1606366588244596-1-2\" x=\"165.276815\" y=\"219.598575\"/>\n",
       "  <use xlink:href=\"#glyph-1606366588244596-1-3\" x=\"168.24018\" y=\"219.598575\"/>\n",
       "  <use xlink:href=\"#glyph-1606366588244596-1-4\" x=\"176.878773\" y=\"219.598575\"/>\n",
       "</g>\n",
       "<g style=\"fill:rgb(0%,0%,0%);fill-opacity:1;\">\n",
       "  <use xlink:href=\"#glyph-1606366588244596-2-1\" x=\"11.231066\" y=\"149.77465\"/>\n",
       "  <use xlink:href=\"#glyph-1606366588244596-2-2\" x=\"11.231066\" y=\"143.683895\"/>\n",
       "  <use xlink:href=\"#glyph-1606366588244596-2-3\" x=\"11.231066\" y=\"138.325781\"/>\n",
       "</g>\n",
       "<g style=\"fill:rgb(0%,0%,0%);fill-opacity:1;\">\n",
       "  <use xlink:href=\"#glyph-1606366588244596-2-4\" x=\"11.231066\" y=\"132.574009\"/>\n",
       "</g>\n",
       "<g style=\"fill:rgb(0%,0%,0%);fill-opacity:1;\">\n",
       "  <use xlink:href=\"#glyph-1606366588244596-2-5\" x=\"11.231066\" y=\"127.609552\"/>\n",
       "  <use xlink:href=\"#glyph-1606366588244596-2-6\" x=\"11.231066\" y=\"122.929403\"/>\n",
       "  <use xlink:href=\"#glyph-1606366588244596-2-7\" x=\"11.231066\" y=\"119.473966\"/>\n",
       "  <use xlink:href=\"#glyph-1606366588244596-2-6\" x=\"11.231066\" y=\"114.476704\"/>\n",
       "  <use xlink:href=\"#glyph-1606366588244596-2-8\" x=\"11.231066\" y=\"111.021267\"/>\n",
       "  <use xlink:href=\"#glyph-1606366588244596-2-9\" x=\"11.231066\" y=\"108.057902\"/>\n",
       "  <use xlink:href=\"#glyph-1606366588244596-2-10\" x=\"11.231066\" y=\"102.546698\"/>\n",
       "</g>\n",
       "<g style=\"fill:rgb(0%,0%,0%);fill-opacity:1;\">\n",
       "  <use xlink:href=\"#glyph-1606366588244596-2-11\" x=\"11.231066\" y=\"93.886236\"/>\n",
       "</g>\n",
       "<g style=\"fill:rgb(0%,0%,0%);fill-opacity:1;\">\n",
       "  <use xlink:href=\"#glyph-1606366588244596-2-7\" x=\"11.231066\" y=\"87.412759\"/>\n",
       "  <use xlink:href=\"#glyph-1606366588244596-2-12\" x=\"11.231066\" y=\"82.415497\"/>\n",
       "  <use xlink:href=\"#glyph-1606366588244596-2-13\" x=\"11.231066\" y=\"79.528676\"/>\n",
       "  <use xlink:href=\"#glyph-1606366588244596-2-4\" x=\"11.231066\" y=\"73.72223\"/>\n",
       "</g>\n",
       "<g style=\"fill:rgb(0%,0%,0%);fill-opacity:1;\">\n",
       "  <use xlink:href=\"#glyph-1606366588244596-3-1\" x=\"133.465092\" y=\"11.639483\"/>\n",
       "</g>\n",
       "<g style=\"fill:rgb(0%,0%,0%);fill-opacity:1;\">\n",
       "  <use xlink:href=\"#glyph-1606366588244596-3-2\" x=\"141.99434\" y=\"11.639483\"/>\n",
       "  <use xlink:href=\"#glyph-1606366588244596-3-3\" x=\"146.646657\" y=\"11.639483\"/>\n",
       "  <use xlink:href=\"#glyph-1606366588244596-3-4\" x=\"152.837818\" y=\"11.639483\"/>\n",
       "  <use xlink:href=\"#glyph-1606366588244596-3-5\" x=\"156.070582\" y=\"11.639483\"/>\n",
       "  <use xlink:href=\"#glyph-1606366588244596-3-2\" x=\"162.53611\" y=\"11.639483\"/>\n",
       "  <use xlink:href=\"#glyph-1606366588244596-3-6\" x=\"167.188427\" y=\"11.639483\"/>\n",
       "</g>\n",
       "<g style=\"fill:rgb(0%,0%,0%);fill-opacity:1;\">\n",
       "  <use xlink:href=\"#glyph-1606366588244596-0-8\" x=\"172.795868\" y=\"11.639483\"/>\n",
       "</g>\n",
       "<g style=\"fill:rgb(0%,0%,0%);fill-opacity:1;\">\n",
       "  <use xlink:href=\"#glyph-1606366588244596-0-9\" x=\"182.279437\" y=\"11.639483\"/>\n",
       "</g>\n",
       "<g style=\"fill:rgb(0%,0%,0%);fill-opacity:1;\">\n",
       "  <use xlink:href=\"#glyph-1606366588244596-0-1\" x=\"193.325708\" y=\"11.639483\"/>\n",
       "  <use xlink:href=\"#glyph-1606366588244596-0-5\" x=\"198.872701\" y=\"11.639483\"/>\n",
       "  <use xlink:href=\"#glyph-1606366588244596-0-2\" x=\"201.497085\" y=\"11.639483\"/>\n",
       "</g>\n",
       "<path style=\"fill-rule:nonzero;fill:rgb(100%,100%,100%);fill-opacity:0.9;stroke-width:0.99628;stroke-linecap:butt;stroke-linejoin:miter;stroke:rgb(13.331604%,13.331604%,33.332825%);stroke-opacity:0.1;stroke-miterlimit:10;\" d=\"M 180.839 149.802288 L 237.807368 149.802288 L 237.807368 167.246697 L 180.839 167.246697 Z M 180.839 149.802288 \" transform=\"matrix(0.997812,0,0,-0.997812,48.939398,194.701157)\"/>\n",
       "<path style=\"fill:none;stroke-width:1.19553;stroke-linecap:butt;stroke-linejoin:miter;stroke:rgb(93.331909%,46.665955%,19.999695%);stroke-opacity:1;stroke-miterlimit:10;\" d=\"M -0.000945506 -0.00142249 L 17.00892 -0.00142249 \" transform=\"matrix(0.997812,0,0,-0.997812,232.957975,36.525924)\"/>\n",
       "<g style=\"fill:rgb(13.331604%,13.331604%,33.332825%);fill-opacity:1;\">\n",
       "  <use xlink:href=\"#glyph-1606366588244596-4-1\" x=\"252.514102\" y=\"39.76183\"/>\n",
       "  <use xlink:href=\"#glyph-1606366588244596-4-2\" x=\"258.442824\" y=\"39.76183\"/>\n",
       "  <use xlink:href=\"#glyph-1606366588244596-4-3\" x=\"263.894385\" y=\"39.76183\"/>\n",
       "</g>\n",
       "<g style=\"fill:rgb(13.331604%,13.331604%,33.332825%);fill-opacity:1;\">\n",
       "  <use xlink:href=\"#glyph-1606366588244596-0-10\" x=\"270.320066\" y=\"39.76183\"/>\n",
       "</g>\n",
       "<g style=\"fill:rgb(13.331604%,13.331604%,33.332825%);fill-opacity:1;\">\n",
       "  <use xlink:href=\"#glyph-1606366588244596-5-1\" x=\"277.083239\" y=\"35.288637\"/>\n",
       "</g>\n",
       "<g style=\"fill:rgb(13.331604%,13.331604%,33.332825%);fill-opacity:1;\">\n",
       "  <use xlink:href=\"#glyph-1606366588244596-5-2\" x=\"275.890853\" y=\"42.26634\"/>\n",
       "</g>\n",
       "</g>\n",
       "</svg>\n",
       "\n"
      ]
     },
     "execution_count": 540,
     "metadata": {},
     "output_type": "execute_result"
    }
   ],
   "source": [
    "plot(xlabel=\"Time\", ylabel=\"Expectation Value\")\n",
    "plot!(ts, hcat(fouts...)',\n",
    "    title = latexstring(\"$N spins, \\$\\\\lambda = $λ\\$\"),\n",
    "    label = [\n",
    "        L\"\\mathop{\\mathrm{var}} \\pauli_1^x\"\n",
    "        ])"
   ]
  },
  {
   "cell_type": "markdown",
   "metadata": {},
   "source": [
    "Now we consider the open system. "
   ]
  },
  {
   "cell_type": "code",
   "execution_count": 541,
   "metadata": {},
   "outputs": [],
   "source": [
    "nB(ω, β) = 1 / (exp(β*ω) - 1)\n",
    "coupling(ω, Ω) = ω / (1 + (ω / Ω)^2)\n",
    "γ(ω, β=1, Ω=1) = coupling(ω, Ω)^2 * (nB(ω, β) + 1)\n",
    "jumpoperators = typeof(first(Aωs(1)).second)[]\n",
    "γs = Float64[]\n",
    "for i in 1:N, (ω, L) in Aωs(i)\n",
    "    push!(jumpoperators, L)\n",
    "    push!(γs, γ(ω))\n",
    "end"
   ]
  },
  {
   "cell_type": "code",
   "execution_count": 552,
   "metadata": {},
   "outputs": [
    {
     "name": "stderr",
     "output_type": "stream",
     "text": [
      "\u001b[32mProgress: 100%|█████████████████████████████████████████| Time: 0:00:00\u001b[39m\n"
     ]
    }
   ],
   "source": [
    "function fout(t, ρ)\n",
    "    next!(progress)\n",
    "    real([\n",
    "            variance(sxmb(1), ρ)\n",
    "            ])\n",
    "end\n",
    "progress = Progress(length(ts));\n",
    "ts, fouts = timeevolution.mcwf(ts, ψs, Hmb, jumpoperators, rates=γs, fout=fout);"
   ]
  },
  {
   "cell_type": "code",
   "execution_count": 553,
   "metadata": {
    "ExecuteTime": {
     "end_time": "2020-11-20T21:54:13.178000-08:00",
     "start_time": "2020-11-21T05:54:08.577Z"
    },
    "caption": "Open Ising time evolution.",
    "code_folding": [],
    "label": "fig:ising-2",
    "scrolled": true,
    "widefigure": false
   },
   "outputs": [
    {
     "data": {
      "image/svg+xml": [
       "<?xml version=\"1.0\" encoding=\"UTF-8\"?>\n",
       "<svg xmlns=\"http://www.w3.org/2000/svg\" xmlns:xlink=\"http://www.w3.org/1999/xlink\" width=\"282.809pt\" height=\"223.515pt\" viewBox=\"0 0 282.809 223.515\" version=\"1.2\">\n",
       "<defs>\n",
       "<g>\n",
       "<symbol overflow=\"visible\" id=\"glyph-1606366588244597-0-0\">\n",
       "<path style=\"stroke:none;\" d=\"M 0 0 L 5.96875 0 L 5.96875 -8.328125 L 0 -8.328125 Z M 0.953125 -0.59375 L 2.984375 -3.625 L 5 -0.59375 Z M 0.59375 -7.1875 L 2.625 -4.15625 L 0.59375 -1.125 Z M 3.34375 -4.15625 L 5.359375 -7.1875 L 5.359375 -1.125 Z M 2.984375 -4.703125 L 0.953125 -7.71875 L 5 -7.71875 Z M 2.984375 -4.703125 \"/>\n",
       "</symbol>\n",
       "<symbol overflow=\"visible\" id=\"glyph-1606366588244597-0-1\">\n",
       "<path style=\"stroke:none;\" d=\"M 2.71875 0.125 C 3.640625 0.125 5.03125 -0.8125 5.03125 -3.609375 C 5.03125 -4.796875 4.75 -5.8125 4.21875 -6.5 C 3.90625 -6.921875 3.40625 -7.265625 2.765625 -7.265625 C 1.578125 -7.265625 0.46875 -5.859375 0.46875 -3.5 C 0.46875 -2.234375 0.859375 -1.03125 1.515625 -0.375 C 1.84375 -0.046875 2.25 0.125 2.71875 0.125 Z M 2.765625 -6.859375 C 2.96875 -6.859375 3.15625 -6.78125 3.296875 -6.65625 C 3.671875 -6.34375 4 -5.4375 4 -3.84375 C 4 -2.734375 3.953125 -1.984375 3.796875 -1.390625 C 3.53125 -0.40625 2.9375 -0.296875 2.734375 -0.296875 C 1.625 -0.296875 1.5 -2.34375 1.5 -3.375 C 1.5 -6.3125 2.234375 -6.859375 2.765625 -6.859375 Z M 2.765625 -6.859375 \"/>\n",
       "</symbol>\n",
       "<symbol overflow=\"visible\" id=\"glyph-1606366588244597-0-2\">\n",
       "<path style=\"stroke:none;\" d=\"M 3.796875 -2.25 C 3.796875 -1.125 3.203125 -0.28125 2.484375 -0.28125 C 2.03125 -0.28125 1.890625 -0.578125 1.703125 -0.828125 C 1.546875 -1.03125 1.34375 -1.203125 1.09375 -1.203125 C 0.875 -1.203125 0.640625 -1 0.640625 -0.765625 C 0.640625 -0.28125 1.65625 0.125 2.34375 0.125 C 3.8125 0.125 4.859375 -0.96875 4.859375 -2.46875 C 4.859375 -3.625 4.0625 -4.65625 2.734375 -4.65625 C 2.21875 -4.65625 1.78125 -4.546875 1.5625 -4.46875 L 1.796875 -6.46875 C 2.234375 -6.40625 2.625 -6.359375 3.1875 -6.359375 C 3.546875 -6.359375 3.953125 -6.375 4.453125 -6.421875 L 4.640625 -7.234375 L 4.546875 -7.28125 C 3.875 -7.21875 3.234375 -7.15625 2.59375 -7.15625 C 2.15625 -7.15625 1.734375 -7.171875 1.3125 -7.21875 L 0.90625 -3.78125 C 1.53125 -4.015625 1.984375 -4.0625 2.421875 -4.0625 C 3.1875 -4.0625 3.796875 -3.546875 3.796875 -2.25 Z M 3.796875 -2.25 \"/>\n",
       "</symbol>\n",
       "<symbol overflow=\"visible\" id=\"glyph-1606366588244597-0-3\">\n",
       "<path style=\"stroke:none;\" d=\"M 3.4375 -1.453125 L 3.4375 -5.59375 C 3.4375 -6.3125 3.453125 -7.03125 3.46875 -7.1875 C 3.46875 -7.25 3.453125 -7.25 3.390625 -7.25 C 2.734375 -6.84375 2.109375 -6.546875 1.0625 -6.0625 C 1.078125 -5.921875 1.125 -5.8125 1.234375 -5.734375 C 1.78125 -5.96875 2.046875 -6.03125 2.28125 -6.03125 C 2.484375 -6.03125 2.515625 -5.75 2.515625 -5.34375 L 2.515625 -1.453125 C 2.515625 -0.46875 2.1875 -0.40625 1.359375 -0.375 C 1.28125 -0.296875 1.28125 -0.046875 1.359375 0.03125 C 1.9375 0.015625 2.375 0 3.015625 0 C 3.59375 0 3.875 0.015625 4.46875 0.03125 C 4.546875 -0.046875 4.546875 -0.296875 4.46875 -0.375 C 3.640625 -0.40625 3.4375 -0.46875 3.4375 -1.453125 Z M 3.4375 -1.453125 \"/>\n",
       "</symbol>\n",
       "<symbol overflow=\"visible\" id=\"glyph-1606366588244597-0-4\">\n",
       "<path style=\"stroke:none;\" d=\"M 0.734375 -5.578125 C 0.734375 -5.328125 0.953125 -5.109375 1.203125 -5.109375 C 1.40625 -5.109375 1.765625 -5.328125 1.765625 -5.59375 C 1.765625 -5.6875 1.734375 -5.765625 1.71875 -5.84375 C 1.6875 -5.921875 1.625 -6.03125 1.625 -6.125 C 1.625 -6.421875 1.9375 -6.859375 2.796875 -6.859375 C 3.234375 -6.859375 3.84375 -6.5625 3.84375 -5.40625 C 3.84375 -4.65625 3.5625 -4.03125 2.859375 -3.3125 L 1.984375 -2.4375 C 0.8125 -1.25 0.625 -0.671875 0.625 0.03125 C 0.625 0.03125 1.234375 0 1.609375 0 L 3.703125 0 C 4.078125 0 4.625 0.03125 4.625 0.03125 C 4.78125 -0.609375 4.90625 -1.5 4.90625 -1.859375 C 4.84375 -1.921875 4.6875 -1.9375 4.5625 -1.921875 C 4.359375 -1.078125 4.15625 -0.78125 3.734375 -0.78125 L 1.609375 -0.78125 C 1.609375 -1.34375 2.4375 -2.15625 2.484375 -2.21875 L 3.703125 -3.375 C 4.375 -4.03125 4.890625 -4.546875 4.890625 -5.453125 C 4.890625 -6.75 3.84375 -7.265625 2.875 -7.265625 C 1.546875 -7.265625 0.734375 -6.296875 0.734375 -5.578125 Z M 0.734375 -5.578125 \"/>\n",
       "</symbol>\n",
       "<symbol overflow=\"visible\" id=\"glyph-1606366588244597-0-5\">\n",
       "<path style=\"stroke:none;\" d=\"M 0.671875 -0.515625 C 0.671875 -0.171875 0.96875 0.125 1.3125 0.125 C 1.65625 0.125 1.9375 -0.171875 1.9375 -0.515625 C 1.9375 -0.859375 1.65625 -1.140625 1.3125 -1.140625 C 0.96875 -1.140625 0.671875 -0.859375 0.671875 -0.515625 Z M 0.671875 -0.515625 \"/>\n",
       "</symbol>\n",
       "<symbol overflow=\"visible\" id=\"glyph-1606366588244597-0-6\">\n",
       "<path style=\"stroke:none;\" d=\"M 5.125 -2.609375 L 4.140625 -2.609375 L 4.140625 -6.09375 C 4.140625 -6.6875 4.140625 -7.15625 4.15625 -7.25 L 4.140625 -7.265625 L 3.75 -7.265625 C 3.671875 -7.265625 3.609375 -7.203125 3.5625 -7.140625 C 2.8125 -6.21875 1.4375 -4.25 0.328125 -2.546875 C 0.375 -2.375 0.4375 -2.046875 0.796875 -2.046875 L 3.234375 -2.046875 L 3.234375 -0.953125 C 3.234375 -0.40625 2.78125 -0.40625 2.265625 -0.375 C 2.1875 -0.296875 2.1875 -0.046875 2.265625 0.03125 C 2.640625 0.015625 3.125 0 3.671875 0 C 4.140625 0 4.59375 0.015625 4.96875 0.03125 C 5.046875 -0.046875 5.046875 -0.296875 4.96875 -0.375 C 4.390625 -0.421875 4.140625 -0.390625 4.140625 -0.953125 L 4.140625 -2.046875 L 4.953125 -2.046875 C 5.125 -2.046875 5.3125 -2.28125 5.3125 -2.421875 C 5.3125 -2.546875 5.25 -2.609375 5.125 -2.609375 Z M 3.234375 -6.046875 L 3.234375 -2.609375 L 0.953125 -2.609375 C 1.5625 -3.59375 2.40625 -4.921875 3.234375 -6.046875 Z M 3.234375 -6.046875 \"/>\n",
       "</symbol>\n",
       "<symbol overflow=\"visible\" id=\"glyph-1606366588244597-0-7\">\n",
       "<path style=\"stroke:none;\" d=\"M 1.71875 -4.09375 C 2.03125 -5.171875 2.796875 -6.375 4.390625 -6.96875 C 4.390625 -7.125 4.34375 -7.21875 4.25 -7.28125 C 3.046875 -6.921875 2.296875 -6.421875 1.640625 -5.65625 C 0.890625 -4.796875 0.53125 -3.703125 0.53125 -2.765625 C 0.53125 -0.34375 1.890625 0.125 2.8125 0.125 C 4.375 0.125 5.015625 -1.390625 5.015625 -2.40625 C 5.015625 -3.4375 4.46875 -4.34375 2.84375 -4.34375 C 2.546875 -4.34375 2.078125 -4.25 1.71875 -4.09375 Z M 1.609375 -3.65625 C 2 -3.921875 2.390625 -3.9375 2.59375 -3.9375 C 3.765625 -3.9375 4.03125 -2.796875 4.03125 -2.1875 C 4.03125 -0.875 3.53125 -0.28125 2.9375 -0.28125 C 2.1875 -0.28125 1.515625 -0.6875 1.515625 -2.734375 C 1.515625 -3 1.53125 -3.3125 1.609375 -3.65625 Z M 1.609375 -3.65625 \"/>\n",
       "</symbol>\n",
       "<symbol overflow=\"visible\" id=\"glyph-1606366588244597-0-8\">\n",
       "<path style=\"stroke:none;\" d=\"M 4.6875 -5.78125 C 4.6875 -6.640625 4.015625 -7.265625 2.84375 -7.265625 C 1.640625 -7.265625 0.84375 -6.546875 0.84375 -5.625 C 0.84375 -4.953125 1.171875 -4.46875 1.890625 -4.015625 L 2.203125 -3.828125 C 1.859375 -3.640625 1.53125 -3.4375 1.234375 -3.171875 C 0.75 -2.734375 0.546875 -2.203125 0.546875 -1.734375 C 0.546875 -0.53125 1.40625 0.125 2.671875 0.125 C 4.234375 0.125 5 -1.03125 5 -1.9375 C 5 -2.625 4.703125 -3.234375 4.0625 -3.609375 L 3.21875 -4.125 C 3.78125 -4.40625 4.6875 -5.015625 4.6875 -5.78125 Z M 2.6875 -0.296875 C 2.15625 -0.296875 1.34375 -0.671875 1.34375 -1.734375 C 1.34375 -2.09375 1.5 -2.9375 2.53125 -3.609375 L 3.09375 -3.28125 C 3.828125 -2.828125 4.125 -2.265625 4.125 -1.6875 C 4.125 -0.5 3.234375 -0.296875 2.6875 -0.296875 Z M 2.796875 -6.859375 C 3.5625 -6.859375 3.84375 -6.34375 3.84375 -5.796875 C 3.84375 -5.15625 3.21875 -4.609375 2.890625 -4.375 L 2.53125 -4.609375 C 1.78125 -5.09375 1.6875 -5.484375 1.6875 -5.859375 C 1.6875 -6.40625 2.078125 -6.859375 2.796875 -6.859375 Z M 2.796875 -6.859375 \"/>\n",
       "</symbol>\n",
       "<symbol overflow=\"visible\" id=\"glyph-1606366588244597-0-9\">\n",
       "<path style=\"stroke:none;\" d=\"M 5.9375 -0.71875 L 5.734375 -0.921875 C 5.421875 -0.609375 5.25 -0.578125 5.015625 -0.578125 C 4.671875 -0.578125 4.640625 -0.984375 4.546875 -2.546875 L 4.34375 -6.78125 C 4.296875 -8.1875 3.703125 -8.328125 3.375 -8.328125 C 2.9375 -8.328125 2.484375 -7.953125 2.09375 -7.5 L 2.234375 -7.296875 C 2.5 -7.46875 2.8125 -7.59375 3.09375 -7.59375 C 3.40625 -7.59375 3.78125 -7.34375 3.859375 -5.703125 L 3.890625 -5.1875 L 0.234375 0 L 0.484375 0.140625 C 0.734375 0.046875 1.03125 0.015625 1.34375 0 L 3.921875 -4.328125 L 4.0625 -1.5 C 4.109375 -0.390625 4.25 0.140625 4.8125 0.140625 C 5.140625 0.140625 5.625 -0.25 5.9375 -0.71875 Z M 5.9375 -0.71875 \"/>\n",
       "</symbol>\n",
       "<symbol overflow=\"visible\" id=\"glyph-1606366588244597-0-10\">\n",
       "<path style=\"stroke:none;\" d=\"M 0.703125 -2.203125 C 0.5625 -2.0625 0.5625 -1.75 0.703125 -1.609375 L 7.015625 -1.609375 C 7.171875 -1.75 7.171875 -2.0625 7.015625 -2.203125 Z M 0.703125 -4.59375 C 0.5625 -4.453125 0.5625 -4.140625 0.703125 -4 L 7.015625 -4 C 7.171875 -4.140625 7.171875 -4.453125 7.015625 -4.59375 Z M 0.703125 -4.59375 \"/>\n",
       "</symbol>\n",
       "<symbol overflow=\"visible\" id=\"glyph-1606366588244597-0-11\">\n",
       "<path style=\"stroke:none;\" d=\"M 0.234375 -1.671875 C 0.234375 -0.578125 0.890625 0.140625 2.140625 0.140625 C 3.875 0.140625 4.875 -1.421875 4.875 -2.65625 C 4.875 -3.421875 4.53125 -4 4.078125 -4.296875 L 5.5625 -4.296875 C 5.984375 -4.296875 6.21875 -4.5625 6.515625 -4.96875 L 6.421875 -5.109375 L 3.75 -5.109375 C 1.140625 -5.109375 0.234375 -2.9375 0.234375 -1.671875 Z M 3.515625 -4.296875 C 3.875 -3.875 4.09375 -3.46875 4.09375 -2.875 C 4.09375 -1.703125 3.375 -0.265625 2.296875 -0.265625 C 1.390625 -0.265625 1.0625 -1.015625 1.0625 -1.734375 C 1.0625 -2.4375 1.53125 -4.296875 3.515625 -4.296875 Z M 3.515625 -4.296875 \"/>\n",
       "</symbol>\n",
       "<symbol overflow=\"visible\" id=\"glyph-1606366588244597-1-0\">\n",
       "<path style=\"stroke:none;\" d=\"M 0 0 L 5.46875 0 L 5.46875 -7.640625 L 0 -7.640625 Z M 0.875 -0.546875 L 2.734375 -3.328125 L 4.59375 -0.546875 Z M 0.546875 -6.59375 L 2.40625 -3.8125 L 0.546875 -1.03125 Z M 3.0625 -3.8125 L 4.921875 -6.59375 L 4.921875 -1.03125 Z M 2.734375 -4.3125 L 0.875 -7.078125 L 4.59375 -7.078125 Z M 2.734375 -4.3125 \"/>\n",
       "</symbol>\n",
       "<symbol overflow=\"visible\" id=\"glyph-1606366588244597-1-1\">\n",
       "<path style=\"stroke:none;\" d=\"M 3.828125 -1.328125 L 3.828125 -5.515625 C 3.828125 -6.21875 3.9375 -6.625 4.328125 -6.625 L 4.578125 -6.625 C 5.390625 -6.625 5.90625 -6.34375 6.09375 -5.5 C 6.21875 -5.5 6.359375 -5.515625 6.46875 -5.5625 C 6.390625 -6.0625 6.328125 -6.609375 6.328125 -7.109375 C 6.328125 -7.125 6.296875 -7.140625 6.28125 -7.140625 C 5.921875 -7.109375 4.703125 -7.046875 3.84375 -7.046875 L 2.890625 -7.046875 C 2.0625 -7.046875 0.765625 -7.109375 0.34375 -7.140625 C 0.328125 -7.140625 0.3125 -7.125 0.3125 -7.109375 C 0.265625 -6.609375 0.15625 -6.046875 0.03125 -5.515625 C 0.140625 -5.484375 0.265625 -5.46875 0.40625 -5.46875 C 0.625 -6.34375 1.125 -6.625 1.84375 -6.625 L 2.390625 -6.625 C 2.78125 -6.625 2.890625 -6.21875 2.890625 -5.546875 L 2.890625 -1.328125 C 2.890625 -0.421875 2.71875 -0.375 1.84375 -0.34375 C 1.765625 -0.265625 1.765625 -0.046875 1.84375 0.015625 C 2.375 0.015625 2.9375 0 3.375 0 C 3.78125 0 4.34375 0.015625 4.890625 0.015625 C 4.953125 -0.046875 4.953125 -0.265625 4.890625 -0.34375 C 4.015625 -0.375 3.828125 -0.421875 3.828125 -1.328125 Z M 3.828125 -1.328125 \"/>\n",
       "</symbol>\n",
       "<symbol overflow=\"visible\" id=\"glyph-1606366588244597-1-2\">\n",
       "<path style=\"stroke:none;\" d=\"M 1.984375 -1.328125 L 1.984375 -3.515625 C 1.984375 -4.0625 2.015625 -4.75 2.015625 -4.75 C 2.015625 -4.796875 1.96875 -4.828125 1.875 -4.828125 C 1.578125 -4.71875 1.140625 -4.609375 0.375 -4.515625 C 0.359375 -4.453125 0.375 -4.28125 0.40625 -4.203125 C 1 -4.15625 1.109375 -4.09375 1.109375 -3.46875 L 1.109375 -1.328125 C 1.109375 -0.421875 1 -0.390625 0.328125 -0.34375 C 0.265625 -0.265625 0.265625 -0.046875 0.328125 0.015625 C 0.6875 0.015625 1.109375 0 1.546875 0 C 1.984375 0 2.40625 0.015625 2.765625 0.015625 C 2.828125 -0.046875 2.828125 -0.265625 2.765625 -0.34375 C 2.09375 -0.375 1.984375 -0.421875 1.984375 -1.328125 Z M 0.984375 -6.546875 C 0.984375 -6.265625 1.25 -5.984375 1.515625 -5.984375 C 1.8125 -5.984375 2.078125 -6.28125 2.078125 -6.5 C 2.078125 -6.765625 1.84375 -7.078125 1.546875 -7.078125 C 1.296875 -7.078125 0.984375 -6.8125 0.984375 -6.546875 Z M 0.984375 -6.546875 \"/>\n",
       "</symbol>\n",
       "<symbol overflow=\"visible\" id=\"glyph-1606366588244597-1-3\">\n",
       "<path style=\"stroke:none;\" d=\"M 1.859375 -3.921875 C 1.84375 -4.25 1.828125 -4.640625 1.765625 -4.75 C 1.75 -4.796875 1.734375 -4.828125 1.640625 -4.828125 C 1.328125 -4.71875 1.046875 -4.609375 0.296875 -4.515625 C 0.265625 -4.453125 0.296875 -4.28125 0.3125 -4.203125 C 0.90625 -4.15625 1.03125 -4.09375 1.03125 -3.46875 L 1.03125 -1.328125 C 1.03125 -0.4375 0.890625 -0.375 0.28125 -0.34375 C 0.21875 -0.265625 0.21875 -0.046875 0.28125 0.015625 C 0.609375 0.015625 1.03125 0 1.46875 0 C 1.90625 0 2.234375 0.015625 2.5625 0.015625 C 2.640625 -0.046875 2.640625 -0.265625 2.5625 -0.34375 C 2.015625 -0.390625 1.890625 -0.4375 1.890625 -1.328125 L 1.890625 -3.125 C 1.890625 -3.359375 1.984375 -3.484375 2.078125 -3.59375 C 2.515625 -4.015625 2.921875 -4.234375 3.265625 -4.234375 C 3.671875 -4.234375 3.984375 -3.96875 3.984375 -3.234375 L 3.984375 -1.328125 C 3.984375 -0.4375 3.890625 -0.375 3.296875 -0.34375 C 3.25 -0.265625 3.25 -0.046875 3.296875 0.015625 C 3.578125 0.015625 3.984375 0 4.421875 0 C 4.859375 0 5.21875 0.015625 5.484375 0.015625 C 5.546875 -0.046875 5.546875 -0.265625 5.484375 -0.34375 C 4.9375 -0.375 4.84375 -0.4375 4.84375 -1.328125 L 4.84375 -3.078125 C 4.84375 -3.21875 4.84375 -3.375 4.828125 -3.515625 C 5.359375 -4.09375 5.84375 -4.234375 6.28125 -4.234375 C 6.6875 -4.234375 6.9375 -3.984375 6.9375 -3.265625 L 6.9375 -1.328125 C 6.9375 -0.4375 6.828125 -0.375 6.25 -0.34375 C 6.203125 -0.265625 6.203125 -0.046875 6.25 0.015625 C 6.53125 0.015625 6.9375 0 7.375 0 C 7.8125 0 8.1875 0.015625 8.5 0.015625 C 8.546875 -0.046875 8.546875 -0.265625 8.5 -0.34375 C 7.890625 -0.375 7.796875 -0.4375 7.796875 -1.328125 L 7.796875 -3.0625 C 7.796875 -4.03125 7.640625 -4.796875 6.671875 -4.796875 C 6.109375 -4.796875 5.4375 -4.59375 4.859375 -3.984375 C 4.828125 -3.953125 4.765625 -3.90625 4.75 -4 C 4.640625 -4.453125 4.21875 -4.796875 3.65625 -4.796875 C 3.015625 -4.796875 2.453125 -4.421875 1.984375 -3.921875 C 1.9375 -3.859375 1.875 -3.78125 1.859375 -3.921875 Z M 1.859375 -3.921875 \"/>\n",
       "</symbol>\n",
       "<symbol overflow=\"visible\" id=\"glyph-1606366588244597-1-4\">\n",
       "<path style=\"stroke:none;\" d=\"M 4.21875 -1.015625 C 3.8125 -0.59375 3.5 -0.421875 2.859375 -0.421875 C 2.46875 -0.421875 2.015625 -0.65625 1.671875 -1.21875 C 1.453125 -1.578125 1.328125 -2.078125 1.328125 -2.71875 L 4.234375 -2.6875 C 4.359375 -2.6875 4.4375 -2.75 4.4375 -2.875 C 4.4375 -3.796875 4.109375 -4.78125 2.59375 -4.78125 C 1.640625 -4.78125 0.40625 -3.875 0.40625 -2.203125 C 0.40625 -1.59375 0.5625 -1 0.921875 -0.59375 C 1.296875 -0.15625 1.796875 0.109375 2.59375 0.109375 C 3.421875 0.109375 4.015625 -0.265625 4.453125 -0.84375 C 4.421875 -0.953125 4.359375 -1 4.21875 -1.015625 Z M 1.359375 -3.078125 C 1.5625 -4.3125 2.328125 -4.421875 2.59375 -4.421875 C 3 -4.421875 3.5 -4.1875 3.5 -3.265625 C 3.5 -3.171875 3.453125 -3.109375 3.328125 -3.109375 Z M 1.359375 -3.078125 \"/>\n",
       "</symbol>\n",
       "<symbol overflow=\"visible\" id=\"glyph-1606366588244597-2-0\">\n",
       "<path style=\"stroke:none;\" d=\"M 0 0 L 0 -5.46875 L -7.640625 -5.46875 L -7.640625 0 Z M -0.546875 -0.875 L -3.328125 -2.734375 L -0.546875 -4.59375 Z M -6.59375 -0.546875 L -3.8125 -2.40625 L -1.03125 -0.546875 Z M -3.8125 -3.0625 L -6.59375 -4.921875 L -1.03125 -4.921875 Z M -4.3125 -2.734375 L -7.078125 -0.875 L -7.078125 -4.59375 Z M -4.3125 -2.734375 \"/>\n",
       "</symbol>\n",
       "<symbol overflow=\"visible\" id=\"glyph-1606366588244597-2-1\">\n",
       "<path style=\"stroke:none;\" d=\"M -3.953125 -3.078125 L -3.953125 -2.078125 L -5.921875 -2.078125 C -6.390625 -2.078125 -6.609375 -2.203125 -6.609375 -2.796875 L -6.609375 -3.625 C -6.609375 -4.4375 -6.171875 -4.609375 -5.421875 -4.859375 C -5.40625 -4.984375 -5.421875 -5.109375 -5.484375 -5.21875 C -5.921875 -5.15625 -6.984375 -5 -7.0625 -4.96875 C -7.09375 -4.96875 -7.09375 -4.96875 -7.09375 -4.9375 C -7.0625 -4.75 -7.046875 -4.65625 -7.046875 -4.390625 L -7.046875 -1.609375 C -7.046875 -1.28125 -7.0625 -0.640625 -7.078125 -0.203125 C -7.015625 -0.125 -6.78125 -0.125 -6.71875 -0.203125 C -6.6875 -0.96875 -6.625 -1.140625 -5.71875 -1.140625 L -1.328125 -1.140625 C -0.421875 -1.140625 -0.375 -0.96875 -0.34375 -0.203125 C -0.265625 -0.125 -0.046875 -0.125 0.015625 -0.203125 C 0.015625 -0.59375 0 -1.25 0 -1.625 L 0 -3.96875 C 0 -4.5 0.015625 -5.375 0.015625 -5.375 C -0.53125 -5.515625 -1.25 -5.6875 -1.796875 -5.78125 C -1.875 -5.671875 -1.890625 -5.53125 -1.859375 -5.390625 C -1.078125 -5.171875 -0.421875 -4.796875 -0.421875 -3.953125 L -0.421875 -2.6875 C -0.421875 -2.234375 -0.59375 -2.078125 -1.109375 -2.078125 L -3.53125 -2.078125 L -3.53125 -3.078125 C -3.53125 -4 -3.28125 -4.03125 -2.78125 -4.0625 C -2.71875 -4.140625 -2.71875 -4.359375 -2.78125 -4.421875 C -3.078125 -4.421875 -3.375 -4.40625 -3.75 -4.40625 C -4.0625 -4.40625 -4.421875 -4.421875 -4.6875 -4.421875 C -4.75 -4.359375 -4.75 -4.140625 -4.6875 -4.0625 C -4.09375 -4.03125 -3.953125 -4 -3.953125 -3.078125 Z M -3.953125 -3.078125 \"/>\n",
       "</symbol>\n",
       "<symbol overflow=\"visible\" id=\"glyph-1606366588244597-2-2\">\n",
       "<path style=\"stroke:none;\" d=\"M -3.921875 -1.984375 C -4.28125 -1.734375 -4.296875 -1.8125 -4.359375 -2.3125 C -4.421875 -2.375 -4.640625 -2.375 -4.71875 -2.3125 C -4.703125 -2.015625 -4.6875 -1.53125 -4.6875 -1.203125 C -4.6875 -0.875 -4.703125 -0.546875 -4.71875 -0.265625 C -4.640625 -0.203125 -4.421875 -0.203125 -4.359375 -0.265625 C -4.3125 -0.640625 -4.140625 -0.9375 -3.6875 -1.25 L -2.296875 -2.203125 C -2.21875 -2.25 -2.1875 -2.25 -2.125 -2.203125 L -0.953125 -1.296875 C -0.390625 -0.859375 -0.359375 -0.609375 -0.34375 -0.234375 C -0.265625 -0.15625 -0.046875 -0.15625 0.015625 -0.234375 C 0.015625 -0.453125 0 -0.6875 0 -1.015625 C 0 -1.34375 0.015625 -1.65625 0.015625 -1.9375 C -0.046875 -2 -0.265625 -2 -0.34375 -1.9375 C -0.375 -1.546875 -0.421875 -1.453125 -0.78125 -1.6875 L -1.765625 -2.390625 C -1.90625 -2.46875 -1.890625 -2.515625 -1.796875 -2.578125 L -0.921875 -3.21875 C -0.390625 -3.59375 -0.375 -3.421875 -0.34375 -3.078125 C -0.265625 -3 -0.046875 -3 0.015625 -3.078125 C 0.015625 -3.40625 0 -3.765625 0 -4.15625 C 0 -4.578125 0.015625 -4.859375 0.015625 -5.125 C -0.046875 -5.1875 -0.265625 -5.1875 -0.34375 -5.125 C -0.375 -4.640625 -0.40625 -4.46875 -1.03125 -4.03125 L -2.421875 -3.046875 C -2.484375 -3 -2.515625 -3 -2.578125 -3.046875 L -3.75 -3.96875 C -4.265625 -4.375 -4.3125 -4.640625 -4.359375 -5.03125 C -4.421875 -5.09375 -4.640625 -5.09375 -4.71875 -5.03125 C -4.703125 -4.8125 -4.6875 -4.5625 -4.6875 -4.234375 C -4.6875 -3.90625 -4.703125 -3.59375 -4.71875 -3.3125 C -4.640625 -3.25 -4.421875 -3.25 -4.359375 -3.3125 C -4.3125 -3.71875 -4.28125 -3.84375 -3.90625 -3.578125 L -2.90625 -2.859375 C -2.796875 -2.78125 -2.8125 -2.75 -2.9375 -2.65625 Z M -3.921875 -1.984375 \"/>\n",
       "</symbol>\n",
       "<symbol overflow=\"visible\" id=\"glyph-1606366588244597-2-3\">\n",
       "<path style=\"stroke:none;\" d=\"M -4.03125 -1.703125 C -4.359375 -1.6875 -4.640625 -1.671875 -4.75 -1.625 C -4.796875 -1.59375 -4.828125 -1.578125 -4.828125 -1.484375 C -4.71875 -1.1875 -4.609375 -0.890625 -4.515625 -0.140625 C -4.453125 -0.125 -4.28125 -0.140625 -4.203125 -0.15625 C -4.15625 -0.75 -4.09375 -0.875 -3.46875 -0.875 L 1.203125 -0.875 C 2.109375 -0.875 2.171875 -0.75 2.203125 -0.09375 C 2.265625 -0.015625 2.5 -0.015625 2.5625 -0.09375 C 2.546875 -0.46875 2.53125 -0.875 2.53125 -1.3125 C 2.53125 -1.75 2.546875 -2.28125 2.5625 -2.640625 C 2.5 -2.703125 2.265625 -2.703125 2.203125 -2.640625 C 2.15625 -1.859375 2.109375 -1.734375 1.203125 -1.734375 L 0.015625 -1.734375 C -0.125 -1.734375 -0.109375 -1.78125 -0.0625 -1.890625 C 0.046875 -2.171875 0.109375 -2.5 0.109375 -2.84375 C 0.109375 -3.453125 -0.078125 -4 -0.5 -4.453125 C -1 -4.96875 -1.6875 -5.265625 -2.5625 -5.265625 C -3.734375 -5.265625 -4.796875 -4.4375 -4.796875 -3.328125 C -4.796875 -2.828125 -4.46875 -2.265625 -3.984375 -1.828125 C -3.921875 -1.765625 -3.921875 -1.71875 -4.03125 -1.703125 Z M -3.625 -1.90625 C -3.96875 -2.203125 -4.296875 -2.703125 -4.296875 -3.015625 C -4.296875 -3.71875 -3.515625 -4.3125 -2.28125 -4.3125 C -1.375 -4.3125 -0.265625 -4 -0.265625 -2.78125 C -0.265625 -2.578125 -0.3125 -2.203125 -0.484375 -2 C -0.6875 -1.78125 -0.75 -1.734375 -1.140625 -1.734375 L -3.140625 -1.734375 C -3.375 -1.734375 -3.46875 -1.78125 -3.625 -1.90625 Z M -3.625 -1.90625 \"/>\n",
       "</symbol>\n",
       "<symbol overflow=\"visible\" id=\"glyph-1606366588244597-2-4\">\n",
       "<path style=\"stroke:none;\" d=\"M -1.015625 -4.21875 C -0.59375 -3.8125 -0.421875 -3.5 -0.421875 -2.859375 C -0.421875 -2.46875 -0.65625 -2.015625 -1.21875 -1.671875 C -1.578125 -1.453125 -2.078125 -1.328125 -2.71875 -1.328125 L -2.6875 -4.234375 C -2.6875 -4.359375 -2.75 -4.4375 -2.875 -4.4375 C -3.796875 -4.4375 -4.78125 -4.109375 -4.78125 -2.59375 C -4.78125 -1.640625 -3.875 -0.40625 -2.203125 -0.40625 C -1.59375 -0.40625 -1 -0.5625 -0.59375 -0.921875 C -0.15625 -1.296875 0.109375 -1.796875 0.109375 -2.59375 C 0.109375 -3.421875 -0.265625 -4.015625 -0.84375 -4.453125 C -0.953125 -4.421875 -1 -4.359375 -1.015625 -4.21875 Z M -3.078125 -1.359375 C -4.3125 -1.5625 -4.421875 -2.328125 -4.421875 -2.59375 C -4.421875 -3 -4.1875 -3.5 -3.265625 -3.5 C -3.171875 -3.5 -3.109375 -3.453125 -3.109375 -3.328125 Z M -3.078125 -1.359375 \"/>\n",
       "</symbol>\n",
       "<symbol overflow=\"visible\" id=\"glyph-1606366588244597-2-5\">\n",
       "<path style=\"stroke:none;\" d=\"M -1 -4.359375 C -1.09375 -4.3125 -1.140625 -4.21875 -1.140625 -4.125 C -0.671875 -3.75 -0.421875 -3.28125 -0.421875 -2.8125 C -0.421875 -2.015625 -1.234375 -1.34375 -2.515625 -1.34375 C -3.71875 -1.34375 -4.4375 -1.875 -4.4375 -2.59375 C -4.4375 -3.234375 -4.0625 -3.328125 -3.671875 -3.375 C -3.375 -3.40625 -3.28125 -3.546875 -3.28125 -3.78125 C -3.28125 -4.015625 -3.421875 -4.3125 -3.765625 -4.3125 C -4.359375 -4.3125 -4.796875 -3.703125 -4.796875 -2.640625 C -4.796875 -1.5625 -3.828125 -0.40625 -2.28125 -0.40625 C -0.859375 -0.40625 0.109375 -1.1875 0.109375 -2.5625 C 0.109375 -3.21875 -0.09375 -3.8125 -1 -4.359375 Z M -1 -4.359375 \"/>\n",
       "</symbol>\n",
       "<symbol overflow=\"visible\" id=\"glyph-1606366588244597-2-6\">\n",
       "<path style=\"stroke:none;\" d=\"M -4.6875 -0.46875 C -4.6875 -0.3125 -4.5625 -0.265625 -4.46875 -0.265625 L -4.328125 -0.265625 C -4.28125 -0.265625 -4.265625 -0.28125 -4.265625 -0.328125 L -4.265625 -0.96875 L -0.96875 -0.96875 C -0.203125 -0.96875 0.109375 -1.3125 0.109375 -1.8125 C 0.109375 -2.3125 -0.125 -2.859375 -0.609375 -3.296875 C -0.71875 -3.265625 -0.78125 -3.203125 -0.796875 -3.09375 C -0.578125 -2.8125 -0.484375 -2.484375 -0.484375 -2.203125 C -0.484375 -1.90625 -0.8125 -1.84375 -1.5 -1.84375 L -4.265625 -1.84375 L -4.265625 -2.96875 C -4.265625 -3.078125 -4.3125 -3.234375 -4.40625 -3.234375 L -4.625 -3.234375 C -4.671875 -3.234375 -4.6875 -3.203125 -4.6875 -3.15625 L -4.6875 -1.84375 L -5.125 -1.84375 C -5.828125 -1.84375 -6.265625 -1.875 -6.265625 -1.875 C -6.328125 -1.875 -6.359375 -1.84375 -6.359375 -1.796875 C -6.359375 -1.75 -6.328125 -1.65625 -6.265625 -1.546875 C -6.203125 -1.4375 -6.140625 -1.328125 -6.109375 -1.1875 C -6.0625 -1.046875 -6.03125 -0.9375 -5.953125 -0.9375 C -5.828125 -0.9375 -5.90625 -0.96875 -4.6875 -0.96875 Z M -4.6875 -0.46875 \"/>\n",
       "</symbol>\n",
       "<symbol overflow=\"visible\" id=\"glyph-1606366588244597-2-7\">\n",
       "<path style=\"stroke:none;\" d=\"M -0.53125 -3.203125 C -0.1875 -3.265625 0.109375 -3.390625 0.109375 -3.9375 C 0.109375 -4.359375 -0.078125 -4.75 -0.296875 -4.96875 C -0.421875 -4.953125 -0.53125 -4.90625 -0.59375 -4.796875 C -0.53125 -4.71875 -0.421875 -4.53125 -0.421875 -4.390625 C -0.421875 -4.0625 -0.84375 -4.0625 -1.34375 -4.0625 L -2.953125 -4.0625 C -4.5 -4.0625 -4.796875 -3.203125 -4.796875 -2.40625 C -4.796875 -1.515625 -4.203125 -0.59375 -3.59375 -0.59375 C -3.328125 -0.59375 -3.1875 -0.734375 -3.1875 -0.984375 C -3.1875 -1.296875 -3.421875 -1.5 -3.5625 -1.5 C -3.640625 -1.5 -3.71875 -1.484375 -3.765625 -1.46875 C -3.796875 -1.453125 -3.859375 -1.4375 -3.984375 -1.4375 C -4.3125 -1.4375 -4.4375 -1.90625 -4.4375 -2.3125 C -4.4375 -2.6875 -4.25 -3.203125 -3.015625 -3.203125 C -2.9375 -3.203125 -2.890625 -3.171875 -2.890625 -3.140625 L -2.65625 -2.203125 C -2.390625 -1.140625 -1.8125 -0.390625 -1.078125 -0.390625 C -0.171875 -0.390625 0.109375 -1 0.109375 -1.765625 C 0.109375 -2.15625 0.015625 -2.484375 -0.34375 -2.96875 L -0.53125 -3.1875 Z M -2.546875 -3.203125 L -1.109375 -3.203125 C -0.96875 -3.203125 -0.890625 -3.140625 -0.8125 -3.046875 C -0.59375 -2.765625 -0.34375 -2.390625 -0.34375 -2.09375 C -0.34375 -1.546875 -0.78125 -1.296875 -1.109375 -1.296875 C -1.609375 -1.296875 -2.109375 -1.53125 -2.3125 -2.34375 Z M -2.546875 -3.203125 \"/>\n",
       "</symbol>\n",
       "<symbol overflow=\"visible\" id=\"glyph-1606366588244597-2-8\">\n",
       "<path style=\"stroke:none;\" d=\"M -1.328125 -1.984375 L -3.515625 -1.984375 C -4.0625 -1.984375 -4.75 -2.015625 -4.75 -2.015625 C -4.796875 -2.015625 -4.828125 -1.96875 -4.828125 -1.875 C -4.71875 -1.578125 -4.609375 -1.140625 -4.515625 -0.375 C -4.453125 -0.359375 -4.28125 -0.375 -4.203125 -0.40625 C -4.15625 -1 -4.09375 -1.109375 -3.46875 -1.109375 L -1.328125 -1.109375 C -0.421875 -1.109375 -0.390625 -1 -0.34375 -0.328125 C -0.265625 -0.265625 -0.046875 -0.265625 0.015625 -0.328125 C 0.015625 -0.6875 0 -1.109375 0 -1.546875 C 0 -1.984375 0.015625 -2.40625 0.015625 -2.765625 C -0.046875 -2.828125 -0.265625 -2.828125 -0.34375 -2.765625 C -0.375 -2.09375 -0.421875 -1.984375 -1.328125 -1.984375 Z M -6.546875 -0.984375 C -6.265625 -0.984375 -5.984375 -1.25 -5.984375 -1.515625 C -5.984375 -1.8125 -6.28125 -2.078125 -6.5 -2.078125 C -6.765625 -2.078125 -7.078125 -1.84375 -7.078125 -1.546875 C -7.078125 -1.296875 -6.8125 -0.984375 -6.546875 -0.984375 Z M -6.546875 -0.984375 \"/>\n",
       "</symbol>\n",
       "<symbol overflow=\"visible\" id=\"glyph-1606366588244597-2-9\">\n",
       "<path style=\"stroke:none;\" d=\"M -2.234375 -0.453125 C -1.125 -0.453125 0.109375 -1.1875 0.109375 -2.75 C 0.109375 -3.4375 -0.140625 -3.984375 -0.5 -4.359375 C -0.984375 -4.84375 -1.671875 -5.0625 -2.34375 -5.0625 C -3.484375 -5.0625 -4.796875 -4.4375 -4.796875 -2.765625 C -4.796875 -2.046875 -4.5 -1.453125 -4.03125 -1.046875 C -3.5625 -0.65625 -2.9375 -0.453125 -2.234375 -0.453125 Z M -4.421875 -2.609375 C -4.421875 -3.546875 -3.5625 -4.125 -1.984375 -4.125 C -0.609375 -4.125 -0.265625 -3.40625 -0.265625 -2.890625 C -0.265625 -1.765625 -1.65625 -1.390625 -2.5 -1.390625 C -3.4375 -1.390625 -4.421875 -1.625 -4.421875 -2.609375 Z M -4.421875 -2.609375 \"/>\n",
       "</symbol>\n",
       "<symbol overflow=\"visible\" id=\"glyph-1606366588244597-2-10\">\n",
       "<path style=\"stroke:none;\" d=\"M -3.921875 -2.015625 C -3.84375 -1.953125 -3.8125 -1.875 -3.921875 -1.875 C -4.203125 -1.875 -4.640625 -1.84375 -4.75 -1.796875 C -4.796875 -1.765625 -4.828125 -1.75 -4.828125 -1.65625 C -4.71875 -1.359375 -4.609375 -1.078125 -4.515625 -0.3125 C -4.453125 -0.296875 -4.28125 -0.3125 -4.203125 -0.34375 C -4.15625 -0.921875 -4.09375 -1.046875 -3.46875 -1.046875 L -1.328125 -1.046875 C -0.4375 -1.046875 -0.390625 -0.9375 -0.34375 -0.28125 C -0.265625 -0.21875 -0.046875 -0.21875 0.015625 -0.28125 C 0.015625 -0.609375 0 -1.046875 0 -1.484375 C 0 -1.921875 0.015625 -2.25 0.015625 -2.578125 C -0.046875 -2.640625 -0.265625 -2.640625 -0.34375 -2.578125 C -0.390625 -2.015625 -0.4375 -1.90625 -1.328125 -1.90625 L -3.125 -1.90625 C -3.359375 -1.90625 -3.484375 -2.015625 -3.59375 -2.09375 C -3.984375 -2.515625 -4.234375 -3 -4.234375 -3.4375 C -4.234375 -3.65625 -4.09375 -3.875 -3.84375 -4.015625 C -3.625 -4.125 -3.328125 -4.140625 -3 -4.140625 L -1.328125 -4.140625 C -0.4375 -4.140625 -0.390625 -4.03125 -0.34375 -3.46875 C -0.265625 -3.40625 -0.046875 -3.40625 0.015625 -3.46875 C 0.015625 -3.796875 0 -4.140625 0 -4.578125 C 0 -5.015625 0.015625 -5.40625 0.015625 -5.734375 C -0.046875 -5.796875 -0.265625 -5.796875 -0.34375 -5.734375 C -0.390625 -5.125 -0.4375 -5.015625 -1.328125 -5.015625 L -2.96875 -5.015625 C -3.5625 -5.015625 -4.09375 -4.96875 -4.421875 -4.71875 C -4.671875 -4.53125 -4.796875 -4.1875 -4.796875 -3.8125 C -4.796875 -3.265625 -4.65625 -2.65625 -3.921875 -2.015625 Z M -3.921875 -2.015625 \"/>\n",
       "</symbol>\n",
       "<symbol overflow=\"visible\" id=\"glyph-1606366588244597-2-11\">\n",
       "<path style=\"stroke:none;\" d=\"M -6.71875 -4.90625 C -6.65625 -5.703125 -6.359375 -5.703125 -5.78125 -5.484375 L -1.390625 -3.75 L -1.390625 -3.703125 L -5.84375 -1.953125 C -6.5 -1.703125 -6.640625 -1.765625 -6.71875 -2.515625 C -6.78125 -2.578125 -7.015625 -2.578125 -7.078125 -2.515625 C -7.0625 -2.078125 -7.046875 -1.578125 -7.046875 -1.1875 C -7.046875 -0.796875 -7.0625 -0.421875 -7.078125 -0.046875 C -7.015625 0.015625 -6.78125 0 -6.71875 -0.0625 C -6.65625 -0.671875 -6.46875 -0.75 -5.71875 -1.046875 L -0.125 -3.203125 C 0.046875 -3.265625 0.125 -3.34375 0.125 -3.453125 C 0.125 -3.578125 0.03125 -3.65625 -0.125 -3.71875 L -5.703125 -5.984375 C -6.21875 -6.1875 -6.640625 -6.359375 -6.71875 -7.046875 C -6.78125 -7.125 -7.015625 -7.125 -7.078125 -7.046875 C -7.0625 -6.71875 -7.046875 -6.34375 -7.046875 -6.09375 C -7.046875 -5.84375 -7.0625 -5.34375 -7.078125 -4.90625 C -7.015625 -4.828125 -6.78125 -4.828125 -6.71875 -4.90625 Z M -6.71875 -4.90625 \"/>\n",
       "</symbol>\n",
       "<symbol overflow=\"visible\" id=\"glyph-1606366588244597-2-12\">\n",
       "<path style=\"stroke:none;\" d=\"M -1.328125 -1.03125 C -0.421875 -1.03125 -0.375 -0.921875 -0.34375 -0.25 C -0.265625 -0.1875 -0.046875 -0.1875 0.015625 -0.25 C 0.015625 -0.640625 0 -1.03125 0 -1.46875 C 0 -1.90625 0.015625 -2.328125 0.015625 -2.6875 C -0.046875 -2.75 -0.265625 -2.75 -0.34375 -2.6875 C -0.375 -2.015625 -0.421875 -1.90625 -1.328125 -1.90625 L -6.375 -1.90625 C -7.09375 -1.90625 -7.53125 -1.953125 -7.53125 -1.953125 C -7.59375 -1.953125 -7.640625 -1.90625 -7.640625 -1.796875 C -7.53125 -1.53125 -7.375 -0.703125 -7.34375 -0.265625 C -7.25 -0.25 -7.078125 -0.265625 -7.015625 -0.34375 C -6.96875 -0.96875 -6.9375 -1.03125 -6.109375 -1.03125 Z M -1.328125 -1.03125 \"/>\n",
       "</symbol>\n",
       "<symbol overflow=\"visible\" id=\"glyph-1606366588244597-2-13\">\n",
       "<path style=\"stroke:none;\" d=\"M 0.109375 -2.375 C 0.109375 -2.796875 -0.109375 -3.3125 -0.546875 -3.84375 C -0.59375 -3.90625 -0.609375 -4 -0.53125 -4.015625 C -0.265625 -4.046875 0.109375 -4.140625 0.109375 -4.140625 C 0.140625 -4.21875 0.125 -4.28125 0.109375 -4.34375 C -0.09375 -4.578125 -0.25 -4.96875 -0.328125 -5.625 C -0.390625 -5.703125 -0.5625 -5.703125 -0.625 -5.625 C -0.671875 -4.9375 -0.890625 -4.828125 -1.421875 -4.828125 L -3.515625 -4.828125 C -3.84375 -4.828125 -4.640625 -4.875 -4.640625 -4.875 C -4.6875 -4.875 -4.71875 -4.84375 -4.71875 -4.796875 C -4.703125 -4.734375 -4.6875 -4.578125 -4.6875 -4.40625 C -4.6875 -4.0625 -4.703125 -3.65625 -4.71875 -3.296875 C -4.640625 -3.21875 -4.421875 -3.21875 -4.359375 -3.296875 C -4.3125 -3.828125 -4.1875 -3.96875 -3.46875 -3.96875 L -1.359375 -3.96875 C -1.140625 -3.96875 -1.0625 -3.953125 -0.921875 -3.796875 C -0.578125 -3.390625 -0.40625 -2.96875 -0.40625 -2.703125 C -0.40625 -2.375 -0.5625 -1.828125 -1.53125 -1.828125 L -3.515625 -1.828125 C -3.84375 -1.828125 -4.640625 -1.875 -4.640625 -1.875 C -4.6875 -1.875 -4.71875 -1.84375 -4.71875 -1.78125 C -4.703125 -1.734375 -4.6875 -1.5625 -4.6875 -1.40625 C -4.6875 -1.046875 -4.703125 -0.65625 -4.71875 -0.28125 C -4.640625 -0.21875 -4.421875 -0.21875 -4.359375 -0.28125 C -4.3125 -0.8125 -4.1875 -0.96875 -3.484375 -0.96875 L -1.375 -0.96875 C -0.625 -0.96875 0.109375 -1.296875 0.109375 -2.375 Z M 0.109375 -2.375 \"/>\n",
       "</symbol>\n",
       "<symbol overflow=\"visible\" id=\"glyph-1606366588244597-3-0\">\n",
       "<path style=\"stroke:none;\" d=\"M 0 0 L 5.96875 0 L 5.96875 -8.328125 L 0 -8.328125 Z M 0.953125 -0.59375 L 2.984375 -3.625 L 5 -0.59375 Z M 0.59375 -7.1875 L 2.625 -4.15625 L 0.59375 -1.125 Z M 3.34375 -4.15625 L 5.359375 -7.1875 L 5.359375 -1.125 Z M 2.984375 -4.703125 L 0.953125 -7.71875 L 5 -7.71875 Z M 2.984375 -4.703125 \"/>\n",
       "</symbol>\n",
       "<symbol overflow=\"visible\" id=\"glyph-1606366588244597-3-1\">\n",
       "<path style=\"stroke:none;\" d=\"M 4.6875 -5.78125 C 4.6875 -6.640625 4.015625 -7.265625 2.84375 -7.265625 C 1.640625 -7.265625 0.84375 -6.546875 0.84375 -5.625 C 0.84375 -4.953125 1.171875 -4.46875 1.890625 -4.015625 L 2.203125 -3.828125 C 1.859375 -3.640625 1.53125 -3.4375 1.234375 -3.171875 C 0.75 -2.734375 0.546875 -2.203125 0.546875 -1.734375 C 0.546875 -0.53125 1.40625 0.125 2.671875 0.125 C 4.234375 0.125 5 -1.03125 5 -1.9375 C 5 -2.625 4.703125 -3.234375 4.0625 -3.609375 L 3.21875 -4.125 C 3.78125 -4.40625 4.6875 -5.015625 4.6875 -5.78125 Z M 2.6875 -0.296875 C 2.15625 -0.296875 1.34375 -0.671875 1.34375 -1.734375 C 1.34375 -2.09375 1.5 -2.9375 2.53125 -3.609375 L 3.09375 -3.28125 C 3.828125 -2.828125 4.125 -2.265625 4.125 -1.6875 C 4.125 -0.5 3.234375 -0.296875 2.6875 -0.296875 Z M 2.796875 -6.859375 C 3.5625 -6.859375 3.84375 -6.34375 3.84375 -5.796875 C 3.84375 -5.15625 3.21875 -4.609375 2.890625 -4.375 L 2.53125 -4.609375 C 1.78125 -5.09375 1.6875 -5.484375 1.6875 -5.859375 C 1.6875 -6.40625 2.078125 -6.859375 2.796875 -6.859375 Z M 2.796875 -6.859375 \"/>\n",
       "</symbol>\n",
       "<symbol overflow=\"visible\" id=\"glyph-1606366588244597-3-2\">\n",
       "<path style=\"stroke:none;\" d=\"M 0.578125 -1.640625 C 0.625 -1.0625 0.65625 -0.5 0.65625 0 C 0.78125 -0.03125 0.890625 -0.03125 0.953125 -0.03125 C 1.03125 -0.03125 1.109375 -0.03125 1.1875 -0.015625 C 1.515625 0.078125 1.84375 0.125 2.28125 0.125 C 2.9375 0.125 4.171875 -0.203125 4.171875 -1.390625 C 4.171875 -2.1875 3.59375 -2.671875 2.78125 -2.96875 C 2.0625 -3.25 1.578125 -3.421875 1.578125 -4.078125 C 1.578125 -4.5625 2.015625 -4.84375 2.421875 -4.84375 C 2.6875 -4.84375 3.375 -4.75 3.53125 -3.734375 C 3.59375 -3.65625 3.84375 -3.671875 3.90625 -3.75 C 3.953125 -4.171875 3.96875 -4.609375 3.984375 -5 C 3.609375 -5.0625 3.046875 -5.234375 2.421875 -5.234375 C 1.53125 -5.234375 0.734375 -4.65625 0.734375 -3.90625 C 0.734375 -3.03125 1.125 -2.65625 2.046875 -2.28125 C 3.046875 -1.875 3.265625 -1.625 3.265625 -1.109375 C 3.265625 -0.53125 2.6875 -0.28125 2.25 -0.28125 C 1.78125 -0.28125 1.53125 -0.421875 1.40625 -0.5625 C 1.140625 -0.828125 1.015625 -1.359375 0.9375 -1.65625 C 0.875 -1.734375 0.640625 -1.71875 0.578125 -1.640625 Z M 0.578125 -1.640625 \"/>\n",
       "</symbol>\n",
       "<symbol overflow=\"visible\" id=\"glyph-1606366588244597-3-3\">\n",
       "<path style=\"stroke:none;\" d=\"M 1.859375 -4.390625 C 1.84375 -4.75 1.828125 -5.0625 1.765625 -5.171875 C 1.734375 -5.234375 1.71875 -5.265625 1.625 -5.265625 C 1.28125 -5.140625 0.984375 -5.03125 0.15625 -4.921875 C 0.125 -4.859375 0.15625 -4.65625 0.171875 -4.59375 C 0.828125 -4.53125 0.953125 -4.46875 0.953125 -3.78125 L 0.953125 1.3125 C 0.953125 2.296875 0.828125 2.359375 0.09375 2.390625 C 0.03125 2.46875 0.03125 2.71875 0.09375 2.796875 C 0.515625 2.78125 0.953125 2.765625 1.4375 2.765625 C 1.90625 2.765625 2.484375 2.78125 2.875 2.796875 C 2.9375 2.71875 2.9375 2.46875 2.875 2.390625 C 2.03125 2.34375 1.890625 2.296875 1.890625 1.3125 L 1.890625 0.03125 C 1.890625 -0.125 1.9375 -0.125 2.0625 -0.078125 C 2.359375 0.046875 2.71875 0.125 3.09375 0.125 C 3.765625 0.125 4.359375 -0.078125 4.859375 -0.546875 C 5.40625 -1.09375 5.734375 -1.84375 5.734375 -2.796875 C 5.734375 -4.0625 4.84375 -5.234375 3.625 -5.234375 C 3.078125 -5.234375 2.46875 -4.875 1.984375 -4.34375 C 1.921875 -4.265625 1.875 -4.265625 1.859375 -4.390625 Z M 2.09375 -3.953125 C 2.390625 -4.328125 2.9375 -4.6875 3.296875 -4.6875 C 4.046875 -4.6875 4.703125 -3.828125 4.703125 -2.484375 C 4.703125 -1.5 4.359375 -0.28125 3.03125 -0.28125 C 2.8125 -0.28125 2.390625 -0.34375 2.1875 -0.53125 C 1.9375 -0.75 1.890625 -0.828125 1.890625 -1.25 L 1.890625 -3.421875 C 1.890625 -3.671875 1.9375 -3.78125 2.09375 -3.953125 Z M 2.09375 -3.953125 \"/>\n",
       "</symbol>\n",
       "<symbol overflow=\"visible\" id=\"glyph-1606366588244597-3-4\">\n",
       "<path style=\"stroke:none;\" d=\"M 2.15625 -1.453125 L 2.15625 -3.828125 C 2.15625 -4.421875 2.203125 -5.1875 2.203125 -5.1875 C 2.203125 -5.234375 2.140625 -5.265625 2.046875 -5.265625 C 1.71875 -5.140625 1.234375 -5.03125 0.421875 -4.921875 C 0.390625 -4.859375 0.421875 -4.65625 0.4375 -4.59375 C 1.09375 -4.53125 1.21875 -4.453125 1.21875 -3.78125 L 1.21875 -1.453125 C 1.21875 -0.46875 1.078125 -0.421875 0.359375 -0.375 C 0.28125 -0.296875 0.28125 -0.046875 0.359375 0.03125 C 0.75 0.015625 1.21875 0 1.6875 0 C 2.171875 0 2.625 0.015625 3.015625 0.03125 C 3.09375 -0.046875 3.09375 -0.296875 3.015625 -0.375 C 2.28125 -0.421875 2.15625 -0.46875 2.15625 -1.453125 Z M 1.078125 -7.140625 C 1.078125 -6.828125 1.359375 -6.515625 1.640625 -6.515625 C 1.984375 -6.515625 2.265625 -6.84375 2.265625 -7.09375 C 2.265625 -7.375 2.015625 -7.71875 1.6875 -7.71875 C 1.40625 -7.71875 1.078125 -7.421875 1.078125 -7.140625 Z M 1.078125 -7.140625 \"/>\n",
       "</symbol>\n",
       "<symbol overflow=\"visible\" id=\"glyph-1606366588244597-3-5\">\n",
       "<path style=\"stroke:none;\" d=\"M 2.1875 -4.265625 C 2.125 -4.1875 2.046875 -4.15625 2.046875 -4.265625 C 2.03125 -4.59375 2.015625 -5.0625 1.953125 -5.171875 C 1.9375 -5.234375 1.90625 -5.265625 1.8125 -5.265625 C 1.484375 -5.140625 1.171875 -5.03125 0.34375 -4.921875 C 0.328125 -4.859375 0.34375 -4.65625 0.375 -4.59375 C 1.015625 -4.53125 1.140625 -4.46875 1.140625 -3.78125 L 1.140625 -1.453125 C 1.140625 -0.484375 1.03125 -0.421875 0.3125 -0.375 C 0.234375 -0.296875 0.234375 -0.046875 0.3125 0.03125 C 0.671875 0.015625 1.140625 0 1.625 0 C 2.09375 0 2.453125 0.015625 2.8125 0.03125 C 2.890625 -0.046875 2.890625 -0.296875 2.8125 -0.375 C 2.203125 -0.421875 2.09375 -0.484375 2.09375 -1.453125 L 2.09375 -3.40625 C 2.09375 -3.65625 2.1875 -3.796875 2.28125 -3.90625 C 2.734375 -4.34375 3.28125 -4.609375 3.75 -4.609375 C 3.984375 -4.609375 4.234375 -4.453125 4.375 -4.1875 C 4.5 -3.953125 4.515625 -3.625 4.515625 -3.265625 L 4.515625 -1.453125 C 4.515625 -0.484375 4.40625 -0.421875 3.78125 -0.375 C 3.71875 -0.296875 3.71875 -0.046875 3.78125 0.03125 C 4.140625 0.015625 4.515625 0 5 0 C 5.46875 0 5.90625 0.015625 6.265625 0.03125 C 6.3125 -0.046875 6.3125 -0.296875 6.265625 -0.375 C 5.59375 -0.421875 5.453125 -0.484375 5.453125 -1.453125 L 5.453125 -3.234375 C 5.453125 -3.890625 5.40625 -4.453125 5.140625 -4.828125 C 4.9375 -5.09375 4.5625 -5.234375 4.15625 -5.234375 C 3.5625 -5.234375 2.890625 -5.078125 2.1875 -4.265625 Z M 2.1875 -4.265625 \"/>\n",
       "</symbol>\n",
       "<symbol overflow=\"visible\" id=\"glyph-1606366588244597-3-6\">\n",
       "<path style=\"stroke:none;\" d=\"M 1.234375 -1.125 C 0.875 -1.125 0.609375 -0.875 0.609375 -0.546875 C 0.609375 -0.171875 0.921875 -0.0625 1.125 -0.03125 C 1.359375 0 1.5625 0.078125 1.5625 0.34375 C 1.5625 0.59375 1.125 1.140625 0.515625 1.296875 C 0.515625 1.421875 0.53125 1.5 0.625 1.578125 C 1.328125 1.453125 2.03125 0.875 2.03125 0.046875 C 2.03125 -0.671875 1.71875 -1.125 1.234375 -1.125 Z M 1.234375 -1.125 \"/>\n",
       "</symbol>\n",
       "<symbol overflow=\"visible\" id=\"glyph-1606366588244597-4-0\">\n",
       "<path style=\"stroke:none;\" d=\"M 0 0 L 5.96875 0 L 5.96875 -8.328125 L 0 -8.328125 Z M 0.953125 -0.59375 L 2.984375 -3.625 L 5 -0.59375 Z M 0.59375 -7.1875 L 2.625 -4.15625 L 0.59375 -1.125 Z M 3.34375 -4.15625 L 5.359375 -7.1875 L 5.359375 -1.125 Z M 2.984375 -4.703125 L 0.953125 -7.71875 L 5 -7.71875 Z M 2.984375 -4.703125 \"/>\n",
       "</symbol>\n",
       "<symbol overflow=\"visible\" id=\"glyph-1606366588244597-4-1\">\n",
       "<path style=\"stroke:none;\" d=\"M 3.875 -4.75 C 4.515625 -4.703125 4.59375 -4.546875 4.34375 -3.953125 L 3.375 -1.609375 C 3.1875 -1.140625 3.125 -1.140625 2.9375 -1.640625 L 2.078125 -3.953125 C 1.859375 -4.515625 1.8125 -4.65625 2.4375 -4.75 C 2.515625 -4.8125 2.515625 -5.0625 2.4375 -5.140625 C 2.046875 -5.125 1.640625 -5.109375 1.234375 -5.109375 C 0.84375 -5.109375 0.484375 -5.125 0.125 -5.140625 C 0.0625 -5.0625 0.0625 -4.8125 0.125 -4.75 C 0.765625 -4.671875 0.84375 -4.484375 1.078125 -3.875 L 2.609375 -0.109375 C 2.6875 0.078125 2.75 0.140625 2.90625 0.140625 C 3.03125 0.140625 3.109375 0.078125 3.1875 -0.125 L 4.78125 -3.859375 C 5 -4.390625 5.140625 -4.6875 5.8125 -4.75 C 5.875 -4.8125 5.875 -5.0625 5.8125 -5.140625 C 5.5625 -5.125 5.28125 -5.109375 4.96875 -5.109375 C 4.578125 -5.109375 4.171875 -5.125 3.875 -5.140625 C 3.796875 -5.0625 3.796875 -4.8125 3.875 -4.75 Z M 3.875 -4.75 \"/>\n",
       "</symbol>\n",
       "<symbol overflow=\"visible\" id=\"glyph-1606366588244597-4-2\">\n",
       "<path style=\"stroke:none;\" d=\"M 3.5 -0.578125 C 3.5625 -0.203125 3.703125 0.125 4.296875 0.125 C 4.75 0.125 5.171875 -0.078125 5.421875 -0.328125 C 5.40625 -0.46875 5.359375 -0.578125 5.21875 -0.640625 C 5.140625 -0.578125 4.9375 -0.453125 4.78125 -0.453125 C 4.4375 -0.453125 4.421875 -0.921875 4.421875 -1.46875 L 4.421875 -3.21875 C 4.421875 -4.90625 3.5 -5.234375 2.625 -5.234375 C 1.640625 -5.234375 0.65625 -4.59375 0.65625 -3.90625 C 0.65625 -3.625 0.796875 -3.484375 1.078125 -3.484375 C 1.421875 -3.484375 1.640625 -3.734375 1.640625 -3.890625 C 1.640625 -3.96875 1.625 -4.046875 1.59375 -4.09375 C 1.578125 -4.140625 1.578125 -4.203125 1.578125 -4.34375 C 1.578125 -4.703125 2.078125 -4.84375 2.53125 -4.84375 C 2.9375 -4.84375 3.5 -4.640625 3.5 -3.296875 C 3.5 -3.203125 3.453125 -3.15625 3.421875 -3.140625 L 2.390625 -2.890625 C 1.25 -2.609375 0.421875 -1.984375 0.421875 -1.171875 C 0.421875 -0.1875 1.09375 0.125 1.9375 0.125 C 2.34375 0.125 2.703125 0.03125 3.234375 -0.375 L 3.46875 -0.578125 Z M 3.5 -2.78125 L 3.5 -1.203125 C 3.5 -1.046875 3.421875 -0.96875 3.328125 -0.890625 C 3.015625 -0.640625 2.609375 -0.375 2.28125 -0.375 C 1.6875 -0.375 1.421875 -0.84375 1.421875 -1.21875 C 1.421875 -1.75 1.671875 -2.296875 2.546875 -2.53125 Z M 3.5 -2.78125 \"/>\n",
       "</symbol>\n",
       "<symbol overflow=\"visible\" id=\"glyph-1606366588244597-4-3\">\n",
       "<path style=\"stroke:none;\" d=\"M 2.09375 -4.265625 C 2.078125 -4.75 2.0625 -5.0625 2 -5.171875 C 1.984375 -5.234375 1.953125 -5.265625 1.859375 -5.265625 C 1.53125 -5.140625 1.21875 -5.03125 0.390625 -4.921875 C 0.375 -4.859375 0.390625 -4.65625 0.421875 -4.59375 C 1.0625 -4.53125 1.1875 -4.46875 1.1875 -3.78125 L 1.1875 -1.453125 C 1.1875 -0.46875 1.046875 -0.421875 0.3125 -0.375 C 0.234375 -0.296875 0.234375 -0.046875 0.3125 0.03125 C 0.734375 0.015625 1.1875 0 1.671875 0 C 2.140625 0 2.6875 0.015625 3.109375 0.03125 C 3.1875 -0.046875 3.1875 -0.296875 3.109375 -0.375 C 2.28125 -0.421875 2.140625 -0.46875 2.140625 -1.453125 L 2.140625 -3.109375 C 2.140625 -3.421875 2.28125 -3.703125 2.421875 -3.90625 C 2.546875 -4.09375 2.828125 -4.5 2.96875 -4.5 C 3.078125 -4.5 3.1875 -4.46875 3.28125 -4.34375 C 3.359375 -4.21875 3.5 -4.0625 3.703125 -4.0625 C 4 -4.0625 4.265625 -4.359375 4.265625 -4.65625 C 4.265625 -4.890625 4.046875 -5.234375 3.546875 -5.234375 C 3 -5.234375 2.5 -4.703125 2.234375 -4.25 C 2.15625 -4.109375 2.09375 -4.203125 2.09375 -4.265625 Z M 2.09375 -4.265625 \"/>\n",
       "</symbol>\n",
       "<symbol overflow=\"visible\" id=\"glyph-1606366588244597-5-0\">\n",
       "<path style=\"stroke:none;\" d=\"M 0 0 L 3.984375 0 L 3.984375 -5.546875 L 0 -5.546875 Z M 0.640625 -0.390625 L 1.984375 -2.421875 L 3.34375 -0.390625 Z M 0.390625 -4.796875 L 1.75 -2.78125 L 0.390625 -0.75 Z M 2.234375 -2.78125 L 3.578125 -4.796875 L 3.578125 -0.75 Z M 1.984375 -3.140625 L 0.640625 -5.140625 L 3.34375 -5.140625 Z M 1.984375 -3.140625 \"/>\n",
       "</symbol>\n",
       "<symbol overflow=\"visible\" id=\"glyph-1606366588244597-5-1\">\n",
       "<path style=\"stroke:none;\" d=\"M 1.59375 -2.453125 L 1.875 -1.671875 L 1.125 -0.578125 C 1.046875 -0.46875 0.96875 -0.421875 0.90625 -0.421875 C 0.84375 -0.421875 0.75 -0.453125 0.6875 -0.484375 C 0.625 -0.515625 0.546875 -0.53125 0.46875 -0.53125 C 0.28125 -0.53125 0.15625 -0.390625 0.15625 -0.21875 C 0.15625 -0.015625 0.4375 0.078125 0.625 0.078125 C 0.890625 0.078125 1.078125 -0.046875 1.4375 -0.546875 L 1.984375 -1.34375 L 2.296875 -0.359375 C 2.390625 -0.046875 2.46875 0.078125 2.75 0.078125 C 3.015625 0.078125 3.375 -0.078125 3.625 -0.484375 C 3.59375 -0.5625 3.515625 -0.625 3.421875 -0.640625 C 3.21875 -0.375 3.125 -0.3125 3.03125 -0.3125 C 2.953125 -0.3125 2.90625 -0.40625 2.84375 -0.609375 L 2.40625 -1.890625 L 3.015625 -2.78125 C 3.140625 -2.953125 3.328125 -2.984375 3.390625 -2.984375 C 3.453125 -2.984375 3.5625 -2.96875 3.625 -2.90625 C 3.6875 -2.859375 3.8125 -2.828125 3.890625 -2.828125 C 4 -2.828125 4.140625 -2.984375 4.140625 -3.171875 C 4.140625 -3.375 3.921875 -3.484375 3.75 -3.484375 C 3.34375 -3.484375 3.078125 -3.359375 2.703125 -2.796875 L 2.296875 -2.21875 L 2.078125 -2.921875 C 1.9375 -3.328125 1.859375 -3.484375 1.65625 -3.484375 C 1.46875 -3.484375 0.875 -3.171875 0.609375 -2.953125 C 0.609375 -2.875 0.640625 -2.78125 0.703125 -2.71875 C 0.796875 -2.765625 1.0625 -2.890625 1.234375 -2.890625 C 1.34375 -2.890625 1.421875 -2.859375 1.453125 -2.796875 C 1.484375 -2.734375 1.546875 -2.59375 1.59375 -2.453125 Z M 1.59375 -2.453125 \"/>\n",
       "</symbol>\n",
       "<symbol overflow=\"visible\" id=\"glyph-1606366588244597-5-2\">\n",
       "<path style=\"stroke:none;\" d=\"M 2.296875 -0.96875 L 2.296875 -3.734375 C 2.296875 -4.203125 2.296875 -4.6875 2.3125 -4.796875 C 2.3125 -4.828125 2.296875 -4.828125 2.265625 -4.828125 C 1.828125 -4.5625 1.40625 -4.359375 0.703125 -4.046875 C 0.71875 -3.953125 0.75 -3.875 0.828125 -3.828125 C 1.1875 -3.984375 1.375 -4.03125 1.515625 -4.03125 C 1.65625 -4.03125 1.671875 -3.828125 1.671875 -3.5625 L 1.671875 -0.96875 C 1.671875 -0.3125 1.46875 -0.265625 0.90625 -0.25 C 0.859375 -0.203125 0.859375 -0.03125 0.90625 0.015625 C 1.296875 0.015625 1.578125 0 2.015625 0 C 2.390625 0 2.578125 0.015625 2.984375 0.015625 C 3.03125 -0.03125 3.03125 -0.203125 2.984375 -0.25 C 2.421875 -0.265625 2.296875 -0.3125 2.296875 -0.96875 Z M 2.296875 -0.96875 \"/>\n",
       "</symbol>\n",
       "</g>\n",
       "<clipPath id=\"clip-1606366588244597-1\">\n",
       "  <path d=\"M 37.773438 23.90625 L 280.417969 23.90625 L 280.417969 194.710938 L 37.773438 194.710938 Z M 37.773438 23.90625 \"/>\n",
       "</clipPath>\n",
       "</defs>\n",
       "<g id=\"surface1\">\n",
       "<path style=\" stroke:none;fill-rule:nonzero;fill:rgb(100%,100%,100%);fill-opacity:1;\" d=\"M 37.773438 194.710938 L 280.417969 194.710938 L 280.417969 23.90625 L 37.773438 23.90625 Z M 37.773438 194.710938 \"/>\n",
       "<path style=\"fill:none;stroke-width:0.49814;stroke-linecap:butt;stroke-linejoin:miter;stroke:rgb(13.331604%,13.331604%,33.332825%);stroke-opacity:0.1;stroke-miterlimit:10;\" d=\"M 6.883159 -0.000436235 L 6.883159 171.174876 M 64.233896 -0.000436235 L 64.233896 171.174876 M 121.584633 -0.000436235 L 121.584633 171.174876 M 178.939285 -0.000436235 L 178.939285 171.174876 M 236.290022 -0.000436235 L 236.290022 171.174876 \" transform=\"matrix(0.997835,0,0,-0.997835,37.772369,194.710502)\"/>\n",
       "<path style=\"fill:none;stroke-width:0.49814;stroke-linecap:butt;stroke-linejoin:miter;stroke:rgb(13.331604%,13.331604%,33.332825%);stroke-opacity:0.1;stroke-miterlimit:10;\" d=\"M 0.00107087 10.635875 L 243.172111 10.635875 M 0.00107087 49.63829 L 243.172111 49.63829 M 0.00107087 88.636792 L 243.172111 88.636792 M 0.00107087 127.635293 L 243.172111 127.635293 M 0.00107087 166.633794 L 243.172111 166.633794 \" transform=\"matrix(0.997835,0,0,-0.997835,37.772369,194.710502)\"/>\n",
       "<path style=\"fill:none;stroke-width:0.19925;stroke-linecap:butt;stroke-linejoin:miter;stroke:rgb(50%,50%,50%);stroke-opacity:1;stroke-miterlimit:10;\" d=\"M 6.883159 -0.000436235 L 6.883159 4.250956 M 64.233896 -0.000436235 L 64.233896 4.250956 M 121.584633 -0.000436235 L 121.584633 4.250956 M 178.939285 -0.000436235 L 178.939285 4.250956 M 236.290022 -0.000436235 L 236.290022 4.250956 M 6.883159 171.174876 L 6.883159 166.923484 M 64.233896 171.174876 L 64.233896 166.923484 M 121.584633 171.174876 L 121.584633 166.923484 M 178.939285 171.174876 L 178.939285 166.923484 M 236.290022 171.174876 L 236.290022 166.923484 \" transform=\"matrix(0.997835,0,0,-0.997835,37.772369,194.710502)\"/>\n",
       "<path style=\"fill:none;stroke-width:0.19925;stroke-linecap:butt;stroke-linejoin:miter;stroke:rgb(50%,50%,50%);stroke-opacity:1;stroke-miterlimit:10;\" d=\"M 0.00107087 10.635875 L 4.252463 10.635875 M 0.00107087 49.63829 L 4.252463 49.63829 M 0.00107087 88.636792 L 4.252463 88.636792 M 0.00107087 127.635293 L 4.252463 127.635293 M 0.00107087 166.633794 L 4.252463 166.633794 M 243.172111 10.635875 L 238.920718 10.635875 M 243.172111 49.63829 L 238.920718 49.63829 M 243.172111 88.636792 L 238.920718 88.636792 M 243.172111 127.635293 L 238.920718 127.635293 M 243.172111 166.633794 L 238.920718 166.633794 \" transform=\"matrix(0.997835,0,0,-0.997835,37.772369,194.710502)\"/>\n",
       "<g style=\"fill:rgb(0%,0%,0%);fill-opacity:1;\">\n",
       "  <use xlink:href=\"#glyph-1606366588244597-0-1\" x=\"41.865487\" y=\"205.499092\"/>\n",
       "</g>\n",
       "<g style=\"fill:rgb(0%,0%,0%);fill-opacity:1;\">\n",
       "  <use xlink:href=\"#glyph-1606366588244597-0-2\" x=\"99.092312\" y=\"205.511066\"/>\n",
       "</g>\n",
       "<g style=\"fill:rgb(0%,0%,0%);fill-opacity:1;\">\n",
       "  <use xlink:href=\"#glyph-1606366588244597-0-3\" x=\"153.546154\" y=\"205.499092\"/>\n",
       "  <use xlink:href=\"#glyph-1606366588244597-0-1\" x=\"159.093272\" y=\"205.499092\"/>\n",
       "</g>\n",
       "<g style=\"fill:rgb(0%,0%,0%);fill-opacity:1;\">\n",
       "  <use xlink:href=\"#glyph-1606366588244597-0-3\" x=\"210.772979\" y=\"205.511066\"/>\n",
       "  <use xlink:href=\"#glyph-1606366588244597-0-2\" x=\"216.320096\" y=\"205.511066\"/>\n",
       "</g>\n",
       "<g style=\"fill:rgb(0%,0%,0%);fill-opacity:1;\">\n",
       "  <use xlink:href=\"#glyph-1606366588244597-0-4\" x=\"267.999804\" y=\"205.499092\"/>\n",
       "  <use xlink:href=\"#glyph-1606366588244597-0-1\" x=\"273.546921\" y=\"205.499092\"/>\n",
       "</g>\n",
       "<g style=\"fill:rgb(0%,0%,0%);fill-opacity:1;\">\n",
       "  <use xlink:href=\"#glyph-1606366588244597-0-1\" x=\"20.540759\" y=\"187.674769\"/>\n",
       "  <use xlink:href=\"#glyph-1606366588244597-0-5\" x=\"26.087877\" y=\"187.674769\"/>\n",
       "  <use xlink:href=\"#glyph-1606366588244597-0-4\" x=\"28.71232\" y=\"187.674769\"/>\n",
       "</g>\n",
       "<g style=\"fill:rgb(0%,0%,0%);fill-opacity:1;\">\n",
       "  <use xlink:href=\"#glyph-1606366588244597-0-1\" x=\"20.540759\" y=\"148.760209\"/>\n",
       "  <use xlink:href=\"#glyph-1606366588244597-0-5\" x=\"26.087877\" y=\"148.760209\"/>\n",
       "  <use xlink:href=\"#glyph-1606366588244597-0-6\" x=\"28.71232\" y=\"148.760209\"/>\n",
       "</g>\n",
       "<g style=\"fill:rgb(0%,0%,0%);fill-opacity:1;\">\n",
       "  <use xlink:href=\"#glyph-1606366588244597-0-1\" x=\"20.540759\" y=\"109.845648\"/>\n",
       "  <use xlink:href=\"#glyph-1606366588244597-0-5\" x=\"26.087877\" y=\"109.845648\"/>\n",
       "  <use xlink:href=\"#glyph-1606366588244597-0-7\" x=\"28.71232\" y=\"109.845648\"/>\n",
       "</g>\n",
       "<g style=\"fill:rgb(0%,0%,0%);fill-opacity:1;\">\n",
       "  <use xlink:href=\"#glyph-1606366588244597-0-1\" x=\"20.540759\" y=\"70.932086\"/>\n",
       "  <use xlink:href=\"#glyph-1606366588244597-0-5\" x=\"26.087877\" y=\"70.932086\"/>\n",
       "  <use xlink:href=\"#glyph-1606366588244597-0-8\" x=\"28.71232\" y=\"70.932086\"/>\n",
       "</g>\n",
       "<g style=\"fill:rgb(0%,0%,0%);fill-opacity:1;\">\n",
       "  <use xlink:href=\"#glyph-1606366588244597-0-3\" x=\"20.540759\" y=\"32.017526\"/>\n",
       "  <use xlink:href=\"#glyph-1606366588244597-0-5\" x=\"26.087877\" y=\"32.017526\"/>\n",
       "  <use xlink:href=\"#glyph-1606366588244597-0-1\" x=\"28.71232\" y=\"32.017526\"/>\n",
       "</g>\n",
       "<g clip-path=\"url(#clip-1606366588244597-1)\" clip-rule=\"nonzero\">\n",
       "<path style=\"fill:none;stroke-width:1.19553;stroke-linecap:butt;stroke-linejoin:miter;stroke:rgb(93.331909%,46.665955%,19.999695%);stroke-opacity:1;stroke-miterlimit:10;\" d=\"M 6.883159 166.324531 L 7.168934 165.181431 L 7.454709 163.928718 L 7.744399 162.570308 L 8.030174 161.106201 L 8.315949 159.54031 L 8.601724 157.884381 L 8.891414 156.138414 L 9.177189 154.318066 L 9.462964 152.435083 L 9.748739 150.497293 L 10.038429 148.520357 L 10.324204 146.519932 L 10.609979 144.507762 L 10.895754 142.507337 L 11.185443 140.526486 L 11.471218 138.580867 L 11.756993 136.690054 L 12.042768 134.865792 L 12.332458 133.115909 L 12.618233 131.45998 L 12.904008 129.901919 L 13.189783 128.449556 L 13.479473 127.114634 L 13.765248 125.89324 L 14.051023 124.797117 L 14.336798 123.818435 L 14.626488 122.96111 L 14.912263 122.217312 L 15.198038 121.583126 L 15.483813 121.050724 L 15.773502 120.60836 L 16.059277 120.25212 L 16.345052 119.966345 L 16.630827 119.735376 L 16.920517 119.547469 L 17.206292 119.386965 L 17.777842 119.089446 L 18.067532 118.925027 L 18.353307 118.733206 L 18.639082 118.494408 L 18.924857 118.200803 L 19.214546 117.836734 L 19.500321 117.398284 L 19.786096 116.877626 L 20.071871 116.263014 L 20.361561 115.554448 L 20.647336 114.7441 L 20.933111 113.839798 L 21.218886 112.833714 L 21.508576 111.73759 L 21.794351 110.551428 L 22.080126 109.286972 L 22.365901 107.95205 L 22.655591 106.554493 L 22.941366 105.106044 L 23.227141 103.622363 L 23.512916 102.115194 L 23.802605 100.600195 L 24.08838 99.08911 L 24.374155 97.601514 L 24.65993 96.145236 L 24.94962 94.73985 L 25.235395 93.397099 L 25.52117 92.124813 L 25.806945 90.938651 L 26.096635 89.842527 L 26.38241 88.848187 L 26.668185 87.959544 L 26.95396 87.180514 L 27.24365 86.511095 L 27.529425 85.95129 L 27.8152 85.501096 L 28.100975 85.152685 L 28.390664 84.902143 L 28.676439 84.737725 L 28.962214 84.655515 L 29.247989 84.639856 L 29.537679 84.675089 L 29.823454 84.753383 L 30.109229 84.859081 L 30.395004 84.972608 L 30.684694 85.086135 L 30.970469 85.180089 L 31.256244 85.246639 L 31.542019 85.262298 L 31.831709 85.223151 L 32.117484 85.113538 L 32.403259 84.921717 L 32.689034 84.647686 L 32.978723 84.279702 L 33.264498 83.813849 L 33.550273 83.250129 L 33.836048 82.58854 L 34.125738 81.829083 L 34.411513 80.975673 L 34.697288 80.036138 L 34.983063 79.022224 L 35.272753 77.937845 L 35.558528 76.79866 L 35.844303 75.616413 L 36.130078 74.402848 L 36.419768 73.173624 L 36.705543 71.940485 L 36.991318 70.723005 L 37.277093 69.536843 L 37.566782 68.389828 L 37.852557 67.29762 L 38.138332 66.275876 L 38.424107 65.328513 L 38.713797 64.471188 L 38.999572 63.711731 L 39.285347 63.050142 L 39.571122 62.490336 L 39.860812 62.040143 L 40.146587 61.695647 L 40.432362 61.449019 L 40.718137 61.300259 L 41.007827 61.241539 L 41.293602 61.265027 L 41.579377 61.35898 L 41.865152 61.511655 L 42.154841 61.711306 L 42.440616 61.946189 L 42.726391 62.196732 L 43.012166 62.451189 L 43.301856 62.697817 L 43.587631 62.917041 L 43.873406 63.101033 L 44.159181 63.234134 L 44.448871 63.304599 L 44.734646 63.308514 L 45.020421 63.230219 L 45.306196 63.069716 L 45.595886 62.815258 L 45.881661 62.474677 L 46.167436 62.040143 L 46.453211 61.515569 L 46.7429 60.904872 L 47.028675 60.211966 L 47.31445 59.448594 L 47.600225 58.622587 L 47.889915 57.741773 L 48.17569 56.821813 L 48.461465 55.870534 L 48.74724 54.903597 L 49.03693 53.932745 L 49.322705 52.973637 L 49.60848 52.038018 L 49.894255 51.141545 L 50.183945 50.288135 L 50.46972 49.49736 L 50.755495 48.773136 L 51.04127 48.123291 L 51.330959 47.555656 L 51.616734 47.074145 L 51.902509 46.678758 L 52.188284 46.373409 L 52.477974 46.158099 L 52.763749 46.024998 L 53.049524 45.970192 L 53.335299 45.989766 L 53.624989 46.07589 L 53.910764 46.220735 L 54.196539 46.408641 L 54.482314 46.631781 L 54.772003 46.878409 L 55.057778 47.132866 L 55.343553 47.391238 L 55.629328 47.637865 L 55.919018 47.861005 L 56.204793 48.048912 L 56.490568 48.193757 L 56.776343 48.28771 L 57.066033 48.322943 L 57.351808 48.291625 L 57.637583 48.197671 L 57.923358 48.029338 L 58.213048 47.786625 L 58.498823 47.477362 L 58.784598 47.097633 L 59.070373 46.651354 L 59.360062 46.146355 L 59.645837 45.590464 L 59.931612 44.987596 L 60.217387 44.349496 L 60.507077 43.680077 L 60.792852 42.995 L 61.078627 42.302094 L 61.364402 41.613102 L 61.654092 40.93194 L 61.939867 40.274266 L 62.225642 39.643995 L 62.511417 39.056786 L 62.801107 38.508724 L 63.086882 38.015469 L 63.372657 37.577019 L 63.658432 37.201206 L 63.948121 36.884113 L 64.233896 36.629656 L 64.519671 36.437834 L 64.805446 36.308648 L 65.095136 36.234268 L 65.380911 36.214695 L 65.666686 36.242098 L 65.952461 36.312563 L 66.242151 36.422175 L 66.527926 36.555276 L 66.813701 36.711865 L 67.103391 36.876283 L 67.389166 37.048531 L 67.674941 37.216865 L 67.960716 37.373454 L 68.250405 37.510469 L 68.53618 37.623996 L 68.821955 37.706205 L 69.10773 37.753182 L 69.39742 37.761012 L 69.683195 37.725779 L 69.96897 37.64357 L 70.254745 37.514384 L 70.544435 37.342136 L 70.83021 37.122911 L 71.115985 36.864539 L 71.40176 36.563105 L 71.69145 36.226439 L 71.977225 35.85454 L 72.263 35.459153 L 72.548775 35.044192 L 72.838464 34.609657 L 73.124239 34.167293 L 73.410014 33.721014 L 73.695789 33.27865 L 73.985479 32.844116 L 74.271254 32.421325 L 74.557029 32.018108 L 74.842804 31.63838 L 75.132494 31.289969 L 75.418269 30.965047 L 75.704044 30.679272 L 75.989819 30.424815 L 76.279509 30.209505 L 76.565284 30.025513 L 76.851059 29.880668 L 77.136834 29.771056 L 77.426523 29.692761 L 77.712298 29.645784 L 77.998073 29.622296 L 78.283848 29.626211 L 78.573538 29.649699 L 78.859313 29.688846 L 79.145088 29.735823 L 79.430863 29.794544 L 79.720553 29.853265 L 80.006328 29.9159 L 80.292103 29.966792 L 80.577878 30.013769 L 80.867568 30.045086 L 81.153343 30.060745 L 81.439118 30.060745 L 81.724893 30.037257 L 82.014582 29.994195 L 82.300357 29.927645 L 82.586132 29.837606 L 82.871907 29.724079 L 83.161597 29.587063 L 83.447372 29.42656 L 83.733147 29.246482 L 84.018922 29.046831 L 84.308612 28.831521 L 84.594387 28.600553 L 84.880162 28.357839 L 85.165937 28.103382 L 85.455626 27.84501 L 85.741401 27.578809 L 86.027176 27.316522 L 86.312952 27.050321 L 86.602641 26.791949 L 86.888416 26.541407 L 87.174191 26.298694 L 87.459966 26.06381 L 87.749656 25.844585 L 88.035431 25.64102 L 88.321206 25.449198 L 88.606981 25.273035 L 88.896671 25.116446 L 89.182446 24.975516 L 89.468221 24.84633 L 89.753996 24.736718 L 90.043685 24.642764 L 90.32946 24.560555 L 90.615235 24.494005 L 90.90101 24.439199 L 91.1907 24.392222 L 91.476475 24.353075 L 91.76225 24.321757 L 92.048025 24.298269 L 92.337715 24.27478 L 92.62349 24.255207 L 92.909265 24.231718 L 93.19504 24.212145 L 93.48473 24.184741 L 93.770505 24.157338 L 94.342055 24.079044 L 94.631744 24.028152 L 94.917519 23.969432 L 95.203294 23.902881 L 95.489069 23.824587 L 95.778759 23.742377 L 96.064534 23.644509 L 96.350309 23.542726 L 96.636084 23.429199 L 96.925774 23.303928 L 97.211549 23.174742 L 97.497324 23.037727 L 97.783099 22.892882 L 98.072789 22.744122 L 98.358564 22.591448 L 98.930114 22.27044 L 99.219803 22.106022 L 99.791353 21.777185 L 100.077128 21.616681 L 100.366818 21.452263 L 100.652593 21.295674 L 101.224143 20.990325 L 101.513833 20.849395 L 101.799608 20.708465 L 102.085383 20.575364 L 102.371158 20.450093 L 102.660848 20.332651 L 102.946623 20.223039 L 103.232398 20.117341 L 103.518173 20.019473 L 103.807862 19.933349 L 104.093637 19.85114 L 104.379412 19.77676 L 104.665187 19.706295 L 104.954877 19.643659 L 105.240652 19.584938 L 105.526427 19.534047 L 105.812202 19.48707 L 106.101892 19.444008 L 106.387667 19.400946 L 106.959217 19.322652 L 107.248907 19.287419 L 108.106232 19.169977 L 108.395921 19.123001 L 108.681696 19.076024 L 108.967471 19.025133 L 109.253246 18.970326 L 109.542936 18.907691 L 109.828711 18.84114 L 110.114486 18.770675 L 110.400261 18.688466 L 110.689951 18.602342 L 110.975726 18.512303 L 111.261501 18.414435 L 111.547276 18.308738 L 111.836966 18.195211 L 112.122741 18.077769 L 112.408516 17.956412 L 112.694291 17.831141 L 112.98398 17.701955 L 113.269755 17.56494 L 113.55553 17.431839 L 113.841305 17.294824 L 114.130995 17.157808 L 114.702545 16.883777 L 114.98832 16.750677 L 115.27801 16.621491 L 115.563785 16.496219 L 115.84956 16.378778 L 116.135335 16.265251 L 116.425025 16.159553 L 116.7108 16.061685 L 116.996575 15.971646 L 117.28235 15.889437 L 117.572039 15.815057 L 117.857814 15.748507 L 118.143589 15.693701 L 118.429364 15.646724 L 118.719054 15.607577 L 119.004829 15.572344 L 119.290604 15.548856 L 119.576379 15.529282 L 119.866069 15.513623 L 120.151844 15.501879 L 120.723394 15.48622 L 121.013083 15.478391 L 121.298858 15.470561 L 121.584633 15.458817 L 121.870408 15.443158 L 122.160098 15.427499 L 122.445873 15.400096 L 122.731648 15.368778 L 123.017423 15.333546 L 123.307113 15.286569 L 123.592888 15.227848 L 123.878663 15.165213 L 124.164438 15.090833 L 124.454128 15.008624 L 124.739903 14.91467 L 125.025678 14.816802 L 125.311453 14.70719 L 125.601142 14.593663 L 125.886917 14.472306 L 126.172692 14.347035 L 126.462382 14.217849 L 126.748157 14.084748 L 127.033932 13.955562 L 127.319707 13.822462 L 127.609397 13.693276 L 127.895172 13.568004 L 128.180947 13.446648 L 128.466722 13.329206 L 128.756412 13.223508 L 129.042187 13.12564 L 129.327962 13.035602 L 129.613737 12.953392 L 129.903426 12.886842 L 130.189201 12.824206 L 130.474976 12.77723 L 130.760751 12.741997 L 131.050441 12.714594 L 131.336216 12.69502 L 131.621991 12.687191 L 131.907766 12.687191 L 132.197456 12.691106 L 132.483231 12.70285 L 132.769006 12.718509 L 133.054781 12.738082 L 133.344471 12.753741 L 133.630246 12.773315 L 133.916021 12.788974 L 134.201796 12.800718 L 134.491485 12.808548 L 134.77726 12.812462 L 135.063035 12.804633 L 135.34881 12.792889 L 135.6385 12.7694 L 135.924275 12.734168 L 136.21005 12.691106 L 136.495825 12.640214 L 136.785515 12.577579 L 137.07129 12.503199 L 137.357065 12.42099 L 137.64284 12.330951 L 137.93253 12.233083 L 138.218305 12.1313 L 138.50408 12.021688 L 138.789855 11.908161 L 139.079544 11.794633 L 139.365319 11.681106 L 139.651094 11.563665 L 139.936869 11.450138 L 140.226559 11.34444 L 140.512334 11.238742 L 140.798109 11.140874 L 141.083884 11.050835 L 141.373574 10.968626 L 141.659349 10.894246 L 141.945124 10.831611 L 142.230899 10.776805 L 142.520589 10.733743 L 142.806364 10.69851 L 143.092139 10.675022 L 143.377914 10.659363 L 143.667603 10.651533 L 143.953378 10.655448 L 144.239153 10.663278 L 144.524928 10.678937 L 144.814618 10.694595 L 145.671943 10.76506 L 145.961633 10.788549 L 146.247408 10.812037 L 146.533183 10.827696 L 146.818958 10.83944 L 147.108648 10.84727 L 147.394423 10.84727 L 147.680198 10.843355 L 147.965973 10.827696 L 148.255662 10.804208 L 148.541437 10.776805 L 148.827212 10.733743 L 149.112987 10.686766 L 149.402677 10.63196 L 149.688452 10.569324 L 149.974227 10.498859 L 150.260002 10.424479 L 150.549692 10.34227 L 150.835467 10.260061 L 151.407017 10.079983 L 151.696707 9.989945 L 151.982482 9.899906 L 152.554032 9.727658 L 152.843721 9.649364 L 153.129496 9.571069 L 153.415271 9.500604 L 153.701046 9.434054 L 153.990736 9.379247 L 154.276511 9.328356 L 154.562286 9.285294 L 154.848061 9.250061 L 155.137751 9.222658 L 155.423526 9.203085 L 155.709301 9.187426 L 155.995076 9.183511 L 156.284765 9.183511 L 156.57054 9.187426 L 156.856315 9.195255 L 157.14209 9.207 L 157.43178 9.222658 L 157.717555 9.238317 L 158.00333 9.257891 L 158.289105 9.27355 L 158.578795 9.289209 L 158.86457 9.304868 L 159.150345 9.316612 L 159.43612 9.324441 L 160.011585 9.324441 L 160.583135 9.300953 L 160.872824 9.281379 L 161.158599 9.253976 L 161.444374 9.222658 L 161.730149 9.183511 L 162.019839 9.140449 L 162.305614 9.093472 L 162.591389 9.038666 L 162.877164 8.979945 L 163.166854 8.921225 L 164.024179 8.721573 L 164.313869 8.655023 L 164.885419 8.521922 L 165.171194 8.459287 L 165.460883 8.396651 L 166.032433 8.287039 L 166.318208 8.240062 L 166.607898 8.193085 L 167.179448 8.12262 L 167.465223 8.095217 L 167.754913 8.071729 L 168.040688 8.05607 L 168.326463 8.044326 L 168.612238 8.036496 L 169.187703 8.036496 L 169.759253 8.052155 L 170.048942 8.059985 L 170.906267 8.095217 L 171.195957 8.106961 L 171.481732 8.118706 L 171.767507 8.126535 L 172.053282 8.13045 L 172.342972 8.134365 L 172.914522 8.126535 L 173.200297 8.114791 L 173.489987 8.103047 L 173.775762 8.083473 L 174.347312 8.028667 L 174.637001 7.997349 L 175.208551 7.919055 L 175.494326 7.872078 L 175.784016 7.825101 L 176.641341 7.672427 L 176.931031 7.617621 L 177.216806 7.562815 L 177.788356 7.461032 L 178.078046 7.41014 L 178.363821 7.363164 L 178.649596 7.320102 L 178.935371 7.280954 L 179.22506 7.245722 L 179.510835 7.214404 L 179.79661 7.187001 L 180.082385 7.163512 L 180.372075 7.147854 L 180.943625 7.124365 L 181.2294 7.120451 L 181.51909 7.120451 L 182.09064 7.12828 L 182.376415 7.136109 L 182.666105 7.147854 L 182.95188 7.155683 L 183.52343 7.179171 L 183.813119 7.190916 L 184.670444 7.214404 L 185.245909 7.214404 L 185.531684 7.210489 L 185.817459 7.198745 L 186.107149 7.187001 L 186.392924 7.171342 L 186.678699 7.147854 L 186.968388 7.124365 L 187.539939 7.06173 L 187.825714 7.022582 L 188.115403 6.983435 L 188.401178 6.944288 L 188.686953 6.897311 L 188.972728 6.854249 L 189.262418 6.807272 L 189.548193 6.76421 L 189.833968 6.717234 L 190.119743 6.674172 L 190.409433 6.63111 L 190.695208 6.591962 L 190.980983 6.55673 L 191.266758 6.525412 L 191.556447 6.494094 L 192.127997 6.447118 L 192.413772 6.431459 L 192.703462 6.4158 L 192.989237 6.40797 L 193.275012 6.404056 L 193.850477 6.404056 L 194.707802 6.427544 L 194.997492 6.439288 L 195.569042 6.462777 L 195.854817 6.470606 L 196.144506 6.48235 L 196.430281 6.49018 L 197.001831 6.498009 L 197.291521 6.498009 L 197.577296 6.494094 L 197.863071 6.486265 L 198.148846 6.474521 L 198.438536 6.458862 L 199.010086 6.419715 L 199.295861 6.392311 L 199.585551 6.364908 L 199.871326 6.329676 L 200.157101 6.298358 L 200.442876 6.259211 L 200.732565 6.223978 L 201.304115 6.145684 L 201.58989 6.110451 L 201.87958 6.071304 L 202.165355 6.036071 L 202.736905 5.973436 L 203.026595 5.946033 L 203.31237 5.922544 L 203.88392 5.883397 L 204.17361 5.871653 L 204.74516 5.855994 L 205.030935 5.852079 L 205.320624 5.852079 L 205.892174 5.859909 L 206.177949 5.867738 L 206.467639 5.875568 L 207.324964 5.899056 L 207.614654 5.906885 L 207.900429 5.914715 L 208.186204 5.91863 L 208.761669 5.91863 L 209.047444 5.914715 L 209.618994 5.899056 L 209.908683 5.883397 L 210.194458 5.867738 L 210.766008 5.828591 L 211.055698 5.805103 L 211.913023 5.722893 L 212.202713 5.691575 L 212.488488 5.664172 L 212.774263 5.632855 L 213.060038 5.605452 L 213.349728 5.578048 L 213.635503 5.550645 L 213.921278 5.527157 L 214.207053 5.507583 L 214.496742 5.48801 L 215.068292 5.456692 L 215.354067 5.448862 L 215.643757 5.441033 L 216.215307 5.433204 L 216.790772 5.433204 L 217.648097 5.444948 L 217.937787 5.448862 L 218.795112 5.460607 L 219.370576 5.460607 L 219.942126 5.452777 L 220.231816 5.444948 L 220.517591 5.437118 L 221.089141 5.41363 L 221.378831 5.397971 L 222.236156 5.33925 L 222.525845 5.319677 L 222.81162 5.296188 L 223.097395 5.276615 L 223.383171 5.253126 L 223.67286 5.233553 L 224.530185 5.174832 L 224.819875 5.159173 L 225.6772 5.12394 L 225.96689 5.116111 L 226.824215 5.104367 L 227.399679 5.104367 L 227.685454 5.108281 L 227.971229 5.108281 L 228.260919 5.112196 L 228.832469 5.112196 L 229.118244 5.116111 L 229.407934 5.112196 L 229.693709 5.112196 L 230.265259 5.104367 L 230.554949 5.096537 L 230.840724 5.088708 L 231.412274 5.065219 L 231.701963 5.053475 L 232.559288 5.006498 L 232.848978 4.99084 L 233.134753 4.971266 L 233.420528 4.955607 L 233.706303 4.936033 L 233.995993 4.920374 L 234.281768 4.904716 L 234.853318 4.881227 L 235.143008 4.869483 L 236.000333 4.845995 L 236.290022 4.845995 \" transform=\"matrix(0.997835,0,0,-0.997835,37.772369,194.710502)\"/>\n",
       "</g>\n",
       "<g style=\"fill:rgb(0%,0%,0%);fill-opacity:1;\">\n",
       "  <use xlink:href=\"#glyph-1606366588244597-1-1\" x=\"147.584091\" y=\"219.608477\"/>\n",
       "  <use xlink:href=\"#glyph-1606366588244597-1-2\" x=\"154.112389\" y=\"219.608477\"/>\n",
       "  <use xlink:href=\"#glyph-1606366588244597-1-3\" x=\"157.07582\" y=\"219.608477\"/>\n",
       "  <use xlink:href=\"#glyph-1606366588244597-1-4\" x=\"165.714606\" y=\"219.608477\"/>\n",
       "</g>\n",
       "<g style=\"fill:rgb(0%,0%,0%);fill-opacity:1;\">\n",
       "  <use xlink:href=\"#glyph-1606366588244597-2-1\" x=\"11.157121\" y=\"149.779996\"/>\n",
       "  <use xlink:href=\"#glyph-1606366588244597-2-2\" x=\"11.157121\" y=\"143.689105\"/>\n",
       "  <use xlink:href=\"#glyph-1606366588244597-2-3\" x=\"11.157121\" y=\"138.330871\"/>\n",
       "</g>\n",
       "<g style=\"fill:rgb(0%,0%,0%);fill-opacity:1;\">\n",
       "  <use xlink:href=\"#glyph-1606366588244597-2-4\" x=\"11.157121\" y=\"132.57897\"/>\n",
       "</g>\n",
       "<g style=\"fill:rgb(0%,0%,0%);fill-opacity:1;\">\n",
       "  <use xlink:href=\"#glyph-1606366588244597-2-5\" x=\"11.157121\" y=\"127.614402\"/>\n",
       "  <use xlink:href=\"#glyph-1606366588244597-2-6\" x=\"11.157121\" y=\"122.934149\"/>\n",
       "  <use xlink:href=\"#glyph-1606366588244597-2-7\" x=\"11.157121\" y=\"119.478634\"/>\n",
       "  <use xlink:href=\"#glyph-1606366588244597-2-6\" x=\"11.157121\" y=\"114.481261\"/>\n",
       "  <use xlink:href=\"#glyph-1606366588244597-2-8\" x=\"11.157121\" y=\"111.025746\"/>\n",
       "  <use xlink:href=\"#glyph-1606366588244597-2-9\" x=\"11.157121\" y=\"108.062315\"/>\n",
       "  <use xlink:href=\"#glyph-1606366588244597-2-10\" x=\"11.157121\" y=\"102.550988\"/>\n",
       "</g>\n",
       "<g style=\"fill:rgb(0%,0%,0%);fill-opacity:1;\">\n",
       "  <use xlink:href=\"#glyph-1606366588244597-2-11\" x=\"11.157121\" y=\"93.890332\"/>\n",
       "</g>\n",
       "<g style=\"fill:rgb(0%,0%,0%);fill-opacity:1;\">\n",
       "  <use xlink:href=\"#glyph-1606366588244597-2-7\" x=\"11.157121\" y=\"87.41671\"/>\n",
       "  <use xlink:href=\"#glyph-1606366588244597-2-12\" x=\"11.157121\" y=\"82.419336\"/>\n",
       "  <use xlink:href=\"#glyph-1606366588244597-2-13\" x=\"11.157121\" y=\"79.532451\"/>\n",
       "  <use xlink:href=\"#glyph-1606366588244597-2-4\" x=\"11.157121\" y=\"73.725874\"/>\n",
       "</g>\n",
       "<g style=\"fill:rgb(0%,0%,0%);fill-opacity:1;\">\n",
       "  <use xlink:href=\"#glyph-1606366588244597-3-1\" x=\"122.299955\" y=\"11.639743\"/>\n",
       "</g>\n",
       "<g style=\"fill:rgb(0%,0%,0%);fill-opacity:1;\">\n",
       "  <use xlink:href=\"#glyph-1606366588244597-3-2\" x=\"130.829393\" y=\"11.639743\"/>\n",
       "  <use xlink:href=\"#glyph-1606366588244597-3-3\" x=\"135.481814\" y=\"11.639743\"/>\n",
       "  <use xlink:href=\"#glyph-1606366588244597-3-4\" x=\"141.673113\" y=\"11.639743\"/>\n",
       "  <use xlink:href=\"#glyph-1606366588244597-3-5\" x=\"144.905949\" y=\"11.639743\"/>\n",
       "  <use xlink:href=\"#glyph-1606366588244597-3-2\" x=\"151.371622\" y=\"11.639743\"/>\n",
       "  <use xlink:href=\"#glyph-1606366588244597-3-6\" x=\"156.024043\" y=\"11.639743\"/>\n",
       "</g>\n",
       "<g style=\"fill:rgb(0%,0%,0%);fill-opacity:1;\">\n",
       "  <use xlink:href=\"#glyph-1606366588244597-0-9\" x=\"161.630612\" y=\"11.639743\"/>\n",
       "</g>\n",
       "<g style=\"fill:rgb(0%,0%,0%);fill-opacity:1;\">\n",
       "  <use xlink:href=\"#glyph-1606366588244597-0-10\" x=\"171.114393\" y=\"11.639743\"/>\n",
       "</g>\n",
       "<g style=\"fill:rgb(0%,0%,0%);fill-opacity:1;\">\n",
       "  <use xlink:href=\"#glyph-1606366588244597-0-1\" x=\"182.160911\" y=\"11.639743\"/>\n",
       "  <use xlink:href=\"#glyph-1606366588244597-0-5\" x=\"187.708029\" y=\"11.639743\"/>\n",
       "  <use xlink:href=\"#glyph-1606366588244597-0-2\" x=\"190.332471\" y=\"11.639743\"/>\n",
       "</g>\n",
       "<path style=\"fill-rule:nonzero;fill:rgb(100%,100%,100%);fill-opacity:0.9;stroke-width:0.99628;stroke-linecap:butt;stroke-linejoin:miter;stroke:rgb(13.331604%,13.331604%,33.332825%);stroke-opacity:0.1;stroke-miterlimit:10;\" d=\"M 180.837927 149.804387 L 237.808936 149.804387 L 237.808936 167.252321 L 180.837927 167.252321 Z M 180.837927 149.804387 \" transform=\"matrix(0.997835,0,0,-0.997835,37.772369,194.710502)\"/>\n",
       "<path style=\"fill:none;stroke-width:1.19553;stroke-linecap:butt;stroke-linejoin:miter;stroke:rgb(93.331909%,46.665955%,19.999695%);stroke-opacity:1;stroke-miterlimit:10;\" d=\"M 0.00181654 -0.00160358 L 17.007387 -0.00160358 \" transform=\"matrix(0.997835,0,0,-0.997835,221.795062,36.525744)\"/>\n",
       "<g style=\"fill:rgb(13.331604%,13.331604%,33.332825%);fill-opacity:1;\">\n",
       "  <use xlink:href=\"#glyph-1606366588244597-4-1\" x=\"241.350629\" y=\"39.76272\"/>\n",
       "  <use xlink:href=\"#glyph-1606366588244597-4-2\" x=\"247.279484\" y=\"39.76272\"/>\n",
       "  <use xlink:href=\"#glyph-1606366588244597-4-3\" x=\"252.731167\" y=\"39.76272\"/>\n",
       "</g>\n",
       "<g style=\"fill:rgb(13.331604%,13.331604%,33.332825%);fill-opacity:1;\">\n",
       "  <use xlink:href=\"#glyph-1606366588244597-0-11\" x=\"259.156992\" y=\"39.76272\"/>\n",
       "</g>\n",
       "<g style=\"fill:rgb(13.331604%,13.331604%,33.332825%);fill-opacity:1;\">\n",
       "  <use xlink:href=\"#glyph-1606366588244597-5-1\" x=\"265.921314\" y=\"35.289426\"/>\n",
       "</g>\n",
       "<g style=\"fill:rgb(13.331604%,13.331604%,33.332825%);fill-opacity:1;\">\n",
       "  <use xlink:href=\"#glyph-1606366588244597-5-2\" x=\"264.727903\" y=\"42.267285\"/>\n",
       "</g>\n",
       "</g>\n",
       "</svg>\n",
       "\n"
      ]
     },
     "execution_count": 553,
     "metadata": {},
     "output_type": "execute_result"
    }
   ],
   "source": [
    "plot(xlabel=\"Time\", ylabel=\"Expectation Value\")\n",
    "plot!(ts, hcat(fouts...)',\n",
    "    title = latexstring(\"$N spins, \\$\\\\lambda = $λ\\$\"),\n",
    "    label = [\n",
    "        L\"\\mathop{\\mathrm{var}} \\pauli_1^x\"\n",
    "        ])"
   ]
  }
 ],
 "metadata": {
  "kernelspec": {
   "display_name": "Julia 1.5.0-rc1",
   "language": "julia",
   "name": "julia-1.5"
  },
  "language_info": {
   "file_extension": ".jl",
   "mimetype": "application/julia",
   "name": "julia",
   "version": "1.5.0"
  },
  "latex_envs": {
   "LaTeX_envs_menu_present": true,
   "autoclose": false,
   "autocomplete": true,
   "bibliofile": "biblio.bib",
   "cite_by": "apalike",
   "current_citInitial": 1,
   "eqLabelWithNumbers": true,
   "eqNumInitial": 1,
   "hotkeys": {
    "equation": "Ctrl-E",
    "itemize": "Ctrl-I"
   },
   "labels_anchors": false,
   "latex_user_defs": false,
   "report_style_numbering": false,
   "user_envs_cfg": false
  },
  "notify_time": "30",
  "toc": {
   "base_numbering": 1,
   "nav_menu": {},
   "number_sections": true,
   "sideBar": true,
   "skip_h1_title": false,
   "title_cell": "Table of Contents",
   "title_sidebar": "Contents",
   "toc_cell": false,
   "toc_position": {
    "height": "calc(100% - 180px)",
    "left": "10px",
    "top": "150px",
    "width": "272px"
   },
   "toc_section_display": true,
   "toc_window_display": false
  }
 },
 "nbformat": 4,
 "nbformat_minor": 4
}
