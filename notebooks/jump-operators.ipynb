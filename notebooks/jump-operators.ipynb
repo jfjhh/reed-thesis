{
 "cells": [
  {
   "cell_type": "markdown",
   "metadata": {},
   "source": [
    "# Computation of transverse-Ising jump operators"
   ]
  },
  {
   "cell_type": "code",
   "execution_count": 1,
   "metadata": {
    "ExecuteTime": {
     "end_time": "2020-11-20T21:49:16.331000-08:00",
     "start_time": "2020-11-21T05:49:16.328Z"
    },
    "tags": [
     "hide"
    ]
   },
   "outputs": [],
   "source": [
    "include(\"notebook_preamble.jl\");"
   ]
  },
  {
   "cell_type": "code",
   "execution_count": 2,
   "metadata": {},
   "outputs": [],
   "source": [
    "using BenchmarkTools, Revise\n",
    "includet(\"TransverseIsingModels.jl\")\n",
    "using .TransverseIsingModels\n",
    "TIM = TransverseIsingModels;"
   ]
  },
  {
   "cell_type": "code",
   "execution_count": 3,
   "metadata": {},
   "outputs": [],
   "source": [
    "title(s::TransverseIsingModel) = latexstring(\"$(s.N)-spin transverse Ising model with \\$\\\\lambda =\\$ $(s.λ)\")\n",
    "title(s::TranslationInvariantTransverseIsingModel) = latexstring(\"$(s.N)-spin transverse* Ising model with \\$\\\\lambda =\\$ $(s.λ)\");"
   ]
  },
  {
   "cell_type": "code",
   "execution_count": 4,
   "metadata": {},
   "outputs": [],
   "source": [
    "# These can likely be made more efficient.\n",
    "opip(A, B) = tr(dagger(A) * B)\n",
    "opip(A) = tr(dagger(A) * A)\n",
    "opnorm(A) = √opip(A)\n",
    "opnormalize(A) = A / opnorm(A)\n",
    "opcos(A, B) = real(abs(opip(A, B)) / (opnorm(A) * opnorm(B)))\n",
    "\n",
    "# project(P, J) = J == zero(J) ? zero(eltype(J)) : opip(P / opip(P), J)\n",
    "project(P, J) = J == zero(J) ? missing : opip(P / opip(P), J)\n",
    "# jumpcos(P, J) = J == zero(J) ? real(one(eltype(J))) : opcos(P, J);\n",
    "jumpcos(P, J) = J == zero(J) ? missing : opcos(P, J);"
   ]
  },
  {
   "cell_type": "code",
   "execution_count": 35,
   "metadata": {},
   "outputs": [],
   "source": [
    "tim = TransverseIsingModel(5, 0.5)\n",
    "bes = basiseigen(tim)\n",
    "As = [changebasis(op(tim, i); basiseigensys=bes)\n",
    "    for i in 1:tim.N, op in [sx, sy, sz]]\n",
    "Ps = [changebasis(op(tim, i); basiseigensys=bes)\n",
    "    for i in 1:tim.N, op in [sx, sy, sz]]\n",
    "Πs, ωs = jumpinfo(tim; basiseigensys=bes);"
   ]
  },
  {
   "cell_type": "code",
   "execution_count": 36,
   "metadata": {},
   "outputs": [],
   "source": [
    "using Statistics"
   ]
  },
  {
   "cell_type": "code",
   "execution_count": 159,
   "metadata": {},
   "outputs": [],
   "source": [
    "function jumpcomputation(s, Πs, ωs, As, Ps)\n",
    "    M = length(ωs)\n",
    "    m = sum(values(ωs)) do ΔEs\n",
    "#         changebasis(op(tim, i); basiseigensys=bes)\n",
    "        separations = map(0:(s.N-1)) do j\n",
    "            Cs = map(Iterators.product(As, Ps)) do (A, P)\n",
    "                J = jumpoperator(ΔEs, A, Πs)\n",
    "                project(P, J)\n",
    "            end\n",
    "            # Translating both sites by i should not change the result.\n",
    "            testCs = (Cs[i,:,((i+j-1) % s.N) + 1,:] for i in 1:s.N)\n",
    "            testpairs = zip(testCs, Iterators.rest(testCs, 2))\n",
    "            reduce((a, b) -> a .& b,\n",
    "                (TIM.isapprox.(x, y, atol=1e-12) for (x, y) in testpairs))\n",
    "        end\n",
    "        reduce((a, b) -> a .& b, separations) |> skipmissing |> all\n",
    "    end\n",
    "    m, M\n",
    "end;"
   ]
  },
  {
   "cell_type": "code",
   "execution_count": 161,
   "metadata": {},
   "outputs": [
    {
     "name": "stdout",
     "output_type": "stream",
     "text": [
      " 10.034344 seconds (11.06 M allocations: 10.885 GiB, 12.27% gc time)\n"
     ]
    },
    {
     "data": {
      "text/plain": [
       "(235, 235)"
      ]
     },
     "execution_count": 161,
     "metadata": {},
     "output_type": "execute_result"
    }
   ],
   "source": [
    "@time jumpcomputation(tim, Πs, ωs, As, Ps)"
   ]
  },
  {
   "cell_type": "code",
   "execution_count": 162,
   "metadata": {},
   "outputs": [],
   "source": [
    "function jumpcomputation(s, Πs, ωs, bes)\n",
    "    M = length(ωs)\n",
    "    m = sum(values(ωs)) do ΔEs\n",
    "        separations = map(0:(s.N-1)) do j\n",
    "            # Translating both sites by i should not change the result.\n",
    "            testCs = map(1:s.N) do i\n",
    "                map(Iterators.product([sx, sy, sz], [sx, sy, sz])) do (sa, sb)\n",
    "                    A = changebasis(sa(s, i); basiseigensys=bes)\n",
    "                    P = changebasis(sb(s, ((i+j-1) % s.N) + 1); basiseigensys=bes)\n",
    "                    project(P, jumpoperator(ΔEs, A, Πs))\n",
    "                end\n",
    "            end\n",
    "            C0, restCs = Iterators.peel(testCs)\n",
    "            T = ones(Bool, axes(C0))\n",
    "            p, _ = reduce(((p, a), b) -> (p .& TIM.isapprox.(a, b, atol=1e-12), b), restCs, init=(T, C0))\n",
    "            p\n",
    "        end\n",
    "        reduce((a, b) -> a .& b, separations) |> skipmissing |> all\n",
    "    end\n",
    "    m, M\n",
    "end;"
   ]
  },
  {
   "cell_type": "code",
   "execution_count": 244,
   "metadata": {},
   "outputs": [],
   "source": [
    "function J(s, i, j, sa, sb, ΔEs, Πs, bes)\n",
    "    A = changebasis(sa(s, i); basiseigensys=bes)\n",
    "    P = changebasis(sb(s, ((i+j-1) % s.N) + 1); basiseigensys=bes)\n",
    "    project(P, jumpoperator(ΔEs, A, Πs))\n",
    "end\n",
    "function jumpcomputation(s)\n",
    "    bes = basiseigen(s)\n",
    "    Πs, ωs = jumpinfo(s; basiseigensys=bes)\n",
    "    sum(values(ωs)) do ΔEs\n",
    "        all([sx, sy, sz]) do sa\n",
    "            all([sx, sy, sz]) do sb\n",
    "                all(0:(s.N-1)) do j\n",
    "                    (all ∘ skipmissing ∘ map)(2:(s.N-1)) do i\n",
    "                        TIM.isapprox.(J(s, 1, j, sa, sb, ΔEs, Πs, bes), J(s, i, j, sa, sb, ΔEs, Πs, bes), atol=1e-12)\n",
    "                    end\n",
    "                end\n",
    "            end\n",
    "        end\n",
    "    end\n",
    "end;"
   ]
  },
  {
   "cell_type": "code",
   "execution_count": 245,
   "metadata": {},
   "outputs": [
    {
     "name": "stdout",
     "output_type": "stream",
     "text": [
      "Variables\n",
      "  #self#\u001b[36m::Core.Compiler.Const(jumpcomputation, false)\u001b[39m\n",
      "  s\u001b[36m::TransverseIsingModel\u001b[39m\n",
      "  @_3\u001b[36m::Int64\u001b[39m\n",
      "  #847\u001b[91m\u001b[1m::var\"#847#852\"{TransverseIsingModel,_A,_B} where _B where _A\u001b[22m\u001b[39m\n",
      "  bes\u001b[91m\u001b[1m::NamedTuple{(:vals, :kets, :P, :Pinv),_A} where _A<:Tuple\u001b[22m\u001b[39m\n",
      "  Πs\u001b[91m\u001b[1m::Dict{_A,_B} where _B where _A\u001b[22m\u001b[39m\n",
      "  ωs\u001b[91m\u001b[1m::Dict{_A,_B} where _B where _A\u001b[22m\u001b[39m\n",
      "\n",
      "Body\u001b[91m\u001b[1m::Any\u001b[22m\u001b[39m\n",
      "\u001b[90m1 ─\u001b[39m       (bes = Main.basiseigen(s))\n",
      "\u001b[90m│  \u001b[39m %2  = (:basiseigensys,)\u001b[36m::Core.Compiler.Const((:basiseigensys,), false)\u001b[39m\n",
      "\u001b[90m│  \u001b[39m %3  = Core.apply_type(Core.NamedTuple, %2)\u001b[36m::Core.Compiler.Const(NamedTuple{(:basiseigensys,),T} where T<:Tuple, false)\u001b[39m\n",
      "\u001b[90m│  \u001b[39m %4  = Core.tuple(bes)\u001b[91m\u001b[1m::Tuple{NamedTuple{(:vals, :kets, :P, :Pinv),_A} where _A<:Tuple}\u001b[22m\u001b[39m\n",
      "\u001b[90m│  \u001b[39m %5  = (%3)(%4)\u001b[91m\u001b[1m::NamedTuple{(:basiseigensys,),_A} where _A<:Tuple\u001b[22m\u001b[39m\n",
      "\u001b[90m│  \u001b[39m %6  = Core.kwfunc(Main.jumpinfo)\u001b[36m::Core.Compiler.Const(Main.TransverseIsingModels.var\"#jumpinfo##kw\"(), false)\u001b[39m\n",
      "\u001b[90m│  \u001b[39m %7  = (%6)(%5, Main.jumpinfo, s)\u001b[91m\u001b[1m::Tuple{Dict{_A,_B} where _B where _A,Dict{_A,_B} where _B where _A}\u001b[22m\u001b[39m\n",
      "\u001b[90m│  \u001b[39m %8  = Base.indexed_iterate(%7, 1)\u001b[36m::Core.Compiler.PartialStruct(Tuple{Dict{_A,_B} where _B where _A,Int64}, Any[Dict{_A,_B} where _B where _A, Core.Compiler.Const(2, false)])\u001b[39m\n",
      "\u001b[90m│  \u001b[39m       (Πs = Core.getfield(%8, 1))\n",
      "\u001b[90m│  \u001b[39m       (@_3 = Core.getfield(%8, 2))\n",
      "\u001b[90m│  \u001b[39m %11 = Base.indexed_iterate(%7, 2, @_3::Core.Compiler.Const(2, false))\u001b[36m::Core.Compiler.PartialStruct(Tuple{Dict{_A,_B} where _B where _A,Int64}, Any[Dict{_A,_B} where _B where _A, Core.Compiler.Const(3, false)])\u001b[39m\n",
      "\u001b[90m│  \u001b[39m       (ωs = Core.getfield(%11, 1))\n",
      "\u001b[90m│  \u001b[39m %13 = Main.:(var\"#847#852\")\u001b[36m::Core.Compiler.Const(var\"#847#852\", false)\u001b[39m\n",
      "\u001b[90m│  \u001b[39m %14 = Core.typeof(s)\u001b[36m::Core.Compiler.Const(TransverseIsingModel, false)\u001b[39m\n",
      "\u001b[90m│  \u001b[39m %15 = Core.typeof(bes)\u001b[91m\u001b[1m::Type{NamedTuple{(:vals, :kets, :P, :Pinv),_A}} where _A<:Tuple\u001b[22m\u001b[39m\n",
      "\u001b[90m│  \u001b[39m %16 = Core.typeof(Πs)\u001b[91m\u001b[1m::Type{Dict{_A,_B}} where _B where _A\u001b[22m\u001b[39m\n",
      "\u001b[90m│  \u001b[39m %17 = Core.apply_type(%13, %14, %15, %16)\u001b[91m\u001b[1m::Type{var\"#847#852\"{TransverseIsingModel,_A,_B}} where _B where _A\u001b[22m\u001b[39m\n",
      "\u001b[90m│  \u001b[39m %18 = bes\u001b[91m\u001b[1m::NamedTuple{(:vals, :kets, :P, :Pinv),_A} where _A<:Tuple\u001b[22m\u001b[39m\n",
      "\u001b[90m│  \u001b[39m       (#847 = %new(%17, s, %18, Πs))\n",
      "\u001b[90m│  \u001b[39m %20 = #847\u001b[91m\u001b[1m::var\"#847#852\"{TransverseIsingModel,_A,_B} where _B where _A\u001b[22m\u001b[39m\n",
      "\u001b[90m│  \u001b[39m %21 = Main.values(ωs)\u001b[91m\u001b[1m::Base.ValueIterator\u001b[22m\u001b[39m\n",
      "\u001b[90m│  \u001b[39m %22 = Main.sum(%20, %21)\u001b[91m\u001b[1m::Any\u001b[22m\u001b[39m\n",
      "\u001b[90m└──\u001b[39m       return %22\n"
     ]
    }
   ],
   "source": [
    "@code_warntype jumpcomputation(TransverseIsingModel(5, 0.5))"
   ]
  },
  {
   "cell_type": "markdown",
   "metadata": {},
   "source": [
    "**TODO**\n",
    "- Just have things take a `basiseigensys` keyword argument.\n",
    "- Fix everything being wrong.\n",
    "- Fix slowness (precompilation and type-instability).\n",
    "- Check with the $\\opr{\\eta}_k$?"
   ]
  },
  {
   "cell_type": "code",
   "execution_count": null,
   "metadata": {},
   "outputs": [],
   "source": [
    "function jumpcomputation(s, As, Ps; basiseigensys=basiseigensys)\n",
    "    jumpoperators(tim; basiseigensys=basiseigensys) do jumpop\n",
    "        Js = (jumpop(A) for A in As)\n",
    "    #     [jumpcos(P, J) for J in Js, P in Ps]\n",
    "        [project(P, J) for J in Js, P in Ps]\n",
    "    end\n",
    "end"
   ]
  },
  {
   "cell_type": "code",
   "execution_count": null,
   "metadata": {},
   "outputs": [],
   "source": [
    "@time Jωs = jumpcomputation(tim, As, Ps, basiseigensys=ebs);"
   ]
  },
  {
   "cell_type": "code",
   "execution_count": null,
   "metadata": {},
   "outputs": [],
   "source": [
    "# Jω = collect(Jωs)[22][2];\n",
    "Jω = first(Jωs)[2]\n",
    "[Jω[1,:,1,:], Jω[2,:,2,:]] .|> display;"
   ]
  },
  {
   "cell_type": "code",
   "execution_count": null,
   "metadata": {},
   "outputs": [],
   "source": [
    "sum(values(Jωs)) do Jω\n",
    "    reduce((a, b) -> a .& b,\n",
    "        map(0:(tim.N-1)) do j\n",
    "            # Translating both sites by i should not change the result.\n",
    "            testJs = (Jω[i,:,((i+j-1) % tim.N) + 1,:] for i in 1:tim.N)\n",
    "            testpairs = zip(testJs, Iterators.rest(testJs, 2))\n",
    "            reduce((a, b) -> a .& b,\n",
    "                (TIM.isapprox.(x, y, atol=1e-12) for (x, y) in testpairs))\n",
    "        end\n",
    "    ) |> skipmissing |> all\n",
    "end,\n",
    "length(Jωs)"
   ]
  },
  {
   "cell_type": "code",
   "execution_count": null,
   "metadata": {},
   "outputs": [],
   "source": [
    "using KernelDensity"
   ]
  },
  {
   "cell_type": "code",
   "execution_count": null,
   "metadata": {},
   "outputs": [],
   "source": [
    "coefficients = Iterators.filter(x -> !isempty(x), values(Jωs) .|> skipmissing) |> collect .|> x -> abs.(x) |> mean;\n",
    "histogram(coefficients, normalize=true,\n",
    "    xlabel=L\"Projection magnitude $\\abs{\\ip{\\hat{\\opr{P}}}{\\opr{J}}}$\",\n",
    "    ylabel=\"Density\",\n",
    "    title=title(tim),\n",
    "    legend=false);\n",
    "coefficient_kde = kde(coefficients)\n",
    "plot!(coefficient_kde.x, coefficient_kde.density)\n",
    "vline!([1 / 2^tim.N])"
   ]
  }
 ],
 "metadata": {
  "kernelspec": {
   "display_name": "Julia (8 threads) 1.5.3",
   "language": "julia",
   "name": "julia-(8-threads)-1.5"
  },
  "language_info": {
   "file_extension": ".jl",
   "mimetype": "application/julia",
   "name": "julia",
   "version": "1.5.3"
  },
  "latex_envs": {
   "LaTeX_envs_menu_present": true,
   "autoclose": false,
   "autocomplete": true,
   "bibliofile": "biblio.bib",
   "cite_by": "apalike",
   "current_citInitial": 1,
   "eqLabelWithNumbers": true,
   "eqNumInitial": 1,
   "hotkeys": {
    "equation": "Ctrl-E",
    "itemize": "Ctrl-I"
   },
   "labels_anchors": false,
   "latex_user_defs": false,
   "report_style_numbering": false,
   "user_envs_cfg": false
  },
  "notify_time": "30",
  "toc": {
   "base_numbering": 1,
   "nav_menu": {},
   "number_sections": true,
   "sideBar": true,
   "skip_h1_title": false,
   "title_cell": "Table of Contents",
   "title_sidebar": "Contents",
   "toc_cell": false,
   "toc_position": {
    "height": "calc(100% - 180px)",
    "left": "10px",
    "top": "150px",
    "width": "272px"
   },
   "toc_section_display": true,
   "toc_window_display": false
  }
 },
 "nbformat": 4,
 "nbformat_minor": 4
}
