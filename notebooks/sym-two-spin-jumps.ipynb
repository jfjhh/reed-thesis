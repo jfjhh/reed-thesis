{
 "cells": [
  {
   "cell_type": "code",
   "execution_count": 1,
   "metadata": {},
   "outputs": [],
   "source": [
    "using LaTeXStrings\n",
    "using LinearAlgebra, QuantumOptics, SymPy;"
   ]
  },
  {
   "cell_type": "code",
   "execution_count": 2,
   "metadata": {},
   "outputs": [],
   "source": [
    "include(\"TransverseIsingModels.jl\")\n",
    "using .TransverseIsingModels\n",
    "TIM = TransverseIsingModels;"
   ]
  },
  {
   "cell_type": "code",
   "execution_count": 3,
   "metadata": {},
   "outputs": [],
   "source": [
    "⊗ₖ = kron;"
   ]
  },
  {
   "cell_type": "code",
   "execution_count": 4,
   "metadata": {},
   "outputs": [],
   "source": [
    "const σ0 = [1 0; 0 1];\n",
    "const σx = [0 1; 1 0];\n",
    "const σy = [0 -im; im 0];\n",
    "const σz = [1 0; 0 -1];\n",
    "const σp = [0 1; 0 0];\n",
    "const σm = [0 0; 1 0];"
   ]
  },
  {
   "cell_type": "code",
   "execution_count": 5,
   "metadata": {},
   "outputs": [],
   "source": [
    "function symeigen(H)\n",
    "    symeig = H.eigenvects()\n",
    "    vals, vecs = eltype(H)[], []\n",
    "    for (λ, _, vs) in symeig\n",
    "        for v in vs\n",
    "            push!(vals, λ)\n",
    "            push!(vecs, vec(v))\n",
    "        end\n",
    "    end\n",
    "    vals, vecs\n",
    "end;"
   ]
  },
  {
   "cell_type": "code",
   "execution_count": 6,
   "metadata": {},
   "outputs": [],
   "source": [
    "function addentry!(dict, key, value; isequal=isequal)\n",
    "    for k in keys(dict)\n",
    "        if isequal(k, key)\n",
    "            push!(dict[k], value)\n",
    "            return dict\n",
    "        end\n",
    "    end\n",
    "    dict[key] = [value]\n",
    "    dict\n",
    "end;"
   ]
  },
  {
   "cell_type": "code",
   "execution_count": 7,
   "metadata": {},
   "outputs": [],
   "source": [
    "firstvalue(i, (x, y)) = x\n",
    "lastvalue(i, (x, y)) = y\n",
    "function dictby(A; isequal=isequal, keyof=firstvalue, valof=lastvalue)\n",
    "    i0, x0 = 1, first(A)\n",
    "    k0, v0 = keyof(i0, x0), valof(i0, x0)\n",
    "    dict = Dict(k0 => typeof(v0)[])\n",
    "    dict = Dict()\n",
    "    for (i, x) in enumerate(A)\n",
    "        k, v = keyof(i, x), valof(i, x)\n",
    "        addentry!(dict, k, v, isequal=isequal)\n",
    "    end\n",
    "    dict\n",
    "end;"
   ]
  },
  {
   "cell_type": "code",
   "execution_count": 8,
   "metadata": {},
   "outputs": [],
   "source": [
    "import QuantumOpticsBase.projector\n",
    "projector(ψ::Vector{Sym}) = ψ * ψ';"
   ]
  },
  {
   "cell_type": "code",
   "execution_count": 9,
   "metadata": {},
   "outputs": [],
   "source": [
    "function incentry!(dict, key; isequal=isequal)\n",
    "    for k in keys(dict)\n",
    "        if isequal(k, key)\n",
    "            dict[k] += 1\n",
    "            return dict\n",
    "        end\n",
    "    end\n",
    "    dict[key] = 1\n",
    "    dict\n",
    "end;"
   ]
  },
  {
   "cell_type": "code",
   "execution_count": 10,
   "metadata": {},
   "outputs": [],
   "source": [
    "function combinejumps(Js)\n",
    "    d = Dict()\n",
    "    for J in Js\n",
    "        incentry!(d, J)\n",
    "    end\n",
    "    [√(Sym(N))*J for (J, N) in d]\n",
    "end;"
   ]
  },
  {
   "cell_type": "code",
   "execution_count": 11,
   "metadata": {},
   "outputs": [],
   "source": [
    "function symbolicjumps(vals, vecs; combine=false)\n",
    "    eigendict = dictby(zip(vals, vecs))\n",
    "    ωs = dictby(((E2 - E1, (E1, E2)) for E1 in keys(eigendict) for E2 in keys(eigendict)))\n",
    "    As = [σx ⊗ₖ σ0,  σy ⊗ₖ σ0,  σz ⊗ₖ σ0, σ0 ⊗ₖ σx,  σ0 ⊗ₖ σy,  σ0 ⊗ₖ σz]\n",
    "    Πs = TIM.projectors(eigendict)\n",
    "    Jωs = dictmap(ΔEs -> filter(!iszero, [simplify.(sum(Πs[E1]*A*Πs[E2] for (E1, E2) in ΔEs)) for A in As]), ωs)\n",
    "    combine ? dictmap(combinejumps, Jωs) : Jωs\n",
    "end;"
   ]
  },
  {
   "cell_type": "code",
   "execution_count": 12,
   "metadata": {},
   "outputs": [],
   "source": [
    "@vars s1p=>\"σ₁⁺\" s1m=>\"σ₁⁻\" commutative=false\n",
    "@vars s2p=>\"σ₂⁺\" s2m=>\"σ₂⁻\" commutative=false\n",
    "@vars s1x=>\"σ₁ˣ\" s2x=>\"σ₂ˣ\" commutative=false\n",
    "@vars s1y=>\"σ₁ʸ\" s2y=>\"σ₂ʸ\" commutative=false\n",
    "@vars s1z=>\"σ₁ᶻ\" s2z=>\"σ₂ᶻ\" commutative=false\n",
    "@vars n1 =>\"n₁\"   n2=>\"n₂\"  commutative=false\n",
    "@vars g d real=true;"
   ]
  },
  {
   "cell_type": "code",
   "execution_count": 13,
   "metadata": {},
   "outputs": [],
   "source": [
    "spinops = [s1p, s1m, s2p, s2m, s1x, s2x, s1y, s2y, s1z, s2z, n1, n2];\n",
    "_symspinop = cat([n1 s1p; s1m (1 - n1)], [n2 s2p; s2m (1 - n2)], dims=3)\n",
    "_dummy_spinop = Dict(s => sympy.Dummy(s.name) for s in spinops);\n",
    "site_collect_ops(siteops) = push!([_dummy_spinop[op] for op in siteops], 1)\n",
    "_collect_ops = [a * b for a in site_collect_ops([s1p, s1m, n1]) for b in site_collect_ops([s2p, s2m, n2])];"
   ]
  },
  {
   "cell_type": "code",
   "execution_count": 14,
   "metadata": {},
   "outputs": [],
   "source": [
    "u, v, w = Wild(:u), Wild(:v), Wild(:w);"
   ]
  },
  {
   "cell_type": "code",
   "execution_count": 27,
   "metadata": {},
   "outputs": [],
   "source": [
    "symspinop(l, r, i) = _symspinop[l+1, r+1, i];\n",
    "function jumpsimplify(J)\n",
    "    s = mapreduce(+, CartesianIndices(J)[J .!= 0]) do I\n",
    "        x = J[I]\n",
    "        i, j = Tuple(I - CartesianIndex(1, 1))\n",
    "        x * symspinop(i÷2, j÷2, 1) * symspinop(i%2, j%2, 2)\n",
    "    end\n",
    "    s = subs(expand(s), √(g^2 + 1) => d)\n",
    "    s = s.simplify()\n",
    "    s = s.xreplace(_dummy_spinop)\n",
    "    for op in _collect_ops\n",
    "        s = s.collect(op)\n",
    "    end\n",
    "#     s = s.replace(w*_dummy_spinop[s1p] + w*_dummy_spinop[s1m], w*_dummy_spinop[s1x]\n",
    "#         ).replace(w*_dummy_spinop[s2p] + w*_dummy_spinop[s2m], w*_dummy_spinop[s2x]\n",
    "#         ).replace(w*_dummy_spinop[s1p] - w*_dummy_spinop[s1m], im*w*_dummy_spinop[s1y]\n",
    "#         ).replace(w*_dummy_spinop[s2p] - w*_dummy_spinop[s2m], im*w*_dummy_spinop[s2y]\n",
    "#     )\n",
    "    s.simplify()\n",
    "end;"
   ]
  },
  {
   "cell_type": "code",
   "execution_count": 29,
   "metadata": {},
   "outputs": [],
   "source": [
    "=>ₛ(a, b) = _dummy_spinop[a] => b\n",
    "thesis_latex(J) = sympy.latex(J,\n",
    "        imaginary_unit = \"\\\\im\",\n",
    "        symbol_names = Dict(\n",
    "            g   =>  \"g\",\n",
    "            d   =>  \"d\",\n",
    "            n1  =>ₛ \"\\\\opr{n}_1\",\n",
    "            n2  =>ₛ \"\\\\opr{n}_2\",\n",
    "            s1p =>ₛ \"\\\\pauli_1^+\",\n",
    "            s2p =>ₛ \"\\\\pauli_2^+\",\n",
    "            s1m =>ₛ \"\\\\pauli_1^-\",\n",
    "            s2m =>ₛ \"\\\\pauli_2^-\",\n",
    "        ));"
   ]
  },
  {
   "cell_type": "code",
   "execution_count": 30,
   "metadata": {},
   "outputs": [],
   "source": [
    "function save_jump_latex(path, sJωs)\n",
    "    open(path, \"w\") do file\n",
    "        for (ω, Js) in sJωs\n",
    "            sω = factor(subs(expand(ω), √(g^2 + 1) => d))\n",
    "            println(file, thesis_latex(sω))\n",
    "            println(file, \" \\\\\\\\\")\n",
    "            for J in Js\n",
    "                println(file, thesis_latex(J))\n",
    "                println(file, \" \\\\\\\\\")\n",
    "            end\n",
    "            println(file, \" \\\\\\\\\")\n",
    "        end\n",
    "    end\n",
    "end;"
   ]
  },
  {
   "cell_type": "markdown",
   "metadata": {},
   "source": [
    "## Nondegenerate jump operators"
   ]
  },
  {
   "cell_type": "code",
   "execution_count": 31,
   "metadata": {},
   "outputs": [
    {
     "data": {
      "text/latex": [
       "$\\left[ \\begin{array}{rrrr}- 2 g&0&0&-2\\\\0&0&-2&0\\\\0&-2&0&0\\\\-2&0&0&2 g\\end{array}\\right]$\n"
      ],
      "text/plain": [
       "4×4 Array{Sym,2}:\n",
       " -2⋅g   0   0   -2\n",
       "    0   0  -2    0\n",
       "    0  -2   0    0\n",
       "   -2   0   0  2⋅g"
      ]
     },
     "execution_count": 31,
     "metadata": {},
     "output_type": "execute_result"
    }
   ],
   "source": [
    "H = -2*(σx ⊗ₖ σx) - g*(σz ⊗ₖ σ0 + σ0 ⊗ₖ σz)"
   ]
  },
  {
   "cell_type": "code",
   "execution_count": 35,
   "metadata": {},
   "outputs": [],
   "source": [
    "sJωs = dictmap(Js -> jumpsimplify.(Js), symbolicjumps(symeigen(H)...; combine=true))\n",
    "save_jump_latex(\"nondegen-jumps.tex\", sJωs)"
   ]
  },
  {
   "cell_type": "markdown",
   "metadata": {},
   "source": [
    "## Degenerate jump operators"
   ]
  },
  {
   "cell_type": "code",
   "execution_count": 36,
   "metadata": {},
   "outputs": [
    {
     "data": {
      "text/latex": [
       "$\\left[ \\begin{array}{rrrr}0&0&0&-2\\\\0&0&-2&0\\\\0&-2&0&0\\\\-2&0&0&0\\end{array}\\right]$\n"
      ],
      "text/plain": [
       "4×4 Array{Sym,2}:\n",
       "  0   0   0  -2\n",
       "  0   0  -2   0\n",
       "  0  -2   0   0\n",
       " -2   0   0   0"
      ]
     },
     "execution_count": 36,
     "metadata": {},
     "output_type": "execute_result"
    }
   ],
   "source": [
    "H0 = subs.(-2*(σx ⊗ₖ σx) - g*(σz ⊗ₖ σ0 + σ0 ⊗ₖ σz), g => 0)"
   ]
  },
  {
   "cell_type": "code",
   "execution_count": 37,
   "metadata": {},
   "outputs": [],
   "source": [
    "sJωs0 = dictmap(Js -> jumpsimplify.(Js), symbolicjumps(symeigen(H0)...; combine=true))\n",
    "save_jump_latex(\"degen-jumps.tex\", sJωs0)"
   ]
  }
 ],
 "metadata": {
  "@webio": {
   "lastCommId": null,
   "lastKernelId": null
  },
  "jupytext": {
   "cell_metadata_filter": "-all",
   "main_language": "julia",
   "notebook_metadata_filter": "-all"
  },
  "kernelspec": {
   "display_name": "Julia 1.5.3",
   "language": "julia",
   "name": "julia-1.5"
  },
  "language_info": {
   "file_extension": ".jl",
   "mimetype": "application/julia",
   "name": "julia",
   "version": "1.5.3"
  },
  "latex_envs": {
   "LaTeX_envs_menu_present": true,
   "autoclose": false,
   "autocomplete": true,
   "bibliofile": "biblio.bib",
   "cite_by": "apalike",
   "current_citInitial": 1,
   "eqLabelWithNumbers": true,
   "eqNumInitial": 1,
   "hotkeys": {
    "equation": "Ctrl-E",
    "itemize": "Ctrl-I"
   },
   "labels_anchors": false,
   "latex_user_defs": false,
   "report_style_numbering": false,
   "user_envs_cfg": false
  }
 },
 "nbformat": 4,
 "nbformat_minor": 4
}
